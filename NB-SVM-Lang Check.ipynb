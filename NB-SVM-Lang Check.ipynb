{
 "cells": [
  {
   "cell_type": "code",
   "execution_count": 1,
   "metadata": {},
   "outputs": [],
   "source": [
    "import numpy as np\n",
    "import pandas as pd\n",
    "import matplotlib.pyplot as plt\n",
    "import seaborn as sns\n",
    "import time\n",
    "import nltk\n",
    "from nltk.stem.porter import PorterStemmer\n",
    "from sklearn.feature_extraction.text import CountVectorizer, TfidfVectorizer\n",
    "from sklearn.metrics import accuracy_score, f1_score, precision_score, recall_score, classification_report, confusion_matrix\n",
    "\n",
    "%matplotlib inline"
   ]
  },
  {
   "cell_type": "code",
   "execution_count": 2,
   "metadata": {},
   "outputs": [],
   "source": [
    "#nltk.download('punkt')"
   ]
  },
  {
   "cell_type": "code",
   "execution_count": 3,
   "metadata": {},
   "outputs": [
    {
     "data": {
      "text/html": [
       "<div>\n",
       "<style scoped>\n",
       "    .dataframe tbody tr th:only-of-type {\n",
       "        vertical-align: middle;\n",
       "    }\n",
       "\n",
       "    .dataframe tbody tr th {\n",
       "        vertical-align: top;\n",
       "    }\n",
       "\n",
       "    .dataframe thead th {\n",
       "        text-align: right;\n",
       "    }\n",
       "</style>\n",
       "<table border=\"1\" class=\"dataframe\">\n",
       "  <thead>\n",
       "    <tr style=\"text-align: right;\">\n",
       "      <th></th>\n",
       "      <th>date</th>\n",
       "      <th>name</th>\n",
       "      <th>currency</th>\n",
       "      <th>language</th>\n",
       "      <th>name2</th>\n",
       "      <th>name3</th>\n",
       "      <th>ageGroup</th>\n",
       "      <th>articleId</th>\n",
       "      <th>colors</th>\n",
       "      <th>colorGroup</th>\n",
       "      <th>...</th>\n",
       "      <th>name4</th>\n",
       "      <th>ped</th>\n",
       "      <th>pid</th>\n",
       "      <th>sportsCategory</th>\n",
       "      <th>subBrand</th>\n",
       "      <th>technologies</th>\n",
       "      <th>tname</th>\n",
       "      <th>type</th>\n",
       "      <th>url</th>\n",
       "      <th>shippings</th>\n",
       "    </tr>\n",
       "  </thead>\n",
       "  <tbody>\n",
       "    <tr>\n",
       "      <th>0</th>\n",
       "      <td>09/10/2018</td>\n",
       "      <td>adidas</td>\n",
       "      <td>CNY</td>\n",
       "      <td>zh-CN</td>\n",
       "      <td>CHN</td>\n",
       "      <td>own eCom</td>\n",
       "      <td>adults</td>\n",
       "      <td>019228</td>\n",
       "      <td>黑色/亮白/红</td>\n",
       "      <td>黑色</td>\n",
       "      <td>...</td>\n",
       "      <td>MUNDIAL TEAM 经典足球鞋 - 黑色/亮白/红</td>\n",
       "      <td>NaN</td>\n",
       "      <td>01/21/2015</td>\n",
       "      <td>足球</td>\n",
       "      <td>Performance</td>\n",
       "      <td>TRAXION|EVA</td>\n",
       "      <td>MUNDIAL TEAM Classic soccer shoes - black / br...</td>\n",
       "      <td>NaN</td>\n",
       "      <td>https://www.adidas.com.cn/item/019228?locale=z...</td>\n",
       "      <td>NaN</td>\n",
       "    </tr>\n",
       "    <tr>\n",
       "      <th>1</th>\n",
       "      <td>09/10/2018</td>\n",
       "      <td>adidas</td>\n",
       "      <td>CNY</td>\n",
       "      <td>zh-CN</td>\n",
       "      <td>CHN</td>\n",
       "      <td>own eCom</td>\n",
       "      <td>adults</td>\n",
       "      <td>280647</td>\n",
       "      <td>1号黑色/亮白</td>\n",
       "      <td>黑色</td>\n",
       "      <td>...</td>\n",
       "      <td>ADILETTE 拖鞋 - 1号黑色/亮白</td>\n",
       "      <td>NaN</td>\n",
       "      <td>05/02/2017</td>\n",
       "      <td>训练</td>\n",
       "      <td>Sport inspired</td>\n",
       "      <td>NaN</td>\n",
       "      <td>ADILETTE Slippers - No. 1 Black / Bright White</td>\n",
       "      <td>NaN</td>\n",
       "      <td>https://www.adidas.com.cn/item/280647?locale=z...</td>\n",
       "      <td>NaN</td>\n",
       "    </tr>\n",
       "    <tr>\n",
       "      <th>2</th>\n",
       "      <td>09/10/2018</td>\n",
       "      <td>adidas</td>\n",
       "      <td>CNY</td>\n",
       "      <td>zh-CN</td>\n",
       "      <td>CHN</td>\n",
       "      <td>own eCom</td>\n",
       "      <td>adults</td>\n",
       "      <td>288022</td>\n",
       "      <td>蓝/白</td>\n",
       "      <td>蓝色</td>\n",
       "      <td>...</td>\n",
       "      <td>ADILETTE 拖鞋 - 蓝/白</td>\n",
       "      <td>NaN</td>\n",
       "      <td>05/02/2017</td>\n",
       "      <td>NaN</td>\n",
       "      <td>Sport inspired</td>\n",
       "      <td>NaN</td>\n",
       "      <td>ADILETTE Slippers - Blue/White</td>\n",
       "      <td>NaN</td>\n",
       "      <td>https://www.adidas.com.cn/item/288022?locale=z...</td>\n",
       "      <td>NaN</td>\n",
       "    </tr>\n",
       "    <tr>\n",
       "      <th>3</th>\n",
       "      <td>09/10/2018</td>\n",
       "      <td>adidas</td>\n",
       "      <td>CNY</td>\n",
       "      <td>zh-CN</td>\n",
       "      <td>CHN</td>\n",
       "      <td>own eCom</td>\n",
       "      <td>adults</td>\n",
       "      <td>802310</td>\n",
       "      <td>黑/白</td>\n",
       "      <td>黑色</td>\n",
       "      <td>...</td>\n",
       "      <td>泳帽 - 黑/白</td>\n",
       "      <td>NaN</td>\n",
       "      <td>07/20/2017</td>\n",
       "      <td>游泳</td>\n",
       "      <td>Performance</td>\n",
       "      <td>NaN</td>\n",
       "      <td>Swimming cap - black / white</td>\n",
       "      <td>NaN</td>\n",
       "      <td>https://www.adidas.com.cn/item/802310?locale=z...</td>\n",
       "      <td>NaN</td>\n",
       "    </tr>\n",
       "    <tr>\n",
       "      <th>4</th>\n",
       "      <td>09/10/2018</td>\n",
       "      <td>adidas</td>\n",
       "      <td>CNY</td>\n",
       "      <td>zh-CN</td>\n",
       "      <td>CHN</td>\n",
       "      <td>own eCom</td>\n",
       "      <td>adults</td>\n",
       "      <td>AA2285</td>\n",
       "      <td>白/白/黑</td>\n",
       "      <td>白色</td>\n",
       "      <td>...</td>\n",
       "      <td>短袜 - 白/白/黑</td>\n",
       "      <td>NaN</td>\n",
       "      <td>12/14/2015</td>\n",
       "      <td>训练</td>\n",
       "      <td>Performance</td>\n",
       "      <td>NaN</td>\n",
       "      <td>Socks - White / White / Black</td>\n",
       "      <td>NaN</td>\n",
       "      <td>https://www.adidas.com.cn/item/AA2285?locale=z...</td>\n",
       "      <td>NaN</td>\n",
       "    </tr>\n",
       "  </tbody>\n",
       "</table>\n",
       "<p>5 rows × 30 columns</p>\n",
       "</div>"
      ],
      "text/plain": [
       "         date    name currency language name2     name3 ageGroup articleId  \\\n",
       "0  09/10/2018  adidas      CNY    zh-CN   CHN  own eCom   adults    019228   \n",
       "1  09/10/2018  adidas      CNY    zh-CN   CHN  own eCom   adults    280647   \n",
       "2  09/10/2018  adidas      CNY    zh-CN   CHN  own eCom   adults    288022   \n",
       "3  09/10/2018  adidas      CNY    zh-CN   CHN  own eCom   adults    802310   \n",
       "4  09/10/2018  adidas      CNY    zh-CN   CHN  own eCom   adults    AA2285   \n",
       "\n",
       "    colors colorGroup    ...                            name4  ped  \\\n",
       "0  黑色/亮白/红         黑色    ...     MUNDIAL TEAM 经典足球鞋 - 黑色/亮白/红  NaN   \n",
       "1  1号黑色/亮白         黑色    ...            ADILETTE 拖鞋 - 1号黑色/亮白  NaN   \n",
       "2      蓝/白         蓝色    ...                ADILETTE 拖鞋 - 蓝/白  NaN   \n",
       "3      黑/白         黑色    ...                         泳帽 - 黑/白  NaN   \n",
       "4    白/白/黑         白色    ...                       短袜 - 白/白/黑  NaN   \n",
       "\n",
       "          pid sportsCategory        subBrand technologies  \\\n",
       "0  01/21/2015             足球     Performance  TRAXION|EVA   \n",
       "1  05/02/2017             训练  Sport inspired          NaN   \n",
       "2  05/02/2017            NaN  Sport inspired          NaN   \n",
       "3  07/20/2017             游泳     Performance          NaN   \n",
       "4  12/14/2015             训练     Performance          NaN   \n",
       "\n",
       "                                               tname type  \\\n",
       "0  MUNDIAL TEAM Classic soccer shoes - black / br...  NaN   \n",
       "1     ADILETTE Slippers - No. 1 Black / Bright White  NaN   \n",
       "2                     ADILETTE Slippers - Blue/White  NaN   \n",
       "3                       Swimming cap - black / white  NaN   \n",
       "4                      Socks - White / White / Black  NaN   \n",
       "\n",
       "                                                 url shippings  \n",
       "0  https://www.adidas.com.cn/item/019228?locale=z...       NaN  \n",
       "1  https://www.adidas.com.cn/item/280647?locale=z...       NaN  \n",
       "2  https://www.adidas.com.cn/item/288022?locale=z...       NaN  \n",
       "3  https://www.adidas.com.cn/item/802310?locale=z...       NaN  \n",
       "4  https://www.adidas.com.cn/item/AA2285?locale=z...       NaN  \n",
       "\n",
       "[5 rows x 30 columns]"
      ]
     },
     "execution_count": 3,
     "metadata": {},
     "output_type": "execute_result"
    }
   ],
   "source": [
    "# data_1 = pd.read_csv(\"Adidas GPMT/GPMT Project/15th Oct 35 CSV.csv\", encoding='latin-1')\n",
    "# data_2 = pd.read_csv(\"Adidas GPMT/GPMT Project/15th Oct 37 CSV.csv\", encoding='latin-1')\n",
    "# data_3 = pd.read_csv(\"Adidas GPMT/GPMT Project/15th Oct 38 CSV.csv\", encoding='latin-1')\n",
    "# data_4 = pd.read_csv(\"Adidas GPMT/GPMT Project/15th Oct 39 CSV.csv\", encoding='latin-1')\n",
    "# data = data_1.append(data_2, ignore_index=True)\n",
    "# data = data.append(data_3, ignore_index=True)\n",
    "data = pd.read_csv(\"D:/GPMT/Language Check/CHN_own.csv\", encoding='utf-8')\n",
    "data.head()"
   ]
  },
  {
   "cell_type": "code",
   "execution_count": 4,
   "metadata": {},
   "outputs": [
    {
     "data": {
      "text/plain": [
       "date                    0\n",
       "name                    0\n",
       "currency                0\n",
       "language                0\n",
       "name2                   0\n",
       "name3                   0\n",
       "ageGroup             6025\n",
       "articleId               0\n",
       "colors               3573\n",
       "colorGroup          33104\n",
       "consumerRating          0\n",
       "currentPrice            0\n",
       "description         22320\n",
       "discountedSince     59627\n",
       "division                0\n",
       "gender               6830\n",
       "group               32949\n",
       "imageUrl                1\n",
       "initialPrice            0\n",
       "modelNumber             0\n",
       "name4                   0\n",
       "ped                104902\n",
       "pid                     0\n",
       "sportsCategory      23966\n",
       "subBrand            50545\n",
       "technologies        89844\n",
       "tname                7950\n",
       "type                75610\n",
       "url                     0\n",
       "shippings          114327\n",
       "dtype: int64"
      ]
     },
     "execution_count": 4,
     "metadata": {},
     "output_type": "execute_result"
    }
   ],
   "source": [
    "data.isnull().sum()"
   ]
  },
  {
   "cell_type": "code",
   "execution_count": 5,
   "metadata": {},
   "outputs": [
    {
     "data": {
      "text/plain": [
       "array(['zh-CN', 'en-US'], dtype=object)"
      ]
     },
     "execution_count": 5,
     "metadata": {},
     "output_type": "execute_result"
    }
   ],
   "source": [
    "data.language.unique()"
   ]
  },
  {
   "cell_type": "code",
   "execution_count": 6,
   "metadata": {
    "scrolled": true
   },
   "outputs": [
    {
     "data": {
      "text/plain": [
       "array(['Performance', 'Sport inspired', nan, 'adidas by Stella McCartney',\n",
       "       'adidas neo', 'ADIDAS ATHLETICS', '运动型格', 'SMC', 'Sportswear',\n",
       "       'Jordan'], dtype=object)"
      ]
     },
     "execution_count": 6,
     "metadata": {},
     "output_type": "execute_result"
    }
   ],
   "source": [
    "data.subBrand.unique()"
   ]
  },
  {
   "cell_type": "code",
   "execution_count": 7,
   "metadata": {},
   "outputs": [],
   "source": [
    "# Filtering US and UK\n",
    "#data = data.loc[data[\"language\"].isin(['it-IT'])]"
   ]
  },
  {
   "cell_type": "code",
   "execution_count": 8,
   "metadata": {},
   "outputs": [],
   "source": [
    "#data.group.unique()"
   ]
  },
  {
   "cell_type": "code",
   "execution_count": 9,
   "metadata": {},
   "outputs": [],
   "source": [
    "data_req = data.loc[:,[\"name\", \"description\", \"division\",\"sportsCategory\", \"subBrand\", \"group\", \"name2\", \"name3\", \"name4\", \"url\"]]"
   ]
  },
  {
   "cell_type": "code",
   "execution_count": 10,
   "metadata": {},
   "outputs": [],
   "source": [
    "data_req = data_req.drop_duplicates()"
   ]
  },
  {
   "cell_type": "code",
   "execution_count": 11,
   "metadata": {},
   "outputs": [
    {
     "data": {
      "text/plain": [
       "32625"
      ]
     },
     "execution_count": 11,
     "metadata": {},
     "output_type": "execute_result"
    }
   ],
   "source": [
    "len(data_req)"
   ]
  },
  {
   "cell_type": "code",
   "execution_count": 12,
   "metadata": {},
   "outputs": [],
   "source": [
    "data_req_x = data_req.loc[:,[\"name\", \"description\", \"division\", \"group\", \"name2\", \"name3\", \"name4\", \"subBrand\", \"url\"]]\n",
    "data_req_y = data_req.loc[:, [\"sportsCategory\"]]"
   ]
  },
  {
   "cell_type": "code",
   "execution_count": 13,
   "metadata": {},
   "outputs": [],
   "source": [
    "data_req_x = data_req_x.fillna(\"unknown\")\n",
    "data_req = pd.concat([data_req_x, data_req_y], axis=1)"
   ]
  },
  {
   "cell_type": "code",
   "execution_count": 14,
   "metadata": {},
   "outputs": [
    {
     "data": {
      "text/plain": [
       "32625"
      ]
     },
     "execution_count": 14,
     "metadata": {},
     "output_type": "execute_result"
    }
   ],
   "source": [
    "len(data_req)"
   ]
  },
  {
   "cell_type": "code",
   "execution_count": 15,
   "metadata": {},
   "outputs": [],
   "source": [
    "data_req = data_req.dropna()"
   ]
  },
  {
   "cell_type": "code",
   "execution_count": 16,
   "metadata": {},
   "outputs": [],
   "source": [
    "data_req = data_req.drop_duplicates()"
   ]
  },
  {
   "cell_type": "code",
   "execution_count": 17,
   "metadata": {},
   "outputs": [],
   "source": [
    "data_req[\"description\"]  = data_req[\"name\"] +\" \" + data_req[\"description\"] +\" \" + data_req[\"division\"] +\" \" + data_req[\"group\"] +\" \" + data_req[\"name2\"]+\" \" + data_req[\"name3\"]+\" \" + data_req[\"name4\"]+\" \" + data_req[\"subBrand\"]+\" \" + data_req[\"url\"]"
   ]
  },
  {
   "cell_type": "code",
   "execution_count": 18,
   "metadata": {},
   "outputs": [],
   "source": [
    "data_req = data_req.drop([\"name\", \"division\", \"group\", \"name2\", \"name3\", \"name4\", \"subBrand\",\"url\"], axis = 1)"
   ]
  },
  {
   "cell_type": "code",
   "execution_count": 19,
   "metadata": {},
   "outputs": [],
   "source": [
    "data_req.columns = [\"description\", \"subBrand\"]"
   ]
  },
  {
   "cell_type": "code",
   "execution_count": 20,
   "metadata": {},
   "outputs": [
    {
     "data": {
      "text/plain": [
       "array(['足球', '训练', '游泳', 'Lifestyle', 'Training', '篮球', '跑步', '户外', '网球',\n",
       "       'Running', '高尔夫', '运动型格', 'Football', '骑行', '羽毛球', 'yoga', '休闲',\n",
       "       '健身/训练', '滑板', 'Skate', 'Casual', 'Basketball', '田径', '瑜珈',\n",
       "       'Soccer', '动感单车', '运动休闲Sportstyle', '足球Teamsport', '基础Fundamental',\n",
       "       '赛车Motorsport', 'Driving', '登山', '瑜伽', '徒步', '冲浪', '棒球', '其他',\n",
       "       'training', 'run', 'to + from', 'swim', '足球系列', '篮球系列', '户外系列',\n",
       "       '生活系列', '跑步系列', '综训系列', '网球系列', '时尚系列', '乒乓球', '韦德', '运动时尚',\n",
       "       '棒球/垒球', '美式橄榄球', 'AKOS', '排球'], dtype=object)"
      ]
     },
     "execution_count": 20,
     "metadata": {},
     "output_type": "execute_result"
    }
   ],
   "source": [
    "data_req.subBrand.unique()"
   ]
  },
  {
   "cell_type": "code",
   "execution_count": 21,
   "metadata": {},
   "outputs": [
    {
     "data": {
      "text/plain": [
       "24443"
      ]
     },
     "execution_count": 21,
     "metadata": {},
     "output_type": "execute_result"
    }
   ],
   "source": [
    "len(data_req)"
   ]
  },
  {
   "cell_type": "code",
   "execution_count": 22,
   "metadata": {},
   "outputs": [],
   "source": [
    "data_req = data_req.drop_duplicates()"
   ]
  },
  {
   "cell_type": "code",
   "execution_count": 23,
   "metadata": {},
   "outputs": [],
   "source": [
    "data_req.subBrand = data_req.subBrand.str.lower()\n",
    "data_req.description = data_req.description.str.lower()"
   ]
  },
  {
   "cell_type": "code",
   "execution_count": 24,
   "metadata": {},
   "outputs": [
    {
     "data": {
      "text/plain": [
       "array(['足球', '训练', '游泳', 'lifestyle', 'training', '篮球', '跑步', '户外', '网球',\n",
       "       'running', '高尔夫', '运动型格', 'football', '骑行', '羽毛球', 'yoga', '休闲',\n",
       "       '健身/训练', '滑板', 'skate', 'casual', 'basketball', '田径', '瑜珈',\n",
       "       'soccer', '动感单车', '运动休闲sportstyle', '足球teamsport', '基础fundamental',\n",
       "       '赛车motorsport', 'driving', '登山', '瑜伽', '徒步', '冲浪', '棒球', '其他',\n",
       "       'run', 'to + from', 'swim', '足球系列', '篮球系列', '户外系列', '生活系列', '跑步系列',\n",
       "       '综训系列', '网球系列', '时尚系列', '乒乓球', '韦德', '运动时尚', '棒球/垒球', '美式橄榄球',\n",
       "       'akos', '排球'], dtype=object)"
      ]
     },
     "execution_count": 24,
     "metadata": {},
     "output_type": "execute_result"
    }
   ],
   "source": [
    "data_req.subBrand.unique()"
   ]
  },
  {
   "cell_type": "code",
   "execution_count": 25,
   "metadata": {},
   "outputs": [
    {
     "data": {
      "text/plain": [
       "(358.2009573292967, 278.80183818283126, 1915)"
      ]
     },
     "execution_count": 25,
     "metadata": {},
     "output_type": "execute_result"
    }
   ],
   "source": [
    "lens = data_req.description.str.len()\n",
    "lens.mean(), lens.std(), lens.max()"
   ]
  },
  {
   "cell_type": "code",
   "execution_count": 26,
   "metadata": {},
   "outputs": [
    {
     "data": {
      "image/png": "[encoded data removed]",
      "text/plain": [
       "<Figure size 432x288 with 1 Axes>"
      ]
     },
     "metadata": {},
     "output_type": "display_data"
    }
   ],
   "source": [
    "lens.hist();"
   ]
  },
  {
   "cell_type": "code",
   "execution_count": 27,
   "metadata": {},
   "outputs": [],
   "source": [
    "data_req = data_req.dropna()"
   ]
  },
  {
   "cell_type": "code",
   "execution_count": 28,
   "metadata": {},
   "outputs": [
    {
     "data": {
      "text/plain": [
       "24443"
      ]
     },
     "execution_count": 28,
     "metadata": {},
     "output_type": "execute_result"
    }
   ],
   "source": [
    "len(data_req)"
   ]
  },
  {
   "cell_type": "code",
   "execution_count": 29,
   "metadata": {},
   "outputs": [],
   "source": [
    "one_hot = pd.get_dummies(data_req.subBrand)"
   ]
  },
  {
   "cell_type": "code",
   "execution_count": 30,
   "metadata": {},
   "outputs": [],
   "source": [
    "label_cols = data_req.subBrand.dropna().unique()"
   ]
  },
  {
   "cell_type": "code",
   "execution_count": 31,
   "metadata": {},
   "outputs": [
    {
     "data": {
      "text/plain": [
       "array(['足球', '训练', '游泳', 'lifestyle', 'training', '篮球', '跑步', '户外', '网球',\n",
       "       'running', '高尔夫', '运动型格', 'football', '骑行', '羽毛球', 'yoga', '休闲',\n",
       "       '健身/训练', '滑板', 'skate', 'casual', 'basketball', '田径', '瑜珈',\n",
       "       'soccer', '动感单车', '运动休闲sportstyle', '足球teamsport', '基础fundamental',\n",
       "       '赛车motorsport', 'driving', '登山', '瑜伽', '徒步', '冲浪', '棒球', '其他',\n",
       "       'run', 'to + from', 'swim', '足球系列', '篮球系列', '户外系列', '生活系列', '跑步系列',\n",
       "       '综训系列', '网球系列', '时尚系列', '乒乓球', '韦德', '运动时尚', '棒球/垒球', '美式橄榄球',\n",
       "       'akos', '排球'], dtype=object)"
      ]
     },
     "execution_count": 31,
     "metadata": {},
     "output_type": "execute_result"
    }
   ],
   "source": [
    "label_cols"
   ]
  },
  {
   "cell_type": "code",
   "execution_count": 32,
   "metadata": {},
   "outputs": [],
   "source": [
    "minCount = 10\n",
    "subBrand_minCount = pd.DataFrame((data_req.subBrand.value_counts() > minCount).reset_index())"
   ]
  },
  {
   "cell_type": "code",
   "execution_count": 33,
   "metadata": {},
   "outputs": [],
   "source": [
    "subBrand_drop = subBrand_minCount.loc[subBrand_minCount[\"subBrand\"] == False]"
   ]
  },
  {
   "cell_type": "code",
   "execution_count": 34,
   "metadata": {},
   "outputs": [
    {
     "data": {
      "text/html": [
       "<div>\n",
       "<style scoped>\n",
       "    .dataframe tbody tr th:only-of-type {\n",
       "        vertical-align: middle;\n",
       "    }\n",
       "\n",
       "    .dataframe tbody tr th {\n",
       "        vertical-align: top;\n",
       "    }\n",
       "\n",
       "    .dataframe thead th {\n",
       "        text-align: right;\n",
       "    }\n",
       "</style>\n",
       "<table border=\"1\" class=\"dataframe\">\n",
       "  <thead>\n",
       "    <tr style=\"text-align: right;\">\n",
       "      <th></th>\n",
       "      <th>index</th>\n",
       "      <th>subBrand</th>\n",
       "    </tr>\n",
       "  </thead>\n",
       "  <tbody>\n",
       "    <tr>\n",
       "      <th>41</th>\n",
       "      <td>swim</td>\n",
       "      <td>False</td>\n",
       "    </tr>\n",
       "    <tr>\n",
       "      <th>42</th>\n",
       "      <td>其他</td>\n",
       "      <td>False</td>\n",
       "    </tr>\n",
       "    <tr>\n",
       "      <th>43</th>\n",
       "      <td>driving</td>\n",
       "      <td>False</td>\n",
       "    </tr>\n",
       "    <tr>\n",
       "      <th>44</th>\n",
       "      <td>soccer</td>\n",
       "      <td>False</td>\n",
       "    </tr>\n",
       "    <tr>\n",
       "      <th>45</th>\n",
       "      <td>棒球/垒球</td>\n",
       "      <td>False</td>\n",
       "    </tr>\n",
       "    <tr>\n",
       "      <th>46</th>\n",
       "      <td>网球系列</td>\n",
       "      <td>False</td>\n",
       "    </tr>\n",
       "    <tr>\n",
       "      <th>47</th>\n",
       "      <td>动感单车</td>\n",
       "      <td>False</td>\n",
       "    </tr>\n",
       "    <tr>\n",
       "      <th>48</th>\n",
       "      <td>骑行</td>\n",
       "      <td>False</td>\n",
       "    </tr>\n",
       "    <tr>\n",
       "      <th>49</th>\n",
       "      <td>排球</td>\n",
       "      <td>False</td>\n",
       "    </tr>\n",
       "    <tr>\n",
       "      <th>50</th>\n",
       "      <td>冲浪</td>\n",
       "      <td>False</td>\n",
       "    </tr>\n",
       "    <tr>\n",
       "      <th>51</th>\n",
       "      <td>棒球</td>\n",
       "      <td>False</td>\n",
       "    </tr>\n",
       "    <tr>\n",
       "      <th>52</th>\n",
       "      <td>美式橄榄球</td>\n",
       "      <td>False</td>\n",
       "    </tr>\n",
       "    <tr>\n",
       "      <th>53</th>\n",
       "      <td>casual</td>\n",
       "      <td>False</td>\n",
       "    </tr>\n",
       "    <tr>\n",
       "      <th>54</th>\n",
       "      <td>乒乓球</td>\n",
       "      <td>False</td>\n",
       "    </tr>\n",
       "  </tbody>\n",
       "</table>\n",
       "</div>"
      ],
      "text/plain": [
       "      index  subBrand\n",
       "41     swim     False\n",
       "42       其他     False\n",
       "43  driving     False\n",
       "44   soccer     False\n",
       "45    棒球/垒球     False\n",
       "46     网球系列     False\n",
       "47     动感单车     False\n",
       "48       骑行     False\n",
       "49       排球     False\n",
       "50       冲浪     False\n",
       "51       棒球     False\n",
       "52    美式橄榄球     False\n",
       "53   casual     False\n",
       "54      乒乓球     False"
      ]
     },
     "execution_count": 34,
     "metadata": {},
     "output_type": "execute_result"
    }
   ],
   "source": [
    "subBrand_drop"
   ]
  },
  {
   "cell_type": "code",
   "execution_count": 35,
   "metadata": {},
   "outputs": [],
   "source": [
    "label_cols = np.setdiff1d(label_cols, subBrand_drop[\"index\"])"
   ]
  },
  {
   "cell_type": "code",
   "execution_count": 36,
   "metadata": {},
   "outputs": [],
   "source": [
    "data_req = pd.concat([data_req, one_hot], axis=1)"
   ]
  },
  {
   "cell_type": "code",
   "execution_count": 37,
   "metadata": {},
   "outputs": [],
   "source": [
    "import re, string\n",
    "re_tok = re.compile(f'([{string.punctuation}“”¨«»®´·º½¾¿¡§£₤‘’])')\n",
    "def tokenize(s): return re_tok.sub(r' \\1 ', s).split()"
   ]
  },
  {
   "cell_type": "code",
   "execution_count": 38,
   "metadata": {},
   "outputs": [],
   "source": [
    "description = \"description\""
   ]
  },
  {
   "cell_type": "code",
   "execution_count": 39,
   "metadata": {},
   "outputs": [],
   "source": [
    "data_req = data_req.drop(subBrand_drop[\"index\"], axis = 1)"
   ]
  },
  {
   "cell_type": "code",
   "execution_count": 40,
   "metadata": {},
   "outputs": [],
   "source": [
    "np.random.seed(123)\n",
    "data_req_sample = data_req.sample(frac=0.7)"
   ]
  },
  {
   "cell_type": "code",
   "execution_count": 41,
   "metadata": {},
   "outputs": [],
   "source": [
    "train = data_req.loc[data_req.index.isin(data_req_sample.index)]\n",
    "test = data_req.loc[~data_req.index.isin(data_req_sample.index)]"
   ]
  },
  {
   "cell_type": "code",
   "execution_count": 42,
   "metadata": {},
   "outputs": [],
   "source": [
    "test_subBrand = test.subBrand"
   ]
  },
  {
   "cell_type": "code",
   "execution_count": 43,
   "metadata": {},
   "outputs": [],
   "source": [
    "#test_subBrand"
   ]
  },
  {
   "cell_type": "code",
   "execution_count": 44,
   "metadata": {},
   "outputs": [],
   "source": [
    "train = train.drop(\"subBrand\", axis = 1)\n",
    "test = test.drop(\"subBrand\", axis = 1)"
   ]
  },
  {
   "cell_type": "code",
   "execution_count": 45,
   "metadata": {},
   "outputs": [],
   "source": [
    "# token_dict = {}\n",
    "# stemmer = PorterStemmer()\n",
    "\n",
    "# def stem_tokens(tokens, stemmer):\n",
    "#     stemmed = []\n",
    "#     for item in tokens:\n",
    "#         stemmed.append(stemmer.stem(item))\n",
    "#     return stemmed\n",
    "\n",
    "# def tokenize(text):\n",
    "#     tokens = nltk.word_tokenize(text)\n",
    "#     stems = stem_tokens(tokens, stemmer)\n",
    "#     return stems"
   ]
  },
  {
   "cell_type": "code",
   "execution_count": 46,
   "metadata": {},
   "outputs": [],
   "source": [
    "# from stop_words import get_stop_words\n",
    "# stop_words_english = get_stop_words('english')\n",
    "# stop_words_german = get_stop_words('german')"
   ]
  },
  {
   "cell_type": "code",
   "execution_count": 47,
   "metadata": {},
   "outputs": [],
   "source": [
    "#stop_words_english.append(stop_words_german)"
   ]
  },
  {
   "cell_type": "code",
   "execution_count": 48,
   "metadata": {},
   "outputs": [],
   "source": [
    "# stop_words_english = sorted(set(map(tuple, stop_words_english)), reverse=True)"
   ]
  },
  {
   "cell_type": "code",
   "execution_count": 49,
   "metadata": {},
   "outputs": [],
   "source": [
    "n = train.shape[0]\n",
    "vec = TfidfVectorizer(ngram_range=(1,2), tokenizer=tokenize,\n",
    "               min_df=3, max_df=0.9, strip_accents='unicode', use_idf=1,\n",
    "               smooth_idf=1, sublinear_tf=1, stop_words = None )\n",
    "trn_term_doc = vec.fit_transform(train[description])\n",
    "test_term_doc = vec.transform(test[description])"
   ]
  },
  {
   "cell_type": "code",
   "execution_count": 50,
   "metadata": {},
   "outputs": [
    {
     "data": {
      "text/plain": [
       "(<17110x58372 sparse matrix of type '<class 'numpy.float64'>'\n",
       " \twith 1775927 stored elements in Compressed Sparse Row format>,\n",
       " <7333x58372 sparse matrix of type '<class 'numpy.float64'>'\n",
       " \twith 752054 stored elements in Compressed Sparse Row format>)"
      ]
     },
     "execution_count": 50,
     "metadata": {},
     "output_type": "execute_result"
    }
   ],
   "source": [
    "trn_term_doc, test_term_doc"
   ]
  },
  {
   "cell_type": "code",
   "execution_count": 51,
   "metadata": {},
   "outputs": [],
   "source": [
    "def pr(y_i, y):\n",
    "    p = x[y==y_i].sum(0)\n",
    "    return (p+1) / ((y==y_i).sum()+1)"
   ]
  },
  {
   "cell_type": "code",
   "execution_count": 52,
   "metadata": {},
   "outputs": [],
   "source": [
    "x = trn_term_doc\n",
    "test_x = test_term_doc"
   ]
  },
  {
   "cell_type": "code",
   "execution_count": 53,
   "metadata": {},
   "outputs": [],
   "source": [
    "def get_mdl(y):\n",
    "    y = y.values\n",
    "    r = np.log(pr(1,y) / pr(0,y))\n",
    "    m = LogisticRegression(C=4, dual=True)\n",
    "    x_nb = x.multiply(r)\n",
    "    return m.fit(x_nb, y), r"
   ]
  },
  {
   "cell_type": "code",
   "execution_count": 54,
   "metadata": {},
   "outputs": [],
   "source": [
    "from sklearn.linear_model import LogisticRegression"
   ]
  },
  {
   "cell_type": "code",
   "execution_count": 55,
   "metadata": {
    "scrolled": true
   },
   "outputs": [
    {
     "name": "stdout",
     "output_type": "stream",
     "text": [
      "fit akos\n",
      "fit basketball\n",
      "fit football\n",
      "fit lifestyle\n",
      "fit run\n",
      "fit running\n",
      "fit skate\n",
      "fit to + from\n",
      "fit training\n",
      "fit yoga\n",
      "fit 休闲\n",
      "fit 健身/训练\n",
      "fit 基础fundamental\n",
      "fit 徒步\n",
      "fit 户外\n",
      "fit 户外系列\n",
      "fit 时尚系列\n",
      "fit 游泳\n",
      "fit 滑板\n",
      "fit 瑜伽\n",
      "fit 瑜珈\n",
      "fit 生活系列\n",
      "fit 田径\n",
      "fit 登山\n",
      "fit 篮球\n",
      "fit 篮球系列\n",
      "fit 综训系列\n",
      "fit 网球\n",
      "fit 羽毛球\n",
      "fit 训练\n",
      "fit 赛车motorsport\n",
      "fit 足球\n",
      "fit 足球teamsport\n",
      "fit 足球系列\n",
      "fit 跑步\n",
      "fit 跑步系列\n",
      "fit 运动休闲sportstyle\n",
      "fit 运动型格\n",
      "fit 运动时尚\n",
      "fit 韦德\n",
      "fit 高尔夫\n"
     ]
    }
   ],
   "source": [
    "preds = np.zeros((len(test), len(label_cols)))\n",
    "\n",
    "for i, j in enumerate(label_cols):\n",
    "    print('fit', j)\n",
    "    m,r = get_mdl(train[j])\n",
    "    preds[:,i] = m.predict_proba(test_x.multiply(r))[:,1]"
   ]
  },
  {
   "cell_type": "code",
   "execution_count": 56,
   "metadata": {},
   "outputs": [
    {
     "data": {
      "text/plain": [
       "(7333, 41)"
      ]
     },
     "execution_count": 56,
     "metadata": {},
     "output_type": "execute_result"
    }
   ],
   "source": [
    "preds.shape"
   ]
  },
  {
   "cell_type": "code",
   "execution_count": 57,
   "metadata": {},
   "outputs": [],
   "source": [
    "predictions = pd.DataFrame(preds, columns = label_cols)"
   ]
  },
  {
   "cell_type": "code",
   "execution_count": 58,
   "metadata": {},
   "outputs": [],
   "source": [
    "test.index = np.arange(0, len(test))\n",
    "test_subBrand.index = np.arange(0, len(test))"
   ]
  },
  {
   "cell_type": "code",
   "execution_count": 59,
   "metadata": {},
   "outputs": [
    {
     "data": {
      "text/plain": [
       "7333"
      ]
     },
     "execution_count": 59,
     "metadata": {},
     "output_type": "execute_result"
    }
   ],
   "source": [
    "len(test)"
   ]
  },
  {
   "cell_type": "code",
   "execution_count": 60,
   "metadata": {},
   "outputs": [],
   "source": [
    "submid = pd.DataFrame({'description': test[\"description\"]})\n",
    "submission = pd.concat([submid, pd.DataFrame(preds, columns = label_cols)], axis=1)"
   ]
  },
  {
   "cell_type": "code",
   "execution_count": 61,
   "metadata": {},
   "outputs": [
    {
     "data": {
      "text/html": [
       "<div>\n",
       "<style scoped>\n",
       "    .dataframe tbody tr th:only-of-type {\n",
       "        vertical-align: middle;\n",
       "    }\n",
       "\n",
       "    .dataframe tbody tr th {\n",
       "        vertical-align: top;\n",
       "    }\n",
       "\n",
       "    .dataframe thead th {\n",
       "        text-align: right;\n",
       "    }\n",
       "</style>\n",
       "<table border=\"1\" class=\"dataframe\">\n",
       "  <thead>\n",
       "    <tr style=\"text-align: right;\">\n",
       "      <th></th>\n",
       "      <th>description</th>\n",
       "      <th>akos</th>\n",
       "      <th>basketball</th>\n",
       "      <th>football</th>\n",
       "      <th>lifestyle</th>\n",
       "      <th>run</th>\n",
       "      <th>running</th>\n",
       "      <th>skate</th>\n",
       "      <th>to + from</th>\n",
       "      <th>training</th>\n",
       "      <th>...</th>\n",
       "      <th>足球</th>\n",
       "      <th>足球teamsport</th>\n",
       "      <th>足球系列</th>\n",
       "      <th>跑步</th>\n",
       "      <th>跑步系列</th>\n",
       "      <th>运动休闲sportstyle</th>\n",
       "      <th>运动型格</th>\n",
       "      <th>运动时尚</th>\n",
       "      <th>韦德</th>\n",
       "      <th>高尔夫</th>\n",
       "    </tr>\n",
       "  </thead>\n",
       "  <tbody>\n",
       "    <tr>\n",
       "      <th>0</th>\n",
       "      <td>adidas mundial team 经典足球鞋 一款经典足球鞋 copa mundial...</td>\n",
       "      <td>0.000112</td>\n",
       "      <td>0.000184</td>\n",
       "      <td>0.000209</td>\n",
       "      <td>0.000218</td>\n",
       "      <td>0.000272</td>\n",
       "      <td>0.000429</td>\n",
       "      <td>0.000147</td>\n",
       "      <td>0.000312</td>\n",
       "      <td>0.001274</td>\n",
       "      <td>...</td>\n",
       "      <td>0.382488</td>\n",
       "      <td>0.000294</td>\n",
       "      <td>0.000163</td>\n",
       "      <td>0.010291</td>\n",
       "      <td>0.000254</td>\n",
       "      <td>0.000274</td>\n",
       "      <td>0.000390</td>\n",
       "      <td>0.000265</td>\n",
       "      <td>0.000166</td>\n",
       "      <td>0.003045</td>\n",
       "    </tr>\n",
       "    <tr>\n",
       "      <th>1</th>\n",
       "      <td>adidas adilette 拖鞋 自1972年推出，adilette便成为了全球畅销的运...</td>\n",
       "      <td>0.000107</td>\n",
       "      <td>0.000184</td>\n",
       "      <td>0.000226</td>\n",
       "      <td>0.000654</td>\n",
       "      <td>0.000270</td>\n",
       "      <td>0.000760</td>\n",
       "      <td>0.000094</td>\n",
       "      <td>0.000314</td>\n",
       "      <td>0.001960</td>\n",
       "      <td>...</td>\n",
       "      <td>0.011132</td>\n",
       "      <td>0.000228</td>\n",
       "      <td>0.000160</td>\n",
       "      <td>0.002020</td>\n",
       "      <td>0.000315</td>\n",
       "      <td>0.000216</td>\n",
       "      <td>0.001306</td>\n",
       "      <td>0.000212</td>\n",
       "      <td>0.000139</td>\n",
       "      <td>0.001479</td>\n",
       "    </tr>\n",
       "    <tr>\n",
       "      <th>2</th>\n",
       "      <td>adidas 低跟袜 旨在适合高强度训练的短袜。隐藏式设计，罗纹袜口和足弓设计，旨在带来更多...</td>\n",
       "      <td>0.000344</td>\n",
       "      <td>0.000205</td>\n",
       "      <td>0.000261</td>\n",
       "      <td>0.000368</td>\n",
       "      <td>0.000292</td>\n",
       "      <td>0.002927</td>\n",
       "      <td>0.000161</td>\n",
       "      <td>0.000329</td>\n",
       "      <td>0.046705</td>\n",
       "      <td>...</td>\n",
       "      <td>0.013276</td>\n",
       "      <td>0.000232</td>\n",
       "      <td>0.000174</td>\n",
       "      <td>0.006731</td>\n",
       "      <td>0.000171</td>\n",
       "      <td>0.000250</td>\n",
       "      <td>0.003188</td>\n",
       "      <td>0.000241</td>\n",
       "      <td>0.000159</td>\n",
       "      <td>0.001067</td>\n",
       "    </tr>\n",
       "    <tr>\n",
       "      <th>3</th>\n",
       "      <td>adidas terrex agravic xt 户外鞋 户外运动鞋 这款户外运动鞋，旨在助...</td>\n",
       "      <td>0.000109</td>\n",
       "      <td>0.000185</td>\n",
       "      <td>0.000170</td>\n",
       "      <td>0.000293</td>\n",
       "      <td>0.000275</td>\n",
       "      <td>0.001798</td>\n",
       "      <td>0.000139</td>\n",
       "      <td>0.000310</td>\n",
       "      <td>0.001503</td>\n",
       "      <td>...</td>\n",
       "      <td>0.003171</td>\n",
       "      <td>0.000217</td>\n",
       "      <td>0.000161</td>\n",
       "      <td>0.008847</td>\n",
       "      <td>0.000250</td>\n",
       "      <td>0.000293</td>\n",
       "      <td>0.000386</td>\n",
       "      <td>0.000290</td>\n",
       "      <td>0.000139</td>\n",
       "      <td>0.001028</td>\n",
       "    </tr>\n",
       "    <tr>\n",
       "      <th>4</th>\n",
       "      <td>adidas a16+ ultraboost 足球鞋 shoes unknown chn o...</td>\n",
       "      <td>0.000094</td>\n",
       "      <td>0.000194</td>\n",
       "      <td>0.000275</td>\n",
       "      <td>0.000549</td>\n",
       "      <td>0.000248</td>\n",
       "      <td>0.001013</td>\n",
       "      <td>0.000113</td>\n",
       "      <td>0.000295</td>\n",
       "      <td>0.001784</td>\n",
       "      <td>...</td>\n",
       "      <td>0.540592</td>\n",
       "      <td>0.000213</td>\n",
       "      <td>0.002527</td>\n",
       "      <td>0.111172</td>\n",
       "      <td>0.000449</td>\n",
       "      <td>0.000141</td>\n",
       "      <td>0.002181</td>\n",
       "      <td>0.000085</td>\n",
       "      <td>0.000146</td>\n",
       "      <td>0.001206</td>\n",
       "    </tr>\n",
       "  </tbody>\n",
       "</table>\n",
       "<p>5 rows × 42 columns</p>\n",
       "</div>"
      ],
      "text/plain": [
       "                                         description      akos  basketball  \\\n",
       "0  adidas mundial team 经典足球鞋 一款经典足球鞋 copa mundial...  0.000112    0.000184   \n",
       "1  adidas adilette 拖鞋 自1972年推出，adilette便成为了全球畅销的运...  0.000107    0.000184   \n",
       "2  adidas 低跟袜 旨在适合高强度训练的短袜。隐藏式设计，罗纹袜口和足弓设计，旨在带来更多...  0.000344    0.000205   \n",
       "3  adidas terrex agravic xt 户外鞋 户外运动鞋 这款户外运动鞋，旨在助...  0.000109    0.000185   \n",
       "4  adidas a16+ ultraboost 足球鞋 shoes unknown chn o...  0.000094    0.000194   \n",
       "\n",
       "   football  lifestyle       run   running     skate  to + from  training  \\\n",
       "0  0.000209   0.000218  0.000272  0.000429  0.000147   0.000312  0.001274   \n",
       "1  0.000226   0.000654  0.000270  0.000760  0.000094   0.000314  0.001960   \n",
       "2  0.000261   0.000368  0.000292  0.002927  0.000161   0.000329  0.046705   \n",
       "3  0.000170   0.000293  0.000275  0.001798  0.000139   0.000310  0.001503   \n",
       "4  0.000275   0.000549  0.000248  0.001013  0.000113   0.000295  0.001784   \n",
       "\n",
       "     ...           足球  足球teamsport      足球系列        跑步      跑步系列  \\\n",
       "0    ...     0.382488     0.000294  0.000163  0.010291  0.000254   \n",
       "1    ...     0.011132     0.000228  0.000160  0.002020  0.000315   \n",
       "2    ...     0.013276     0.000232  0.000174  0.006731  0.000171   \n",
       "3    ...     0.003171     0.000217  0.000161  0.008847  0.000250   \n",
       "4    ...     0.540592     0.000213  0.002527  0.111172  0.000449   \n",
       "\n",
       "   运动休闲sportstyle      运动型格      运动时尚        韦德       高尔夫  \n",
       "0        0.000274  0.000390  0.000265  0.000166  0.003045  \n",
       "1        0.000216  0.001306  0.000212  0.000139  0.001479  \n",
       "2        0.000250  0.003188  0.000241  0.000159  0.001067  \n",
       "3        0.000293  0.000386  0.000290  0.000139  0.001028  \n",
       "4        0.000141  0.002181  0.000085  0.000146  0.001206  \n",
       "\n",
       "[5 rows x 42 columns]"
      ]
     },
     "execution_count": 61,
     "metadata": {},
     "output_type": "execute_result"
    }
   ],
   "source": [
    "submission.head()"
   ]
  },
  {
   "cell_type": "code",
   "execution_count": 62,
   "metadata": {},
   "outputs": [],
   "source": [
    "final_pred = pd.concat([submission, test_subBrand.str.lower()],axis = 1)"
   ]
  },
  {
   "cell_type": "code",
   "execution_count": 63,
   "metadata": {},
   "outputs": [
    {
     "data": {
      "text/plain": [
       "休闲                1209\n",
       "训练                 914\n",
       "跑步                 830\n",
       "篮球                 471\n",
       "生活系列               468\n",
       "运动时尚               312\n",
       "运动休闲sportstyle     282\n",
       "足球                 277\n",
       "跑步系列               256\n",
       "yoga               221\n",
       "综训系列               211\n",
       "run                206\n",
       "健身/训练              203\n",
       "training           196\n",
       "to + from          149\n",
       "高尔夫                147\n",
       "基础fundamental      109\n",
       "running            104\n",
       "篮球系列               101\n",
       "羽毛球                 77\n",
       "户外                  76\n",
       "足球teamsport         70\n",
       "网球                  64\n",
       "登山                  44\n",
       "运动型格                35\n",
       "滑板                  34\n",
       "时尚系列                33\n",
       "lifestyle           33\n",
       "户外系列                31\n",
       "足球系列                29\n",
       "basketball          22\n",
       "akos                15\n",
       "徒步                  12\n",
       "瑜珈                  11\n",
       "田径                  11\n",
       "赛车motorsport        10\n",
       "韦德                   9\n",
       "瑜伽                   8\n",
       "游泳                   7\n",
       "football             6\n",
       "skate                5\n",
       "棒球/垒球                4\n",
       "driving              4\n",
       "swim                 3\n",
       "soccer               3\n",
       "其他                   2\n",
       "网球系列                 2\n",
       "冲浪                   2\n",
       "棒球                   1\n",
       "casual               1\n",
       "排球                   1\n",
       "美式橄榄球                1\n",
       "动感单车                 1\n",
       "Name: subBrand, dtype: int64"
      ]
     },
     "execution_count": 63,
     "metadata": {},
     "output_type": "execute_result"
    }
   ],
   "source": [
    "test_subBrand.str.lower().value_counts()"
   ]
  },
  {
   "cell_type": "code",
   "execution_count": 64,
   "metadata": {},
   "outputs": [],
   "source": [
    "final_pred[\"Predictions\"] = final_pred[label_cols].idxmax(axis = 1)"
   ]
  },
  {
   "cell_type": "code",
   "execution_count": 65,
   "metadata": {},
   "outputs": [],
   "source": [
    "from mlxtend.evaluate import confusion_matrix\n",
    "\n",
    "y_target =    final_pred.subBrand\n",
    "y_predicted = final_pred.Predictions\n",
    "\n",
    "cm = confusion_matrix(y_target=y_target, \n",
    "                      y_predicted=y_predicted, \n",
    "                      binary=False)"
   ]
  },
  {
   "cell_type": "code",
   "execution_count": 66,
   "metadata": {},
   "outputs": [
    {
     "data": {
      "image/png": "[encoded data removed]",
      "text/plain": [
       "<Figure size 432x288 with 1 Axes>"
      ]
     },
     "metadata": {},
     "output_type": "display_data"
    }
   ],
   "source": [
    "import matplotlib.pyplot as plt\n",
    "from mlxtend.plotting import plot_confusion_matrix\n",
    "import numpy as np\n",
    "\n",
    "fig, ax = plot_confusion_matrix(conf_mat=cm)\n",
    "plt.show()"
   ]
  },
  {
   "cell_type": "code",
   "execution_count": 67,
   "metadata": {},
   "outputs": [
    {
     "name": "stdout",
     "output_type": "stream",
     "text": [
      "Accuracy Score : 0.8918587208509478\n",
      "F1 Score: 0.5944962389745175\n",
      "Precision: 0.6043865991289492\n",
      "Recall: 0.5912374633066204\n"
     ]
    },
    {
     "name": "stderr",
     "output_type": "stream",
     "text": [
      "C:\\Users\\narendran.thesma\\AppData\\Local\\Continuum\\anaconda3\\lib\\site-packages\\sklearn\\metrics\\classification.py:1135: UndefinedMetricWarning: F-score is ill-defined and being set to 0.0 in labels with no predicted samples.\n",
      "  'precision', 'predicted', average, warn_for)\n",
      "C:\\Users\\narendran.thesma\\AppData\\Local\\Continuum\\anaconda3\\lib\\site-packages\\sklearn\\metrics\\classification.py:1135: UndefinedMetricWarning: Precision is ill-defined and being set to 0.0 in labels with no predicted samples.\n",
      "  'precision', 'predicted', average, warn_for)\n"
     ]
    }
   ],
   "source": [
    "print(f'Accuracy Score : {accuracy_score(final_pred.subBrand, final_pred.Predictions)}')\n",
    "print(f'F1 Score: {f1_score(final_pred.subBrand, final_pred.Predictions, average=\"macro\")}')\n",
    "print(f'Precision: {precision_score(final_pred.subBrand, final_pred.Predictions, average=\"macro\")}')\n",
    "print(f'Recall: {recall_score(final_pred.subBrand, final_pred.Predictions, average=\"macro\")}')"
   ]
  },
  {
   "cell_type": "code",
   "execution_count": 68,
   "metadata": {},
   "outputs": [],
   "source": [
    "#final_pred.to_csv(\"final_output_SubBrand_v4.csv\", index_label=False, index=False)"
   ]
  },
  {
   "cell_type": "code",
   "execution_count": 83,
   "metadata": {},
   "outputs": [
    {
     "data": {
      "text/plain": [
       "20860"
      ]
     },
     "execution_count": 83,
     "metadata": {},
     "output_type": "execute_result"
    }
   ],
   "source": [
    "len(final_pred)"
   ]
  },
  {
   "cell_type": "code",
   "execution_count": 51,
   "metadata": {},
   "outputs": [],
   "source": [
    "#test_subBrand"
   ]
  },
  {
   "cell_type": "code",
   "execution_count": 52,
   "metadata": {},
   "outputs": [
    {
     "data": {
      "text/plain": [
       "15062"
      ]
     },
     "execution_count": 52,
     "metadata": {},
     "output_type": "execute_result"
    }
   ],
   "source": [
    "len(submission)"
   ]
  },
  {
   "cell_type": "code",
   "execution_count": 54,
   "metadata": {},
   "outputs": [],
   "source": [
    "#final_pred.isnull().sum()"
   ]
  },
  {
   "cell_type": "code",
   "execution_count": null,
   "metadata": {},
   "outputs": [],
   "source": []
  }
 ],
 "metadata": {
  "kernelspec": {
   "display_name": "Python 3",
   "language": "python",
   "name": "python3"
  },
  "language_info": {
   "codemirror_mode": {
    "name": "ipython",
    "version": 3
   },
   "file_extension": ".py",
   "mimetype": "text/x-python",
   "name": "python",
   "nbconvert_exporter": "python",
   "pygments_lexer": "ipython3",
   "version": "3.6.5"
  }
 },
 "nbformat": 4,
 "nbformat_minor": 2
}

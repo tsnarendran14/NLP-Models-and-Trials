{
 "cells": [
  {
   "cell_type": "code",
   "execution_count": 1,
   "metadata": {},
   "outputs": [],
   "source": [
    "# Libraries\n",
    "import h2o\n",
    "import pandas as pd\n",
    "import numpy as np\n",
    "from sklearn.metrics import accuracy_score, f1_score, precision_score, recall_score, classification_report, confusion_matrix"
   ]
  },
  {
   "cell_type": "code",
   "execution_count": 2,
   "metadata": {},
   "outputs": [
    {
     "name": "stdout",
     "output_type": "stream",
     "text": [
      "Checking whether there is an H2O instance running at http://localhost:54321..... not found.\n",
      "Attempting to start a local H2O server...\n",
      "; Java HotSpot(TM) 64-Bit Server VM (build 25.191-b12, mixed mode)\n",
      "  Starting server from C:\\Users\\narendran.thesma\\AppData\\Local\\Continuum\\anaconda3\\lib\\site-packages\\h2o\\backend\\bin\\h2o.jar\n",
      "  Ice root: C:\\Users\\narendran.thesma\\AppData\\Local\\Temp\\tmpon7joctk\n",
      "  JVM stdout: C:\\Users\\narendran.thesma\\AppData\\Local\\Temp\\tmpon7joctk\\h2o_narendran_thesma_started_from_python.out\n",
      "  JVM stderr: C:\\Users\\narendran.thesma\\AppData\\Local\\Temp\\tmpon7joctk\\h2o_narendran_thesma_started_from_python.err\n",
      "  Server is running at http://127.0.0.1:54321\n",
      "Connecting to H2O server at http://127.0.0.1:54321... successful.\n"
     ]
    },
    {
     "data": {
      "text/html": [
       "<div style=\"overflow:auto\"><table style=\"width:50%\"><tr><td>H2O cluster uptime:</td>\n",
       "<td>03 secs</td></tr>\n",
       "<tr><td>H2O cluster timezone:</td>\n",
       "<td>Asia/Kolkata</td></tr>\n",
       "<tr><td>H2O data parsing timezone:</td>\n",
       "<td>UTC</td></tr>\n",
       "<tr><td>H2O cluster version:</td>\n",
       "<td>3.22.0.1</td></tr>\n",
       "<tr><td>H2O cluster version age:</td>\n",
       "<td>1 month and 1 day </td></tr>\n",
       "<tr><td>H2O cluster name:</td>\n",
       "<td>H2O_from_python_narendran_thesma_xig5vw</td></tr>\n",
       "<tr><td>H2O cluster total nodes:</td>\n",
       "<td>1</td></tr>\n",
       "<tr><td>H2O cluster free memory:</td>\n",
       "<td>7.111 Gb</td></tr>\n",
       "<tr><td>H2O cluster total cores:</td>\n",
       "<td>4</td></tr>\n",
       "<tr><td>H2O cluster allowed cores:</td>\n",
       "<td>4</td></tr>\n",
       "<tr><td>H2O cluster status:</td>\n",
       "<td>accepting new members, healthy</td></tr>\n",
       "<tr><td>H2O connection url:</td>\n",
       "<td>http://127.0.0.1:54321</td></tr>\n",
       "<tr><td>H2O connection proxy:</td>\n",
       "<td>None</td></tr>\n",
       "<tr><td>H2O internal security:</td>\n",
       "<td>False</td></tr>\n",
       "<tr><td>H2O API Extensions:</td>\n",
       "<td>Algos, AutoML, Core V3, Core V4</td></tr>\n",
       "<tr><td>Python version:</td>\n",
       "<td>3.6.5 final</td></tr></table></div>"
      ],
      "text/plain": [
       "--------------------------  ---------------------------------------\n",
       "H2O cluster uptime:         03 secs\n",
       "H2O cluster timezone:       Asia/Kolkata\n",
       "H2O data parsing timezone:  UTC\n",
       "H2O cluster version:        3.22.0.1\n",
       "H2O cluster version age:    1 month and 1 day\n",
       "H2O cluster name:           H2O_from_python_narendran_thesma_xig5vw\n",
       "H2O cluster total nodes:    1\n",
       "H2O cluster free memory:    7.111 Gb\n",
       "H2O cluster total cores:    4\n",
       "H2O cluster allowed cores:  4\n",
       "H2O cluster status:         accepting new members, healthy\n",
       "H2O connection url:         http://127.0.0.1:54321\n",
       "H2O connection proxy:\n",
       "H2O internal security:      False\n",
       "H2O API Extensions:         Algos, AutoML, Core V3, Core V4\n",
       "Python version:             3.6.5 final\n",
       "--------------------------  ---------------------------------------"
      ]
     },
     "metadata": {},
     "output_type": "display_data"
    }
   ],
   "source": [
    "# Initialise H2O\n",
    "h2o.init(max_mem_size=\"8G\")"
   ]
  },
  {
   "cell_type": "code",
   "execution_count": 5,
   "metadata": {},
   "outputs": [
    {
     "ename": "FileNotFoundError",
     "evalue": "File b'output_merged_25oct.csv' does not exist",
     "output_type": "error",
     "traceback": [
      "\u001b[1;31m---------------------------------------------------------------------------\u001b[0m",
      "\u001b[1;31mFileNotFoundError\u001b[0m                         Traceback (most recent call last)",
      "\u001b[1;32m<ipython-input-5-7395351cd8d7>\u001b[0m in \u001b[0;36m<module>\u001b[1;34m()\u001b[0m\n\u001b[0;32m      1\u001b[0m \u001b[1;31m# Reading File - Japanese Input Output File\u001b[0m\u001b[1;33m\u001b[0m\u001b[1;33m\u001b[0m\u001b[0m\n\u001b[1;32m----> 2\u001b[1;33m \u001b[0mdata\u001b[0m \u001b[1;33m=\u001b[0m \u001b[0mpd\u001b[0m\u001b[1;33m.\u001b[0m\u001b[0mread_csv\u001b[0m\u001b[1;33m(\u001b[0m\u001b[1;34m\"output_merged_25oct.csv\"\u001b[0m\u001b[1;33m,\u001b[0m \u001b[0mencoding\u001b[0m \u001b[1;33m=\u001b[0m \u001b[1;34m\"latin-1\"\u001b[0m\u001b[1;33m)\u001b[0m\u001b[1;33m\u001b[0m\u001b[0m\n\u001b[0m",
      "\u001b[1;32m~\\AppData\\Local\\Continuum\\anaconda3\\lib\\site-packages\\pandas\\io\\parsers.py\u001b[0m in \u001b[0;36mparser_f\u001b[1;34m(filepath_or_buffer, sep, delimiter, header, names, index_col, usecols, squeeze, prefix, mangle_dupe_cols, dtype, engine, converters, true_values, false_values, skipinitialspace, skiprows, nrows, na_values, keep_default_na, na_filter, verbose, skip_blank_lines, parse_dates, infer_datetime_format, keep_date_col, date_parser, dayfirst, iterator, chunksize, compression, thousands, decimal, lineterminator, quotechar, quoting, escapechar, comment, encoding, dialect, tupleize_cols, error_bad_lines, warn_bad_lines, skipfooter, doublequote, delim_whitespace, low_memory, memory_map, float_precision)\u001b[0m\n\u001b[0;32m    676\u001b[0m                     skip_blank_lines=skip_blank_lines)\n\u001b[0;32m    677\u001b[0m \u001b[1;33m\u001b[0m\u001b[0m\n\u001b[1;32m--> 678\u001b[1;33m         \u001b[1;32mreturn\u001b[0m \u001b[0m_read\u001b[0m\u001b[1;33m(\u001b[0m\u001b[0mfilepath_or_buffer\u001b[0m\u001b[1;33m,\u001b[0m \u001b[0mkwds\u001b[0m\u001b[1;33m)\u001b[0m\u001b[1;33m\u001b[0m\u001b[0m\n\u001b[0m\u001b[0;32m    679\u001b[0m \u001b[1;33m\u001b[0m\u001b[0m\n\u001b[0;32m    680\u001b[0m     \u001b[0mparser_f\u001b[0m\u001b[1;33m.\u001b[0m\u001b[0m__name__\u001b[0m \u001b[1;33m=\u001b[0m \u001b[0mname\u001b[0m\u001b[1;33m\u001b[0m\u001b[0m\n",
      "\u001b[1;32m~\\AppData\\Local\\Continuum\\anaconda3\\lib\\site-packages\\pandas\\io\\parsers.py\u001b[0m in \u001b[0;36m_read\u001b[1;34m(filepath_or_buffer, kwds)\u001b[0m\n\u001b[0;32m    438\u001b[0m \u001b[1;33m\u001b[0m\u001b[0m\n\u001b[0;32m    439\u001b[0m     \u001b[1;31m# Create the parser.\u001b[0m\u001b[1;33m\u001b[0m\u001b[1;33m\u001b[0m\u001b[0m\n\u001b[1;32m--> 440\u001b[1;33m     \u001b[0mparser\u001b[0m \u001b[1;33m=\u001b[0m \u001b[0mTextFileReader\u001b[0m\u001b[1;33m(\u001b[0m\u001b[0mfilepath_or_buffer\u001b[0m\u001b[1;33m,\u001b[0m \u001b[1;33m**\u001b[0m\u001b[0mkwds\u001b[0m\u001b[1;33m)\u001b[0m\u001b[1;33m\u001b[0m\u001b[0m\n\u001b[0m\u001b[0;32m    441\u001b[0m \u001b[1;33m\u001b[0m\u001b[0m\n\u001b[0;32m    442\u001b[0m     \u001b[1;32mif\u001b[0m \u001b[0mchunksize\u001b[0m \u001b[1;32mor\u001b[0m \u001b[0miterator\u001b[0m\u001b[1;33m:\u001b[0m\u001b[1;33m\u001b[0m\u001b[0m\n",
      "\u001b[1;32m~\\AppData\\Local\\Continuum\\anaconda3\\lib\\site-packages\\pandas\\io\\parsers.py\u001b[0m in \u001b[0;36m__init__\u001b[1;34m(self, f, engine, **kwds)\u001b[0m\n\u001b[0;32m    785\u001b[0m             \u001b[0mself\u001b[0m\u001b[1;33m.\u001b[0m\u001b[0moptions\u001b[0m\u001b[1;33m[\u001b[0m\u001b[1;34m'has_index_names'\u001b[0m\u001b[1;33m]\u001b[0m \u001b[1;33m=\u001b[0m \u001b[0mkwds\u001b[0m\u001b[1;33m[\u001b[0m\u001b[1;34m'has_index_names'\u001b[0m\u001b[1;33m]\u001b[0m\u001b[1;33m\u001b[0m\u001b[0m\n\u001b[0;32m    786\u001b[0m \u001b[1;33m\u001b[0m\u001b[0m\n\u001b[1;32m--> 787\u001b[1;33m         \u001b[0mself\u001b[0m\u001b[1;33m.\u001b[0m\u001b[0m_make_engine\u001b[0m\u001b[1;33m(\u001b[0m\u001b[0mself\u001b[0m\u001b[1;33m.\u001b[0m\u001b[0mengine\u001b[0m\u001b[1;33m)\u001b[0m\u001b[1;33m\u001b[0m\u001b[0m\n\u001b[0m\u001b[0;32m    788\u001b[0m \u001b[1;33m\u001b[0m\u001b[0m\n\u001b[0;32m    789\u001b[0m     \u001b[1;32mdef\u001b[0m \u001b[0mclose\u001b[0m\u001b[1;33m(\u001b[0m\u001b[0mself\u001b[0m\u001b[1;33m)\u001b[0m\u001b[1;33m:\u001b[0m\u001b[1;33m\u001b[0m\u001b[0m\n",
      "\u001b[1;32m~\\AppData\\Local\\Continuum\\anaconda3\\lib\\site-packages\\pandas\\io\\parsers.py\u001b[0m in \u001b[0;36m_make_engine\u001b[1;34m(self, engine)\u001b[0m\n\u001b[0;32m   1012\u001b[0m     \u001b[1;32mdef\u001b[0m \u001b[0m_make_engine\u001b[0m\u001b[1;33m(\u001b[0m\u001b[0mself\u001b[0m\u001b[1;33m,\u001b[0m \u001b[0mengine\u001b[0m\u001b[1;33m=\u001b[0m\u001b[1;34m'c'\u001b[0m\u001b[1;33m)\u001b[0m\u001b[1;33m:\u001b[0m\u001b[1;33m\u001b[0m\u001b[0m\n\u001b[0;32m   1013\u001b[0m         \u001b[1;32mif\u001b[0m \u001b[0mengine\u001b[0m \u001b[1;33m==\u001b[0m \u001b[1;34m'c'\u001b[0m\u001b[1;33m:\u001b[0m\u001b[1;33m\u001b[0m\u001b[0m\n\u001b[1;32m-> 1014\u001b[1;33m             \u001b[0mself\u001b[0m\u001b[1;33m.\u001b[0m\u001b[0m_engine\u001b[0m \u001b[1;33m=\u001b[0m \u001b[0mCParserWrapper\u001b[0m\u001b[1;33m(\u001b[0m\u001b[0mself\u001b[0m\u001b[1;33m.\u001b[0m\u001b[0mf\u001b[0m\u001b[1;33m,\u001b[0m \u001b[1;33m**\u001b[0m\u001b[0mself\u001b[0m\u001b[1;33m.\u001b[0m\u001b[0moptions\u001b[0m\u001b[1;33m)\u001b[0m\u001b[1;33m\u001b[0m\u001b[0m\n\u001b[0m\u001b[0;32m   1015\u001b[0m         \u001b[1;32melse\u001b[0m\u001b[1;33m:\u001b[0m\u001b[1;33m\u001b[0m\u001b[0m\n\u001b[0;32m   1016\u001b[0m             \u001b[1;32mif\u001b[0m \u001b[0mengine\u001b[0m \u001b[1;33m==\u001b[0m \u001b[1;34m'python'\u001b[0m\u001b[1;33m:\u001b[0m\u001b[1;33m\u001b[0m\u001b[0m\n",
      "\u001b[1;32m~\\AppData\\Local\\Continuum\\anaconda3\\lib\\site-packages\\pandas\\io\\parsers.py\u001b[0m in \u001b[0;36m__init__\u001b[1;34m(self, src, **kwds)\u001b[0m\n\u001b[0;32m   1706\u001b[0m         \u001b[0mkwds\u001b[0m\u001b[1;33m[\u001b[0m\u001b[1;34m'usecols'\u001b[0m\u001b[1;33m]\u001b[0m \u001b[1;33m=\u001b[0m \u001b[0mself\u001b[0m\u001b[1;33m.\u001b[0m\u001b[0musecols\u001b[0m\u001b[1;33m\u001b[0m\u001b[0m\n\u001b[0;32m   1707\u001b[0m \u001b[1;33m\u001b[0m\u001b[0m\n\u001b[1;32m-> 1708\u001b[1;33m         \u001b[0mself\u001b[0m\u001b[1;33m.\u001b[0m\u001b[0m_reader\u001b[0m \u001b[1;33m=\u001b[0m \u001b[0mparsers\u001b[0m\u001b[1;33m.\u001b[0m\u001b[0mTextReader\u001b[0m\u001b[1;33m(\u001b[0m\u001b[0msrc\u001b[0m\u001b[1;33m,\u001b[0m \u001b[1;33m**\u001b[0m\u001b[0mkwds\u001b[0m\u001b[1;33m)\u001b[0m\u001b[1;33m\u001b[0m\u001b[0m\n\u001b[0m\u001b[0;32m   1709\u001b[0m \u001b[1;33m\u001b[0m\u001b[0m\n\u001b[0;32m   1710\u001b[0m         \u001b[0mpassed_names\u001b[0m \u001b[1;33m=\u001b[0m \u001b[0mself\u001b[0m\u001b[1;33m.\u001b[0m\u001b[0mnames\u001b[0m \u001b[1;32mis\u001b[0m \u001b[1;32mNone\u001b[0m\u001b[1;33m\u001b[0m\u001b[0m\n",
      "\u001b[1;32mpandas\\_libs\\parsers.pyx\u001b[0m in \u001b[0;36mpandas._libs.parsers.TextReader.__cinit__\u001b[1;34m()\u001b[0m\n",
      "\u001b[1;32mpandas\\_libs\\parsers.pyx\u001b[0m in \u001b[0;36mpandas._libs.parsers.TextReader._setup_parser_source\u001b[1;34m()\u001b[0m\n",
      "\u001b[1;31mFileNotFoundError\u001b[0m: File b'output_merged_25oct.csv' does not exist"
     ]
    }
   ],
   "source": [
    "# Reading File - Japanese Input Output File\n",
    "data = pd.read_csv(\"output_merged_25oct.csv\", encoding = \"latin-1\")"
   ]
  },
  {
   "cell_type": "code",
   "execution_count": 4,
   "metadata": {},
   "outputs": [
    {
     "data": {
      "text/html": [
       "<div>\n",
       "<style scoped>\n",
       "    .dataframe tbody tr th:only-of-type {\n",
       "        vertical-align: middle;\n",
       "    }\n",
       "\n",
       "    .dataframe tbody tr th {\n",
       "        vertical-align: top;\n",
       "    }\n",
       "\n",
       "    .dataframe thead th {\n",
       "        text-align: right;\n",
       "    }\n",
       "</style>\n",
       "<table border=\"1\" class=\"dataframe\">\n",
       "  <thead>\n",
       "    <tr style=\"text-align: right;\">\n",
       "      <th></th>\n",
       "      <th>Unnamed: 0</th>\n",
       "      <th>date</th>\n",
       "      <th>companyName</th>\n",
       "      <th>currency</th>\n",
       "      <th>language</th>\n",
       "      <th>countryName</th>\n",
       "      <th>distributorName</th>\n",
       "      <th>ageGroup</th>\n",
       "      <th>articleId</th>\n",
       "      <th>colors</th>\n",
       "      <th>...</th>\n",
       "      <th>CURRENT_PRICE_IN_EUR_OUTPUT</th>\n",
       "      <th>INITIAL_PRICE_IN_SELECTED_CURRENCY_OUTPUT</th>\n",
       "      <th>CURRENT_PRICE_IN_SELECTED_CURRENCY_OUTPUT</th>\n",
       "      <th>SELECTED_CURRENCY_OUTPUT</th>\n",
       "      <th>PRODUCT_INTRODUCTION_DATE_OUTPUT</th>\n",
       "      <th>DISCOUNTED_SINCE_OUTPUT</th>\n",
       "      <th>PRODUCT_EXIT_DATE_OUTPUT</th>\n",
       "      <th>PRODUCT_DESCRIPTION_OUTPUT</th>\n",
       "      <th>PRODUCT_URL_OUTPUT</th>\n",
       "      <th>IMAGE_SERVER_URL_OUTPUT</th>\n",
       "    </tr>\n",
       "  </thead>\n",
       "  <tbody>\n",
       "    <tr>\n",
       "      <th>0</th>\n",
       "      <td>0</td>\n",
       "      <td>03/17/2016</td>\n",
       "      <td>adidas</td>\n",
       "      <td>JPY</td>\n",
       "      <td>ja-JP</td>\n",
       "      <td>jpn</td>\n",
       "      <td>own ecom</td>\n",
       "      <td>adults</td>\n",
       "      <td>AA0647</td>\n",
       "      <td>ãã¯ã¤ã</td>\n",
       "      <td>...</td>\n",
       "      <td>24.3</td>\n",
       "      <td>24.3</td>\n",
       "      <td>24.3</td>\n",
       "      <td>EUR</td>\n",
       "      <td>2/29/2016</td>\n",
       "      <td>9/18/2017</td>\n",
       "      <td>11/21/2017</td>\n",
       "      <td>3Ã¦ÂÂ¬Ã§Â·ÂÃ£ÂÂ®Ã£ÂÂÃ£ÂÂ¶Ã£ÂÂ¤Ã£ÂÂ³Ã£Â...</td>\n",
       "      <td>https://shop.adidas.jp/products/AA0647/</td>\n",
       "      <td>http://usporamap287.am.adsint.biz/zoomimages/1...</td>\n",
       "    </tr>\n",
       "    <tr>\n",
       "      <th>1</th>\n",
       "      <td>1</td>\n",
       "      <td>03/22/2016</td>\n",
       "      <td>adidas</td>\n",
       "      <td>JPY</td>\n",
       "      <td>ja-JP</td>\n",
       "      <td>jpn</td>\n",
       "      <td>own ecom</td>\n",
       "      <td>adults</td>\n",
       "      <td>AA0647</td>\n",
       "      <td>ãã¯ã¤ã</td>\n",
       "      <td>...</td>\n",
       "      <td>24.3</td>\n",
       "      <td>24.3</td>\n",
       "      <td>24.3</td>\n",
       "      <td>EUR</td>\n",
       "      <td>2/29/2016</td>\n",
       "      <td>9/18/2017</td>\n",
       "      <td>11/21/2017</td>\n",
       "      <td>3Ã¦ÂÂ¬Ã§Â·ÂÃ£ÂÂ®Ã£ÂÂÃ£ÂÂ¶Ã£ÂÂ¤Ã£ÂÂ³Ã£Â...</td>\n",
       "      <td>https://shop.adidas.jp/products/AA0647/</td>\n",
       "      <td>http://usporamap287.am.adsint.biz/zoomimages/1...</td>\n",
       "    </tr>\n",
       "    <tr>\n",
       "      <th>2</th>\n",
       "      <td>2</td>\n",
       "      <td>03/30/2016</td>\n",
       "      <td>adidas</td>\n",
       "      <td>JPY</td>\n",
       "      <td>ja-JP</td>\n",
       "      <td>jpn</td>\n",
       "      <td>own ecom</td>\n",
       "      <td>adults</td>\n",
       "      <td>AA0647</td>\n",
       "      <td>ãã¯ã¤ã</td>\n",
       "      <td>...</td>\n",
       "      <td>24.3</td>\n",
       "      <td>24.3</td>\n",
       "      <td>24.3</td>\n",
       "      <td>EUR</td>\n",
       "      <td>2/29/2016</td>\n",
       "      <td>9/18/2017</td>\n",
       "      <td>11/21/2017</td>\n",
       "      <td>3Ã¦ÂÂ¬Ã§Â·ÂÃ£ÂÂ®Ã£ÂÂÃ£ÂÂ¶Ã£ÂÂ¤Ã£ÂÂ³Ã£Â...</td>\n",
       "      <td>https://shop.adidas.jp/products/AA0647/</td>\n",
       "      <td>http://usporamap287.am.adsint.biz/zoomimages/1...</td>\n",
       "    </tr>\n",
       "    <tr>\n",
       "      <th>3</th>\n",
       "      <td>3</td>\n",
       "      <td>04/06/2016</td>\n",
       "      <td>adidas</td>\n",
       "      <td>JPY</td>\n",
       "      <td>ja-JP</td>\n",
       "      <td>jpn</td>\n",
       "      <td>own ecom</td>\n",
       "      <td>adults</td>\n",
       "      <td>AA0647</td>\n",
       "      <td>ãã¯ã¤ã</td>\n",
       "      <td>...</td>\n",
       "      <td>24.3</td>\n",
       "      <td>24.3</td>\n",
       "      <td>24.3</td>\n",
       "      <td>EUR</td>\n",
       "      <td>2/29/2016</td>\n",
       "      <td>9/18/2017</td>\n",
       "      <td>11/21/2017</td>\n",
       "      <td>3Ã¦ÂÂ¬Ã§Â·ÂÃ£ÂÂ®Ã£ÂÂÃ£ÂÂ¶Ã£ÂÂ¤Ã£ÂÂ³Ã£Â...</td>\n",
       "      <td>https://shop.adidas.jp/products/AA0647/</td>\n",
       "      <td>http://usporamap287.am.adsint.biz/zoomimages/1...</td>\n",
       "    </tr>\n",
       "    <tr>\n",
       "      <th>4</th>\n",
       "      <td>4</td>\n",
       "      <td>04/14/2016</td>\n",
       "      <td>adidas</td>\n",
       "      <td>JPY</td>\n",
       "      <td>ja-JP</td>\n",
       "      <td>jpn</td>\n",
       "      <td>own ecom</td>\n",
       "      <td>adults</td>\n",
       "      <td>AA0647</td>\n",
       "      <td>ãã¯ã¤ã</td>\n",
       "      <td>...</td>\n",
       "      <td>24.3</td>\n",
       "      <td>24.3</td>\n",
       "      <td>24.3</td>\n",
       "      <td>EUR</td>\n",
       "      <td>2/29/2016</td>\n",
       "      <td>9/18/2017</td>\n",
       "      <td>11/21/2017</td>\n",
       "      <td>3Ã¦ÂÂ¬Ã§Â·ÂÃ£ÂÂ®Ã£ÂÂÃ£ÂÂ¶Ã£ÂÂ¤Ã£ÂÂ³Ã£Â...</td>\n",
       "      <td>https://shop.adidas.jp/products/AA0647/</td>\n",
       "      <td>http://usporamap287.am.adsint.biz/zoomimages/1...</td>\n",
       "    </tr>\n",
       "  </tbody>\n",
       "</table>\n",
       "<p>5 rows × 62 columns</p>\n",
       "</div>"
      ],
      "text/plain": [
       "   Unnamed: 0        date companyName currency language countryName  \\\n",
       "0           0  03/17/2016      adidas      JPY    ja-JP         jpn   \n",
       "1           1  03/22/2016      adidas      JPY    ja-JP         jpn   \n",
       "2           2  03/30/2016      adidas      JPY    ja-JP         jpn   \n",
       "3           3  04/06/2016      adidas      JPY    ja-JP         jpn   \n",
       "4           4  04/14/2016      adidas      JPY    ja-JP         jpn   \n",
       "\n",
       "  distributorName ageGroup articleId        colors  \\\n",
       "0        own ecom   adults    AA0647  ãã¯ã¤ã   \n",
       "1        own ecom   adults    AA0647  ãã¯ã¤ã   \n",
       "2        own ecom   adults    AA0647  ãã¯ã¤ã   \n",
       "3        own ecom   adults    AA0647  ãã¯ã¤ã   \n",
       "4        own ecom   adults    AA0647  ãã¯ã¤ã   \n",
       "\n",
       "                         ...                          \\\n",
       "0                        ...                           \n",
       "1                        ...                           \n",
       "2                        ...                           \n",
       "3                        ...                           \n",
       "4                        ...                           \n",
       "\n",
       "  CURRENT_PRICE_IN_EUR_OUTPUT  INITIAL_PRICE_IN_SELECTED_CURRENCY_OUTPUT  \\\n",
       "0                        24.3                                       24.3   \n",
       "1                        24.3                                       24.3   \n",
       "2                        24.3                                       24.3   \n",
       "3                        24.3                                       24.3   \n",
       "4                        24.3                                       24.3   \n",
       "\n",
       "   CURRENT_PRICE_IN_SELECTED_CURRENCY_OUTPUT SELECTED_CURRENCY_OUTPUT  \\\n",
       "0                                       24.3                      EUR   \n",
       "1                                       24.3                      EUR   \n",
       "2                                       24.3                      EUR   \n",
       "3                                       24.3                      EUR   \n",
       "4                                       24.3                      EUR   \n",
       "\n",
       "  PRODUCT_INTRODUCTION_DATE_OUTPUT DISCOUNTED_SINCE_OUTPUT  \\\n",
       "0                        2/29/2016               9/18/2017   \n",
       "1                        2/29/2016               9/18/2017   \n",
       "2                        2/29/2016               9/18/2017   \n",
       "3                        2/29/2016               9/18/2017   \n",
       "4                        2/29/2016               9/18/2017   \n",
       "\n",
       "  PRODUCT_EXIT_DATE_OUTPUT                         PRODUCT_DESCRIPTION_OUTPUT  \\\n",
       "0               11/21/2017  3Ã¦ÂÂ¬Ã§Â·ÂÃ£ÂÂ®Ã£ÂÂÃ£ÂÂ¶Ã£ÂÂ¤Ã£ÂÂ³Ã£Â...   \n",
       "1               11/21/2017  3Ã¦ÂÂ¬Ã§Â·ÂÃ£ÂÂ®Ã£ÂÂÃ£ÂÂ¶Ã£ÂÂ¤Ã£ÂÂ³Ã£Â...   \n",
       "2               11/21/2017  3Ã¦ÂÂ¬Ã§Â·ÂÃ£ÂÂ®Ã£ÂÂÃ£ÂÂ¶Ã£ÂÂ¤Ã£ÂÂ³Ã£Â...   \n",
       "3               11/21/2017  3Ã¦ÂÂ¬Ã§Â·ÂÃ£ÂÂ®Ã£ÂÂÃ£ÂÂ¶Ã£ÂÂ¤Ã£ÂÂ³Ã£Â...   \n",
       "4               11/21/2017  3Ã¦ÂÂ¬Ã§Â·ÂÃ£ÂÂ®Ã£ÂÂÃ£ÂÂ¶Ã£ÂÂ¤Ã£ÂÂ³Ã£Â...   \n",
       "\n",
       "                        PRODUCT_URL_OUTPUT  \\\n",
       "0  https://shop.adidas.jp/products/AA0647/   \n",
       "1  https://shop.adidas.jp/products/AA0647/   \n",
       "2  https://shop.adidas.jp/products/AA0647/   \n",
       "3  https://shop.adidas.jp/products/AA0647/   \n",
       "4  https://shop.adidas.jp/products/AA0647/   \n",
       "\n",
       "                             IMAGE_SERVER_URL_OUTPUT  \n",
       "0  http://usporamap287.am.adsint.biz/zoomimages/1...  \n",
       "1  http://usporamap287.am.adsint.biz/zoomimages/1...  \n",
       "2  http://usporamap287.am.adsint.biz/zoomimages/1...  \n",
       "3  http://usporamap287.am.adsint.biz/zoomimages/1...  \n",
       "4  http://usporamap287.am.adsint.biz/zoomimages/1...  \n",
       "\n",
       "[5 rows x 62 columns]"
      ]
     },
     "execution_count": 4,
     "metadata": {},
     "output_type": "execute_result"
    }
   ],
   "source": [
    "# Checking first five rows of the loaded dataset\n",
    "data.head()"
   ]
  },
  {
   "cell_type": "markdown",
   "metadata": {},
   "source": [
    "### Data Cleaning and Processing"
   ]
  },
  {
   "cell_type": "code",
   "execution_count": 5,
   "metadata": {},
   "outputs": [],
   "source": [
    "# Creating ID field\n",
    "data[\"ID\"] = data.index"
   ]
  },
  {
   "cell_type": "code",
   "execution_count": 6,
   "metadata": {},
   "outputs": [],
   "source": [
    "# Selecting only the columns which will be required for further analysis\n",
    "data_req = data.loc[:,[\"ID\", \"companyName\", \"description\", \"division\",\"sportsCategory\", \"subBrand\", \"gender\", \\\n",
    "                       \"url\", \"ageGroup\", \"distributorName\", \"SUBBRAND_OUTPUT\"]]"
   ]
  },
  {
   "cell_type": "code",
   "execution_count": 7,
   "metadata": {},
   "outputs": [],
   "source": [
    "# Deleting original file to clear memory\n",
    "del data"
   ]
  },
  {
   "cell_type": "code",
   "execution_count": 9,
   "metadata": {},
   "outputs": [
    {
     "data": {
      "text/plain": [
       "'3æ\\x9c¬ç·\\x9aã\\x81®ã\\x83\\x87ã\\x82¶ã\\x82¤ã\\x83³ã\\x81\\x8cæ\\x96°ã\\x81\\x97ã\\x81\\x8fã\\x81ªã\\x81£ã\\x81\\x9fã\\x83¬ã\\x82¹ã\\x83\\x9dã\\x83³ã\\x82¹ã\\x82·ã\\x83ªã\\x83¼ã\\x82ºã\\x80\\x82æ¯\\x8eæ\\x97¥ã\\x81®ã\\x83©ã\\x83³ã\\x83\\x8bã\\x83³ã\\x82°ã\\x81\\x8bã\\x82\\x89æ\\x9c¬ç\\x95ªã\\x82·ã\\x83¼ã\\x83³ã\\x81¾ã\\x81§å¯¾å¿\\x9cã\\x81\\x99ã\\x82\\x8bã\\x80\\x81æ±\\x8eç\\x94¨æ\\x80§ã\\x81®ã\\x81\\x82ã\\x82\\x8bå\\x90¸æ±\\x97é\\x80\\x9fä¹¾ã\\x82¹ã\\x83ªã\\x83¼ã\\x83\\x96ã\\x83¬ã\\x82¹ã\\x82·ã\\x83£ã\\x83\\x84ã\\x80\\x82, Quality ï¼\\x9a ã\\x83\\x9dã\\x83ªã\\x82¨ã\\x82¹ã\\x83\\x86ã\\x83«100%, Composition ï¼\\x9a ã\\x83\\x80ã\\x83\\x96ã\\x83«ã\\x83\\x8bã\\x83\\x83ã\\x83\\x88, Country ï¼\\x9a Vietnam'"
      ]
     },
     "execution_count": 9,
     "metadata": {},
     "output_type": "execute_result"
    }
   ],
   "source": [
    "data_req.description[1]"
   ]
  },
  {
   "cell_type": "code",
   "execution_count": 8,
   "metadata": {},
   "outputs": [],
   "source": [
    "# Splitting into independent and Dependent Variable\n",
    "data_req_x = data_req.loc[:,[\"ID\", \"companyName\", \"description\", \"division\",\"sportsCategory\", \"subBrand\", \\\n",
    "                             \"gender\", \"url\", \"ageGroup\", \"distributorName\"]]\n",
    "data_req_y = data_req.loc[:, [\"SUBBRAND_OUTPUT\"]]"
   ]
  },
  {
   "cell_type": "code",
   "execution_count": 9,
   "metadata": {},
   "outputs": [],
   "source": [
    "# Filling NA values with unknown if Any\n",
    "data_req_x = data_req_x.fillna(\"unknown\")\n",
    "data_req = pd.concat([data_req_x, data_req_y], axis=1)"
   ]
  },
  {
   "cell_type": "code",
   "execution_count": 10,
   "metadata": {},
   "outputs": [],
   "source": [
    "# Combining all the columns together in a particular text\n",
    "data_req[\"description_output\"]  = data_req[\"companyName\"] +\" \" + data_req[\"description\"] +\\\n",
    "        \" \" + data_req[\"division\"] +\" \" + data_req[\"sportsCategory\"] +\" \" + data_req[\"subBrand\"]+\" \" + \\\n",
    "        data_req[\"gender\"]+\" \" + data_req[\"url\"]+\" \" + data_req[\"sportsCategory\"]+\" \" + data_req[\"ageGroup\"]+\" \" + \\\n",
    "        data_req[\"distributorName\"]"
   ]
  },
  {
   "cell_type": "code",
   "execution_count": 11,
   "metadata": {},
   "outputs": [],
   "source": [
    "# Renaming the columns\n",
    "data_req = data_req.rename(columns= {'subBrand' : 'subBrand_input', 'SUBBRAND_OUTPUT' : 'subBrand', \\\n",
    "                                     'description_output' : 'description', 'description' :'description_input'})"
   ]
  },
  {
   "cell_type": "code",
   "execution_count": 12,
   "metadata": {},
   "outputs": [],
   "source": [
    "# Coverting all the text to lower case\n",
    "data_req.subBrand = data_req.subBrand.str.lower()\n",
    "data_req.description = data_req.description.str.lower()"
   ]
  },
  {
   "cell_type": "code",
   "execution_count": 13,
   "metadata": {},
   "outputs": [],
   "source": [
    "# Taking Random Sample Index for train test split\n",
    "np.random.seed(123)\n",
    "data_req_sample = data_req.sample(frac=0.7)"
   ]
  },
  {
   "cell_type": "code",
   "execution_count": 14,
   "metadata": {},
   "outputs": [],
   "source": [
    "# Train and Test Split\n",
    "train = data_req.loc[data_req.index.isin(data_req_sample.index)]\n",
    "test = data_req.loc[~data_req.index.isin(data_req_sample.index)]"
   ]
  },
  {
   "cell_type": "code",
   "execution_count": 15,
   "metadata": {},
   "outputs": [
    {
     "name": "stderr",
     "output_type": "stream",
     "text": [
      "C:\\Users\\narendran.thesma\\AppData\\Local\\Continuum\\anaconda3\\lib\\site-packages\\ipykernel_launcher.py:2: SettingWithCopyWarning: \n",
      "A value is trying to be set on a copy of a slice from a DataFrame.\n",
      "Try using .loc[row_indexer,col_indexer] = value instead\n",
      "\n",
      "See the caveats in the documentation: http://pandas.pydata.org/pandas-docs/stable/indexing.html#indexing-view-versus-copy\n",
      "  \n",
      "C:\\Users\\narendran.thesma\\AppData\\Local\\Continuum\\anaconda3\\lib\\site-packages\\ipykernel_launcher.py:3: SettingWithCopyWarning: \n",
      "A value is trying to be set on a copy of a slice from a DataFrame.\n",
      "Try using .loc[row_indexer,col_indexer] = value instead\n",
      "\n",
      "See the caveats in the documentation: http://pandas.pydata.org/pandas-docs/stable/indexing.html#indexing-view-versus-copy\n",
      "  This is separate from the ipykernel package so we can avoid doing imports until\n"
     ]
    }
   ],
   "source": [
    "# Check will identify whether the dataset belongs either train or test set\n",
    "train[\"Check\"] = \"train\"\n",
    "test[\"Check\"] = \"test\""
   ]
  },
  {
   "cell_type": "code",
   "execution_count": 16,
   "metadata": {},
   "outputs": [],
   "source": [
    "# Appending all the data\n",
    "data_req = train.append(test)"
   ]
  },
  {
   "cell_type": "code",
   "execution_count": 17,
   "metadata": {},
   "outputs": [
    {
     "data": {
      "text/html": [
       "<div>\n",
       "<style scoped>\n",
       "    .dataframe tbody tr th:only-of-type {\n",
       "        vertical-align: middle;\n",
       "    }\n",
       "\n",
       "    .dataframe tbody tr th {\n",
       "        vertical-align: top;\n",
       "    }\n",
       "\n",
       "    .dataframe thead th {\n",
       "        text-align: right;\n",
       "    }\n",
       "</style>\n",
       "<table border=\"1\" class=\"dataframe\">\n",
       "  <thead>\n",
       "    <tr style=\"text-align: right;\">\n",
       "      <th></th>\n",
       "      <th>ID</th>\n",
       "      <th>companyName</th>\n",
       "      <th>description_input</th>\n",
       "      <th>division</th>\n",
       "      <th>sportsCategory</th>\n",
       "      <th>subBrand_input</th>\n",
       "      <th>gender</th>\n",
       "      <th>url</th>\n",
       "      <th>ageGroup</th>\n",
       "      <th>distributorName</th>\n",
       "      <th>subBrand</th>\n",
       "      <th>description</th>\n",
       "      <th>Check</th>\n",
       "    </tr>\n",
       "  </thead>\n",
       "  <tbody>\n",
       "    <tr>\n",
       "      <th>0</th>\n",
       "      <td>0</td>\n",
       "      <td>adidas</td>\n",
       "      <td>3本線のデザインが新しくなったレスポンスシリーズ。毎日のランニングから本番シーンまで対応する...</td>\n",
       "      <td>アパレル</td>\n",
       "      <td>ランニング</td>\n",
       "      <td>Performance</td>\n",
       "      <td>male</td>\n",
       "      <td>http://shop.adidas.jp/pc/item/detail.cgi?brand...</td>\n",
       "      <td>adults</td>\n",
       "      <td>own ecom</td>\n",
       "      <td>performance</td>\n",
       "      <td>adidas 3本線のデザインが新しくなったレスポンスシリーズ。毎日のランニングから本番シー...</td>\n",
       "      <td>train</td>\n",
       "    </tr>\n",
       "    <tr>\n",
       "      <th>1</th>\n",
       "      <td>1</td>\n",
       "      <td>adidas</td>\n",
       "      <td>3本線のデザインが新しくなったレスポンスシリーズ。毎日のランニングから本番シーンまで対応する...</td>\n",
       "      <td>アパレル</td>\n",
       "      <td>ランニング</td>\n",
       "      <td>Performance</td>\n",
       "      <td>male</td>\n",
       "      <td>http://shop.adidas.jp/pc/item/detail.cgi?brand...</td>\n",
       "      <td>adults</td>\n",
       "      <td>own ecom</td>\n",
       "      <td>performance</td>\n",
       "      <td>adidas 3本線のデザインが新しくなったレスポンスシリーズ。毎日のランニングから本番シー...</td>\n",
       "      <td>train</td>\n",
       "    </tr>\n",
       "    <tr>\n",
       "      <th>3</th>\n",
       "      <td>3</td>\n",
       "      <td>adidas</td>\n",
       "      <td>3本線のデザインが新しくなったレスポンスシリーズ。毎日のランニングから本番シーンまで対応する...</td>\n",
       "      <td>アパレル</td>\n",
       "      <td>ランニング</td>\n",
       "      <td>Performance</td>\n",
       "      <td>male</td>\n",
       "      <td>http://shop.adidas.jp/pc/item/detail.cgi?brand...</td>\n",
       "      <td>adults</td>\n",
       "      <td>own ecom</td>\n",
       "      <td>performance</td>\n",
       "      <td>adidas 3本線のデザインが新しくなったレスポンスシリーズ。毎日のランニングから本番シー...</td>\n",
       "      <td>train</td>\n",
       "    </tr>\n",
       "    <tr>\n",
       "      <th>5</th>\n",
       "      <td>5</td>\n",
       "      <td>adidas</td>\n",
       "      <td>3本線のデザインが新しくなったレスポンスシリーズ。毎日のランニングから本番シーンまで対応する...</td>\n",
       "      <td>アパレル</td>\n",
       "      <td>ランニング</td>\n",
       "      <td>Performance</td>\n",
       "      <td>male</td>\n",
       "      <td>http://shop.adidas.jp/pc/item/detail.cgi?brand...</td>\n",
       "      <td>adults</td>\n",
       "      <td>own ecom</td>\n",
       "      <td>performance</td>\n",
       "      <td>adidas 3本線のデザインが新しくなったレスポンスシリーズ。毎日のランニングから本番シー...</td>\n",
       "      <td>train</td>\n",
       "    </tr>\n",
       "    <tr>\n",
       "      <th>6</th>\n",
       "      <td>6</td>\n",
       "      <td>adidas</td>\n",
       "      <td>3本線のデザインが新しくなったレスポンスシリーズ。毎日のランニングから本番シーンまで対応する...</td>\n",
       "      <td>アパレル</td>\n",
       "      <td>ランニング</td>\n",
       "      <td>Performance</td>\n",
       "      <td>male</td>\n",
       "      <td>http://shop.adidas.jp/pc/item/detail.cgi?brand...</td>\n",
       "      <td>adults</td>\n",
       "      <td>own ecom</td>\n",
       "      <td>performance</td>\n",
       "      <td>adidas 3本線のデザインが新しくなったレスポンスシリーズ。毎日のランニングから本番シー...</td>\n",
       "      <td>train</td>\n",
       "    </tr>\n",
       "  </tbody>\n",
       "</table>\n",
       "</div>"
      ],
      "text/plain": [
       "   ID companyName                                  description_input division  \\\n",
       "0   0      adidas  3本線のデザインが新しくなったレスポンスシリーズ。毎日のランニングから本番シーンまで対応する...     アパレル   \n",
       "1   1      adidas  3本線のデザインが新しくなったレスポンスシリーズ。毎日のランニングから本番シーンまで対応する...     アパレル   \n",
       "3   3      adidas  3本線のデザインが新しくなったレスポンスシリーズ。毎日のランニングから本番シーンまで対応する...     アパレル   \n",
       "5   5      adidas  3本線のデザインが新しくなったレスポンスシリーズ。毎日のランニングから本番シーンまで対応する...     アパレル   \n",
       "6   6      adidas  3本線のデザインが新しくなったレスポンスシリーズ。毎日のランニングから本番シーンまで対応する...     アパレル   \n",
       "\n",
       "  sportsCategory subBrand_input gender  \\\n",
       "0          ランニング    Performance   male   \n",
       "1          ランニング    Performance   male   \n",
       "3          ランニング    Performance   male   \n",
       "5          ランニング    Performance   male   \n",
       "6          ランニング    Performance   male   \n",
       "\n",
       "                                                 url ageGroup distributorName  \\\n",
       "0  http://shop.adidas.jp/pc/item/detail.cgi?brand...   adults        own ecom   \n",
       "1  http://shop.adidas.jp/pc/item/detail.cgi?brand...   adults        own ecom   \n",
       "3  http://shop.adidas.jp/pc/item/detail.cgi?brand...   adults        own ecom   \n",
       "5  http://shop.adidas.jp/pc/item/detail.cgi?brand...   adults        own ecom   \n",
       "6  http://shop.adidas.jp/pc/item/detail.cgi?brand...   adults        own ecom   \n",
       "\n",
       "      subBrand                                        description  Check  \n",
       "0  performance  adidas 3本線のデザインが新しくなったレスポンスシリーズ。毎日のランニングから本番シー...  train  \n",
       "1  performance  adidas 3本線のデザインが新しくなったレスポンスシリーズ。毎日のランニングから本番シー...  train  \n",
       "3  performance  adidas 3本線のデザインが新しくなったレスポンスシリーズ。毎日のランニングから本番シー...  train  \n",
       "5  performance  adidas 3本線のデザインが新しくなったレスポンスシリーズ。毎日のランニングから本番シー...  train  \n",
       "6  performance  adidas 3本線のデザインが新しくなったレスポンスシリーズ。毎日のランニングから本番シー...  train  "
      ]
     },
     "execution_count": 17,
     "metadata": {},
     "output_type": "execute_result"
    }
   ],
   "source": [
    "data_req.head()"
   ]
  },
  {
   "cell_type": "code",
   "execution_count": 18,
   "metadata": {},
   "outputs": [],
   "source": [
    "# import tinysegmenter\n",
    "# segmenter = tinysegmenter.TinySegmenter()\n",
    "# words = [segmenter.tokenize(x) for x in data_req[\"description_input\"]]"
   ]
  },
  {
   "cell_type": "code",
   "execution_count": 19,
   "metadata": {},
   "outputs": [],
   "source": [
    "# Set Stop Words\n",
    "import pandas as pd\n",
    "import os\n",
    "\n",
    "# Use local data file or download from GitHub\n",
    "#docker_data_path = \"stopwords.csv\"\n",
    "docker_data_path = \"Japanese_SW_H2O.csv\"\n",
    "if os.path.isfile(docker_data_path):\n",
    "  data_path = docker_data_path\n",
    "else:\n",
    "  data_path = \"https://raw.githubusercontent.com/h2oai/h2o-tutorials/master/h2o-world-2017/nlp/stopwords.csv\"\n",
    "\n",
    "STOP_WORDS = pd.read_csv(data_path, header = 0)\n",
    "STOP_WORDS = list(STOP_WORDS['STOP_WORD'])"
   ]
  },
  {
   "cell_type": "code",
   "execution_count": 20,
   "metadata": {},
   "outputs": [],
   "source": [
    "#filtered_sentence = [w for w in words if not w in STOP_WORDS]"
   ]
  },
  {
   "cell_type": "code",
   "execution_count": 21,
   "metadata": {},
   "outputs": [],
   "source": [
    "# Saving the file\n",
    "# data_req.to_csv(\"data_req.csv\")"
   ]
  },
  {
   "cell_type": "code",
   "execution_count": 22,
   "metadata": {},
   "outputs": [
    {
     "name": "stdout",
     "output_type": "stream",
     "text": [
      "                      data_req:   4.1GiB\n",
      "                         train:   2.9GiB\n",
      "               data_req_sample:   2.8GiB\n",
      "                    data_req_x:   2.2GiB\n",
      "                          test:   1.2GiB\n",
      "                    data_req_y: 132.7MiB\n",
      "                            __:  20.9KiB\n",
      "                            _4:  20.9KiB\n",
      "                             _:   9.0KiB\n",
      "                           _17:   9.0KiB\n"
     ]
    }
   ],
   "source": [
    "import sys\n",
    "def sizeof_fmt(num, suffix='B'):\n",
    "    ''' By Fred Cirera, after https://stackoverflow.com/a/1094933/1870254'''\n",
    "    for unit in ['','Ki','Mi','Gi','Ti','Pi','Ei','Zi']:\n",
    "        if abs(num) < 1024.0:\n",
    "            return \"%3.1f%s%s\" % (num, unit, suffix)\n",
    "        num /= 1024.0\n",
    "    return \"%.1f%s%s\" % (num, 'Yi', suffix)\n",
    "\n",
    "for name, size in sorted(((name, sys.getsizeof(value)) for name,value in locals().items()),\n",
    "                         key= lambda x: -x[1])[:10]:\n",
    "    print(\"{:>30}: {:>8}\".format(name,sizeof_fmt(size)))"
   ]
  },
  {
   "cell_type": "code",
   "execution_count": 23,
   "metadata": {},
   "outputs": [],
   "source": [
    "#del data_req, data_req_sample, data_req_x, data_req_y"
   ]
  },
  {
   "cell_type": "markdown",
   "metadata": {},
   "source": [
    "## H2O"
   ]
  },
  {
   "cell_type": "code",
   "execution_count": 24,
   "metadata": {},
   "outputs": [
    {
     "name": "stderr",
     "output_type": "stream",
     "text": [
      "C:\\Users\\narendran.thesma\\AppData\\Local\\Continuum\\anaconda3\\lib\\site-packages\\h2o\\utils\\shared_utils.py:177: FutureWarning: Method .as_matrix will be removed in a future version. Use .values instead.\n",
      "  data = _handle_python_lists(python_obj.as_matrix().tolist(), -1)[1]\n"
     ]
    },
    {
     "ename": "UnicodeEncodeError",
     "evalue": "'charmap' codec can't encode characters in position 13-78: character maps to <undefined>",
     "output_type": "error",
     "traceback": [
      "\u001b[1;31m---------------------------------------------------------------------------\u001b[0m",
      "\u001b[1;31mUnicodeEncodeError\u001b[0m                        Traceback (most recent call last)",
      "\u001b[1;32m<ipython-input-24-51aa17c2128e>\u001b[0m in \u001b[0;36m<module>\u001b[1;34m()\u001b[0m\n\u001b[0;32m      1\u001b[0m \u001b[1;31m# Importing in h2o\u001b[0m\u001b[1;33m\u001b[0m\u001b[1;33m\u001b[0m\u001b[0m\n\u001b[0;32m      2\u001b[0m \u001b[1;31m# data_req = h2o.import_file('data_req.csv', col_types={\"description\" : \"string\"})\u001b[0m\u001b[1;33m\u001b[0m\u001b[1;33m\u001b[0m\u001b[0m\n\u001b[1;32m----> 3\u001b[1;33m \u001b[0mdata_req\u001b[0m \u001b[1;33m=\u001b[0m \u001b[0mh2o\u001b[0m\u001b[1;33m.\u001b[0m\u001b[0mH2OFrame\u001b[0m\u001b[1;33m(\u001b[0m\u001b[0mdata_req\u001b[0m\u001b[1;33m)\u001b[0m\u001b[1;33m\u001b[0m\u001b[0m\n\u001b[0m",
      "\u001b[1;32m~\\AppData\\Local\\Continuum\\anaconda3\\lib\\site-packages\\h2o\\frame.py\u001b[0m in \u001b[0;36m__init__\u001b[1;34m(self, python_obj, destination_frame, header, separator, column_names, column_types, na_strings)\u001b[0m\n\u001b[0;32m    106\u001b[0m         \u001b[1;32mif\u001b[0m \u001b[0mpython_obj\u001b[0m \u001b[1;32mis\u001b[0m \u001b[1;32mnot\u001b[0m \u001b[1;32mNone\u001b[0m\u001b[1;33m:\u001b[0m\u001b[1;33m\u001b[0m\u001b[0m\n\u001b[0;32m    107\u001b[0m             self._upload_python_object(python_obj, destination_frame, header, separator,\n\u001b[1;32m--> 108\u001b[1;33m                                        column_names, column_types, na_strings)\n\u001b[0m\u001b[0;32m    109\u001b[0m \u001b[1;33m\u001b[0m\u001b[0m\n\u001b[0;32m    110\u001b[0m     \u001b[1;33m@\u001b[0m\u001b[0mstaticmethod\u001b[0m\u001b[1;33m\u001b[0m\u001b[0m\n",
      "\u001b[1;32m~\\AppData\\Local\\Continuum\\anaconda3\\lib\\site-packages\\h2o\\frame.py\u001b[0m in \u001b[0;36m_upload_python_object\u001b[1;34m(self, python_obj, destination_frame, header, separator, column_names, column_types, na_strings)\u001b[0m\n\u001b[0;32m    145\u001b[0m                 \u001b[0mcsv_writer\u001b[0m\u001b[1;33m.\u001b[0m\u001b[0mwriterow\u001b[0m\u001b[1;33m(\u001b[0m\u001b[1;33m[\u001b[0m\u001b[0mrow\u001b[0m\u001b[1;33m.\u001b[0m\u001b[0mget\u001b[0m\u001b[1;33m(\u001b[0m\u001b[0mk\u001b[0m\u001b[1;33m,\u001b[0m \u001b[1;32mNone\u001b[0m\u001b[1;33m)\u001b[0m \u001b[1;32mfor\u001b[0m \u001b[0mk\u001b[0m \u001b[1;32min\u001b[0m \u001b[0mcol_header\u001b[0m\u001b[1;33m]\u001b[0m\u001b[1;33m)\u001b[0m\u001b[1;33m\u001b[0m\u001b[0m\n\u001b[0;32m    146\u001b[0m         \u001b[1;32melse\u001b[0m\u001b[1;33m:\u001b[0m\u001b[1;33m\u001b[0m\u001b[0m\n\u001b[1;32m--> 147\u001b[1;33m             \u001b[0mcsv_writer\u001b[0m\u001b[1;33m.\u001b[0m\u001b[0mwriterows\u001b[0m\u001b[1;33m(\u001b[0m\u001b[0mdata_to_write\u001b[0m\u001b[1;33m)\u001b[0m\u001b[1;33m\u001b[0m\u001b[0m\n\u001b[0m\u001b[0;32m    148\u001b[0m         \u001b[0mtmp_file\u001b[0m\u001b[1;33m.\u001b[0m\u001b[0mclose\u001b[0m\u001b[1;33m(\u001b[0m\u001b[1;33m)\u001b[0m  \u001b[1;31m# close the streams\u001b[0m\u001b[1;33m\u001b[0m\u001b[0m\n\u001b[0;32m    149\u001b[0m         \u001b[0mself\u001b[0m\u001b[1;33m.\u001b[0m\u001b[0m_upload_parse\u001b[0m\u001b[1;33m(\u001b[0m\u001b[0mtmp_path\u001b[0m\u001b[1;33m,\u001b[0m \u001b[0mdestination_frame\u001b[0m\u001b[1;33m,\u001b[0m \u001b[1;36m1\u001b[0m\u001b[1;33m,\u001b[0m \u001b[0mseparator\u001b[0m\u001b[1;33m,\u001b[0m \u001b[0mcolumn_names\u001b[0m\u001b[1;33m,\u001b[0m \u001b[0mcolumn_types\u001b[0m\u001b[1;33m,\u001b[0m \u001b[0mna_strings\u001b[0m\u001b[1;33m)\u001b[0m\u001b[1;33m\u001b[0m\u001b[0m\n",
      "\u001b[1;32m~\\AppData\\Local\\Continuum\\anaconda3\\lib\\encodings\\cp1252.py\u001b[0m in \u001b[0;36mencode\u001b[1;34m(self, input, final)\u001b[0m\n\u001b[0;32m     17\u001b[0m \u001b[1;32mclass\u001b[0m \u001b[0mIncrementalEncoder\u001b[0m\u001b[1;33m(\u001b[0m\u001b[0mcodecs\u001b[0m\u001b[1;33m.\u001b[0m\u001b[0mIncrementalEncoder\u001b[0m\u001b[1;33m)\u001b[0m\u001b[1;33m:\u001b[0m\u001b[1;33m\u001b[0m\u001b[0m\n\u001b[0;32m     18\u001b[0m     \u001b[1;32mdef\u001b[0m \u001b[0mencode\u001b[0m\u001b[1;33m(\u001b[0m\u001b[0mself\u001b[0m\u001b[1;33m,\u001b[0m \u001b[0minput\u001b[0m\u001b[1;33m,\u001b[0m \u001b[0mfinal\u001b[0m\u001b[1;33m=\u001b[0m\u001b[1;32mFalse\u001b[0m\u001b[1;33m)\u001b[0m\u001b[1;33m:\u001b[0m\u001b[1;33m\u001b[0m\u001b[0m\n\u001b[1;32m---> 19\u001b[1;33m         \u001b[1;32mreturn\u001b[0m \u001b[0mcodecs\u001b[0m\u001b[1;33m.\u001b[0m\u001b[0mcharmap_encode\u001b[0m\u001b[1;33m(\u001b[0m\u001b[0minput\u001b[0m\u001b[1;33m,\u001b[0m\u001b[0mself\u001b[0m\u001b[1;33m.\u001b[0m\u001b[0merrors\u001b[0m\u001b[1;33m,\u001b[0m\u001b[0mencoding_table\u001b[0m\u001b[1;33m)\u001b[0m\u001b[1;33m[\u001b[0m\u001b[1;36m0\u001b[0m\u001b[1;33m]\u001b[0m\u001b[1;33m\u001b[0m\u001b[0m\n\u001b[0m\u001b[0;32m     20\u001b[0m \u001b[1;33m\u001b[0m\u001b[0m\n\u001b[0;32m     21\u001b[0m \u001b[1;32mclass\u001b[0m \u001b[0mIncrementalDecoder\u001b[0m\u001b[1;33m(\u001b[0m\u001b[0mcodecs\u001b[0m\u001b[1;33m.\u001b[0m\u001b[0mIncrementalDecoder\u001b[0m\u001b[1;33m)\u001b[0m\u001b[1;33m:\u001b[0m\u001b[1;33m\u001b[0m\u001b[0m\n",
      "\u001b[1;31mUnicodeEncodeError\u001b[0m: 'charmap' codec can't encode characters in position 13-78: character maps to <undefined>"
     ]
    }
   ],
   "source": [
    "# Importing in h2o\n",
    "# data_req = h2o.import_file('data_req.csv', col_types={\"description\" : \"string\"})\n",
    "data_req = h2o.H2OFrame(data_req)"
   ]
  },
  {
   "cell_type": "code",
   "execution_count": 32,
   "metadata": {},
   "outputs": [
    {
     "ename": "UnicodeEncodeError",
     "evalue": "'latin-1' codec can't encode characters in position 8-73: ordinal not in range(256)",
     "output_type": "error",
     "traceback": [
      "\u001b[1;31m---------------------------------------------------------------------------\u001b[0m",
      "\u001b[1;31mUnicodeEncodeError\u001b[0m                        Traceback (most recent call last)",
      "\u001b[1;32m<ipython-input-32-684ce51fec39>\u001b[0m in \u001b[0;36m<module>\u001b[1;34m()\u001b[0m\n\u001b[1;32m----> 1\u001b[1;33m \u001b[0mdata_req\u001b[0m\u001b[1;33m.\u001b[0m\u001b[0mdescription\u001b[0m\u001b[1;33m[\u001b[0m\u001b[1;36m2\u001b[0m\u001b[1;33m]\u001b[0m\u001b[1;33m.\u001b[0m\u001b[0mencode\u001b[0m\u001b[1;33m(\u001b[0m\u001b[1;34m'latin-1'\u001b[0m\u001b[1;33m)\u001b[0m\u001b[1;33m\u001b[0m\u001b[0m\n\u001b[0m",
      "\u001b[1;31mUnicodeEncodeError\u001b[0m: 'latin-1' codec can't encode characters in position 8-73: ordinal not in range(256)"
     ]
    }
   ],
   "source": [
    "data_req.description[2].encode('latin-1')"
   ]
  },
  {
   "cell_type": "code",
   "execution_count": 20,
   "metadata": {},
   "outputs": [],
   "source": [
    "# Set Stop Words\n",
    "import pandas as pd\n",
    "import os\n",
    "\n",
    "# Use local data file or download from GitHub\n",
    "#docker_data_path = \"stopwords.csv\"\n",
    "docker_data_path = \"Japanese_SW_H2O.csv\"\n",
    "if os.path.isfile(docker_data_path):\n",
    "  data_path = docker_data_path\n",
    "else:\n",
    "  data_path = \"https://raw.githubusercontent.com/h2oai/h2o-tutorials/master/h2o-world-2017/nlp/stopwords.csv\"\n",
    "\n",
    "STOP_WORDS = pd.read_csv(data_path, header = 0)\n",
    "STOP_WORDS = list(STOP_WORDS['STOP_WORD'])"
   ]
  },
  {
   "cell_type": "code",
   "execution_count": 23,
   "metadata": {},
   "outputs": [],
   "source": []
  },
  {
   "cell_type": "code",
   "execution_count": 25,
   "metadata": {},
   "outputs": [
    {
     "data": {
      "text/html": [
       "<table>\n",
       "<thead>\n",
       "<tr><th>description_input                                                                                                                                                                                                                                                                                                         </th></tr>\n",
       "</thead>\n",
       "<tbody>\n",
       "<tr><td>3æœ¬ç·šã�®ãƒ‡ã‚¶ã‚¤ãƒ³ã�Œæ–°ã�—ã��ã�ªã�£ã�Ÿãƒ¬ã‚¹ãƒ�ãƒ³ã‚¹ã‚·ãƒªãƒ¼ã‚ºã€‚æ¯Žæ—¥ã�®ãƒ©ãƒ³ãƒ‹ãƒ³ã‚°ã�‹ã‚‰æœ¬ç•ªã‚·ãƒ¼ãƒ³ã�¾ã�§å¯¾å¿œã�™ã‚‹ã€�æ±Žç”¨æ€§ã�®ã�‚ã‚‹å�¸æ±—é€Ÿä¹¾ã‚¹ãƒªãƒ¼ãƒ–ãƒ¬ã‚¹ã‚·ãƒ£ãƒ„ã€‚, Quality ï¼š ãƒ�ãƒªã‚¨ã‚¹ãƒ†ãƒ«100%, Composition ï¼š ãƒ€ãƒ–ãƒ«ãƒ‹ãƒƒãƒˆ, Country ï¼š Vietnam                      </td></tr>\n",
       "<tr><td>3æœ¬ç·šã�®ãƒ‡ã‚¶ã‚¤ãƒ³ã�Œæ–°ã�—ã��ã�ªã�£ã�Ÿãƒ¬ã‚¹ãƒ�ãƒ³ã‚¹ã‚·ãƒªãƒ¼ã‚ºã€‚æ¯Žæ—¥ã�®ãƒ©ãƒ³ãƒ‹ãƒ³ã‚°ã�‹ã‚‰æœ¬ç•ªã‚·ãƒ¼ãƒ³ã�¾ã�§å¯¾å¿œã�™ã‚‹ã€�æ±Žç”¨æ€§ã�®ã�‚ã‚‹å�¸æ±—é€Ÿä¹¾ã‚¹ãƒªãƒ¼ãƒ–ãƒ¬ã‚¹ã‚·ãƒ£ãƒ„ã€‚, Quality ï¼š ãƒ�ãƒªã‚¨ã‚¹ãƒ†ãƒ«100%, Composition ï¼š ãƒ€ãƒ–ãƒ«ãƒ‹ãƒƒãƒˆ, Country ï¼š Vietnam                      </td></tr>\n",
       "<tr><td>3æœ¬ç·šã�®ãƒ‡ã‚¶ã‚¤ãƒ³ã�Œæ–°ã�—ã��ã�ªã�£ã�Ÿãƒ¬ã‚¹ãƒ�ãƒ³ã‚¹ã‚·ãƒªãƒ¼ã‚ºã€‚æ¯Žæ—¥ã�®ãƒ©ãƒ³ãƒ‹ãƒ³ã‚°ã�‹ã‚‰æœ¬ç•ªã‚·ãƒ¼ãƒ³ã�¾ã�§å¯¾å¿œã�™ã‚‹ã€�æ±Žç”¨æ€§ã�®ã�‚ã‚‹å�¸æ±—é€Ÿä¹¾ã‚¹ãƒªãƒ¼ãƒ–ãƒ¬ã‚¹ã‚·ãƒ£ãƒ„ã€‚, Quality ï¼š ãƒ�ãƒªã‚¨ã‚¹ãƒ†ãƒ«100%, Composition ï¼š ãƒ€ãƒ–ãƒ«ãƒ‹ãƒƒãƒˆ, Country ï¼š Vietnam                      </td></tr>\n",
       "<tr><td>3æœ¬ç·šã�®ãƒ‡ã‚¶ã‚¤ãƒ³ã�Œæ–°ã�—ã��ã�ªã�£ã�Ÿãƒ¬ã‚¹ãƒ�ãƒ³ã‚¹ã‚·ãƒªãƒ¼ã‚ºã€‚æ¯Žæ—¥ã�®ãƒ©ãƒ³ãƒ‹ãƒ³ã‚°ã�‹ã‚‰æœ¬ç•ªã‚·ãƒ¼ãƒ³ã�¾ã�§å¯¾å¿œã�™ã‚‹ã€�æ±Žç”¨æ€§ã�®ã�‚ã‚‹å�¸æ±—é€Ÿä¹¾ã‚¹ãƒªãƒ¼ãƒ–ãƒ¬ã‚¹ã‚·ãƒ£ãƒ„ã€‚, Quality ï¼š ãƒ�ãƒªã‚¨ã‚¹ãƒ†ãƒ«100%, Composition ï¼š ãƒ€ãƒ–ãƒ«ãƒ‹ãƒƒãƒˆ, Country ï¼š Vietnam                      </td></tr>\n",
       "<tr><td>3æœ¬ç·šã�®ãƒ‡ã‚¶ã‚¤ãƒ³ã�Œæ–°ã�—ã��ã�ªã�£ã�Ÿãƒ¬ã‚¹ãƒ�ãƒ³ã‚¹ã‚·ãƒªãƒ¼ã‚ºã€‚æ¯Žæ—¥ã�®ãƒ©ãƒ³ãƒ‹ãƒ³ã‚°ã�‹ã‚‰æœ¬ç•ªã‚·ãƒ¼ãƒ³ã�¾ã�§å¯¾å¿œã�™ã‚‹ã€�æ±Žç”¨æ€§ã�®ã�‚ã‚‹å�¸æ±—é€Ÿä¹¾ã‚¹ãƒªãƒ¼ãƒ–ãƒ¬ã‚¹ã‚·ãƒ£ãƒ„ã€‚, Quality ï¼š ãƒ�ãƒªã‚¨ã‚¹ãƒ†ãƒ«100%, Composition ï¼š ãƒ€ãƒ–ãƒ«ãƒ‹ãƒƒãƒˆ, Country ï¼š Indonesia/Vietnam            </td></tr>\n",
       "<tr><td>3æœ¬ç·šã�®ãƒ‡ã‚¶ã‚¤ãƒ³ã�Œæ–°ã�—ã��ã�ªã�£ã�Ÿãƒ¬ã‚¹ãƒ�ãƒ³ã‚¹ã‚·ãƒªãƒ¼ã‚ºã€‚æ¯Žæ—¥ã�®ãƒ©ãƒ³ãƒ‹ãƒ³ã‚°ã�‹ã‚‰æœ¬ç•ªã‚·ãƒ¼ãƒ³ã�¾ã�§å¯¾å¿œã�™ã‚‹ã€�æ±Žç”¨æ€§ã�®ã�‚ã‚‹å�¸æ±—é€Ÿä¹¾ã‚¹ãƒªãƒ¼ãƒ–ãƒ¬ã‚¹ã‚·ãƒ£ãƒ„ã€‚, Quality ï¼š ãƒ�ãƒªã‚¨ã‚¹ãƒ†ãƒ«100%, Composition ï¼š ãƒ€ãƒ–ãƒ«ãƒ‹ãƒƒãƒˆ, Country ï¼š Indonesia/Vietnam            </td></tr>\n",
       "<tr><td>3æœ¬ç·šã�®ãƒ‡ã‚¶ã‚¤ãƒ³ã�Œæ–°ã�—ã��ã�ªã�£ã�Ÿãƒ¬ã‚¹ãƒ�ãƒ³ã‚¹ã‚·ãƒªãƒ¼ã‚ºã€‚æ¯Žæ—¥ã�®ãƒ©ãƒ³ãƒ‹ãƒ³ã‚°ã�‹ã‚‰æœ¬ç•ªã‚·ãƒ¼ãƒ³ã�¾ã�§å¯¾å¿œã�™ã‚‹ã€�æ±Žç”¨æ€§ã�®ã�‚ã‚‹å�¸æ±—é€Ÿä¹¾ã‚¹ãƒªãƒ¼ãƒ–ãƒ¬ã‚¹ã‚·ãƒ£ãƒ„ã€‚, Quality ï¼š ãƒ�ãƒªã‚¨ã‚¹ãƒ†ãƒ«100%, Composition ï¼š ãƒ€ãƒ–ãƒ«ãƒ‹ãƒƒãƒˆ, Country ï¼š Indonesia/Vietnam            </td></tr>\n",
       "<tr><td>3æœ¬ç·šã�®ãƒ‡ã‚¶ã‚¤ãƒ³ã�Œæ–°ã�—ã��ã�ªã�£ã�Ÿãƒ¬ã‚¹ãƒ�ãƒ³ã‚¹ã‚·ãƒªãƒ¼ã‚ºã€‚æ¯Žæ—¥ã�®ãƒ©ãƒ³ãƒ‹ãƒ³ã‚°ã�‹ã‚‰æœ¬ç•ªã‚·ãƒ¼ãƒ³ã�¾ã�§å¯¾å¿œã�™ã‚‹ã€�æ±Žç”¨æ€§ã�®ã�‚ã‚‹å�¸æ±—é€Ÿä¹¾ã‚¹ãƒªãƒ¼ãƒ–ãƒ¬ã‚¹ã‚·ãƒ£ãƒ„ã€‚, ã‚µã‚¤ã‚º ï¼š Quality ï¼š ãƒ�ãƒªã‚¨ã‚¹ãƒ†ãƒ«100% Composition ï¼š ãƒ€ãƒ–ãƒ«ãƒ‹ãƒƒãƒˆ Country ï¼š Indonesia/Vietnam</td></tr>\n",
       "<tr><td>3æœ¬ç·šã�®ãƒ‡ã‚¶ã‚¤ãƒ³ã�Œæ–°ã�—ã��ã�ªã�£ã�Ÿãƒ¬ã‚¹ãƒ�ãƒ³ã‚¹ã‚·ãƒªãƒ¼ã‚ºã€‚æ¯Žæ—¥ã�®ãƒ©ãƒ³ãƒ‹ãƒ³ã‚°ã�‹ã‚‰æœ¬ç•ªã‚·ãƒ¼ãƒ³ã�¾ã�§å¯¾å¿œã�™ã‚‹ã€�æ±Žç”¨æ€§ã�®ã�‚ã‚‹å�¸æ±—é€Ÿä¹¾ã‚¹ãƒªãƒ¼ãƒ–ãƒ¬ã‚¹ã‚·ãƒ£ãƒ„ã€‚, ã‚µã‚¤ã‚º ï¼š Quality ï¼š ãƒ�ãƒªã‚¨ã‚¹ãƒ†ãƒ«100% Composition ï¼š ãƒ€ãƒ–ãƒ«ãƒ‹ãƒƒãƒˆ Country ï¼š Indonesia/Vietnam</td></tr>\n",
       "<tr><td>3æœ¬ç·šã�®ãƒ‡ã‚¶ã‚¤ãƒ³ã�Œæ–°ã�—ã��ã�ªã�£ã�Ÿãƒ¬ã‚¹ãƒ�ãƒ³ã‚¹ã‚·ãƒªãƒ¼ã‚ºã€‚æ¯Žæ—¥ã�®ãƒ©ãƒ³ãƒ‹ãƒ³ã‚°ã�‹ã‚‰æœ¬ç•ªã‚·ãƒ¼ãƒ³ã�¾ã�§å¯¾å¿œã�™ã‚‹ã€�æ±Žç”¨æ€§ã�®ã�‚ã‚‹å�¸æ±—é€Ÿä¹¾ã‚¹ãƒªãƒ¼ãƒ–ãƒ¬ã‚¹ã‚·ãƒ£ãƒ„ã€‚, ã‚µã‚¤ã‚º ï¼š Quality ï¼š ãƒ�ãƒªã‚¨ã‚¹ãƒ†ãƒ«100% Composition ï¼š ãƒ€ãƒ–ãƒ«ãƒ‹ãƒƒãƒˆ Country ï¼š Indonesia/Vietnam</td></tr>\n",
       "</tbody>\n",
       "</table>"
      ]
     },
     "metadata": {},
     "output_type": "display_data"
    },
    {
     "data": {
      "text/plain": []
     },
     "execution_count": 25,
     "metadata": {},
     "output_type": "execute_result"
    }
   ],
   "source": [
    "data_req[\"description_input\"]"
   ]
  },
  {
   "cell_type": "code",
   "execution_count": 21,
   "metadata": {},
   "outputs": [],
   "source": [
    "# Tokenization\n",
    "def tokenize(sentences, stop_word = STOP_WORDS):\n",
    "    tokenized = sentences.tokenize(\"\\\\W+\")\n",
    "    tokenized_lower = tokenized.tolower()\n",
    "    tokenized_filtered = tokenized_lower[(tokenized_lower.nchar() >= 2) | (tokenized_lower.isna()),:]\n",
    "    tokenized_words = tokenized_filtered[tokenized_filtered.grep(\"[0-9]\",invert=True,output_logical=True),:]\n",
    "    tokenized_words = tokenized_words[(tokenized_words.isna()) | (~ tokenized_words.isin(STOP_WORDS)),:]\n",
    "    return tokenized_words"
   ]
  },
  {
   "cell_type": "code",
   "execution_count": 22,
   "metadata": {},
   "outputs": [],
   "source": [
    "# Calling the function\n",
    "words = tokenize(data_req[\"description\"])"
   ]
  },
  {
   "cell_type": "markdown",
   "metadata": {},
   "source": [
    "#### Word2Vec"
   ]
  },
  {
   "cell_type": "code",
   "execution_count": 23,
   "metadata": {},
   "outputs": [
    {
     "name": "stdout",
     "output_type": "stream",
     "text": [
      "word2vec Model Build progress: |██████████████████████████████████████████| 100%\n"
     ]
    }
   ],
   "source": [
    "# Train Word2Vec Model\n",
    "from h2o.estimators.word2vec import H2OWord2vecEstimator\n",
    "\n",
    "w2v_model = H2OWord2vecEstimator(vec_size = 50, model_id = \"w2v.hex\")\n",
    "w2v_model.train(training_frame=words)"
   ]
  },
  {
   "cell_type": "code",
   "execution_count": 24,
   "metadata": {},
   "outputs": [],
   "source": [
    "# Aggregating all the word2vec vectors based on mean\n",
    "desc_vecs = w2v_model.transform(words, aggregate_method = \"AVERAGE\")"
   ]
  },
  {
   "cell_type": "code",
   "execution_count": 25,
   "metadata": {},
   "outputs": [
    {
     "data": {
      "text/html": [
       "<table>\n",
       "<thead>\n",
       "<tr><th style=\"text-align: right;\">      C1</th><th style=\"text-align: right;\">      C2</th><th style=\"text-align: right;\">      C3</th><th style=\"text-align: right;\">       C4</th><th style=\"text-align: right;\">      C5</th><th style=\"text-align: right;\">      C6</th><th style=\"text-align: right;\">       C7</th><th style=\"text-align: right;\">        C8</th><th style=\"text-align: right;\">      C9</th><th style=\"text-align: right;\">       C10</th><th style=\"text-align: right;\">      C11</th><th style=\"text-align: right;\">      C12</th><th style=\"text-align: right;\">      C13</th><th style=\"text-align: right;\">       C14</th><th style=\"text-align: right;\">     C15</th><th style=\"text-align: right;\">      C16</th><th style=\"text-align: right;\">      C17</th><th style=\"text-align: right;\">      C18</th><th style=\"text-align: right;\">      C19</th><th style=\"text-align: right;\">      C20</th><th style=\"text-align: right;\">     C21</th><th style=\"text-align: right;\">        C22</th><th style=\"text-align: right;\">      C23</th><th style=\"text-align: right;\">      C24</th><th style=\"text-align: right;\">     C25</th><th style=\"text-align: right;\">     C26</th><th style=\"text-align: right;\">       C27</th><th style=\"text-align: right;\">      C28</th><th style=\"text-align: right;\">     C29</th><th style=\"text-align: right;\">     C30</th><th style=\"text-align: right;\">      C31</th><th style=\"text-align: right;\">      C32</th><th style=\"text-align: right;\">      C33</th><th style=\"text-align: right;\">       C34</th><th style=\"text-align: right;\">      C35</th><th style=\"text-align: right;\">      C36</th><th style=\"text-align: right;\">     C37</th><th style=\"text-align: right;\">      C38</th><th style=\"text-align: right;\">      C39</th><th style=\"text-align: right;\">       C40</th><th style=\"text-align: right;\">     C41</th><th style=\"text-align: right;\">     C42</th><th style=\"text-align: right;\">      C43</th><th style=\"text-align: right;\">      C44</th><th style=\"text-align: right;\">       C45</th><th style=\"text-align: right;\">      C46</th><th style=\"text-align: right;\">     C47</th><th style=\"text-align: right;\">      C48</th><th style=\"text-align: right;\">      C49</th><th style=\"text-align: right;\">     C50</th></tr>\n",
       "</thead>\n",
       "<tbody>\n",
       "<tr><td style=\"text-align: right;\">0.151042</td><td style=\"text-align: right;\">0.208919</td><td style=\"text-align: right;\">0.18817 </td><td style=\"text-align: right;\">-0.521608</td><td style=\"text-align: right;\">0.164113</td><td style=\"text-align: right;\">0.144418</td><td style=\"text-align: right;\">-0.126361</td><td style=\"text-align: right;\">-0.0646127</td><td style=\"text-align: right;\">0.373893</td><td style=\"text-align: right;\">-0.0487004</td><td style=\"text-align: right;\">-0.320441</td><td style=\"text-align: right;\">-0.507956</td><td style=\"text-align: right;\">-0.357577</td><td style=\"text-align: right;\">-0.188898 </td><td style=\"text-align: right;\">0.581144</td><td style=\"text-align: right;\">-0.247713</td><td style=\"text-align: right;\">-0.292484</td><td style=\"text-align: right;\">-0.339221</td><td style=\"text-align: right;\">0.0950193</td><td style=\"text-align: right;\">-0.458782</td><td style=\"text-align: right;\">0.418765</td><td style=\"text-align: right;\">-0.077721  </td><td style=\"text-align: right;\">0.15416  </td><td style=\"text-align: right;\">-0.172581</td><td style=\"text-align: right;\">0.420274</td><td style=\"text-align: right;\">0.21713 </td><td style=\"text-align: right;\">-0.0663211</td><td style=\"text-align: right;\">0.145793 </td><td style=\"text-align: right;\">0.261842</td><td style=\"text-align: right;\">0.455968</td><td style=\"text-align: right;\">0.122289 </td><td style=\"text-align: right;\">0.0933465</td><td style=\"text-align: right;\">-0.406763</td><td style=\"text-align: right;\">-0.0388896</td><td style=\"text-align: right;\">-0.382376</td><td style=\"text-align: right;\">-0.278956</td><td style=\"text-align: right;\">0.203235</td><td style=\"text-align: right;\">-0.160908</td><td style=\"text-align: right;\">-0.327544</td><td style=\"text-align: right;\">-0.0767825</td><td style=\"text-align: right;\">0.454548</td><td style=\"text-align: right;\">0.175343</td><td style=\"text-align: right;\">0.146022 </td><td style=\"text-align: right;\">-0.236436</td><td style=\"text-align: right;\">-0.0216308</td><td style=\"text-align: right;\">-0.320829</td><td style=\"text-align: right;\">0.257975</td><td style=\"text-align: right;\">0.0940957</td><td style=\"text-align: right;\">-0.30406 </td><td style=\"text-align: right;\">0.246219</td></tr>\n",
       "<tr><td style=\"text-align: right;\">0.151042</td><td style=\"text-align: right;\">0.208919</td><td style=\"text-align: right;\">0.18817 </td><td style=\"text-align: right;\">-0.521608</td><td style=\"text-align: right;\">0.164113</td><td style=\"text-align: right;\">0.144418</td><td style=\"text-align: right;\">-0.126361</td><td style=\"text-align: right;\">-0.0646127</td><td style=\"text-align: right;\">0.373893</td><td style=\"text-align: right;\">-0.0487004</td><td style=\"text-align: right;\">-0.320441</td><td style=\"text-align: right;\">-0.507956</td><td style=\"text-align: right;\">-0.357577</td><td style=\"text-align: right;\">-0.188898 </td><td style=\"text-align: right;\">0.581144</td><td style=\"text-align: right;\">-0.247713</td><td style=\"text-align: right;\">-0.292484</td><td style=\"text-align: right;\">-0.339221</td><td style=\"text-align: right;\">0.0950193</td><td style=\"text-align: right;\">-0.458782</td><td style=\"text-align: right;\">0.418765</td><td style=\"text-align: right;\">-0.077721  </td><td style=\"text-align: right;\">0.15416  </td><td style=\"text-align: right;\">-0.172581</td><td style=\"text-align: right;\">0.420274</td><td style=\"text-align: right;\">0.21713 </td><td style=\"text-align: right;\">-0.0663211</td><td style=\"text-align: right;\">0.145793 </td><td style=\"text-align: right;\">0.261842</td><td style=\"text-align: right;\">0.455968</td><td style=\"text-align: right;\">0.122289 </td><td style=\"text-align: right;\">0.0933465</td><td style=\"text-align: right;\">-0.406763</td><td style=\"text-align: right;\">-0.0388896</td><td style=\"text-align: right;\">-0.382376</td><td style=\"text-align: right;\">-0.278956</td><td style=\"text-align: right;\">0.203235</td><td style=\"text-align: right;\">-0.160908</td><td style=\"text-align: right;\">-0.327544</td><td style=\"text-align: right;\">-0.0767825</td><td style=\"text-align: right;\">0.454548</td><td style=\"text-align: right;\">0.175343</td><td style=\"text-align: right;\">0.146022 </td><td style=\"text-align: right;\">-0.236436</td><td style=\"text-align: right;\">-0.0216308</td><td style=\"text-align: right;\">-0.320829</td><td style=\"text-align: right;\">0.257975</td><td style=\"text-align: right;\">0.0940957</td><td style=\"text-align: right;\">-0.30406 </td><td style=\"text-align: right;\">0.246219</td></tr>\n",
       "<tr><td style=\"text-align: right;\">0.151042</td><td style=\"text-align: right;\">0.208919</td><td style=\"text-align: right;\">0.18817 </td><td style=\"text-align: right;\">-0.521608</td><td style=\"text-align: right;\">0.164113</td><td style=\"text-align: right;\">0.144418</td><td style=\"text-align: right;\">-0.126361</td><td style=\"text-align: right;\">-0.0646127</td><td style=\"text-align: right;\">0.373893</td><td style=\"text-align: right;\">-0.0487004</td><td style=\"text-align: right;\">-0.320441</td><td style=\"text-align: right;\">-0.507956</td><td style=\"text-align: right;\">-0.357577</td><td style=\"text-align: right;\">-0.188898 </td><td style=\"text-align: right;\">0.581144</td><td style=\"text-align: right;\">-0.247713</td><td style=\"text-align: right;\">-0.292484</td><td style=\"text-align: right;\">-0.339221</td><td style=\"text-align: right;\">0.0950193</td><td style=\"text-align: right;\">-0.458782</td><td style=\"text-align: right;\">0.418765</td><td style=\"text-align: right;\">-0.077721  </td><td style=\"text-align: right;\">0.15416  </td><td style=\"text-align: right;\">-0.172581</td><td style=\"text-align: right;\">0.420274</td><td style=\"text-align: right;\">0.21713 </td><td style=\"text-align: right;\">-0.0663211</td><td style=\"text-align: right;\">0.145793 </td><td style=\"text-align: right;\">0.261842</td><td style=\"text-align: right;\">0.455968</td><td style=\"text-align: right;\">0.122289 </td><td style=\"text-align: right;\">0.0933465</td><td style=\"text-align: right;\">-0.406763</td><td style=\"text-align: right;\">-0.0388896</td><td style=\"text-align: right;\">-0.382376</td><td style=\"text-align: right;\">-0.278956</td><td style=\"text-align: right;\">0.203235</td><td style=\"text-align: right;\">-0.160908</td><td style=\"text-align: right;\">-0.327544</td><td style=\"text-align: right;\">-0.0767825</td><td style=\"text-align: right;\">0.454548</td><td style=\"text-align: right;\">0.175343</td><td style=\"text-align: right;\">0.146022 </td><td style=\"text-align: right;\">-0.236436</td><td style=\"text-align: right;\">-0.0216308</td><td style=\"text-align: right;\">-0.320829</td><td style=\"text-align: right;\">0.257975</td><td style=\"text-align: right;\">0.0940957</td><td style=\"text-align: right;\">-0.30406 </td><td style=\"text-align: right;\">0.246219</td></tr>\n",
       "<tr><td style=\"text-align: right;\">0.151042</td><td style=\"text-align: right;\">0.208919</td><td style=\"text-align: right;\">0.18817 </td><td style=\"text-align: right;\">-0.521608</td><td style=\"text-align: right;\">0.164113</td><td style=\"text-align: right;\">0.144418</td><td style=\"text-align: right;\">-0.126361</td><td style=\"text-align: right;\">-0.0646127</td><td style=\"text-align: right;\">0.373893</td><td style=\"text-align: right;\">-0.0487004</td><td style=\"text-align: right;\">-0.320441</td><td style=\"text-align: right;\">-0.507956</td><td style=\"text-align: right;\">-0.357577</td><td style=\"text-align: right;\">-0.188898 </td><td style=\"text-align: right;\">0.581144</td><td style=\"text-align: right;\">-0.247713</td><td style=\"text-align: right;\">-0.292484</td><td style=\"text-align: right;\">-0.339221</td><td style=\"text-align: right;\">0.0950193</td><td style=\"text-align: right;\">-0.458782</td><td style=\"text-align: right;\">0.418765</td><td style=\"text-align: right;\">-0.077721  </td><td style=\"text-align: right;\">0.15416  </td><td style=\"text-align: right;\">-0.172581</td><td style=\"text-align: right;\">0.420274</td><td style=\"text-align: right;\">0.21713 </td><td style=\"text-align: right;\">-0.0663211</td><td style=\"text-align: right;\">0.145793 </td><td style=\"text-align: right;\">0.261842</td><td style=\"text-align: right;\">0.455968</td><td style=\"text-align: right;\">0.122289 </td><td style=\"text-align: right;\">0.0933465</td><td style=\"text-align: right;\">-0.406763</td><td style=\"text-align: right;\">-0.0388896</td><td style=\"text-align: right;\">-0.382376</td><td style=\"text-align: right;\">-0.278956</td><td style=\"text-align: right;\">0.203235</td><td style=\"text-align: right;\">-0.160908</td><td style=\"text-align: right;\">-0.327544</td><td style=\"text-align: right;\">-0.0767825</td><td style=\"text-align: right;\">0.454548</td><td style=\"text-align: right;\">0.175343</td><td style=\"text-align: right;\">0.146022 </td><td style=\"text-align: right;\">-0.236436</td><td style=\"text-align: right;\">-0.0216308</td><td style=\"text-align: right;\">-0.320829</td><td style=\"text-align: right;\">0.257975</td><td style=\"text-align: right;\">0.0940957</td><td style=\"text-align: right;\">-0.30406 </td><td style=\"text-align: right;\">0.246219</td></tr>\n",
       "<tr><td style=\"text-align: right;\">0.182177</td><td style=\"text-align: right;\">0.188743</td><td style=\"text-align: right;\">0.179984</td><td style=\"text-align: right;\">-0.507489</td><td style=\"text-align: right;\">0.140141</td><td style=\"text-align: right;\">0.13162 </td><td style=\"text-align: right;\">-0.117426</td><td style=\"text-align: right;\">-0.0546705</td><td style=\"text-align: right;\">0.368626</td><td style=\"text-align: right;\">-0.0208381</td><td style=\"text-align: right;\">-0.310735</td><td style=\"text-align: right;\">-0.516312</td><td style=\"text-align: right;\">-0.368484</td><td style=\"text-align: right;\">-0.175156 </td><td style=\"text-align: right;\">0.559753</td><td style=\"text-align: right;\">-0.233001</td><td style=\"text-align: right;\">-0.301229</td><td style=\"text-align: right;\">-0.332209</td><td style=\"text-align: right;\">0.0814978</td><td style=\"text-align: right;\">-0.467506</td><td style=\"text-align: right;\">0.414939</td><td style=\"text-align: right;\">-0.0885934 </td><td style=\"text-align: right;\">0.166624 </td><td style=\"text-align: right;\">-0.179984</td><td style=\"text-align: right;\">0.424789</td><td style=\"text-align: right;\">0.198819</td><td style=\"text-align: right;\">-0.0701677</td><td style=\"text-align: right;\">0.14386  </td><td style=\"text-align: right;\">0.226233</td><td style=\"text-align: right;\">0.447576</td><td style=\"text-align: right;\">0.130125 </td><td style=\"text-align: right;\">0.104474 </td><td style=\"text-align: right;\">-0.393007</td><td style=\"text-align: right;\">-0.0186761</td><td style=\"text-align: right;\">-0.359576</td><td style=\"text-align: right;\">-0.263217</td><td style=\"text-align: right;\">0.193339</td><td style=\"text-align: right;\">-0.174966</td><td style=\"text-align: right;\">-0.329823</td><td style=\"text-align: right;\">-0.0812072</td><td style=\"text-align: right;\">0.445157</td><td style=\"text-align: right;\">0.187606</td><td style=\"text-align: right;\">0.170005 </td><td style=\"text-align: right;\">-0.252286</td><td style=\"text-align: right;\">-0.0323662</td><td style=\"text-align: right;\">-0.320342</td><td style=\"text-align: right;\">0.259634</td><td style=\"text-align: right;\">0.106503 </td><td style=\"text-align: right;\">-0.310418</td><td style=\"text-align: right;\">0.249899</td></tr>\n",
       "<tr><td style=\"text-align: right;\">0.182177</td><td style=\"text-align: right;\">0.188743</td><td style=\"text-align: right;\">0.179984</td><td style=\"text-align: right;\">-0.507489</td><td style=\"text-align: right;\">0.140141</td><td style=\"text-align: right;\">0.13162 </td><td style=\"text-align: right;\">-0.117426</td><td style=\"text-align: right;\">-0.0546705</td><td style=\"text-align: right;\">0.368626</td><td style=\"text-align: right;\">-0.0208381</td><td style=\"text-align: right;\">-0.310735</td><td style=\"text-align: right;\">-0.516312</td><td style=\"text-align: right;\">-0.368484</td><td style=\"text-align: right;\">-0.175156 </td><td style=\"text-align: right;\">0.559753</td><td style=\"text-align: right;\">-0.233001</td><td style=\"text-align: right;\">-0.301229</td><td style=\"text-align: right;\">-0.332209</td><td style=\"text-align: right;\">0.0814978</td><td style=\"text-align: right;\">-0.467506</td><td style=\"text-align: right;\">0.414939</td><td style=\"text-align: right;\">-0.0885934 </td><td style=\"text-align: right;\">0.166624 </td><td style=\"text-align: right;\">-0.179984</td><td style=\"text-align: right;\">0.424789</td><td style=\"text-align: right;\">0.198819</td><td style=\"text-align: right;\">-0.0701677</td><td style=\"text-align: right;\">0.14386  </td><td style=\"text-align: right;\">0.226233</td><td style=\"text-align: right;\">0.447576</td><td style=\"text-align: right;\">0.130125 </td><td style=\"text-align: right;\">0.104474 </td><td style=\"text-align: right;\">-0.393007</td><td style=\"text-align: right;\">-0.0186761</td><td style=\"text-align: right;\">-0.359576</td><td style=\"text-align: right;\">-0.263217</td><td style=\"text-align: right;\">0.193339</td><td style=\"text-align: right;\">-0.174966</td><td style=\"text-align: right;\">-0.329823</td><td style=\"text-align: right;\">-0.0812072</td><td style=\"text-align: right;\">0.445157</td><td style=\"text-align: right;\">0.187606</td><td style=\"text-align: right;\">0.170005 </td><td style=\"text-align: right;\">-0.252286</td><td style=\"text-align: right;\">-0.0323662</td><td style=\"text-align: right;\">-0.320342</td><td style=\"text-align: right;\">0.259634</td><td style=\"text-align: right;\">0.106503 </td><td style=\"text-align: right;\">-0.310418</td><td style=\"text-align: right;\">0.249899</td></tr>\n",
       "<tr><td style=\"text-align: right;\">0.182177</td><td style=\"text-align: right;\">0.188743</td><td style=\"text-align: right;\">0.179984</td><td style=\"text-align: right;\">-0.507489</td><td style=\"text-align: right;\">0.140141</td><td style=\"text-align: right;\">0.13162 </td><td style=\"text-align: right;\">-0.117426</td><td style=\"text-align: right;\">-0.0546705</td><td style=\"text-align: right;\">0.368626</td><td style=\"text-align: right;\">-0.0208381</td><td style=\"text-align: right;\">-0.310735</td><td style=\"text-align: right;\">-0.516312</td><td style=\"text-align: right;\">-0.368484</td><td style=\"text-align: right;\">-0.175156 </td><td style=\"text-align: right;\">0.559753</td><td style=\"text-align: right;\">-0.233001</td><td style=\"text-align: right;\">-0.301229</td><td style=\"text-align: right;\">-0.332209</td><td style=\"text-align: right;\">0.0814978</td><td style=\"text-align: right;\">-0.467506</td><td style=\"text-align: right;\">0.414939</td><td style=\"text-align: right;\">-0.0885934 </td><td style=\"text-align: right;\">0.166624 </td><td style=\"text-align: right;\">-0.179984</td><td style=\"text-align: right;\">0.424789</td><td style=\"text-align: right;\">0.198819</td><td style=\"text-align: right;\">-0.0701677</td><td style=\"text-align: right;\">0.14386  </td><td style=\"text-align: right;\">0.226233</td><td style=\"text-align: right;\">0.447576</td><td style=\"text-align: right;\">0.130125 </td><td style=\"text-align: right;\">0.104474 </td><td style=\"text-align: right;\">-0.393007</td><td style=\"text-align: right;\">-0.0186761</td><td style=\"text-align: right;\">-0.359576</td><td style=\"text-align: right;\">-0.263217</td><td style=\"text-align: right;\">0.193339</td><td style=\"text-align: right;\">-0.174966</td><td style=\"text-align: right;\">-0.329823</td><td style=\"text-align: right;\">-0.0812072</td><td style=\"text-align: right;\">0.445157</td><td style=\"text-align: right;\">0.187606</td><td style=\"text-align: right;\">0.170005 </td><td style=\"text-align: right;\">-0.252286</td><td style=\"text-align: right;\">-0.0323662</td><td style=\"text-align: right;\">-0.320342</td><td style=\"text-align: right;\">0.259634</td><td style=\"text-align: right;\">0.106503 </td><td style=\"text-align: right;\">-0.310418</td><td style=\"text-align: right;\">0.249899</td></tr>\n",
       "<tr><td style=\"text-align: right;\">0.167224</td><td style=\"text-align: right;\">0.125688</td><td style=\"text-align: right;\">0.152917</td><td style=\"text-align: right;\">-0.522784</td><td style=\"text-align: right;\">0.148515</td><td style=\"text-align: right;\">0.154765</td><td style=\"text-align: right;\">-0.143288</td><td style=\"text-align: right;\">-0.122556 </td><td style=\"text-align: right;\">0.383035</td><td style=\"text-align: right;\"> 0.0301125</td><td style=\"text-align: right;\">-0.258921</td><td style=\"text-align: right;\">-0.529786</td><td style=\"text-align: right;\">-0.329902</td><td style=\"text-align: right;\">-0.0780514</td><td style=\"text-align: right;\">0.476764</td><td style=\"text-align: right;\">-0.239702</td><td style=\"text-align: right;\">-0.190759</td><td style=\"text-align: right;\">-0.343219</td><td style=\"text-align: right;\">0.0811497</td><td style=\"text-align: right;\">-0.407324</td><td style=\"text-align: right;\">0.42773 </td><td style=\"text-align: right;\"> 0.00151298</td><td style=\"text-align: right;\">0.0933596</td><td style=\"text-align: right;\">-0.19994 </td><td style=\"text-align: right;\">0.391843</td><td style=\"text-align: right;\">0.115095</td><td style=\"text-align: right;\">-0.0362737</td><td style=\"text-align: right;\">0.0749875</td><td style=\"text-align: right;\">0.203885</td><td style=\"text-align: right;\">0.428841</td><td style=\"text-align: right;\">0.0868274</td><td style=\"text-align: right;\">0.112157 </td><td style=\"text-align: right;\">-0.319901</td><td style=\"text-align: right;\">-0.0381619</td><td style=\"text-align: right;\">-0.302649</td><td style=\"text-align: right;\">-0.319302</td><td style=\"text-align: right;\">0.145725</td><td style=\"text-align: right;\">-0.150996</td><td style=\"text-align: right;\">-0.33681 </td><td style=\"text-align: right;\">-0.0381251</td><td style=\"text-align: right;\">0.403731</td><td style=\"text-align: right;\">0.226363</td><td style=\"text-align: right;\">0.0817555</td><td style=\"text-align: right;\">-0.227957</td><td style=\"text-align: right;\">-0.0791981</td><td style=\"text-align: right;\">-0.33861 </td><td style=\"text-align: right;\">0.23283 </td><td style=\"text-align: right;\">0.131252 </td><td style=\"text-align: right;\">-0.268956</td><td style=\"text-align: right;\">0.183787</td></tr>\n",
       "<tr><td style=\"text-align: right;\">0.167224</td><td style=\"text-align: right;\">0.125688</td><td style=\"text-align: right;\">0.152917</td><td style=\"text-align: right;\">-0.522784</td><td style=\"text-align: right;\">0.148515</td><td style=\"text-align: right;\">0.154765</td><td style=\"text-align: right;\">-0.143288</td><td style=\"text-align: right;\">-0.122556 </td><td style=\"text-align: right;\">0.383035</td><td style=\"text-align: right;\"> 0.0301125</td><td style=\"text-align: right;\">-0.258921</td><td style=\"text-align: right;\">-0.529786</td><td style=\"text-align: right;\">-0.329902</td><td style=\"text-align: right;\">-0.0780514</td><td style=\"text-align: right;\">0.476764</td><td style=\"text-align: right;\">-0.239702</td><td style=\"text-align: right;\">-0.190759</td><td style=\"text-align: right;\">-0.343219</td><td style=\"text-align: right;\">0.0811497</td><td style=\"text-align: right;\">-0.407324</td><td style=\"text-align: right;\">0.42773 </td><td style=\"text-align: right;\"> 0.00151298</td><td style=\"text-align: right;\">0.0933596</td><td style=\"text-align: right;\">-0.19994 </td><td style=\"text-align: right;\">0.391843</td><td style=\"text-align: right;\">0.115095</td><td style=\"text-align: right;\">-0.0362737</td><td style=\"text-align: right;\">0.0749875</td><td style=\"text-align: right;\">0.203885</td><td style=\"text-align: right;\">0.428841</td><td style=\"text-align: right;\">0.0868274</td><td style=\"text-align: right;\">0.112157 </td><td style=\"text-align: right;\">-0.319901</td><td style=\"text-align: right;\">-0.0381619</td><td style=\"text-align: right;\">-0.302649</td><td style=\"text-align: right;\">-0.319302</td><td style=\"text-align: right;\">0.145725</td><td style=\"text-align: right;\">-0.150996</td><td style=\"text-align: right;\">-0.33681 </td><td style=\"text-align: right;\">-0.0381251</td><td style=\"text-align: right;\">0.403731</td><td style=\"text-align: right;\">0.226363</td><td style=\"text-align: right;\">0.0817555</td><td style=\"text-align: right;\">-0.227957</td><td style=\"text-align: right;\">-0.0791981</td><td style=\"text-align: right;\">-0.33861 </td><td style=\"text-align: right;\">0.23283 </td><td style=\"text-align: right;\">0.131252 </td><td style=\"text-align: right;\">-0.268956</td><td style=\"text-align: right;\">0.183787</td></tr>\n",
       "<tr><td style=\"text-align: right;\">0.167224</td><td style=\"text-align: right;\">0.125688</td><td style=\"text-align: right;\">0.152917</td><td style=\"text-align: right;\">-0.522784</td><td style=\"text-align: right;\">0.148515</td><td style=\"text-align: right;\">0.154765</td><td style=\"text-align: right;\">-0.143288</td><td style=\"text-align: right;\">-0.122556 </td><td style=\"text-align: right;\">0.383035</td><td style=\"text-align: right;\"> 0.0301125</td><td style=\"text-align: right;\">-0.258921</td><td style=\"text-align: right;\">-0.529786</td><td style=\"text-align: right;\">-0.329902</td><td style=\"text-align: right;\">-0.0780514</td><td style=\"text-align: right;\">0.476764</td><td style=\"text-align: right;\">-0.239702</td><td style=\"text-align: right;\">-0.190759</td><td style=\"text-align: right;\">-0.343219</td><td style=\"text-align: right;\">0.0811497</td><td style=\"text-align: right;\">-0.407324</td><td style=\"text-align: right;\">0.42773 </td><td style=\"text-align: right;\"> 0.00151298</td><td style=\"text-align: right;\">0.0933596</td><td style=\"text-align: right;\">-0.19994 </td><td style=\"text-align: right;\">0.391843</td><td style=\"text-align: right;\">0.115095</td><td style=\"text-align: right;\">-0.0362737</td><td style=\"text-align: right;\">0.0749875</td><td style=\"text-align: right;\">0.203885</td><td style=\"text-align: right;\">0.428841</td><td style=\"text-align: right;\">0.0868274</td><td style=\"text-align: right;\">0.112157 </td><td style=\"text-align: right;\">-0.319901</td><td style=\"text-align: right;\">-0.0381619</td><td style=\"text-align: right;\">-0.302649</td><td style=\"text-align: right;\">-0.319302</td><td style=\"text-align: right;\">0.145725</td><td style=\"text-align: right;\">-0.150996</td><td style=\"text-align: right;\">-0.33681 </td><td style=\"text-align: right;\">-0.0381251</td><td style=\"text-align: right;\">0.403731</td><td style=\"text-align: right;\">0.226363</td><td style=\"text-align: right;\">0.0817555</td><td style=\"text-align: right;\">-0.227957</td><td style=\"text-align: right;\">-0.0791981</td><td style=\"text-align: right;\">-0.33861 </td><td style=\"text-align: right;\">0.23283 </td><td style=\"text-align: right;\">0.131252 </td><td style=\"text-align: right;\">-0.268956</td><td style=\"text-align: right;\">0.183787</td></tr>\n",
       "</tbody>\n",
       "</table>"
      ]
     },
     "metadata": {},
     "output_type": "display_data"
    },
    {
     "data": {
      "text/plain": []
     },
     "execution_count": 25,
     "metadata": {},
     "output_type": "execute_result"
    }
   ],
   "source": [
    "# Sample word2vec dataframe\n",
    "desc_vecs.head()"
   ]
  },
  {
   "cell_type": "code",
   "execution_count": 26,
   "metadata": {},
   "outputs": [],
   "source": [
    "# Binding word2vec vector with data_req dataframe\n",
    "data_req = data_req.cbind(desc_vecs)"
   ]
  },
  {
   "cell_type": "code",
   "execution_count": 27,
   "metadata": {},
   "outputs": [],
   "source": [
    "# Splitting train and test set\n",
    "train = data_req[data_req[\"Check\"] == \"train\"]\n",
    "test  = data_req[data_req[\"Check\"] == \"test\"]"
   ]
  },
  {
   "cell_type": "code",
   "execution_count": 28,
   "metadata": {},
   "outputs": [],
   "source": [
    "# Selecting predictors and response variables\n",
    "predictors = desc_vecs.names\n",
    "response = 'subBrand'"
   ]
  },
  {
   "cell_type": "code",
   "execution_count": 29,
   "metadata": {},
   "outputs": [],
   "source": [
    "del data_req"
   ]
  },
  {
   "cell_type": "markdown",
   "metadata": {},
   "source": [
    "#### Modelling"
   ]
  },
  {
   "cell_type": "code",
   "execution_count": 30,
   "metadata": {},
   "outputs": [
    {
     "name": "stdout",
     "output_type": "stream",
     "text": [
      "gbm Model Build progress: |███████████████████████████████████████████████| 100%\n"
     ]
    }
   ],
   "source": [
    "# H2O gradient Boosting model\n",
    "from h2o.estimators import H2OGradientBoostingEstimator\n",
    "\n",
    "gbm_embeddings = H2OGradientBoostingEstimator(stopping_metric = \"logloss\", stopping_tolerance = 0.001,\n",
    "                                              stopping_rounds = 5, score_tree_interval = 10,\n",
    "                                              model_id = \"gbm_embeddings.hex\"\n",
    "                                             )\n",
    "gbm_embeddings.train(x = predictors, y = response, \n",
    "                   training_frame = train, validation_frame = test\n",
    "                  )"
   ]
  },
  {
   "cell_type": "code",
   "execution_count": 31,
   "metadata": {},
   "outputs": [
    {
     "name": "stdout",
     "output_type": "stream",
     "text": [
      "gbm prediction progress: |████████████████████████████████████████████████| 100%\n"
     ]
    }
   ],
   "source": [
    "# Predicting test data output\n",
    "test_pred = gbm_embeddings.predict(test_data=test)"
   ]
  },
  {
   "cell_type": "code",
   "execution_count": 32,
   "metadata": {},
   "outputs": [],
   "source": [
    "# Assigning actuals to predicted test data\n",
    "test_pred[\"subBrand\"] = test[\"subBrand\"]"
   ]
  },
  {
   "cell_type": "code",
   "execution_count": 33,
   "metadata": {},
   "outputs": [],
   "source": [
    "test_pred[\"ID\"] = test[\"ID\"]"
   ]
  },
  {
   "cell_type": "code",
   "execution_count": 34,
   "metadata": {},
   "outputs": [],
   "source": [
    "# Converting H2O dataframe to Pandas DataFrame\n",
    "test_pred = test_pred.as_data_frame()"
   ]
  },
  {
   "cell_type": "code",
   "execution_count": 35,
   "metadata": {},
   "outputs": [
    {
     "name": "stdout",
     "output_type": "stream",
     "text": [
      "Accuracy Score : 0.9020803383786906\n",
      "F1 Score: 0.9007466822405237\n",
      "Precision: 0.8990410235141955\n",
      "Recall: 0.9034949910825785\n"
     ]
    }
   ],
   "source": [
    "print(f'Accuracy Score : {accuracy_score(test_pred[\"subBrand\"], test_pred[\"predict\"] )}')\n",
    "print(f'F1 Score: {f1_score(test_pred[\"subBrand\"], test_pred[\"predict\"] , average=\"macro\")}')\n",
    "print(f'Precision: {precision_score(test_pred.subBrand, test_pred.predict , average=\"macro\")}')\n",
    "print(f'Recall: {recall_score(test_pred.subBrand, test_pred.predict , average=\"macro\")}')"
   ]
  },
  {
   "cell_type": "code",
   "execution_count": null,
   "metadata": {},
   "outputs": [],
   "source": []
  }
 ],
 "metadata": {
  "kernelspec": {
   "display_name": "Python 3",
   "language": "python",
   "name": "python3"
  },
  "language_info": {
   "codemirror_mode": {
    "name": "ipython",
    "version": 3
   },
   "file_extension": ".py",
   "mimetype": "text/x-python",
   "name": "python",
   "nbconvert_exporter": "python",
   "pygments_lexer": "ipython3",
   "version": "3.6.5"
  }
 },
 "nbformat": 4,
 "nbformat_minor": 2
}

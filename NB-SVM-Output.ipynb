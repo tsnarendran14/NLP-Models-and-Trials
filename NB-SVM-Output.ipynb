{
 "cells": [
  {
   "cell_type": "code",
   "execution_count": 2,
   "metadata": {},
   "outputs": [],
   "source": [
    "import numpy as np\n",
    "import pandas as pd\n",
    "import matplotlib.pyplot as plt\n",
    "import seaborn as sns\n",
    "import time\n",
    "import nltk\n",
    "from nltk.stem.porter import PorterStemmer\n",
    "from sklearn.feature_extraction.text import CountVectorizer, TfidfVectorizer\n",
    "from sklearn.metrics import accuracy_score, f1_score, precision_score, recall_score, classification_report, confusion_matrix\n",
    "\n",
    "%matplotlib inline"
   ]
  },
  {
   "cell_type": "code",
   "execution_count": 3,
   "metadata": {},
   "outputs": [],
   "source": [
    "#nltk.download('punkt')"
   ]
  },
  {
   "cell_type": "code",
   "execution_count": 4,
   "metadata": {},
   "outputs": [
    {
     "data": {
      "text/html": [
       "<div>\n",
       "<style scoped>\n",
       "    .dataframe tbody tr th:only-of-type {\n",
       "        vertical-align: middle;\n",
       "    }\n",
       "\n",
       "    .dataframe tbody tr th {\n",
       "        vertical-align: top;\n",
       "    }\n",
       "\n",
       "    .dataframe thead th {\n",
       "        text-align: right;\n",
       "    }\n",
       "</style>\n",
       "<table border=\"1\" class=\"dataframe\">\n",
       "  <thead>\n",
       "    <tr style=\"text-align: right;\">\n",
       "      <th></th>\n",
       "      <th>COMPANY</th>\n",
       "      <th>COUNTRY</th>\n",
       "      <th>DISTRIBUTOR</th>\n",
       "      <th>ARTICLE ID</th>\n",
       "      <th>MODEL NUMBER</th>\n",
       "      <th>ARTICLE NAME</th>\n",
       "      <th>SUBBRAND</th>\n",
       "      <th>SPORTS CATEGORY</th>\n",
       "      <th>PRODUCT DIVISION</th>\n",
       "      <th>PRODUCT GROUP</th>\n",
       "      <th>...</th>\n",
       "      <th>CURRENT PRICE IN EUR</th>\n",
       "      <th>INITIAL PRICE IN SELECTED CURRENCY</th>\n",
       "      <th>CURRENT PRICE IN SELECTED CURRENCY</th>\n",
       "      <th>SELECTED CURRENCY</th>\n",
       "      <th>PRODUCT INTRODUCTION DATE</th>\n",
       "      <th>DISCOUNTED SINCE</th>\n",
       "      <th>PRODUCT EXIT DATE</th>\n",
       "      <th>PRODUCT DESCRIPTION</th>\n",
       "      <th>PRODUCT URL</th>\n",
       "      <th>IMAGE-SERVER URL</th>\n",
       "    </tr>\n",
       "  </thead>\n",
       "  <tbody>\n",
       "    <tr>\n",
       "      <th>0</th>\n",
       "      <td>Nike</td>\n",
       "      <td>USA</td>\n",
       "      <td>Own eCom</td>\n",
       "      <td>837786-603</td>\n",
       "      <td>837786</td>\n",
       "      <td>KD 8 'Aunt Pearl' Premium Big Kids' Basketball...</td>\n",
       "      <td>Performance</td>\n",
       "      <td>Basketball</td>\n",
       "      <td>Footwear</td>\n",
       "      <td>Performance Footwear</td>\n",
       "      <td>...</td>\n",
       "      <td>56.5239</td>\n",
       "      <td>121.80</td>\n",
       "      <td>56.5239</td>\n",
       "      <td>EUR</td>\n",
       "      <td>2/29/2016</td>\n",
       "      <td>11/9/2016</td>\n",
       "      <td>9/18/2017</td>\n",
       "      <td>DYNAMIC VERSATILITY. INSPIRED STYLE.; The KD 8...</td>\n",
       "      <td>https://store.nike.com/us/en_us/pd/kd-8-aunt-p...</td>\n",
       "      <td>http://usporamap287.am.adsint.biz/zoomimages/1...</td>\n",
       "    </tr>\n",
       "    <tr>\n",
       "      <th>1</th>\n",
       "      <td>Nike</td>\n",
       "      <td>USA</td>\n",
       "      <td>Own eCom</td>\n",
       "      <td>810455-421</td>\n",
       "      <td>810455</td>\n",
       "      <td>LeBron 13 Transportation Kids' Adjustable Hat</td>\n",
       "      <td>Sport Inspired</td>\n",
       "      <td>Lifestyle</td>\n",
       "      <td>Accessories</td>\n",
       "      <td>Headwear</td>\n",
       "      <td>...</td>\n",
       "      <td>17.3739</td>\n",
       "      <td>24.36</td>\n",
       "      <td>17.3739</td>\n",
       "      <td>EUR</td>\n",
       "      <td>2/29/2016</td>\n",
       "      <td>4/4/2016</td>\n",
       "      <td>5/2/2016</td>\n",
       "      <td>LEBRON TRANSPORTATION HAT The LeBron 13 Transp...</td>\n",
       "      <td>http://store.nike.com/us/en_us/pd/lebron-13-tr...</td>\n",
       "      <td>http://usporamap287.am.adsint.biz/zoomimages/1...</td>\n",
       "    </tr>\n",
       "    <tr>\n",
       "      <th>2</th>\n",
       "      <td>Nike</td>\n",
       "      <td>USA</td>\n",
       "      <td>Own eCom</td>\n",
       "      <td>807940-010</td>\n",
       "      <td>807940</td>\n",
       "      <td>Nike SB Cherry Blossom Perforated Trucker Hat</td>\n",
       "      <td>Sport Inspired</td>\n",
       "      <td>Skate</td>\n",
       "      <td>Accessories</td>\n",
       "      <td>Headwear</td>\n",
       "      <td>...</td>\n",
       "      <td>27.8400</td>\n",
       "      <td>27.84</td>\n",
       "      <td>27.8400</td>\n",
       "      <td>EUR</td>\n",
       "      <td>2/29/2016</td>\n",
       "      <td>Not discounted yet</td>\n",
       "      <td>3/21/2016</td>\n",
       "      <td>BREATHABLE COMFORT The Nike SB Cherry Blossom ...</td>\n",
       "      <td>http://store.nike.com/us/en_us/pd/sb-cherry-bl...</td>\n",
       "      <td>http://usporamap287.am.adsint.biz/zoomimages/1...</td>\n",
       "    </tr>\n",
       "    <tr>\n",
       "      <th>3</th>\n",
       "      <td>Nike</td>\n",
       "      <td>USA</td>\n",
       "      <td>Own eCom</td>\n",
       "      <td>749502-100</td>\n",
       "      <td>749502</td>\n",
       "      <td>Nike Cortez Big Kids' Shoe</td>\n",
       "      <td>Sport Inspired</td>\n",
       "      <td>Lifestyle</td>\n",
       "      <td>Footwear</td>\n",
       "      <td>Sport Inspired Footwear</td>\n",
       "      <td>...</td>\n",
       "      <td>39.1239</td>\n",
       "      <td>52.20</td>\n",
       "      <td>39.1239</td>\n",
       "      <td>EUR</td>\n",
       "      <td>2/29/2016</td>\n",
       "      <td>2/9/2017</td>\n",
       "      <td>4/10/2017</td>\n",
       "      <td>A CLASSIC, REBORN. The Nike Cortez BigÂ Kids' ...</td>\n",
       "      <td>http://store.nike.com/us/en_us/pd/cortez-big-k...</td>\n",
       "      <td>http://usporamap287.am.adsint.biz/zoomimages/1...</td>\n",
       "    </tr>\n",
       "    <tr>\n",
       "      <th>4</th>\n",
       "      <td>Nike</td>\n",
       "      <td>USA</td>\n",
       "      <td>Own eCom</td>\n",
       "      <td>746735-404</td>\n",
       "      <td>746735</td>\n",
       "      <td>Nike Golf AW84 OX Adjustable Hat</td>\n",
       "      <td>Performance</td>\n",
       "      <td>Golf</td>\n",
       "      <td>Accessories</td>\n",
       "      <td>Headwear</td>\n",
       "      <td>...</td>\n",
       "      <td>17.3739</td>\n",
       "      <td>20.88</td>\n",
       "      <td>17.3739</td>\n",
       "      <td>EUR</td>\n",
       "      <td>2/29/2016</td>\n",
       "      <td>6/30/2016</td>\n",
       "      <td>10/10/2016</td>\n",
       "      <td>PREMIUM LOOK. LIGHTWEIGHT FIT. The Nike Golf A...</td>\n",
       "      <td>http://store.nike.com/us/en_us/pd/golf-aw84-ox...</td>\n",
       "      <td>http://usporamap287.am.adsint.biz/zoomimages/1...</td>\n",
       "    </tr>\n",
       "  </tbody>\n",
       "</table>\n",
       "<p>5 rows × 32 columns</p>\n",
       "</div>"
      ],
      "text/plain": [
       "  COMPANY COUNTRY DISTRIBUTOR  ARTICLE ID MODEL NUMBER  \\\n",
       "0    Nike     USA    Own eCom  837786-603       837786   \n",
       "1    Nike     USA    Own eCom  810455-421       810455   \n",
       "2    Nike     USA    Own eCom  807940-010       807940   \n",
       "3    Nike     USA    Own eCom  749502-100       749502   \n",
       "4    Nike     USA    Own eCom  746735-404       746735   \n",
       "\n",
       "                                        ARTICLE NAME        SUBBRAND  \\\n",
       "0  KD 8 'Aunt Pearl' Premium Big Kids' Basketball...     Performance   \n",
       "1      LeBron 13 Transportation Kids' Adjustable Hat  Sport Inspired   \n",
       "2      Nike SB Cherry Blossom Perforated Trucker Hat  Sport Inspired   \n",
       "3                         Nike Cortez Big Kids' Shoe  Sport Inspired   \n",
       "4                   Nike Golf AW84 OX Adjustable Hat     Performance   \n",
       "\n",
       "  SPORTS CATEGORY PRODUCT DIVISION            PRODUCT GROUP  \\\n",
       "0      Basketball         Footwear     Performance Footwear   \n",
       "1       Lifestyle      Accessories                 Headwear   \n",
       "2           Skate      Accessories                 Headwear   \n",
       "3       Lifestyle         Footwear  Sport Inspired Footwear   \n",
       "4            Golf      Accessories                 Headwear   \n",
       "\n",
       "                         ...                         CURRENT PRICE IN EUR  \\\n",
       "0                        ...                                      56.5239   \n",
       "1                        ...                                      17.3739   \n",
       "2                        ...                                      27.8400   \n",
       "3                        ...                                      39.1239   \n",
       "4                        ...                                      17.3739   \n",
       "\n",
       "  INITIAL PRICE IN SELECTED CURRENCY CURRENT PRICE IN SELECTED CURRENCY  \\\n",
       "0                             121.80                            56.5239   \n",
       "1                              24.36                            17.3739   \n",
       "2                              27.84                            27.8400   \n",
       "3                              52.20                            39.1239   \n",
       "4                              20.88                            17.3739   \n",
       "\n",
       "  SELECTED CURRENCY PRODUCT INTRODUCTION DATE    DISCOUNTED SINCE  \\\n",
       "0               EUR                 2/29/2016           11/9/2016   \n",
       "1               EUR                 2/29/2016            4/4/2016   \n",
       "2               EUR                 2/29/2016  Not discounted yet   \n",
       "3               EUR                 2/29/2016            2/9/2017   \n",
       "4               EUR                 2/29/2016           6/30/2016   \n",
       "\n",
       "  PRODUCT EXIT DATE                                PRODUCT DESCRIPTION  \\\n",
       "0         9/18/2017  DYNAMIC VERSATILITY. INSPIRED STYLE.; The KD 8...   \n",
       "1          5/2/2016  LEBRON TRANSPORTATION HAT The LeBron 13 Transp...   \n",
       "2         3/21/2016  BREATHABLE COMFORT The Nike SB Cherry Blossom ...   \n",
       "3         4/10/2017  A CLASSIC, REBORN. The Nike Cortez BigÂ Kids' ...   \n",
       "4        10/10/2016  PREMIUM LOOK. LIGHTWEIGHT FIT. The Nike Golf A...   \n",
       "\n",
       "                                         PRODUCT URL  \\\n",
       "0  https://store.nike.com/us/en_us/pd/kd-8-aunt-p...   \n",
       "1  http://store.nike.com/us/en_us/pd/lebron-13-tr...   \n",
       "2  http://store.nike.com/us/en_us/pd/sb-cherry-bl...   \n",
       "3  http://store.nike.com/us/en_us/pd/cortez-big-k...   \n",
       "4  http://store.nike.com/us/en_us/pd/golf-aw84-ox...   \n",
       "\n",
       "                                    IMAGE-SERVER URL  \n",
       "0  http://usporamap287.am.adsint.biz/zoomimages/1...  \n",
       "1  http://usporamap287.am.adsint.biz/zoomimages/1...  \n",
       "2  http://usporamap287.am.adsint.biz/zoomimages/1...  \n",
       "3  http://usporamap287.am.adsint.biz/zoomimages/1...  \n",
       "4  http://usporamap287.am.adsint.biz/zoomimages/1...  \n",
       "\n",
       "[5 rows x 32 columns]"
      ]
     },
     "execution_count": 4,
     "metadata": {},
     "output_type": "execute_result"
    }
   ],
   "source": [
    "data = pd.read_csv(\"output_merged_25oct.csv\", encoding='latin-1')\n",
    "data.head()"
   ]
  },
  {
   "cell_type": "code",
   "execution_count": 5,
   "metadata": {},
   "outputs": [
    {
     "data": {
      "text/plain": [
       "COMPANY                                    0\n",
       "COUNTRY                                    0\n",
       "DISTRIBUTOR                                0\n",
       "ARTICLE ID                                 0\n",
       "MODEL NUMBER                               0\n",
       "ARTICLE NAME                              19\n",
       "SUBBRAND                                   0\n",
       "SPORTS CATEGORY                            0\n",
       "PRODUCT DIVISION                           0\n",
       "PRODUCT GROUP                              0\n",
       "PRODUCT TYPE                               0\n",
       "FRANCHISE                                 20\n",
       "TECHNOLOGIES                          146388\n",
       "COLOUR GROUP                               0\n",
       "COLOUR                                  7285\n",
       "GENDER                                     0\n",
       "AGE GROUP                                  0\n",
       "CONSUMER RATING                            0\n",
       "INITIAL PRICE IN LOCAL CURRENCY            0\n",
       "CURRENT PRICE IN LOCAL CURRENCY            0\n",
       "LOCAL CURRENCY                             0\n",
       "INITIAL PRICE IN EUR                       0\n",
       "CURRENT PRICE IN EUR                       0\n",
       "INITIAL PRICE IN SELECTED CURRENCY         0\n",
       "CURRENT PRICE IN SELECTED CURRENCY         0\n",
       "SELECTED CURRENCY                          0\n",
       "PRODUCT INTRODUCTION DATE                  0\n",
       "DISCOUNTED SINCE                           0\n",
       "PRODUCT EXIT DATE                          0\n",
       "PRODUCT DESCRIPTION                     8812\n",
       "PRODUCT URL                                0\n",
       "IMAGE-SERVER URL                           0\n",
       "dtype: int64"
      ]
     },
     "execution_count": 5,
     "metadata": {},
     "output_type": "execute_result"
    }
   ],
   "source": [
    "data.isnull().sum()"
   ]
  },
  {
   "cell_type": "code",
   "execution_count": 6,
   "metadata": {},
   "outputs": [
    {
     "data": {
      "text/plain": [
       "array(['USA', 'Germany', 'Japan'], dtype=object)"
      ]
     },
     "execution_count": 6,
     "metadata": {},
     "output_type": "execute_result"
    }
   ],
   "source": [
    "data.COUNTRY.unique()"
   ]
  },
  {
   "cell_type": "code",
   "execution_count": 7,
   "metadata": {},
   "outputs": [
    {
     "data": {
      "text/plain": [
       "array(['Performance', 'Sport Inspired'], dtype=object)"
      ]
     },
     "execution_count": 7,
     "metadata": {},
     "output_type": "execute_result"
    }
   ],
   "source": [
    "data.SUBBRAND.unique()"
   ]
  },
  {
   "cell_type": "code",
   "execution_count": 7,
   "metadata": {},
   "outputs": [],
   "source": [
    "# Filtering US and UK\n",
    "#data = data.loc[data[\"language\"].isin(['de-DE'])]"
   ]
  },
  {
   "cell_type": "code",
   "execution_count": 8,
   "metadata": {},
   "outputs": [],
   "source": [
    "#data.group.unique()"
   ]
  },
  {
   "cell_type": "code",
   "execution_count": 8,
   "metadata": {},
   "outputs": [],
   "source": [
    "data_req = data.loc[:,[\"COMPANY\", \"COUNTRY\", \"ARTICLE NAME\",\"SUBBRAND\", \"SPORTS CATEGORY\", \"FRANCHISE\", \"PRODUCT DESCRIPTION\", \"PRODUCT URL\", \"GENDER\", \"PRODUCT TYPE\"]]"
   ]
  },
  {
   "cell_type": "code",
   "execution_count": 9,
   "metadata": {},
   "outputs": [],
   "source": [
    "data_req = data_req.drop_duplicates()"
   ]
  },
  {
   "cell_type": "code",
   "execution_count": 11,
   "metadata": {},
   "outputs": [
    {
     "data": {
      "text/plain": [
       "158140"
      ]
     },
     "execution_count": 11,
     "metadata": {},
     "output_type": "execute_result"
    }
   ],
   "source": [
    "len(data_req)"
   ]
  },
  {
   "cell_type": "code",
   "execution_count": 10,
   "metadata": {},
   "outputs": [],
   "source": [
    "data_req_x = data_req.loc[:,[\"COMPANY\", \"COUNTRY\", \"ARTICLE NAME\", \"SPORTS CATEGORY\", \"FRANCHISE\", \"PRODUCT DESCRIPTION\", \"PRODUCT URL\", \"GENDER\", \"PRODUCT TYPE\"]]\n",
    "data_req_y = data_req.loc[:, [\"SUBBRAND\"]]"
   ]
  },
  {
   "cell_type": "code",
   "execution_count": 11,
   "metadata": {},
   "outputs": [],
   "source": [
    "data_req_x = data_req_x.fillna(\"unknown\")\n",
    "data_req = pd.concat([data_req_x, data_req_y], axis=1)"
   ]
  },
  {
   "cell_type": "code",
   "execution_count": 15,
   "metadata": {},
   "outputs": [
    {
     "data": {
      "text/plain": [
       "268895"
      ]
     },
     "execution_count": 15,
     "metadata": {},
     "output_type": "execute_result"
    }
   ],
   "source": [
    "len(data_req)"
   ]
  },
  {
   "cell_type": "code",
   "execution_count": 13,
   "metadata": {},
   "outputs": [],
   "source": [
    "data_req = data_req.dropna()"
   ]
  },
  {
   "cell_type": "code",
   "execution_count": 14,
   "metadata": {},
   "outputs": [],
   "source": [
    "data_req = data_req.drop_duplicates()"
   ]
  },
  {
   "cell_type": "code",
   "execution_count": 16,
   "metadata": {},
   "outputs": [],
   "source": [
    "data_req[\"description\"]  = data_req[\"COMPANY\"] +\" \" + data_req[\"COUNTRY\"] +\" \" + data_req[\"ARTICLE NAME\"] +\" \" + data_req[\"SPORTS CATEGORY\"] +\" \" + data_req[\"FRANCHISE\"]+\" \" + data_req[\"PRODUCT DESCRIPTION\"]+\" \" + data_req[\"PRODUCT URL\"]+\" \" + data_req[\"GENDER\"]+\" \" + data_req[\"PRODUCT TYPE\"]"
   ]
  },
  {
   "cell_type": "code",
   "execution_count": 17,
   "metadata": {},
   "outputs": [],
   "source": [
    "data_req = data_req.drop([\"COMPANY\", \"COUNTRY\", \"ARTICLE NAME\", \"SPORTS CATEGORY\", \"FRANCHISE\", \"PRODUCT DESCRIPTION\", \"PRODUCT URL\", \"GENDER\", \"PRODUCT TYPE\"], axis = 1)"
   ]
  },
  {
   "cell_type": "code",
   "execution_count": 20,
   "metadata": {},
   "outputs": [],
   "source": [
    "data_req.columns = [\"subBrand\", \"description\"]"
   ]
  },
  {
   "cell_type": "code",
   "execution_count": 21,
   "metadata": {},
   "outputs": [
    {
     "data": {
      "text/plain": [
       "array(['Performance', 'Sport Inspired'], dtype=object)"
      ]
     },
     "execution_count": 21,
     "metadata": {},
     "output_type": "execute_result"
    }
   ],
   "source": [
    "data_req.subBrand.unique()"
   ]
  },
  {
   "cell_type": "code",
   "execution_count": 22,
   "metadata": {},
   "outputs": [
    {
     "data": {
      "text/plain": [
       "268895"
      ]
     },
     "execution_count": 22,
     "metadata": {},
     "output_type": "execute_result"
    }
   ],
   "source": [
    "len(data_req)"
   ]
  },
  {
   "cell_type": "code",
   "execution_count": 23,
   "metadata": {},
   "outputs": [],
   "source": [
    "data_req = data_req.drop_duplicates()"
   ]
  },
  {
   "cell_type": "code",
   "execution_count": 24,
   "metadata": {},
   "outputs": [],
   "source": [
    "data_req.subBrand = data_req.subBrand.str.lower()\n",
    "data_req.description = data_req.description.str.lower()"
   ]
  },
  {
   "cell_type": "code",
   "execution_count": 25,
   "metadata": {},
   "outputs": [
    {
     "data": {
      "text/plain": [
       "array(['performance', 'sport inspired'], dtype=object)"
      ]
     },
     "execution_count": 25,
     "metadata": {},
     "output_type": "execute_result"
    }
   ],
   "source": [
    "data_req.subBrand.unique()"
   ]
  },
  {
   "cell_type": "code",
   "execution_count": 26,
   "metadata": {},
   "outputs": [
    {
     "data": {
      "text/plain": [
       "(720.3057885048067, 432.5812906232937, 6125)"
      ]
     },
     "execution_count": 26,
     "metadata": {},
     "output_type": "execute_result"
    }
   ],
   "source": [
    "lens = data_req.description.str.len()\n",
    "lens.mean(), lens.std(), lens.max()"
   ]
  },
  {
   "cell_type": "code",
   "execution_count": 27,
   "metadata": {},
   "outputs": [
    {
     "data": {
      "image/png": "[encoded data removed]",
      "text/plain": [
       "<Figure size 432x288 with 1 Axes>"
      ]
     },
     "metadata": {},
     "output_type": "display_data"
    }
   ],
   "source": [
    "lens.hist();"
   ]
  },
  {
   "cell_type": "code",
   "execution_count": 28,
   "metadata": {},
   "outputs": [],
   "source": [
    "data_req = data_req.dropna()"
   ]
  },
  {
   "cell_type": "code",
   "execution_count": 29,
   "metadata": {},
   "outputs": [
    {
     "data": {
      "text/plain": [
       "268895"
      ]
     },
     "execution_count": 29,
     "metadata": {},
     "output_type": "execute_result"
    }
   ],
   "source": [
    "len(data_req)"
   ]
  },
  {
   "cell_type": "code",
   "execution_count": 30,
   "metadata": {},
   "outputs": [],
   "source": [
    "one_hot = pd.get_dummies(data_req.subBrand)"
   ]
  },
  {
   "cell_type": "code",
   "execution_count": 31,
   "metadata": {},
   "outputs": [],
   "source": [
    "label_cols = data_req.subBrand.dropna().unique()"
   ]
  },
  {
   "cell_type": "code",
   "execution_count": 32,
   "metadata": {},
   "outputs": [
    {
     "data": {
      "text/plain": [
       "array(['performance', 'sport inspired'], dtype=object)"
      ]
     },
     "execution_count": 32,
     "metadata": {},
     "output_type": "execute_result"
    }
   ],
   "source": [
    "label_cols"
   ]
  },
  {
   "cell_type": "code",
   "execution_count": 33,
   "metadata": {},
   "outputs": [],
   "source": [
    "minCount = 10\n",
    "subBrand_minCount = pd.DataFrame((data_req.subBrand.value_counts() > minCount).reset_index())"
   ]
  },
  {
   "cell_type": "code",
   "execution_count": 34,
   "metadata": {},
   "outputs": [],
   "source": [
    "subBrand_drop = subBrand_minCount.loc[subBrand_minCount[\"subBrand\"] == False]"
   ]
  },
  {
   "cell_type": "code",
   "execution_count": 35,
   "metadata": {},
   "outputs": [
    {
     "data": {
      "text/html": [
       "<div>\n",
       "<style scoped>\n",
       "    .dataframe tbody tr th:only-of-type {\n",
       "        vertical-align: middle;\n",
       "    }\n",
       "\n",
       "    .dataframe tbody tr th {\n",
       "        vertical-align: top;\n",
       "    }\n",
       "\n",
       "    .dataframe thead th {\n",
       "        text-align: right;\n",
       "    }\n",
       "</style>\n",
       "<table border=\"1\" class=\"dataframe\">\n",
       "  <thead>\n",
       "    <tr style=\"text-align: right;\">\n",
       "      <th></th>\n",
       "      <th>index</th>\n",
       "      <th>subBrand</th>\n",
       "    </tr>\n",
       "  </thead>\n",
       "  <tbody>\n",
       "  </tbody>\n",
       "</table>\n",
       "</div>"
      ],
      "text/plain": [
       "Empty DataFrame\n",
       "Columns: [index, subBrand]\n",
       "Index: []"
      ]
     },
     "execution_count": 35,
     "metadata": {},
     "output_type": "execute_result"
    }
   ],
   "source": [
    "subBrand_drop"
   ]
  },
  {
   "cell_type": "code",
   "execution_count": 36,
   "metadata": {},
   "outputs": [],
   "source": [
    "label_cols = np.setdiff1d(label_cols, subBrand_drop[\"index\"])"
   ]
  },
  {
   "cell_type": "code",
   "execution_count": 37,
   "metadata": {},
   "outputs": [],
   "source": [
    "data_req = pd.concat([data_req, one_hot], axis=1)"
   ]
  },
  {
   "cell_type": "code",
   "execution_count": 38,
   "metadata": {},
   "outputs": [],
   "source": [
    "import re, string\n",
    "re_tok = re.compile(f'([{string.punctuation}“”¨«»®´·º½¾¿¡§£₤‘’])')\n",
    "def tokenize(s): return re_tok.sub(r' \\1 ', s).split()"
   ]
  },
  {
   "cell_type": "code",
   "execution_count": 39,
   "metadata": {},
   "outputs": [],
   "source": [
    "description = \"description\""
   ]
  },
  {
   "cell_type": "code",
   "execution_count": 40,
   "metadata": {},
   "outputs": [],
   "source": [
    "data_req = data_req.drop(subBrand_drop[\"index\"], axis = 1)"
   ]
  },
  {
   "cell_type": "code",
   "execution_count": 41,
   "metadata": {},
   "outputs": [],
   "source": [
    "np.random.seed(123)\n",
    "data_req_sample = data_req.sample(frac=0.7)"
   ]
  },
  {
   "cell_type": "code",
   "execution_count": 42,
   "metadata": {},
   "outputs": [],
   "source": [
    "train = data_req.loc[data_req.index.isin(data_req_sample.index)]\n",
    "test = data_req.loc[~data_req.index.isin(data_req_sample.index)]"
   ]
  },
  {
   "cell_type": "code",
   "execution_count": 43,
   "metadata": {},
   "outputs": [],
   "source": [
    "test_subBrand = test.subBrand"
   ]
  },
  {
   "cell_type": "code",
   "execution_count": 44,
   "metadata": {},
   "outputs": [],
   "source": [
    "#test_subBrand"
   ]
  },
  {
   "cell_type": "code",
   "execution_count": 45,
   "metadata": {},
   "outputs": [],
   "source": [
    "train = train.drop(\"subBrand\", axis = 1)\n",
    "test = test.drop(\"subBrand\", axis = 1)"
   ]
  },
  {
   "cell_type": "code",
   "execution_count": 46,
   "metadata": {},
   "outputs": [],
   "source": [
    "# token_dict = {}\n",
    "# stemmer = PorterStemmer()\n",
    "\n",
    "# def stem_tokens(tokens, stemmer):\n",
    "#     stemmed = []\n",
    "#     for item in tokens:\n",
    "#         stemmed.append(stemmer.stem(item))\n",
    "#     return stemmed\n",
    "\n",
    "# def tokenize(text):\n",
    "#     tokens = nltk.word_tokenize(text)\n",
    "#     stems = stem_tokens(tokens, stemmer)\n",
    "#     return stems"
   ]
  },
  {
   "cell_type": "code",
   "execution_count": 47,
   "metadata": {},
   "outputs": [],
   "source": [
    "# from stop_words import get_stop_words\n",
    "# stop_words_english = get_stop_words('english')\n",
    "# stop_words_german = get_stop_words('german')"
   ]
  },
  {
   "cell_type": "code",
   "execution_count": 48,
   "metadata": {},
   "outputs": [],
   "source": [
    "#stop_words_english.append(stop_words_german)"
   ]
  },
  {
   "cell_type": "code",
   "execution_count": 49,
   "metadata": {},
   "outputs": [],
   "source": [
    "# stop_words_english = sorted(set(map(tuple, stop_words_english)), reverse=True)"
   ]
  },
  {
   "cell_type": "code",
   "execution_count": 50,
   "metadata": {},
   "outputs": [],
   "source": [
    "n = train.shape[0]\n",
    "vec = TfidfVectorizer(ngram_range=(1,2), tokenizer=tokenize,\n",
    "               min_df=3, max_df=0.9, strip_accents='unicode', use_idf=1,\n",
    "               smooth_idf=1, sublinear_tf=1, stop_words = None )\n",
    "trn_term_doc = vec.fit_transform(train[description])\n",
    "test_term_doc = vec.transform(test[description])"
   ]
  },
  {
   "cell_type": "code",
   "execution_count": 51,
   "metadata": {},
   "outputs": [
    {
     "data": {
      "text/plain": [
       "(<188226x639909 sparse matrix of type '<class 'numpy.float64'>'\n",
       " \twith 36578892 stored elements in Compressed Sparse Row format>,\n",
       " <80669x639909 sparse matrix of type '<class 'numpy.float64'>'\n",
       " \twith 15487493 stored elements in Compressed Sparse Row format>)"
      ]
     },
     "execution_count": 51,
     "metadata": {},
     "output_type": "execute_result"
    }
   ],
   "source": [
    "trn_term_doc, test_term_doc"
   ]
  },
  {
   "cell_type": "code",
   "execution_count": 52,
   "metadata": {},
   "outputs": [],
   "source": [
    "def pr(y_i, y):\n",
    "    p = x[y==y_i].sum(0)\n",
    "    return (p+1) / ((y==y_i).sum()+1)"
   ]
  },
  {
   "cell_type": "code",
   "execution_count": 53,
   "metadata": {},
   "outputs": [],
   "source": [
    "x = trn_term_doc\n",
    "test_x = test_term_doc"
   ]
  },
  {
   "cell_type": "code",
   "execution_count": 54,
   "metadata": {},
   "outputs": [],
   "source": [
    "def get_mdl(y):\n",
    "    y = y.values\n",
    "    r = np.log(pr(1,y) / pr(0,y))\n",
    "    m = LogisticRegression(C=4, dual=True)\n",
    "    x_nb = x.multiply(r)\n",
    "    return m.fit(x_nb, y), r"
   ]
  },
  {
   "cell_type": "code",
   "execution_count": 55,
   "metadata": {},
   "outputs": [],
   "source": [
    "from sklearn.linear_model import LogisticRegression"
   ]
  },
  {
   "cell_type": "code",
   "execution_count": 56,
   "metadata": {},
   "outputs": [
    {
     "name": "stdout",
     "output_type": "stream",
     "text": [
      "fit performance\n",
      "fit sport inspired\n"
     ]
    }
   ],
   "source": [
    "preds = np.zeros((len(test), len(label_cols)))\n",
    "\n",
    "for i, j in enumerate(label_cols):\n",
    "    print('fit', j)\n",
    "    m,r = get_mdl(train[j])\n",
    "    preds[:,i] = m.predict_proba(test_x.multiply(r))[:,1]"
   ]
  },
  {
   "cell_type": "code",
   "execution_count": 57,
   "metadata": {},
   "outputs": [
    {
     "data": {
      "text/plain": [
       "(80669, 2)"
      ]
     },
     "execution_count": 57,
     "metadata": {},
     "output_type": "execute_result"
    }
   ],
   "source": [
    "preds.shape"
   ]
  },
  {
   "cell_type": "code",
   "execution_count": 58,
   "metadata": {},
   "outputs": [],
   "source": [
    "predictions = pd.DataFrame(preds, columns = label_cols)"
   ]
  },
  {
   "cell_type": "code",
   "execution_count": 59,
   "metadata": {},
   "outputs": [],
   "source": [
    "test.index = np.arange(0, len(test))\n",
    "test_subBrand.index = np.arange(0, len(test))"
   ]
  },
  {
   "cell_type": "code",
   "execution_count": 60,
   "metadata": {},
   "outputs": [
    {
     "data": {
      "text/plain": [
       "80669"
      ]
     },
     "execution_count": 60,
     "metadata": {},
     "output_type": "execute_result"
    }
   ],
   "source": [
    "len(test)"
   ]
  },
  {
   "cell_type": "code",
   "execution_count": 61,
   "metadata": {},
   "outputs": [],
   "source": [
    "submid = pd.DataFrame({'description': test[\"description\"]})\n",
    "submission = pd.concat([submid, pd.DataFrame(preds, columns = label_cols)], axis=1)"
   ]
  },
  {
   "cell_type": "code",
   "execution_count": 62,
   "metadata": {},
   "outputs": [
    {
     "data": {
      "text/html": [
       "<div>\n",
       "<style scoped>\n",
       "    .dataframe tbody tr th:only-of-type {\n",
       "        vertical-align: middle;\n",
       "    }\n",
       "\n",
       "    .dataframe tbody tr th {\n",
       "        vertical-align: top;\n",
       "    }\n",
       "\n",
       "    .dataframe thead th {\n",
       "        text-align: right;\n",
       "    }\n",
       "</style>\n",
       "<table border=\"1\" class=\"dataframe\">\n",
       "  <thead>\n",
       "    <tr style=\"text-align: right;\">\n",
       "      <th></th>\n",
       "      <th>description</th>\n",
       "      <th>performance</th>\n",
       "      <th>sport inspired</th>\n",
       "    </tr>\n",
       "  </thead>\n",
       "  <tbody>\n",
       "    <tr>\n",
       "      <th>0</th>\n",
       "      <td>nike usa nike cortez big kids' shoe lifestyle ...</td>\n",
       "      <td>0.003653</td>\n",
       "      <td>0.996347</td>\n",
       "    </tr>\n",
       "    <tr>\n",
       "      <th>1</th>\n",
       "      <td>nike germany nike performance low-cut socken f...</td>\n",
       "      <td>0.988952</td>\n",
       "      <td>0.011049</td>\n",
       "    </tr>\n",
       "    <tr>\n",
       "      <th>2</th>\n",
       "      <td>nike usa nike jr. tiempo legend vi tf kids' tu...</td>\n",
       "      <td>0.999641</td>\n",
       "      <td>0.000359</td>\n",
       "    </tr>\n",
       "    <tr>\n",
       "      <th>3</th>\n",
       "      <td>nike usa nike mercurial victory v tf kids' tur...</td>\n",
       "      <td>0.999949</td>\n",
       "      <td>0.000051</td>\n",
       "    </tr>\n",
       "    <tr>\n",
       "      <th>4</th>\n",
       "      <td>nike usa nike jr. mercurial victory v ic kids'...</td>\n",
       "      <td>0.998981</td>\n",
       "      <td>0.001019</td>\n",
       "    </tr>\n",
       "  </tbody>\n",
       "</table>\n",
       "</div>"
      ],
      "text/plain": [
       "                                         description  performance  \\\n",
       "0  nike usa nike cortez big kids' shoe lifestyle ...     0.003653   \n",
       "1  nike germany nike performance low-cut socken f...     0.988952   \n",
       "2  nike usa nike jr. tiempo legend vi tf kids' tu...     0.999641   \n",
       "3  nike usa nike mercurial victory v tf kids' tur...     0.999949   \n",
       "4  nike usa nike jr. mercurial victory v ic kids'...     0.998981   \n",
       "\n",
       "   sport inspired  \n",
       "0        0.996347  \n",
       "1        0.011049  \n",
       "2        0.000359  \n",
       "3        0.000051  \n",
       "4        0.001019  "
      ]
     },
     "execution_count": 62,
     "metadata": {},
     "output_type": "execute_result"
    }
   ],
   "source": [
    "submission.head()"
   ]
  },
  {
   "cell_type": "code",
   "execution_count": 63,
   "metadata": {},
   "outputs": [],
   "source": [
    "final_pred = pd.concat([submission, test_subBrand.str.lower()],axis = 1)"
   ]
  },
  {
   "cell_type": "code",
   "execution_count": 64,
   "metadata": {},
   "outputs": [
    {
     "data": {
      "text/plain": [
       "performance       47616\n",
       "sport inspired    33053\n",
       "Name: subBrand, dtype: int64"
      ]
     },
     "execution_count": 64,
     "metadata": {},
     "output_type": "execute_result"
    }
   ],
   "source": [
    "test_subBrand.str.lower().value_counts()"
   ]
  },
  {
   "cell_type": "code",
   "execution_count": 65,
   "metadata": {},
   "outputs": [],
   "source": [
    "final_pred[\"Predictions\"] = final_pred[label_cols].idxmax(axis = 1)"
   ]
  },
  {
   "cell_type": "code",
   "execution_count": 66,
   "metadata": {},
   "outputs": [],
   "source": [
    "from mlxtend.evaluate import confusion_matrix\n",
    "\n",
    "y_target =    final_pred.subBrand\n",
    "y_predicted = final_pred.Predictions\n",
    "\n",
    "cm = confusion_matrix(y_target=y_target, \n",
    "                      y_predicted=y_predicted, \n",
    "                      binary=False)"
   ]
  },
  {
   "cell_type": "code",
   "execution_count": 67,
   "metadata": {},
   "outputs": [
    {
     "data": {
      "image/png": "[encoded data removed]",
      "text/plain": [
       "<Figure size 432x288 with 1 Axes>"
      ]
     },
     "metadata": {},
     "output_type": "display_data"
    }
   ],
   "source": [
    "import matplotlib.pyplot as plt\n",
    "from mlxtend.plotting import plot_confusion_matrix\n",
    "import numpy as np\n",
    "\n",
    "fig, ax = plot_confusion_matrix(conf_mat=cm)\n",
    "plt.show()"
   ]
  },
  {
   "cell_type": "code",
   "execution_count": 68,
   "metadata": {},
   "outputs": [
    {
     "name": "stdout",
     "output_type": "stream",
     "text": [
      "Accuracy Score : 0.9901077241567393\n",
      "F1 Score: 0.9897560317882099\n",
      "Precision: 0.9906756089488507\n",
      "Recall: 0.9888861739146586\n"
     ]
    }
   ],
   "source": [
    "print(f'Accuracy Score : {accuracy_score(final_pred.subBrand, final_pred.Predictions)}')\n",
    "print(f'F1 Score: {f1_score(final_pred.subBrand, final_pred.Predictions, average=\"macro\")}')\n",
    "print(f'Precision: {precision_score(final_pred.subBrand, final_pred.Predictions, average=\"macro\")}')\n",
    "print(f'Recall: {recall_score(final_pred.subBrand, final_pred.Predictions, average=\"macro\")}')"
   ]
  },
  {
   "cell_type": "code",
   "execution_count": 88,
   "metadata": {},
   "outputs": [],
   "source": [
    "#final_pred.to_csv(\"final_output_SubBrand_v4.csv\", index_label=False, index=False)"
   ]
  },
  {
   "cell_type": "code",
   "execution_count": 83,
   "metadata": {},
   "outputs": [
    {
     "data": {
      "text/plain": [
       "20860"
      ]
     },
     "execution_count": 83,
     "metadata": {},
     "output_type": "execute_result"
    }
   ],
   "source": [
    "len(final_pred)"
   ]
  },
  {
   "cell_type": "code",
   "execution_count": 51,
   "metadata": {},
   "outputs": [],
   "source": [
    "#test_subBrand"
   ]
  },
  {
   "cell_type": "code",
   "execution_count": 52,
   "metadata": {},
   "outputs": [
    {
     "data": {
      "text/plain": [
       "15062"
      ]
     },
     "execution_count": 52,
     "metadata": {},
     "output_type": "execute_result"
    }
   ],
   "source": [
    "len(submission)"
   ]
  },
  {
   "cell_type": "code",
   "execution_count": 54,
   "metadata": {},
   "outputs": [],
   "source": [
    "#final_pred.isnull().sum()"
   ]
  },
  {
   "cell_type": "code",
   "execution_count": null,
   "metadata": {},
   "outputs": [],
   "source": []
  }
 ],
 "metadata": {
  "kernelspec": {
   "display_name": "Python 3",
   "language": "python",
   "name": "python3"
  },
  "language_info": {
   "codemirror_mode": {
    "name": "ipython",
    "version": 3
   },
   "file_extension": ".py",
   "mimetype": "text/x-python",
   "name": "python",
   "nbconvert_exporter": "python",
   "pygments_lexer": "ipython3",
   "version": "3.6.5"
  }
 },
 "nbformat": 4,
 "nbformat_minor": 2
}

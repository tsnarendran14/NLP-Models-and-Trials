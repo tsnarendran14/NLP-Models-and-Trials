{
 "cells": [
  {
   "cell_type": "code",
   "execution_count": 1,
   "metadata": {},
   "outputs": [],
   "source": [
    "import h2o"
   ]
  },
  {
   "cell_type": "code",
   "execution_count": 2,
   "metadata": {},
   "outputs": [
    {
     "name": "stdout",
     "output_type": "stream",
     "text": [
      "Checking whether there is an H2O instance running at http://localhost:54321..... not found.\n",
      "Attempting to start a local H2O server...\n",
      "; Java HotSpot(TM) 64-Bit Server VM (build 25.181-b13, mixed mode)\n",
      "  Starting server from C:\\Users\\narendran.thesma\\AppData\\Local\\Continuum\\anaconda3\\lib\\site-packages\\h2o\\backend\\bin\\h2o.jar\n",
      "  Ice root: C:\\Users\\narendran.thesma\\AppData\\Local\\Temp\\tmp7ol7f1r_\n",
      "  JVM stdout: C:\\Users\\narendran.thesma\\AppData\\Local\\Temp\\tmp7ol7f1r_\\h2o_narendran_thesma_started_from_python.out\n",
      "  JVM stderr: C:\\Users\\narendran.thesma\\AppData\\Local\\Temp\\tmp7ol7f1r_\\h2o_narendran_thesma_started_from_python.err\n",
      "  Server is running at http://127.0.0.1:54321\n",
      "Connecting to H2O server at http://127.0.0.1:54321... successful.\n",
      "Warning: Your H2O cluster version is too old (5 months and 13 days)! Please download and install the latest version from http://h2o.ai/download/\n"
     ]
    },
    {
     "data": {
      "text/html": [
       "<div style=\"overflow:auto\"><table style=\"width:50%\"><tr><td>H2O cluster uptime:</td>\n",
       "<td>03 secs</td></tr>\n",
       "<tr><td>H2O cluster timezone:</td>\n",
       "<td>Asia/Kolkata</td></tr>\n",
       "<tr><td>H2O data parsing timezone:</td>\n",
       "<td>UTC</td></tr>\n",
       "<tr><td>H2O cluster version:</td>\n",
       "<td>3.18.0.11</td></tr>\n",
       "<tr><td>H2O cluster version age:</td>\n",
       "<td>5 months and 13 days !!!</td></tr>\n",
       "<tr><td>H2O cluster name:</td>\n",
       "<td>H2O_from_python_narendran_thesma_k9vob8</td></tr>\n",
       "<tr><td>H2O cluster total nodes:</td>\n",
       "<td>1</td></tr>\n",
       "<tr><td>H2O cluster free memory:</td>\n",
       "<td>3.556 Gb</td></tr>\n",
       "<tr><td>H2O cluster total cores:</td>\n",
       "<td>4</td></tr>\n",
       "<tr><td>H2O cluster allowed cores:</td>\n",
       "<td>4</td></tr>\n",
       "<tr><td>H2O cluster status:</td>\n",
       "<td>accepting new members, healthy</td></tr>\n",
       "<tr><td>H2O connection url:</td>\n",
       "<td>http://127.0.0.1:54321</td></tr>\n",
       "<tr><td>H2O connection proxy:</td>\n",
       "<td>None</td></tr>\n",
       "<tr><td>H2O internal security:</td>\n",
       "<td>False</td></tr>\n",
       "<tr><td>H2O API Extensions:</td>\n",
       "<td>Algos, AutoML, Core V3, Core V4</td></tr>\n",
       "<tr><td>Python version:</td>\n",
       "<td>3.6.5 final</td></tr></table></div>"
      ],
      "text/plain": [
       "--------------------------  ---------------------------------------\n",
       "H2O cluster uptime:         03 secs\n",
       "H2O cluster timezone:       Asia/Kolkata\n",
       "H2O data parsing timezone:  UTC\n",
       "H2O cluster version:        3.18.0.11\n",
       "H2O cluster version age:    5 months and 13 days !!!\n",
       "H2O cluster name:           H2O_from_python_narendran_thesma_k9vob8\n",
       "H2O cluster total nodes:    1\n",
       "H2O cluster free memory:    3.556 Gb\n",
       "H2O cluster total cores:    4\n",
       "H2O cluster allowed cores:  4\n",
       "H2O cluster status:         accepting new members, healthy\n",
       "H2O connection url:         http://127.0.0.1:54321\n",
       "H2O connection proxy:\n",
       "H2O internal security:      False\n",
       "H2O API Extensions:         Algos, AutoML, Core V3, Core V4\n",
       "Python version:             3.6.5 final\n",
       "--------------------------  ---------------------------------------"
      ]
     },
     "metadata": {},
     "output_type": "display_data"
    }
   ],
   "source": [
    "h2o.init(max_mem_size=\"4G\")"
   ]
  },
  {
   "cell_type": "code",
   "execution_count": 3,
   "metadata": {},
   "outputs": [
    {
     "name": "stdout",
     "output_type": "stream",
     "text": [
      "Parse progress: |█████████████████████████████████████████████████████████| 100%\n"
     ]
    }
   ],
   "source": [
    "data = h2o.import_file(\"output_merged_25oct.csv\")"
   ]
  },
  {
   "cell_type": "code",
   "execution_count": 4,
   "metadata": {},
   "outputs": [],
   "source": [
    "from h2o.estimators import H2ORandomForestEstimator"
   ]
  },
  {
   "cell_type": "code",
   "execution_count": 5,
   "metadata": {
    "scrolled": true
   },
   "outputs": [
    {
     "data": {
      "text/html": [
       "<table>\n",
       "<thead>\n",
       "<tr><th>COMPANY  </th><th>COUNTRY  </th><th>DISTRIBUTOR  </th><th>ARTICLE ID  </th><th style=\"text-align: right;\">  MODEL NUMBER</th><th>ARTICLE NAME                                                   </th><th>SUBBRAND      </th><th>SPORTS CATEGORY  </th><th>PRODUCT DIVISION  </th><th>PRODUCT GROUP          </th><th>PRODUCT TYPE       </th><th>FRANCHISE   </th><th>TECHNOLOGIES      </th><th>COLOUR GROUP  </th><th>COLOUR                                      </th><th>GENDER  </th><th>AGE GROUP  </th><th style=\"text-align: right;\">  CONSUMER RATING</th><th style=\"text-align: right;\">  INITIAL PRICE IN LOCAL CURRENCY</th><th style=\"text-align: right;\">  CURRENT PRICE IN LOCAL CURRENCY</th><th>LOCAL CURRENCY  </th><th style=\"text-align: right;\">  INITIAL PRICE IN EUR</th><th style=\"text-align: right;\">  CURRENT PRICE IN EUR</th><th style=\"text-align: right;\">  INITIAL PRICE IN SELECTED CURRENCY</th><th style=\"text-align: right;\">  CURRENT PRICE IN SELECTED CURRENCY</th><th>SELECTED CURRENCY  </th><th>PRODUCT INTRODUCTION DATE  </th><th>DISCOUNTED SINCE   </th><th>PRODUCT EXIT DATE  </th><th>PRODUCT DESCRIPTION                                                                                                                                                                                                                                                                                                                                                                                                                                                                                                                                                                                                                                                                                                                                                                                                                                                                                                                                 </th><th>PRODUCT URL                                                                                                                                                                                                                                                                          </th><th>IMAGE-SERVER URL                                                    </th></tr>\n",
       "</thead>\n",
       "<tbody>\n",
       "<tr><td>Nike     </td><td>USA      </td><td>Own eCom     </td><td>837786-603  </td><td style=\"text-align: right;\">        837786</td><td>KD 8 'Aunt Pearl' Premium Big Kids' Basketball Shoe            </td><td>Performance   </td><td>Basketball       </td><td>Footwear          </td><td>Performance Footwear   </td><td>Basketball         </td><td>KD          </td><td>Flywire|Nike Zoom </td><td>pink          </td><td>Vivid Pink/Hyper Turquoise/Pink Blast/Black </td><td>Unisex  </td><td>Youth      </td><td style=\"text-align: right;\">                5</td><td style=\"text-align: right;\">                              140</td><td style=\"text-align: right;\">                            64.97</td><td>USD             </td><td style=\"text-align: right;\">                121.8 </td><td style=\"text-align: right;\">               56.5239</td><td style=\"text-align: right;\">                              121.8 </td><td style=\"text-align: right;\">                             56.5239</td><td>EUR                </td><td>2016-02-29 00:00:00        </td><td>2016-11-09 00:00:00</td><td>2017-09-18 00:00:00</td><td>DYNAMIC VERSATILITY. INSPIRED STYLE.; The KD 8 'Aunt Pearl' Premium Big Kids' Basketball Shoe is a triple threat of breathability, support and flexibility. Colorful details pay tribute to Kevin Durant's personal hero.; Responsive Cushioning; The Nike Zoom Air unit offers low-profile responsiveness with added flexibility and bounce.; Dynamic Lockdown; Ultralight Flywire cables integrate with the laces to support your foot during quick moves.; More Details; Woven mesh upper for ultralight, flexible support; Durable rubber outsole offers traction and flexibility                                                                                                                                                                                                                                                                                                                                                               </td><td>https://store.nike.com/us/en_us/pd/kd-8-aunt-pearl-premium-35y-7y-big-kids-basketball-shoe/pid-10972606/pgid-11796274                                                                                                                                                                </td><td>http://usporamap287.am.adsint.biz/zoomimages/1691441/1691441_400.jpg</td></tr>\n",
       "<tr><td>Nike     </td><td>USA      </td><td>Own eCom     </td><td>810455-421  </td><td style=\"text-align: right;\">        810455</td><td>LeBron 13 Transportation Kids' Adjustable Hat                  </td><td>Sport Inspired</td><td>Lifestyle        </td><td>Accessories       </td><td>Headwear               </td><td>Caps               </td><td>No Franchise</td><td>                  </td><td>blue          </td><td>Loyal Blue/White/Omega Blue                 </td><td>Unisex  </td><td>Youth      </td><td style=\"text-align: right;\">                0</td><td style=\"text-align: right;\">                               28</td><td style=\"text-align: right;\">                            19.97</td><td>USD             </td><td style=\"text-align: right;\">                 24.36</td><td style=\"text-align: right;\">               17.3739</td><td style=\"text-align: right;\">                               24.36</td><td style=\"text-align: right;\">                             17.3739</td><td>EUR                </td><td>2016-02-29 00:00:00        </td><td>2016-04-04 00:00:00</td><td>2016-05-02 00:00:00</td><td>LEBRON TRANSPORTATION HAT The LeBron 13 Transportation Kids' Adjustable HatÂ is made with a vibrant logo and printed upperbill for a bold display of player pride. Benefits Six-panel design with interior taping for comfort and durability Embroidered eyelets for breathability Snap back closure for a customized fit Product Details Fabric: Body: 100% polyester. Underbill: 100% cotton Hand wash Imported                                                                                                                                                                                                                                                                                                                                                                                                                                                                                                                                   </td><td>http://store.nike.com/us/en_us/pd/lebron-13-transportation-adjustable-hat/pid-10867580/pgid-11288953                                                                                                                                                                                 </td><td>http://usporamap287.am.adsint.biz/zoomimages/1691420/1691420_400.jpg</td></tr>\n",
       "<tr><td>Nike     </td><td>USA      </td><td>Own eCom     </td><td>807940-010  </td><td style=\"text-align: right;\">        807940</td><td>Nike SB Cherry Blossom Perforated Trucker Hat                  </td><td>Sport Inspired</td><td>Skate            </td><td>Accessories       </td><td>Headwear               </td><td>Caps               </td><td>No Franchise</td><td>                  </td><td>black         </td><td>Black                                       </td><td>Unisex  </td><td>Adult      </td><td style=\"text-align: right;\">                0</td><td style=\"text-align: right;\">                               32</td><td style=\"text-align: right;\">                            32   </td><td>USD             </td><td style=\"text-align: right;\">                 27.84</td><td style=\"text-align: right;\">               27.84  </td><td style=\"text-align: right;\">                               27.84</td><td style=\"text-align: right;\">                             27.84  </td><td>EUR                </td><td>2016-02-29 00:00:00        </td><td>                   </td><td>2016-03-21 00:00:00</td><td>BREATHABLE COMFORT The Nike SB Cherry Blossom Perforated Trucker Hat features breathable panels and a vintage flat-brim profile for ventilated comfort and a classic look. Benefits Perforated panels for breathability Structured, flat-brim profile offers a classic look Snaps in back give you adjustable comfort Product Details Fabric: 100% polyester Hand wash Imported                                                                                                                                                                                                                                                                                                                                                                                                                                                                                                                                                                     </td><td>http://store.nike.com/us/en_us/pd/sb-cherry-blossom-perforated-trucker-hat/pid-10866681/pgid-10966896                                                                                                                                                                                </td><td>http://usporamap287.am.adsint.biz/zoomimages/1672056/1672056_400.jpg</td></tr>\n",
       "<tr><td>Nike     </td><td>USA      </td><td>Own eCom     </td><td>749502-100  </td><td style=\"text-align: right;\">        749502</td><td>Nike Cortez Big Kids' Shoe                                     </td><td>Sport Inspired</td><td>Lifestyle        </td><td>Footwear          </td><td>Sport Inspired Footwear</td><td>Kids Shoes (unisex)</td><td>Cortez      </td><td>Phylon            </td><td>white         </td><td>White/Wolf Grey/White                       </td><td>Unisex  </td><td>Youth      </td><td style=\"text-align: right;\">                5</td><td style=\"text-align: right;\">                               60</td><td style=\"text-align: right;\">                            44.97</td><td>USD             </td><td style=\"text-align: right;\">                 52.2 </td><td style=\"text-align: right;\">               39.1239</td><td style=\"text-align: right;\">                               52.2 </td><td style=\"text-align: right;\">                             39.1239</td><td>EUR                </td><td>2016-02-29 00:00:00        </td><td>2017-02-09 00:00:00</td><td>2017-04-10 00:00:00</td><td>A CLASSIC, REBORN. The Nike Cortez BigÂ Kids' ShoeÂ is made with a supportive upper and the lightweight cushioning that made the original a running icon. Benefits Synthetic leatherÂ upper for support and durability Full-length Phylon midsole for lightweight cushioning Rubber outsole with herringbone pattern for traction and durability Cortez Origins The Nike Cortez was Bill Bowerman's first masterpiece, built to be lighter and more weatherproof than any other shoe. In 1972, it put unprecedented cushioning under the fastest feet in the running world and quickly became the most popular training shoe in the country. It was an unmistakable iconâ€”a walking billboard that told your story and declared your affiliationâ€”and came to thrive with fierce style on the streets of Los Angeles. Since then, no shoe has expanded the definition of a running shoe quite like the Nike Cortez.                               </td><td>http://store.nike.com/us/en_us/pd/cortez-big-kids-shoe/pid-10849759/pgid-11816263                                                                                                                                                                                                    </td><td>http://usporamap287.am.adsint.biz/zoomimages/1609645/1609645_400.jpg</td></tr>\n",
       "<tr><td>Nike     </td><td>USA      </td><td>Own eCom     </td><td>746735-404  </td><td style=\"text-align: right;\">        746735</td><td>Nike Golf AW84 OX Adjustable Hat                               </td><td>Performance   </td><td>Golf             </td><td>Accessories       </td><td>Headwear               </td><td>Caps               </td><td>No Franchise</td><td>Dri-FIT           </td><td>blue          </td><td>Ocean Fog                                   </td><td>Unisex  </td><td>Adult      </td><td style=\"text-align: right;\">                5</td><td style=\"text-align: right;\">                               24</td><td style=\"text-align: right;\">                            19.97</td><td>USD             </td><td style=\"text-align: right;\">                 20.88</td><td style=\"text-align: right;\">               17.3739</td><td style=\"text-align: right;\">                               20.88</td><td style=\"text-align: right;\">                             17.3739</td><td>EUR                </td><td>2016-02-29 00:00:00        </td><td>2016-06-30 00:00:00</td><td>2016-10-10 00:00:00</td><td>PREMIUM LOOK. LIGHTWEIGHT FIT. The Nike Golf AW84 OX Adjustable Hat is made with Dri-FIT fabric and a five-panel, flat-brim profile for pure comfort and vintage style throughout your round. Benefits Dri-FIT fabric helps keep you dry and comfortable Absorbent sweatband helps keep sweat out of your eyes Adjustable leather strap at back for a custom fit and premium look Embroidered eyelets at side panels for breathability 5-panel design with interior taping for comfort and classic style Product Details Fabric: Body: 70% polyester/30% cotton. Sweatband: Dri-FIT 70% polyester/30% cotton. Hand wash Imported                                                                                                                                                                                                                                                                                                                    </td><td>http://store.nike.com/us/en_us/pd/golf-aw84-ox-adjustable-hat/pid-10847309/pgid-11495567                                                                                                                                                                                             </td><td>http://usporamap287.am.adsint.biz/zoomimages/1691407/1691407_400.jpg</td></tr>\n",
       "<tr><td>Nike     </td><td>USA      </td><td>Own eCom     </td><td>729825-002  </td><td style=\"text-align: right;\">        729825</td><td>Nike SB Clutch Unisex Skateboarding Shoe (Men's Sizing)        </td><td>Performance   </td><td>Skate            </td><td>Footwear          </td><td>Performance Footwear   </td><td>Action Sports      </td><td>No Franchise</td><td>EVA               </td><td>grey          </td><td>Dark Grey/Gum Light Brown/Black             </td><td>Unisex  </td><td>Adult      </td><td style=\"text-align: right;\">                0</td><td style=\"text-align: right;\">                               65</td><td style=\"text-align: right;\">                            65   </td><td>USD             </td><td style=\"text-align: right;\">                 56.55</td><td style=\"text-align: right;\">               56.55  </td><td style=\"text-align: right;\">                               56.55</td><td style=\"text-align: right;\">                             56.55  </td><td>EUR                </td><td>2016-02-29 00:00:00        </td><td>                   </td><td>2016-06-30 00:00:00</td><td>INCREDIBLE BOARDFEEL. MINIMALIST STYLE. The Nike SB Clutch Unisex Skateboarding Shoe (Men's Sizing)Â e is made with traditional autoclave construction that fuses the midsole and outsole for durability and a clean, classic look. A breathable canvas upper and tacky gum rubber outsole provide great boardfeel and grip. Benefits Deconstructed canvas upper provides breathability and boardfeel Low-cut silhouette provides natural range of motion EVA sockliner offers lightweight cushioning Autoclave construction fuses the midsole and outsole for durability and a classic look Tacky gum rubber delivers durability and superior grip                                                                                                                                                                                                                                                                                                 </td><td>http://store.nike.com/us/en_us/pd/sb-clutch-unisex-skateboarding-shoe-mens-sizing/pid-10840159/pgid-11229168                                                                                                                                                                         </td><td>http://usporamap287.am.adsint.biz/zoomimages/1691390/1691390_400.jpg</td></tr>\n",
       "<tr><td>Nike     </td><td>USA      </td><td>Own eCom     </td><td>729494-524  </td><td style=\"text-align: right;\">        729494</td><td>Kobe Mamba Legend True Adjustable Hat                          </td><td>Sport Inspired</td><td>Lifestyle        </td><td>Accessories       </td><td>Headwear               </td><td>Caps               </td><td>No Franchise</td><td>Dri-FIT           </td><td>violet        </td><td>Purple Dynasty/White/Black                  </td><td>Unisex  </td><td>Adult      </td><td style=\"text-align: right;\">                0</td><td style=\"text-align: right;\">                               35</td><td style=\"text-align: right;\">                            35   </td><td>USD             </td><td style=\"text-align: right;\">                 30.45</td><td style=\"text-align: right;\">               30.45  </td><td style=\"text-align: right;\">                               30.45</td><td style=\"text-align: right;\">                             30.45  </td><td>EUR                </td><td>2016-02-29 00:00:00        </td><td>                   </td><td>2016-04-04 00:00:00</td><td>CUSTOM COMFORT The Kobe Mamba Legend True Adjustable HatÂ is made with a snap-back closure and Dri-FIT fabric for a personalized, comfortable fit. Benefits Dri-FIT fabric helps keep you dry and comfortable Six-panel design with interior taping for comfort and durability Embroidered eyelets at each panel for breathability Snap closure at back for an adjustable fit Product Details Embroidered 3-D logo at front Fabric: Body: Dri-Fit 100% polyester. Back of front: Dri-FIT 92% polyester/8% cotton. Hand wash Imported                                                                                                                                                                                                                                                                                                                                                                                                                </td><td>http://store.nike.com/us/en_us/pd/kobe-mamba-legend-true-adjustable-hat/pid-10839559/pgid-10978208                                                                                                                                                                                   </td><td>http://usporamap287.am.adsint.biz/zoomimages/1609425/1609425_400.jpg</td></tr>\n",
       "<tr><td>Nike     </td><td>Germany  </td><td>Own eCom     </td><td>SX4720-101  </td><td style=\"text-align: right;\">           nan</td><td>Nike Performance Low-Cut Socken fÃ¼r Ã¤ltere Kinder (drei Paar)</td><td>Performance   </td><td>Training         </td><td>Accessories       </td><td>Socks                  </td><td>Low Cut            </td><td>No Franchise</td><td>                  </td><td>white         </td><td>WeiÃŸ/Schwarz                               </td><td>Unisex  </td><td>Youth      </td><td style=\"text-align: right;\">                0</td><td style=\"text-align: right;\">                                9</td><td style=\"text-align: right;\">                             5.97</td><td>EUR             </td><td style=\"text-align: right;\">                  9   </td><td style=\"text-align: right;\">                5.97  </td><td style=\"text-align: right;\">                                9   </td><td style=\"text-align: right;\">                              5.97  </td><td>EUR                </td><td>2016-02-29 00:00:00        </td><td>2017-11-07 00:00:00</td><td>2017-12-12 00:00:00</td><td>TRAGEKOMFORT UND HALT; Die Nike Performance Low-Cut Socken fÃ¼r Ã¤ltere Kinder (3 Paar) mit FuÃŸrÃ¼ckenkompression aus einem schweiÃŸableitendem Materialmischgewebe bieten Tragekomfort und eine sichere Passform.; Vorteile; SchweiÃŸableitendes Material fÃ¼r trockenen Tragekomfort; Gerippte BÃ¼ndchen fÃ¼r die perfekte, bequeme Passform; VerstÃ¤rkter Fersen- und Zehenbereich bietet zusÃ¤tzliche StrapazierfÃ¤higkeit in Bereichen mit hoher Abnutzung; UnterstÃ¼tzung des FuÃŸrÃ¼ckens fÃ¼r einen sicheren Sitz; Produktinformationen; Material: 68 % Baumwolle/29 % Nylon/2 % Elastan/1 % Polyester; Waschmaschinenfest; Importiert                                                                                                                                                                                                                                                                                                     </td><td>https://store.nike.com/de/de_de/pd/low-cut-socken-fur-altere/pid-10038932/pgid-12268841                                                                                                                                                                                              </td><td>http://usporamap287.am.adsint.biz/zoomimages/193841/193841_400.jpg  </td></tr>\n",
       "<tr><td>Nike     </td><td>Germany  </td><td>Own eCom     </td><td>822945-510  </td><td style=\"text-align: right;\">        822945</td><td>Kobe XI Kinder-Basketballschuh                                 </td><td>Sport Inspired</td><td>Basketball       </td><td>Footwear          </td><td>Sport Inspired Footwear</td><td>Kids Shoes (unisex)</td><td>Kobe        </td><td>Nike Zoom|Lunarlon</td><td>violet        </td><td>Hyper-Traube/Schwarz/UniversitÃ¤tsgold/WeiÃŸ</td><td>Unisex  </td><td>Youth      </td><td style=\"text-align: right;\">                4</td><td style=\"text-align: right;\">                              110</td><td style=\"text-align: right;\">                            76.99</td><td>EUR             </td><td style=\"text-align: right;\">                110   </td><td style=\"text-align: right;\">               76.99  </td><td style=\"text-align: right;\">                              110   </td><td style=\"text-align: right;\">                             76.99  </td><td>EUR                </td><td>2016-02-29 00:00:00        </td><td>2016-03-14 00:00:00</td><td>2016-03-21 00:00:00</td><td>SCHNELLIGKEIT UND HALT Der Kobe XI Kinder-Basketballschuh bietet flexiblen Halt und erstklassigem Aufprallschutz mit einem Mesh-Obermaterial und einem Nike Zoom Air-Element. Ein basketballspezifisches Profil sorgt fÃ¼r die Wendigkeit und Traktion, die fÃ¼r ein schnelles Spiel und schnelle Richtungswechsel auf dem Platz erforderlich sind.Â  Vorteile Gewebtes sublimiertes Mesh-Obermaterial fÃ¼r flexiblen Halt und AtmungsaktivitÃ¤t Nike Zoom Air-Element fÃ¼r hervorragende DÃ¤mpfung und Aufprallschutz Gummi-AuÃŸensohle mit Microprofil fÃ¼r exzellente multidirektionale Traktion Lunarlon-Einlegesohle aus Schaumstoff fÃ¼r weichen und gleichzeitig reaktionsfreudigen Aufprallschutz Multidirektionale VorfuÃŸ-Flexkerben fÃ¼r natÃ¼rliche BewegungsablÃ¤ufe Produktinformationen Mesh-Lasche fÃ¼r AtmungsaktivitÃ¤t Low-Top-Design bietet volle Bewegungsfreiheit im KnÃ¶chelbereich                                          </td><td>http://store.nike.com/de/de_de/pd/kobe-xi-basketballschuh/pid-10925260/pgid-11273207                                                                                                                                                                                                 </td><td>http://usporamap287.am.adsint.biz/zoomimages/1691294/1691294_400.jpg</td></tr>\n",
       "<tr><td>Nike     </td><td>Japan    </td><td>Own eCom     </td><td>BG0387-001  </td><td style=\"text-align: right;\">           nan</td><td>ãƒŠã‚¤ã‚­ ã‚³ã‚¢ ãƒ�ãƒ¼ãƒ• KV ã‚´ãƒ«ãƒ•ãƒ�ãƒƒã‚°               </td><td>Performance   </td><td>Golf             </td><td>Accessories       </td><td>Bags                   </td><td>Golf Bags          </td><td>No Franchise</td><td>                  </td><td>black         </td><td>ãƒ–ãƒ©ãƒƒã‚¯/ã‚·ãƒ«ãƒ�ãƒ¼                   </td><td>Unisex  </td><td>Adult      </td><td style=\"text-align: right;\">                0</td><td style=\"text-align: right;\">                            12960</td><td style=\"text-align: right;\">                         11016   </td><td>JPY             </td><td style=\"text-align: right;\">                116.64</td><td style=\"text-align: right;\">               99.144 </td><td style=\"text-align: right;\">                              116.64</td><td style=\"text-align: right;\">                             99.144 </td><td>EUR                </td><td>2016-02-22 00:00:00        </td><td>2016-12-26 00:00:00</td><td>2017-01-02 00:00:00</td><td>æ•´ç�†ã�—ã‚„ã�™ã�„ã‚´ãƒ«ãƒ•ãƒ�ãƒƒã‚°ã€‚å¿«é�©ã�ªæŒ�ã�¡é�‹ã�³ã€‚ ãƒŠã‚¤ã‚­ ã‚³ã‚¢ ãƒ�ãƒ¼ãƒ• KV ã‚´ãƒ«ãƒ•ãƒ�ãƒƒã‚°ã�¯ã€�å°‚ç”¨ã�®ã‚³ãƒ³ãƒ‘ãƒ¼ãƒˆãƒ¡ãƒ³ãƒˆã�¨è€�ä¹…æ€§ã�®é«˜ã�„ç´ æ��ã�§æŠœç¾¤ã�®ä¿�è­·åŠ›ã‚’æ��ä¾›ã€‚ã‚´ãƒ«ãƒ•ç·´ç¿’å ´ã�§ã‚¯ãƒ©ãƒ–ã‚„ã‚®ã‚¢ã‚’æ¥½ã�«å‡ºã�—å…¥ã‚Œã�Œã�§ã��ã�¾ã�™ã€‚ ç‰¹é•· å�–ã‚Šå¤–ã�—å¼�ã�®ãƒ‘ãƒƒãƒ‰å…¥ã‚Šã‚·ãƒ§ãƒ«ãƒ€ãƒ¼ã‚¹ãƒˆãƒ©ãƒƒãƒ—ã‚’å¥½ã�¿ã�®é•·ã�•ã�«èª¿ç¯€ã�—ã�¦ã€�å¿«é�©ã�«æŒ�ã�¡é�‹ã�³å�¯èƒ½ ä¸Šéƒ¨ã�®æŒ�ã�¡æ‰‹ã�§æŒ�ã�¡é�‹ã�³ã‚„ã�™ã�•ã�Œå�‘ä¸Š è¤‡æ•°ã�®ã‚¢ã‚¯ã‚»ã‚µãƒªãƒ¼ç”¨ãƒ�ã‚±ãƒƒãƒˆã�Œã€�ã�•ã�¾ã�–ã�¾ã�ªç‰©ã�®å�Žç´�ã�«ä¾¿åˆ© ã‚¸ãƒƒãƒ‘ãƒ¼ä»˜ã��ã�®ã‚¹ãƒŠãƒƒãƒ—å¼�ãƒ¬ã‚¤ãƒ³ãƒ•ãƒ¼ãƒ‰ã�Œã€�æ‚ªå¤©å€™ã�‹ã‚‰ä¿�è­· æˆ�åž‹ã�—ã�Ÿè¶³ä»˜ã��ã�®åº•éƒ¨ã�§ã€�å®‰å®šæ€§ã�¨è€�ä¹…æ€§ã‚’ç¢ºä¿� å•†å“�ã�®è©³ç´° 15cmã�®å††å½¢ãƒˆãƒƒãƒ—ã�«2ã�¤ã�®ãƒ‡ã‚£ãƒ�ã‚¤ãƒ€ãƒ¼ã‚’è£…å‚™ å¯¸æ³•ï¼šL 23cm x W 18cm x H 84cm ç´ æ��ï¼šæœ¬ä½“ï¼šãƒ�ãƒªã‚¦ãƒ¬ã‚¿ãƒ³100ï¼… è£�åœ°ï¼šãƒ�ãƒªã‚¨ã‚¹ãƒ†ãƒ«100ï¼… åŽŸç”£å›½ï¼š ä¸­å›½</td><td>http://store.nike.com/jp/ja_jp/pd/%25E3%2583%258A%25E3%2582%25A4%25E3%2582%25AD-%25E3%2582%25B3%25E3%2582%25A2-%25E3%2583%258F%25E3%2583%25BC%25E3%2583%2595-kv-%25E3%2582%25B4%25E3%2583%25AB%25E3%2583%2595%25E3%2583%2590%25E3%2583%2583%25E3%2582%25B0/pid-10885273/pgid-11872629</td><td>http://usporamap287.am.adsint.biz/zoomimages/1686818/1686818_400.jpg</td></tr>\n",
       "</tbody>\n",
       "</table>"
      ]
     },
     "metadata": {},
     "output_type": "display_data"
    },
    {
     "data": {
      "text/plain": []
     },
     "execution_count": 5,
     "metadata": {},
     "output_type": "execute_result"
    }
   ],
   "source": [
    "data.head()"
   ]
  },
  {
   "cell_type": "code",
   "execution_count": null,
   "metadata": {},
   "outputs": [],
   "source": []
  },
  {
   "cell_type": "code",
   "execution_count": 7,
   "metadata": {},
   "outputs": [],
   "source": [
    "predictors = [\"COMPANY\", \"COUNTRY\", \"ARTICLE NAME\", \"FRANCHISE\", \"CONSUMER RATING\"]\n",
    "response = \"SUBBRAND\""
   ]
  },
  {
   "cell_type": "code",
   "execution_count": 8,
   "metadata": {},
   "outputs": [
    {
     "name": "stdout",
     "output_type": "stream",
     "text": [
      "drf Model Build progress: |███████████████████████████████████████████████| 100%\n"
     ]
    }
   ],
   "source": [
    "rf_baseline = H2ORandomForestEstimator(stopping_metric = \"AUC\", stopping_tolerance = 0.001,\n",
    "                                            stopping_rounds = 5, score_tree_interval = 10,\n",
    "                                            model_id = \"rf_baseline.hex\"\n",
    "                                           )\n",
    "rf_baseline.train(x = predictors, y = response, \n",
    "                   training_frame = data\n",
    "                  )"
   ]
  },
  {
   "cell_type": "code",
   "execution_count": 10,
   "metadata": {},
   "outputs": [
    {
     "data": {
      "image/png": "[encoded data removed]",
      "text/plain": [
       "<Figure size 1008x720 with 1 Axes>"
      ]
     },
     "metadata": {},
     "output_type": "display_data"
    }
   ],
   "source": [
    "rf_baseline.varimp_plot()"
   ]
  },
  {
   "cell_type": "code",
   "execution_count": 11,
   "metadata": {},
   "outputs": [
    {
     "data": {
      "text/plain": [
       "[('ARTICLE NAME', 834993.4375, 1.0, 0.5608957421112097),\n",
       " ('FRANCHISE', 368753.65625, 0.44162461606172804, 0.24770536676052102),\n",
       " ('COMPANY', 231089.328125, 0.27675586147945025, 0.1552311843081434),\n",
       " ('CONSUMER RATING', 32577.51953125, 0.03901530008282251, 0.02188351569364627),\n",
       " ('COUNTRY', 21264.568359375, 0.02546674908373157, 0.01428419112647959)]"
      ]
     },
     "execution_count": 11,
     "metadata": {},
     "output_type": "execute_result"
    }
   ],
   "source": [
    "rf_baseline.varimp()"
   ]
  },
  {
   "cell_type": "code",
   "execution_count": null,
   "metadata": {},
   "outputs": [],
   "source": []
  }
 ],
 "metadata": {
  "kernelspec": {
   "display_name": "Python 3",
   "language": "python",
   "name": "python3"
  },
  "language_info": {
   "codemirror_mode": {
    "name": "ipython",
    "version": 3
   },
   "file_extension": ".py",
   "mimetype": "text/x-python",
   "name": "python",
   "nbconvert_exporter": "python",
   "pygments_lexer": "ipython3",
   "version": "3.6.5"
  }
 },
 "nbformat": 4,
 "nbformat_minor": 2
}

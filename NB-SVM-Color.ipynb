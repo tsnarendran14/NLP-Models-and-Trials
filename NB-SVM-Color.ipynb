{
 "cells": [
  {
   "cell_type": "code",
   "execution_count": 9,
   "metadata": {},
   "outputs": [],
   "source": [
    "import numpy as np\n",
    "import pandas as pd\n",
    "import matplotlib.pyplot as plt\n",
    "import seaborn as sns\n",
    "import time\n",
    "import nltk\n",
    "from nltk.stem.porter import PorterStemmer\n",
    "from sklearn.feature_extraction.text import CountVectorizer, TfidfVectorizer\n",
    "from sklearn.metrics import accuracy_score, f1_score, precision_score, recall_score, classification_report, confusion_matrix\n",
    "\n",
    "%matplotlib inline"
   ]
  },
  {
   "cell_type": "code",
   "execution_count": 10,
   "metadata": {},
   "outputs": [],
   "source": [
    "#nltk.download('punkt')"
   ]
  },
  {
   "cell_type": "code",
   "execution_count": 11,
   "metadata": {},
   "outputs": [
    {
     "data": {
      "text/html": [
       "<div>\n",
       "<style scoped>\n",
       "    .dataframe tbody tr th:only-of-type {\n",
       "        vertical-align: middle;\n",
       "    }\n",
       "\n",
       "    .dataframe tbody tr th {\n",
       "        vertical-align: top;\n",
       "    }\n",
       "\n",
       "    .dataframe thead th {\n",
       "        text-align: right;\n",
       "    }\n",
       "</style>\n",
       "<table border=\"1\" class=\"dataframe\">\n",
       "  <thead>\n",
       "    <tr style=\"text-align: right;\">\n",
       "      <th></th>\n",
       "      <th>date</th>\n",
       "      <th>name</th>\n",
       "      <th>currency</th>\n",
       "      <th>language</th>\n",
       "      <th>name2</th>\n",
       "      <th>name3</th>\n",
       "      <th>ageGroup</th>\n",
       "      <th>articleId</th>\n",
       "      <th>colors</th>\n",
       "      <th>colorGroup</th>\n",
       "      <th>...</th>\n",
       "      <th>ped</th>\n",
       "      <th>pid</th>\n",
       "      <th>sportsCategory</th>\n",
       "      <th>subBrand</th>\n",
       "      <th>technologies</th>\n",
       "      <th>type</th>\n",
       "      <th>url</th>\n",
       "      <th>price</th>\n",
       "      <th>territories</th>\n",
       "      <th>type5</th>\n",
       "    </tr>\n",
       "  </thead>\n",
       "  <tbody>\n",
       "    <tr>\n",
       "      <th>0</th>\n",
       "      <td>08/29/2018</td>\n",
       "      <td>adidas</td>\n",
       "      <td>EUR</td>\n",
       "      <td>de-DE</td>\n",
       "      <td>DEU</td>\n",
       "      <td>own eCom</td>\n",
       "      <td>adults</td>\n",
       "      <td>011040</td>\n",
       "      <td>Black/Footwear White</td>\n",
       "      <td>schwarz</td>\n",
       "      <td>...</td>\n",
       "      <td>NaN</td>\n",
       "      <td>04/18/2013</td>\n",
       "      <td>Fußball</td>\n",
       "      <td>Performance</td>\n",
       "      <td>EVA</td>\n",
       "      <td>NaN</td>\n",
       "      <td>https://www.adidas.de/world-cup-fussballschuh/...</td>\n",
       "      <td>NaN</td>\n",
       "      <td>NaN</td>\n",
       "      <td>NaN</td>\n",
       "    </tr>\n",
       "    <tr>\n",
       "      <th>1</th>\n",
       "      <td>08/29/2018</td>\n",
       "      <td>adidas</td>\n",
       "      <td>EUR</td>\n",
       "      <td>de-DE</td>\n",
       "      <td>DEU</td>\n",
       "      <td>own eCom</td>\n",
       "      <td>adults</td>\n",
       "      <td>015110</td>\n",
       "      <td>Black/Footwear White/Black</td>\n",
       "      <td>schwarz</td>\n",
       "      <td>...</td>\n",
       "      <td>NaN</td>\n",
       "      <td>04/18/2013</td>\n",
       "      <td>Fußball</td>\n",
       "      <td>Performance</td>\n",
       "      <td>EVA</td>\n",
       "      <td>NaN</td>\n",
       "      <td>https://www.adidas.de/copa-mundial-fussballsch...</td>\n",
       "      <td>NaN</td>\n",
       "      <td>NaN</td>\n",
       "      <td>NaN</td>\n",
       "    </tr>\n",
       "    <tr>\n",
       "      <th>2</th>\n",
       "      <td>08/29/2018</td>\n",
       "      <td>adidas</td>\n",
       "      <td>EUR</td>\n",
       "      <td>de-DE</td>\n",
       "      <td>DEU</td>\n",
       "      <td>own eCom</td>\n",
       "      <td>adults</td>\n",
       "      <td>019000</td>\n",
       "      <td>Black/Footwear White</td>\n",
       "      <td>schwarz</td>\n",
       "      <td>...</td>\n",
       "      <td>NaN</td>\n",
       "      <td>04/18/2013</td>\n",
       "      <td>Freizeit</td>\n",
       "      <td>Performance</td>\n",
       "      <td>EVA</td>\n",
       "      <td>NaN</td>\n",
       "      <td>https://www.adidas.de/samba-leather-schuh/0190...</td>\n",
       "      <td>NaN</td>\n",
       "      <td>NaN</td>\n",
       "      <td>NaN</td>\n",
       "    </tr>\n",
       "    <tr>\n",
       "      <th>3</th>\n",
       "      <td>08/29/2018</td>\n",
       "      <td>adidas</td>\n",
       "      <td>EUR</td>\n",
       "      <td>de-DE</td>\n",
       "      <td>DEU</td>\n",
       "      <td>own eCom</td>\n",
       "      <td>adults</td>\n",
       "      <td>019099</td>\n",
       "      <td>Black/White</td>\n",
       "      <td>schwarz</td>\n",
       "      <td>...</td>\n",
       "      <td>NaN</td>\n",
       "      <td>01/28/2015</td>\n",
       "      <td>Freizeit</td>\n",
       "      <td>Sport inspired</td>\n",
       "      <td>EVA</td>\n",
       "      <td>NaN</td>\n",
       "      <td>https://www.adidas.de/samba-super-schuh/019099...</td>\n",
       "      <td>NaN</td>\n",
       "      <td>NaN</td>\n",
       "      <td>NaN</td>\n",
       "    </tr>\n",
       "    <tr>\n",
       "      <th>4</th>\n",
       "      <td>08/29/2018</td>\n",
       "      <td>adidas</td>\n",
       "      <td>EUR</td>\n",
       "      <td>de-DE</td>\n",
       "      <td>DEU</td>\n",
       "      <td>own eCom</td>\n",
       "      <td>adults</td>\n",
       "      <td>019228</td>\n",
       "      <td>Black/Footwear White/Red</td>\n",
       "      <td>schwarz</td>\n",
       "      <td>...</td>\n",
       "      <td>NaN</td>\n",
       "      <td>04/18/2013</td>\n",
       "      <td>Fußball</td>\n",
       "      <td>Performance</td>\n",
       "      <td>TRAXION|EVA</td>\n",
       "      <td>NaN</td>\n",
       "      <td>https://www.adidas.de/mundial-team-fussballsch...</td>\n",
       "      <td>NaN</td>\n",
       "      <td>NaN</td>\n",
       "      <td>NaN</td>\n",
       "    </tr>\n",
       "  </tbody>\n",
       "</table>\n",
       "<p>5 rows × 31 columns</p>\n",
       "</div>"
      ],
      "text/plain": [
       "         date    name currency language name2     name3 ageGroup articleId  \\\n",
       "0  08/29/2018  adidas      EUR    de-DE   DEU  own eCom   adults    011040   \n",
       "1  08/29/2018  adidas      EUR    de-DE   DEU  own eCom   adults    015110   \n",
       "2  08/29/2018  adidas      EUR    de-DE   DEU  own eCom   adults    019000   \n",
       "3  08/29/2018  adidas      EUR    de-DE   DEU  own eCom   adults    019099   \n",
       "4  08/29/2018  adidas      EUR    de-DE   DEU  own eCom   adults    019228   \n",
       "\n",
       "                       colors colorGroup  ...   ped         pid  \\\n",
       "0        Black/Footwear White    schwarz  ...   NaN  04/18/2013   \n",
       "1  Black/Footwear White/Black    schwarz  ...   NaN  04/18/2013   \n",
       "2        Black/Footwear White    schwarz  ...   NaN  04/18/2013   \n",
       "3                 Black/White    schwarz  ...   NaN  01/28/2015   \n",
       "4    Black/Footwear White/Red    schwarz  ...   NaN  04/18/2013   \n",
       "\n",
       "  sportsCategory        subBrand technologies type  \\\n",
       "0        Fußball     Performance          EVA  NaN   \n",
       "1        Fußball     Performance          EVA  NaN   \n",
       "2       Freizeit     Performance          EVA  NaN   \n",
       "3       Freizeit  Sport inspired          EVA  NaN   \n",
       "4        Fußball     Performance  TRAXION|EVA  NaN   \n",
       "\n",
       "                                                 url price  territories type5  \n",
       "0  https://www.adidas.de/world-cup-fussballschuh/...   NaN          NaN   NaN  \n",
       "1  https://www.adidas.de/copa-mundial-fussballsch...   NaN          NaN   NaN  \n",
       "2  https://www.adidas.de/samba-leather-schuh/0190...   NaN          NaN   NaN  \n",
       "3  https://www.adidas.de/samba-super-schuh/019099...   NaN          NaN   NaN  \n",
       "4  https://www.adidas.de/mundial-team-fussballsch...   NaN          NaN   NaN  \n",
       "\n",
       "[5 rows x 31 columns]"
      ]
     },
     "execution_count": 11,
     "metadata": {},
     "output_type": "execute_result"
    }
   ],
   "source": [
    "data_1 = pd.read_csv(\"Adidas GPMT/GPMT Project/15th Oct 35 CSV.csv\", encoding='latin-1')\n",
    "data_2 = pd.read_csv(\"Adidas GPMT/GPMT Project/15th Oct 37 CSV.csv\", encoding='latin-1')\n",
    "data_3 = pd.read_csv(\"Adidas GPMT/GPMT Project/15th Oct 38 CSV.csv\", encoding='latin-1')\n",
    "data_4 = pd.read_csv(\"Adidas GPMT/GPMT Project/15th Oct 39 CSV.csv\", encoding='latin-1')\n",
    "data = data_1.append(data_2, ignore_index=True)\n",
    "data = data.append(data_3, ignore_index=True)\n",
    "data = data.append(data_4, ignore_index=True)\n",
    "data.head()"
   ]
  },
  {
   "cell_type": "code",
   "execution_count": 12,
   "metadata": {},
   "outputs": [
    {
     "data": {
      "text/plain": [
       "date                    0\n",
       "name                    0\n",
       "currency                0\n",
       "language                0\n",
       "name2                   0\n",
       "name3                 368\n",
       "ageGroup            10309\n",
       "articleId             368\n",
       "colors              10045\n",
       "colorGroup          37566\n",
       "consumerRating        368\n",
       "currentPrice          368\n",
       "description          5033\n",
       "discountedSince    277723\n",
       "division              368\n",
       "gender              11363\n",
       "group               76709\n",
       "imageUrl              404\n",
       "initialPrice          368\n",
       "modelNumber           368\n",
       "name4                 371\n",
       "ped                416727\n",
       "pid                   368\n",
       "sportsCategory      88758\n",
       "subBrand            93557\n",
       "technologies       281645\n",
       "type               274499\n",
       "url                   368\n",
       "price              439691\n",
       "territories        439691\n",
       "type5              439691\n",
       "dtype: int64"
      ]
     },
     "execution_count": 12,
     "metadata": {},
     "output_type": "execute_result"
    }
   ],
   "source": [
    "data.isnull().sum()"
   ]
  },
  {
   "cell_type": "code",
   "execution_count": 13,
   "metadata": {},
   "outputs": [
    {
     "data": {
      "text/plain": [
       "array(['de-DE', 'en-US', 'en-GB'], dtype=object)"
      ]
     },
     "execution_count": 13,
     "metadata": {},
     "output_type": "execute_result"
    }
   ],
   "source": [
    "data.language.unique()"
   ]
  },
  {
   "cell_type": "code",
   "execution_count": 14,
   "metadata": {},
   "outputs": [
    {
     "data": {
      "text/plain": [
       "array(['Performance', 'Sport inspired', 'adidas by Stella McCartney',\n",
       "       'Essentials', nan, 'Porsche Design Sport by adidas',\n",
       "       'Sport Inspired', 'sport inspired', 'Sport', 'performance',\n",
       "       'adidas by stella mccartney', 'porsche design sport by adidas',\n",
       "       'essentials', 'adidas neo', 'Sportswear', 'Jordan', 'Collections',\n",
       "       'UAS', 'Hurley'], dtype=object)"
      ]
     },
     "execution_count": 14,
     "metadata": {},
     "output_type": "execute_result"
    }
   ],
   "source": [
    "data.subBrand.unique()"
   ]
  },
  {
   "cell_type": "code",
   "execution_count": 15,
   "metadata": {},
   "outputs": [],
   "source": [
    "# Filtering US and UK\n",
    "#data = data.loc[data[\"language\"].isin(['de-DE'])]"
   ]
  },
  {
   "cell_type": "code",
   "execution_count": 16,
   "metadata": {},
   "outputs": [],
   "source": [
    "#data.group.unique()"
   ]
  },
  {
   "cell_type": "code",
   "execution_count": 17,
   "metadata": {},
   "outputs": [],
   "source": [
    "data_req = data.loc[:,[\"name\", \"description\", \"division\",\"sportsCategory\", \"subBrand\", \"group\", \"name2\", \"name3\", \"name4\", \"url\", \"colors\", \"colorGroup\", \"imageUrl\"]]"
   ]
  },
  {
   "cell_type": "code",
   "execution_count": 18,
   "metadata": {},
   "outputs": [],
   "source": [
    "data_req = data_req.drop_duplicates()"
   ]
  },
  {
   "cell_type": "code",
   "execution_count": 19,
   "metadata": {},
   "outputs": [
    {
     "data": {
      "text/plain": [
       "172818"
      ]
     },
     "execution_count": 19,
     "metadata": {},
     "output_type": "execute_result"
    }
   ],
   "source": [
    "len(data_req)"
   ]
  },
  {
   "cell_type": "code",
   "execution_count": 20,
   "metadata": {},
   "outputs": [],
   "source": [
    "data_req_x = data_req.loc[:,[\"name\", \"description\", \"division\", \"group\", \"name2\", \"name3\", \"name4\", \"subBrand\",\"sportsCategory\", \"url\", \"colors\",\"imageUrl\"]]\n",
    "data_req_y = data_req.loc[:, [\"colorGroup\"]]"
   ]
  },
  {
   "cell_type": "code",
   "execution_count": 21,
   "metadata": {},
   "outputs": [],
   "source": [
    "data_req_x = data_req_x.fillna(\"unknown\")\n",
    "data_req = pd.concat([data_req_x, data_req_y], axis=1)"
   ]
  },
  {
   "cell_type": "code",
   "execution_count": 22,
   "metadata": {},
   "outputs": [
    {
     "data": {
      "text/plain": [
       "172818"
      ]
     },
     "execution_count": 22,
     "metadata": {},
     "output_type": "execute_result"
    }
   ],
   "source": [
    "len(data_req)"
   ]
  },
  {
   "cell_type": "code",
   "execution_count": 23,
   "metadata": {},
   "outputs": [],
   "source": [
    "data_req = data_req.dropna()"
   ]
  },
  {
   "cell_type": "code",
   "execution_count": 24,
   "metadata": {},
   "outputs": [],
   "source": [
    "data_req = data_req.drop_duplicates()"
   ]
  },
  {
   "cell_type": "code",
   "execution_count": 25,
   "metadata": {},
   "outputs": [],
   "source": [
    "data_req[\"description\"]  = data_req[\"name\"] +\" \" + data_req[\"description\"] +\" \" + data_req[\"division\"] +\" \" + data_req[\"group\"] +\" \" + data_req[\"name2\"]+\" \" + data_req[\"name3\"]+\" \" + data_req[\"name4\"]+\" \" + data_req[\"sportsCategory\"]+\" \" + data_req[\"url\"]+\" \" + data_req[\"colors\"]+\" \" + data_req[\"imageUrl\"]+\" \" + data_req[\"subBrand\"]"
   ]
  },
  {
   "cell_type": "code",
   "execution_count": 26,
   "metadata": {},
   "outputs": [],
   "source": [
    "data_req = data_req.drop([\"name\", \"division\", \"group\", \"name2\", \"name3\", \"name4\", \"subBrand\", \"url\", \"colors\", \"imageUrl\", \"sportsCategory\"], axis = 1)"
   ]
  },
  {
   "cell_type": "code",
   "execution_count": 27,
   "metadata": {},
   "outputs": [],
   "source": [
    "data_req.columns = [\"description\", \"subBrand\"]"
   ]
  },
  {
   "cell_type": "code",
   "execution_count": 28,
   "metadata": {},
   "outputs": [
    {
     "data": {
      "text/plain": [
       "array(['schwarz', 'orange', 'weiß', 'blau', 'rot', 'rosa', 'grün',\n",
       "       'silber', 'grau', 'gelb', 'braun', 'türkis', 'lila', 'stone',\n",
       "       'gold', 'mehrfarbig', 'beige', 'aqua', 'clear', 'carbon', 'rose',\n",
       "       'olive', 'off white', 'petrol', 'coral', 'maroon', 'lilac',\n",
       "       'grey heather', 'multicolor', 'teal', 'multi', 'Black', 'Blue',\n",
       "       'White', 'Red', 'Multicolor', 'Silver', 'Orange', 'Green', 'Grey',\n",
       "       'Pink', 'Brown', 'Yellow', 'Turquoise', 'Purple', 'Gold', 'Braun',\n",
       "       'Stone', 'Aqua', 'Multicolour', 'Beige', 'Clear', 'Grey Heather',\n",
       "       'multicolour', 'Braun-schwarz', 'Teal', 'Schwarz', 'Weiß', 'Blau',\n",
       "       'Khaki', 'Lila', 'Rot', 'Creme', 'Silber', 'Olive', 'Grau', 'Grün',\n",
       "       'Gelb', 'Fir', 'College Navy', 'Print', 'Volt', 'Wolf Grey',\n",
       "       'Obsidian', 'Cool Grey', 'Pure Platinum', 'Dunkelgrau',\n",
       "       'Midnight Navy', 'Prism Pink', 'Anthrazit', 'Deep Royal Blue',\n",
       "       'Cargo Khaki', 'Medium Blue', 'Binary Blue', 'University Red',\n",
       "       'Hyper Pink', 'Carbon Heather', 'Rose', 'Game Royal', 'Work Blue',\n",
       "       'Sequoia', 'Glacier Blue', 'Dark Obsidian', 'Team Red',\n",
       "       'Blue Tint', 'Rush Blue', 'Marine', 'Gym Red', 'Signal Blue',\n",
       "       'Dark Stucco', 'Heather', 'Burgundy Crush', 'Smokey Mauve',\n",
       "       'Track Red', 'Gym Blue', 'Summit White', 'Flax', 'Thunder Blue',\n",
       "       'Amarillo', 'Carbon', 'Charcoal Heather', 'Medium Olive',\n",
       "       'Multi-Color', 'Denim', 'Varsity Red', 'Anthracite', 'Charcoal',\n",
       "       'Coral', 'Cream', 'Photo Blue', 'New Orchid', 'Team Orange',\n",
       "       'Battle Blue', 'Field Purple', 'Soar', 'Light Bone', 'Light Blue',\n",
       "       'Navy', 'Violet', 'Multi-Colour', 'tan', 'metallic',\n",
       "       'multi-colored', '220 - Gold', 'denim', 'olive green', 'bordeaux',\n",
       "       'Gray', 'Tan', 'Metallic', '230 - Silver', '150 - Not Defined',\n",
       "       'Violett', 'Olive green', 'Bordeaux', 'Mehrfarbig', 'Rosa',\n",
       "       'Türkis', 'Marineblau', 'Gemischt', 'Maroon', 'Nude', 'Cyber',\n",
       "       'Neon', 'Assorted', 'Petrol', 'Cardinal', 'Light blue', 'Noir',\n",
       "       'Rose Gold', 'Team orange', 'Metallic Gold', 'black', 'grey',\n",
       "       'white', 'blue', 'navy', 'red', 'green', 'obsidian', 'heather',\n",
       "       'pink', 'brown', 'violet', 'purple', 'thunder blue', 'silver',\n",
       "       'yellow', 'camo', 'midnight navy', 'sequoia', 'gris', 'turquoise',\n",
       "       'cyber', 'nude', 'motif', 'floral', 'Grey/Silver', 'cream',\n",
       "       'assorted', 'dark blue', 'neon', 'light blue', 'dark green',\n",
       "       'khaki', 'Sail', 'Ice Blue', 'Sheen', 'Powder', 'Rapid Teal',\n",
       "       'Off White', 'Dark Green', 'Lilac', 'Linen', 'Multi', 'Misc'],\n",
       "      dtype=object)"
      ]
     },
     "execution_count": 28,
     "metadata": {},
     "output_type": "execute_result"
    }
   ],
   "source": [
    "data_req.subBrand.unique()"
   ]
  },
  {
   "cell_type": "code",
   "execution_count": 29,
   "metadata": {},
   "outputs": [
    {
     "data": {
      "text/plain": [
       "153365"
      ]
     },
     "execution_count": 29,
     "metadata": {},
     "output_type": "execute_result"
    }
   ],
   "source": [
    "len(data_req)"
   ]
  },
  {
   "cell_type": "code",
   "execution_count": 30,
   "metadata": {},
   "outputs": [],
   "source": [
    "data_req = data_req.drop_duplicates()"
   ]
  },
  {
   "cell_type": "code",
   "execution_count": 31,
   "metadata": {},
   "outputs": [],
   "source": [
    "data_req.subBrand = data_req.subBrand.str.lower()\n",
    "data_req.description = data_req.description.str.lower()"
   ]
  },
  {
   "cell_type": "code",
   "execution_count": 32,
   "metadata": {},
   "outputs": [
    {
     "data": {
      "text/plain": [
       "array(['schwarz', 'orange', 'weiß', 'blau', 'rot', 'rosa', 'grün',\n",
       "       'silber', 'grau', 'gelb', 'braun', 'türkis', 'lila', 'stone',\n",
       "       'gold', 'mehrfarbig', 'beige', 'aqua', 'clear', 'carbon', 'rose',\n",
       "       'olive', 'off white', 'petrol', 'coral', 'maroon', 'lilac',\n",
       "       'grey heather', 'multicolor', 'teal', 'multi', 'black', 'blue',\n",
       "       'white', 'red', 'silver', 'green', 'grey', 'pink', 'brown',\n",
       "       'yellow', 'turquoise', 'purple', 'multicolour', 'braun-schwarz',\n",
       "       'khaki', 'creme', 'fir', 'college navy', 'print', 'volt',\n",
       "       'wolf grey', 'obsidian', 'cool grey', 'pure platinum',\n",
       "       'dunkelgrau', 'midnight navy', 'prism pink', 'anthrazit',\n",
       "       'deep royal blue', 'cargo khaki', 'medium blue', 'binary blue',\n",
       "       'university red', 'hyper pink', 'carbon heather', 'game royal',\n",
       "       'work blue', 'sequoia', 'glacier blue', 'dark obsidian',\n",
       "       'team red', 'blue tint', 'rush blue', 'marine', 'gym red',\n",
       "       'signal blue', 'dark stucco', 'heather', 'burgundy crush',\n",
       "       'smokey mauve', 'track red', 'gym blue', 'summit white', 'flax',\n",
       "       'thunder blue', 'amarillo', 'charcoal heather', 'medium olive',\n",
       "       'multi-color', 'denim', 'varsity red', 'anthracite', 'charcoal',\n",
       "       'cream', 'photo blue', 'new orchid', 'team orange', 'battle blue',\n",
       "       'field purple', 'soar', 'light bone', 'light blue', 'navy',\n",
       "       'violet', 'multi-colour', 'tan', 'metallic', 'multi-colored',\n",
       "       '220 - gold', 'olive green', 'bordeaux', 'gray', '230 - silver',\n",
       "       '150 - not defined', 'violett', 'marineblau', 'gemischt', 'nude',\n",
       "       'cyber', 'neon', 'assorted', 'cardinal', 'noir', 'rose gold',\n",
       "       'metallic gold', 'camo', 'gris', 'motif', 'floral', 'grey/silver',\n",
       "       'dark blue', 'dark green', 'sail', 'ice blue', 'sheen', 'powder',\n",
       "       'rapid teal', 'linen', 'misc'], dtype=object)"
      ]
     },
     "execution_count": 32,
     "metadata": {},
     "output_type": "execute_result"
    }
   ],
   "source": [
    "data_req.subBrand.unique()"
   ]
  },
  {
   "cell_type": "code",
   "execution_count": 33,
   "metadata": {},
   "outputs": [
    {
     "data": {
      "text/plain": [
       "(687.8169660613569, 267.6378344452206, 3728)"
      ]
     },
     "execution_count": 33,
     "metadata": {},
     "output_type": "execute_result"
    }
   ],
   "source": [
    "lens = data_req.description.str.len()\n",
    "lens.mean(), lens.std(), lens.max()"
   ]
  },
  {
   "cell_type": "code",
   "execution_count": 34,
   "metadata": {},
   "outputs": [
    {
     "data": {
      "image/png": "[encoded data removed]",
      "text/plain": [
       "<Figure size 432x288 with 1 Axes>"
      ]
     },
     "metadata": {},
     "output_type": "display_data"
    }
   ],
   "source": [
    "lens.hist();"
   ]
  },
  {
   "cell_type": "code",
   "execution_count": 35,
   "metadata": {},
   "outputs": [],
   "source": [
    "data_req = data_req.dropna()"
   ]
  },
  {
   "cell_type": "code",
   "execution_count": 36,
   "metadata": {},
   "outputs": [
    {
     "data": {
      "text/plain": [
       "153365"
      ]
     },
     "execution_count": 36,
     "metadata": {},
     "output_type": "execute_result"
    }
   ],
   "source": [
    "len(data_req)"
   ]
  },
  {
   "cell_type": "code",
   "execution_count": 37,
   "metadata": {},
   "outputs": [],
   "source": [
    "one_hot = pd.get_dummies(data_req.subBrand)"
   ]
  },
  {
   "cell_type": "code",
   "execution_count": 38,
   "metadata": {},
   "outputs": [],
   "source": [
    "label_cols = data_req.subBrand.dropna().unique()"
   ]
  },
  {
   "cell_type": "code",
   "execution_count": 39,
   "metadata": {},
   "outputs": [
    {
     "data": {
      "text/plain": [
       "array(['schwarz', 'orange', 'weiß', 'blau', 'rot', 'rosa', 'grün',\n",
       "       'silber', 'grau', 'gelb', 'braun', 'türkis', 'lila', 'stone',\n",
       "       'gold', 'mehrfarbig', 'beige', 'aqua', 'clear', 'carbon', 'rose',\n",
       "       'olive', 'off white', 'petrol', 'coral', 'maroon', 'lilac',\n",
       "       'grey heather', 'multicolor', 'teal', 'multi', 'black', 'blue',\n",
       "       'white', 'red', 'silver', 'green', 'grey', 'pink', 'brown',\n",
       "       'yellow', 'turquoise', 'purple', 'multicolour', 'braun-schwarz',\n",
       "       'khaki', 'creme', 'fir', 'college navy', 'print', 'volt',\n",
       "       'wolf grey', 'obsidian', 'cool grey', 'pure platinum',\n",
       "       'dunkelgrau', 'midnight navy', 'prism pink', 'anthrazit',\n",
       "       'deep royal blue', 'cargo khaki', 'medium blue', 'binary blue',\n",
       "       'university red', 'hyper pink', 'carbon heather', 'game royal',\n",
       "       'work blue', 'sequoia', 'glacier blue', 'dark obsidian',\n",
       "       'team red', 'blue tint', 'rush blue', 'marine', 'gym red',\n",
       "       'signal blue', 'dark stucco', 'heather', 'burgundy crush',\n",
       "       'smokey mauve', 'track red', 'gym blue', 'summit white', 'flax',\n",
       "       'thunder blue', 'amarillo', 'charcoal heather', 'medium olive',\n",
       "       'multi-color', 'denim', 'varsity red', 'anthracite', 'charcoal',\n",
       "       'cream', 'photo blue', 'new orchid', 'team orange', 'battle blue',\n",
       "       'field purple', 'soar', 'light bone', 'light blue', 'navy',\n",
       "       'violet', 'multi-colour', 'tan', 'metallic', 'multi-colored',\n",
       "       '220 - gold', 'olive green', 'bordeaux', 'gray', '230 - silver',\n",
       "       '150 - not defined', 'violett', 'marineblau', 'gemischt', 'nude',\n",
       "       'cyber', 'neon', 'assorted', 'cardinal', 'noir', 'rose gold',\n",
       "       'metallic gold', 'camo', 'gris', 'motif', 'floral', 'grey/silver',\n",
       "       'dark blue', 'dark green', 'sail', 'ice blue', 'sheen', 'powder',\n",
       "       'rapid teal', 'linen', 'misc'], dtype=object)"
      ]
     },
     "execution_count": 39,
     "metadata": {},
     "output_type": "execute_result"
    }
   ],
   "source": [
    "label_cols"
   ]
  },
  {
   "cell_type": "code",
   "execution_count": 40,
   "metadata": {},
   "outputs": [],
   "source": [
    "minCount = 10\n",
    "subBrand_minCount = pd.DataFrame((data_req.subBrand.value_counts() > minCount).reset_index())"
   ]
  },
  {
   "cell_type": "code",
   "execution_count": 41,
   "metadata": {},
   "outputs": [],
   "source": [
    "subBrand_drop = subBrand_minCount.loc[subBrand_minCount[\"subBrand\"] == False]"
   ]
  },
  {
   "cell_type": "code",
   "execution_count": 42,
   "metadata": {},
   "outputs": [
    {
     "data": {
      "text/html": [
       "<div>\n",
       "<style scoped>\n",
       "    .dataframe tbody tr th:only-of-type {\n",
       "        vertical-align: middle;\n",
       "    }\n",
       "\n",
       "    .dataframe tbody tr th {\n",
       "        vertical-align: top;\n",
       "    }\n",
       "\n",
       "    .dataframe thead th {\n",
       "        text-align: right;\n",
       "    }\n",
       "</style>\n",
       "<table border=\"1\" class=\"dataframe\">\n",
       "  <thead>\n",
       "    <tr style=\"text-align: right;\">\n",
       "      <th></th>\n",
       "      <th>index</th>\n",
       "      <th>subBrand</th>\n",
       "    </tr>\n",
       "  </thead>\n",
       "  <tbody>\n",
       "    <tr>\n",
       "      <th>102</th>\n",
       "      <td>sequoia</td>\n",
       "      <td>False</td>\n",
       "    </tr>\n",
       "    <tr>\n",
       "      <th>103</th>\n",
       "      <td>work blue</td>\n",
       "      <td>False</td>\n",
       "    </tr>\n",
       "    <tr>\n",
       "      <th>104</th>\n",
       "      <td>summit white</td>\n",
       "      <td>False</td>\n",
       "    </tr>\n",
       "    <tr>\n",
       "      <th>105</th>\n",
       "      <td>light blue</td>\n",
       "      <td>False</td>\n",
       "    </tr>\n",
       "    <tr>\n",
       "      <th>106</th>\n",
       "      <td>150 - not defined</td>\n",
       "      <td>False</td>\n",
       "    </tr>\n",
       "    <tr>\n",
       "      <th>107</th>\n",
       "      <td>dark stucco</td>\n",
       "      <td>False</td>\n",
       "    </tr>\n",
       "    <tr>\n",
       "      <th>108</th>\n",
       "      <td>floral</td>\n",
       "      <td>False</td>\n",
       "    </tr>\n",
       "    <tr>\n",
       "      <th>109</th>\n",
       "      <td>team orange</td>\n",
       "      <td>False</td>\n",
       "    </tr>\n",
       "    <tr>\n",
       "      <th>110</th>\n",
       "      <td>dunkelgrau</td>\n",
       "      <td>False</td>\n",
       "    </tr>\n",
       "    <tr>\n",
       "      <th>111</th>\n",
       "      <td>ice blue</td>\n",
       "      <td>False</td>\n",
       "    </tr>\n",
       "    <tr>\n",
       "      <th>112</th>\n",
       "      <td>pure platinum</td>\n",
       "      <td>False</td>\n",
       "    </tr>\n",
       "    <tr>\n",
       "      <th>113</th>\n",
       "      <td>rose gold</td>\n",
       "      <td>False</td>\n",
       "    </tr>\n",
       "    <tr>\n",
       "      <th>114</th>\n",
       "      <td>bordeaux</td>\n",
       "      <td>False</td>\n",
       "    </tr>\n",
       "    <tr>\n",
       "      <th>115</th>\n",
       "      <td>gris</td>\n",
       "      <td>False</td>\n",
       "    </tr>\n",
       "    <tr>\n",
       "      <th>116</th>\n",
       "      <td>olive green</td>\n",
       "      <td>False</td>\n",
       "    </tr>\n",
       "    <tr>\n",
       "      <th>117</th>\n",
       "      <td>noir</td>\n",
       "      <td>False</td>\n",
       "    </tr>\n",
       "    <tr>\n",
       "      <th>118</th>\n",
       "      <td>rapid teal</td>\n",
       "      <td>False</td>\n",
       "    </tr>\n",
       "    <tr>\n",
       "      <th>119</th>\n",
       "      <td>powder</td>\n",
       "      <td>False</td>\n",
       "    </tr>\n",
       "    <tr>\n",
       "      <th>120</th>\n",
       "      <td>soar</td>\n",
       "      <td>False</td>\n",
       "    </tr>\n",
       "    <tr>\n",
       "      <th>121</th>\n",
       "      <td>hyper pink</td>\n",
       "      <td>False</td>\n",
       "    </tr>\n",
       "    <tr>\n",
       "      <th>122</th>\n",
       "      <td>dark green</td>\n",
       "      <td>False</td>\n",
       "    </tr>\n",
       "    <tr>\n",
       "      <th>123</th>\n",
       "      <td>misc</td>\n",
       "      <td>False</td>\n",
       "    </tr>\n",
       "    <tr>\n",
       "      <th>124</th>\n",
       "      <td>flax</td>\n",
       "      <td>False</td>\n",
       "    </tr>\n",
       "    <tr>\n",
       "      <th>125</th>\n",
       "      <td>metallic gold</td>\n",
       "      <td>False</td>\n",
       "    </tr>\n",
       "    <tr>\n",
       "      <th>126</th>\n",
       "      <td>varsity red</td>\n",
       "      <td>False</td>\n",
       "    </tr>\n",
       "    <tr>\n",
       "      <th>127</th>\n",
       "      <td>sail</td>\n",
       "      <td>False</td>\n",
       "    </tr>\n",
       "    <tr>\n",
       "      <th>128</th>\n",
       "      <td>medium olive</td>\n",
       "      <td>False</td>\n",
       "    </tr>\n",
       "    <tr>\n",
       "      <th>129</th>\n",
       "      <td>medium blue</td>\n",
       "      <td>False</td>\n",
       "    </tr>\n",
       "    <tr>\n",
       "      <th>130</th>\n",
       "      <td>motif</td>\n",
       "      <td>False</td>\n",
       "    </tr>\n",
       "    <tr>\n",
       "      <th>131</th>\n",
       "      <td>cargo khaki</td>\n",
       "      <td>False</td>\n",
       "    </tr>\n",
       "    <tr>\n",
       "      <th>132</th>\n",
       "      <td>track red</td>\n",
       "      <td>False</td>\n",
       "    </tr>\n",
       "    <tr>\n",
       "      <th>133</th>\n",
       "      <td>sheen</td>\n",
       "      <td>False</td>\n",
       "    </tr>\n",
       "    <tr>\n",
       "      <th>134</th>\n",
       "      <td>smokey mauve</td>\n",
       "      <td>False</td>\n",
       "    </tr>\n",
       "    <tr>\n",
       "      <th>135</th>\n",
       "      <td>prism pink</td>\n",
       "      <td>False</td>\n",
       "    </tr>\n",
       "    <tr>\n",
       "      <th>136</th>\n",
       "      <td>braun-schwarz</td>\n",
       "      <td>False</td>\n",
       "    </tr>\n",
       "    <tr>\n",
       "      <th>137</th>\n",
       "      <td>light bone</td>\n",
       "      <td>False</td>\n",
       "    </tr>\n",
       "    <tr>\n",
       "      <th>138</th>\n",
       "      <td>volt</td>\n",
       "      <td>False</td>\n",
       "    </tr>\n",
       "    <tr>\n",
       "      <th>139</th>\n",
       "      <td>photo blue</td>\n",
       "      <td>False</td>\n",
       "    </tr>\n",
       "  </tbody>\n",
       "</table>\n",
       "</div>"
      ],
      "text/plain": [
       "                 index  subBrand\n",
       "102            sequoia     False\n",
       "103          work blue     False\n",
       "104       summit white     False\n",
       "105         light blue     False\n",
       "106  150 - not defined     False\n",
       "107        dark stucco     False\n",
       "108             floral     False\n",
       "109        team orange     False\n",
       "110         dunkelgrau     False\n",
       "111           ice blue     False\n",
       "112      pure platinum     False\n",
       "113          rose gold     False\n",
       "114           bordeaux     False\n",
       "115               gris     False\n",
       "116        olive green     False\n",
       "117               noir     False\n",
       "118         rapid teal     False\n",
       "119             powder     False\n",
       "120               soar     False\n",
       "121         hyper pink     False\n",
       "122         dark green     False\n",
       "123               misc     False\n",
       "124               flax     False\n",
       "125      metallic gold     False\n",
       "126        varsity red     False\n",
       "127               sail     False\n",
       "128       medium olive     False\n",
       "129        medium blue     False\n",
       "130              motif     False\n",
       "131        cargo khaki     False\n",
       "132          track red     False\n",
       "133              sheen     False\n",
       "134       smokey mauve     False\n",
       "135         prism pink     False\n",
       "136      braun-schwarz     False\n",
       "137         light bone     False\n",
       "138               volt     False\n",
       "139         photo blue     False"
      ]
     },
     "execution_count": 42,
     "metadata": {},
     "output_type": "execute_result"
    }
   ],
   "source": [
    "subBrand_drop"
   ]
  },
  {
   "cell_type": "code",
   "execution_count": 43,
   "metadata": {},
   "outputs": [],
   "source": [
    "label_cols = np.setdiff1d(label_cols, subBrand_drop[\"index\"])"
   ]
  },
  {
   "cell_type": "code",
   "execution_count": 44,
   "metadata": {},
   "outputs": [],
   "source": [
    "data_req = pd.concat([data_req, one_hot], axis=1)"
   ]
  },
  {
   "cell_type": "code",
   "execution_count": 45,
   "metadata": {},
   "outputs": [],
   "source": [
    "import re, string\n",
    "re_tok = re.compile(f'([{string.punctuation}“”¨«»®´·º½¾¿¡§£₤‘’])')\n",
    "def tokenize(s): return re_tok.sub(r' \\1 ', s).split()"
   ]
  },
  {
   "cell_type": "code",
   "execution_count": 46,
   "metadata": {},
   "outputs": [],
   "source": [
    "description = \"description\""
   ]
  },
  {
   "cell_type": "code",
   "execution_count": 47,
   "metadata": {},
   "outputs": [],
   "source": [
    "data_req = data_req.drop(subBrand_drop[\"index\"], axis = 1)"
   ]
  },
  {
   "cell_type": "code",
   "execution_count": 48,
   "metadata": {},
   "outputs": [],
   "source": [
    "np.random.seed(123)\n",
    "data_req_sample = data_req.sample(frac=0.7)"
   ]
  },
  {
   "cell_type": "code",
   "execution_count": 49,
   "metadata": {},
   "outputs": [],
   "source": [
    "train = data_req.loc[data_req.index.isin(data_req_sample.index)]\n",
    "test = data_req.loc[~data_req.index.isin(data_req_sample.index)]"
   ]
  },
  {
   "cell_type": "code",
   "execution_count": 50,
   "metadata": {},
   "outputs": [],
   "source": [
    "test_subBrand = test.subBrand"
   ]
  },
  {
   "cell_type": "code",
   "execution_count": 51,
   "metadata": {},
   "outputs": [],
   "source": [
    "#test_subBrand"
   ]
  },
  {
   "cell_type": "code",
   "execution_count": 52,
   "metadata": {},
   "outputs": [],
   "source": [
    "train = train.drop(\"subBrand\", axis = 1)\n",
    "test = test.drop(\"subBrand\", axis = 1)"
   ]
  },
  {
   "cell_type": "code",
   "execution_count": 53,
   "metadata": {},
   "outputs": [],
   "source": [
    "# token_dict = {}\n",
    "# stemmer = PorterStemmer()\n",
    "\n",
    "# def stem_tokens(tokens, stemmer):\n",
    "#     stemmed = []\n",
    "#     for item in tokens:\n",
    "#         stemmed.append(stemmer.stem(item))\n",
    "#     return stemmed\n",
    "\n",
    "# def tokenize(text):\n",
    "#     tokens = nltk.word_tokenize(text)\n",
    "#     stems = stem_tokens(tokens, stemmer)\n",
    "#     return stems"
   ]
  },
  {
   "cell_type": "code",
   "execution_count": 54,
   "metadata": {},
   "outputs": [],
   "source": [
    "# from stop_words import get_stop_words\n",
    "# stop_words_english = get_stop_words('english')\n",
    "# stop_words_german = get_stop_words('german')"
   ]
  },
  {
   "cell_type": "code",
   "execution_count": 55,
   "metadata": {},
   "outputs": [],
   "source": [
    "#stop_words_english.append(stop_words_german)"
   ]
  },
  {
   "cell_type": "code",
   "execution_count": 56,
   "metadata": {},
   "outputs": [],
   "source": [
    "# stop_words_english = sorted(set(map(tuple, stop_words_english)), reverse=True)"
   ]
  },
  {
   "cell_type": "code",
   "execution_count": 57,
   "metadata": {},
   "outputs": [],
   "source": [
    "n = train.shape[0]\n",
    "vec = TfidfVectorizer(ngram_range=(1,2), tokenizer=tokenize,\n",
    "               min_df=3, max_df=0.9, strip_accents='unicode', use_idf=1,\n",
    "               smooth_idf=1, sublinear_tf=1, stop_words = None )\n",
    "trn_term_doc = vec.fit_transform(train[description])\n",
    "test_term_doc = vec.transform(test[description])"
   ]
  },
  {
   "cell_type": "code",
   "execution_count": 58,
   "metadata": {},
   "outputs": [
    {
     "data": {
      "text/plain": [
       "(<107356x371645 sparse matrix of type '<class 'numpy.float64'>'\n",
       " \twith 21588193 stored elements in Compressed Sparse Row format>,\n",
       " <46009x371645 sparse matrix of type '<class 'numpy.float64'>'\n",
       " \twith 9160095 stored elements in Compressed Sparse Row format>)"
      ]
     },
     "execution_count": 58,
     "metadata": {},
     "output_type": "execute_result"
    }
   ],
   "source": [
    "trn_term_doc, test_term_doc"
   ]
  },
  {
   "cell_type": "code",
   "execution_count": 59,
   "metadata": {},
   "outputs": [],
   "source": [
    "def pr(y_i, y):\n",
    "    p = x[y==y_i].sum(0)\n",
    "    return (p+1) / ((y==y_i).sum()+1)"
   ]
  },
  {
   "cell_type": "code",
   "execution_count": 60,
   "metadata": {},
   "outputs": [],
   "source": [
    "x = trn_term_doc\n",
    "test_x = test_term_doc"
   ]
  },
  {
   "cell_type": "code",
   "execution_count": 61,
   "metadata": {},
   "outputs": [],
   "source": [
    "def get_mdl(y):\n",
    "    y = y.values\n",
    "    r = np.log(pr(1,y) / pr(0,y))\n",
    "    m = LogisticRegression(C=4, dual=True)\n",
    "    x_nb = x.multiply(r)\n",
    "    return m.fit(x_nb, y), r"
   ]
  },
  {
   "cell_type": "code",
   "execution_count": 62,
   "metadata": {},
   "outputs": [],
   "source": [
    "from sklearn.linear_model import LogisticRegression"
   ]
  },
  {
   "cell_type": "code",
   "execution_count": 63,
   "metadata": {},
   "outputs": [
    {
     "name": "stdout",
     "output_type": "stream",
     "text": [
      "fit 220 - gold\n",
      "fit 230 - silver\n",
      "fit amarillo\n",
      "fit anthracite\n",
      "fit anthrazit\n",
      "fit aqua\n",
      "fit assorted\n",
      "fit battle blue\n",
      "fit beige\n",
      "fit binary blue\n",
      "fit black\n",
      "fit blau\n",
      "fit blue\n",
      "fit blue tint\n",
      "fit braun\n",
      "fit brown\n",
      "fit burgundy crush\n",
      "fit camo\n",
      "fit carbon\n",
      "fit carbon heather\n",
      "fit cardinal\n",
      "fit charcoal\n",
      "fit charcoal heather\n",
      "fit clear\n",
      "fit college navy\n",
      "fit cool grey\n",
      "fit coral\n",
      "fit cream\n",
      "fit creme\n",
      "fit cyber\n",
      "fit dark blue\n",
      "fit dark obsidian\n",
      "fit deep royal blue\n",
      "fit denim\n",
      "fit field purple\n",
      "fit fir\n",
      "fit game royal\n",
      "fit gelb\n",
      "fit gemischt\n",
      "fit glacier blue\n",
      "fit gold\n",
      "fit grau\n",
      "fit gray\n",
      "fit green\n",
      "fit grey\n",
      "fit grey heather\n",
      "fit grey/silver\n",
      "fit grün\n",
      "fit gym blue\n",
      "fit gym red\n",
      "fit heather\n",
      "fit khaki\n",
      "fit lila\n",
      "fit lilac\n",
      "fit linen\n",
      "fit marine\n",
      "fit marineblau\n",
      "fit maroon\n",
      "fit mehrfarbig\n",
      "fit metallic\n",
      "fit midnight navy\n",
      "fit multi\n",
      "fit multi-color\n",
      "fit multi-colored\n",
      "fit multi-colour\n",
      "fit multicolor\n",
      "fit multicolour\n",
      "fit navy\n",
      "fit neon\n",
      "fit new orchid\n",
      "fit nude\n",
      "fit obsidian\n",
      "fit off white\n",
      "fit olive\n",
      "fit orange\n",
      "fit petrol\n",
      "fit pink\n",
      "fit print\n",
      "fit purple\n",
      "fit red\n",
      "fit rosa\n",
      "fit rose\n",
      "fit rot\n",
      "fit rush blue\n",
      "fit schwarz\n",
      "fit signal blue\n",
      "fit silber\n",
      "fit silver\n",
      "fit stone\n",
      "fit tan\n",
      "fit teal\n",
      "fit team red\n",
      "fit thunder blue\n",
      "fit turquoise\n",
      "fit türkis\n",
      "fit university red\n",
      "fit violet\n",
      "fit violett\n",
      "fit weiß\n",
      "fit white\n",
      "fit wolf grey\n",
      "fit yellow\n"
     ]
    }
   ],
   "source": [
    "preds = np.zeros((len(test), len(label_cols)))\n",
    "\n",
    "for i, j in enumerate(label_cols):\n",
    "    print('fit', j)\n",
    "    m,r = get_mdl(train[j])\n",
    "    preds[:,i] = m.predict_proba(test_x.multiply(r))[:,1]"
   ]
  },
  {
   "cell_type": "code",
   "execution_count": 64,
   "metadata": {},
   "outputs": [
    {
     "data": {
      "text/plain": [
       "(46009, 102)"
      ]
     },
     "execution_count": 64,
     "metadata": {},
     "output_type": "execute_result"
    }
   ],
   "source": [
    "preds.shape"
   ]
  },
  {
   "cell_type": "code",
   "execution_count": 65,
   "metadata": {},
   "outputs": [],
   "source": [
    "predictions = pd.DataFrame(preds, columns = label_cols)"
   ]
  },
  {
   "cell_type": "code",
   "execution_count": 66,
   "metadata": {},
   "outputs": [],
   "source": [
    "test.index = np.arange(0, len(test))\n",
    "test_subBrand.index = np.arange(0, len(test))"
   ]
  },
  {
   "cell_type": "code",
   "execution_count": 67,
   "metadata": {},
   "outputs": [
    {
     "data": {
      "text/plain": [
       "46009"
      ]
     },
     "execution_count": 67,
     "metadata": {},
     "output_type": "execute_result"
    }
   ],
   "source": [
    "len(test)"
   ]
  },
  {
   "cell_type": "code",
   "execution_count": 68,
   "metadata": {},
   "outputs": [],
   "source": [
    "submid = pd.DataFrame({'description': test[\"description\"]})\n",
    "submission = pd.concat([submid, pd.DataFrame(preds, columns = label_cols)], axis=1)"
   ]
  },
  {
   "cell_type": "code",
   "execution_count": 69,
   "metadata": {},
   "outputs": [
    {
     "data": {
      "text/html": [
       "<div>\n",
       "<style scoped>\n",
       "    .dataframe tbody tr th:only-of-type {\n",
       "        vertical-align: middle;\n",
       "    }\n",
       "\n",
       "    .dataframe tbody tr th {\n",
       "        vertical-align: top;\n",
       "    }\n",
       "\n",
       "    .dataframe thead th {\n",
       "        text-align: right;\n",
       "    }\n",
       "</style>\n",
       "<table border=\"1\" class=\"dataframe\">\n",
       "  <thead>\n",
       "    <tr style=\"text-align: right;\">\n",
       "      <th></th>\n",
       "      <th>description</th>\n",
       "      <th>220 - gold</th>\n",
       "      <th>230 - silver</th>\n",
       "      <th>amarillo</th>\n",
       "      <th>anthracite</th>\n",
       "      <th>anthrazit</th>\n",
       "      <th>aqua</th>\n",
       "      <th>assorted</th>\n",
       "      <th>battle blue</th>\n",
       "      <th>beige</th>\n",
       "      <th>...</th>\n",
       "      <th>thunder blue</th>\n",
       "      <th>turquoise</th>\n",
       "      <th>türkis</th>\n",
       "      <th>university red</th>\n",
       "      <th>violet</th>\n",
       "      <th>violett</th>\n",
       "      <th>weiß</th>\n",
       "      <th>white</th>\n",
       "      <th>wolf grey</th>\n",
       "      <th>yellow</th>\n",
       "    </tr>\n",
       "  </thead>\n",
       "  <tbody>\n",
       "    <tr>\n",
       "      <th>0</th>\n",
       "      <td>adidas dieser klassische fußballschuh überzeug...</td>\n",
       "      <td>0.000022</td>\n",
       "      <td>0.000023</td>\n",
       "      <td>0.000025</td>\n",
       "      <td>0.000031</td>\n",
       "      <td>0.000027</td>\n",
       "      <td>0.000034</td>\n",
       "      <td>0.000023</td>\n",
       "      <td>0.000024</td>\n",
       "      <td>0.000371</td>\n",
       "      <td>...</td>\n",
       "      <td>0.000024</td>\n",
       "      <td>0.000036</td>\n",
       "      <td>0.000067</td>\n",
       "      <td>0.000030</td>\n",
       "      <td>0.000025</td>\n",
       "      <td>0.000021</td>\n",
       "      <td>0.004179</td>\n",
       "      <td>0.000009</td>\n",
       "      <td>0.000031</td>\n",
       "      <td>0.000221</td>\n",
       "    </tr>\n",
       "    <tr>\n",
       "      <th>1</th>\n",
       "      <td>adidas hier wird einem legendären fußballschuh...</td>\n",
       "      <td>0.000022</td>\n",
       "      <td>0.000021</td>\n",
       "      <td>0.000023</td>\n",
       "      <td>0.000033</td>\n",
       "      <td>0.000034</td>\n",
       "      <td>0.000026</td>\n",
       "      <td>0.000025</td>\n",
       "      <td>0.000022</td>\n",
       "      <td>0.000546</td>\n",
       "      <td>...</td>\n",
       "      <td>0.000022</td>\n",
       "      <td>0.000038</td>\n",
       "      <td>0.000081</td>\n",
       "      <td>0.000025</td>\n",
       "      <td>0.000023</td>\n",
       "      <td>0.000023</td>\n",
       "      <td>0.001400</td>\n",
       "      <td>0.000001</td>\n",
       "      <td>0.000026</td>\n",
       "      <td>0.000060</td>\n",
       "    </tr>\n",
       "    <tr>\n",
       "      <th>2</th>\n",
       "      <td>adidas ein fußballschuh mit tf-sohle und klass...</td>\n",
       "      <td>0.000024</td>\n",
       "      <td>0.000026</td>\n",
       "      <td>0.000033</td>\n",
       "      <td>0.000037</td>\n",
       "      <td>0.000028</td>\n",
       "      <td>0.000028</td>\n",
       "      <td>0.000022</td>\n",
       "      <td>0.000027</td>\n",
       "      <td>0.000214</td>\n",
       "      <td>...</td>\n",
       "      <td>0.000025</td>\n",
       "      <td>0.000038</td>\n",
       "      <td>0.000078</td>\n",
       "      <td>0.000023</td>\n",
       "      <td>0.000028</td>\n",
       "      <td>0.000024</td>\n",
       "      <td>0.003664</td>\n",
       "      <td>0.000026</td>\n",
       "      <td>0.000027</td>\n",
       "      <td>0.000056</td>\n",
       "    </tr>\n",
       "    <tr>\n",
       "      <th>3</th>\n",
       "      <td>adidas die adilette wurde 1972 auf den markt g...</td>\n",
       "      <td>0.000032</td>\n",
       "      <td>0.000030</td>\n",
       "      <td>0.000030</td>\n",
       "      <td>0.000034</td>\n",
       "      <td>0.000032</td>\n",
       "      <td>0.000034</td>\n",
       "      <td>0.000028</td>\n",
       "      <td>0.000033</td>\n",
       "      <td>0.000093</td>\n",
       "      <td>...</td>\n",
       "      <td>0.000032</td>\n",
       "      <td>0.000042</td>\n",
       "      <td>0.000044</td>\n",
       "      <td>0.000028</td>\n",
       "      <td>0.000032</td>\n",
       "      <td>0.000026</td>\n",
       "      <td>0.006535</td>\n",
       "      <td>0.000214</td>\n",
       "      <td>0.000032</td>\n",
       "      <td>0.000079</td>\n",
       "    </tr>\n",
       "    <tr>\n",
       "      <th>4</th>\n",
       "      <td>adidas ankle straps to hold your shin guards i...</td>\n",
       "      <td>0.000028</td>\n",
       "      <td>0.000027</td>\n",
       "      <td>0.000028</td>\n",
       "      <td>0.000036</td>\n",
       "      <td>0.000029</td>\n",
       "      <td>0.000029</td>\n",
       "      <td>0.000028</td>\n",
       "      <td>0.000028</td>\n",
       "      <td>0.000079</td>\n",
       "      <td>...</td>\n",
       "      <td>0.000028</td>\n",
       "      <td>0.000039</td>\n",
       "      <td>0.000041</td>\n",
       "      <td>0.000030</td>\n",
       "      <td>0.000031</td>\n",
       "      <td>0.000029</td>\n",
       "      <td>1.000000</td>\n",
       "      <td>0.070880</td>\n",
       "      <td>0.000030</td>\n",
       "      <td>0.000097</td>\n",
       "    </tr>\n",
       "  </tbody>\n",
       "</table>\n",
       "<p>5 rows × 103 columns</p>\n",
       "</div>"
      ],
      "text/plain": [
       "                                         description  220 - gold  \\\n",
       "0  adidas dieser klassische fußballschuh überzeug...    0.000022   \n",
       "1  adidas hier wird einem legendären fußballschuh...    0.000022   \n",
       "2  adidas ein fußballschuh mit tf-sohle und klass...    0.000024   \n",
       "3  adidas die adilette wurde 1972 auf den markt g...    0.000032   \n",
       "4  adidas ankle straps to hold your shin guards i...    0.000028   \n",
       "\n",
       "   230 - silver  amarillo  anthracite  anthrazit      aqua  assorted  \\\n",
       "0      0.000023  0.000025    0.000031   0.000027  0.000034  0.000023   \n",
       "1      0.000021  0.000023    0.000033   0.000034  0.000026  0.000025   \n",
       "2      0.000026  0.000033    0.000037   0.000028  0.000028  0.000022   \n",
       "3      0.000030  0.000030    0.000034   0.000032  0.000034  0.000028   \n",
       "4      0.000027  0.000028    0.000036   0.000029  0.000029  0.000028   \n",
       "\n",
       "   battle blue     beige    ...     thunder blue  turquoise    türkis  \\\n",
       "0     0.000024  0.000371    ...         0.000024   0.000036  0.000067   \n",
       "1     0.000022  0.000546    ...         0.000022   0.000038  0.000081   \n",
       "2     0.000027  0.000214    ...         0.000025   0.000038  0.000078   \n",
       "3     0.000033  0.000093    ...         0.000032   0.000042  0.000044   \n",
       "4     0.000028  0.000079    ...         0.000028   0.000039  0.000041   \n",
       "\n",
       "   university red    violet   violett      weiß     white  wolf grey    yellow  \n",
       "0        0.000030  0.000025  0.000021  0.004179  0.000009   0.000031  0.000221  \n",
       "1        0.000025  0.000023  0.000023  0.001400  0.000001   0.000026  0.000060  \n",
       "2        0.000023  0.000028  0.000024  0.003664  0.000026   0.000027  0.000056  \n",
       "3        0.000028  0.000032  0.000026  0.006535  0.000214   0.000032  0.000079  \n",
       "4        0.000030  0.000031  0.000029  1.000000  0.070880   0.000030  0.000097  \n",
       "\n",
       "[5 rows x 103 columns]"
      ]
     },
     "execution_count": 69,
     "metadata": {},
     "output_type": "execute_result"
    }
   ],
   "source": [
    "submission.head()"
   ]
  },
  {
   "cell_type": "code",
   "execution_count": 70,
   "metadata": {},
   "outputs": [],
   "source": [
    "final_pred = pd.concat([submission, test_subBrand.str.lower()],axis = 1)"
   ]
  },
  {
   "cell_type": "code",
   "execution_count": 71,
   "metadata": {},
   "outputs": [
    {
     "data": {
      "text/plain": [
       "black                12010\n",
       "blue                  4818\n",
       "white                 4383\n",
       "schwarz               3410\n",
       "grey                  2390\n",
       "red                   1991\n",
       "blau                  1785\n",
       "weiß                  1550\n",
       "green                 1416\n",
       "grau                  1334\n",
       "pink                  1249\n",
       "gray                   962\n",
       "rot                    683\n",
       "orange                 658\n",
       "grün                   516\n",
       "purple                 511\n",
       "navy                   484\n",
       "brown                  355\n",
       "yellow                 353\n",
       "cream                  303\n",
       "charcoal               294\n",
       "olive                  280\n",
       "multi                  242\n",
       "teal                   217\n",
       "lila                   203\n",
       "multicolor             199\n",
       "rosa                   193\n",
       "tan                    189\n",
       "gelb                   157\n",
       "grey/silver            154\n",
       "                     ...  \n",
       "denim                    3\n",
       "dark stucco              3\n",
       "game royal               3\n",
       "powder                   2\n",
       "pure platinum            2\n",
       "ice blue                 2\n",
       "petrol                   2\n",
       "soar                     2\n",
       "cool grey                2\n",
       "new orchid               2\n",
       "bordeaux                 2\n",
       "work blue                2\n",
       "rose gold                1\n",
       "medium olive             1\n",
       "noir                     1\n",
       "olive green              1\n",
       "blue tint                1\n",
       "hyper pink               1\n",
       "photo blue               1\n",
       "dunkelgrau               1\n",
       "dark green               1\n",
       "motif                    1\n",
       "misc                     1\n",
       "sheen                    1\n",
       "150 - not defined        1\n",
       "varsity red              1\n",
       "team orange              1\n",
       "track red                1\n",
       "gris                     1\n",
       "glacier blue             1\n",
       "Name: subBrand, Length: 129, dtype: int64"
      ]
     },
     "execution_count": 71,
     "metadata": {},
     "output_type": "execute_result"
    }
   ],
   "source": [
    "test_subBrand.str.lower().value_counts()"
   ]
  },
  {
   "cell_type": "code",
   "execution_count": 72,
   "metadata": {},
   "outputs": [],
   "source": [
    "final_pred[\"Predictions\"] = final_pred[label_cols].idxmax(axis = 1)"
   ]
  },
  {
   "cell_type": "code",
   "execution_count": 73,
   "metadata": {},
   "outputs": [],
   "source": [
    "# from mlxtend.evaluate import confusion_matrix\n",
    "\n",
    "# y_target =    final_pred.subBrand\n",
    "# y_predicted = final_pred.Predictions\n",
    "\n",
    "# cm = confusion_matrix(y_target=y_target, \n",
    "#                       y_predicted=y_predicted, \n",
    "#                       binary=False)"
   ]
  },
  {
   "cell_type": "code",
   "execution_count": 74,
   "metadata": {},
   "outputs": [
    {
     "data": {
      "image/png": "[encoded data removed]",
      "text/plain": [
       "<Figure size 432x288 with 1 Axes>"
      ]
     },
     "metadata": {},
     "output_type": "display_data"
    }
   ],
   "source": [
    "# import matplotlib.pyplot as plt\n",
    "# from mlxtend.plotting import plot_confusion_matrix\n",
    "# import numpy as np\n",
    "\n",
    "# fig, ax = plot_confusion_matrix(conf_mat=cm)\n",
    "# plt.show()"
   ]
  },
  {
   "cell_type": "code",
   "execution_count": 77,
   "metadata": {},
   "outputs": [
    {
     "name": "stdout",
     "output_type": "stream",
     "text": [
      "Accuracy Score : 0.910756591101741\n"
     ]
    },
    {
     "name": "stderr",
     "output_type": "stream",
     "text": [
      "C:\\Users\\narendran.thesma\\AppData\\Local\\Continuum\\anaconda3\\lib\\site-packages\\sklearn\\metrics\\classification.py:1135: UndefinedMetricWarning: F-score is ill-defined and being set to 0.0 in labels with no predicted samples.\n",
      "  'precision', 'predicted', average, warn_for)\n"
     ]
    },
    {
     "name": "stdout",
     "output_type": "stream",
     "text": [
      "F1 Score: 0.5525507445124507\n"
     ]
    },
    {
     "name": "stderr",
     "output_type": "stream",
     "text": [
      "C:\\Users\\narendran.thesma\\AppData\\Local\\Continuum\\anaconda3\\lib\\site-packages\\sklearn\\metrics\\classification.py:1135: UndefinedMetricWarning: Precision is ill-defined and being set to 0.0 in labels with no predicted samples.\n",
      "  'precision', 'predicted', average, warn_for)\n"
     ]
    },
    {
     "name": "stdout",
     "output_type": "stream",
     "text": [
      "Precision: 0.6155554724716263\n",
      "Recall: 0.5220627036347106\n"
     ]
    }
   ],
   "source": [
    "print(f'Accuracy Score : {accuracy_score(final_pred.subBrand, final_pred.Predictions)}')\n",
    "print(f'F1 Score: {f1_score(final_pred.subBrand, final_pred.Predictions, average=\"macro\")}')\n",
    "print(f'Precision: {precision_score(final_pred.subBrand, final_pred.Predictions, average=\"macro\")}')\n",
    "print(f'Recall: {recall_score(final_pred.subBrand, final_pred.Predictions, average=\"macro\")}')"
   ]
  },
  {
   "cell_type": "code",
   "execution_count": 88,
   "metadata": {},
   "outputs": [],
   "source": [
    "#final_pred.to_csv(\"final_output_SubBrand_v4.csv\", index_label=False, index=False)"
   ]
  },
  {
   "cell_type": "code",
   "execution_count": 83,
   "metadata": {},
   "outputs": [
    {
     "data": {
      "text/plain": [
       "20860"
      ]
     },
     "execution_count": 83,
     "metadata": {},
     "output_type": "execute_result"
    }
   ],
   "source": [
    "len(final_pred)"
   ]
  },
  {
   "cell_type": "code",
   "execution_count": 76,
   "metadata": {},
   "outputs": [
    {
     "data": {
      "text/plain": [
       "description         0\n",
       "220 - gold          0\n",
       "230 - silver        0\n",
       "amarillo            0\n",
       "anthracite          0\n",
       "anthrazit           0\n",
       "aqua                0\n",
       "assorted            0\n",
       "battle blue         0\n",
       "beige               0\n",
       "binary blue         0\n",
       "black               0\n",
       "blau                0\n",
       "blue                0\n",
       "blue tint           0\n",
       "braun               0\n",
       "brown               0\n",
       "burgundy crush      0\n",
       "camo                0\n",
       "carbon              0\n",
       "carbon heather      0\n",
       "cardinal            0\n",
       "charcoal            0\n",
       "charcoal heather    0\n",
       "clear               0\n",
       "college navy        0\n",
       "cool grey           0\n",
       "coral               0\n",
       "cream               0\n",
       "creme               0\n",
       "                   ..\n",
       "orange              0\n",
       "petrol              0\n",
       "pink                0\n",
       "print               0\n",
       "purple              0\n",
       "red                 0\n",
       "rosa                0\n",
       "rose                0\n",
       "rot                 0\n",
       "rush blue           0\n",
       "schwarz             0\n",
       "signal blue         0\n",
       "silber              0\n",
       "silver              0\n",
       "stone               0\n",
       "tan                 0\n",
       "teal                0\n",
       "team red            0\n",
       "thunder blue        0\n",
       "turquoise           0\n",
       "türkis              0\n",
       "university red      0\n",
       "violet              0\n",
       "violett             0\n",
       "weiß                0\n",
       "white               0\n",
       "wolf grey           0\n",
       "yellow              0\n",
       "subBrand            0\n",
       "Predictions         0\n",
       "Length: 105, dtype: int64"
      ]
     },
     "execution_count": 76,
     "metadata": {},
     "output_type": "execute_result"
    }
   ],
   "source": [
    "final_pred.isnull().sum()"
   ]
  },
  {
   "cell_type": "code",
   "execution_count": 51,
   "metadata": {},
   "outputs": [],
   "source": [
    "#test_subBrand"
   ]
  },
  {
   "cell_type": "code",
   "execution_count": 52,
   "metadata": {},
   "outputs": [
    {
     "data": {
      "text/plain": [
       "15062"
      ]
     },
     "execution_count": 52,
     "metadata": {},
     "output_type": "execute_result"
    }
   ],
   "source": [
    "len(submission)"
   ]
  },
  {
   "cell_type": "code",
   "execution_count": 54,
   "metadata": {},
   "outputs": [],
   "source": [
    "#final_pred.isnull().sum()"
   ]
  },
  {
   "cell_type": "code",
   "execution_count": null,
   "metadata": {},
   "outputs": [],
   "source": []
  }
 ],
 "metadata": {
  "kernelspec": {
   "display_name": "Python 3",
   "language": "python",
   "name": "python3"
  },
  "language_info": {
   "codemirror_mode": {
    "name": "ipython",
    "version": 3
   },
   "file_extension": ".py",
   "mimetype": "text/x-python",
   "name": "python",
   "nbconvert_exporter": "python",
   "pygments_lexer": "ipython3",
   "version": "3.6.5"
  }
 },
 "nbformat": 4,
 "nbformat_minor": 2
}

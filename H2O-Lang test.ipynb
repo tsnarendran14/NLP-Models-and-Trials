{
 "cells": [
  {
   "cell_type": "code",
   "execution_count": 1,
   "metadata": {},
   "outputs": [],
   "source": [
    "import h2o\n",
    "import pandas as pd"
   ]
  },
  {
   "cell_type": "code",
   "execution_count": 2,
   "metadata": {},
   "outputs": [
    {
     "name": "stdout",
     "output_type": "stream",
     "text": [
      "Checking whether there is an H2O instance running at http://localhost:54321..... not found.\n",
      "Attempting to start a local H2O server...\n",
      "; Java HotSpot(TM) 64-Bit Server VM (build 25.191-b12, mixed mode)\n",
      "  Starting server from C:\\Users\\narendran.thesma\\AppData\\Local\\Continuum\\anaconda3\\lib\\site-packages\\h2o\\backend\\bin\\h2o.jar\n",
      "  Ice root: C:\\Users\\narendran.thesma\\AppData\\Local\\Temp\\tmp_ci_5g7c\n",
      "  JVM stdout: C:\\Users\\narendran.thesma\\AppData\\Local\\Temp\\tmp_ci_5g7c\\h2o_narendran_thesma_started_from_python.out\n",
      "  JVM stderr: C:\\Users\\narendran.thesma\\AppData\\Local\\Temp\\tmp_ci_5g7c\\h2o_narendran_thesma_started_from_python.err\n",
      "  Server is running at http://127.0.0.1:54321\n",
      "Connecting to H2O server at http://127.0.0.1:54321... successful.\n"
     ]
    },
    {
     "data": {
      "text/html": [
       "<div style=\"overflow:auto\"><table style=\"width:50%\"><tr><td>H2O cluster uptime:</td>\n",
       "<td>03 secs</td></tr>\n",
       "<tr><td>H2O cluster timezone:</td>\n",
       "<td>Asia/Kolkata</td></tr>\n",
       "<tr><td>H2O data parsing timezone:</td>\n",
       "<td>UTC</td></tr>\n",
       "<tr><td>H2O cluster version:</td>\n",
       "<td>3.22.0.1</td></tr>\n",
       "<tr><td>H2O cluster version age:</td>\n",
       "<td>1 month and 2 days </td></tr>\n",
       "<tr><td>H2O cluster name:</td>\n",
       "<td>H2O_from_python_narendran_thesma_2618r8</td></tr>\n",
       "<tr><td>H2O cluster total nodes:</td>\n",
       "<td>1</td></tr>\n",
       "<tr><td>H2O cluster free memory:</td>\n",
       "<td>7.111 Gb</td></tr>\n",
       "<tr><td>H2O cluster total cores:</td>\n",
       "<td>4</td></tr>\n",
       "<tr><td>H2O cluster allowed cores:</td>\n",
       "<td>4</td></tr>\n",
       "<tr><td>H2O cluster status:</td>\n",
       "<td>accepting new members, healthy</td></tr>\n",
       "<tr><td>H2O connection url:</td>\n",
       "<td>http://127.0.0.1:54321</td></tr>\n",
       "<tr><td>H2O connection proxy:</td>\n",
       "<td>None</td></tr>\n",
       "<tr><td>H2O internal security:</td>\n",
       "<td>False</td></tr>\n",
       "<tr><td>H2O API Extensions:</td>\n",
       "<td>Algos, AutoML, Core V3, Core V4</td></tr>\n",
       "<tr><td>Python version:</td>\n",
       "<td>3.6.5 final</td></tr></table></div>"
      ],
      "text/plain": [
       "--------------------------  ---------------------------------------\n",
       "H2O cluster uptime:         03 secs\n",
       "H2O cluster timezone:       Asia/Kolkata\n",
       "H2O data parsing timezone:  UTC\n",
       "H2O cluster version:        3.22.0.1\n",
       "H2O cluster version age:    1 month and 2 days\n",
       "H2O cluster name:           H2O_from_python_narendran_thesma_2618r8\n",
       "H2O cluster total nodes:    1\n",
       "H2O cluster free memory:    7.111 Gb\n",
       "H2O cluster total cores:    4\n",
       "H2O cluster allowed cores:  4\n",
       "H2O cluster status:         accepting new members, healthy\n",
       "H2O connection url:         http://127.0.0.1:54321\n",
       "H2O connection proxy:\n",
       "H2O internal security:      False\n",
       "H2O API Extensions:         Algos, AutoML, Core V3, Core V4\n",
       "Python version:             3.6.5 final\n",
       "--------------------------  ---------------------------------------"
      ]
     },
     "metadata": {},
     "output_type": "display_data"
    }
   ],
   "source": [
    "h2o.init(max_mem_size=\"8G\")"
   ]
  },
  {
   "cell_type": "code",
   "execution_count": 3,
   "metadata": {},
   "outputs": [
    {
     "name": "stderr",
     "output_type": "stream",
     "text": [
      "C:\\Users\\narendran.thesma\\AppData\\Local\\Continuum\\anaconda3\\lib\\site-packages\\IPython\\core\\interactiveshell.py:2785: DtypeWarning: Columns (20,25,27,34) have mixed types. Specify dtype option on import or set low_memory=False.\n",
      "  interactivity=interactivity, compiler=compiler, result=result)\n"
     ]
    }
   ],
   "source": [
    "#data = h2o.import_file('output_merged_25oct.csv', col_types={\"PRODUCT DESCRIPTION\" : \"string\"})\n",
    "data = pd.read_csv('Merged/JPN-1/data_2018_joined_deu.csv', encoding = \"utf-8\")"
   ]
  },
  {
   "cell_type": "code",
   "execution_count": 4,
   "metadata": {},
   "outputs": [
    {
     "data": {
      "text/plain": [
       "Index(['Unnamed: 0', 'date', 'companyName', 'currency', 'language',\n",
       "       'countryName', 'distributorName', 'ageGroup', 'articleId', 'colors',\n",
       "       'colorGroup', 'consumerRating', 'currentPrice', 'description',\n",
       "       'discountedSince', 'division', 'gender', 'group', 'imageUrl',\n",
       "       'initialPrice', 'modelNumber', 'name4', 'ped', 'pid', 'sportsCategory',\n",
       "       'subBrand', 'technologies', 'type', 'url', 'key', 'COMPANY',\n",
       "       'COUNTRY_OUTPUT', 'DISTRIBUTOR_OUTPUT', 'ARTICLE_ID_OUTPUT',\n",
       "       'MODEL_NUMBER_OUTPUT', 'ARTICLE_NAME_OUTPUT', 'SUBBRAND_OUTPUT',\n",
       "       'SPORTS_CATEGORY_OUTPUT', 'PRODUCT_DIVISION_OUTPUT',\n",
       "       'PRODUCT_GROUP_OUTPUT', 'PRODUCT_TYPE_OUTPUT', 'FRANCHISE_OUTPUT',\n",
       "       'TECHNOLOGIES_OUTPUT', 'COLOUR_GROUP_OUTPUT', 'COLOUR_OUTPUT',\n",
       "       'GENDER_OUTPUT', 'AGE_GROUP_OUTPUT', 'CONSUMER_RATING_OUTPUT',\n",
       "       'INITIAL_PRICE_IN_LOCAL_CURRENCY_OUTPUT',\n",
       "       'CURRENT_PRICE_IN_LOCAL_CURRENCY_OUTPUT', 'LOCAL_CURRENCY_OUTPUT',\n",
       "       'INITIAL_PRICE_IN_EUR_OUTPUT', 'CURRENT_PRICE_IN_EUR_OUTPUT',\n",
       "       'INITIAL_PRICE_IN_SELECTED_CURRENCY_OUTPUT',\n",
       "       'CURRENT_PRICE_IN_SELECTED_CURRENCY_OUTPUT', 'SELECTED_CURRENCY_OUTPUT',\n",
       "       'PRODUCT_INTRODUCTION_DATE_OUTPUT', 'DISCOUNTED_SINCE_OUTPUT',\n",
       "       'PRODUCT_EXIT_DATE_OUTPUT', 'PRODUCT_DESCRIPTION_OUTPUT',\n",
       "       'PRODUCT_URL_OUTPUT', 'IMAGE_SERVER_URL_OUTPUT'],\n",
       "      dtype='object')"
      ]
     },
     "execution_count": 4,
     "metadata": {},
     "output_type": "execute_result"
    }
   ],
   "source": [
    "data.columns"
   ]
  },
  {
   "cell_type": "code",
   "execution_count": 5,
   "metadata": {},
   "outputs": [
    {
     "data": {
      "text/html": [
       "<div>\n",
       "<style scoped>\n",
       "    .dataframe tbody tr th:only-of-type {\n",
       "        vertical-align: middle;\n",
       "    }\n",
       "\n",
       "    .dataframe tbody tr th {\n",
       "        vertical-align: top;\n",
       "    }\n",
       "\n",
       "    .dataframe thead th {\n",
       "        text-align: right;\n",
       "    }\n",
       "</style>\n",
       "<table border=\"1\" class=\"dataframe\">\n",
       "  <thead>\n",
       "    <tr style=\"text-align: right;\">\n",
       "      <th></th>\n",
       "      <th>Unnamed: 0</th>\n",
       "      <th>date</th>\n",
       "      <th>companyName</th>\n",
       "      <th>currency</th>\n",
       "      <th>language</th>\n",
       "      <th>countryName</th>\n",
       "      <th>distributorName</th>\n",
       "      <th>ageGroup</th>\n",
       "      <th>articleId</th>\n",
       "      <th>colors</th>\n",
       "      <th>...</th>\n",
       "      <th>CURRENT_PRICE_IN_EUR_OUTPUT</th>\n",
       "      <th>INITIAL_PRICE_IN_SELECTED_CURRENCY_OUTPUT</th>\n",
       "      <th>CURRENT_PRICE_IN_SELECTED_CURRENCY_OUTPUT</th>\n",
       "      <th>SELECTED_CURRENCY_OUTPUT</th>\n",
       "      <th>PRODUCT_INTRODUCTION_DATE_OUTPUT</th>\n",
       "      <th>DISCOUNTED_SINCE_OUTPUT</th>\n",
       "      <th>PRODUCT_EXIT_DATE_OUTPUT</th>\n",
       "      <th>PRODUCT_DESCRIPTION_OUTPUT</th>\n",
       "      <th>PRODUCT_URL_OUTPUT</th>\n",
       "      <th>IMAGE_SERVER_URL_OUTPUT</th>\n",
       "    </tr>\n",
       "  </thead>\n",
       "  <tbody>\n",
       "    <tr>\n",
       "      <th>0</th>\n",
       "      <td>0</td>\n",
       "      <td>01/01/2018</td>\n",
       "      <td>adidas</td>\n",
       "      <td>JPY</td>\n",
       "      <td>ja-JP</td>\n",
       "      <td>jpn</td>\n",
       "      <td>own ecom</td>\n",
       "      <td>adults</td>\n",
       "      <td>AA2303</td>\n",
       "      <td>ホワイト/ミディアムグレイヘザー/ホワイト</td>\n",
       "      <td>...</td>\n",
       "      <td>7.776</td>\n",
       "      <td>11.664</td>\n",
       "      <td>7.776</td>\n",
       "      <td>EUR</td>\n",
       "      <td>2/13/2017</td>\n",
       "      <td>9/18/2017</td>\n",
       "      <td>Still available online</td>\n",
       "      <td>NaN</td>\n",
       "      <td>https://shop.adidas.jp/products/AA2303/</td>\n",
       "      <td>http://usporamap287.am.adsint.biz/zoomimages/8...</td>\n",
       "    </tr>\n",
       "    <tr>\n",
       "      <th>1</th>\n",
       "      <td>1</td>\n",
       "      <td>01/08/2018</td>\n",
       "      <td>adidas</td>\n",
       "      <td>JPY</td>\n",
       "      <td>ja-JP</td>\n",
       "      <td>jpn</td>\n",
       "      <td>own ecom</td>\n",
       "      <td>adults</td>\n",
       "      <td>AA2303</td>\n",
       "      <td>ホワイト/ミディアムグレイヘザー/ホワイト</td>\n",
       "      <td>...</td>\n",
       "      <td>7.776</td>\n",
       "      <td>11.664</td>\n",
       "      <td>7.776</td>\n",
       "      <td>EUR</td>\n",
       "      <td>2/13/2017</td>\n",
       "      <td>9/18/2017</td>\n",
       "      <td>Still available online</td>\n",
       "      <td>NaN</td>\n",
       "      <td>https://shop.adidas.jp/products/AA2303/</td>\n",
       "      <td>http://usporamap287.am.adsint.biz/zoomimages/8...</td>\n",
       "    </tr>\n",
       "    <tr>\n",
       "      <th>2</th>\n",
       "      <td>2</td>\n",
       "      <td>01/16/2018</td>\n",
       "      <td>adidas</td>\n",
       "      <td>JPY</td>\n",
       "      <td>ja-JP</td>\n",
       "      <td>jpn</td>\n",
       "      <td>own ecom</td>\n",
       "      <td>adults</td>\n",
       "      <td>AA2303</td>\n",
       "      <td>ホワイト/ミディアムグレイヘザー/ホワイト</td>\n",
       "      <td>...</td>\n",
       "      <td>7.776</td>\n",
       "      <td>11.664</td>\n",
       "      <td>7.776</td>\n",
       "      <td>EUR</td>\n",
       "      <td>2/13/2017</td>\n",
       "      <td>9/18/2017</td>\n",
       "      <td>Still available online</td>\n",
       "      <td>NaN</td>\n",
       "      <td>https://shop.adidas.jp/products/AA2303/</td>\n",
       "      <td>http://usporamap287.am.adsint.biz/zoomimages/8...</td>\n",
       "    </tr>\n",
       "    <tr>\n",
       "      <th>3</th>\n",
       "      <td>3</td>\n",
       "      <td>01/22/2018</td>\n",
       "      <td>adidas</td>\n",
       "      <td>JPY</td>\n",
       "      <td>ja-JP</td>\n",
       "      <td>jpn</td>\n",
       "      <td>own ecom</td>\n",
       "      <td>adults</td>\n",
       "      <td>AA2303</td>\n",
       "      <td>ホワイト/ミディアムグレイヘザー/ホワイト</td>\n",
       "      <td>...</td>\n",
       "      <td>7.776</td>\n",
       "      <td>11.664</td>\n",
       "      <td>7.776</td>\n",
       "      <td>EUR</td>\n",
       "      <td>2/13/2017</td>\n",
       "      <td>9/18/2017</td>\n",
       "      <td>Still available online</td>\n",
       "      <td>NaN</td>\n",
       "      <td>https://shop.adidas.jp/products/AA2303/</td>\n",
       "      <td>http://usporamap287.am.adsint.biz/zoomimages/8...</td>\n",
       "    </tr>\n",
       "    <tr>\n",
       "      <th>4</th>\n",
       "      <td>4</td>\n",
       "      <td>01/30/2018</td>\n",
       "      <td>adidas</td>\n",
       "      <td>JPY</td>\n",
       "      <td>ja-JP</td>\n",
       "      <td>jpn</td>\n",
       "      <td>own ecom</td>\n",
       "      <td>adults</td>\n",
       "      <td>AA2303</td>\n",
       "      <td>ホワイト/ミディアムグレイヘザー/ホワイト</td>\n",
       "      <td>...</td>\n",
       "      <td>7.776</td>\n",
       "      <td>11.664</td>\n",
       "      <td>7.776</td>\n",
       "      <td>EUR</td>\n",
       "      <td>2/13/2017</td>\n",
       "      <td>9/18/2017</td>\n",
       "      <td>Still available online</td>\n",
       "      <td>NaN</td>\n",
       "      <td>https://shop.adidas.jp/products/AA2303/</td>\n",
       "      <td>http://usporamap287.am.adsint.biz/zoomimages/8...</td>\n",
       "    </tr>\n",
       "  </tbody>\n",
       "</table>\n",
       "<p>5 rows × 62 columns</p>\n",
       "</div>"
      ],
      "text/plain": [
       "   Unnamed: 0        date companyName currency language countryName  \\\n",
       "0           0  01/01/2018      adidas      JPY    ja-JP         jpn   \n",
       "1           1  01/08/2018      adidas      JPY    ja-JP         jpn   \n",
       "2           2  01/16/2018      adidas      JPY    ja-JP         jpn   \n",
       "3           3  01/22/2018      adidas      JPY    ja-JP         jpn   \n",
       "4           4  01/30/2018      adidas      JPY    ja-JP         jpn   \n",
       "\n",
       "  distributorName ageGroup articleId                 colors  \\\n",
       "0        own ecom   adults    AA2303  ホワイト/ミディアムグレイヘザー/ホワイト   \n",
       "1        own ecom   adults    AA2303  ホワイト/ミディアムグレイヘザー/ホワイト   \n",
       "2        own ecom   adults    AA2303  ホワイト/ミディアムグレイヘザー/ホワイト   \n",
       "3        own ecom   adults    AA2303  ホワイト/ミディアムグレイヘザー/ホワイト   \n",
       "4        own ecom   adults    AA2303  ホワイト/ミディアムグレイヘザー/ホワイト   \n",
       "\n",
       "                         ...                          \\\n",
       "0                        ...                           \n",
       "1                        ...                           \n",
       "2                        ...                           \n",
       "3                        ...                           \n",
       "4                        ...                           \n",
       "\n",
       "  CURRENT_PRICE_IN_EUR_OUTPUT  INITIAL_PRICE_IN_SELECTED_CURRENCY_OUTPUT  \\\n",
       "0                       7.776                                     11.664   \n",
       "1                       7.776                                     11.664   \n",
       "2                       7.776                                     11.664   \n",
       "3                       7.776                                     11.664   \n",
       "4                       7.776                                     11.664   \n",
       "\n",
       "   CURRENT_PRICE_IN_SELECTED_CURRENCY_OUTPUT SELECTED_CURRENCY_OUTPUT  \\\n",
       "0                                      7.776                      EUR   \n",
       "1                                      7.776                      EUR   \n",
       "2                                      7.776                      EUR   \n",
       "3                                      7.776                      EUR   \n",
       "4                                      7.776                      EUR   \n",
       "\n",
       "  PRODUCT_INTRODUCTION_DATE_OUTPUT DISCOUNTED_SINCE_OUTPUT  \\\n",
       "0                        2/13/2017               9/18/2017   \n",
       "1                        2/13/2017               9/18/2017   \n",
       "2                        2/13/2017               9/18/2017   \n",
       "3                        2/13/2017               9/18/2017   \n",
       "4                        2/13/2017               9/18/2017   \n",
       "\n",
       "  PRODUCT_EXIT_DATE_OUTPUT PRODUCT_DESCRIPTION_OUTPUT  \\\n",
       "0   Still available online                        NaN   \n",
       "1   Still available online                        NaN   \n",
       "2   Still available online                        NaN   \n",
       "3   Still available online                        NaN   \n",
       "4   Still available online                        NaN   \n",
       "\n",
       "                        PRODUCT_URL_OUTPUT  \\\n",
       "0  https://shop.adidas.jp/products/AA2303/   \n",
       "1  https://shop.adidas.jp/products/AA2303/   \n",
       "2  https://shop.adidas.jp/products/AA2303/   \n",
       "3  https://shop.adidas.jp/products/AA2303/   \n",
       "4  https://shop.adidas.jp/products/AA2303/   \n",
       "\n",
       "                             IMAGE_SERVER_URL_OUTPUT  \n",
       "0  http://usporamap287.am.adsint.biz/zoomimages/8...  \n",
       "1  http://usporamap287.am.adsint.biz/zoomimages/8...  \n",
       "2  http://usporamap287.am.adsint.biz/zoomimages/8...  \n",
       "3  http://usporamap287.am.adsint.biz/zoomimages/8...  \n",
       "4  http://usporamap287.am.adsint.biz/zoomimages/8...  \n",
       "\n",
       "[5 rows x 62 columns]"
      ]
     },
     "execution_count": 5,
     "metadata": {},
     "output_type": "execute_result"
    }
   ],
   "source": [
    "data.head()"
   ]
  },
  {
   "cell_type": "code",
   "execution_count": 6,
   "metadata": {},
   "outputs": [
    {
     "data": {
      "text/plain": [
       "array(['ja-JP'], dtype=object)"
      ]
     },
     "execution_count": 6,
     "metadata": {},
     "output_type": "execute_result"
    }
   ],
   "source": [
    "data.language.unique()"
   ]
  },
  {
   "cell_type": "code",
   "execution_count": 12,
   "metadata": {},
   "outputs": [],
   "source": [
    "# data = data.fillna(\"unknown\")"
   ]
  },
  {
   "cell_type": "code",
   "execution_count": 8,
   "metadata": {},
   "outputs": [],
   "source": [
    "#data = data[data[\"language\"] == \"pt-BR\"]"
   ]
  },
  {
   "cell_type": "code",
   "execution_count": 7,
   "metadata": {},
   "outputs": [],
   "source": [
    "data_req = data.loc[:,['companyName','countryName', 'distributorName', 'ageGroup', 'articleId',\\\n",
    "                        'description','division', 'gender', 'group', \\\n",
    "                        'modelNumber', 'name4', 'sportsCategory', \\\n",
    "                        'subBrand', 'SUBBRAND_OUTPUT']]"
   ]
  },
  {
   "cell_type": "code",
   "execution_count": 8,
   "metadata": {},
   "outputs": [
    {
     "data": {
      "text/html": [
       "<div>\n",
       "<style scoped>\n",
       "    .dataframe tbody tr th:only-of-type {\n",
       "        vertical-align: middle;\n",
       "    }\n",
       "\n",
       "    .dataframe tbody tr th {\n",
       "        vertical-align: top;\n",
       "    }\n",
       "\n",
       "    .dataframe thead th {\n",
       "        text-align: right;\n",
       "    }\n",
       "</style>\n",
       "<table border=\"1\" class=\"dataframe\">\n",
       "  <thead>\n",
       "    <tr style=\"text-align: right;\">\n",
       "      <th></th>\n",
       "      <th>companyName</th>\n",
       "      <th>countryName</th>\n",
       "      <th>distributorName</th>\n",
       "      <th>ageGroup</th>\n",
       "      <th>articleId</th>\n",
       "      <th>description</th>\n",
       "      <th>division</th>\n",
       "      <th>gender</th>\n",
       "      <th>group</th>\n",
       "      <th>modelNumber</th>\n",
       "      <th>name4</th>\n",
       "      <th>sportsCategory</th>\n",
       "      <th>subBrand</th>\n",
       "      <th>SUBBRAND_OUTPUT</th>\n",
       "    </tr>\n",
       "  </thead>\n",
       "  <tbody>\n",
       "    <tr>\n",
       "      <th>0</th>\n",
       "      <td>adidas</td>\n",
       "      <td>jpn</td>\n",
       "      <td>own ecom</td>\n",
       "      <td>adults</td>\n",
       "      <td>AA2303</td>\n",
       "      <td>, サイズ： 素材： 生産国：</td>\n",
       "      <td>Accessories</td>\n",
       "      <td>female</td>\n",
       "      <td>その他</td>\n",
       "      <td>KAW58</td>\n",
       "      <td>パフォーマンス 3Pシューズインソックス ウィメンズ</td>\n",
       "      <td>ジム・トレーニング</td>\n",
       "      <td>Performance</td>\n",
       "      <td>Performance</td>\n",
       "    </tr>\n",
       "    <tr>\n",
       "      <th>1</th>\n",
       "      <td>adidas</td>\n",
       "      <td>jpn</td>\n",
       "      <td>own ecom</td>\n",
       "      <td>adults</td>\n",
       "      <td>AA2303</td>\n",
       "      <td>, サイズ： 素材： 生産国：</td>\n",
       "      <td>Accessories</td>\n",
       "      <td>female</td>\n",
       "      <td>その他</td>\n",
       "      <td>KAW58</td>\n",
       "      <td>パフォーマンス 3Pシューズインソックス ウィメンズ</td>\n",
       "      <td>ジム・トレーニング</td>\n",
       "      <td>Performance</td>\n",
       "      <td>Performance</td>\n",
       "    </tr>\n",
       "    <tr>\n",
       "      <th>2</th>\n",
       "      <td>adidas</td>\n",
       "      <td>jpn</td>\n",
       "      <td>own ecom</td>\n",
       "      <td>adults</td>\n",
       "      <td>AA2303</td>\n",
       "      <td>, サイズ： 素材： 生産国：</td>\n",
       "      <td>Accessories</td>\n",
       "      <td>female</td>\n",
       "      <td>その他</td>\n",
       "      <td>KAW58</td>\n",
       "      <td>パフォーマンス 3Pシューズインソックス ウィメンズ</td>\n",
       "      <td>ジム・トレーニング</td>\n",
       "      <td>Performance</td>\n",
       "      <td>Performance</td>\n",
       "    </tr>\n",
       "    <tr>\n",
       "      <th>3</th>\n",
       "      <td>adidas</td>\n",
       "      <td>jpn</td>\n",
       "      <td>own ecom</td>\n",
       "      <td>adults</td>\n",
       "      <td>AA2303</td>\n",
       "      <td>, サイズ： 素材： 生産国：</td>\n",
       "      <td>Accessories</td>\n",
       "      <td>female</td>\n",
       "      <td>その他</td>\n",
       "      <td>KAW58</td>\n",
       "      <td>パフォーマンス 3Pシューズインソックス ウィメンズ</td>\n",
       "      <td>ジム・トレーニング</td>\n",
       "      <td>Performance</td>\n",
       "      <td>Performance</td>\n",
       "    </tr>\n",
       "    <tr>\n",
       "      <th>4</th>\n",
       "      <td>adidas</td>\n",
       "      <td>jpn</td>\n",
       "      <td>own ecom</td>\n",
       "      <td>adults</td>\n",
       "      <td>AA2303</td>\n",
       "      <td>, サイズ： 素材： 生産国：</td>\n",
       "      <td>Accessories</td>\n",
       "      <td>female</td>\n",
       "      <td>その他</td>\n",
       "      <td>KAW58</td>\n",
       "      <td>パフォーマンス 3Pシューズインソックス ウィメンズ</td>\n",
       "      <td>ジム・トレーニング</td>\n",
       "      <td>Performance</td>\n",
       "      <td>Performance</td>\n",
       "    </tr>\n",
       "  </tbody>\n",
       "</table>\n",
       "</div>"
      ],
      "text/plain": [
       "  companyName countryName distributorName ageGroup articleId      description  \\\n",
       "0      adidas         jpn        own ecom   adults    AA2303  , サイズ： 素材： 生産国：   \n",
       "1      adidas         jpn        own ecom   adults    AA2303  , サイズ： 素材： 生産国：   \n",
       "2      adidas         jpn        own ecom   adults    AA2303  , サイズ： 素材： 生産国：   \n",
       "3      adidas         jpn        own ecom   adults    AA2303  , サイズ： 素材： 生産国：   \n",
       "4      adidas         jpn        own ecom   adults    AA2303  , サイズ： 素材： 生産国：   \n",
       "\n",
       "      division  gender group modelNumber                       name4  \\\n",
       "0  Accessories  female   その他       KAW58  パフォーマンス 3Pシューズインソックス ウィメンズ   \n",
       "1  Accessories  female   その他       KAW58  パフォーマンス 3Pシューズインソックス ウィメンズ   \n",
       "2  Accessories  female   その他       KAW58  パフォーマンス 3Pシューズインソックス ウィメンズ   \n",
       "3  Accessories  female   その他       KAW58  パフォーマンス 3Pシューズインソックス ウィメンズ   \n",
       "4  Accessories  female   その他       KAW58  パフォーマンス 3Pシューズインソックス ウィメンズ   \n",
       "\n",
       "  sportsCategory     subBrand SUBBRAND_OUTPUT  \n",
       "0      ジム・トレーニング  Performance     Performance  \n",
       "1      ジム・トレーニング  Performance     Performance  \n",
       "2      ジム・トレーニング  Performance     Performance  \n",
       "3      ジム・トレーニング  Performance     Performance  \n",
       "4      ジム・トレーニング  Performance     Performance  "
      ]
     },
     "execution_count": 8,
     "metadata": {},
     "output_type": "execute_result"
    }
   ],
   "source": [
    "data_req.head()"
   ]
  },
  {
   "cell_type": "code",
   "execution_count": 10,
   "metadata": {},
   "outputs": [],
   "source": [
    "#data_req = data_req.drop_duplicates()"
   ]
  },
  {
   "cell_type": "code",
   "execution_count": 9,
   "metadata": {},
   "outputs": [],
   "source": [
    "data_req_x = data_req.loc[:,['companyName','countryName', 'distributorName', 'ageGroup', 'articleId',\\\n",
    "                             'description','division', 'gender', 'group', \\\n",
    "                             'modelNumber', 'name4', 'sportsCategory', \\\n",
    "                             'subBrand']]\n",
    "data_req_y = data_req.loc[:, [\"SUBBRAND_OUTPUT\"]]"
   ]
  },
  {
   "cell_type": "code",
   "execution_count": 10,
   "metadata": {},
   "outputs": [],
   "source": [
    "data_req_x = data_req_x.fillna(\"unknown\")\n",
    "data_req = pd.concat([data_req_x, data_req_y], axis=1)"
   ]
  },
  {
   "cell_type": "code",
   "execution_count": 11,
   "metadata": {},
   "outputs": [],
   "source": [
    "data_req[\"description\"]  =  data_req[\"description\"]"
   ]
  },
  {
   "cell_type": "code",
   "execution_count": 12,
   "metadata": {},
   "outputs": [],
   "source": [
    "# data_req = data_req.drop([\"url\"], axis = 1)"
   ]
  },
  {
   "cell_type": "code",
   "execution_count": 13,
   "metadata": {},
   "outputs": [
    {
     "data": {
      "text/plain": [
       "Index(['companyName', 'countryName', 'distributorName', 'ageGroup',\n",
       "       'articleId', 'description', 'division', 'gender', 'group',\n",
       "       'modelNumber', 'name4', 'sportsCategory', 'subBrand',\n",
       "       'SUBBRAND_OUTPUT'],\n",
       "      dtype='object')"
      ]
     },
     "execution_count": 13,
     "metadata": {},
     "output_type": "execute_result"
    }
   ],
   "source": [
    "data_req.columns"
   ]
  },
  {
   "cell_type": "code",
   "execution_count": 14,
   "metadata": {},
   "outputs": [],
   "source": [
    "#data_req.columns = [\"company\", \"country\", \"article_name\", \"subBrand\", \"description\"]"
   ]
  },
  {
   "cell_type": "code",
   "execution_count": 15,
   "metadata": {},
   "outputs": [
    {
     "data": {
      "text/html": [
       "<div>\n",
       "<style scoped>\n",
       "    .dataframe tbody tr th:only-of-type {\n",
       "        vertical-align: middle;\n",
       "    }\n",
       "\n",
       "    .dataframe tbody tr th {\n",
       "        vertical-align: top;\n",
       "    }\n",
       "\n",
       "    .dataframe thead th {\n",
       "        text-align: right;\n",
       "    }\n",
       "</style>\n",
       "<table border=\"1\" class=\"dataframe\">\n",
       "  <thead>\n",
       "    <tr style=\"text-align: right;\">\n",
       "      <th></th>\n",
       "      <th>companyName</th>\n",
       "      <th>countryName</th>\n",
       "      <th>distributorName</th>\n",
       "      <th>ageGroup</th>\n",
       "      <th>articleId</th>\n",
       "      <th>description</th>\n",
       "      <th>division</th>\n",
       "      <th>gender</th>\n",
       "      <th>group</th>\n",
       "      <th>modelNumber</th>\n",
       "      <th>name4</th>\n",
       "      <th>sportsCategory</th>\n",
       "      <th>subBrand</th>\n",
       "      <th>SUBBRAND_OUTPUT</th>\n",
       "    </tr>\n",
       "  </thead>\n",
       "  <tbody>\n",
       "    <tr>\n",
       "      <th>0</th>\n",
       "      <td>adidas</td>\n",
       "      <td>jpn</td>\n",
       "      <td>own ecom</td>\n",
       "      <td>adults</td>\n",
       "      <td>AA2303</td>\n",
       "      <td>, サイズ： 素材： 生産国：</td>\n",
       "      <td>Accessories</td>\n",
       "      <td>female</td>\n",
       "      <td>その他</td>\n",
       "      <td>KAW58</td>\n",
       "      <td>パフォーマンス 3Pシューズインソックス ウィメンズ</td>\n",
       "      <td>ジム・トレーニング</td>\n",
       "      <td>Performance</td>\n",
       "      <td>Performance</td>\n",
       "    </tr>\n",
       "    <tr>\n",
       "      <th>1</th>\n",
       "      <td>adidas</td>\n",
       "      <td>jpn</td>\n",
       "      <td>own ecom</td>\n",
       "      <td>adults</td>\n",
       "      <td>AA2303</td>\n",
       "      <td>, サイズ： 素材： 生産国：</td>\n",
       "      <td>Accessories</td>\n",
       "      <td>female</td>\n",
       "      <td>その他</td>\n",
       "      <td>KAW58</td>\n",
       "      <td>パフォーマンス 3Pシューズインソックス ウィメンズ</td>\n",
       "      <td>ジム・トレーニング</td>\n",
       "      <td>Performance</td>\n",
       "      <td>Performance</td>\n",
       "    </tr>\n",
       "    <tr>\n",
       "      <th>2</th>\n",
       "      <td>adidas</td>\n",
       "      <td>jpn</td>\n",
       "      <td>own ecom</td>\n",
       "      <td>adults</td>\n",
       "      <td>AA2303</td>\n",
       "      <td>, サイズ： 素材： 生産国：</td>\n",
       "      <td>Accessories</td>\n",
       "      <td>female</td>\n",
       "      <td>その他</td>\n",
       "      <td>KAW58</td>\n",
       "      <td>パフォーマンス 3Pシューズインソックス ウィメンズ</td>\n",
       "      <td>ジム・トレーニング</td>\n",
       "      <td>Performance</td>\n",
       "      <td>Performance</td>\n",
       "    </tr>\n",
       "    <tr>\n",
       "      <th>3</th>\n",
       "      <td>adidas</td>\n",
       "      <td>jpn</td>\n",
       "      <td>own ecom</td>\n",
       "      <td>adults</td>\n",
       "      <td>AA2303</td>\n",
       "      <td>, サイズ： 素材： 生産国：</td>\n",
       "      <td>Accessories</td>\n",
       "      <td>female</td>\n",
       "      <td>その他</td>\n",
       "      <td>KAW58</td>\n",
       "      <td>パフォーマンス 3Pシューズインソックス ウィメンズ</td>\n",
       "      <td>ジム・トレーニング</td>\n",
       "      <td>Performance</td>\n",
       "      <td>Performance</td>\n",
       "    </tr>\n",
       "    <tr>\n",
       "      <th>4</th>\n",
       "      <td>adidas</td>\n",
       "      <td>jpn</td>\n",
       "      <td>own ecom</td>\n",
       "      <td>adults</td>\n",
       "      <td>AA2303</td>\n",
       "      <td>, サイズ： 素材： 生産国：</td>\n",
       "      <td>Accessories</td>\n",
       "      <td>female</td>\n",
       "      <td>その他</td>\n",
       "      <td>KAW58</td>\n",
       "      <td>パフォーマンス 3Pシューズインソックス ウィメンズ</td>\n",
       "      <td>ジム・トレーニング</td>\n",
       "      <td>Performance</td>\n",
       "      <td>Performance</td>\n",
       "    </tr>\n",
       "  </tbody>\n",
       "</table>\n",
       "</div>"
      ],
      "text/plain": [
       "  companyName countryName distributorName ageGroup articleId      description  \\\n",
       "0      adidas         jpn        own ecom   adults    AA2303  , サイズ： 素材： 生産国：   \n",
       "1      adidas         jpn        own ecom   adults    AA2303  , サイズ： 素材： 生産国：   \n",
       "2      adidas         jpn        own ecom   adults    AA2303  , サイズ： 素材： 生産国：   \n",
       "3      adidas         jpn        own ecom   adults    AA2303  , サイズ： 素材： 生産国：   \n",
       "4      adidas         jpn        own ecom   adults    AA2303  , サイズ： 素材： 生産国：   \n",
       "\n",
       "      division  gender group modelNumber                       name4  \\\n",
       "0  Accessories  female   その他       KAW58  パフォーマンス 3Pシューズインソックス ウィメンズ   \n",
       "1  Accessories  female   その他       KAW58  パフォーマンス 3Pシューズインソックス ウィメンズ   \n",
       "2  Accessories  female   その他       KAW58  パフォーマンス 3Pシューズインソックス ウィメンズ   \n",
       "3  Accessories  female   その他       KAW58  パフォーマンス 3Pシューズインソックス ウィメンズ   \n",
       "4  Accessories  female   その他       KAW58  パフォーマンス 3Pシューズインソックス ウィメンズ   \n",
       "\n",
       "  sportsCategory     subBrand SUBBRAND_OUTPUT  \n",
       "0      ジム・トレーニング  Performance     Performance  \n",
       "1      ジム・トレーニング  Performance     Performance  \n",
       "2      ジム・トレーニング  Performance     Performance  \n",
       "3      ジム・トレーニング  Performance     Performance  \n",
       "4      ジム・トレーニング  Performance     Performance  "
      ]
     },
     "execution_count": 15,
     "metadata": {},
     "output_type": "execute_result"
    }
   ],
   "source": [
    "data_req.head()"
   ]
  },
  {
   "cell_type": "code",
   "execution_count": 16,
   "metadata": {},
   "outputs": [],
   "source": [
    "import numpy as np\n",
    "np.random.seed(123)\n",
    "data_req_sample = data_req.sample(frac=0.7)"
   ]
  },
  {
   "cell_type": "code",
   "execution_count": 17,
   "metadata": {},
   "outputs": [],
   "source": [
    "train = data_req.loc[data_req.index.isin(data_req_sample.index)]\n",
    "test = data_req.loc[~data_req.index.isin(data_req_sample.index)]"
   ]
  },
  {
   "cell_type": "code",
   "execution_count": 18,
   "metadata": {},
   "outputs": [
    {
     "name": "stderr",
     "output_type": "stream",
     "text": [
      "C:\\Users\\narendran.thesma\\AppData\\Local\\Continuum\\anaconda3\\lib\\site-packages\\ipykernel_launcher.py:1: SettingWithCopyWarning: \n",
      "A value is trying to be set on a copy of a slice from a DataFrame.\n",
      "Try using .loc[row_indexer,col_indexer] = value instead\n",
      "\n",
      "See the caveats in the documentation: http://pandas.pydata.org/pandas-docs/stable/indexing.html#indexing-view-versus-copy\n",
      "  \"\"\"Entry point for launching an IPython kernel.\n",
      "C:\\Users\\narendran.thesma\\AppData\\Local\\Continuum\\anaconda3\\lib\\site-packages\\ipykernel_launcher.py:2: SettingWithCopyWarning: \n",
      "A value is trying to be set on a copy of a slice from a DataFrame.\n",
      "Try using .loc[row_indexer,col_indexer] = value instead\n",
      "\n",
      "See the caveats in the documentation: http://pandas.pydata.org/pandas-docs/stable/indexing.html#indexing-view-versus-copy\n",
      "  \n"
     ]
    }
   ],
   "source": [
    "train[\"Check\"] = \"train\"\n",
    "test[\"Check\"] = \"test\""
   ]
  },
  {
   "cell_type": "code",
   "execution_count": 19,
   "metadata": {},
   "outputs": [],
   "source": [
    "data_req = train.append(test)"
   ]
  },
  {
   "cell_type": "code",
   "execution_count": 20,
   "metadata": {},
   "outputs": [],
   "source": [
    "# data_req.to_csv(\"data_req_chn.csv\")\n",
    "# test.to_csv(\"test.csv\")"
   ]
  },
  {
   "cell_type": "code",
   "execution_count": 21,
   "metadata": {},
   "outputs": [
    {
     "data": {
      "text/html": [
       "<div>\n",
       "<style scoped>\n",
       "    .dataframe tbody tr th:only-of-type {\n",
       "        vertical-align: middle;\n",
       "    }\n",
       "\n",
       "    .dataframe tbody tr th {\n",
       "        vertical-align: top;\n",
       "    }\n",
       "\n",
       "    .dataframe thead th {\n",
       "        text-align: right;\n",
       "    }\n",
       "</style>\n",
       "<table border=\"1\" class=\"dataframe\">\n",
       "  <thead>\n",
       "    <tr style=\"text-align: right;\">\n",
       "      <th></th>\n",
       "      <th>companyName</th>\n",
       "      <th>countryName</th>\n",
       "      <th>distributorName</th>\n",
       "      <th>ageGroup</th>\n",
       "      <th>articleId</th>\n",
       "      <th>description</th>\n",
       "      <th>division</th>\n",
       "      <th>gender</th>\n",
       "      <th>group</th>\n",
       "      <th>modelNumber</th>\n",
       "      <th>name4</th>\n",
       "      <th>sportsCategory</th>\n",
       "      <th>subBrand</th>\n",
       "      <th>SUBBRAND_OUTPUT</th>\n",
       "      <th>Check</th>\n",
       "    </tr>\n",
       "  </thead>\n",
       "  <tbody>\n",
       "    <tr>\n",
       "      <th>0</th>\n",
       "      <td>adidas</td>\n",
       "      <td>jpn</td>\n",
       "      <td>own ecom</td>\n",
       "      <td>adults</td>\n",
       "      <td>AA2303</td>\n",
       "      <td>, サイズ： 素材： 生産国：</td>\n",
       "      <td>Accessories</td>\n",
       "      <td>female</td>\n",
       "      <td>その他</td>\n",
       "      <td>KAW58</td>\n",
       "      <td>パフォーマンス 3Pシューズインソックス ウィメンズ</td>\n",
       "      <td>ジム・トレーニング</td>\n",
       "      <td>Performance</td>\n",
       "      <td>Performance</td>\n",
       "      <td>train</td>\n",
       "    </tr>\n",
       "    <tr>\n",
       "      <th>1</th>\n",
       "      <td>adidas</td>\n",
       "      <td>jpn</td>\n",
       "      <td>own ecom</td>\n",
       "      <td>adults</td>\n",
       "      <td>AA2303</td>\n",
       "      <td>, サイズ： 素材： 生産国：</td>\n",
       "      <td>Accessories</td>\n",
       "      <td>female</td>\n",
       "      <td>その他</td>\n",
       "      <td>KAW58</td>\n",
       "      <td>パフォーマンス 3Pシューズインソックス ウィメンズ</td>\n",
       "      <td>ジム・トレーニング</td>\n",
       "      <td>Performance</td>\n",
       "      <td>Performance</td>\n",
       "      <td>train</td>\n",
       "    </tr>\n",
       "    <tr>\n",
       "      <th>2</th>\n",
       "      <td>adidas</td>\n",
       "      <td>jpn</td>\n",
       "      <td>own ecom</td>\n",
       "      <td>adults</td>\n",
       "      <td>AA2303</td>\n",
       "      <td>, サイズ： 素材： 生産国：</td>\n",
       "      <td>Accessories</td>\n",
       "      <td>female</td>\n",
       "      <td>その他</td>\n",
       "      <td>KAW58</td>\n",
       "      <td>パフォーマンス 3Pシューズインソックス ウィメンズ</td>\n",
       "      <td>ジム・トレーニング</td>\n",
       "      <td>Performance</td>\n",
       "      <td>Performance</td>\n",
       "      <td>train</td>\n",
       "    </tr>\n",
       "    <tr>\n",
       "      <th>6</th>\n",
       "      <td>adidas</td>\n",
       "      <td>jpn</td>\n",
       "      <td>own ecom</td>\n",
       "      <td>adults</td>\n",
       "      <td>AA2303</td>\n",
       "      <td>, サイズ： 素材： 生産国：</td>\n",
       "      <td>Accessories</td>\n",
       "      <td>female</td>\n",
       "      <td>その他</td>\n",
       "      <td>KAW58</td>\n",
       "      <td>パフォーマンス 3Pシューズインソックス ウィメンズ</td>\n",
       "      <td>ジム・トレーニング</td>\n",
       "      <td>Performance</td>\n",
       "      <td>Performance</td>\n",
       "      <td>train</td>\n",
       "    </tr>\n",
       "    <tr>\n",
       "      <th>9</th>\n",
       "      <td>adidas</td>\n",
       "      <td>jpn</td>\n",
       "      <td>own ecom</td>\n",
       "      <td>adults</td>\n",
       "      <td>AA2303</td>\n",
       "      <td>サマーシーズンの足元に活躍する、浅め丈ソックス３Ｐセットがベーシックでシンプルなデザインで登場。</td>\n",
       "      <td>Accessories</td>\n",
       "      <td>female</td>\n",
       "      <td>その他</td>\n",
       "      <td>KAW58</td>\n",
       "      <td>パフォーマンス 3Pシューズインソックス ウィメンズ</td>\n",
       "      <td>ジム・トレーニング</td>\n",
       "      <td>Performance</td>\n",
       "      <td>Performance</td>\n",
       "      <td>train</td>\n",
       "    </tr>\n",
       "  </tbody>\n",
       "</table>\n",
       "</div>"
      ],
      "text/plain": [
       "  companyName countryName distributorName ageGroup articleId  \\\n",
       "0      adidas         jpn        own ecom   adults    AA2303   \n",
       "1      adidas         jpn        own ecom   adults    AA2303   \n",
       "2      adidas         jpn        own ecom   adults    AA2303   \n",
       "6      adidas         jpn        own ecom   adults    AA2303   \n",
       "9      adidas         jpn        own ecom   adults    AA2303   \n",
       "\n",
       "                                        description     division  gender  \\\n",
       "0                                   , サイズ： 素材： 生産国：  Accessories  female   \n",
       "1                                   , サイズ： 素材： 生産国：  Accessories  female   \n",
       "2                                   , サイズ： 素材： 生産国：  Accessories  female   \n",
       "6                                   , サイズ： 素材： 生産国：  Accessories  female   \n",
       "9  サマーシーズンの足元に活躍する、浅め丈ソックス３Ｐセットがベーシックでシンプルなデザインで登場。  Accessories  female   \n",
       "\n",
       "  group modelNumber                       name4 sportsCategory     subBrand  \\\n",
       "0   その他       KAW58  パフォーマンス 3Pシューズインソックス ウィメンズ      ジム・トレーニング  Performance   \n",
       "1   その他       KAW58  パフォーマンス 3Pシューズインソックス ウィメンズ      ジム・トレーニング  Performance   \n",
       "2   その他       KAW58  パフォーマンス 3Pシューズインソックス ウィメンズ      ジム・トレーニング  Performance   \n",
       "6   その他       KAW58  パフォーマンス 3Pシューズインソックス ウィメンズ      ジム・トレーニング  Performance   \n",
       "9   その他       KAW58  パフォーマンス 3Pシューズインソックス ウィメンズ      ジム・トレーニング  Performance   \n",
       "\n",
       "  SUBBRAND_OUTPUT  Check  \n",
       "0     Performance  train  \n",
       "1     Performance  train  \n",
       "2     Performance  train  \n",
       "6     Performance  train  \n",
       "9     Performance  train  "
      ]
     },
     "execution_count": 21,
     "metadata": {},
     "output_type": "execute_result"
    }
   ],
   "source": [
    "data_req.head()"
   ]
  },
  {
   "cell_type": "code",
   "execution_count": 22,
   "metadata": {},
   "outputs": [],
   "source": [
    "# import logging\n",
    "# stoplist = set('for a of the and to in'.split())\n",
    "# texts = [[word for word in document.lower().split() if word not in stoplist]\n",
    "#          for document in data_req.description]"
   ]
  },
  {
   "cell_type": "code",
   "execution_count": 23,
   "metadata": {},
   "outputs": [
    {
     "name": "stderr",
     "output_type": "stream",
     "text": [
      "C:\\Users\\narendran.thesma\\AppData\\Local\\Continuum\\anaconda3\\lib\\site-packages\\gensim\\utils.py:1212: UserWarning: detected Windows; aliasing chunkize to chunkize_serial\n",
      "  warnings.warn(\"detected Windows; aliasing chunkize to chunkize_serial\")\n"
     ]
    }
   ],
   "source": [
    "import string\n",
    "from gensim.models.doc2vec import LabeledSentence\n",
    "from gensim import utils\n",
    "\n",
    "def cleanup(text):\n",
    "    text = text.lower()\n",
    "    text= text.translate(str.maketrans(\"\",\"\", string.punctuation))\n",
    "    return text\n",
    "\n",
    "train['description'] = train['description'].apply(cleanup)\n",
    "test['description'] = test['description'].apply(cleanup)\n",
    "allText = train['description'].append(test['description'],ignore_index=True)\n",
    "def constructLabeledSentences(data):\n",
    "    sentences=[]\n",
    "    for index, row in data.iteritems():\n",
    "        sentences.append(LabeledSentence(utils.to_unicode(row).split(), ['Text' + '_%s' % str(index)]))\n",
    "    return sentences"
   ]
  },
  {
   "cell_type": "code",
   "execution_count": 26,
   "metadata": {},
   "outputs": [
    {
     "name": "stderr",
     "output_type": "stream",
     "text": [
      "C:\\Users\\narendran.thesma\\AppData\\Local\\Continuum\\anaconda3\\lib\\site-packages\\ipykernel_launcher.py:16: DeprecationWarning: Call to deprecated `LabeledSentence` (Class will be removed in 4.0.0, use TaggedDocument instead).\n",
      "  app.launch_new_instance()\n"
     ]
    }
   ],
   "source": [
    "sentences = constructLabeledSentences(allText)"
   ]
  },
  {
   "cell_type": "code",
   "execution_count": 30,
   "metadata": {},
   "outputs": [
    {
     "name": "stderr",
     "output_type": "stream",
     "text": [
      "C:\\Users\\narendran.thesma\\AppData\\Local\\Continuum\\anaconda3\\lib\\site-packages\\gensim\\models\\doc2vec.py:566: UserWarning: The parameter `iter` is deprecated, will be removed in 4.0.0, use `epochs` instead.\n",
      "  warnings.warn(\"The parameter `iter` is deprecated, will be removed in 4.0.0, use `epochs` instead.\")\n",
      "C:\\Users\\narendran.thesma\\AppData\\Local\\Continuum\\anaconda3\\lib\\site-packages\\gensim\\models\\doc2vec.py:570: UserWarning: The parameter `size` is deprecated, will be removed in 4.0.0, use `vector_size` instead.\n",
      "  warnings.warn(\"The parameter `size` is deprecated, will be removed in 4.0.0, use `vector_size` instead.\")\n"
     ]
    }
   ],
   "source": [
    "from gensim.models import Doc2Vec\n",
    "model = Doc2Vec(min_count=1, window=5, size=100, workers=8,iter=100,seed=1)"
   ]
  },
  {
   "cell_type": "code",
   "execution_count": 31,
   "metadata": {},
   "outputs": [],
   "source": [
    "model.build_vocab(sentences)"
   ]
  },
  {
   "cell_type": "code",
   "execution_count": 32,
   "metadata": {},
   "outputs": [
    {
     "name": "stderr",
     "output_type": "stream",
     "text": [
      "C:\\Users\\narendran.thesma\\AppData\\Local\\Continuum\\anaconda3\\lib\\site-packages\\ipykernel_launcher.py:1: DeprecationWarning: Call to deprecated `iter` (Attribute will be removed in 4.0.0, use self.epochs instead).\n",
      "  \"\"\"Entry point for launching an IPython kernel.\n"
     ]
    },
    {
     "ename": "KeyboardInterrupt",
     "evalue": "",
     "output_type": "error",
     "traceback": [
      "\u001b[1;31m---------------------------------------------------------------------------\u001b[0m",
      "\u001b[1;31mKeyboardInterrupt\u001b[0m                         Traceback (most recent call last)",
      "\u001b[1;32m<ipython-input-32-a05c409c5d36>\u001b[0m in \u001b[0;36m<module>\u001b[1;34m()\u001b[0m\n\u001b[1;32m----> 1\u001b[1;33m \u001b[0mmodel\u001b[0m\u001b[1;33m.\u001b[0m\u001b[0mtrain\u001b[0m\u001b[1;33m(\u001b[0m\u001b[0msentences\u001b[0m\u001b[1;33m,\u001b[0m \u001b[0mtotal_examples\u001b[0m\u001b[1;33m=\u001b[0m\u001b[0mmodel\u001b[0m\u001b[1;33m.\u001b[0m\u001b[0mcorpus_count\u001b[0m\u001b[1;33m,\u001b[0m \u001b[0mepochs\u001b[0m\u001b[1;33m=\u001b[0m\u001b[0mmodel\u001b[0m\u001b[1;33m.\u001b[0m\u001b[0miter\u001b[0m\u001b[1;33m)\u001b[0m\u001b[1;33m\u001b[0m\u001b[0m\n\u001b[0m",
      "\u001b[1;32m~\\AppData\\Local\\Continuum\\anaconda3\\lib\\site-packages\\gensim\\models\\doc2vec.py\u001b[0m in \u001b[0;36mtrain\u001b[1;34m(self, documents, corpus_file, total_examples, total_words, epochs, start_alpha, end_alpha, word_count, queue_factor, report_delay, callbacks)\u001b[0m\n\u001b[0;32m    793\u001b[0m             \u001b[0msentences\u001b[0m\u001b[1;33m=\u001b[0m\u001b[0mdocuments\u001b[0m\u001b[1;33m,\u001b[0m \u001b[0mcorpus_file\u001b[0m\u001b[1;33m=\u001b[0m\u001b[0mcorpus_file\u001b[0m\u001b[1;33m,\u001b[0m \u001b[0mtotal_examples\u001b[0m\u001b[1;33m=\u001b[0m\u001b[0mtotal_examples\u001b[0m\u001b[1;33m,\u001b[0m \u001b[0mtotal_words\u001b[0m\u001b[1;33m=\u001b[0m\u001b[0mtotal_words\u001b[0m\u001b[1;33m,\u001b[0m\u001b[1;33m\u001b[0m\u001b[0m\n\u001b[0;32m    794\u001b[0m             \u001b[0mepochs\u001b[0m\u001b[1;33m=\u001b[0m\u001b[0mepochs\u001b[0m\u001b[1;33m,\u001b[0m \u001b[0mstart_alpha\u001b[0m\u001b[1;33m=\u001b[0m\u001b[0mstart_alpha\u001b[0m\u001b[1;33m,\u001b[0m \u001b[0mend_alpha\u001b[0m\u001b[1;33m=\u001b[0m\u001b[0mend_alpha\u001b[0m\u001b[1;33m,\u001b[0m \u001b[0mword_count\u001b[0m\u001b[1;33m=\u001b[0m\u001b[0mword_count\u001b[0m\u001b[1;33m,\u001b[0m\u001b[1;33m\u001b[0m\u001b[0m\n\u001b[1;32m--> 795\u001b[1;33m             queue_factor=queue_factor, report_delay=report_delay, callbacks=callbacks, **kwargs)\n\u001b[0m\u001b[0;32m    796\u001b[0m \u001b[1;33m\u001b[0m\u001b[0m\n\u001b[0;32m    797\u001b[0m     \u001b[1;33m@\u001b[0m\u001b[0mclassmethod\u001b[0m\u001b[1;33m\u001b[0m\u001b[0m\n",
      "\u001b[1;32m~\\AppData\\Local\\Continuum\\anaconda3\\lib\\site-packages\\gensim\\models\\base_any2vec.py\u001b[0m in \u001b[0;36mtrain\u001b[1;34m(self, sentences, corpus_file, total_examples, total_words, epochs, start_alpha, end_alpha, word_count, queue_factor, report_delay, compute_loss, callbacks, **kwargs)\u001b[0m\n\u001b[0;32m   1079\u001b[0m             \u001b[0mtotal_words\u001b[0m\u001b[1;33m=\u001b[0m\u001b[0mtotal_words\u001b[0m\u001b[1;33m,\u001b[0m \u001b[0mepochs\u001b[0m\u001b[1;33m=\u001b[0m\u001b[0mepochs\u001b[0m\u001b[1;33m,\u001b[0m \u001b[0mstart_alpha\u001b[0m\u001b[1;33m=\u001b[0m\u001b[0mstart_alpha\u001b[0m\u001b[1;33m,\u001b[0m \u001b[0mend_alpha\u001b[0m\u001b[1;33m=\u001b[0m\u001b[0mend_alpha\u001b[0m\u001b[1;33m,\u001b[0m \u001b[0mword_count\u001b[0m\u001b[1;33m=\u001b[0m\u001b[0mword_count\u001b[0m\u001b[1;33m,\u001b[0m\u001b[1;33m\u001b[0m\u001b[0m\n\u001b[0;32m   1080\u001b[0m             \u001b[0mqueue_factor\u001b[0m\u001b[1;33m=\u001b[0m\u001b[0mqueue_factor\u001b[0m\u001b[1;33m,\u001b[0m \u001b[0mreport_delay\u001b[0m\u001b[1;33m=\u001b[0m\u001b[0mreport_delay\u001b[0m\u001b[1;33m,\u001b[0m \u001b[0mcompute_loss\u001b[0m\u001b[1;33m=\u001b[0m\u001b[0mcompute_loss\u001b[0m\u001b[1;33m,\u001b[0m \u001b[0mcallbacks\u001b[0m\u001b[1;33m=\u001b[0m\u001b[0mcallbacks\u001b[0m\u001b[1;33m,\u001b[0m\u001b[1;33m\u001b[0m\u001b[0m\n\u001b[1;32m-> 1081\u001b[1;33m             **kwargs)\n\u001b[0m\u001b[0;32m   1082\u001b[0m \u001b[1;33m\u001b[0m\u001b[0m\n\u001b[0;32m   1083\u001b[0m     \u001b[1;32mdef\u001b[0m \u001b[0m_get_job_params\u001b[0m\u001b[1;33m(\u001b[0m\u001b[0mself\u001b[0m\u001b[1;33m,\u001b[0m \u001b[0mcur_epoch\u001b[0m\u001b[1;33m)\u001b[0m\u001b[1;33m:\u001b[0m\u001b[1;33m\u001b[0m\u001b[0m\n",
      "\u001b[1;32m~\\AppData\\Local\\Continuum\\anaconda3\\lib\\site-packages\\gensim\\models\\base_any2vec.py\u001b[0m in \u001b[0;36mtrain\u001b[1;34m(self, data_iterable, corpus_file, epochs, total_examples, total_words, queue_factor, report_delay, callbacks, **kwargs)\u001b[0m\n\u001b[0;32m    551\u001b[0m                 trained_word_count_epoch, raw_word_count_epoch, job_tally_epoch = self._train_epoch(\n\u001b[0;32m    552\u001b[0m                     \u001b[0mdata_iterable\u001b[0m\u001b[1;33m,\u001b[0m \u001b[0mcur_epoch\u001b[0m\u001b[1;33m=\u001b[0m\u001b[0mcur_epoch\u001b[0m\u001b[1;33m,\u001b[0m \u001b[0mtotal_examples\u001b[0m\u001b[1;33m=\u001b[0m\u001b[0mtotal_examples\u001b[0m\u001b[1;33m,\u001b[0m\u001b[1;33m\u001b[0m\u001b[0m\n\u001b[1;32m--> 553\u001b[1;33m                     total_words=total_words, queue_factor=queue_factor, report_delay=report_delay)\n\u001b[0m\u001b[0;32m    554\u001b[0m             \u001b[1;32melse\u001b[0m\u001b[1;33m:\u001b[0m\u001b[1;33m\u001b[0m\u001b[0m\n\u001b[0;32m    555\u001b[0m                 trained_word_count_epoch, raw_word_count_epoch, job_tally_epoch = self._train_epoch_corpusfile(\n",
      "\u001b[1;32m~\\AppData\\Local\\Continuum\\anaconda3\\lib\\site-packages\\gensim\\models\\base_any2vec.py\u001b[0m in \u001b[0;36m_train_epoch\u001b[1;34m(self, data_iterable, cur_epoch, total_examples, total_words, queue_factor, report_delay)\u001b[0m\n\u001b[0;32m    487\u001b[0m         trained_word_count, raw_word_count, job_tally = self._log_epoch_progress(\n\u001b[0;32m    488\u001b[0m             \u001b[0mprogress_queue\u001b[0m\u001b[1;33m,\u001b[0m \u001b[0mjob_queue\u001b[0m\u001b[1;33m,\u001b[0m \u001b[0mcur_epoch\u001b[0m\u001b[1;33m=\u001b[0m\u001b[0mcur_epoch\u001b[0m\u001b[1;33m,\u001b[0m \u001b[0mtotal_examples\u001b[0m\u001b[1;33m=\u001b[0m\u001b[0mtotal_examples\u001b[0m\u001b[1;33m,\u001b[0m \u001b[0mtotal_words\u001b[0m\u001b[1;33m=\u001b[0m\u001b[0mtotal_words\u001b[0m\u001b[1;33m,\u001b[0m\u001b[1;33m\u001b[0m\u001b[0m\n\u001b[1;32m--> 489\u001b[1;33m             report_delay=report_delay, is_corpus_file_mode=False)\n\u001b[0m\u001b[0;32m    490\u001b[0m \u001b[1;33m\u001b[0m\u001b[0m\n\u001b[0;32m    491\u001b[0m         \u001b[1;32mreturn\u001b[0m \u001b[0mtrained_word_count\u001b[0m\u001b[1;33m,\u001b[0m \u001b[0mraw_word_count\u001b[0m\u001b[1;33m,\u001b[0m \u001b[0mjob_tally\u001b[0m\u001b[1;33m\u001b[0m\u001b[0m\n",
      "\u001b[1;32m~\\AppData\\Local\\Continuum\\anaconda3\\lib\\site-packages\\gensim\\models\\base_any2vec.py\u001b[0m in \u001b[0;36m_log_epoch_progress\u001b[1;34m(self, progress_queue, job_queue, cur_epoch, total_examples, total_words, report_delay, is_corpus_file_mode)\u001b[0m\n\u001b[0;32m    344\u001b[0m \u001b[1;33m\u001b[0m\u001b[0m\n\u001b[0;32m    345\u001b[0m         \u001b[1;32mwhile\u001b[0m \u001b[0munfinished_worker_count\u001b[0m \u001b[1;33m>\u001b[0m \u001b[1;36m0\u001b[0m\u001b[1;33m:\u001b[0m\u001b[1;33m\u001b[0m\u001b[0m\n\u001b[1;32m--> 346\u001b[1;33m             \u001b[0mreport\u001b[0m \u001b[1;33m=\u001b[0m \u001b[0mprogress_queue\u001b[0m\u001b[1;33m.\u001b[0m\u001b[0mget\u001b[0m\u001b[1;33m(\u001b[0m\u001b[1;33m)\u001b[0m  \u001b[1;31m# blocks if workers too slow\u001b[0m\u001b[1;33m\u001b[0m\u001b[0m\n\u001b[0m\u001b[0;32m    347\u001b[0m             \u001b[1;32mif\u001b[0m \u001b[0mreport\u001b[0m \u001b[1;32mis\u001b[0m \u001b[1;32mNone\u001b[0m\u001b[1;33m:\u001b[0m  \u001b[1;31m# a thread reporting that it finished\u001b[0m\u001b[1;33m\u001b[0m\u001b[0m\n\u001b[0;32m    348\u001b[0m                 \u001b[0munfinished_worker_count\u001b[0m \u001b[1;33m-=\u001b[0m \u001b[1;36m1\u001b[0m\u001b[1;33m\u001b[0m\u001b[0m\n",
      "\u001b[1;32m~\\AppData\\Local\\Continuum\\anaconda3\\lib\\queue.py\u001b[0m in \u001b[0;36mget\u001b[1;34m(self, block, timeout)\u001b[0m\n\u001b[0;32m    162\u001b[0m             \u001b[1;32melif\u001b[0m \u001b[0mtimeout\u001b[0m \u001b[1;32mis\u001b[0m \u001b[1;32mNone\u001b[0m\u001b[1;33m:\u001b[0m\u001b[1;33m\u001b[0m\u001b[0m\n\u001b[0;32m    163\u001b[0m                 \u001b[1;32mwhile\u001b[0m \u001b[1;32mnot\u001b[0m \u001b[0mself\u001b[0m\u001b[1;33m.\u001b[0m\u001b[0m_qsize\u001b[0m\u001b[1;33m(\u001b[0m\u001b[1;33m)\u001b[0m\u001b[1;33m:\u001b[0m\u001b[1;33m\u001b[0m\u001b[0m\n\u001b[1;32m--> 164\u001b[1;33m                     \u001b[0mself\u001b[0m\u001b[1;33m.\u001b[0m\u001b[0mnot_empty\u001b[0m\u001b[1;33m.\u001b[0m\u001b[0mwait\u001b[0m\u001b[1;33m(\u001b[0m\u001b[1;33m)\u001b[0m\u001b[1;33m\u001b[0m\u001b[0m\n\u001b[0m\u001b[0;32m    165\u001b[0m             \u001b[1;32melif\u001b[0m \u001b[0mtimeout\u001b[0m \u001b[1;33m<\u001b[0m \u001b[1;36m0\u001b[0m\u001b[1;33m:\u001b[0m\u001b[1;33m\u001b[0m\u001b[0m\n\u001b[0;32m    166\u001b[0m                 \u001b[1;32mraise\u001b[0m \u001b[0mValueError\u001b[0m\u001b[1;33m(\u001b[0m\u001b[1;34m\"'timeout' must be a non-negative number\"\u001b[0m\u001b[1;33m)\u001b[0m\u001b[1;33m\u001b[0m\u001b[0m\n",
      "\u001b[1;32m~\\AppData\\Local\\Continuum\\anaconda3\\lib\\threading.py\u001b[0m in \u001b[0;36mwait\u001b[1;34m(self, timeout)\u001b[0m\n\u001b[0;32m    293\u001b[0m         \u001b[1;32mtry\u001b[0m\u001b[1;33m:\u001b[0m    \u001b[1;31m# restore state no matter what (e.g., KeyboardInterrupt)\u001b[0m\u001b[1;33m\u001b[0m\u001b[0m\n\u001b[0;32m    294\u001b[0m             \u001b[1;32mif\u001b[0m \u001b[0mtimeout\u001b[0m \u001b[1;32mis\u001b[0m \u001b[1;32mNone\u001b[0m\u001b[1;33m:\u001b[0m\u001b[1;33m\u001b[0m\u001b[0m\n\u001b[1;32m--> 295\u001b[1;33m                 \u001b[0mwaiter\u001b[0m\u001b[1;33m.\u001b[0m\u001b[0macquire\u001b[0m\u001b[1;33m(\u001b[0m\u001b[1;33m)\u001b[0m\u001b[1;33m\u001b[0m\u001b[0m\n\u001b[0m\u001b[0;32m    296\u001b[0m                 \u001b[0mgotit\u001b[0m \u001b[1;33m=\u001b[0m \u001b[1;32mTrue\u001b[0m\u001b[1;33m\u001b[0m\u001b[0m\n\u001b[0;32m    297\u001b[0m             \u001b[1;32melse\u001b[0m\u001b[1;33m:\u001b[0m\u001b[1;33m\u001b[0m\u001b[0m\n",
      "\u001b[1;31mKeyboardInterrupt\u001b[0m: "
     ]
    }
   ],
   "source": [
    "model.train(sentences, total_examples=model.corpus_count, epochs=model.iter)"
   ]
  },
  {
   "cell_type": "code",
   "execution_count": 30,
   "metadata": {},
   "outputs": [],
   "source": [
    "train_arrays = np.zeros((train.shape[0], 100))"
   ]
  },
  {
   "cell_type": "code",
   "execution_count": 31,
   "metadata": {},
   "outputs": [],
   "source": [
    "train_arrays = [model.docvecs['Text_'+str(i)] for i in range(train.shape[0])]\n",
    "test_arrays = [model.docvecs['Text_'+str(i)] for i in range(test.shape[0])]"
   ]
  },
  {
   "cell_type": "code",
   "execution_count": 32,
   "metadata": {},
   "outputs": [],
   "source": [
    "c_header = np.arange(0,100).astype(str)"
   ]
  },
  {
   "cell_type": "code",
   "execution_count": 33,
   "metadata": {},
   "outputs": [],
   "source": [
    "c_header = [\"C\" + x for x in c_header]"
   ]
  },
  {
   "cell_type": "code",
   "execution_count": 34,
   "metadata": {},
   "outputs": [],
   "source": [
    "train_arrays_df = pd.DataFrame(train_arrays, columns=c_header)\n",
    "test_arrays_df = pd.DataFrame(test_arrays, columns=c_header)"
   ]
  },
  {
   "cell_type": "code",
   "execution_count": 35,
   "metadata": {},
   "outputs": [
    {
     "data": {
      "text/plain": [
       "11900"
      ]
     },
     "execution_count": 35,
     "metadata": {},
     "output_type": "execute_result"
    }
   ],
   "source": [
    "len(train)"
   ]
  },
  {
   "cell_type": "code",
   "execution_count": 36,
   "metadata": {},
   "outputs": [],
   "source": [
    "train.reset_index(drop=True, inplace=True)\n",
    "train_arrays_df.reset_index(drop=True, inplace=True)"
   ]
  },
  {
   "cell_type": "code",
   "execution_count": 37,
   "metadata": {},
   "outputs": [],
   "source": [
    "test.reset_index(drop=True, inplace=True)\n",
    "test_arrays_df.reset_index(drop=True, inplace=True)"
   ]
  },
  {
   "cell_type": "code",
   "execution_count": 38,
   "metadata": {},
   "outputs": [],
   "source": [
    "train = pd.concat([train, train_arrays_df], axis=1)\n",
    "test = pd.concat([test, test_arrays_df], axis=1)"
   ]
  },
  {
   "cell_type": "code",
   "execution_count": 39,
   "metadata": {},
   "outputs": [
    {
     "data": {
      "text/plain": [
       "5100"
      ]
     },
     "execution_count": 39,
     "metadata": {},
     "output_type": "execute_result"
    }
   ],
   "source": [
    "len(test)"
   ]
  },
  {
   "cell_type": "code",
   "execution_count": 40,
   "metadata": {},
   "outputs": [],
   "source": [
    "X = train.columns"
   ]
  },
  {
   "cell_type": "code",
   "execution_count": 41,
   "metadata": {},
   "outputs": [],
   "source": [
    "y = [\"subBrand\"]"
   ]
  },
  {
   "cell_type": "code",
   "execution_count": 42,
   "metadata": {},
   "outputs": [],
   "source": [
    "X = X.tolist()"
   ]
  },
  {
   "cell_type": "code",
   "execution_count": 43,
   "metadata": {},
   "outputs": [],
   "source": [
    "X.remove(\"subBrand\")"
   ]
  },
  {
   "cell_type": "code",
   "execution_count": 44,
   "metadata": {},
   "outputs": [],
   "source": [
    "X.remove(\"description\")\n",
    "X.remove(\"Check\")"
   ]
  },
  {
   "cell_type": "code",
   "execution_count": 45,
   "metadata": {},
   "outputs": [],
   "source": [
    "train = train.drop([\"description\"], axis=1)\n",
    "test = test.drop([\"description\"], axis=1)"
   ]
  },
  {
   "cell_type": "code",
   "execution_count": 46,
   "metadata": {},
   "outputs": [
    {
     "name": "stderr",
     "output_type": "stream",
     "text": [
      "C:\\Users\\narendran.thesma\\AppData\\Local\\Continuum\\anaconda3\\lib\\site-packages\\sklearn\\preprocessing\\label.py:111: DataConversionWarning: A column-vector y was passed when a 1d array was expected. Please change the shape of y to (n_samples, ), for example using ravel().\n",
      "  y = column_or_1d(y, warn=True)\n"
     ]
    }
   ],
   "source": [
    "from sklearn import preprocessing\n",
    "le = preprocessing.LabelEncoder()\n",
    "y_enc_train = le.fit_transform(train[y])"
   ]
  },
  {
   "cell_type": "code",
   "execution_count": 64,
   "metadata": {},
   "outputs": [],
   "source": [
    "#test.columns"
   ]
  },
  {
   "cell_type": "code",
   "execution_count": 47,
   "metadata": {},
   "outputs": [
    {
     "name": "stderr",
     "output_type": "stream",
     "text": [
      "C:\\Users\\narendran.thesma\\AppData\\Local\\Continuum\\anaconda3\\lib\\site-packages\\sklearn\\preprocessing\\label.py:128: DataConversionWarning: A column-vector y was passed when a 1d array was expected. Please change the shape of y to (n_samples, ), for example using ravel().\n",
      "  y = column_or_1d(y, warn=True)\n"
     ]
    }
   ],
   "source": [
    "y_enc_test = le.transform(test[y])"
   ]
  },
  {
   "cell_type": "code",
   "execution_count": 48,
   "metadata": {},
   "outputs": [],
   "source": [
    "train[\"SUBRAND_ENC\"] = y_enc_train\n",
    "test[\"SUBRAND_ENC\"] = y_enc_test\n",
    "train[\"SUBRAND_ENC\"] = pd.Categorical(train[\"SUBRAND_ENC\"])\n",
    "test[\"SUBRAND_ENC\"] = pd.Categorical(test[\"SUBRAND_ENC\"])"
   ]
  },
  {
   "cell_type": "code",
   "execution_count": 49,
   "metadata": {},
   "outputs": [],
   "source": [
    "y = \"SUBRAND_ENC\""
   ]
  },
  {
   "cell_type": "code",
   "execution_count": 50,
   "metadata": {},
   "outputs": [
    {
     "name": "stderr",
     "output_type": "stream",
     "text": [
      "C:\\Users\\narendran.thesma\\AppData\\Local\\Continuum\\anaconda3\\lib\\site-packages\\h2o\\utils\\shared_utils.py:177: FutureWarning: Method .as_matrix will be removed in a future version. Use .values instead.\n",
      "  data = _handle_python_lists(python_obj.as_matrix().tolist(), -1)[1]\n"
     ]
    },
    {
     "name": "stdout",
     "output_type": "stream",
     "text": [
      "Parse progress: |█████████████████████████████████████████████████████████| 100%\n",
      "Parse progress: |█████████████████████████████████████████████████████████| 100%\n"
     ]
    }
   ],
   "source": [
    "train = h2o.H2OFrame(train)\n",
    "test = h2o.H2OFrame(test)"
   ]
  },
  {
   "cell_type": "code",
   "execution_count": 81,
   "metadata": {},
   "outputs": [],
   "source": [
    "train[y] = train[y].asfactor()\n",
    "test[y] = test[y].asfactor()"
   ]
  },
  {
   "cell_type": "code",
   "execution_count": 82,
   "metadata": {},
   "outputs": [
    {
     "name": "stdout",
     "output_type": "stream",
     "text": [
      "deeplearning Model Build progress: |██████████████████████████████████████| 100%\n"
     ]
    }
   ],
   "source": [
    "from h2o.estimators import H2ODeepLearningEstimator\n",
    "\n",
    "model_dl = H2ODeepLearningEstimator(categorical_encoding = \"one_hot_internal\")\n",
    "\n",
    "model_dl.train(x = X, y = y, \n",
    "                   training_frame = train, validation_frame = test\n",
    "              )"
   ]
  },
  {
   "cell_type": "code",
   "execution_count": 84,
   "metadata": {},
   "outputs": [
    {
     "name": "stdout",
     "output_type": "stream",
     "text": [
      "With Embeddings log loss: 3.779\n"
     ]
    }
   ],
   "source": [
    "print(\"With Embeddings log loss: \" + str(round(model_dl.logloss(valid = True), 3)))"
   ]
  },
  {
   "cell_type": "code",
   "execution_count": 93,
   "metadata": {},
   "outputs": [
    {
     "name": "stdout",
     "output_type": "stream",
     "text": [
      "deeplearning prediction progress: |███████████████████████████████████████| 100%\n"
     ]
    },
    {
     "name": "stderr",
     "output_type": "stream",
     "text": [
      "C:\\Users\\narendran.thesma\\AppData\\Local\\Continuum\\anaconda3\\lib\\site-packages\\h2o\\job.py:69: UserWarning: Test/Validation dataset column 'name4' has levels not trained on: [<0xD3>culos Aquazilla, <0xD3>culos Nike SB Unrest Skate, <0xD3>culos Nike Skylon Ace XV Pro Corrida, <0xD3>culos Nike Tailwind E Corrida, <0xD3>culos Se Hydronator, <0xD3>culos de Sol Nike Mercurial 8.0 R Treino & Academia, Agasalho Entry Oh, Agasalho NikeLab Heritage Track Suit Unissex Casual, Agasalho Puma Active Yogini Woven Suit Feminino - Preto, Agasalho Separates, Agasalho Yg S Entry Ts, Bermuda Barricade, Bermuda CLRDO, Bermuda Check Ml, Bermuda Crazy Explosive, Bermuda D2M Wvn, Bermuda Ess Chelsea Sj, Bermuda Flamengo Swingman Away, Bermuda Inf Ec3S Ll Bxy, Bermuda Moletom Puma Rebel Block Masculina - Marinho, Bermuda Nh Riders Ts, Bermuda Puma New Ess Masculina - Marinho, Bermuda Puma Rebel Sweat Cargo Masculina - Cinza, Bermuda Speedbreaker Climacool, Bermuda Techfit Base Masculina, Bermuda Tr 3S Kn, Bermuda Tr Pl Kn Sho M, Bermuda Universe, Bermuda Yb Gu Kn, Blus<0xE3>o Nike Boston Celtics Fleece Club Logo Masculino Moletom Basquete, Blus<0xE3>o Nike Chicago Bulls Fleece Club Logo Masculino Moletom Basquete, Blus<0xE3>o Nike New England Patriots Fleece Masculino Futebol Americano, Blusa AA-42, Blusa Ba Crop, Blusa Borbomix, Blusa Capuz Camouflage BB, Blusa Capuz EQT PDX, Blusa Capuz Fleece, Blusa Capuz Messi, Blusa Capuz Tennis 3.0 Fill, Blusa Capuz Textured Climacool, Blusa Eqt Blk Hoody, Blusa Eqt Bond Goalie, Blusa Ess Lin Oh, Blusa Ess Lin Po Ft, Blusa Fz Hoodie, Blusa Kaval, Blusa Lf Hoodie Crop, Blusa Moletom Capuz Essentials, Blusa Moletom Yb Logo Hood, Blusa Nmd Hoody, Blusa Passaredo, Blusa Puma Core-Run L/S HZ Top Feminina - Cinza, Blusa Puma Core-Run L/S HZ Top Feminina - Preto, Blusa Puma Soft Sport Light Cover Up Manga Longa Feminina - Verde, Blusa Rs Ls Zip M, Blusa Sweat Hood, Blusa TERREX TraceRocker, Blusa Trf Fz Hoody, Blusa Uniform, Body Collab Slv Body, Body Farm, Body Pharrell Williams HU, Body Poisonous Garden, Body Puma En Pointe Suit Feminino - Cinza, Body Puma Explosive Leotard Feminino - Preto, Body Puma Sophia Webster - Preto, Bola Basquete All Court, Bola Basquete Dame Signature, Bola Brasil, Bola Espanha, Bola FC Bayern Munich Finale 17 Mini, Bola FIFA World Cup 18 Alemanha, Bola FIFA World Cup Eliminat<0xF3>rias Top Glider, Bola FIFA World Cup Espanha 2018, Bola FIFA World Cup Knockout Praia, Bola FIFA World Cup Street Sala 2018, Bola FIFA World Cup Top Replique + Caixa 2018, Bola FIFA World Cup Xcite Praia 2018, Bola Finale 18 Oficial, Bola Futebol Americano Nike Vapor 24/7 Oficial Futebol Americano, Bola Futebol Campo It<0xE1>lia Puma Final 5 HS Trainer - Branco e Azul, Bola Futebol Campo Puma One Chrome - Verde e Cinza, Bola Futebol Krasava Top Replique, Bola Futebol New York Red Bulls, Bola Futebol Orlando City, Bola Glider Tango Street, Bola M<0xE9>xico 2018, Bola Match UCL Finale Kiev Oficial, Bola Nike Barcelona Strike Campo Futebol, Bola Nike Brasil Spirits Campo Futebol, Bola Nike Brasil Strike Campo Futebol, Bola Nike Chelsea Strike Campo Futebol, Bola Nike Corinthians Supporter Campo Futebol, Bola Nike FootballX Strike Futsal Futebol, Bola Nike Inglaterra Campo Futebol, Bola Nike La Liga Strike Campo Futebol, Bola Nike PSG Spirits Campo Futebol, Bola Nike Premier League Pitch Campo Futebol, Bola Nike Srtike Campo Futebol, Bola Nike Strikes Campo Pr<0xE9>-Adolescentes Futebol, Bola R<0xFA>ssia, Bola Starlancer V, Bola Treino UCL Finale Kiev, Bola UCL Finale Kiev Capitano, Bola de Basquete 3 Stripes 29.5, Bola de Futebol Campo Puma Arsenal One - Vermelho, Bola de Futebol Campo Puma Olympique de Marseille One Chrome - Azul e Branco, Bola de Futsal Puma 1 Trainer MS - Amarelo e Preto, Bolsa Airliner Vintage, Bolsa Better Tote Gr, Bolsa Bowling Acf, Bolsa Good Tote G2, Bolsa Gym Bag FC Bayern, Bolsa Gym Bag Performance Logo, Bolsa Mini Airliner Vintage, Bolsa Nike Alpha Duffel Medium Treino & Academia, Bolsa Nike Brasilia Duffel Medium Graphic Treino & Academia, Bolsa Nike Radiate Tote Feminina Treino & Academia, Bolsa Nike Tech Small Items Casual, Bolsa Nike Vapor Power Duffel Medium Treino & Academia, Bolsa Pouch adidas NMD, Bolsa Pride, Bolsa Puma Active Tr Duffle Bag S - Preto e Prata, Bolsa Puma Core Style Large Shopper - Branco e Cinza, Bolsa Puma Core Style Large Shopper - Preto, Bolsa Puma Handbag Prime Feminina - Cinza, Bolsa Puma Mina Bag WMN Core Round Case Seasonal Feminina - Preto e Dourado, Bolsa Puma Mini Bag Prime Premium Round Case Feminina - Preto, Bolsa Puma Prime 2-In-1 Shopper Feminina - Preto e Branco, Bolsa Puma Prime Classics Handbag Feminina - Preto e Branco, Bolsa Puma Prime Shopper Feminina - Preto e Branco, Bolsa Puma Pro Training II - Azul e Preto, Bolsa Puma Shooper Prime Large P Feminina - Branco e Cinza, Bolsa Puma Shopper Prime Feminina - Azul Claro, Bolsa Puma Shopper WMN Core Seasonal Feminina - Preto e Dourado, Bolsa Puma Tote Shopper Prime Time Large Feminina - Rosa, Bolsa Puma Tote Shopper WMN Core Large Feminina - Preto e Branco, Bolsa UA Cinch Printed Tote Feminina, Bolsa adidas NMD, Bon<0xE9> 3-Stripes Argentina, Bon<0xE9> 3-Stripes Juventus, Bon<0xE9> Aba Reta, Bon<0xE9> Aba Reta Juventus, Bon<0xE9> Aba Reta Manchester United, Bon<0xE9> Aba Reta Palmeiras, Bon<0xE9> City Snapback, Bon<0xE9> Classic Eqt, Bon<0xE9> Contrast Seam Five-Panel EQT, Bon<0xE9> Court Crusher, Bon<0xE9> Daily, Bon<0xE9> EQT Zip, Bon<0xE9> Ess 3S Ltwgt Met, Bon<0xE9> Estampado, Bon<0xE9> Ferrari Puma Aba Reta LS Flatbrim - Preto, Bon<0xE9> Five-Panel Atric, Bon<0xE9> Five-Panel EQT, Bon<0xE9> It<0xE1>lia, Bon<0xE9> Jordan Jumpman Pro AJ3 Basquete Casual, Bon<0xE9> Jordan Jumpman True AJ9 Basquete Casual, Bon<0xE9> Jordan Pro HGG XII Basquete, Bon<0xE9> Lucas Star Wars, Bon<0xE9> Manchester United, Bon<0xE9> Mesh Trucker, Bon<0xE9> Nike Arobill Featherlight Feminino T<0xEA>nis, Bon<0xE9> Nike Barcelona Futebol, Bon<0xE9> Nike Chicago Bulls Aerobill Pro Heather Basquete, Bon<0xE9> Nike Energy AW84 Casual, Bon<0xE9> Nike FC Classic Futebol, Bon<0xE9> Nike Fran<0xE7>a Pro Futebol, Bon<0xE9> Nike Heritage 86 Vintage Skate, Bon<0xE9> Nike Holanda H86 Core Futebol, Bon<0xE9> Nike Los Angeles Lakers Aerobill Pro Heather Basquete, Bon<0xE9> Nike SB Heritage86 Icon Skate, Bon<0xE9> Nike SB X Medicom Skate, Bon<0xE9> Puma Aba Curva Running 3 c/ Prote<0xE7E3>o UV - Laranja, Bon<0xE9> Puma Aba Curva Running 3 c/ Prote<0xE7E3>o UV - Marinho e Azul, Bon<0xE9> Puma Aba Curva Style Fabric - Preto, Bon<0xE9> Puma Aba Curva Style Fabric - Vermelho, Bon<0xE9> Puma Aba Curva Style Trucker Masculino - Preto, Bon<0xE9> Puma Aba Reta Archive Suede - Vermelho, Bon<0xE9> Puma Aba Reta Archive Trucker Masculino - Preto, Bon<0xE9> Puma Aba Reta Flatbrim Masculino - Preto, Bon<0xE9> Puma Aba Reta Suede Premium - Preto, Bon<0xE9> Puma Arsenal Aba Curva Training - Vermelho, Bon<0xE9> Puma Arsenal Aba Reta Snapback - Vermelho, Bon<0xE9> Puma BMW Aba Curva MSP Masculino - Preto, Bon<0xE9> Puma BMW Flatbrim - Marinho, Bon<0xE9> Puma BMW Motorsport Aba Reta Flatbrim - Azul, Bon<0xE9> Puma Borussia Dortmund Snapback Aba Reta Masculino - Preto e Amarelo, Bon<0xE9> Puma It<0xE1>lia Aba Curva Training - Azul, Bon<0xE9> Puma Mercedes Aba Reta Flatbrim - Preto, Bon<0xE9> Puma Metal Cat Cap - Marinho, Bon<0xE9> Puma Olympique de Marseille Aba Curva Training - Azul, Bon<0xE9> Puma Pace Panel Aba Curva - Preto, Bon<0xE9> Puma Performance Aba Curva - Vermelho Claro, Bon<0xE9> Puma Red Bull Racing Aba Reta Lifestyle Flatbrim Masculino - Marinho, Bon<0xE9> Puma Red Bull Racing Ricciardo Aba Reta - Marinho, Bon<0xE9> Puma Red Bull Replica Verstappen - Marinho, Bon<0xE9> Puma Scuderia Ferrari Aba Reta LS Flatbrim Masculino - Preto, Bon<0xE9> Star Wars, Bon<0xE9> Tartan Six-Panel, Bon<0xE9> UA Closer Trucker Masculino, Bon<0xE9> UA Reflective Flat Brim Masculino, Bon<0xE9> UA Shadow 4.0 Run Masculino, Bon<0xE9> UA Threadborne<0x99> Training Masculino, Bon<0xE9> UA Train Spacer Mesh Masculino, Bone Nmd Pn, Boys' UA Printed Blitzing 3.0 Cap, Bra Poisonous Garden, CAMISA SAO PAULO I FEMININA, CAMISA SAO PAULO II, CAMISA SAO PAULO II FEMININA, Cal<0xE7>a Adibreak Snap, Cal<0xE7>a Bb Tp, Cal<0xE7>a Camo, Cal<0xE7>a Camo Trefoil, Cal<0xE7>a Capri HeatGear<0xAE> Armour Feminina, Cal<0xE7>a Capri HeatGear<0xAE> Armour Graphic Masculina, Cal<0xE7>a Capri Puma Active 3/4 Feminina - Preto, Cal<0xE7>a Capri Puma Ess 3/4 Logo Feminina - Preto, Cal<0xE7>a Capri UA Armour Fly Fast Printed Feminina, Cal<0xE7>a Comfi, Cal<0xE7>a Condivo 18 3/4, Cal<0xE7>a Cors<0xE1>rio Gear Up, Cal<0xE7>a Cors<0xE1>rio Response, Cal<0xE7>a Cors<0xE1>rio Techfit Base, Cal<0xE7>a Corsario Response W, Cal<0xE7>a Crop HeatGear<0xAE> Armour Graphic Feminina, Cal<0xE7>a Crop HeatGear<0xAE> Armour Graphic Infantil Feminina, Cal<0xE7>a Crop HeatGear<0xAE> Armour Print Feminina, Cal<0xE7>a Crop HeatGear<0xAE> Armour Reversible Feminina, Cal<0xE7>a Drop-Crotch Seasonal Special Real Madrid, Cal<0xE7>a Eqt Bonded, Cal<0xE7>a Eqt Wind, Cal<0xE7>a Ess 3S Pnt Ft, Cal<0xE7>a Ess Lgo T Sj, Cal<0xE7>a Firebird, Cal<0xE7>a Flared Tp, Cal<0xE7>a Fleece Essentials 3-Stripes, Cal<0xE7>a ID 3-Stripes, Cal<0xE7>a ID Hybrid, Cal<0xE7>a Jogger UA City Hopper Feminina, Cal<0xE7>a Jogger UA Pursuit Woven Masculina, Cal<0xE7>a Jogger UA Tech<0x99> Infantil Feminina, Cal<0xE7>a Jordan Jumpman Woven Masculina Basquete Casual, Cal<0xE7>a KAVAL, Cal<0xE7>a Legging 3/4 Climacool, Cal<0xE7>a Legging 3/4 Designed 2 Move Climalite 3 Stripes, Cal<0xE7>a Legging Alphaskin, Cal<0xE7>a Legging Aop 2, Cal<0xE7>a Legging Believe This 3-Stripes, Cal<0xE7>a Legging Brasiliana, Cal<0xE7>a Legging Colour, Cal<0xE7>a Legging Designed 2 Move Regular-Rise, Cal<0xE7>a Legging Estampada Comprida Alphaskin Sport, Cal<0xE7>a Legging Lg Cotton, Cal<0xE7>a Legging Mesclada Believe This High-Rise, Cal<0xE7>a Legging Mesh CLRDO, Cal<0xE7>a Legging Mesh Mesclado Believe This High-Rise, Cal<0xE7>a Legging Misty UA Hi-Rise Feminina, Cal<0xE7>a Legging Passaredo, Cal<0xE7>a Legging Power Graphic, Cal<0xE7>a Legging Puma Always On Graphic 7/8 Feminina - Preto, Cal<0xE7>a Legging Puma Always On Graphic 7/8 Feminina - Preto e Branco, Cal<0xE7>a Legging Puma Athetic Logo Feminina - Preto, Cal<0xE7>a Legging Puma Bow Feminina - Azul, Cal<0xE7>a Legging Puma Classics AOP - Branco, Cal<0xE7>a Legging Puma Classics Logo T7 Aop Cintura M<0xE9>dia Feminina - Preto, Cal<0xE7>a Legging Puma Classics Logo T7 Aop Cintura M<0xE9>dia Feminina - Rosa e Azul, Cal<0xE7>a Legging Puma Classics T7 Feminina - Marinho, Cal<0xE7>a Legging Puma ESS Logo Feminina - Chumbo, Cal<0xE7>a Legging Puma ESS Logo Feminina - Preto, Cal<0xE7>a Legging Puma En Pointe Q2 Tight Feminina - Preto, Cal<0xE7>a Legging Puma Energized Feminina - Azul e Pink, Cal<0xE7>a Legging Puma Ess No.1 Feminina - Azul, Cal<0xE7>a Legging Puma Evostripe Feminina - Preto, Cal<0xE7>a Legging Puma Explosive Slash Feminina - Preto, Cal<0xE7>a Legging Puma Fusion AOP - Verde, Cal<0xE7>a Legging Puma Graphic Feminina - Azul e Azul claro, Cal<0xE7>a Legging Puma Legwarmer Velour Lacingtight Feminina - Preto, Cal<0xE7>a Legging Puma Pwrlux Feminina - Bege, Cal<0xE7>a Legging Puma Transition Cintura M<0xE9>dia Feminina - Preto, Cal<0xE7>a Legging Puma Urban Sports Cintura M<0xE9>dia Feminina - Preto, Cal<0xE7>a Legging Puma de Compress<0xE3>o Power Shape - Preto, Cal<0xE7>a Legging Response, Cal<0xE7>a Legging Response 3/4, Cal<0xE7>a Legging Smlss Ln, Cal<0xE7>a Legging Sport ID Estampada, Cal<0xE7>a Legging Techfit, Cal<0xE7>a Legging Training 1/1, Cal<0xE7>a Legging Training Knit, Cal<0xE7>a Legging Training Longa, Cal<0xE7>a Legging UA Favorite Graphic Feminina, Cal<0xE7>a Legging UA Seamless <0xBE> Masculina, Cal<0xE7>a Legging UA Vanish Printed Feminina, Cal<0xE7>a Legging Ult Rainbow, Cal<0xE7>a Legging Ultimate, Cal<0xE7>a Legging Ultra Primeknit, Cal<0xE7>a Lk Lin Sweat, Cal<0xE7>a Moletom Puma Downtown Sweat Pants Cropped Masculina - Preto, Cal<0xE7>a Moletom Puma Elevated ESS Sllim Pants TR Masculina - Preto, Cal<0xE7>a Moletom Puma Ess ESS Sweat Pants TR Feminina - Cinza, Cal<0xE7>a Moletom Puma Evostripe Lite Masculina - Preto, Cal<0xE7>a Moletom Puma Evostripe Masculina - Marinho, Cal<0xE7>a Moletom Puma Pace Primary S Masculina - Preto, Cal<0xE7>a Moletom Puma Tape Pants TR Feminina - Marinho, Cal<0xE7>a Nike Dri-Fit Phenom Masculina Corrida, Cal<0xE7>a Nike Epic Knit Masculina Moletom Treino & Academia, Cal<0xE7>a Nike NSW Jogger Woven V442 Masculina Moletom Casual, Cal<0xE7>a Nike SB Dri-Fit FTM Masculina Skate, Cal<0xE7>a Nike SB Flex Chino Icon Masculina Skate, Cal<0xE7>a Nike Sportswear Advance 15 Masculina Casual, Cal<0xE7>a Nike Sportswear Jogger Masculina Moletom Casual, Cal<0xE7>a NikeLab X ACG Feminina Casual, Cal<0xE7>a Numbers Edition, Cal<0xE7>a Pantalona Puma En Pointe Wide Leg Pant Cintura Alta Feminina - Preto, Cal<0xE7>a Pharrell Williams HU Fb, Cal<0xE7>a Pharrell Williams HU Wind, Cal<0xE7>a Primeknit adidas ZNE, Cal<0xE7>a Puma Athletic Pants Feminina - Cinza, Cal<0xE7>a Puma Ess Leggings Feminina - Roxo, Cal<0xE7>a Puma Ess Sweat Pants - Cinza, Cal<0xE7>a Puma Liga Training Masculina - Preto e Branco, Cal<0xE7>a Puma Retro DK Masculina - Preto, Cal<0xE7>a Puma Scuderia Ferrari Sweat Masculina - Cinza, Cal<0xE7>a Puma X Diamond Track Pants Masculina - Cinza e Preto, Cal<0xE7>a Puma X Shantell Martin Feminina - Branco, Cal<0xE7>a Response Astro, Cal<0xE7>a Sc Legging, Cal<0xE7>a Sid Spr S Ft, Cal<0xE7>a Spezial Beckenbauer Tp, Cal<0xE7>a Sport ID Jogger, Cal<0xE7>a Super Puma Track Feminina - Marinho, Cal<0xE7>a Track, Cal<0xE7>a Treino FC Bayern, Cal<0xE7>a Treino Manchester United, Cal<0xE7>a UA Match Play Tapered Golf - Masculina, Cal<0xE7>a UA Perpetual <0xBD> Masculina, Cal<0xE7>a UA Play Up Feminina, Cal<0xE7>a UA Sportstyle Elite Cargo Masculina, Cal<0xE7>a UA Sportstyle Pique Masculina, Cal<0xE7>a UA Storm Armour<0xAE> Fleece Lightweight Feminina, Cal<0xE7>a UA Storm Woven Feminina, Cal<0xE7>a Urban Ua And Sons, Cal<0xE7>a Warm-Up, Cal<0xE7>a Workoutpan Tlite, Cal<0xE7>a Xbyo, Cal<0xE7>a Yb Tiro  3S, Cal<0xE7>a Yg Zne 3 Pant, Cal<0xE7>a ZNE 2, Cal<0xE7>a adidas Z.N.E. Parley, Cal<0xE7>a legging Linear, Cal<0xE7>a legging Ultimate High-Rise Printed, Cal<0xE7>as UA Essential Warm-Up Masculinas, Cal<0xE7E3>o It<0xE1>lia Puma R<0xE9>plica Masculino - Azul, Cal<0xE7E3>o Puma 3/4 Tight Masculino - Cinza, Cal<0xE7E3>o Puma Liga Core Masculino - Azul e Branco, Cal<0xE7E3>o Puma Liga Masculino - Azul e Branco, Cal<0xE7E3>o Puma Liga Masculino - Branco e Preto, Cal<0xE7E3>o Puma Pitch Masculino - Vinho e Branco, Calca Bt Rr Aop L, Calca Clrdo Tights, Calca Lf Tights, Calca The Bt Hr Sld, Calca Universe Wtp, Camisa 3-Stripes Jacquard, Camisa AC Milan 2, Camisa AC Milan 3, Camisa AC Milan Pr<0xE9>-Jogo 1, Camisa Ajax Amsterdam 1, Camisa Arsenal Home 2018 s/n<0xB0> - Torcedor Puma Masculina - Vermelho e Branco, Camisa B<0xE9>lgica 2018, Camisa Bayern de Munique 1, Camisa Bayern de Munique 1 Infantil, Camisa Bayern de Munique 2, Camisa Borussia Dortmund Away 18/19 s/n<0xB0> - Torcedor Puma Masculina - Preto, Camisa Borussia Dortmund R<0xE9>plica Cup Sponsor Logo Puma Masculina - Amarelo, Camisa Borussia M<0xF6>nchengladbach R<0xE9>plica Sponsor Puma Masculina - Branco, Camisa CR Flamengo 1 Fan, Camisa Climacool Polo, Camisa Entrada 14, Camisa Espanha 2018, Camisa FC Bayern Munique Pr<0xE9>-Jogo, Camisa Faixa, Camisa Fluminense FC Terceiro Oficial Infantil, Camisa Fluminense FC Terceiro Oficial Masculina, Camisa Futebol Americano Nike New England Patriots Dry Legend Masculina Futebol Americano, Camisa Goleiro Adipro 18, Camisa Goleiro Sele<0xE7E3>o It<0xE1>lia 2018 - Torcedor Puma Masculina - Preto, Camisa Gonzales, Camisa Grafica Tango, Camisa Icon Messi, Camisa Infantil Manchester United 2, Camisa Infantil Puma Liga Jersey Core - Preto e Branco, Camisa It<0xE1>lia Stadium Puma Masculina - Branco e Azul, Camisa Jordan x PSG Flight Knit 23 Masculina Casual, Camisa Juventus Authentic 1, Camisa Manchester United Authentic Pr<0xE9>-Jogo 1, Camisa Milan Stadium Puma Masculina - Branco e Preto, Camisa Milan Stadium Puma Masculina - Vermelho e Preto, Camisa Na-Kel, Camisa Nike Atl<0xE9>tico de Madrid I 2017/2018 Torcedor Masculina Futebol, Camisa Nike Atl<0xE9>tico de Madrid I 2018/19 Torcedor Masculina Futebol, Camisa Nike Barcelona Evergreen Crest Masculina Futebol, Camisa Nike Barcelona II 2017/2018 Torcedor Infantil Pr<0xE9>-Adolescentes Futebol, Camisa Nike Barcelona II 2018/19 Torcedor Masculina Futebol, Camisa Nike Barcelona III 2017/2018 Torcedor Masculina Futebol, Camisa Nike Barcelona III 2018/19 Torcedor Infantil Pr<0xE9>-Adolescente Futebol, Camisa Nike Barcelona III Vapor 2018/19 Jogador Masculina Futebol, Camisa Nike Boca Juniors I 2017/2018 Torcedor Masculina Futebol, Camisa Nike Brasil I 2018/19 Torcedor Est<0xE1>dio Infantil Pr<0xE9>-Adolescentes (Idade aprox. 6+ anos), Camisa Nike Brasil II 2018/19 Torcedor Infantil Pr<0xE9>-Adolescentes (Idade aprox. 6+ anos), Camisa Nike Chelsea I 2017/2018 Jogador Masculina Futebol, Camisa Nike Chelsea I 2017/2018 Torcedor Infantil Pr<0xE9>-Adolescentes Futebol, Camisa Nike Chelsea III 2017/2018 Jogador Masculina Futebol, Camisa Nike Chelsea Modern Authentic Masculina Futebol, Camisa Nike Corinthians II 2018/19 Torcedor Feminina Futebol, Camisa Nike Corinthians II 2018/19 Torcedor Infantil Pr<0xE9>-Adolescentes Futebol, Camisa Nike Corinthians III 2018/19 Jogador Masculina Futebol, Camisa Nike Corinthians III 2018/19 Torcedor Feminina Futebol, Camisa Nike Corinthians III 2018/19 Torcedor Masculina Futebol, Camisa Nike Holanda II 2018 Torcedor Masculina Futebol, Camisa Nike Inglaterra I 2018 Torcedor Infantil Pr<0xE9>-Adolescentes Futebol, Camisa Nike Inter de Mil<0xE3>o I 2018/19 Torcedor Masculina Futebol, Camisa Nike Inter de Mil<0xE3>o III 2018/19 Torcedor Masculina Futebol, Camisa Nike Internacional II 2017/2018 Torcedor Masculina Futebol, Camisa Nike Internazionale III 2017/2018 Torcedor Masculina Futebol, Camisa Nike Manchester City I 2018/19 Torcedor Masculina Futebol, Camisa Nike Manchester City II 2017/2018 Torcedor Infantil Pr<0xE9>-Adolescentes Futebol, Camisa Nike Manchester City III 2017/2018 Torcedor Masculina Futebol, Camisa Nike Monaco I 2018/19 Torcedor Masculina Futebol, Camisa Nike PSG II 2018/19 Torcedor Infantil Pr<0xE9>-Adolescentes (Idade aprox. 6+ anos), Camisa Nike Portugal I 2018 Torcedor Masculina Futebol, Camisa Nike Tottenham I 2017/2018 Torcedor Masculina Futebol, Camisa Oficial Argentina 1 Infantil 2018, Camisa Oficial Authentic Argentina 1 2018, Camisa Oficial Col<0xF4>mbia 1 2018, Camisa Oficial Colo-Colo Away, Camisa Oficial Cruz Azul Away Masculina, Camisa Oficial Esc<0xF3>cia 1 2018, Camisa Oficial Espanha 1 2018, Camisa Oficial Espanha 2 Juvenil 2018, Camisa Oficial Goleiro Alemanha 1 2018, Camisa Oficial Goleiro Espanha 1 2018, Camisa Oficial R<0xFA>ssia 1 Infantil 2018, Camisa Oficial R<0xFA>ssia 2 2018, Camisa Oficial Su<0xE9>cia 1 2018, Camisa Oficial Venezuela 1 2018, Camisa Olympique Lyonnais 1, Camisa Olympique de Marseille Home 18/19 s/n<0xB0> - Torcedor Puma Masculina - Branco e Azul, Camisa P<0xF3>lo Puma II Ferrari Masculina - Marinho, Camisa PSG x Jordan III 2018/19 Torcedora Feminina Futebol, Camisa Palmeiras 1 Authentic, Camisa Palmeiras 2 Infantil, Camisa Palmeiras 3, Camisa Palmeiras 3 Feminina, Camisa Polo 3-Stripes Manchester United, Camisa Polo Algod<0xE3>o FC Bayern, Camisa Polo Court, Camisa Polo Essentials Base, Camisa Polo London, Camisa Polo Nike Barcelona Masculina Futebol, Camisa Polo Nike Barcelona Modern Authentic Masculina Futebol, Camisa Polo Nike Chelsea Masculina Futebol, Camisa Polo NikeCourt Tech Knit Cool RF Advantage Masculina T<0xEA>nis, Camisa Polo Palmeiras, Camisa Polo Puma Archive T7 Masculina - Azul Escuro, Camisa Polo Puma Athletics Masculina - Marinho, Camisa Polo Puma BMW MMS Masculina - Preto, Camisa Polo Puma ESS Jersey Masculina - Cinza, Camisa Polo Puma ESS Jersey Masculina - Preto, Camisa Polo Puma ESS Pique Masculina - Azul, Camisa Polo Puma ESS Pique Masculina - Branco, Camisa Polo Puma ESS Pique Masculina - Cinza, Camisa Polo Puma ESS Pique Masculina - Preto, Camisa Polo Puma Elevated ESS Stripe Masculina - Verde, Camisa Polo Puma Elevated ESS Stripe Masculina - Vermelho, Camisa Polo Puma Ferrari Masculina - Preto, Camisa Polo Puma Mercedes Masculina - Cinza, Camisa Polo Puma Red Bull Racing - Marinho, Camisa Polo Puma Red Bull Racing Logo Masculina - Branco, Camisa Polo Puma Scuderia Ferrari Masculina - Vermelho, Camisa Polo Southhampton Core Team Masculina, Camisa Polo Tiro 17, Camisa Polo Viagem Bayern de Munique, Camisa Pr<0xE9>-Jogo Alemanha 1 Juvenil 2018, Camisa Pr<0xE9>-Jogo Nike Inglaterra 2018/19 Masculina Futebol, Camisa Pr<0xE9>-Jogo Nike Portugal 2018/19 Masculina Futebol, Camisa Puma Evoknit Masculina - Preto, Camisa Puma It<0xE1>lia Badge Tee Masculina - Azul, Camisa Puma Liga Jersey Core Masculina - Vermelho e Branco, Camisa Puma Liga Jersey Hooped Masculina - Vermelho e Preto, Camisa Puma Liga Jersey Masculina - Branco e Preto, Camisa Puma Liga Jersey Striped Masculina - Vermelho e Preto, Camisa Puma Next Masculina - Preto e Laranja, Camisa Puma Training Masculina - Azul, Camisa Puma Training Masculina - Branco, Camisa R<0xFA>ssia 2018, Camisa Real H Preshi, Camisa Real Madrid 1 Infantil, Camisa Real Madrid 2 Infantil, Camisa Real Madrid 3 Infantil, Camisa Real Salt Lake 2, Camisa Sele<0xE7E3>o <0xC1>ustria Home 2018 s/n<0xBA> - Torcedor Puma Masculina - Vermelho, Camisa Sele<0xE7E3>o Costa do Marfim Home 16/17 s/n<0xBA> Torcedor Puma Masculina - Laranja, Camisa Sele<0xE7E3>o Rep<0xFA>blica Checa Home 2018 s/n<0xBA> - Torcedor Puma Masculina - Vermelho, Camisa Sele<0xE7E3>o Su<0xEDE7>a Away s/n<0xB0> 2018 - Torcedor Puma Masculina - Branco, Camisa Sele<0xE7E3>o Uruguai Away s/n<0xB0> 2018 - Torcedor Puma Masculina - Branco, Camisa St. Pauli Oficial Masculina, Camisa Tango Classic Palmeiras, Camisa Tartan Flannel, Camisa Teixeira, Camisa Toronto FC 1, Camisa Treino CR Flamengo, Camisa Treino Condivo 18, Camisa Treino Milan 18/19 s/n<0xBA> Puma Masculina - Branco e Vermelho, Camisa de Manga Comprida UA Swyft Masculina, Camisa de Treino Arsenal 18/19 s/n<0xBA> Puma Masculina - Cinza, Camisa de Treino Arsenal 18/19 s/n<0xBA> Puma Masculina - Vermelho, Camisa de Treino Nike Barcelona Breathe Infantil Pr<0xE9>-Adolescentes (Idade aprox. 6+ anos), Camisa de Treino Nike Barcelona Breathe Infantil Pr<0xE9>-Adolescentes Futebol, Camisa de Treino Nike Brasil Breathe Masculina Futebol, Camisa de Treino Nike Graphic Masculina Futebol, Camisa de Treino Nike Internacional Dri-Fit Graphic Masculina Futebol, Camisa de Treino Nike PSG Masculina Futebol, Camisa de Treino Sele<0xE7E3>o Su<0xEDE7>a Training Jersey Puma Masculina - Branco, Camiseta 3-Stripes ID, Camiseta 3-Stripes Manchester United, Camiseta 360, Camiseta Alemanha, Camiseta Alemanha Seasonal Special 2018, Camiseta All Blacks, Camiseta Allover Print, Camiseta Aop, Camiseta Argentina 2018, Camiseta Ba Track Oversized, Camiseta Brasiliana, Camiseta CR Flamengo Sem Mangas  Camisa 2, Camiseta Camouflage BB, Camiseta Classic, Camiseta Clima 2.0 Dancer, Camiseta Clima 3, Camiseta Compress<0xE3>o Puma Manga Longa Futebol Next Masculina - Amarelo, Camiseta Confidential, Camiseta Cropped Active Icons, Camiseta Cropped COLLAB, Camiseta Cropped Farm, Camiseta Cropped Puma Ess+ Logo Feminina - Branco, Camiseta Cropped Puma Retro Feminina - Branco, Camiseta Cropped Tropicana, Camiseta D2M Ht, Camiseta D2M Logo, Camiseta EQT Burnside, Camiseta EQT Engineered Mesh, Camiseta EQT Premium, Camiseta Ess Aop Tee, Camiseta Estampada Manchester United, Camiseta FIFA World Cup, Camiseta FIFA World Cup Ball, Camiseta Fashion League Cycling, Camiseta Flamengo Gr<0xE1>fica, Camiseta FreeLift Logo, Camiseta HIgh-Neck, Camiseta Holanda, Camiseta I Fav Tee, Camiseta ID Badge of Sport, Camiseta ID Field Lineage, Camiseta ID VFA, Camiseta Icon FC Bayern, Camiseta Icon Juventus, Camiseta Icon Real Madrid, Camiseta Image, Camiseta Infantil Puma Minions Feminina - Branco, Camiseta Infantil Puma Style Graphic Masculina - Marinho, Camiseta It<0xE1>lia, Camiseta Japan Archive, Camiseta Jordan HO 2 Masculina Basquete, Camiseta Jordan Sportswear Last Shot Graphic Masculina Basquete Casual, Camiseta July Graphic, Camiseta Krooked, Camiseta Kylo Ren, Camiseta Layer, Camiseta Leve Essentials 3-Stripes, Camiseta Lf Crop, Camiseta Live Without Limits, Camiseta Lk Dy Elsa Frozen, Camiseta Logo ID, Camiseta Low Back Tee, Camiseta M Id Stdm 3S T, Camiseta Manga Curta UA Threadborne<0x99> Run Mesh Masculina, Camiseta Manga Longa Threadborne<0x99> Streaker - Feminina, Camiseta Marvel Black Panther, Camiseta Masculina Puma Vent Masculina - Azul, Camiseta Mc Bb8, Camiseta Mc D2M Lose, Camiseta Mc Ess Base Tee, Camiseta Mc Ess Li Sli Tee, Camiseta Mc Freelift Nvr Dn, Camiseta Mc Yb Id, Camiseta Messi, Camiseta Mixed Marvel, Camiseta Ml Seamless, Camiseta Mlworkout Gfx, Camiseta Mobility Layer, Camiseta Multifuncional Leve Essentials, Camiseta Nike Air Oversize Masculina Casual, Camiseta Nike Aroswift Strike Masculina Futebol, Camiseta Nike Breathe Swoosh Masculina Treino & Academia, Camiseta Nike Camo Masculina Treino & Academia, Camiseta Nike Chelsea Crest Infantil Pr<0xE9>-Adolescentes Futebol, Camiseta Nike Chicago Bulls Dri-Fit Masculina Basquete, Camiseta Nike Cleveland Cavaliers Dri-Fit Masculina Basquete, Camiseta Nike Cleveland Cavaliers Logo Masculina Basquete, Camiseta Nike Cleveland Cavaliers Top Masculina Basquete, Camiseta Nike Corinthians I 2017/2018 Torcedor Infantil Beb<0xEA>s Futebol, Camiseta Nike Corinthians I 2017/2018 Torcedor Infantil Crian<0xE7>as Futebol, Camiseta Nike Dallas Cowboys Essential Wordmark Masculina Futebol Americano, Camiseta Nike Dri-Fit AntiHero Masculina Skate, Camiseta Nike Dri-Fit Element Masculino Corrida, Camiseta Nike Dri-Fit Masculina Corrida, Camiseta Nike Dry Dunk Lebron James Masculina Basquete, Camiseta Nike FC Away Masculina Futebol, Camiseta Nike Golden State Warriors Dry Logo Masculina Basquete, Camiseta Nike Igualdade Feminina Casual, Camiseta Nike Kawhi Leonard San Antonio Spurs Masculina Basquete, Camiseta Nike Los Angeles Lakers Dri-Fit Masculina Basquete, Camiseta Nike Manchester City I 2018/19 Torcedor Infantil Pr<0xE9>-Adolescentes (Idade aprox. 6+ anos), Camiseta Nike Oklahoma City Thunder City Edition Masculina Basquete, Camiseta Nike SB Piz Masculina Skate, Camiseta Nike San Antonio Spurs Dri-Fit Masculina Basquete, Camiseta Nike Seattle Seahawks Essential Wordmark Masculina Futebol Americano, Camiseta Nike Sportswear Club Masculina Casual, Camiseta Nike Sportswear Concept Masculina Casual, Camiseta Nike Sportswear Kick Infantil Pr<0xE9>-Adolescentes (Idade aprox. 6+ anos), Camiseta Nike Tee JDI Dunk Infantil Pr<0xE9>-Adolescentes Basquete, Camiseta NikeCourt Rafa Masculina T<0xEA>nis, Camiseta Nikelab Essentials Feminina Casual, Camiseta Nikelab NSRL Masculina Casual, Camiseta Nmd D Aop, Camiseta Overbranding, Camiseta Palmeiras, Camiseta Palmeiras Treino, Camiseta Pharrell Williams Hu Holi, Camiseta Photo BB Dennis, Camiseta Pocket Skate, Camiseta Pocket Tennis, Camiseta Polo Puma Scuderia Ferrari Jacquard Masculina - Preto, Camiseta Polo Puma Scuderia Ferrari Masculina - Preto, Camiseta Primeknit Wool, Camiseta Puma A.C.E. Drirelease Graphic Masculina - Preto, Camiseta Puma Active Feminina - Preto, Camiseta Puma Active Hero Tee Masculina - Azul, Camiseta Puma Active Masculina - Azul Escuro, Camiseta Puma Active Masculina - Azul Royal, Camiseta Puma Archive Embossed Print - Branco, Camiseta Puma Archive Logo Masculina - Vermelho, Camiseta Puma Archive T7 Stripe Select Masculina - Branco, Camiseta Puma Archive T7 Stripe Select Masculina - Marinho e Branco, Camiseta Puma Athletic Feminina - Preto, Camiseta Puma Athletics Masculina - Vermelho, Camiseta Puma BMW MMS Life Graphic Tee Masculina - Preto, Camiseta Puma BMW MMS Life Tee - Preto, Camiseta Puma BMW MMS Logo Masculina - Cinza, Camiseta Puma BMW MMS Logo Masculina - Preto, Camiseta Puma BMW MMS T7 Masculina - Cinza, Camiseta Puma BMW MS Graphic Masculina - Branco, Camiseta Puma BMW MS Oversize Masculina - Cinza, Camiseta Puma BMW MSP Logo Masculina - Marinho, Camiseta Puma Big Cat Drapey Feminina - Verde <0xE1>gua, Camiseta Puma Bmw Ms Graphic Masculina - Preto, Camiseta Puma Bnd Tech Ss Masculina - Cinza, Camiseta Puma Bow Elongated Feminina - Azul, Camiseta Puma Brand Photo Tee Masculina - Branco, Camiseta Puma Brand Speed Logo Tee Masculina - Branco, Camiseta Puma Brand Tee Masculina - Preto, Camiseta Puma Cat Brand Graphic Masculina - Preto, Camiseta Puma Cat Brand Graphic Masculina - Vermelho, Camiseta Puma City Photo Tee Masculina - Preto, Camiseta Puma Classics Graphic AOP Masculina - Preto, Camiseta Puma Classics Logo - Branco, Camiseta Puma Classics Logo AOP Feminina - Preto, Camiseta Puma Classics Logo Feminina - Branco e Amarelo, Camiseta Puma Classics Logo Feminina - Preto, Camiseta Puma Classics Logo Feminina - Preto e Dourado, Camiseta Puma Classics Logo I Feminina - Roxo, Camiseta Puma Classics Logo Tee Aop Feminina - Preto, Camiseta Puma Classics Logo Tee Feminina - Mescla, Camiseta Puma Classics Tight T7 Feminina - Marinho, Camiseta Puma Core-Run Masculina - Preto, Camiseta Puma Cropped Feminina - Gelo, Camiseta Puma Downtown Masculina - Marrom, Camiseta Puma ESS Tee Feminina - Marinho, Camiseta Puma ESS+ Raglan Masculina - Branco, Camiseta Puma ESS+ Raglan Masculina - Vermelho, Camiseta Puma ESS+ V Neck Masculina - Cinza, Camiseta Puma Energy Ss Masculina - Cinza Claro, Camiseta Puma Ess + Logo Heather Feminina - Marinho, Camiseta Puma Ess + Logo Heather Feminina - Vermelho, Camiseta Puma Ess Big Cat Heather Tee Masculina - Azul Claro, Camiseta Puma Ess No.1 Heather Tee Masculina - Chumbo, Camiseta Puma Ess No.1 Heather Tee Masculina - Grafite, Camiseta Puma Ess No.1 Tee Heather Feminina - Mescla Escuro, Camiseta Puma Ess No.1 Tee Masculina - Cinza, Camiseta Puma Ess No.1 Tee Masculina - Vermelho e Branco, Camiseta Puma Ess+ Logo Heather Feminina - Azul e Branco, Camiseta Puma Ess+ Logo Heather Feminina - Vermelho, Camiseta Puma Essential SS Masculina - Branco, Camiseta Puma Essential SS Masculina - Mescla, Camiseta Puma Essential SS Masculina - Preto, Camiseta Puma Essential Tech Graphic Masculina - Azul, Camiseta Puma Essentials Logo Masculina - Azul, Camiseta Puma Essentials Logo Masculina - Cinza, Camiseta Puma Essentials Small Logo Masculina - Cinza, Camiseta Puma Estampada Masculina - Preto, Camiseta Puma Evoknit Best Masculina - Preto, Camiseta Puma Evostripe Evoknit Seamless Masculina - Musgo, Camiseta Puma Explosive Box Feminina - Preto, Camiseta Puma Explosive Box Feminina - Rosa, Camiseta Puma Fenty Cropped Feminina - Branco, Camiseta Puma Fenty Cropped Feminina - Rosa, Camiseta Puma Ferrari Big Shield Masculina - Branco, Camiseta Puma Ferrari Big Shield Masculina - Vermelho, Camiseta Puma Fusion Cropped AOP Feminina - Rosa, Camiseta Puma Fusion Graphic Feminina - Cinza, Camiseta Puma Graphic Downtown Masculina - Marrom, Camiseta Puma Graphic Logo Block Masculina - Marinho, Camiseta Puma Graphic S/S Masculino - Preto, Camiseta Puma Graphic S/S Masculino - Vermelho, Camiseta Puma Heather Masculina - Laranja, Camiseta Puma Heather Masculina - Verde, Camiseta Puma Ignite Graphic Masculina - Preto e Marinho, Camiseta Puma Ignite Graphic Masculina - Verde e laranja, Camiseta Puma Ignite S/S Mono Masculina - Verde, Camiseta Puma Ignite S/S Mono Masculina - Vermelho, Camiseta Puma Ignite S/S Mono Masculina - Vermelho Escuro, Camiseta Puma Ignite S/S W Feminina - Branco, Camiseta Puma L/S Hoody Manga Longa Feminina - Preto, Camiseta Puma Mercedes Graphic Tee Masculina - Preto, Camiseta Puma Mercedes Logo Tee Masculina - Verde, Camiseta Puma No.1 Lite Pack Masculina - Azul, Camiseta Puma No.1 Lite Pack Masculina - Preto, Camiseta Puma No.1 Logo Raglan Masculina - Off White, Camiseta Puma Pace Trend SS Masculina - Verde, Camiseta Puma Photo StreetTee Masculina - Cinza, Camiseta Puma Photoprint Feminina - Rosa, Camiseta Puma Rebel Block Basic Masculina - Preto, Camiseta Puma Rebel Block Basic Masculina - Vermelho, Camiseta Puma Rebel Bold Basic - Branco, Camiseta Puma Red Bull Racing AOP Tee Masculina - Marinho, Camiseta Puma Red Bull Racing Double Bull Masculina - Cinza, Camiseta Puma Red Bull Racing Double Bull Tee Masculina - Marinho, Camiseta Puma Red Bull Racing Graphic 2 - Cinza, Camiseta Puma Red Bull Racing Life Graphic Tee 2 Masculina - Cinza, Camiseta Puma Red Bull Racing Life Tee Masculina - Bord<0xF4>, Camiseta Puma Red Bull Racing Life Tee Masculina - Cinza, Camiseta Puma Red Bull Racing Logo Tee Masculina - Azul, Camiseta Puma Red Bull Racing Logo Tee Masculina - Marinho, Camiseta Puma Retro Masculina - Cinza, Camiseta Puma Retro Masculina - Marinho, Camiseta Puma S/S Graphic W Feminina - Rosa e Preto, Camiseta Puma Scuderia Ferrari Big Shield Masculina - Mescla, Camiseta Puma Scuderia Ferrari Big Shield Tee Masculina - Bord<0xF4>, Camiseta Puma Scuderia Ferrari Big Shield Tee Masculina - Cinza, Camiseta Puma Scuderia Ferrari EVO Masculina - Vermelho, Camiseta Puma Scuderia Ferrari Masculina - Preto, Camiseta Puma Scuderia Ferrari Night Cat Graphic Masculina - Cinza, Camiseta Puma Scuderia Ferrari Small Shield Masculina - Vermelho, Camiseta Puma Scuderia Ferrari T7 Tee Masculina - Preto, Camiseta Puma Scuderia Ferrari T7 Tee Masculina - Vermelho, Camiseta Puma Scuderia Ferrari Transform Graphic Masculina - Preto, Camiseta Puma Sneaker Masculina - Branco, Camiseta Puma Sneaker Masculina - Preto, Camiseta Puma Ss Crew Neck - Verde, Camiseta Puma Strapped Up Manga Longa Feminina - Bege, Camiseta Puma Style Athletics Graphic Tee Masculina - Cinza, Camiseta Puma Style Elemental G Infantil - Azul Royal, Camiseta Puma Summer Pack Aop Masculina - Azul, Camiseta Puma Swan Tee W - Branco, Camiseta Puma TRI Retro Masculina - Branco, Camiseta Puma TRI Retro Masculina - Cinza, Camiseta Puma TRI Retro Masculina - Verde, Camiseta Puma Tec Sports Masculina - Cinza, Camiseta Puma Tec Sports Masculina - Marinho, Camiseta Puma Track Tee Masculina - Branco, Camiseta Puma Transition Burn Out Feminina - Rosa, Camiseta Puma Transition Feminina - Preto, Camiseta Puma Transition Feminina - Rosa, Camiseta Puma Urban Sports Logo Feminina - Rosa e prata, Camiseta Puma Usain Bolt Graphic Tee Masculina - Azul, Camiseta Puma Winter Red Bull Racing Masculina - Azul Royal, Camiseta Puma Wording Masculina - Branco, Camiseta Puma Wording Masculina - Verde, Camiseta Puma X ANR Masculina - Laranja, Camiseta Puma X Big Sean Logo Masculina - Verde, Camiseta Puma X Han Pinstripe Masculina - Grafite, Camiseta Puma X Shantell Feminina - Branco, Camiseta Puma X Sophia Webster Reversible Top Feminina - Azul, Camiseta Pushing Tre, Camiseta Real Madrid Infantil, Camiseta Regata UA x Project Rock Mana Strong Masculina, Camiseta Repetition, Camiseta Running, Camiseta SC30 Player Fade - Infantil Masculina, Camiseta Seasonal Special Manchester United, Camiseta Shodo Reversible, Camiseta Sn Ss M Refl, Camiseta Sport ID Baseball, Camiseta Star Wars Stormtrooper, Camiseta Super Puma I Masculina - Branco e Azul, Camiseta Supernova M, Camiseta Techfit, Camiseta Techfit Power Masculina, Camiseta Tennis BB, Camiseta UA Team Issue Wordmark Masculina, Camiseta UA Tech<0x99> Graphic Feminina, Camiseta UA Threadborne<0x99> Seamless Feminina, Camiseta UA Threadborne<0x99> Seamless Heathered Feminina, Camiseta UA Warped Route Masculina, Camiseta UA x Project Rock Hawaii USA <0xBE> Masculina, Camiseta W Id Baseline T, Camiseta Warm-Up, Camiseta Warp-Knit, Camiseta XBYO, Camiseta Xbyo T Slab, Camiseta Yb Gu, Camiseta Yb Run Tee, Camiseta Yb X Jersey, Camiseta Yb Zne Tee, Camiseta Yg Id Tee, Camiseta Yg Run Tee, Camiseta Yg Tr Cool, Camiseta adizero, Caneleira Ghost Pro, Caneleiras X, Caneleiras X Club, Carteira Nmd, Chinelo Aqualette Cloudfoam, Chinelo Disney Minnie AltaSwim, Chinelo Duramo Infantil, Chinelo Eezay Soft, Chinelo Puma Fenty Surf Slide Feminino - Branco e Amarelo, Chinelo Puma Leadcat Nsk - Lil<0xE1>s, Chinelo Puma Leadcat Slide - Branco e Rosa, Chinelo Puma Platform Slide Feminino - Coral, Chinelo Puma Popcat Masculino - Branco e Azul, Chinelo Puma Popcat Masculino - Branco e Preto, Chinelo Puma Popcat Masculino - Rosa e Branco, Chinelo Puma Popcat Rubber - Branco, Chinelo Slide Puma Leadcat Patent Feminino - Pink, Chinelo Voloomix Gr, Chuteira ACE 17 Control Campo, Chuteira ACE 17.3 Society, Chuteira ACE 17.4 - Campo, Chuteira ACE 17.4 - Futsal, Chuteira ACE 17.4 Futsal, Chuteira ACE 17.4 Fxg - Campo, Chuteira Ace 17.3 Futsal, Chuteira Ace 17.3 Primemesh - Futsal, Chuteira Ace 17.4 - Futsal, Chuteira Ace 17.4 - Society, Chuteira Artilheira 17 - Campo, Chuteira Artilheira 17 - Futsal, Chuteira Campo Infantil Puma Spirit FG - Preto e Amarelo, Chuteira Campo Puma Evospeed 17.4 Tricks FG Masculina - Amarelo e Verde, Chuteira Campo Puma Future 18.4 FG BDP Masculina - Preto e Amarelo, Chuteira Campo Puma Future 2.3 NETFIT FG Masculina - Preto e Laranja, Chuteira Campo Puma One 1 Lth FG Masculina - Laranja e Preto, Chuteira Campo Puma One 18.3 FG BDP Masculina - Preto e Laranja, Chuteira Campo Puma One 18.4 FG BDP Masculina - Preto e Vermelho, Chuteira Campo Puma One 3 IL Lth BDP Masculina - Cinza e Verde <0xC1>gua, Chuteira Campo Puma One 3 Lth FG BDP Masculina - Azul, Chuteira Campo Puma Truora FG Masculina - Branco e Vermelho, Chuteira Campo UA ClutchFit<0xAE> Force 3.0 FG Masculina, Chuteira Campo UA Spotlight DL Firm Ground Masculina, Chuteira Copa Mundial, Chuteira Futsal Infantil Puma Cl<0xE1>ssico C IT - Preto e Gelo, Chuteira Futsal Infantil Puma Truora IT - Branco e Preto, Chuteira Futsal Puma 365 Netfit CT Masculina - Preto, Chuteira Futsal Puma 365 Netfit CT Masculina - Preto e Branco, Chuteira Futsal Puma Classico C II IT BDP Masculina - Preto e Branco, Chuteira Futsal Puma Future 18.3 IT Masculina - Amarelo e Vermelho, Chuteira Futsal Puma Future 18.4 IT BDP Masculina - Amarelo e Vermelho, Chuteira Futsal Puma Future 2.3 NETFIT IT Masculina - Marinho e Prata, Chuteira Futsal Puma Future 2.3 NETFIT IT Masculina - Preto e Laranja, Chuteira Futsal Puma Future 2.4 IT Masculina - Cinza e Verde <0xC1>gua, Chuteira Futsal Puma One 18.3 IT BDP Masculina - Preto, Chuteira Futsal Puma One 3 Lth IT BDP Masculina - Prata e Laranja, Chuteira Futsal Puma One 3 Lth IT BDP Masculina - Preto, Chuteira Futsal Puma Spirit IT Masculina - Amarelo e Vermelho, Chuteira Futsal Puma Spirit IT Masculina - Branco e Preto, Chuteira Futsal Puma Spirit IT Masculina - Preto e Amarelo, Chuteira Futsal Puma Spirit IT Masculina - Preto e Azul, Chuteira Goletto Vi In, Chuteira Infantil Nemeziz Tango 17.3 - Society, Chuteira Messi 16.4 Fxg - Campo, Chuteira NEMEZIZ 17.1 Campo, Chuteira NEMEZIZ 17.3 Campo, Chuteira NEMEZIZ 17.4 Futsal, Chuteira Nemeziz 17+ Agility Society, Chuteira Nemeziz 17.4 Futsal, Chuteira Nemeziz Messi 17.4 Campo Infantil, Chuteira Nemeziz Messi 17.4 Futsalj, Chuteira Nemeziz Messi 17.4 Society Infantil, Chuteira Nemeziz Messi 173 Societyj, Chuteira Nemeziz Messi 18.4 Campo, Chuteira Nemeziz Tango 18+ Society, Chuteira Nike HypervenomX III Academy Society Infantil Pr<0xE9>-Adolescentes Cano Baixo, Chuteira Nike Legend VII Elite 10R Campo Edi<0xE7E3>o Limitada, Chuteira Nike Lunar Legend VII Elite 10R Futsal Edi<0xE7E3>o Limitada, Chuteira Nike Magista Obra II Academy Campo Cano Alto Adulto, Chuteira Nike Magista Onda II Campo Cano Alto Adulto, Chuteira Nike MagistaX Obra II Academy Society Infantil Pr<0xE9>-Adolescentes Cano Alto, Chuteira Nike Mercurial Superfly VI Academy CR7 Campo Cano Alto Adulto, Chuteira Nike Mercurial Superfly VI Academy Neymar Campo Cano Alto Adulto, Chuteira Nike Mercurial Superfly VI Academy Neymar Campo Infantil Pr<0xE9>-Adolescentes Cano Alto, Chuteira Nike Mercurial Superfly VI Club Neymar Campo Cano Alto Adulto, Chuteira Nike Mercurial Vapor XII Academy Neymar Campo Cano Baixo Adulto, Chuteira Nike Mercurial Vapor XII Elite Campo Cano Baixo Adulto, Chuteira Nike Mercurial Vapor XII Pro Campo Neymar Jr., Chuteira Nike MercurialX Superfly VI Academy Neymar Society Infantil Pr<0xE9>-Adolescentes Cano Alto, Chuteira Nike MercurialX Superfly VI Club Neymar Society Infantil Pr<0xE9>-Adolescentes Cano Alto, Chuteira Nike MercurialX Vapor XII Academy Futsal Infantil Crian<0xE7>as Cano Baixo, Chuteira Nike MercurialX Vapor XII Academy Society Infantil Pr<0xE9>-Adolescentes Cano Baixo, Chuteira Nike MercurialX Vapor XII Club CR7 Society Cano Baixo Adulto, Chuteira Nike MercurialX Vapor XII Club CR7 Society Infantil Pr<0xE9>-Adolescentes Cano Baixo, Chuteira Nike MercurialX Victory VI Neymar Society Cano Alto Adulto, Chuteira Nike PhantomX Vision Club Society Cano Alto Adulto, Chuteira Nike Tiempo Legend VII Campo Cano Baixo Adulto, Chuteira Nike TiempoX Lunar Legend VII 10R Pro Society Cano Baixo Adulto, Chuteira Nmz Messi 18.3 Futsal Infantil, Chuteira Nmz Messi Tan 18.3 Society, Chuteira Paul Pogba Predator 18+ Campo, Chuteira Predator 18 Control Futsal, Chuteira Predator 18.3 Society Infantil, Chuteira Predator Tan 18.0 Society, Chuteira Predator Telstar18 Campo, Chuteira Society Infantil Puma Future 18.4 TT - Amarelo e Vermelho, Chuteira Society Infantil Puma Rapido TT - Preto e Laranja, Chuteira Society Puma Classico C II TT BDP Masculina - Preto e Branco, Chuteira Society Puma Future 18.4 TT BDP Masculina - Amarelo e Vermelho, Chuteira Society Puma Future 2.3 NETFIT Masculina - Marinho e Prata, Chuteira Society Puma One 18.3 TT BDP Masculina - Preto, Chuteira Society Puma One 18.4 BDP Masculina - Preto, Chuteira Society Puma One 3 IL Lth TT Masculina - Cinza e Verde <0xC1>gua, Chuteira Society Puma One 3 Lth BDP Masculina - Azul, Chuteira Society Puma Rapido TT Masculina - Preto e Laranja, Chuteira Society Puma Spirit TT Masculina - Preto e Branco, Chuteira Society Puma Truora TT Masculina - Preto e Gelo, Chuteira X 17.3 Society - Infantil, Chuteira X 17.3 Society Infantil, Chuteira X Tango 18.0 Society, Chuteiras NEMEZIZ 17.1 SG, Chuteiras X 17+ SG, Colete ID Hooded Revers<0xED>vel, Colete Nikelab Essentials Masculino Casual, Colete Offside Vest, Colete Puma BMW MMS Padded Masculino - Marinho, Colete Puma Clash Vest Capuz Feminino - Bege, Colete Puma Clash Vest Capuz Feminino - Preto, Colete Puma Fusion Sl Hoody Feminino - Rosa, Colete Puma Modern Sports SL Hoody Masculino - Preto, Colete Puma Modern Sports SL Hoody Masculino - Verde, Conjunto Futebol Marvel Spider-Man, Conjunto Legging Mini Me, Conjunto Mini Me Sport ID, Conjunto Nike Brasil I 2018/19 Infantil Crian<0xE7>as (Idade aprox. 3 a 8 anos), Conjunto Pleated Dress, Cotoveleira Nike Elbow Band Treino & Academia, Cueca Charged Cotton<0xAE> Stretch 6<0x94> Boxerjock<0xAE> Masculina <0x96> Pacote com Tr<0xEA>s Pe<0xE7>as, Faixa de Cabe<0xE7>a UA Perfect 2.0 - Feminina, Garrafa Marvel 500 ml, Gorro Joe Beanie, Gorro Puma Archive Logo Beanie Masculino - Cinza, Gorro Puma Retro Beanie Feminino - Branco, Gorro Puma Ribbed Classic Beanie Masculino - Marinho, Gorro Puma Xtreme Beanie Feminino - Preto, Gorro UA Element Masculino, Jaqueta Bayern de Munique, Jaqueta Beckenbauer Tt, Jaqueta Bomber, Jaqueta Bomber Revers<0xED>vel, Jaqueta Bomber UA Sportstyle Wind Masculina, Jaqueta Borussia Dortmund Poly Sponsor Logo Puma Masculina - Amarelo, Jaqueta Borussia Dortmund Poly Sponsor Logo Puma Masculina - Preto, Jaqueta Borussia Dortmund Puma Stadium Masculina - Preto, Jaqueta Cardle Tt Spzl, Jaqueta Coach ID, Jaqueta ColdGear<0xAE> Reactor Hybrid Feminina, Jaqueta ColdGear<0xAE> Reactor Hybrid Masculina, Jaqueta Corta-Vento, Jaqueta Corta-Vento Active Icons, Jaqueta Corta-Vento Authentics, Jaqueta Corta-Vento CLRDO, Jaqueta Corta-Vento EQT, Jaqueta Corta-Vento ID, Jaqueta Corta-Vento Trefoil, Jaqueta De Chuva Palmeiras, Jaqueta EQT Indigo, Jaqueta Engineered, Jaqueta Eqt Wb, Jaqueta FC Bayern adidas. Z.N.E., Jaqueta Gu Fz Hoodie, Jaqueta Icon Manchester United 2018, Jaqueta J Eqt Wind, Jaqueta Jordan x PSG Coaches Casual, Jaqueta Krooked, Jaqueta L Eqt Wb, Jaqueta Lebron James x John Elliott Masculina Casual, Jaqueta Longa Coach NMD, Jaqueta NMD, Jaqueta Nike Brasil Strike Anthem Masculina Futebol, Jaqueta Nike City Ready Cropped Feminina Casual, Jaqueta Nike Cleveland Cavaliers Therma Flex Showtime Masculina Basquete, Jaqueta Nike Corinthians Authentic N98 Masculina Futebol, Jaqueta Nike Corinthians Select Mfill Masculina Futebol, Jaqueta Nike Diamond Feminina Treino & Academia, Jaqueta Nike Fran<0xE7>a Anthem Masculina Futebol, Jaqueta Nike Golden State Warriors Therma Flex Showtime Masculina Basquete, Jaqueta Nike Gyakusou Packable Masculina Corrida, Jaqueta Nike Internacional Authentic Masculina Futebol, Jaqueta Nike New England Patriots Elite Hybrid Masculina Futebol Americano, Jaqueta Nike PSG Windrunner Masculina Futebol, Jaqueta Nike SB Dri-Fit Flex Camo Masculina Skate, Jaqueta Nike Sportswear Corinthians Authentic Masculina Futebol, Jaqueta Nike Sportswear Modern Masculina Casual, Jaqueta Nike Sportswear Rally Air Feminino Casual, Jaqueta Nike Sportswear Woven Masculina Casual, Jaqueta Nikelab Gyakusou Fleece Feminina Moletom Corrida, Jaqueta PLGN, Jaqueta Pesada Palmeiras, Jaqueta Poisonous Garden, Jaqueta Poli<0xE9>ster Juventus, Jaqueta Premiere, Jaqueta Puma Aop Windbreaker Masculina - Preto, Jaqueta Puma Archive Pleats T7 Feminina - Branco, Jaqueta Puma Archive T7 Summer Masculina - Branco, Jaqueta Puma BMW Motorsport Night SP Cat Masculina - Azul, Jaqueta Puma Bow Track Feminina - Azul e Rosa, Jaqueta Puma Bow Track Feminina - Verde claro, Jaqueta Puma Classics Logo T7 Tr Jkt Aop Feminina - Azul, Jaqueta Puma Classics Logo T7 Tr Jkt Aop Feminina - Preto, Jaqueta Puma Classics Logo T7 Track Feminina - Preto, Jaqueta Puma Classics T7 AOP Masculina - Verde, Jaqueta Puma Classics T7 Track Feminina - Preto, Jaqueta Puma Classics T7 Track Masculina - Marinho, Jaqueta Puma Core Run Wind Feminina - Rosa, Jaqueta Puma ESS FZ Hoody TR Masculina - Cinza, Jaqueta Puma Energy Windbreaker Masculina - Preto, Jaqueta Puma Evostripe FZ Hoody Masculina - Cinza, Jaqueta Puma Evostripe FZ Hoody Masculina - Verde, Jaqueta Puma Evostripe FZ Hoody Masculina - Vermelho, Jaqueta Puma Evostripe Jacket Masculina - Cinza, Jaqueta Puma Evostripe Jacket Masculina - Marinho, Jaqueta Puma Evostripe Move Fz Hoody Masculina - Vermelho, Jaqueta Puma Ferrari Sweat Masculina - Vermelho, Jaqueta Puma Fz Hoody Fl Masculina - Azul, Jaqueta Puma Lastlap Graphic Feminina - Branco e Preto, Jaqueta Puma Lastlap Jacket Masculina - Verde, Jaqueta Puma Rebel Block Fz Hoody Masculina - Preto, Jaqueta Puma Red Bull Racing Night Cat Masculina - Marinho, Jaqueta Puma Scuderia Ferrari Hooded Sweat Masculina - Preto, Jaqueta Puma Scuderia Ferrari T7 Track - Preto e Vermelho, Jaqueta Puma Scuderia Ferrari T7 Track Masculina - Preto, Jaqueta Puma Scuderia Ferrari T7 Track Masculina - Vermelho, Jaqueta Puma Scuderia Ferrari Team Softshell Masculina - Vermelho, Jaqueta Puma Style Bomber Masculina - Preto, Jaqueta Puma T7 Inserts Suede Masculina - Preto, Jaqueta Puma Tape FZ Jacket TR Feminina - Preto, Jaqueta Puma Transition Fz Hoody Feminina - Branco, Jaqueta Puma X Big Sean Masculina - Branco, Jaqueta Puma X Shantell Martin Feminina - Branco, Jaqueta Puma X Shantell Martin T7 Feminina - Branco, Jaqueta Revers<0xED>vel adidas Z.N.E. Bon<0xE9> Logo S16, Jaqueta Robin Clare, Jaqueta Shirt Coach NMD, Jaqueta Sn Stm Jkt M, Jaqueta Trace Rocker, Jaqueta Treino, Jaqueta Treino Essentials, Jaqueta Treino FC Bayern, Jaqueta UA Storm St. Pauli Stadium Masculina, Jaqueta UA&SONS, Jaqueta Universe Wtt, Jaqueta Varsity UA&SONS, Jaqueta Wind Camouflage BB Embal<0xE1>vel, Jaqueta Z<0xED>per UA Squad Woven Full Zip - Feminina, Jaqueta Zne Rtg Cou, Jaqueta adidas Originals by Alexander Wang, Jaqueta adidas Z.N.E. Col<0xF4>mbia 2018, Jaqueta com Capuz ColdGear<0xAE> Reactor Feminina, Jaqueta com Capuz UA Baseline masculina, Jaqueta de Treino Nike Corinthians Masculina Futebol, Jaqueta de Treino Nike Internacional Masculina Futebol, Joelheira Nike Sleeve Treino & Academia, Joelheira Padded Leg Slv 1 pe<0xE7>a, Juventus 1  Camisa Pr<0xE9>-jogo, Kit Meia Infantil Puma Baby Cano Longo 2 Pares - Branco e Marinho, Kit Meia Infantil Puma Baby Sapatilha 2 Pares - Branco e Pink, Kit Meia Infantil Puma Sapatilha 3 Pares - Branco e Cinza, Kit Nata<0xE7E3>o Infantil, Legging Nike AAE 2.0 Masculina Casual, Legging Nike Epic Lux Printed Tight Feminina Corrida, Legging Nike Fly Lux Crop Feminina Treino & Academia, Legging Nike Power Epic Lux Crop Feminino Corrida, Legging Nike Power Essentials Tight Premium Feminina Corrida, Legging Nike Power Poly Tight Feminina Treino & Academia, Legging Nike Power Print Tight Feminina Treino & Academia, Legging Nike Power Sculpt Lux Tight Feminina Treino & Academia, Legging Nike Power Tight \"Birds oF Paradise\" Feminina Treino & Academia, Legging Nike Power Tight Gym Flutter Print Feminina Treino & Academia, Legging Nike Power Victory Tight Feminina Treino & Academia, Legging Nike Pro Hypercool Tight Glamour Feminina Treino & Academia, Legging Nike Pro Hyperrecovery Tight Masculina Treino & Academia, Legging Nike Pro Tight Feminina Treino & Academia, Legging Nike Sculpt Victory Tight Feminina Treino & Academia, Legging NikeLab Classic Knit Tight Feminina Moletom Casual, Legging NikeLab Collections Tight Feminina Casual, Luva Ace Replique, Luva Ace Training, Luva Clite Glov W, Luva de Treino Nike Fitness Fundamental Feminina Treino & Academia, Luvas Predator Junior, Luvas Predator Manuel Neuer, Luvas Predator Pro, Luvas Predator Young Pro, Luvas Versatile Climalite, Macaquinho EQT, Mai<0xF4> Inf Ecs W, Mai<0xF4> Occ Swim Inf W, Mai<0xF4> Parley, Mai<0xF4> Placed Print, Mai<0xF4> Training Commit Parley, Mala 3S Per Tb Xs, Mala Essentials Linear M, Mala Fc, Mala Puma Fundamentals Sports Bag L - Preto, Mala Puma Fundamentals Sports Bag M - Cinza e Marinho, Mala Puma Sports Feminina - Preto, Mala/Mochila UA Storm Undeniable Duffle <0x97> Pequena, Manguito Nikelab x Riccardo Tisci Feminino Casual, Mei<0xE3>o Argentina 1 2018, Mei<0xE3>o CR Flamengo 2, Mei<0xE3>o NikeGrip Strike Light Futebol, Meia Basquete Crew - 1 Par, Meia Cano Alto High Intensity - 1 Par, Meia Crew Sc Socks G, Meia Invis<0xED>vel Ultraleve Alphaskin, Meia Liner Cushion 3S, Meia Liner Thin - 3 Pares, Meia Nike Boston Celtics Elite Crew Basquete, Meia Nike Cushion Marl (3 unidades) Adulto/Infantil, Meia Nike Dri-Fit Cushion Cano Baixo (3 pares) Adulto/Infantil, Meia Nike Elite Compress<0xE3>o Corrida, Meia Nike SB Graphic Crew 2 Skate, Meia No-Show Corrida Energy - 1 Par, Meia Puma Performance Cano Curto - Branco, Meia Solid Crew - 3 Pares, Meias Alphaskin Dame, Meias Sapatilha Performance - 3 Pares, Meias Trefoil Cano M<0xE9>dio - 3 Pares, Men's AZ Alkmaar Replica Jersey, Men's UA Storm Headline Cap, Men's UA x Project Rock T-Shirt, Mini Bola de Futebol Campo Infantil Puma Borussia Dortmund Graphic - Amarelo, Mini Kit Flamengo 1, Minibola Finale 18 Manchester United, Minibola Nike Chelsea Skills Futebol, Minibola Nike Event Pack Futebol, Minibola Nike Neymar Skills Futebol, Minibola Nike PSG Futebol, Minibola Nike Premier League Futebol, Minibola Nike Skill Fran<0xE7>a Futebol, Mochila A Classic M 3S, Mochila Adi Classic Extrapequena, Mochila Ahtletics Id, Mochila Alemanha 2018, Mochila Atric Pequena, Mochila Better Bp Gr1, Mochila Bp Infants, Mochila Bp Street Eqt, Mochila CR Flamengo, Mochila Core, Mochila Day adidas NMD, Mochila EQT Street, Mochila Estampada, Mochila Football Street, Mochila ID, Mochila Juventus, Mochila Lf Classic, Mochila Nga, Mochila Nike Academy Futebol, Mochila Nike Barcelona Torcedor Futebol, Mochila Nike Chelsea Torcedor Futebol, Mochila Nike Corinthians Torcedor Futebol, Mochila Nike Elite Max Air 2.0 Basquete, Mochila Nike Elite Pro Basquete, Mochila Nike Football Centerline Futebol, Mochila Nike Hypershield Elite Versatility Basquete, Mochila Nike Max Air Lebron Ambassador Basquete, Mochila Nike PSG Torcedor Futebol, Mochila Nike Radiate Treino & Academia, Mochila Nike Vapor Power Treino & Academia, Mochila Originals Xs, Mochila Puma Academy Backpack - Azul Escuro, Mochila Puma Academy Backpack - Preto, Mochila Puma Academy Backpack - Rosa, Mochila Puma Academy Backpack - Vermelho, Mochila Puma BMW MSP - Marinho, Mochila Puma Bolsas Prime Icon P Feminina - Preto, Mochila Puma Core Style Backpack - Preto, Mochila Puma Deck Backpack II - Preto, Mochila Puma Originals Backpack - Preto, Mochila Puma Originals Backpack - Verde <0xE1>gua, Mochila Puma Originals Backpack Tren - Preto e Branco, Mochila Puma Phase Backpack - Amarelo Fluorescente e Preto, Mochila Puma Phase Backpack - Azul, Mochila Puma Phase Backpack - Azul Escuro, Mochila Puma Phase Backpack - Preto e Cinza, Mochila Puma Phase Backpack - Vermelho, Mochila Puma Phase Backpack II Unissex - Azul, Mochila Puma Prime Archive Backpack Bow - Branco, Mochila Puma Prime Feminina - Gelo e Preto, Mochila Puma Prime Premium Archive Backpack - Preto, Mochila Puma Prime Time Archive Backpack - Azul, Mochila Puma Red Bull Racing Lifestyle - Marinho, Mochila Puma S Backpack - Marinho e Preto, Mochila Puma S Backpack - Preto, Mochila Puma Scuderia Ferrari LS Zainetto - Preto, Mochila Puma Sole Backpack - Marinho e Vermelho, Mochila Puma Sole Backpack Plus - Preto, Mochila Puma Suede Backpack - Preto, Mochila Puma Wmn Core Archive Backpack - Preto e Branco, Mochila Puma Zainetto Scuderia Ferrari - Preto, Mochila Puma x XO - Branco, Mochila Roll-Top, Mochila Sele<0xE7E3>o It<0xE1>lia Puma Liga Backpack - Azul e Marinho, Mochila Sideline, Mochila Star Wars<0x99>, Mochila Tiro Redinha, Mochila UA Hudson Masculina, Mochila UA Storm Recruit, Mochila adidas Z.N.E., Mochila adidas neo Daily, Moletom Borussia Dortmund Puma Fan Masculino - Preto e Amarelo, Moletom NBA Combine UA Tech<0x99> Printed Masculino, Moletom Puma Active Ess Hooded Cover Up Feminino - Pink, Moletom Puma Chase Spacer Fz Feminino - Preto, Moletom Puma Classics Logo T7 Feminino - Azul, Moletom Puma Double Bull Red Bull Racing Masculino - Marinho, Moletom Puma Ess Cover Up Feminino - Pink, Moletom Puma Ess Cover Up Feminino - Salm<0xE3>o, Moletom Puma Ess Fz Hoody Fl Feminino - Cinza, Moletom Puma Ess Hooded Sw Jck Fl Feminino - Cinza, Moletom Puma Ess No.1 Crew Sweat - Preto, Moletom Puma Ess No.1 Crew Sweat Fl Feminino - Branco, Moletom Puma Ess No.1 Hoody Fl c/ Capuz - Preto, Moletom Puma Evostripe Hoody Feminino - Rosa, Moletom Puma Fenty Crew Neck Pullover - Creme, Moletom Puma Fusion Cropped 7/8 Sweatshirt Feminino - Preto, Moletom Puma Fusion Cropped 7/8 Sweatshirt Feminino - Rosa, Moletom Puma Modern Sport Feminino - Preto e Branco, Moletom Puma Red Bull Racing Double Bull Masculina - Mescla, Moletom Puma Scuderia Ferrari Street Masculino - Preto, Moletom Puma Style Athletics Hoody Fl Masculino - Cinza, Moletom Puma Style Athletics Hoody Fl Masculino - Preto, Moletom Puma Urban Sports Hoody Tr Feminino - Preto, Moletom Puma X Han Hoodie Masculino - Branco, Moletom Puma X Shantell Crew Feminino - Preto, Moletom Puma X Sophia Webster Evoknit Nightcat Feminino - Preto, Moletom com capuz UA Finale infantil feminino, Munhequeira Grande Tennis, Munhequeira Nike Wrist Wrap Treino & Academia, POLO VIAGEM S<0xC3>O PAULO, Pochete Corrida, Pochete EQT, Pochete Nike Heritage Masculina Casual, Pochete Nike Sportswear Tech Printed Casual, Pochete Puma Sole Waist Bag Feminina - Preto, Pochete SMC Farm, Polo Core 18, Porta Cal<0xE7>ados Nike FB 3.0 Futebol, Porta-Chuteira Football Street, Porta-Chuteira Real Madrid, Regata D2M Solid, Regata Dame, Regata Electric Revers<0xED>vel, Regata Estampada Jacquard, Regata Feminina UA Threadborne<0x99> Seamless Heathered Racer, Regata Foundation, Regata Leve Essentials 3-Stripes, Regata Leve Plana Essentials, Regata Loose Trefoil, Regata Melbourne Burnout, Regata Nike Boston Celtics Icon Edition Swingman Masculina Basquete, Regata Nike Breathe Masculina Corrida, Regata Nike Breathe Muscle Masculina Treino & Academia, Regata Nike Cleveland Cavaliers Association Edition Swingman Masculina Basquete, Regata Nike Cleveland Cavaliers Dry Logo Masculina Basquete, Regata Nike Cleveland Cavaliers Swingman 2017 Masculina Basquete, Regata Nike Cleveland Cavaliers Swingman Masculina Basquete, Regata Nike Dallas Mavericks Icon Edition Swingman Masculina Basquete, Regata Nike Dri-Fit Infantil Pr<0xE9>-Adolescentes Treino & Academia, Regata Nike Dri-Fit Medalist Masculina Corrida, Regata Nike Golden State Warriores Association Edition Swingman Masculina Basquete, Regata Nike Gyakusou Dri-Fit Feminina Corrida, Regata Nike Houston Rockets Statement Edition Swingman Masculina Basquete, Regata Nike KD Hyper Elite Masculina Basquete, Regata Nike LA Clippers Icon Edition Swingman Masculina Basquete, Regata Nike Los Angeles Lakers Icon Edition Swingman Masculina Basquete & Jordan, Regata Nike Medalist Feminina Corrida, Regata Nike Metallic Feminina Treino & Academia, Regata Nike Miler Feminina Corrida, Regata Nike Milwaukee Bucks Icon Edition Swingman Masculina Basquete, Regata Nike New Orleans Pelicans Icon Edition Swingman Masculina Basquete, Regata Nike New York Knicks Dry Logo Masculina Basquete, Regata Nike Oklahoma City Thunder Icon Edition Swingman Feminina Basquete, Regata Nike Philadelphia 76ers Icon Editon Swingman Masculina Basquete, Regata Nike Pro Top Compression Masculina Treino & Academia, Regata Nike Racer Metallic Feminina Casual, Regata Nike Tailwind Masculina Corrida, Regata Nmd, Regata Originals, Regata Performer 3-Stripes, Regata Puma A.C.E. Sleveless Masculina - Preto, Regata Puma A.C.E. Slogan Feminina - Branco, Regata Puma A.C.E. Slogan Feminina - Preto, Regata Puma A.C.E. Slogan Feminina - Vermelho, Regata Puma Ess Logo Tank Feminina - Cinza, Regata Puma Ess Tank Masculina - Vermelho, Regata Puma Explosive Deep-V Feminina - Preto, Regata Puma Explosive Ribbed Feminina - Verde, Regata Puma Fenty Mesh Cropped Tank Top Feminina - Azul, Regata Puma Fenty Mesh Cropped Tank Top Feminina - Laranja, Regata Puma Fit W Feminino - Vermelho, Regata Puma Ignite Singlet Mono Masculina - Laranja, Regata Real Madrid Seasonal Special, Regata Response Graphic, Regata Seasonal, Regata Speed, Regata Sport ID, Regata Trefoil Pride, Regata UA Armour Sport Strappy Feminina, Regata UA Threadborne Train Feminina, Regata Universe, Regata XBYO, Regata Xbyo Elong, Regata Yg Logo Sl, Regata Yo Comfort, Regata Yoga Seamless Space Dye, Regata adizero, Sacola Gymsack Eqt Adv, Sacola Nike Sportswear ACG Unissex Casual, Sacola Shopper Poisonous Garden, Saia Ba Skirt, Saia Eqt, Saia Estampada, Saia Fashion League Longa, Saia Longa EQT, Saia Nmd, Saia Osaka Mid, Saia Puma Summer Pencil Midi - Cinza, Saia Seasonal, Saia Short Response W, Sand<0xE1>lia Marvel Avengers AltaSwim, Sand<0xE1>lia Nike Sunray Protect 2 Infantil Beb<0xEA>s Casual, Sandalia Altaswim I, Sandalia Dy Frozen Altaswim Gi, Scarf Puma Long Varsity - Vinho, Short 2 em 1 UA Transport Masculino, Short Eqt, Short Goleiro Tierro 13, Short ID, Short Puma A.C.E. Woven Masculino - Grafite, Short Puma A.C.E. Woven Masculino - Preto, Short Puma ACTIVE ESS Woven - Pink, Short Puma Active Woven 5 Pol Masculino - Preto, Short Puma Blast 2 em 1 Feminino - Rosa e Preto, Short Puma Blast 3 Polegadas Feminino - Azul Claro, Short Puma Core Run 3 Pol Feminino - Azul, Short Puma Energy Knit-Mesh 11 Polegadas Masculino - Preto e verde, Short Puma Ignite 2N1 3 Polegadas S Feminino - Verde e Preto, Short Puma Ignite Graphic 3'' Feminino - Azul, Short Puma Knit Formstripe 11 Pol. - Azul Petr<0xF3>leo, Short Puma Knit Formstripe 11 Pol. - Cinza e Verde Lim<0xE3>o, Short Puma Knit Formstripe 11 Pol. - Preto, Short Puma No.1 Pack Masculino - Azul, Short Puma No.1 Pack Masculino - Preto, Short Puma Pace 9 Polegadas 2In1 Masculino - Preto, Short Puma Scuderia Ferrari Sweat Masculino - Cinza, Short Puma Soft Sport Drapey Feminino - Preto, Short Sh Sl Ocean, Short de Corrida Dois em Um Estampado, Shorts 2Em1 Aop, Shorts 4KRFT 2-in-1, Shorts 4KRFT Gradient, Shorts 4KRFT Primeknit Parley, Shorts AA-42, Shorts Atric, Shorts Bayern de Munique 1, Shorts Cargo, Shorts Compressor Techfit Base 3 IN, Shorts Core 15, Shorts Design 2 Move, Shorts Dois-em-Um 3-Stripes, Shorts Downtime Palmeiras, Shorts Estampado Run, Shorts Grete, Shorts ID Revers<0xED>vel, Shorts Jordan Flight Masculino Basquete, Shorts Jordan Wings Fleece Masculino Moletom Casual, Shorts Justo, Shorts Justo Estampa Geom<0xE9>trica, Shorts M10 Chill, Shorts Messi Knit, Shorts Nike Boston Celtics Icon Edition Swingman Masculino Basquete, Shorts Nike Chicago Bulls Swingman 17 Masculino Basquete, Shorts Nike Corinthians I 2018/19 Torcedor Infantil Pr<0xE9>-Adolescentes (Idade aprox. 6+ anos), Shorts Nike Corinthians III 2017/2018 Torcedor Infantil Pr<0xE9>-Adolescentes Futebol, Shorts Nike Distance 7\" Masculino Corrida, Shorts Nike Distance Masculino Corrida, Shorts Nike Eclipse 3\" Premium Feminino Corrida, Shorts Nike FC Masculino Futebol, Shorts Nike Fast 7\" Graphic Feminino Corrida, Shorts Nike Flex Challenger 2In1 7\" Masculino Corrida, Shorts Nike Fran<0xE7>a I 2018 Torcedor Masculino Futebol, Shorts Nike Golden State Warriors Modern Masculino Basquete, Shorts Nike Golden State Warriors Practice Masculino Basquete, Shorts Nike Golden State Warriors Statement Edition Swingman Masculino Basquete, Shorts Nike Internacional III 2018/2019 Torcedor Masculino Futebol, Shorts Nike Lebron Dri-Fit Elite Masculino Basquete, Shorts Nike New York Knicks Icon Edition Swingman Masculino Basquete, Shorts Nike Pro Heather Masculino Treino & Academia, Shorts Nike Sportswear AA Infantil Pr<0xE9>-Adolescentes Treino & Academia, Shorts Nike Sportswear Zip Archive Feminino Casual, Shorts NikeCourt Flex Feminino T<0xEA>nis, Shorts NikeLab Collection Heritage Masculino Casual, Shorts NikeLab Collection Masculino Casual, Shorts NikeLab X ACG Deploy Masculino Casual, Shorts NikeLab X One Feminino Corrida, Shorts Nmd, Shorts Real Madrid I, Shorts SID Athletics Logo, Shorts Sn Pure Shorts, Shorts Stadium, Shorts Star Wars, Shorts Tastigo 17, Shorts Tight Supernova M, Shorts Tokio W, Shorts Training Climachill, Shorts Training Swat, Shorts Treino Mobility, Shorts UA x Project Rock Respect Masculino, Shorts UA x Project Rock Vortex Masculino, Shorts Ultra Knit, Shorts adidas 3 stripes water, Squeeze Tr Bottle 0 75, Sunga 3S Fla, Sunga Boxer, Sunga Boxer 3-Stripes, Sunga Nata<0xE7E3>o 3-Stripes, T<0xEA>nis 24/7, T<0xEA>nis 3ST.002, T<0xEA>nis Advantage Clean QT, T<0xEA>nis Air Jordan I Jester XX Feminino Casual, T<0xEA>nis Air Jordan I Retro High Flyknit BHM Masculino Basquete Casual, T<0xEA>nis Air Jordan III Retro Masculino Basquete, T<0xEA>nis Air Jordan VIII Retro Masculino Basquete Casual, T<0xEA>nis Air Jordan XI Low Feminino Basquete Casual, T<0xEA>nis Alphabounce 1, T<0xEA>nis Alphabounce 1 Parley, T<0xEA>nis Altarun, T<0xEA>nis Altarun Cf I, T<0xEA>nis Approach, T<0xEA>nis Arkyn Primeknit, T<0xEA>nis Attitude Revive, T<0xEA>nis Aw Reissue Run, T<0xEA>nis Barricade Club W, T<0xEA>nis Busenitz Vulc, T<0xEA>nis Busenitz Vulc Adv, T<0xEA>nis Cano Alto Puma Rebound Street Evo Sl - Branco, T<0xEA>nis Cf Daily Qt Mid, T<0xEA>nis City Racer, T<0xEA>nis Cloudfoam Super Flex TR, T<0xEA>nis Cloudfoam Ultimate, T<0xEA>nis Corrida UA SpeedForm<0xAE> Gemini 3 Feminino, T<0xEA>nis Couro Cano Alto Puma Platform Mid Feminino - Preto, T<0xEA>nis Couro Cano Alto Puma Sky Ii Hi Broken Bauble Fm - Prata e Rosa, T<0xEA>nis Couro Cano Alto Puma Xo Parallel - Preto, T<0xEA>nis Couro Cano Alto Puma x Fenty Chelsea Sneaker Boot - Preto, T<0xEA>nis Couro Puma Astro Cup - Azul, T<0xEA>nis Couro Puma BMW MS Future Cat Masculino - Branco e Marinho, T<0xEA>nis Couro Puma Basket Platform Summer Wn'S Feminino - Preto, T<0xEA>nis Couro Puma Breaker 'Swan' Big Sean - Creme, T<0xEA>nis Couro Puma Clyde Fshn Glow Naturel - Preto, T<0xEA>nis Couro Puma Mercedes Future Cat Ultra Masculino - Preto e Prata, T<0xEA>nis Couro Puma RS-0 Sound - Azul e Vermelho, T<0xEA>nis Couro Puma Scuderia Ferrari EVO Cat Masculino - Preto, T<0xEA>nis Couro Puma Scuderia Ferrari EVO Cat Masculino - Vermelho, T<0xEA>nis Couro Puma Smash V2 - Creme e Marrom, T<0xEA>nis Couro Puma Smash V2 - Marinho, T<0xEA>nis Couro Puma Suede Big Sean - Laranja, T<0xEA>nis Couro Puma Suede Bow Varsity Feminino - Dourado, T<0xEA>nis Couro Puma Suede Classic Tonal - Azul, T<0xEA>nis Couro Puma Suede Heart Pebble Wn'S Feminino - Verde Militar, T<0xEA>nis Couro Puma Suede Platform Artica Feminino - Branco, T<0xEA>nis Court Stabil, T<0xEA>nis Courtvantage, T<0xEA>nis Courtvantage Cutout, T<0xEA>nis Crazy BYW X, T<0xEA>nis Crazypower Tr, T<0xEA>nis D Rose Menace 2, T<0xEA>nis Dame 4, T<0xEA>nis EQT Racing ADV, T<0xEA>nis Edge Lux, T<0xEA>nis Eqt Support Adv C, T<0xEA>nis Galaxy 3, T<0xEA>nis Gazelle I, T<0xEA>nis Gazelle Super Nbhd, T<0xEA>nis Harden LS 2, T<0xEA>nis I5923 NEIGHBORHOOD, T<0xEA>nis Infantil Puma Bao 3 Mesh Bdp - Azul e Vermelho, T<0xEA>nis Infantil Puma Bao 3 Mesh Bdp - Preto e Amarelo, T<0xEA>nis Infantil Puma Bao 3 Zoo Bdp - Vermelho e Preto, T<0xEA>nis Infantil Puma Basket Platform Tween PS - Branco, T<0xEA>nis Infantil Puma Courtflex I - Vermelho e Azul, T<0xEA>nis Infantil Puma Minions Basket - Branco e Amarelo, T<0xEA>nis Infantil Puma Minions Basket Heart Fluffy Feminino - Branco e Pink, T<0xEA>nis Infantil Puma Minions Basket I - Branco e Amarelo, T<0xEA>nis Infantil Puma St Runner Cm Hoc V - Azul e Branco, T<0xEA>nis Infantil Puma Stepfleex Fs Sl V Bdp - Branco e Marrom, T<0xEA>nis Infantil Puma Stepfleex Fs Sl V Ps Bdp - Marinho e Vermelho, T<0xEA>nis Infantil Puma Stepfleex Fs Sl V Ps Bdp - Off White, T<0xEA>nis Infantil Puma Suede Classic Crib - Branco e Azul, T<0xEA>nis Infantil Puma Suede Liga da Justi<0xE7>a - Preto e Amarelo, T<0xEA>nis Infantil Puma Suede Minions Hearth Fluffy Feminino - Rosa, T<0xEA>nis Jordan Lunar Grind Masculino Basquete, T<0xEA>nis Kamanda 01 NEIGHBORHOOD, T<0xEA>nis Marvel Captain America RapidaRun, T<0xEA>nis Matchcourt CF, T<0xEA>nis Matchcourt High RX2, T<0xEA>nis Matchcourt X Bonethrower, T<0xEA>nis Micropacer x R1, T<0xEA>nis NMD_TS1 Primeknit GTX, T<0xEA>nis Nike Air Force 1 Explorer XX Feminino Casual, T<0xEA>nis Nike Air Force 1 Jester XX Feminino Casual, T<0xEA>nis Nike Air Force 1 Mid Special Field Suede Masculino Casual, T<0xEA>nis Nike Air Max 1 Pinnacle Masculino Casual, T<0xEA>nis Nike Air Max 90 GPX Masculino Casual, T<0xEA>nis Nike Air Max 90 Ultra 2.0 Leather Masculino Casual, T<0xEA>nis Nike Air Max Infuriate Low Masculino Basquete, T<0xEA>nis Nike Air Max Sequent 3 Infantil Pr<0xE9>-Adolescentes Corrida, T<0xEA>nis Nike Air Max Sequent 3 Summer Feminino Corrida, T<0xEA>nis Nike Air VaporMax Flyknit MOC Feminino Corrida, T<0xEA>nis Nike Blazer Edi<0xE7E3>o Especial Infantil Pr<0xE9>-Adolescentes Casual, T<0xEA>nis Nike Blazer Royal Easter QS Masculino Casual, T<0xEA>nis Nike Flex Trainer 8 Feminino Treino & Academia, T<0xEA>nis Nike Free TR 7 Selfie Feminino Treino & Academia, T<0xEA>nis Nike Hakata Premium 'Just Do It' Masculino Casual, T<0xEA>nis Nike Kobe A.D. Derozan Basquete Casual, T<0xEA>nis Nike Kyrie Low 1 Masculino Basquete, T<0xEA>nis Nike LunarEpic Run Infantil Pr<0xE9>-Adolescentes Corrida, T<0xEA>nis Nike Metcon Repper DSX Masculino Treino & Academia, T<0xEA>nis Nike React Element 55 Feminino Casual, T<0xEA>nis Nike SB Bruin High QS Feminino Skate, T<0xEA>nis Nike SB Zoom Blazer Mid Masculino Skate, T<0xEA>nis Nike SB Zoom Bruin Ultra Masculino Skate, T<0xEA>nis Nike Star Runner Infantil \"Just do It\" Pr<0xE9>-Adolescentes Corrida, T<0xEA>nis Nike Team Hustler 8 Infantil Pr<0xE9>-Adolescentes Basquete, T<0xEA>nis Nike Vaporfly 4% Flyknit Unissex Corrida, T<0xEA>nis Nike Zoom Fly SP Fast Unissex Corrida, T<0xEA>nis Nike Zoom Winflo 4 Masculino Corrida, T<0xEA>nis Nmd Cs1 Parley, T<0xEA>nis Nmd Racer Monaco, T<0xEA>nis Nmd Racer Pk, T<0xEA>nis Pace VS, T<0xEA>nis Paul Pogba Predator 18+, T<0xEA>nis Proshell 80s, T<0xEA>nis Protostar, T<0xEA>nis Puma <0xDC>ber Suede - Azul e Branco, T<0xEA>nis Puma AVID evoKNIT - Branco, T<0xEA>nis Puma Avid Flight or Flight - Azul e Branco, T<0xEA>nis Puma BMW MMS Court Perf Masculino - Branco, T<0xEA>nis Puma BMW MMS Future Cat Ultra Masculino - Preto e Branco, T<0xEA>nis Puma BMW MMS Speed Cat Evo Synth Masculino - Branco e Preto, T<0xEA>nis Puma BMW MS Casual Mid Masculino - Branco e Azul, T<0xEA>nis Puma BMW MS Court S Masculino - Azul e Branco, T<0xEA>nis Puma BMW MS Court S Masculino - Branco e Azul, T<0xEA>nis Puma BMW MS Drift Cat 7 Masculinio - Branco e Marinho, T<0xEA>nis Puma BMW MS Drift Cat 7 Masculinio - Branco e Preto, T<0xEA>nis Puma BMW MS Drift Cat 7 Masculinio - Preto, T<0xEA>nis Puma BMW MS Speed Cat Synth Masculino - Branco, T<0xEA>nis Puma Bao 3 Lights Bdp Infantil - Azul Turquesa e Branco, T<0xEA>nis Puma Basket - Preto e Branco, T<0xEA>nis Puma Basket Heart Corduroy Feminino - Coral, T<0xEA>nis Puma Basket Platform Feminino - Azul, T<0xEA>nis Puma Basket Platform Feminino - Preto, T<0xEA>nis Puma Basket Platform Vr Wn'S Feminino - Musgo, T<0xEA>nis Puma Basket Sock Lo Diamond - Preto, T<0xEA>nis Puma Carson 2 Masculino - Preto e Cinza, T<0xEA>nis Puma Carson 2 New Core Masculino - Marinho, T<0xEA>nis Puma Carson 2 New Core Masculino - Preto e Branco, T<0xEA>nis Puma Cell Aether Knit Bdp Masculino - Preto e Prata, T<0xEA>nis Puma Cleated Creeper Suede Masculino - Amarelo e Rosa, T<0xEA>nis Puma Clyde Diamond - Azul, T<0xEA>nis Puma Court Point Vulc Perf V2 - Branco e Preto, T<0xEA>nis Puma Court Point Vulc Perf V2 - Branco e Vermelho, T<0xEA>nis Puma Defy Mid Varsity Feminino - Preto e Dourado, T<0xEA>nis Puma Evolution Tsugi Jun Sport Stripes - Vermelho, T<0xEA>nis Puma Fenty Avid Wns Feminino - Preto, T<0xEA>nis Puma Fenty Avid Wns Feminino - Preto e Branco, T<0xEA>nis Puma Fenty Avid Wns Feminino - Vermelho, T<0xEA>nis Puma Fierce Lace Feminino - Preto, T<0xEA>nis Puma Fierce Rope Vr Feminino - Musgo, T<0xEA>nis Puma Fierce Rope Vr Feminino - Preto, T<0xEA>nis Puma Fierce Satin EP Feminino - Bege, T<0xEA>nis Puma Flexracer Masculino - Preto e Branco, T<0xEA>nis Puma Hybrid Runner Fusefit Wns Feminino - Preto e Rosa, T<0xEA>nis Puma Hybrid Runner Wns Feminino - Cinza e Rosa, T<0xEA>nis Puma IGNITE Mesh Masculino - Verde Lim<0xE3>o, T<0xEA>nis Puma IGNITE XT Core Feminino - Roxo e Preto, T<0xEA>nis Puma IGNITE XT Core Masculino - Azul Piscina e Laranja, T<0xEA>nis Puma IGNITE XT Core Masculino - Preto e Branco, T<0xEA>nis Puma Ignite 3 Feminino - Cinza e Rosa, T<0xEA>nis Puma Ignite Dual Mesh Feminino - Chumbo e Azul Claro, T<0xEA>nis Puma Ignite Dual Mesh Feminino - Salm<0xE3>o, T<0xEA>nis Puma Ignite Flash Evoknit En Pointe Bdp Feminino - Cinza e Bege, T<0xEA>nis Puma Ignite Flash Geo Feminino - Preto e Branco, T<0xEA>nis Puma Ignite Limitless Brushed Suede Masculino - Azul e Prata, T<0xEA>nis Puma Ignite Limitless Masculino - Bege, T<0xEA>nis Puma Ignite Limitless Netfit Masculino - Preto, T<0xEA>nis Puma Ignite Limitless SR Evoknit Masculino - Grafite e Laranja, T<0xEA>nis Puma Ignite Limitless Weave Masculino - Preto, T<0xEA>nis Puma Ignite XT Feminino - Preto e Cinza, T<0xEA>nis Puma Ignite Xt Netfit Feminino - Preto e Amarelo, T<0xEA>nis Puma Ignite Xt Netfit Feminino - Preto e Laranja, T<0xEA>nis Puma Jamming Fusefit - Grafite e Preto, T<0xEA>nis Puma Mega Nrgy Flash Evoknit Bdp Feminino - Azul e Branco, T<0xEA>nis Puma Mega Nrgy Flash Evoknit Bdp Feminino - Azul e Cinza, T<0xEA>nis Puma Mega Nrgy Flash Evoknit Bdp Feminino - Preto e Branco, T<0xEA>nis Puma Mega Nrgy Flash Evoknit Bdp Feminino - Preto e Rosa, T<0xEA>nis Puma Mega Nrgy Flash Evoknit Bdp Masculino - Verde escuro e Cinza, T<0xEA>nis Puma Mega Nrgy X Bdp Feminino - Preto, T<0xEA>nis Puma Mega Nrgy X Bdp Masculino - Marinho e Branco, T<0xEA>nis Puma Muse Maia Street 1 Feminino - Preto e Pink, T<0xEA>nis Puma NaturelxPuma Platform Cheetah Feminino - Off White, T<0xEA>nis Puma Pacer - Cinza e Preto, T<0xEA>nis Puma Phenom Low En Pointe Feminino - Branco, T<0xEA>nis Puma Phenom Low En Pointe Feminino - Cinza, T<0xEA>nis Puma Phenom Low Satin EP Feminino - Salm<0xE3>o, T<0xEA>nis Puma Phenom Suede Feminino - Azul, T<0xEA>nis Puma Prowl Alt 2 Vt Feminino - Marinho, T<0xEA>nis Puma Prowl Alt 2 Vt Feminino - Preto e Branco, T<0xEA>nis Puma Prowl Alt 2 Vt Feminino - Vermelho e Branco, T<0xEA>nis Puma Prowl Alt Satin Feminino - Preto e Branco, T<0xEA>nis Puma R698 - Prata e Cinza, T<0xEA>nis Puma R698 Evo X Hoh Mg Feminino - Marinho e Verde, T<0xEA>nis Puma RS-0 Robotnik Sonic - Vermelho, T<0xEA>nis Puma Rebel Mid En Pointe Feminino - Preto, T<0xEA>nis Puma Red Bull Racing Wings Bulls Masculino - Marinho, T<0xEA>nis Puma Red Bull Racing Wssp Booty - Cinza, T<0xEA>nis Puma Roma OG Nylon - Marinho e Branco, T<0xEA>nis Puma ST Runner NL - Marinho e Branco, T<0xEA>nis Puma Scuderia Ferrari Drift Cat 7 Masculino - Branco e Preto, T<0xEA>nis Puma Scuderia Ferrari Evo Cat Mace Masculino - Branco, T<0xEA>nis Puma Scuderia Ferrari Evo Cat Transform Masculino - Preto, T<0xEA>nis Puma Scuderia Ferrari Evo Cat Transform Masculino - Preto e Vinho, T<0xEA>nis Puma Scuderia Ferrari F Cat Ignite Masculino - Preto, T<0xEA>nis Puma Scuderia Ferrari Future Cat Ultra Masculino - Preto e Branco, T<0xEA>nis Puma Scuderia Ferrari Future Cat Ultra Masculino - Vermelho e Branco, T<0xEA>nis Puma Smash Fp Masculino - Branco, T<0xEA>nis Puma Smash Platform L Bdp Feminino - Preto, T<0xEA>nis Puma Smash V2 Buck - Preto, T<0xEA>nis Puma Speed 1000 S Ignite Masculino - Azul e Branco, T<0xEA>nis Puma St Runner V2 Nl - Branco e Cinza, T<0xEA>nis Puma St Runner V2 Nl - Cinza e Rosa, T<0xEA>nis Puma St Runner V2 Nl - Preto e Rosa, T<0xEA>nis Puma St Runner V2 Nl - Verde e Preto, T<0xEA>nis Puma St Trainer Evo Demi Twill - Preto e Grafite, T<0xEA>nis Puma Suede Bow Feminino - Pink, T<0xEA>nis Puma Suede Bow Feminino - Preto, T<0xEA>nis Puma Suede Classic - Azul Claro e Branco, T<0xEA>nis Puma Suede Classic - Marrom e Bege, T<0xEA>nis Puma Suede Classic - Rosa, T<0xEA>nis Puma Suede Classic - Vermelho e Branco, T<0xEA>nis Puma Suede Classic Berlin - Vermelho, T<0xEA>nis Puma Suede Classic Casual Emboss - Amarelo, T<0xEA>nis Puma Suede Classic NYC - Laranja, T<0xEA>nis Puma Suede Classic Sock - Preto, T<0xEA>nis Puma Suede Heart Lunalux Feminino - Cinza, T<0xEA>nis Puma Suede Platform Lunalux Feminino - Bege, T<0xEA>nis Puma Tsugi Blaze Evoknit - Preto, T<0xEA>nis Puma Tsugi Jun Cubism - Preto e Branco, T<0xEA>nis Puma Tsugi Shinsei - Preto, T<0xEA>nis Puma Turin II - Branco e Preto, T<0xEA>nis Puma Turin II - Preto e Branco, T<0xEA>nis Puma Turin II NL - Preto e Branco, T<0xEA>nis Puma Vikky Platform Bdp Feminino - Preto, T<0xEA>nis Puma Vikky Platform V Bdp Feminino - Preto, T<0xEA>nis Puma X BTS Basket Patent - Branco e Preto, T<0xEA>nis Puma Xt1 - Cinza e Branco, T<0xEA>nis Pureboost Element, T<0xEA>nis Pureboost X Clima, T<0xEA>nis Pureboost X LTD, T<0xEA>nis Pureboost X TR 3.0, T<0xEA>nis Purebounce, T<0xEA>nis Questar CC, T<0xEA>nis Questar Tr, T<0xEA>nis RapidaTurf Messi, T<0xEA>nis Rapidaflex 2.0 Cool, T<0xEA>nis Rapidaturf 2essi, T<0xEA>nis Rapidaturf Messi, T<0xEA>nis SAMBAROSE, T<0xEA>nis Samba Primeknit, T<0xEA>nis Silas Vulc, T<0xEA>nis Slip-on Nizza, T<0xEA>nis Stan Smith Cf C, T<0xEA>nis Stan Smith Pk, T<0xEA>nis Supernova MPR, T<0xEA>nis Superstar 80S Cork, T<0xEA>nis Superstar 80S Decon W, T<0xEA>nis Superstar 80s CF, T<0xEA>nis Superstar 80s New Bold, T<0xEA>nis Superstar Boost, T<0xEA>nis Superstar Decon, T<0xEA>nis Tribute, T<0xEA>nis Trilha Galaxy, T<0xEA>nis Twinstrike Adv Oyster, T<0xEA>nis UA ArchiTech Futurist Masculino, T<0xEA>nis UA Dash 2 Feminino, T<0xEA>nis UA Project Rock 1 Masculino, T<0xEA>nis UA Speed Tire Ascent Low - Masculino, T<0xEA>nis UA Speed Tire Ascent Mid - Masculino, T<0xEA>nis UA SpeedForm<0xAE> Velociti Graphic Feminino, T<0xEA>nis UA Speedform Velociti - Masculino, T<0xEA>nis UA Ultimate Speed TRD Training Masculino, T<0xEA>nis UA&SONS Rivalry Lo, T<0xEA>nis Ultra Boost, T<0xEA>nis Ultraboost Laceless Parley, T<0xEA>nis Ultraboost Parley LTD, T<0xEA>nis Ultraboost Uncaged Parley, T<0xEA>nis VS CONEO QT, T<0xEA>nis Vs Advantage Cmf Inf, T<0xEA>nis Vs Hoopster Mid, T<0xEA>nis Vs Pace, T<0xEA>nis Vs Set Mid, T<0xEA>nis World Cup Gazelle Super Essential, T<0xEA>nis X Tango 18.1 Tr, T<0xEA>nis YUNG~1, T<0xEA>nis adiease, T<0xEA>nis adiease Premiere, T<0xEA>nis alphabounce, T<0xEA>nis de Basquete UA Lockdown 3 Masculino, T<0xEA>nis de Treino UA SpeedForm<0xAE> AMP 3.0 Masculino, Tenis Altaturf Predator El I, Tenis Cf Lite Racer Cln M, Tenis Daily 2 0 W, Tenis Eqt Support Adv, Tenis Eqt Support Adv C, Tenis Eqt Support Adv W, Tenis Eqt Support Sock Pk 13 W, Tenis Quesa W, Tenis Run 70S Cl M, Tenis Stan Smith New Bold W, Tenis X Plr J, Top, Top Alto Impacto Armour<0xAE> Eclipse - Feminino, Top Brand, Top Cmmttd Racer Ht, Top Cropped Puma Evoknit Seamless - Marrom, Top Cropped Puma Fenty Scuba Feminino - Vermelho, Top Cropped Puma Soft Sport - Preto, Top Cross-Back, Top Drst Ask Spr Lg, Top Esportivo Mesclado Acolchoado Alphaskin, Top Esportivo Mesclado Alphaskin, Top Ess Clima, Top Estampado Don't Rest X, Top M<0xE9>dio Impacto Armour<0xAE> Big Logo Feminino, Top Nike Classic Infantil Suporte M<0xE9>dio Pr<0xE9>-Adolescentes, Top Nike Indy Logo Feminino Suporte Leve, Top Nike Swoosh Paradise Feminino Suporte M<0xE9>dio, Top Nike Victory Feminino Suporte Leve, Top Performance Essentials, Top Puma 4Keeps Graphic M<0xE9>dia Sustenta<0xE7E3>o - Marinho, Top Puma 4Keeps M<0xE9>dia Sustenta<0xE7E3>o - Preto e Branco, Top Puma Active Ess Banded Crop Feminino - Preto, Top Puma En Pointe Logo Feminino - Branco, Top Puma Evoknit M<0xE9>dia Sustenta<0xE7E3>o - Verde Militar, Top Puma Pwrshape Run M<0xE9>dia Sustenta<0xE7E3>o - Azul Turquesa e Azul, Top Racer Salinas, Top Salinas, Top THE Seamless, Top UA Longline Sportlette Feminino, Tornozeleira Nike Ankle Sleeve Treino & Academia, UA Charged All-Day Masculino, UA Octane Multiflection<0x99> Sunglasses, Vestido Argentina 2018, Vestido Espanha 2018, Vestido Fashion League Pinstripe, Vestido J A, Vestido Knit AA-42, Vestido Poisonoous Garden, Vestido Puma Athletic Curto Sweat Dress - Preto, Vestido Puma Midi Asymmetric Jersey Dress - Verde, Vestido Regata Poisonous Garden, Vestido Tee Farm, Viseira NikeLab Feminina Casual, Viseira Puma DuoCell Tech II - Preto, Viseira Puma Hyper Light - Preto e Cinza, Women's UA Performance Polo, adidas ZNE Blusa com Capuz 36 Hours Primeknit]\n",
      "  warnings.warn(w)\n"
     ]
    }
   ],
   "source": [
    "test_pred = model_dl.predict(test_data=test)"
   ]
  },
  {
   "cell_type": "code",
   "execution_count": 96,
   "metadata": {},
   "outputs": [
    {
     "data": {
      "text/html": [
       "<table>\n",
       "<thead>\n",
       "<tr><th style=\"text-align: right;\">  predict</th><th style=\"text-align: right;\">         p0</th><th style=\"text-align: right;\">        p1</th><th style=\"text-align: right;\">         p2</th><th style=\"text-align: right;\">         p3</th><th style=\"text-align: right;\">         p4</th><th style=\"text-align: right;\">         p5</th><th style=\"text-align: right;\">         p6</th><th style=\"text-align: right;\">         p7</th><th>subBrand   </th></tr>\n",
       "</thead>\n",
       "<tbody>\n",
       "<tr><td style=\"text-align: right;\">        1</td><td style=\"text-align: right;\">1.80102e-05</td><td style=\"text-align: right;\">0.877072  </td><td style=\"text-align: right;\">0.000318426</td><td style=\"text-align: right;\">0.0139649  </td><td style=\"text-align: right;\">2.59962e-05</td><td style=\"text-align: right;\">0.00308479 </td><td style=\"text-align: right;\">5.94275e-06</td><td style=\"text-align: right;\">0.105509   </td><td>Performance</td></tr>\n",
       "<tr><td style=\"text-align: right;\">        3</td><td style=\"text-align: right;\">1.85027e-05</td><td style=\"text-align: right;\">0.00848584</td><td style=\"text-align: right;\">0.00292534 </td><td style=\"text-align: right;\">0.987396   </td><td style=\"text-align: right;\">9.6419e-05 </td><td style=\"text-align: right;\">0.000530507</td><td style=\"text-align: right;\">2.59044e-05</td><td style=\"text-align: right;\">0.000521899</td><td>Performance</td></tr>\n",
       "<tr><td style=\"text-align: right;\">        1</td><td style=\"text-align: right;\">1.34896e-06</td><td style=\"text-align: right;\">0.998564  </td><td style=\"text-align: right;\">8.66209e-05</td><td style=\"text-align: right;\">0.000316403</td><td style=\"text-align: right;\">1.85095e-06</td><td style=\"text-align: right;\">0.000932103</td><td style=\"text-align: right;\">9.75914e-06</td><td style=\"text-align: right;\">8.76045e-05</td><td>Performance</td></tr>\n",
       "<tr><td style=\"text-align: right;\">        1</td><td style=\"text-align: right;\">0.000309113</td><td style=\"text-align: right;\">0.730765  </td><td style=\"text-align: right;\">0.190414   </td><td style=\"text-align: right;\">0.0343044  </td><td style=\"text-align: right;\">7.3073e-05 </td><td style=\"text-align: right;\">0.0416923  </td><td style=\"text-align: right;\">2.25685e-05</td><td style=\"text-align: right;\">0.00241962 </td><td>Performance</td></tr>\n",
       "<tr><td style=\"text-align: right;\">        1</td><td style=\"text-align: right;\">0.000339709</td><td style=\"text-align: right;\">0.88667   </td><td style=\"text-align: right;\">0.0504131  </td><td style=\"text-align: right;\">0.0416999  </td><td style=\"text-align: right;\">7.78391e-05</td><td style=\"text-align: right;\">0.018866   </td><td style=\"text-align: right;\">2.47987e-05</td><td style=\"text-align: right;\">0.00190909 </td><td>Performance</td></tr>\n",
       "<tr><td style=\"text-align: right;\">        3</td><td style=\"text-align: right;\">0.000813184</td><td style=\"text-align: right;\">0.204066  </td><td style=\"text-align: right;\">0.000474623</td><td style=\"text-align: right;\">0.769751   </td><td style=\"text-align: right;\">0.000674962</td><td style=\"text-align: right;\">0.0240201  </td><td style=\"text-align: right;\">0.00012828 </td><td style=\"text-align: right;\">7.19443e-05</td><td>Performance</td></tr>\n",
       "<tr><td style=\"text-align: right;\">        1</td><td style=\"text-align: right;\">0.00727411 </td><td style=\"text-align: right;\">0.509991  </td><td style=\"text-align: right;\">0.236627   </td><td style=\"text-align: right;\">0.229579   </td><td style=\"text-align: right;\">0.00474561 </td><td style=\"text-align: right;\">0.00890934 </td><td style=\"text-align: right;\">0.000623305</td><td style=\"text-align: right;\">0.00225094 </td><td>Performance</td></tr>\n",
       "<tr><td style=\"text-align: right;\">        1</td><td style=\"text-align: right;\">0.0109186  </td><td style=\"text-align: right;\">0.750927  </td><td style=\"text-align: right;\">0.100541   </td><td style=\"text-align: right;\">0.120756   </td><td style=\"text-align: right;\">0.00153984 </td><td style=\"text-align: right;\">0.0138481  </td><td style=\"text-align: right;\">0.000468003</td><td style=\"text-align: right;\">0.00100178 </td><td>Performance</td></tr>\n",
       "<tr><td style=\"text-align: right;\">        1</td><td style=\"text-align: right;\">1.56304e-05</td><td style=\"text-align: right;\">0.979527  </td><td style=\"text-align: right;\">7.21938e-05</td><td style=\"text-align: right;\">0.011861   </td><td style=\"text-align: right;\">8.73158e-06</td><td style=\"text-align: right;\">0.00721372 </td><td style=\"text-align: right;\">2.93361e-05</td><td style=\"text-align: right;\">0.00127252 </td><td>Performance</td></tr>\n",
       "<tr><td style=\"text-align: right;\">        1</td><td style=\"text-align: right;\">4.39796e-05</td><td style=\"text-align: right;\">0.949007  </td><td style=\"text-align: right;\">0.000238643</td><td style=\"text-align: right;\">0.0280096  </td><td style=\"text-align: right;\">1.362e-05  </td><td style=\"text-align: right;\">0.0203106  </td><td style=\"text-align: right;\">3.57048e-05</td><td style=\"text-align: right;\">0.00234085 </td><td>Performance</td></tr>\n",
       "</tbody>\n",
       "</table>"
      ]
     },
     "metadata": {},
     "output_type": "display_data"
    },
    {
     "data": {
      "text/plain": []
     },
     "execution_count": 96,
     "metadata": {},
     "output_type": "execute_result"
    }
   ],
   "source": [
    "test_pred"
   ]
  },
  {
   "cell_type": "code",
   "execution_count": 87,
   "metadata": {},
   "outputs": [],
   "source": [
    "#test_pred = test_pred.round()"
   ]
  },
  {
   "cell_type": "code",
   "execution_count": 72,
   "metadata": {},
   "outputs": [],
   "source": [
    "#test"
   ]
  },
  {
   "cell_type": "code",
   "execution_count": 52,
   "metadata": {},
   "outputs": [],
   "source": [
    "# from h2o.automl import H2OAutoML"
   ]
  },
  {
   "cell_type": "code",
   "execution_count": 38,
   "metadata": {},
   "outputs": [],
   "source": [
    "# aml = H2OAutoML(max_runtime_secs = 350, seed = 1, project_name = \"adidas_gpmt_frame\", stopping_rounds=100, stopping_metric=\"logloss\", )\n",
    "#aml.train(y = response, training_frame = train, leaderboard_frame = test)"
   ]
  },
  {
   "cell_type": "code",
   "execution_count": 73,
   "metadata": {},
   "outputs": [],
   "source": [
    "# aml.train(x = predictors, y = response, training_frame = train, leaderboard_frame=test)"
   ]
  },
  {
   "cell_type": "code",
   "execution_count": null,
   "metadata": {},
   "outputs": [],
   "source": [
    "# test_pred = aml.predict(test)\n",
    "# test_pred.head()"
   ]
  },
  {
   "cell_type": "code",
   "execution_count": 95,
   "metadata": {},
   "outputs": [],
   "source": [
    "test_pred[\"subBrand\"] = test[\"subBrand\"]"
   ]
  },
  {
   "cell_type": "code",
   "execution_count": 89,
   "metadata": {},
   "outputs": [],
   "source": [
    "#test_pred.to_csv(\"test_pred.csv\", index=False)"
   ]
  },
  {
   "cell_type": "code",
   "execution_count": 97,
   "metadata": {},
   "outputs": [],
   "source": [
    "from sklearn.metrics import accuracy_score, f1_score, precision_score, recall_score, classification_report, confusion_matrix"
   ]
  },
  {
   "cell_type": "code",
   "execution_count": 98,
   "metadata": {},
   "outputs": [],
   "source": [
    "test_pred = test_pred.as_data_frame()"
   ]
  },
  {
   "cell_type": "code",
   "execution_count": 99,
   "metadata": {},
   "outputs": [
    {
     "data": {
      "text/html": [
       "<div>\n",
       "<style scoped>\n",
       "    .dataframe tbody tr th:only-of-type {\n",
       "        vertical-align: middle;\n",
       "    }\n",
       "\n",
       "    .dataframe tbody tr th {\n",
       "        vertical-align: top;\n",
       "    }\n",
       "\n",
       "    .dataframe thead th {\n",
       "        text-align: right;\n",
       "    }\n",
       "</style>\n",
       "<table border=\"1\" class=\"dataframe\">\n",
       "  <thead>\n",
       "    <tr style=\"text-align: right;\">\n",
       "      <th></th>\n",
       "      <th>predict</th>\n",
       "      <th>p0</th>\n",
       "      <th>p1</th>\n",
       "      <th>p2</th>\n",
       "      <th>p3</th>\n",
       "      <th>p4</th>\n",
       "      <th>p5</th>\n",
       "      <th>p6</th>\n",
       "      <th>p7</th>\n",
       "      <th>subBrand</th>\n",
       "    </tr>\n",
       "  </thead>\n",
       "  <tbody>\n",
       "    <tr>\n",
       "      <th>0</th>\n",
       "      <td>1</td>\n",
       "      <td>0.000018</td>\n",
       "      <td>0.877072</td>\n",
       "      <td>0.000318</td>\n",
       "      <td>0.013965</td>\n",
       "      <td>0.000026</td>\n",
       "      <td>0.003085</td>\n",
       "      <td>0.000006</td>\n",
       "      <td>0.105509</td>\n",
       "      <td>Performance</td>\n",
       "    </tr>\n",
       "    <tr>\n",
       "      <th>1</th>\n",
       "      <td>3</td>\n",
       "      <td>0.000019</td>\n",
       "      <td>0.008486</td>\n",
       "      <td>0.002925</td>\n",
       "      <td>0.987396</td>\n",
       "      <td>0.000096</td>\n",
       "      <td>0.000531</td>\n",
       "      <td>0.000026</td>\n",
       "      <td>0.000522</td>\n",
       "      <td>Performance</td>\n",
       "    </tr>\n",
       "    <tr>\n",
       "      <th>2</th>\n",
       "      <td>1</td>\n",
       "      <td>0.000001</td>\n",
       "      <td>0.998564</td>\n",
       "      <td>0.000087</td>\n",
       "      <td>0.000316</td>\n",
       "      <td>0.000002</td>\n",
       "      <td>0.000932</td>\n",
       "      <td>0.000010</td>\n",
       "      <td>0.000088</td>\n",
       "      <td>Performance</td>\n",
       "    </tr>\n",
       "    <tr>\n",
       "      <th>3</th>\n",
       "      <td>1</td>\n",
       "      <td>0.000309</td>\n",
       "      <td>0.730765</td>\n",
       "      <td>0.190414</td>\n",
       "      <td>0.034304</td>\n",
       "      <td>0.000073</td>\n",
       "      <td>0.041692</td>\n",
       "      <td>0.000023</td>\n",
       "      <td>0.002420</td>\n",
       "      <td>Performance</td>\n",
       "    </tr>\n",
       "    <tr>\n",
       "      <th>4</th>\n",
       "      <td>1</td>\n",
       "      <td>0.000340</td>\n",
       "      <td>0.886670</td>\n",
       "      <td>0.050413</td>\n",
       "      <td>0.041700</td>\n",
       "      <td>0.000078</td>\n",
       "      <td>0.018866</td>\n",
       "      <td>0.000025</td>\n",
       "      <td>0.001909</td>\n",
       "      <td>Performance</td>\n",
       "    </tr>\n",
       "  </tbody>\n",
       "</table>\n",
       "</div>"
      ],
      "text/plain": [
       "   predict        p0        p1        p2        p3        p4        p5  \\\n",
       "0        1  0.000018  0.877072  0.000318  0.013965  0.000026  0.003085   \n",
       "1        3  0.000019  0.008486  0.002925  0.987396  0.000096  0.000531   \n",
       "2        1  0.000001  0.998564  0.000087  0.000316  0.000002  0.000932   \n",
       "3        1  0.000309  0.730765  0.190414  0.034304  0.000073  0.041692   \n",
       "4        1  0.000340  0.886670  0.050413  0.041700  0.000078  0.018866   \n",
       "\n",
       "         p6        p7     subBrand  \n",
       "0  0.000006  0.105509  Performance  \n",
       "1  0.000026  0.000522  Performance  \n",
       "2  0.000010  0.000088  Performance  \n",
       "3  0.000023  0.002420  Performance  \n",
       "4  0.000025  0.001909  Performance  "
      ]
     },
     "execution_count": 99,
     "metadata": {},
     "output_type": "execute_result"
    }
   ],
   "source": [
    "test_pred.head()"
   ]
  },
  {
   "cell_type": "code",
   "execution_count": 101,
   "metadata": {},
   "outputs": [
    {
     "name": "stderr",
     "output_type": "stream",
     "text": [
      "C:\\Users\\narendran.thesma\\AppData\\Local\\Continuum\\anaconda3\\lib\\site-packages\\sklearn\\preprocessing\\label.py:151: DeprecationWarning: The truth value of an empty array is ambiguous. Returning False, but in future this will result in an error. Use `array.size > 0` to check that an array is not empty.\n",
      "  if diff:\n"
     ]
    }
   ],
   "source": [
    "test_pred[\"predict_wordings\"]= le.inverse_transform(test_pred.predict)"
   ]
  },
  {
   "cell_type": "code",
   "execution_count": 58,
   "metadata": {},
   "outputs": [],
   "source": [
    "test_pred[\"subBrand\"] = pd.Categorical(test_pred[\"subBrand\"])\n",
    "test_pred[\"subBrand\"] = pd.Categorical(test_pred[\"subBrand\"])"
   ]
  },
  {
   "cell_type": "code",
   "execution_count": 102,
   "metadata": {},
   "outputs": [
    {
     "name": "stdout",
     "output_type": "stream",
     "text": [
      "Accuracy Score : 0.40862745098039216\n"
     ]
    },
    {
     "name": "stderr",
     "output_type": "stream",
     "text": [
      "C:\\Users\\narendran.thesma\\AppData\\Local\\Continuum\\anaconda3\\lib\\site-packages\\sklearn\\metrics\\classification.py:1135: UndefinedMetricWarning: F-score is ill-defined and being set to 0.0 in labels with no predicted samples.\n",
      "  'precision', 'predicted', average, warn_for)\n"
     ]
    },
    {
     "name": "stdout",
     "output_type": "stream",
     "text": [
      "F1 Score: 0.12081237205556519\n"
     ]
    },
    {
     "name": "stderr",
     "output_type": "stream",
     "text": [
      "C:\\Users\\narendran.thesma\\AppData\\Local\\Continuum\\anaconda3\\lib\\site-packages\\sklearn\\metrics\\classification.py:1135: UndefinedMetricWarning: Precision is ill-defined and being set to 0.0 in labels with no predicted samples.\n",
      "  'precision', 'predicted', average, warn_for)\n"
     ]
    },
    {
     "name": "stdout",
     "output_type": "stream",
     "text": [
      "Precision: 0.16709811044960843\n",
      "Recall: 0.14786531667368227\n"
     ]
    }
   ],
   "source": [
    "print(f'Accuracy Score : {accuracy_score(test_pred[\"subBrand\"], test_pred[\"predict_wordings\"] )}')\n",
    "print(f'F1 Score: {f1_score(test_pred[\"subBrand\"], test_pred[\"predict_wordings\"] , average=\"macro\")}')\n",
    "print(f'Precision: {precision_score(test_pred.subBrand, test_pred.predict_wordings , average=\"macro\")}')\n",
    "print(f'Recall: {recall_score(test_pred.subBrand, test_pred.predict_wordings , average=\"macro\")}')"
   ]
  },
  {
   "cell_type": "code",
   "execution_count": null,
   "metadata": {},
   "outputs": [],
   "source": []
  },
  {
   "cell_type": "code",
   "execution_count": null,
   "metadata": {},
   "outputs": [],
   "source": []
  }
 ],
 "metadata": {
  "kernelspec": {
   "display_name": "Python 3",
   "language": "python",
   "name": "python3"
  },
  "language_info": {
   "codemirror_mode": {
    "name": "ipython",
    "version": 3
   },
   "file_extension": ".py",
   "mimetype": "text/x-python",
   "name": "python",
   "nbconvert_exporter": "python",
   "pygments_lexer": "ipython3",
   "version": "3.6.5"
  }
 },
 "nbformat": 4,
 "nbformat_minor": 2
}

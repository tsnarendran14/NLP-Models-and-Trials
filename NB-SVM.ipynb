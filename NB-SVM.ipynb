{
 "cells": [
  {
   "cell_type": "code",
   "execution_count": 1,
   "metadata": {},
   "outputs": [],
   "source": [
    "import numpy as np\n",
    "import pandas as pd\n",
    "import matplotlib.pyplot as plt\n",
    "import seaborn as sns\n",
    "import time\n",
    "import nltk\n",
    "from nltk.stem.porter import PorterStemmer\n",
    "from sklearn.feature_extraction.text import CountVectorizer, TfidfVectorizer\n",
    "from sklearn.metrics import accuracy_score, f1_score, precision_score, recall_score, classification_report, confusion_matrix\n",
    "\n",
    "%matplotlib inline"
   ]
  },
  {
   "cell_type": "code",
   "execution_count": 2,
   "metadata": {},
   "outputs": [],
   "source": [
    "#nltk.download('punkt')"
   ]
  },
  {
   "cell_type": "code",
   "execution_count": 3,
   "metadata": {},
   "outputs": [
    {
     "data": {
      "text/html": [
       "<div>\n",
       "<style scoped>\n",
       "    .dataframe tbody tr th:only-of-type {\n",
       "        vertical-align: middle;\n",
       "    }\n",
       "\n",
       "    .dataframe tbody tr th {\n",
       "        vertical-align: top;\n",
       "    }\n",
       "\n",
       "    .dataframe thead th {\n",
       "        text-align: right;\n",
       "    }\n",
       "</style>\n",
       "<table border=\"1\" class=\"dataframe\">\n",
       "  <thead>\n",
       "    <tr style=\"text-align: right;\">\n",
       "      <th></th>\n",
       "      <th>date</th>\n",
       "      <th>name</th>\n",
       "      <th>currency</th>\n",
       "      <th>language</th>\n",
       "      <th>name2</th>\n",
       "      <th>name3</th>\n",
       "      <th>ageGroup</th>\n",
       "      <th>articleId</th>\n",
       "      <th>colors</th>\n",
       "      <th>colorGroup</th>\n",
       "      <th>...</th>\n",
       "      <th>ped</th>\n",
       "      <th>pid</th>\n",
       "      <th>sportsCategory</th>\n",
       "      <th>subBrand</th>\n",
       "      <th>technologies</th>\n",
       "      <th>type</th>\n",
       "      <th>url</th>\n",
       "      <th>price</th>\n",
       "      <th>territories</th>\n",
       "      <th>type5</th>\n",
       "    </tr>\n",
       "  </thead>\n",
       "  <tbody>\n",
       "    <tr>\n",
       "      <th>0</th>\n",
       "      <td>08/29/2018</td>\n",
       "      <td>adidas</td>\n",
       "      <td>EUR</td>\n",
       "      <td>de-DE</td>\n",
       "      <td>DEU</td>\n",
       "      <td>own eCom</td>\n",
       "      <td>adults</td>\n",
       "      <td>011040</td>\n",
       "      <td>Black/Footwear White</td>\n",
       "      <td>schwarz</td>\n",
       "      <td>...</td>\n",
       "      <td>NaN</td>\n",
       "      <td>04/18/2013</td>\n",
       "      <td>Fußball</td>\n",
       "      <td>Performance</td>\n",
       "      <td>EVA</td>\n",
       "      <td>NaN</td>\n",
       "      <td>https://www.adidas.de/world-cup-fussballschuh/...</td>\n",
       "      <td>NaN</td>\n",
       "      <td>NaN</td>\n",
       "      <td>NaN</td>\n",
       "    </tr>\n",
       "    <tr>\n",
       "      <th>1</th>\n",
       "      <td>08/29/2018</td>\n",
       "      <td>adidas</td>\n",
       "      <td>EUR</td>\n",
       "      <td>de-DE</td>\n",
       "      <td>DEU</td>\n",
       "      <td>own eCom</td>\n",
       "      <td>adults</td>\n",
       "      <td>015110</td>\n",
       "      <td>Black/Footwear White/Black</td>\n",
       "      <td>schwarz</td>\n",
       "      <td>...</td>\n",
       "      <td>NaN</td>\n",
       "      <td>04/18/2013</td>\n",
       "      <td>Fußball</td>\n",
       "      <td>Performance</td>\n",
       "      <td>EVA</td>\n",
       "      <td>NaN</td>\n",
       "      <td>https://www.adidas.de/copa-mundial-fussballsch...</td>\n",
       "      <td>NaN</td>\n",
       "      <td>NaN</td>\n",
       "      <td>NaN</td>\n",
       "    </tr>\n",
       "    <tr>\n",
       "      <th>2</th>\n",
       "      <td>08/29/2018</td>\n",
       "      <td>adidas</td>\n",
       "      <td>EUR</td>\n",
       "      <td>de-DE</td>\n",
       "      <td>DEU</td>\n",
       "      <td>own eCom</td>\n",
       "      <td>adults</td>\n",
       "      <td>019000</td>\n",
       "      <td>Black/Footwear White</td>\n",
       "      <td>schwarz</td>\n",
       "      <td>...</td>\n",
       "      <td>NaN</td>\n",
       "      <td>04/18/2013</td>\n",
       "      <td>Freizeit</td>\n",
       "      <td>Performance</td>\n",
       "      <td>EVA</td>\n",
       "      <td>NaN</td>\n",
       "      <td>https://www.adidas.de/samba-leather-schuh/0190...</td>\n",
       "      <td>NaN</td>\n",
       "      <td>NaN</td>\n",
       "      <td>NaN</td>\n",
       "    </tr>\n",
       "    <tr>\n",
       "      <th>3</th>\n",
       "      <td>08/29/2018</td>\n",
       "      <td>adidas</td>\n",
       "      <td>EUR</td>\n",
       "      <td>de-DE</td>\n",
       "      <td>DEU</td>\n",
       "      <td>own eCom</td>\n",
       "      <td>adults</td>\n",
       "      <td>019099</td>\n",
       "      <td>Black/White</td>\n",
       "      <td>schwarz</td>\n",
       "      <td>...</td>\n",
       "      <td>NaN</td>\n",
       "      <td>01/28/2015</td>\n",
       "      <td>Freizeit</td>\n",
       "      <td>Sport inspired</td>\n",
       "      <td>EVA</td>\n",
       "      <td>NaN</td>\n",
       "      <td>https://www.adidas.de/samba-super-schuh/019099...</td>\n",
       "      <td>NaN</td>\n",
       "      <td>NaN</td>\n",
       "      <td>NaN</td>\n",
       "    </tr>\n",
       "    <tr>\n",
       "      <th>4</th>\n",
       "      <td>08/29/2018</td>\n",
       "      <td>adidas</td>\n",
       "      <td>EUR</td>\n",
       "      <td>de-DE</td>\n",
       "      <td>DEU</td>\n",
       "      <td>own eCom</td>\n",
       "      <td>adults</td>\n",
       "      <td>019228</td>\n",
       "      <td>Black/Footwear White/Red</td>\n",
       "      <td>schwarz</td>\n",
       "      <td>...</td>\n",
       "      <td>NaN</td>\n",
       "      <td>04/18/2013</td>\n",
       "      <td>Fußball</td>\n",
       "      <td>Performance</td>\n",
       "      <td>TRAXION|EVA</td>\n",
       "      <td>NaN</td>\n",
       "      <td>https://www.adidas.de/mundial-team-fussballsch...</td>\n",
       "      <td>NaN</td>\n",
       "      <td>NaN</td>\n",
       "      <td>NaN</td>\n",
       "    </tr>\n",
       "  </tbody>\n",
       "</table>\n",
       "<p>5 rows × 31 columns</p>\n",
       "</div>"
      ],
      "text/plain": [
       "         date    name currency language name2     name3 ageGroup articleId  \\\n",
       "0  08/29/2018  adidas      EUR    de-DE   DEU  own eCom   adults    011040   \n",
       "1  08/29/2018  adidas      EUR    de-DE   DEU  own eCom   adults    015110   \n",
       "2  08/29/2018  adidas      EUR    de-DE   DEU  own eCom   adults    019000   \n",
       "3  08/29/2018  adidas      EUR    de-DE   DEU  own eCom   adults    019099   \n",
       "4  08/29/2018  adidas      EUR    de-DE   DEU  own eCom   adults    019228   \n",
       "\n",
       "                       colors colorGroup  ...   ped         pid  \\\n",
       "0        Black/Footwear White    schwarz  ...   NaN  04/18/2013   \n",
       "1  Black/Footwear White/Black    schwarz  ...   NaN  04/18/2013   \n",
       "2        Black/Footwear White    schwarz  ...   NaN  04/18/2013   \n",
       "3                 Black/White    schwarz  ...   NaN  01/28/2015   \n",
       "4    Black/Footwear White/Red    schwarz  ...   NaN  04/18/2013   \n",
       "\n",
       "  sportsCategory        subBrand technologies type  \\\n",
       "0        Fußball     Performance          EVA  NaN   \n",
       "1        Fußball     Performance          EVA  NaN   \n",
       "2       Freizeit     Performance          EVA  NaN   \n",
       "3       Freizeit  Sport inspired          EVA  NaN   \n",
       "4        Fußball     Performance  TRAXION|EVA  NaN   \n",
       "\n",
       "                                                 url price  territories type5  \n",
       "0  https://www.adidas.de/world-cup-fussballschuh/...   NaN          NaN   NaN  \n",
       "1  https://www.adidas.de/copa-mundial-fussballsch...   NaN          NaN   NaN  \n",
       "2  https://www.adidas.de/samba-leather-schuh/0190...   NaN          NaN   NaN  \n",
       "3  https://www.adidas.de/samba-super-schuh/019099...   NaN          NaN   NaN  \n",
       "4  https://www.adidas.de/mundial-team-fussballsch...   NaN          NaN   NaN  \n",
       "\n",
       "[5 rows x 31 columns]"
      ]
     },
     "execution_count": 3,
     "metadata": {},
     "output_type": "execute_result"
    }
   ],
   "source": [
    "data_1 = pd.read_csv(\"Adidas GPMT/GPMT Project/15th Oct 35 CSV.csv\", encoding='latin-1')\n",
    "data_2 = pd.read_csv(\"Adidas GPMT/GPMT Project/15th Oct 37 CSV.csv\", encoding='latin-1')\n",
    "data_3 = pd.read_csv(\"Adidas GPMT/GPMT Project/15th Oct 38 CSV.csv\", encoding='latin-1')\n",
    "data_4 = pd.read_csv(\"Adidas GPMT/GPMT Project/15th Oct 39 CSV.csv\", encoding='latin-1')\n",
    "data = data_1.append(data_2, ignore_index=True)\n",
    "data = data.append(data_3, ignore_index=True)\n",
    "data = data.append(data_4, ignore_index=True)\n",
    "data.head()"
   ]
  },
  {
   "cell_type": "code",
   "execution_count": 4,
   "metadata": {},
   "outputs": [
    {
     "data": {
      "text/plain": [
       "date                    0\n",
       "name                    0\n",
       "currency                0\n",
       "language                0\n",
       "name2                   0\n",
       "name3                 368\n",
       "ageGroup            10309\n",
       "articleId             368\n",
       "colors              10045\n",
       "colorGroup          37566\n",
       "consumerRating        368\n",
       "currentPrice          368\n",
       "description          5033\n",
       "discountedSince    277723\n",
       "division              368\n",
       "gender              11363\n",
       "group               76709\n",
       "imageUrl              404\n",
       "initialPrice          368\n",
       "modelNumber           368\n",
       "name4                 371\n",
       "ped                416727\n",
       "pid                   368\n",
       "sportsCategory      88758\n",
       "subBrand            93557\n",
       "technologies       281645\n",
       "type               274499\n",
       "url                   368\n",
       "price              439691\n",
       "territories        439691\n",
       "type5              439691\n",
       "dtype: int64"
      ]
     },
     "execution_count": 4,
     "metadata": {},
     "output_type": "execute_result"
    }
   ],
   "source": [
    "data.isnull().sum()"
   ]
  },
  {
   "cell_type": "code",
   "execution_count": 5,
   "metadata": {},
   "outputs": [
    {
     "data": {
      "text/plain": [
       "array(['de-DE', 'en-US', 'en-GB'], dtype=object)"
      ]
     },
     "execution_count": 5,
     "metadata": {},
     "output_type": "execute_result"
    }
   ],
   "source": [
    "data.language.unique()"
   ]
  },
  {
   "cell_type": "code",
   "execution_count": 6,
   "metadata": {},
   "outputs": [
    {
     "data": {
      "text/plain": [
       "array(['Performance', 'Sport inspired', 'adidas by Stella McCartney',\n",
       "       'Essentials', nan, 'Porsche Design Sport by adidas',\n",
       "       'Sport Inspired', 'sport inspired', 'Sport', 'performance',\n",
       "       'adidas by stella mccartney', 'porsche design sport by adidas',\n",
       "       'essentials', 'adidas neo', 'Sportswear', 'Jordan', 'Collections',\n",
       "       'UAS', 'Hurley'], dtype=object)"
      ]
     },
     "execution_count": 6,
     "metadata": {},
     "output_type": "execute_result"
    }
   ],
   "source": [
    "data.subBrand.unique()"
   ]
  },
  {
   "cell_type": "code",
   "execution_count": 7,
   "metadata": {},
   "outputs": [],
   "source": [
    "# Filtering US and UK\n",
    "#data = data.loc[data[\"language\"].isin(['de-DE'])]"
   ]
  },
  {
   "cell_type": "code",
   "execution_count": 8,
   "metadata": {},
   "outputs": [],
   "source": [
    "#data.group.unique()"
   ]
  },
  {
   "cell_type": "code",
   "execution_count": 9,
   "metadata": {},
   "outputs": [],
   "source": [
    "data_req = data.loc[:,[\"name\", \"description\", \"division\",\"sportsCategory\", \"subBrand\", \"group\", \"name2\", \"name3\", \"name4\", \"url\"]]"
   ]
  },
  {
   "cell_type": "code",
   "execution_count": 10,
   "metadata": {},
   "outputs": [],
   "source": [
    "data_req = data_req.drop_duplicates()"
   ]
  },
  {
   "cell_type": "code",
   "execution_count": 11,
   "metadata": {},
   "outputs": [
    {
     "data": {
      "text/plain": [
       "158140"
      ]
     },
     "execution_count": 11,
     "metadata": {},
     "output_type": "execute_result"
    }
   ],
   "source": [
    "len(data_req)"
   ]
  },
  {
   "cell_type": "code",
   "execution_count": 12,
   "metadata": {},
   "outputs": [],
   "source": [
    "data_req_x = data_req.loc[:,[\"name\", \"description\", \"division\", \"group\", \"name2\", \"name3\", \"name4\", \"subBrand\", \"url\"]]\n",
    "data_req_y = data_req.loc[:, [\"sportsCategory\"]]"
   ]
  },
  {
   "cell_type": "code",
   "execution_count": 13,
   "metadata": {},
   "outputs": [],
   "source": [
    "data_req_x = data_req_x.fillna(\"unknown\")\n",
    "data_req = pd.concat([data_req_x, data_req_y], axis=1)"
   ]
  },
  {
   "cell_type": "code",
   "execution_count": 14,
   "metadata": {},
   "outputs": [
    {
     "data": {
      "text/plain": [
       "158140"
      ]
     },
     "execution_count": 14,
     "metadata": {},
     "output_type": "execute_result"
    }
   ],
   "source": [
    "len(data_req)"
   ]
  },
  {
   "cell_type": "code",
   "execution_count": 15,
   "metadata": {},
   "outputs": [],
   "source": [
    "data_req = data_req.dropna()"
   ]
  },
  {
   "cell_type": "code",
   "execution_count": 16,
   "metadata": {},
   "outputs": [],
   "source": [
    "data_req = data_req.drop_duplicates()"
   ]
  },
  {
   "cell_type": "code",
   "execution_count": 17,
   "metadata": {},
   "outputs": [],
   "source": [
    "data_req[\"description\"]  = data_req[\"name\"] +\" \" + data_req[\"description\"] +\" \" + data_req[\"division\"] +\" \" + data_req[\"group\"] +\" \" + data_req[\"name2\"]+\" \" + data_req[\"name3\"]+\" \" + data_req[\"name4\"]+\" \" + data_req[\"subBrand\"]+\" \" + data_req[\"url\"]"
   ]
  },
  {
   "cell_type": "code",
   "execution_count": 18,
   "metadata": {},
   "outputs": [],
   "source": [
    "data_req = data_req.drop([\"name\", \"division\", \"group\", \"name2\", \"name3\", \"name4\", \"subBrand\",\"url\"], axis = 1)"
   ]
  },
  {
   "cell_type": "code",
   "execution_count": 19,
   "metadata": {},
   "outputs": [],
   "source": [
    "data_req.columns = [\"description\", \"subBrand\"]"
   ]
  },
  {
   "cell_type": "code",
   "execution_count": 20,
   "metadata": {},
   "outputs": [
    {
     "data": {
      "text/plain": [
       "array(['Fußball', 'Freizeit', 'Schwimmen', 'Basketball', 'Training',\n",
       "       'Outdoor', 'Rugby', 'Gewichtheben', 'Running', 'Handball', 'Golf',\n",
       "       'Tennis', 'Skateboarden', 'Feldhockey', 'Volleyball', 'Radfahren',\n",
       "       'Boxen', 'Hockey', 'Yoga', 'Soccer', 'Swim', 'Lifestyle',\n",
       "       'Football', 'Baseball', 'Lacrosse', 'Skateboarding', 'Boxing',\n",
       "       'Weightlifting', 'football', 'lifestyle', 'swimming', 'basketball',\n",
       "       'training', 'outdoor', 'weightlifting', 'running', 'handball',\n",
       "       'rugby', 'golf', 'tennis', 'field hockey', 'boxing', 'volleyball',\n",
       "       'Cycling', 'skateboarding', 'yoga', 'track & field', 'Tanzen',\n",
       "       'Leichtathletik', 'Fitness & Training', 'American Football',\n",
       "       'Laufen', 'Wandern', 'Baseball & Softball', 'not applicable',\n",
       "       'Eishockey', 'Spinning', 'Baseball / Softball', 'Training & Gym',\n",
       "       'Track & Field', 'Snowboarding', 'Cheerleading', 'Walking',\n",
       "       'Surf & Swimming', 'Athletics', 'Gym & Training', 'Dance',\n",
       "       'Ice Hockey', 'Fussball', 'Driving', 'Motorsport', 'Bekleidung',\n",
       "       'Footwear', 'Combat', 'Studio', 'CrossFit', 'Retro Running',\n",
       "       'Court', 'Fitness', 'Casual', 'MMA', 'UFC', 'Swimming', 'Sideline',\n",
       "       'Yoga & Studio', 'Ski & Snowboard', 'Surf', 'Softball',\n",
       "       'Hiking & Trail', 'Gymnastics', 'run', 'to + from', 'swim',\n",
       "       'To + From', 'gym', 'cycling', 'Trail Running', 'Padel', 'Ringen',\n",
       "       'Squash Und Badminton', 'Netball', 'Wrestling', 'Track-and-field',\n",
       "       'Cheer', 'Squash & Badminton', 'Surfen & Schwimmen', 'Surfen',\n",
       "       'Surfing', 'Sportstyle', 'Gym', 'Field Hockey'], dtype=object)"
      ]
     },
     "execution_count": 20,
     "metadata": {},
     "output_type": "execute_result"
    }
   ],
   "source": [
    "data_req.subBrand.unique()"
   ]
  },
  {
   "cell_type": "code",
   "execution_count": 21,
   "metadata": {},
   "outputs": [
    {
     "data": {
      "text/plain": [
       "126055"
      ]
     },
     "execution_count": 21,
     "metadata": {},
     "output_type": "execute_result"
    }
   ],
   "source": [
    "len(data_req)"
   ]
  },
  {
   "cell_type": "code",
   "execution_count": 22,
   "metadata": {},
   "outputs": [],
   "source": [
    "data_req = data_req.drop_duplicates()"
   ]
  },
  {
   "cell_type": "code",
   "execution_count": 23,
   "metadata": {},
   "outputs": [],
   "source": [
    "data_req.subBrand = data_req.subBrand.str.lower()\n",
    "data_req.description = data_req.description.str.lower()"
   ]
  },
  {
   "cell_type": "code",
   "execution_count": 24,
   "metadata": {},
   "outputs": [
    {
     "data": {
      "text/plain": [
       "array(['fußball', 'freizeit', 'schwimmen', 'basketball', 'training',\n",
       "       'outdoor', 'rugby', 'gewichtheben', 'running', 'handball', 'golf',\n",
       "       'tennis', 'skateboarden', 'feldhockey', 'volleyball', 'radfahren',\n",
       "       'boxen', 'hockey', 'yoga', 'soccer', 'swim', 'lifestyle',\n",
       "       'football', 'baseball', 'lacrosse', 'skateboarding', 'boxing',\n",
       "       'weightlifting', 'swimming', 'field hockey', 'cycling',\n",
       "       'track & field', 'tanzen', 'leichtathletik', 'fitness & training',\n",
       "       'american football', 'laufen', 'wandern', 'baseball & softball',\n",
       "       'not applicable', 'eishockey', 'spinning', 'baseball / softball',\n",
       "       'training & gym', 'snowboarding', 'cheerleading', 'walking',\n",
       "       'surf & swimming', 'athletics', 'gym & training', 'dance',\n",
       "       'ice hockey', 'fussball', 'driving', 'motorsport', 'bekleidung',\n",
       "       'footwear', 'combat', 'studio', 'crossfit', 'retro running',\n",
       "       'court', 'fitness', 'casual', 'mma', 'ufc', 'sideline',\n",
       "       'yoga & studio', 'ski & snowboard', 'surf', 'softball',\n",
       "       'hiking & trail', 'gymnastics', 'run', 'to + from', 'gym',\n",
       "       'trail running', 'padel', 'ringen', 'squash und badminton',\n",
       "       'netball', 'wrestling', 'track-and-field', 'cheer',\n",
       "       'squash & badminton', 'surfen & schwimmen', 'surfen', 'surfing',\n",
       "       'sportstyle'], dtype=object)"
      ]
     },
     "execution_count": 24,
     "metadata": {},
     "output_type": "execute_result"
    }
   ],
   "source": [
    "data_req.subBrand.unique()"
   ]
  },
  {
   "cell_type": "code",
   "execution_count": 25,
   "metadata": {},
   "outputs": [
    {
     "data": {
      "text/plain": [
       "(542.0140494228709, 267.274792012912, 3585)"
      ]
     },
     "execution_count": 25,
     "metadata": {},
     "output_type": "execute_result"
    }
   ],
   "source": [
    "lens = data_req.description.str.len()\n",
    "lens.mean(), lens.std(), lens.max()"
   ]
  },
  {
   "cell_type": "code",
   "execution_count": 26,
   "metadata": {},
   "outputs": [
    {
     "data": {
      "image/png": "[encoded data removed]",
      "text/plain": [
       "<Figure size 432x288 with 1 Axes>"
      ]
     },
     "metadata": {},
     "output_type": "display_data"
    }
   ],
   "source": [
    "lens.hist();"
   ]
  },
  {
   "cell_type": "code",
   "execution_count": 27,
   "metadata": {},
   "outputs": [],
   "source": [
    "data_req = data_req.dropna()"
   ]
  },
  {
   "cell_type": "code",
   "execution_count": 28,
   "metadata": {},
   "outputs": [
    {
     "data": {
      "text/plain": [
       "126055"
      ]
     },
     "execution_count": 28,
     "metadata": {},
     "output_type": "execute_result"
    }
   ],
   "source": [
    "len(data_req)"
   ]
  },
  {
   "cell_type": "code",
   "execution_count": 29,
   "metadata": {},
   "outputs": [],
   "source": [
    "one_hot = pd.get_dummies(data_req.subBrand)"
   ]
  },
  {
   "cell_type": "code",
   "execution_count": 30,
   "metadata": {},
   "outputs": [],
   "source": [
    "label_cols = data_req.subBrand.dropna().unique()"
   ]
  },
  {
   "cell_type": "code",
   "execution_count": 31,
   "metadata": {},
   "outputs": [
    {
     "data": {
      "text/plain": [
       "array(['fußball', 'freizeit', 'schwimmen', 'basketball', 'training',\n",
       "       'outdoor', 'rugby', 'gewichtheben', 'running', 'handball', 'golf',\n",
       "       'tennis', 'skateboarden', 'feldhockey', 'volleyball', 'radfahren',\n",
       "       'boxen', 'hockey', 'yoga', 'soccer', 'swim', 'lifestyle',\n",
       "       'football', 'baseball', 'lacrosse', 'skateboarding', 'boxing',\n",
       "       'weightlifting', 'swimming', 'field hockey', 'cycling',\n",
       "       'track & field', 'tanzen', 'leichtathletik', 'fitness & training',\n",
       "       'american football', 'laufen', 'wandern', 'baseball & softball',\n",
       "       'not applicable', 'eishockey', 'spinning', 'baseball / softball',\n",
       "       'training & gym', 'snowboarding', 'cheerleading', 'walking',\n",
       "       'surf & swimming', 'athletics', 'gym & training', 'dance',\n",
       "       'ice hockey', 'fussball', 'driving', 'motorsport', 'bekleidung',\n",
       "       'footwear', 'combat', 'studio', 'crossfit', 'retro running',\n",
       "       'court', 'fitness', 'casual', 'mma', 'ufc', 'sideline',\n",
       "       'yoga & studio', 'ski & snowboard', 'surf', 'softball',\n",
       "       'hiking & trail', 'gymnastics', 'run', 'to + from', 'gym',\n",
       "       'trail running', 'padel', 'ringen', 'squash und badminton',\n",
       "       'netball', 'wrestling', 'track-and-field', 'cheer',\n",
       "       'squash & badminton', 'surfen & schwimmen', 'surfen', 'surfing',\n",
       "       'sportstyle'], dtype=object)"
      ]
     },
     "execution_count": 31,
     "metadata": {},
     "output_type": "execute_result"
    }
   ],
   "source": [
    "label_cols"
   ]
  },
  {
   "cell_type": "code",
   "execution_count": 32,
   "metadata": {},
   "outputs": [],
   "source": [
    "minCount = 10\n",
    "subBrand_minCount = pd.DataFrame((data_req.subBrand.value_counts() > minCount).reset_index())"
   ]
  },
  {
   "cell_type": "code",
   "execution_count": 33,
   "metadata": {},
   "outputs": [],
   "source": [
    "subBrand_drop = subBrand_minCount.loc[subBrand_minCount[\"subBrand\"] == False]"
   ]
  },
  {
   "cell_type": "code",
   "execution_count": 34,
   "metadata": {},
   "outputs": [
    {
     "data": {
      "text/html": [
       "<div>\n",
       "<style scoped>\n",
       "    .dataframe tbody tr th:only-of-type {\n",
       "        vertical-align: middle;\n",
       "    }\n",
       "\n",
       "    .dataframe tbody tr th {\n",
       "        vertical-align: top;\n",
       "    }\n",
       "\n",
       "    .dataframe thead th {\n",
       "        text-align: right;\n",
       "    }\n",
       "</style>\n",
       "<table border=\"1\" class=\"dataframe\">\n",
       "  <thead>\n",
       "    <tr style=\"text-align: right;\">\n",
       "      <th></th>\n",
       "      <th>index</th>\n",
       "      <th>subBrand</th>\n",
       "    </tr>\n",
       "  </thead>\n",
       "  <tbody>\n",
       "    <tr>\n",
       "      <th>74</th>\n",
       "      <td>mma</td>\n",
       "      <td>False</td>\n",
       "    </tr>\n",
       "    <tr>\n",
       "      <th>75</th>\n",
       "      <td>gewichtheben</td>\n",
       "      <td>False</td>\n",
       "    </tr>\n",
       "    <tr>\n",
       "      <th>76</th>\n",
       "      <td>crossfit</td>\n",
       "      <td>False</td>\n",
       "    </tr>\n",
       "    <tr>\n",
       "      <th>77</th>\n",
       "      <td>spinning</td>\n",
       "      <td>False</td>\n",
       "    </tr>\n",
       "    <tr>\n",
       "      <th>78</th>\n",
       "      <td>squash und badminton</td>\n",
       "      <td>False</td>\n",
       "    </tr>\n",
       "    <tr>\n",
       "      <th>79</th>\n",
       "      <td>ringen</td>\n",
       "      <td>False</td>\n",
       "    </tr>\n",
       "    <tr>\n",
       "      <th>80</th>\n",
       "      <td>squash &amp; badminton</td>\n",
       "      <td>False</td>\n",
       "    </tr>\n",
       "    <tr>\n",
       "      <th>81</th>\n",
       "      <td>footwear</td>\n",
       "      <td>False</td>\n",
       "    </tr>\n",
       "    <tr>\n",
       "      <th>82</th>\n",
       "      <td>ice hockey</td>\n",
       "      <td>False</td>\n",
       "    </tr>\n",
       "    <tr>\n",
       "      <th>83</th>\n",
       "      <td>eishockey</td>\n",
       "      <td>False</td>\n",
       "    </tr>\n",
       "    <tr>\n",
       "      <th>84</th>\n",
       "      <td>cheer</td>\n",
       "      <td>False</td>\n",
       "    </tr>\n",
       "    <tr>\n",
       "      <th>85</th>\n",
       "      <td>surfen</td>\n",
       "      <td>False</td>\n",
       "    </tr>\n",
       "    <tr>\n",
       "      <th>86</th>\n",
       "      <td>netball</td>\n",
       "      <td>False</td>\n",
       "    </tr>\n",
       "    <tr>\n",
       "      <th>87</th>\n",
       "      <td>not applicable</td>\n",
       "      <td>False</td>\n",
       "    </tr>\n",
       "    <tr>\n",
       "      <th>88</th>\n",
       "      <td>cheerleading</td>\n",
       "      <td>False</td>\n",
       "    </tr>\n",
       "  </tbody>\n",
       "</table>\n",
       "</div>"
      ],
      "text/plain": [
       "                   index  subBrand\n",
       "74                   mma     False\n",
       "75          gewichtheben     False\n",
       "76              crossfit     False\n",
       "77              spinning     False\n",
       "78  squash und badminton     False\n",
       "79                ringen     False\n",
       "80    squash & badminton     False\n",
       "81              footwear     False\n",
       "82            ice hockey     False\n",
       "83             eishockey     False\n",
       "84                 cheer     False\n",
       "85                surfen     False\n",
       "86               netball     False\n",
       "87        not applicable     False\n",
       "88          cheerleading     False"
      ]
     },
     "execution_count": 34,
     "metadata": {},
     "output_type": "execute_result"
    }
   ],
   "source": [
    "subBrand_drop"
   ]
  },
  {
   "cell_type": "code",
   "execution_count": 35,
   "metadata": {},
   "outputs": [],
   "source": [
    "label_cols = np.setdiff1d(label_cols, subBrand_drop[\"index\"])"
   ]
  },
  {
   "cell_type": "code",
   "execution_count": 36,
   "metadata": {},
   "outputs": [],
   "source": [
    "data_req = pd.concat([data_req, one_hot], axis=1)"
   ]
  },
  {
   "cell_type": "code",
   "execution_count": 37,
   "metadata": {},
   "outputs": [],
   "source": [
    "import re, string\n",
    "re_tok = re.compile(f'([{string.punctuation}“”¨«»®´·º½¾¿¡§£₤‘’])')\n",
    "def tokenize(s): return re_tok.sub(r' \\1 ', s).split()"
   ]
  },
  {
   "cell_type": "code",
   "execution_count": 38,
   "metadata": {},
   "outputs": [],
   "source": [
    "description = \"description\""
   ]
  },
  {
   "cell_type": "code",
   "execution_count": 39,
   "metadata": {},
   "outputs": [],
   "source": [
    "data_req = data_req.drop(subBrand_drop[\"index\"], axis = 1)"
   ]
  },
  {
   "cell_type": "code",
   "execution_count": 40,
   "metadata": {},
   "outputs": [],
   "source": [
    "np.random.seed(123)\n",
    "data_req_sample = data_req.sample(frac=0.7)"
   ]
  },
  {
   "cell_type": "code",
   "execution_count": 41,
   "metadata": {},
   "outputs": [],
   "source": [
    "train = data_req.loc[data_req.index.isin(data_req_sample.index)]\n",
    "test = data_req.loc[~data_req.index.isin(data_req_sample.index)]"
   ]
  },
  {
   "cell_type": "code",
   "execution_count": 42,
   "metadata": {},
   "outputs": [],
   "source": [
    "test_subBrand = test.subBrand"
   ]
  },
  {
   "cell_type": "code",
   "execution_count": 43,
   "metadata": {},
   "outputs": [],
   "source": [
    "#test_subBrand"
   ]
  },
  {
   "cell_type": "code",
   "execution_count": 44,
   "metadata": {},
   "outputs": [],
   "source": [
    "train = train.drop(\"subBrand\", axis = 1)\n",
    "test = test.drop(\"subBrand\", axis = 1)"
   ]
  },
  {
   "cell_type": "code",
   "execution_count": 45,
   "metadata": {},
   "outputs": [],
   "source": [
    "# token_dict = {}\n",
    "# stemmer = PorterStemmer()\n",
    "\n",
    "# def stem_tokens(tokens, stemmer):\n",
    "#     stemmed = []\n",
    "#     for item in tokens:\n",
    "#         stemmed.append(stemmer.stem(item))\n",
    "#     return stemmed\n",
    "\n",
    "# def tokenize(text):\n",
    "#     tokens = nltk.word_tokenize(text)\n",
    "#     stems = stem_tokens(tokens, stemmer)\n",
    "#     return stems"
   ]
  },
  {
   "cell_type": "code",
   "execution_count": 46,
   "metadata": {},
   "outputs": [],
   "source": [
    "# from stop_words import get_stop_words\n",
    "# stop_words_english = get_stop_words('english')\n",
    "# stop_words_german = get_stop_words('german')"
   ]
  },
  {
   "cell_type": "code",
   "execution_count": 47,
   "metadata": {},
   "outputs": [],
   "source": [
    "#stop_words_english.append(stop_words_german)"
   ]
  },
  {
   "cell_type": "code",
   "execution_count": 48,
   "metadata": {},
   "outputs": [],
   "source": [
    "# stop_words_english = sorted(set(map(tuple, stop_words_english)), reverse=True)"
   ]
  },
  {
   "cell_type": "code",
   "execution_count": 49,
   "metadata": {},
   "outputs": [],
   "source": [
    "n = train.shape[0]\n",
    "vec = TfidfVectorizer(ngram_range=(1,2), tokenizer=tokenize,\n",
    "               min_df=3, max_df=0.9, strip_accents='unicode', use_idf=1,\n",
    "               smooth_idf=1, sublinear_tf=1, stop_words = None )\n",
    "trn_term_doc = vec.fit_transform(train[description])\n",
    "test_term_doc = vec.transform(test[description])"
   ]
  },
  {
   "cell_type": "code",
   "execution_count": 50,
   "metadata": {},
   "outputs": [
    {
     "data": {
      "text/plain": [
       "(<88238x271004 sparse matrix of type '<class 'numpy.float64'>'\n",
       " \twith 14093382 stored elements in Compressed Sparse Row format>,\n",
       " <37817x271004 sparse matrix of type '<class 'numpy.float64'>'\n",
       " \twith 5996874 stored elements in Compressed Sparse Row format>)"
      ]
     },
     "execution_count": 50,
     "metadata": {},
     "output_type": "execute_result"
    }
   ],
   "source": [
    "trn_term_doc, test_term_doc"
   ]
  },
  {
   "cell_type": "code",
   "execution_count": 51,
   "metadata": {},
   "outputs": [],
   "source": [
    "def pr(y_i, y):\n",
    "    p = x[y==y_i].sum(0)\n",
    "    return (p+1) / ((y==y_i).sum()+1)"
   ]
  },
  {
   "cell_type": "code",
   "execution_count": 52,
   "metadata": {},
   "outputs": [],
   "source": [
    "x = trn_term_doc\n",
    "test_x = test_term_doc"
   ]
  },
  {
   "cell_type": "code",
   "execution_count": 53,
   "metadata": {},
   "outputs": [],
   "source": [
    "def get_mdl(y):\n",
    "    y = y.values\n",
    "    r = np.log(pr(1,y) / pr(0,y))\n",
    "    m = LogisticRegression(C=4, dual=True)\n",
    "    x_nb = x.multiply(r)\n",
    "    return m.fit(x_nb, y), r"
   ]
  },
  {
   "cell_type": "code",
   "execution_count": 54,
   "metadata": {},
   "outputs": [],
   "source": [
    "from sklearn.linear_model import LogisticRegression"
   ]
  },
  {
   "cell_type": "code",
   "execution_count": 55,
   "metadata": {},
   "outputs": [
    {
     "name": "stdout",
     "output_type": "stream",
     "text": [
      "fit american football\n",
      "fit athletics\n",
      "fit baseball\n",
      "fit baseball & softball\n",
      "fit baseball / softball\n",
      "fit basketball\n",
      "fit bekleidung\n",
      "fit boxen\n",
      "fit boxing\n",
      "fit casual\n",
      "fit combat\n",
      "fit court\n",
      "fit cycling\n",
      "fit dance\n",
      "fit driving\n",
      "fit feldhockey\n",
      "fit field hockey\n",
      "fit fitness\n",
      "fit fitness & training\n",
      "fit football\n",
      "fit freizeit\n",
      "fit fussball\n",
      "fit fußball\n",
      "fit golf\n",
      "fit gym\n",
      "fit gym & training\n",
      "fit gymnastics\n",
      "fit handball\n",
      "fit hiking & trail\n",
      "fit hockey\n",
      "fit lacrosse\n",
      "fit laufen\n",
      "fit leichtathletik\n",
      "fit lifestyle\n",
      "fit motorsport\n",
      "fit outdoor\n",
      "fit padel\n",
      "fit radfahren\n",
      "fit retro running\n",
      "fit rugby\n",
      "fit run\n",
      "fit running\n",
      "fit schwimmen\n",
      "fit sideline\n",
      "fit skateboarden\n",
      "fit skateboarding\n",
      "fit ski & snowboard\n",
      "fit snowboarding\n",
      "fit soccer\n",
      "fit softball\n",
      "fit sportstyle\n",
      "fit studio\n",
      "fit surf\n",
      "fit surf & swimming\n",
      "fit surfen & schwimmen\n",
      "fit surfing\n",
      "fit swim\n",
      "fit swimming\n",
      "fit tanzen\n",
      "fit tennis\n",
      "fit to + from\n",
      "fit track & field\n",
      "fit track-and-field\n",
      "fit trail running\n",
      "fit training\n",
      "fit training & gym\n",
      "fit ufc\n",
      "fit volleyball\n",
      "fit walking\n",
      "fit wandern\n",
      "fit weightlifting\n",
      "fit wrestling\n",
      "fit yoga\n",
      "fit yoga & studio\n"
     ]
    }
   ],
   "source": [
    "preds = np.zeros((len(test), len(label_cols)))\n",
    "\n",
    "for i, j in enumerate(label_cols):\n",
    "    print('fit', j)\n",
    "    m,r = get_mdl(train[j])\n",
    "    preds[:,i] = m.predict_proba(test_x.multiply(r))[:,1]"
   ]
  },
  {
   "cell_type": "code",
   "execution_count": 68,
   "metadata": {},
   "outputs": [
    {
     "data": {
      "text/plain": [
       "(37817, 74)"
      ]
     },
     "execution_count": 68,
     "metadata": {},
     "output_type": "execute_result"
    }
   ],
   "source": [
    "preds.shape"
   ]
  },
  {
   "cell_type": "code",
   "execution_count": 57,
   "metadata": {},
   "outputs": [],
   "source": [
    "predictions = pd.DataFrame(preds, columns = label_cols)"
   ]
  },
  {
   "cell_type": "code",
   "execution_count": 58,
   "metadata": {},
   "outputs": [],
   "source": [
    "test.index = np.arange(0, len(test))\n",
    "test_subBrand.index = np.arange(0, len(test))"
   ]
  },
  {
   "cell_type": "code",
   "execution_count": 59,
   "metadata": {},
   "outputs": [
    {
     "data": {
      "text/plain": [
       "37817"
      ]
     },
     "execution_count": 59,
     "metadata": {},
     "output_type": "execute_result"
    }
   ],
   "source": [
    "len(test)"
   ]
  },
  {
   "cell_type": "code",
   "execution_count": 60,
   "metadata": {},
   "outputs": [],
   "source": [
    "submid = pd.DataFrame({'description': test[\"description\"]})\n",
    "submission = pd.concat([submid, pd.DataFrame(preds, columns = label_cols)], axis=1)"
   ]
  },
  {
   "cell_type": "code",
   "execution_count": 61,
   "metadata": {},
   "outputs": [
    {
     "data": {
      "text/html": [
       "<div>\n",
       "<style scoped>\n",
       "    .dataframe tbody tr th:only-of-type {\n",
       "        vertical-align: middle;\n",
       "    }\n",
       "\n",
       "    .dataframe tbody tr th {\n",
       "        vertical-align: top;\n",
       "    }\n",
       "\n",
       "    .dataframe thead th {\n",
       "        text-align: right;\n",
       "    }\n",
       "</style>\n",
       "<table border=\"1\" class=\"dataframe\">\n",
       "  <thead>\n",
       "    <tr style=\"text-align: right;\">\n",
       "      <th></th>\n",
       "      <th>description</th>\n",
       "      <th>american football</th>\n",
       "      <th>athletics</th>\n",
       "      <th>baseball</th>\n",
       "      <th>baseball &amp; softball</th>\n",
       "      <th>baseball / softball</th>\n",
       "      <th>basketball</th>\n",
       "      <th>bekleidung</th>\n",
       "      <th>boxen</th>\n",
       "      <th>boxing</th>\n",
       "      <th>...</th>\n",
       "      <th>training</th>\n",
       "      <th>training &amp; gym</th>\n",
       "      <th>ufc</th>\n",
       "      <th>volleyball</th>\n",
       "      <th>walking</th>\n",
       "      <th>wandern</th>\n",
       "      <th>weightlifting</th>\n",
       "      <th>wrestling</th>\n",
       "      <th>yoga</th>\n",
       "      <th>yoga &amp; studio</th>\n",
       "    </tr>\n",
       "  </thead>\n",
       "  <tbody>\n",
       "    <tr>\n",
       "      <th>0</th>\n",
       "      <td>adidas dieser klassische fußballschuh überzeug...</td>\n",
       "      <td>0.000049</td>\n",
       "      <td>0.000030</td>\n",
       "      <td>0.000083</td>\n",
       "      <td>0.000033</td>\n",
       "      <td>0.000037</td>\n",
       "      <td>0.001741</td>\n",
       "      <td>0.000042</td>\n",
       "      <td>0.000059</td>\n",
       "      <td>0.000037</td>\n",
       "      <td>...</td>\n",
       "      <td>0.001697</td>\n",
       "      <td>0.000060</td>\n",
       "      <td>0.000028</td>\n",
       "      <td>0.000092</td>\n",
       "      <td>0.000144</td>\n",
       "      <td>0.000041</td>\n",
       "      <td>0.000030</td>\n",
       "      <td>0.000030</td>\n",
       "      <td>0.000288</td>\n",
       "      <td>0.000040</td>\n",
       "    </tr>\n",
       "    <tr>\n",
       "      <th>1</th>\n",
       "      <td>adidas hier wird einem legendären fußballschuh...</td>\n",
       "      <td>0.000038</td>\n",
       "      <td>0.000031</td>\n",
       "      <td>0.000079</td>\n",
       "      <td>0.000034</td>\n",
       "      <td>0.000042</td>\n",
       "      <td>0.001244</td>\n",
       "      <td>0.000030</td>\n",
       "      <td>0.000073</td>\n",
       "      <td>0.000038</td>\n",
       "      <td>...</td>\n",
       "      <td>0.001934</td>\n",
       "      <td>0.000061</td>\n",
       "      <td>0.000031</td>\n",
       "      <td>0.000104</td>\n",
       "      <td>0.000051</td>\n",
       "      <td>0.000031</td>\n",
       "      <td>0.000031</td>\n",
       "      <td>0.000031</td>\n",
       "      <td>0.000247</td>\n",
       "      <td>0.000049</td>\n",
       "    </tr>\n",
       "    <tr>\n",
       "      <th>2</th>\n",
       "      <td>adidas ein fußballschuh mit tf-sohle und klass...</td>\n",
       "      <td>0.000040</td>\n",
       "      <td>0.000031</td>\n",
       "      <td>0.000084</td>\n",
       "      <td>0.000032</td>\n",
       "      <td>0.000043</td>\n",
       "      <td>0.001714</td>\n",
       "      <td>0.000036</td>\n",
       "      <td>0.000064</td>\n",
       "      <td>0.000042</td>\n",
       "      <td>...</td>\n",
       "      <td>0.004290</td>\n",
       "      <td>0.000059</td>\n",
       "      <td>0.000031</td>\n",
       "      <td>0.000081</td>\n",
       "      <td>0.000054</td>\n",
       "      <td>0.000049</td>\n",
       "      <td>0.000034</td>\n",
       "      <td>0.000033</td>\n",
       "      <td>0.000321</td>\n",
       "      <td>0.000039</td>\n",
       "    </tr>\n",
       "    <tr>\n",
       "      <th>3</th>\n",
       "      <td>adidas ein fußballklassiker feiert sein reviva...</td>\n",
       "      <td>0.000038</td>\n",
       "      <td>0.000032</td>\n",
       "      <td>0.000079</td>\n",
       "      <td>0.000031</td>\n",
       "      <td>0.000037</td>\n",
       "      <td>0.001588</td>\n",
       "      <td>0.000037</td>\n",
       "      <td>0.000043</td>\n",
       "      <td>0.000036</td>\n",
       "      <td>...</td>\n",
       "      <td>0.000883</td>\n",
       "      <td>0.000062</td>\n",
       "      <td>0.000029</td>\n",
       "      <td>0.000101</td>\n",
       "      <td>0.000147</td>\n",
       "      <td>0.000034</td>\n",
       "      <td>0.000031</td>\n",
       "      <td>0.000032</td>\n",
       "      <td>0.000310</td>\n",
       "      <td>0.000040</td>\n",
       "    </tr>\n",
       "    <tr>\n",
       "      <th>4</th>\n",
       "      <td>adidas dieser basketball begleitet dich das ga...</td>\n",
       "      <td>0.000042</td>\n",
       "      <td>0.000037</td>\n",
       "      <td>0.000085</td>\n",
       "      <td>0.000039</td>\n",
       "      <td>0.000043</td>\n",
       "      <td>0.356800</td>\n",
       "      <td>0.000062</td>\n",
       "      <td>0.000057</td>\n",
       "      <td>0.000053</td>\n",
       "      <td>...</td>\n",
       "      <td>0.005008</td>\n",
       "      <td>0.000092</td>\n",
       "      <td>0.000037</td>\n",
       "      <td>0.000102</td>\n",
       "      <td>0.000056</td>\n",
       "      <td>0.000062</td>\n",
       "      <td>0.000040</td>\n",
       "      <td>0.000037</td>\n",
       "      <td>0.000270</td>\n",
       "      <td>0.000043</td>\n",
       "    </tr>\n",
       "  </tbody>\n",
       "</table>\n",
       "<p>5 rows × 75 columns</p>\n",
       "</div>"
      ],
      "text/plain": [
       "                                         description  american football  \\\n",
       "0  adidas dieser klassische fußballschuh überzeug...           0.000049   \n",
       "1  adidas hier wird einem legendären fußballschuh...           0.000038   \n",
       "2  adidas ein fußballschuh mit tf-sohle und klass...           0.000040   \n",
       "3  adidas ein fußballklassiker feiert sein reviva...           0.000038   \n",
       "4  adidas dieser basketball begleitet dich das ga...           0.000042   \n",
       "\n",
       "   athletics  baseball  baseball & softball  baseball / softball  basketball  \\\n",
       "0   0.000030  0.000083             0.000033             0.000037    0.001741   \n",
       "1   0.000031  0.000079             0.000034             0.000042    0.001244   \n",
       "2   0.000031  0.000084             0.000032             0.000043    0.001714   \n",
       "3   0.000032  0.000079             0.000031             0.000037    0.001588   \n",
       "4   0.000037  0.000085             0.000039             0.000043    0.356800   \n",
       "\n",
       "   bekleidung     boxen    boxing      ...        training  training & gym  \\\n",
       "0    0.000042  0.000059  0.000037      ...        0.001697        0.000060   \n",
       "1    0.000030  0.000073  0.000038      ...        0.001934        0.000061   \n",
       "2    0.000036  0.000064  0.000042      ...        0.004290        0.000059   \n",
       "3    0.000037  0.000043  0.000036      ...        0.000883        0.000062   \n",
       "4    0.000062  0.000057  0.000053      ...        0.005008        0.000092   \n",
       "\n",
       "        ufc  volleyball   walking   wandern  weightlifting  wrestling  \\\n",
       "0  0.000028    0.000092  0.000144  0.000041       0.000030   0.000030   \n",
       "1  0.000031    0.000104  0.000051  0.000031       0.000031   0.000031   \n",
       "2  0.000031    0.000081  0.000054  0.000049       0.000034   0.000033   \n",
       "3  0.000029    0.000101  0.000147  0.000034       0.000031   0.000032   \n",
       "4  0.000037    0.000102  0.000056  0.000062       0.000040   0.000037   \n",
       "\n",
       "       yoga  yoga & studio  \n",
       "0  0.000288       0.000040  \n",
       "1  0.000247       0.000049  \n",
       "2  0.000321       0.000039  \n",
       "3  0.000310       0.000040  \n",
       "4  0.000270       0.000043  \n",
       "\n",
       "[5 rows x 75 columns]"
      ]
     },
     "execution_count": 61,
     "metadata": {},
     "output_type": "execute_result"
    }
   ],
   "source": [
    "submission.head()"
   ]
  },
  {
   "cell_type": "code",
   "execution_count": 62,
   "metadata": {},
   "outputs": [],
   "source": [
    "final_pred = pd.concat([submission, test_subBrand.str.lower()],axis = 1)"
   ]
  },
  {
   "cell_type": "code",
   "execution_count": 63,
   "metadata": {},
   "outputs": [
    {
     "data": {
      "text/plain": [
       "lifestyle               6982\n",
       "training                6132\n",
       "running                 3872\n",
       "freizeit                2813\n",
       "football                2232\n",
       "golf                    1957\n",
       "basketball              1793\n",
       "fitness & training      1419\n",
       "fußball                 1222\n",
       "soccer                   902\n",
       "laufen                   852\n",
       "run                      760\n",
       "yoga                     733\n",
       "tennis                   722\n",
       "to + from                482\n",
       "baseball                 463\n",
       "skateboarding            444\n",
       "training & gym           434\n",
       "surfing                  321\n",
       "outdoor                  249\n",
       "motorsport               218\n",
       "gym & training           196\n",
       "combat                   163\n",
       "fussball                 162\n",
       "fitness                  135\n",
       "hockey                   119\n",
       "surf                     110\n",
       "rugby                    108\n",
       "studio                    96\n",
       "surf & swimming           95\n",
       "                        ... \n",
       "court                     22\n",
       "field hockey              21\n",
       "trail running             21\n",
       "padel                     15\n",
       "wrestling                 15\n",
       "cycling                   14\n",
       "tanzen                    13\n",
       "athletics                 13\n",
       "ufc                       13\n",
       "leichtathletik            13\n",
       "radfahren                 13\n",
       "boxen                     12\n",
       "baseball & softball       10\n",
       "track-and-field            8\n",
       "track & field              8\n",
       "gymnastics                 8\n",
       "feldhockey                 7\n",
       "snowboarding               6\n",
       "sideline                   4\n",
       "crossfit                   3\n",
       "squash & badminton         2\n",
       "squash und badminton       2\n",
       "weightlifting              2\n",
       "gewichtheben               2\n",
       "ringen                     1\n",
       "not applicable             1\n",
       "spinning                   1\n",
       "mma                        1\n",
       "ice hockey                 1\n",
       "footwear                   1\n",
       "Name: subBrand, Length: 84, dtype: int64"
      ]
     },
     "execution_count": 63,
     "metadata": {},
     "output_type": "execute_result"
    }
   ],
   "source": [
    "test_subBrand.str.lower().value_counts()"
   ]
  },
  {
   "cell_type": "code",
   "execution_count": 64,
   "metadata": {},
   "outputs": [],
   "source": [
    "final_pred[\"Predictions\"] = final_pred[label_cols].idxmax(axis = 1)"
   ]
  },
  {
   "cell_type": "code",
   "execution_count": 65,
   "metadata": {},
   "outputs": [],
   "source": [
    "from mlxtend.evaluate import confusion_matrix\n",
    "\n",
    "y_target =    final_pred.subBrand\n",
    "y_predicted = final_pred.Predictions\n",
    "\n",
    "cm = confusion_matrix(y_target=y_target, \n",
    "                      y_predicted=y_predicted, \n",
    "                      binary=False)"
   ]
  },
  {
   "cell_type": "code",
   "execution_count": 66,
   "metadata": {},
   "outputs": [
    {
     "data": {
      "image/png": "[encoded data removed]",
      "text/plain": [
       "<Figure size 432x288 with 1 Axes>"
      ]
     },
     "metadata": {},
     "output_type": "display_data"
    }
   ],
   "source": [
    "import matplotlib.pyplot as plt\n",
    "from mlxtend.plotting import plot_confusion_matrix\n",
    "import numpy as np\n",
    "\n",
    "fig, ax = plot_confusion_matrix(conf_mat=cm)\n",
    "plt.show()"
   ]
  },
  {
   "cell_type": "code",
   "execution_count": 69,
   "metadata": {},
   "outputs": [
    {
     "name": "stdout",
     "output_type": "stream",
     "text": [
      "Accuracy Score : 0.9470872887854669\n"
     ]
    },
    {
     "name": "stderr",
     "output_type": "stream",
     "text": [
      "C:\\Users\\narendran.thesma\\AppData\\Local\\Continuum\\anaconda3\\lib\\site-packages\\sklearn\\metrics\\classification.py:1135: UndefinedMetricWarning: F-score is ill-defined and being set to 0.0 in labels with no predicted samples.\n",
      "  'precision', 'predicted', average, warn_for)\n"
     ]
    },
    {
     "name": "stdout",
     "output_type": "stream",
     "text": [
      "F1 Score: 0.7532938635854075\n",
      "Precision: 0.7844135489622298\n",
      "Recall: 0.7362466836147791\n"
     ]
    },
    {
     "name": "stderr",
     "output_type": "stream",
     "text": [
      "C:\\Users\\narendran.thesma\\AppData\\Local\\Continuum\\anaconda3\\lib\\site-packages\\sklearn\\metrics\\classification.py:1135: UndefinedMetricWarning: Precision is ill-defined and being set to 0.0 in labels with no predicted samples.\n",
      "  'precision', 'predicted', average, warn_for)\n"
     ]
    }
   ],
   "source": [
    "print(f'Accuracy Score : {accuracy_score(final_pred.subBrand, final_pred.Predictions)}')\n",
    "print(f'F1 Score: {f1_score(final_pred.subBrand, final_pred.Predictions, average=\"macro\")}')\n",
    "print(f'Precision: {precision_score(final_pred.subBrand, final_pred.Predictions, average=\"macro\")}')\n",
    "print(f'Recall: {recall_score(final_pred.subBrand, final_pred.Predictions, average=\"macro\")}')"
   ]
  },
  {
   "cell_type": "code",
   "execution_count": 88,
   "metadata": {},
   "outputs": [],
   "source": [
    "#final_pred.to_csv(\"final_output_SubBrand_v4.csv\", index_label=False, index=False)"
   ]
  },
  {
   "cell_type": "code",
   "execution_count": 83,
   "metadata": {},
   "outputs": [
    {
     "data": {
      "text/plain": [
       "20860"
      ]
     },
     "execution_count": 83,
     "metadata": {},
     "output_type": "execute_result"
    }
   ],
   "source": [
    "len(final_pred)"
   ]
  },
  {
   "cell_type": "code",
   "execution_count": 51,
   "metadata": {},
   "outputs": [],
   "source": [
    "#test_subBrand"
   ]
  },
  {
   "cell_type": "code",
   "execution_count": 52,
   "metadata": {},
   "outputs": [
    {
     "data": {
      "text/plain": [
       "15062"
      ]
     },
     "execution_count": 52,
     "metadata": {},
     "output_type": "execute_result"
    }
   ],
   "source": [
    "len(submission)"
   ]
  },
  {
   "cell_type": "code",
   "execution_count": 54,
   "metadata": {},
   "outputs": [],
   "source": [
    "#final_pred.isnull().sum()"
   ]
  },
  {
   "cell_type": "code",
   "execution_count": null,
   "metadata": {},
   "outputs": [],
   "source": []
  }
 ],
 "metadata": {
  "kernelspec": {
   "display_name": "Python 3",
   "language": "python",
   "name": "python3"
  },
  "language_info": {
   "codemirror_mode": {
    "name": "ipython",
    "version": 3
   },
   "file_extension": ".py",
   "mimetype": "text/x-python",
   "name": "python",
   "nbconvert_exporter": "python",
   "pygments_lexer": "ipython3",
   "version": "3.6.5"
  }
 },
 "nbformat": 4,
 "nbformat_minor": 2
}

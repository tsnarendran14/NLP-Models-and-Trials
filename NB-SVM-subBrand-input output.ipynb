{
 "cells": [
  {
   "cell_type": "code",
   "execution_count": 2,
   "metadata": {},
   "outputs": [],
   "source": [
    "import numpy as np\n",
    "import pandas as pd\n",
    "import matplotlib.pyplot as plt\n",
    "import seaborn as sns\n",
    "import time\n",
    "import nltk\n",
    "from nltk.stem.porter import PorterStemmer\n",
    "from sklearn.feature_extraction.text import CountVectorizer, TfidfVectorizer\n",
    "from sklearn.metrics import accuracy_score, f1_score, precision_score, recall_score, classification_report, confusion_matrix\n",
    "\n",
    "%matplotlib inline"
   ]
  },
  {
   "cell_type": "code",
   "execution_count": 3,
   "metadata": {},
   "outputs": [
    {
     "name": "stderr",
     "output_type": "stream",
     "text": [
      "C:\\Users\\narendran.thesma\\AppData\\Local\\Continuum\\anaconda3\\lib\\site-packages\\IPython\\core\\interactiveshell.py:2785: DtypeWarning: Columns (20,24,25,27,34,42) have mixed types. Specify dtype option on import or set low_memory=False.\n",
      "  interactivity=interactivity, compiler=compiler, result=result)\n"
     ]
    }
   ],
   "source": [
    "#nltk.download('punkt')\n",
    "data = pd.read_csv(\"D:/GPMT/Merged/JPN-1/data_joined_deu.csv\", encoding = \"utf-8\")"
   ]
  },
  {
   "cell_type": "code",
   "execution_count": 4,
   "metadata": {},
   "outputs": [
    {
     "data": {
      "text/html": [
       "<div>\n",
       "<style scoped>\n",
       "    .dataframe tbody tr th:only-of-type {\n",
       "        vertical-align: middle;\n",
       "    }\n",
       "\n",
       "    .dataframe tbody tr th {\n",
       "        vertical-align: top;\n",
       "    }\n",
       "\n",
       "    .dataframe thead th {\n",
       "        text-align: right;\n",
       "    }\n",
       "</style>\n",
       "<table border=\"1\" class=\"dataframe\">\n",
       "  <thead>\n",
       "    <tr style=\"text-align: right;\">\n",
       "      <th></th>\n",
       "      <th>Unnamed: 0</th>\n",
       "      <th>date</th>\n",
       "      <th>companyName</th>\n",
       "      <th>currency</th>\n",
       "      <th>language</th>\n",
       "      <th>countryName</th>\n",
       "      <th>distributorName</th>\n",
       "      <th>ageGroup</th>\n",
       "      <th>articleId</th>\n",
       "      <th>colors</th>\n",
       "      <th>...</th>\n",
       "      <th>CURRENT_PRICE_IN_EUR_OUTPUT</th>\n",
       "      <th>INITIAL_PRICE_IN_SELECTED_CURRENCY_OUTPUT</th>\n",
       "      <th>CURRENT_PRICE_IN_SELECTED_CURRENCY_OUTPUT</th>\n",
       "      <th>SELECTED_CURRENCY_OUTPUT</th>\n",
       "      <th>PRODUCT_INTRODUCTION_DATE_OUTPUT</th>\n",
       "      <th>DISCOUNTED_SINCE_OUTPUT</th>\n",
       "      <th>PRODUCT_EXIT_DATE_OUTPUT</th>\n",
       "      <th>PRODUCT_DESCRIPTION_OUTPUT</th>\n",
       "      <th>PRODUCT_URL_OUTPUT</th>\n",
       "      <th>IMAGE_SERVER_URL_OUTPUT</th>\n",
       "    </tr>\n",
       "  </thead>\n",
       "  <tbody>\n",
       "    <tr>\n",
       "      <th>0</th>\n",
       "      <td>0</td>\n",
       "      <td>03/17/2016</td>\n",
       "      <td>adidas</td>\n",
       "      <td>JPY</td>\n",
       "      <td>ja-JP</td>\n",
       "      <td>jpn</td>\n",
       "      <td>own ecom</td>\n",
       "      <td>adults</td>\n",
       "      <td>AA0647</td>\n",
       "      <td>ホワイト</td>\n",
       "      <td>...</td>\n",
       "      <td>24.3</td>\n",
       "      <td>24.3</td>\n",
       "      <td>24.3</td>\n",
       "      <td>EUR</td>\n",
       "      <td>2/29/2016</td>\n",
       "      <td>9/18/2017</td>\n",
       "      <td>11/21/2017</td>\n",
       "      <td>3æ¬ç·ã®ãã¶ã¤ã³ãæ°ãããªã£ãã¬...</td>\n",
       "      <td>https://shop.adidas.jp/products/AA0647/</td>\n",
       "      <td>http://usporamap287.am.adsint.biz/zoomimages/1...</td>\n",
       "    </tr>\n",
       "    <tr>\n",
       "      <th>1</th>\n",
       "      <td>1</td>\n",
       "      <td>03/22/2016</td>\n",
       "      <td>adidas</td>\n",
       "      <td>JPY</td>\n",
       "      <td>ja-JP</td>\n",
       "      <td>jpn</td>\n",
       "      <td>own ecom</td>\n",
       "      <td>adults</td>\n",
       "      <td>AA0647</td>\n",
       "      <td>ホワイト</td>\n",
       "      <td>...</td>\n",
       "      <td>24.3</td>\n",
       "      <td>24.3</td>\n",
       "      <td>24.3</td>\n",
       "      <td>EUR</td>\n",
       "      <td>2/29/2016</td>\n",
       "      <td>9/18/2017</td>\n",
       "      <td>11/21/2017</td>\n",
       "      <td>3æ¬ç·ã®ãã¶ã¤ã³ãæ°ãããªã£ãã¬...</td>\n",
       "      <td>https://shop.adidas.jp/products/AA0647/</td>\n",
       "      <td>http://usporamap287.am.adsint.biz/zoomimages/1...</td>\n",
       "    </tr>\n",
       "    <tr>\n",
       "      <th>2</th>\n",
       "      <td>2</td>\n",
       "      <td>03/30/2016</td>\n",
       "      <td>adidas</td>\n",
       "      <td>JPY</td>\n",
       "      <td>ja-JP</td>\n",
       "      <td>jpn</td>\n",
       "      <td>own ecom</td>\n",
       "      <td>adults</td>\n",
       "      <td>AA0647</td>\n",
       "      <td>ホワイト</td>\n",
       "      <td>...</td>\n",
       "      <td>24.3</td>\n",
       "      <td>24.3</td>\n",
       "      <td>24.3</td>\n",
       "      <td>EUR</td>\n",
       "      <td>2/29/2016</td>\n",
       "      <td>9/18/2017</td>\n",
       "      <td>11/21/2017</td>\n",
       "      <td>3æ¬ç·ã®ãã¶ã¤ã³ãæ°ãããªã£ãã¬...</td>\n",
       "      <td>https://shop.adidas.jp/products/AA0647/</td>\n",
       "      <td>http://usporamap287.am.adsint.biz/zoomimages/1...</td>\n",
       "    </tr>\n",
       "    <tr>\n",
       "      <th>3</th>\n",
       "      <td>3</td>\n",
       "      <td>04/06/2016</td>\n",
       "      <td>adidas</td>\n",
       "      <td>JPY</td>\n",
       "      <td>ja-JP</td>\n",
       "      <td>jpn</td>\n",
       "      <td>own ecom</td>\n",
       "      <td>adults</td>\n",
       "      <td>AA0647</td>\n",
       "      <td>ホワイト</td>\n",
       "      <td>...</td>\n",
       "      <td>24.3</td>\n",
       "      <td>24.3</td>\n",
       "      <td>24.3</td>\n",
       "      <td>EUR</td>\n",
       "      <td>2/29/2016</td>\n",
       "      <td>9/18/2017</td>\n",
       "      <td>11/21/2017</td>\n",
       "      <td>3æ¬ç·ã®ãã¶ã¤ã³ãæ°ãããªã£ãã¬...</td>\n",
       "      <td>https://shop.adidas.jp/products/AA0647/</td>\n",
       "      <td>http://usporamap287.am.adsint.biz/zoomimages/1...</td>\n",
       "    </tr>\n",
       "    <tr>\n",
       "      <th>4</th>\n",
       "      <td>4</td>\n",
       "      <td>04/14/2016</td>\n",
       "      <td>adidas</td>\n",
       "      <td>JPY</td>\n",
       "      <td>ja-JP</td>\n",
       "      <td>jpn</td>\n",
       "      <td>own ecom</td>\n",
       "      <td>adults</td>\n",
       "      <td>AA0647</td>\n",
       "      <td>ホワイト</td>\n",
       "      <td>...</td>\n",
       "      <td>24.3</td>\n",
       "      <td>24.3</td>\n",
       "      <td>24.3</td>\n",
       "      <td>EUR</td>\n",
       "      <td>2/29/2016</td>\n",
       "      <td>9/18/2017</td>\n",
       "      <td>11/21/2017</td>\n",
       "      <td>3æ¬ç·ã®ãã¶ã¤ã³ãæ°ãããªã£ãã¬...</td>\n",
       "      <td>https://shop.adidas.jp/products/AA0647/</td>\n",
       "      <td>http://usporamap287.am.adsint.biz/zoomimages/1...</td>\n",
       "    </tr>\n",
       "  </tbody>\n",
       "</table>\n",
       "<p>5 rows × 62 columns</p>\n",
       "</div>"
      ],
      "text/plain": [
       "   Unnamed: 0        date companyName currency language countryName  \\\n",
       "0           0  03/17/2016      adidas      JPY    ja-JP         jpn   \n",
       "1           1  03/22/2016      adidas      JPY    ja-JP         jpn   \n",
       "2           2  03/30/2016      adidas      JPY    ja-JP         jpn   \n",
       "3           3  04/06/2016      adidas      JPY    ja-JP         jpn   \n",
       "4           4  04/14/2016      adidas      JPY    ja-JP         jpn   \n",
       "\n",
       "  distributorName ageGroup articleId colors  \\\n",
       "0        own ecom   adults    AA0647   ホワイト   \n",
       "1        own ecom   adults    AA0647   ホワイト   \n",
       "2        own ecom   adults    AA0647   ホワイト   \n",
       "3        own ecom   adults    AA0647   ホワイト   \n",
       "4        own ecom   adults    AA0647   ホワイト   \n",
       "\n",
       "                         ...                          \\\n",
       "0                        ...                           \n",
       "1                        ...                           \n",
       "2                        ...                           \n",
       "3                        ...                           \n",
       "4                        ...                           \n",
       "\n",
       "  CURRENT_PRICE_IN_EUR_OUTPUT  INITIAL_PRICE_IN_SELECTED_CURRENCY_OUTPUT  \\\n",
       "0                        24.3                                       24.3   \n",
       "1                        24.3                                       24.3   \n",
       "2                        24.3                                       24.3   \n",
       "3                        24.3                                       24.3   \n",
       "4                        24.3                                       24.3   \n",
       "\n",
       "   CURRENT_PRICE_IN_SELECTED_CURRENCY_OUTPUT SELECTED_CURRENCY_OUTPUT  \\\n",
       "0                                       24.3                      EUR   \n",
       "1                                       24.3                      EUR   \n",
       "2                                       24.3                      EUR   \n",
       "3                                       24.3                      EUR   \n",
       "4                                       24.3                      EUR   \n",
       "\n",
       "  PRODUCT_INTRODUCTION_DATE_OUTPUT DISCOUNTED_SINCE_OUTPUT  \\\n",
       "0                        2/29/2016               9/18/2017   \n",
       "1                        2/29/2016               9/18/2017   \n",
       "2                        2/29/2016               9/18/2017   \n",
       "3                        2/29/2016               9/18/2017   \n",
       "4                        2/29/2016               9/18/2017   \n",
       "\n",
       "  PRODUCT_EXIT_DATE_OUTPUT                         PRODUCT_DESCRIPTION_OUTPUT  \\\n",
       "0               11/21/2017  3æ¬ç·ã®ãã¶ã¤ã³ãæ°ãããªã£ãã¬...   \n",
       "1               11/21/2017  3æ¬ç·ã®ãã¶ã¤ã³ãæ°ãããªã£ãã¬...   \n",
       "2               11/21/2017  3æ¬ç·ã®ãã¶ã¤ã³ãæ°ãããªã£ãã¬...   \n",
       "3               11/21/2017  3æ¬ç·ã®ãã¶ã¤ã³ãæ°ãããªã£ãã¬...   \n",
       "4               11/21/2017  3æ¬ç·ã®ãã¶ã¤ã³ãæ°ãããªã£ãã¬...   \n",
       "\n",
       "                        PRODUCT_URL_OUTPUT  \\\n",
       "0  https://shop.adidas.jp/products/AA0647/   \n",
       "1  https://shop.adidas.jp/products/AA0647/   \n",
       "2  https://shop.adidas.jp/products/AA0647/   \n",
       "3  https://shop.adidas.jp/products/AA0647/   \n",
       "4  https://shop.adidas.jp/products/AA0647/   \n",
       "\n",
       "                             IMAGE_SERVER_URL_OUTPUT  \n",
       "0  http://usporamap287.am.adsint.biz/zoomimages/1...  \n",
       "1  http://usporamap287.am.adsint.biz/zoomimages/1...  \n",
       "2  http://usporamap287.am.adsint.biz/zoomimages/1...  \n",
       "3  http://usporamap287.am.adsint.biz/zoomimages/1...  \n",
       "4  http://usporamap287.am.adsint.biz/zoomimages/1...  \n",
       "\n",
       "[5 rows x 62 columns]"
      ]
     },
     "execution_count": 4,
     "metadata": {},
     "output_type": "execute_result"
    }
   ],
   "source": [
    "data.head()"
   ]
  },
  {
   "cell_type": "code",
   "execution_count": 8,
   "metadata": {},
   "outputs": [
    {
     "data": {
      "text/plain": [
       "Unnamed: 0                                         0\n",
       "date                                               0\n",
       "companyName                                        0\n",
       "currency                                           0\n",
       "language                                           0\n",
       "countryName                                        0\n",
       "distributorName                                    0\n",
       "ageGroup                                        2025\n",
       "articleId                                          0\n",
       "colors                                         30701\n",
       "colorGroup                                     22128\n",
       "consumerRating                                     0\n",
       "currentPrice                                       0\n",
       "description                                    32939\n",
       "discountedSince                               957917\n",
       "division                                           0\n",
       "gender                                          2157\n",
       "group                                         107530\n",
       "imageUrl                                         336\n",
       "initialPrice                                       0\n",
       "modelNumber                                        0\n",
       "name4                                             19\n",
       "ped                                          1906518\n",
       "pid                                                0\n",
       "sportsCategory                                820117\n",
       "subBrand                                      606717\n",
       "technologies                                 1178510\n",
       "type                                         1830787\n",
       "url                                                0\n",
       "key                                                0\n",
       "                                              ...   \n",
       "DISTRIBUTOR_OUTPUT                                 0\n",
       "ARTICLE_ID_OUTPUT                                  0\n",
       "MODEL_NUMBER_OUTPUT                                0\n",
       "ARTICLE_NAME_OUTPUT                              183\n",
       "SUBBRAND_OUTPUT                                    0\n",
       "SPORTS_CATEGORY_OUTPUT                             0\n",
       "PRODUCT_DIVISION_OUTPUT                            0\n",
       "PRODUCT_GROUP_OUTPUT                               0\n",
       "PRODUCT_TYPE_OUTPUT                                0\n",
       "FRANCHISE_OUTPUT                                 203\n",
       "TECHNOLOGIES_OUTPUT                          1267435\n",
       "COLOUR_GROUP_OUTPUT                                0\n",
       "COLOUR_OUTPUT                                  33789\n",
       "GENDER_OUTPUT                                      0\n",
       "AGE_GROUP_OUTPUT                                   0\n",
       "CONSUMER_RATING_OUTPUT                             0\n",
       "INITIAL_PRICE_IN_LOCAL_CURRENCY_OUTPUT             0\n",
       "CURRENT_PRICE_IN_LOCAL_CURRENCY_OUTPUT             0\n",
       "LOCAL_CURRENCY_OUTPUT                              0\n",
       "INITIAL_PRICE_IN_EUR_OUTPUT                        0\n",
       "CURRENT_PRICE_IN_EUR_OUTPUT                        0\n",
       "INITIAL_PRICE_IN_SELECTED_CURRENCY_OUTPUT          0\n",
       "CURRENT_PRICE_IN_SELECTED_CURRENCY_OUTPUT          0\n",
       "SELECTED_CURRENCY_OUTPUT                           0\n",
       "PRODUCT_INTRODUCTION_DATE_OUTPUT                   0\n",
       "DISCOUNTED_SINCE_OUTPUT                            0\n",
       "PRODUCT_EXIT_DATE_OUTPUT                           0\n",
       "PRODUCT_DESCRIPTION_OUTPUT                    245738\n",
       "PRODUCT_URL_OUTPUT                                 0\n",
       "IMAGE_SERVER_URL_OUTPUT                            0\n",
       "Length: 62, dtype: int64"
      ]
     },
     "execution_count": 8,
     "metadata": {},
     "output_type": "execute_result"
    }
   ],
   "source": [
    "data.isnull().sum()"
   ]
  },
  {
   "cell_type": "code",
   "execution_count": 6,
   "metadata": {},
   "outputs": [],
   "source": [
    "#data.key"
   ]
  },
  {
   "cell_type": "code",
   "execution_count": 6,
   "metadata": {},
   "outputs": [
    {
     "data": {
      "text/plain": [
       "Index(['Unnamed: 0', 'date', 'companyName', 'currency', 'language',\n",
       "       'countryName', 'distributorName', 'ageGroup', 'articleId', 'colors',\n",
       "       'colorGroup', 'consumerRating', 'currentPrice', 'description',\n",
       "       'discountedSince', 'division', 'gender', 'group', 'imageUrl',\n",
       "       'initialPrice', 'modelNumber', 'name4', 'ped', 'pid', 'sportsCategory',\n",
       "       'subBrand', 'technologies', 'type', 'url', 'key', 'COMPANY',\n",
       "       'COUNTRY_OUTPUT', 'DISTRIBUTOR_OUTPUT', 'ARTICLE_ID_OUTPUT',\n",
       "       'MODEL_NUMBER_OUTPUT', 'ARTICLE_NAME_OUTPUT', 'SUBBRAND_OUTPUT',\n",
       "       'SPORTS_CATEGORY_OUTPUT', 'PRODUCT_DIVISION_OUTPUT',\n",
       "       'PRODUCT_GROUP_OUTPUT', 'PRODUCT_TYPE_OUTPUT', 'FRANCHISE_OUTPUT',\n",
       "       'TECHNOLOGIES_OUTPUT', 'COLOUR_GROUP_OUTPUT', 'COLOUR_OUTPUT',\n",
       "       'GENDER_OUTPUT', 'AGE_GROUP_OUTPUT', 'CONSUMER_RATING_OUTPUT',\n",
       "       'INITIAL_PRICE_IN_LOCAL_CURRENCY_OUTPUT',\n",
       "       'CURRENT_PRICE_IN_LOCAL_CURRENCY_OUTPUT', 'LOCAL_CURRENCY_OUTPUT',\n",
       "       'INITIAL_PRICE_IN_EUR_OUTPUT', 'CURRENT_PRICE_IN_EUR_OUTPUT',\n",
       "       'INITIAL_PRICE_IN_SELECTED_CURRENCY_OUTPUT',\n",
       "       'CURRENT_PRICE_IN_SELECTED_CURRENCY_OUTPUT', 'SELECTED_CURRENCY_OUTPUT',\n",
       "       'PRODUCT_INTRODUCTION_DATE_OUTPUT', 'DISCOUNTED_SINCE_OUTPUT',\n",
       "       'PRODUCT_EXIT_DATE_OUTPUT', 'PRODUCT_DESCRIPTION_OUTPUT',\n",
       "       'PRODUCT_URL_OUTPUT', 'IMAGE_SERVER_URL_OUTPUT'],\n",
       "      dtype='object')"
      ]
     },
     "execution_count": 6,
     "metadata": {},
     "output_type": "execute_result"
    }
   ],
   "source": [
    "data.columns"
   ]
  },
  {
   "cell_type": "code",
   "execution_count": 7,
   "metadata": {},
   "outputs": [],
   "source": [
    "unique_key = data.loc[:,['articleId', 'companyName', 'countryName', 'distributorName']]"
   ]
  },
  {
   "cell_type": "code",
   "execution_count": 8,
   "metadata": {},
   "outputs": [],
   "source": [
    "unique_key = unique_key.drop_duplicates()"
   ]
  },
  {
   "cell_type": "code",
   "execution_count": 9,
   "metadata": {},
   "outputs": [],
   "source": [
    "unique_key.index = np.arange(0,len(unique_key))"
   ]
  },
  {
   "cell_type": "code",
   "execution_count": 10,
   "metadata": {},
   "outputs": [],
   "source": [
    "unique_key[\"Primary_Key\"] = \"ID_\" + unique_key.index.astype(str)"
   ]
  },
  {
   "cell_type": "code",
   "execution_count": 11,
   "metadata": {},
   "outputs": [
    {
     "data": {
      "text/html": [
       "<div>\n",
       "<style scoped>\n",
       "    .dataframe tbody tr th:only-of-type {\n",
       "        vertical-align: middle;\n",
       "    }\n",
       "\n",
       "    .dataframe tbody tr th {\n",
       "        vertical-align: top;\n",
       "    }\n",
       "\n",
       "    .dataframe thead th {\n",
       "        text-align: right;\n",
       "    }\n",
       "</style>\n",
       "<table border=\"1\" class=\"dataframe\">\n",
       "  <thead>\n",
       "    <tr style=\"text-align: right;\">\n",
       "      <th></th>\n",
       "      <th>articleId</th>\n",
       "      <th>companyName</th>\n",
       "      <th>countryName</th>\n",
       "      <th>distributorName</th>\n",
       "      <th>Primary_Key</th>\n",
       "    </tr>\n",
       "  </thead>\n",
       "  <tbody>\n",
       "    <tr>\n",
       "      <th>0</th>\n",
       "      <td>AA0647</td>\n",
       "      <td>adidas</td>\n",
       "      <td>jpn</td>\n",
       "      <td>own ecom</td>\n",
       "      <td>ID_0</td>\n",
       "    </tr>\n",
       "    <tr>\n",
       "      <th>1</th>\n",
       "      <td>AA0669</td>\n",
       "      <td>adidas</td>\n",
       "      <td>jpn</td>\n",
       "      <td>own ecom</td>\n",
       "      <td>ID_1</td>\n",
       "    </tr>\n",
       "    <tr>\n",
       "      <th>2</th>\n",
       "      <td>AA0670</td>\n",
       "      <td>adidas</td>\n",
       "      <td>jpn</td>\n",
       "      <td>own ecom</td>\n",
       "      <td>ID_2</td>\n",
       "    </tr>\n",
       "    <tr>\n",
       "      <th>3</th>\n",
       "      <td>AA2125</td>\n",
       "      <td>adidas</td>\n",
       "      <td>jpn</td>\n",
       "      <td>own ecom</td>\n",
       "      <td>ID_3</td>\n",
       "    </tr>\n",
       "    <tr>\n",
       "      <th>4</th>\n",
       "      <td>AA5629</td>\n",
       "      <td>adidas</td>\n",
       "      <td>jpn</td>\n",
       "      <td>own ecom</td>\n",
       "      <td>ID_4</td>\n",
       "    </tr>\n",
       "  </tbody>\n",
       "</table>\n",
       "</div>"
      ],
      "text/plain": [
       "  articleId companyName countryName distributorName Primary_Key\n",
       "0    AA0647      adidas         jpn        own ecom        ID_0\n",
       "1    AA0669      adidas         jpn        own ecom        ID_1\n",
       "2    AA0670      adidas         jpn        own ecom        ID_2\n",
       "3    AA2125      adidas         jpn        own ecom        ID_3\n",
       "4    AA5629      adidas         jpn        own ecom        ID_4"
      ]
     },
     "execution_count": 11,
     "metadata": {},
     "output_type": "execute_result"
    }
   ],
   "source": [
    "unique_key.head()"
   ]
  },
  {
   "cell_type": "code",
   "execution_count": 12,
   "metadata": {},
   "outputs": [
    {
     "data": {
      "text/plain": [
       "2008008"
      ]
     },
     "execution_count": 12,
     "metadata": {},
     "output_type": "execute_result"
    }
   ],
   "source": [
    "len(data)"
   ]
  },
  {
   "cell_type": "code",
   "execution_count": 13,
   "metadata": {},
   "outputs": [],
   "source": [
    "data = data.merge(unique_key, how='left', on=['articleId', 'companyName', 'countryName', 'distributorName'])"
   ]
  },
  {
   "cell_type": "code",
   "execution_count": 14,
   "metadata": {},
   "outputs": [],
   "source": [
    "data[\"ID\"] = \"ID_\" + data.index.astype(str)"
   ]
  },
  {
   "cell_type": "code",
   "execution_count": 15,
   "metadata": {},
   "outputs": [
    {
     "data": {
      "text/plain": [
       "array(['ja-JP'], dtype=object)"
      ]
     },
     "execution_count": 15,
     "metadata": {},
     "output_type": "execute_result"
    }
   ],
   "source": [
    "data.language.unique()"
   ]
  },
  {
   "cell_type": "code",
   "execution_count": 16,
   "metadata": {},
   "outputs": [
    {
     "data": {
      "text/plain": [
       "array(['Performance', 'Originals', 'Porsche Design Sport', nan,\n",
       "       'adidas by Stella McCartney', 'neo', 'Sportswear', 'NikeLab',\n",
       "       'Classics', 'Sport Inspired', 'Sport inspired', 'sports inspired'],\n",
       "      dtype=object)"
      ]
     },
     "execution_count": 16,
     "metadata": {},
     "output_type": "execute_result"
    }
   ],
   "source": [
    "data.subBrand.unique()"
   ]
  },
  {
   "cell_type": "code",
   "execution_count": 17,
   "metadata": {},
   "outputs": [],
   "source": [
    "# Filtering US and UK\n",
    "#data = data.loc[data[\"language\"].isin(['de-DE'])]"
   ]
  },
  {
   "cell_type": "code",
   "execution_count": 18,
   "metadata": {},
   "outputs": [],
   "source": [
    "#data.group.unique()"
   ]
  },
  {
   "cell_type": "code",
   "execution_count": 42,
   "metadata": {},
   "outputs": [],
   "source": [
    "data_req = data.loc[:,[\"ID\", \"companyName\", \"description\", \"division\",\"sportsCategory\", \"subBrand\", \"gender\", \"url\", \"ageGroup\", \"distributorName\", \"SUBBRAND_OUTPUT\"]]"
   ]
  },
  {
   "cell_type": "code",
   "execution_count": 43,
   "metadata": {},
   "outputs": [],
   "source": [
    "#data_req = data_req.drop_duplicates()"
   ]
  },
  {
   "cell_type": "code",
   "execution_count": 44,
   "metadata": {},
   "outputs": [
    {
     "data": {
      "text/plain": [
       "2008008"
      ]
     },
     "execution_count": 44,
     "metadata": {},
     "output_type": "execute_result"
    }
   ],
   "source": [
    "len(data_req)"
   ]
  },
  {
   "cell_type": "code",
   "execution_count": 45,
   "metadata": {},
   "outputs": [],
   "source": [
    "data_req_x = data_req.loc[:,[\"ID\", \"companyName\", \"description\", \"division\",\"sportsCategory\", \"subBrand\", \"gender\", \"url\", \"ageGroup\", \"distributorName\"]]\n",
    "data_req_y = data_req.loc[:, [\"SUBBRAND_OUTPUT\"]]"
   ]
  },
  {
   "cell_type": "code",
   "execution_count": 46,
   "metadata": {},
   "outputs": [],
   "source": [
    "data_req_x = data_req_x.fillna(\"unknown\")\n",
    "data_req = pd.concat([data_req_x, data_req_y], axis=1)"
   ]
  },
  {
   "cell_type": "code",
   "execution_count": 47,
   "metadata": {},
   "outputs": [
    {
     "data": {
      "text/plain": [
       "2008008"
      ]
     },
     "execution_count": 47,
     "metadata": {},
     "output_type": "execute_result"
    }
   ],
   "source": [
    "len(data_req)"
   ]
  },
  {
   "cell_type": "code",
   "execution_count": 48,
   "metadata": {},
   "outputs": [],
   "source": [
    "data_req = data_req.dropna()"
   ]
  },
  {
   "cell_type": "code",
   "execution_count": 49,
   "metadata": {},
   "outputs": [],
   "source": [
    "data_req = data_req.drop_duplicates()"
   ]
  },
  {
   "cell_type": "code",
   "execution_count": 50,
   "metadata": {},
   "outputs": [],
   "source": [
    "data_req[\"description_output\"]  = data_req[\"companyName\"] +\" \" + data_req[\"description\"] +\" \" + data_req[\"division\"] +\" \" + data_req[\"sportsCategory\"] +\" \" + data_req[\"subBrand\"]+\" \" + data_req[\"gender\"]+\" \" + data_req[\"url\"]+\" \" + data_req[\"sportsCategory\"]+\" \" + data_req[\"ageGroup\"]+\" \" + data_req[\"distributorName\"]\n",
    "# data_req[\"description\"]  = data_req[\"description\"]+\" \" + data_req[\"url\"]"
   ]
  },
  {
   "cell_type": "code",
   "execution_count": 51,
   "metadata": {},
   "outputs": [],
   "source": [
    "# data_req = data_req.drop([\"companyName\", \"division\",\"sportsCategory\", \"subBrand\", \"gender\", \"url\", \"ageGroup\", \"distributorName\"], axis = 1)\n",
    "# data_req = data_req.drop([\"url\"], axis = 1)"
   ]
  },
  {
   "cell_type": "code",
   "execution_count": 52,
   "metadata": {},
   "outputs": [],
   "source": [
    "#data_req.columns = [\"description\", \"subBrand\"]\n",
    "data_req = data_req.rename(columns= {'subBrand' : 'subBrand_input', 'SUBBRAND_OUTPUT' : 'subBrand', 'description_output' : 'description', 'description' :'description_input'})"
   ]
  },
  {
   "cell_type": "code",
   "execution_count": 53,
   "metadata": {},
   "outputs": [
    {
     "data": {
      "text/plain": [
       "array(['Performance', 'Sport Inspired'], dtype=object)"
      ]
     },
     "execution_count": 53,
     "metadata": {},
     "output_type": "execute_result"
    }
   ],
   "source": [
    "data_req.subBrand.unique()"
   ]
  },
  {
   "cell_type": "code",
   "execution_count": 54,
   "metadata": {},
   "outputs": [
    {
     "data": {
      "text/plain": [
       "2008008"
      ]
     },
     "execution_count": 54,
     "metadata": {},
     "output_type": "execute_result"
    }
   ],
   "source": [
    "len(data_req)"
   ]
  },
  {
   "cell_type": "code",
   "execution_count": 55,
   "metadata": {},
   "outputs": [],
   "source": [
    "data_req.subBrand = data_req.subBrand.str.lower()\n",
    "data_req.description = data_req.description.str.lower()"
   ]
  },
  {
   "cell_type": "code",
   "execution_count": 56,
   "metadata": {},
   "outputs": [],
   "source": [
    "# data_req = data_req.apply(lambda x: x.astype(str).str.lower())"
   ]
  },
  {
   "cell_type": "code",
   "execution_count": 57,
   "metadata": {},
   "outputs": [],
   "source": [
    "# data_req[\"subBrand_input\"] = \"input_\" + data_req[\"subBrand_input\"].astype(str)\n",
    "# data_req[\"division\"] = \"input_\" + data_req[\"division\"].astype(str)\n",
    "# data_req[\"sportsCategory\"] = \"input_\" + data_req[\"sportsCategory\"].astype(str)\n",
    "# data_req[\"gender\"] = \"input_\" + data_req[\"gender\"].astype(str)\n",
    "# data_req[\"ageGroup\"] = \"input_\" + data_req[\"ageGroup\"].astype(str)\n",
    "# data_req[\"distributorName\"] = \"input_\" + data_req[\"distributorName\"].astype(str)"
   ]
  },
  {
   "cell_type": "code",
   "execution_count": 58,
   "metadata": {},
   "outputs": [],
   "source": [
    "# description = data_req.description\n",
    "# subBrand = data_req.subBrand\n",
    "# data_req = data_req.drop([\"description\"], axis=1)"
   ]
  },
  {
   "cell_type": "code",
   "execution_count": 59,
   "metadata": {},
   "outputs": [],
   "source": [
    "# data_req = pd.concat([pd.get_dummies(data_req[col]) for col in data_req], axis=1)"
   ]
  },
  {
   "cell_type": "code",
   "execution_count": 60,
   "metadata": {},
   "outputs": [],
   "source": [
    "# data_req = pd.concat([data_req, subBrand, description], axis=1)"
   ]
  },
  {
   "cell_type": "code",
   "execution_count": 61,
   "metadata": {},
   "outputs": [
    {
     "data": {
      "text/plain": [
       "array(['performance', 'sport inspired'], dtype=object)"
      ]
     },
     "execution_count": 61,
     "metadata": {},
     "output_type": "execute_result"
    }
   ],
   "source": [
    "data_req.subBrand.unique()"
   ]
  },
  {
   "cell_type": "code",
   "execution_count": 62,
   "metadata": {},
   "outputs": [
    {
     "data": {
      "text/plain": [
       "(408.7274587551444, 274.1356321799272, 2629)"
      ]
     },
     "execution_count": 62,
     "metadata": {},
     "output_type": "execute_result"
    }
   ],
   "source": [
    "lens = data_req.description.str.len()\n",
    "lens.mean(), lens.std(), lens.max()"
   ]
  },
  {
   "cell_type": "code",
   "execution_count": 63,
   "metadata": {},
   "outputs": [
    {
     "data": {
      "image/png": "[encoded data removed]",
      "text/plain": [
       "<Figure size 432x288 with 1 Axes>"
      ]
     },
     "metadata": {},
     "output_type": "display_data"
    }
   ],
   "source": [
    "lens.hist();"
   ]
  },
  {
   "cell_type": "code",
   "execution_count": 64,
   "metadata": {},
   "outputs": [],
   "source": [
    "data_req = data_req.dropna()"
   ]
  },
  {
   "cell_type": "code",
   "execution_count": 65,
   "metadata": {},
   "outputs": [
    {
     "data": {
      "text/plain": [
       "2008008"
      ]
     },
     "execution_count": 65,
     "metadata": {},
     "output_type": "execute_result"
    }
   ],
   "source": [
    "len(data_req)"
   ]
  },
  {
   "cell_type": "code",
   "execution_count": 66,
   "metadata": {},
   "outputs": [],
   "source": [
    "one_hot = pd.get_dummies(data_req.subBrand)"
   ]
  },
  {
   "cell_type": "code",
   "execution_count": 67,
   "metadata": {},
   "outputs": [],
   "source": [
    "label_cols = data_req.subBrand.dropna().unique()"
   ]
  },
  {
   "cell_type": "code",
   "execution_count": 68,
   "metadata": {},
   "outputs": [
    {
     "data": {
      "text/plain": [
       "array(['performance', 'sport inspired'], dtype=object)"
      ]
     },
     "execution_count": 68,
     "metadata": {},
     "output_type": "execute_result"
    }
   ],
   "source": [
    "label_cols"
   ]
  },
  {
   "cell_type": "code",
   "execution_count": 69,
   "metadata": {},
   "outputs": [],
   "source": [
    "minCount = 10\n",
    "subBrand_minCount = pd.DataFrame((data_req.subBrand.value_counts() > minCount).reset_index())"
   ]
  },
  {
   "cell_type": "code",
   "execution_count": 70,
   "metadata": {},
   "outputs": [],
   "source": [
    "subBrand_drop = subBrand_minCount.loc[subBrand_minCount[\"subBrand\"] == False]"
   ]
  },
  {
   "cell_type": "code",
   "execution_count": 71,
   "metadata": {},
   "outputs": [
    {
     "data": {
      "text/html": [
       "<div>\n",
       "<style scoped>\n",
       "    .dataframe tbody tr th:only-of-type {\n",
       "        vertical-align: middle;\n",
       "    }\n",
       "\n",
       "    .dataframe tbody tr th {\n",
       "        vertical-align: top;\n",
       "    }\n",
       "\n",
       "    .dataframe thead th {\n",
       "        text-align: right;\n",
       "    }\n",
       "</style>\n",
       "<table border=\"1\" class=\"dataframe\">\n",
       "  <thead>\n",
       "    <tr style=\"text-align: right;\">\n",
       "      <th></th>\n",
       "      <th>index</th>\n",
       "      <th>subBrand</th>\n",
       "    </tr>\n",
       "  </thead>\n",
       "  <tbody>\n",
       "  </tbody>\n",
       "</table>\n",
       "</div>"
      ],
      "text/plain": [
       "Empty DataFrame\n",
       "Columns: [index, subBrand]\n",
       "Index: []"
      ]
     },
     "execution_count": 71,
     "metadata": {},
     "output_type": "execute_result"
    }
   ],
   "source": [
    "subBrand_drop"
   ]
  },
  {
   "cell_type": "code",
   "execution_count": 72,
   "metadata": {},
   "outputs": [],
   "source": [
    "label_cols = np.setdiff1d(label_cols, subBrand_drop[\"index\"])"
   ]
  },
  {
   "cell_type": "code",
   "execution_count": 73,
   "metadata": {},
   "outputs": [],
   "source": [
    "data_req = pd.concat([data_req, one_hot], axis=1)"
   ]
  },
  {
   "cell_type": "code",
   "execution_count": 74,
   "metadata": {},
   "outputs": [
    {
     "data": {
      "text/html": [
       "<div>\n",
       "<style scoped>\n",
       "    .dataframe tbody tr th:only-of-type {\n",
       "        vertical-align: middle;\n",
       "    }\n",
       "\n",
       "    .dataframe tbody tr th {\n",
       "        vertical-align: top;\n",
       "    }\n",
       "\n",
       "    .dataframe thead th {\n",
       "        text-align: right;\n",
       "    }\n",
       "</style>\n",
       "<table border=\"1\" class=\"dataframe\">\n",
       "  <thead>\n",
       "    <tr style=\"text-align: right;\">\n",
       "      <th></th>\n",
       "      <th>companyName</th>\n",
       "      <th>description_input</th>\n",
       "      <th>division</th>\n",
       "      <th>sportsCategory</th>\n",
       "      <th>subBrand_input</th>\n",
       "      <th>gender</th>\n",
       "      <th>url</th>\n",
       "      <th>ageGroup</th>\n",
       "      <th>distributorName</th>\n",
       "      <th>subBrand</th>\n",
       "      <th>description</th>\n",
       "      <th>performance</th>\n",
       "      <th>sport inspired</th>\n",
       "    </tr>\n",
       "  </thead>\n",
       "  <tbody>\n",
       "    <tr>\n",
       "      <th>0</th>\n",
       "      <td>adidas</td>\n",
       "      <td>3本線のデザインが新しくなったレスポンスシリーズ。毎日のランニングから本番シーンまで対応する...</td>\n",
       "      <td>アパレル</td>\n",
       "      <td>ランニング</td>\n",
       "      <td>Performance</td>\n",
       "      <td>male</td>\n",
       "      <td>http://shop.adidas.jp/pc/item/detail.cgi?brand...</td>\n",
       "      <td>adults</td>\n",
       "      <td>own ecom</td>\n",
       "      <td>performance</td>\n",
       "      <td>adidas 3本線のデザインが新しくなったレスポンスシリーズ。毎日のランニングから本番シー...</td>\n",
       "      <td>1</td>\n",
       "      <td>0</td>\n",
       "    </tr>\n",
       "    <tr>\n",
       "      <th>1</th>\n",
       "      <td>adidas</td>\n",
       "      <td>3本線のデザインが新しくなったレスポンスシリーズ。毎日のランニングから本番シーンまで対応する...</td>\n",
       "      <td>アパレル</td>\n",
       "      <td>ランニング</td>\n",
       "      <td>Performance</td>\n",
       "      <td>male</td>\n",
       "      <td>http://shop.adidas.jp/pc/item/detail.cgi?brand...</td>\n",
       "      <td>adults</td>\n",
       "      <td>own ecom</td>\n",
       "      <td>performance</td>\n",
       "      <td>adidas 3本線のデザインが新しくなったレスポンスシリーズ。毎日のランニングから本番シー...</td>\n",
       "      <td>1</td>\n",
       "      <td>0</td>\n",
       "    </tr>\n",
       "    <tr>\n",
       "      <th>2</th>\n",
       "      <td>adidas</td>\n",
       "      <td>3本線のデザインが新しくなったレスポンスシリーズ。毎日のランニングから本番シーンまで対応する...</td>\n",
       "      <td>アパレル</td>\n",
       "      <td>ランニング</td>\n",
       "      <td>Performance</td>\n",
       "      <td>male</td>\n",
       "      <td>http://shop.adidas.jp/pc/item/detail.cgi?brand...</td>\n",
       "      <td>adults</td>\n",
       "      <td>own ecom</td>\n",
       "      <td>performance</td>\n",
       "      <td>adidas 3本線のデザインが新しくなったレスポンスシリーズ。毎日のランニングから本番シー...</td>\n",
       "      <td>1</td>\n",
       "      <td>0</td>\n",
       "    </tr>\n",
       "    <tr>\n",
       "      <th>3</th>\n",
       "      <td>adidas</td>\n",
       "      <td>3本線のデザインが新しくなったレスポンスシリーズ。毎日のランニングから本番シーンまで対応する...</td>\n",
       "      <td>アパレル</td>\n",
       "      <td>ランニング</td>\n",
       "      <td>Performance</td>\n",
       "      <td>male</td>\n",
       "      <td>http://shop.adidas.jp/pc/item/detail.cgi?brand...</td>\n",
       "      <td>adults</td>\n",
       "      <td>own ecom</td>\n",
       "      <td>performance</td>\n",
       "      <td>adidas 3本線のデザインが新しくなったレスポンスシリーズ。毎日のランニングから本番シー...</td>\n",
       "      <td>1</td>\n",
       "      <td>0</td>\n",
       "    </tr>\n",
       "    <tr>\n",
       "      <th>4</th>\n",
       "      <td>adidas</td>\n",
       "      <td>3本線のデザインが新しくなったレスポンスシリーズ。毎日のランニングから本番シーンまで対応する...</td>\n",
       "      <td>アパレル</td>\n",
       "      <td>ランニング</td>\n",
       "      <td>Performance</td>\n",
       "      <td>male</td>\n",
       "      <td>http://shop.adidas.jp/pc/item/detail.cgi?brand...</td>\n",
       "      <td>adults</td>\n",
       "      <td>own ecom</td>\n",
       "      <td>performance</td>\n",
       "      <td>adidas 3本線のデザインが新しくなったレスポンスシリーズ。毎日のランニングから本番シー...</td>\n",
       "      <td>1</td>\n",
       "      <td>0</td>\n",
       "    </tr>\n",
       "  </tbody>\n",
       "</table>\n",
       "</div>"
      ],
      "text/plain": [
       "  companyName                                  description_input division  \\\n",
       "0      adidas  3本線のデザインが新しくなったレスポンスシリーズ。毎日のランニングから本番シーンまで対応する...     アパレル   \n",
       "1      adidas  3本線のデザインが新しくなったレスポンスシリーズ。毎日のランニングから本番シーンまで対応する...     アパレル   \n",
       "2      adidas  3本線のデザインが新しくなったレスポンスシリーズ。毎日のランニングから本番シーンまで対応する...     アパレル   \n",
       "3      adidas  3本線のデザインが新しくなったレスポンスシリーズ。毎日のランニングから本番シーンまで対応する...     アパレル   \n",
       "4      adidas  3本線のデザインが新しくなったレスポンスシリーズ。毎日のランニングから本番シーンまで対応する...     アパレル   \n",
       "\n",
       "  sportsCategory subBrand_input gender  \\\n",
       "0          ランニング    Performance   male   \n",
       "1          ランニング    Performance   male   \n",
       "2          ランニング    Performance   male   \n",
       "3          ランニング    Performance   male   \n",
       "4          ランニング    Performance   male   \n",
       "\n",
       "                                                 url ageGroup distributorName  \\\n",
       "0  http://shop.adidas.jp/pc/item/detail.cgi?brand...   adults        own ecom   \n",
       "1  http://shop.adidas.jp/pc/item/detail.cgi?brand...   adults        own ecom   \n",
       "2  http://shop.adidas.jp/pc/item/detail.cgi?brand...   adults        own ecom   \n",
       "3  http://shop.adidas.jp/pc/item/detail.cgi?brand...   adults        own ecom   \n",
       "4  http://shop.adidas.jp/pc/item/detail.cgi?brand...   adults        own ecom   \n",
       "\n",
       "      subBrand                                        description  \\\n",
       "0  performance  adidas 3本線のデザインが新しくなったレスポンスシリーズ。毎日のランニングから本番シー...   \n",
       "1  performance  adidas 3本線のデザインが新しくなったレスポンスシリーズ。毎日のランニングから本番シー...   \n",
       "2  performance  adidas 3本線のデザインが新しくなったレスポンスシリーズ。毎日のランニングから本番シー...   \n",
       "3  performance  adidas 3本線のデザインが新しくなったレスポンスシリーズ。毎日のランニングから本番シー...   \n",
       "4  performance  adidas 3本線のデザインが新しくなったレスポンスシリーズ。毎日のランニングから本番シー...   \n",
       "\n",
       "   performance  sport inspired  \n",
       "0            1               0  \n",
       "1            1               0  \n",
       "2            1               0  \n",
       "3            1               0  \n",
       "4            1               0  "
      ]
     },
     "execution_count": 74,
     "metadata": {},
     "output_type": "execute_result"
    }
   ],
   "source": [
    "data_req.head()"
   ]
  },
  {
   "cell_type": "code",
   "execution_count": 75,
   "metadata": {},
   "outputs": [],
   "source": [
    "import re, string\n",
    "re_tok = re.compile(f'([{string.punctuation}“”¨«»®´·º½¾¿¡§£₤‘’])')\n",
    "def tokenize(s): return re_tok.sub(r' \\1 ', s).split()"
   ]
  },
  {
   "cell_type": "code",
   "execution_count": 76,
   "metadata": {},
   "outputs": [],
   "source": [
    "description = \"description\""
   ]
  },
  {
   "cell_type": "code",
   "execution_count": 77,
   "metadata": {},
   "outputs": [],
   "source": [
    "data_req = data_req.drop(subBrand_drop[\"index\"], axis = 1)"
   ]
  },
  {
   "cell_type": "code",
   "execution_count": 78,
   "metadata": {},
   "outputs": [],
   "source": [
    "np.random.seed(123)\n",
    "data_req_sample = data_req.sample(frac=0.7)"
   ]
  },
  {
   "cell_type": "code",
   "execution_count": 79,
   "metadata": {},
   "outputs": [],
   "source": [
    "train = data_req.loc[data_req.index.isin(data_req_sample.index)]\n",
    "test = data_req.loc[~data_req.index.isin(data_req_sample.index)]"
   ]
  },
  {
   "cell_type": "code",
   "execution_count": 80,
   "metadata": {},
   "outputs": [],
   "source": [
    "test_subBrand = test.subBrand"
   ]
  },
  {
   "cell_type": "code",
   "execution_count": 81,
   "metadata": {},
   "outputs": [
    {
     "data": {
      "text/plain": [
       "2     performance\n",
       "4     performance\n",
       "8     performance\n",
       "12    performance\n",
       "16    performance\n",
       "Name: subBrand, dtype: object"
      ]
     },
     "execution_count": 81,
     "metadata": {},
     "output_type": "execute_result"
    }
   ],
   "source": [
    "test_subBrand.head()"
   ]
  },
  {
   "cell_type": "code",
   "execution_count": 82,
   "metadata": {},
   "outputs": [],
   "source": [
    "train = train.drop(\"subBrand\", axis = 1)\n",
    "test = test.drop(\"subBrand\", axis = 1)"
   ]
  },
  {
   "cell_type": "code",
   "execution_count": 83,
   "metadata": {},
   "outputs": [],
   "source": [
    "#test.head()"
   ]
  },
  {
   "cell_type": "code",
   "execution_count": 84,
   "metadata": {},
   "outputs": [],
   "source": [
    "# token_dict = {}\n",
    "# stemmer = PorterStemmer()\n",
    "\n",
    "# def stem_tokens(tokens, stemmer):\n",
    "#     stemmed = []\n",
    "#     for item in tokens:\n",
    "#         stemmed.append(stemmer.stem(item))\n",
    "#     return stemmed\n",
    "\n",
    "# def tokenize(text):\n",
    "#     tokens = nltk.word_tokenize(text)\n",
    "#     stems = stem_tokens(tokens, stemmer)\n",
    "#     return stems"
   ]
  },
  {
   "cell_type": "code",
   "execution_count": 85,
   "metadata": {},
   "outputs": [],
   "source": [
    "from stop_words import get_stop_words\n",
    "stop_words_english = get_stop_words('english')\n",
    "# stop_words_german = get_stop_words('german')"
   ]
  },
  {
   "cell_type": "code",
   "execution_count": 86,
   "metadata": {},
   "outputs": [],
   "source": [
    "#stop_words_english.append(stop_words_german)"
   ]
  },
  {
   "cell_type": "code",
   "execution_count": 87,
   "metadata": {},
   "outputs": [],
   "source": [
    "#stop_words_english"
   ]
  },
  {
   "cell_type": "code",
   "execution_count": 88,
   "metadata": {},
   "outputs": [],
   "source": [
    "# stop_words_english = sorted(set(map(tuple, stop_words_english)), reverse=True)"
   ]
  },
  {
   "cell_type": "code",
   "execution_count": 89,
   "metadata": {},
   "outputs": [],
   "source": [
    "n = train.shape[0]\n",
    "vec = TfidfVectorizer(ngram_range=(1,2), tokenizer=tokenize,\n",
    "               min_df=3, max_df=0.9, strip_accents='unicode', use_idf=1,\n",
    "               smooth_idf=1, sublinear_tf=1, stop_words = None )\n",
    "trn_term_doc = vec.fit_transform(train[description])\n",
    "test_term_doc = vec.transform(test[description])"
   ]
  },
  {
   "cell_type": "code",
   "execution_count": 90,
   "metadata": {},
   "outputs": [
    {
     "data": {
      "text/plain": [
       "(<1405606x533610 sparse matrix of type '<class 'numpy.float64'>'\n",
       " \twith 126175076 stored elements in Compressed Sparse Row format>,\n",
       " <602402x533610 sparse matrix of type '<class 'numpy.float64'>'\n",
       " \twith 54054881 stored elements in Compressed Sparse Row format>)"
      ]
     },
     "execution_count": 90,
     "metadata": {},
     "output_type": "execute_result"
    }
   ],
   "source": [
    "trn_term_doc, test_term_doc"
   ]
  },
  {
   "cell_type": "code",
   "execution_count": 9,
   "metadata": {},
   "outputs": [],
   "source": [
    "def pr(y_i, y):\n",
    "    p = x[y==y_i].sum(0)\n",
    "    return (p+1) / ((y==y_i).sum()+1)"
   ]
  },
  {
   "cell_type": "code",
   "execution_count": 10,
   "metadata": {},
   "outputs": [
    {
     "ename": "NameError",
     "evalue": "name 'trn_term_doc' is not defined",
     "output_type": "error",
     "traceback": [
      "\u001b[1;31m---------------------------------------------------------------------------\u001b[0m",
      "\u001b[1;31mNameError\u001b[0m                                 Traceback (most recent call last)",
      "\u001b[1;32m<ipython-input-10-8ab57bb3a0b7>\u001b[0m in \u001b[0;36m<module>\u001b[1;34m()\u001b[0m\n\u001b[1;32m----> 1\u001b[1;33m \u001b[0mx\u001b[0m \u001b[1;33m=\u001b[0m \u001b[0mtrn_term_doc\u001b[0m\u001b[1;33m\u001b[0m\u001b[0m\n\u001b[0m\u001b[0;32m      2\u001b[0m \u001b[0mtest_x\u001b[0m \u001b[1;33m=\u001b[0m \u001b[0mtest_term_doc\u001b[0m\u001b[1;33m\u001b[0m\u001b[0m\n",
      "\u001b[1;31mNameError\u001b[0m: name 'trn_term_doc' is not defined"
     ]
    }
   ],
   "source": [
    "x = trn_term_doc\n",
    "test_x = test_term_doc"
   ]
  },
  {
   "cell_type": "code",
   "execution_count": 96,
   "metadata": {},
   "outputs": [],
   "source": [
    "# train.head()"
   ]
  },
  {
   "cell_type": "code",
   "execution_count": 97,
   "metadata": {},
   "outputs": [],
   "source": [
    "def get_mdl(y):\n",
    "    y = y.values\n",
    "    r = np.log(pr(1,y) / pr(0,y))\n",
    "    m = LogisticRegression(C=4, dual=True)\n",
    "    x_nb = x.multiply(r)\n",
    "    return m.fit(x_nb, y), r"
   ]
  },
  {
   "cell_type": "code",
   "execution_count": 98,
   "metadata": {},
   "outputs": [],
   "source": [
    "#x[1==0].sum(0)"
   ]
  },
  {
   "cell_type": "code",
   "execution_count": 99,
   "metadata": {},
   "outputs": [],
   "source": [
    "# r = np.log(pr('1','0') / pr('0','1'))\n",
    "#x_nb = x.multiply(r)\n",
    "#np.hstack((x_nb, train.input_performance))\n",
    "#x_nb.toarray"
   ]
  },
  {
   "cell_type": "code",
   "execution_count": 100,
   "metadata": {},
   "outputs": [],
   "source": [
    "#y"
   ]
  },
  {
   "cell_type": "code",
   "execution_count": 101,
   "metadata": {},
   "outputs": [],
   "source": [
    "from sklearn.linear_model import LogisticRegression"
   ]
  },
  {
   "cell_type": "code",
   "execution_count": 102,
   "metadata": {},
   "outputs": [
    {
     "name": "stdout",
     "output_type": "stream",
     "text": [
      "fit performance\n",
      "fit sport inspired\n"
     ]
    }
   ],
   "source": [
    "preds = np.zeros((len(test), len(label_cols)))\n",
    "\n",
    "for i, j in enumerate(label_cols):\n",
    "    print('fit', j)\n",
    "    m,r = get_mdl(train[j])\n",
    "    preds[:,i] = m.predict_proba(test_x.multiply(r))[:,1]"
   ]
  },
  {
   "cell_type": "code",
   "execution_count": 103,
   "metadata": {},
   "outputs": [
    {
     "data": {
      "text/plain": [
       "(602402, 2)"
      ]
     },
     "execution_count": 103,
     "metadata": {},
     "output_type": "execute_result"
    }
   ],
   "source": [
    "preds.shape"
   ]
  },
  {
   "cell_type": "code",
   "execution_count": 104,
   "metadata": {},
   "outputs": [],
   "source": [
    "predictions = pd.DataFrame(preds, columns = label_cols)"
   ]
  },
  {
   "cell_type": "code",
   "execution_count": 105,
   "metadata": {},
   "outputs": [
    {
     "data": {
      "text/html": [
       "<div>\n",
       "<style scoped>\n",
       "    .dataframe tbody tr th:only-of-type {\n",
       "        vertical-align: middle;\n",
       "    }\n",
       "\n",
       "    .dataframe tbody tr th {\n",
       "        vertical-align: top;\n",
       "    }\n",
       "\n",
       "    .dataframe thead th {\n",
       "        text-align: right;\n",
       "    }\n",
       "</style>\n",
       "<table border=\"1\" class=\"dataframe\">\n",
       "  <thead>\n",
       "    <tr style=\"text-align: right;\">\n",
       "      <th></th>\n",
       "      <th>companyName</th>\n",
       "      <th>description_input</th>\n",
       "      <th>division</th>\n",
       "      <th>sportsCategory</th>\n",
       "      <th>subBrand_input</th>\n",
       "      <th>gender</th>\n",
       "      <th>url</th>\n",
       "      <th>ageGroup</th>\n",
       "      <th>distributorName</th>\n",
       "      <th>description</th>\n",
       "      <th>performance</th>\n",
       "      <th>sport inspired</th>\n",
       "    </tr>\n",
       "  </thead>\n",
       "  <tbody>\n",
       "    <tr>\n",
       "      <th>2</th>\n",
       "      <td>adidas</td>\n",
       "      <td>3本線のデザインが新しくなったレスポンスシリーズ。毎日のランニングから本番シーンまで対応する...</td>\n",
       "      <td>アパレル</td>\n",
       "      <td>ランニング</td>\n",
       "      <td>Performance</td>\n",
       "      <td>male</td>\n",
       "      <td>http://shop.adidas.jp/pc/item/detail.cgi?brand...</td>\n",
       "      <td>adults</td>\n",
       "      <td>own ecom</td>\n",
       "      <td>adidas 3本線のデザインが新しくなったレスポンスシリーズ。毎日のランニングから本番シー...</td>\n",
       "      <td>1</td>\n",
       "      <td>0</td>\n",
       "    </tr>\n",
       "    <tr>\n",
       "      <th>4</th>\n",
       "      <td>adidas</td>\n",
       "      <td>3本線のデザインが新しくなったレスポンスシリーズ。毎日のランニングから本番シーンまで対応する...</td>\n",
       "      <td>アパレル</td>\n",
       "      <td>ランニング</td>\n",
       "      <td>Performance</td>\n",
       "      <td>male</td>\n",
       "      <td>http://shop.adidas.jp/pc/item/detail.cgi?brand...</td>\n",
       "      <td>adults</td>\n",
       "      <td>own ecom</td>\n",
       "      <td>adidas 3本線のデザインが新しくなったレスポンスシリーズ。毎日のランニングから本番シー...</td>\n",
       "      <td>1</td>\n",
       "      <td>0</td>\n",
       "    </tr>\n",
       "    <tr>\n",
       "      <th>8</th>\n",
       "      <td>adidas</td>\n",
       "      <td>3本線のデザインが新しくなったレスポンスシリーズ。毎日のランニングから本番シーンまで対応する...</td>\n",
       "      <td>アパレル</td>\n",
       "      <td>ランニング</td>\n",
       "      <td>Performance</td>\n",
       "      <td>male</td>\n",
       "      <td>http://shop.adidas.jp/pc/item/detail.cgi?brand...</td>\n",
       "      <td>adults</td>\n",
       "      <td>own ecom</td>\n",
       "      <td>adidas 3本線のデザインが新しくなったレスポンスシリーズ。毎日のランニングから本番シー...</td>\n",
       "      <td>1</td>\n",
       "      <td>0</td>\n",
       "    </tr>\n",
       "    <tr>\n",
       "      <th>12</th>\n",
       "      <td>adidas</td>\n",
       "      <td>3本線のデザインが新しくなったレスポンスシリーズ。毎日のランニングから本番シーンまで対応する...</td>\n",
       "      <td>アパレル</td>\n",
       "      <td>ランニング</td>\n",
       "      <td>Performance</td>\n",
       "      <td>male</td>\n",
       "      <td>http://shop.adidas.jp/pc/item/detail.cgi?itemC...</td>\n",
       "      <td>adults</td>\n",
       "      <td>own ecom</td>\n",
       "      <td>adidas 3本線のデザインが新しくなったレスポンスシリーズ。毎日のランニングから本番シー...</td>\n",
       "      <td>1</td>\n",
       "      <td>0</td>\n",
       "    </tr>\n",
       "    <tr>\n",
       "      <th>16</th>\n",
       "      <td>adidas</td>\n",
       "      <td>3本線のデザインが新しくなったレスポンスシリーズ。毎日のランニングから本番シーンまで対応する...</td>\n",
       "      <td>アパレル</td>\n",
       "      <td>ランニング</td>\n",
       "      <td>Performance</td>\n",
       "      <td>male</td>\n",
       "      <td>http://shop.adidas.jp/pc/item/detail.cgi?itemC...</td>\n",
       "      <td>adults</td>\n",
       "      <td>own ecom</td>\n",
       "      <td>adidas 3本線のデザインが新しくなったレスポンスシリーズ。毎日のランニングから本番シー...</td>\n",
       "      <td>1</td>\n",
       "      <td>0</td>\n",
       "    </tr>\n",
       "  </tbody>\n",
       "</table>\n",
       "</div>"
      ],
      "text/plain": [
       "   companyName                                  description_input division  \\\n",
       "2       adidas  3本線のデザインが新しくなったレスポンスシリーズ。毎日のランニングから本番シーンまで対応する...     アパレル   \n",
       "4       adidas  3本線のデザインが新しくなったレスポンスシリーズ。毎日のランニングから本番シーンまで対応する...     アパレル   \n",
       "8       adidas  3本線のデザインが新しくなったレスポンスシリーズ。毎日のランニングから本番シーンまで対応する...     アパレル   \n",
       "12      adidas  3本線のデザインが新しくなったレスポンスシリーズ。毎日のランニングから本番シーンまで対応する...     アパレル   \n",
       "16      adidas  3本線のデザインが新しくなったレスポンスシリーズ。毎日のランニングから本番シーンまで対応する...     アパレル   \n",
       "\n",
       "   sportsCategory subBrand_input gender  \\\n",
       "2           ランニング    Performance   male   \n",
       "4           ランニング    Performance   male   \n",
       "8           ランニング    Performance   male   \n",
       "12          ランニング    Performance   male   \n",
       "16          ランニング    Performance   male   \n",
       "\n",
       "                                                  url ageGroup  \\\n",
       "2   http://shop.adidas.jp/pc/item/detail.cgi?brand...   adults   \n",
       "4   http://shop.adidas.jp/pc/item/detail.cgi?brand...   adults   \n",
       "8   http://shop.adidas.jp/pc/item/detail.cgi?brand...   adults   \n",
       "12  http://shop.adidas.jp/pc/item/detail.cgi?itemC...   adults   \n",
       "16  http://shop.adidas.jp/pc/item/detail.cgi?itemC...   adults   \n",
       "\n",
       "   distributorName                                        description  \\\n",
       "2         own ecom  adidas 3本線のデザインが新しくなったレスポンスシリーズ。毎日のランニングから本番シー...   \n",
       "4         own ecom  adidas 3本線のデザインが新しくなったレスポンスシリーズ。毎日のランニングから本番シー...   \n",
       "8         own ecom  adidas 3本線のデザインが新しくなったレスポンスシリーズ。毎日のランニングから本番シー...   \n",
       "12        own ecom  adidas 3本線のデザインが新しくなったレスポンスシリーズ。毎日のランニングから本番シー...   \n",
       "16        own ecom  adidas 3本線のデザインが新しくなったレスポンスシリーズ。毎日のランニングから本番シー...   \n",
       "\n",
       "    performance  sport inspired  \n",
       "2             1               0  \n",
       "4             1               0  \n",
       "8             1               0  \n",
       "12            1               0  \n",
       "16            1               0  "
      ]
     },
     "execution_count": 105,
     "metadata": {},
     "output_type": "execute_result"
    }
   ],
   "source": [
    "test.head()"
   ]
  },
  {
   "cell_type": "code",
   "execution_count": 106,
   "metadata": {},
   "outputs": [
    {
     "data": {
      "text/plain": [
       "array([[0.99998215, 0.02985793],\n",
       "       [0.99998215, 0.02985793],\n",
       "       [0.9999743 , 0.04205208],\n",
       "       ...,\n",
       "       [0.86925497, 0.86105599],\n",
       "       [0.99512667, 0.1137149 ],\n",
       "       [0.01297088, 0.99996392]])"
      ]
     },
     "execution_count": 106,
     "metadata": {},
     "output_type": "execute_result"
    }
   ],
   "source": [
    "preds"
   ]
  },
  {
   "cell_type": "markdown",
   "metadata": {},
   "source": [
    "#### Testing Data + Mapping"
   ]
  },
  {
   "cell_type": "code",
   "execution_count": 107,
   "metadata": {},
   "outputs": [],
   "source": [
    "test.index = np.arange(0, len(test))\n",
    "test_subBrand.index = np.arange(0, len(test))"
   ]
  },
  {
   "cell_type": "code",
   "execution_count": 108,
   "metadata": {},
   "outputs": [
    {
     "data": {
      "text/plain": [
       "602402"
      ]
     },
     "execution_count": 108,
     "metadata": {},
     "output_type": "execute_result"
    }
   ],
   "source": [
    "len(test)"
   ]
  },
  {
   "cell_type": "code",
   "execution_count": 109,
   "metadata": {},
   "outputs": [],
   "source": [
    "test = test.drop(label_cols, axis=1)"
   ]
  },
  {
   "cell_type": "code",
   "execution_count": 110,
   "metadata": {},
   "outputs": [
    {
     "data": {
      "text/plain": [
       "Index(['companyName', 'description_input', 'division', 'sportsCategory',\n",
       "       'subBrand_input', 'gender', 'url', 'ageGroup', 'distributorName',\n",
       "       'description'],\n",
       "      dtype='object')"
      ]
     },
     "execution_count": 110,
     "metadata": {},
     "output_type": "execute_result"
    }
   ],
   "source": [
    "test.columns"
   ]
  },
  {
   "cell_type": "code",
   "execution_count": 111,
   "metadata": {},
   "outputs": [],
   "source": [
    "submid = pd.DataFrame({'description': test[\"description\"]})\n",
    "submission = pd.concat([test, pd.DataFrame(preds, columns = label_cols)], axis=1)"
   ]
  },
  {
   "cell_type": "code",
   "execution_count": 112,
   "metadata": {},
   "outputs": [
    {
     "data": {
      "text/plain": [
       "Index(['companyName', 'description_input', 'division', 'sportsCategory',\n",
       "       'subBrand_input', 'gender', 'url', 'ageGroup', 'distributorName',\n",
       "       'description', 'performance', 'sport inspired'],\n",
       "      dtype='object')"
      ]
     },
     "execution_count": 112,
     "metadata": {},
     "output_type": "execute_result"
    }
   ],
   "source": [
    "submission.columns"
   ]
  },
  {
   "cell_type": "code",
   "execution_count": 113,
   "metadata": {},
   "outputs": [
    {
     "data": {
      "text/plain": [
       "602402"
      ]
     },
     "execution_count": 113,
     "metadata": {},
     "output_type": "execute_result"
    }
   ],
   "source": [
    "len(submission)"
   ]
  },
  {
   "cell_type": "code",
   "execution_count": 114,
   "metadata": {},
   "outputs": [],
   "source": [
    "submission = submission.rename(columns= {'description' : 'description_output', 'description_input' : 'description'})"
   ]
  },
  {
   "cell_type": "code",
   "execution_count": 115,
   "metadata": {},
   "outputs": [],
   "source": [
    "#test_subBrand"
   ]
  },
  {
   "cell_type": "code",
   "execution_count": 116,
   "metadata": {},
   "outputs": [],
   "source": [
    "final_pred = pd.concat([submission, test_subBrand.str.lower()],axis = 1)"
   ]
  },
  {
   "cell_type": "code",
   "execution_count": 117,
   "metadata": {},
   "outputs": [
    {
     "data": {
      "text/plain": [
       "Index(['companyName', 'description', 'division', 'sportsCategory',\n",
       "       'subBrand_input', 'gender', 'url', 'ageGroup', 'distributorName',\n",
       "       'description_output', 'performance', 'sport inspired', 'subBrand'],\n",
       "      dtype='object')"
      ]
     },
     "execution_count": 117,
     "metadata": {},
     "output_type": "execute_result"
    }
   ],
   "source": [
    "final_pred.columns"
   ]
  },
  {
   "cell_type": "code",
   "execution_count": 118,
   "metadata": {},
   "outputs": [],
   "source": [
    "#final_pred = submission"
   ]
  },
  {
   "cell_type": "code",
   "execution_count": 119,
   "metadata": {},
   "outputs": [
    {
     "data": {
      "text/plain": [
       "performance       343225\n",
       "sport inspired    259177\n",
       "Name: subBrand, dtype: int64"
      ]
     },
     "execution_count": 119,
     "metadata": {},
     "output_type": "execute_result"
    }
   ],
   "source": [
    "test_subBrand.str.lower().value_counts()"
   ]
  },
  {
   "cell_type": "code",
   "execution_count": 120,
   "metadata": {},
   "outputs": [],
   "source": [
    "final_pred[\"Predictions\"] = final_pred[label_cols].idxmax(axis = 1)"
   ]
  },
  {
   "cell_type": "code",
   "execution_count": 121,
   "metadata": {},
   "outputs": [],
   "source": [
    "# from mlxtend.evaluate import confusion_matrix\n",
    "\n",
    "# y_target =    final_pred.subBrand\n",
    "# y_predicted = final_pred.Predictions\n",
    "\n",
    "# cm = confusion_matrix(y_target=y_target, \n",
    "#                       y_predicted=y_predicted, \n",
    "#                       binary=False)"
   ]
  },
  {
   "cell_type": "code",
   "execution_count": 122,
   "metadata": {},
   "outputs": [],
   "source": [
    "# import matplotlib.pyplot as plt\n",
    "# from mlxtend.plotting import plot_confusion_matrix\n",
    "# import numpy as np\n",
    "\n",
    "# fig, ax = plot_confusion_matrix(conf_mat=cm)\n",
    "# plt.show()"
   ]
  },
  {
   "cell_type": "code",
   "execution_count": 123,
   "metadata": {},
   "outputs": [],
   "source": [
    "#final_pred.head()"
   ]
  },
  {
   "cell_type": "code",
   "execution_count": 124,
   "metadata": {},
   "outputs": [],
   "source": [
    "#final_pred.Predictions"
   ]
  },
  {
   "cell_type": "code",
   "execution_count": 125,
   "metadata": {},
   "outputs": [
    {
     "name": "stdout",
     "output_type": "stream",
     "text": [
      "Accuracy Score : 0.9954731225991945\n",
      "F1 Score: 0.9953821073944695\n",
      "Precision: 0.9955060909282377\n",
      "Recall: 0.995259715847361\n"
     ]
    }
   ],
   "source": [
    "print(f'Accuracy Score : {accuracy_score(final_pred.subBrand, final_pred.Predictions)}')\n",
    "print(f'F1 Score: {f1_score(final_pred.subBrand, final_pred.Predictions, average=\"macro\")}')\n",
    "print(f'Precision: {precision_score(final_pred.subBrand, final_pred.Predictions, average=\"macro\")}')\n",
    "print(f'Recall: {recall_score(final_pred.subBrand, final_pred.Predictions, average=\"macro\")}')"
   ]
  },
  {
   "cell_type": "code",
   "execution_count": 126,
   "metadata": {},
   "outputs": [],
   "source": [
    "#final_pred.to_csv(\"final_output_SubBrand_v4.csv\", index_label=False, index=False)"
   ]
  },
  {
   "cell_type": "code",
   "execution_count": 127,
   "metadata": {},
   "outputs": [
    {
     "data": {
      "text/plain": [
       "602402"
      ]
     },
     "execution_count": 127,
     "metadata": {},
     "output_type": "execute_result"
    }
   ],
   "source": [
    "len(final_pred)"
   ]
  },
  {
   "cell_type": "code",
   "execution_count": 128,
   "metadata": {},
   "outputs": [],
   "source": [
    "#test_subBrand"
   ]
  },
  {
   "cell_type": "code",
   "execution_count": 129,
   "metadata": {},
   "outputs": [
    {
     "data": {
      "text/plain": [
       "Index(['companyName', 'description', 'division', 'sportsCategory',\n",
       "       'subBrand_input', 'gender', 'url', 'ageGroup', 'distributorName',\n",
       "       'description_output', 'performance', 'sport inspired', 'subBrand',\n",
       "       'Predictions'],\n",
       "      dtype='object')"
      ]
     },
     "execution_count": 129,
     "metadata": {},
     "output_type": "execute_result"
    }
   ],
   "source": [
    "final_pred.columns"
   ]
  },
  {
   "cell_type": "code",
   "execution_count": 130,
   "metadata": {},
   "outputs": [],
   "source": [
    "chk = final_pred.merge(data, how=\"left\", on = [\"companyName\", \"description\", \"division\",\"sportsCategory\", \"gender\", \"url\", \"ageGroup\", \"distributorName\"])"
   ]
  },
  {
   "cell_type": "code",
   "execution_count": 131,
   "metadata": {},
   "outputs": [
    {
     "data": {
      "text/plain": [
       "5526837"
      ]
     },
     "execution_count": 131,
     "metadata": {},
     "output_type": "execute_result"
    }
   ],
   "source": [
    "len(chk)"
   ]
  },
  {
   "cell_type": "code",
   "execution_count": 54,
   "metadata": {},
   "outputs": [],
   "source": [
    "#final_pred.isnull().sum()"
   ]
  },
  {
   "cell_type": "code",
   "execution_count": null,
   "metadata": {},
   "outputs": [],
   "source": []
  }
 ],
 "metadata": {
  "kernelspec": {
   "display_name": "Python 3",
   "language": "python",
   "name": "python3"
  },
  "language_info": {
   "codemirror_mode": {
    "name": "ipython",
    "version": 3
   },
   "file_extension": ".py",
   "mimetype": "text/x-python",
   "name": "python",
   "nbconvert_exporter": "python",
   "pygments_lexer": "ipython3",
   "version": "3.6.5"
  }
 },
 "nbformat": 4,
 "nbformat_minor": 2
}

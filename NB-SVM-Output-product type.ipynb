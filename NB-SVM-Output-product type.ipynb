{
 "cells": [
  {
   "cell_type": "code",
   "execution_count": 1,
   "metadata": {},
   "outputs": [],
   "source": [
    "import numpy as np\n",
    "import pandas as pd\n",
    "import matplotlib.pyplot as plt\n",
    "import seaborn as sns\n",
    "import time\n",
    "import nltk\n",
    "from nltk.stem.porter import PorterStemmer\n",
    "from sklearn.feature_extraction.text import CountVectorizer, TfidfVectorizer\n",
    "from sklearn.metrics import accuracy_score, f1_score, precision_score, recall_score, classification_report, confusion_matrix\n",
    "\n",
    "%matplotlib inline"
   ]
  },
  {
   "cell_type": "code",
   "execution_count": 2,
   "metadata": {},
   "outputs": [],
   "source": [
    "#nltk.download('punkt')"
   ]
  },
  {
   "cell_type": "code",
   "execution_count": 3,
   "metadata": {},
   "outputs": [
    {
     "data": {
      "text/html": [
       "<div>\n",
       "<style scoped>\n",
       "    .dataframe tbody tr th:only-of-type {\n",
       "        vertical-align: middle;\n",
       "    }\n",
       "\n",
       "    .dataframe tbody tr th {\n",
       "        vertical-align: top;\n",
       "    }\n",
       "\n",
       "    .dataframe thead th {\n",
       "        text-align: right;\n",
       "    }\n",
       "</style>\n",
       "<table border=\"1\" class=\"dataframe\">\n",
       "  <thead>\n",
       "    <tr style=\"text-align: right;\">\n",
       "      <th></th>\n",
       "      <th>COMPANY</th>\n",
       "      <th>COUNTRY</th>\n",
       "      <th>DISTRIBUTOR</th>\n",
       "      <th>ARTICLE ID</th>\n",
       "      <th>MODEL NUMBER</th>\n",
       "      <th>ARTICLE NAME</th>\n",
       "      <th>SUBBRAND</th>\n",
       "      <th>SPORTS CATEGORY</th>\n",
       "      <th>PRODUCT DIVISION</th>\n",
       "      <th>PRODUCT GROUP</th>\n",
       "      <th>...</th>\n",
       "      <th>CURRENT PRICE IN EUR</th>\n",
       "      <th>INITIAL PRICE IN SELECTED CURRENCY</th>\n",
       "      <th>CURRENT PRICE IN SELECTED CURRENCY</th>\n",
       "      <th>SELECTED CURRENCY</th>\n",
       "      <th>PRODUCT INTRODUCTION DATE</th>\n",
       "      <th>DISCOUNTED SINCE</th>\n",
       "      <th>PRODUCT EXIT DATE</th>\n",
       "      <th>PRODUCT DESCRIPTION</th>\n",
       "      <th>PRODUCT URL</th>\n",
       "      <th>IMAGE-SERVER URL</th>\n",
       "    </tr>\n",
       "  </thead>\n",
       "  <tbody>\n",
       "    <tr>\n",
       "      <th>0</th>\n",
       "      <td>Nike</td>\n",
       "      <td>USA</td>\n",
       "      <td>Own eCom</td>\n",
       "      <td>837786-603</td>\n",
       "      <td>837786</td>\n",
       "      <td>KD 8 'Aunt Pearl' Premium Big Kids' Basketball...</td>\n",
       "      <td>Performance</td>\n",
       "      <td>Basketball</td>\n",
       "      <td>Footwear</td>\n",
       "      <td>Performance Footwear</td>\n",
       "      <td>...</td>\n",
       "      <td>56.5239</td>\n",
       "      <td>121.80</td>\n",
       "      <td>56.5239</td>\n",
       "      <td>EUR</td>\n",
       "      <td>2/29/2016</td>\n",
       "      <td>11/9/2016</td>\n",
       "      <td>9/18/2017</td>\n",
       "      <td>DYNAMIC VERSATILITY. INSPIRED STYLE.; The KD 8...</td>\n",
       "      <td>https://store.nike.com/us/en_us/pd/kd-8-aunt-p...</td>\n",
       "      <td>http://usporamap287.am.adsint.biz/zoomimages/1...</td>\n",
       "    </tr>\n",
       "    <tr>\n",
       "      <th>1</th>\n",
       "      <td>Nike</td>\n",
       "      <td>USA</td>\n",
       "      <td>Own eCom</td>\n",
       "      <td>810455-421</td>\n",
       "      <td>810455</td>\n",
       "      <td>LeBron 13 Transportation Kids' Adjustable Hat</td>\n",
       "      <td>Sport Inspired</td>\n",
       "      <td>Lifestyle</td>\n",
       "      <td>Accessories</td>\n",
       "      <td>Headwear</td>\n",
       "      <td>...</td>\n",
       "      <td>17.3739</td>\n",
       "      <td>24.36</td>\n",
       "      <td>17.3739</td>\n",
       "      <td>EUR</td>\n",
       "      <td>2/29/2016</td>\n",
       "      <td>4/4/2016</td>\n",
       "      <td>5/2/2016</td>\n",
       "      <td>LEBRON TRANSPORTATION HAT The LeBron 13 Transp...</td>\n",
       "      <td>http://store.nike.com/us/en_us/pd/lebron-13-tr...</td>\n",
       "      <td>http://usporamap287.am.adsint.biz/zoomimages/1...</td>\n",
       "    </tr>\n",
       "    <tr>\n",
       "      <th>2</th>\n",
       "      <td>Nike</td>\n",
       "      <td>USA</td>\n",
       "      <td>Own eCom</td>\n",
       "      <td>807940-010</td>\n",
       "      <td>807940</td>\n",
       "      <td>Nike SB Cherry Blossom Perforated Trucker Hat</td>\n",
       "      <td>Sport Inspired</td>\n",
       "      <td>Skate</td>\n",
       "      <td>Accessories</td>\n",
       "      <td>Headwear</td>\n",
       "      <td>...</td>\n",
       "      <td>27.8400</td>\n",
       "      <td>27.84</td>\n",
       "      <td>27.8400</td>\n",
       "      <td>EUR</td>\n",
       "      <td>2/29/2016</td>\n",
       "      <td>Not discounted yet</td>\n",
       "      <td>3/21/2016</td>\n",
       "      <td>BREATHABLE COMFORT The Nike SB Cherry Blossom ...</td>\n",
       "      <td>http://store.nike.com/us/en_us/pd/sb-cherry-bl...</td>\n",
       "      <td>http://usporamap287.am.adsint.biz/zoomimages/1...</td>\n",
       "    </tr>\n",
       "    <tr>\n",
       "      <th>3</th>\n",
       "      <td>Nike</td>\n",
       "      <td>USA</td>\n",
       "      <td>Own eCom</td>\n",
       "      <td>749502-100</td>\n",
       "      <td>749502</td>\n",
       "      <td>Nike Cortez Big Kids' Shoe</td>\n",
       "      <td>Sport Inspired</td>\n",
       "      <td>Lifestyle</td>\n",
       "      <td>Footwear</td>\n",
       "      <td>Sport Inspired Footwear</td>\n",
       "      <td>...</td>\n",
       "      <td>39.1239</td>\n",
       "      <td>52.20</td>\n",
       "      <td>39.1239</td>\n",
       "      <td>EUR</td>\n",
       "      <td>2/29/2016</td>\n",
       "      <td>2/9/2017</td>\n",
       "      <td>4/10/2017</td>\n",
       "      <td>A CLASSIC, REBORN. The Nike Cortez BigÂ Kids' ...</td>\n",
       "      <td>http://store.nike.com/us/en_us/pd/cortez-big-k...</td>\n",
       "      <td>http://usporamap287.am.adsint.biz/zoomimages/1...</td>\n",
       "    </tr>\n",
       "    <tr>\n",
       "      <th>4</th>\n",
       "      <td>Nike</td>\n",
       "      <td>USA</td>\n",
       "      <td>Own eCom</td>\n",
       "      <td>746735-404</td>\n",
       "      <td>746735</td>\n",
       "      <td>Nike Golf AW84 OX Adjustable Hat</td>\n",
       "      <td>Performance</td>\n",
       "      <td>Golf</td>\n",
       "      <td>Accessories</td>\n",
       "      <td>Headwear</td>\n",
       "      <td>...</td>\n",
       "      <td>17.3739</td>\n",
       "      <td>20.88</td>\n",
       "      <td>17.3739</td>\n",
       "      <td>EUR</td>\n",
       "      <td>2/29/2016</td>\n",
       "      <td>6/30/2016</td>\n",
       "      <td>10/10/2016</td>\n",
       "      <td>PREMIUM LOOK. LIGHTWEIGHT FIT. The Nike Golf A...</td>\n",
       "      <td>http://store.nike.com/us/en_us/pd/golf-aw84-ox...</td>\n",
       "      <td>http://usporamap287.am.adsint.biz/zoomimages/1...</td>\n",
       "    </tr>\n",
       "  </tbody>\n",
       "</table>\n",
       "<p>5 rows × 32 columns</p>\n",
       "</div>"
      ],
      "text/plain": [
       "  COMPANY COUNTRY DISTRIBUTOR  ARTICLE ID MODEL NUMBER  \\\n",
       "0    Nike     USA    Own eCom  837786-603       837786   \n",
       "1    Nike     USA    Own eCom  810455-421       810455   \n",
       "2    Nike     USA    Own eCom  807940-010       807940   \n",
       "3    Nike     USA    Own eCom  749502-100       749502   \n",
       "4    Nike     USA    Own eCom  746735-404       746735   \n",
       "\n",
       "                                        ARTICLE NAME        SUBBRAND  \\\n",
       "0  KD 8 'Aunt Pearl' Premium Big Kids' Basketball...     Performance   \n",
       "1      LeBron 13 Transportation Kids' Adjustable Hat  Sport Inspired   \n",
       "2      Nike SB Cherry Blossom Perforated Trucker Hat  Sport Inspired   \n",
       "3                         Nike Cortez Big Kids' Shoe  Sport Inspired   \n",
       "4                   Nike Golf AW84 OX Adjustable Hat     Performance   \n",
       "\n",
       "  SPORTS CATEGORY PRODUCT DIVISION            PRODUCT GROUP  \\\n",
       "0      Basketball         Footwear     Performance Footwear   \n",
       "1       Lifestyle      Accessories                 Headwear   \n",
       "2           Skate      Accessories                 Headwear   \n",
       "3       Lifestyle         Footwear  Sport Inspired Footwear   \n",
       "4            Golf      Accessories                 Headwear   \n",
       "\n",
       "                         ...                         CURRENT PRICE IN EUR  \\\n",
       "0                        ...                                      56.5239   \n",
       "1                        ...                                      17.3739   \n",
       "2                        ...                                      27.8400   \n",
       "3                        ...                                      39.1239   \n",
       "4                        ...                                      17.3739   \n",
       "\n",
       "  INITIAL PRICE IN SELECTED CURRENCY CURRENT PRICE IN SELECTED CURRENCY  \\\n",
       "0                             121.80                            56.5239   \n",
       "1                              24.36                            17.3739   \n",
       "2                              27.84                            27.8400   \n",
       "3                              52.20                            39.1239   \n",
       "4                              20.88                            17.3739   \n",
       "\n",
       "  SELECTED CURRENCY PRODUCT INTRODUCTION DATE    DISCOUNTED SINCE  \\\n",
       "0               EUR                 2/29/2016           11/9/2016   \n",
       "1               EUR                 2/29/2016            4/4/2016   \n",
       "2               EUR                 2/29/2016  Not discounted yet   \n",
       "3               EUR                 2/29/2016            2/9/2017   \n",
       "4               EUR                 2/29/2016           6/30/2016   \n",
       "\n",
       "  PRODUCT EXIT DATE                                PRODUCT DESCRIPTION  \\\n",
       "0         9/18/2017  DYNAMIC VERSATILITY. INSPIRED STYLE.; The KD 8...   \n",
       "1          5/2/2016  LEBRON TRANSPORTATION HAT The LeBron 13 Transp...   \n",
       "2         3/21/2016  BREATHABLE COMFORT The Nike SB Cherry Blossom ...   \n",
       "3         4/10/2017  A CLASSIC, REBORN. The Nike Cortez BigÂ Kids' ...   \n",
       "4        10/10/2016  PREMIUM LOOK. LIGHTWEIGHT FIT. The Nike Golf A...   \n",
       "\n",
       "                                         PRODUCT URL  \\\n",
       "0  https://store.nike.com/us/en_us/pd/kd-8-aunt-p...   \n",
       "1  http://store.nike.com/us/en_us/pd/lebron-13-tr...   \n",
       "2  http://store.nike.com/us/en_us/pd/sb-cherry-bl...   \n",
       "3  http://store.nike.com/us/en_us/pd/cortez-big-k...   \n",
       "4  http://store.nike.com/us/en_us/pd/golf-aw84-ox...   \n",
       "\n",
       "                                    IMAGE-SERVER URL  \n",
       "0  http://usporamap287.am.adsint.biz/zoomimages/1...  \n",
       "1  http://usporamap287.am.adsint.biz/zoomimages/1...  \n",
       "2  http://usporamap287.am.adsint.biz/zoomimages/1...  \n",
       "3  http://usporamap287.am.adsint.biz/zoomimages/1...  \n",
       "4  http://usporamap287.am.adsint.biz/zoomimages/1...  \n",
       "\n",
       "[5 rows x 32 columns]"
      ]
     },
     "execution_count": 3,
     "metadata": {},
     "output_type": "execute_result"
    }
   ],
   "source": [
    "data = pd.read_csv(\"output_merged_25oct.csv\", encoding='latin-1')\n",
    "data.head()"
   ]
  },
  {
   "cell_type": "code",
   "execution_count": 4,
   "metadata": {},
   "outputs": [
    {
     "data": {
      "text/plain": [
       "COMPANY                                    0\n",
       "COUNTRY                                    0\n",
       "DISTRIBUTOR                                0\n",
       "ARTICLE ID                                 0\n",
       "MODEL NUMBER                               0\n",
       "ARTICLE NAME                              19\n",
       "SUBBRAND                                   0\n",
       "SPORTS CATEGORY                            0\n",
       "PRODUCT DIVISION                           0\n",
       "PRODUCT GROUP                              0\n",
       "PRODUCT TYPE                               0\n",
       "FRANCHISE                                 20\n",
       "TECHNOLOGIES                          146388\n",
       "COLOUR GROUP                               0\n",
       "COLOUR                                  7285\n",
       "GENDER                                     0\n",
       "AGE GROUP                                  0\n",
       "CONSUMER RATING                            0\n",
       "INITIAL PRICE IN LOCAL CURRENCY            0\n",
       "CURRENT PRICE IN LOCAL CURRENCY            0\n",
       "LOCAL CURRENCY                             0\n",
       "INITIAL PRICE IN EUR                       0\n",
       "CURRENT PRICE IN EUR                       0\n",
       "INITIAL PRICE IN SELECTED CURRENCY         0\n",
       "CURRENT PRICE IN SELECTED CURRENCY         0\n",
       "SELECTED CURRENCY                          0\n",
       "PRODUCT INTRODUCTION DATE                  0\n",
       "DISCOUNTED SINCE                           0\n",
       "PRODUCT EXIT DATE                          0\n",
       "PRODUCT DESCRIPTION                     8812\n",
       "PRODUCT URL                                0\n",
       "IMAGE-SERVER URL                           0\n",
       "dtype: int64"
      ]
     },
     "execution_count": 4,
     "metadata": {},
     "output_type": "execute_result"
    }
   ],
   "source": [
    "data.isnull().sum()"
   ]
  },
  {
   "cell_type": "code",
   "execution_count": 5,
   "metadata": {},
   "outputs": [
    {
     "data": {
      "text/plain": [
       "array(['USA', 'Germany', 'Japan'], dtype=object)"
      ]
     },
     "execution_count": 5,
     "metadata": {},
     "output_type": "execute_result"
    }
   ],
   "source": [
    "data.COUNTRY.unique()"
   ]
  },
  {
   "cell_type": "code",
   "execution_count": 6,
   "metadata": {},
   "outputs": [
    {
     "data": {
      "text/plain": [
       "array(['Unisex', 'Male', 'Female'], dtype=object)"
      ]
     },
     "execution_count": 6,
     "metadata": {},
     "output_type": "execute_result"
    }
   ],
   "source": [
    "data['GENDER'].unique()"
   ]
  },
  {
   "cell_type": "code",
   "execution_count": 7,
   "metadata": {},
   "outputs": [],
   "source": [
    "# Filtering US and UK\n",
    "#data = data.loc[data[\"language\"].isin(['de-DE'])]"
   ]
  },
  {
   "cell_type": "code",
   "execution_count": 8,
   "metadata": {},
   "outputs": [],
   "source": [
    "#data.group.unique()"
   ]
  },
  {
   "cell_type": "code",
   "execution_count": 9,
   "metadata": {},
   "outputs": [],
   "source": [
    "data_req = data.loc[:,[\"COMPANY\", \"COUNTRY\", \"ARTICLE NAME\",\"PRODUCT TYPE\", \"PRODUCT DESCRIPTION\", \"PRODUCT URL\"]]"
   ]
  },
  {
   "cell_type": "code",
   "execution_count": 10,
   "metadata": {},
   "outputs": [],
   "source": [
    "data_req = data_req.drop_duplicates()"
   ]
  },
  {
   "cell_type": "code",
   "execution_count": 11,
   "metadata": {},
   "outputs": [
    {
     "data": {
      "text/plain": [
       "268750"
      ]
     },
     "execution_count": 11,
     "metadata": {},
     "output_type": "execute_result"
    }
   ],
   "source": [
    "len(data_req)"
   ]
  },
  {
   "cell_type": "code",
   "execution_count": 12,
   "metadata": {},
   "outputs": [],
   "source": [
    "data_req_x = data_req.loc[:,[\"COMPANY\", \"COUNTRY\", \"ARTICLE NAME\", \"PRODUCT DESCRIPTION\", \"PRODUCT URL\"]]\n",
    "data_req_y = data_req.loc[:, [\"PRODUCT TYPE\"]]"
   ]
  },
  {
   "cell_type": "code",
   "execution_count": 13,
   "metadata": {},
   "outputs": [],
   "source": [
    "data_req_x = data_req_x.fillna(\"unknown\")\n",
    "data_req = pd.concat([data_req_x, data_req_y], axis=1)"
   ]
  },
  {
   "cell_type": "code",
   "execution_count": 14,
   "metadata": {},
   "outputs": [
    {
     "data": {
      "text/plain": [
       "268750"
      ]
     },
     "execution_count": 14,
     "metadata": {},
     "output_type": "execute_result"
    }
   ],
   "source": [
    "len(data_req)"
   ]
  },
  {
   "cell_type": "code",
   "execution_count": 15,
   "metadata": {},
   "outputs": [],
   "source": [
    "data_req = data_req.dropna()"
   ]
  },
  {
   "cell_type": "code",
   "execution_count": 16,
   "metadata": {},
   "outputs": [],
   "source": [
    "data_req = data_req.drop_duplicates()"
   ]
  },
  {
   "cell_type": "code",
   "execution_count": 17,
   "metadata": {},
   "outputs": [],
   "source": [
    "data_req[\"description\"]  = data_req[\"COMPANY\"] +\" \" + data_req[\"COUNTRY\"] +\" \" + data_req[\"ARTICLE NAME\"] +\" \" + data_req[\"PRODUCT DESCRIPTION\"]+\" \" + data_req[\"PRODUCT URL\"]"
   ]
  },
  {
   "cell_type": "code",
   "execution_count": 18,
   "metadata": {},
   "outputs": [],
   "source": [
    "data_req = data_req.drop([\"COMPANY\", \"COUNTRY\", \"ARTICLE NAME\", \"PRODUCT DESCRIPTION\", \"PRODUCT URL\"], axis = 1)"
   ]
  },
  {
   "cell_type": "code",
   "execution_count": 19,
   "metadata": {},
   "outputs": [],
   "source": [
    "data_req.columns = [\"subBrand\", \"description\"]"
   ]
  },
  {
   "cell_type": "code",
   "execution_count": 20,
   "metadata": {},
   "outputs": [
    {
     "data": {
      "text/plain": [
       "array(['Basketball', 'Caps', 'Kids Shoes (unisex)', 'Action Sports',\n",
       "       'Low Cut', 'Golf Bags', 'Swim Equipment', 'Other Sport Equipment',\n",
       "       'Tools', 'Heads & Beanies', 'High Cut', 'Balls', 'Jump Ropes',\n",
       "       'Other Bags', 'Middle Cut', 'Artificial Grass & Turf', 'Indoor',\n",
       "       'Firm Ground', 'Water Bottles', 'Wristbands', 'Sweat & Headbands',\n",
       "       'Training Sleeves', 'Umbrellas', 'Sport Bags', 'Running/Walking',\n",
       "       'Legs', 'Backpacks', 'Belts', 'Scarves', 'Golf Clubs',\n",
       "       'Performance Gloves', 'Shoulder Bags', 'Visors', 'Weights', 'Hats',\n",
       "       'Track and Field', \"Toddler's & Infant's Shoes\", 'Training Pants',\n",
       "       'Unisex Shoes', 'Mobile Accessories', 'Giftsets', 'Lacrosse',\n",
       "       'Long Sleeve', 'Short Sleeve', 'Mats', 'Power Tubes', 'Training',\n",
       "       'Jogger', 'Slides & Slippers', 'Sunglasses', 'Wallets',\n",
       "       'Performance Watches', 'Bandanas', 'Tracksuits', 'Jersey Kits',\n",
       "       'Shorts', 'Summer Sets', 'Training & Track Jackets', 'Polos',\n",
       "       'Tennis', 'Others', 'Sandals', 'Head', 'Other Performance Shoes',\n",
       "       'Hoods', 'Lifestyle Gloves', 'Hoodies', 'Vests', 'Grips',\n",
       "       'Baseball', 'Training Monitoring Systems', 'Soft Ground', 'Tights',\n",
       "       'Hooded Training & Track Jackets', 'Arms', 'American Football',\n",
       "       'Golf', 'Sweatshirts', 'Torso', 'Thongs / Flip Flops', 'Jumpsuits',\n",
       "       'Lifestyle Watches', 'Light Jackets', 'Sleeveless ', 'Bathrobes',\n",
       "       'Pullover', 'Padded Jackets', 'Wind Jackets', 'Rugby',\n",
       "       'Capris / Skapri', 'Freefootball', 'Male Bottoms', \"Boy's Shoes\",\n",
       "       \"Men's Shoes\", 'Pants', 'Cardigans', 'Male Tops', 'Coats',\n",
       "       'Spikes / Studs', 'Tanks & Tops', \"Girl's Shoes\", 'Softball',\n",
       "       'Sport Bras', \"Women's Shoes\", 'Swimsuits', 'Skorts',\n",
       "       'Female Bottoms', 'Purses', 'Dresses', 'Female Tops', 'Bikinis',\n",
       "       'Romper', 'Skirts', 'Trunks', 'Swim Shorts', 'Outdoor',\n",
       "       'Denim Pants', 'Board Shorts', 'Wetsuits', 'Denim Shorts',\n",
       "       'Hockey', 'Cosmetics', 'Shoelaces'], dtype=object)"
      ]
     },
     "execution_count": 20,
     "metadata": {},
     "output_type": "execute_result"
    }
   ],
   "source": [
    "data_req.subBrand.unique()"
   ]
  },
  {
   "cell_type": "code",
   "execution_count": 21,
   "metadata": {},
   "outputs": [
    {
     "data": {
      "text/plain": [
       "268750"
      ]
     },
     "execution_count": 21,
     "metadata": {},
     "output_type": "execute_result"
    }
   ],
   "source": [
    "len(data_req)"
   ]
  },
  {
   "cell_type": "code",
   "execution_count": 22,
   "metadata": {},
   "outputs": [],
   "source": [
    "data_req = data_req.drop_duplicates()"
   ]
  },
  {
   "cell_type": "code",
   "execution_count": 23,
   "metadata": {},
   "outputs": [],
   "source": [
    "data_req.subBrand = data_req.subBrand.str.lower()\n",
    "data_req.description = data_req.description.str.lower()"
   ]
  },
  {
   "cell_type": "code",
   "execution_count": 24,
   "metadata": {},
   "outputs": [
    {
     "data": {
      "text/plain": [
       "array(['basketball', 'caps', 'kids shoes (unisex)', 'action sports',\n",
       "       'low cut', 'golf bags', 'swim equipment', 'other sport equipment',\n",
       "       'tools', 'heads & beanies', 'high cut', 'balls', 'jump ropes',\n",
       "       'other bags', 'middle cut', 'artificial grass & turf', 'indoor',\n",
       "       'firm ground', 'water bottles', 'wristbands', 'sweat & headbands',\n",
       "       'training sleeves', 'umbrellas', 'sport bags', 'running/walking',\n",
       "       'legs', 'backpacks', 'belts', 'scarves', 'golf clubs',\n",
       "       'performance gloves', 'shoulder bags', 'visors', 'weights', 'hats',\n",
       "       'track and field', \"toddler's & infant's shoes\", 'training pants',\n",
       "       'unisex shoes', 'mobile accessories', 'giftsets', 'lacrosse',\n",
       "       'long sleeve', 'short sleeve', 'mats', 'power tubes', 'training',\n",
       "       'jogger', 'slides & slippers', 'sunglasses', 'wallets',\n",
       "       'performance watches', 'bandanas', 'tracksuits', 'jersey kits',\n",
       "       'shorts', 'summer sets', 'training & track jackets', 'polos',\n",
       "       'tennis', 'others', 'sandals', 'head', 'other performance shoes',\n",
       "       'hoods', 'lifestyle gloves', 'hoodies', 'vests', 'grips',\n",
       "       'baseball', 'training monitoring systems', 'soft ground', 'tights',\n",
       "       'hooded training & track jackets', 'arms', 'american football',\n",
       "       'golf', 'sweatshirts', 'torso', 'thongs / flip flops', 'jumpsuits',\n",
       "       'lifestyle watches', 'light jackets', 'sleeveless ', 'bathrobes',\n",
       "       'pullover', 'padded jackets', 'wind jackets', 'rugby',\n",
       "       'capris / skapri', 'freefootball', 'male bottoms', \"boy's shoes\",\n",
       "       \"men's shoes\", 'pants', 'cardigans', 'male tops', 'coats',\n",
       "       'spikes / studs', 'tanks & tops', \"girl's shoes\", 'softball',\n",
       "       'sport bras', \"women's shoes\", 'swimsuits', 'skorts',\n",
       "       'female bottoms', 'purses', 'dresses', 'female tops', 'bikinis',\n",
       "       'romper', 'skirts', 'trunks', 'swim shorts', 'outdoor',\n",
       "       'denim pants', 'board shorts', 'wetsuits', 'denim shorts',\n",
       "       'hockey', 'cosmetics', 'shoelaces'], dtype=object)"
      ]
     },
     "execution_count": 24,
     "metadata": {},
     "output_type": "execute_result"
    }
   ],
   "source": [
    "data_req.subBrand.unique()"
   ]
  },
  {
   "cell_type": "code",
   "execution_count": 25,
   "metadata": {},
   "outputs": [
    {
     "data": {
      "text/plain": [
       "(680.0161227906976, 432.88852932685, 6086)"
      ]
     },
     "execution_count": 25,
     "metadata": {},
     "output_type": "execute_result"
    }
   ],
   "source": [
    "lens = data_req.description.str.len()\n",
    "lens.mean(), lens.std(), lens.max()"
   ]
  },
  {
   "cell_type": "code",
   "execution_count": 26,
   "metadata": {},
   "outputs": [
    {
     "data": {
      "image/png": "[encoded data removed]",
      "text/plain": [
       "<Figure size 432x288 with 1 Axes>"
      ]
     },
     "metadata": {},
     "output_type": "display_data"
    }
   ],
   "source": [
    "lens.hist();"
   ]
  },
  {
   "cell_type": "code",
   "execution_count": 27,
   "metadata": {},
   "outputs": [],
   "source": [
    "data_req = data_req.dropna()"
   ]
  },
  {
   "cell_type": "code",
   "execution_count": 28,
   "metadata": {},
   "outputs": [
    {
     "data": {
      "text/plain": [
       "268750"
      ]
     },
     "execution_count": 28,
     "metadata": {},
     "output_type": "execute_result"
    }
   ],
   "source": [
    "len(data_req)"
   ]
  },
  {
   "cell_type": "code",
   "execution_count": 29,
   "metadata": {},
   "outputs": [],
   "source": [
    "one_hot = pd.get_dummies(data_req.subBrand)"
   ]
  },
  {
   "cell_type": "code",
   "execution_count": 30,
   "metadata": {},
   "outputs": [],
   "source": [
    "label_cols = data_req.subBrand.dropna().unique()"
   ]
  },
  {
   "cell_type": "code",
   "execution_count": 31,
   "metadata": {},
   "outputs": [
    {
     "data": {
      "text/plain": [
       "array(['basketball', 'caps', 'kids shoes (unisex)', 'action sports',\n",
       "       'low cut', 'golf bags', 'swim equipment', 'other sport equipment',\n",
       "       'tools', 'heads & beanies', 'high cut', 'balls', 'jump ropes',\n",
       "       'other bags', 'middle cut', 'artificial grass & turf', 'indoor',\n",
       "       'firm ground', 'water bottles', 'wristbands', 'sweat & headbands',\n",
       "       'training sleeves', 'umbrellas', 'sport bags', 'running/walking',\n",
       "       'legs', 'backpacks', 'belts', 'scarves', 'golf clubs',\n",
       "       'performance gloves', 'shoulder bags', 'visors', 'weights', 'hats',\n",
       "       'track and field', \"toddler's & infant's shoes\", 'training pants',\n",
       "       'unisex shoes', 'mobile accessories', 'giftsets', 'lacrosse',\n",
       "       'long sleeve', 'short sleeve', 'mats', 'power tubes', 'training',\n",
       "       'jogger', 'slides & slippers', 'sunglasses', 'wallets',\n",
       "       'performance watches', 'bandanas', 'tracksuits', 'jersey kits',\n",
       "       'shorts', 'summer sets', 'training & track jackets', 'polos',\n",
       "       'tennis', 'others', 'sandals', 'head', 'other performance shoes',\n",
       "       'hoods', 'lifestyle gloves', 'hoodies', 'vests', 'grips',\n",
       "       'baseball', 'training monitoring systems', 'soft ground', 'tights',\n",
       "       'hooded training & track jackets', 'arms', 'american football',\n",
       "       'golf', 'sweatshirts', 'torso', 'thongs / flip flops', 'jumpsuits',\n",
       "       'lifestyle watches', 'light jackets', 'sleeveless ', 'bathrobes',\n",
       "       'pullover', 'padded jackets', 'wind jackets', 'rugby',\n",
       "       'capris / skapri', 'freefootball', 'male bottoms', \"boy's shoes\",\n",
       "       \"men's shoes\", 'pants', 'cardigans', 'male tops', 'coats',\n",
       "       'spikes / studs', 'tanks & tops', \"girl's shoes\", 'softball',\n",
       "       'sport bras', \"women's shoes\", 'swimsuits', 'skorts',\n",
       "       'female bottoms', 'purses', 'dresses', 'female tops', 'bikinis',\n",
       "       'romper', 'skirts', 'trunks', 'swim shorts', 'outdoor',\n",
       "       'denim pants', 'board shorts', 'wetsuits', 'denim shorts',\n",
       "       'hockey', 'cosmetics', 'shoelaces'], dtype=object)"
      ]
     },
     "execution_count": 31,
     "metadata": {},
     "output_type": "execute_result"
    }
   ],
   "source": [
    "label_cols"
   ]
  },
  {
   "cell_type": "code",
   "execution_count": 32,
   "metadata": {},
   "outputs": [],
   "source": [
    "minCount = 10\n",
    "subBrand_minCount = pd.DataFrame((data_req.subBrand.value_counts() > minCount).reset_index())"
   ]
  },
  {
   "cell_type": "code",
   "execution_count": 33,
   "metadata": {},
   "outputs": [],
   "source": [
    "subBrand_drop = subBrand_minCount.loc[subBrand_minCount[\"subBrand\"] == False]"
   ]
  },
  {
   "cell_type": "code",
   "execution_count": 34,
   "metadata": {},
   "outputs": [
    {
     "data": {
      "text/html": [
       "<div>\n",
       "<style scoped>\n",
       "    .dataframe tbody tr th:only-of-type {\n",
       "        vertical-align: middle;\n",
       "    }\n",
       "\n",
       "    .dataframe tbody tr th {\n",
       "        vertical-align: top;\n",
       "    }\n",
       "\n",
       "    .dataframe thead th {\n",
       "        text-align: right;\n",
       "    }\n",
       "</style>\n",
       "<table border=\"1\" class=\"dataframe\">\n",
       "  <thead>\n",
       "    <tr style=\"text-align: right;\">\n",
       "      <th></th>\n",
       "      <th>index</th>\n",
       "      <th>subBrand</th>\n",
       "    </tr>\n",
       "  </thead>\n",
       "  <tbody>\n",
       "    <tr>\n",
       "      <th>117</th>\n",
       "      <td>torso</td>\n",
       "      <td>False</td>\n",
       "    </tr>\n",
       "    <tr>\n",
       "      <th>118</th>\n",
       "      <td>cosmetics</td>\n",
       "      <td>False</td>\n",
       "    </tr>\n",
       "    <tr>\n",
       "      <th>119</th>\n",
       "      <td>wetsuits</td>\n",
       "      <td>False</td>\n",
       "    </tr>\n",
       "    <tr>\n",
       "      <th>120</th>\n",
       "      <td>grips</td>\n",
       "      <td>False</td>\n",
       "    </tr>\n",
       "    <tr>\n",
       "      <th>121</th>\n",
       "      <td>denim shorts</td>\n",
       "      <td>False</td>\n",
       "    </tr>\n",
       "    <tr>\n",
       "      <th>122</th>\n",
       "      <td>shoelaces</td>\n",
       "      <td>False</td>\n",
       "    </tr>\n",
       "  </tbody>\n",
       "</table>\n",
       "</div>"
      ],
      "text/plain": [
       "            index  subBrand\n",
       "117         torso     False\n",
       "118     cosmetics     False\n",
       "119      wetsuits     False\n",
       "120         grips     False\n",
       "121  denim shorts     False\n",
       "122     shoelaces     False"
      ]
     },
     "execution_count": 34,
     "metadata": {},
     "output_type": "execute_result"
    }
   ],
   "source": [
    "subBrand_drop"
   ]
  },
  {
   "cell_type": "code",
   "execution_count": 35,
   "metadata": {},
   "outputs": [],
   "source": [
    "label_cols = np.setdiff1d(label_cols, subBrand_drop[\"index\"])"
   ]
  },
  {
   "cell_type": "code",
   "execution_count": 36,
   "metadata": {},
   "outputs": [],
   "source": [
    "data_req = pd.concat([data_req, one_hot], axis=1)"
   ]
  },
  {
   "cell_type": "code",
   "execution_count": 37,
   "metadata": {},
   "outputs": [],
   "source": [
    "import re, string\n",
    "re_tok = re.compile(f'([{string.punctuation}“”¨«»®´·º½¾¿¡§£₤‘’])')\n",
    "def tokenize(s): return re_tok.sub(r' \\1 ', s).split()"
   ]
  },
  {
   "cell_type": "code",
   "execution_count": 38,
   "metadata": {},
   "outputs": [],
   "source": [
    "description = \"description\""
   ]
  },
  {
   "cell_type": "code",
   "execution_count": 39,
   "metadata": {},
   "outputs": [],
   "source": [
    "data_req = data_req.drop(subBrand_drop[\"index\"], axis = 1)"
   ]
  },
  {
   "cell_type": "code",
   "execution_count": 40,
   "metadata": {},
   "outputs": [],
   "source": [
    "np.random.seed(123)\n",
    "data_req_sample = data_req.sample(frac=0.7)"
   ]
  },
  {
   "cell_type": "code",
   "execution_count": 41,
   "metadata": {},
   "outputs": [],
   "source": [
    "train = data_req.loc[data_req.index.isin(data_req_sample.index)]\n",
    "test = data_req.loc[~data_req.index.isin(data_req_sample.index)]"
   ]
  },
  {
   "cell_type": "code",
   "execution_count": 42,
   "metadata": {},
   "outputs": [],
   "source": [
    "test_subBrand = test.subBrand"
   ]
  },
  {
   "cell_type": "code",
   "execution_count": 43,
   "metadata": {},
   "outputs": [],
   "source": [
    "#test_subBrand"
   ]
  },
  {
   "cell_type": "code",
   "execution_count": 44,
   "metadata": {},
   "outputs": [],
   "source": [
    "train = train.drop(\"subBrand\", axis = 1)\n",
    "test = test.drop(\"subBrand\", axis = 1)"
   ]
  },
  {
   "cell_type": "code",
   "execution_count": 45,
   "metadata": {},
   "outputs": [],
   "source": [
    "# token_dict = {}\n",
    "# stemmer = PorterStemmer()\n",
    "\n",
    "# def stem_tokens(tokens, stemmer):\n",
    "#     stemmed = []\n",
    "#     for item in tokens:\n",
    "#         stemmed.append(stemmer.stem(item))\n",
    "#     return stemmed\n",
    "\n",
    "# def tokenize(text):\n",
    "#     tokens = nltk.word_tokenize(text)\n",
    "#     stems = stem_tokens(tokens, stemmer)\n",
    "#     return stems"
   ]
  },
  {
   "cell_type": "code",
   "execution_count": 46,
   "metadata": {},
   "outputs": [],
   "source": [
    "# from stop_words import get_stop_words\n",
    "# stop_words_english = get_stop_words('english')\n",
    "# stop_words_german = get_stop_words('german')"
   ]
  },
  {
   "cell_type": "code",
   "execution_count": 47,
   "metadata": {},
   "outputs": [],
   "source": [
    "#stop_words_english.append(stop_words_german)"
   ]
  },
  {
   "cell_type": "code",
   "execution_count": 48,
   "metadata": {},
   "outputs": [],
   "source": [
    "# stop_words_english = sorted(set(map(tuple, stop_words_english)), reverse=True)"
   ]
  },
  {
   "cell_type": "code",
   "execution_count": 49,
   "metadata": {},
   "outputs": [],
   "source": [
    "n = train.shape[0]\n",
    "vec = TfidfVectorizer(ngram_range=(1,2), tokenizer=tokenize,\n",
    "               min_df=3, max_df=0.9, strip_accents='unicode', use_idf=1,\n",
    "               smooth_idf=1, sublinear_tf=1)\n",
    "trn_term_doc = vec.fit_transform(train[description])\n",
    "test_term_doc = vec.transform(test[description])"
   ]
  },
  {
   "cell_type": "code",
   "execution_count": 50,
   "metadata": {},
   "outputs": [
    {
     "data": {
      "text/plain": [
       "(<188125x636444 sparse matrix of type '<class 'numpy.float64'>'\n",
       " \twith 34440039 stored elements in Compressed Sparse Row format>,\n",
       " <80625x636444 sparse matrix of type '<class 'numpy.float64'>'\n",
       " \twith 14613334 stored elements in Compressed Sparse Row format>)"
      ]
     },
     "execution_count": 50,
     "metadata": {},
     "output_type": "execute_result"
    }
   ],
   "source": [
    "trn_term_doc, test_term_doc"
   ]
  },
  {
   "cell_type": "code",
   "execution_count": 51,
   "metadata": {},
   "outputs": [],
   "source": [
    "def pr(y_i, y):\n",
    "    p = x[y==y_i].sum(0)\n",
    "    return (p+1) / ((y==y_i).sum()+1)"
   ]
  },
  {
   "cell_type": "code",
   "execution_count": 52,
   "metadata": {},
   "outputs": [],
   "source": [
    "x = trn_term_doc\n",
    "test_x = test_term_doc"
   ]
  },
  {
   "cell_type": "code",
   "execution_count": 53,
   "metadata": {},
   "outputs": [],
   "source": [
    "def get_mdl(y):\n",
    "    y = y.values\n",
    "    r = np.log(pr(1,y) / pr(0,y))\n",
    "    m = LogisticRegression(C=4, dual=True)\n",
    "    x_nb = x.multiply(r)\n",
    "    return m.fit(x_nb, y), r"
   ]
  },
  {
   "cell_type": "code",
   "execution_count": 54,
   "metadata": {},
   "outputs": [],
   "source": [
    "from sklearn.linear_model import LogisticRegression"
   ]
  },
  {
   "cell_type": "code",
   "execution_count": 55,
   "metadata": {
    "scrolled": true
   },
   "outputs": [
    {
     "name": "stdout",
     "output_type": "stream",
     "text": [
      "fit action sports\n",
      "fit american football\n",
      "fit arms\n",
      "fit artificial grass & turf\n",
      "fit backpacks\n",
      "fit balls\n",
      "fit bandanas\n",
      "fit baseball\n",
      "fit basketball\n",
      "fit bathrobes\n",
      "fit belts\n",
      "fit bikinis\n",
      "fit board shorts\n",
      "fit boy's shoes\n",
      "fit capris / skapri\n",
      "fit caps\n",
      "fit cardigans\n",
      "fit coats\n",
      "fit denim pants\n",
      "fit dresses\n",
      "fit female bottoms\n",
      "fit female tops\n",
      "fit firm ground\n",
      "fit freefootball\n",
      "fit giftsets\n",
      "fit girl's shoes\n",
      "fit golf\n",
      "fit golf bags\n",
      "fit golf clubs\n",
      "fit hats\n",
      "fit head\n",
      "fit heads & beanies\n",
      "fit high cut\n",
      "fit hockey\n",
      "fit hooded training & track jackets\n",
      "fit hoodies\n",
      "fit hoods\n",
      "fit indoor\n",
      "fit jersey kits\n",
      "fit jogger\n",
      "fit jump ropes\n",
      "fit jumpsuits\n",
      "fit kids shoes (unisex)\n",
      "fit lacrosse\n",
      "fit legs\n",
      "fit lifestyle gloves\n",
      "fit lifestyle watches\n",
      "fit light jackets\n",
      "fit long sleeve\n",
      "fit low cut\n",
      "fit male bottoms\n",
      "fit male tops\n",
      "fit mats\n",
      "fit men's shoes\n",
      "fit middle cut\n",
      "fit mobile accessories\n",
      "fit other bags\n",
      "fit other performance shoes\n",
      "fit other sport equipment\n",
      "fit others\n",
      "fit outdoor\n",
      "fit padded jackets\n",
      "fit pants\n",
      "fit performance gloves\n",
      "fit performance watches\n",
      "fit polos\n",
      "fit power tubes\n",
      "fit pullover\n",
      "fit purses\n",
      "fit romper\n",
      "fit rugby\n",
      "fit running/walking\n",
      "fit sandals\n",
      "fit scarves\n",
      "fit short sleeve\n",
      "fit shorts\n",
      "fit shoulder bags\n",
      "fit skirts\n",
      "fit skorts\n",
      "fit sleeveless \n",
      "fit slides & slippers\n",
      "fit soft ground\n",
      "fit softball\n",
      "fit spikes / studs\n",
      "fit sport bags\n",
      "fit sport bras\n",
      "fit summer sets\n",
      "fit sunglasses\n",
      "fit sweat & headbands\n",
      "fit sweatshirts\n",
      "fit swim equipment\n",
      "fit swim shorts\n",
      "fit swimsuits\n",
      "fit tanks & tops\n",
      "fit tennis\n",
      "fit thongs / flip flops\n",
      "fit tights\n",
      "fit toddler's & infant's shoes\n",
      "fit tools\n",
      "fit track and field\n",
      "fit tracksuits\n",
      "fit training\n",
      "fit training & track jackets\n",
      "fit training monitoring systems\n",
      "fit training pants\n",
      "fit training sleeves\n",
      "fit trunks\n",
      "fit umbrellas\n",
      "fit unisex shoes\n",
      "fit vests\n",
      "fit visors\n",
      "fit wallets\n",
      "fit water bottles\n",
      "fit weights\n",
      "fit wind jackets\n",
      "fit women's shoes\n",
      "fit wristbands\n"
     ]
    }
   ],
   "source": [
    "preds = np.zeros((len(test), len(label_cols)))\n",
    "\n",
    "for i, j in enumerate(label_cols):\n",
    "    print('fit', j)\n",
    "    m,r = get_mdl(train[j])\n",
    "    preds[:,i] = m.predict_proba(test_x.multiply(r))[:,1]"
   ]
  },
  {
   "cell_type": "code",
   "execution_count": 56,
   "metadata": {},
   "outputs": [
    {
     "data": {
      "text/plain": [
       "(80625, 117)"
      ]
     },
     "execution_count": 56,
     "metadata": {},
     "output_type": "execute_result"
    }
   ],
   "source": [
    "preds.shape"
   ]
  },
  {
   "cell_type": "code",
   "execution_count": 57,
   "metadata": {},
   "outputs": [],
   "source": [
    "predictions = pd.DataFrame(preds, columns = label_cols)"
   ]
  },
  {
   "cell_type": "code",
   "execution_count": 58,
   "metadata": {},
   "outputs": [],
   "source": [
    "test.index = np.arange(0, len(test))\n",
    "test_subBrand.index = np.arange(0, len(test))"
   ]
  },
  {
   "cell_type": "code",
   "execution_count": 59,
   "metadata": {},
   "outputs": [
    {
     "data": {
      "text/plain": [
       "80625"
      ]
     },
     "execution_count": 59,
     "metadata": {},
     "output_type": "execute_result"
    }
   ],
   "source": [
    "len(test)"
   ]
  },
  {
   "cell_type": "code",
   "execution_count": 60,
   "metadata": {},
   "outputs": [],
   "source": [
    "submid = pd.DataFrame({'description': test[\"description\"]})\n",
    "submission = pd.concat([submid, pd.DataFrame(preds, columns = label_cols)], axis=1)"
   ]
  },
  {
   "cell_type": "code",
   "execution_count": 61,
   "metadata": {},
   "outputs": [
    {
     "data": {
      "text/html": [
       "<div>\n",
       "<style scoped>\n",
       "    .dataframe tbody tr th:only-of-type {\n",
       "        vertical-align: middle;\n",
       "    }\n",
       "\n",
       "    .dataframe tbody tr th {\n",
       "        vertical-align: top;\n",
       "    }\n",
       "\n",
       "    .dataframe thead th {\n",
       "        text-align: right;\n",
       "    }\n",
       "</style>\n",
       "<table border=\"1\" class=\"dataframe\">\n",
       "  <thead>\n",
       "    <tr style=\"text-align: right;\">\n",
       "      <th></th>\n",
       "      <th>description</th>\n",
       "      <th>action sports</th>\n",
       "      <th>american football</th>\n",
       "      <th>arms</th>\n",
       "      <th>artificial grass &amp; turf</th>\n",
       "      <th>backpacks</th>\n",
       "      <th>balls</th>\n",
       "      <th>bandanas</th>\n",
       "      <th>baseball</th>\n",
       "      <th>basketball</th>\n",
       "      <th>...</th>\n",
       "      <th>umbrellas</th>\n",
       "      <th>unisex shoes</th>\n",
       "      <th>vests</th>\n",
       "      <th>visors</th>\n",
       "      <th>wallets</th>\n",
       "      <th>water bottles</th>\n",
       "      <th>weights</th>\n",
       "      <th>wind jackets</th>\n",
       "      <th>women's shoes</th>\n",
       "      <th>wristbands</th>\n",
       "    </tr>\n",
       "  </thead>\n",
       "  <tbody>\n",
       "    <tr>\n",
       "      <th>0</th>\n",
       "      <td>nike usa nike cortez big kids' shoe a classic,...</td>\n",
       "      <td>0.000182</td>\n",
       "      <td>0.000032</td>\n",
       "      <td>0.000011</td>\n",
       "      <td>0.000063</td>\n",
       "      <td>0.000067</td>\n",
       "      <td>0.000049</td>\n",
       "      <td>0.000014</td>\n",
       "      <td>0.000027</td>\n",
       "      <td>0.001564</td>\n",
       "      <td>...</td>\n",
       "      <td>0.000012</td>\n",
       "      <td>0.000370</td>\n",
       "      <td>0.000052</td>\n",
       "      <td>0.000036</td>\n",
       "      <td>0.000020</td>\n",
       "      <td>0.000021</td>\n",
       "      <td>0.000010</td>\n",
       "      <td>0.000103</td>\n",
       "      <td>0.008721</td>\n",
       "      <td>0.000035</td>\n",
       "    </tr>\n",
       "    <tr>\n",
       "      <th>1</th>\n",
       "      <td>nike germany nike performance low-cut socken f...</td>\n",
       "      <td>0.000103</td>\n",
       "      <td>0.000018</td>\n",
       "      <td>0.000010</td>\n",
       "      <td>0.000053</td>\n",
       "      <td>0.000068</td>\n",
       "      <td>0.000057</td>\n",
       "      <td>0.000011</td>\n",
       "      <td>0.000020</td>\n",
       "      <td>0.000151</td>\n",
       "      <td>...</td>\n",
       "      <td>0.000014</td>\n",
       "      <td>0.000071</td>\n",
       "      <td>0.000078</td>\n",
       "      <td>0.000035</td>\n",
       "      <td>0.000019</td>\n",
       "      <td>0.000022</td>\n",
       "      <td>0.000012</td>\n",
       "      <td>0.000104</td>\n",
       "      <td>0.000023</td>\n",
       "      <td>0.000106</td>\n",
       "    </tr>\n",
       "    <tr>\n",
       "      <th>2</th>\n",
       "      <td>nike usa nike jr. tiempo legend vi tf kids' tu...</td>\n",
       "      <td>0.000234</td>\n",
       "      <td>0.000108</td>\n",
       "      <td>0.000018</td>\n",
       "      <td>0.991886</td>\n",
       "      <td>0.000073</td>\n",
       "      <td>0.000082</td>\n",
       "      <td>0.000014</td>\n",
       "      <td>0.000068</td>\n",
       "      <td>0.000484</td>\n",
       "      <td>...</td>\n",
       "      <td>0.000013</td>\n",
       "      <td>0.000322</td>\n",
       "      <td>0.000060</td>\n",
       "      <td>0.000033</td>\n",
       "      <td>0.000020</td>\n",
       "      <td>0.000028</td>\n",
       "      <td>0.000012</td>\n",
       "      <td>0.000112</td>\n",
       "      <td>0.000238</td>\n",
       "      <td>0.000038</td>\n",
       "    </tr>\n",
       "    <tr>\n",
       "      <th>3</th>\n",
       "      <td>nike usa nike mercurial victory v tf kids' tur...</td>\n",
       "      <td>0.000125</td>\n",
       "      <td>0.000461</td>\n",
       "      <td>0.000014</td>\n",
       "      <td>0.997604</td>\n",
       "      <td>0.000083</td>\n",
       "      <td>0.000266</td>\n",
       "      <td>0.000018</td>\n",
       "      <td>0.000209</td>\n",
       "      <td>0.000226</td>\n",
       "      <td>...</td>\n",
       "      <td>0.000016</td>\n",
       "      <td>0.000181</td>\n",
       "      <td>0.000063</td>\n",
       "      <td>0.000035</td>\n",
       "      <td>0.000023</td>\n",
       "      <td>0.000022</td>\n",
       "      <td>0.000014</td>\n",
       "      <td>0.000111</td>\n",
       "      <td>0.000050</td>\n",
       "      <td>0.000042</td>\n",
       "    </tr>\n",
       "    <tr>\n",
       "      <th>4</th>\n",
       "      <td>nike usa nike jr. mercurial victory v ic kids'...</td>\n",
       "      <td>0.000260</td>\n",
       "      <td>0.000029</td>\n",
       "      <td>0.000014</td>\n",
       "      <td>0.000445</td>\n",
       "      <td>0.000072</td>\n",
       "      <td>0.000280</td>\n",
       "      <td>0.000015</td>\n",
       "      <td>0.000026</td>\n",
       "      <td>0.000823</td>\n",
       "      <td>...</td>\n",
       "      <td>0.000014</td>\n",
       "      <td>0.000190</td>\n",
       "      <td>0.000058</td>\n",
       "      <td>0.000037</td>\n",
       "      <td>0.000022</td>\n",
       "      <td>0.000022</td>\n",
       "      <td>0.000012</td>\n",
       "      <td>0.000099</td>\n",
       "      <td>0.000059</td>\n",
       "      <td>0.000041</td>\n",
       "    </tr>\n",
       "  </tbody>\n",
       "</table>\n",
       "<p>5 rows × 118 columns</p>\n",
       "</div>"
      ],
      "text/plain": [
       "                                         description  action sports  \\\n",
       "0  nike usa nike cortez big kids' shoe a classic,...       0.000182   \n",
       "1  nike germany nike performance low-cut socken f...       0.000103   \n",
       "2  nike usa nike jr. tiempo legend vi tf kids' tu...       0.000234   \n",
       "3  nike usa nike mercurial victory v tf kids' tur...       0.000125   \n",
       "4  nike usa nike jr. mercurial victory v ic kids'...       0.000260   \n",
       "\n",
       "   american football      arms  artificial grass & turf  backpacks     balls  \\\n",
       "0           0.000032  0.000011                 0.000063   0.000067  0.000049   \n",
       "1           0.000018  0.000010                 0.000053   0.000068  0.000057   \n",
       "2           0.000108  0.000018                 0.991886   0.000073  0.000082   \n",
       "3           0.000461  0.000014                 0.997604   0.000083  0.000266   \n",
       "4           0.000029  0.000014                 0.000445   0.000072  0.000280   \n",
       "\n",
       "   bandanas  baseball  basketball     ...      umbrellas  unisex shoes  \\\n",
       "0  0.000014  0.000027    0.001564     ...       0.000012      0.000370   \n",
       "1  0.000011  0.000020    0.000151     ...       0.000014      0.000071   \n",
       "2  0.000014  0.000068    0.000484     ...       0.000013      0.000322   \n",
       "3  0.000018  0.000209    0.000226     ...       0.000016      0.000181   \n",
       "4  0.000015  0.000026    0.000823     ...       0.000014      0.000190   \n",
       "\n",
       "      vests    visors   wallets  water bottles   weights  wind jackets  \\\n",
       "0  0.000052  0.000036  0.000020       0.000021  0.000010      0.000103   \n",
       "1  0.000078  0.000035  0.000019       0.000022  0.000012      0.000104   \n",
       "2  0.000060  0.000033  0.000020       0.000028  0.000012      0.000112   \n",
       "3  0.000063  0.000035  0.000023       0.000022  0.000014      0.000111   \n",
       "4  0.000058  0.000037  0.000022       0.000022  0.000012      0.000099   \n",
       "\n",
       "   women's shoes  wristbands  \n",
       "0       0.008721    0.000035  \n",
       "1       0.000023    0.000106  \n",
       "2       0.000238    0.000038  \n",
       "3       0.000050    0.000042  \n",
       "4       0.000059    0.000041  \n",
       "\n",
       "[5 rows x 118 columns]"
      ]
     },
     "execution_count": 61,
     "metadata": {},
     "output_type": "execute_result"
    }
   ],
   "source": [
    "submission.head()"
   ]
  },
  {
   "cell_type": "code",
   "execution_count": 62,
   "metadata": {},
   "outputs": [],
   "source": [
    "final_pred = pd.concat([submission, test_subBrand.str.lower()],axis = 1)"
   ]
  },
  {
   "cell_type": "code",
   "execution_count": 63,
   "metadata": {
    "scrolled": true
   },
   "outputs": [
    {
     "data": {
      "text/plain": [
       "short sleeve                       12503\n",
       "men's shoes                         5322\n",
       "running/walking                     5035\n",
       "shorts                              4774\n",
       "women's shoes                       3672\n",
       "training pants                      3316\n",
       "long sleeve                         2688\n",
       "tanks & tops                        2485\n",
       "hooded training & track jackets     2132\n",
       "hoodies                             2061\n",
       "training                            2045\n",
       "caps                                1958\n",
       "tights                              1923\n",
       "polos                               1645\n",
       "training & track jackets            1493\n",
       "unisex shoes                        1428\n",
       "firm ground                         1231\n",
       "sweatshirts                         1164\n",
       "backpacks                           1161\n",
       "kids shoes (unisex)                 1123\n",
       "sport bras                          1117\n",
       "basketball                          1001\n",
       "capris / skapri                      948\n",
       "light jackets                        908\n",
       "sleeveless                           855\n",
       "middle cut                           795\n",
       "wind jackets                         733\n",
       "action sports                        710\n",
       "toddler's & infant's shoes           709\n",
       "artificial grass & turf              707\n",
       "                                   ...  \n",
       "board shorts                          42\n",
       "lifestyle gloves                      42\n",
       "golf bags                             37\n",
       "rugby                                 36\n",
       "hats                                  30\n",
       "giftsets                              30\n",
       "training monitoring systems           28\n",
       "romper                                21\n",
       "mats                                  20\n",
       "cardigans                             17\n",
       "bandanas                              17\n",
       "lacrosse                              16\n",
       "umbrellas                             15\n",
       "softball                              14\n",
       "head                                  10\n",
       "male tops                              9\n",
       "female tops                            8\n",
       "hockey                                 8\n",
       "tools                                  6\n",
       "jump ropes                             5\n",
       "spikes / studs                         5\n",
       "weights                                5\n",
       "denim pants                            5\n",
       "hoods                                  4\n",
       "cosmetics                              3\n",
       "grips                                  3\n",
       "arms                                   2\n",
       "bathrobes                              2\n",
       "wetsuits                               1\n",
       "power tubes                            1\n",
       "Name: subBrand, Length: 120, dtype: int64"
      ]
     },
     "execution_count": 63,
     "metadata": {},
     "output_type": "execute_result"
    }
   ],
   "source": [
    "test_subBrand.str.lower().value_counts()"
   ]
  },
  {
   "cell_type": "code",
   "execution_count": 66,
   "metadata": {},
   "outputs": [
    {
     "data": {
      "text/plain": [
       "Short Sleeve                       42276\n",
       "Men's Shoes                        17943\n",
       "Running/Walking                    16777\n",
       "Shorts                             16147\n",
       "Women's Shoes                      12173\n",
       "Training Pants                     11086\n",
       "Long Sleeve                         8950\n",
       "Tanks & Tops                        8259\n",
       "Hooded Training & Track Jackets     7069\n",
       "Hoodies                             6865\n",
       "Training                            6794\n",
       "Tights                              6526\n",
       "Caps                                6512\n",
       "Polos                               5609\n",
       "Training & Track Jackets            5094\n",
       "Unisex Shoes                        4592\n",
       "Firm Ground                         4035\n",
       "Sweatshirts                         3893\n",
       "Backpacks                           3863\n",
       "Kids Shoes (unisex)                 3818\n",
       "Sport Bras                          3747\n",
       "Basketball                          3426\n",
       "Capris / Skapri                     3243\n",
       "Light Jackets                       3108\n",
       "Sleeveless                          2967\n",
       "Middle Cut                          2626\n",
       "Wind Jackets                        2463\n",
       "Action Sports                       2435\n",
       "Toddler's & Infant's Shoes          2416\n",
       "Artificial Grass & Turf             2412\n",
       "                                   ...  \n",
       "Hats                                 122\n",
       "Giftsets                             107\n",
       "Rugby                                 97\n",
       "Romper                                78\n",
       "Training Monitoring Systems           78\n",
       "Mats                                  76\n",
       "Lacrosse                              63\n",
       "Cardigans                             58\n",
       "Bandanas                              44\n",
       "Umbrellas                             37\n",
       "Male Tops                             36\n",
       "Hockey                                35\n",
       "Denim Pants                           34\n",
       "Head                                  30\n",
       "Female Tops                           30\n",
       "Softball                              27\n",
       "Jump Ropes                            25\n",
       "Hoods                                 20\n",
       "Arms                                  16\n",
       "Tools                                 16\n",
       "Bathrobes                             15\n",
       "Spikes / Studs                        14\n",
       "Weights                               14\n",
       "Power Tubes                           11\n",
       "Torso                                  6\n",
       "Cosmetics                              5\n",
       "Wetsuits                               5\n",
       "Grips                                  5\n",
       "Denim Shorts                           3\n",
       "Shoelaces                              1\n",
       "Name: PRODUCT TYPE, Length: 123, dtype: int64"
      ]
     },
     "execution_count": 66,
     "metadata": {},
     "output_type": "execute_result"
    }
   ],
   "source": [
    "data[\"PRODUCT TYPE\"].value_counts()"
   ]
  },
  {
   "cell_type": "code",
   "execution_count": 67,
   "metadata": {},
   "outputs": [],
   "source": [
    "final_pred[\"Predictions\"] = final_pred[label_cols].idxmax(axis = 1)"
   ]
  },
  {
   "cell_type": "code",
   "execution_count": 68,
   "metadata": {},
   "outputs": [],
   "source": [
    "from mlxtend.evaluate import confusion_matrix\n",
    "\n",
    "y_target =    final_pred.subBrand\n",
    "y_predicted = final_pred.Predictions\n",
    "\n",
    "cm = confusion_matrix(y_target=y_target, \n",
    "                      y_predicted=y_predicted, \n",
    "                      binary=False)"
   ]
  },
  {
   "cell_type": "code",
   "execution_count": 69,
   "metadata": {},
   "outputs": [
    {
     "data": {
      "image/png": "[encoded data removed]",
      "text/plain": [
       "<Figure size 432x288 with 1 Axes>"
      ]
     },
     "metadata": {},
     "output_type": "display_data"
    }
   ],
   "source": [
    "import matplotlib.pyplot as plt\n",
    "from mlxtend.plotting import plot_confusion_matrix\n",
    "import numpy as np\n",
    "\n",
    "fig, ax = plot_confusion_matrix(conf_mat=cm)\n",
    "plt.show()"
   ]
  },
  {
   "cell_type": "code",
   "execution_count": 70,
   "metadata": {},
   "outputs": [
    {
     "name": "stdout",
     "output_type": "stream",
     "text": [
      "Accuracy Score : 0.9176806201550387\n"
     ]
    },
    {
     "name": "stderr",
     "output_type": "stream",
     "text": [
      "C:\\Users\\narendran.thesma\\AppData\\Local\\Continuum\\anaconda3\\lib\\site-packages\\sklearn\\metrics\\classification.py:1135: UndefinedMetricWarning: F-score is ill-defined and being set to 0.0 in labels with no predicted samples.\n",
      "  'precision', 'predicted', average, warn_for)\n"
     ]
    },
    {
     "name": "stdout",
     "output_type": "stream",
     "text": [
      "F1 Score: 0.8298311353809656\n"
     ]
    },
    {
     "name": "stderr",
     "output_type": "stream",
     "text": [
      "C:\\Users\\narendran.thesma\\AppData\\Local\\Continuum\\anaconda3\\lib\\site-packages\\sklearn\\metrics\\classification.py:1135: UndefinedMetricWarning: Precision is ill-defined and being set to 0.0 in labels with no predicted samples.\n",
      "  'precision', 'predicted', average, warn_for)\n"
     ]
    },
    {
     "name": "stdout",
     "output_type": "stream",
     "text": [
      "Precision: 0.8655640300498464\n",
      "Recall: 0.8108086821485031\n"
     ]
    }
   ],
   "source": [
    "print(f'Accuracy Score : {accuracy_score(final_pred.subBrand, final_pred.Predictions)}')\n",
    "print(f'F1 Score: {f1_score(final_pred.subBrand, final_pred.Predictions, average=\"macro\")}')\n",
    "print(f'Precision: {precision_score(final_pred.subBrand, final_pred.Predictions, average=\"macro\")}')\n",
    "print(f'Recall: {recall_score(final_pred.subBrand, final_pred.Predictions, average=\"macro\")}')"
   ]
  },
  {
   "cell_type": "code",
   "execution_count": 88,
   "metadata": {},
   "outputs": [],
   "source": [
    "#final_pred.to_csv(\"final_output_SubBrand_v4.csv\", index_label=False, index=False)"
   ]
  },
  {
   "cell_type": "code",
   "execution_count": 83,
   "metadata": {},
   "outputs": [
    {
     "data": {
      "text/plain": [
       "20860"
      ]
     },
     "execution_count": 83,
     "metadata": {},
     "output_type": "execute_result"
    }
   ],
   "source": [
    "len(final_pred)"
   ]
  },
  {
   "cell_type": "code",
   "execution_count": 51,
   "metadata": {},
   "outputs": [],
   "source": [
    "#test_subBrand"
   ]
  },
  {
   "cell_type": "code",
   "execution_count": 52,
   "metadata": {},
   "outputs": [
    {
     "data": {
      "text/plain": [
       "15062"
      ]
     },
     "execution_count": 52,
     "metadata": {},
     "output_type": "execute_result"
    }
   ],
   "source": [
    "len(submission)"
   ]
  },
  {
   "cell_type": "code",
   "execution_count": 54,
   "metadata": {},
   "outputs": [],
   "source": [
    "#final_pred.isnull().sum()"
   ]
  },
  {
   "cell_type": "code",
   "execution_count": null,
   "metadata": {},
   "outputs": [],
   "source": []
  }
 ],
 "metadata": {
  "kernelspec": {
   "display_name": "Python 3",
   "language": "python",
   "name": "python3"
  },
  "language_info": {
   "codemirror_mode": {
    "name": "ipython",
    "version": 3
   },
   "file_extension": ".py",
   "mimetype": "text/x-python",
   "name": "python",
   "nbconvert_exporter": "python",
   "pygments_lexer": "ipython3",
   "version": "3.6.5"
  }
 },
 "nbformat": 4,
 "nbformat_minor": 2
}

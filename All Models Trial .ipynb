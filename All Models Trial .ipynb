{
 "cells": [
  {
   "cell_type": "code",
   "execution_count": 1,
   "metadata": {},
   "outputs": [
    {
     "name": "stderr",
     "output_type": "stream",
     "text": [
      "C:\\Users\\narendran.thesma\\AppData\\Local\\Continuum\\anaconda3\\lib\\site-packages\\h5py\\__init__.py:36: FutureWarning: Conversion of the second argument of issubdtype from `float` to `np.floating` is deprecated. In future, it will be treated as `np.float64 == np.dtype(float).type`.\n",
      "  from ._conv import register_converters as _register_converters\n",
      "Using TensorFlow backend.\n"
     ]
    }
   ],
   "source": [
    "import pandas as pd\n",
    "import numpy as np\n",
    "import xgboost as xgb\n",
    "from tqdm import tqdm\n",
    "from sklearn.svm import SVC\n",
    "from keras.models import Sequential\n",
    "from keras.layers.recurrent import LSTM, GRU\n",
    "from keras.layers.core import Dense, Activation, Dropout\n",
    "from keras.layers.embeddings import Embedding\n",
    "from keras.layers.normalization import BatchNormalization\n",
    "from keras.utils import np_utils\n",
    "from sklearn import preprocessing, decomposition, model_selection, metrics, pipeline\n",
    "from sklearn.model_selection import GridSearchCV\n",
    "from sklearn.feature_extraction.text import TfidfVectorizer, CountVectorizer\n",
    "from sklearn.decomposition import TruncatedSVD\n",
    "from sklearn.linear_model import LogisticRegression\n",
    "from sklearn.model_selection import train_test_split\n",
    "from sklearn.naive_bayes import MultinomialNB\n",
    "from keras.layers import GlobalMaxPooling1D, Conv1D, MaxPooling1D, Flatten, Bidirectional, SpatialDropout1D\n",
    "from keras.preprocessing import sequence, text\n",
    "from keras.callbacks import EarlyStopping\n",
    "from nltk import word_tokenize\n",
    "import nltk\n",
    "#nltk.download('stopwords')\n",
    "from nltk.corpus import stopwords\n",
    "stop_words = stopwords.words('english')"
   ]
  },
  {
   "cell_type": "code",
   "execution_count": 2,
   "metadata": {},
   "outputs": [],
   "source": [
    "import xgboost as xgb\n",
    "from sklearn.model_selection import RandomizedSearchCV, GridSearchCV\n",
    "from sklearn.metrics import roc_auc_score\n",
    "from sklearn.model_selection import StratifiedKFold\n",
    "from bayes_opt import BayesianOptimization"
   ]
  },
  {
   "cell_type": "code",
   "execution_count": 3,
   "metadata": {},
   "outputs": [],
   "source": [
    "# data_1 = pd.read_csv(\"Adidas GPMT/GPMT Project/15th Oct 35 CSV.csv\", encoding='latin-1')\n",
    "# data_2 = pd.read_csv(\"Adidas GPMT/GPMT Project/15th Oct 37 CSV.csv\", encoding='latin-1')\n",
    "# data_3 = pd.read_csv(\"Adidas GPMT/GPMT Project/15th Oct 38 CSV.csv\", encoding='latin-1')\n",
    "# data_4 = pd.read_csv(\"Adidas GPMT/GPMT Project/15th Oct 39 CSV.csv\", encoding='latin-1')\n",
    "# data = data_1.append(data_2, ignore_index=True)\n",
    "# data = data.append(data_3, ignore_index=True)\n",
    "# data = data.append(data_4, ignore_index=True)\n",
    "# data.head()"
   ]
  },
  {
   "cell_type": "code",
   "execution_count": 4,
   "metadata": {},
   "outputs": [
    {
     "data": {
      "text/html": [
       "<div>\n",
       "<style scoped>\n",
       "    .dataframe tbody tr th:only-of-type {\n",
       "        vertical-align: middle;\n",
       "    }\n",
       "\n",
       "    .dataframe tbody tr th {\n",
       "        vertical-align: top;\n",
       "    }\n",
       "\n",
       "    .dataframe thead th {\n",
       "        text-align: right;\n",
       "    }\n",
       "</style>\n",
       "<table border=\"1\" class=\"dataframe\">\n",
       "  <thead>\n",
       "    <tr style=\"text-align: right;\">\n",
       "      <th></th>\n",
       "      <th>COMPANY</th>\n",
       "      <th>COUNTRY</th>\n",
       "      <th>DISTRIBUTOR</th>\n",
       "      <th>ARTICLE ID</th>\n",
       "      <th>MODEL NUMBER</th>\n",
       "      <th>ARTICLE NAME</th>\n",
       "      <th>SUBBRAND</th>\n",
       "      <th>SPORTS CATEGORY</th>\n",
       "      <th>PRODUCT DIVISION</th>\n",
       "      <th>PRODUCT GROUP</th>\n",
       "      <th>...</th>\n",
       "      <th>CURRENT PRICE IN EUR</th>\n",
       "      <th>INITIAL PRICE IN SELECTED CURRENCY</th>\n",
       "      <th>CURRENT PRICE IN SELECTED CURRENCY</th>\n",
       "      <th>SELECTED CURRENCY</th>\n",
       "      <th>PRODUCT INTRODUCTION DATE</th>\n",
       "      <th>DISCOUNTED SINCE</th>\n",
       "      <th>PRODUCT EXIT DATE</th>\n",
       "      <th>PRODUCT DESCRIPTION</th>\n",
       "      <th>PRODUCT URL</th>\n",
       "      <th>IMAGE-SERVER URL</th>\n",
       "    </tr>\n",
       "  </thead>\n",
       "  <tbody>\n",
       "    <tr>\n",
       "      <th>0</th>\n",
       "      <td>Nike</td>\n",
       "      <td>Japan</td>\n",
       "      <td>Own eCom</td>\n",
       "      <td>BG0387-001</td>\n",
       "      <td>BG0387</td>\n",
       "      <td>ナイキ コア ハーフ KV ゴルフバッグ</td>\n",
       "      <td>Performance</td>\n",
       "      <td>Golf</td>\n",
       "      <td>Accessories</td>\n",
       "      <td>Bags</td>\n",
       "      <td>...</td>\n",
       "      <td>99.144</td>\n",
       "      <td>116.640</td>\n",
       "      <td>99.144</td>\n",
       "      <td>EUR</td>\n",
       "      <td>2/22/2016</td>\n",
       "      <td>12/26/2016</td>\n",
       "      <td>1/2/2017</td>\n",
       "      <td>整理しやすいゴルフバッグ。快適な持ち運び。 ナイキ コア ハーフ KV ゴルフバッグは、専用...</td>\n",
       "      <td>http://store.nike.com/jp/ja_jp/pd/%25E3%2583%2...</td>\n",
       "      <td>http://usporamap287.am.adsint.biz/zoomimages/1...</td>\n",
       "    </tr>\n",
       "    <tr>\n",
       "      <th>1</th>\n",
       "      <td>Nike</td>\n",
       "      <td>Japan</td>\n",
       "      <td>Own eCom</td>\n",
       "      <td>839240-001</td>\n",
       "      <td>839240</td>\n",
       "      <td>ナイキ コルテッツ QS キッズシューズ</td>\n",
       "      <td>Sport Inspired</td>\n",
       "      <td>Lifestyle</td>\n",
       "      <td>Footwear</td>\n",
       "      <td>Sport Inspired Footwear</td>\n",
       "      <td>...</td>\n",
       "      <td>62.820</td>\n",
       "      <td>82.620</td>\n",
       "      <td>62.820</td>\n",
       "      <td>EUR</td>\n",
       "      <td>2/22/2016</td>\n",
       "      <td>4/5/2016</td>\n",
       "      <td>7/26/2016</td>\n",
       "      <td>高級感のあるレトロスタイル   ナイキ コルテッツ QS キッズシューズは、上質なレザーのア...</td>\n",
       "      <td>http://store.nike.com/jp/ja_jp/pd/%25E3%2583%2...</td>\n",
       "      <td>http://usporamap287.am.adsint.biz/zoomimages/1...</td>\n",
       "    </tr>\n",
       "    <tr>\n",
       "      <th>2</th>\n",
       "      <td>Nike</td>\n",
       "      <td>Japan</td>\n",
       "      <td>Own eCom</td>\n",
       "      <td>GL0783-101</td>\n",
       "      <td>GL0783</td>\n",
       "      <td>ナイキ レジン スピード レッド ゴルフボール</td>\n",
       "      <td>Performance</td>\n",
       "      <td>Golf</td>\n",
       "      <td>Accessories</td>\n",
       "      <td>Sport Equipment</td>\n",
       "      <td>...</td>\n",
       "      <td>31.104</td>\n",
       "      <td>31.104</td>\n",
       "      <td>31.104</td>\n",
       "      <td>EUR</td>\n",
       "      <td>2/15/2016</td>\n",
       "      <td>Not discounted yet</td>\n",
       "      <td>8/29/2016</td>\n",
       "      <td>高初速でより遠くへ ナイキ レジン スピード レッド ゴルフボールは、更にソフトになった新開...</td>\n",
       "      <td>http://store.nike.com/jp/ja_jp/pd/%25E3%2583%2...</td>\n",
       "      <td>http://usporamap287.am.adsint.biz/zoomimages/1...</td>\n",
       "    </tr>\n",
       "    <tr>\n",
       "      <th>3</th>\n",
       "      <td>Nike</td>\n",
       "      <td>Japan</td>\n",
       "      <td>Own eCom</td>\n",
       "      <td>GL0781-101</td>\n",
       "      <td>GL0781</td>\n",
       "      <td>ナイキ レジン ツアー ブラック ゴルフボール</td>\n",
       "      <td>Performance</td>\n",
       "      <td>Golf</td>\n",
       "      <td>Accessories</td>\n",
       "      <td>Sport Equipment</td>\n",
       "      <td>...</td>\n",
       "      <td>28.764</td>\n",
       "      <td>58.320</td>\n",
       "      <td>28.764</td>\n",
       "      <td>EUR</td>\n",
       "      <td>2/15/2016</td>\n",
       "      <td>2/27/2017</td>\n",
       "      <td>6/27/2017</td>\n",
       "      <td>低スピンでより遠くへ ナイキ レジン ツアー ブラック ゴルフボールは、更にソフトになったR...</td>\n",
       "      <td>http://store.nike.com/jp/ja_jp/pd/%25E3%2583%2...</td>\n",
       "      <td>http://usporamap287.am.adsint.biz/zoomimages/1...</td>\n",
       "    </tr>\n",
       "    <tr>\n",
       "      <th>4</th>\n",
       "      <td>Nike</td>\n",
       "      <td>Japan</td>\n",
       "      <td>Own eCom</td>\n",
       "      <td>AC3877-005</td>\n",
       "      <td>AC3877</td>\n",
       "      <td>ナイキ ATG スピード ジャンプ ロープ</td>\n",
       "      <td>Performance</td>\n",
       "      <td>Training</td>\n",
       "      <td>Accessories</td>\n",
       "      <td>Sport Equipment</td>\n",
       "      <td>...</td>\n",
       "      <td>28.188</td>\n",
       "      <td>28.188</td>\n",
       "      <td>28.188</td>\n",
       "      <td>EUR</td>\n",
       "      <td>2/15/2016</td>\n",
       "      <td>Not discounted yet</td>\n",
       "      <td>7/19/2016</td>\n",
       "      <td>軽く、速く、カスタマイズも可能。 ナイキ ATG スピード ジャンプ ロープは、滑りにくいボ...</td>\n",
       "      <td>http://store.nike.com/jp/ja_jp/pd/%25E3%2583%2...</td>\n",
       "      <td>http://usporamap287.am.adsint.biz/zoomimages/1...</td>\n",
       "    </tr>\n",
       "  </tbody>\n",
       "</table>\n",
       "<p>5 rows × 32 columns</p>\n",
       "</div>"
      ],
      "text/plain": [
       "  COMPANY COUNTRY DISTRIBUTOR  ARTICLE ID MODEL NUMBER  \\\n",
       "0    Nike   Japan    Own eCom  BG0387-001       BG0387   \n",
       "1    Nike   Japan    Own eCom  839240-001       839240   \n",
       "2    Nike   Japan    Own eCom  GL0783-101       GL0783   \n",
       "3    Nike   Japan    Own eCom  GL0781-101       GL0781   \n",
       "4    Nike   Japan    Own eCom  AC3877-005       AC3877   \n",
       "\n",
       "              ARTICLE NAME        SUBBRAND SPORTS CATEGORY PRODUCT DIVISION  \\\n",
       "0     ナイキ コア ハーフ KV ゴルフバッグ     Performance            Golf      Accessories   \n",
       "1     ナイキ コルテッツ QS キッズシューズ  Sport Inspired       Lifestyle         Footwear   \n",
       "2  ナイキ レジン スピード レッド ゴルフボール     Performance            Golf      Accessories   \n",
       "3  ナイキ レジン ツアー ブラック ゴルフボール     Performance            Golf      Accessories   \n",
       "4    ナイキ ATG スピード ジャンプ ロープ     Performance        Training      Accessories   \n",
       "\n",
       "             PRODUCT GROUP                        ...                          \\\n",
       "0                     Bags                        ...                           \n",
       "1  Sport Inspired Footwear                        ...                           \n",
       "2          Sport Equipment                        ...                           \n",
       "3          Sport Equipment                        ...                           \n",
       "4          Sport Equipment                        ...                           \n",
       "\n",
       "  CURRENT PRICE IN EUR INITIAL PRICE IN SELECTED CURRENCY  \\\n",
       "0               99.144                            116.640   \n",
       "1               62.820                             82.620   \n",
       "2               31.104                             31.104   \n",
       "3               28.764                             58.320   \n",
       "4               28.188                             28.188   \n",
       "\n",
       "  CURRENT PRICE IN SELECTED CURRENCY SELECTED CURRENCY  \\\n",
       "0                             99.144               EUR   \n",
       "1                             62.820               EUR   \n",
       "2                             31.104               EUR   \n",
       "3                             28.764               EUR   \n",
       "4                             28.188               EUR   \n",
       "\n",
       "  PRODUCT INTRODUCTION DATE    DISCOUNTED SINCE PRODUCT EXIT DATE  \\\n",
       "0                 2/22/2016          12/26/2016          1/2/2017   \n",
       "1                 2/22/2016            4/5/2016         7/26/2016   \n",
       "2                 2/15/2016  Not discounted yet         8/29/2016   \n",
       "3                 2/15/2016           2/27/2017         6/27/2017   \n",
       "4                 2/15/2016  Not discounted yet         7/19/2016   \n",
       "\n",
       "                                 PRODUCT DESCRIPTION  \\\n",
       "0  整理しやすいゴルフバッグ。快適な持ち運び。 ナイキ コア ハーフ KV ゴルフバッグは、専用...   \n",
       "1  高級感のあるレトロスタイル   ナイキ コルテッツ QS キッズシューズは、上質なレザーのア...   \n",
       "2  高初速でより遠くへ ナイキ レジン スピード レッド ゴルフボールは、更にソフトになった新開...   \n",
       "3  低スピンでより遠くへ ナイキ レジン ツアー ブラック ゴルフボールは、更にソフトになったR...   \n",
       "4  軽く、速く、カスタマイズも可能。 ナイキ ATG スピード ジャンプ ロープは、滑りにくいボ...   \n",
       "\n",
       "                                         PRODUCT URL  \\\n",
       "0  http://store.nike.com/jp/ja_jp/pd/%25E3%2583%2...   \n",
       "1  http://store.nike.com/jp/ja_jp/pd/%25E3%2583%2...   \n",
       "2  http://store.nike.com/jp/ja_jp/pd/%25E3%2583%2...   \n",
       "3  http://store.nike.com/jp/ja_jp/pd/%25E3%2583%2...   \n",
       "4  http://store.nike.com/jp/ja_jp/pd/%25E3%2583%2...   \n",
       "\n",
       "                                    IMAGE-SERVER URL  \n",
       "0  http://usporamap287.am.adsint.biz/zoomimages/1...  \n",
       "1  http://usporamap287.am.adsint.biz/zoomimages/1...  \n",
       "2  http://usporamap287.am.adsint.biz/zoomimages/1...  \n",
       "3  http://usporamap287.am.adsint.biz/zoomimages/1...  \n",
       "4  http://usporamap287.am.adsint.biz/zoomimages/1...  \n",
       "\n",
       "[5 rows x 32 columns]"
      ]
     },
     "execution_count": 4,
     "metadata": {},
     "output_type": "execute_result"
    }
   ],
   "source": [
    "data = pd.read_csv(\"Japan_Not_Encoded.csv\", encoding='utf-8')\n",
    "data.head()"
   ]
  },
  {
   "cell_type": "code",
   "execution_count": 5,
   "metadata": {},
   "outputs": [
    {
     "data": {
      "text/plain": [
       "array(['Japan'], dtype=object)"
      ]
     },
     "execution_count": 5,
     "metadata": {},
     "output_type": "execute_result"
    }
   ],
   "source": [
    "data.COUNTRY.unique()"
   ]
  },
  {
   "cell_type": "code",
   "execution_count": 6,
   "metadata": {},
   "outputs": [],
   "source": [
    "data = data.loc[data[\"COUNTRY\"].isin(['Japan'])]"
   ]
  },
  {
   "cell_type": "code",
   "execution_count": 7,
   "metadata": {},
   "outputs": [],
   "source": [
    "def multiclass_logloss(actual, predicted, eps=1e-15):\n",
    "    \"\"\"Multi class version of Logarithmic Loss metric.\n",
    "    :param actual: Array containing the actual target classes\n",
    "    :param predicted: Matrix with class predictions, one probability per class\n",
    "    \"\"\"\n",
    "    # Convert 'actual' to a binary array if it's not already:\n",
    "    if len(actual.shape) == 1:\n",
    "        actual2 = np.zeros((actual.shape[0], predicted.shape[1]))\n",
    "        for i, val in enumerate(actual):\n",
    "            actual2[i, val] = 1\n",
    "        actual = actual2\n",
    "\n",
    "    clip = np.clip(predicted, eps, 1 - eps)\n",
    "    rows = actual.shape[0]\n",
    "    vsota = np.sum(actual * np.log(clip))\n",
    "    return -1.0 / rows * vsota"
   ]
  },
  {
   "cell_type": "code",
   "execution_count": 40,
   "metadata": {},
   "outputs": [],
   "source": [
    "data_req = data.loc[:,[\"COMPANY\", \"COUNTRY\", \"ARTICLE NAME\",\"SUBBRAND\", \"PRODUCT DESCRIPTION\", \"PRODUCT URL\"]]"
   ]
  },
  {
   "cell_type": "code",
   "execution_count": 41,
   "metadata": {},
   "outputs": [],
   "source": [
    "data_req = data_req.drop_duplicates()"
   ]
  },
  {
   "cell_type": "code",
   "execution_count": 42,
   "metadata": {},
   "outputs": [],
   "source": [
    "data_req[\"description\"]  = data_req[\"COMPANY\"] +\" \" + data_req[\"ARTICLE NAME\"] +\" \" + data_req[\"PRODUCT DESCRIPTION\"]"
   ]
  },
  {
   "cell_type": "code",
   "execution_count": 43,
   "metadata": {},
   "outputs": [
    {
     "data": {
      "text/plain": [
       "Index(['COMPANY', 'COUNTRY', 'ARTICLE NAME', 'SUBBRAND', 'PRODUCT DESCRIPTION',\n",
       "       'PRODUCT URL', 'description'],\n",
       "      dtype='object')"
      ]
     },
     "execution_count": 43,
     "metadata": {},
     "output_type": "execute_result"
    }
   ],
   "source": [
    "data_req.columns"
   ]
  },
  {
   "cell_type": "code",
   "execution_count": 44,
   "metadata": {},
   "outputs": [],
   "source": [
    "data_req = data_req.drop([\"COUNTRY\", \"ARTICLE NAME\", \"PRODUCT DESCRIPTION\", \"PRODUCT URL\"], axis = 1)\n",
    "data_req.columns = [\"COMPANY\", \"subBrand\", \"description\"]"
   ]
  },
  {
   "cell_type": "code",
   "execution_count": 45,
   "metadata": {},
   "outputs": [],
   "source": [
    "data_req.description = data_req.description.fillna(\"unknown\")"
   ]
  },
  {
   "cell_type": "code",
   "execution_count": 46,
   "metadata": {},
   "outputs": [],
   "source": [
    "data_req[\"subBrand\"] = data_req[\"subBrand\"].str.lower()\n",
    "data_req.description = data_req.description.str.lower()"
   ]
  },
  {
   "cell_type": "code",
   "execution_count": 47,
   "metadata": {},
   "outputs": [],
   "source": [
    "lbl_enc = preprocessing.LabelEncoder()\n",
    "y = lbl_enc.fit_transform(data_req[\"subBrand\"].fillna(\"unknown\"))"
   ]
  },
  {
   "cell_type": "code",
   "execution_count": 48,
   "metadata": {},
   "outputs": [],
   "source": [
    "X = [\"description\", \"COMPANY\"]"
   ]
  },
  {
   "cell_type": "code",
   "execution_count": 49,
   "metadata": {},
   "outputs": [
    {
     "data": {
      "text/plain": [
       "performance       33771\n",
       "sport inspired    27764\n",
       "Name: subBrand, dtype: int64"
      ]
     },
     "execution_count": 49,
     "metadata": {},
     "output_type": "execute_result"
    }
   ],
   "source": [
    "data_req[\"subBrand\"].value_counts()"
   ]
  },
  {
   "cell_type": "code",
   "execution_count": 50,
   "metadata": {},
   "outputs": [],
   "source": [
    "xtrain, xvalid, ytrain, yvalid = train_test_split(data_req[X], y, \n",
    "                                                  stratify=y, \n",
    "                                                  random_state=42, \n",
    "                                                  test_size=0.1, shuffle=True)"
   ]
  },
  {
   "cell_type": "code",
   "execution_count": 51,
   "metadata": {},
   "outputs": [
    {
     "data": {
      "text/html": [
       "<div>\n",
       "<style scoped>\n",
       "    .dataframe tbody tr th:only-of-type {\n",
       "        vertical-align: middle;\n",
       "    }\n",
       "\n",
       "    .dataframe tbody tr th {\n",
       "        vertical-align: top;\n",
       "    }\n",
       "\n",
       "    .dataframe thead th {\n",
       "        text-align: right;\n",
       "    }\n",
       "</style>\n",
       "<table border=\"1\" class=\"dataframe\">\n",
       "  <thead>\n",
       "    <tr style=\"text-align: right;\">\n",
       "      <th></th>\n",
       "      <th>description</th>\n",
       "      <th>COMPANY</th>\n",
       "    </tr>\n",
       "  </thead>\n",
       "  <tbody>\n",
       "    <tr>\n",
       "      <th>13161</th>\n",
       "      <td>nike ナイキ エピック ラックス ウィメンズ ランニングタンクトップ ナイキ エピック ...</td>\n",
       "      <td>Nike</td>\n",
       "    </tr>\n",
       "    <tr>\n",
       "      <th>41518</th>\n",
       "      <td>unknown</td>\n",
       "      <td>adidas</td>\n",
       "    </tr>\n",
       "    <tr>\n",
       "      <th>24720</th>\n",
       "      <td>adidas ピュアブーストエックス 【pure boost x tr】 , サイズ： 素材...</td>\n",
       "      <td>adidas</td>\n",
       "    </tr>\n",
       "    <tr>\n",
       "      <th>32499</th>\n",
       "      <td>puma twv ピステトップ puma twv ピステトップ｜フォームストライプを基調とし...</td>\n",
       "      <td>Puma</td>\n",
       "    </tr>\n",
       "    <tr>\n",
       "      <th>44284</th>\n",
       "      <td>reebok 【2017春夏】ufan デュアルブレンド ショートスリーブ グラフィックtシ...</td>\n",
       "      <td>Reebok</td>\n",
       "    </tr>\n",
       "    <tr>\n",
       "      <th>10601</th>\n",
       "      <td>nike ナイキ クラシック クーリング ウィメンズ ミディアム インパクト スポーツブラ ...</td>\n",
       "      <td>Nike</td>\n",
       "    </tr>\n",
       "    <tr>\n",
       "      <th>13190</th>\n",
       "      <td>nike ナイキ テイルウィンド ラン ディビジョン ウィメンズ ランニングタンクトップ ナ...</td>\n",
       "      <td>Nike</td>\n",
       "    </tr>\n",
       "    <tr>\n",
       "      <th>12248</th>\n",
       "      <td>nike ナイキ エア マックス 90 se　レザー ベビーシューズ ナイキ エア マックス...</td>\n",
       "      <td>Nike</td>\n",
       "    </tr>\n",
       "    <tr>\n",
       "      <th>29506</th>\n",
       "      <td>puma トート pt マチ付き、大容量のトートバックです。ハンドバックとして使用できるのは...</td>\n",
       "      <td>Puma</td>\n",
       "    </tr>\n",
       "    <tr>\n",
       "      <th>30952</th>\n",
       "      <td>puma red bull racing ディスク 1991年、世界初のシューレースの無いラ...</td>\n",
       "      <td>Puma</td>\n",
       "    </tr>\n",
       "    <tr>\n",
       "      <th>11318</th>\n",
       "      <td>nike ナイキ ゾーナル クーリング スイング ニット ウィメンズ ゴルフポロ ピンポイン...</td>\n",
       "      <td>Nike</td>\n",
       "    </tr>\n",
       "    <tr>\n",
       "      <th>57286</th>\n",
       "      <td>puma puma x diamond suede 2018年春夏シーズン、スケートブランド...</td>\n",
       "      <td>Puma</td>\n",
       "    </tr>\n",
       "    <tr>\n",
       "      <th>33044</th>\n",
       "      <td>puma ゴルフ vネックセーター しっかりとした細やかな編み目が特徴のニット素材を使用した...</td>\n",
       "      <td>Puma</td>\n",
       "    </tr>\n",
       "    <tr>\n",
       "      <th>58372</th>\n",
       "      <td>puma イージー ライダー クラシック 1978年に発表されたランニングシューズ、イージー...</td>\n",
       "      <td>Puma</td>\n",
       "    </tr>\n",
       "    <tr>\n",
       "      <th>9364</th>\n",
       "      <td>nike ナイキ スポーツウェア ビンテージ ウィメンズクルー ウィメンズトップ 抜群に柔ら...</td>\n",
       "      <td>Nike</td>\n",
       "    </tr>\n",
       "    <tr>\n",
       "      <th>31733</th>\n",
       "      <td>puma トレーニング j ダッフルバッグ m 大きなロゴマークがアクセントになったトレーニ...</td>\n",
       "      <td>Puma</td>\n",
       "    </tr>\n",
       "    <tr>\n",
       "      <th>45150</th>\n",
       "      <td>puma スウェットパンツ コットンベースの裏毛素材を使用することで肌触りの良さを向上したス...</td>\n",
       "      <td>Puma</td>\n",
       "    </tr>\n",
       "    <tr>\n",
       "      <th>46499</th>\n",
       "      <td>puma pwrcool tシャツ 湿度調整と速乾に長けた身生地を採用したクーリング機能トッ...</td>\n",
       "      <td>Puma</td>\n",
       "    </tr>\n",
       "    <tr>\n",
       "      <th>38363</th>\n",
       "      <td>unknown</td>\n",
       "      <td>adidas</td>\n",
       "    </tr>\n",
       "    <tr>\n",
       "      <th>30140</th>\n",
       "      <td>reebok ヨガ ロゴグラフィックtシャツ reebok (リーボック) 商品の概要, r...</td>\n",
       "      <td>Reebok</td>\n",
       "    </tr>\n",
       "    <tr>\n",
       "      <th>47518</th>\n",
       "      <td>puma スウェード ハート サファリ ウィメンズ プーマウィメンズの代表的なアイテムとして...</td>\n",
       "      <td>Puma</td>\n",
       "    </tr>\n",
       "    <tr>\n",
       "      <th>36796</th>\n",
       "      <td>adidas クライマライト ウィメンズトレーニンググローブ , サイズ： 素材： 生産国：</td>\n",
       "      <td>adidas</td>\n",
       "    </tr>\n",
       "    <tr>\n",
       "      <th>47824</th>\n",
       "      <td>reebok スタイルスケープ スリッポン2.0 ブラック/コール/ホワイト 軽量カジュアル...</td>\n",
       "      <td>Reebok</td>\n",
       "    </tr>\n",
       "    <tr>\n",
       "      <th>35521</th>\n",
       "      <td>adidas オリジナルス イーキューティ[eqt supportadv] , サイズ： 素...</td>\n",
       "      <td>adidas</td>\n",
       "    </tr>\n",
       "    <tr>\n",
       "      <th>36547</th>\n",
       "      <td>adidas adidas by kolor トラックジャケット , サイズ： 素材： 生産国：</td>\n",
       "      <td>adidas</td>\n",
       "    </tr>\n",
       "    <tr>\n",
       "      <th>4211</th>\n",
       "      <td>nike レブロン アンバサダー マックス エア バックパック 抜群の耐久性 レブロン アン...</td>\n",
       "      <td>Nike</td>\n",
       "    </tr>\n",
       "    <tr>\n",
       "      <th>4201</th>\n",
       "      <td>nike ナイキ マジスタ オーパス hg-e メンズ ハードグラウンド サッカースパイク ...</td>\n",
       "      <td>Nike</td>\n",
       "    </tr>\n",
       "    <tr>\n",
       "      <th>24771</th>\n",
       "      <td>adidas オリジナルス パーカー [floral hoodie] , サイズ： 素材： ...</td>\n",
       "      <td>adidas</td>\n",
       "    </tr>\n",
       "    <tr>\n",
       "      <th>24910</th>\n",
       "      <td>adidas ウィークエンダー ロールトップ バックパック 16l , サイズ： 素材： 生産国：</td>\n",
       "      <td>adidas</td>\n",
       "    </tr>\n",
       "    <tr>\n",
       "      <th>29513</th>\n",
       "      <td>puma ゴルフ camo バイザー 日差しの強すぎない春から初夏にかけて、秋にもおすすめし...</td>\n",
       "      <td>Puma</td>\n",
       "    </tr>\n",
       "    <tr>\n",
       "      <th>...</th>\n",
       "      <td>...</td>\n",
       "      <td>...</td>\n",
       "    </tr>\n",
       "    <tr>\n",
       "      <th>60998</th>\n",
       "      <td>reebok ヘリテイジ パネル ニット パンツ カレッジネイビー reebok class...</td>\n",
       "      <td>Reebok</td>\n",
       "    </tr>\n",
       "    <tr>\n",
       "      <th>4046</th>\n",
       "      <td>nike ナイキ ハイパーヴェノムx プロキシモ ii tf メンズ ターフ サッカーシュー...</td>\n",
       "      <td>Nike</td>\n",
       "    </tr>\n",
       "    <tr>\n",
       "      <th>29274</th>\n",
       "      <td>puma ヘッドカバー fw 2 クラブの出し入れがスムーズな袋タイプのヘッドカバー。シンプ...</td>\n",
       "      <td>Puma</td>\n",
       "    </tr>\n",
       "    <tr>\n",
       "      <th>3207</th>\n",
       "      <td>nike ナイキ エア マックス 90 id シューズ オリジナルをジブンらしくカスタマイズ...</td>\n",
       "      <td>Nike</td>\n",
       "    </tr>\n",
       "    <tr>\n",
       "      <th>60560</th>\n",
       "      <td>puma ゴルフ ウィメンズ ショールカラー ドレス ゴルフシーンにおすすめのウィメンズドレ...</td>\n",
       "      <td>Puma</td>\n",
       "    </tr>\n",
       "    <tr>\n",
       "      <th>60975</th>\n",
       "      <td>puma ess ロゴ クルースウェット メンズサイズのクルーネックスウェットです。着心地が...</td>\n",
       "      <td>Puma</td>\n",
       "    </tr>\n",
       "    <tr>\n",
       "      <th>8571</th>\n",
       "      <td>nike ナイキ dri-fit ニット ウィメンズ ランニングタンクトップ 縫い目がなく、...</td>\n",
       "      <td>Nike</td>\n",
       "    </tr>\n",
       "    <tr>\n",
       "      <th>51405</th>\n",
       "      <td>unknown</td>\n",
       "      <td>adidas</td>\n",
       "    </tr>\n",
       "    <tr>\n",
       "      <th>34607</th>\n",
       "      <td>puma エヴォタッチ j 1 hg 究極の履き心地がコンセプトのエヴォタッチコレクションよ...</td>\n",
       "      <td>Puma</td>\n",
       "    </tr>\n",
       "    <tr>\n",
       "      <th>39752</th>\n",
       "      <td>adidas snova リフレクトタンクトップw 生地が新しくなったリフレクトシリーズ。従...</td>\n",
       "      <td>adidas</td>\n",
       "    </tr>\n",
       "    <tr>\n",
       "      <th>23830</th>\n",
       "      <td>adidas オリジナルス tシャツ [street photo tee] adidas o...</td>\n",
       "      <td>adidas</td>\n",
       "    </tr>\n",
       "    <tr>\n",
       "      <th>27241</th>\n",
       "      <td>adidas kids squadra 17 トレーニングジャージー 半袖(キッズ/子供用)...</td>\n",
       "      <td>adidas</td>\n",
       "    </tr>\n",
       "    <tr>\n",
       "      <th>9507</th>\n",
       "      <td>nike ナイキ サーマ スフィア エレメント ウィメンズ ロングスリーブ ランニングトップ...</td>\n",
       "      <td>Nike</td>\n",
       "    </tr>\n",
       "    <tr>\n",
       "      <th>50553</th>\n",
       "      <td>unknown</td>\n",
       "      <td>adidas</td>\n",
       "    </tr>\n",
       "    <tr>\n",
       "      <th>21587</th>\n",
       "      <td>adidas オリジナルス キャップ [classic team trucker] 【cla...</td>\n",
       "      <td>adidas</td>\n",
       "    </tr>\n",
       "    <tr>\n",
       "      <th>27906</th>\n",
       "      <td>puma lite wow ダウンジャケット ライフスタイルコレクションより、lite wo...</td>\n",
       "      <td>Puma</td>\n",
       "    </tr>\n",
       "    <tr>\n",
       "      <th>43809</th>\n",
       "      <td>adidas オリジナルス campus 1980年代にバスケットボールのコート向けにリリー...</td>\n",
       "      <td>adidas</td>\n",
       "    </tr>\n",
       "    <tr>\n",
       "      <th>42324</th>\n",
       "      <td>adidas asmc ess sl bra pr limited, サイズ： 素材： 生産国：</td>\n",
       "      <td>adidas</td>\n",
       "    </tr>\n",
       "    <tr>\n",
       "      <th>24011</th>\n",
       "      <td>adidas 【adidas by stella mccartney】 stu 2wayバッ...</td>\n",
       "      <td>adidas</td>\n",
       "    </tr>\n",
       "    <tr>\n",
       "      <th>35434</th>\n",
       "      <td>adidas オリジナルス スーパースター メタル［superstar metal toe ...</td>\n",
       "      <td>adidas</td>\n",
       "    </tr>\n",
       "    <tr>\n",
       "      <th>51387</th>\n",
       "      <td>unknown</td>\n",
       "      <td>adidas</td>\n",
       "    </tr>\n",
       "    <tr>\n",
       "      <th>60778</th>\n",
       "      <td>puma キッズ バスケットハート グリッターハーツ jr heartコレクション キュート...</td>\n",
       "      <td>Puma</td>\n",
       "    </tr>\n",
       "    <tr>\n",
       "      <th>38783</th>\n",
       "      <td>adidas knitted tracksuit , サイズ： 素材： 生産国：</td>\n",
       "      <td>adidas</td>\n",
       "    </tr>\n",
       "    <tr>\n",
       "      <th>28900</th>\n",
       "      <td>puma ゴルフ w 半袖 ワンピース リゾート感のあるシーライフ柄ワンピース。動きやすいよ...</td>\n",
       "      <td>Puma</td>\n",
       "    </tr>\n",
       "    <tr>\n",
       "      <th>49014</th>\n",
       "      <td>reebok 1/4 zip フリース top ブラック 100%ポリエステルの軽量マイクロ...</td>\n",
       "      <td>Reebok</td>\n",
       "    </tr>\n",
       "    <tr>\n",
       "      <th>6318</th>\n",
       "      <td>nike ナイキ リアクト ハイパーダンク 2017 フライニット ep メンズ バスケット...</td>\n",
       "      <td>Nike</td>\n",
       "    </tr>\n",
       "    <tr>\n",
       "      <th>1978</th>\n",
       "      <td>nike ナイキ プレスト エクストリーム ベビーシューズ ナイキ プレスト エクストリーム...</td>\n",
       "      <td>Nike</td>\n",
       "    </tr>\n",
       "    <tr>\n",
       "      <th>8106</th>\n",
       "      <td>nike ナイキラボ ベナッシ ラックス ブーツ ウィメンズブーツ 斬新なイメージチェンジ ...</td>\n",
       "      <td>Nike</td>\n",
       "    </tr>\n",
       "    <tr>\n",
       "      <th>32502</th>\n",
       "      <td>puma twv トレーニングジャケット フォームストライプを基調とした、吸汗速乾機能搭載の...</td>\n",
       "      <td>Puma</td>\n",
       "    </tr>\n",
       "    <tr>\n",
       "      <th>54424</th>\n",
       "      <td>unknown</td>\n",
       "      <td>adidas</td>\n",
       "    </tr>\n",
       "  </tbody>\n",
       "</table>\n",
       "<p>55381 rows × 2 columns</p>\n",
       "</div>"
      ],
      "text/plain": [
       "                                             description COMPANY\n",
       "13161  nike ナイキ エピック ラックス ウィメンズ ランニングタンクトップ ナイキ エピック ...    Nike\n",
       "41518                                            unknown  adidas\n",
       "24720  adidas ピュアブーストエックス 【pure boost x tr】 , サイズ： 素材...  adidas\n",
       "32499  puma twv ピステトップ puma twv ピステトップ｜フォームストライプを基調とし...    Puma\n",
       "44284  reebok 【2017春夏】ufan デュアルブレンド ショートスリーブ グラフィックtシ...  Reebok\n",
       "10601  nike ナイキ クラシック クーリング ウィメンズ ミディアム インパクト スポーツブラ ...    Nike\n",
       "13190  nike ナイキ テイルウィンド ラン ディビジョン ウィメンズ ランニングタンクトップ ナ...    Nike\n",
       "12248  nike ナイキ エア マックス 90 se　レザー ベビーシューズ ナイキ エア マックス...    Nike\n",
       "29506  puma トート pt マチ付き、大容量のトートバックです。ハンドバックとして使用できるのは...    Puma\n",
       "30952  puma red bull racing ディスク 1991年、世界初のシューレースの無いラ...    Puma\n",
       "11318  nike ナイキ ゾーナル クーリング スイング ニット ウィメンズ ゴルフポロ ピンポイン...    Nike\n",
       "57286  puma puma x diamond suede 2018年春夏シーズン、スケートブランド...    Puma\n",
       "33044  puma ゴルフ vネックセーター しっかりとした細やかな編み目が特徴のニット素材を使用した...    Puma\n",
       "58372  puma イージー ライダー クラシック 1978年に発表されたランニングシューズ、イージー...    Puma\n",
       "9364   nike ナイキ スポーツウェア ビンテージ ウィメンズクルー ウィメンズトップ 抜群に柔ら...    Nike\n",
       "31733  puma トレーニング j ダッフルバッグ m 大きなロゴマークがアクセントになったトレーニ...    Puma\n",
       "45150  puma スウェットパンツ コットンベースの裏毛素材を使用することで肌触りの良さを向上したス...    Puma\n",
       "46499  puma pwrcool tシャツ 湿度調整と速乾に長けた身生地を採用したクーリング機能トッ...    Puma\n",
       "38363                                            unknown  adidas\n",
       "30140  reebok ヨガ ロゴグラフィックtシャツ reebok (リーボック) 商品の概要, r...  Reebok\n",
       "47518  puma スウェード ハート サファリ ウィメンズ プーマウィメンズの代表的なアイテムとして...    Puma\n",
       "36796     adidas クライマライト ウィメンズトレーニンググローブ , サイズ： 素材： 生産国：  adidas\n",
       "47824  reebok スタイルスケープ スリッポン2.0 ブラック/コール/ホワイト 軽量カジュアル...  Reebok\n",
       "35521  adidas オリジナルス イーキューティ[eqt supportadv] , サイズ： 素...  adidas\n",
       "36547   adidas adidas by kolor トラックジャケット , サイズ： 素材： 生産国：  adidas\n",
       "4211   nike レブロン アンバサダー マックス エア バックパック 抜群の耐久性 レブロン アン...    Nike\n",
       "4201   nike ナイキ マジスタ オーパス hg-e メンズ ハードグラウンド サッカースパイク ...    Nike\n",
       "24771  adidas オリジナルス パーカー [floral hoodie] , サイズ： 素材： ...  adidas\n",
       "24910  adidas ウィークエンダー ロールトップ バックパック 16l , サイズ： 素材： 生産国：  adidas\n",
       "29513  puma ゴルフ camo バイザー 日差しの強すぎない春から初夏にかけて、秋にもおすすめし...    Puma\n",
       "...                                                  ...     ...\n",
       "60998  reebok ヘリテイジ パネル ニット パンツ カレッジネイビー reebok class...  Reebok\n",
       "4046   nike ナイキ ハイパーヴェノムx プロキシモ ii tf メンズ ターフ サッカーシュー...    Nike\n",
       "29274  puma ヘッドカバー fw 2 クラブの出し入れがスムーズな袋タイプのヘッドカバー。シンプ...    Puma\n",
       "3207   nike ナイキ エア マックス 90 id シューズ オリジナルをジブンらしくカスタマイズ...    Nike\n",
       "60560  puma ゴルフ ウィメンズ ショールカラー ドレス ゴルフシーンにおすすめのウィメンズドレ...    Puma\n",
       "60975  puma ess ロゴ クルースウェット メンズサイズのクルーネックスウェットです。着心地が...    Puma\n",
       "8571   nike ナイキ dri-fit ニット ウィメンズ ランニングタンクトップ 縫い目がなく、...    Nike\n",
       "51405                                            unknown  adidas\n",
       "34607  puma エヴォタッチ j 1 hg 究極の履き心地がコンセプトのエヴォタッチコレクションよ...    Puma\n",
       "39752  adidas snova リフレクトタンクトップw 生地が新しくなったリフレクトシリーズ。従...  adidas\n",
       "23830  adidas オリジナルス tシャツ [street photo tee] adidas o...  adidas\n",
       "27241  adidas kids squadra 17 トレーニングジャージー 半袖(キッズ/子供用)...  adidas\n",
       "9507   nike ナイキ サーマ スフィア エレメント ウィメンズ ロングスリーブ ランニングトップ...    Nike\n",
       "50553                                            unknown  adidas\n",
       "21587  adidas オリジナルス キャップ [classic team trucker] 【cla...  adidas\n",
       "27906  puma lite wow ダウンジャケット ライフスタイルコレクションより、lite wo...    Puma\n",
       "43809  adidas オリジナルス campus 1980年代にバスケットボールのコート向けにリリー...  adidas\n",
       "42324   adidas asmc ess sl bra pr limited, サイズ： 素材： 生産国：  adidas\n",
       "24011  adidas 【adidas by stella mccartney】 stu 2wayバッ...  adidas\n",
       "35434  adidas オリジナルス スーパースター メタル［superstar metal toe ...  adidas\n",
       "51387                                            unknown  adidas\n",
       "60778  puma キッズ バスケットハート グリッターハーツ jr heartコレクション キュート...    Puma\n",
       "38783           adidas knitted tracksuit , サイズ： 素材： 生産国：  adidas\n",
       "28900  puma ゴルフ w 半袖 ワンピース リゾート感のあるシーライフ柄ワンピース。動きやすいよ...    Puma\n",
       "49014  reebok 1/4 zip フリース top ブラック 100%ポリエステルの軽量マイクロ...  Reebok\n",
       "6318   nike ナイキ リアクト ハイパーダンク 2017 フライニット ep メンズ バスケット...    Nike\n",
       "1978   nike ナイキ プレスト エクストリーム ベビーシューズ ナイキ プレスト エクストリーム...    Nike\n",
       "8106   nike ナイキラボ ベナッシ ラックス ブーツ ウィメンズブーツ 斬新なイメージチェンジ ...    Nike\n",
       "32502  puma twv トレーニングジャケット フォームストライプを基調とした、吸汗速乾機能搭載の...    Puma\n",
       "54424                                            unknown  adidas\n",
       "\n",
       "[55381 rows x 2 columns]"
      ]
     },
     "execution_count": 51,
     "metadata": {},
     "output_type": "execute_result"
    }
   ],
   "source": [
    "(xtrain)"
   ]
  },
  {
   "cell_type": "code",
   "execution_count": 52,
   "metadata": {},
   "outputs": [],
   "source": [
    "japanese_sw = pd.read_csv(\"Japanese_SW.csv\", encoding=\"utf-8\")"
   ]
  },
  {
   "cell_type": "code",
   "execution_count": 25,
   "metadata": {},
   "outputs": [],
   "source": [
    "#japanese_sw.STOP_WORD.tolist()"
   ]
  },
  {
   "cell_type": "code",
   "execution_count": 26,
   "metadata": {},
   "outputs": [],
   "source": [
    "tfv = TfidfVectorizer(min_df=3,  max_features=None, \n",
    "            strip_accents='unicode', analyzer='word',token_pattern=r'\\w{1,}',\n",
    "            ngram_range=(1, 3), use_idf=1,smooth_idf=1,sublinear_tf=1,\n",
    "            stop_words = japanese_sw.STOP_WORD.tolist())\n",
    "\n",
    "# Fitting TF-IDF to both training and test sets (semi-supervised learning)\n",
    "tfv.fit(list(xtrain) + list(xvalid))\n",
    "xtrain_tfv =  tfv.transform(xtrain) \n",
    "xvalid_tfv = tfv.transform(xvalid)"
   ]
  },
  {
   "cell_type": "code",
   "execution_count": 21,
   "metadata": {},
   "outputs": [
    {
     "name": "stdout",
     "output_type": "stream",
     "text": [
      "logloss: 0.133 \n"
     ]
    }
   ],
   "source": [
    "# Fitting simple logistic regression\n",
    "clf = LogisticRegression(C=1.0)\n",
    "clf.fit(xtrain_tfv, ytrain)\n",
    "predictions = clf.predict_proba(xvalid_tfv)\n",
    "\n",
    "print (\"logloss: %0.3f \" % multiclass_logloss(yvalid, predictions))"
   ]
  },
  {
   "cell_type": "code",
   "execution_count": 80,
   "metadata": {},
   "outputs": [],
   "source": [
    "predict_label = [np.argmax(i) for i in predictions]"
   ]
  },
  {
   "cell_type": "code",
   "execution_count": 81,
   "metadata": {},
   "outputs": [
    {
     "name": "stderr",
     "output_type": "stream",
     "text": [
      "C:\\Users\\narendran.thesma\\AppData\\Local\\Continuum\\anaconda3\\lib\\site-packages\\sklearn\\preprocessing\\label.py:151: DeprecationWarning: The truth value of an empty array is ambiguous. Returning False, but in future this will result in an error. Use `array.size > 0` to check that an array is not empty.\n",
      "  if diff:\n"
     ]
    }
   ],
   "source": [
    "predict_label = lbl_enc.inverse_transform(predict_label)"
   ]
  },
  {
   "cell_type": "code",
   "execution_count": 82,
   "metadata": {},
   "outputs": [
    {
     "name": "stderr",
     "output_type": "stream",
     "text": [
      "C:\\Users\\narendran.thesma\\AppData\\Local\\Continuum\\anaconda3\\lib\\site-packages\\sklearn\\preprocessing\\label.py:151: DeprecationWarning: The truth value of an empty array is ambiguous. Returning False, but in future this will result in an error. Use `array.size > 0` to check that an array is not empty.\n",
      "  if diff:\n"
     ]
    }
   ],
   "source": [
    "yvalid_label = lbl_enc.inverse_transform(yvalid)"
   ]
  },
  {
   "cell_type": "code",
   "execution_count": 83,
   "metadata": {},
   "outputs": [
    {
     "data": {
      "text/plain": [
       "array(['performance', 'sport inspired', 'sport inspired', ...,\n",
       "       'performance', 'performance', 'performance'], dtype=object)"
      ]
     },
     "execution_count": 83,
     "metadata": {},
     "output_type": "execute_result"
    }
   ],
   "source": [
    "yvalid_label"
   ]
  },
  {
   "cell_type": "code",
   "execution_count": 84,
   "metadata": {},
   "outputs": [],
   "source": [
    "test_df = pd.DataFrame({'description' : xvalid, 'actuals' : yvalid_label, 'predictions' : predict_label})"
   ]
  },
  {
   "cell_type": "code",
   "execution_count": 85,
   "metadata": {},
   "outputs": [],
   "source": [
    "from sklearn.metrics import accuracy_score, f1_score, precision_score, recall_score, classification_report, confusion_matrix"
   ]
  },
  {
   "cell_type": "code",
   "execution_count": 86,
   "metadata": {},
   "outputs": [
    {
     "data": {
      "text/plain": [
       "0.9534620748244076"
      ]
     },
     "execution_count": 86,
     "metadata": {},
     "output_type": "execute_result"
    }
   ],
   "source": [
    "f1_score(test_df.actuals, test_df.predictions,average=\"macro\")"
   ]
  },
  {
   "cell_type": "code",
   "execution_count": 87,
   "metadata": {},
   "outputs": [
    {
     "data": {
      "text/plain": [
       "0.9568909209666885"
      ]
     },
     "execution_count": 87,
     "metadata": {},
     "output_type": "execute_result"
    }
   ],
   "source": [
    "accuracy_score(test_df.actuals, test_df.predictions)"
   ]
  },
  {
   "cell_type": "code",
   "execution_count": 19,
   "metadata": {},
   "outputs": [
    {
     "data": {
      "text/plain": [
       "array(['nike japan ナイキ エピック ラックス ウィメンズ ランニングタンクトップ ナイキ エピック ラックス ウィメンズ ランニングタンクトップは、速乾性に優れたコンプレッション素材を使用。ランニング中もさらりと快適でサポート力に優れた着心地が持続します。 https://www.nike.com/jp/t/%e3%83%8a%e3%82%a4%e3%82%ad-%e3%82%a8%e3%83%94%e3%83%83%e3%82%af-%e3%83%a9%e3%83%83%e3%82%af%e3%82%b9-%e3%83%a9%e3%83%b3%e3%83%8b%e3%83%b3%e3%82%b0%e3%82%bf%e3%83%b3%e3%82%af%e3%83%88%e3%83%83%e3%83%97-j8wtpw',\n",
       "       'unknown',\n",
       "       'adidas japan ピュアブーストエックス 【pure boost x tr】 , サイズ： 素材： 生産国： https://shop.adidas.jp/products/aq1971/',\n",
       "       ...,\n",
       "       'nike japan ナイキラボ ベナッシ ラックス ブーツ ウィメンズブーツ 斬新なイメージチェンジ ナイキラボ ベナッシ ラックス ウィメンズブーツは、すっきりしたデザインとプレミアム感あふれるディテールで、クラシックなスライドをリメイク。特徴的な前足部のストラップを受け継ぐこのハイカットのブーツは、通気孔付きのswooshロゴを配し、履く人の視点で考え抜かれたデザインです。 特長 プレミアムレザーのアッパーとインソールで、ワンランク上のスタイルと履き心地を実現 インジェクション成型のphylonソールが柔らかい軽量クッショニングを提供 ヘリンボーンパターンのアウトソールが耐久性に優れたトラクションを発揮 後部のジッパーとレザーのプルタブ 原産国： 中国 http://store.nike.com/jp/ja_jp/pd/%25e3%2583%258a%25e3%2582%25a4%25e3%2582%25ad%25e3%2583%25a9%25e3%2583%259c-%25e3%2583%2599%25e3%2583%258a%25e3%2583%2583%25e3%2582%25b7-%25e3%2583%25a9%25e3%2583%2583%25e3%2582%25af%25e3%2582%25b9-%25e3%2582%25a6%25e3%2582%25a3%25e3%2583%25a1%25e3%2583%25b3%25e3%2582%25ba%25e3%2583%2596%25e3%2583%25bc%25e3%2583%2584/pid-10872858/pgid-11183876',\n",
       "       'puma japan twv トレーニングジャケット フォームストライプを基調とした、吸汗速乾機能搭載の昇華プリント仕様のトレーニングジャケットです。切替部分のメッシュは撥水と通気性両機能を備えた新しい素材を使用しています。吸水速乾の高機能素材dry cellによって運動中の衣服内をドライで快適な状態を保てます。2016シーズンjリーグ公式アップ着と同デザインです。 ・drycell対応アイテム：吸水速乾の高機能素材により運動中の衣服内はドライで快適 [素材](本体)ドライニット:\\u3000ポリエステル100%、（切替）wrメッシュ:\\u3000ポリエステル100% http://jp.puma.com/jp/ja/pd/twv-%e3%83%88%e3%83%ac%e3%83%bc%e3%83%8b%e3%83%b3%e3%82%b0%e3%82%b8%e3%83%a3%e3%82%b1%e3%83%83%e3%83%88/654802.html?dwvar_654802_color=01',\n",
       "       'unknown'], dtype=object)"
      ]
     },
     "execution_count": 19,
     "metadata": {},
     "output_type": "execute_result"
    }
   ],
   "source": [
    "xtrain"
   ]
  },
  {
   "cell_type": "code",
   "execution_count": 28,
   "metadata": {},
   "outputs": [],
   "source": [
    "# Count vectorizer\n",
    "ctv = CountVectorizer(analyzer='word',token_pattern=r'\\w{1,}',\n",
    "            ngram_range=(1, 3), stop_words = japanese_sw.STOP_WORD.tolist())\n",
    "\n",
    "# Fitting Count Vectorizer to both training and test sets (semi-supervised learning)\n",
    "ctv.fit(list(xtrain) + list(xvalid))\n",
    "xtrain_ctv =  ctv.transform(xtrain) \n",
    "xvalid_ctv = ctv.transform(xvalid)"
   ]
  },
  {
   "cell_type": "code",
   "execution_count": 64,
   "metadata": {},
   "outputs": [
    {
     "name": "stdout",
     "output_type": "stream",
     "text": [
      "logloss: 0.094 \n"
     ]
    }
   ],
   "source": [
    "# Fitting a simple Logistic Regression on Counts\n",
    "clf = LogisticRegression(C=1.0)\n",
    "clf.fit(xtrain_ctv, ytrain)\n",
    "predictions = clf.predict_proba(xvalid_ctv)\n",
    "\n",
    "print (\"logloss: %0.3f \" % multiclass_logloss(yvalid, predictions))"
   ]
  },
  {
   "cell_type": "code",
   "execution_count": 65,
   "metadata": {},
   "outputs": [
    {
     "name": "stdout",
     "output_type": "stream",
     "text": [
      "logloss: 0.194 \n"
     ]
    }
   ],
   "source": [
    "# Fitting a simple Naive Bayes on TFIDF\n",
    "clf = MultinomialNB()\n",
    "clf.fit(xtrain_tfv, ytrain)\n",
    "predictions = clf.predict_proba(xvalid_tfv)\n",
    "\n",
    "print (\"logloss: %0.3f \" % multiclass_logloss(yvalid, predictions))"
   ]
  },
  {
   "cell_type": "code",
   "execution_count": 18,
   "metadata": {},
   "outputs": [
    {
     "name": "stdout",
     "output_type": "stream",
     "text": [
      "logloss: 2.597 \n"
     ]
    }
   ],
   "source": [
    "# Fitting a simple Naive Bayes on Counts\n",
    "clf = MultinomialNB()\n",
    "clf.fit(xtrain_ctv, ytrain)\n",
    "predictions = clf.predict_proba(xvalid_ctv)\n",
    "\n",
    "print (\"logloss: %0.3f \" % multiclass_logloss(yvalid, predictions))"
   ]
  },
  {
   "cell_type": "code",
   "execution_count": 36,
   "metadata": {},
   "outputs": [],
   "source": [
    "# # Apply SVD, I chose 120 components. 120-200 components are good enough for SVM model.\n",
    "# svd = decomposition.TruncatedSVD(n_components=120)\n",
    "# svd.fit(xtrain_tfv)\n",
    "# xtrain_svd = svd.transform(xtrain_tfv)\n",
    "# xvalid_svd = svd.transform(xvalid_tfv)\n",
    "\n",
    "# # Scale the data obtained from SVD. Renaming variable to reuse without scaling.\n",
    "# scl = preprocessing.StandardScaler()\n",
    "# scl.fit(xtrain_svd)\n",
    "# xtrain_svd_scl = scl.transform(xtrain_svd)\n",
    "# xvalid_svd_scl = scl.transform(xvalid_svd)"
   ]
  },
  {
   "cell_type": "code",
   "execution_count": null,
   "metadata": {},
   "outputs": [],
   "source": [
    "# Fitting a simple SVM\n",
    "# clf = SVC(C=1.0, probability=True) # since we need probabilities\n",
    "# clf.fit(xtrain_svd_scl, ytrain)\n",
    "# predictions = clf.predict_proba(xvalid_svd_scl)\n",
    "\n",
    "# print (\"logloss: %0.3f \" % multiclass_logloss(yvalid, predictions))"
   ]
  },
  {
   "cell_type": "code",
   "execution_count": 79,
   "metadata": {},
   "outputs": [
    {
     "name": "stdout",
     "output_type": "stream",
     "text": [
      "logloss: 0.129 \n"
     ]
    }
   ],
   "source": [
    "# Fitting a simple xgboost on tf-idf\n",
    "clf = xgb.XGBClassifier(max_depth=7, n_estimators=200, colsample_bytree=0.8, \n",
    "                        subsample=0.8, learning_rate=0.1)\n",
    "clf.fit(xtrain_tfv.tocsc(), ytrain)\n",
    "predictions = clf.predict_proba(xvalid_tfv.tocsc())\n",
    "\n",
    "print (\"logloss: %0.3f \" % multiclass_logloss(yvalid, predictions))"
   ]
  },
  {
   "cell_type": "code",
   "execution_count": 17,
   "metadata": {},
   "outputs": [
    {
     "name": "stdout",
     "output_type": "stream",
     "text": [
      "logloss: 0.144 \n"
     ]
    }
   ],
   "source": [
    "# Fitting a simple xgboost on count\n",
    "clf = xgb.XGBClassifier(max_depth=7, n_estimators=200, colsample_bytree=0.8, \n",
    "                        subsample=0.8, nthread=10, learning_rate=0.1)\n",
    "clf.fit(xtrain_ctv.tocsc(), ytrain)\n",
    "predictions = clf.predict_proba(xvalid_ctv.tocsc())\n",
    "\n",
    "print (\"logloss: %0.3f \" % multiclass_logloss(yvalid, predictions))"
   ]
  },
  {
   "cell_type": "code",
   "execution_count": null,
   "metadata": {},
   "outputs": [],
   "source": [
    "# Fitting a simple xgboost on tf-idf svd features\n",
    "clf = xgb.XGBClassifier(max_depth=7, n_estimators=200, colsample_bytree=0.8, \n",
    "                        subsample=0.8, nthread=10, learning_rate=0.1)\n",
    "clf.fit(xtrain_svd, ytrain)\n",
    "predictions = clf.predict_proba(xvalid_svd)\n",
    "\n",
    "print (\"logloss: %0.3f \" % multiclass_logloss(yvalid, predictions))"
   ]
  },
  {
   "cell_type": "code",
   "execution_count": null,
   "metadata": {},
   "outputs": [],
   "source": [
    "# Fitting a simple xgboost on tf-idf svd features\n",
    "clf = xgb.XGBClassifier(nthread=10)\n",
    "clf.fit(xtrain_svd, ytrain)\n",
    "predictions = clf.predict_proba(xvalid_svd)\n",
    "\n",
    "print (\"logloss: %0.3f \" % multiclass_logloss(yvalid, predictions))"
   ]
  },
  {
   "cell_type": "markdown",
   "metadata": {},
   "source": [
    "Grid search"
   ]
  },
  {
   "cell_type": "code",
   "execution_count": 21,
   "metadata": {},
   "outputs": [],
   "source": [
    "mll_scorer = metrics.make_scorer(multiclass_logloss, greater_is_better=False, needs_proba=True)"
   ]
  },
  {
   "cell_type": "code",
   "execution_count": null,
   "metadata": {},
   "outputs": [],
   "source": [
    "# Initialize SVD\n",
    "svd = TruncatedSVD()\n",
    "    \n",
    "# Initialize the standard scaler \n",
    "scl = preprocessing.StandardScaler()\n",
    "\n",
    "# We will use logistic regression here..\n",
    "lr_model = LogisticRegression()\n",
    "\n",
    "# Create the pipeline \n",
    "clf = pipeline.Pipeline([('svd', svd),\n",
    "                         ('scl', scl),\n",
    "                         ('lr', lr_model)])"
   ]
  },
  {
   "cell_type": "code",
   "execution_count": null,
   "metadata": {},
   "outputs": [],
   "source": [
    "param_grid = {'svd__n_components' : [120, 180],\n",
    "              'lr__C': [0.1, 1.0, 10], \n",
    "              'lr__penalty': ['l1', 'l2']}"
   ]
  },
  {
   "cell_type": "code",
   "execution_count": null,
   "metadata": {},
   "outputs": [],
   "source": [
    "model = GridSearchCV(estimator=clf, param_grid=param_grid, scoring=mll_scorer,\n",
    "                                 verbose=10, n_jobs=-1, iid=True, refit=True, cv=2)\n",
    "\n",
    "# Fit Grid Search Model\n",
    "model.fit(xtrain_tfv, ytrain)  # we can use the full data here but im only using xtrain\n",
    "print(\"Best score: %0.3f\" % model.best_score_)\n",
    "print(\"Best parameters set:\")\n",
    "best_parameters = model.best_estimator_.get_params()\n",
    "for param_name in sorted(param_grid.keys()):\n",
    "    print(\"\\t%s: %r\" % (param_name, best_parameters[param_name]))"
   ]
  },
  {
   "cell_type": "code",
   "execution_count": null,
   "metadata": {},
   "outputs": [
    {
     "name": "stdout",
     "output_type": "stream",
     "text": [
      "Fitting 2 folds for each of 6 candidates, totalling 12 fits\n"
     ]
    }
   ],
   "source": [
    "nb_model = MultinomialNB()\n",
    "\n",
    "# Create the pipeline \n",
    "clf = pipeline.Pipeline([('nb', nb_model)])\n",
    "\n",
    "# parameter grid\n",
    "param_grid = {'nb__alpha': [0.001, 0.01, 0.1, 1, 10, 100]}\n",
    "\n",
    "# Initialize Grid Search Model\n",
    "model = GridSearchCV(estimator=clf, param_grid=param_grid, scoring=mll_scorer,\n",
    "                                 verbose=10, n_jobs=-1, iid=True, refit=True, cv=2)\n",
    "\n",
    "# Fit Grid Search Model\n",
    "model.fit(xtrain_tfv, ytrain)  # we can use the full data here but im only using xtrain. \n",
    "print(\"Best score: %0.3f\" % model.best_score_)\n",
    "print(\"Best parameters set:\")\n",
    "best_parameters = model.best_estimator_.get_params()\n",
    "for param_name in sorted(param_grid.keys()):\n",
    "    print(\"\\t%s: %r\" % (param_name, best_parameters[param_name]))"
   ]
  },
  {
   "cell_type": "code",
   "execution_count": 67,
   "metadata": {
    "scrolled": true
   },
   "outputs": [
    {
     "name": "stderr",
     "output_type": "stream",
     "text": [
      "2000001it [06:46, 4918.69it/s]\n"
     ]
    },
    {
     "name": "stdout",
     "output_type": "stream",
     "text": [
      "Found 2000000 word vectors.\n"
     ]
    }
   ],
   "source": [
    "# load the GloVe vectors in a dictionary:\n",
    "\n",
    "embeddings_index = {}\n",
    "f = open('D:/GPMT/fasttext/cc.de.300.vec', encoding=\"utf-8\")\n",
    "for line in tqdm(f):\n",
    "    values = line.split()\n",
    "    word = values[0]\n",
    "    coefs = np.asarray(values[1:], dtype='float32')\n",
    "    embeddings_index[word] = coefs\n",
    "f.close()\n",
    "\n",
    "print('Found %s word vectors.' % len(embeddings_index))"
   ]
  },
  {
   "cell_type": "code",
   "execution_count": 56,
   "metadata": {},
   "outputs": [],
   "source": [
    "import re, string\n",
    "re_tok = re.compile(f'([{string.punctuation}“”¨«»®´·º½¾¿¡§£₤‘’])')\n",
    "def tokenize(s): return re_tok.sub(r' \\1 ', s)"
   ]
  },
  {
   "cell_type": "code",
   "execution_count": 58,
   "metadata": {},
   "outputs": [],
   "source": [
    "chk = [tokenize(x) for x in xtrain.description]"
   ]
  },
  {
   "cell_type": "code",
   "execution_count": 62,
   "metadata": {},
   "outputs": [
    {
     "data": {
      "text/plain": [
       "55381"
      ]
     },
     "execution_count": 62,
     "metadata": {},
     "output_type": "execute_result"
    }
   ],
   "source": [
    "len(xtrain.description)"
   ]
  },
  {
   "cell_type": "code",
   "execution_count": 63,
   "metadata": {},
   "outputs": [],
   "source": [
    "import tinysegmenter\n",
    "segmenter = tinysegmenter.TinySegmenter()\n",
    "tokenized_text = [segmenter.tokenize(x) for x in chk ]\n"
   ]
  },
  {
   "cell_type": "code",
   "execution_count": 54,
   "metadata": {},
   "outputs": [],
   "source": [
    "x = tokenized_text.index"
   ]
  },
  {
   "cell_type": "code",
   "execution_count": 64,
   "metadata": {},
   "outputs": [
    {
     "data": {
      "text/plain": [
       "['adidas',\n",
       " ' ',\n",
       " 'ピュアブーストエックス',\n",
       " ' ',\n",
       " '【',\n",
       " 'pure',\n",
       " ' ',\n",
       " 'boost',\n",
       " ' ',\n",
       " 'x',\n",
       " ' ',\n",
       " 'tr',\n",
       " '】',\n",
       " '  ',\n",
       " ',',\n",
       " '  ',\n",
       " 'サイズ',\n",
       " '：',\n",
       " ' ',\n",
       " '素材',\n",
       " '：',\n",
       " ' ',\n",
       " '生産国',\n",
       " '：']"
      ]
     },
     "execution_count": 64,
     "metadata": {},
     "output_type": "execute_result"
    }
   ],
   "source": [
    "tokenized_text[2]"
   ]
  },
  {
   "cell_type": "code",
   "execution_count": 77,
   "metadata": {},
   "outputs": [
    {
     "data": {
      "text/plain": [
       "{'nike': <gensim.models.keyedvectors.Vocab at 0x29ff4716ba8>,\n",
       " ' ': <gensim.models.keyedvectors.Vocab at 0x29ff4716550>,\n",
       " 'ナイキ': <gensim.models.keyedvectors.Vocab at 0x29ff4716b70>,\n",
       " 'エピック': <gensim.models.keyedvectors.Vocab at 0x29ff4cf0518>,\n",
       " 'ラックス': <gensim.models.keyedvectors.Vocab at 0x29ff4d2b630>,\n",
       " 'ウィメンズ': <gensim.models.keyedvectors.Vocab at 0x29ff4d9b6d8>,\n",
       " 'ランニングタンクトップ': <gensim.models.keyedvectors.Vocab at 0x29ff4dc2208>,\n",
       " 'は': <gensim.models.keyedvectors.Vocab at 0x29ff4dc2240>,\n",
       " '、': <gensim.models.keyedvectors.Vocab at 0x29ff4dc2278>,\n",
       " '速乾': <gensim.models.keyedvectors.Vocab at 0x29ff4dc22b0>,\n",
       " '性': <gensim.models.keyedvectors.Vocab at 0x29ff4dc22e8>,\n",
       " 'に': <gensim.models.keyedvectors.Vocab at 0x29ff4dc2320>,\n",
       " '優れ': <gensim.models.keyedvectors.Vocab at 0x29ff4dc2358>,\n",
       " 'た': <gensim.models.keyedvectors.Vocab at 0x29ff4dc2390>,\n",
       " 'コンプレッション': <gensim.models.keyedvectors.Vocab at 0x29ff4dc23c8>,\n",
       " '素材': <gensim.models.keyedvectors.Vocab at 0x29ff4dc2400>,\n",
       " 'を': <gensim.models.keyedvectors.Vocab at 0x29ff4dc2438>,\n",
       " '使用': <gensim.models.keyedvectors.Vocab at 0x29ff4dc2470>,\n",
       " '。': <gensim.models.keyedvectors.Vocab at 0x29ff4dc24a8>,\n",
       " 'ランニング': <gensim.models.keyedvectors.Vocab at 0x29ff4dc24e0>,\n",
       " '中': <gensim.models.keyedvectors.Vocab at 0x29ff4dc2518>,\n",
       " 'も': <gensim.models.keyedvectors.Vocab at 0x29ff4dc2550>,\n",
       " 'さらり': <gensim.models.keyedvectors.Vocab at 0x29ff4dc2588>,\n",
       " 'と': <gensim.models.keyedvectors.Vocab at 0x29ff4dc25c0>,\n",
       " '快適': <gensim.models.keyedvectors.Vocab at 0x29ff4dc25f8>,\n",
       " 'で': <gensim.models.keyedvectors.Vocab at 0x29ff4dc2630>,\n",
       " 'サポート': <gensim.models.keyedvectors.Vocab at 0x29ff4dc2668>,\n",
       " '力': <gensim.models.keyedvectors.Vocab at 0x29ff4dc26a0>,\n",
       " '着心': <gensim.models.keyedvectors.Vocab at 0x29ff4dc26d8>,\n",
       " '地': <gensim.models.keyedvectors.Vocab at 0x29ff4dc2710>,\n",
       " 'が': <gensim.models.keyedvectors.Vocab at 0x29ff4dc2748>,\n",
       " '持続': <gensim.models.keyedvectors.Vocab at 0x29ff4dc2780>,\n",
       " 'し': <gensim.models.keyedvectors.Vocab at 0x29ff4dc27b8>,\n",
       " 'ます': <gensim.models.keyedvectors.Vocab at 0x29ff4dc27f0>,\n",
       " 'unknown': <gensim.models.keyedvectors.Vocab at 0x29ff4dc2828>,\n",
       " 'adidas': <gensim.models.keyedvectors.Vocab at 0x29ff4dc2860>,\n",
       " 'ピュアブーストエックス': <gensim.models.keyedvectors.Vocab at 0x29ff4dc2898>,\n",
       " '【': <gensim.models.keyedvectors.Vocab at 0x29ff4dc28d0>,\n",
       " 'pure': <gensim.models.keyedvectors.Vocab at 0x29ff4dc2908>,\n",
       " 'boost': <gensim.models.keyedvectors.Vocab at 0x29ff4dc2940>,\n",
       " 'x': <gensim.models.keyedvectors.Vocab at 0x29ff4dc2978>,\n",
       " 'tr': <gensim.models.keyedvectors.Vocab at 0x29ff4dc29b0>,\n",
       " '】': <gensim.models.keyedvectors.Vocab at 0x29ff4dc29e8>,\n",
       " '  ': <gensim.models.keyedvectors.Vocab at 0x29ff4dc2a20>,\n",
       " ',': <gensim.models.keyedvectors.Vocab at 0x29ff4dc2a58>,\n",
       " 'サイズ': <gensim.models.keyedvectors.Vocab at 0x29ff4dc2a90>,\n",
       " '：': <gensim.models.keyedvectors.Vocab at 0x29ff4dc2ac8>,\n",
       " '生産国': <gensim.models.keyedvectors.Vocab at 0x29ff4dc2b00>,\n",
       " 'puma': <gensim.models.keyedvectors.Vocab at 0x29ff4dc2b38>,\n",
       " 'twv': <gensim.models.keyedvectors.Vocab at 0x29ff4dc2b70>,\n",
       " 'ピステトップ': <gensim.models.keyedvectors.Vocab at 0x29ff4dc2ba8>,\n",
       " '｜': <gensim.models.keyedvectors.Vocab at 0x29ff4dc2be0>,\n",
       " 'フォームストライプ': <gensim.models.keyedvectors.Vocab at 0x29ff4dc2c18>,\n",
       " '基調': <gensim.models.keyedvectors.Vocab at 0x29ff4dc2c50>,\n",
       " '全面': <gensim.models.keyedvectors.Vocab at 0x29ff4dc2c88>,\n",
       " '撥水': <gensim.models.keyedvectors.Vocab at 0x29ff4dc2cc0>,\n",
       " '機能': <gensim.models.keyedvectors.Vocab at 0x29ff4dc2cf8>,\n",
       " '搭載': <gensim.models.keyedvectors.Vocab at 0x29ff4dc2d30>,\n",
       " 'の': <gensim.models.keyedvectors.Vocab at 0x29ff4dc2d68>,\n",
       " '昇華': <gensim.models.keyedvectors.Vocab at 0x29ff4dc2da0>,\n",
       " 'プリント': <gensim.models.keyedvectors.Vocab at 0x29ff4dc2dd8>,\n",
       " '仕様': <gensim.models.keyedvectors.Vocab at 0x29ff4dc2e10>,\n",
       " 'です': <gensim.models.keyedvectors.Vocab at 0x29ff4dc2e48>,\n",
       " 'プーマ': <gensim.models.keyedvectors.Vocab at 0x29ff4dc2e80>,\n",
       " '公式': <gensim.models.keyedvectors.Vocab at 0x29ff4dc2eb8>,\n",
       " 'オンラインストア': <gensim.models.keyedvectors.Vocab at 0x29ff4dc2ef0>,\n",
       " 'reebok': <gensim.models.keyedvectors.Vocab at 0x29ff4dc2f28>,\n",
       " '2': <gensim.models.keyedvectors.Vocab at 0x29ff4dc2f60>,\n",
       " '0': <gensim.models.keyedvectors.Vocab at 0x29ff4dc2f98>,\n",
       " '1': <gensim.models.keyedvectors.Vocab at 0x29ff4dc2fd0>,\n",
       " '7': <gensim.models.keyedvectors.Vocab at 0x29ff4dd5048>,\n",
       " '春夏': <gensim.models.keyedvectors.Vocab at 0x29ff4dd5080>,\n",
       " 'ufan': <gensim.models.keyedvectors.Vocab at 0x29ff4dd50b8>,\n",
       " 'デュアルブレンド': <gensim.models.keyedvectors.Vocab at 0x29ff4dd50f0>,\n",
       " 'ショートスリーブ': <gensim.models.keyedvectors.Vocab at 0x29ff4dd5128>,\n",
       " 'グラフィックtシャツ': <gensim.models.keyedvectors.Vocab at 0x29ff4dd5160>,\n",
       " ' (': <gensim.models.keyedvectors.Vocab at 0x29ff4dd5198>,\n",
       " 'リーボック': <gensim.models.keyedvectors.Vocab at 0x29ff4dd51d0>,\n",
       " ') ': <gensim.models.keyedvectors.Vocab at 0x29ff4dd5208>,\n",
       " '商品': <gensim.models.keyedvectors.Vocab at 0x29ff4dd5240>,\n",
       " '概要': <gensim.models.keyedvectors.Vocab at 0x29ff4dd5278>,\n",
       " ', ': <gensim.models.keyedvectors.Vocab at 0x29ff4dd52b0>,\n",
       " 'シングルジャージ': <gensim.models.keyedvectors.Vocab at 0x29ff4dd52e8>,\n",
       " 'グラフィックショートスリーブtシャツ': <gensim.models.keyedvectors.Vocab at 0x29ff4dd5320>,\n",
       " '右': <gensim.models.keyedvectors.Vocab at 0x29ff4dd5358>,\n",
       " 'フロント': <gensim.models.keyedvectors.Vocab at 0x29ff4dd5390>,\n",
       " 'メイン': <gensim.models.keyedvectors.Vocab at 0x29ff4dd53c8>,\n",
       " 'ufc': <gensim.models.keyedvectors.Vocab at 0x29ff4dd5400>,\n",
       " 'や': <gensim.models.keyedvectors.Vocab at 0x29ff4dd5438>,\n",
       " 'reebokロゴ': <gensim.models.keyedvectors.Vocab at 0x29ff4dd5470>,\n",
       " '散り': <gensim.models.keyedvectors.Vocab at 0x29ff4dd54a8>,\n",
       " 'ばめ': <gensim.models.keyedvectors.Vocab at 0x29ff4dd54e0>,\n",
       " 'クール': <gensim.models.keyedvectors.Vocab at 0x29ff4dd5518>,\n",
       " 'な': <gensim.models.keyedvectors.Vocab at 0x29ff4dd5550>,\n",
       " 'モデル': <gensim.models.keyedvectors.Vocab at 0x29ff4dd5588>,\n",
       " ' ,': <gensim.models.keyedvectors.Vocab at 0x29ff4dd55c0>,\n",
       " 'point': <gensim.models.keyedvectors.Vocab at 0x29ff4dd55f8>,\n",
       " ' .': <gensim.models.keyedvectors.Vocab at 0x29ff4dd5630>,\n",
       " 'asc': <gensim.models.keyedvectors.Vocab at 0x29ff4dd5668>,\n",
       " '_ ': <gensim.models.keyedvectors.Vocab at 0x29ff4dd56a0>,\n",
       " 'wrap': <gensim.models.keyedvectors.Vocab at 0x29ff4dd56d8>,\n",
       " '. ': <gensim.models.keyedvectors.Vocab at 0x29ff4dd5710>,\n",
       " 'ttl': <gensim.models.keyedvectors.Vocab at 0x29ff4dd5748>,\n",
       " 'box': <gensim.models.keyedvectors.Vocab at 0x29ff4dd5780>,\n",
       " ' {': <gensim.models.keyedvectors.Vocab at 0x29ff4dd57b8>,\n",
       " 'border': <gensim.models.keyedvectors.Vocab at 0x29ff4dd57f0>,\n",
       " '- ': <gensim.models.keyedvectors.Vocab at 0x29ff4dd5828>,\n",
       " 'bottom': <gensim.models.keyedvectors.Vocab at 0x29ff4dd5860>,\n",
       " ': ': <gensim.models.keyedvectors.Vocab at 0x29ff4dd5898>,\n",
       " 'px': <gensim.models.keyedvectors.Vocab at 0x29ff4dd58d0>,\n",
       " 'solid': <gensim.models.keyedvectors.Vocab at 0x29ff4dd5908>,\n",
       " ' #': <gensim.models.keyedvectors.Vocab at 0x29ff4dd5940>,\n",
       " 'ebebeb': <gensim.models.keyedvectors.Vocab at 0x29ff4dd5978>,\n",
       " '; ': <gensim.models.keyedvectors.Vocab at 0x29ff4dd59b0>,\n",
       " 'font': <gensim.models.keyedvectors.Vocab at 0x29ff4dd59e8>,\n",
       " 'size': <gensim.models.keyedvectors.Vocab at 0x29ff4dd5a20>,\n",
       " 'weight': <gensim.models.keyedvectors.Vocab at 0x29ff4dd5a58>,\n",
       " 'bold': <gensim.models.keyedvectors.Vocab at 0x29ff4dd5a90>,\n",
       " 'margin': <gensim.models.keyedvectors.Vocab at 0x29ff4dd5ac8>,\n",
       " '5': <gensim.models.keyedvectors.Vocab at 0x29ff4dd5b00>,\n",
       " ' }': <gensim.models.keyedvectors.Vocab at 0x29ff4dd5b38>,\n",
       " '.': <gensim.models.keyedvectors.Vocab at 0x29ff4dd5b70>,\n",
       " 'span': <gensim.models.keyedvectors.Vocab at 0x29ff4dd5ba8>,\n",
       " 'family': <gensim.models.keyedvectors.Vocab at 0x29ff4dd5be0>,\n",
       " \" '\": <gensim.models.keyedvectors.Vocab at 0x29ff4dd5c18>,\n",
       " 'adineuelight': <gensim.models.keyedvectors.Vocab at 0x29ff4dd5c50>,\n",
       " \"' \": <gensim.models.keyedvectors.Vocab at 0x29ff4dd5c88>,\n",
       " '8': <gensim.models.keyedvectors.Vocab at 0x29ff4dd5cc0>,\n",
       " 'txt': <gensim.models.keyedvectors.Vocab at 0x29ff4dd5cf8>,\n",
       " 'color': <gensim.models.keyedvectors.Vocab at 0x29ff4dd5d30>,\n",
       " '4': <gensim.models.keyedvectors.Vocab at 0x29ff4dd5d68>,\n",
       " 'line': <gensim.models.keyedvectors.Vocab at 0x29ff4dd5da0>,\n",
       " 'height': <gensim.models.keyedvectors.Vocab at 0x29ff4dd5dd8>,\n",
       " '6': <gensim.models.keyedvectors.Vocab at 0x29ff4dd5e10>,\n",
       " 'list': <gensim.models.keyedvectors.Vocab at 0x29ff4dd5e48>,\n",
       " 'item': <gensim.models.keyedvectors.Vocab at 0x29ff4dd5e80>,\n",
       " 'style': <gensim.models.keyedvectors.Vocab at 0x29ff4dd5eb8>,\n",
       " 'none': <gensim.models.keyedvectors.Vocab at 0x29ff4dd5ef0>,\n",
       " 'before': <gensim.models.keyedvectors.Vocab at 0x29ff4dd5f28>,\n",
       " 'display': <gensim.models.keyedvectors.Vocab at 0x29ff4dd5f60>,\n",
       " 'inline': <gensim.models.keyedvectors.Vocab at 0x29ff4dd5f98>,\n",
       " 'block': <gensim.models.keyedvectors.Vocab at 0x29ff4dd5fd0>,\n",
       " 'vertical': <gensim.models.keyedvectors.Vocab at 0x29ff4dd8048>,\n",
       " 'align': <gensim.models.keyedvectors.Vocab at 0x29ff4dd8080>,\n",
       " 'top': <gensim.models.keyedvectors.Vocab at 0x29ff4dd80b8>,\n",
       " 'content': <gensim.models.keyedvectors.Vocab at 0x29ff4dd80f0>,\n",
       " '・ ': <gensim.models.keyedvectors.Vocab at 0x29ff4dd8128>,\n",
       " \"'\": <gensim.models.keyedvectors.Vocab at 0x29ff4dd8160>,\n",
       " ';': <gensim.models.keyedvectors.Vocab at 0x29ff4dd8198>,\n",
       " 'width': <gensim.models.keyedvectors.Vocab at 0x29ff4dd81d0>,\n",
       " '9': <gensim.models.keyedvectors.Vocab at 0x29ff4dd8208>,\n",
       " 'クラシック': <gensim.models.keyedvectors.Vocab at 0x29ff4dd8240>,\n",
       " 'クーリング': <gensim.models.keyedvectors.Vocab at 0x29ff4dd8278>,\n",
       " 'ミディアム': <gensim.models.keyedvectors.Vocab at 0x29ff4dd82b0>,\n",
       " 'インパクト': <gensim.models.keyedvectors.Vocab at 0x29ff4dd82e8>,\n",
       " 'スポーツブラ': <gensim.models.keyedvectors.Vocab at 0x29ff4dd8320>,\n",
       " '抜群': <gensim.models.keyedvectors.Vocab at 0x29ff4dd8358>,\n",
       " '冷涼': <gensim.models.keyedvectors.Vocab at 0x29ff4dd8390>,\n",
       " '感': <gensim.models.keyedvectors.Vocab at 0x29ff4dd83c8>,\n",
       " 'ほどよい': <gensim.models.keyedvectors.Vocab at 0x29ff4dd8400>,\n",
       " 'コンプレッションフィット': <gensim.models.keyedvectors.Vocab at 0x29ff4dd8438>,\n",
       " '深い': <gensim.models.keyedvectors.Vocab at 0x29ff4dd8470>,\n",
       " 'レーサーバック': <gensim.models.keyedvectors.Vocab at 0x29ff4dd84a8>,\n",
       " 'ストラップ': <gensim.models.keyedvectors.Vocab at 0x29ff4dd84e0>,\n",
       " '採用': <gensim.models.keyedvectors.Vocab at 0x29ff4dd8518>,\n",
       " 'ワークアウト': <gensim.models.keyedvectors.Vocab at 0x29ff4dd8550>,\n",
       " '提供': <gensim.models.keyedvectors.Vocab at 0x29ff4dd8588>,\n",
       " '自然': <gensim.models.keyedvectors.Vocab at 0x29ff4dd85c0>,\n",
       " '動き': <gensim.models.keyedvectors.Vocab at 0x29ff4dd85f8>,\n",
       " '特長': <gensim.models.keyedvectors.Vocab at 0x29ff4dd8630>,\n",
       " '前面': <gensim.models.keyedvectors.Vocab at 0x29ff4dd8668>,\n",
       " 'ある': <gensim.models.keyedvectors.Vocab at 0x29ff4dd86a0>,\n",
       " '通気': <gensim.models.keyedvectors.Vocab at 0x29ff4dd86d8>,\n",
       " '孔付': <gensim.models.keyedvectors.Vocab at 0x29ff4dd8710>,\n",
       " 'き': <gensim.models.keyedvectors.Vocab at 0x29ff4dd8748>,\n",
       " 'swooshロゴ': <gensim.models.keyedvectors.Vocab at 0x29ff4dd8780>,\n",
       " '強化': <gensim.models.keyedvectors.Vocab at 0x29ff4dd87b8>,\n",
       " '発揮': <gensim.models.keyedvectors.Vocab at 0x29ff4dd87f0>,\n",
       " 'する': <gensim.models.keyedvectors.Vocab at 0x29ff4dd8828>,\n",
       " 'メッシュ': <gensim.models.keyedvectors.Vocab at 0x29ff4dd8860>,\n",
       " '取り外し': <gensim.models.keyedvectors.Vocab at 0x29ff4dd8898>,\n",
       " '可能': <gensim.models.keyedvectors.Vocab at 0x29ff4dd88d0>,\n",
       " 'パッド': <gensim.models.keyedvectors.Vocab at 0x29ff4dd8908>,\n",
       " '好み': <gensim.models.keyedvectors.Vocab at 0x29ff4dd8940>,\n",
       " '着用': <gensim.models.keyedvectors.Vocab at 0x29ff4dd8978>,\n",
       " '調整': <gensim.models.keyedvectors.Vocab at 0x29ff4dd89b0>,\n",
       " 'dri': <gensim.models.keyedvectors.Vocab at 0x29ff4dd89e8>,\n",
       " 'fit': <gensim.models.keyedvectors.Vocab at 0x29ff4dd8a20>,\n",
       " 'テクノロジー': <gensim.models.keyedvectors.Vocab at 0x29ff4dd8a58>,\n",
       " 'さ': <gensim.models.keyedvectors.Vocab at 0x29ff4dd8a90>,\n",
       " 'キープ': <gensim.models.keyedvectors.Vocab at 0x29ff4dd8ac8>,\n",
       " '詳細': <gensim.models.keyedvectors.Vocab at 0x29ff4dd8b00>,\n",
       " 'サイクリング': <gensim.models.keyedvectors.Vocab at 0x29ff4dd8b38>,\n",
       " 'ダンス': <gensim.models.keyedvectors.Vocab at 0x29ff4dd8b70>,\n",
       " '有酸': <gensim.models.keyedvectors.Vocab at 0x29ff4dd8ba8>,\n",
       " '素': <gensim.models.keyedvectors.Vocab at 0x29ff4dd8be0>,\n",
       " 'トレーニングクラス': <gensim.models.keyedvectors.Vocab at 0x29ff4dd8c18>,\n",
       " 'など': <gensim.models.keyedvectors.Vocab at 0x29ff4dd8c50>,\n",
       " 'ミディアムインパクト': <gensim.models.keyedvectors.Vocab at 0x29ff4dd8c88>,\n",
       " 'スポーツ': <gensim.models.keyedvectors.Vocab at 0x29ff4dd8cc0>,\n",
       " '最適': <gensim.models.keyedvectors.Vocab at 0x29ff4dd8cf8>,\n",
       " '本体': <gensim.models.keyedvectors.Vocab at 0x29ff4dd8d30>,\n",
       " '/ ': <gensim.models.keyedvectors.Vocab at 0x29ff4dd8d68>,\n",
       " '裏地': <gensim.models.keyedvectors.Vocab at 0x29ff4dd8da0>,\n",
       " 'リサイクルポリエステル': <gensim.models.keyedvectors.Vocab at 0x29ff4dd8dd8>,\n",
       " '％': <gensim.models.keyedvectors.Vocab at 0x29ff4dd8e10>,\n",
       " 'スパンデックス': <gensim.models.keyedvectors.Vocab at 0x29ff4dd8e48>,\n",
       " '背面': <gensim.models.keyedvectors.Vocab at 0x29ff4dd8e80>,\n",
       " '中央': <gensim.models.keyedvectors.Vocab at 0x29ff4dd8eb8>,\n",
       " 'ポリエステル': <gensim.models.keyedvectors.Vocab at 0x29ff4dd8ef0>,\n",
       " '縁': <gensim.models.keyedvectors.Vocab at 0x29ff4dd8f28>,\n",
       " 'ナイロン': <gensim.models.keyedvectors.Vocab at 0x29ff4dd8f60>,\n",
       " '表地': <gensim.models.keyedvectors.Vocab at 0x29ff4dd8f98>,\n",
       " '洗濯': <gensim.models.keyedvectors.Vocab at 0x29ff4dd8fd0>,\n",
       " '機洗': <gensim.models.keyedvectors.Vocab at 0x29ff4dda048>,\n",
       " 'い': <gensim.models.keyedvectors.Vocab at 0x29ff4dda080>,\n",
       " '原産国': <gensim.models.keyedvectors.Vocab at 0x29ff4dda0b8>,\n",
       " 'スリランカ': <gensim.models.keyedvectors.Vocab at 0x29ff4dda0f0>,\n",
       " 'テイルウィンド': <gensim.models.keyedvectors.Vocab at 0x29ff4dda128>,\n",
       " 'ラン': <gensim.models.keyedvectors.Vocab at 0x29ff4dda160>,\n",
       " 'ディビジョン': <gensim.models.keyedvectors.Vocab at 0x29ff4dda198>,\n",
       " '高い': <gensim.models.keyedvectors.Vocab at 0x29ff4dda1d0>,\n",
       " 'レーサーバックデザイン': <gensim.models.keyedvectors.Vocab at 0x29ff4dda208>,\n",
       " '涼しい': <gensim.models.keyedvectors.Vocab at 0x29ff4dda240>,\n",
       " 'て': <gensim.models.keyedvectors.Vocab at 0x29ff4dda278>,\n",
       " '自由': <gensim.models.keyedvectors.Vocab at 0x29ff4dda2b0>,\n",
       " 'エア': <gensim.models.keyedvectors.Vocab at 0x29ff4dda2e8>,\n",
       " 'マックス': <gensim.models.keyedvectors.Vocab at 0x29ff4dda320>,\n",
       " 'se': <gensim.models.keyedvectors.Vocab at 0x29ff4dda358>,\n",
       " '\\u3000': <gensim.models.keyedvectors.Vocab at 0x29ff4dda390>,\n",
       " 'レザー': <gensim.models.keyedvectors.Vocab at 0x29ff4dda3c8>,\n",
       " 'ベビーシューズ': <gensim.models.keyedvectors.Vocab at 0x29ff4dda400>,\n",
       " 'オリジナル': <gensim.models.keyedvectors.Vocab at 0x29ff4dda438>,\n",
       " '一躍': <gensim.models.keyedvectors.Vocab at 0x29ff4dda470>,\n",
       " '有名': <gensim.models.keyedvectors.Vocab at 0x29ff4dda4a8>,\n",
       " 'クッショニング': <gensim.models.keyedvectors.Vocab at 0x29ff4dda4e0>,\n",
       " '継承': <gensim.models.keyedvectors.Vocab at 0x29ff4dda518>,\n",
       " 'ながら': <gensim.models.keyedvectors.Vocab at 0x29ff4dda550>,\n",
       " 'デザイン': <gensim.models.keyedvectors.Vocab at 0x29ff4dda588>,\n",
       " '一新': <gensim.models.keyedvectors.Vocab at 0x29ff4dda5c0>,\n",
       " 'トート': <gensim.models.keyedvectors.Vocab at 0x29ff4dda5f8>,\n",
       " 'pt': <gensim.models.keyedvectors.Vocab at 0x29ff4dda630>,\n",
       " 'マチ': <gensim.models.keyedvectors.Vocab at 0x29ff4dda668>,\n",
       " '付き': <gensim.models.keyedvectors.Vocab at 0x29ff4dda6a0>,\n",
       " '大容量': <gensim.models.keyedvectors.Vocab at 0x29ff4dda6d8>,\n",
       " 'トートバック': <gensim.models.keyedvectors.Vocab at 0x29ff4dda710>,\n",
       " 'ハンドバック': <gensim.models.keyedvectors.Vocab at 0x29ff4dda748>,\n",
       " 'として': <gensim.models.keyedvectors.Vocab at 0x29ff4dda780>,\n",
       " 'できる': <gensim.models.keyedvectors.Vocab at 0x29ff4dda7b8>,\n",
       " 'もちろん': <gensim.models.keyedvectors.Vocab at 0x29ff4dda7f0>,\n",
       " 'ハンドル': <gensim.models.keyedvectors.Vocab at 0x29ff4dda828>,\n",
       " '長め': <gensim.models.keyedvectors.Vocab at 0x29ff4dda860>,\n",
       " '肩': <gensim.models.keyedvectors.Vocab at 0x29ff4dda898>,\n",
       " 'かけ': <gensim.models.keyedvectors.Vocab at 0x29ff4dda8d0>,\n",
       " 'ショルダーバック': <gensim.models.keyedvectors.Vocab at 0x29ff4dda908>,\n",
       " '◎': <gensim.models.keyedvectors.Vocab at 0x29ff4dda940>,\n",
       " 'ボタン': <gensim.models.keyedvectors.Vocab at 0x29ff4dda978>,\n",
       " 'がっちり': <gensim.models.keyedvectors.Vocab at 0x29ff4dda9b0>,\n",
       " '固定': <gensim.models.keyedvectors.Vocab at 0x29ff4dda9e8>,\n",
       " 'でき': <gensim.models.keyedvectors.Vocab at 0x29ff4ddaa20>,\n",
       " 'ポケット': <gensim.models.keyedvectors.Vocab at 0x29ff4ddaa58>,\n",
       " 'つい': <gensim.models.keyedvectors.Vocab at 0x29ff4ddaa90>,\n",
       " 'すぐ': <gensim.models.keyedvectors.Vocab at 0x29ff4ddaac8>,\n",
       " '取り出し': <gensim.models.keyedvectors.Vocab at 0x29ff4ddab00>,\n",
       " 'たい': <gensim.models.keyedvectors.Vocab at 0x29ff4ddab38>,\n",
       " '小物': <gensim.models.keyedvectors.Vocab at 0x29ff4ddab70>,\n",
       " '入れる': <gensim.models.keyedvectors.Vocab at 0x29ff4ddaba8>,\n",
       " 'ぴっ': <gensim.models.keyedvectors.Vocab at 0x29ff4ddabe0>,\n",
       " 'たり': <gensim.models.keyedvectors.Vocab at 0x29ff4ddac18>,\n",
       " 'ロゴ': <gensim.models.keyedvectors.Vocab at 0x29ff4ddac50>,\n",
       " 'さりげ': <gensim.models.keyedvectors.Vocab at 0x29ff4ddac88>,\n",
       " 'なく': <gensim.models.keyedvectors.Vocab at 0x29ff4ddacc0>,\n",
       " '入り': <gensim.models.keyedvectors.Vocab at 0x29ff4ddacf8>,\n",
       " '水分': <gensim.models.keyedvectors.Vocab at 0x29ff4ddad30>,\n",
       " 'しみ': <gensim.models.keyedvectors.Vocab at 0x29ff4ddad68>,\n",
       " 'にくく': <gensim.models.keyedvectors.Vocab at 0x29ff4ddada0>,\n",
       " 'ゴルフ': <gensim.models.keyedvectors.Vocab at 0x29ff4ddadd8>,\n",
       " '時': <gensim.models.keyedvectors.Vocab at 0x29ff4ddae10>,\n",
       " '普段': <gensim.models.keyedvectors.Vocab at 0x29ff4ddae48>,\n",
       " '使い': <gensim.models.keyedvectors.Vocab at 0x29ff4ddae80>,\n",
       " 'もぴっ': <gensim.models.keyedvectors.Vocab at 0x29ff4ddaeb8>,\n",
       " ' 〔': <gensim.models.keyedvectors.Vocab at 0x29ff4ddaef0>,\n",
       " '〕': <gensim.models.keyedvectors.Vocab at 0x29ff4ddaf28>,\n",
       " 'red': <gensim.models.keyedvectors.Vocab at 0x29ff4ddaf60>,\n",
       " 'bull': <gensim.models.keyedvectors.Vocab at 0x29ff4ddaf98>,\n",
       " 'racing': <gensim.models.keyedvectors.Vocab at 0x29ff4ddafd0>,\n",
       " 'ディスク': <gensim.models.keyedvectors.Vocab at 0x29ff4ddf048>,\n",
       " '年': <gensim.models.keyedvectors.Vocab at 0x29ff4ddf080>,\n",
       " '世界': <gensim.models.keyedvectors.Vocab at 0x29ff4ddf0b8>,\n",
       " '初': <gensim.models.keyedvectors.Vocab at 0x29ff4ddf0f0>,\n",
       " 'シューレース': <gensim.models.keyedvectors.Vocab at 0x29ff4ddf128>,\n",
       " '無い': <gensim.models.keyedvectors.Vocab at 0x29ff4ddf160>,\n",
       " 'ランニングシューズ': <gensim.models.keyedvectors.Vocab at 0x29ff4ddf198>,\n",
       " '登場': <gensim.models.keyedvectors.Vocab at 0x29ff4ddf1d0>,\n",
       " '業界': <gensim.models.keyedvectors.Vocab at 0x29ff4ddf208>,\n",
       " '震撼': <gensim.models.keyedvectors.Vocab at 0x29ff4ddf240>,\n",
       " 'せ': <gensim.models.keyedvectors.Vocab at 0x29ff4ddf278>,\n",
       " 'disc': <gensim.models.keyedvectors.Vocab at 0x29ff4ddf2b0>,\n",
       " '( ': <gensim.models.keyedvectors.Vocab at 0x29ff4ddf2e8>,\n",
       " 'システム': <gensim.models.keyedvectors.Vocab at 0x29ff4ddf320>,\n",
       " 'スリッポン': <gensim.models.keyedvectors.Vocab at 0x29ff4ddf358>,\n",
       " 'による': <gensim.models.keyedvectors.Vocab at 0x29ff4ddf390>,\n",
       " 'フィット': <gensim.models.keyedvectors.Vocab at 0x29ff4ddf3c8>,\n",
       " '向上': <gensim.models.keyedvectors.Vocab at 0x29ff4ddf400>,\n",
       " 'アマチュア': <gensim.models.keyedvectors.Vocab at 0x29ff4ddf438>,\n",
       " '選手': <gensim.models.keyedvectors.Vocab at 0x29ff4ddf470>,\n",
       " 'から': <gensim.models.keyedvectors.Vocab at 0x29ff4ddf4a8>,\n",
       " 'アスリート': <gensim.models.keyedvectors.Vocab at 0x29ff4ddf4e0>,\n",
       " 'まで': <gensim.models.keyedvectors.Vocab at 0x29ff4ddf518>,\n",
       " '幅広': <gensim.models.keyedvectors.Vocab at 0x29ff4ddf550>,\n",
       " '層': <gensim.models.keyedvectors.Vocab at 0x29ff4ddf588>,\n",
       " '愛さ': <gensim.models.keyedvectors.Vocab at 0x29ff4ddf5c0>,\n",
       " 'れ': <gensim.models.keyedvectors.Vocab at 0x29ff4ddf5f8>,\n",
       " 'その': <gensim.models.keyedvectors.Vocab at 0x29ff4ddf630>,\n",
       " '洗練': <gensim.models.keyedvectors.Vocab at 0x29ff4ddf668>,\n",
       " '独特': <gensim.models.keyedvectors.Vocab at 0x29ff4ddf6a0>,\n",
       " 'ルックス': <gensim.models.keyedvectors.Vocab at 0x29ff4ddf6d8>,\n",
       " '特徴': <gensim.models.keyedvectors.Vocab at 0x29ff4ddf710>,\n",
       " 'ひとつ': <gensim.models.keyedvectors.Vocab at 0x29ff4ddf748>,\n",
       " 'また': <gensim.models.keyedvectors.Vocab at 0x29ff4ddf780>,\n",
       " '長年': <gensim.models.keyedvectors.Vocab at 0x29ff4ddf7b8>,\n",
       " 'わたり': <gensim.models.keyedvectors.Vocab at 0x29ff4ddf7f0>,\n",
       " 'スニーカーフリーク': <gensim.models.keyedvectors.Vocab at 0x29ff4ddf828>,\n",
       " '注目': <gensim.models.keyedvectors.Vocab at 0x29ff4ddf860>,\n",
       " 'ストリートスタイル': <gensim.models.keyedvectors.Vocab at 0x29ff4ddf898>,\n",
       " '欠かせ': <gensim.models.keyedvectors.Vocab at 0x29ff4ddf8d0>,\n",
       " 'ない': <gensim.models.keyedvectors.Vocab at 0x29ff4ddf908>,\n",
       " 'アイテム': <gensim.models.keyedvectors.Vocab at 0x29ff4ddf940>,\n",
       " '定番': <gensim.models.keyedvectors.Vocab at 0x29ff4ddf978>,\n",
       " 'あり': <gensim.models.keyedvectors.Vocab at 0x29ff4ddf9b0>,\n",
       " 'シーズン': <gensim.models.keyedvectors.Vocab at 0x29ff4ddf9e8>,\n",
       " '軽量': <gensim.models.keyedvectors.Vocab at 0x29ff4ddfa20>,\n",
       " '心地': <gensim.models.keyedvectors.Vocab at 0x29ff4ddfa58>,\n",
       " 'よい': <gensim.models.keyedvectors.Vocab at 0x29ff4ddfa90>,\n",
       " 'まま': <gensim.models.keyedvectors.Vocab at 0x29ff4ddfac8>,\n",
       " '新しい': <gensim.models.keyedvectors.Vocab at 0x29ff4ddfb00>,\n",
       " 'スニーカー': <gensim.models.keyedvectors.Vocab at 0x29ff4ddfb38>,\n",
       " '本作': <gensim.models.keyedvectors.Vocab at 0x29ff4ddfb70>,\n",
       " 'カラーリング': <gensim.models.keyedvectors.Vocab at 0x29ff4ddfba8>,\n",
       " 'プラス': <gensim.models.keyedvectors.Vocab at 0x29ff4ddfbe0>,\n",
       " 'シンプル': <gensim.models.keyedvectors.Vocab at 0x29ff4ddfc18>,\n",
       " 'モータースポーツ': <gensim.models.keyedvectors.Vocab at 0x29ff4ddfc50>,\n",
       " '観戦': <gensim.models.keyedvectors.Vocab at 0x29ff4ddfc88>,\n",
       " 'だけ': <gensim.models.keyedvectors.Vocab at 0x29ff4ddfcc0>,\n",
       " 'タウンユース': <gensim.models.keyedvectors.Vocab at 0x29ff4ddfcf8>,\n",
       " 'おすすめ': <gensim.models.keyedvectors.Vocab at 0x29ff4ddfd30>,\n",
       " 'アッパー': <gensim.models.keyedvectors.Vocab at 0x29ff4ddfd68>,\n",
       " '天然': <gensim.models.keyedvectors.Vocab at 0x29ff4ddfda0>,\n",
       " '皮革': <gensim.models.keyedvectors.Vocab at 0x29ff4ddfdd8>,\n",
       " '＋': <gensim.models.keyedvectors.Vocab at 0x29ff4ddfe10>,\n",
       " '合成': <gensim.models.keyedvectors.Vocab at 0x29ff4ddfe48>,\n",
       " '繊維': <gensim.models.keyedvectors.Vocab at 0x29ff4ddfe80>,\n",
       " 'ミッドソール': <gensim.models.keyedvectors.Vocab at 0x29ff4ddfeb8>,\n",
       " '樹脂': <gensim.models.keyedvectors.Vocab at 0x29ff4ddfef0>,\n",
       " '（': <gensim.models.keyedvectors.Vocab at 0x29ff4ddff28>,\n",
       " 'モールデッドeva': <gensim.models.keyedvectors.Vocab at 0x29ff4ddff60>,\n",
       " '）': <gensim.models.keyedvectors.Vocab at 0x29ff4ddff98>,\n",
       " 'アウトソール': <gensim.models.keyedvectors.Vocab at 0x29ff4ddffd0>,\n",
       " 'ゴム': <gensim.models.keyedvectors.Vocab at 0x29ff4f32048>,\n",
       " '底': <gensim.models.keyedvectors.Vocab at 0x29ff4f32080>,\n",
       " 'ゾーナル': <gensim.models.keyedvectors.Vocab at 0x29ff4f320b8>,\n",
       " 'スイング': <gensim.models.keyedvectors.Vocab at 0x29ff4f320f0>,\n",
       " 'ニット': <gensim.models.keyedvectors.Vocab at 0x29ff4f32128>,\n",
       " 'ゴルフポロ': <gensim.models.keyedvectors.Vocab at 0x29ff4f32160>,\n",
       " 'ピンポイント': <gensim.models.keyedvectors.Vocab at 0x29ff4f32198>,\n",
       " '涼し': <gensim.models.keyedvectors.Vocab at 0x29ff4f321d0>,\n",
       " 'オープンニット': <gensim.models.keyedvectors.Vocab at 0x29ff4f32208>,\n",
       " 'パネル': <gensim.models.keyedvectors.Vocab at 0x29ff4f32240>,\n",
       " 'コース': <gensim.models.keyedvectors.Vocab at 0x29ff4f32278>,\n",
       " '上': <gensim.models.keyedvectors.Vocab at 0x29ff4f322b0>,\n",
       " ' ;': <gensim.models.keyedvectors.Vocab at 0x29ff4f322e8>,\n",
       " 'パターン': <gensim.models.keyedvectors.Vocab at 0x29ff4f32320>,\n",
       " '熱': <gensim.models.keyedvectors.Vocab at 0x29ff4f32358>,\n",
       " 'こもりやすい': <gensim.models.keyedvectors.Vocab at 0x29ff4f32390>,\n",
       " '部分': <gensim.models.keyedvectors.Vocab at 0x29ff4f323c8>,\n",
       " '状態': <gensim.models.keyedvectors.Vocab at 0x29ff4f32400>,\n",
       " '滑らか': <gensim.models.keyedvectors.Vocab at 0x29ff4f32438>,\n",
       " 'フェミニン': <gensim.models.keyedvectors.Vocab at 0x29ff4f32470>,\n",
       " 'v': <gensim.models.keyedvectors.Vocab at 0x29ff4f324a8>,\n",
       " 'ネック': <gensim.models.keyedvectors.Vocab at 0x29ff4f324e0>,\n",
       " '現代': <gensim.models.keyedvectors.Vocab at 0x29ff4f32518>,\n",
       " '的': <gensim.models.keyedvectors.Vocab at 0x29ff4f32550>,\n",
       " 'スタイル': <gensim.models.keyedvectors.Vocab at 0x29ff4f32588>,\n",
       " '演出': <gensim.models.keyedvectors.Vocab at 0x29ff4f325c0>,\n",
       " 'diamond': <gensim.models.keyedvectors.Vocab at 0x29ff4f325f8>,\n",
       " 'suede': <gensim.models.keyedvectors.Vocab at 0x29ff4f32630>,\n",
       " 'スケートブランドdiamond': <gensim.models.keyedvectors.Vocab at 0x29ff4f32668>,\n",
       " 'supply': <gensim.models.keyedvectors.Vocab at 0x29ff4f326a0>,\n",
       " 'co': <gensim.models.keyedvectors.Vocab at 0x29ff4f326d8>,\n",
       " 'コラボレーションコレクション': <gensim.models.keyedvectors.Vocab at 0x29ff4f32710>,\n",
       " 'スケート': <gensim.models.keyedvectors.Vocab at 0x29ff4f32748>,\n",
       " '歴史': <gensim.models.keyedvectors.Vocab at 0x29ff4f32780>,\n",
       " 'インスピレーション': <gensim.models.keyedvectors.Vocab at 0x29ff4f327b8>,\n",
       " '得': <gensim.models.keyedvectors.Vocab at 0x29ff4f327f0>,\n",
       " '象徴': <gensim.models.keyedvectors.Vocab at 0x29ff4f32828>,\n",
       " 'dna': <gensim.models.keyedvectors.Vocab at 0x29ff4f32860>,\n",
       " 'リミックス': <gensim.models.keyedvectors.Vocab at 0x29ff4f32898>,\n",
       " '揃い': <gensim.models.keyedvectors.Vocab at 0x29ff4f328d0>,\n",
       " 'アイコニック': <gensim.models.keyedvectors.Vocab at 0x29ff4f32908>,\n",
       " 'スウェード': <gensim.models.keyedvectors.Vocab at 0x29ff4f32940>,\n",
       " '世代': <gensim.models.keyedvectors.Vocab at 0x29ff4f32978>,\n",
       " '受け入れ': <gensim.models.keyedvectors.Vocab at 0x29ff4f329b0>,\n",
       " 'られる': <gensim.models.keyedvectors.Vocab at 0x29ff4f329e8>,\n",
       " '語る': <gensim.models.keyedvectors.Vocab at 0x29ff4f32a20>,\n",
       " '欠かかす': <gensim.models.keyedvectors.Vocab at 0x29ff4f32a58>,\n",
       " 'こと': <gensim.models.keyedvectors.Vocab at 0x29ff4f32a90>,\n",
       " '印象': <gensim.models.keyedvectors.Vocab at 0x29ff4f32ac8>,\n",
       " 'サイド': <gensim.models.keyedvectors.Vocab at 0x29ff4f32b00>,\n",
       " 'ワニ': <gensim.models.keyedvectors.Vocab at 0x29ff4f32b38>,\n",
       " 'エンボス': <gensim.models.keyedvectors.Vocab at 0x29ff4f32b70>,\n",
       " '加工': <gensim.models.keyedvectors.Vocab at 0x29ff4f32ba8>,\n",
       " '施し': <gensim.models.keyedvectors.Vocab at 0x29ff4f32be0>,\n",
       " 'ファンキー': <gensim.models.keyedvectors.Vocab at 0x29ff4f32c18>,\n",
       " 'アクセント': <gensim.models.keyedvectors.Vocab at 0x29ff4f32c50>,\n",
       " '足': <gensim.models.keyedvectors.Vocab at 0x29ff4f32c88>,\n",
       " '・': <gensim.models.keyedvectors.Vocab at 0x29ff4f32cc0>,\n",
       " 'シュータン': <gensim.models.keyedvectors.Vocab at 0x29ff4f32cf8>,\n",
       " 'diamondラベル': <gensim.models.keyedvectors.Vocab at 0x29ff4f32d30>,\n",
       " 'ヒール': <gensim.models.keyedvectors.Vocab at 0x29ff4f32d68>,\n",
       " 'ダイヤモンド': <gensim.models.keyedvectors.Vocab at 0x29ff4f32da0>,\n",
       " '形': <gensim.models.keyedvectors.Vocab at 0x29ff4f32dd8>,\n",
       " 'fot': <gensim.models.keyedvectors.Vocab at 0x29ff4f32e10>,\n",
       " ' [': <gensim.models.keyedvectors.Vocab at 0x29ff4f32e48>,\n",
       " '] ': <gensim.models.keyedvectors.Vocab at 0x29ff4f32e80>,\n",
       " 'ネックセーター': <gensim.models.keyedvectors.Vocab at 0x29ff4f32eb8>,\n",
       " 'しっかり': <gensim.models.keyedvectors.Vocab at 0x29ff4f32ef0>,\n",
       " '細やか': <gensim.models.keyedvectors.Vocab at 0x29ff4f32f28>,\n",
       " '編み目': <gensim.models.keyedvectors.Vocab at 0x29ff4f32f60>,\n",
       " 'ロングスリーブセーター': <gensim.models.keyedvectors.Vocab at 0x29ff4f32f98>,\n",
       " 'どんな': <gensim.models.keyedvectors.Vocab at 0x29ff4f32fd0>,\n",
       " 'コーディネート': <gensim.models.keyedvectors.Vocab at 0x29ff4f36048>,\n",
       " 'もしっかり': <gensim.models.keyedvectors.Vocab at 0x29ff4f36080>,\n",
       " 'マッチ': <gensim.models.keyedvectors.Vocab at 0x29ff4f360b8>,\n",
       " 'ラグランスリーブ': <gensim.models.keyedvectors.Vocab at 0x29ff4f360f0>,\n",
       " '肩周り': <gensim.models.keyedvectors.Vocab at 0x29ff4f36128>,\n",
       " '妨げる': <gensim.models.keyedvectors.Vocab at 0x29ff4f36160>,\n",
       " 'スムーズ': <gensim.models.keyedvectors.Vocab at 0x29ff4f36198>,\n",
       " 'プレイ': <gensim.models.keyedvectors.Vocab at 0x29ff4f361d0>,\n",
       " '導き': <gensim.models.keyedvectors.Vocab at 0x29ff4f36208>,\n",
       " '日常': <gensim.models.keyedvectors.Vocab at 0x29ff4f36240>,\n",
       " '取り入れ': <gensim.models.keyedvectors.Vocab at 0x29ff4f36278>,\n",
       " '一着': <gensim.models.keyedvectors.Vocab at 0x29ff4f362b0>,\n",
       " '[': <gensim.models.keyedvectors.Vocab at 0x29ff4f362e8>,\n",
       " 'ニットフリース': <gensim.models.keyedvectors.Vocab at 0x29ff4f36320>,\n",
       " '% ': <gensim.models.keyedvectors.Vocab at 0x29ff4f36358>,\n",
       " 'イージー': <gensim.models.keyedvectors.Vocab at 0x29ff4f36390>,\n",
       " 'ライダー': <gensim.models.keyedvectors.Vocab at 0x29ff4f363c8>,\n",
       " '発表': <gensim.models.keyedvectors.Vocab at 0x29ff4f36400>,\n",
       " 'イージーライダー': <gensim.models.keyedvectors.Vocab at 0x29ff4f36438>,\n",
       " 'シルエット': <gensim.models.keyedvectors.Vocab at 0x29ff4f36470>,\n",
       " '独自': <gensim.models.keyedvectors.Vocab at 0x29ff4f364a8>,\n",
       " '\" ': <gensim.models.keyedvectors.Vocab at 0x29ff4f364e0>,\n",
       " 'フェダーバインソール': <gensim.models.keyedvectors.Vocab at 0x29ff4f36518>,\n",
       " 'おり': <gensim.models.keyedvectors.Vocab at 0x29ff4f36550>,\n",
       " 'クッション': <gensim.models.keyedvectors.Vocab at 0x29ff4f36588>,\n",
       " '着地': <gensim.models.keyedvectors.Vocab at 0x29ff4f365c0>,\n",
       " '際': <gensim.models.keyedvectors.Vocab at 0x29ff4f365f8>,\n",
       " '衝撃': <gensim.models.keyedvectors.Vocab at 0x29ff4f36630>,\n",
       " '吸収': <gensim.models.keyedvectors.Vocab at 0x29ff4f36668>,\n",
       " '共に': <gensim.models.keyedvectors.Vocab at 0x29ff4f366a0>,\n",
       " '屈曲': <gensim.models.keyedvectors.Vocab at 0x29ff4f366d8>,\n",
       " 'いる': <gensim.models.keyedvectors.Vocab at 0x29ff4f36710>,\n",
       " 'ため': <gensim.models.keyedvectors.Vocab at 0x29ff4f36748>,\n",
       " 'もとも': <gensim.models.keyedvectors.Vocab at 0x29ff4f36780>,\n",
       " 'ランナー': <gensim.models.keyedvectors.Vocab at 0x29ff4f367b8>,\n",
       " '怪我': <gensim.models.keyedvectors.Vocab at 0x29ff4f367f0>,\n",
       " '最大': <gensim.models.keyedvectors.Vocab at 0x29ff4f36828>,\n",
       " '限': <gensim.models.keyedvectors.Vocab at 0x29ff4f36860>,\n",
       " '軽減': <gensim.models.keyedvectors.Vocab at 0x29ff4f36898>,\n",
       " 'よう': <gensim.models.keyedvectors.Vocab at 0x29ff4f368d0>,\n",
       " '開発': <gensim.models.keyedvectors.Vocab at 0x29ff4f36908>,\n",
       " '持つ': <gensim.models.keyedvectors.Vocab at 0x29ff4f36940>,\n",
       " '一足': <gensim.models.keyedvectors.Vocab at 0x29ff4f36978>,\n",
       " 'かつ': <gensim.models.keyedvectors.Vocab at 0x29ff4f369b0>,\n",
       " 'クリーン': <gensim.models.keyedvectors.Vocab at 0x29ff4f369e8>,\n",
       " 'スタイリッシュ': <gensim.models.keyedvectors.Vocab at 0x29ff4f36a20>,\n",
       " '代初': <gensim.models.keyedvectors.Vocab at 0x29ff4f36a58>,\n",
       " '頭': <gensim.models.keyedvectors.Vocab at 0x29ff4f36a90>,\n",
       " 'ファッション': <gensim.models.keyedvectors.Vocab at 0x29ff4f36ac8>,\n",
       " '受け': <gensim.models.keyedvectors.Vocab at 0x29ff4f36b00>,\n",
       " 'ダイカット': <gensim.models.keyedvectors.Vocab at 0x29ff4f36b38>,\n",
       " 'eva': <gensim.models.keyedvectors.Vocab at 0x29ff4f36b70>,\n",
       " 'こぶ状': <gensim.models.keyedvectors.Vocab at 0x29ff4f36ba8>,\n",
       " '製': <gensim.models.keyedvectors.Vocab at 0x29ff4f36be0>,\n",
       " '対照': <gensim.models.keyedvectors.Vocab at 0x29ff4f36c18>,\n",
       " 'プーマフォームストライプ': <gensim.models.keyedvectors.Vocab at 0x29ff4f36c50>,\n",
       " 'バンプ': <gensim.models.keyedvectors.Vocab at 0x29ff4f36c88>,\n",
       " '金色': <gensim.models.keyedvectors.Vocab at 0x29ff4f36cc0>,\n",
       " 'トーン': <gensim.models.keyedvectors.Vocab at 0x29ff4f36cf8>,\n",
       " '描か': <gensim.models.keyedvectors.Vocab at 0x29ff4f36d30>,\n",
       " '文字': <gensim.models.keyedvectors.Vocab at 0x29ff4f36d68>,\n",
       " 'スポーツウェア': <gensim.models.keyedvectors.Vocab at 0x29ff4f36da0>,\n",
       " 'ビンテージ': <gensim.models.keyedvectors.Vocab at 0x29ff4f36dd8>,\n",
       " 'ウィメンズクルー': <gensim.models.keyedvectors.Vocab at 0x29ff4f36e10>,\n",
       " 'ウィメンズトップ': <gensim.models.keyedvectors.Vocab at 0x29ff4f36e48>,\n",
       " '柔らかく': <gensim.models.keyedvectors.Vocab at 0x29ff4f36e80>,\n",
       " '人気': <gensim.models.keyedvectors.Vocab at 0x29ff4f36eb8>,\n",
       " 'プルオーバースタイル': <gensim.models.keyedvectors.Vocab at 0x29ff4f36ef0>,\n",
       " 'リブ': <gensim.models.keyedvectors.Vocab at 0x29ff4f36f28>,\n",
       " 'クルーネック': <gensim.models.keyedvectors.Vocab at 0x29ff4f36f60>,\n",
       " '内側': <gensim.models.keyedvectors.Vocab at 0x29ff4f36f98>,\n",
       " 'テーピング': <gensim.models.keyedvectors.Vocab at 0x29ff4f36fd0>,\n",
       " '実現': <gensim.models.keyedvectors.Vocab at 0x29ff4f38048>,\n",
       " 'カフス': <gensim.models.keyedvectors.Vocab at 0x29ff4f38080>,\n",
       " '裾': <gensim.models.keyedvectors.Vocab at 0x29ff4f380b8>,\n",
       " 'ずれず': <gensim.models.keyedvectors.Vocab at 0x29ff4f380f0>,\n",
       " 'オーガニックコットン': <gensim.models.keyedvectors.Vocab at 0x29ff4f38128>,\n",
       " 'コットン': <gensim.models.keyedvectors.Vocab at 0x29ff4f38160>,\n",
       " '中国': <gensim.models.keyedvectors.Vocab at 0x29ff4f38198>,\n",
       " 'トレーニング': <gensim.models.keyedvectors.Vocab at 0x29ff4f381d0>,\n",
       " 'j': <gensim.models.keyedvectors.Vocab at 0x29ff4f38208>,\n",
       " 'ダッフルバッグ': <gensim.models.keyedvectors.Vocab at 0x29ff4f38240>,\n",
       " 'm': <gensim.models.keyedvectors.Vocab at 0x29ff4f38278>,\n",
       " '大きな': <gensim.models.keyedvectors.Vocab at 0x29ff4f382b0>,\n",
       " 'ロゴマーク': <gensim.models.keyedvectors.Vocab at 0x29ff4f382e8>,\n",
       " 'なっ': <gensim.models.keyedvectors.Vocab at 0x29ff4f38320>,\n",
       " 'トレーニングjダッフルバッグ': <gensim.models.keyedvectors.Vocab at 0x29ff4f38358>,\n",
       " '丸み': <gensim.models.keyedvectors.Vocab at 0x29ff4f38390>,\n",
       " 'おしゃれ': <gensim.models.keyedvectors.Vocab at 0x29ff4f383c8>,\n",
       " '開口': <gensim.models.keyedvectors.Vocab at 0x29ff4f38400>,\n",
       " '部': <gensim.models.keyedvectors.Vocab at 0x29ff4f38438>,\n",
       " '大きく': <gensim.models.keyedvectors.Vocab at 0x29ff4f38470>,\n",
       " '開く': <gensim.models.keyedvectors.Vocab at 0x29ff4f384a8>,\n",
       " '荷物': <gensim.models.keyedvectors.Vocab at 0x29ff4f384e0>,\n",
       " '出し入れ': <gensim.models.keyedvectors.Vocab at 0x29ff4f38518>,\n",
       " 'しやすくなっ': <gensim.models.keyedvectors.Vocab at 0x29ff4f38550>,\n",
       " '紐部': <gensim.models.keyedvectors.Vocab at 0x29ff4f38588>,\n",
       " '分': <gensim.models.keyedvectors.Vocab at 0x29ff4f385c0>,\n",
       " '肩当': <gensim.models.keyedvectors.Vocab at 0x29ff4f385f8>,\n",
       " '付い': <gensim.models.keyedvectors.Vocab at 0x29ff4f38630>,\n",
       " '重い': <gensim.models.keyedvectors.Vocab at 0x29ff4f38668>,\n",
       " '痛く': <gensim.models.keyedvectors.Vocab at 0x29ff4f386a0>,\n",
       " 'なる': <gensim.models.keyedvectors.Vocab at 0x29ff4f386d8>,\n",
       " '心配': <gensim.models.keyedvectors.Vocab at 0x29ff4f38710>,\n",
       " 'ませ': <gensim.models.keyedvectors.Vocab at 0x29ff4f38748>,\n",
       " 'ん': <gensim.models.keyedvectors.Vocab at 0x29ff4f38780>,\n",
       " '前': <gensim.models.keyedvectors.Vocab at 0x29ff4f387b8>,\n",
       " 'ファスナーポケット': <gensim.models.keyedvectors.Vocab at 0x29ff4f387f0>,\n",
       " '入れ': <gensim.models.keyedvectors.Vocab at 0x29ff4f38828>,\n",
       " 'られ': <gensim.models.keyedvectors.Vocab at 0x29ff4f38860>,\n",
       " '便利': <gensim.models.keyedvectors.Vocab at 0x29ff4f38898>,\n",
       " '部活': <gensim.models.keyedvectors.Vocab at 0x29ff4f388d0>,\n",
       " '習い事': <gensim.models.keyedvectors.Vocab at 0x29ff4f38908>,\n",
       " '旅行': <gensim.models.keyedvectors.Vocab at 0x29ff4f38940>,\n",
       " '用': <gensim.models.keyedvectors.Vocab at 0x29ff4f38978>,\n",
       " 'シーン': <gensim.models.keyedvectors.Vocab at 0x29ff4f389b0>,\n",
       " '合わせ': <gensim.models.keyedvectors.Vocab at 0x29ff4f389e8>,\n",
       " 'お': <gensim.models.keyedvectors.Vocab at 0x29ff4f38a20>,\n",
       " 'だける': <gensim.models.keyedvectors.Vocab at 0x29ff4f38a58>,\n",
       " 'バッグ': <gensim.models.keyedvectors.Vocab at 0x29ff4f38a90>,\n",
       " '容量': <gensim.models.keyedvectors.Vocab at 0x29ff4f38ac8>,\n",
       " 'l': <gensim.models.keyedvectors.Vocab at 0x29ff4f38b00>,\n",
       " 'スウェットパンツ': <gensim.models.keyedvectors.Vocab at 0x29ff4f38b38>,\n",
       " 'コットンベース': <gensim.models.keyedvectors.Vocab at 0x29ff4f38b70>,\n",
       " '裏毛': <gensim.models.keyedvectors.Vocab at 0x29ff4f38ba8>,\n",
       " '肌触り': <gensim.models.keyedvectors.Vocab at 0x29ff4f38be0>,\n",
       " '良さ': <gensim.models.keyedvectors.Vocab at 0x29ff4f38c18>,\n",
       " 'ヒップ': <gensim.models.keyedvectors.Vocab at 0x29ff4f38c50>,\n",
       " '周り': <gensim.models.keyedvectors.Vocab at 0x29ff4f38c88>,\n",
       " 'ゆっ': <gensim.models.keyedvectors.Vocab at 0x29ff4f38cc0>,\n",
       " 'させ': <gensim.models.keyedvectors.Vocab at 0x29ff4f38cf8>,\n",
       " '足元': <gensim.models.keyedvectors.Vocab at 0x29ff4f38d30>,\n",
       " '細く': <gensim.models.keyedvectors.Vocab at 0x29ff4f38d68>,\n",
       " 'いく': <gensim.models.keyedvectors.Vocab at 0x29ff4f38da0>,\n",
       " 'まし': <gensim.models.keyedvectors.Vocab at 0x29ff4f38dd8>,\n",
       " 'ウエスト': <gensim.models.keyedvectors.Vocab at 0x29ff4f38e10>,\n",
       " '紐に': <gensim.models.keyedvectors.Vocab at 0x29ff4f38e48>,\n",
       " 'お好み': <gensim.models.keyedvectors.Vocab at 0x29ff4f38e80>,\n",
       " '着圧': <gensim.models.keyedvectors.Vocab at 0x29ff4f38eb8>,\n",
       " '3': <gensim.models.keyedvectors.Vocab at 0x29ff4f38ef0>,\n",
       " 'pwrcool': <gensim.models.keyedvectors.Vocab at 0x29ff4f38f28>,\n",
       " 't': <gensim.models.keyedvectors.Vocab at 0x29ff4f38f60>,\n",
       " 'シャツ': <gensim.models.keyedvectors.Vocab at 0x29ff4f38f98>,\n",
       " '湿度': <gensim.models.keyedvectors.Vocab at 0x29ff4f38fd0>,\n",
       " '長け': <gensim.models.keyedvectors.Vocab at 0x29ff4f3d048>,\n",
       " '身生': <gensim.models.keyedvectors.Vocab at 0x29ff4f3d080>,\n",
       " 'トップス': <gensim.models.keyedvectors.Vocab at 0x29ff4f3d0b8>,\n",
       " 'フラットロックシーム': <gensim.models.keyedvectors.Vocab at 0x29ff4f3d0f0>,\n",
       " '縫製': <gensim.models.keyedvectors.Vocab at 0x29ff4f3d128>,\n",
       " 'により': <gensim.models.keyedvectors.Vocab at 0x29ff4f3d160>,\n",
       " '縫い': <gensim.models.keyedvectors.Vocab at 0x29ff4f3d198>,\n",
       " '代部': <gensim.models.keyedvectors.Vocab at 0x29ff4f3d1d0>,\n",
       " '擦れ': <gensim.models.keyedvectors.Vocab at 0x29ff4f3d208>,\n",
       " '肌': <gensim.models.keyedvectors.Vocab at 0x29ff4f3d240>,\n",
       " 'ストレス': <gensim.models.keyedvectors.Vocab at 0x29ff4f3d278>,\n",
       " 'くれ': <gensim.models.keyedvectors.Vocab at 0x29ff4f3d2b0>,\n",
       " '上腕': <gensim.models.keyedvectors.Vocab at 0x29ff4f3d2e8>,\n",
       " '稼動': <gensim.models.keyedvectors.Vocab at 0x29ff4f3d320>,\n",
       " '域': <gensim.models.keyedvectors.Vocab at 0x29ff4f3d358>,\n",
       " '妨げ': <gensim.models.keyedvectors.Vocab at 0x29ff4f3d390>,\n",
       " 'やすい': <gensim.models.keyedvectors.Vocab at 0x29ff4f3d3c8>,\n",
       " '作り': <gensim.models.keyedvectors.Vocab at 0x29ff4f3d400>,\n",
       " 'イヤフォンコード': <gensim.models.keyedvectors.Vocab at 0x29ff4f3d438>,\n",
       " 'ループ': <gensim.models.keyedvectors.Vocab at 0x29ff4f3d470>,\n",
       " '配置': <gensim.models.keyedvectors.Vocab at 0x29ff4f3d4a8>,\n",
       " 'スポーツシーン': <gensim.models.keyedvectors.Vocab at 0x29ff4f3d4e0>,\n",
       " '音楽': <gensim.models.keyedvectors.Vocab at 0x29ff4f3d518>,\n",
       " '楽しめ': <gensim.models.keyedvectors.Vocab at 0x29ff4f3d550>,\n",
       " 'リフレクティブロゴ': <gensim.models.keyedvectors.Vocab at 0x29ff4f3d588>,\n",
       " '夜間': <gensim.models.keyedvectors.Vocab at 0x29ff4f3d5c0>,\n",
       " '視認': <gensim.models.keyedvectors.Vocab at 0x29ff4f3d5f8>,\n",
       " '安全': <gensim.models.keyedvectors.Vocab at 0x29ff4f3d630>,\n",
       " ' <': <gensim.models.keyedvectors.Vocab at 0x29ff4f3d668>,\n",
       " 'br': <gensim.models.keyedvectors.Vocab at 0x29ff4f3d6a0>,\n",
       " '> ': <gensim.models.keyedvectors.Vocab at 0x29ff4f3d6d8>,\n",
       " '[ ': <gensim.models.keyedvectors.Vocab at 0x29ff4f3d710>,\n",
       " 'ストレッチピケ': <gensim.models.keyedvectors.Vocab at 0x29ff4f3d748>,\n",
       " 'ポリウレタン': <gensim.models.keyedvectors.Vocab at 0x29ff4f3d780>,\n",
       " 'ヨガ': <gensim.models.keyedvectors.Vocab at 0x29ff4f3d7b8>,\n",
       " 'ロゴグラフィックtシャツ': <gensim.models.keyedvectors.Vocab at 0x29ff4f3d7f0>,\n",
       " 'いれ': <gensim.models.keyedvectors.Vocab at 0x29ff4f3d828>,\n",
       " 'ライフスタイル': <gensim.models.keyedvectors.Vocab at 0x29ff4f3d860>,\n",
       " '使える': <gensim.models.keyedvectors.Vocab at 0x29ff4f3d898>,\n",
       " '汎用': <gensim.models.keyedvectors.Vocab at 0x29ff4f3d8d0>,\n",
       " 'tシャツ': <gensim.models.keyedvectors.Vocab at 0x29ff4f3d908>,\n",
       " '： ': <gensim.models.keyedvectors.Vocab at 0x29ff4f3d940>,\n",
       " '混率': <gensim.models.keyedvectors.Vocab at 0x29ff4f3d978>,\n",
       " 'モックアイレット': <gensim.models.keyedvectors.Vocab at 0x29ff4f3d9b0>,\n",
       " 'china': <gensim.models.keyedvectors.Vocab at 0x29ff4f3d9e8>,\n",
       " 'ハート': <gensim.models.keyedvectors.Vocab at 0x29ff4f3da20>,\n",
       " 'サファリ': <gensim.models.keyedvectors.Vocab at 0x29ff4f3da58>,\n",
       " 'プーマウィメンズ': <gensim.models.keyedvectors.Vocab at 0x29ff4f3da90>,\n",
       " '代表': <gensim.models.keyedvectors.Vocab at 0x29ff4f3dac8>,\n",
       " '認知': <gensim.models.keyedvectors.Vocab at 0x29ff4f3db00>,\n",
       " 'heart': <gensim.models.keyedvectors.Vocab at 0x29ff4f3db38>,\n",
       " 'コレクション': <gensim.models.keyedvectors.Vocab at 0x29ff4f3db70>,\n",
       " 'より': <gensim.models.keyedvectors.Vocab at 0x29ff4f3dba8>,\n",
       " '秋冬': <gensim.models.keyedvectors.Vocab at 0x29ff4f3dbe0>,\n",
       " '新作': <gensim.models.keyedvectors.Vocab at 0x29ff4f3dc18>,\n",
       " '当アイテム': <gensim.models.keyedvectors.Vocab at 0x29ff4f3dc50>,\n",
       " 'アースカラー': <gensim.models.keyedvectors.Vocab at 0x29ff4f3dc88>,\n",
       " 'ナチュラル': <gensim.models.keyedvectors.Vocab at 0x29ff4f3dcc0>,\n",
       " 'トレンド': <gensim.models.keyedvectors.Vocab at 0x29ff4f3dcf8>,\n",
       " 'コートスタイル': <gensim.models.keyedvectors.Vocab at 0x29ff4f3dd30>,\n",
       " 'ベース': <gensim.models.keyedvectors.Vocab at 0x29ff4f3dd68>,\n",
       " 'キュート': <gensim.models.keyedvectors.Vocab at 0x29ff4f3dda0>,\n",
       " 'リボン': <gensim.models.keyedvectors.Vocab at 0x29ff4f3ddd8>,\n",
       " '本': <gensim.models.keyedvectors.Vocab at 0x29ff4f3de10>,\n",
       " '付属': <gensim.models.keyedvectors.Vocab at 0x29ff4f3de48>,\n",
       " 'カジュアル': <gensim.models.keyedvectors.Vocab at 0x29ff4f3de80>,\n",
       " 'スポーティー': <gensim.models.keyedvectors.Vocab at 0x29ff4f3deb8>,\n",
       " 'エレガント': <gensim.models.keyedvectors.Vocab at 0x29ff4f3def0>,\n",
       " '気分': <gensim.models.keyedvectors.Vocab at 0x29ff4f3df28>,\n",
       " 'によって': <gensim.models.keyedvectors.Vocab at 0x29ff4f3df60>,\n",
       " 'アレンジ': <gensim.models.keyedvectors.Vocab at 0x29ff4f3df98>,\n",
       " 'クライマライト': <gensim.models.keyedvectors.Vocab at 0x29ff4f3dfd0>,\n",
       " 'ウィメンズトレーニンググローブ': <gensim.models.keyedvectors.Vocab at 0x29ff4f40048>,\n",
       " 'スタイルスケープ': <gensim.models.keyedvectors.Vocab at 0x29ff4f40080>,\n",
       " 'ブラック': <gensim.models.keyedvectors.Vocab at 0x29ff4f400b8>,\n",
       " 'コール': <gensim.models.keyedvectors.Vocab at 0x29ff4f400f0>,\n",
       " 'ホワイト': <gensim.models.keyedvectors.Vocab at 0x29ff4f40128>,\n",
       " 'カジュアルスリッポンモデル': <gensim.models.keyedvectors.Vocab at 0x29ff4f40160>,\n",
       " 'インソール': <gensim.models.keyedvectors.Vocab at 0x29ff4f40198>,\n",
       " '中敷き': <gensim.models.keyedvectors.Vocab at 0x29ff4f401d0>,\n",
       " '反発': <gensim.models.keyedvectors.Vocab at 0x29ff4f40208>,\n",
       " '「': <gensim.models.keyedvectors.Vocab at 0x29ff4f40240>,\n",
       " 'reebokメモリーテック': <gensim.models.keyedvectors.Vocab at 0x29ff4f40278>,\n",
       " '」': <gensim.models.keyedvectors.Vocab at 0x29ff4f402b0>,\n",
       " '柔らか': <gensim.models.keyedvectors.Vocab at 0x29ff4f402e8>,\n",
       " '履き': <gensim.models.keyedvectors.Vocab at 0x29ff4f40320>,\n",
       " '一体': <gensim.models.keyedvectors.Vocab at 0x29ff4f40358>,\n",
       " '成型': <gensim.models.keyedvectors.Vocab at 0x29ff4f40390>,\n",
       " '事': <gensim.models.keyedvectors.Vocab at 0x29ff4f403c8>,\n",
       " '化': <gensim.models.keyedvectors.Vocab at 0x29ff4f40400>,\n",
       " '着脱': <gensim.models.keyedvectors.Vocab at 0x29ff4f40438>,\n",
       " '楽': <gensim.models.keyedvectors.Vocab at 0x29ff4f40470>,\n",
       " 'スリッポンタイプ': <gensim.models.keyedvectors.Vocab at 0x29ff4f404a8>,\n",
       " 'オリジナルス': <gensim.models.keyedvectors.Vocab at 0x29ff4f404e0>,\n",
       " 'イーキューティ': <gensim.models.keyedvectors.Vocab at 0x29ff4f40518>,\n",
       " 'eqt': <gensim.models.keyedvectors.Vocab at 0x29ff4f40550>,\n",
       " 'supportadv': <gensim.models.keyedvectors.Vocab at 0x29ff4f40588>,\n",
       " 'by': <gensim.models.keyedvectors.Vocab at 0x29ff4f405c0>,\n",
       " 'kolor': <gensim.models.keyedvectors.Vocab at 0x29ff4f405f8>,\n",
       " 'トラックジャケット': <gensim.models.keyedvectors.Vocab at 0x29ff4f40630>,\n",
       " 'レブロン': <gensim.models.keyedvectors.Vocab at 0x29ff4f40668>,\n",
       " 'アンバサダー': <gensim.models.keyedvectors.Vocab at 0x29ff4f406a0>,\n",
       " 'バックパック': <gensim.models.keyedvectors.Vocab at 0x29ff4f406d8>,\n",
       " '耐久': <gensim.models.keyedvectors.Vocab at 0x29ff4f40710>,\n",
       " '丈夫': <gensim.models.keyedvectors.Vocab at 0x29ff4f40748>,\n",
       " 'ボディ': <gensim.models.keyedvectors.Vocab at 0x29ff4f40780>,\n",
       " '耐水': <gensim.models.keyedvectors.Vocab at 0x29ff4f407b8>,\n",
       " '布製': <gensim.models.keyedvectors.Vocab at 0x29ff4f407f0>,\n",
       " 'ボトム': <gensim.models.keyedvectors.Vocab at 0x29ff4f40828>,\n",
       " 'ギア': <gensim.models.keyedvectors.Vocab at 0x29ff4f40860>,\n",
       " '乾い': <gensim.models.keyedvectors.Vocab at 0x29ff4f40898>,\n",
       " '保護': <gensim.models.keyedvectors.Vocab at 0x29ff4f408d0>,\n",
       " '\\xa0': <gensim.models.keyedvectors.Vocab at 0x29ff4f40908>,\n",
       " '用途': <gensim.models.keyedvectors.Vocab at 0x29ff4f40940>,\n",
       " '別': <gensim.models.keyedvectors.Vocab at 0x29ff4f40978>,\n",
       " '専用': <gensim.models.keyedvectors.Vocab at 0x29ff4f409b0>,\n",
       " '整理': <gensim.models.keyedvectors.Vocab at 0x29ff4f409e8>,\n",
       " '持ち運べ': <gensim.models.keyedvectors.Vocab at 0x29ff4f40a20>,\n",
       " 'メインコンパートメント': <gensim.models.keyedvectors.Vocab at 0x29ff4f40a58>,\n",
       " '物': <gensim.models.keyedvectors.Vocab at 0x29ff4f40a90>,\n",
       " 'トップローディングデザイン': <gensim.models.keyedvectors.Vocab at 0x29ff4f40ac8>,\n",
       " 'インチ': <gensim.models.keyedvectors.Vocab at 0x29ff4f40b00>,\n",
       " '電子': <gensim.models.keyedvectors.Vocab at 0x29ff4f40b38>,\n",
       " '機器': <gensim.models.keyedvectors.Vocab at 0x29ff4f40b70>,\n",
       " '収納': <gensim.models.keyedvectors.Vocab at 0x29ff4f40ba8>,\n",
       " '内部': <gensim.models.keyedvectors.Vocab at 0x29ff4f40be0>,\n",
       " 'スリーブ': <gensim.models.keyedvectors.Vocab at 0x29ff4f40c18>,\n",
       " 'ウェビング': <gensim.models.keyedvectors.Vocab at 0x29ff4f40c50>,\n",
       " 'バックル': <gensim.models.keyedvectors.Vocab at 0x29ff4f40c88>,\n",
       " '上部': <gensim.models.keyedvectors.Vocab at 0x29ff4f40cc0>,\n",
       " 'ロック': <gensim.models.keyedvectors.Vocab at 0x29ff4f40cf8>,\n",
       " 'セキュリティ': <gensim.models.keyedvectors.Vocab at 0x29ff4f40d30>,\n",
       " 'max': <gensim.models.keyedvectors.Vocab at 0x29ff4f40d68>,\n",
       " 'air': <gensim.models.keyedvectors.Vocab at 0x29ff4f40da0>,\n",
       " 'ユニット': <gensim.models.keyedvectors.Vocab at 0x29ff4f40dd8>,\n",
       " '肩へ': <gensim.models.keyedvectors.Vocab at 0x29ff4f40e10>,\n",
       " '荷重': <gensim.models.keyedvectors.Vocab at 0x29ff4f40e48>,\n",
       " '均等': <gensim.models.keyedvectors.Vocab at 0x29ff4f40e80>,\n",
       " '分散': <gensim.models.keyedvectors.Vocab at 0x29ff4f40eb8>,\n",
       " '備え': <gensim.models.keyedvectors.Vocab at 0x29ff4f40ef0>,\n",
       " 'シューズ': <gensim.models.keyedvectors.Vocab at 0x29ff4f40f28>,\n",
       " 'コンパートメント': <gensim.models.keyedvectors.Vocab at 0x29ff4f40f60>,\n",
       " 'cm': <gensim.models.keyedvectors.Vocab at 0x29ff4f40f98>,\n",
       " '食品': <gensim.models.keyedvectors.Vocab at 0x29ff4f40fd0>,\n",
       " '飲料': <gensim.models.keyedvectors.Vocab at 0x29ff4f43048>,\n",
       " '保温': <gensim.models.keyedvectors.Vocab at 0x29ff4f43080>,\n",
       " '保冷': <gensim.models.keyedvectors.Vocab at 0x29ff4f430b8>,\n",
       " '縦開き': <gensim.models.keyedvectors.Vocab at 0x29ff4f430f0>,\n",
       " 'ポーチ': <gensim.models.keyedvectors.Vocab at 0x29ff4f43128>,\n",
       " '安定': <gensim.models.keyedvectors.Vocab at 0x29ff4f43160>,\n",
       " '高める': <gensim.models.keyedvectors.Vocab at 0x29ff4f43198>,\n",
       " 'チェストストラップ': <gensim.models.keyedvectors.Vocab at 0x29ff4f431d0>,\n",
       " '寸法': <gensim.models.keyedvectors.Vocab at 0x29ff4f43208>,\n",
       " 'h': <gensim.models.keyedvectors.Vocab at 0x29ff4f43240>,\n",
       " 'w': <gensim.models.keyedvectors.Vocab at 0x29ff4f43278>,\n",
       " 'd': <gensim.models.keyedvectors.Vocab at 0x29ff4f432b0>,\n",
       " 'マジスタ': <gensim.models.keyedvectors.Vocab at 0x29ff4f432e8>,\n",
       " 'オーパス': <gensim.models.keyedvectors.Vocab at 0x29ff4f43320>,\n",
       " 'hg': <gensim.models.keyedvectors.Vocab at 0x29ff4f43358>,\n",
       " 'e': <gensim.models.keyedvectors.Vocab at 0x29ff4f43390>,\n",
       " 'メンズ': <gensim.models.keyedvectors.Vocab at 0x29ff4f433c8>,\n",
       " 'ハードグラウンド': <gensim.models.keyedvectors.Vocab at 0x29ff4f43400>,\n",
       " 'サッカースパイク': <gensim.models.keyedvectors.Vocab at 0x29ff4f43438>,\n",
       " '誰': <gensim.models.keyedvectors.Vocab at 0x29ff4f43470>,\n",
       " '止め': <gensim.models.keyedvectors.Vocab at 0x29ff4f434a8>,\n",
       " 'ゲームメイク': <gensim.models.keyedvectors.Vocab at 0x29ff4f434e0>,\n",
       " 'しなやかな': <gensim.models.keyedvectors.Vocab at 0x29ff4f43518>,\n",
       " 'カンガライト': <gensim.models.keyedvectors.Vocab at 0x29ff4f43550>,\n",
       " '全体': <gensim.models.keyedvectors.Vocab at 0x29ff4f43588>,\n",
       " 'テクスチャー': <gensim.models.keyedvectors.Vocab at 0x29ff4f435c0>,\n",
       " 'コントロール': <gensim.models.keyedvectors.Vocab at 0x29ff4f435f8>,\n",
       " '計算': <gensim.models.keyedvectors.Vocab at 0x29ff4f43630>,\n",
       " 'スパイク': <gensim.models.keyedvectors.Vocab at 0x29ff4f43668>,\n",
       " '硬い土': <gensim.models.keyedvectors.Vocab at 0x29ff4f436a0>,\n",
       " '強力': <gensim.models.keyedvectors.Vocab at 0x29ff4f436d8>,\n",
       " 'トラクション': <gensim.models.keyedvectors.Vocab at 0x29ff4f43710>,\n",
       " '沿っ': <gensim.models.keyedvectors.Vocab at 0x29ff4f43748>,\n",
       " 'フォーム': <gensim.models.keyedvectors.Vocab at 0x29ff4f43780>,\n",
       " 'ソックライナー': <gensim.models.keyedvectors.Vocab at 0x29ff4f437b8>,\n",
       " 'なやかな': <gensim.models.keyedvectors.Vocab at 0x29ff4f437f0>,\n",
       " 'ボールタッチ': <gensim.models.keyedvectors.Vocab at 0x29ff4f43828>,\n",
       " '下': <gensim.models.keyedvectors.Vocab at 0x29ff4f43860>,\n",
       " 'メッシュレイヤー': <gensim.models.keyedvectors.Vocab at 0x29ff4f43898>,\n",
       " '追求': <gensim.models.keyedvectors.Vocab at 0x29ff4f438d0>,\n",
       " 'pebax': <gensim.models.keyedvectors.Vocab at 0x29ff4f43908>,\n",
       " '® ': <gensim.models.keyedvectors.Vocab at 0x29ff4f43940>,\n",
       " 'ナイロンシャーシ': <gensim.models.keyedvectors.Vocab at 0x29ff4f43978>,\n",
       " '弾力': <gensim.models.keyedvectors.Vocab at 0x29ff4f439b0>,\n",
       " 'クォーターパネル': <gensim.models.keyedvectors.Vocab at 0x29ff4f439e8>,\n",
       " 'nikeskin': <gensim.models.keyedvectors.Vocab at 0x29ff4f43a20>,\n",
       " '薄型': <gensim.models.keyedvectors.Vocab at 0x29ff4f43a58>,\n",
       " 'pu': <gensim.models.keyedvectors.Vocab at 0x29ff4f43a90>,\n",
       " 'フィルム': <gensim.models.keyedvectors.Vocab at 0x29ff4f43ac8>,\n",
       " '結合': <gensim.models.keyedvectors.Vocab at 0x29ff4f43b00>,\n",
       " '雨天': <gensim.models.keyedvectors.Vocab at 0x29ff4f43b38>,\n",
       " '乾燥': <gensim.models.keyedvectors.Vocab at 0x29ff4f43b70>,\n",
       " '天候': <gensim.models.keyedvectors.Vocab at 0x29ff4f43ba8>,\n",
       " 'ボールコントロール': <gensim.models.keyedvectors.Vocab at 0x29ff4f43be0>,\n",
       " 'all': <gensim.models.keyedvectors.Vocab at 0x29ff4f43c18>,\n",
       " 'conditions': <gensim.models.keyedvectors.Vocab at 0x29ff4f43c50>,\n",
       " 'control': <gensim.models.keyedvectors.Vocab at 0x29ff4f43c88>,\n",
       " 'acc': <gensim.models.keyedvectors.Vocab at 0x29ff4f43cc0>,\n",
       " '丸い': <gensim.models.keyedvectors.Vocab at 0x29ff4f43cf8>,\n",
       " '形状': <gensim.models.keyedvectors.Vocab at 0x29ff4f43d30>,\n",
       " 'ハードグラウンドエリプティカル': <gensim.models.keyedvectors.Vocab at 0x29ff4f43d68>,\n",
       " 'スタッズ': <gensim.models.keyedvectors.Vocab at 0x29ff4f43da0>,\n",
       " 'かかと': <gensim.models.keyedvectors.Vocab at 0x29ff4f43dd8>,\n",
       " '配し': <gensim.models.keyedvectors.Vocab at 0x29ff4f43e10>,\n",
       " 'グリップ': <gensim.models.keyedvectors.Vocab at 0x29ff4f43e48>,\n",
       " '生む': <gensim.models.keyedvectors.Vocab at 0x29ff4f43e80>,\n",
       " 'ﾍﾞﾄﾅﾑ': <gensim.models.keyedvectors.Vocab at 0x29ff4f43eb8>,\n",
       " 'パーカー': <gensim.models.keyedvectors.Vocab at 0x29ff4f43ef0>,\n",
       " 'floral': <gensim.models.keyedvectors.Vocab at 0x29ff4f43f28>,\n",
       " 'hoodie': <gensim.models.keyedvectors.Vocab at 0x29ff4f43f60>,\n",
       " 'ウィークエンダー': <gensim.models.keyedvectors.Vocab at 0x29ff4f43f98>,\n",
       " 'ロールトップ': <gensim.models.keyedvectors.Vocab at 0x29ff4f43fd0>,\n",
       " 'camo': <gensim.models.keyedvectors.Vocab at 0x29ff4f48048>,\n",
       " 'バイザー': <gensim.models.keyedvectors.Vocab at 0x29ff4f48080>,\n",
       " '日差し': <gensim.models.keyedvectors.Vocab at 0x29ff4f480b8>,\n",
       " '強すぎ': <gensim.models.keyedvectors.Vocab at 0x29ff4f480f0>,\n",
       " '春': <gensim.models.keyedvectors.Vocab at 0x29ff4f48128>,\n",
       " '初夏': <gensim.models.keyedvectors.Vocab at 0x29ff4f48160>,\n",
       " '秋': <gensim.models.keyedvectors.Vocab at 0x29ff4f48198>,\n",
       " '汗': <gensim.models.keyedvectors.Vocab at 0x29ff4f481d0>,\n",
       " 'かい': <gensim.models.keyedvectors.Vocab at 0x29ff4f48208>,\n",
       " 'ベタ': <gensim.models.keyedvectors.Vocab at 0x29ff4f48240>,\n",
       " '付き感が': <gensim.models.keyedvectors.Vocab at 0x29ff4f48278>,\n",
       " 'ラウンド': <gensim.models.keyedvectors.Vocab at 0x29ff4f482b0>,\n",
       " '身だ': <gensim.models.keyedvectors.Vocab at 0x29ff4f482e8>,\n",
       " 'なみ': <gensim.models.keyedvectors.Vocab at 0x29ff4f48320>,\n",
       " 'ピッタリ': <gensim.models.keyedvectors.Vocab at 0x29ff4f48358>,\n",
       " 'オーシャンカモフラージュ': <gensim.models.keyedvectors.Vocab at 0x29ff4f48390>,\n",
       " '柄': <gensim.models.keyedvectors.Vocab at 0x29ff4f483c8>,\n",
       " 'バック': <gensim.models.keyedvectors.Vocab at 0x29ff4f48400>,\n",
       " 'アジャスター': <gensim.models.keyedvectors.Vocab at 0x29ff4f48438>,\n",
       " '大きさ': <gensim.models.keyedvectors.Vocab at 0x29ff4f48470>,\n",
       " '簡単': <gensim.models.keyedvectors.Vocab at 0x29ff4f484a8>,\n",
       " '調節': <gensim.models.keyedvectors.Vocab at 0x29ff4f484e0>,\n",
       " ' ・': <gensim.models.keyedvectors.Vocab at 0x29ff4f48518>,\n",
       " 'こちら': <gensim.models.keyedvectors.Vocab at 0x29ff4f48550>,\n",
       " '同': <gensim.models.keyedvectors.Vocab at 0x29ff4f48588>,\n",
       " 'キャップコレクション': <gensim.models.keyedvectors.Vocab at 0x29ff4f485c0>,\n",
       " '展開': <gensim.models.keyedvectors.Vocab at 0x29ff4f485f8>,\n",
       " ' \\u3000': <gensim.models.keyedvectors.Vocab at 0x29ff4f48630>,\n",
       " 'トラッカー': <gensim.models.keyedvectors.Vocab at 0x29ff4f48668>,\n",
       " '品番': <gensim.models.keyedvectors.Vocab at 0x29ff4f486a0>,\n",
       " 'ミリタリー': <gensim.models.keyedvectors.Vocab at 0x29ff4f486d8>,\n",
       " 'メッシュハット': <gensim.models.keyedvectors.Vocab at 0x29ff4f48710>,\n",
       " '〔': <gensim.models.keyedvectors.Vocab at 0x29ff4f48748>,\n",
       " 'ユーティリティ': <gensim.models.keyedvectors.Vocab at 0x29ff4f48780>,\n",
       " 'トップ': <gensim.models.keyedvectors.Vocab at 0x29ff4f487b8>,\n",
       " 'フィットネス': <gensim.models.keyedvectors.Vocab at 0x29ff4f487f0>,\n",
       " '左': <gensim.models.keyedvectors.Vocab at 0x29ff4f48828>,\n",
       " '小さ': <gensim.models.keyedvectors.Vocab at 0x29ff4f48860>,\n",
       " 'トレーニングコレクション': <gensim.models.keyedvectors.Vocab at 0x29ff4f48898>,\n",
       " '最高': <gensim.models.keyedvectors.Vocab at 0x29ff4f488d0>,\n",
       " 'レベル': <gensim.models.keyedvectors.Vocab at 0x29ff4f48908>,\n",
       " 'アパレル': <gensim.models.keyedvectors.Vocab at 0x29ff4f48940>,\n",
       " 'evo': <gensim.models.keyedvectors.Vocab at 0x29ff4f48978>,\n",
       " 'グラフィック': <gensim.models.keyedvectors.Vocab at 0x29ff4f489b0>,\n",
       " '幾何': <gensim.models.keyedvectors.Vocab at 0x29ff4f489e8>,\n",
       " '学模': <gensim.models.keyedvectors.Vocab at 0x29ff4f48a20>,\n",
       " '様': <gensim.models.keyedvectors.Vocab at 0x29ff4f48a58>,\n",
       " '半袖': <gensim.models.keyedvectors.Vocab at 0x29ff4f48a90>,\n",
       " '眺め': <gensim.models.keyedvectors.Vocab at 0x29ff4f48ac8>,\n",
       " '丈': <gensim.models.keyedvectors.Vocab at 0x29ff4f48b00>,\n",
       " 'ストリート': <gensim.models.keyedvectors.Vocab at 0x29ff4f48b38>,\n",
       " '吸汗': <gensim.models.keyedvectors.Vocab at 0x29ff4f48b70>,\n",
       " '–': <gensim.models.keyedvectors.Vocab at 0x29ff4f48ba8>,\n",
       " 'drycell': <gensim.models.keyedvectors.Vocab at 0x29ff4f48be0>,\n",
       " '対応': <gensim.models.keyedvectors.Vocab at 0x29ff4f48c18>,\n",
       " '吸水': <gensim.models.keyedvectors.Vocab at 0x29ff4f48c50>,\n",
       " '高機': <gensim.models.keyedvectors.Vocab at 0x29ff4f48c88>,\n",
       " '能素': <gensim.models.keyedvectors.Vocab at 0x29ff4f48cc0>,\n",
       " '材': <gensim.models.keyedvectors.Vocab at 0x29ff4f48cf8>,\n",
       " '運動': <gensim.models.keyedvectors.Vocab at 0x29ff4f48d30>,\n",
       " '衣服': <gensim.models.keyedvectors.Vocab at 0x29ff4f48d68>,\n",
       " '内': <gensim.models.keyedvectors.Vocab at 0x29ff4f48da0>,\n",
       " 'ドライ': <gensim.models.keyedvectors.Vocab at 0x29ff4f48dd8>,\n",
       " 'グラフィックオールオーバープリント': <gensim.models.keyedvectors.Vocab at 0x29ff4f48e10>,\n",
       " '高密': <gensim.models.keyedvectors.Vocab at 0x29ff4f48e48>,\n",
       " '度': <gensim.models.keyedvectors.Vocab at 0x29ff4f48e80>,\n",
       " '伸縮': <gensim.models.keyedvectors.Vocab at 0x29ff4f48eb8>,\n",
       " '柔軟': <gensim.models.keyedvectors.Vocab at 0x29ff4f48ef0>,\n",
       " 'ドロップバックヘムスタイル': <gensim.models.keyedvectors.Vocab at 0x29ff4f48f28>,\n",
       " 'レギュラーフィット': <gensim.models.keyedvectors.Vocab at 0x29ff4f48f60>,\n",
       " 'tags': <gensim.models.keyedvectors.Vocab at 0x29ff4f48f98>,\n",
       " 'シューパック': <gensim.models.keyedvectors.Vocab at 0x29ff4f48fd0>,\n",
       " 'つま先': <gensim.models.keyedvectors.Vocab at 0x29ff4f4b048>,\n",
       " '無駄': <gensim.models.keyedvectors.Vocab at 0x29ff4f4b080>,\n",
       " 'スペース': <gensim.models.keyedvectors.Vocab at 0x29ff4f4b0b8>,\n",
       " '取ら': <gensim.models.keyedvectors.Vocab at 0x29ff4f4b0f0>,\n",
       " 'ず': <gensim.models.keyedvectors.Vocab at 0x29ff4f4b128>,\n",
       " 'コンパクト': <gensim.models.keyedvectors.Vocab at 0x29ff4f4b160>,\n",
       " '消臭': <gensim.models.keyedvectors.Vocab at 0x29ff4f4b198>,\n",
       " '蘭': <gensim.models.keyedvectors.Vocab at 0x29ff4f4b1d0>,\n",
       " '分丈': <gensim.models.keyedvectors.Vocab at 0x29ff4f4b208>,\n",
       " 'タイツ': <gensim.models.keyedvectors.Vocab at 0x29ff4f4b240>,\n",
       " '花柄': <gensim.models.keyedvectors.Vocab at 0x29ff4f4b278>,\n",
       " '模様': <gensim.models.keyedvectors.Vocab at 0x29ff4f4b2b0>,\n",
       " 'キーポケット': <gensim.models.keyedvectors.Vocab at 0x29ff4f4b2e8>,\n",
       " 'コイン': <gensim.models.keyedvectors.Vocab at 0x29ff4f4b320>,\n",
       " '鍵': <gensim.models.keyedvectors.Vocab at 0x29ff4f4b358>,\n",
       " 'ソック': <gensim.models.keyedvectors.Vocab at 0x29ff4f4b390>,\n",
       " 'ダート': <gensim.models.keyedvectors.Vocab at 0x29ff4f4b3c8>,\n",
       " 'ブリーズ': <gensim.models.keyedvectors.Vocab at 0x29ff4f4b400>,\n",
       " 'メンズシューズ': <gensim.models.keyedvectors.Vocab at 0x29ff4f4b438>,\n",
       " 'アイコン': <gensim.models.keyedvectors.Vocab at 0x29ff4f4b470>,\n",
       " '地位': <gensim.models.keyedvectors.Vocab at 0x29ff4f4b4a8>,\n",
       " 'へ': <gensim.models.keyedvectors.Vocab at 0x29ff4f4b4e0>,\n",
       " '押し上げ': <gensim.models.keyedvectors.Vocab at 0x29ff4f4b518>,\n",
       " '柔ら': <gensim.models.keyedvectors.Vocab at 0x29ff4f4b550>,\n",
       " 'ソックス': <gensim.models.keyedvectors.Vocab at 0x29ff4f4b588>,\n",
       " '構造': <gensim.models.keyedvectors.Vocab at 0x29ff4f4b5c0>,\n",
       " 'ナカワタ': <gensim.models.keyedvectors.Vocab at 0x29ff4f4b5f8>,\n",
       " 'ロングコート': <gensim.models.keyedvectors.Vocab at 0x29ff4f4b630>,\n",
       " '詳しい': <gensim.models.keyedvectors.Vocab at 0x29ff4f4b668>,\n",
       " '情報': <gensim.models.keyedvectors.Vocab at 0x29ff4f4b6a0>,\n",
       " 'ご': <gensim.models.keyedvectors.Vocab at 0x29ff4f4b6d8>,\n",
       " '案内': <gensim.models.keyedvectors.Vocab at 0x29ff4f4b710>,\n",
       " 'ショッピングページ': <gensim.models.keyedvectors.Vocab at 0x29ff4f4b748>,\n",
       " 'ダンク': <gensim.models.keyedvectors.Vocab at 0x29ff4f4b780>,\n",
       " 'low': <gensim.models.keyedvectors.Vocab at 0x29ff4f4b7b8>,\n",
       " 'id': <gensim.models.keyedvectors.Vocab at 0x29ff4f4b7f0>,\n",
       " 'ジブン': <gensim.models.keyedvectors.Vocab at 0x29ff4f4b828>,\n",
       " '上質': <gensim.models.keyedvectors.Vocab at 0x29ff4f4b860>,\n",
       " 'ひと': <gensim.models.keyedvectors.Vocab at 0x29ff4f4b898>,\n",
       " '目': <gensim.models.keyedvectors.Vocab at 0x29ff4f4b8d0>,\n",
       " 'でわかる': <gensim.models.keyedvectors.Vocab at 0x29ff4f4b908>,\n",
       " 'ユニーク': <gensim.models.keyedvectors.Vocab at 0x29ff4f4b940>,\n",
       " '代': <gensim.models.keyedvectors.Vocab at 0x29ff4f4b978>,\n",
       " '一世': <gensim.models.keyedvectors.Vocab at 0x29ff4f4b9b0>,\n",
       " '風靡': <gensim.models.keyedvectors.Vocab at 0x29ff4f4b9e8>,\n",
       " 'オリジナルモデル': <gensim.models.keyedvectors.Vocab at 0x29ff4f4ba20>,\n",
       " '鮮': <gensim.models.keyedvectors.Vocab at 0x29ff4f4ba58>,\n",
       " 'やか': <gensim.models.keyedvectors.Vocab at 0x29ff4f4ba90>,\n",
       " 'カラー': <gensim.models.keyedvectors.Vocab at 0x29ff4f4bac8>,\n",
       " 'パーソナル': <gensim.models.keyedvectors.Vocab at 0x29ff4f4bb00>,\n",
       " '斬新': <gensim.models.keyedvectors.Vocab at 0x29ff4f4bb38>,\n",
       " 'カスタマイズ': <gensim.models.keyedvectors.Vocab at 0x29ff4f4bb70>,\n",
       " '色': <gensim.models.keyedvectors.Vocab at 0x29ff4f4bba8>,\n",
       " '選ぶ': <gensim.models.keyedvectors.Vocab at 0x29ff4f4bbe0>,\n",
       " 'swoosh': <gensim.models.keyedvectors.Vocab at 0x29ff4f4bc18>,\n",
       " 'パーツ': <gensim.models.keyedvectors.Vocab at 0x29ff4f4bc50>,\n",
       " '好き': <gensim.models.keyedvectors.Vocab at 0x29ff4f4bc88>,\n",
       " '+': <gensim.models.keyedvectors.Vocab at 0x29ff4f4bcc0>,\n",
       " '変化': <gensim.models.keyedvectors.Vocab at 0x29ff4f4bcf8>,\n",
       " 'ガムブラウン': <gensim.models.keyedvectors.Vocab at 0x29ff4f4bd30>,\n",
       " 'ユニバーシティレッド': <gensim.models.keyedvectors.Vocab at 0x29ff4f4bd68>,\n",
       " '豊富': <gensim.models.keyedvectors.Vocab at 0x29ff4f4bda0>,\n",
       " 'オプション': <gensim.models.keyedvectors.Vocab at 0x29ff4f4bdd8>,\n",
       " '選択': <gensim.models.keyedvectors.Vocab at 0x29ff4f4be10>,\n",
       " '感性': <gensim.models.keyedvectors.Vocab at 0x29ff4f4be48>,\n",
       " '合っ': <gensim.models.keyedvectors.Vocab at 0x29ff4f4be80>,\n",
       " 'らしさ': <gensim.models.keyedvectors.Vocab at 0x29ff4f4beb8>,\n",
       " '形に': <gensim.models.keyedvectors.Vocab at 0x29ff4f4bef0>,\n",
       " '名前': <gensim.models.keyedvectors.Vocab at 0x29ff4f4bf28>,\n",
       " '特別': <gensim.models.keyedvectors.Vocab at 0x29ff4f4bf60>,\n",
       " '日付': <gensim.models.keyedvectors.Vocab at 0x29ff4f4bf98>,\n",
       " '言葉': <gensim.models.keyedvectors.Vocab at 0x29ff4f4bfd0>,\n",
       " '数字': <gensim.models.keyedvectors.Vocab at 0x29ff4f4f048>,\n",
       " '刻印': <gensim.models.keyedvectors.Vocab at 0x29ff4f4f080>,\n",
       " 'クラウドライド': <gensim.models.keyedvectors.Vocab at 0x29ff4f4f0b8>,\n",
       " 'dmx': <gensim.models.keyedvectors.Vocab at 0x29ff4f4f0f0>,\n",
       " 'アッシュグレー': <gensim.models.keyedvectors.Vocab at 0x29ff4f4f128>,\n",
       " 'ムービングエアー': <gensim.models.keyedvectors.Vocab at 0x29ff4f4f160>,\n",
       " '空気': <gensim.models.keyedvectors.Vocab at 0x29ff4f4f198>,\n",
       " '動く': <gensim.models.keyedvectors.Vocab at 0x29ff4f4f1d0>,\n",
       " '最新': <gensim.models.keyedvectors.Vocab at 0x29ff4f4f208>,\n",
       " '高く': <gensim.models.keyedvectors.Vocab at 0x29ff4f4f240>,\n",
       " '今': <gensim.models.keyedvectors.Vocab at 0x29ff4f4f278>,\n",
       " '体感': <gensim.models.keyedvectors.Vocab at 0x29ff4f4f2b0>,\n",
       " 'ふわふわ': <gensim.models.keyedvectors.Vocab at 0x29ff4f4f2e8>,\n",
       " 'まさ': <gensim.models.keyedvectors.Vocab at 0x29ff4f4f320>,\n",
       " '名': <gensim.models.keyedvectors.Vocab at 0x29ff4f4f358>,\n",
       " '雲': <gensim.models.keyedvectors.Vocab at 0x29ff4f4f390>,\n",
       " '上歩': <gensim.models.keyedvectors.Vocab at 0x29ff4f4f3c8>,\n",
       " '感覚': <gensim.models.keyedvectors.Vocab at 0x29ff4f4f400>,\n",
       " '秘密': <gensim.models.keyedvectors.Vocab at 0x29ff4f4f438>,\n",
       " '入っ': <gensim.models.keyedvectors.Vocab at 0x29ff4f4f470>,\n",
       " 'ムービングエアーテクノロジー': <gensim.models.keyedvectors.Vocab at 0x29ff4f4f4a8>,\n",
       " '歩く': <gensim.models.keyedvectors.Vocab at 0x29ff4f4f4e0>,\n",
       " 'たび': <gensim.models.keyedvectors.Vocab at 0x29ff4f4f518>,\n",
       " 'ポッド': <gensim.models.keyedvectors.Vocab at 0x29ff4f4f550>,\n",
       " '流動': <gensim.models.keyedvectors.Vocab at 0x29ff4f4f588>,\n",
       " '足へ': <gensim.models.keyedvectors.Vocab at 0x29ff4f4f5c0>,\n",
       " '負担': <gensim.models.keyedvectors.Vocab at 0x29ff4f4f5f8>,\n",
       " '助ける': <gensim.models.keyedvectors.Vocab at 0x29ff4f4f630>,\n",
       " '共': <gensim.models.keyedvectors.Vocab at 0x29ff4f4f668>,\n",
       " '歩行': <gensim.models.keyedvectors.Vocab at 0x29ff4f4f6a0>,\n",
       " '足運び': <gensim.models.keyedvectors.Vocab at 0x29ff4f4f6d8>,\n",
       " 'メモリーテックマッサージ': <gensim.models.keyedvectors.Vocab at 0x29ff4f4f710>,\n",
       " '調': <gensim.models.keyedvectors.Vocab at 0x29ff4f4f748>,\n",
       " 'フィットネスウォーキング': <gensim.models.keyedvectors.Vocab at 0x29ff4f4f780>,\n",
       " '履ける': <gensim.models.keyedvectors.Vocab at 0x29ff4f4f7b8>,\n",
       " 'sc': <gensim.models.keyedvectors.Vocab at 0x29ff4f4f7f0>,\n",
       " 'ナンバリングtシャツ': <gensim.models.keyedvectors.Vocab at 0x29ff4f4f828>,\n",
       " 'neo': <gensim.models.keyedvectors.Vocab at 0x29ff4f4f860>,\n",
       " 'アディダスネオ': <gensim.models.keyedvectors.Vocab at 0x29ff4f4f898>,\n",
       " 'スポーツミックスコーディネート': <gensim.models.keyedvectors.Vocab at 0x29ff4f4f8d0>,\n",
       " 'ナンバリングｔシャツ': <gensim.models.keyedvectors.Vocab at 0x29ff4f4f908>,\n",
       " 'アイスホッケーインスパイアー': <gensim.models.keyedvectors.Vocab at 0x29ff4f4f940>,\n",
       " 'アクセントカラー': <gensim.models.keyedvectors.Vocab at 0x29ff4f4f978>,\n",
       " '効い': <gensim.models.keyedvectors.Vocab at 0x29ff4f4f9b0>,\n",
       " 'ｖ': <gensim.models.keyedvectors.Vocab at 0x29ff4f4f9e8>,\n",
       " 'ネックライン': <gensim.models.keyedvectors.Vocab at 0x29ff4f4fa20>,\n",
       " 'ナンバリング': <gensim.models.keyedvectors.Vocab at 0x29ff4f4fa58>,\n",
       " '夏': <gensim.models.keyedvectors.Vocab at 0x29ff4f4fa90>,\n",
       " 'モチーフ': <gensim.models.keyedvectors.Vocab at 0x29ff4f4fac8>,\n",
       " 'ヤシ': <gensim.models.keyedvectors.Vocab at 0x29ff4f4fb00>,\n",
       " '木': <gensim.models.keyedvectors.Vocab at 0x29ff4f4fb38>,\n",
       " 'オリジナルグラフィック': <gensim.models.keyedvectors.Vocab at 0x29ff4f4fb70>,\n",
       " '施さ': <gensim.models.keyedvectors.Vocab at 0x29ff4f4fba8>,\n",
       " '(': <gensim.models.keyedvectors.Vocab at 0x29ff4f4fbe0>,\n",
       " '着丈': <gensim.models.keyedvectors.Vocab at 0x29ff4f4fc18>,\n",
       " '㎝': <gensim.models.keyedvectors.Vocab at 0x29ff4f4fc50>,\n",
       " ' )': <gensim.models.keyedvectors.Vocab at 0x29ff4f4fc88>,\n",
       " ' 【': <gensim.models.keyedvectors.Vocab at 0x29ff4f4fcc0>,\n",
       " '】 ': <gensim.models.keyedvectors.Vocab at 0x29ff4f4fcf8>,\n",
       " 'アクティブ': <gensim.models.keyedvectors.Vocab at 0x29ff4f4fd30>,\n",
       " 'フレッシュ': <gensim.models.keyedvectors.Vocab at 0x29ff4f4fd68>,\n",
       " '若者': <gensim.models.keyedvectors.Vocab at 0x29ff4f4fda0>,\n",
       " '向け': <gensim.models.keyedvectors.Vocab at 0x29ff4f4fdd8>,\n",
       " 'デイリー': <gensim.models.keyedvectors.Vocab at 0x29ff4f4fe10>,\n",
       " '楽しめる': <gensim.models.keyedvectors.Vocab at 0x29ff4f4fe48>,\n",
       " 'スポーツカジュアルスタイル': <gensim.models.keyedvectors.Vocab at 0x29ff4f4fe80>,\n",
       " ...}"
      ]
     },
     "execution_count": 77,
     "metadata": {},
     "output_type": "execute_result"
    }
   ],
   "source": [
    "word_model.wv.vocab"
   ]
  },
  {
   "cell_type": "code",
   "execution_count": 65,
   "metadata": {},
   "outputs": [
    {
     "name": "stderr",
     "output_type": "stream",
     "text": [
      "C:\\Users\\narendran.thesma\\AppData\\Local\\Continuum\\anaconda3\\lib\\site-packages\\gensim\\utils.py:1212: UserWarning: detected Windows; aliasing chunkize to chunkize_serial\n",
      "  warnings.warn(\"detected Windows; aliasing chunkize to chunkize_serial\")\n"
     ]
    }
   ],
   "source": [
    "import gensim\n",
    "word_model = gensim.models.Word2Vec(tokenized_text, size=300, min_count=1, window=5, iter=1)"
   ]
  },
  {
   "cell_type": "code",
   "execution_count": 73,
   "metadata": {},
   "outputs": [
    {
     "data": {
      "text/plain": [
       "'Fukufuji'"
      ]
     },
     "execution_count": 73,
     "metadata": {},
     "output_type": "execute_result"
    }
   ],
   "source": [
    "word"
   ]
  },
  {
   "cell_type": "code",
   "execution_count": 74,
   "metadata": {},
   "outputs": [
    {
     "data": {
      "text/plain": [
       "array([ 0.0311, -0.0149,  0.0287,  0.0131,  0.0231,  0.0147,  0.0548,\n",
       "        0.0144,  0.0334,  0.0166,  0.0305, -0.0256, -0.0456,  0.006 ,\n",
       "        0.0226,  0.0174,  0.0124, -0.0156,  0.0132,  0.0064, -0.0703,\n",
       "        0.0235,  0.0422, -0.0024,  0.0089, -0.0326,  0.0558,  0.006 ,\n",
       "       -0.0373, -0.0012, -0.0064,  0.0474,  0.0046, -0.0124, -0.0053,\n",
       "        0.0596, -0.0042,  0.0137,  0.0841,  0.0027, -0.022 , -0.0055,\n",
       "        0.024 ,  0.0104,  0.0416, -0.0297, -0.0301,  0.0503, -0.0068,\n",
       "       -0.0196, -0.0387,  0.0245, -0.0059,  0.0124,  0.0593, -0.0142,\n",
       "        0.0509, -0.0353, -0.0475,  0.0294,  0.0126,  0.0362,  0.0158,\n",
       "       -0.0093,  0.0341, -0.0453,  0.0366,  0.0164, -0.0266,  0.0055,\n",
       "       -0.0271,  0.0263, -0.0052,  0.0094,  0.0194, -0.0077,  0.0222,\n",
       "       -0.004 , -0.0099,  0.0429,  0.0386, -0.0344,  0.0285, -0.0152,\n",
       "        0.0144,  0.013 , -0.0067, -0.0236,  0.0183, -0.0206, -0.0582,\n",
       "        0.0047,  0.0116,  0.0107,  0.0167, -0.0571,  0.0187, -0.0025,\n",
       "        0.0142, -0.0146,  0.0609,  0.0137, -0.0319, -0.0138, -0.0026,\n",
       "       -0.0043,  0.0226, -0.0073,  0.0207,  0.0588,  0.0131,  0.0022,\n",
       "        0.0008,  0.0255,  0.0248,  0.0211,  0.0162, -0.0191,  0.0361,\n",
       "        0.0162, -0.0166,  0.0519,  0.0274, -0.015 ,  0.0168,  0.0136,\n",
       "       -0.013 ,  0.0115,  0.0034,  0.0396, -0.0039,  0.0494,  0.023 ,\n",
       "        0.0224, -0.0121, -0.0581,  0.0099,  0.0094,  0.0528,  0.0261,\n",
       "       -0.0448,  0.0224,  0.0459,  0.0131, -0.0474, -0.0368, -0.0357,\n",
       "       -0.0048,  0.0187,  0.0161,  0.0365,  0.0235, -0.0457, -0.009 ,\n",
       "       -0.0046,  0.0061,  0.0008, -0.1402,  0.0278,  0.0148,  0.0171,\n",
       "        0.0357, -0.0328, -0.0047,  0.0212,  0.0581,  0.0053,  0.0823,\n",
       "       -0.0107,  0.0299,  0.0198, -0.03  ,  0.0297,  0.0035,  0.0145,\n",
       "       -0.0106,  0.0065,  0.0743,  0.0682, -0.0348,  0.0591,  0.0072,\n",
       "       -0.0132, -0.0035, -0.0221,  0.0244,  0.0049, -0.027 , -0.0011,\n",
       "       -0.0178,  0.028 , -0.0103,  0.0286,  0.0314,  0.0441, -0.0221,\n",
       "        0.0381, -0.0239,  0.0153,  0.0148, -0.06  ,  0.0369, -0.028 ,\n",
       "        0.0187,  0.011 , -0.0037,  0.0399, -0.0061,  0.0205,  0.0399,\n",
       "       -0.038 ,  0.0028,  0.0113, -0.0411,  0.0316,  0.0451,  0.0021,\n",
       "        0.001 , -0.0085, -0.0343, -0.015 , -0.0449, -0.0109, -0.0203,\n",
       "        0.0156,  0.0682, -0.0441, -0.0101,  0.0177, -0.0307, -0.0046,\n",
       "        0.0055, -0.0491,  0.0605,  0.0214,  0.0641,  0.0057,  0.0038,\n",
       "        0.0195,  0.0088,  0.0304,  0.0341, -0.0501,  0.0102, -0.0283,\n",
       "       -0.0155,  0.0182, -0.069 , -0.0017,  0.0247, -0.1075, -0.0478,\n",
       "        0.0034, -0.0435, -0.058 , -0.0355,  0.0103, -0.0199,  0.0029,\n",
       "        0.0174, -0.0046, -0.0567, -0.0186,  0.0235,  0.0026,  0.0117,\n",
       "        0.0176, -0.0345, -0.0272,  0.0637, -0.0073,  0.025 , -0.045 ,\n",
       "       -0.0293, -0.003 ,  0.05  ,  0.1565, -0.0524, -0.0046, -0.0293,\n",
       "       -0.0257,  0.007 ,  0.0166, -0.0486, -0.0009,  0.0103, -0.0353,\n",
       "       -0.0278, -0.0017, -0.0223,  0.0105, -0.0047, -0.0365,  0.0214,\n",
       "       -0.025 , -0.0095,  0.0008, -0.0107, -0.0133, -0.0127],\n",
       "      dtype=float32)"
      ]
     },
     "execution_count": 74,
     "metadata": {},
     "output_type": "execute_result"
    }
   ],
   "source": [
    "embeddings_index[\"Fukufuji\"]"
   ]
  },
  {
   "cell_type": "code",
   "execution_count": 24,
   "metadata": {},
   "outputs": [],
   "source": [
    "# this function creates a normalized vector for the whole sentence\n",
    "def sent2vec(s):\n",
    "    words = str(s).lower()\n",
    "    words = word_tokenize(words)\n",
    "    words = [w for w in words if not w in stop_words]\n",
    "    words = [w for w in words if w.isalpha()]\n",
    "    M = []\n",
    "    for w in words:\n",
    "        try:\n",
    "            M.append(embeddings_index[w])\n",
    "        except:\n",
    "            continue\n",
    "    M = np.array(M)\n",
    "    v = M.sum(axis=0)\n",
    "    if type(v) != np.ndarray:\n",
    "        return np.zeros(300)\n",
    "    return v / np.sqrt((v ** 2).sum())"
   ]
  },
  {
   "cell_type": "code",
   "execution_count": 25,
   "metadata": {
    "scrolled": true
   },
   "outputs": [
    {
     "name": "stderr",
     "output_type": "stream",
     "text": [
      "  0%|                                                                              | 2/55381 [00:00<00:27, 2003.97it/s]\n",
      "  0%|                                                                                | 2/6154 [00:00<00:06, 998.88it/s]\n"
     ]
    }
   ],
   "source": [
    "# create sentence vectors using the above function for training and validation set\n",
    "xtrain_glove = [sent2vec(x) for x in tqdm(xtrain)]\n",
    "xvalid_glove = [sent2vec(x) for x in tqdm(xvalid)]"
   ]
  },
  {
   "cell_type": "code",
   "execution_count": 26,
   "metadata": {},
   "outputs": [],
   "source": [
    "xtrain_glove = np.asarray(xtrain_glove)\n",
    "xvalid_glove = np.asarray(xvalid_glove)"
   ]
  },
  {
   "cell_type": "code",
   "execution_count": 24,
   "metadata": {},
   "outputs": [
    {
     "name": "stdout",
     "output_type": "stream",
     "text": [
      "logloss: 0.330 \n"
     ]
    }
   ],
   "source": [
    "# Fitting a simple xgboost on glove features\n",
    "clf = xgb.XGBClassifier(silent=False)\n",
    "clf.fit(xtrain_glove, ytrain)\n",
    "predictions = clf.predict_proba(xvalid_glove)\n",
    "\n",
    "print (\"logloss: %0.3f \" % multiclass_logloss(yvalid, predictions))"
   ]
  },
  {
   "cell_type": "code",
   "execution_count": 23,
   "metadata": {},
   "outputs": [
    {
     "name": "stdout",
     "output_type": "stream",
     "text": [
      "logloss: 0.117 \n"
     ]
    }
   ],
   "source": [
    "# Fitting a simple xgboost on glove features\n",
    "clf = xgb.XGBClassifier(max_depth=7, n_estimators=200, colsample_bytree=0.8, \n",
    "                        subsample=0.8, learning_rate=0.1, silent=False)\n",
    "clf.fit(xtrain_glove, ytrain)\n",
    "predictions = clf.predict_proba(xvalid_glove)\n",
    "\n",
    "print (\"logloss: %0.3f \" % multiclass_logloss(yvalid, predictions))"
   ]
  },
  {
   "cell_type": "code",
   "execution_count": 24,
   "metadata": {},
   "outputs": [],
   "source": [
    "def XGB_CV(\n",
    "          max_depth,\n",
    "          gamma,\n",
    "          min_child_weight,\n",
    "          max_delta_step,\n",
    "          subsample,\n",
    "          colsample_bytree\n",
    "         ):\n",
    "\n",
    "    global AUCbest\n",
    "    global ITERbest\n",
    "\n",
    "#\n",
    "# Define all XGboost parameters\n",
    "#\n",
    "\n",
    "    paramt = {\n",
    "              'booster' : 'gbtree',\n",
    "              'max_depth' : int(max_depth),\n",
    "              'gamma' : gamma,\n",
    "              'eta' : 0.1,\n",
    "              'objective' : 'binary:logistic',\n",
    "              'nthread' : 4,\n",
    "              'silent' : True,\n",
    "              'eval_metric': 'auc',\n",
    "              'subsample' : max(min(subsample, 1), 0),\n",
    "              'colsample_bytree' : max(min(colsample_bytree, 1), 0),\n",
    "              'min_child_weight' : min_child_weight,\n",
    "              'max_delta_step' : int(max_delta_step),\n",
    "              'seed' : 1001\n",
    "              }\n",
    "\n",
    "    folds = 5\n",
    "    cv_score = 0\n",
    "\n",
    "    print(\"\\n Search parameters (%d-fold validation):\\n %s\" % (folds, paramt), file=log_file )\n",
    "    log_file.flush()\n",
    "\n",
    "    xgbc = xgb.cv(\n",
    "                    paramt,\n",
    "                    dtrain,\n",
    "                    num_boost_round = 20000,\n",
    "                    stratified = True,\n",
    "                    nfold = folds,\n",
    "#                    verbose_eval = 10,\n",
    "                    early_stopping_rounds = 100,\n",
    "                    metrics = 'auc',\n",
    "                    show_stdv = True\n",
    "               )\n",
    "\n",
    "# This line would have been on top of this section\n",
    "#    with capture() as result:\n",
    "\n",
    "# After xgb.cv is done, this section puts its output into log file. Train and validation scores \n",
    "# are also extracted in this section. Note the \"diff\" part in the printout below, which is the \n",
    "# difference between the two scores. Large diff values may indicate that a particular set of \n",
    "# parameters is overfitting, especially if you check the CV portion of it in the log file and find \n",
    "# out that train scores were improving much faster than validation scores.\n",
    "\n",
    "#    print('', file=log_file)\n",
    "#    for line in result[1]:\n",
    "#        print(line, file=log_file)\n",
    "#    log_file.flush()\n",
    "\n",
    "    val_score = xgbc['test-auc-mean'].iloc[-1]\n",
    "    train_score = xgbc['train-auc-mean'].iloc[-1]\n",
    "    print(' Stopped after %d iterations with train-auc = %f val-auc = %f ( diff = %f ) train-gini = %f val-gini = %f' % ( len(xgbc), train_score, val_score, (train_score - val_score), (train_score*2-1),\n",
    "(val_score*2-1)) )\n",
    "    if ( val_score > AUCbest ):\n",
    "        AUCbest = val_score\n",
    "        ITERbest = len(xgbc)\n",
    "\n",
    "    return (val_score*2) - 1"
   ]
  },
  {
   "cell_type": "code",
   "execution_count": 25,
   "metadata": {},
   "outputs": [],
   "source": [
    "XGB_BO = BayesianOptimization(XGB_CV, {\n",
    "                                     'max_depth': (2, 12),\n",
    "                                     'gamma': (0.001, 10.0),\n",
    "                                     'min_child_weight': (0, 20),\n",
    "                                     'max_delta_step': (0, 10),\n",
    "                                     'subsample': (0.4, 1.0),\n",
    "                                     'colsample_bytree' :(0.4, 1.0)\n",
    "                                    })"
   ]
  },
  {
   "cell_type": "code",
   "execution_count": 26,
   "metadata": {},
   "outputs": [],
   "source": [
    "XGB_BO.explore({\n",
    "              'max_depth':            [3, 8],\n",
    "              'gamma':                [0.5, 8],\n",
    "              'min_child_weight':     [0.2, 12],\n",
    "              'max_delta_step':       [1, 2],\n",
    "              'subsample':            [0.6, 0.8],\n",
    "              'colsample_bytree':     [0.6, 0.8],\n",
    "              })"
   ]
  },
  {
   "cell_type": "code",
   "execution_count": 27,
   "metadata": {},
   "outputs": [],
   "source": [
    "import warnings\n",
    "from sklearn.metrics import log_loss, matthews_corrcoef, roc_auc_score\n",
    "import contextlib"
   ]
  },
  {
   "cell_type": "code",
   "execution_count": 28,
   "metadata": {},
   "outputs": [],
   "source": [
    "log_file = open('Porto-AUC-5fold-XGB-run-01-v1-full.log', 'a')\n",
    "AUCbest = -1.\n",
    "ITERbest = 0"
   ]
  },
  {
   "cell_type": "code",
   "execution_count": 29,
   "metadata": {},
   "outputs": [],
   "source": [
    "dtrain = xgb.DMatrix(xtrain_glove, label =ytrain)"
   ]
  },
  {
   "cell_type": "code",
   "execution_count": null,
   "metadata": {},
   "outputs": [
    {
     "name": "stdout",
     "output_type": "stream",
     "text": [
      "----------------------------------------------------------------------------------------------------------------------------------\n",
      "Initialization\n",
      "----------------------------------------------------------------------------------------------------------------------------------\n",
      " Step |   Time |      Value |   colsample_bytree |     gamma |   max_delta_step |   max_depth |   min_child_weight |   subsample | \n",
      " Stopped after 3436 iterations with train-auc = 0.999556 val-auc = 0.989799 ( diff = 0.009757 ) train-gini = 0.999112 val-gini = 0.979598\n",
      "    1 | 156m38s |    0.97960 |             0.6000 |    0.5000 |           1.0000 |      3.0000 |             0.2000 |      0.6000 | \n"
     ]
    }
   ],
   "source": [
    "print('-'*130)\n",
    "print('-'*130, file=log_file)\n",
    "log_file.flush()\n",
    "\n",
    "with warnings.catch_warnings():\n",
    "    warnings.filterwarnings('ignore')\n",
    "    XGB_BO.maximize(init_points=2, n_iter=5, acq='ei', xi=0.0)"
   ]
  },
  {
   "cell_type": "markdown",
   "metadata": {},
   "source": [
    "Deep learning"
   ]
  },
  {
   "cell_type": "code",
   "execution_count": 25,
   "metadata": {},
   "outputs": [],
   "source": [
    "# scale the data before any neural net:\n",
    "scl = preprocessing.StandardScaler()\n",
    "xtrain_glove_scl = scl.fit_transform(xtrain_glove)\n",
    "xvalid_glove_scl = scl.transform(xvalid_glove)"
   ]
  },
  {
   "cell_type": "code",
   "execution_count": 137,
   "metadata": {},
   "outputs": [],
   "source": [
    "# we need to binarize the labels for the neural net\n",
    "ytrain_enc = np_utils.to_categorical(ytrain)\n",
    "yvalid_enc = np_utils.to_categorical(yvalid)"
   ]
  },
  {
   "cell_type": "code",
   "execution_count": 27,
   "metadata": {},
   "outputs": [],
   "source": [
    "from sklearn.preprocessing import LabelEncoder\n",
    "le = LabelEncoder()\n",
    "chk = le.fit_transform(data[\"SPORTS CATEGORY\"])"
   ]
  },
  {
   "cell_type": "code",
   "execution_count": 50,
   "metadata": {},
   "outputs": [],
   "source": [
    "# create a simple 3 layer sequential neural net\n",
    "from keras import optimizers\n",
    "\n",
    "model = Sequential()\n",
    "\n",
    "model.add(Dense(300, input_dim=300, activation='relu'))\n",
    "model.add(Dropout(0.4))\n",
    "model.add(BatchNormalization())\n",
    "\n",
    "model.add(Dense(300, activation='relu'))\n",
    "model.add(Dropout(0.4))\n",
    "model.add(BatchNormalization())\n",
    "\n",
    "model.add(Dense(200, activation='relu'))\n",
    "model.add(Dropout(0.4))\n",
    "model.add(BatchNormalization())\n",
    "\n",
    "model.add(Dense(150, activation='relu'))\n",
    "model.add(Dropout(0.4))\n",
    "model.add(BatchNormalization())\n",
    "\n",
    "model.add(Dense(100, activation='relu'))\n",
    "model.add(Dropout(0.4))\n",
    "model.add(BatchNormalization())\n",
    "\n",
    "model.add(Dense(50, activation='relu'))\n",
    "model.add(Dropout(0.4))\n",
    "model.add(BatchNormalization())\n",
    "\n",
    "model.add(Dense(2))\n",
    "model.add(Activation('softmax'))\n",
    "\n",
    "# compile the model\n",
    "sgd = optimizers.SGD(lr=0.01, decay=1e-6, momentum=0.9, nesterov=True)\n",
    "model.compile(loss='categorical_crossentropy', optimizer=sgd)"
   ]
  },
  {
   "cell_type": "code",
   "execution_count": 51,
   "metadata": {
    "scrolled": true
   },
   "outputs": [
    {
     "name": "stdout",
     "output_type": "stream",
     "text": [
      "Train on 55381 samples, validate on 6154 samples\n",
      "Epoch 1/50\n",
      "53440/55381 [===========================>..] - ETA: 42:39 - loss: 0.80 - ETA: 8:40 - loss: 0.9679 - ETA: 6:17 - loss: 0.959 - ETA: 4:59 - loss: 0.999 - ETA: 3:48 - loss: 0.995 - ETA: 3:05 - loss: 1.006 - ETA: 2:37 - loss: 0.993 - ETA: 2:23 - loss: 0.977 - ETA: 2:01 - loss: 0.962 - ETA: 1:53 - loss: 0.964 - ETA: 1:44 - loss: 0.965 - ETA: 1:35 - loss: 0.954 - ETA: 1:28 - loss: 0.945 - ETA: 1:20 - loss: 0.940 - ETA: 1:17 - loss: 0.933 - ETA: 1:16 - loss: 0.929 - ETA: 1:13 - loss: 0.930 - ETA: 1:08 - loss: 0.927 - ETA: 1:06 - loss: 0.924 - ETA: 1:04 - loss: 0.917 - ETA: 1:01 - loss: 0.917 - ETA: 59s - loss: 0.910 - ETA: 55s - loss: 0.90 - ETA: 53s - loss: 0.90 - ETA: 51s - loss: 0.90 - ETA: 49s - loss: 0.89 - ETA: 47s - loss: 0.89 - ETA: 46s - loss: 0.88 - ETA: 44s - loss: 0.88 - ETA: 44s - loss: 0.88 - ETA: 43s - loss: 0.88 - ETA: 42s - loss: 0.88 - ETA: 42s - loss: 0.87 - ETA: 41s - loss: 0.87 - ETA: 40s - loss: 0.87 - ETA: 39s - loss: 0.87 - ETA: 38s - loss: 0.86 - ETA: 37s - loss: 0.86 - ETA: 36s - loss: 0.86 - ETA: 35s - loss: 0.86 - ETA: 35s - loss: 0.86 - ETA: 34s - loss: 0.85 - ETA: 33s - loss: 0.85 - ETA: 33s - loss: 0.85 - ETA: 33s - loss: 0.85 - ETA: 32s - loss: 0.85 - ETA: 32s - loss: 0.85 - ETA: 32s - loss: 0.85 - ETA: 32s - loss: 0.85 - ETA: 32s - loss: 0.84 - ETA: 31s - loss: 0.84 - ETA: 31s - loss: 0.84 - ETA: 31s - loss: 0.84 - ETA: 30s - loss: 0.84 - ETA: 30s - loss: 0.83 - ETA: 30s - loss: 0.83 - ETA: 30s - loss: 0.83 - ETA: 29s - loss: 0.83 - ETA: 29s - loss: 0.83 - ETA: 29s - loss: 0.83 - ETA: 29s - loss: 0.83 - ETA: 28s - loss: 0.82 - ETA: 28s - loss: 0.82 - ETA: 28s - loss: 0.82 - ETA: 27s - loss: 0.82 - ETA: 27s - loss: 0.82 - ETA: 27s - loss: 0.81 - ETA: 27s - loss: 0.81 - ETA: 26s - loss: 0.81 - ETA: 26s - loss: 0.81 - ETA: 26s - loss: 0.81 - ETA: 25s - loss: 0.80 - ETA: 25s - loss: 0.80 - ETA: 25s - loss: 0.80 - ETA: 24s - loss: 0.80 - ETA: 24s - loss: 0.80 - ETA: 24s - loss: 0.80 - ETA: 24s - loss: 0.79 - ETA: 23s - loss: 0.79 - ETA: 23s - loss: 0.79 - ETA: 23s - loss: 0.79 - ETA: 23s - loss: 0.79 - ETA: 23s - loss: 0.79 - ETA: 23s - loss: 0.78 - ETA: 22s - loss: 0.78 - ETA: 22s - loss: 0.78 - ETA: 22s - loss: 0.78 - ETA: 22s - loss: 0.78 - ETA: 22s - loss: 0.78 - ETA: 22s - loss: 0.78 - ETA: 21s - loss: 0.78 - ETA: 21s - loss: 0.77 - ETA: 21s - loss: 0.77 - ETA: 21s - loss: 0.77 - ETA: 21s - loss: 0.77 - ETA: 21s - loss: 0.77 - ETA: 21s - loss: 0.77 - ETA: 20s - loss: 0.77 - ETA: 20s - loss: 0.77 - ETA: 20s - loss: 0.77 - ETA: 20s - loss: 0.76 - ETA: 20s - loss: 0.76 - ETA: 20s - loss: 0.76 - ETA: 20s - loss: 0.76 - ETA: 20s - loss: 0.76 - ETA: 20s - loss: 0.76 - ETA: 19s - loss: 0.76 - ETA: 19s - loss: 0.76 - ETA: 19s - loss: 0.76 - ETA: 19s - loss: 0.76 - ETA: 19s - loss: 0.76 - ETA: 19s - loss: 0.76 - ETA: 19s - loss: 0.75 - ETA: 19s - loss: 0.75 - ETA: 19s - loss: 0.75 - ETA: 19s - loss: 0.75 - ETA: 19s - loss: 0.75 - ETA: 19s - loss: 0.75 - ETA: 18s - loss: 0.75 - ETA: 18s - loss: 0.75 - ETA: 18s - loss: 0.75 - ETA: 18s - loss: 0.75 - ETA: 18s - loss: 0.75 - ETA: 18s - loss: 0.75 - ETA: 18s - loss: 0.74 - ETA: 18s - loss: 0.74 - ETA: 18s - loss: 0.74 - ETA: 18s - loss: 0.74 - ETA: 18s - loss: 0.74 - ETA: 18s - loss: 0.74 - ETA: 17s - loss: 0.74 - ETA: 17s - loss: 0.74 - ETA: 17s - loss: 0.74 - ETA: 17s - loss: 0.74 - ETA: 17s - loss: 0.74 - ETA: 17s - loss: 0.74 - ETA: 17s - loss: 0.74 - ETA: 17s - loss: 0.74 - ETA: 17s - loss: 0.74 - ETA: 17s - loss: 0.73 - ETA: 17s - loss: 0.73 - ETA: 17s - loss: 0.73 - ETA: 17s - loss: 0.73 - ETA: 16s - loss: 0.73 - ETA: 16s - loss: 0.73 - ETA: 16s - loss: 0.73 - ETA: 16s - loss: 0.73 - ETA: 16s - loss: 0.73 - ETA: 16s - loss: 0.73 - ETA: 16s - loss: 0.73 - ETA: 16s - loss: 0.73 - ETA: 16s - loss: 0.73 - ETA: 16s - loss: 0.72 - ETA: 16s - loss: 0.72 - ETA: 16s - loss: 0.72 - ETA: 15s - loss: 0.72 - ETA: 15s - loss: 0.72 - ETA: 15s - loss: 0.72 - ETA: 15s - loss: 0.72 - ETA: 15s - loss: 0.72 - ETA: 15s - loss: 0.72 - ETA: 15s - loss: 0.72 - ETA: 15s - loss: 0.72 - ETA: 15s - loss: 0.72 - ETA: 15s - loss: 0.72 - ETA: 15s - loss: 0.72 - ETA: 15s - loss: 0.71 - ETA: 15s - loss: 0.71 - ETA: 14s - loss: 0.71 - ETA: 14s - loss: 0.71 - ETA: 14s - loss: 0.71 - ETA: 14s - loss: 0.71 - ETA: 14s - loss: 0.71 - ETA: 14s - loss: 0.71 - ETA: 14s - loss: 0.71 - ETA: 14s - loss: 0.71 - ETA: 14s - loss: 0.71 - ETA: 14s - loss: 0.71 - ETA: 14s - loss: 0.71 - ETA: 14s - loss: 0.71 - ETA: 14s - loss: 0.71 - ETA: 14s - loss: 0.71 - ETA: 14s - loss: 0.71 - ETA: 14s - loss: 0.71 - ETA: 13s - loss: 0.71 - ETA: 13s - loss: 0.70 - ETA: 13s - loss: 0.70 - ETA: 13s - loss: 0.70 - ETA: 13s - loss: 0.70 - ETA: 13s - loss: 0.70 - ETA: 13s - loss: 0.70 - ETA: 12s - loss: 0.70 - ETA: 12s - loss: 0.70 - ETA: 12s - loss: 0.70 - ETA: 12s - loss: 0.70 - ETA: 12s - loss: 0.70 - ETA: 12s - loss: 0.70 - ETA: 12s - loss: 0.70 - ETA: 12s - loss: 0.70 - ETA: 12s - loss: 0.70 - ETA: 12s - loss: 0.69 - ETA: 11s - loss: 0.69 - ETA: 11s - loss: 0.69 - ETA: 11s - loss: 0.69 - ETA: 11s - loss: 0.69 - ETA: 11s - loss: 0.69 - ETA: 11s - loss: 0.69 - ETA: 11s - loss: 0.69 - ETA: 11s - loss: 0.69 - ETA: 11s - loss: 0.69 - ETA: 11s - loss: 0.69 - ETA: 10s - loss: 0.69 - ETA: 10s - loss: 0.69 - ETA: 10s - loss: 0.69 - ETA: 10s - loss: 0.69 - ETA: 10s - loss: 0.69 - ETA: 10s - loss: 0.69 - ETA: 10s - loss: 0.69 - ETA: 10s - loss: 0.68 - ETA: 10s - loss: 0.68 - ETA: 10s - loss: 0.68 - ETA: 10s - loss: 0.68 - ETA: 10s - loss: 0.68 - ETA: 9s - loss: 0.6875 - ETA: 9s - loss: 0.686 - ETA: 9s - loss: 0.686 - ETA: 9s - loss: 0.686 - ETA: 9s - loss: 0.685 - ETA: 9s - loss: 0.685 - ETA: 9s - loss: 0.685 - ETA: 9s - loss: 0.684 - ETA: 9s - loss: 0.683 - ETA: 9s - loss: 0.683 - ETA: 9s - loss: 0.682 - ETA: 8s - loss: 0.681 - ETA: 8s - loss: 0.681 - ETA: 8s - loss: 0.680 - ETA: 8s - loss: 0.680 - ETA: 8s - loss: 0.680 - ETA: 8s - loss: 0.679 - ETA: 8s - loss: 0.678 - ETA: 8s - loss: 0.678 - ETA: 8s - loss: 0.678 - ETA: 8s - loss: 0.677 - ETA: 8s - loss: 0.676 - ETA: 7s - loss: 0.675 - ETA: 7s - loss: 0.675 - ETA: 7s - loss: 0.674 - ETA: 7s - loss: 0.674 - ETA: 7s - loss: 0.674 - ETA: 7s - loss: 0.673 - ETA: 7s - loss: 0.672 - ETA: 7s - loss: 0.672 - ETA: 7s - loss: 0.672 - ETA: 7s - loss: 0.672 - ETA: 7s - loss: 0.671 - ETA: 7s - loss: 0.671 - ETA: 6s - loss: 0.670 - ETA: 6s - loss: 0.670 - ETA: 6s - loss: 0.669 - ETA: 6s - loss: 0.669 - ETA: 6s - loss: 0.668 - ETA: 6s - loss: 0.667 - ETA: 6s - loss: 0.667 - ETA: 6s - loss: 0.667 - ETA: 6s - loss: 0.666 - ETA: 6s - loss: 0.666 - ETA: 6s - loss: 0.665 - ETA: 6s - loss: 0.665 - ETA: 5s - loss: 0.664 - ETA: 5s - loss: 0.664 - ETA: 5s - loss: 0.663 - ETA: 5s - loss: 0.663 - ETA: 5s - loss: 0.662 - ETA: 5s - loss: 0.662 - ETA: 5s - loss: 0.661 - ETA: 5s - loss: 0.661 - ETA: 5s - loss: 0.660 - ETA: 5s - loss: 0.660 - ETA: 5s - loss: 0.660 - ETA: 5s - loss: 0.659 - ETA: 5s - loss: 0.659 - ETA: 4s - loss: 0.659 - ETA: 4s - loss: 0.658 - ETA: 4s - loss: 0.658 - ETA: 4s - loss: 0.657 - ETA: 4s - loss: 0.657 - ETA: 4s - loss: 0.657 - ETA: 4s - loss: 0.656 - ETA: 4s - loss: 0.656 - ETA: 4s - loss: 0.655 - ETA: 4s - loss: 0.655 - ETA: 4s - loss: 0.654 - ETA: 4s - loss: 0.654 - ETA: 3s - loss: 0.653 - ETA: 3s - loss: 0.653 - ETA: 3s - loss: 0.653 - ETA: 3s - loss: 0.652 - ETA: 3s - loss: 0.652 - ETA: 3s - loss: 0.651 - ETA: 3s - loss: 0.651 - ETA: 3s - loss: 0.650 - ETA: 3s - loss: 0.650 - ETA: 3s - loss: 0.649 - ETA: 3s - loss: 0.649 - ETA: 3s - loss: 0.649 - ETA: 3s - loss: 0.648 - ETA: 2s - loss: 0.648 - ETA: 2s - loss: 0.647 - ETA: 2s - loss: 0.647 - ETA: 2s - loss: 0.646 - ETA: 2s - loss: 0.646 - ETA: 2s - loss: 0.646 - ETA: 2s - loss: 0.645 - ETA: 2s - loss: 0.645 - ETA: 2s - loss: 0.645 - ETA: 2s - loss: 0.644 - ETA: 2s - loss: 0.644 - ETA: 2s - loss: 0.643 - ETA: 2s - loss: 0.643 - ETA: 1s - loss: 0.642 - ETA: 1s - loss: 0.642 - ETA: 1s - loss: 0.641 - ETA: 1s - loss: 0.641 - ETA: 1s - loss: 0.641 - ETA: 1s - loss: 0.640 - ETA: 1s - loss: 0.640 - ETA: 1s - loss: 0.639 - ETA: 1s - loss: 0.639 - ETA: 1s - loss: 0.639 - ETA: 1s - loss: 0.639 - ETA: 1s - loss: 0.638 - ETA: 1s - loss: 0.638 - ETA: 0s - loss: 0.637 - ETA: 0s - loss: 0.637 - ETA: 0s - loss: 0.63755381/55381 [==============================] - ETA: 0s - loss: 0.636 - ETA: 0s - loss: 0.636 - ETA: 0s - loss: 0.636 - ETA: 0s - loss: 0.636 - ETA: 0s - loss: 0.635 - ETA: 0s - loss: 0.635 - ETA: 0s - loss: 0.635 - ETA: 0s - loss: 0.635 - ETA: 0s - loss: 0.634 - ETA: 0s - loss: 0.634 - 24s 436us/step - loss: 0.6346 - val_loss: 0.4925\n",
      "Epoch 2/50\n"
     ]
    },
    {
     "name": "stdout",
     "output_type": "stream",
     "text": [
      "55104/55381 [============================>.] - ETA: 13s - loss: 0.60 - ETA: 16s - loss: 0.52 - ETA: 16s - loss: 0.50 - ETA: 15s - loss: 0.51 - ETA: 16s - loss: 0.52 - ETA: 16s - loss: 0.51 - ETA: 16s - loss: 0.52 - ETA: 16s - loss: 0.52 - ETA: 16s - loss: 0.52 - ETA: 16s - loss: 0.52 - ETA: 16s - loss: 0.52 - ETA: 17s - loss: 0.53 - ETA: 18s - loss: 0.53 - ETA: 18s - loss: 0.53 - ETA: 18s - loss: 0.53 - ETA: 18s - loss: 0.53 - ETA: 18s - loss: 0.53 - ETA: 18s - loss: 0.53 - ETA: 18s - loss: 0.53 - ETA: 18s - loss: 0.53 - ETA: 18s - loss: 0.53 - ETA: 18s - loss: 0.53 - ETA: 18s - loss: 0.53 - ETA: 18s - loss: 0.53 - ETA: 18s - loss: 0.53 - ETA: 17s - loss: 0.52 - ETA: 17s - loss: 0.53 - ETA: 17s - loss: 0.52 - ETA: 17s - loss: 0.53 - ETA: 17s - loss: 0.53 - ETA: 17s - loss: 0.52 - ETA: 17s - loss: 0.52 - ETA: 16s - loss: 0.52 - ETA: 17s - loss: 0.52 - ETA: 17s - loss: 0.52 - ETA: 17s - loss: 0.52 - ETA: 17s - loss: 0.52 - ETA: 17s - loss: 0.52 - ETA: 16s - loss: 0.52 - ETA: 17s - loss: 0.52 - ETA: 17s - loss: 0.52 - ETA: 16s - loss: 0.52 - ETA: 16s - loss: 0.52 - ETA: 16s - loss: 0.52 - ETA: 16s - loss: 0.52 - ETA: 16s - loss: 0.52 - ETA: 16s - loss: 0.52 - ETA: 16s - loss: 0.53 - ETA: 16s - loss: 0.53 - ETA: 16s - loss: 0.53 - ETA: 16s - loss: 0.53 - ETA: 16s - loss: 0.53 - ETA: 16s - loss: 0.52 - ETA: 16s - loss: 0.52 - ETA: 16s - loss: 0.52 - ETA: 15s - loss: 0.52 - ETA: 16s - loss: 0.52 - ETA: 15s - loss: 0.52 - ETA: 15s - loss: 0.52 - ETA: 15s - loss: 0.52 - ETA: 15s - loss: 0.52 - ETA: 15s - loss: 0.53 - ETA: 15s - loss: 0.53 - ETA: 15s - loss: 0.52 - ETA: 15s - loss: 0.52 - ETA: 15s - loss: 0.52 - ETA: 15s - loss: 0.52 - ETA: 15s - loss: 0.52 - ETA: 15s - loss: 0.52 - ETA: 15s - loss: 0.52 - ETA: 15s - loss: 0.52 - ETA: 15s - loss: 0.52 - ETA: 15s - loss: 0.52 - ETA: 15s - loss: 0.52 - ETA: 15s - loss: 0.52 - ETA: 15s - loss: 0.52 - ETA: 15s - loss: 0.52 - ETA: 15s - loss: 0.52 - ETA: 15s - loss: 0.52 - ETA: 15s - loss: 0.52 - ETA: 15s - loss: 0.52 - ETA: 15s - loss: 0.52 - ETA: 15s - loss: 0.52 - ETA: 15s - loss: 0.52 - ETA: 15s - loss: 0.52 - ETA: 14s - loss: 0.52 - ETA: 14s - loss: 0.52 - ETA: 14s - loss: 0.52 - ETA: 14s - loss: 0.52 - ETA: 14s - loss: 0.52 - ETA: 14s - loss: 0.52 - ETA: 14s - loss: 0.52 - ETA: 14s - loss: 0.52 - ETA: 14s - loss: 0.52 - ETA: 14s - loss: 0.52 - ETA: 14s - loss: 0.52 - ETA: 14s - loss: 0.52 - ETA: 14s - loss: 0.52 - ETA: 14s - loss: 0.52 - ETA: 14s - loss: 0.52 - ETA: 14s - loss: 0.52 - ETA: 14s - loss: 0.52 - ETA: 14s - loss: 0.51 - ETA: 14s - loss: 0.51 - ETA: 14s - loss: 0.52 - ETA: 13s - loss: 0.51 - ETA: 13s - loss: 0.51 - ETA: 13s - loss: 0.51 - ETA: 13s - loss: 0.51 - ETA: 13s - loss: 0.51 - ETA: 13s - loss: 0.51 - ETA: 13s - loss: 0.51 - ETA: 13s - loss: 0.51 - ETA: 13s - loss: 0.51 - ETA: 13s - loss: 0.51 - ETA: 13s - loss: 0.51 - ETA: 13s - loss: 0.51 - ETA: 13s - loss: 0.51 - ETA: 13s - loss: 0.51 - ETA: 13s - loss: 0.51 - ETA: 13s - loss: 0.51 - ETA: 13s - loss: 0.51 - ETA: 13s - loss: 0.51 - ETA: 13s - loss: 0.51 - ETA: 13s - loss: 0.52 - ETA: 13s - loss: 0.52 - ETA: 13s - loss: 0.52 - ETA: 13s - loss: 0.52 - ETA: 13s - loss: 0.52 - ETA: 13s - loss: 0.52 - ETA: 12s - loss: 0.52 - ETA: 12s - loss: 0.52 - ETA: 12s - loss: 0.52 - ETA: 12s - loss: 0.52 - ETA: 12s - loss: 0.52 - ETA: 12s - loss: 0.52 - ETA: 12s - loss: 0.52 - ETA: 12s - loss: 0.52 - ETA: 12s - loss: 0.52 - ETA: 12s - loss: 0.51 - ETA: 12s - loss: 0.51 - ETA: 12s - loss: 0.51 - ETA: 12s - loss: 0.51 - ETA: 12s - loss: 0.51 - ETA: 12s - loss: 0.51 - ETA: 12s - loss: 0.51 - ETA: 12s - loss: 0.51 - ETA: 12s - loss: 0.51 - ETA: 11s - loss: 0.51 - ETA: 11s - loss: 0.51 - ETA: 11s - loss: 0.51 - ETA: 11s - loss: 0.51 - ETA: 11s - loss: 0.51 - ETA: 11s - loss: 0.51 - ETA: 11s - loss: 0.51 - ETA: 11s - loss: 0.51 - ETA: 11s - loss: 0.51 - ETA: 11s - loss: 0.51 - ETA: 11s - loss: 0.51 - ETA: 11s - loss: 0.51 - ETA: 11s - loss: 0.51 - ETA: 11s - loss: 0.51 - ETA: 11s - loss: 0.51 - ETA: 11s - loss: 0.51 - ETA: 11s - loss: 0.51 - ETA: 11s - loss: 0.51 - ETA: 11s - loss: 0.51 - ETA: 11s - loss: 0.51 - ETA: 10s - loss: 0.51 - ETA: 10s - loss: 0.51 - ETA: 10s - loss: 0.51 - ETA: 10s - loss: 0.51 - ETA: 10s - loss: 0.51 - ETA: 10s - loss: 0.51 - ETA: 10s - loss: 0.51 - ETA: 10s - loss: 0.51 - ETA: 10s - loss: 0.51 - ETA: 10s - loss: 0.51 - ETA: 10s - loss: 0.51 - ETA: 10s - loss: 0.51 - ETA: 10s - loss: 0.51 - ETA: 10s - loss: 0.51 - ETA: 10s - loss: 0.51 - ETA: 10s - loss: 0.51 - ETA: 10s - loss: 0.51 - ETA: 10s - loss: 0.51 - ETA: 10s - loss: 0.51 - ETA: 9s - loss: 0.5164 - ETA: 9s - loss: 0.516 - ETA: 9s - loss: 0.516 - ETA: 9s - loss: 0.516 - ETA: 9s - loss: 0.516 - ETA: 9s - loss: 0.516 - ETA: 9s - loss: 0.516 - ETA: 9s - loss: 0.516 - ETA: 9s - loss: 0.515 - ETA: 9s - loss: 0.516 - ETA: 9s - loss: 0.516 - ETA: 9s - loss: 0.515 - ETA: 9s - loss: 0.515 - ETA: 9s - loss: 0.515 - ETA: 8s - loss: 0.515 - ETA: 8s - loss: 0.515 - ETA: 8s - loss: 0.515 - ETA: 8s - loss: 0.515 - ETA: 8s - loss: 0.515 - ETA: 8s - loss: 0.515 - ETA: 8s - loss: 0.515 - ETA: 8s - loss: 0.515 - ETA: 8s - loss: 0.515 - ETA: 8s - loss: 0.515 - ETA: 8s - loss: 0.515 - ETA: 8s - loss: 0.515 - ETA: 8s - loss: 0.515 - ETA: 8s - loss: 0.515 - ETA: 8s - loss: 0.515 - ETA: 8s - loss: 0.515 - ETA: 8s - loss: 0.515 - ETA: 8s - loss: 0.515 - ETA: 7s - loss: 0.515 - ETA: 7s - loss: 0.515 - ETA: 7s - loss: 0.515 - ETA: 7s - loss: 0.514 - ETA: 7s - loss: 0.514 - ETA: 7s - loss: 0.514 - ETA: 7s - loss: 0.514 - ETA: 7s - loss: 0.514 - ETA: 7s - loss: 0.514 - ETA: 7s - loss: 0.514 - ETA: 7s - loss: 0.513 - ETA: 7s - loss: 0.514 - ETA: 7s - loss: 0.514 - ETA: 6s - loss: 0.514 - ETA: 6s - loss: 0.514 - ETA: 6s - loss: 0.514 - ETA: 6s - loss: 0.513 - ETA: 6s - loss: 0.513 - ETA: 6s - loss: 0.514 - ETA: 6s - loss: 0.513 - ETA: 6s - loss: 0.513 - ETA: 6s - loss: 0.513 - ETA: 6s - loss: 0.513 - ETA: 6s - loss: 0.513 - ETA: 6s - loss: 0.513 - ETA: 6s - loss: 0.513 - ETA: 6s - loss: 0.512 - ETA: 6s - loss: 0.513 - ETA: 5s - loss: 0.513 - ETA: 5s - loss: 0.512 - ETA: 5s - loss: 0.513 - ETA: 5s - loss: 0.512 - ETA: 5s - loss: 0.512 - ETA: 5s - loss: 0.513 - ETA: 5s - loss: 0.512 - ETA: 5s - loss: 0.512 - ETA: 5s - loss: 0.512 - ETA: 5s - loss: 0.512 - ETA: 5s - loss: 0.512 - ETA: 5s - loss: 0.512 - ETA: 5s - loss: 0.512 - ETA: 5s - loss: 0.511 - ETA: 5s - loss: 0.511 - ETA: 4s - loss: 0.511 - ETA: 4s - loss: 0.511 - ETA: 4s - loss: 0.511 - ETA: 4s - loss: 0.511 - ETA: 4s - loss: 0.511 - ETA: 4s - loss: 0.510 - ETA: 4s - loss: 0.510 - ETA: 4s - loss: 0.510 - ETA: 4s - loss: 0.511 - ETA: 4s - loss: 0.511 - ETA: 4s - loss: 0.511 - ETA: 4s - loss: 0.511 - ETA: 4s - loss: 0.511 - ETA: 4s - loss: 0.511 - ETA: 4s - loss: 0.511 - ETA: 4s - loss: 0.510 - ETA: 3s - loss: 0.510 - ETA: 3s - loss: 0.510 - ETA: 3s - loss: 0.510 - ETA: 3s - loss: 0.510 - ETA: 3s - loss: 0.510 - ETA: 3s - loss: 0.510 - ETA: 3s - loss: 0.510 - ETA: 3s - loss: 0.510 - ETA: 3s - loss: 0.510 - ETA: 3s - loss: 0.510 - ETA: 3s - loss: 0.510 - ETA: 3s - loss: 0.510 - ETA: 3s - loss: 0.510 - ETA: 3s - loss: 0.510 - ETA: 3s - loss: 0.510 - ETA: 3s - loss: 0.510 - ETA: 2s - loss: 0.510 - ETA: 2s - loss: 0.510 - ETA: 2s - loss: 0.510 - ETA: 2s - loss: 0.510 - ETA: 2s - loss: 0.510 - ETA: 2s - loss: 0.509 - ETA: 2s - loss: 0.509 - ETA: 2s - loss: 0.509 - ETA: 2s - loss: 0.509 - ETA: 2s - loss: 0.509 - ETA: 2s - loss: 0.509 - ETA: 2s - loss: 0.509 - ETA: 2s - loss: 0.509 - ETA: 2s - loss: 0.509 - ETA: 2s - loss: 0.509 - ETA: 2s - loss: 0.508 - ETA: 1s - loss: 0.508 - ETA: 1s - loss: 0.508 - ETA: 1s - loss: 0.508 - ETA: 1s - loss: 0.508 - ETA: 1s - loss: 0.508 - ETA: 1s - loss: 0.508 - ETA: 1s - loss: 0.508 - ETA: 1s - loss: 0.508 - ETA: 1s - loss: 0.508 - ETA: 1s - loss: 0.508 - ETA: 1s - loss: 0.507 - ETA: 1s - loss: 0.507 - ETA: 1s - loss: 0.507 - ETA: 1s - loss: 0.507 - ETA: 1s - loss: 0.507 - ETA: 1s - loss: 0.506 - ETA: 0s - loss: 0.506 - ETA: 0s - loss: 0.507 - ETA: 0s - loss: 0.507 - ETA: 0s - loss: 0.506 - ETA: 0s - loss: 0.507 - ETA: 0s - loss: 0.507 - ETA: 0s - loss: 0.507 - ETA: 0s - loss: 0.507 - ETA: 0s - loss: 0.507 - ETA: 0s - loss: 0.507 - ETA: 0s - loss: 0.507 - ETA: 0s - loss: 0.507 - ETA: 0s - loss: 0.507 - ETA: 0s - loss: 0.5071"
     ]
    },
    {
     "name": "stdout",
     "output_type": "stream",
     "text": [
      "55381/55381 [==============================] - ETA: 0s - loss: 0.507 - 21s 380us/step - loss: 0.5072 - val_loss: 0.4633\n",
      "Epoch 3/50\n",
      "55381/55381 [==============================] - ETA: 13s - loss: 0.44 - ETA: 16s - loss: 0.51 - ETA: 19s - loss: 0.50 - ETA: 18s - loss: 0.50 - ETA: 22s - loss: 0.50 - ETA: 24s - loss: 0.50 - ETA: 21s - loss: 0.49 - ETA: 21s - loss: 0.49 - ETA: 19s - loss: 0.49 - ETA: 20s - loss: 0.50 - ETA: 20s - loss: 0.50 - ETA: 22s - loss: 0.50 - ETA: 22s - loss: 0.49 - ETA: 23s - loss: 0.49 - ETA: 22s - loss: 0.49 - ETA: 23s - loss: 0.49 - ETA: 22s - loss: 0.48 - ETA: 22s - loss: 0.49 - ETA: 21s - loss: 0.49 - ETA: 21s - loss: 0.49 - ETA: 21s - loss: 0.48 - ETA: 21s - loss: 0.48 - ETA: 22s - loss: 0.48 - ETA: 21s - loss: 0.48 - ETA: 21s - loss: 0.48 - ETA: 21s - loss: 0.48 - ETA: 21s - loss: 0.48 - ETA: 21s - loss: 0.48 - ETA: 21s - loss: 0.48 - ETA: 21s - loss: 0.48 - ETA: 20s - loss: 0.48 - ETA: 20s - loss: 0.48 - ETA: 20s - loss: 0.48 - ETA: 20s - loss: 0.48 - ETA: 20s - loss: 0.48 - ETA: 20s - loss: 0.48 - ETA: 20s - loss: 0.48 - ETA: 19s - loss: 0.48 - ETA: 19s - loss: 0.48 - ETA: 19s - loss: 0.48 - ETA: 19s - loss: 0.48 - ETA: 19s - loss: 0.49 - ETA: 19s - loss: 0.49 - ETA: 19s - loss: 0.49 - ETA: 19s - loss: 0.49 - ETA: 19s - loss: 0.49 - ETA: 18s - loss: 0.49 - ETA: 18s - loss: 0.49 - ETA: 18s - loss: 0.49 - ETA: 18s - loss: 0.49 - ETA: 18s - loss: 0.49 - ETA: 18s - loss: 0.49 - ETA: 18s - loss: 0.49 - ETA: 18s - loss: 0.49 - ETA: 18s - loss: 0.49 - ETA: 18s - loss: 0.49 - ETA: 17s - loss: 0.49 - ETA: 18s - loss: 0.49 - ETA: 17s - loss: 0.49 - ETA: 17s - loss: 0.49 - ETA: 17s - loss: 0.49 - ETA: 17s - loss: 0.49 - ETA: 17s - loss: 0.49 - ETA: 17s - loss: 0.49 - ETA: 17s - loss: 0.49 - ETA: 17s - loss: 0.49 - ETA: 17s - loss: 0.49 - ETA: 16s - loss: 0.49 - ETA: 16s - loss: 0.49 - ETA: 16s - loss: 0.49 - ETA: 16s - loss: 0.49 - ETA: 16s - loss: 0.49 - ETA: 16s - loss: 0.49 - ETA: 16s - loss: 0.49 - ETA: 16s - loss: 0.49 - ETA: 16s - loss: 0.49 - ETA: 16s - loss: 0.49 - ETA: 16s - loss: 0.49 - ETA: 16s - loss: 0.49 - ETA: 16s - loss: 0.49 - ETA: 15s - loss: 0.49 - ETA: 15s - loss: 0.49 - ETA: 15s - loss: 0.49 - ETA: 15s - loss: 0.49 - ETA: 15s - loss: 0.49 - ETA: 15s - loss: 0.49 - ETA: 15s - loss: 0.49 - ETA: 15s - loss: 0.49 - ETA: 14s - loss: 0.49 - ETA: 14s - loss: 0.49 - ETA: 14s - loss: 0.49 - ETA: 14s - loss: 0.49 - ETA: 14s - loss: 0.49 - ETA: 14s - loss: 0.49 - ETA: 14s - loss: 0.49 - ETA: 14s - loss: 0.49 - ETA: 14s - loss: 0.49 - ETA: 14s - loss: 0.49 - ETA: 14s - loss: 0.49 - ETA: 14s - loss: 0.49 - ETA: 14s - loss: 0.49 - ETA: 14s - loss: 0.49 - ETA: 14s - loss: 0.49 - ETA: 14s - loss: 0.49 - ETA: 14s - loss: 0.49 - ETA: 13s - loss: 0.49 - ETA: 13s - loss: 0.49 - ETA: 13s - loss: 0.49 - ETA: 13s - loss: 0.49 - ETA: 13s - loss: 0.49 - ETA: 13s - loss: 0.49 - ETA: 13s - loss: 0.49 - ETA: 13s - loss: 0.49 - ETA: 13s - loss: 0.49 - ETA: 13s - loss: 0.49 - ETA: 13s - loss: 0.49 - ETA: 13s - loss: 0.49 - ETA: 13s - loss: 0.48 - ETA: 13s - loss: 0.48 - ETA: 13s - loss: 0.48 - ETA: 13s - loss: 0.48 - ETA: 13s - loss: 0.49 - ETA: 12s - loss: 0.49 - ETA: 12s - loss: 0.49 - ETA: 12s - loss: 0.49 - ETA: 12s - loss: 0.49 - ETA: 12s - loss: 0.49 - ETA: 12s - loss: 0.49 - ETA: 12s - loss: 0.48 - ETA: 12s - loss: 0.48 - ETA: 12s - loss: 0.48 - ETA: 12s - loss: 0.48 - ETA: 12s - loss: 0.48 - ETA: 12s - loss: 0.48 - ETA: 12s - loss: 0.48 - ETA: 12s - loss: 0.48 - ETA: 12s - loss: 0.49 - ETA: 11s - loss: 0.48 - ETA: 11s - loss: 0.49 - ETA: 11s - loss: 0.49 - ETA: 11s - loss: 0.49 - ETA: 11s - loss: 0.49 - ETA: 11s - loss: 0.49 - ETA: 11s - loss: 0.49 - ETA: 11s - loss: 0.49 - ETA: 11s - loss: 0.49 - ETA: 11s - loss: 0.48 - ETA: 11s - loss: 0.48 - ETA: 11s - loss: 0.48 - ETA: 11s - loss: 0.48 - ETA: 10s - loss: 0.48 - ETA: 10s - loss: 0.48 - ETA: 10s - loss: 0.48 - ETA: 10s - loss: 0.48 - ETA: 10s - loss: 0.48 - ETA: 10s - loss: 0.48 - ETA: 10s - loss: 0.48 - ETA: 10s - loss: 0.48 - ETA: 10s - loss: 0.48 - ETA: 10s - loss: 0.48 - ETA: 10s - loss: 0.48 - ETA: 10s - loss: 0.48 - ETA: 10s - loss: 0.48 - ETA: 10s - loss: 0.48 - ETA: 10s - loss: 0.48 - ETA: 9s - loss: 0.4887 - ETA: 9s - loss: 0.488 - ETA: 9s - loss: 0.488 - ETA: 9s - loss: 0.489 - ETA: 9s - loss: 0.488 - ETA: 9s - loss: 0.488 - ETA: 9s - loss: 0.488 - ETA: 9s - loss: 0.488 - ETA: 9s - loss: 0.488 - ETA: 9s - loss: 0.488 - ETA: 9s - loss: 0.488 - ETA: 9s - loss: 0.488 - ETA: 9s - loss: 0.488 - ETA: 9s - loss: 0.488 - ETA: 8s - loss: 0.487 - ETA: 8s - loss: 0.487 - ETA: 8s - loss: 0.488 - ETA: 8s - loss: 0.487 - ETA: 8s - loss: 0.488 - ETA: 8s - loss: 0.488 - ETA: 8s - loss: 0.488 - ETA: 8s - loss: 0.487 - ETA: 8s - loss: 0.487 - ETA: 8s - loss: 0.487 - ETA: 8s - loss: 0.487 - ETA: 8s - loss: 0.487 - ETA: 8s - loss: 0.487 - ETA: 8s - loss: 0.488 - ETA: 7s - loss: 0.487 - ETA: 7s - loss: 0.487 - ETA: 7s - loss: 0.487 - ETA: 7s - loss: 0.487 - ETA: 7s - loss: 0.487 - ETA: 7s - loss: 0.487 - ETA: 7s - loss: 0.487 - ETA: 7s - loss: 0.487 - ETA: 7s - loss: 0.487 - ETA: 7s - loss: 0.488 - ETA: 7s - loss: 0.488 - ETA: 7s - loss: 0.488 - ETA: 7s - loss: 0.488 - ETA: 7s - loss: 0.488 - ETA: 7s - loss: 0.488 - ETA: 7s - loss: 0.488 - ETA: 7s - loss: 0.488 - ETA: 7s - loss: 0.488 - ETA: 7s - loss: 0.488 - ETA: 6s - loss: 0.487 - ETA: 6s - loss: 0.487 - ETA: 6s - loss: 0.487 - ETA: 6s - loss: 0.487 - ETA: 6s - loss: 0.487 - ETA: 6s - loss: 0.487 - ETA: 6s - loss: 0.487 - ETA: 6s - loss: 0.487 - ETA: 6s - loss: 0.487 - ETA: 6s - loss: 0.487 - ETA: 6s - loss: 0.487 - ETA: 6s - loss: 0.487 - ETA: 6s - loss: 0.487 - ETA: 6s - loss: 0.486 - ETA: 6s - loss: 0.487 - ETA: 5s - loss: 0.487 - ETA: 5s - loss: 0.487 - ETA: 5s - loss: 0.486 - ETA: 5s - loss: 0.487 - ETA: 5s - loss: 0.487 - ETA: 5s - loss: 0.487 - ETA: 5s - loss: 0.487 - ETA: 5s - loss: 0.487 - ETA: 5s - loss: 0.486 - ETA: 5s - loss: 0.487 - ETA: 5s - loss: 0.486 - ETA: 5s - loss: 0.486 - ETA: 5s - loss: 0.486 - ETA: 5s - loss: 0.486 - ETA: 5s - loss: 0.486 - ETA: 4s - loss: 0.486 - ETA: 4s - loss: 0.487 - ETA: 4s - loss: 0.486 - ETA: 4s - loss: 0.486 - ETA: 4s - loss: 0.487 - ETA: 4s - loss: 0.487 - ETA: 4s - loss: 0.487 - ETA: 4s - loss: 0.487 - ETA: 4s - loss: 0.486 - ETA: 4s - loss: 0.486 - ETA: 4s - loss: 0.486 - ETA: 4s - loss: 0.486 - ETA: 4s - loss: 0.486 - ETA: 4s - loss: 0.485 - ETA: 4s - loss: 0.485 - ETA: 3s - loss: 0.485 - ETA: 3s - loss: 0.485 - ETA: 3s - loss: 0.485 - ETA: 3s - loss: 0.485 - ETA: 3s - loss: 0.485 - ETA: 3s - loss: 0.485 - ETA: 3s - loss: 0.485 - ETA: 3s - loss: 0.484 - ETA: 3s - loss: 0.484 - ETA: 3s - loss: 0.484 - ETA: 3s - loss: 0.484 - ETA: 3s - loss: 0.484 - ETA: 3s - loss: 0.484 - ETA: 3s - loss: 0.484 - ETA: 3s - loss: 0.484 - ETA: 2s - loss: 0.483 - ETA: 2s - loss: 0.483 - ETA: 2s - loss: 0.483 - ETA: 2s - loss: 0.483 - ETA: 2s - loss: 0.483 - ETA: 2s - loss: 0.483 - ETA: 2s - loss: 0.482 - ETA: 2s - loss: 0.482 - ETA: 2s - loss: 0.482 - ETA: 2s - loss: 0.482 - ETA: 2s - loss: 0.482 - ETA: 2s - loss: 0.482 - ETA: 2s - loss: 0.482 - ETA: 2s - loss: 0.482 - ETA: 2s - loss: 0.482 - ETA: 1s - loss: 0.482 - ETA: 1s - loss: 0.482 - ETA: 1s - loss: 0.482 - ETA: 1s - loss: 0.482 - ETA: 1s - loss: 0.482 - ETA: 1s - loss: 0.482 - ETA: 1s - loss: 0.482 - ETA: 1s - loss: 0.482 - ETA: 1s - loss: 0.482 - ETA: 1s - loss: 0.482 - ETA: 1s - loss: 0.482 - ETA: 1s - loss: 0.482 - ETA: 1s - loss: 0.482 - ETA: 1s - loss: 0.483 - ETA: 1s - loss: 0.483 - ETA: 1s - loss: 0.483 - ETA: 1s - loss: 0.482 - ETA: 0s - loss: 0.482 - ETA: 0s - loss: 0.482 - ETA: 0s - loss: 0.482 - ETA: 0s - loss: 0.483 - ETA: 0s - loss: 0.483 - ETA: 0s - loss: 0.483 - ETA: 0s - loss: 0.483 - ETA: 0s - loss: 0.482 - ETA: 0s - loss: 0.482 - ETA: 0s - loss: 0.482 - ETA: 0s - loss: 0.483 - ETA: 0s - loss: 0.483 - ETA: 0s - loss: 0.483 - ETA: 0s - loss: 0.483 - ETA: 0s - loss: 0.482 - ETA: 0s - loss: 0.482 - ETA: 0s - loss: 0.482 - 19s 350us/step - loss: 0.4828 - val_loss: 0.4477\n",
      "Epoch 4/50\n",
      "55381/55381 [==============================] - ETA: 13s - loss: 0.44 - ETA: 16s - loss: 0.45 - ETA: 16s - loss: 0.47 - ETA: 16s - loss: 0.47 - ETA: 18s - loss: 0.47 - ETA: 17s - loss: 0.47 - ETA: 18s - loss: 0.47 - ETA: 17s - loss: 0.46 - ETA: 17s - loss: 0.46 - ETA: 17s - loss: 0.47 - ETA: 17s - loss: 0.46 - ETA: 17s - loss: 0.46 - ETA: 17s - loss: 0.46 - ETA: 16s - loss: 0.46 - ETA: 17s - loss: 0.46 - ETA: 16s - loss: 0.46 - ETA: 16s - loss: 0.46 - ETA: 16s - loss: 0.46 - ETA: 17s - loss: 0.46 - ETA: 16s - loss: 0.46 - ETA: 17s - loss: 0.46 - ETA: 16s - loss: 0.45 - ETA: 16s - loss: 0.45 - ETA: 16s - loss: 0.46 - ETA: 16s - loss: 0.46 - ETA: 16s - loss: 0.46 - ETA: 16s - loss: 0.46 - ETA: 15s - loss: 0.46 - ETA: 15s - loss: 0.46 - ETA: 15s - loss: 0.46 - ETA: 16s - loss: 0.46 - ETA: 16s - loss: 0.46 - ETA: 16s - loss: 0.46 - ETA: 15s - loss: 0.46 - ETA: 16s - loss: 0.46 - ETA: 15s - loss: 0.46 - ETA: 16s - loss: 0.46 - ETA: 15s - loss: 0.46 - ETA: 15s - loss: 0.47 - ETA: 15s - loss: 0.46 - ETA: 15s - loss: 0.46 - ETA: 15s - loss: 0.46 - ETA: 15s - loss: 0.46 - ETA: 15s - loss: 0.46 - ETA: 15s - loss: 0.46 - ETA: 15s - loss: 0.46 - ETA: 15s - loss: 0.46 - ETA: 15s - loss: 0.46 - ETA: 15s - loss: 0.46 - ETA: 15s - loss: 0.46 - ETA: 15s - loss: 0.46 - ETA: 15s - loss: 0.46 - ETA: 15s - loss: 0.47 - ETA: 15s - loss: 0.47 - ETA: 15s - loss: 0.47 - ETA: 15s - loss: 0.47 - ETA: 15s - loss: 0.47 - ETA: 15s - loss: 0.47 - ETA: 15s - loss: 0.47 - ETA: 15s - loss: 0.47 - ETA: 15s - loss: 0.47 - ETA: 15s - loss: 0.47 - ETA: 15s - loss: 0.47 - ETA: 15s - loss: 0.47 - ETA: 15s - loss: 0.47 - ETA: 15s - loss: 0.46 - ETA: 15s - loss: 0.46 - ETA: 15s - loss: 0.46 - ETA: 15s - loss: 0.46 - ETA: 15s - loss: 0.46 - ETA: 15s - loss: 0.46 - ETA: 15s - loss: 0.46 - ETA: 15s - loss: 0.46 - ETA: 15s - loss: 0.46 - ETA: 14s - loss: 0.46 - ETA: 15s - loss: 0.47 - ETA: 14s - loss: 0.46 - ETA: 14s - loss: 0.46 - ETA: 14s - loss: 0.46 - ETA: 14s - loss: 0.46 - ETA: 14s - loss: 0.46 - ETA: 14s - loss: 0.46 - ETA: 14s - loss: 0.46 - ETA: 14s - loss: 0.46 - ETA: 14s - loss: 0.46 - ETA: 14s - loss: 0.46 - ETA: 14s - loss: 0.46 - ETA: 14s - loss: 0.46 - ETA: 14s - loss: 0.47 - ETA: 14s - loss: 0.47 - ETA: 14s - loss: 0.47 - ETA: 13s - loss: 0.46 - ETA: 13s - loss: 0.46 - ETA: 13s - loss: 0.46 - ETA: 13s - loss: 0.46 - ETA: 13s - loss: 0.47 - ETA: 13s - loss: 0.47 - ETA: 13s - loss: 0.47 - ETA: 13s - loss: 0.47 - ETA: 13s - loss: 0.47 - ETA: 13s - loss: 0.47 - ETA: 13s - loss: 0.47 - ETA: 13s - loss: 0.47 - ETA: 13s - loss: 0.47 - ETA: 13s - loss: 0.47 - ETA: 13s - loss: 0.47 - ETA: 13s - loss: 0.47 - ETA: 13s - loss: 0.47 - ETA: 13s - loss: 0.47 - ETA: 13s - loss: 0.47 - ETA: 12s - loss: 0.47 - ETA: 12s - loss: 0.47 - ETA: 12s - loss: 0.47 - ETA: 12s - loss: 0.47 - ETA: 12s - loss: 0.46 - ETA: 12s - loss: 0.46 - ETA: 12s - loss: 0.46 - ETA: 12s - loss: 0.46 - ETA: 12s - loss: 0.46 - ETA: 12s - loss: 0.46 - ETA: 12s - loss: 0.46 - ETA: 12s - loss: 0.46 - ETA: 12s - loss: 0.46 - ETA: 12s - loss: 0.46 - ETA: 12s - loss: 0.46 - ETA: 12s - loss: 0.46 - ETA: 11s - loss: 0.46 - ETA: 11s - loss: 0.46 - ETA: 11s - loss: 0.46 - ETA: 11s - loss: 0.46 - ETA: 11s - loss: 0.46 - ETA: 11s - loss: 0.46 - ETA: 11s - loss: 0.46 - ETA: 11s - loss: 0.46 - ETA: 11s - loss: 0.46 - ETA: 11s - loss: 0.46 - ETA: 11s - loss: 0.46 - ETA: 11s - loss: 0.46 - ETA: 11s - loss: 0.46 - ETA: 11s - loss: 0.46 - ETA: 11s - loss: 0.47 - ETA: 11s - loss: 0.47 - ETA: 11s - loss: 0.47 - ETA: 11s - loss: 0.47 - ETA: 11s - loss: 0.47 - ETA: 11s - loss: 0.47 - ETA: 10s - loss: 0.47 - ETA: 10s - loss: 0.47 - ETA: 10s - loss: 0.47 - ETA: 10s - loss: 0.47 - ETA: 10s - loss: 0.47 - ETA: 10s - loss: 0.47 - ETA: 10s - loss: 0.47 - ETA: 10s - loss: 0.47 - ETA: 10s - loss: 0.47 - ETA: 10s - loss: 0.47 - ETA: 10s - loss: 0.47 - ETA: 10s - loss: 0.47 - ETA: 10s - loss: 0.47 - ETA: 10s - loss: 0.47 - ETA: 10s - loss: 0.47 - ETA: 10s - loss: 0.47 - ETA: 10s - loss: 0.47 - ETA: 10s - loss: 0.47 - ETA: 9s - loss: 0.4712 - ETA: 9s - loss: 0.471 - ETA: 9s - loss: 0.471 - ETA: 9s - loss: 0.471 - ETA: 9s - loss: 0.471 - ETA: 9s - loss: 0.471 - ETA: 9s - loss: 0.471 - ETA: 9s - loss: 0.471 - ETA: 9s - loss: 0.471 - ETA: 9s - loss: 0.471 - ETA: 9s - loss: 0.471 - ETA: 9s - loss: 0.471 - ETA: 9s - loss: 0.472 - ETA: 9s - loss: 0.472 - ETA: 9s - loss: 0.472 - ETA: 9s - loss: 0.471 - ETA: 9s - loss: 0.471 - ETA: 9s - loss: 0.471 - ETA: 9s - loss: 0.471 - ETA: 9s - loss: 0.471 - ETA: 9s - loss: 0.471 - ETA: 9s - loss: 0.471 - ETA: 9s - loss: 0.471 - ETA: 8s - loss: 0.471 - ETA: 8s - loss: 0.471 - ETA: 8s - loss: 0.471 - ETA: 8s - loss: 0.471 - ETA: 8s - loss: 0.471 - ETA: 8s - loss: 0.471 - ETA: 8s - loss: 0.471 - ETA: 8s - loss: 0.471 - ETA: 8s - loss: 0.471 - ETA: 8s - loss: 0.470 - ETA: 8s - loss: 0.470 - ETA: 8s - loss: 0.471 - ETA: 8s - loss: 0.471 - ETA: 8s - loss: 0.470 - ETA: 8s - loss: 0.470 - ETA: 7s - loss: 0.470 - ETA: 7s - loss: 0.471 - ETA: 7s - loss: 0.471 - ETA: 7s - loss: 0.471 - ETA: 7s - loss: 0.471 - ETA: 7s - loss: 0.471 - ETA: 7s - loss: 0.471 - ETA: 7s - loss: 0.471 - ETA: 7s - loss: 0.471 - ETA: 7s - loss: 0.470 - ETA: 7s - loss: 0.471 - ETA: 7s - loss: 0.471 - ETA: 7s - loss: 0.471 - ETA: 6s - loss: 0.471 - ETA: 6s - loss: 0.471 - ETA: 6s - loss: 0.471 - ETA: 6s - loss: 0.471 - ETA: 6s - loss: 0.471 - ETA: 6s - loss: 0.471 - ETA: 6s - loss: 0.471 - ETA: 6s - loss: 0.471 - ETA: 6s - loss: 0.471 - ETA: 6s - loss: 0.471 - ETA: 6s - loss: 0.471 - ETA: 6s - loss: 0.470 - ETA: 6s - loss: 0.470 - ETA: 5s - loss: 0.471 - ETA: 5s - loss: 0.471 - ETA: 5s - loss: 0.471 - ETA: 5s - loss: 0.471 - ETA: 5s - loss: 0.471 - ETA: 5s - loss: 0.470 - ETA: 5s - loss: 0.471 - ETA: 5s - loss: 0.471 - ETA: 5s - loss: 0.471 - ETA: 5s - loss: 0.471 - ETA: 5s - loss: 0.471 - ETA: 5s - loss: 0.471 - ETA: 5s - loss: 0.471 - ETA: 5s - loss: 0.471 - ETA: 5s - loss: 0.471 - ETA: 4s - loss: 0.471 - ETA: 4s - loss: 0.471 - ETA: 4s - loss: 0.471 - ETA: 4s - loss: 0.471 - ETA: 4s - loss: 0.471 - ETA: 4s - loss: 0.472 - ETA: 4s - loss: 0.472 - ETA: 4s - loss: 0.472 - ETA: 4s - loss: 0.472 - ETA: 4s - loss: 0.471 - ETA: 4s - loss: 0.471 - ETA: 4s - loss: 0.471 - ETA: 4s - loss: 0.471 - ETA: 4s - loss: 0.472 - ETA: 4s - loss: 0.471 - ETA: 4s - loss: 0.472 - ETA: 3s - loss: 0.472 - ETA: 3s - loss: 0.472 - ETA: 3s - loss: 0.472 - ETA: 3s - loss: 0.472 - ETA: 3s - loss: 0.472 - ETA: 3s - loss: 0.471 - ETA: 3s - loss: 0.471 - ETA: 3s - loss: 0.471 - ETA: 3s - loss: 0.471 - ETA: 3s - loss: 0.471 - ETA: 3s - loss: 0.471 - ETA: 3s - loss: 0.471 - ETA: 3s - loss: 0.471 - ETA: 3s - loss: 0.471 - ETA: 3s - loss: 0.470 - ETA: 3s - loss: 0.470 - ETA: 3s - loss: 0.471 - ETA: 3s - loss: 0.471 - ETA: 2s - loss: 0.471 - ETA: 2s - loss: 0.471 - ETA: 2s - loss: 0.471 - ETA: 2s - loss: 0.471 - ETA: 2s - loss: 0.471 - ETA: 2s - loss: 0.471 - ETA: 2s - loss: 0.471 - ETA: 2s - loss: 0.471 - ETA: 2s - loss: 0.471 - ETA: 2s - loss: 0.471 - ETA: 2s - loss: 0.471 - ETA: 2s - loss: 0.471 - ETA: 2s - loss: 0.471 - ETA: 2s - loss: 0.471 - ETA: 2s - loss: 0.471 - ETA: 2s - loss: 0.471 - ETA: 1s - loss: 0.471 - ETA: 1s - loss: 0.471 - ETA: 1s - loss: 0.471 - ETA: 1s - loss: 0.471 - ETA: 1s - loss: 0.471 - ETA: 1s - loss: 0.471 - ETA: 1s - loss: 0.471 - ETA: 1s - loss: 0.471 - ETA: 1s - loss: 0.471 - ETA: 1s - loss: 0.471 - ETA: 1s - loss: 0.471 - ETA: 1s - loss: 0.471 - ETA: 1s - loss: 0.471 - ETA: 1s - loss: 0.471 - ETA: 1s - loss: 0.471 - ETA: 0s - loss: 0.471 - ETA: 0s - loss: 0.471 - ETA: 0s - loss: 0.470 - ETA: 0s - loss: 0.471 - ETA: 0s - loss: 0.470 - ETA: 0s - loss: 0.470 - ETA: 0s - loss: 0.470 - ETA: 0s - loss: 0.470 - ETA: 0s - loss: 0.470 - ETA: 0s - loss: 0.470 - ETA: 0s - loss: 0.469 - ETA: 0s - loss: 0.469 - ETA: 0s - loss: 0.469 - ETA: 0s - loss: 0.469 - ETA: 0s - loss: 0.469 - 20s 357us/step - loss: 0.4698 - val_loss: 0.4415\n",
      "Epoch 5/50\n"
     ]
    },
    {
     "name": "stdout",
     "output_type": "stream",
     "text": [
      "55381/55381 [==============================] - ETA: 13s - loss: 0.48 - ETA: 23s - loss: 0.47 - ETA: 22s - loss: 0.46 - ETA: 22s - loss: 0.48 - ETA: 22s - loss: 0.49 - ETA: 20s - loss: 0.49 - ETA: 19s - loss: 0.49 - ETA: 18s - loss: 0.48 - ETA: 19s - loss: 0.48 - ETA: 19s - loss: 0.48 - ETA: 19s - loss: 0.48 - ETA: 18s - loss: 0.47 - ETA: 19s - loss: 0.46 - ETA: 18s - loss: 0.46 - ETA: 18s - loss: 0.46 - ETA: 18s - loss: 0.46 - ETA: 18s - loss: 0.46 - ETA: 18s - loss: 0.46 - ETA: 18s - loss: 0.46 - ETA: 19s - loss: 0.46 - ETA: 19s - loss: 0.46 - ETA: 19s - loss: 0.46 - ETA: 19s - loss: 0.46 - ETA: 19s - loss: 0.46 - ETA: 19s - loss: 0.46 - ETA: 19s - loss: 0.46 - ETA: 18s - loss: 0.46 - ETA: 18s - loss: 0.46 - ETA: 18s - loss: 0.46 - ETA: 18s - loss: 0.46 - ETA: 17s - loss: 0.46 - ETA: 17s - loss: 0.46 - ETA: 17s - loss: 0.46 - ETA: 17s - loss: 0.46 - ETA: 17s - loss: 0.46 - ETA: 17s - loss: 0.46 - ETA: 17s - loss: 0.46 - ETA: 17s - loss: 0.46 - ETA: 17s - loss: 0.46 - ETA: 17s - loss: 0.46 - ETA: 17s - loss: 0.46 - ETA: 17s - loss: 0.46 - ETA: 17s - loss: 0.46 - ETA: 17s - loss: 0.46 - ETA: 18s - loss: 0.46 - ETA: 18s - loss: 0.46 - ETA: 18s - loss: 0.46 - ETA: 18s - loss: 0.46 - ETA: 18s - loss: 0.46 - ETA: 19s - loss: 0.46 - ETA: 19s - loss: 0.46 - ETA: 19s - loss: 0.46 - ETA: 19s - loss: 0.46 - ETA: 19s - loss: 0.46 - ETA: 19s - loss: 0.46 - ETA: 18s - loss: 0.46 - ETA: 19s - loss: 0.46 - ETA: 19s - loss: 0.46 - ETA: 19s - loss: 0.46 - ETA: 19s - loss: 0.46 - ETA: 19s - loss: 0.46 - ETA: 19s - loss: 0.46 - ETA: 19s - loss: 0.46 - ETA: 18s - loss: 0.46 - ETA: 18s - loss: 0.46 - ETA: 18s - loss: 0.46 - ETA: 18s - loss: 0.46 - ETA: 18s - loss: 0.46 - ETA: 18s - loss: 0.46 - ETA: 18s - loss: 0.46 - ETA: 18s - loss: 0.46 - ETA: 18s - loss: 0.46 - ETA: 18s - loss: 0.46 - ETA: 18s - loss: 0.46 - ETA: 18s - loss: 0.46 - ETA: 17s - loss: 0.46 - ETA: 17s - loss: 0.46 - ETA: 17s - loss: 0.46 - ETA: 17s - loss: 0.46 - ETA: 17s - loss: 0.46 - ETA: 17s - loss: 0.46 - ETA: 17s - loss: 0.46 - ETA: 17s - loss: 0.46 - ETA: 17s - loss: 0.46 - ETA: 17s - loss: 0.46 - ETA: 17s - loss: 0.46 - ETA: 16s - loss: 0.46 - ETA: 16s - loss: 0.46 - ETA: 16s - loss: 0.46 - ETA: 16s - loss: 0.46 - ETA: 16s - loss: 0.46 - ETA: 16s - loss: 0.46 - ETA: 16s - loss: 0.46 - ETA: 16s - loss: 0.46 - ETA: 16s - loss: 0.46 - ETA: 16s - loss: 0.46 - ETA: 16s - loss: 0.46 - ETA: 16s - loss: 0.46 - ETA: 16s - loss: 0.46 - ETA: 16s - loss: 0.46 - ETA: 15s - loss: 0.46 - ETA: 15s - loss: 0.46 - ETA: 15s - loss: 0.46 - ETA: 15s - loss: 0.46 - ETA: 15s - loss: 0.46 - ETA: 15s - loss: 0.46 - ETA: 15s - loss: 0.46 - ETA: 15s - loss: 0.46 - ETA: 15s - loss: 0.46 - ETA: 15s - loss: 0.46 - ETA: 15s - loss: 0.46 - ETA: 15s - loss: 0.46 - ETA: 14s - loss: 0.46 - ETA: 14s - loss: 0.46 - ETA: 14s - loss: 0.46 - ETA: 14s - loss: 0.46 - ETA: 14s - loss: 0.46 - ETA: 14s - loss: 0.46 - ETA: 14s - loss: 0.46 - ETA: 14s - loss: 0.46 - ETA: 14s - loss: 0.46 - ETA: 14s - loss: 0.46 - ETA: 14s - loss: 0.46 - ETA: 14s - loss: 0.46 - ETA: 14s - loss: 0.46 - ETA: 14s - loss: 0.46 - ETA: 14s - loss: 0.46 - ETA: 13s - loss: 0.46 - ETA: 13s - loss: 0.46 - ETA: 13s - loss: 0.46 - ETA: 13s - loss: 0.46 - ETA: 13s - loss: 0.46 - ETA: 13s - loss: 0.46 - ETA: 13s - loss: 0.46 - ETA: 13s - loss: 0.46 - ETA: 13s - loss: 0.46 - ETA: 13s - loss: 0.46 - ETA: 13s - loss: 0.46 - ETA: 12s - loss: 0.46 - ETA: 12s - loss: 0.46 - ETA: 12s - loss: 0.46 - ETA: 13s - loss: 0.46 - ETA: 12s - loss: 0.46 - ETA: 12s - loss: 0.46 - ETA: 12s - loss: 0.46 - ETA: 12s - loss: 0.46 - ETA: 12s - loss: 0.46 - ETA: 12s - loss: 0.46 - ETA: 12s - loss: 0.46 - ETA: 12s - loss: 0.46 - ETA: 12s - loss: 0.46 - ETA: 12s - loss: 0.46 - ETA: 12s - loss: 0.46 - ETA: 12s - loss: 0.46 - ETA: 12s - loss: 0.46 - ETA: 12s - loss: 0.46 - ETA: 12s - loss: 0.46 - ETA: 12s - loss: 0.46 - ETA: 11s - loss: 0.46 - ETA: 11s - loss: 0.46 - ETA: 11s - loss: 0.46 - ETA: 11s - loss: 0.46 - ETA: 11s - loss: 0.46 - ETA: 11s - loss: 0.46 - ETA: 11s - loss: 0.46 - ETA: 11s - loss: 0.46 - ETA: 11s - loss: 0.46 - ETA: 11s - loss: 0.46 - ETA: 11s - loss: 0.46 - ETA: 11s - loss: 0.46 - ETA: 11s - loss: 0.46 - ETA: 10s - loss: 0.46 - ETA: 10s - loss: 0.46 - ETA: 10s - loss: 0.46 - ETA: 10s - loss: 0.46 - ETA: 10s - loss: 0.46 - ETA: 10s - loss: 0.46 - ETA: 10s - loss: 0.46 - ETA: 10s - loss: 0.46 - ETA: 10s - loss: 0.46 - ETA: 10s - loss: 0.46 - ETA: 10s - loss: 0.46 - ETA: 10s - loss: 0.46 - ETA: 9s - loss: 0.4653 - ETA: 9s - loss: 0.465 - ETA: 9s - loss: 0.464 - ETA: 9s - loss: 0.464 - ETA: 9s - loss: 0.464 - ETA: 9s - loss: 0.464 - ETA: 9s - loss: 0.464 - ETA: 9s - loss: 0.464 - ETA: 9s - loss: 0.464 - ETA: 9s - loss: 0.464 - ETA: 9s - loss: 0.464 - ETA: 9s - loss: 0.464 - ETA: 9s - loss: 0.464 - ETA: 9s - loss: 0.464 - ETA: 8s - loss: 0.464 - ETA: 8s - loss: 0.464 - ETA: 8s - loss: 0.464 - ETA: 8s - loss: 0.464 - ETA: 8s - loss: 0.464 - ETA: 8s - loss: 0.464 - ETA: 8s - loss: 0.464 - ETA: 8s - loss: 0.464 - ETA: 8s - loss: 0.464 - ETA: 8s - loss: 0.464 - ETA: 8s - loss: 0.464 - ETA: 8s - loss: 0.464 - ETA: 8s - loss: 0.464 - ETA: 8s - loss: 0.464 - ETA: 7s - loss: 0.464 - ETA: 7s - loss: 0.464 - ETA: 7s - loss: 0.464 - ETA: 7s - loss: 0.464 - ETA: 7s - loss: 0.464 - ETA: 7s - loss: 0.464 - ETA: 7s - loss: 0.464 - ETA: 7s - loss: 0.463 - ETA: 7s - loss: 0.464 - ETA: 7s - loss: 0.464 - ETA: 7s - loss: 0.464 - ETA: 7s - loss: 0.464 - ETA: 7s - loss: 0.464 - ETA: 6s - loss: 0.464 - ETA: 6s - loss: 0.464 - ETA: 6s - loss: 0.464 - ETA: 6s - loss: 0.464 - ETA: 6s - loss: 0.464 - ETA: 6s - loss: 0.464 - ETA: 6s - loss: 0.464 - ETA: 6s - loss: 0.464 - ETA: 6s - loss: 0.464 - ETA: 6s - loss: 0.464 - ETA: 6s - loss: 0.464 - ETA: 6s - loss: 0.463 - ETA: 6s - loss: 0.463 - ETA: 6s - loss: 0.463 - ETA: 6s - loss: 0.463 - ETA: 6s - loss: 0.462 - ETA: 5s - loss: 0.462 - ETA: 5s - loss: 0.462 - ETA: 5s - loss: 0.462 - ETA: 5s - loss: 0.463 - ETA: 5s - loss: 0.463 - ETA: 5s - loss: 0.463 - ETA: 5s - loss: 0.462 - ETA: 5s - loss: 0.462 - ETA: 5s - loss: 0.462 - ETA: 5s - loss: 0.462 - ETA: 5s - loss: 0.462 - ETA: 5s - loss: 0.462 - ETA: 5s - loss: 0.462 - ETA: 5s - loss: 0.462 - ETA: 5s - loss: 0.462 - ETA: 4s - loss: 0.462 - ETA: 4s - loss: 0.463 - ETA: 4s - loss: 0.463 - ETA: 4s - loss: 0.462 - ETA: 4s - loss: 0.462 - ETA: 4s - loss: 0.462 - ETA: 4s - loss: 0.462 - ETA: 4s - loss: 0.462 - ETA: 4s - loss: 0.462 - ETA: 4s - loss: 0.462 - ETA: 4s - loss: 0.462 - ETA: 4s - loss: 0.462 - ETA: 4s - loss: 0.462 - ETA: 3s - loss: 0.462 - ETA: 3s - loss: 0.462 - ETA: 3s - loss: 0.462 - ETA: 3s - loss: 0.462 - ETA: 3s - loss: 0.462 - ETA: 3s - loss: 0.462 - ETA: 3s - loss: 0.462 - ETA: 3s - loss: 0.461 - ETA: 3s - loss: 0.461 - ETA: 3s - loss: 0.461 - ETA: 3s - loss: 0.462 - ETA: 3s - loss: 0.462 - ETA: 3s - loss: 0.461 - ETA: 3s - loss: 0.461 - ETA: 3s - loss: 0.461 - ETA: 2s - loss: 0.461 - ETA: 2s - loss: 0.461 - ETA: 2s - loss: 0.461 - ETA: 2s - loss: 0.461 - ETA: 2s - loss: 0.461 - ETA: 2s - loss: 0.461 - ETA: 2s - loss: 0.461 - ETA: 2s - loss: 0.461 - ETA: 2s - loss: 0.461 - ETA: 2s - loss: 0.461 - ETA: 2s - loss: 0.461 - ETA: 2s - loss: 0.461 - ETA: 2s - loss: 0.461 - ETA: 2s - loss: 0.461 - ETA: 2s - loss: 0.462 - ETA: 1s - loss: 0.461 - ETA: 1s - loss: 0.461 - ETA: 1s - loss: 0.461 - ETA: 1s - loss: 0.461 - ETA: 1s - loss: 0.461 - ETA: 1s - loss: 0.461 - ETA: 1s - loss: 0.461 - ETA: 1s - loss: 0.461 - ETA: 1s - loss: 0.461 - ETA: 1s - loss: 0.461 - ETA: 1s - loss: 0.461 - ETA: 1s - loss: 0.461 - ETA: 1s - loss: 0.462 - ETA: 1s - loss: 0.461 - ETA: 1s - loss: 0.461 - ETA: 1s - loss: 0.461 - ETA: 0s - loss: 0.461 - ETA: 0s - loss: 0.461 - ETA: 0s - loss: 0.461 - ETA: 0s - loss: 0.461 - ETA: 0s - loss: 0.461 - ETA: 0s - loss: 0.461 - ETA: 0s - loss: 0.462 - ETA: 0s - loss: 0.462 - ETA: 0s - loss: 0.461 - ETA: 0s - loss: 0.461 - ETA: 0s - loss: 0.461 - ETA: 0s - loss: 0.462 - ETA: 0s - loss: 0.462 - ETA: 0s - loss: 0.462 - ETA: 0s - loss: 0.462 - ETA: 0s - loss: 0.462 - 20s 363us/step - loss: 0.4621 - val_loss: 0.4351\n",
      "Epoch 6/50\n",
      "54016/55381 [============================>.] - ETA: 13s - loss: 0.46 - ETA: 16s - loss: 0.48 - ETA: 16s - loss: 0.44 - ETA: 17s - loss: 0.45 - ETA: 17s - loss: 0.46 - ETA: 18s - loss: 0.46 - ETA: 19s - loss: 0.45 - ETA: 20s - loss: 0.45 - ETA: 20s - loss: 0.45 - ETA: 20s - loss: 0.45 - ETA: 20s - loss: 0.44 - ETA: 20s - loss: 0.45 - ETA: 19s - loss: 0.45 - ETA: 19s - loss: 0.45 - ETA: 20s - loss: 0.45 - ETA: 20s - loss: 0.45 - ETA: 20s - loss: 0.45 - ETA: 20s - loss: 0.44 - ETA: 20s - loss: 0.45 - ETA: 19s - loss: 0.44 - ETA: 19s - loss: 0.44 - ETA: 19s - loss: 0.44 - ETA: 19s - loss: 0.44 - ETA: 19s - loss: 0.44 - ETA: 20s - loss: 0.44 - ETA: 19s - loss: 0.44 - ETA: 19s - loss: 0.44 - ETA: 19s - loss: 0.44 - ETA: 18s - loss: 0.44 - ETA: 19s - loss: 0.44 - ETA: 19s - loss: 0.44 - ETA: 19s - loss: 0.44 - ETA: 19s - loss: 0.44 - ETA: 19s - loss: 0.44 - ETA: 18s - loss: 0.45 - ETA: 18s - loss: 0.45 - ETA: 18s - loss: 0.45 - ETA: 18s - loss: 0.44 - ETA: 18s - loss: 0.44 - ETA: 18s - loss: 0.45 - ETA: 18s - loss: 0.45 - ETA: 18s - loss: 0.45 - ETA: 18s - loss: 0.45 - ETA: 17s - loss: 0.45 - ETA: 17s - loss: 0.45 - ETA: 17s - loss: 0.45 - ETA: 17s - loss: 0.45 - ETA: 17s - loss: 0.45 - ETA: 17s - loss: 0.45 - ETA: 16s - loss: 0.45 - ETA: 17s - loss: 0.45 - ETA: 17s - loss: 0.45 - ETA: 17s - loss: 0.45 - ETA: 16s - loss: 0.45 - ETA: 17s - loss: 0.45 - ETA: 16s - loss: 0.45 - ETA: 16s - loss: 0.45 - ETA: 17s - loss: 0.45 - ETA: 17s - loss: 0.44 - ETA: 17s - loss: 0.44 - ETA: 17s - loss: 0.44 - ETA: 17s - loss: 0.44 - ETA: 17s - loss: 0.45 - ETA: 16s - loss: 0.45 - ETA: 16s - loss: 0.45 - ETA: 16s - loss: 0.45 - ETA: 16s - loss: 0.45 - ETA: 16s - loss: 0.45 - ETA: 16s - loss: 0.45 - ETA: 16s - loss: 0.45 - ETA: 16s - loss: 0.45 - ETA: 16s - loss: 0.45 - ETA: 16s - loss: 0.45 - ETA: 16s - loss: 0.45 - ETA: 16s - loss: 0.45 - ETA: 16s - loss: 0.45 - ETA: 16s - loss: 0.45 - ETA: 16s - loss: 0.45 - ETA: 16s - loss: 0.45 - ETA: 16s - loss: 0.45 - ETA: 16s - loss: 0.45 - ETA: 16s - loss: 0.45 - ETA: 16s - loss: 0.45 - ETA: 15s - loss: 0.45 - ETA: 15s - loss: 0.45 - ETA: 15s - loss: 0.45 - ETA: 15s - loss: 0.45 - ETA: 15s - loss: 0.45 - ETA: 15s - loss: 0.45 - ETA: 15s - loss: 0.45 - ETA: 15s - loss: 0.45 - ETA: 15s - loss: 0.45 - ETA: 15s - loss: 0.45 - ETA: 15s - loss: 0.45 - ETA: 15s - loss: 0.45 - ETA: 15s - loss: 0.45 - ETA: 15s - loss: 0.45 - ETA: 15s - loss: 0.45 - ETA: 15s - loss: 0.45 - ETA: 15s - loss: 0.45 - ETA: 15s - loss: 0.45 - ETA: 15s - loss: 0.45 - ETA: 15s - loss: 0.45 - ETA: 15s - loss: 0.45 - ETA: 15s - loss: 0.45 - ETA: 14s - loss: 0.45 - ETA: 14s - loss: 0.45 - ETA: 14s - loss: 0.45 - ETA: 14s - loss: 0.45 - ETA: 14s - loss: 0.45 - ETA: 14s - loss: 0.45 - ETA: 14s - loss: 0.45 - ETA: 14s - loss: 0.45 - ETA: 14s - loss: 0.45 - ETA: 14s - loss: 0.45 - ETA: 14s - loss: 0.45 - ETA: 14s - loss: 0.45 - ETA: 14s - loss: 0.45 - ETA: 14s - loss: 0.45 - ETA: 14s - loss: 0.45 - ETA: 14s - loss: 0.45 - ETA: 14s - loss: 0.45 - ETA: 14s - loss: 0.45 - ETA: 14s - loss: 0.45 - ETA: 13s - loss: 0.45 - ETA: 13s - loss: 0.45 - ETA: 13s - loss: 0.45 - ETA: 13s - loss: 0.45 - ETA: 13s - loss: 0.45 - ETA: 13s - loss: 0.45 - ETA: 13s - loss: 0.45 - ETA: 13s - loss: 0.45 - ETA: 13s - loss: 0.45 - ETA: 13s - loss: 0.45 - ETA: 13s - loss: 0.45 - ETA: 13s - loss: 0.45 - ETA: 13s - loss: 0.45 - ETA: 13s - loss: 0.45 - ETA: 13s - loss: 0.45 - ETA: 13s - loss: 0.45 - ETA: 12s - loss: 0.45 - ETA: 12s - loss: 0.45 - ETA: 12s - loss: 0.45 - ETA: 12s - loss: 0.45 - ETA: 12s - loss: 0.45 - ETA: 12s - loss: 0.45 - ETA: 12s - loss: 0.45 - ETA: 12s - loss: 0.45 - ETA: 12s - loss: 0.45 - ETA: 12s - loss: 0.45 - ETA: 12s - loss: 0.45 - ETA: 12s - loss: 0.45 - ETA: 12s - loss: 0.45 - ETA: 12s - loss: 0.45 - ETA: 12s - loss: 0.45 - ETA: 12s - loss: 0.45 - ETA: 12s - loss: 0.45 - ETA: 11s - loss: 0.45 - ETA: 11s - loss: 0.45 - ETA: 11s - loss: 0.45 - ETA: 11s - loss: 0.45 - ETA: 11s - loss: 0.45 - ETA: 11s - loss: 0.45 - ETA: 11s - loss: 0.45 - ETA: 11s - loss: 0.45 - ETA: 11s - loss: 0.45 - ETA: 11s - loss: 0.45 - ETA: 11s - loss: 0.45 - ETA: 11s - loss: 0.45 - ETA: 11s - loss: 0.45 - ETA: 11s - loss: 0.45 - ETA: 11s - loss: 0.45 - ETA: 11s - loss: 0.45 - ETA: 11s - loss: 0.45 - ETA: 11s - loss: 0.45 - ETA: 11s - loss: 0.45 - ETA: 11s - loss: 0.45 - ETA: 11s - loss: 0.45 - ETA: 10s - loss: 0.45 - ETA: 10s - loss: 0.45 - ETA: 10s - loss: 0.45 - ETA: 10s - loss: 0.45 - ETA: 10s - loss: 0.45 - ETA: 10s - loss: 0.45 - ETA: 10s - loss: 0.45 - ETA: 10s - loss: 0.45 - ETA: 10s - loss: 0.45 - ETA: 10s - loss: 0.45 - ETA: 10s - loss: 0.45 - ETA: 10s - loss: 0.45 - ETA: 10s - loss: 0.45 - ETA: 10s - loss: 0.45 - ETA: 9s - loss: 0.4536 - ETA: 9s - loss: 0.453 - ETA: 9s - loss: 0.454 - ETA: 9s - loss: 0.454 - ETA: 9s - loss: 0.454 - ETA: 9s - loss: 0.453 - ETA: 9s - loss: 0.453 - ETA: 9s - loss: 0.454 - ETA: 9s - loss: 0.454 - ETA: 9s - loss: 0.454 - ETA: 9s - loss: 0.454 - ETA: 9s - loss: 0.454 - ETA: 9s - loss: 0.454 - ETA: 9s - loss: 0.455 - ETA: 9s - loss: 0.455 - ETA: 9s - loss: 0.455 - ETA: 9s - loss: 0.455 - ETA: 9s - loss: 0.455 - ETA: 8s - loss: 0.455 - ETA: 8s - loss: 0.455 - ETA: 8s - loss: 0.455 - ETA: 8s - loss: 0.455 - ETA: 8s - loss: 0.455 - ETA: 8s - loss: 0.455 - ETA: 8s - loss: 0.455 - ETA: 8s - loss: 0.456 - ETA: 8s - loss: 0.456 - ETA: 8s - loss: 0.456 - ETA: 8s - loss: 0.456 - ETA: 8s - loss: 0.456 - ETA: 8s - loss: 0.456 - ETA: 8s - loss: 0.456 - ETA: 8s - loss: 0.456 - ETA: 7s - loss: 0.456 - ETA: 7s - loss: 0.456 - ETA: 7s - loss: 0.456 - ETA: 7s - loss: 0.456 - ETA: 7s - loss: 0.456 - ETA: 7s - loss: 0.456 - ETA: 7s - loss: 0.457 - ETA: 7s - loss: 0.457 - ETA: 7s - loss: 0.457 - ETA: 7s - loss: 0.456 - ETA: 7s - loss: 0.456 - ETA: 7s - loss: 0.456 - ETA: 7s - loss: 0.456 - ETA: 7s - loss: 0.456 - ETA: 7s - loss: 0.456 - ETA: 7s - loss: 0.456 - ETA: 7s - loss: 0.456 - ETA: 6s - loss: 0.455 - ETA: 6s - loss: 0.456 - ETA: 6s - loss: 0.455 - ETA: 6s - loss: 0.455 - ETA: 6s - loss: 0.455 - ETA: 6s - loss: 0.455 - ETA: 6s - loss: 0.455 - ETA: 6s - loss: 0.455 - ETA: 6s - loss: 0.455 - ETA: 6s - loss: 0.455 - ETA: 6s - loss: 0.454 - ETA: 6s - loss: 0.454 - ETA: 6s - loss: 0.454 - ETA: 5s - loss: 0.454 - ETA: 5s - loss: 0.454 - ETA: 5s - loss: 0.454 - ETA: 5s - loss: 0.455 - ETA: 5s - loss: 0.454 - ETA: 5s - loss: 0.455 - ETA: 5s - loss: 0.455 - ETA: 5s - loss: 0.455 - ETA: 5s - loss: 0.455 - ETA: 5s - loss: 0.454 - ETA: 5s - loss: 0.454 - ETA: 5s - loss: 0.454 - ETA: 5s - loss: 0.455 - ETA: 5s - loss: 0.455 - ETA: 4s - loss: 0.454 - ETA: 4s - loss: 0.454 - ETA: 4s - loss: 0.454 - ETA: 4s - loss: 0.454 - ETA: 4s - loss: 0.454 - ETA: 4s - loss: 0.454 - ETA: 4s - loss: 0.454 - ETA: 4s - loss: 0.454 - ETA: 4s - loss: 0.454 - ETA: 4s - loss: 0.454 - ETA: 4s - loss: 0.454 - ETA: 4s - loss: 0.454 - ETA: 4s - loss: 0.454 - ETA: 4s - loss: 0.454 - ETA: 4s - loss: 0.454 - ETA: 4s - loss: 0.454 - ETA: 3s - loss: 0.453 - ETA: 3s - loss: 0.453 - ETA: 3s - loss: 0.454 - ETA: 3s - loss: 0.453 - ETA: 3s - loss: 0.454 - ETA: 3s - loss: 0.454 - ETA: 3s - loss: 0.454 - ETA: 3s - loss: 0.454 - ETA: 3s - loss: 0.454 - ETA: 3s - loss: 0.454 - ETA: 3s - loss: 0.454 - ETA: 3s - loss: 0.454 - ETA: 3s - loss: 0.454 - ETA: 3s - loss: 0.454 - ETA: 3s - loss: 0.453 - ETA: 2s - loss: 0.454 - ETA: 2s - loss: 0.453 - ETA: 2s - loss: 0.454 - ETA: 2s - loss: 0.454 - ETA: 2s - loss: 0.454 - ETA: 2s - loss: 0.454 - ETA: 2s - loss: 0.454 - ETA: 2s - loss: 0.454 - ETA: 2s - loss: 0.454 - ETA: 2s - loss: 0.454 - ETA: 2s - loss: 0.454 - ETA: 2s - loss: 0.454 - ETA: 2s - loss: 0.454 - ETA: 2s - loss: 0.453 - ETA: 2s - loss: 0.453 - ETA: 2s - loss: 0.453 - ETA: 2s - loss: 0.453 - ETA: 2s - loss: 0.453 - ETA: 1s - loss: 0.453 - ETA: 1s - loss: 0.453 - ETA: 1s - loss: 0.453 - ETA: 1s - loss: 0.453 - ETA: 1s - loss: 0.453 - ETA: 1s - loss: 0.453 - ETA: 1s - loss: 0.453 - ETA: 1s - loss: 0.453 - ETA: 1s - loss: 0.453 - ETA: 1s - loss: 0.453 - ETA: 1s - loss: 0.453 - ETA: 1s - loss: 0.453 - ETA: 1s - loss: 0.453 - ETA: 1s - loss: 0.453 - ETA: 1s - loss: 0.453 - ETA: 0s - loss: 0.453 - ETA: 0s - loss: 0.453 - ETA: 0s - loss: 0.453 - ETA: 0s - loss: 0.453 - ETA: 0s - loss: 0.453 - ETA: 0s - loss: 0.454 - ETA: 0s - loss: 0.454155381/55381 [==============================] - ETA: 0s - loss: 0.454 - ETA: 0s - loss: 0.454 - ETA: 0s - loss: 0.454 - ETA: 0s - loss: 0.454 - ETA: 0s - loss: 0.454 - ETA: 0s - loss: 0.454 - ETA: 0s - loss: 0.454 - ETA: 0s - loss: 0.454 - ETA: 0s - loss: 0.454 - ETA: 0s - loss: 0.454 - 21s 379us/step - loss: 0.4544 - val_loss: 0.4275\n",
      "Epoch 7/50\n"
     ]
    },
    {
     "name": "stdout",
     "output_type": "stream",
     "text": [
      "54784/55381 [============================>.] - ETA: 13s - loss: 0.45 - ETA: 20s - loss: 0.49 - ETA: 23s - loss: 0.46 - ETA: 18s - loss: 0.44 - ETA: 19s - loss: 0.45 - ETA: 21s - loss: 0.45 - ETA: 20s - loss: 0.45 - ETA: 20s - loss: 0.46 - ETA: 21s - loss: 0.46 - ETA: 20s - loss: 0.46 - ETA: 21s - loss: 0.45 - ETA: 21s - loss: 0.45 - ETA: 20s - loss: 0.45 - ETA: 19s - loss: 0.45 - ETA: 20s - loss: 0.45 - ETA: 20s - loss: 0.45 - ETA: 20s - loss: 0.45 - ETA: 20s - loss: 0.44 - ETA: 20s - loss: 0.44 - ETA: 20s - loss: 0.44 - ETA: 20s - loss: 0.44 - ETA: 19s - loss: 0.44 - ETA: 19s - loss: 0.44 - ETA: 19s - loss: 0.44 - ETA: 19s - loss: 0.44 - ETA: 20s - loss: 0.44 - ETA: 20s - loss: 0.44 - ETA: 20s - loss: 0.44 - ETA: 20s - loss: 0.44 - ETA: 20s - loss: 0.44 - ETA: 20s - loss: 0.44 - ETA: 19s - loss: 0.44 - ETA: 20s - loss: 0.44 - ETA: 20s - loss: 0.44 - ETA: 20s - loss: 0.44 - ETA: 19s - loss: 0.44 - ETA: 20s - loss: 0.44 - ETA: 19s - loss: 0.44 - ETA: 19s - loss: 0.44 - ETA: 19s - loss: 0.44 - ETA: 19s - loss: 0.44 - ETA: 19s - loss: 0.44 - ETA: 20s - loss: 0.44 - ETA: 20s - loss: 0.44 - ETA: 20s - loss: 0.44 - ETA: 19s - loss: 0.44 - ETA: 20s - loss: 0.44 - ETA: 20s - loss: 0.44 - ETA: 20s - loss: 0.44 - ETA: 20s - loss: 0.44 - ETA: 20s - loss: 0.44 - ETA: 20s - loss: 0.44 - ETA: 20s - loss: 0.44 - ETA: 20s - loss: 0.44 - ETA: 20s - loss: 0.44 - ETA: 20s - loss: 0.44 - ETA: 20s - loss: 0.44 - ETA: 20s - loss: 0.44 - ETA: 20s - loss: 0.44 - ETA: 20s - loss: 0.44 - ETA: 20s - loss: 0.44 - ETA: 19s - loss: 0.44 - ETA: 19s - loss: 0.44 - ETA: 19s - loss: 0.44 - ETA: 19s - loss: 0.45 - ETA: 19s - loss: 0.44 - ETA: 19s - loss: 0.44 - ETA: 19s - loss: 0.45 - ETA: 19s - loss: 0.45 - ETA: 19s - loss: 0.45 - ETA: 19s - loss: 0.44 - ETA: 19s - loss: 0.44 - ETA: 19s - loss: 0.45 - ETA: 19s - loss: 0.45 - ETA: 19s - loss: 0.45 - ETA: 18s - loss: 0.45 - ETA: 18s - loss: 0.45 - ETA: 18s - loss: 0.45 - ETA: 18s - loss: 0.45 - ETA: 18s - loss: 0.45 - ETA: 18s - loss: 0.45 - ETA: 18s - loss: 0.45 - ETA: 18s - loss: 0.45 - ETA: 18s - loss: 0.45 - ETA: 18s - loss: 0.45 - ETA: 18s - loss: 0.45 - ETA: 18s - loss: 0.45 - ETA: 18s - loss: 0.45 - ETA: 18s - loss: 0.45 - ETA: 17s - loss: 0.45 - ETA: 17s - loss: 0.45 - ETA: 17s - loss: 0.45 - ETA: 17s - loss: 0.45 - ETA: 17s - loss: 0.45 - ETA: 17s - loss: 0.45 - ETA: 17s - loss: 0.45 - ETA: 17s - loss: 0.44 - ETA: 17s - loss: 0.44 - ETA: 16s - loss: 0.44 - ETA: 16s - loss: 0.44 - ETA: 16s - loss: 0.44 - ETA: 16s - loss: 0.44 - ETA: 16s - loss: 0.44 - ETA: 16s - loss: 0.44 - ETA: 16s - loss: 0.44 - ETA: 16s - loss: 0.44 - ETA: 16s - loss: 0.44 - ETA: 16s - loss: 0.44 - ETA: 16s - loss: 0.44 - ETA: 15s - loss: 0.44 - ETA: 15s - loss: 0.44 - ETA: 15s - loss: 0.44 - ETA: 15s - loss: 0.44 - ETA: 15s - loss: 0.44 - ETA: 15s - loss: 0.44 - ETA: 15s - loss: 0.44 - ETA: 15s - loss: 0.44 - ETA: 15s - loss: 0.44 - ETA: 15s - loss: 0.44 - ETA: 15s - loss: 0.44 - ETA: 15s - loss: 0.44 - ETA: 15s - loss: 0.44 - ETA: 14s - loss: 0.44 - ETA: 14s - loss: 0.44 - ETA: 14s - loss: 0.44 - ETA: 14s - loss: 0.44 - ETA: 14s - loss: 0.44 - ETA: 14s - loss: 0.44 - ETA: 14s - loss: 0.44 - ETA: 14s - loss: 0.44 - ETA: 14s - loss: 0.44 - ETA: 14s - loss: 0.44 - ETA: 14s - loss: 0.44 - ETA: 14s - loss: 0.44 - ETA: 14s - loss: 0.44 - ETA: 14s - loss: 0.44 - ETA: 13s - loss: 0.44 - ETA: 13s - loss: 0.44 - ETA: 13s - loss: 0.44 - ETA: 13s - loss: 0.44 - ETA: 13s - loss: 0.44 - ETA: 13s - loss: 0.44 - ETA: 13s - loss: 0.44 - ETA: 13s - loss: 0.44 - ETA: 13s - loss: 0.44 - ETA: 13s - loss: 0.44 - ETA: 13s - loss: 0.44 - ETA: 13s - loss: 0.44 - ETA: 13s - loss: 0.44 - ETA: 13s - loss: 0.44 - ETA: 12s - loss: 0.44 - ETA: 12s - loss: 0.44 - ETA: 12s - loss: 0.44 - ETA: 12s - loss: 0.44 - ETA: 12s - loss: 0.44 - ETA: 12s - loss: 0.44 - ETA: 12s - loss: 0.44 - ETA: 12s - loss: 0.44 - ETA: 12s - loss: 0.44 - ETA: 12s - loss: 0.44 - ETA: 12s - loss: 0.44 - ETA: 12s - loss: 0.44 - ETA: 12s - loss: 0.44 - ETA: 11s - loss: 0.44 - ETA: 11s - loss: 0.44 - ETA: 11s - loss: 0.44 - ETA: 11s - loss: 0.44 - ETA: 11s - loss: 0.44 - ETA: 11s - loss: 0.44 - ETA: 11s - loss: 0.44 - ETA: 11s - loss: 0.44 - ETA: 11s - loss: 0.44 - ETA: 11s - loss: 0.44 - ETA: 11s - loss: 0.44 - ETA: 11s - loss: 0.45 - ETA: 11s - loss: 0.45 - ETA: 11s - loss: 0.45 - ETA: 11s - loss: 0.45 - ETA: 11s - loss: 0.45 - ETA: 11s - loss: 0.45 - ETA: 11s - loss: 0.44 - ETA: 11s - loss: 0.44 - ETA: 11s - loss: 0.44 - ETA: 11s - loss: 0.44 - ETA: 10s - loss: 0.44 - ETA: 10s - loss: 0.44 - ETA: 10s - loss: 0.44 - ETA: 10s - loss: 0.44 - ETA: 10s - loss: 0.44 - ETA: 10s - loss: 0.44 - ETA: 10s - loss: 0.44 - ETA: 10s - loss: 0.45 - ETA: 10s - loss: 0.44 - ETA: 10s - loss: 0.44 - ETA: 10s - loss: 0.44 - ETA: 10s - loss: 0.44 - ETA: 10s - loss: 0.44 - ETA: 10s - loss: 0.44 - ETA: 10s - loss: 0.44 - ETA: 10s - loss: 0.44 - ETA: 9s - loss: 0.4489 - ETA: 9s - loss: 0.448 - ETA: 9s - loss: 0.449 - ETA: 9s - loss: 0.448 - ETA: 9s - loss: 0.449 - ETA: 9s - loss: 0.448 - ETA: 9s - loss: 0.448 - ETA: 9s - loss: 0.448 - ETA: 9s - loss: 0.448 - ETA: 9s - loss: 0.448 - ETA: 9s - loss: 0.448 - ETA: 9s - loss: 0.448 - ETA: 8s - loss: 0.448 - ETA: 8s - loss: 0.448 - ETA: 8s - loss: 0.448 - ETA: 8s - loss: 0.448 - ETA: 8s - loss: 0.448 - ETA: 8s - loss: 0.448 - ETA: 8s - loss: 0.448 - ETA: 8s - loss: 0.449 - ETA: 8s - loss: 0.448 - ETA: 8s - loss: 0.449 - ETA: 8s - loss: 0.449 - ETA: 8s - loss: 0.449 - ETA: 8s - loss: 0.449 - ETA: 8s - loss: 0.449 - ETA: 7s - loss: 0.448 - ETA: 7s - loss: 0.449 - ETA: 7s - loss: 0.449 - ETA: 7s - loss: 0.449 - ETA: 7s - loss: 0.448 - ETA: 7s - loss: 0.448 - ETA: 7s - loss: 0.448 - ETA: 7s - loss: 0.448 - ETA: 7s - loss: 0.448 - ETA: 7s - loss: 0.448 - ETA: 7s - loss: 0.448 - ETA: 7s - loss: 0.448 - ETA: 6s - loss: 0.448 - ETA: 6s - loss: 0.448 - ETA: 6s - loss: 0.448 - ETA: 6s - loss: 0.448 - ETA: 6s - loss: 0.448 - ETA: 6s - loss: 0.448 - ETA: 6s - loss: 0.447 - ETA: 6s - loss: 0.447 - ETA: 6s - loss: 0.447 - ETA: 6s - loss: 0.447 - ETA: 6s - loss: 0.446 - ETA: 6s - loss: 0.446 - ETA: 6s - loss: 0.446 - ETA: 6s - loss: 0.445 - ETA: 6s - loss: 0.445 - ETA: 5s - loss: 0.445 - ETA: 5s - loss: 0.445 - ETA: 5s - loss: 0.445 - ETA: 5s - loss: 0.446 - ETA: 5s - loss: 0.446 - ETA: 5s - loss: 0.446 - ETA: 5s - loss: 0.446 - ETA: 5s - loss: 0.446 - ETA: 5s - loss: 0.445 - ETA: 5s - loss: 0.445 - ETA: 5s - loss: 0.445 - ETA: 5s - loss: 0.446 - ETA: 5s - loss: 0.445 - ETA: 5s - loss: 0.445 - ETA: 4s - loss: 0.445 - ETA: 4s - loss: 0.445 - ETA: 4s - loss: 0.446 - ETA: 4s - loss: 0.446 - ETA: 4s - loss: 0.446 - ETA: 4s - loss: 0.446 - ETA: 4s - loss: 0.446 - ETA: 4s - loss: 0.446 - ETA: 4s - loss: 0.446 - ETA: 4s - loss: 0.447 - ETA: 4s - loss: 0.447 - ETA: 4s - loss: 0.447 - ETA: 4s - loss: 0.446 - ETA: 4s - loss: 0.446 - ETA: 3s - loss: 0.446 - ETA: 3s - loss: 0.446 - ETA: 3s - loss: 0.446 - ETA: 3s - loss: 0.447 - ETA: 3s - loss: 0.447 - ETA: 3s - loss: 0.447 - ETA: 3s - loss: 0.447 - ETA: 3s - loss: 0.447 - ETA: 3s - loss: 0.447 - ETA: 3s - loss: 0.447 - ETA: 3s - loss: 0.447 - ETA: 3s - loss: 0.447 - ETA: 3s - loss: 0.447 - ETA: 3s - loss: 0.447 - ETA: 3s - loss: 0.447 - ETA: 3s - loss: 0.447 - ETA: 2s - loss: 0.447 - ETA: 2s - loss: 0.447 - ETA: 2s - loss: 0.447 - ETA: 2s - loss: 0.447 - ETA: 2s - loss: 0.447 - ETA: 2s - loss: 0.447 - ETA: 2s - loss: 0.447 - ETA: 2s - loss: 0.446 - ETA: 2s - loss: 0.446 - ETA: 2s - loss: 0.447 - ETA: 2s - loss: 0.446 - ETA: 2s - loss: 0.446 - ETA: 2s - loss: 0.446 - ETA: 2s - loss: 0.446 - ETA: 1s - loss: 0.446 - ETA: 1s - loss: 0.446 - ETA: 1s - loss: 0.447 - ETA: 1s - loss: 0.447 - ETA: 1s - loss: 0.447 - ETA: 1s - loss: 0.447 - ETA: 1s - loss: 0.447 - ETA: 1s - loss: 0.447 - ETA: 1s - loss: 0.446 - ETA: 1s - loss: 0.446 - ETA: 1s - loss: 0.447 - ETA: 1s - loss: 0.447 - ETA: 1s - loss: 0.447 - ETA: 1s - loss: 0.447 - ETA: 1s - loss: 0.447 - ETA: 1s - loss: 0.447 - ETA: 0s - loss: 0.447 - ETA: 0s - loss: 0.447 - ETA: 0s - loss: 0.447 - ETA: 0s - loss: 0.447 - ETA: 0s - loss: 0.447 - ETA: 0s - loss: 0.447 - ETA: 0s - loss: 0.447 - ETA: 0s - loss: 0.447 - ETA: 0s - loss: 0.447 - ETA: 0s - loss: 0.447 - ETA: 0s - loss: 0.447 - ETA: 0s - loss: 0.446 - ETA: 0s - loss: 0.4468"
     ]
    },
    {
     "name": "stdout",
     "output_type": "stream",
     "text": [
      "55381/55381 [==============================] - ETA: 0s - loss: 0.446 - ETA: 0s - loss: 0.447 - ETA: 0s - loss: 0.447 - 21s 382us/step - loss: 0.4470 - val_loss: 0.4209\n",
      "Epoch 8/50\n",
      "55381/55381 [==============================] - ETA: 13s - loss: 0.40 - ETA: 21s - loss: 0.43 - ETA: 30s - loss: 0.43 - ETA: 39s - loss: 0.42 - ETA: 31s - loss: 0.41 - ETA: 30s - loss: 0.41 - ETA: 29s - loss: 0.41 - ETA: 26s - loss: 0.44 - ETA: 26s - loss: 0.43 - ETA: 26s - loss: 0.43 - ETA: 24s - loss: 0.43 - ETA: 25s - loss: 0.43 - ETA: 24s - loss: 0.43 - ETA: 25s - loss: 0.43 - ETA: 23s - loss: 0.44 - ETA: 23s - loss: 0.43 - ETA: 23s - loss: 0.44 - ETA: 23s - loss: 0.43 - ETA: 23s - loss: 0.44 - ETA: 22s - loss: 0.43 - ETA: 21s - loss: 0.43 - ETA: 21s - loss: 0.43 - ETA: 21s - loss: 0.43 - ETA: 21s - loss: 0.43 - ETA: 22s - loss: 0.43 - ETA: 21s - loss: 0.43 - ETA: 21s - loss: 0.44 - ETA: 21s - loss: 0.44 - ETA: 21s - loss: 0.44 - ETA: 21s - loss: 0.44 - ETA: 20s - loss: 0.44 - ETA: 20s - loss: 0.44 - ETA: 20s - loss: 0.44 - ETA: 20s - loss: 0.44 - ETA: 20s - loss: 0.43 - ETA: 21s - loss: 0.43 - ETA: 21s - loss: 0.43 - ETA: 21s - loss: 0.43 - ETA: 20s - loss: 0.43 - ETA: 20s - loss: 0.43 - ETA: 20s - loss: 0.43 - ETA: 20s - loss: 0.43 - ETA: 20s - loss: 0.43 - ETA: 20s - loss: 0.43 - ETA: 20s - loss: 0.43 - ETA: 20s - loss: 0.43 - ETA: 20s - loss: 0.43 - ETA: 20s - loss: 0.43 - ETA: 19s - loss: 0.43 - ETA: 19s - loss: 0.43 - ETA: 19s - loss: 0.43 - ETA: 19s - loss: 0.43 - ETA: 19s - loss: 0.43 - ETA: 19s - loss: 0.43 - ETA: 19s - loss: 0.43 - ETA: 19s - loss: 0.43 - ETA: 19s - loss: 0.43 - ETA: 19s - loss: 0.43 - ETA: 19s - loss: 0.43 - ETA: 18s - loss: 0.43 - ETA: 18s - loss: 0.43 - ETA: 18s - loss: 0.43 - ETA: 18s - loss: 0.43 - ETA: 18s - loss: 0.43 - ETA: 18s - loss: 0.43 - ETA: 17s - loss: 0.43 - ETA: 17s - loss: 0.44 - ETA: 17s - loss: 0.43 - ETA: 17s - loss: 0.43 - ETA: 17s - loss: 0.43 - ETA: 17s - loss: 0.43 - ETA: 17s - loss: 0.44 - ETA: 17s - loss: 0.44 - ETA: 16s - loss: 0.44 - ETA: 16s - loss: 0.44 - ETA: 16s - loss: 0.44 - ETA: 16s - loss: 0.44 - ETA: 17s - loss: 0.44 - ETA: 16s - loss: 0.44 - ETA: 16s - loss: 0.44 - ETA: 16s - loss: 0.44 - ETA: 16s - loss: 0.44 - ETA: 16s - loss: 0.44 - ETA: 16s - loss: 0.43 - ETA: 16s - loss: 0.43 - ETA: 16s - loss: 0.43 - ETA: 16s - loss: 0.43 - ETA: 15s - loss: 0.43 - ETA: 15s - loss: 0.43 - ETA: 15s - loss: 0.43 - ETA: 15s - loss: 0.43 - ETA: 15s - loss: 0.43 - ETA: 15s - loss: 0.43 - ETA: 15s - loss: 0.43 - ETA: 15s - loss: 0.43 - ETA: 15s - loss: 0.43 - ETA: 15s - loss: 0.43 - ETA: 15s - loss: 0.43 - ETA: 15s - loss: 0.43 - ETA: 15s - loss: 0.43 - ETA: 15s - loss: 0.43 - ETA: 15s - loss: 0.43 - ETA: 15s - loss: 0.43 - ETA: 15s - loss: 0.43 - ETA: 15s - loss: 0.43 - ETA: 15s - loss: 0.43 - ETA: 14s - loss: 0.43 - ETA: 14s - loss: 0.43 - ETA: 14s - loss: 0.43 - ETA: 14s - loss: 0.43 - ETA: 14s - loss: 0.43 - ETA: 14s - loss: 0.43 - ETA: 14s - loss: 0.43 - ETA: 14s - loss: 0.43 - ETA: 14s - loss: 0.43 - ETA: 14s - loss: 0.43 - ETA: 14s - loss: 0.43 - ETA: 14s - loss: 0.43 - ETA: 14s - loss: 0.43 - ETA: 14s - loss: 0.43 - ETA: 14s - loss: 0.43 - ETA: 14s - loss: 0.43 - ETA: 13s - loss: 0.43 - ETA: 13s - loss: 0.43 - ETA: 13s - loss: 0.43 - ETA: 13s - loss: 0.43 - ETA: 13s - loss: 0.43 - ETA: 13s - loss: 0.43 - ETA: 13s - loss: 0.43 - ETA: 13s - loss: 0.43 - ETA: 13s - loss: 0.43 - ETA: 13s - loss: 0.43 - ETA: 13s - loss: 0.43 - ETA: 13s - loss: 0.43 - ETA: 12s - loss: 0.43 - ETA: 12s - loss: 0.43 - ETA: 12s - loss: 0.43 - ETA: 12s - loss: 0.43 - ETA: 12s - loss: 0.43 - ETA: 12s - loss: 0.43 - ETA: 12s - loss: 0.43 - ETA: 12s - loss: 0.43 - ETA: 12s - loss: 0.43 - ETA: 12s - loss: 0.43 - ETA: 12s - loss: 0.43 - ETA: 12s - loss: 0.43 - ETA: 12s - loss: 0.43 - ETA: 12s - loss: 0.43 - ETA: 11s - loss: 0.43 - ETA: 11s - loss: 0.43 - ETA: 11s - loss: 0.43 - ETA: 11s - loss: 0.43 - ETA: 11s - loss: 0.43 - ETA: 11s - loss: 0.43 - ETA: 11s - loss: 0.43 - ETA: 11s - loss: 0.43 - ETA: 11s - loss: 0.43 - ETA: 11s - loss: 0.43 - ETA: 11s - loss: 0.43 - ETA: 11s - loss: 0.43 - ETA: 11s - loss: 0.43 - ETA: 11s - loss: 0.43 - ETA: 11s - loss: 0.44 - ETA: 10s - loss: 0.44 - ETA: 10s - loss: 0.44 - ETA: 10s - loss: 0.44 - ETA: 10s - loss: 0.44 - ETA: 10s - loss: 0.44 - ETA: 10s - loss: 0.44 - ETA: 10s - loss: 0.44 - ETA: 10s - loss: 0.44 - ETA: 10s - loss: 0.44 - ETA: 10s - loss: 0.44 - ETA: 10s - loss: 0.44 - ETA: 10s - loss: 0.44 - ETA: 10s - loss: 0.44 - ETA: 9s - loss: 0.4410 - ETA: 9s - loss: 0.441 - ETA: 9s - loss: 0.441 - ETA: 9s - loss: 0.441 - ETA: 9s - loss: 0.442 - ETA: 9s - loss: 0.442 - ETA: 9s - loss: 0.442 - ETA: 9s - loss: 0.442 - ETA: 9s - loss: 0.442 - ETA: 9s - loss: 0.442 - ETA: 9s - loss: 0.441 - ETA: 9s - loss: 0.441 - ETA: 9s - loss: 0.441 - ETA: 9s - loss: 0.441 - ETA: 8s - loss: 0.441 - ETA: 8s - loss: 0.441 - ETA: 8s - loss: 0.441 - ETA: 8s - loss: 0.441 - ETA: 8s - loss: 0.441 - ETA: 8s - loss: 0.441 - ETA: 8s - loss: 0.441 - ETA: 8s - loss: 0.442 - ETA: 8s - loss: 0.442 - ETA: 8s - loss: 0.442 - ETA: 8s - loss: 0.442 - ETA: 8s - loss: 0.442 - ETA: 8s - loss: 0.442 - ETA: 8s - loss: 0.442 - ETA: 8s - loss: 0.442 - ETA: 8s - loss: 0.442 - ETA: 8s - loss: 0.442 - ETA: 8s - loss: 0.442 - ETA: 8s - loss: 0.442 - ETA: 7s - loss: 0.442 - ETA: 7s - loss: 0.442 - ETA: 7s - loss: 0.442 - ETA: 7s - loss: 0.442 - ETA: 7s - loss: 0.442 - ETA: 7s - loss: 0.442 - ETA: 7s - loss: 0.442 - ETA: 7s - loss: 0.442 - ETA: 7s - loss: 0.442 - ETA: 7s - loss: 0.442 - ETA: 7s - loss: 0.442 - ETA: 7s - loss: 0.442 - ETA: 7s - loss: 0.442 - ETA: 7s - loss: 0.442 - ETA: 6s - loss: 0.442 - ETA: 6s - loss: 0.442 - ETA: 6s - loss: 0.442 - ETA: 6s - loss: 0.442 - ETA: 6s - loss: 0.442 - ETA: 6s - loss: 0.442 - ETA: 6s - loss: 0.442 - ETA: 6s - loss: 0.442 - ETA: 6s - loss: 0.442 - ETA: 6s - loss: 0.442 - ETA: 6s - loss: 0.442 - ETA: 6s - loss: 0.442 - ETA: 6s - loss: 0.442 - ETA: 6s - loss: 0.442 - ETA: 6s - loss: 0.442 - ETA: 5s - loss: 0.442 - ETA: 5s - loss: 0.442 - ETA: 5s - loss: 0.442 - ETA: 5s - loss: 0.442 - ETA: 5s - loss: 0.442 - ETA: 5s - loss: 0.442 - ETA: 5s - loss: 0.442 - ETA: 5s - loss: 0.442 - ETA: 5s - loss: 0.442 - ETA: 5s - loss: 0.442 - ETA: 5s - loss: 0.442 - ETA: 5s - loss: 0.441 - ETA: 5s - loss: 0.441 - ETA: 5s - loss: 0.441 - ETA: 4s - loss: 0.441 - ETA: 4s - loss: 0.441 - ETA: 4s - loss: 0.441 - ETA: 4s - loss: 0.441 - ETA: 4s - loss: 0.441 - ETA: 4s - loss: 0.441 - ETA: 4s - loss: 0.441 - ETA: 4s - loss: 0.441 - ETA: 4s - loss: 0.441 - ETA: 4s - loss: 0.441 - ETA: 4s - loss: 0.441 - ETA: 4s - loss: 0.441 - ETA: 4s - loss: 0.441 - ETA: 3s - loss: 0.441 - ETA: 3s - loss: 0.441 - ETA: 3s - loss: 0.441 - ETA: 3s - loss: 0.441 - ETA: 3s - loss: 0.442 - ETA: 3s - loss: 0.441 - ETA: 3s - loss: 0.442 - ETA: 3s - loss: 0.442 - ETA: 3s - loss: 0.442 - ETA: 3s - loss: 0.442 - ETA: 3s - loss: 0.442 - ETA: 3s - loss: 0.441 - ETA: 3s - loss: 0.441 - ETA: 3s - loss: 0.441 - ETA: 3s - loss: 0.441 - ETA: 3s - loss: 0.441 - ETA: 2s - loss: 0.441 - ETA: 2s - loss: 0.442 - ETA: 2s - loss: 0.441 - ETA: 2s - loss: 0.441 - ETA: 2s - loss: 0.441 - ETA: 2s - loss: 0.442 - ETA: 2s - loss: 0.441 - ETA: 2s - loss: 0.441 - ETA: 2s - loss: 0.441 - ETA: 2s - loss: 0.441 - ETA: 2s - loss: 0.441 - ETA: 2s - loss: 0.441 - ETA: 2s - loss: 0.442 - ETA: 2s - loss: 0.441 - ETA: 2s - loss: 0.442 - ETA: 2s - loss: 0.442 - ETA: 1s - loss: 0.442 - ETA: 1s - loss: 0.442 - ETA: 1s - loss: 0.442 - ETA: 1s - loss: 0.442 - ETA: 1s - loss: 0.442 - ETA: 1s - loss: 0.442 - ETA: 1s - loss: 0.442 - ETA: 1s - loss: 0.442 - ETA: 1s - loss: 0.442 - ETA: 1s - loss: 0.441 - ETA: 1s - loss: 0.441 - ETA: 1s - loss: 0.441 - ETA: 1s - loss: 0.441 - ETA: 1s - loss: 0.441 - ETA: 1s - loss: 0.441 - ETA: 0s - loss: 0.441 - ETA: 0s - loss: 0.441 - ETA: 0s - loss: 0.441 - ETA: 0s - loss: 0.441 - ETA: 0s - loss: 0.441 - ETA: 0s - loss: 0.441 - ETA: 0s - loss: 0.441 - ETA: 0s - loss: 0.441 - ETA: 0s - loss: 0.441 - ETA: 0s - loss: 0.441 - ETA: 0s - loss: 0.441 - ETA: 0s - loss: 0.441 - ETA: 0s - loss: 0.441 - ETA: 0s - loss: 0.441 - ETA: 0s - loss: 0.441 - ETA: 0s - loss: 0.441 - 20s 362us/step - loss: 0.4418 - val_loss: 0.4188\n",
      "Epoch 9/50\n",
      "53440/55381 [===========================>..] - ETA: 13s - loss: 0.39 - ETA: 22s - loss: 0.48 - ETA: 20s - loss: 0.48 - ETA: 21s - loss: 0.46 - ETA: 19s - loss: 0.45 - ETA: 19s - loss: 0.44 - ETA: 19s - loss: 0.45 - ETA: 19s - loss: 0.45 - ETA: 20s - loss: 0.44 - ETA: 18s - loss: 0.43 - ETA: 19s - loss: 0.43 - ETA: 18s - loss: 0.43 - ETA: 18s - loss: 0.42 - ETA: 18s - loss: 0.42 - ETA: 18s - loss: 0.43 - ETA: 18s - loss: 0.43 - ETA: 18s - loss: 0.43 - ETA: 18s - loss: 0.43 - ETA: 18s - loss: 0.43 - ETA: 18s - loss: 0.43 - ETA: 18s - loss: 0.43 - ETA: 18s - loss: 0.43 - ETA: 18s - loss: 0.43 - ETA: 18s - loss: 0.43 - ETA: 18s - loss: 0.43 - ETA: 18s - loss: 0.43 - ETA: 17s - loss: 0.43 - ETA: 17s - loss: 0.43 - ETA: 18s - loss: 0.43 - ETA: 18s - loss: 0.43 - ETA: 17s - loss: 0.43 - ETA: 17s - loss: 0.43 - ETA: 17s - loss: 0.43 - ETA: 17s - loss: 0.43 - ETA: 17s - loss: 0.43 - ETA: 17s - loss: 0.43 - ETA: 17s - loss: 0.43 - ETA: 17s - loss: 0.43 - ETA: 17s - loss: 0.43 - ETA: 17s - loss: 0.43 - ETA: 17s - loss: 0.43 - ETA: 17s - loss: 0.43 - ETA: 17s - loss: 0.43 - ETA: 17s - loss: 0.43 - ETA: 17s - loss: 0.43 - ETA: 17s - loss: 0.43 - ETA: 16s - loss: 0.43 - ETA: 16s - loss: 0.43 - ETA: 16s - loss: 0.43 - ETA: 16s - loss: 0.43 - ETA: 16s - loss: 0.43 - ETA: 16s - loss: 0.43 - ETA: 16s - loss: 0.43 - ETA: 16s - loss: 0.43 - ETA: 16s - loss: 0.43 - ETA: 16s - loss: 0.43 - ETA: 16s - loss: 0.43 - ETA: 16s - loss: 0.43 - ETA: 16s - loss: 0.43 - ETA: 16s - loss: 0.43 - ETA: 16s - loss: 0.43 - ETA: 16s - loss: 0.43 - ETA: 16s - loss: 0.43 - ETA: 16s - loss: 0.43 - ETA: 16s - loss: 0.43 - ETA: 16s - loss: 0.43 - ETA: 16s - loss: 0.43 - ETA: 16s - loss: 0.43 - ETA: 16s - loss: 0.43 - ETA: 16s - loss: 0.43 - ETA: 16s - loss: 0.43 - ETA: 16s - loss: 0.43 - ETA: 16s - loss: 0.43 - ETA: 16s - loss: 0.43 - ETA: 16s - loss: 0.43 - ETA: 16s - loss: 0.43 - ETA: 16s - loss: 0.43 - ETA: 16s - loss: 0.43 - ETA: 16s - loss: 0.43 - ETA: 16s - loss: 0.43 - ETA: 16s - loss: 0.43 - ETA: 16s - loss: 0.43 - ETA: 16s - loss: 0.43 - ETA: 16s - loss: 0.43 - ETA: 16s - loss: 0.43 - ETA: 16s - loss: 0.43 - ETA: 16s - loss: 0.43 - ETA: 16s - loss: 0.43 - ETA: 16s - loss: 0.43 - ETA: 16s - loss: 0.43 - ETA: 15s - loss: 0.43 - ETA: 15s - loss: 0.43 - ETA: 16s - loss: 0.43 - ETA: 16s - loss: 0.43 - ETA: 16s - loss: 0.43 - ETA: 15s - loss: 0.43 - ETA: 15s - loss: 0.43 - ETA: 15s - loss: 0.43 - ETA: 15s - loss: 0.43 - ETA: 15s - loss: 0.43 - ETA: 15s - loss: 0.43 - ETA: 15s - loss: 0.43 - ETA: 15s - loss: 0.43 - ETA: 15s - loss: 0.43 - ETA: 15s - loss: 0.43 - ETA: 15s - loss: 0.43 - ETA: 15s - loss: 0.43 - ETA: 15s - loss: 0.43 - ETA: 15s - loss: 0.43 - ETA: 15s - loss: 0.43 - ETA: 15s - loss: 0.43 - ETA: 15s - loss: 0.43 - ETA: 15s - loss: 0.43 - ETA: 14s - loss: 0.43 - ETA: 14s - loss: 0.43 - ETA: 14s - loss: 0.43 - ETA: 14s - loss: 0.43 - ETA: 14s - loss: 0.43 - ETA: 14s - loss: 0.43 - ETA: 14s - loss: 0.43 - ETA: 14s - loss: 0.43 - ETA: 14s - loss: 0.43 - ETA: 14s - loss: 0.43 - ETA: 14s - loss: 0.43 - ETA: 14s - loss: 0.43 - ETA: 14s - loss: 0.43 - ETA: 14s - loss: 0.43 - ETA: 14s - loss: 0.43 - ETA: 14s - loss: 0.43 - ETA: 13s - loss: 0.43 - ETA: 13s - loss: 0.43 - ETA: 13s - loss: 0.43 - ETA: 13s - loss: 0.43 - ETA: 13s - loss: 0.43 - ETA: 13s - loss: 0.43 - ETA: 13s - loss: 0.43 - ETA: 13s - loss: 0.43 - ETA: 13s - loss: 0.43 - ETA: 13s - loss: 0.43 - ETA: 13s - loss: 0.43 - ETA: 13s - loss: 0.43 - ETA: 13s - loss: 0.43 - ETA: 12s - loss: 0.43 - ETA: 12s - loss: 0.43 - ETA: 12s - loss: 0.43 - ETA: 12s - loss: 0.43 - ETA: 12s - loss: 0.43 - ETA: 12s - loss: 0.43 - ETA: 12s - loss: 0.43 - ETA: 12s - loss: 0.43 - ETA: 12s - loss: 0.43 - ETA: 12s - loss: 0.43 - ETA: 12s - loss: 0.43 - ETA: 12s - loss: 0.43 - ETA: 12s - loss: 0.43 - ETA: 12s - loss: 0.43 - ETA: 12s - loss: 0.43 - ETA: 12s - loss: 0.43 - ETA: 12s - loss: 0.43 - ETA: 12s - loss: 0.43 - ETA: 12s - loss: 0.43 - ETA: 12s - loss: 0.43 - ETA: 12s - loss: 0.43 - ETA: 12s - loss: 0.43 - ETA: 12s - loss: 0.43 - ETA: 12s - loss: 0.43 - ETA: 11s - loss: 0.43 - ETA: 11s - loss: 0.43 - ETA: 11s - loss: 0.43 - ETA: 11s - loss: 0.43 - ETA: 11s - loss: 0.43 - ETA: 11s - loss: 0.43 - ETA: 11s - loss: 0.43 - ETA: 11s - loss: 0.43 - ETA: 11s - loss: 0.43 - ETA: 11s - loss: 0.43 - ETA: 11s - loss: 0.43 - ETA: 11s - loss: 0.43 - ETA: 11s - loss: 0.43 - ETA: 11s - loss: 0.43 - ETA: 11s - loss: 0.43 - ETA: 11s - loss: 0.43 - ETA: 11s - loss: 0.43 - ETA: 11s - loss: 0.43 - ETA: 11s - loss: 0.43 - ETA: 10s - loss: 0.43 - ETA: 10s - loss: 0.43 - ETA: 10s - loss: 0.43 - ETA: 10s - loss: 0.43 - ETA: 10s - loss: 0.43 - ETA: 10s - loss: 0.43 - ETA: 10s - loss: 0.43 - ETA: 10s - loss: 0.43 - ETA: 10s - loss: 0.43 - ETA: 10s - loss: 0.43 - ETA: 10s - loss: 0.43 - ETA: 10s - loss: 0.43 - ETA: 10s - loss: 0.43 - ETA: 10s - loss: 0.43 - ETA: 10s - loss: 0.43 - ETA: 9s - loss: 0.4344 - ETA: 9s - loss: 0.434 - ETA: 9s - loss: 0.434 - ETA: 9s - loss: 0.435 - ETA: 9s - loss: 0.435 - ETA: 9s - loss: 0.434 - ETA: 9s - loss: 0.435 - ETA: 9s - loss: 0.435 - ETA: 9s - loss: 0.435 - ETA: 9s - loss: 0.435 - ETA: 9s - loss: 0.435 - ETA: 9s - loss: 0.435 - ETA: 9s - loss: 0.435 - ETA: 9s - loss: 0.435 - ETA: 9s - loss: 0.436 - ETA: 9s - loss: 0.435 - ETA: 8s - loss: 0.436 - ETA: 8s - loss: 0.435 - ETA: 8s - loss: 0.436 - ETA: 8s - loss: 0.435 - ETA: 8s - loss: 0.435 - ETA: 8s - loss: 0.435 - ETA: 8s - loss: 0.436 - ETA: 8s - loss: 0.435 - ETA: 8s - loss: 0.435 - ETA: 8s - loss: 0.435 - ETA: 8s - loss: 0.436 - ETA: 8s - loss: 0.435 - ETA: 8s - loss: 0.435 - ETA: 8s - loss: 0.435 - ETA: 8s - loss: 0.436 - ETA: 7s - loss: 0.436 - ETA: 7s - loss: 0.436 - ETA: 7s - loss: 0.436 - ETA: 7s - loss: 0.436 - ETA: 7s - loss: 0.436 - ETA: 7s - loss: 0.436 - ETA: 7s - loss: 0.436 - ETA: 7s - loss: 0.436 - ETA: 7s - loss: 0.436 - ETA: 7s - loss: 0.436 - ETA: 7s - loss: 0.436 - ETA: 7s - loss: 0.436 - ETA: 7s - loss: 0.436 - ETA: 7s - loss: 0.436 - ETA: 7s - loss: 0.436 - ETA: 6s - loss: 0.436 - ETA: 6s - loss: 0.436 - ETA: 6s - loss: 0.436 - ETA: 6s - loss: 0.436 - ETA: 6s - loss: 0.436 - ETA: 6s - loss: 0.436 - ETA: 6s - loss: 0.436 - ETA: 6s - loss: 0.436 - ETA: 6s - loss: 0.436 - ETA: 6s - loss: 0.436 - ETA: 6s - loss: 0.437 - ETA: 6s - loss: 0.437 - ETA: 6s - loss: 0.437 - ETA: 6s - loss: 0.437 - ETA: 6s - loss: 0.437 - ETA: 5s - loss: 0.437 - ETA: 5s - loss: 0.437 - ETA: 5s - loss: 0.438 - ETA: 5s - loss: 0.437 - ETA: 5s - loss: 0.438 - ETA: 5s - loss: 0.437 - ETA: 5s - loss: 0.438 - ETA: 5s - loss: 0.438 - ETA: 5s - loss: 0.438 - ETA: 5s - loss: 0.438 - ETA: 5s - loss: 0.438 - ETA: 5s - loss: 0.438 - ETA: 5s - loss: 0.438 - ETA: 5s - loss: 0.438 - ETA: 5s - loss: 0.438 - ETA: 4s - loss: 0.438 - ETA: 4s - loss: 0.438 - ETA: 4s - loss: 0.438 - ETA: 4s - loss: 0.438 - ETA: 4s - loss: 0.438 - ETA: 4s - loss: 0.438 - ETA: 4s - loss: 0.438 - ETA: 4s - loss: 0.438 - ETA: 4s - loss: 0.438 - ETA: 4s - loss: 0.438 - ETA: 4s - loss: 0.438 - ETA: 4s - loss: 0.438 - ETA: 4s - loss: 0.438 - ETA: 4s - loss: 0.438 - ETA: 4s - loss: 0.438 - ETA: 3s - loss: 0.438 - ETA: 3s - loss: 0.438 - ETA: 3s - loss: 0.438 - ETA: 3s - loss: 0.438 - ETA: 3s - loss: 0.438 - ETA: 3s - loss: 0.438 - ETA: 3s - loss: 0.438 - ETA: 3s - loss: 0.438 - ETA: 3s - loss: 0.438 - ETA: 3s - loss: 0.438 - ETA: 3s - loss: 0.438 - ETA: 3s - loss: 0.438 - ETA: 3s - loss: 0.438 - ETA: 3s - loss: 0.438 - ETA: 3s - loss: 0.439 - ETA: 2s - loss: 0.438 - ETA: 2s - loss: 0.438 - ETA: 2s - loss: 0.439 - ETA: 2s - loss: 0.438 - ETA: 2s - loss: 0.438 - ETA: 2s - loss: 0.438 - ETA: 2s - loss: 0.438 - ETA: 2s - loss: 0.438 - ETA: 2s - loss: 0.438 - ETA: 2s - loss: 0.438 - ETA: 2s - loss: 0.438 - ETA: 2s - loss: 0.438 - ETA: 2s - loss: 0.438 - ETA: 2s - loss: 0.438 - ETA: 2s - loss: 0.438 - ETA: 1s - loss: 0.438 - ETA: 1s - loss: 0.438 - ETA: 1s - loss: 0.438 - ETA: 1s - loss: 0.438 - ETA: 1s - loss: 0.438 - ETA: 1s - loss: 0.438 - ETA: 1s - loss: 0.438 - ETA: 1s - loss: 0.438 - ETA: 1s - loss: 0.438 - ETA: 1s - loss: 0.438 - ETA: 1s - loss: 0.438 - ETA: 1s - loss: 0.437 - ETA: 1s - loss: 0.437 - ETA: 1s - loss: 0.438 - ETA: 1s - loss: 0.437 - ETA: 0s - loss: 0.437 - ETA: 0s - loss: 0.437 - ETA: 0s - loss: 0.437 - ETA: 0s - loss: 0.437655381/55381 [==============================] - ETA: 0s - loss: 0.437 - ETA: 0s - loss: 0.437 - ETA: 0s - loss: 0.438 - ETA: 0s - loss: 0.437 - ETA: 0s - loss: 0.438 - ETA: 0s - loss: 0.438 - ETA: 0s - loss: 0.438 - ETA: 0s - loss: 0.438 - ETA: 0s - loss: 0.437 - ETA: 0s - loss: 0.437 - ETA: 0s - loss: 0.437 - 22s 396us/step - loss: 0.4380 - val_loss: 0.4161\n",
      "Epoch 10/50\n"
     ]
    },
    {
     "name": "stdout",
     "output_type": "stream",
     "text": [
      "51776/55381 [===========================>..] - ETA: 13s - loss: 0.38 - ETA: 18s - loss: 0.38 - ETA: 25s - loss: 0.37 - ETA: 34s - loss: 0.39 - ETA: 27s - loss: 0.41 - ETA: 22s - loss: 0.40 - ETA: 21s - loss: 0.40 - ETA: 19s - loss: 0.41 - ETA: 20s - loss: 0.40 - ETA: 18s - loss: 0.40 - ETA: 19s - loss: 0.40 - ETA: 18s - loss: 0.40 - ETA: 18s - loss: 0.41 - ETA: 19s - loss: 0.41 - ETA: 18s - loss: 0.41 - ETA: 20s - loss: 0.41 - ETA: 20s - loss: 0.41 - ETA: 19s - loss: 0.41 - ETA: 20s - loss: 0.42 - ETA: 20s - loss: 0.42 - ETA: 20s - loss: 0.42 - ETA: 20s - loss: 0.42 - ETA: 20s - loss: 0.42 - ETA: 20s - loss: 0.42 - ETA: 19s - loss: 0.43 - ETA: 20s - loss: 0.42 - ETA: 20s - loss: 0.42 - ETA: 19s - loss: 0.42 - ETA: 19s - loss: 0.42 - ETA: 19s - loss: 0.42 - ETA: 19s - loss: 0.42 - ETA: 19s - loss: 0.42 - ETA: 19s - loss: 0.42 - ETA: 19s - loss: 0.42 - ETA: 19s - loss: 0.42 - ETA: 19s - loss: 0.43 - ETA: 19s - loss: 0.43 - ETA: 18s - loss: 0.43 - ETA: 18s - loss: 0.43 - ETA: 18s - loss: 0.42 - ETA: 18s - loss: 0.42 - ETA: 18s - loss: 0.42 - ETA: 18s - loss: 0.42 - ETA: 18s - loss: 0.42 - ETA: 18s - loss: 0.42 - ETA: 18s - loss: 0.42 - ETA: 18s - loss: 0.42 - ETA: 18s - loss: 0.42 - ETA: 18s - loss: 0.43 - ETA: 18s - loss: 0.43 - ETA: 18s - loss: 0.43 - ETA: 18s - loss: 0.43 - ETA: 18s - loss: 0.43 - ETA: 18s - loss: 0.43 - ETA: 18s - loss: 0.43 - ETA: 18s - loss: 0.43 - ETA: 18s - loss: 0.43 - ETA: 18s - loss: 0.43 - ETA: 18s - loss: 0.43 - ETA: 18s - loss: 0.43 - ETA: 18s - loss: 0.43 - ETA: 18s - loss: 0.43 - ETA: 18s - loss: 0.43 - ETA: 18s - loss: 0.43 - ETA: 18s - loss: 0.43 - ETA: 18s - loss: 0.43 - ETA: 18s - loss: 0.43 - ETA: 18s - loss: 0.43 - ETA: 18s - loss: 0.43 - ETA: 18s - loss: 0.43 - ETA: 18s - loss: 0.43 - ETA: 18s - loss: 0.43 - ETA: 17s - loss: 0.43 - ETA: 17s - loss: 0.43 - ETA: 17s - loss: 0.43 - ETA: 17s - loss: 0.43 - ETA: 18s - loss: 0.43 - ETA: 18s - loss: 0.43 - ETA: 18s - loss: 0.43 - ETA: 18s - loss: 0.43 - ETA: 17s - loss: 0.43 - ETA: 17s - loss: 0.43 - ETA: 17s - loss: 0.43 - ETA: 17s - loss: 0.43 - ETA: 17s - loss: 0.43 - ETA: 18s - loss: 0.43 - ETA: 18s - loss: 0.43 - ETA: 17s - loss: 0.43 - ETA: 17s - loss: 0.43 - ETA: 17s - loss: 0.43 - ETA: 17s - loss: 0.43 - ETA: 17s - loss: 0.43 - ETA: 17s - loss: 0.43 - ETA: 17s - loss: 0.43 - ETA: 17s - loss: 0.43 - ETA: 17s - loss: 0.43 - ETA: 17s - loss: 0.43 - ETA: 17s - loss: 0.43 - ETA: 17s - loss: 0.43 - ETA: 17s - loss: 0.43 - ETA: 17s - loss: 0.43 - ETA: 17s - loss: 0.43 - ETA: 17s - loss: 0.43 - ETA: 17s - loss: 0.43 - ETA: 17s - loss: 0.43 - ETA: 17s - loss: 0.43 - ETA: 17s - loss: 0.43 - ETA: 17s - loss: 0.43 - ETA: 17s - loss: 0.43 - ETA: 17s - loss: 0.43 - ETA: 17s - loss: 0.43 - ETA: 17s - loss: 0.43 - ETA: 17s - loss: 0.43 - ETA: 17s - loss: 0.43 - ETA: 17s - loss: 0.43 - ETA: 17s - loss: 0.43 - ETA: 17s - loss: 0.43 - ETA: 17s - loss: 0.43 - ETA: 17s - loss: 0.43 - ETA: 16s - loss: 0.43 - ETA: 16s - loss: 0.43 - ETA: 16s - loss: 0.43 - ETA: 16s - loss: 0.43 - ETA: 16s - loss: 0.43 - ETA: 16s - loss: 0.43 - ETA: 16s - loss: 0.43 - ETA: 16s - loss: 0.43 - ETA: 16s - loss: 0.43 - ETA: 16s - loss: 0.43 - ETA: 16s - loss: 0.43 - ETA: 16s - loss: 0.43 - ETA: 16s - loss: 0.43 - ETA: 16s - loss: 0.43 - ETA: 16s - loss: 0.43 - ETA: 16s - loss: 0.43 - ETA: 16s - loss: 0.43 - ETA: 16s - loss: 0.43 - ETA: 15s - loss: 0.43 - ETA: 15s - loss: 0.43 - ETA: 15s - loss: 0.43 - ETA: 15s - loss: 0.43 - ETA: 15s - loss: 0.43 - ETA: 15s - loss: 0.43 - ETA: 15s - loss: 0.43 - ETA: 15s - loss: 0.43 - ETA: 15s - loss: 0.43 - ETA: 15s - loss: 0.43 - ETA: 15s - loss: 0.43 - ETA: 15s - loss: 0.43 - ETA: 15s - loss: 0.43 - ETA: 15s - loss: 0.43 - ETA: 15s - loss: 0.43 - ETA: 15s - loss: 0.43 - ETA: 14s - loss: 0.43 - ETA: 14s - loss: 0.43 - ETA: 14s - loss: 0.43 - ETA: 14s - loss: 0.43 - ETA: 14s - loss: 0.43 - ETA: 14s - loss: 0.43 - ETA: 14s - loss: 0.43 - ETA: 14s - loss: 0.43 - ETA: 14s - loss: 0.43 - ETA: 14s - loss: 0.43 - ETA: 14s - loss: 0.43 - ETA: 14s - loss: 0.43 - ETA: 14s - loss: 0.43 - ETA: 14s - loss: 0.43 - ETA: 14s - loss: 0.43 - ETA: 14s - loss: 0.43 - ETA: 14s - loss: 0.43 - ETA: 14s - loss: 0.43 - ETA: 14s - loss: 0.43 - ETA: 14s - loss: 0.43 - ETA: 14s - loss: 0.43 - ETA: 14s - loss: 0.43 - ETA: 13s - loss: 0.43 - ETA: 13s - loss: 0.43 - ETA: 13s - loss: 0.43 - ETA: 13s - loss: 0.43 - ETA: 13s - loss: 0.43 - ETA: 13s - loss: 0.43 - ETA: 13s - loss: 0.43 - ETA: 13s - loss: 0.43 - ETA: 13s - loss: 0.43 - ETA: 13s - loss: 0.43 - ETA: 13s - loss: 0.43 - ETA: 13s - loss: 0.43 - ETA: 12s - loss: 0.43 - ETA: 12s - loss: 0.43 - ETA: 12s - loss: 0.43 - ETA: 12s - loss: 0.43 - ETA: 12s - loss: 0.43 - ETA: 12s - loss: 0.43 - ETA: 12s - loss: 0.43 - ETA: 12s - loss: 0.43 - ETA: 12s - loss: 0.43 - ETA: 12s - loss: 0.43 - ETA: 12s - loss: 0.43 - ETA: 12s - loss: 0.43 - ETA: 12s - loss: 0.43 - ETA: 12s - loss: 0.43 - ETA: 12s - loss: 0.43 - ETA: 11s - loss: 0.43 - ETA: 11s - loss: 0.43 - ETA: 11s - loss: 0.43 - ETA: 11s - loss: 0.43 - ETA: 11s - loss: 0.43 - ETA: 11s - loss: 0.43 - ETA: 11s - loss: 0.43 - ETA: 11s - loss: 0.43 - ETA: 11s - loss: 0.43 - ETA: 11s - loss: 0.43 - ETA: 11s - loss: 0.43 - ETA: 11s - loss: 0.43 - ETA: 10s - loss: 0.43 - ETA: 10s - loss: 0.43 - ETA: 10s - loss: 0.43 - ETA: 10s - loss: 0.43 - ETA: 10s - loss: 0.43 - ETA: 10s - loss: 0.43 - ETA: 10s - loss: 0.43 - ETA: 10s - loss: 0.43 - ETA: 10s - loss: 0.43 - ETA: 10s - loss: 0.43 - ETA: 10s - loss: 0.43 - ETA: 9s - loss: 0.4349 - ETA: 9s - loss: 0.434 - ETA: 9s - loss: 0.434 - ETA: 9s - loss: 0.434 - ETA: 9s - loss: 0.434 - ETA: 9s - loss: 0.434 - ETA: 9s - loss: 0.434 - ETA: 9s - loss: 0.434 - ETA: 9s - loss: 0.434 - ETA: 9s - loss: 0.434 - ETA: 9s - loss: 0.434 - ETA: 9s - loss: 0.434 - ETA: 9s - loss: 0.434 - ETA: 8s - loss: 0.434 - ETA: 8s - loss: 0.435 - ETA: 8s - loss: 0.435 - ETA: 8s - loss: 0.435 - ETA: 8s - loss: 0.435 - ETA: 8s - loss: 0.435 - ETA: 8s - loss: 0.435 - ETA: 8s - loss: 0.434 - ETA: 8s - loss: 0.435 - ETA: 8s - loss: 0.435 - ETA: 8s - loss: 0.435 - ETA: 8s - loss: 0.435 - ETA: 7s - loss: 0.435 - ETA: 7s - loss: 0.435 - ETA: 7s - loss: 0.435 - ETA: 7s - loss: 0.435 - ETA: 7s - loss: 0.435 - ETA: 7s - loss: 0.435 - ETA: 7s - loss: 0.434 - ETA: 7s - loss: 0.434 - ETA: 7s - loss: 0.434 - ETA: 7s - loss: 0.434 - ETA: 7s - loss: 0.434 - ETA: 7s - loss: 0.434 - ETA: 6s - loss: 0.434 - ETA: 6s - loss: 0.434 - ETA: 6s - loss: 0.434 - ETA: 6s - loss: 0.435 - ETA: 6s - loss: 0.435 - ETA: 6s - loss: 0.435 - ETA: 6s - loss: 0.435 - ETA: 6s - loss: 0.434 - ETA: 6s - loss: 0.434 - ETA: 6s - loss: 0.434 - ETA: 6s - loss: 0.434 - ETA: 6s - loss: 0.434 - ETA: 6s - loss: 0.434 - ETA: 6s - loss: 0.434 - ETA: 6s - loss: 0.434 - ETA: 5s - loss: 0.434 - ETA: 5s - loss: 0.434 - ETA: 5s - loss: 0.434 - ETA: 5s - loss: 0.434 - ETA: 5s - loss: 0.434 - ETA: 5s - loss: 0.434 - ETA: 5s - loss: 0.434 - ETA: 5s - loss: 0.433 - ETA: 5s - loss: 0.433 - ETA: 5s - loss: 0.433 - ETA: 5s - loss: 0.434 - ETA: 5s - loss: 0.433 - ETA: 5s - loss: 0.434 - ETA: 4s - loss: 0.433 - ETA: 4s - loss: 0.434 - ETA: 4s - loss: 0.434 - ETA: 4s - loss: 0.433 - ETA: 4s - loss: 0.433 - ETA: 4s - loss: 0.433 - ETA: 4s - loss: 0.433 - ETA: 4s - loss: 0.433 - ETA: 4s - loss: 0.433 - ETA: 4s - loss: 0.433 - ETA: 4s - loss: 0.433 - ETA: 4s - loss: 0.434 - ETA: 4s - loss: 0.434 - ETA: 4s - loss: 0.434 - ETA: 3s - loss: 0.434 - ETA: 3s - loss: 0.434 - ETA: 3s - loss: 0.434 - ETA: 3s - loss: 0.434 - ETA: 3s - loss: 0.433 - ETA: 3s - loss: 0.434 - ETA: 3s - loss: 0.433 - ETA: 3s - loss: 0.433 - ETA: 3s - loss: 0.433 - ETA: 3s - loss: 0.433 - ETA: 3s - loss: 0.433 - ETA: 3s - loss: 0.433 - ETA: 3s - loss: 0.433 - ETA: 3s - loss: 0.433 - ETA: 3s - loss: 0.433 - ETA: 2s - loss: 0.433 - ETA: 2s - loss: 0.433 - ETA: 2s - loss: 0.433 - ETA: 2s - loss: 0.433 - ETA: 2s - loss: 0.433 - ETA: 2s - loss: 0.434 - ETA: 2s - loss: 0.434 - ETA: 2s - loss: 0.434 - ETA: 2s - loss: 0.434 - ETA: 2s - loss: 0.434 - ETA: 2s - loss: 0.434 - ETA: 2s - loss: 0.434 - ETA: 2s - loss: 0.434 - ETA: 2s - loss: 0.434 - ETA: 1s - loss: 0.434 - ETA: 1s - loss: 0.434 - ETA: 1s - loss: 0.434 - ETA: 1s - loss: 0.435 - ETA: 1s - loss: 0.435 - ETA: 1s - loss: 0.435 - ETA: 1s - loss: 0.4353"
     ]
    },
    {
     "name": "stdout",
     "output_type": "stream",
     "text": [
      "55381/55381 [==============================] - ETA: 1s - loss: 0.435 - ETA: 1s - loss: 0.435 - ETA: 1s - loss: 0.434 - ETA: 1s - loss: 0.434 - ETA: 1s - loss: 0.434 - ETA: 1s - loss: 0.434 - ETA: 1s - loss: 0.434 - ETA: 0s - loss: 0.434 - ETA: 0s - loss: 0.434 - ETA: 0s - loss: 0.434 - ETA: 0s - loss: 0.434 - ETA: 0s - loss: 0.434 - ETA: 0s - loss: 0.434 - ETA: 0s - loss: 0.434 - ETA: 0s - loss: 0.434 - ETA: 0s - loss: 0.434 - ETA: 0s - loss: 0.433 - ETA: 0s - loss: 0.433 - ETA: 0s - loss: 0.433 - ETA: 0s - loss: 0.433 - ETA: 0s - loss: 0.433 - ETA: 0s - loss: 0.433 - ETA: 0s - loss: 0.434 - 23s 412us/step - loss: 0.4341 - val_loss: 0.4109\n",
      "Epoch 11/50\n",
      "53760/55381 [============================>.] - ETA: 13s - loss: 0.41 - ETA: 20s - loss: 0.41 - ETA: 26s - loss: 0.40 - ETA: 26s - loss: 0.38 - ETA: 25s - loss: 0.38 - ETA: 28s - loss: 0.39 - ETA: 28s - loss: 0.40 - ETA: 29s - loss: 0.39 - ETA: 30s - loss: 0.39 - ETA: 31s - loss: 0.39 - ETA: 31s - loss: 0.40 - ETA: 28s - loss: 0.40 - ETA: 26s - loss: 0.41 - ETA: 26s - loss: 0.41 - ETA: 26s - loss: 0.41 - ETA: 24s - loss: 0.41 - ETA: 24s - loss: 0.42 - ETA: 23s - loss: 0.42 - ETA: 23s - loss: 0.42 - ETA: 23s - loss: 0.42 - ETA: 24s - loss: 0.42 - ETA: 23s - loss: 0.42 - ETA: 24s - loss: 0.42 - ETA: 24s - loss: 0.42 - ETA: 24s - loss: 0.42 - ETA: 24s - loss: 0.42 - ETA: 24s - loss: 0.42 - ETA: 24s - loss: 0.42 - ETA: 24s - loss: 0.42 - ETA: 24s - loss: 0.42 - ETA: 24s - loss: 0.42 - ETA: 24s - loss: 0.41 - ETA: 24s - loss: 0.41 - ETA: 24s - loss: 0.41 - ETA: 24s - loss: 0.41 - ETA: 24s - loss: 0.41 - ETA: 23s - loss: 0.41 - ETA: 23s - loss: 0.41 - ETA: 23s - loss: 0.41 - ETA: 23s - loss: 0.41 - ETA: 22s - loss: 0.41 - ETA: 22s - loss: 0.41 - ETA: 21s - loss: 0.41 - ETA: 21s - loss: 0.41 - ETA: 21s - loss: 0.41 - ETA: 21s - loss: 0.41 - ETA: 21s - loss: 0.41 - ETA: 20s - loss: 0.41 - ETA: 20s - loss: 0.41 - ETA: 20s - loss: 0.42 - ETA: 20s - loss: 0.42 - ETA: 20s - loss: 0.42 - ETA: 20s - loss: 0.42 - ETA: 20s - loss: 0.42 - ETA: 20s - loss: 0.42 - ETA: 20s - loss: 0.42 - ETA: 19s - loss: 0.42 - ETA: 19s - loss: 0.42 - ETA: 20s - loss: 0.42 - ETA: 19s - loss: 0.42 - ETA: 19s - loss: 0.42 - ETA: 19s - loss: 0.42 - ETA: 19s - loss: 0.42 - ETA: 19s - loss: 0.42 - ETA: 19s - loss: 0.42 - ETA: 19s - loss: 0.42 - ETA: 19s - loss: 0.42 - ETA: 19s - loss: 0.42 - ETA: 19s - loss: 0.42 - ETA: 19s - loss: 0.42 - ETA: 19s - loss: 0.42 - ETA: 19s - loss: 0.42 - ETA: 19s - loss: 0.42 - ETA: 19s - loss: 0.42 - ETA: 18s - loss: 0.42 - ETA: 18s - loss: 0.42 - ETA: 18s - loss: 0.42 - ETA: 18s - loss: 0.42 - ETA: 18s - loss: 0.42 - ETA: 18s - loss: 0.42 - ETA: 18s - loss: 0.42 - ETA: 18s - loss: 0.42 - ETA: 18s - loss: 0.42 - ETA: 18s - loss: 0.42 - ETA: 18s - loss: 0.42 - ETA: 18s - loss: 0.42 - ETA: 18s - loss: 0.42 - ETA: 18s - loss: 0.42 - ETA: 18s - loss: 0.42 - ETA: 18s - loss: 0.42 - ETA: 18s - loss: 0.42 - ETA: 18s - loss: 0.42 - ETA: 18s - loss: 0.42 - ETA: 18s - loss: 0.42 - ETA: 18s - loss: 0.42 - ETA: 17s - loss: 0.42 - ETA: 17s - loss: 0.42 - ETA: 17s - loss: 0.42 - ETA: 17s - loss: 0.42 - ETA: 17s - loss: 0.42 - ETA: 17s - loss: 0.42 - ETA: 17s - loss: 0.42 - ETA: 17s - loss: 0.42 - ETA: 17s - loss: 0.42 - ETA: 17s - loss: 0.42 - ETA: 17s - loss: 0.42 - ETA: 17s - loss: 0.42 - ETA: 17s - loss: 0.42 - ETA: 17s - loss: 0.42 - ETA: 17s - loss: 0.42 - ETA: 17s - loss: 0.42 - ETA: 17s - loss: 0.42 - ETA: 17s - loss: 0.42 - ETA: 17s - loss: 0.42 - ETA: 17s - loss: 0.42 - ETA: 17s - loss: 0.42 - ETA: 17s - loss: 0.42 - ETA: 16s - loss: 0.42 - ETA: 16s - loss: 0.42 - ETA: 16s - loss: 0.42 - ETA: 16s - loss: 0.42 - ETA: 16s - loss: 0.42 - ETA: 16s - loss: 0.42 - ETA: 16s - loss: 0.42 - ETA: 16s - loss: 0.42 - ETA: 16s - loss: 0.42 - ETA: 16s - loss: 0.42 - ETA: 15s - loss: 0.42 - ETA: 15s - loss: 0.42 - ETA: 15s - loss: 0.42 - ETA: 15s - loss: 0.42 - ETA: 15s - loss: 0.42 - ETA: 15s - loss: 0.42 - ETA: 15s - loss: 0.42 - ETA: 15s - loss: 0.42 - ETA: 15s - loss: 0.42 - ETA: 15s - loss: 0.43 - ETA: 15s - loss: 0.43 - ETA: 14s - loss: 0.43 - ETA: 14s - loss: 0.42 - ETA: 14s - loss: 0.42 - ETA: 14s - loss: 0.42 - ETA: 14s - loss: 0.42 - ETA: 14s - loss: 0.43 - ETA: 14s - loss: 0.43 - ETA: 14s - loss: 0.43 - ETA: 14s - loss: 0.43 - ETA: 14s - loss: 0.43 - ETA: 14s - loss: 0.43 - ETA: 13s - loss: 0.43 - ETA: 13s - loss: 0.43 - ETA: 13s - loss: 0.43 - ETA: 13s - loss: 0.43 - ETA: 13s - loss: 0.43 - ETA: 13s - loss: 0.43 - ETA: 13s - loss: 0.43 - ETA: 13s - loss: 0.43 - ETA: 13s - loss: 0.43 - ETA: 13s - loss: 0.43 - ETA: 13s - loss: 0.43 - ETA: 13s - loss: 0.43 - ETA: 13s - loss: 0.43 - ETA: 13s - loss: 0.43 - ETA: 13s - loss: 0.43 - ETA: 12s - loss: 0.43 - ETA: 12s - loss: 0.43 - ETA: 12s - loss: 0.43 - ETA: 12s - loss: 0.43 - ETA: 12s - loss: 0.43 - ETA: 12s - loss: 0.43 - ETA: 12s - loss: 0.43 - ETA: 12s - loss: 0.43 - ETA: 12s - loss: 0.43 - ETA: 12s - loss: 0.43 - ETA: 12s - loss: 0.43 - ETA: 12s - loss: 0.43 - ETA: 12s - loss: 0.43 - ETA: 12s - loss: 0.43 - ETA: 12s - loss: 0.43 - ETA: 11s - loss: 0.43 - ETA: 11s - loss: 0.43 - ETA: 11s - loss: 0.43 - ETA: 11s - loss: 0.43 - ETA: 11s - loss: 0.43 - ETA: 11s - loss: 0.43 - ETA: 11s - loss: 0.43 - ETA: 11s - loss: 0.43 - ETA: 11s - loss: 0.43 - ETA: 11s - loss: 0.43 - ETA: 11s - loss: 0.43 - ETA: 11s - loss: 0.43 - ETA: 11s - loss: 0.43 - ETA: 10s - loss: 0.43 - ETA: 10s - loss: 0.43 - ETA: 10s - loss: 0.43 - ETA: 10s - loss: 0.43 - ETA: 10s - loss: 0.43 - ETA: 10s - loss: 0.43 - ETA: 10s - loss: 0.43 - ETA: 10s - loss: 0.43 - ETA: 10s - loss: 0.43 - ETA: 10s - loss: 0.43 - ETA: 10s - loss: 0.42 - ETA: 10s - loss: 0.43 - ETA: 10s - loss: 0.43 - ETA: 10s - loss: 0.43 - ETA: 10s - loss: 0.43 - ETA: 9s - loss: 0.4306 - ETA: 9s - loss: 0.430 - ETA: 9s - loss: 0.430 - ETA: 9s - loss: 0.430 - ETA: 9s - loss: 0.430 - ETA: 9s - loss: 0.430 - ETA: 9s - loss: 0.430 - ETA: 9s - loss: 0.429 - ETA: 9s - loss: 0.429 - ETA: 9s - loss: 0.429 - ETA: 9s - loss: 0.429 - ETA: 9s - loss: 0.429 - ETA: 9s - loss: 0.429 - ETA: 9s - loss: 0.429 - ETA: 8s - loss: 0.429 - ETA: 8s - loss: 0.429 - ETA: 8s - loss: 0.429 - ETA: 8s - loss: 0.429 - ETA: 8s - loss: 0.429 - ETA: 8s - loss: 0.429 - ETA: 8s - loss: 0.430 - ETA: 8s - loss: 0.430 - ETA: 8s - loss: 0.430 - ETA: 8s - loss: 0.430 - ETA: 8s - loss: 0.430 - ETA: 8s - loss: 0.430 - ETA: 8s - loss: 0.430 - ETA: 7s - loss: 0.430 - ETA: 7s - loss: 0.430 - ETA: 7s - loss: 0.430 - ETA: 7s - loss: 0.430 - ETA: 7s - loss: 0.430 - ETA: 7s - loss: 0.429 - ETA: 7s - loss: 0.430 - ETA: 7s - loss: 0.430 - ETA: 7s - loss: 0.430 - ETA: 7s - loss: 0.430 - ETA: 7s - loss: 0.430 - ETA: 7s - loss: 0.430 - ETA: 7s - loss: 0.430 - ETA: 7s - loss: 0.430 - ETA: 6s - loss: 0.430 - ETA: 6s - loss: 0.431 - ETA: 6s - loss: 0.430 - ETA: 6s - loss: 0.430 - ETA: 6s - loss: 0.430 - ETA: 6s - loss: 0.430 - ETA: 6s - loss: 0.430 - ETA: 6s - loss: 0.430 - ETA: 6s - loss: 0.430 - ETA: 6s - loss: 0.430 - ETA: 6s - loss: 0.430 - ETA: 6s - loss: 0.430 - ETA: 6s - loss: 0.430 - ETA: 5s - loss: 0.430 - ETA: 5s - loss: 0.430 - ETA: 5s - loss: 0.430 - ETA: 5s - loss: 0.430 - ETA: 5s - loss: 0.430 - ETA: 5s - loss: 0.431 - ETA: 5s - loss: 0.431 - ETA: 5s - loss: 0.430 - ETA: 5s - loss: 0.430 - ETA: 5s - loss: 0.430 - ETA: 5s - loss: 0.430 - ETA: 5s - loss: 0.430 - ETA: 5s - loss: 0.430 - ETA: 4s - loss: 0.430 - ETA: 4s - loss: 0.430 - ETA: 4s - loss: 0.430 - ETA: 4s - loss: 0.430 - ETA: 4s - loss: 0.431 - ETA: 4s - loss: 0.430 - ETA: 4s - loss: 0.430 - ETA: 4s - loss: 0.430 - ETA: 4s - loss: 0.430 - ETA: 4s - loss: 0.430 - ETA: 4s - loss: 0.430 - ETA: 4s - loss: 0.430 - ETA: 4s - loss: 0.430 - ETA: 4s - loss: 0.430 - ETA: 3s - loss: 0.429 - ETA: 3s - loss: 0.429 - ETA: 3s - loss: 0.429 - ETA: 3s - loss: 0.429 - ETA: 3s - loss: 0.429 - ETA: 3s - loss: 0.429 - ETA: 3s - loss: 0.429 - ETA: 3s - loss: 0.429 - ETA: 3s - loss: 0.429 - ETA: 3s - loss: 0.429 - ETA: 3s - loss: 0.429 - ETA: 3s - loss: 0.429 - ETA: 3s - loss: 0.429 - ETA: 3s - loss: 0.429 - ETA: 3s - loss: 0.429 - ETA: 2s - loss: 0.429 - ETA: 2s - loss: 0.429 - ETA: 2s - loss: 0.429 - ETA: 2s - loss: 0.429 - ETA: 2s - loss: 0.429 - ETA: 2s - loss: 0.429 - ETA: 2s - loss: 0.429 - ETA: 2s - loss: 0.429 - ETA: 2s - loss: 0.429 - ETA: 2s - loss: 0.429 - ETA: 2s - loss: 0.429 - ETA: 2s - loss: 0.429 - ETA: 2s - loss: 0.429 - ETA: 2s - loss: 0.429 - ETA: 2s - loss: 0.429 - ETA: 2s - loss: 0.429 - ETA: 1s - loss: 0.429 - ETA: 1s - loss: 0.429 - ETA: 1s - loss: 0.429 - ETA: 1s - loss: 0.429 - ETA: 1s - loss: 0.429 - ETA: 1s - loss: 0.428 - ETA: 1s - loss: 0.429 - ETA: 1s - loss: 0.429 - ETA: 1s - loss: 0.429 - ETA: 1s - loss: 0.429 - ETA: 1s - loss: 0.429 - ETA: 1s - loss: 0.429 - ETA: 1s - loss: 0.429 - ETA: 1s - loss: 0.429 - ETA: 1s - loss: 0.429 - ETA: 0s - loss: 0.429 - ETA: 0s - loss: 0.429 - ETA: 0s - loss: 0.429 - ETA: 0s - loss: 0.429 - ETA: 0s - loss: 0.429 - ETA: 0s - loss: 0.429855381/55381 [==============================] - ETA: 0s - loss: 0.429 - ETA: 0s - loss: 0.429 - ETA: 0s - loss: 0.429 - ETA: 0s - loss: 0.429 - ETA: 0s - loss: 0.429 - ETA: 0s - loss: 0.429 - ETA: 0s - loss: 0.429 - ETA: 0s - loss: 0.429 - ETA: 0s - loss: 0.429 - ETA: 0s - loss: 0.429 - ETA: 0s - loss: 0.429 - 22s 399us/step - loss: 0.4296 - val_loss: 0.4047\n",
      "Epoch 12/50\n"
     ]
    },
    {
     "name": "stdout",
     "output_type": "stream",
     "text": [
      "51904/55381 [===========================>..] - ETA: 13s - loss: 0.43 - ETA: 16s - loss: 0.39 - ETA: 18s - loss: 0.44 - ETA: 18s - loss: 0.43 - ETA: 24s - loss: 0.43 - ETA: 23s - loss: 0.43 - ETA: 20s - loss: 0.41 - ETA: 21s - loss: 0.40 - ETA: 19s - loss: 0.40 - ETA: 19s - loss: 0.40 - ETA: 19s - loss: 0.40 - ETA: 19s - loss: 0.40 - ETA: 19s - loss: 0.40 - ETA: 19s - loss: 0.40 - ETA: 20s - loss: 0.40 - ETA: 20s - loss: 0.40 - ETA: 20s - loss: 0.40 - ETA: 20s - loss: 0.40 - ETA: 20s - loss: 0.40 - ETA: 21s - loss: 0.41 - ETA: 21s - loss: 0.41 - ETA: 21s - loss: 0.41 - ETA: 21s - loss: 0.41 - ETA: 21s - loss: 0.41 - ETA: 21s - loss: 0.42 - ETA: 21s - loss: 0.42 - ETA: 21s - loss: 0.42 - ETA: 21s - loss: 0.42 - ETA: 21s - loss: 0.42 - ETA: 21s - loss: 0.42 - ETA: 21s - loss: 0.42 - ETA: 20s - loss: 0.41 - ETA: 21s - loss: 0.42 - ETA: 20s - loss: 0.42 - ETA: 21s - loss: 0.42 - ETA: 21s - loss: 0.42 - ETA: 22s - loss: 0.42 - ETA: 21s - loss: 0.42 - ETA: 21s - loss: 0.42 - ETA: 22s - loss: 0.42 - ETA: 22s - loss: 0.42 - ETA: 22s - loss: 0.42 - ETA: 22s - loss: 0.42 - ETA: 21s - loss: 0.42 - ETA: 21s - loss: 0.42 - ETA: 22s - loss: 0.42 - ETA: 22s - loss: 0.42 - ETA: 21s - loss: 0.42 - ETA: 21s - loss: 0.42 - ETA: 21s - loss: 0.42 - ETA: 21s - loss: 0.42 - ETA: 21s - loss: 0.42 - ETA: 21s - loss: 0.42 - ETA: 21s - loss: 0.42 - ETA: 20s - loss: 0.42 - ETA: 20s - loss: 0.42 - ETA: 20s - loss: 0.42 - ETA: 20s - loss: 0.42 - ETA: 20s - loss: 0.42 - ETA: 20s - loss: 0.42 - ETA: 20s - loss: 0.42 - ETA: 20s - loss: 0.42 - ETA: 20s - loss: 0.42 - ETA: 20s - loss: 0.42 - ETA: 20s - loss: 0.42 - ETA: 20s - loss: 0.42 - ETA: 20s - loss: 0.42 - ETA: 20s - loss: 0.42 - ETA: 20s - loss: 0.42 - ETA: 20s - loss: 0.42 - ETA: 19s - loss: 0.42 - ETA: 19s - loss: 0.42 - ETA: 19s - loss: 0.42 - ETA: 19s - loss: 0.42 - ETA: 19s - loss: 0.42 - ETA: 19s - loss: 0.42 - ETA: 19s - loss: 0.42 - ETA: 19s - loss: 0.42 - ETA: 19s - loss: 0.42 - ETA: 19s - loss: 0.42 - ETA: 18s - loss: 0.42 - ETA: 18s - loss: 0.42 - ETA: 18s - loss: 0.42 - ETA: 18s - loss: 0.42 - ETA: 18s - loss: 0.42 - ETA: 18s - loss: 0.42 - ETA: 18s - loss: 0.42 - ETA: 18s - loss: 0.42 - ETA: 18s - loss: 0.42 - ETA: 18s - loss: 0.42 - ETA: 18s - loss: 0.42 - ETA: 18s - loss: 0.42 - ETA: 18s - loss: 0.42 - ETA: 18s - loss: 0.42 - ETA: 18s - loss: 0.42 - ETA: 18s - loss: 0.42 - ETA: 18s - loss: 0.42 - ETA: 18s - loss: 0.42 - ETA: 17s - loss: 0.42 - ETA: 17s - loss: 0.42 - ETA: 17s - loss: 0.42 - ETA: 17s - loss: 0.42 - ETA: 17s - loss: 0.42 - ETA: 17s - loss: 0.42 - ETA: 17s - loss: 0.42 - ETA: 17s - loss: 0.42 - ETA: 17s - loss: 0.42 - ETA: 17s - loss: 0.42 - ETA: 16s - loss: 0.42 - ETA: 16s - loss: 0.42 - ETA: 16s - loss: 0.42 - ETA: 16s - loss: 0.42 - ETA: 16s - loss: 0.42 - ETA: 16s - loss: 0.42 - ETA: 16s - loss: 0.42 - ETA: 16s - loss: 0.42 - ETA: 16s - loss: 0.42 - ETA: 16s - loss: 0.42 - ETA: 16s - loss: 0.42 - ETA: 16s - loss: 0.42 - ETA: 16s - loss: 0.42 - ETA: 16s - loss: 0.42 - ETA: 16s - loss: 0.42 - ETA: 16s - loss: 0.42 - ETA: 16s - loss: 0.42 - ETA: 16s - loss: 0.43 - ETA: 16s - loss: 0.43 - ETA: 15s - loss: 0.43 - ETA: 15s - loss: 0.43 - ETA: 15s - loss: 0.43 - ETA: 15s - loss: 0.43 - ETA: 16s - loss: 0.43 - ETA: 16s - loss: 0.43 - ETA: 15s - loss: 0.43 - ETA: 15s - loss: 0.43 - ETA: 15s - loss: 0.43 - ETA: 15s - loss: 0.43 - ETA: 15s - loss: 0.43 - ETA: 15s - loss: 0.43 - ETA: 15s - loss: 0.43 - ETA: 15s - loss: 0.43 - ETA: 15s - loss: 0.43 - ETA: 15s - loss: 0.43 - ETA: 15s - loss: 0.43 - ETA: 14s - loss: 0.43 - ETA: 14s - loss: 0.43 - ETA: 14s - loss: 0.43 - ETA: 14s - loss: 0.43 - ETA: 14s - loss: 0.43 - ETA: 14s - loss: 0.43 - ETA: 14s - loss: 0.43 - ETA: 14s - loss: 0.43 - ETA: 14s - loss: 0.43 - ETA: 14s - loss: 0.43 - ETA: 14s - loss: 0.43 - ETA: 14s - loss: 0.43 - ETA: 14s - loss: 0.43 - ETA: 14s - loss: 0.43 - ETA: 14s - loss: 0.43 - ETA: 14s - loss: 0.43 - ETA: 13s - loss: 0.43 - ETA: 13s - loss: 0.43 - ETA: 13s - loss: 0.43 - ETA: 13s - loss: 0.43 - ETA: 13s - loss: 0.43 - ETA: 13s - loss: 0.43 - ETA: 13s - loss: 0.43 - ETA: 13s - loss: 0.43 - ETA: 13s - loss: 0.43 - ETA: 13s - loss: 0.43 - ETA: 13s - loss: 0.43 - ETA: 13s - loss: 0.43 - ETA: 13s - loss: 0.43 - ETA: 12s - loss: 0.43 - ETA: 12s - loss: 0.43 - ETA: 12s - loss: 0.43 - ETA: 12s - loss: 0.43 - ETA: 12s - loss: 0.43 - ETA: 12s - loss: 0.43 - ETA: 12s - loss: 0.43 - ETA: 12s - loss: 0.43 - ETA: 12s - loss: 0.43 - ETA: 12s - loss: 0.43 - ETA: 12s - loss: 0.43 - ETA: 12s - loss: 0.43 - ETA: 12s - loss: 0.42 - ETA: 12s - loss: 0.42 - ETA: 11s - loss: 0.42 - ETA: 11s - loss: 0.42 - ETA: 11s - loss: 0.42 - ETA: 11s - loss: 0.42 - ETA: 11s - loss: 0.42 - ETA: 11s - loss: 0.42 - ETA: 11s - loss: 0.42 - ETA: 11s - loss: 0.42 - ETA: 11s - loss: 0.42 - ETA: 11s - loss: 0.42 - ETA: 11s - loss: 0.42 - ETA: 10s - loss: 0.42 - ETA: 10s - loss: 0.42 - ETA: 10s - loss: 0.42 - ETA: 10s - loss: 0.42 - ETA: 10s - loss: 0.42 - ETA: 10s - loss: 0.42 - ETA: 10s - loss: 0.42 - ETA: 10s - loss: 0.42 - ETA: 10s - loss: 0.42 - ETA: 10s - loss: 0.42 - ETA: 10s - loss: 0.42 - ETA: 10s - loss: 0.42 - ETA: 10s - loss: 0.42 - ETA: 10s - loss: 0.42 - ETA: 10s - loss: 0.42 - ETA: 9s - loss: 0.4287 - ETA: 9s - loss: 0.428 - ETA: 9s - loss: 0.428 - ETA: 9s - loss: 0.428 - ETA: 9s - loss: 0.428 - ETA: 9s - loss: 0.428 - ETA: 9s - loss: 0.428 - ETA: 9s - loss: 0.428 - ETA: 9s - loss: 0.428 - ETA: 9s - loss: 0.428 - ETA: 9s - loss: 0.428 - ETA: 9s - loss: 0.428 - ETA: 9s - loss: 0.427 - ETA: 9s - loss: 0.427 - ETA: 8s - loss: 0.427 - ETA: 8s - loss: 0.427 - ETA: 8s - loss: 0.427 - ETA: 8s - loss: 0.427 - ETA: 8s - loss: 0.427 - ETA: 8s - loss: 0.427 - ETA: 8s - loss: 0.427 - ETA: 8s - loss: 0.427 - ETA: 8s - loss: 0.427 - ETA: 8s - loss: 0.427 - ETA: 8s - loss: 0.427 - ETA: 8s - loss: 0.427 - ETA: 8s - loss: 0.427 - ETA: 8s - loss: 0.428 - ETA: 8s - loss: 0.427 - ETA: 8s - loss: 0.427 - ETA: 8s - loss: 0.427 - ETA: 7s - loss: 0.427 - ETA: 7s - loss: 0.427 - ETA: 7s - loss: 0.427 - ETA: 7s - loss: 0.427 - ETA: 7s - loss: 0.427 - ETA: 7s - loss: 0.427 - ETA: 7s - loss: 0.427 - ETA: 7s - loss: 0.426 - ETA: 7s - loss: 0.426 - ETA: 7s - loss: 0.426 - ETA: 7s - loss: 0.426 - ETA: 7s - loss: 0.426 - ETA: 7s - loss: 0.426 - ETA: 6s - loss: 0.426 - ETA: 6s - loss: 0.426 - ETA: 6s - loss: 0.426 - ETA: 6s - loss: 0.426 - ETA: 6s - loss: 0.426 - ETA: 6s - loss: 0.426 - ETA: 6s - loss: 0.426 - ETA: 6s - loss: 0.426 - ETA: 6s - loss: 0.426 - ETA: 6s - loss: 0.426 - ETA: 6s - loss: 0.426 - ETA: 6s - loss: 0.427 - ETA: 6s - loss: 0.427 - ETA: 6s - loss: 0.427 - ETA: 5s - loss: 0.426 - ETA: 5s - loss: 0.426 - ETA: 5s - loss: 0.426 - ETA: 5s - loss: 0.426 - ETA: 5s - loss: 0.426 - ETA: 5s - loss: 0.426 - ETA: 5s - loss: 0.426 - ETA: 5s - loss: 0.426 - ETA: 5s - loss: 0.426 - ETA: 5s - loss: 0.426 - ETA: 5s - loss: 0.426 - ETA: 5s - loss: 0.426 - ETA: 5s - loss: 0.426 - ETA: 5s - loss: 0.426 - ETA: 5s - loss: 0.426 - ETA: 5s - loss: 0.426 - ETA: 4s - loss: 0.426 - ETA: 4s - loss: 0.426 - ETA: 4s - loss: 0.426 - ETA: 4s - loss: 0.426 - ETA: 4s - loss: 0.426 - ETA: 4s - loss: 0.426 - ETA: 4s - loss: 0.425 - ETA: 4s - loss: 0.425 - ETA: 4s - loss: 0.426 - ETA: 4s - loss: 0.426 - ETA: 4s - loss: 0.425 - ETA: 4s - loss: 0.426 - ETA: 4s - loss: 0.426 - ETA: 3s - loss: 0.426 - ETA: 3s - loss: 0.426 - ETA: 3s - loss: 0.426 - ETA: 3s - loss: 0.426 - ETA: 3s - loss: 0.426 - ETA: 3s - loss: 0.426 - ETA: 3s - loss: 0.426 - ETA: 3s - loss: 0.426 - ETA: 3s - loss: 0.426 - ETA: 3s - loss: 0.426 - ETA: 3s - loss: 0.426 - ETA: 3s - loss: 0.426 - ETA: 3s - loss: 0.426 - ETA: 3s - loss: 0.426 - ETA: 3s - loss: 0.426 - ETA: 2s - loss: 0.426 - ETA: 2s - loss: 0.426 - ETA: 2s - loss: 0.426 - ETA: 2s - loss: 0.426 - ETA: 2s - loss: 0.426 - ETA: 2s - loss: 0.426 - ETA: 2s - loss: 0.426 - ETA: 2s - loss: 0.426 - ETA: 2s - loss: 0.426 - ETA: 2s - loss: 0.426 - ETA: 2s - loss: 0.426 - ETA: 2s - loss: 0.426 - ETA: 2s - loss: 0.426 - ETA: 2s - loss: 0.426 - ETA: 1s - loss: 0.426 - ETA: 1s - loss: 0.427 - ETA: 1s - loss: 0.427 - ETA: 1s - loss: 0.427 - ETA: 1s - loss: 0.427 - ETA: 1s - loss: 0.427 - ETA: 1s - loss: 0.427 - ETA: 1s - loss: 0.427 - ETA: 1s - loss: 0.427 - ETA: 1s - loss: 0.427 - ETA: 1s - loss: 0.4271"
     ]
    },
    {
     "name": "stdout",
     "output_type": "stream",
     "text": [
      "55381/55381 [==============================] - ETA: 1s - loss: 0.427 - ETA: 1s - loss: 0.426 - ETA: 1s - loss: 0.426 - ETA: 1s - loss: 0.426 - ETA: 1s - loss: 0.426 - ETA: 0s - loss: 0.427 - ETA: 0s - loss: 0.427 - ETA: 0s - loss: 0.427 - ETA: 0s - loss: 0.427 - ETA: 0s - loss: 0.427 - ETA: 0s - loss: 0.427 - ETA: 0s - loss: 0.427 - ETA: 0s - loss: 0.427 - ETA: 0s - loss: 0.426 - ETA: 0s - loss: 0.427 - ETA: 0s - loss: 0.427 - ETA: 0s - loss: 0.427 - ETA: 0s - loss: 0.427 - 22s 400us/step - loss: 0.4271 - val_loss: 0.4038\n",
      "Epoch 13/50\n",
      "53312/55381 [===========================>..] - ETA: 13s - loss: 0.38 - ETA: 20s - loss: 0.42 - ETA: 24s - loss: 0.43 - ETA: 21s - loss: 0.41 - ETA: 18s - loss: 0.41 - ETA: 19s - loss: 0.41 - ETA: 17s - loss: 0.41 - ETA: 18s - loss: 0.41 - ETA: 17s - loss: 0.41 - ETA: 18s - loss: 0.41 - ETA: 18s - loss: 0.41 - ETA: 18s - loss: 0.42 - ETA: 18s - loss: 0.42 - ETA: 19s - loss: 0.42 - ETA: 19s - loss: 0.42 - ETA: 19s - loss: 0.42 - ETA: 19s - loss: 0.43 - ETA: 19s - loss: 0.43 - ETA: 20s - loss: 0.43 - ETA: 20s - loss: 0.43 - ETA: 19s - loss: 0.43 - ETA: 20s - loss: 0.43 - ETA: 19s - loss: 0.42 - ETA: 19s - loss: 0.42 - ETA: 20s - loss: 0.42 - ETA: 20s - loss: 0.42 - ETA: 20s - loss: 0.42 - ETA: 20s - loss: 0.43 - ETA: 20s - loss: 0.42 - ETA: 21s - loss: 0.42 - ETA: 21s - loss: 0.42 - ETA: 20s - loss: 0.42 - ETA: 20s - loss: 0.42 - ETA: 20s - loss: 0.42 - ETA: 21s - loss: 0.42 - ETA: 21s - loss: 0.42 - ETA: 21s - loss: 0.42 - ETA: 21s - loss: 0.42 - ETA: 21s - loss: 0.42 - ETA: 21s - loss: 0.42 - ETA: 21s - loss: 0.42 - ETA: 21s - loss: 0.42 - ETA: 21s - loss: 0.42 - ETA: 21s - loss: 0.42 - ETA: 21s - loss: 0.42 - ETA: 21s - loss: 0.42 - ETA: 21s - loss: 0.42 - ETA: 21s - loss: 0.42 - ETA: 21s - loss: 0.42 - ETA: 21s - loss: 0.42 - ETA: 21s - loss: 0.42 - ETA: 21s - loss: 0.42 - ETA: 20s - loss: 0.42 - ETA: 21s - loss: 0.42 - ETA: 20s - loss: 0.42 - ETA: 20s - loss: 0.42 - ETA: 20s - loss: 0.42 - ETA: 20s - loss: 0.42 - ETA: 21s - loss: 0.42 - ETA: 21s - loss: 0.42 - ETA: 21s - loss: 0.42 - ETA: 21s - loss: 0.42 - ETA: 21s - loss: 0.42 - ETA: 21s - loss: 0.42 - ETA: 21s - loss: 0.42 - ETA: 21s - loss: 0.42 - ETA: 21s - loss: 0.42 - ETA: 21s - loss: 0.42 - ETA: 21s - loss: 0.42 - ETA: 21s - loss: 0.42 - ETA: 21s - loss: 0.42 - ETA: 21s - loss: 0.42 - ETA: 20s - loss: 0.42 - ETA: 20s - loss: 0.41 - ETA: 20s - loss: 0.41 - ETA: 20s - loss: 0.41 - ETA: 20s - loss: 0.41 - ETA: 20s - loss: 0.41 - ETA: 20s - loss: 0.41 - ETA: 20s - loss: 0.41 - ETA: 20s - loss: 0.41 - ETA: 20s - loss: 0.41 - ETA: 20s - loss: 0.41 - ETA: 20s - loss: 0.41 - ETA: 19s - loss: 0.42 - ETA: 19s - loss: 0.42 - ETA: 19s - loss: 0.42 - ETA: 19s - loss: 0.42 - ETA: 19s - loss: 0.42 - ETA: 19s - loss: 0.42 - ETA: 19s - loss: 0.42 - ETA: 19s - loss: 0.42 - ETA: 19s - loss: 0.42 - ETA: 18s - loss: 0.42 - ETA: 18s - loss: 0.42 - ETA: 18s - loss: 0.42 - ETA: 18s - loss: 0.42 - ETA: 18s - loss: 0.42 - ETA: 18s - loss: 0.42 - ETA: 18s - loss: 0.42 - ETA: 19s - loss: 0.42 - ETA: 18s - loss: 0.42 - ETA: 18s - loss: 0.42 - ETA: 18s - loss: 0.42 - ETA: 18s - loss: 0.42 - ETA: 18s - loss: 0.42 - ETA: 18s - loss: 0.42 - ETA: 18s - loss: 0.41 - ETA: 18s - loss: 0.42 - ETA: 18s - loss: 0.42 - ETA: 18s - loss: 0.42 - ETA: 18s - loss: 0.42 - ETA: 17s - loss: 0.42 - ETA: 17s - loss: 0.41 - ETA: 17s - loss: 0.42 - ETA: 17s - loss: 0.41 - ETA: 17s - loss: 0.41 - ETA: 17s - loss: 0.41 - ETA: 17s - loss: 0.41 - ETA: 17s - loss: 0.41 - ETA: 17s - loss: 0.41 - ETA: 17s - loss: 0.41 - ETA: 17s - loss: 0.41 - ETA: 17s - loss: 0.41 - ETA: 17s - loss: 0.41 - ETA: 16s - loss: 0.42 - ETA: 16s - loss: 0.42 - ETA: 16s - loss: 0.42 - ETA: 16s - loss: 0.42 - ETA: 16s - loss: 0.41 - ETA: 16s - loss: 0.41 - ETA: 16s - loss: 0.42 - ETA: 16s - loss: 0.42 - ETA: 16s - loss: 0.42 - ETA: 15s - loss: 0.42 - ETA: 15s - loss: 0.42 - ETA: 15s - loss: 0.42 - ETA: 15s - loss: 0.42 - ETA: 15s - loss: 0.42 - ETA: 15s - loss: 0.42 - ETA: 15s - loss: 0.42 - ETA: 15s - loss: 0.42 - ETA: 15s - loss: 0.42 - ETA: 15s - loss: 0.42 - ETA: 15s - loss: 0.42 - ETA: 15s - loss: 0.42 - ETA: 15s - loss: 0.42 - ETA: 15s - loss: 0.42 - ETA: 15s - loss: 0.42 - ETA: 15s - loss: 0.42 - ETA: 14s - loss: 0.42 - ETA: 14s - loss: 0.42 - ETA: 14s - loss: 0.42 - ETA: 14s - loss: 0.42 - ETA: 14s - loss: 0.42 - ETA: 14s - loss: 0.42 - ETA: 14s - loss: 0.42 - ETA: 14s - loss: 0.42 - ETA: 14s - loss: 0.42 - ETA: 14s - loss: 0.42 - ETA: 13s - loss: 0.42 - ETA: 13s - loss: 0.42 - ETA: 13s - loss: 0.42 - ETA: 13s - loss: 0.42 - ETA: 13s - loss: 0.42 - ETA: 13s - loss: 0.42 - ETA: 13s - loss: 0.42 - ETA: 13s - loss: 0.42 - ETA: 13s - loss: 0.42 - ETA: 13s - loss: 0.42 - ETA: 13s - loss: 0.42 - ETA: 13s - loss: 0.42 - ETA: 13s - loss: 0.42 - ETA: 12s - loss: 0.42 - ETA: 12s - loss: 0.42 - ETA: 12s - loss: 0.42 - ETA: 12s - loss: 0.42 - ETA: 12s - loss: 0.42 - ETA: 12s - loss: 0.42 - ETA: 12s - loss: 0.42 - ETA: 12s - loss: 0.42 - ETA: 12s - loss: 0.42 - ETA: 12s - loss: 0.42 - ETA: 12s - loss: 0.42 - ETA: 12s - loss: 0.42 - ETA: 12s - loss: 0.42 - ETA: 12s - loss: 0.42 - ETA: 12s - loss: 0.42 - ETA: 11s - loss: 0.42 - ETA: 11s - loss: 0.42 - ETA: 11s - loss: 0.42 - ETA: 11s - loss: 0.42 - ETA: 11s - loss: 0.42 - ETA: 11s - loss: 0.42 - ETA: 11s - loss: 0.42 - ETA: 11s - loss: 0.42 - ETA: 11s - loss: 0.42 - ETA: 11s - loss: 0.42 - ETA: 11s - loss: 0.42 - ETA: 11s - loss: 0.42 - ETA: 11s - loss: 0.42 - ETA: 11s - loss: 0.42 - ETA: 11s - loss: 0.42 - ETA: 11s - loss: 0.42 - ETA: 10s - loss: 0.42 - ETA: 10s - loss: 0.42 - ETA: 10s - loss: 0.42 - ETA: 10s - loss: 0.42 - ETA: 10s - loss: 0.42 - ETA: 10s - loss: 0.42 - ETA: 10s - loss: 0.42 - ETA: 10s - loss: 0.42 - ETA: 10s - loss: 0.42 - ETA: 10s - loss: 0.42 - ETA: 10s - loss: 0.42 - ETA: 10s - loss: 0.42 - ETA: 9s - loss: 0.4239 - ETA: 9s - loss: 0.423 - ETA: 9s - loss: 0.424 - ETA: 9s - loss: 0.424 - ETA: 9s - loss: 0.424 - ETA: 9s - loss: 0.423 - ETA: 9s - loss: 0.423 - ETA: 9s - loss: 0.423 - ETA: 9s - loss: 0.423 - ETA: 9s - loss: 0.423 - ETA: 9s - loss: 0.423 - ETA: 8s - loss: 0.424 - ETA: 8s - loss: 0.424 - ETA: 8s - loss: 0.424 - ETA: 8s - loss: 0.424 - ETA: 8s - loss: 0.424 - ETA: 8s - loss: 0.424 - ETA: 8s - loss: 0.424 - ETA: 8s - loss: 0.424 - ETA: 8s - loss: 0.423 - ETA: 8s - loss: 0.423 - ETA: 8s - loss: 0.424 - ETA: 8s - loss: 0.423 - ETA: 7s - loss: 0.424 - ETA: 7s - loss: 0.424 - ETA: 7s - loss: 0.424 - ETA: 7s - loss: 0.424 - ETA: 7s - loss: 0.424 - ETA: 7s - loss: 0.424 - ETA: 7s - loss: 0.424 - ETA: 7s - loss: 0.424 - ETA: 7s - loss: 0.424 - ETA: 7s - loss: 0.424 - ETA: 7s - loss: 0.424 - ETA: 7s - loss: 0.424 - ETA: 7s - loss: 0.424 - ETA: 6s - loss: 0.424 - ETA: 6s - loss: 0.424 - ETA: 6s - loss: 0.424 - ETA: 6s - loss: 0.424 - ETA: 6s - loss: 0.424 - ETA: 6s - loss: 0.424 - ETA: 6s - loss: 0.424 - ETA: 6s - loss: 0.424 - ETA: 6s - loss: 0.424 - ETA: 6s - loss: 0.424 - ETA: 6s - loss: 0.424 - ETA: 6s - loss: 0.424 - ETA: 6s - loss: 0.424 - ETA: 5s - loss: 0.424 - ETA: 5s - loss: 0.423 - ETA: 5s - loss: 0.424 - ETA: 5s - loss: 0.424 - ETA: 5s - loss: 0.424 - ETA: 5s - loss: 0.424 - ETA: 5s - loss: 0.424 - ETA: 5s - loss: 0.424 - ETA: 5s - loss: 0.424 - ETA: 5s - loss: 0.424 - ETA: 5s - loss: 0.424 - ETA: 5s - loss: 0.424 - ETA: 5s - loss: 0.424 - ETA: 5s - loss: 0.424 - ETA: 4s - loss: 0.424 - ETA: 4s - loss: 0.424 - ETA: 4s - loss: 0.424 - ETA: 4s - loss: 0.424 - ETA: 4s - loss: 0.424 - ETA: 4s - loss: 0.424 - ETA: 4s - loss: 0.424 - ETA: 4s - loss: 0.424 - ETA: 4s - loss: 0.424 - ETA: 4s - loss: 0.424 - ETA: 4s - loss: 0.424 - ETA: 4s - loss: 0.424 - ETA: 4s - loss: 0.424 - ETA: 4s - loss: 0.424 - ETA: 3s - loss: 0.424 - ETA: 3s - loss: 0.425 - ETA: 3s - loss: 0.425 - ETA: 3s - loss: 0.425 - ETA: 3s - loss: 0.425 - ETA: 3s - loss: 0.425 - ETA: 3s - loss: 0.425 - ETA: 3s - loss: 0.425 - ETA: 3s - loss: 0.425 - ETA: 3s - loss: 0.425 - ETA: 3s - loss: 0.424 - ETA: 3s - loss: 0.424 - ETA: 3s - loss: 0.424 - ETA: 2s - loss: 0.424 - ETA: 2s - loss: 0.424 - ETA: 2s - loss: 0.424 - ETA: 2s - loss: 0.424 - ETA: 2s - loss: 0.424 - ETA: 2s - loss: 0.423 - ETA: 2s - loss: 0.423 - ETA: 2s - loss: 0.423 - ETA: 2s - loss: 0.423 - ETA: 2s - loss: 0.423 - ETA: 2s - loss: 0.423 - ETA: 2s - loss: 0.423 - ETA: 2s - loss: 0.422 - ETA: 2s - loss: 0.423 - ETA: 2s - loss: 0.423 - ETA: 1s - loss: 0.423 - ETA: 1s - loss: 0.423 - ETA: 1s - loss: 0.423 - ETA: 1s - loss: 0.423 - ETA: 1s - loss: 0.423 - ETA: 1s - loss: 0.423 - ETA: 1s - loss: 0.424 - ETA: 1s - loss: 0.423 - ETA: 1s - loss: 0.424 - ETA: 1s - loss: 0.424 - ETA: 1s - loss: 0.424 - ETA: 1s - loss: 0.423 - ETA: 1s - loss: 0.423 - ETA: 1s - loss: 0.423 - ETA: 1s - loss: 0.424 - ETA: 0s - loss: 0.424 - ETA: 0s - loss: 0.424 - ETA: 0s - loss: 0.424 - ETA: 0s - loss: 0.423955381/55381 [==============================] - ETA: 0s - loss: 0.423 - ETA: 0s - loss: 0.423 - ETA: 0s - loss: 0.423 - ETA: 0s - loss: 0.423 - ETA: 0s - loss: 0.424 - ETA: 0s - loss: 0.424 - ETA: 0s - loss: 0.424 - ETA: 0s - loss: 0.424 - ETA: 0s - loss: 0.424 - ETA: 0s - loss: 0.424 - ETA: 0s - loss: 0.424 - ETA: 0s - loss: 0.424 - ETA: 0s - loss: 0.424 - ETA: 0s - loss: 0.424 - ETA: 0s - loss: 0.424 - ETA: 0s - loss: 0.424 - ETA: 0s - loss: 0.424 - 22s 398us/step - loss: 0.4245 - val_loss: 0.4091\n",
      "Epoch 14/50\n"
     ]
    },
    {
     "name": "stdout",
     "output_type": "stream",
     "text": [
      "51584/55381 [==========================>...] - ETA: 13s - loss: 0.40 - ETA: 25s - loss: 0.39 - ETA: 30s - loss: 0.38 - ETA: 44s - loss: 0.38 - ETA: 40s - loss: 0.38 - ETA: 34s - loss: 0.39 - ETA: 30s - loss: 0.39 - ETA: 31s - loss: 0.39 - ETA: 31s - loss: 0.39 - ETA: 29s - loss: 0.39 - ETA: 28s - loss: 0.38 - ETA: 29s - loss: 0.38 - ETA: 29s - loss: 0.38 - ETA: 28s - loss: 0.38 - ETA: 29s - loss: 0.38 - ETA: 30s - loss: 0.38 - ETA: 29s - loss: 0.38 - ETA: 27s - loss: 0.38 - ETA: 26s - loss: 0.39 - ETA: 26s - loss: 0.39 - ETA: 25s - loss: 0.39 - ETA: 25s - loss: 0.39 - ETA: 26s - loss: 0.39 - ETA: 27s - loss: 0.39 - ETA: 27s - loss: 0.39 - ETA: 27s - loss: 0.39 - ETA: 27s - loss: 0.39 - ETA: 27s - loss: 0.40 - ETA: 26s - loss: 0.40 - ETA: 26s - loss: 0.40 - ETA: 26s - loss: 0.40 - ETA: 26s - loss: 0.40 - ETA: 26s - loss: 0.40 - ETA: 26s - loss: 0.40 - ETA: 26s - loss: 0.40 - ETA: 26s - loss: 0.40 - ETA: 26s - loss: 0.40 - ETA: 26s - loss: 0.40 - ETA: 25s - loss: 0.40 - ETA: 25s - loss: 0.40 - ETA: 25s - loss: 0.40 - ETA: 25s - loss: 0.41 - ETA: 25s - loss: 0.40 - ETA: 25s - loss: 0.40 - ETA: 25s - loss: 0.40 - ETA: 26s - loss: 0.40 - ETA: 25s - loss: 0.40 - ETA: 25s - loss: 0.41 - ETA: 25s - loss: 0.41 - ETA: 25s - loss: 0.41 - ETA: 25s - loss: 0.41 - ETA: 25s - loss: 0.41 - ETA: 25s - loss: 0.41 - ETA: 25s - loss: 0.41 - ETA: 24s - loss: 0.41 - ETA: 24s - loss: 0.41 - ETA: 23s - loss: 0.41 - ETA: 24s - loss: 0.41 - ETA: 24s - loss: 0.41 - ETA: 23s - loss: 0.41 - ETA: 23s - loss: 0.41 - ETA: 23s - loss: 0.41 - ETA: 23s - loss: 0.41 - ETA: 24s - loss: 0.41 - ETA: 24s - loss: 0.41 - ETA: 24s - loss: 0.41 - ETA: 23s - loss: 0.41 - ETA: 24s - loss: 0.41 - ETA: 24s - loss: 0.41 - ETA: 23s - loss: 0.41 - ETA: 23s - loss: 0.41 - ETA: 22s - loss: 0.41 - ETA: 22s - loss: 0.41 - ETA: 22s - loss: 0.41 - ETA: 21s - loss: 0.41 - ETA: 21s - loss: 0.41 - ETA: 21s - loss: 0.41 - ETA: 21s - loss: 0.41 - ETA: 21s - loss: 0.41 - ETA: 21s - loss: 0.42 - ETA: 21s - loss: 0.42 - ETA: 21s - loss: 0.42 - ETA: 21s - loss: 0.41 - ETA: 21s - loss: 0.41 - ETA: 21s - loss: 0.41 - ETA: 21s - loss: 0.42 - ETA: 21s - loss: 0.42 - ETA: 21s - loss: 0.42 - ETA: 21s - loss: 0.42 - ETA: 21s - loss: 0.42 - ETA: 21s - loss: 0.42 - ETA: 21s - loss: 0.42 - ETA: 21s - loss: 0.41 - ETA: 21s - loss: 0.41 - ETA: 21s - loss: 0.41 - ETA: 21s - loss: 0.41 - ETA: 21s - loss: 0.41 - ETA: 21s - loss: 0.41 - ETA: 21s - loss: 0.41 - ETA: 21s - loss: 0.41 - ETA: 21s - loss: 0.41 - ETA: 21s - loss: 0.41 - ETA: 21s - loss: 0.41 - ETA: 21s - loss: 0.41 - ETA: 21s - loss: 0.41 - ETA: 20s - loss: 0.41 - ETA: 20s - loss: 0.41 - ETA: 20s - loss: 0.41 - ETA: 20s - loss: 0.41 - ETA: 20s - loss: 0.41 - ETA: 20s - loss: 0.41 - ETA: 20s - loss: 0.41 - ETA: 20s - loss: 0.41 - ETA: 20s - loss: 0.41 - ETA: 20s - loss: 0.41 - ETA: 19s - loss: 0.41 - ETA: 19s - loss: 0.41 - ETA: 19s - loss: 0.41 - ETA: 19s - loss: 0.41 - ETA: 19s - loss: 0.41 - ETA: 19s - loss: 0.41 - ETA: 19s - loss: 0.41 - ETA: 19s - loss: 0.41 - ETA: 19s - loss: 0.41 - ETA: 19s - loss: 0.41 - ETA: 19s - loss: 0.41 - ETA: 18s - loss: 0.41 - ETA: 18s - loss: 0.41 - ETA: 18s - loss: 0.41 - ETA: 18s - loss: 0.41 - ETA: 18s - loss: 0.42 - ETA: 18s - loss: 0.41 - ETA: 18s - loss: 0.41 - ETA: 18s - loss: 0.41 - ETA: 18s - loss: 0.41 - ETA: 18s - loss: 0.41 - ETA: 17s - loss: 0.41 - ETA: 17s - loss: 0.41 - ETA: 17s - loss: 0.41 - ETA: 17s - loss: 0.41 - ETA: 17s - loss: 0.41 - ETA: 17s - loss: 0.41 - ETA: 17s - loss: 0.41 - ETA: 17s - loss: 0.41 - ETA: 17s - loss: 0.41 - ETA: 17s - loss: 0.41 - ETA: 17s - loss: 0.41 - ETA: 16s - loss: 0.42 - ETA: 16s - loss: 0.41 - ETA: 16s - loss: 0.41 - ETA: 16s - loss: 0.41 - ETA: 16s - loss: 0.41 - ETA: 16s - loss: 0.41 - ETA: 16s - loss: 0.41 - ETA: 16s - loss: 0.42 - ETA: 16s - loss: 0.42 - ETA: 16s - loss: 0.41 - ETA: 15s - loss: 0.42 - ETA: 15s - loss: 0.42 - ETA: 15s - loss: 0.42 - ETA: 15s - loss: 0.42 - ETA: 15s - loss: 0.42 - ETA: 15s - loss: 0.42 - ETA: 15s - loss: 0.42 - ETA: 15s - loss: 0.42 - ETA: 15s - loss: 0.42 - ETA: 15s - loss: 0.41 - ETA: 15s - loss: 0.41 - ETA: 14s - loss: 0.41 - ETA: 14s - loss: 0.41 - ETA: 14s - loss: 0.41 - ETA: 14s - loss: 0.41 - ETA: 14s - loss: 0.41 - ETA: 14s - loss: 0.41 - ETA: 14s - loss: 0.41 - ETA: 14s - loss: 0.41 - ETA: 14s - loss: 0.41 - ETA: 14s - loss: 0.41 - ETA: 13s - loss: 0.41 - ETA: 13s - loss: 0.41 - ETA: 13s - loss: 0.41 - ETA: 13s - loss: 0.41 - ETA: 13s - loss: 0.41 - ETA: 13s - loss: 0.41 - ETA: 13s - loss: 0.41 - ETA: 13s - loss: 0.41 - ETA: 13s - loss: 0.41 - ETA: 13s - loss: 0.41 - ETA: 12s - loss: 0.42 - ETA: 12s - loss: 0.42 - ETA: 12s - loss: 0.42 - ETA: 12s - loss: 0.42 - ETA: 12s - loss: 0.42 - ETA: 12s - loss: 0.42 - ETA: 12s - loss: 0.42 - ETA: 12s - loss: 0.42 - ETA: 12s - loss: 0.42 - ETA: 11s - loss: 0.42 - ETA: 11s - loss: 0.42 - ETA: 11s - loss: 0.42 - ETA: 11s - loss: 0.42 - ETA: 11s - loss: 0.42 - ETA: 11s - loss: 0.42 - ETA: 11s - loss: 0.42 - ETA: 11s - loss: 0.42 - ETA: 11s - loss: 0.42 - ETA: 11s - loss: 0.42 - ETA: 11s - loss: 0.42 - ETA: 11s - loss: 0.42 - ETA: 10s - loss: 0.42 - ETA: 10s - loss: 0.42 - ETA: 10s - loss: 0.42 - ETA: 10s - loss: 0.42 - ETA: 10s - loss: 0.42 - ETA: 10s - loss: 0.42 - ETA: 10s - loss: 0.42 - ETA: 10s - loss: 0.42 - ETA: 10s - loss: 0.41 - ETA: 10s - loss: 0.41 - ETA: 10s - loss: 0.41 - ETA: 9s - loss: 0.4195 - ETA: 9s - loss: 0.419 - ETA: 9s - loss: 0.419 - ETA: 9s - loss: 0.420 - ETA: 9s - loss: 0.420 - ETA: 9s - loss: 0.420 - ETA: 9s - loss: 0.420 - ETA: 9s - loss: 0.420 - ETA: 9s - loss: 0.420 - ETA: 9s - loss: 0.420 - ETA: 9s - loss: 0.420 - ETA: 8s - loss: 0.420 - ETA: 8s - loss: 0.420 - ETA: 8s - loss: 0.421 - ETA: 8s - loss: 0.421 - ETA: 8s - loss: 0.421 - ETA: 8s - loss: 0.421 - ETA: 8s - loss: 0.421 - ETA: 8s - loss: 0.421 - ETA: 8s - loss: 0.421 - ETA: 8s - loss: 0.421 - ETA: 8s - loss: 0.421 - ETA: 8s - loss: 0.422 - ETA: 8s - loss: 0.422 - ETA: 8s - loss: 0.422 - ETA: 7s - loss: 0.422 - ETA: 7s - loss: 0.422 - ETA: 7s - loss: 0.422 - ETA: 7s - loss: 0.422 - ETA: 7s - loss: 0.422 - ETA: 7s - loss: 0.422 - ETA: 7s - loss: 0.422 - ETA: 7s - loss: 0.422 - ETA: 7s - loss: 0.422 - ETA: 7s - loss: 0.422 - ETA: 7s - loss: 0.422 - ETA: 7s - loss: 0.423 - ETA: 7s - loss: 0.423 - ETA: 7s - loss: 0.423 - ETA: 6s - loss: 0.423 - ETA: 6s - loss: 0.423 - ETA: 6s - loss: 0.423 - ETA: 6s - loss: 0.423 - ETA: 6s - loss: 0.423 - ETA: 6s - loss: 0.423 - ETA: 6s - loss: 0.423 - ETA: 6s - loss: 0.423 - ETA: 6s - loss: 0.423 - ETA: 6s - loss: 0.423 - ETA: 6s - loss: 0.423 - ETA: 6s - loss: 0.423 - ETA: 6s - loss: 0.423 - ETA: 5s - loss: 0.423 - ETA: 5s - loss: 0.423 - ETA: 5s - loss: 0.423 - ETA: 5s - loss: 0.423 - ETA: 5s - loss: 0.423 - ETA: 5s - loss: 0.423 - ETA: 5s - loss: 0.424 - ETA: 5s - loss: 0.424 - ETA: 5s - loss: 0.424 - ETA: 5s - loss: 0.424 - ETA: 5s - loss: 0.424 - ETA: 5s - loss: 0.424 - ETA: 5s - loss: 0.424 - ETA: 5s - loss: 0.423 - ETA: 5s - loss: 0.423 - ETA: 5s - loss: 0.423 - ETA: 4s - loss: 0.423 - ETA: 4s - loss: 0.423 - ETA: 4s - loss: 0.423 - ETA: 4s - loss: 0.423 - ETA: 4s - loss: 0.423 - ETA: 4s - loss: 0.423 - ETA: 4s - loss: 0.423 - ETA: 4s - loss: 0.423 - ETA: 4s - loss: 0.423 - ETA: 4s - loss: 0.423 - ETA: 4s - loss: 0.423 - ETA: 4s - loss: 0.423 - ETA: 4s - loss: 0.423 - ETA: 4s - loss: 0.423 - ETA: 4s - loss: 0.423 - ETA: 3s - loss: 0.423 - ETA: 3s - loss: 0.423 - ETA: 3s - loss: 0.423 - ETA: 3s - loss: 0.423 - ETA: 3s - loss: 0.423 - ETA: 3s - loss: 0.423 - ETA: 3s - loss: 0.423 - ETA: 3s - loss: 0.423 - ETA: 3s - loss: 0.423 - ETA: 3s - loss: 0.423 - ETA: 3s - loss: 0.423 - ETA: 3s - loss: 0.423 - ETA: 3s - loss: 0.423 - ETA: 3s - loss: 0.424 - ETA: 2s - loss: 0.424 - ETA: 2s - loss: 0.424 - ETA: 2s - loss: 0.424 - ETA: 2s - loss: 0.423 - ETA: 2s - loss: 0.423 - ETA: 2s - loss: 0.423 - ETA: 2s - loss: 0.423 - ETA: 2s - loss: 0.423 - ETA: 2s - loss: 0.423 - ETA: 2s - loss: 0.423 - ETA: 2s - loss: 0.423 - ETA: 2s - loss: 0.423 - ETA: 2s - loss: 0.423 - ETA: 2s - loss: 0.423 - ETA: 2s - loss: 0.423 - ETA: 2s - loss: 0.423 - ETA: 1s - loss: 0.422 - ETA: 1s - loss: 0.422 - ETA: 1s - loss: 0.422 - ETA: 1s - loss: 0.422 - ETA: 1s - loss: 0.422 - ETA: 1s - loss: 0.422 - ETA: 1s - loss: 0.4222"
     ]
    },
    {
     "name": "stdout",
     "output_type": "stream",
     "text": [
      "55381/55381 [==============================] - ETA: 1s - loss: 0.422 - ETA: 1s - loss: 0.422 - ETA: 1s - loss: 0.422 - ETA: 1s - loss: 0.422 - ETA: 1s - loss: 0.422 - ETA: 1s - loss: 0.422 - ETA: 1s - loss: 0.422 - ETA: 1s - loss: 0.422 - ETA: 1s - loss: 0.422 - ETA: 1s - loss: 0.422 - ETA: 0s - loss: 0.422 - ETA: 0s - loss: 0.422 - ETA: 0s - loss: 0.422 - ETA: 0s - loss: 0.422 - ETA: 0s - loss: 0.422 - ETA: 0s - loss: 0.422 - ETA: 0s - loss: 0.422 - ETA: 0s - loss: 0.422 - ETA: 0s - loss: 0.422 - ETA: 0s - loss: 0.422 - ETA: 0s - loss: 0.422 - ETA: 0s - loss: 0.422 - ETA: 0s - loss: 0.422 - ETA: 0s - loss: 0.422 - ETA: 0s - loss: 0.422 - ETA: 0s - loss: 0.422 - ETA: 0s - loss: 0.422 - 24s 428us/step - loss: 0.4225 - val_loss: 0.4107\n",
      "Epoch 15/50\n",
      "47680/55381 [========================>.....] - ETA: 13s - loss: 0.40 - ETA: 17s - loss: 0.40 - ETA: 20s - loss: 0.39 - ETA: 22s - loss: 0.38 - ETA: 24s - loss: 0.37 - ETA: 26s - loss: 0.38 - ETA: 31s - loss: 0.39 - ETA: 31s - loss: 0.39 - ETA: 35s - loss: 0.40 - ETA: 31s - loss: 0.40 - ETA: 32s - loss: 0.39 - ETA: 31s - loss: 0.40 - ETA: 31s - loss: 0.40 - ETA: 32s - loss: 0.40 - ETA: 31s - loss: 0.39 - ETA: 32s - loss: 0.39 - ETA: 33s - loss: 0.40 - ETA: 34s - loss: 0.40 - ETA: 33s - loss: 0.40 - ETA: 34s - loss: 0.40 - ETA: 35s - loss: 0.40 - ETA: 34s - loss: 0.40 - ETA: 32s - loss: 0.40 - ETA: 32s - loss: 0.40 - ETA: 31s - loss: 0.40 - ETA: 30s - loss: 0.40 - ETA: 30s - loss: 0.40 - ETA: 29s - loss: 0.40 - ETA: 29s - loss: 0.40 - ETA: 28s - loss: 0.40 - ETA: 29s - loss: 0.40 - ETA: 29s - loss: 0.40 - ETA: 28s - loss: 0.40 - ETA: 28s - loss: 0.40 - ETA: 28s - loss: 0.40 - ETA: 28s - loss: 0.40 - ETA: 28s - loss: 0.40 - ETA: 28s - loss: 0.40 - ETA: 27s - loss: 0.40 - ETA: 27s - loss: 0.40 - ETA: 26s - loss: 0.40 - ETA: 26s - loss: 0.40 - ETA: 25s - loss: 0.40 - ETA: 25s - loss: 0.40 - ETA: 25s - loss: 0.40 - ETA: 25s - loss: 0.40 - ETA: 24s - loss: 0.40 - ETA: 24s - loss: 0.40 - ETA: 24s - loss: 0.40 - ETA: 24s - loss: 0.40 - ETA: 24s - loss: 0.41 - ETA: 24s - loss: 0.41 - ETA: 23s - loss: 0.41 - ETA: 24s - loss: 0.41 - ETA: 24s - loss: 0.41 - ETA: 24s - loss: 0.41 - ETA: 24s - loss: 0.41 - ETA: 23s - loss: 0.41 - ETA: 24s - loss: 0.41 - ETA: 24s - loss: 0.41 - ETA: 23s - loss: 0.41 - ETA: 23s - loss: 0.41 - ETA: 23s - loss: 0.41 - ETA: 23s - loss: 0.41 - ETA: 23s - loss: 0.41 - ETA: 23s - loss: 0.41 - ETA: 23s - loss: 0.41 - ETA: 22s - loss: 0.41 - ETA: 22s - loss: 0.41 - ETA: 22s - loss: 0.41 - ETA: 22s - loss: 0.41 - ETA: 22s - loss: 0.41 - ETA: 22s - loss: 0.41 - ETA: 22s - loss: 0.41 - ETA: 22s - loss: 0.41 - ETA: 22s - loss: 0.41 - ETA: 22s - loss: 0.41 - ETA: 22s - loss: 0.41 - ETA: 22s - loss: 0.41 - ETA: 22s - loss: 0.41 - ETA: 22s - loss: 0.41 - ETA: 22s - loss: 0.41 - ETA: 22s - loss: 0.41 - ETA: 22s - loss: 0.41 - ETA: 22s - loss: 0.41 - ETA: 22s - loss: 0.41 - ETA: 22s - loss: 0.41 - ETA: 21s - loss: 0.41 - ETA: 21s - loss: 0.41 - ETA: 21s - loss: 0.41 - ETA: 21s - loss: 0.41 - ETA: 21s - loss: 0.41 - ETA: 21s - loss: 0.41 - ETA: 21s - loss: 0.41 - ETA: 20s - loss: 0.41 - ETA: 20s - loss: 0.41 - ETA: 20s - loss: 0.41 - ETA: 20s - loss: 0.41 - ETA: 20s - loss: 0.41 - ETA: 20s - loss: 0.41 - ETA: 20s - loss: 0.41 - ETA: 20s - loss: 0.41 - ETA: 20s - loss: 0.41 - ETA: 20s - loss: 0.41 - ETA: 19s - loss: 0.41 - ETA: 19s - loss: 0.41 - ETA: 19s - loss: 0.41 - ETA: 19s - loss: 0.41 - ETA: 19s - loss: 0.41 - ETA: 19s - loss: 0.41 - ETA: 19s - loss: 0.41 - ETA: 19s - loss: 0.41 - ETA: 19s - loss: 0.41 - ETA: 19s - loss: 0.41 - ETA: 19s - loss: 0.41 - ETA: 19s - loss: 0.41 - ETA: 19s - loss: 0.41 - ETA: 19s - loss: 0.41 - ETA: 19s - loss: 0.41 - ETA: 18s - loss: 0.41 - ETA: 18s - loss: 0.41 - ETA: 18s - loss: 0.41 - ETA: 18s - loss: 0.41 - ETA: 18s - loss: 0.41 - ETA: 18s - loss: 0.41 - ETA: 18s - loss: 0.41 - ETA: 18s - loss: 0.41 - ETA: 18s - loss: 0.41 - ETA: 18s - loss: 0.41 - ETA: 18s - loss: 0.41 - ETA: 18s - loss: 0.41 - ETA: 18s - loss: 0.41 - ETA: 18s - loss: 0.41 - ETA: 17s - loss: 0.41 - ETA: 17s - loss: 0.41 - ETA: 17s - loss: 0.41 - ETA: 17s - loss: 0.41 - ETA: 17s - loss: 0.41 - ETA: 17s - loss: 0.41 - ETA: 17s - loss: 0.41 - ETA: 17s - loss: 0.41 - ETA: 17s - loss: 0.41 - ETA: 17s - loss: 0.41 - ETA: 17s - loss: 0.41 - ETA: 17s - loss: 0.41 - ETA: 17s - loss: 0.41 - ETA: 17s - loss: 0.41 - ETA: 16s - loss: 0.41 - ETA: 16s - loss: 0.41 - ETA: 16s - loss: 0.41 - ETA: 16s - loss: 0.41 - ETA: 16s - loss: 0.41 - ETA: 16s - loss: 0.41 - ETA: 16s - loss: 0.41 - ETA: 16s - loss: 0.41 - ETA: 16s - loss: 0.41 - ETA: 16s - loss: 0.41 - ETA: 16s - loss: 0.41 - ETA: 16s - loss: 0.41 - ETA: 16s - loss: 0.41 - ETA: 16s - loss: 0.41 - ETA: 16s - loss: 0.41 - ETA: 15s - loss: 0.41 - ETA: 15s - loss: 0.41 - ETA: 15s - loss: 0.41 - ETA: 15s - loss: 0.41 - ETA: 15s - loss: 0.41 - ETA: 15s - loss: 0.41 - ETA: 15s - loss: 0.41 - ETA: 15s - loss: 0.41 - ETA: 15s - loss: 0.41 - ETA: 15s - loss: 0.41 - ETA: 15s - loss: 0.41 - ETA: 15s - loss: 0.41 - ETA: 15s - loss: 0.41 - ETA: 15s - loss: 0.41 - ETA: 14s - loss: 0.41 - ETA: 15s - loss: 0.41 - ETA: 15s - loss: 0.41 - ETA: 14s - loss: 0.41 - ETA: 14s - loss: 0.41 - ETA: 14s - loss: 0.41 - ETA: 14s - loss: 0.41 - ETA: 14s - loss: 0.41 - ETA: 14s - loss: 0.41 - ETA: 14s - loss: 0.41 - ETA: 14s - loss: 0.41 - ETA: 14s - loss: 0.41 - ETA: 14s - loss: 0.41 - ETA: 14s - loss: 0.41 - ETA: 14s - loss: 0.41 - ETA: 14s - loss: 0.41 - ETA: 14s - loss: 0.41 - ETA: 13s - loss: 0.41 - ETA: 13s - loss: 0.41 - ETA: 13s - loss: 0.41 - ETA: 13s - loss: 0.41 - ETA: 13s - loss: 0.41 - ETA: 13s - loss: 0.41 - ETA: 13s - loss: 0.41 - ETA: 13s - loss: 0.41 - ETA: 13s - loss: 0.41 - ETA: 13s - loss: 0.41 - ETA: 13s - loss: 0.41 - ETA: 13s - loss: 0.41 - ETA: 13s - loss: 0.41 - ETA: 12s - loss: 0.41 - ETA: 12s - loss: 0.41 - ETA: 12s - loss: 0.41 - ETA: 12s - loss: 0.41 - ETA: 12s - loss: 0.41 - ETA: 12s - loss: 0.41 - ETA: 12s - loss: 0.41 - ETA: 12s - loss: 0.41 - ETA: 12s - loss: 0.41 - ETA: 12s - loss: 0.41 - ETA: 12s - loss: 0.41 - ETA: 12s - loss: 0.41 - ETA: 12s - loss: 0.41 - ETA: 12s - loss: 0.41 - ETA: 11s - loss: 0.41 - ETA: 11s - loss: 0.41 - ETA: 11s - loss: 0.41 - ETA: 11s - loss: 0.41 - ETA: 11s - loss: 0.41 - ETA: 11s - loss: 0.41 - ETA: 11s - loss: 0.41 - ETA: 11s - loss: 0.41 - ETA: 11s - loss: 0.41 - ETA: 11s - loss: 0.41 - ETA: 10s - loss: 0.41 - ETA: 10s - loss: 0.41 - ETA: 10s - loss: 0.41 - ETA: 10s - loss: 0.41 - ETA: 10s - loss: 0.41 - ETA: 10s - loss: 0.41 - ETA: 10s - loss: 0.41 - ETA: 10s - loss: 0.41 - ETA: 10s - loss: 0.41 - ETA: 10s - loss: 0.41 - ETA: 10s - loss: 0.41 - ETA: 9s - loss: 0.4182 - ETA: 9s - loss: 0.418 - ETA: 9s - loss: 0.418 - ETA: 9s - loss: 0.418 - ETA: 9s - loss: 0.418 - ETA: 9s - loss: 0.418 - ETA: 9s - loss: 0.418 - ETA: 9s - loss: 0.417 - ETA: 9s - loss: 0.417 - ETA: 9s - loss: 0.418 - ETA: 9s - loss: 0.418 - ETA: 9s - loss: 0.418 - ETA: 9s - loss: 0.417 - ETA: 9s - loss: 0.418 - ETA: 8s - loss: 0.417 - ETA: 8s - loss: 0.417 - ETA: 8s - loss: 0.417 - ETA: 8s - loss: 0.417 - ETA: 8s - loss: 0.417 - ETA: 8s - loss: 0.417 - ETA: 8s - loss: 0.417 - ETA: 8s - loss: 0.417 - ETA: 8s - loss: 0.417 - ETA: 8s - loss: 0.417 - ETA: 8s - loss: 0.417 - ETA: 8s - loss: 0.416 - ETA: 8s - loss: 0.417 - ETA: 8s - loss: 0.416 - ETA: 7s - loss: 0.416 - ETA: 7s - loss: 0.417 - ETA: 7s - loss: 0.417 - ETA: 7s - loss: 0.417 - ETA: 7s - loss: 0.416 - ETA: 7s - loss: 0.416 - ETA: 7s - loss: 0.417 - ETA: 7s - loss: 0.416 - ETA: 7s - loss: 0.417 - ETA: 7s - loss: 0.417 - ETA: 7s - loss: 0.417 - ETA: 7s - loss: 0.416 - ETA: 7s - loss: 0.416 - ETA: 7s - loss: 0.416 - ETA: 7s - loss: 0.416 - ETA: 7s - loss: 0.416 - ETA: 6s - loss: 0.416 - ETA: 6s - loss: 0.415 - ETA: 6s - loss: 0.415 - ETA: 6s - loss: 0.415 - ETA: 6s - loss: 0.415 - ETA: 6s - loss: 0.415 - ETA: 6s - loss: 0.415 - ETA: 6s - loss: 0.415 - ETA: 6s - loss: 0.415 - ETA: 6s - loss: 0.415 - ETA: 6s - loss: 0.415 - ETA: 6s - loss: 0.415 - ETA: 6s - loss: 0.415 - ETA: 6s - loss: 0.415 - ETA: 5s - loss: 0.415 - ETA: 5s - loss: 0.415 - ETA: 5s - loss: 0.415 - ETA: 5s - loss: 0.415 - ETA: 5s - loss: 0.415 - ETA: 5s - loss: 0.415 - ETA: 5s - loss: 0.415 - ETA: 5s - loss: 0.415 - ETA: 5s - loss: 0.415 - ETA: 5s - loss: 0.415 - ETA: 5s - loss: 0.415 - ETA: 5s - loss: 0.415 - ETA: 5s - loss: 0.415 - ETA: 5s - loss: 0.415 - ETA: 5s - loss: 0.415 - ETA: 5s - loss: 0.415 - ETA: 4s - loss: 0.415 - ETA: 4s - loss: 0.415 - ETA: 4s - loss: 0.415 - ETA: 4s - loss: 0.415 - ETA: 4s - loss: 0.416 - ETA: 4s - loss: 0.415 - ETA: 4s - loss: 0.415 - ETA: 4s - loss: 0.415 - ETA: 4s - loss: 0.415 - ETA: 4s - loss: 0.415 - ETA: 4s - loss: 0.415 - ETA: 4s - loss: 0.415 - ETA: 4s - loss: 0.415 - ETA: 4s - loss: 0.415 - ETA: 3s - loss: 0.416 - ETA: 3s - loss: 0.415 - ETA: 3s - loss: 0.415 - ETA: 3s - loss: 0.415 - ETA: 3s - loss: 0.416 - ETA: 3s - loss: 0.415 - ETA: 3s - loss: 0.416 - ETA: 3s - loss: 0.416 - ETA: 3s - loss: 0.416 - ETA: 3s - loss: 0.416 - ETA: 3s - loss: 0.416155381/55381 [==============================] - ETA: 3s - loss: 0.416 - ETA: 3s - loss: 0.416 - ETA: 3s - loss: 0.416 - ETA: 3s - loss: 0.416 - ETA: 3s - loss: 0.416 - ETA: 3s - loss: 0.416 - ETA: 2s - loss: 0.416 - ETA: 2s - loss: 0.416 - ETA: 2s - loss: 0.416 - ETA: 2s - loss: 0.416 - ETA: 2s - loss: 0.417 - ETA: 2s - loss: 0.417 - ETA: 2s - loss: 0.417 - ETA: 2s - loss: 0.417 - ETA: 2s - loss: 0.417 - ETA: 2s - loss: 0.417 - ETA: 2s - loss: 0.417 - ETA: 2s - loss: 0.417 - ETA: 2s - loss: 0.417 - ETA: 2s - loss: 0.417 - ETA: 2s - loss: 0.417 - ETA: 2s - loss: 0.417 - ETA: 1s - loss: 0.417 - ETA: 1s - loss: 0.417 - ETA: 1s - loss: 0.417 - ETA: 1s - loss: 0.417 - ETA: 1s - loss: 0.417 - ETA: 1s - loss: 0.417 - ETA: 1s - loss: 0.417 - ETA: 1s - loss: 0.417 - ETA: 1s - loss: 0.417 - ETA: 1s - loss: 0.417 - ETA: 1s - loss: 0.417 - ETA: 1s - loss: 0.417 - ETA: 1s - loss: 0.417 - ETA: 1s - loss: 0.417 - ETA: 0s - loss: 0.417 - ETA: 0s - loss: 0.417 - ETA: 0s - loss: 0.417 - ETA: 0s - loss: 0.417 - ETA: 0s - loss: 0.417 - ETA: 0s - loss: 0.417 - ETA: 0s - loss: 0.417 - ETA: 0s - loss: 0.417 - ETA: 0s - loss: 0.417 - ETA: 0s - loss: 0.417 - ETA: 0s - loss: 0.417 - 25s 443us/step - loss: 0.4179 - val_loss: 0.4040\n",
      "Epoch 16/50\n"
     ]
    },
    {
     "name": "stdout",
     "output_type": "stream",
     "text": [
      "55381/55381 [==============================] - ETA: 13s - loss: 0.40 - ETA: 16s - loss: 0.39 - ETA: 15s - loss: 0.39 - ETA: 14s - loss: 0.37 - ETA: 15s - loss: 0.37 - ETA: 15s - loss: 0.37 - ETA: 16s - loss: 0.37 - ETA: 16s - loss: 0.38 - ETA: 16s - loss: 0.38 - ETA: 16s - loss: 0.38 - ETA: 16s - loss: 0.38 - ETA: 18s - loss: 0.38 - ETA: 18s - loss: 0.38 - ETA: 18s - loss: 0.38 - ETA: 19s - loss: 0.38 - ETA: 19s - loss: 0.39 - ETA: 19s - loss: 0.39 - ETA: 19s - loss: 0.39 - ETA: 19s - loss: 0.39 - ETA: 19s - loss: 0.39 - ETA: 19s - loss: 0.39 - ETA: 19s - loss: 0.39 - ETA: 18s - loss: 0.39 - ETA: 18s - loss: 0.39 - ETA: 18s - loss: 0.39 - ETA: 18s - loss: 0.39 - ETA: 18s - loss: 0.39 - ETA: 18s - loss: 0.39 - ETA: 17s - loss: 0.39 - ETA: 17s - loss: 0.39 - ETA: 17s - loss: 0.39 - ETA: 17s - loss: 0.40 - ETA: 17s - loss: 0.40 - ETA: 17s - loss: 0.40 - ETA: 17s - loss: 0.40 - ETA: 17s - loss: 0.40 - ETA: 17s - loss: 0.40 - ETA: 16s - loss: 0.40 - ETA: 16s - loss: 0.40 - ETA: 16s - loss: 0.40 - ETA: 16s - loss: 0.40 - ETA: 16s - loss: 0.40 - ETA: 16s - loss: 0.40 - ETA: 17s - loss: 0.40 - ETA: 17s - loss: 0.40 - ETA: 17s - loss: 0.40 - ETA: 17s - loss: 0.40 - ETA: 17s - loss: 0.40 - ETA: 17s - loss: 0.40 - ETA: 17s - loss: 0.40 - ETA: 17s - loss: 0.40 - ETA: 17s - loss: 0.40 - ETA: 17s - loss: 0.40 - ETA: 17s - loss: 0.40 - ETA: 17s - loss: 0.40 - ETA: 17s - loss: 0.40 - ETA: 17s - loss: 0.40 - ETA: 18s - loss: 0.40 - ETA: 18s - loss: 0.40 - ETA: 18s - loss: 0.40 - ETA: 18s - loss: 0.40 - ETA: 18s - loss: 0.40 - ETA: 18s - loss: 0.40 - ETA: 18s - loss: 0.40 - ETA: 18s - loss: 0.40 - ETA: 18s - loss: 0.40 - ETA: 18s - loss: 0.40 - ETA: 18s - loss: 0.40 - ETA: 18s - loss: 0.40 - ETA: 18s - loss: 0.40 - ETA: 18s - loss: 0.40 - ETA: 18s - loss: 0.40 - ETA: 18s - loss: 0.41 - ETA: 18s - loss: 0.41 - ETA: 18s - loss: 0.41 - ETA: 18s - loss: 0.41 - ETA: 18s - loss: 0.41 - ETA: 17s - loss: 0.41 - ETA: 17s - loss: 0.41 - ETA: 17s - loss: 0.41 - ETA: 17s - loss: 0.41 - ETA: 17s - loss: 0.41 - ETA: 17s - loss: 0.41 - ETA: 17s - loss: 0.41 - ETA: 17s - loss: 0.41 - ETA: 17s - loss: 0.41 - ETA: 17s - loss: 0.41 - ETA: 17s - loss: 0.41 - ETA: 17s - loss: 0.41 - ETA: 16s - loss: 0.41 - ETA: 16s - loss: 0.41 - ETA: 16s - loss: 0.41 - ETA: 16s - loss: 0.41 - ETA: 16s - loss: 0.41 - ETA: 16s - loss: 0.41 - ETA: 16s - loss: 0.41 - ETA: 16s - loss: 0.41 - ETA: 16s - loss: 0.41 - ETA: 16s - loss: 0.41 - ETA: 16s - loss: 0.41 - ETA: 16s - loss: 0.41 - ETA: 16s - loss: 0.41 - ETA: 16s - loss: 0.41 - ETA: 16s - loss: 0.41 - ETA: 16s - loss: 0.41 - ETA: 16s - loss: 0.41 - ETA: 16s - loss: 0.41 - ETA: 16s - loss: 0.41 - ETA: 16s - loss: 0.41 - ETA: 16s - loss: 0.41 - ETA: 15s - loss: 0.41 - ETA: 15s - loss: 0.41 - ETA: 15s - loss: 0.41 - ETA: 15s - loss: 0.41 - ETA: 15s - loss: 0.41 - ETA: 15s - loss: 0.41 - ETA: 15s - loss: 0.41 - ETA: 14s - loss: 0.41 - ETA: 14s - loss: 0.41 - ETA: 14s - loss: 0.41 - ETA: 14s - loss: 0.41 - ETA: 14s - loss: 0.41 - ETA: 14s - loss: 0.41 - ETA: 14s - loss: 0.41 - ETA: 14s - loss: 0.41 - ETA: 13s - loss: 0.41 - ETA: 13s - loss: 0.41 - ETA: 13s - loss: 0.41 - ETA: 13s - loss: 0.41 - ETA: 13s - loss: 0.41 - ETA: 13s - loss: 0.41 - ETA: 13s - loss: 0.41 - ETA: 13s - loss: 0.41 - ETA: 13s - loss: 0.41 - ETA: 12s - loss: 0.41 - ETA: 12s - loss: 0.41 - ETA: 12s - loss: 0.41 - ETA: 12s - loss: 0.41 - ETA: 12s - loss: 0.41 - ETA: 12s - loss: 0.41 - ETA: 12s - loss: 0.41 - ETA: 12s - loss: 0.41 - ETA: 12s - loss: 0.41 - ETA: 11s - loss: 0.41 - ETA: 11s - loss: 0.41 - ETA: 11s - loss: 0.41 - ETA: 11s - loss: 0.41 - ETA: 11s - loss: 0.41 - ETA: 11s - loss: 0.41 - ETA: 11s - loss: 0.41 - ETA: 11s - loss: 0.41 - ETA: 11s - loss: 0.41 - ETA: 11s - loss: 0.41 - ETA: 11s - loss: 0.41 - ETA: 10s - loss: 0.41 - ETA: 10s - loss: 0.41 - ETA: 10s - loss: 0.41 - ETA: 10s - loss: 0.41 - ETA: 10s - loss: 0.41 - ETA: 10s - loss: 0.41 - ETA: 10s - loss: 0.41 - ETA: 10s - loss: 0.41 - ETA: 10s - loss: 0.41 - ETA: 10s - loss: 0.41 - ETA: 10s - loss: 0.41 - ETA: 10s - loss: 0.41 - ETA: 10s - loss: 0.41 - ETA: 10s - loss: 0.41 - ETA: 10s - loss: 0.41 - ETA: 10s - loss: 0.41 - ETA: 9s - loss: 0.4131 - ETA: 9s - loss: 0.413 - ETA: 9s - loss: 0.413 - ETA: 9s - loss: 0.412 - ETA: 9s - loss: 0.411 - ETA: 9s - loss: 0.411 - ETA: 9s - loss: 0.411 - ETA: 9s - loss: 0.411 - ETA: 9s - loss: 0.412 - ETA: 9s - loss: 0.412 - ETA: 9s - loss: 0.412 - ETA: 9s - loss: 0.412 - ETA: 9s - loss: 0.412 - ETA: 8s - loss: 0.412 - ETA: 8s - loss: 0.412 - ETA: 8s - loss: 0.411 - ETA: 8s - loss: 0.412 - ETA: 8s - loss: 0.412 - ETA: 8s - loss: 0.412 - ETA: 8s - loss: 0.412 - ETA: 8s - loss: 0.412 - ETA: 8s - loss: 0.412 - ETA: 8s - loss: 0.413 - ETA: 8s - loss: 0.413 - ETA: 8s - loss: 0.412 - ETA: 8s - loss: 0.412 - ETA: 8s - loss: 0.412 - ETA: 7s - loss: 0.412 - ETA: 7s - loss: 0.413 - ETA: 7s - loss: 0.412 - ETA: 7s - loss: 0.413 - ETA: 7s - loss: 0.413 - ETA: 7s - loss: 0.413 - ETA: 7s - loss: 0.413 - ETA: 7s - loss: 0.412 - ETA: 7s - loss: 0.413 - ETA: 7s - loss: 0.413 - ETA: 7s - loss: 0.413 - ETA: 7s - loss: 0.413 - ETA: 7s - loss: 0.413 - ETA: 7s - loss: 0.413 - ETA: 6s - loss: 0.413 - ETA: 6s - loss: 0.413 - ETA: 6s - loss: 0.413 - ETA: 6s - loss: 0.413 - ETA: 6s - loss: 0.413 - ETA: 6s - loss: 0.413 - ETA: 6s - loss: 0.413 - ETA: 6s - loss: 0.413 - ETA: 6s - loss: 0.413 - ETA: 6s - loss: 0.413 - ETA: 6s - loss: 0.413 - ETA: 6s - loss: 0.413 - ETA: 6s - loss: 0.413 - ETA: 6s - loss: 0.414 - ETA: 5s - loss: 0.414 - ETA: 5s - loss: 0.414 - ETA: 5s - loss: 0.414 - ETA: 5s - loss: 0.414 - ETA: 5s - loss: 0.414 - ETA: 5s - loss: 0.414 - ETA: 5s - loss: 0.414 - ETA: 5s - loss: 0.414 - ETA: 5s - loss: 0.414 - ETA: 5s - loss: 0.414 - ETA: 5s - loss: 0.414 - ETA: 5s - loss: 0.414 - ETA: 5s - loss: 0.415 - ETA: 5s - loss: 0.415 - ETA: 5s - loss: 0.415 - ETA: 5s - loss: 0.415 - ETA: 5s - loss: 0.415 - ETA: 4s - loss: 0.415 - ETA: 4s - loss: 0.415 - ETA: 4s - loss: 0.415 - ETA: 4s - loss: 0.415 - ETA: 4s - loss: 0.415 - ETA: 4s - loss: 0.415 - ETA: 4s - loss: 0.415 - ETA: 4s - loss: 0.415 - ETA: 4s - loss: 0.415 - ETA: 4s - loss: 0.415 - ETA: 4s - loss: 0.415 - ETA: 4s - loss: 0.416 - ETA: 4s - loss: 0.415 - ETA: 4s - loss: 0.416 - ETA: 3s - loss: 0.416 - ETA: 3s - loss: 0.416 - ETA: 3s - loss: 0.415 - ETA: 3s - loss: 0.415 - ETA: 3s - loss: 0.415 - ETA: 3s - loss: 0.415 - ETA: 3s - loss: 0.415 - ETA: 3s - loss: 0.415 - ETA: 3s - loss: 0.415 - ETA: 3s - loss: 0.415 - ETA: 3s - loss: 0.415 - ETA: 3s - loss: 0.415 - ETA: 3s - loss: 0.415 - ETA: 3s - loss: 0.415 - ETA: 3s - loss: 0.415 - ETA: 3s - loss: 0.415 - ETA: 3s - loss: 0.415 - ETA: 3s - loss: 0.415 - ETA: 3s - loss: 0.415 - ETA: 3s - loss: 0.415 - ETA: 2s - loss: 0.414 - ETA: 2s - loss: 0.414 - ETA: 2s - loss: 0.414 - ETA: 2s - loss: 0.414 - ETA: 2s - loss: 0.415 - ETA: 2s - loss: 0.415 - ETA: 2s - loss: 0.415 - ETA: 2s - loss: 0.414 - ETA: 2s - loss: 0.414 - ETA: 2s - loss: 0.414 - ETA: 2s - loss: 0.414 - ETA: 2s - loss: 0.414 - ETA: 2s - loss: 0.414 - ETA: 2s - loss: 0.414 - ETA: 2s - loss: 0.414 - ETA: 2s - loss: 0.414 - ETA: 2s - loss: 0.414 - ETA: 2s - loss: 0.414 - ETA: 1s - loss: 0.414 - ETA: 1s - loss: 0.414 - ETA: 1s - loss: 0.415 - ETA: 1s - loss: 0.415 - ETA: 1s - loss: 0.415 - ETA: 1s - loss: 0.415 - ETA: 1s - loss: 0.415 - ETA: 1s - loss: 0.415 - ETA: 1s - loss: 0.414 - ETA: 1s - loss: 0.414 - ETA: 1s - loss: 0.414 - ETA: 1s - loss: 0.414 - ETA: 1s - loss: 0.414 - ETA: 1s - loss: 0.414 - ETA: 1s - loss: 0.414 - ETA: 1s - loss: 0.414 - ETA: 0s - loss: 0.414 - ETA: 0s - loss: 0.414 - ETA: 0s - loss: 0.414 - ETA: 0s - loss: 0.414 - ETA: 0s - loss: 0.414 - ETA: 0s - loss: 0.414 - ETA: 0s - loss: 0.414 - ETA: 0s - loss: 0.414 - ETA: 0s - loss: 0.414 - ETA: 0s - loss: 0.414 - ETA: 0s - loss: 0.414 - ETA: 0s - loss: 0.414 - ETA: 0s - loss: 0.414 - ETA: 0s - loss: 0.414 - ETA: 0s - loss: 0.414 - 21s 378us/step - loss: 0.4139 - val_loss: 0.4001\n",
      "Epoch 17/50\n",
      "55381/55381 [==============================] - ETA: 13s - loss: 0.31 - ETA: 20s - loss: 0.32 - ETA: 19s - loss: 0.37 - ETA: 19s - loss: 0.40 - ETA: 19s - loss: 0.39 - ETA: 19s - loss: 0.40 - ETA: 19s - loss: 0.39 - ETA: 19s - loss: 0.39 - ETA: 19s - loss: 0.38 - ETA: 18s - loss: 0.38 - ETA: 19s - loss: 0.39 - ETA: 21s - loss: 0.39 - ETA: 21s - loss: 0.39 - ETA: 22s - loss: 0.39 - ETA: 23s - loss: 0.39 - ETA: 24s - loss: 0.39 - ETA: 25s - loss: 0.38 - ETA: 25s - loss: 0.39 - ETA: 24s - loss: 0.39 - ETA: 23s - loss: 0.40 - ETA: 23s - loss: 0.40 - ETA: 22s - loss: 0.40 - ETA: 21s - loss: 0.40 - ETA: 21s - loss: 0.40 - ETA: 21s - loss: 0.40 - ETA: 20s - loss: 0.40 - ETA: 20s - loss: 0.40 - ETA: 20s - loss: 0.40 - ETA: 20s - loss: 0.40 - ETA: 19s - loss: 0.40 - ETA: 19s - loss: 0.40 - ETA: 19s - loss: 0.40 - ETA: 18s - loss: 0.40 - ETA: 18s - loss: 0.40 - ETA: 18s - loss: 0.41 - ETA: 18s - loss: 0.41 - ETA: 18s - loss: 0.40 - ETA: 18s - loss: 0.40 - ETA: 17s - loss: 0.40 - ETA: 17s - loss: 0.40 - ETA: 17s - loss: 0.40 - ETA: 17s - loss: 0.40 - ETA: 17s - loss: 0.40 - ETA: 17s - loss: 0.40 - ETA: 17s - loss: 0.40 - ETA: 17s - loss: 0.40 - ETA: 17s - loss: 0.40 - ETA: 16s - loss: 0.40 - ETA: 16s - loss: 0.40 - ETA: 16s - loss: 0.40 - ETA: 16s - loss: 0.40 - ETA: 16s - loss: 0.40 - ETA: 16s - loss: 0.40 - ETA: 16s - loss: 0.40 - ETA: 16s - loss: 0.40 - ETA: 16s - loss: 0.40 - ETA: 16s - loss: 0.40 - ETA: 16s - loss: 0.40 - ETA: 15s - loss: 0.40 - ETA: 15s - loss: 0.40 - ETA: 15s - loss: 0.40 - ETA: 15s - loss: 0.40 - ETA: 15s - loss: 0.40 - ETA: 15s - loss: 0.40 - ETA: 15s - loss: 0.40 - ETA: 15s - loss: 0.40 - ETA: 15s - loss: 0.40 - ETA: 15s - loss: 0.40 - ETA: 15s - loss: 0.40 - ETA: 15s - loss: 0.40 - ETA: 15s - loss: 0.40 - ETA: 14s - loss: 0.40 - ETA: 14s - loss: 0.40 - ETA: 14s - loss: 0.40 - ETA: 14s - loss: 0.40 - ETA: 14s - loss: 0.40 - ETA: 14s - loss: 0.40 - ETA: 14s - loss: 0.40 - ETA: 14s - loss: 0.40 - ETA: 14s - loss: 0.40 - ETA: 14s - loss: 0.40 - ETA: 14s - loss: 0.40 - ETA: 14s - loss: 0.40 - ETA: 14s - loss: 0.40 - ETA: 14s - loss: 0.40 - ETA: 14s - loss: 0.40 - ETA: 14s - loss: 0.40 - ETA: 14s - loss: 0.40 - ETA: 14s - loss: 0.40 - ETA: 14s - loss: 0.40 - ETA: 14s - loss: 0.40 - ETA: 14s - loss: 0.40 - ETA: 14s - loss: 0.40 - ETA: 13s - loss: 0.40 - ETA: 13s - loss: 0.40 - ETA: 13s - loss: 0.40 - ETA: 13s - loss: 0.40 - ETA: 13s - loss: 0.40 - ETA: 13s - loss: 0.40 - ETA: 13s - loss: 0.40 - ETA: 13s - loss: 0.40 - ETA: 13s - loss: 0.40 - ETA: 13s - loss: 0.40 - ETA: 13s - loss: 0.40 - ETA: 13s - loss: 0.40 - ETA: 13s - loss: 0.40 - ETA: 13s - loss: 0.40 - ETA: 13s - loss: 0.40 - ETA: 13s - loss: 0.40 - ETA: 13s - loss: 0.40 - ETA: 12s - loss: 0.40 - ETA: 13s - loss: 0.40 - ETA: 13s - loss: 0.40 - ETA: 13s - loss: 0.41 - ETA: 13s - loss: 0.41 - ETA: 12s - loss: 0.41 - ETA: 12s - loss: 0.41 - ETA: 12s - loss: 0.41 - ETA: 12s - loss: 0.40 - ETA: 12s - loss: 0.40 - ETA: 12s - loss: 0.40 - ETA: 12s - loss: 0.40 - ETA: 12s - loss: 0.40 - ETA: 12s - loss: 0.40 - ETA: 12s - loss: 0.40 - ETA: 12s - loss: 0.40 - ETA: 12s - loss: 0.40 - ETA: 12s - loss: 0.40 - ETA: 12s - loss: 0.40 - ETA: 12s - loss: 0.40 - ETA: 12s - loss: 0.40 - ETA: 12s - loss: 0.40 - ETA: 12s - loss: 0.40 - ETA: 12s - loss: 0.41 - ETA: 12s - loss: 0.41 - ETA: 12s - loss: 0.40 - ETA: 12s - loss: 0.41 - ETA: 11s - loss: 0.41 - ETA: 11s - loss: 0.41 - ETA: 11s - loss: 0.41 - ETA: 11s - loss: 0.41 - ETA: 11s - loss: 0.40 - ETA: 11s - loss: 0.41 - ETA: 11s - loss: 0.41 - ETA: 11s - loss: 0.41 - ETA: 11s - loss: 0.41 - ETA: 11s - loss: 0.40 - ETA: 11s - loss: 0.40 - ETA: 11s - loss: 0.40 - ETA: 11s - loss: 0.40 - ETA: 11s - loss: 0.40 - ETA: 11s - loss: 0.40 - ETA: 11s - loss: 0.40 - ETA: 11s - loss: 0.40 - ETA: 11s - loss: 0.40 - ETA: 11s - loss: 0.40 - ETA: 11s - loss: 0.40 - ETA: 11s - loss: 0.40 - ETA: 11s - loss: 0.40 - ETA: 11s - loss: 0.41 - ETA: 11s - loss: 0.41 - ETA: 11s - loss: 0.41 - ETA: 10s - loss: 0.40 - ETA: 10s - loss: 0.40 - ETA: 10s - loss: 0.41 - ETA: 10s - loss: 0.41 - ETA: 10s - loss: 0.41 - ETA: 10s - loss: 0.41 - ETA: 10s - loss: 0.41 - ETA: 10s - loss: 0.41 - ETA: 10s - loss: 0.41 - ETA: 10s - loss: 0.41 - ETA: 10s - loss: 0.41 - ETA: 10s - loss: 0.41 - ETA: 10s - loss: 0.41 - ETA: 10s - loss: 0.41 - ETA: 10s - loss: 0.41 - ETA: 10s - loss: 0.41 - ETA: 10s - loss: 0.41 - ETA: 10s - loss: 0.41 - ETA: 10s - loss: 0.41 - ETA: 10s - loss: 0.41 - ETA: 10s - loss: 0.41 - ETA: 9s - loss: 0.4108 - ETA: 9s - loss: 0.410 - ETA: 9s - loss: 0.411 - ETA: 9s - loss: 0.411 - ETA: 9s - loss: 0.411 - ETA: 9s - loss: 0.411 - ETA: 9s - loss: 0.411 - ETA: 9s - loss: 0.411 - ETA: 9s - loss: 0.411 - ETA: 9s - loss: 0.410 - ETA: 9s - loss: 0.410 - ETA: 9s - loss: 0.410 - ETA: 9s - loss: 0.410 - ETA: 9s - loss: 0.411 - ETA: 9s - loss: 0.411 - ETA: 9s - loss: 0.411 - ETA: 8s - loss: 0.412 - ETA: 8s - loss: 0.412 - ETA: 8s - loss: 0.411 - ETA: 8s - loss: 0.411 - ETA: 8s - loss: 0.412 - ETA: 8s - loss: 0.412 - ETA: 8s - loss: 0.412 - ETA: 8s - loss: 0.412 - ETA: 8s - loss: 0.412 - ETA: 8s - loss: 0.412 - ETA: 8s - loss: 0.412 - ETA: 8s - loss: 0.412 - ETA: 8s - loss: 0.413 - ETA: 8s - loss: 0.413 - ETA: 8s - loss: 0.413 - ETA: 8s - loss: 0.413 - ETA: 8s - loss: 0.413 - ETA: 8s - loss: 0.413 - ETA: 7s - loss: 0.412 - ETA: 7s - loss: 0.412 - ETA: 7s - loss: 0.413 - ETA: 7s - loss: 0.412 - ETA: 7s - loss: 0.413 - ETA: 7s - loss: 0.413 - ETA: 7s - loss: 0.412 - ETA: 7s - loss: 0.413 - ETA: 7s - loss: 0.413 - ETA: 7s - loss: 0.412 - ETA: 7s - loss: 0.412 - ETA: 7s - loss: 0.412 - ETA: 7s - loss: 0.412 - ETA: 7s - loss: 0.412 - ETA: 7s - loss: 0.412 - ETA: 7s - loss: 0.412 - ETA: 7s - loss: 0.412 - ETA: 6s - loss: 0.412 - ETA: 6s - loss: 0.412 - ETA: 6s - loss: 0.412 - ETA: 6s - loss: 0.412 - ETA: 6s - loss: 0.412 - ETA: 6s - loss: 0.412 - ETA: 6s - loss: 0.411 - ETA: 6s - loss: 0.411 - ETA: 6s - loss: 0.411 - ETA: 6s - loss: 0.411 - ETA: 6s - loss: 0.411 - ETA: 6s - loss: 0.412 - ETA: 6s - loss: 0.412 - ETA: 6s - loss: 0.411 - ETA: 6s - loss: 0.411 - ETA: 6s - loss: 0.411 - ETA: 6s - loss: 0.411 - ETA: 5s - loss: 0.411 - ETA: 5s - loss: 0.411 - ETA: 5s - loss: 0.411 - ETA: 5s - loss: 0.411 - ETA: 5s - loss: 0.411 - ETA: 5s - loss: 0.411 - ETA: 5s - loss: 0.411 - ETA: 5s - loss: 0.411 - ETA: 5s - loss: 0.411 - ETA: 5s - loss: 0.411 - ETA: 5s - loss: 0.411 - ETA: 5s - loss: 0.411 - ETA: 5s - loss: 0.410 - ETA: 5s - loss: 0.411 - ETA: 5s - loss: 0.411 - ETA: 5s - loss: 0.411 - ETA: 5s - loss: 0.411 - ETA: 5s - loss: 0.411 - ETA: 5s - loss: 0.411 - ETA: 4s - loss: 0.411 - ETA: 4s - loss: 0.411 - ETA: 4s - loss: 0.411 - ETA: 4s - loss: 0.411 - ETA: 4s - loss: 0.411 - ETA: 4s - loss: 0.411 - ETA: 4s - loss: 0.411 - ETA: 4s - loss: 0.411 - ETA: 4s - loss: 0.411 - ETA: 4s - loss: 0.411 - ETA: 4s - loss: 0.412 - ETA: 4s - loss: 0.412 - ETA: 4s - loss: 0.411 - ETA: 4s - loss: 0.411 - ETA: 3s - loss: 0.411 - ETA: 3s - loss: 0.411 - ETA: 3s - loss: 0.411 - ETA: 3s - loss: 0.411 - ETA: 3s - loss: 0.411 - ETA: 3s - loss: 0.411 - ETA: 3s - loss: 0.411 - ETA: 3s - loss: 0.411 - ETA: 3s - loss: 0.411 - ETA: 3s - loss: 0.411 - ETA: 3s - loss: 0.411 - ETA: 3s - loss: 0.411 - ETA: 2s - loss: 0.411 - ETA: 2s - loss: 0.412 - ETA: 2s - loss: 0.411 - ETA: 2s - loss: 0.412 - ETA: 2s - loss: 0.412 - ETA: 2s - loss: 0.412 - ETA: 2s - loss: 0.412 - ETA: 2s - loss: 0.412 - ETA: 2s - loss: 0.412 - ETA: 2s - loss: 0.412 - ETA: 2s - loss: 0.412 - ETA: 2s - loss: 0.412 - ETA: 2s - loss: 0.412 - ETA: 1s - loss: 0.412 - ETA: 1s - loss: 0.412 - ETA: 1s - loss: 0.412 - ETA: 1s - loss: 0.412 - ETA: 1s - loss: 0.412 - ETA: 1s - loss: 0.412 - ETA: 1s - loss: 0.412 - ETA: 1s - loss: 0.412 - ETA: 1s - loss: 0.412 - ETA: 1s - loss: 0.412 - ETA: 1s - loss: 0.412 - ETA: 0s - loss: 0.412 - ETA: 0s - loss: 0.412 - ETA: 0s - loss: 0.412 - ETA: 0s - loss: 0.412 - ETA: 0s - loss: 0.412 - ETA: 0s - loss: 0.412 - ETA: 0s - loss: 0.412 - ETA: 0s - loss: 0.412 - ETA: 0s - loss: 0.412 - ETA: 0s - loss: 0.412 - ETA: 0s - loss: 0.412 - 21s 385us/step - loss: 0.4128 - val_loss: 0.3962\n",
      "Epoch 18/50\n"
     ]
    },
    {
     "name": "stdout",
     "output_type": "stream",
     "text": [
      "55381/55381 [==============================] - ETA: 13s - loss: 0.44 - ETA: 16s - loss: 0.37 - ETA: 15s - loss: 0.40 - ETA: 15s - loss: 0.41 - ETA: 16s - loss: 0.41 - ETA: 15s - loss: 0.40 - ETA: 14s - loss: 0.41 - ETA: 15s - loss: 0.41 - ETA: 15s - loss: 0.42 - ETA: 15s - loss: 0.41 - ETA: 14s - loss: 0.41 - ETA: 14s - loss: 0.41 - ETA: 14s - loss: 0.41 - ETA: 14s - loss: 0.41 - ETA: 14s - loss: 0.41 - ETA: 14s - loss: 0.40 - ETA: 14s - loss: 0.41 - ETA: 15s - loss: 0.41 - ETA: 15s - loss: 0.41 - ETA: 15s - loss: 0.40 - ETA: 15s - loss: 0.41 - ETA: 15s - loss: 0.40 - ETA: 15s - loss: 0.41 - ETA: 15s - loss: 0.40 - ETA: 15s - loss: 0.40 - ETA: 15s - loss: 0.40 - ETA: 15s - loss: 0.40 - ETA: 14s - loss: 0.40 - ETA: 14s - loss: 0.40 - ETA: 15s - loss: 0.40 - ETA: 15s - loss: 0.40 - ETA: 15s - loss: 0.40 - ETA: 15s - loss: 0.40 - ETA: 14s - loss: 0.40 - ETA: 14s - loss: 0.40 - ETA: 14s - loss: 0.40 - ETA: 14s - loss: 0.40 - ETA: 14s - loss: 0.40 - ETA: 14s - loss: 0.40 - ETA: 14s - loss: 0.40 - ETA: 14s - loss: 0.40 - ETA: 14s - loss: 0.40 - ETA: 14s - loss: 0.40 - ETA: 14s - loss: 0.40 - ETA: 14s - loss: 0.40 - ETA: 13s - loss: 0.40 - ETA: 13s - loss: 0.40 - ETA: 13s - loss: 0.40 - ETA: 13s - loss: 0.40 - ETA: 13s - loss: 0.40 - ETA: 13s - loss: 0.40 - ETA: 13s - loss: 0.40 - ETA: 14s - loss: 0.40 - ETA: 14s - loss: 0.40 - ETA: 14s - loss: 0.40 - ETA: 14s - loss: 0.40 - ETA: 14s - loss: 0.40 - ETA: 14s - loss: 0.40 - ETA: 14s - loss: 0.40 - ETA: 13s - loss: 0.40 - ETA: 13s - loss: 0.40 - ETA: 13s - loss: 0.40 - ETA: 13s - loss: 0.40 - ETA: 13s - loss: 0.40 - ETA: 13s - loss: 0.40 - ETA: 13s - loss: 0.40 - ETA: 13s - loss: 0.40 - ETA: 13s - loss: 0.40 - ETA: 13s - loss: 0.40 - ETA: 13s - loss: 0.40 - ETA: 13s - loss: 0.40 - ETA: 13s - loss: 0.40 - ETA: 13s - loss: 0.40 - ETA: 13s - loss: 0.40 - ETA: 13s - loss: 0.40 - ETA: 13s - loss: 0.40 - ETA: 13s - loss: 0.40 - ETA: 13s - loss: 0.40 - ETA: 12s - loss: 0.40 - ETA: 12s - loss: 0.40 - ETA: 12s - loss: 0.40 - ETA: 12s - loss: 0.40 - ETA: 12s - loss: 0.40 - ETA: 12s - loss: 0.40 - ETA: 12s - loss: 0.40 - ETA: 12s - loss: 0.40 - ETA: 12s - loss: 0.40 - ETA: 12s - loss: 0.40 - ETA: 12s - loss: 0.40 - ETA: 12s - loss: 0.40 - ETA: 12s - loss: 0.40 - ETA: 12s - loss: 0.40 - ETA: 11s - loss: 0.40 - ETA: 11s - loss: 0.40 - ETA: 12s - loss: 0.40 - ETA: 12s - loss: 0.40 - ETA: 12s - loss: 0.40 - ETA: 12s - loss: 0.40 - ETA: 12s - loss: 0.40 - ETA: 12s - loss: 0.40 - ETA: 12s - loss: 0.40 - ETA: 12s - loss: 0.40 - ETA: 11s - loss: 0.40 - ETA: 11s - loss: 0.40 - ETA: 11s - loss: 0.40 - ETA: 11s - loss: 0.40 - ETA: 11s - loss: 0.40 - ETA: 11s - loss: 0.40 - ETA: 11s - loss: 0.40 - ETA: 11s - loss: 0.40 - ETA: 11s - loss: 0.40 - ETA: 11s - loss: 0.40 - ETA: 11s - loss: 0.40 - ETA: 11s - loss: 0.40 - ETA: 11s - loss: 0.40 - ETA: 11s - loss: 0.40 - ETA: 11s - loss: 0.40 - ETA: 11s - loss: 0.40 - ETA: 11s - loss: 0.40 - ETA: 11s - loss: 0.40 - ETA: 11s - loss: 0.40 - ETA: 11s - loss: 0.40 - ETA: 11s - loss: 0.40 - ETA: 11s - loss: 0.40 - ETA: 10s - loss: 0.40 - ETA: 10s - loss: 0.40 - ETA: 10s - loss: 0.40 - ETA: 10s - loss: 0.40 - ETA: 10s - loss: 0.40 - ETA: 10s - loss: 0.40 - ETA: 10s - loss: 0.40 - ETA: 10s - loss: 0.40 - ETA: 10s - loss: 0.40 - ETA: 10s - loss: 0.40 - ETA: 10s - loss: 0.40 - ETA: 10s - loss: 0.40 - ETA: 10s - loss: 0.40 - ETA: 10s - loss: 0.40 - ETA: 10s - loss: 0.40 - ETA: 10s - loss: 0.40 - ETA: 10s - loss: 0.40 - ETA: 10s - loss: 0.40 - ETA: 10s - loss: 0.40 - ETA: 9s - loss: 0.4091 - ETA: 9s - loss: 0.408 - ETA: 9s - loss: 0.408 - ETA: 9s - loss: 0.409 - ETA: 9s - loss: 0.409 - ETA: 9s - loss: 0.409 - ETA: 9s - loss: 0.409 - ETA: 9s - loss: 0.409 - ETA: 9s - loss: 0.409 - ETA: 9s - loss: 0.409 - ETA: 9s - loss: 0.409 - ETA: 9s - loss: 0.409 - ETA: 9s - loss: 0.410 - ETA: 9s - loss: 0.410 - ETA: 9s - loss: 0.410 - ETA: 9s - loss: 0.410 - ETA: 9s - loss: 0.410 - ETA: 9s - loss: 0.410 - ETA: 8s - loss: 0.410 - ETA: 8s - loss: 0.410 - ETA: 8s - loss: 0.411 - ETA: 8s - loss: 0.411 - ETA: 8s - loss: 0.411 - ETA: 8s - loss: 0.411 - ETA: 8s - loss: 0.411 - ETA: 8s - loss: 0.411 - ETA: 8s - loss: 0.410 - ETA: 8s - loss: 0.411 - ETA: 8s - loss: 0.411 - ETA: 8s - loss: 0.411 - ETA: 8s - loss: 0.411 - ETA: 8s - loss: 0.411 - ETA: 8s - loss: 0.411 - ETA: 8s - loss: 0.411 - ETA: 8s - loss: 0.411 - ETA: 8s - loss: 0.411 - ETA: 8s - loss: 0.411 - ETA: 8s - loss: 0.411 - ETA: 7s - loss: 0.411 - ETA: 7s - loss: 0.412 - ETA: 7s - loss: 0.412 - ETA: 7s - loss: 0.412 - ETA: 7s - loss: 0.412 - ETA: 7s - loss: 0.412 - ETA: 7s - loss: 0.412 - ETA: 7s - loss: 0.412 - ETA: 7s - loss: 0.412 - ETA: 7s - loss: 0.412 - ETA: 7s - loss: 0.412 - ETA: 7s - loss: 0.412 - ETA: 7s - loss: 0.412 - ETA: 7s - loss: 0.412 - ETA: 7s - loss: 0.412 - ETA: 7s - loss: 0.412 - ETA: 7s - loss: 0.412 - ETA: 7s - loss: 0.412 - ETA: 7s - loss: 0.412 - ETA: 7s - loss: 0.412 - ETA: 7s - loss: 0.412 - ETA: 7s - loss: 0.412 - ETA: 7s - loss: 0.413 - ETA: 6s - loss: 0.413 - ETA: 6s - loss: 0.413 - ETA: 6s - loss: 0.412 - ETA: 6s - loss: 0.412 - ETA: 6s - loss: 0.412 - ETA: 6s - loss: 0.412 - ETA: 6s - loss: 0.412 - ETA: 6s - loss: 0.412 - ETA: 6s - loss: 0.413 - ETA: 6s - loss: 0.413 - ETA: 6s - loss: 0.413 - ETA: 6s - loss: 0.413 - ETA: 6s - loss: 0.413 - ETA: 6s - loss: 0.413 - ETA: 6s - loss: 0.413 - ETA: 6s - loss: 0.413 - ETA: 6s - loss: 0.413 - ETA: 5s - loss: 0.413 - ETA: 5s - loss: 0.413 - ETA: 5s - loss: 0.413 - ETA: 5s - loss: 0.413 - ETA: 5s - loss: 0.413 - ETA: 5s - loss: 0.413 - ETA: 5s - loss: 0.413 - ETA: 5s - loss: 0.413 - ETA: 5s - loss: 0.413 - ETA: 5s - loss: 0.414 - ETA: 5s - loss: 0.414 - ETA: 5s - loss: 0.414 - ETA: 5s - loss: 0.414 - ETA: 5s - loss: 0.414 - ETA: 5s - loss: 0.414 - ETA: 5s - loss: 0.414 - ETA: 5s - loss: 0.414 - ETA: 4s - loss: 0.414 - ETA: 4s - loss: 0.414 - ETA: 4s - loss: 0.414 - ETA: 4s - loss: 0.414 - ETA: 4s - loss: 0.414 - ETA: 4s - loss: 0.414 - ETA: 4s - loss: 0.414 - ETA: 4s - loss: 0.414 - ETA: 4s - loss: 0.414 - ETA: 4s - loss: 0.413 - ETA: 4s - loss: 0.413 - ETA: 4s - loss: 0.414 - ETA: 4s - loss: 0.414 - ETA: 4s - loss: 0.414 - ETA: 4s - loss: 0.414 - ETA: 4s - loss: 0.414 - ETA: 4s - loss: 0.414 - ETA: 4s - loss: 0.414 - ETA: 4s - loss: 0.414 - ETA: 3s - loss: 0.414 - ETA: 3s - loss: 0.414 - ETA: 3s - loss: 0.414 - ETA: 3s - loss: 0.414 - ETA: 3s - loss: 0.413 - ETA: 3s - loss: 0.413 - ETA: 3s - loss: 0.413 - ETA: 3s - loss: 0.413 - ETA: 3s - loss: 0.413 - ETA: 3s - loss: 0.413 - ETA: 3s - loss: 0.414 - ETA: 3s - loss: 0.413 - ETA: 3s - loss: 0.413 - ETA: 3s - loss: 0.413 - ETA: 3s - loss: 0.413 - ETA: 3s - loss: 0.413 - ETA: 2s - loss: 0.413 - ETA: 2s - loss: 0.413 - ETA: 2s - loss: 0.413 - ETA: 2s - loss: 0.413 - ETA: 2s - loss: 0.413 - ETA: 2s - loss: 0.413 - ETA: 2s - loss: 0.413 - ETA: 2s - loss: 0.413 - ETA: 2s - loss: 0.413 - ETA: 2s - loss: 0.413 - ETA: 2s - loss: 0.413 - ETA: 2s - loss: 0.413 - ETA: 2s - loss: 0.413 - ETA: 2s - loss: 0.413 - ETA: 2s - loss: 0.413 - ETA: 1s - loss: 0.413 - ETA: 1s - loss: 0.413 - ETA: 1s - loss: 0.413 - ETA: 1s - loss: 0.413 - ETA: 1s - loss: 0.413 - ETA: 1s - loss: 0.413 - ETA: 1s - loss: 0.413 - ETA: 1s - loss: 0.412 - ETA: 1s - loss: 0.412 - ETA: 1s - loss: 0.412 - ETA: 1s - loss: 0.412 - ETA: 1s - loss: 0.412 - ETA: 1s - loss: 0.412 - ETA: 1s - loss: 0.412 - ETA: 0s - loss: 0.412 - ETA: 0s - loss: 0.412 - ETA: 0s - loss: 0.412 - ETA: 0s - loss: 0.412 - ETA: 0s - loss: 0.411 - ETA: 0s - loss: 0.411 - ETA: 0s - loss: 0.411 - ETA: 0s - loss: 0.411 - ETA: 0s - loss: 0.411 - ETA: 0s - loss: 0.411 - ETA: 0s - loss: 0.411 - ETA: 0s - loss: 0.411 - ETA: 0s - loss: 0.411 - ETA: 0s - loss: 0.411 - ETA: 0s - loss: 0.411 - 20s 364us/step - loss: 0.4115 - val_loss: 0.3959\n",
      "Epoch 19/50\n",
      "55381/55381 [==============================] - ETA: 24s - loss: 0.40 - ETA: 18s - loss: 0.38 - ETA: 17s - loss: 0.40 - ETA: 19s - loss: 0.39 - ETA: 18s - loss: 0.39 - ETA: 19s - loss: 0.39 - ETA: 19s - loss: 0.40 - ETA: 19s - loss: 0.40 - ETA: 18s - loss: 0.40 - ETA: 18s - loss: 0.40 - ETA: 18s - loss: 0.40 - ETA: 18s - loss: 0.40 - ETA: 17s - loss: 0.40 - ETA: 17s - loss: 0.40 - ETA: 17s - loss: 0.40 - ETA: 17s - loss: 0.40 - ETA: 17s - loss: 0.40 - ETA: 17s - loss: 0.40 - ETA: 17s - loss: 0.40 - ETA: 17s - loss: 0.40 - ETA: 17s - loss: 0.40 - ETA: 17s - loss: 0.40 - ETA: 17s - loss: 0.40 - ETA: 17s - loss: 0.40 - ETA: 17s - loss: 0.40 - ETA: 17s - loss: 0.40 - ETA: 17s - loss: 0.40 - ETA: 17s - loss: 0.40 - ETA: 17s - loss: 0.40 - ETA: 17s - loss: 0.40 - ETA: 17s - loss: 0.40 - ETA: 17s - loss: 0.39 - ETA: 16s - loss: 0.39 - ETA: 16s - loss: 0.39 - ETA: 16s - loss: 0.39 - ETA: 17s - loss: 0.39 - ETA: 17s - loss: 0.39 - ETA: 17s - loss: 0.39 - ETA: 17s - loss: 0.39 - ETA: 17s - loss: 0.39 - ETA: 17s - loss: 0.39 - ETA: 17s - loss: 0.39 - ETA: 17s - loss: 0.40 - ETA: 17s - loss: 0.40 - ETA: 17s - loss: 0.40 - ETA: 17s - loss: 0.40 - ETA: 17s - loss: 0.40 - ETA: 17s - loss: 0.40 - ETA: 17s - loss: 0.40 - ETA: 16s - loss: 0.40 - ETA: 16s - loss: 0.40 - ETA: 16s - loss: 0.40 - ETA: 16s - loss: 0.40 - ETA: 16s - loss: 0.40 - ETA: 16s - loss: 0.40 - ETA: 16s - loss: 0.40 - ETA: 16s - loss: 0.40 - ETA: 16s - loss: 0.40 - ETA: 16s - loss: 0.40 - ETA: 16s - loss: 0.40 - ETA: 16s - loss: 0.40 - ETA: 15s - loss: 0.40 - ETA: 15s - loss: 0.40 - ETA: 15s - loss: 0.40 - ETA: 15s - loss: 0.40 - ETA: 15s - loss: 0.40 - ETA: 15s - loss: 0.40 - ETA: 15s - loss: 0.40 - ETA: 15s - loss: 0.40 - ETA: 15s - loss: 0.40 - ETA: 15s - loss: 0.40 - ETA: 15s - loss: 0.40 - ETA: 15s - loss: 0.40 - ETA: 15s - loss: 0.40 - ETA: 15s - loss: 0.40 - ETA: 15s - loss: 0.40 - ETA: 14s - loss: 0.40 - ETA: 15s - loss: 0.40 - ETA: 14s - loss: 0.40 - ETA: 14s - loss: 0.40 - ETA: 14s - loss: 0.40 - ETA: 14s - loss: 0.40 - ETA: 14s - loss: 0.40 - ETA: 14s - loss: 0.40 - ETA: 14s - loss: 0.40 - ETA: 14s - loss: 0.40 - ETA: 14s - loss: 0.40 - ETA: 14s - loss: 0.40 - ETA: 14s - loss: 0.40 - ETA: 14s - loss: 0.40 - ETA: 13s - loss: 0.40 - ETA: 13s - loss: 0.40 - ETA: 13s - loss: 0.40 - ETA: 13s - loss: 0.40 - ETA: 13s - loss: 0.40 - ETA: 13s - loss: 0.40 - ETA: 13s - loss: 0.40 - ETA: 13s - loss: 0.40 - ETA: 13s - loss: 0.40 - ETA: 13s - loss: 0.40 - ETA: 13s - loss: 0.40 - ETA: 13s - loss: 0.40 - ETA: 13s - loss: 0.40 - ETA: 13s - loss: 0.40 - ETA: 13s - loss: 0.40 - ETA: 13s - loss: 0.40 - ETA: 12s - loss: 0.40 - ETA: 12s - loss: 0.40 - ETA: 12s - loss: 0.40 - ETA: 12s - loss: 0.40 - ETA: 12s - loss: 0.40 - ETA: 12s - loss: 0.40 - ETA: 12s - loss: 0.40 - ETA: 12s - loss: 0.40 - ETA: 12s - loss: 0.40 - ETA: 12s - loss: 0.40 - ETA: 12s - loss: 0.40 - ETA: 12s - loss: 0.40 - ETA: 12s - loss: 0.40 - ETA: 12s - loss: 0.40 - ETA: 12s - loss: 0.40 - ETA: 12s - loss: 0.40 - ETA: 11s - loss: 0.40 - ETA: 11s - loss: 0.40 - ETA: 11s - loss: 0.40 - ETA: 11s - loss: 0.40 - ETA: 11s - loss: 0.40 - ETA: 11s - loss: 0.40 - ETA: 11s - loss: 0.40 - ETA: 11s - loss: 0.40 - ETA: 11s - loss: 0.40 - ETA: 11s - loss: 0.40 - ETA: 11s - loss: 0.40 - ETA: 11s - loss: 0.40 - ETA: 11s - loss: 0.40 - ETA: 11s - loss: 0.40 - ETA: 11s - loss: 0.40 - ETA: 11s - loss: 0.40 - ETA: 11s - loss: 0.40 - ETA: 11s - loss: 0.40 - ETA: 11s - loss: 0.40 - ETA: 10s - loss: 0.40 - ETA: 10s - loss: 0.40 - ETA: 10s - loss: 0.40 - ETA: 10s - loss: 0.40 - ETA: 10s - loss: 0.40 - ETA: 10s - loss: 0.40 - ETA: 10s - loss: 0.40 - ETA: 10s - loss: 0.40 - ETA: 10s - loss: 0.40 - ETA: 10s - loss: 0.40 - ETA: 10s - loss: 0.40 - ETA: 10s - loss: 0.40 - ETA: 10s - loss: 0.40 - ETA: 10s - loss: 0.40 - ETA: 10s - loss: 0.40 - ETA: 10s - loss: 0.40 - ETA: 10s - loss: 0.40 - ETA: 9s - loss: 0.4052 - ETA: 9s - loss: 0.405 - ETA: 9s - loss: 0.405 - ETA: 9s - loss: 0.405 - ETA: 9s - loss: 0.405 - ETA: 9s - loss: 0.405 - ETA: 9s - loss: 0.406 - ETA: 9s - loss: 0.406 - ETA: 9s - loss: 0.406 - ETA: 9s - loss: 0.406 - ETA: 9s - loss: 0.405 - ETA: 9s - loss: 0.405 - ETA: 9s - loss: 0.406 - ETA: 9s - loss: 0.406 - ETA: 9s - loss: 0.406 - ETA: 9s - loss: 0.406 - ETA: 9s - loss: 0.406 - ETA: 9s - loss: 0.406 - ETA: 8s - loss: 0.406 - ETA: 8s - loss: 0.406 - ETA: 8s - loss: 0.406 - ETA: 8s - loss: 0.406 - ETA: 8s - loss: 0.406 - ETA: 8s - loss: 0.406 - ETA: 8s - loss: 0.406 - ETA: 8s - loss: 0.406 - ETA: 8s - loss: 0.406 - ETA: 8s - loss: 0.406 - ETA: 8s - loss: 0.406 - ETA: 8s - loss: 0.406 - ETA: 8s - loss: 0.405 - ETA: 8s - loss: 0.405 - ETA: 8s - loss: 0.406 - ETA: 8s - loss: 0.406 - ETA: 8s - loss: 0.406 - ETA: 8s - loss: 0.406 - ETA: 7s - loss: 0.406 - ETA: 7s - loss: 0.406 - ETA: 7s - loss: 0.406 - ETA: 7s - loss: 0.406 - ETA: 7s - loss: 0.405 - ETA: 7s - loss: 0.405 - ETA: 7s - loss: 0.406 - ETA: 7s - loss: 0.406 - ETA: 7s - loss: 0.406 - ETA: 7s - loss: 0.405 - ETA: 7s - loss: 0.405 - ETA: 7s - loss: 0.405 - ETA: 7s - loss: 0.405 - ETA: 7s - loss: 0.405 - ETA: 7s - loss: 0.406 - ETA: 7s - loss: 0.405 - ETA: 6s - loss: 0.405 - ETA: 6s - loss: 0.406 - ETA: 6s - loss: 0.406 - ETA: 6s - loss: 0.406 - ETA: 6s - loss: 0.406 - ETA: 6s - loss: 0.406 - ETA: 6s - loss: 0.406 - ETA: 6s - loss: 0.406 - ETA: 6s - loss: 0.406 - ETA: 6s - loss: 0.406 - ETA: 6s - loss: 0.406 - ETA: 6s - loss: 0.406 - ETA: 6s - loss: 0.406 - ETA: 6s - loss: 0.406 - ETA: 6s - loss: 0.406 - ETA: 6s - loss: 0.406 - ETA: 5s - loss: 0.406 - ETA: 5s - loss: 0.406 - ETA: 5s - loss: 0.406 - ETA: 5s - loss: 0.406 - ETA: 5s - loss: 0.406 - ETA: 5s - loss: 0.406 - ETA: 5s - loss: 0.406 - ETA: 5s - loss: 0.406 - ETA: 5s - loss: 0.406 - ETA: 5s - loss: 0.406 - ETA: 5s - loss: 0.406 - ETA: 5s - loss: 0.406 - ETA: 5s - loss: 0.406 - ETA: 5s - loss: 0.405 - ETA: 5s - loss: 0.405 - ETA: 5s - loss: 0.406 - ETA: 5s - loss: 0.406 - ETA: 4s - loss: 0.406 - ETA: 4s - loss: 0.406 - ETA: 4s - loss: 0.406 - ETA: 4s - loss: 0.405 - ETA: 4s - loss: 0.405 - ETA: 4s - loss: 0.405 - ETA: 4s - loss: 0.405 - ETA: 4s - loss: 0.405 - ETA: 4s - loss: 0.406 - ETA: 4s - loss: 0.405 - ETA: 4s - loss: 0.405 - ETA: 4s - loss: 0.406 - ETA: 4s - loss: 0.405 - ETA: 4s - loss: 0.405 - ETA: 4s - loss: 0.405 - ETA: 4s - loss: 0.405 - ETA: 4s - loss: 0.405 - ETA: 4s - loss: 0.405 - ETA: 4s - loss: 0.404 - ETA: 4s - loss: 0.405 - ETA: 4s - loss: 0.405 - ETA: 3s - loss: 0.405 - ETA: 3s - loss: 0.405 - ETA: 3s - loss: 0.405 - ETA: 3s - loss: 0.405 - ETA: 3s - loss: 0.405 - ETA: 3s - loss: 0.406 - ETA: 3s - loss: 0.405 - ETA: 3s - loss: 0.405 - ETA: 3s - loss: 0.405 - ETA: 3s - loss: 0.405 - ETA: 3s - loss: 0.405 - ETA: 3s - loss: 0.405 - ETA: 3s - loss: 0.405 - ETA: 3s - loss: 0.405 - ETA: 3s - loss: 0.405 - ETA: 3s - loss: 0.405 - ETA: 3s - loss: 0.405 - ETA: 2s - loss: 0.406 - ETA: 2s - loss: 0.406 - ETA: 2s - loss: 0.406 - ETA: 2s - loss: 0.406 - ETA: 2s - loss: 0.406 - ETA: 2s - loss: 0.406 - ETA: 2s - loss: 0.406 - ETA: 2s - loss: 0.406 - ETA: 2s - loss: 0.406 - ETA: 2s - loss: 0.406 - ETA: 2s - loss: 0.407 - ETA: 2s - loss: 0.406 - ETA: 2s - loss: 0.406 - ETA: 2s - loss: 0.407 - ETA: 2s - loss: 0.407 - ETA: 1s - loss: 0.407 - ETA: 1s - loss: 0.407 - ETA: 1s - loss: 0.407 - ETA: 1s - loss: 0.407 - ETA: 1s - loss: 0.407 - ETA: 1s - loss: 0.407 - ETA: 1s - loss: 0.407 - ETA: 1s - loss: 0.407 - ETA: 1s - loss: 0.407 - ETA: 1s - loss: 0.407 - ETA: 1s - loss: 0.407 - ETA: 1s - loss: 0.407 - ETA: 1s - loss: 0.407 - ETA: 1s - loss: 0.407 - ETA: 1s - loss: 0.407 - ETA: 0s - loss: 0.407 - ETA: 0s - loss: 0.407 - ETA: 0s - loss: 0.407 - ETA: 0s - loss: 0.407 - ETA: 0s - loss: 0.407 - ETA: 0s - loss: 0.407 - ETA: 0s - loss: 0.407 - ETA: 0s - loss: 0.407 - ETA: 0s - loss: 0.407 - ETA: 0s - loss: 0.407 - ETA: 0s - loss: 0.407 - ETA: 0s - loss: 0.407 - ETA: 0s - loss: 0.407 - ETA: 0s - loss: 0.407 - ETA: 0s - loss: 0.407 - ETA: 0s - loss: 0.407 - ETA: 0s - loss: 0.407 - 20s 370us/step - loss: 0.4070 - val_loss: 0.3940\n",
      "Epoch 20/50\n"
     ]
    },
    {
     "name": "stdout",
     "output_type": "stream",
     "text": [
      "50112/55381 [==========================>...] - ETA: 24s - loss: 0.50 - ETA: 23s - loss: 0.41 - ETA: 23s - loss: 0.40 - ETA: 22s - loss: 0.39 - ETA: 21s - loss: 0.40 - ETA: 20s - loss: 0.40 - ETA: 19s - loss: 0.41 - ETA: 18s - loss: 0.40 - ETA: 18s - loss: 0.41 - ETA: 18s - loss: 0.40 - ETA: 18s - loss: 0.40 - ETA: 18s - loss: 0.40 - ETA: 18s - loss: 0.40 - ETA: 19s - loss: 0.40 - ETA: 19s - loss: 0.40 - ETA: 19s - loss: 0.40 - ETA: 20s - loss: 0.39 - ETA: 19s - loss: 0.39 - ETA: 20s - loss: 0.39 - ETA: 20s - loss: 0.39 - ETA: 21s - loss: 0.39 - ETA: 21s - loss: 0.39 - ETA: 20s - loss: 0.40 - ETA: 20s - loss: 0.40 - ETA: 20s - loss: 0.40 - ETA: 19s - loss: 0.40 - ETA: 20s - loss: 0.39 - ETA: 19s - loss: 0.39 - ETA: 19s - loss: 0.39 - ETA: 19s - loss: 0.39 - ETA: 20s - loss: 0.39 - ETA: 20s - loss: 0.39 - ETA: 20s - loss: 0.40 - ETA: 19s - loss: 0.40 - ETA: 19s - loss: 0.39 - ETA: 19s - loss: 0.39 - ETA: 19s - loss: 0.39 - ETA: 19s - loss: 0.39 - ETA: 19s - loss: 0.39 - ETA: 19s - loss: 0.39 - ETA: 19s - loss: 0.39 - ETA: 19s - loss: 0.39 - ETA: 19s - loss: 0.39 - ETA: 19s - loss: 0.39 - ETA: 19s - loss: 0.39 - ETA: 19s - loss: 0.39 - ETA: 19s - loss: 0.39 - ETA: 19s - loss: 0.39 - ETA: 19s - loss: 0.39 - ETA: 19s - loss: 0.39 - ETA: 18s - loss: 0.39 - ETA: 18s - loss: 0.39 - ETA: 18s - loss: 0.39 - ETA: 18s - loss: 0.39 - ETA: 18s - loss: 0.39 - ETA: 18s - loss: 0.39 - ETA: 18s - loss: 0.39 - ETA: 18s - loss: 0.39 - ETA: 18s - loss: 0.40 - ETA: 18s - loss: 0.39 - ETA: 18s - loss: 0.39 - ETA: 18s - loss: 0.39 - ETA: 18s - loss: 0.39 - ETA: 18s - loss: 0.39 - ETA: 18s - loss: 0.39 - ETA: 18s - loss: 0.40 - ETA: 18s - loss: 0.40 - ETA: 18s - loss: 0.40 - ETA: 18s - loss: 0.40 - ETA: 18s - loss: 0.40 - ETA: 18s - loss: 0.40 - ETA: 18s - loss: 0.40 - ETA: 17s - loss: 0.40 - ETA: 17s - loss: 0.40 - ETA: 17s - loss: 0.40 - ETA: 17s - loss: 0.40 - ETA: 17s - loss: 0.40 - ETA: 17s - loss: 0.40 - ETA: 17s - loss: 0.40 - ETA: 17s - loss: 0.40 - ETA: 17s - loss: 0.40 - ETA: 17s - loss: 0.40 - ETA: 17s - loss: 0.40 - ETA: 17s - loss: 0.40 - ETA: 17s - loss: 0.40 - ETA: 17s - loss: 0.40 - ETA: 17s - loss: 0.40 - ETA: 17s - loss: 0.40 - ETA: 16s - loss: 0.40 - ETA: 16s - loss: 0.40 - ETA: 16s - loss: 0.40 - ETA: 16s - loss: 0.40 - ETA: 16s - loss: 0.40 - ETA: 16s - loss: 0.40 - ETA: 16s - loss: 0.40 - ETA: 16s - loss: 0.40 - ETA: 16s - loss: 0.40 - ETA: 16s - loss: 0.40 - ETA: 16s - loss: 0.40 - ETA: 16s - loss: 0.40 - ETA: 16s - loss: 0.40 - ETA: 16s - loss: 0.40 - ETA: 16s - loss: 0.40 - ETA: 16s - loss: 0.40 - ETA: 16s - loss: 0.40 - ETA: 16s - loss: 0.40 - ETA: 16s - loss: 0.40 - ETA: 16s - loss: 0.40 - ETA: 16s - loss: 0.40 - ETA: 15s - loss: 0.40 - ETA: 15s - loss: 0.40 - ETA: 15s - loss: 0.40 - ETA: 15s - loss: 0.40 - ETA: 15s - loss: 0.40 - ETA: 15s - loss: 0.40 - ETA: 15s - loss: 0.40 - ETA: 15s - loss: 0.40 - ETA: 15s - loss: 0.40 - ETA: 15s - loss: 0.40 - ETA: 15s - loss: 0.40 - ETA: 14s - loss: 0.40 - ETA: 14s - loss: 0.40 - ETA: 14s - loss: 0.40 - ETA: 14s - loss: 0.40 - ETA: 14s - loss: 0.40 - ETA: 14s - loss: 0.40 - ETA: 14s - loss: 0.40 - ETA: 14s - loss: 0.40 - ETA: 14s - loss: 0.40 - ETA: 14s - loss: 0.40 - ETA: 14s - loss: 0.40 - ETA: 14s - loss: 0.40 - ETA: 14s - loss: 0.40 - ETA: 14s - loss: 0.40 - ETA: 14s - loss: 0.40 - ETA: 14s - loss: 0.40 - ETA: 14s - loss: 0.40 - ETA: 14s - loss: 0.40 - ETA: 14s - loss: 0.40 - ETA: 14s - loss: 0.40 - ETA: 13s - loss: 0.40 - ETA: 13s - loss: 0.40 - ETA: 13s - loss: 0.40 - ETA: 13s - loss: 0.40 - ETA: 13s - loss: 0.40 - ETA: 13s - loss: 0.40 - ETA: 13s - loss: 0.40 - ETA: 13s - loss: 0.40 - ETA: 13s - loss: 0.40 - ETA: 13s - loss: 0.40 - ETA: 13s - loss: 0.40 - ETA: 13s - loss: 0.40 - ETA: 13s - loss: 0.40 - ETA: 13s - loss: 0.40 - ETA: 13s - loss: 0.40 - ETA: 13s - loss: 0.40 - ETA: 13s - loss: 0.40 - ETA: 13s - loss: 0.40 - ETA: 13s - loss: 0.40 - ETA: 13s - loss: 0.40 - ETA: 12s - loss: 0.40 - ETA: 12s - loss: 0.40 - ETA: 12s - loss: 0.40 - ETA: 12s - loss: 0.40 - ETA: 12s - loss: 0.40 - ETA: 12s - loss: 0.40 - ETA: 12s - loss: 0.40 - ETA: 12s - loss: 0.40 - ETA: 12s - loss: 0.40 - ETA: 12s - loss: 0.40 - ETA: 12s - loss: 0.40 - ETA: 12s - loss: 0.40 - ETA: 12s - loss: 0.40 - ETA: 12s - loss: 0.40 - ETA: 12s - loss: 0.40 - ETA: 12s - loss: 0.40 - ETA: 12s - loss: 0.40 - ETA: 12s - loss: 0.40 - ETA: 11s - loss: 0.40 - ETA: 11s - loss: 0.40 - ETA: 11s - loss: 0.40 - ETA: 11s - loss: 0.40 - ETA: 11s - loss: 0.40 - ETA: 11s - loss: 0.40 - ETA: 11s - loss: 0.40 - ETA: 11s - loss: 0.40 - ETA: 11s - loss: 0.40 - ETA: 11s - loss: 0.40 - ETA: 11s - loss: 0.40 - ETA: 11s - loss: 0.40 - ETA: 11s - loss: 0.40 - ETA: 11s - loss: 0.40 - ETA: 11s - loss: 0.40 - ETA: 10s - loss: 0.40 - ETA: 10s - loss: 0.40 - ETA: 10s - loss: 0.40 - ETA: 10s - loss: 0.40 - ETA: 10s - loss: 0.40 - ETA: 10s - loss: 0.40 - ETA: 10s - loss: 0.40 - ETA: 10s - loss: 0.40 - ETA: 10s - loss: 0.40 - ETA: 10s - loss: 0.40 - ETA: 10s - loss: 0.40 - ETA: 10s - loss: 0.40 - ETA: 10s - loss: 0.40 - ETA: 10s - loss: 0.40 - ETA: 10s - loss: 0.40 - ETA: 10s - loss: 0.40 - ETA: 10s - loss: 0.40 - ETA: 9s - loss: 0.4076 - ETA: 9s - loss: 0.407 - ETA: 9s - loss: 0.407 - ETA: 9s - loss: 0.408 - ETA: 9s - loss: 0.408 - ETA: 9s - loss: 0.408 - ETA: 9s - loss: 0.408 - ETA: 9s - loss: 0.408 - ETA: 9s - loss: 0.408 - ETA: 9s - loss: 0.408 - ETA: 9s - loss: 0.408 - ETA: 9s - loss: 0.408 - ETA: 9s - loss: 0.407 - ETA: 9s - loss: 0.407 - ETA: 9s - loss: 0.407 - ETA: 9s - loss: 0.407 - ETA: 8s - loss: 0.407 - ETA: 8s - loss: 0.407 - ETA: 8s - loss: 0.407 - ETA: 8s - loss: 0.407 - ETA: 8s - loss: 0.407 - ETA: 8s - loss: 0.407 - ETA: 8s - loss: 0.407 - ETA: 8s - loss: 0.407 - ETA: 8s - loss: 0.407 - ETA: 8s - loss: 0.407 - ETA: 8s - loss: 0.407 - ETA: 8s - loss: 0.407 - ETA: 8s - loss: 0.407 - ETA: 8s - loss: 0.407 - ETA: 8s - loss: 0.407 - ETA: 8s - loss: 0.407 - ETA: 8s - loss: 0.407 - ETA: 7s - loss: 0.407 - ETA: 7s - loss: 0.407 - ETA: 7s - loss: 0.407 - ETA: 7s - loss: 0.407 - ETA: 7s - loss: 0.407 - ETA: 7s - loss: 0.407 - ETA: 7s - loss: 0.406 - ETA: 7s - loss: 0.406 - ETA: 7s - loss: 0.407 - ETA: 7s - loss: 0.407 - ETA: 7s - loss: 0.407 - ETA: 7s - loss: 0.407 - ETA: 7s - loss: 0.407 - ETA: 7s - loss: 0.407 - ETA: 7s - loss: 0.407 - ETA: 7s - loss: 0.407 - ETA: 6s - loss: 0.407 - ETA: 6s - loss: 0.407 - ETA: 6s - loss: 0.407 - ETA: 6s - loss: 0.407 - ETA: 6s - loss: 0.407 - ETA: 6s - loss: 0.407 - ETA: 6s - loss: 0.407 - ETA: 6s - loss: 0.408 - ETA: 6s - loss: 0.408 - ETA: 6s - loss: 0.408 - ETA: 6s - loss: 0.408 - ETA: 6s - loss: 0.408 - ETA: 6s - loss: 0.407 - ETA: 6s - loss: 0.407 - ETA: 6s - loss: 0.407 - ETA: 6s - loss: 0.407 - ETA: 6s - loss: 0.407 - ETA: 6s - loss: 0.407 - ETA: 5s - loss: 0.407 - ETA: 5s - loss: 0.407 - ETA: 5s - loss: 0.407 - ETA: 5s - loss: 0.407 - ETA: 5s - loss: 0.407 - ETA: 5s - loss: 0.407 - ETA: 5s - loss: 0.407 - ETA: 5s - loss: 0.407 - ETA: 5s - loss: 0.407 - ETA: 5s - loss: 0.408 - ETA: 5s - loss: 0.408 - ETA: 5s - loss: 0.408 - ETA: 5s - loss: 0.408 - ETA: 5s - loss: 0.408 - ETA: 5s - loss: 0.408 - ETA: 4s - loss: 0.408 - ETA: 4s - loss: 0.408 - ETA: 4s - loss: 0.407 - ETA: 4s - loss: 0.407 - ETA: 4s - loss: 0.408 - ETA: 4s - loss: 0.407 - ETA: 4s - loss: 0.407 - ETA: 4s - loss: 0.407 - ETA: 4s - loss: 0.407 - ETA: 4s - loss: 0.407 - ETA: 4s - loss: 0.407 - ETA: 4s - loss: 0.407 - ETA: 4s - loss: 0.407 - ETA: 4s - loss: 0.407 - ETA: 4s - loss: 0.407 - ETA: 3s - loss: 0.407 - ETA: 3s - loss: 0.407 - ETA: 3s - loss: 0.407 - ETA: 3s - loss: 0.407 - ETA: 3s - loss: 0.407 - ETA: 3s - loss: 0.407 - ETA: 3s - loss: 0.407 - ETA: 3s - loss: 0.407 - ETA: 3s - loss: 0.407 - ETA: 3s - loss: 0.407 - ETA: 3s - loss: 0.408 - ETA: 3s - loss: 0.408 - ETA: 3s - loss: 0.408 - ETA: 3s - loss: 0.408 - ETA: 3s - loss: 0.407 - ETA: 3s - loss: 0.407 - ETA: 3s - loss: 0.407 - ETA: 3s - loss: 0.407 - ETA: 3s - loss: 0.407 - ETA: 2s - loss: 0.407 - ETA: 2s - loss: 0.407 - ETA: 2s - loss: 0.407 - ETA: 2s - loss: 0.407 - ETA: 2s - loss: 0.407 - ETA: 2s - loss: 0.408 - ETA: 2s - loss: 0.407 - ETA: 2s - loss: 0.407 - ETA: 2s - loss: 0.408 - ETA: 2s - loss: 0.408 - ETA: 2s - loss: 0.408 - ETA: 2s - loss: 0.407 - ETA: 2s - loss: 0.408 - ETA: 2s - loss: 0.4080"
     ]
    },
    {
     "name": "stdout",
     "output_type": "stream",
     "text": [
      "55381/55381 [==============================] - ETA: 2s - loss: 0.408 - ETA: 2s - loss: 0.407 - ETA: 1s - loss: 0.407 - ETA: 1s - loss: 0.407 - ETA: 1s - loss: 0.408 - ETA: 1s - loss: 0.407 - ETA: 1s - loss: 0.407 - ETA: 1s - loss: 0.407 - ETA: 1s - loss: 0.407 - ETA: 1s - loss: 0.407 - ETA: 1s - loss: 0.407 - ETA: 1s - loss: 0.407 - ETA: 1s - loss: 0.407 - ETA: 1s - loss: 0.407 - ETA: 1s - loss: 0.407 - ETA: 1s - loss: 0.407 - ETA: 1s - loss: 0.407 - ETA: 1s - loss: 0.407 - ETA: 1s - loss: 0.407 - ETA: 0s - loss: 0.407 - ETA: 0s - loss: 0.407 - ETA: 0s - loss: 0.407 - ETA: 0s - loss: 0.407 - ETA: 0s - loss: 0.407 - ETA: 0s - loss: 0.407 - ETA: 0s - loss: 0.408 - ETA: 0s - loss: 0.408 - ETA: 0s - loss: 0.408 - ETA: 0s - loss: 0.408 - ETA: 0s - loss: 0.408 - ETA: 0s - loss: 0.408 - ETA: 0s - loss: 0.407 - ETA: 0s - loss: 0.407 - 23s 421us/step - loss: 0.4080 - val_loss: 0.3934\n",
      "Epoch 21/50\n",
      "49728/55381 [=========================>....] - ETA: 13s - loss: 0.40 - ETA: 16s - loss: 0.40 - ETA: 18s - loss: 0.38 - ETA: 17s - loss: 0.39 - ETA: 17s - loss: 0.38 - ETA: 17s - loss: 0.38 - ETA: 18s - loss: 0.38 - ETA: 18s - loss: 0.38 - ETA: 19s - loss: 0.38 - ETA: 19s - loss: 0.37 - ETA: 19s - loss: 0.38 - ETA: 20s - loss: 0.37 - ETA: 20s - loss: 0.37 - ETA: 19s - loss: 0.38 - ETA: 20s - loss: 0.37 - ETA: 19s - loss: 0.38 - ETA: 19s - loss: 0.38 - ETA: 20s - loss: 0.38 - ETA: 20s - loss: 0.38 - ETA: 20s - loss: 0.38 - ETA: 20s - loss: 0.38 - ETA: 20s - loss: 0.38 - ETA: 20s - loss: 0.39 - ETA: 20s - loss: 0.39 - ETA: 20s - loss: 0.39 - ETA: 20s - loss: 0.39 - ETA: 20s - loss: 0.39 - ETA: 19s - loss: 0.39 - ETA: 19s - loss: 0.39 - ETA: 19s - loss: 0.39 - ETA: 20s - loss: 0.39 - ETA: 20s - loss: 0.39 - ETA: 19s - loss: 0.39 - ETA: 20s - loss: 0.39 - ETA: 19s - loss: 0.40 - ETA: 19s - loss: 0.40 - ETA: 19s - loss: 0.40 - ETA: 19s - loss: 0.40 - ETA: 19s - loss: 0.39 - ETA: 19s - loss: 0.39 - ETA: 19s - loss: 0.39 - ETA: 19s - loss: 0.39 - ETA: 19s - loss: 0.39 - ETA: 19s - loss: 0.39 - ETA: 19s - loss: 0.39 - ETA: 19s - loss: 0.39 - ETA: 19s - loss: 0.39 - ETA: 19s - loss: 0.39 - ETA: 19s - loss: 0.39 - ETA: 19s - loss: 0.39 - ETA: 19s - loss: 0.39 - ETA: 19s - loss: 0.39 - ETA: 19s - loss: 0.39 - ETA: 19s - loss: 0.39 - ETA: 19s - loss: 0.39 - ETA: 19s - loss: 0.39 - ETA: 19s - loss: 0.39 - ETA: 19s - loss: 0.39 - ETA: 19s - loss: 0.39 - ETA: 19s - loss: 0.39 - ETA: 19s - loss: 0.39 - ETA: 19s - loss: 0.39 - ETA: 19s - loss: 0.39 - ETA: 19s - loss: 0.39 - ETA: 19s - loss: 0.39 - ETA: 19s - loss: 0.39 - ETA: 19s - loss: 0.39 - ETA: 19s - loss: 0.39 - ETA: 19s - loss: 0.39 - ETA: 19s - loss: 0.39 - ETA: 20s - loss: 0.39 - ETA: 20s - loss: 0.39 - ETA: 20s - loss: 0.39 - ETA: 20s - loss: 0.39 - ETA: 20s - loss: 0.39 - ETA: 20s - loss: 0.39 - ETA: 20s - loss: 0.39 - ETA: 20s - loss: 0.39 - ETA: 20s - loss: 0.39 - ETA: 20s - loss: 0.39 - ETA: 20s - loss: 0.39 - ETA: 20s - loss: 0.39 - ETA: 20s - loss: 0.39 - ETA: 19s - loss: 0.39 - ETA: 19s - loss: 0.39 - ETA: 19s - loss: 0.39 - ETA: 19s - loss: 0.39 - ETA: 19s - loss: 0.39 - ETA: 19s - loss: 0.39 - ETA: 19s - loss: 0.39 - ETA: 19s - loss: 0.39 - ETA: 19s - loss: 0.39 - ETA: 19s - loss: 0.39 - ETA: 19s - loss: 0.39 - ETA: 19s - loss: 0.39 - ETA: 19s - loss: 0.39 - ETA: 19s - loss: 0.39 - ETA: 19s - loss: 0.39 - ETA: 19s - loss: 0.39 - ETA: 18s - loss: 0.39 - ETA: 18s - loss: 0.39 - ETA: 18s - loss: 0.39 - ETA: 18s - loss: 0.39 - ETA: 18s - loss: 0.39 - ETA: 18s - loss: 0.39 - ETA: 18s - loss: 0.39 - ETA: 18s - loss: 0.39 - ETA: 18s - loss: 0.39 - ETA: 18s - loss: 0.39 - ETA: 18s - loss: 0.39 - ETA: 18s - loss: 0.39 - ETA: 18s - loss: 0.39 - ETA: 18s - loss: 0.39 - ETA: 18s - loss: 0.39 - ETA: 17s - loss: 0.39 - ETA: 17s - loss: 0.39 - ETA: 17s - loss: 0.39 - ETA: 17s - loss: 0.39 - ETA: 17s - loss: 0.39 - ETA: 17s - loss: 0.39 - ETA: 17s - loss: 0.39 - ETA: 17s - loss: 0.39 - ETA: 17s - loss: 0.39 - ETA: 17s - loss: 0.39 - ETA: 17s - loss: 0.39 - ETA: 17s - loss: 0.39 - ETA: 17s - loss: 0.39 - ETA: 17s - loss: 0.39 - ETA: 17s - loss: 0.39 - ETA: 16s - loss: 0.39 - ETA: 16s - loss: 0.39 - ETA: 16s - loss: 0.39 - ETA: 16s - loss: 0.39 - ETA: 16s - loss: 0.39 - ETA: 16s - loss: 0.39 - ETA: 16s - loss: 0.39 - ETA: 16s - loss: 0.39 - ETA: 16s - loss: 0.39 - ETA: 15s - loss: 0.39 - ETA: 15s - loss: 0.39 - ETA: 15s - loss: 0.39 - ETA: 15s - loss: 0.39 - ETA: 15s - loss: 0.39 - ETA: 15s - loss: 0.39 - ETA: 15s - loss: 0.39 - ETA: 15s - loss: 0.39 - ETA: 15s - loss: 0.39 - ETA: 15s - loss: 0.39 - ETA: 15s - loss: 0.39 - ETA: 15s - loss: 0.39 - ETA: 15s - loss: 0.39 - ETA: 14s - loss: 0.39 - ETA: 14s - loss: 0.39 - ETA: 14s - loss: 0.39 - ETA: 14s - loss: 0.39 - ETA: 14s - loss: 0.39 - ETA: 14s - loss: 0.39 - ETA: 14s - loss: 0.39 - ETA: 14s - loss: 0.39 - ETA: 14s - loss: 0.39 - ETA: 14s - loss: 0.39 - ETA: 14s - loss: 0.39 - ETA: 14s - loss: 0.39 - ETA: 14s - loss: 0.39 - ETA: 14s - loss: 0.39 - ETA: 14s - loss: 0.39 - ETA: 14s - loss: 0.39 - ETA: 13s - loss: 0.39 - ETA: 13s - loss: 0.39 - ETA: 13s - loss: 0.39 - ETA: 13s - loss: 0.39 - ETA: 13s - loss: 0.39 - ETA: 13s - loss: 0.39 - ETA: 13s - loss: 0.39 - ETA: 13s - loss: 0.39 - ETA: 13s - loss: 0.39 - ETA: 13s - loss: 0.39 - ETA: 13s - loss: 0.39 - ETA: 13s - loss: 0.39 - ETA: 13s - loss: 0.39 - ETA: 13s - loss: 0.39 - ETA: 13s - loss: 0.39 - ETA: 13s - loss: 0.39 - ETA: 12s - loss: 0.39 - ETA: 12s - loss: 0.39 - ETA: 12s - loss: 0.39 - ETA: 12s - loss: 0.39 - ETA: 12s - loss: 0.39 - ETA: 12s - loss: 0.39 - ETA: 12s - loss: 0.39 - ETA: 12s - loss: 0.39 - ETA: 12s - loss: 0.39 - ETA: 12s - loss: 0.39 - ETA: 12s - loss: 0.39 - ETA: 12s - loss: 0.39 - ETA: 12s - loss: 0.39 - ETA: 12s - loss: 0.39 - ETA: 12s - loss: 0.40 - ETA: 11s - loss: 0.40 - ETA: 11s - loss: 0.40 - ETA: 11s - loss: 0.40 - ETA: 11s - loss: 0.40 - ETA: 11s - loss: 0.40 - ETA: 11s - loss: 0.40 - ETA: 11s - loss: 0.40 - ETA: 11s - loss: 0.40 - ETA: 11s - loss: 0.40 - ETA: 11s - loss: 0.40 - ETA: 11s - loss: 0.40 - ETA: 11s - loss: 0.40 - ETA: 11s - loss: 0.40 - ETA: 11s - loss: 0.40 - ETA: 11s - loss: 0.40 - ETA: 11s - loss: 0.40 - ETA: 10s - loss: 0.40 - ETA: 10s - loss: 0.40 - ETA: 10s - loss: 0.40 - ETA: 10s - loss: 0.40 - ETA: 10s - loss: 0.40 - ETA: 10s - loss: 0.40 - ETA: 10s - loss: 0.40 - ETA: 10s - loss: 0.40 - ETA: 10s - loss: 0.40 - ETA: 10s - loss: 0.40 - ETA: 10s - loss: 0.40 - ETA: 10s - loss: 0.40 - ETA: 10s - loss: 0.40 - ETA: 10s - loss: 0.40 - ETA: 10s - loss: 0.40 - ETA: 10s - loss: 0.40 - ETA: 10s - loss: 0.40 - ETA: 10s - loss: 0.40 - ETA: 10s - loss: 0.40 - ETA: 10s - loss: 0.40 - ETA: 9s - loss: 0.4036 - ETA: 9s - loss: 0.403 - ETA: 9s - loss: 0.403 - ETA: 9s - loss: 0.403 - ETA: 9s - loss: 0.403 - ETA: 9s - loss: 0.403 - ETA: 9s - loss: 0.403 - ETA: 9s - loss: 0.403 - ETA: 9s - loss: 0.404 - ETA: 9s - loss: 0.404 - ETA: 9s - loss: 0.403 - ETA: 9s - loss: 0.403 - ETA: 9s - loss: 0.404 - ETA: 9s - loss: 0.404 - ETA: 8s - loss: 0.404 - ETA: 8s - loss: 0.404 - ETA: 8s - loss: 0.404 - ETA: 8s - loss: 0.404 - ETA: 8s - loss: 0.404 - ETA: 8s - loss: 0.404 - ETA: 8s - loss: 0.404 - ETA: 8s - loss: 0.404 - ETA: 8s - loss: 0.405 - ETA: 8s - loss: 0.405 - ETA: 8s - loss: 0.404 - ETA: 8s - loss: 0.404 - ETA: 8s - loss: 0.404 - ETA: 7s - loss: 0.405 - ETA: 7s - loss: 0.405 - ETA: 7s - loss: 0.405 - ETA: 7s - loss: 0.404 - ETA: 7s - loss: 0.404 - ETA: 7s - loss: 0.404 - ETA: 7s - loss: 0.404 - ETA: 7s - loss: 0.404 - ETA: 7s - loss: 0.404 - ETA: 7s - loss: 0.404 - ETA: 7s - loss: 0.404 - ETA: 7s - loss: 0.404 - ETA: 7s - loss: 0.405 - ETA: 7s - loss: 0.405 - ETA: 6s - loss: 0.405 - ETA: 6s - loss: 0.406 - ETA: 6s - loss: 0.406 - ETA: 6s - loss: 0.406 - ETA: 6s - loss: 0.406 - ETA: 6s - loss: 0.406 - ETA: 6s - loss: 0.406 - ETA: 6s - loss: 0.406 - ETA: 6s - loss: 0.406 - ETA: 6s - loss: 0.406 - ETA: 6s - loss: 0.406 - ETA: 6s - loss: 0.406 - ETA: 6s - loss: 0.406 - ETA: 5s - loss: 0.406 - ETA: 5s - loss: 0.406 - ETA: 5s - loss: 0.406 - ETA: 5s - loss: 0.406 - ETA: 5s - loss: 0.406 - ETA: 5s - loss: 0.406 - ETA: 5s - loss: 0.406 - ETA: 5s - loss: 0.406 - ETA: 5s - loss: 0.406 - ETA: 5s - loss: 0.406 - ETA: 5s - loss: 0.406 - ETA: 5s - loss: 0.406 - ETA: 5s - loss: 0.406 - ETA: 5s - loss: 0.406 - ETA: 4s - loss: 0.406 - ETA: 4s - loss: 0.406 - ETA: 4s - loss: 0.406 - ETA: 4s - loss: 0.406 - ETA: 4s - loss: 0.406 - ETA: 4s - loss: 0.406 - ETA: 4s - loss: 0.406 - ETA: 4s - loss: 0.405 - ETA: 4s - loss: 0.406 - ETA: 4s - loss: 0.406 - ETA: 4s - loss: 0.405 - ETA: 4s - loss: 0.405 - ETA: 4s - loss: 0.405 - ETA: 4s - loss: 0.405 - ETA: 4s - loss: 0.405 - ETA: 4s - loss: 0.405 - ETA: 3s - loss: 0.405 - ETA: 3s - loss: 0.405 - ETA: 3s - loss: 0.405 - ETA: 3s - loss: 0.405 - ETA: 3s - loss: 0.405 - ETA: 3s - loss: 0.404 - ETA: 3s - loss: 0.404 - ETA: 3s - loss: 0.404 - ETA: 3s - loss: 0.404 - ETA: 3s - loss: 0.405 - ETA: 3s - loss: 0.405 - ETA: 3s - loss: 0.404 - ETA: 2s - loss: 0.404 - ETA: 2s - loss: 0.405 - ETA: 2s - loss: 0.405 - ETA: 2s - loss: 0.404 - ETA: 2s - loss: 0.404 - ETA: 2s - loss: 0.405 - ETA: 2s - loss: 0.405 - ETA: 2s - loss: 0.405 - ETA: 2s - loss: 0.405 - ETA: 2s - loss: 0.405055381/55381 [==============================] - ETA: 2s - loss: 0.404 - ETA: 2s - loss: 0.404 - ETA: 2s - loss: 0.405 - ETA: 2s - loss: 0.405 - ETA: 2s - loss: 0.405 - ETA: 1s - loss: 0.404 - ETA: 1s - loss: 0.404 - ETA: 1s - loss: 0.404 - ETA: 1s - loss: 0.404 - ETA: 1s - loss: 0.404 - ETA: 1s - loss: 0.404 - ETA: 1s - loss: 0.404 - ETA: 1s - loss: 0.404 - ETA: 1s - loss: 0.404 - ETA: 1s - loss: 0.404 - ETA: 1s - loss: 0.404 - ETA: 1s - loss: 0.404 - ETA: 1s - loss: 0.404 - ETA: 1s - loss: 0.404 - ETA: 1s - loss: 0.404 - ETA: 0s - loss: 0.404 - ETA: 0s - loss: 0.404 - ETA: 0s - loss: 0.404 - ETA: 0s - loss: 0.405 - ETA: 0s - loss: 0.405 - ETA: 0s - loss: 0.405 - ETA: 0s - loss: 0.405 - ETA: 0s - loss: 0.405 - ETA: 0s - loss: 0.405 - ETA: 0s - loss: 0.405 - ETA: 0s - loss: 0.405 - ETA: 0s - loss: 0.405 - ETA: 0s - loss: 0.405 - ETA: 0s - loss: 0.405 - ETA: 0s - loss: 0.405 - ETA: 0s - loss: 0.406 - ETA: 0s - loss: 0.405 - 23s 420us/step - loss: 0.4059 - val_loss: 0.4076\n",
      "Epoch 22/50\n"
     ]
    },
    {
     "name": "stdout",
     "output_type": "stream",
     "text": [
      "55381/55381 [==============================] - ETA: 13s - loss: 0.33 - ETA: 17s - loss: 0.37 - ETA: 21s - loss: 0.38 - ETA: 20s - loss: 0.38 - ETA: 21s - loss: 0.38 - ETA: 20s - loss: 0.39 - ETA: 19s - loss: 0.41 - ETA: 20s - loss: 0.42 - ETA: 20s - loss: 0.43 - ETA: 20s - loss: 0.43 - ETA: 22s - loss: 0.43 - ETA: 21s - loss: 0.42 - ETA: 21s - loss: 0.43 - ETA: 21s - loss: 0.43 - ETA: 22s - loss: 0.43 - ETA: 23s - loss: 0.43 - ETA: 22s - loss: 0.43 - ETA: 22s - loss: 0.42 - ETA: 22s - loss: 0.42 - ETA: 22s - loss: 0.41 - ETA: 22s - loss: 0.41 - ETA: 22s - loss: 0.41 - ETA: 22s - loss: 0.41 - ETA: 22s - loss: 0.41 - ETA: 21s - loss: 0.41 - ETA: 21s - loss: 0.41 - ETA: 21s - loss: 0.41 - ETA: 20s - loss: 0.41 - ETA: 20s - loss: 0.41 - ETA: 20s - loss: 0.42 - ETA: 20s - loss: 0.41 - ETA: 20s - loss: 0.41 - ETA: 20s - loss: 0.41 - ETA: 19s - loss: 0.41 - ETA: 19s - loss: 0.41 - ETA: 19s - loss: 0.41 - ETA: 20s - loss: 0.41 - ETA: 20s - loss: 0.41 - ETA: 20s - loss: 0.41 - ETA: 19s - loss: 0.41 - ETA: 19s - loss: 0.41 - ETA: 20s - loss: 0.41 - ETA: 19s - loss: 0.41 - ETA: 19s - loss: 0.41 - ETA: 19s - loss: 0.41 - ETA: 19s - loss: 0.41 - ETA: 19s - loss: 0.41 - ETA: 19s - loss: 0.41 - ETA: 19s - loss: 0.41 - ETA: 18s - loss: 0.41 - ETA: 18s - loss: 0.41 - ETA: 18s - loss: 0.41 - ETA: 18s - loss: 0.41 - ETA: 19s - loss: 0.41 - ETA: 18s - loss: 0.41 - ETA: 18s - loss: 0.41 - ETA: 18s - loss: 0.41 - ETA: 18s - loss: 0.41 - ETA: 18s - loss: 0.41 - ETA: 18s - loss: 0.41 - ETA: 18s - loss: 0.41 - ETA: 18s - loss: 0.41 - ETA: 18s - loss: 0.41 - ETA: 18s - loss: 0.41 - ETA: 18s - loss: 0.41 - ETA: 17s - loss: 0.41 - ETA: 17s - loss: 0.41 - ETA: 17s - loss: 0.41 - ETA: 17s - loss: 0.41 - ETA: 17s - loss: 0.40 - ETA: 17s - loss: 0.40 - ETA: 17s - loss: 0.41 - ETA: 17s - loss: 0.41 - ETA: 17s - loss: 0.41 - ETA: 17s - loss: 0.41 - ETA: 16s - loss: 0.40 - ETA: 16s - loss: 0.40 - ETA: 16s - loss: 0.40 - ETA: 16s - loss: 0.40 - ETA: 16s - loss: 0.40 - ETA: 16s - loss: 0.40 - ETA: 16s - loss: 0.40 - ETA: 16s - loss: 0.40 - ETA: 16s - loss: 0.40 - ETA: 16s - loss: 0.40 - ETA: 16s - loss: 0.40 - ETA: 16s - loss: 0.40 - ETA: 16s - loss: 0.40 - ETA: 15s - loss: 0.40 - ETA: 15s - loss: 0.40 - ETA: 15s - loss: 0.40 - ETA: 15s - loss: 0.40 - ETA: 15s - loss: 0.40 - ETA: 15s - loss: 0.40 - ETA: 15s - loss: 0.40 - ETA: 15s - loss: 0.40 - ETA: 15s - loss: 0.40 - ETA: 15s - loss: 0.40 - ETA: 15s - loss: 0.40 - ETA: 14s - loss: 0.40 - ETA: 14s - loss: 0.40 - ETA: 15s - loss: 0.40 - ETA: 14s - loss: 0.40 - ETA: 14s - loss: 0.40 - ETA: 14s - loss: 0.40 - ETA: 14s - loss: 0.40 - ETA: 14s - loss: 0.40 - ETA: 14s - loss: 0.40 - ETA: 14s - loss: 0.40 - ETA: 14s - loss: 0.40 - ETA: 14s - loss: 0.40 - ETA: 14s - loss: 0.40 - ETA: 14s - loss: 0.40 - ETA: 14s - loss: 0.40 - ETA: 14s - loss: 0.40 - ETA: 13s - loss: 0.40 - ETA: 13s - loss: 0.40 - ETA: 13s - loss: 0.40 - ETA: 13s - loss: 0.40 - ETA: 13s - loss: 0.40 - ETA: 13s - loss: 0.40 - ETA: 13s - loss: 0.40 - ETA: 13s - loss: 0.40 - ETA: 13s - loss: 0.40 - ETA: 13s - loss: 0.40 - ETA: 13s - loss: 0.40 - ETA: 13s - loss: 0.40 - ETA: 13s - loss: 0.40 - ETA: 13s - loss: 0.40 - ETA: 13s - loss: 0.40 - ETA: 13s - loss: 0.40 - ETA: 13s - loss: 0.40 - ETA: 12s - loss: 0.40 - ETA: 12s - loss: 0.40 - ETA: 12s - loss: 0.40 - ETA: 12s - loss: 0.40 - ETA: 12s - loss: 0.40 - ETA: 12s - loss: 0.40 - ETA: 12s - loss: 0.40 - ETA: 12s - loss: 0.40 - ETA: 12s - loss: 0.40 - ETA: 12s - loss: 0.40 - ETA: 12s - loss: 0.40 - ETA: 12s - loss: 0.40 - ETA: 11s - loss: 0.40 - ETA: 11s - loss: 0.40 - ETA: 11s - loss: 0.40 - ETA: 11s - loss: 0.40 - ETA: 11s - loss: 0.40 - ETA: 11s - loss: 0.40 - ETA: 11s - loss: 0.40 - ETA: 11s - loss: 0.40 - ETA: 11s - loss: 0.40 - ETA: 11s - loss: 0.40 - ETA: 11s - loss: 0.40 - ETA: 11s - loss: 0.40 - ETA: 11s - loss: 0.40 - ETA: 11s - loss: 0.40 - ETA: 11s - loss: 0.40 - ETA: 11s - loss: 0.40 - ETA: 11s - loss: 0.40 - ETA: 10s - loss: 0.40 - ETA: 11s - loss: 0.40 - ETA: 10s - loss: 0.40 - ETA: 11s - loss: 0.40 - ETA: 10s - loss: 0.40 - ETA: 10s - loss: 0.40 - ETA: 10s - loss: 0.40 - ETA: 10s - loss: 0.40 - ETA: 10s - loss: 0.40 - ETA: 10s - loss: 0.40 - ETA: 10s - loss: 0.40 - ETA: 10s - loss: 0.40 - ETA: 10s - loss: 0.40 - ETA: 10s - loss: 0.40 - ETA: 10s - loss: 0.40 - ETA: 10s - loss: 0.40 - ETA: 10s - loss: 0.40 - ETA: 10s - loss: 0.40 - ETA: 10s - loss: 0.40 - ETA: 10s - loss: 0.40 - ETA: 9s - loss: 0.4031 - ETA: 9s - loss: 0.403 - ETA: 9s - loss: 0.403 - ETA: 9s - loss: 0.403 - ETA: 9s - loss: 0.403 - ETA: 9s - loss: 0.403 - ETA: 9s - loss: 0.403 - ETA: 9s - loss: 0.403 - ETA: 9s - loss: 0.403 - ETA: 9s - loss: 0.403 - ETA: 9s - loss: 0.402 - ETA: 9s - loss: 0.402 - ETA: 9s - loss: 0.402 - ETA: 8s - loss: 0.403 - ETA: 8s - loss: 0.403 - ETA: 8s - loss: 0.403 - ETA: 8s - loss: 0.403 - ETA: 8s - loss: 0.403 - ETA: 8s - loss: 0.403 - ETA: 8s - loss: 0.403 - ETA: 8s - loss: 0.403 - ETA: 8s - loss: 0.403 - ETA: 8s - loss: 0.403 - ETA: 8s - loss: 0.403 - ETA: 8s - loss: 0.403 - ETA: 8s - loss: 0.403 - ETA: 8s - loss: 0.403 - ETA: 8s - loss: 0.403 - ETA: 7s - loss: 0.404 - ETA: 7s - loss: 0.403 - ETA: 7s - loss: 0.403 - ETA: 7s - loss: 0.403 - ETA: 7s - loss: 0.403 - ETA: 7s - loss: 0.403 - ETA: 7s - loss: 0.403 - ETA: 7s - loss: 0.403 - ETA: 7s - loss: 0.404 - ETA: 7s - loss: 0.404 - ETA: 7s - loss: 0.404 - ETA: 7s - loss: 0.404 - ETA: 7s - loss: 0.404 - ETA: 7s - loss: 0.403 - ETA: 6s - loss: 0.403 - ETA: 6s - loss: 0.403 - ETA: 6s - loss: 0.403 - ETA: 6s - loss: 0.403 - ETA: 6s - loss: 0.403 - ETA: 6s - loss: 0.403 - ETA: 6s - loss: 0.403 - ETA: 6s - loss: 0.403 - ETA: 6s - loss: 0.404 - ETA: 6s - loss: 0.403 - ETA: 6s - loss: 0.403 - ETA: 6s - loss: 0.403 - ETA: 6s - loss: 0.404 - ETA: 6s - loss: 0.404 - ETA: 6s - loss: 0.404 - ETA: 6s - loss: 0.404 - ETA: 6s - loss: 0.404 - ETA: 6s - loss: 0.404 - ETA: 5s - loss: 0.404 - ETA: 5s - loss: 0.404 - ETA: 5s - loss: 0.404 - ETA: 5s - loss: 0.404 - ETA: 5s - loss: 0.404 - ETA: 5s - loss: 0.404 - ETA: 5s - loss: 0.404 - ETA: 5s - loss: 0.403 - ETA: 5s - loss: 0.404 - ETA: 5s - loss: 0.403 - ETA: 5s - loss: 0.403 - ETA: 5s - loss: 0.403 - ETA: 5s - loss: 0.403 - ETA: 5s - loss: 0.403 - ETA: 5s - loss: 0.403 - ETA: 5s - loss: 0.403 - ETA: 4s - loss: 0.403 - ETA: 4s - loss: 0.403 - ETA: 4s - loss: 0.404 - ETA: 4s - loss: 0.404 - ETA: 4s - loss: 0.403 - ETA: 4s - loss: 0.403 - ETA: 4s - loss: 0.403 - ETA: 4s - loss: 0.403 - ETA: 4s - loss: 0.403 - ETA: 4s - loss: 0.403 - ETA: 4s - loss: 0.403 - ETA: 4s - loss: 0.403 - ETA: 4s - loss: 0.403 - ETA: 4s - loss: 0.403 - ETA: 4s - loss: 0.403 - ETA: 4s - loss: 0.403 - ETA: 3s - loss: 0.403 - ETA: 3s - loss: 0.403 - ETA: 3s - loss: 0.403 - ETA: 3s - loss: 0.403 - ETA: 3s - loss: 0.403 - ETA: 3s - loss: 0.403 - ETA: 3s - loss: 0.403 - ETA: 3s - loss: 0.403 - ETA: 3s - loss: 0.403 - ETA: 3s - loss: 0.403 - ETA: 3s - loss: 0.403 - ETA: 3s - loss: 0.404 - ETA: 3s - loss: 0.403 - ETA: 3s - loss: 0.403 - ETA: 3s - loss: 0.403 - ETA: 2s - loss: 0.403 - ETA: 2s - loss: 0.403 - ETA: 2s - loss: 0.403 - ETA: 2s - loss: 0.403 - ETA: 2s - loss: 0.403 - ETA: 2s - loss: 0.403 - ETA: 2s - loss: 0.402 - ETA: 2s - loss: 0.402 - ETA: 2s - loss: 0.402 - ETA: 2s - loss: 0.402 - ETA: 2s - loss: 0.403 - ETA: 2s - loss: 0.403 - ETA: 2s - loss: 0.403 - ETA: 2s - loss: 0.403 - ETA: 2s - loss: 0.403 - ETA: 2s - loss: 0.402 - ETA: 1s - loss: 0.402 - ETA: 1s - loss: 0.402 - ETA: 1s - loss: 0.402 - ETA: 1s - loss: 0.402 - ETA: 1s - loss: 0.402 - ETA: 1s - loss: 0.402 - ETA: 1s - loss: 0.403 - ETA: 1s - loss: 0.403 - ETA: 1s - loss: 0.403 - ETA: 1s - loss: 0.403 - ETA: 1s - loss: 0.402 - ETA: 1s - loss: 0.402 - ETA: 1s - loss: 0.402 - ETA: 1s - loss: 0.402 - ETA: 1s - loss: 0.402 - ETA: 0s - loss: 0.402 - ETA: 0s - loss: 0.402 - ETA: 0s - loss: 0.402 - ETA: 0s - loss: 0.402 - ETA: 0s - loss: 0.402 - ETA: 0s - loss: 0.402 - ETA: 0s - loss: 0.402 - ETA: 0s - loss: 0.401 - ETA: 0s - loss: 0.402 - ETA: 0s - loss: 0.402 - ETA: 0s - loss: 0.402 - ETA: 0s - loss: 0.401 - ETA: 0s - loss: 0.401 - ETA: 0s - loss: 0.401 - ETA: 0s - loss: 0.402 - 20s 368us/step - loss: 0.4022 - val_loss: 0.3917\n",
      "Epoch 23/50\n",
      "55381/55381 [==============================] - ETA: 13s - loss: 0.34 - ETA: 18s - loss: 0.39 - ETA: 17s - loss: 0.39 - ETA: 19s - loss: 0.38 - ETA: 19s - loss: 0.39 - ETA: 18s - loss: 0.38 - ETA: 18s - loss: 0.39 - ETA: 18s - loss: 0.40 - ETA: 18s - loss: 0.40 - ETA: 18s - loss: 0.40 - ETA: 18s - loss: 0.40 - ETA: 17s - loss: 0.40 - ETA: 17s - loss: 0.40 - ETA: 17s - loss: 0.40 - ETA: 17s - loss: 0.40 - ETA: 17s - loss: 0.39 - ETA: 18s - loss: 0.39 - ETA: 18s - loss: 0.39 - ETA: 18s - loss: 0.39 - ETA: 18s - loss: 0.39 - ETA: 18s - loss: 0.39 - ETA: 17s - loss: 0.39 - ETA: 18s - loss: 0.39 - ETA: 17s - loss: 0.39 - ETA: 18s - loss: 0.39 - ETA: 17s - loss: 0.39 - ETA: 18s - loss: 0.39 - ETA: 18s - loss: 0.39 - ETA: 17s - loss: 0.39 - ETA: 17s - loss: 0.39 - ETA: 17s - loss: 0.39 - ETA: 17s - loss: 0.39 - ETA: 17s - loss: 0.39 - ETA: 17s - loss: 0.39 - ETA: 17s - loss: 0.39 - ETA: 17s - loss: 0.39 - ETA: 16s - loss: 0.39 - ETA: 16s - loss: 0.39 - ETA: 16s - loss: 0.39 - ETA: 16s - loss: 0.39 - ETA: 16s - loss: 0.39 - ETA: 16s - loss: 0.39 - ETA: 16s - loss: 0.39 - ETA: 16s - loss: 0.39 - ETA: 16s - loss: 0.39 - ETA: 16s - loss: 0.39 - ETA: 16s - loss: 0.39 - ETA: 17s - loss: 0.39 - ETA: 17s - loss: 0.39 - ETA: 17s - loss: 0.39 - ETA: 16s - loss: 0.39 - ETA: 16s - loss: 0.39 - ETA: 16s - loss: 0.39 - ETA: 16s - loss: 0.40 - ETA: 16s - loss: 0.40 - ETA: 16s - loss: 0.40 - ETA: 16s - loss: 0.40 - ETA: 16s - loss: 0.40 - ETA: 16s - loss: 0.40 - ETA: 16s - loss: 0.40 - ETA: 16s - loss: 0.40 - ETA: 16s - loss: 0.40 - ETA: 16s - loss: 0.40 - ETA: 16s - loss: 0.40 - ETA: 16s - loss: 0.40 - ETA: 16s - loss: 0.40 - ETA: 16s - loss: 0.40 - ETA: 16s - loss: 0.40 - ETA: 16s - loss: 0.40 - ETA: 16s - loss: 0.40 - ETA: 16s - loss: 0.40 - ETA: 16s - loss: 0.40 - ETA: 16s - loss: 0.40 - ETA: 16s - loss: 0.40 - ETA: 15s - loss: 0.40 - ETA: 15s - loss: 0.40 - ETA: 15s - loss: 0.39 - ETA: 15s - loss: 0.39 - ETA: 15s - loss: 0.39 - ETA: 15s - loss: 0.39 - ETA: 15s - loss: 0.39 - ETA: 15s - loss: 0.39 - ETA: 15s - loss: 0.40 - ETA: 15s - loss: 0.40 - ETA: 15s - loss: 0.40 - ETA: 15s - loss: 0.39 - ETA: 15s - loss: 0.40 - ETA: 15s - loss: 0.40 - ETA: 15s - loss: 0.40 - ETA: 15s - loss: 0.40 - ETA: 15s - loss: 0.40 - ETA: 14s - loss: 0.40 - ETA: 14s - loss: 0.40 - ETA: 14s - loss: 0.39 - ETA: 14s - loss: 0.39 - ETA: 14s - loss: 0.39 - ETA: 14s - loss: 0.39 - ETA: 14s - loss: 0.39 - ETA: 14s - loss: 0.39 - ETA: 14s - loss: 0.39 - ETA: 14s - loss: 0.39 - ETA: 14s - loss: 0.39 - ETA: 14s - loss: 0.39 - ETA: 14s - loss: 0.39 - ETA: 14s - loss: 0.39 - ETA: 14s - loss: 0.39 - ETA: 13s - loss: 0.39 - ETA: 13s - loss: 0.39 - ETA: 13s - loss: 0.39 - ETA: 13s - loss: 0.39 - ETA: 13s - loss: 0.39 - ETA: 13s - loss: 0.39 - ETA: 13s - loss: 0.39 - ETA: 13s - loss: 0.39 - ETA: 13s - loss: 0.39 - ETA: 13s - loss: 0.39 - ETA: 13s - loss: 0.39 - ETA: 13s - loss: 0.39 - ETA: 13s - loss: 0.39 - ETA: 13s - loss: 0.39 - ETA: 13s - loss: 0.39 - ETA: 13s - loss: 0.39 - ETA: 12s - loss: 0.39 - ETA: 12s - loss: 0.39 - ETA: 12s - loss: 0.39 - ETA: 12s - loss: 0.39 - ETA: 12s - loss: 0.39 - ETA: 12s - loss: 0.39 - ETA: 12s - loss: 0.39 - ETA: 12s - loss: 0.39 - ETA: 12s - loss: 0.39 - ETA: 12s - loss: 0.39 - ETA: 12s - loss: 0.39 - ETA: 12s - loss: 0.39 - ETA: 12s - loss: 0.39 - ETA: 12s - loss: 0.39 - ETA: 11s - loss: 0.39 - ETA: 11s - loss: 0.39 - ETA: 11s - loss: 0.39 - ETA: 11s - loss: 0.39 - ETA: 11s - loss: 0.39 - ETA: 11s - loss: 0.39 - ETA: 11s - loss: 0.39 - ETA: 11s - loss: 0.39 - ETA: 11s - loss: 0.39 - ETA: 11s - loss: 0.39 - ETA: 11s - loss: 0.39 - ETA: 11s - loss: 0.39 - ETA: 11s - loss: 0.39 - ETA: 11s - loss: 0.39 - ETA: 11s - loss: 0.39 - ETA: 11s - loss: 0.39 - ETA: 11s - loss: 0.39 - ETA: 11s - loss: 0.39 - ETA: 11s - loss: 0.39 - ETA: 11s - loss: 0.39 - ETA: 10s - loss: 0.39 - ETA: 10s - loss: 0.39 - ETA: 10s - loss: 0.39 - ETA: 10s - loss: 0.39 - ETA: 10s - loss: 0.39 - ETA: 10s - loss: 0.39 - ETA: 10s - loss: 0.39 - ETA: 10s - loss: 0.39 - ETA: 10s - loss: 0.39 - ETA: 10s - loss: 0.39 - ETA: 10s - loss: 0.39 - ETA: 10s - loss: 0.39 - ETA: 10s - loss: 0.39 - ETA: 10s - loss: 0.39 - ETA: 10s - loss: 0.39 - ETA: 10s - loss: 0.39 - ETA: 9s - loss: 0.3966 - ETA: 9s - loss: 0.396 - ETA: 9s - loss: 0.396 - ETA: 9s - loss: 0.396 - ETA: 9s - loss: 0.397 - ETA: 9s - loss: 0.396 - ETA: 9s - loss: 0.397 - ETA: 9s - loss: 0.396 - ETA: 9s - loss: 0.397 - ETA: 9s - loss: 0.397 - ETA: 9s - loss: 0.397 - ETA: 9s - loss: 0.397 - ETA: 9s - loss: 0.396 - ETA: 9s - loss: 0.396 - ETA: 8s - loss: 0.396 - ETA: 8s - loss: 0.396 - ETA: 8s - loss: 0.396 - ETA: 8s - loss: 0.396 - ETA: 8s - loss: 0.396 - ETA: 8s - loss: 0.396 - ETA: 8s - loss: 0.396 - ETA: 8s - loss: 0.396 - ETA: 8s - loss: 0.396 - ETA: 8s - loss: 0.396 - ETA: 8s - loss: 0.396 - ETA: 8s - loss: 0.396 - ETA: 8s - loss: 0.396 - ETA: 8s - loss: 0.396 - ETA: 8s - loss: 0.396 - ETA: 7s - loss: 0.396 - ETA: 7s - loss: 0.396 - ETA: 7s - loss: 0.396 - ETA: 7s - loss: 0.397 - ETA: 7s - loss: 0.397 - ETA: 7s - loss: 0.396 - ETA: 7s - loss: 0.396 - ETA: 7s - loss: 0.397 - ETA: 7s - loss: 0.397 - ETA: 7s - loss: 0.397 - ETA: 7s - loss: 0.397 - ETA: 7s - loss: 0.397 - ETA: 7s - loss: 0.397 - ETA: 7s - loss: 0.397 - ETA: 6s - loss: 0.397 - ETA: 6s - loss: 0.397 - ETA: 6s - loss: 0.398 - ETA: 6s - loss: 0.398 - ETA: 6s - loss: 0.398 - ETA: 6s - loss: 0.398 - ETA: 6s - loss: 0.399 - ETA: 6s - loss: 0.399 - ETA: 6s - loss: 0.399 - ETA: 6s - loss: 0.399 - ETA: 6s - loss: 0.399 - ETA: 6s - loss: 0.399 - ETA: 6s - loss: 0.399 - ETA: 6s - loss: 0.399 - ETA: 6s - loss: 0.399 - ETA: 5s - loss: 0.399 - ETA: 5s - loss: 0.399 - ETA: 5s - loss: 0.399 - ETA: 5s - loss: 0.399 - ETA: 5s - loss: 0.399 - ETA: 5s - loss: 0.399 - ETA: 5s - loss: 0.398 - ETA: 5s - loss: 0.398 - ETA: 5s - loss: 0.398 - ETA: 5s - loss: 0.399 - ETA: 5s - loss: 0.398 - ETA: 5s - loss: 0.398 - ETA: 5s - loss: 0.398 - ETA: 5s - loss: 0.398 - ETA: 4s - loss: 0.399 - ETA: 4s - loss: 0.399 - ETA: 4s - loss: 0.399 - ETA: 4s - loss: 0.399 - ETA: 4s - loss: 0.399 - ETA: 4s - loss: 0.399 - ETA: 4s - loss: 0.399 - ETA: 4s - loss: 0.399 - ETA: 4s - loss: 0.399 - ETA: 4s - loss: 0.400 - ETA: 4s - loss: 0.400 - ETA: 4s - loss: 0.400 - ETA: 4s - loss: 0.400 - ETA: 4s - loss: 0.400 - ETA: 4s - loss: 0.399 - ETA: 4s - loss: 0.399 - ETA: 3s - loss: 0.400 - ETA: 3s - loss: 0.400 - ETA: 3s - loss: 0.399 - ETA: 3s - loss: 0.400 - ETA: 3s - loss: 0.400 - ETA: 3s - loss: 0.399 - ETA: 3s - loss: 0.400 - ETA: 3s - loss: 0.400 - ETA: 3s - loss: 0.400 - ETA: 3s - loss: 0.400 - ETA: 3s - loss: 0.400 - ETA: 3s - loss: 0.400 - ETA: 3s - loss: 0.400 - ETA: 3s - loss: 0.399 - ETA: 3s - loss: 0.399 - ETA: 3s - loss: 0.400 - ETA: 2s - loss: 0.399 - ETA: 2s - loss: 0.400 - ETA: 2s - loss: 0.400 - ETA: 2s - loss: 0.400 - ETA: 2s - loss: 0.400 - ETA: 2s - loss: 0.400 - ETA: 2s - loss: 0.401 - ETA: 2s - loss: 0.401 - ETA: 2s - loss: 0.401 - ETA: 2s - loss: 0.401 - ETA: 2s - loss: 0.401 - ETA: 2s - loss: 0.401 - ETA: 2s - loss: 0.401 - ETA: 2s - loss: 0.401 - ETA: 2s - loss: 0.401 - ETA: 2s - loss: 0.401 - ETA: 1s - loss: 0.400 - ETA: 1s - loss: 0.400 - ETA: 1s - loss: 0.401 - ETA: 1s - loss: 0.401 - ETA: 1s - loss: 0.401 - ETA: 1s - loss: 0.401 - ETA: 1s - loss: 0.401 - ETA: 1s - loss: 0.401 - ETA: 1s - loss: 0.401 - ETA: 1s - loss: 0.401 - ETA: 1s - loss: 0.401 - ETA: 1s - loss: 0.401 - ETA: 1s - loss: 0.401 - ETA: 1s - loss: 0.401 - ETA: 1s - loss: 0.401 - ETA: 1s - loss: 0.401 - ETA: 0s - loss: 0.401 - ETA: 0s - loss: 0.401 - ETA: 0s - loss: 0.401 - ETA: 0s - loss: 0.401 - ETA: 0s - loss: 0.401 - ETA: 0s - loss: 0.401 - ETA: 0s - loss: 0.401 - ETA: 0s - loss: 0.401 - ETA: 0s - loss: 0.401 - ETA: 0s - loss: 0.401 - ETA: 0s - loss: 0.401 - ETA: 0s - loss: 0.401 - ETA: 0s - loss: 0.401 - ETA: 0s - loss: 0.401 - ETA: 0s - loss: 0.401 - 20s 360us/step - loss: 0.4015 - val_loss: 0.3933\n",
      "Epoch 24/50\n"
     ]
    },
    {
     "name": "stdout",
     "output_type": "stream",
     "text": [
      "50560/55381 [==========================>...] - ETA: 13s - loss: 0.35 - ETA: 19s - loss: 0.40 - ETA: 20s - loss: 0.38 - ETA: 19s - loss: 0.40 - ETA: 18s - loss: 0.41 - ETA: 18s - loss: 0.41 - ETA: 18s - loss: 0.40 - ETA: 18s - loss: 0.40 - ETA: 17s - loss: 0.40 - ETA: 18s - loss: 0.40 - ETA: 18s - loss: 0.40 - ETA: 17s - loss: 0.41 - ETA: 18s - loss: 0.40 - ETA: 17s - loss: 0.40 - ETA: 18s - loss: 0.40 - ETA: 18s - loss: 0.40 - ETA: 18s - loss: 0.40 - ETA: 18s - loss: 0.40 - ETA: 18s - loss: 0.40 - ETA: 18s - loss: 0.40 - ETA: 18s - loss: 0.40 - ETA: 19s - loss: 0.40 - ETA: 19s - loss: 0.40 - ETA: 19s - loss: 0.40 - ETA: 19s - loss: 0.39 - ETA: 19s - loss: 0.39 - ETA: 19s - loss: 0.39 - ETA: 19s - loss: 0.39 - ETA: 19s - loss: 0.39 - ETA: 19s - loss: 0.39 - ETA: 19s - loss: 0.39 - ETA: 20s - loss: 0.39 - ETA: 20s - loss: 0.39 - ETA: 20s - loss: 0.39 - ETA: 20s - loss: 0.39 - ETA: 20s - loss: 0.39 - ETA: 20s - loss: 0.39 - ETA: 20s - loss: 0.39 - ETA: 20s - loss: 0.39 - ETA: 20s - loss: 0.39 - ETA: 20s - loss: 0.39 - ETA: 20s - loss: 0.39 - ETA: 19s - loss: 0.39 - ETA: 20s - loss: 0.39 - ETA: 20s - loss: 0.39 - ETA: 20s - loss: 0.39 - ETA: 20s - loss: 0.39 - ETA: 20s - loss: 0.39 - ETA: 20s - loss: 0.39 - ETA: 20s - loss: 0.39 - ETA: 20s - loss: 0.39 - ETA: 20s - loss: 0.39 - ETA: 20s - loss: 0.39 - ETA: 20s - loss: 0.39 - ETA: 19s - loss: 0.39 - ETA: 20s - loss: 0.39 - ETA: 19s - loss: 0.39 - ETA: 19s - loss: 0.39 - ETA: 19s - loss: 0.39 - ETA: 19s - loss: 0.39 - ETA: 19s - loss: 0.39 - ETA: 19s - loss: 0.39 - ETA: 19s - loss: 0.39 - ETA: 19s - loss: 0.39 - ETA: 19s - loss: 0.39 - ETA: 19s - loss: 0.39 - ETA: 18s - loss: 0.39 - ETA: 19s - loss: 0.39 - ETA: 18s - loss: 0.39 - ETA: 18s - loss: 0.39 - ETA: 18s - loss: 0.39 - ETA: 18s - loss: 0.39 - ETA: 18s - loss: 0.39 - ETA: 18s - loss: 0.39 - ETA: 18s - loss: 0.39 - ETA: 17s - loss: 0.39 - ETA: 17s - loss: 0.39 - ETA: 17s - loss: 0.39 - ETA: 17s - loss: 0.39 - ETA: 17s - loss: 0.39 - ETA: 17s - loss: 0.39 - ETA: 17s - loss: 0.39 - ETA: 17s - loss: 0.39 - ETA: 17s - loss: 0.39 - ETA: 17s - loss: 0.39 - ETA: 17s - loss: 0.39 - ETA: 17s - loss: 0.39 - ETA: 16s - loss: 0.39 - ETA: 16s - loss: 0.39 - ETA: 16s - loss: 0.39 - ETA: 16s - loss: 0.39 - ETA: 16s - loss: 0.39 - ETA: 16s - loss: 0.39 - ETA: 16s - loss: 0.39 - ETA: 16s - loss: 0.39 - ETA: 16s - loss: 0.39 - ETA: 16s - loss: 0.39 - ETA: 16s - loss: 0.39 - ETA: 16s - loss: 0.39 - ETA: 16s - loss: 0.39 - ETA: 16s - loss: 0.39 - ETA: 16s - loss: 0.39 - ETA: 16s - loss: 0.39 - ETA: 16s - loss: 0.39 - ETA: 16s - loss: 0.39 - ETA: 16s - loss: 0.39 - ETA: 16s - loss: 0.39 - ETA: 16s - loss: 0.39 - ETA: 16s - loss: 0.39 - ETA: 16s - loss: 0.39 - ETA: 16s - loss: 0.39 - ETA: 16s - loss: 0.39 - ETA: 16s - loss: 0.39 - ETA: 16s - loss: 0.39 - ETA: 16s - loss: 0.39 - ETA: 15s - loss: 0.39 - ETA: 15s - loss: 0.39 - ETA: 15s - loss: 0.39 - ETA: 15s - loss: 0.39 - ETA: 15s - loss: 0.39 - ETA: 15s - loss: 0.39 - ETA: 15s - loss: 0.39 - ETA: 15s - loss: 0.39 - ETA: 15s - loss: 0.39 - ETA: 15s - loss: 0.39 - ETA: 15s - loss: 0.39 - ETA: 15s - loss: 0.39 - ETA: 15s - loss: 0.39 - ETA: 15s - loss: 0.39 - ETA: 15s - loss: 0.39 - ETA: 15s - loss: 0.39 - ETA: 15s - loss: 0.39 - ETA: 15s - loss: 0.39 - ETA: 15s - loss: 0.39 - ETA: 15s - loss: 0.39 - ETA: 15s - loss: 0.39 - ETA: 15s - loss: 0.39 - ETA: 15s - loss: 0.39 - ETA: 15s - loss: 0.39 - ETA: 15s - loss: 0.39 - ETA: 15s - loss: 0.39 - ETA: 14s - loss: 0.39 - ETA: 14s - loss: 0.39 - ETA: 14s - loss: 0.39 - ETA: 14s - loss: 0.39 - ETA: 14s - loss: 0.39 - ETA: 14s - loss: 0.39 - ETA: 14s - loss: 0.39 - ETA: 14s - loss: 0.39 - ETA: 14s - loss: 0.39 - ETA: 14s - loss: 0.39 - ETA: 14s - loss: 0.39 - ETA: 14s - loss: 0.39 - ETA: 14s - loss: 0.39 - ETA: 14s - loss: 0.39 - ETA: 14s - loss: 0.39 - ETA: 14s - loss: 0.39 - ETA: 14s - loss: 0.39 - ETA: 13s - loss: 0.39 - ETA: 13s - loss: 0.39 - ETA: 13s - loss: 0.39 - ETA: 13s - loss: 0.39 - ETA: 13s - loss: 0.39 - ETA: 13s - loss: 0.39 - ETA: 13s - loss: 0.39 - ETA: 13s - loss: 0.39 - ETA: 13s - loss: 0.39 - ETA: 13s - loss: 0.39 - ETA: 13s - loss: 0.39 - ETA: 13s - loss: 0.39 - ETA: 13s - loss: 0.39 - ETA: 13s - loss: 0.39 - ETA: 13s - loss: 0.39 - ETA: 13s - loss: 0.39 - ETA: 13s - loss: 0.39 - ETA: 13s - loss: 0.39 - ETA: 12s - loss: 0.39 - ETA: 12s - loss: 0.39 - ETA: 12s - loss: 0.39 - ETA: 12s - loss: 0.39 - ETA: 12s - loss: 0.39 - ETA: 12s - loss: 0.39 - ETA: 12s - loss: 0.39 - ETA: 12s - loss: 0.39 - ETA: 12s - loss: 0.39 - ETA: 12s - loss: 0.39 - ETA: 12s - loss: 0.39 - ETA: 12s - loss: 0.39 - ETA: 12s - loss: 0.39 - ETA: 12s - loss: 0.39 - ETA: 11s - loss: 0.39 - ETA: 11s - loss: 0.39 - ETA: 11s - loss: 0.39 - ETA: 11s - loss: 0.39 - ETA: 11s - loss: 0.39 - ETA: 11s - loss: 0.39 - ETA: 11s - loss: 0.39 - ETA: 11s - loss: 0.39 - ETA: 11s - loss: 0.39 - ETA: 11s - loss: 0.39 - ETA: 11s - loss: 0.39 - ETA: 11s - loss: 0.39 - ETA: 11s - loss: 0.39 - ETA: 11s - loss: 0.39 - ETA: 11s - loss: 0.39 - ETA: 10s - loss: 0.39 - ETA: 10s - loss: 0.39 - ETA: 10s - loss: 0.39 - ETA: 10s - loss: 0.39 - ETA: 10s - loss: 0.39 - ETA: 10s - loss: 0.39 - ETA: 10s - loss: 0.39 - ETA: 10s - loss: 0.39 - ETA: 10s - loss: 0.39 - ETA: 10s - loss: 0.39 - ETA: 10s - loss: 0.39 - ETA: 10s - loss: 0.39 - ETA: 10s - loss: 0.39 - ETA: 10s - loss: 0.39 - ETA: 10s - loss: 0.39 - ETA: 9s - loss: 0.3975 - ETA: 9s - loss: 0.397 - ETA: 9s - loss: 0.397 - ETA: 9s - loss: 0.397 - ETA: 9s - loss: 0.397 - ETA: 9s - loss: 0.397 - ETA: 9s - loss: 0.397 - ETA: 9s - loss: 0.397 - ETA: 9s - loss: 0.397 - ETA: 9s - loss: 0.397 - ETA: 9s - loss: 0.398 - ETA: 9s - loss: 0.398 - ETA: 9s - loss: 0.398 - ETA: 9s - loss: 0.397 - ETA: 9s - loss: 0.397 - ETA: 9s - loss: 0.397 - ETA: 9s - loss: 0.398 - ETA: 8s - loss: 0.397 - ETA: 8s - loss: 0.398 - ETA: 8s - loss: 0.398 - ETA: 8s - loss: 0.398 - ETA: 8s - loss: 0.398 - ETA: 8s - loss: 0.398 - ETA: 8s - loss: 0.397 - ETA: 8s - loss: 0.397 - ETA: 8s - loss: 0.397 - ETA: 8s - loss: 0.397 - ETA: 8s - loss: 0.397 - ETA: 8s - loss: 0.397 - ETA: 7s - loss: 0.397 - ETA: 7s - loss: 0.397 - ETA: 7s - loss: 0.396 - ETA: 7s - loss: 0.397 - ETA: 7s - loss: 0.396 - ETA: 7s - loss: 0.396 - ETA: 7s - loss: 0.397 - ETA: 7s - loss: 0.397 - ETA: 7s - loss: 0.397 - ETA: 7s - loss: 0.397 - ETA: 7s - loss: 0.397 - ETA: 7s - loss: 0.397 - ETA: 7s - loss: 0.397 - ETA: 7s - loss: 0.397 - ETA: 6s - loss: 0.397 - ETA: 6s - loss: 0.397 - ETA: 6s - loss: 0.397 - ETA: 6s - loss: 0.397 - ETA: 6s - loss: 0.397 - ETA: 6s - loss: 0.397 - ETA: 6s - loss: 0.397 - ETA: 6s - loss: 0.397 - ETA: 6s - loss: 0.397 - ETA: 6s - loss: 0.398 - ETA: 6s - loss: 0.397 - ETA: 6s - loss: 0.397 - ETA: 6s - loss: 0.397 - ETA: 6s - loss: 0.397 - ETA: 6s - loss: 0.397 - ETA: 5s - loss: 0.398 - ETA: 5s - loss: 0.398 - ETA: 5s - loss: 0.398 - ETA: 5s - loss: 0.398 - ETA: 5s - loss: 0.398 - ETA: 5s - loss: 0.398 - ETA: 5s - loss: 0.398 - ETA: 5s - loss: 0.397 - ETA: 5s - loss: 0.397 - ETA: 5s - loss: 0.397 - ETA: 5s - loss: 0.397 - ETA: 5s - loss: 0.397 - ETA: 5s - loss: 0.397 - ETA: 5s - loss: 0.397 - ETA: 4s - loss: 0.397 - ETA: 4s - loss: 0.397 - ETA: 4s - loss: 0.397 - ETA: 4s - loss: 0.397 - ETA: 4s - loss: 0.397 - ETA: 4s - loss: 0.397 - ETA: 4s - loss: 0.397 - ETA: 4s - loss: 0.397 - ETA: 4s - loss: 0.397 - ETA: 4s - loss: 0.397 - ETA: 4s - loss: 0.397 - ETA: 4s - loss: 0.397 - ETA: 4s - loss: 0.398 - ETA: 4s - loss: 0.398 - ETA: 4s - loss: 0.398 - ETA: 4s - loss: 0.398 - ETA: 3s - loss: 0.398 - ETA: 3s - loss: 0.398 - ETA: 3s - loss: 0.398 - ETA: 3s - loss: 0.398 - ETA: 3s - loss: 0.398 - ETA: 3s - loss: 0.398 - ETA: 3s - loss: 0.398 - ETA: 3s - loss: 0.398 - ETA: 3s - loss: 0.398 - ETA: 3s - loss: 0.398 - ETA: 3s - loss: 0.398 - ETA: 3s - loss: 0.398 - ETA: 3s - loss: 0.399 - ETA: 3s - loss: 0.399 - ETA: 3s - loss: 0.399 - ETA: 2s - loss: 0.399 - ETA: 2s - loss: 0.399 - ETA: 2s - loss: 0.399 - ETA: 2s - loss: 0.399 - ETA: 2s - loss: 0.399 - ETA: 2s - loss: 0.399 - ETA: 2s - loss: 0.399 - ETA: 2s - loss: 0.399 - ETA: 2s - loss: 0.399 - ETA: 2s - loss: 0.399 - ETA: 2s - loss: 0.399 - ETA: 2s - loss: 0.399 - ETA: 2s - loss: 0.399 - ETA: 2s - loss: 0.399 - ETA: 2s - loss: 0.399 - ETA: 2s - loss: 0.399 - ETA: 1s - loss: 0.3993"
     ]
    },
    {
     "name": "stdout",
     "output_type": "stream",
     "text": [
      "55381/55381 [==============================] - ETA: 1s - loss: 0.399 - ETA: 1s - loss: 0.399 - ETA: 1s - loss: 0.399 - ETA: 1s - loss: 0.398 - ETA: 1s - loss: 0.399 - ETA: 1s - loss: 0.399 - ETA: 1s - loss: 0.399 - ETA: 1s - loss: 0.399 - ETA: 1s - loss: 0.399 - ETA: 1s - loss: 0.399 - ETA: 1s - loss: 0.399 - ETA: 1s - loss: 0.399 - ETA: 1s - loss: 0.399 - ETA: 1s - loss: 0.399 - ETA: 1s - loss: 0.399 - ETA: 0s - loss: 0.399 - ETA: 0s - loss: 0.399 - ETA: 0s - loss: 0.399 - ETA: 0s - loss: 0.399 - ETA: 0s - loss: 0.399 - ETA: 0s - loss: 0.399 - ETA: 0s - loss: 0.399 - ETA: 0s - loss: 0.399 - ETA: 0s - loss: 0.399 - ETA: 0s - loss: 0.399 - ETA: 0s - loss: 0.399 - ETA: 0s - loss: 0.399 - ETA: 0s - loss: 0.399 - ETA: 0s - loss: 0.399 - ETA: 0s - loss: 0.399 - ETA: 0s - loss: 0.399 - ETA: 0s - loss: 0.399 - ETA: 0s - loss: 0.399 - ETA: 0s - loss: 0.399 - 23s 415us/step - loss: 0.3993 - val_loss: 0.3892\n",
      "Epoch 25/50\n",
      "52928/55381 [===========================>..] - ETA: 13s - loss: 0.30 - ETA: 20s - loss: 0.39 - ETA: 27s - loss: 0.41 - ETA: 31s - loss: 0.40 - ETA: 25s - loss: 0.40 - ETA: 26s - loss: 0.41 - ETA: 26s - loss: 0.40 - ETA: 26s - loss: 0.41 - ETA: 25s - loss: 0.41 - ETA: 24s - loss: 0.42 - ETA: 24s - loss: 0.41 - ETA: 24s - loss: 0.41 - ETA: 24s - loss: 0.41 - ETA: 23s - loss: 0.40 - ETA: 24s - loss: 0.39 - ETA: 23s - loss: 0.39 - ETA: 22s - loss: 0.39 - ETA: 22s - loss: 0.39 - ETA: 21s - loss: 0.40 - ETA: 21s - loss: 0.40 - ETA: 21s - loss: 0.40 - ETA: 21s - loss: 0.40 - ETA: 21s - loss: 0.41 - ETA: 21s - loss: 0.41 - ETA: 21s - loss: 0.41 - ETA: 21s - loss: 0.41 - ETA: 21s - loss: 0.41 - ETA: 21s - loss: 0.41 - ETA: 22s - loss: 0.40 - ETA: 22s - loss: 0.40 - ETA: 22s - loss: 0.40 - ETA: 22s - loss: 0.40 - ETA: 22s - loss: 0.40 - ETA: 22s - loss: 0.40 - ETA: 21s - loss: 0.40 - ETA: 21s - loss: 0.40 - ETA: 20s - loss: 0.40 - ETA: 20s - loss: 0.40 - ETA: 20s - loss: 0.40 - ETA: 20s - loss: 0.40 - ETA: 20s - loss: 0.40 - ETA: 19s - loss: 0.40 - ETA: 19s - loss: 0.39 - ETA: 19s - loss: 0.39 - ETA: 19s - loss: 0.40 - ETA: 19s - loss: 0.39 - ETA: 18s - loss: 0.39 - ETA: 18s - loss: 0.39 - ETA: 18s - loss: 0.39 - ETA: 18s - loss: 0.39 - ETA: 18s - loss: 0.40 - ETA: 18s - loss: 0.40 - ETA: 18s - loss: 0.40 - ETA: 18s - loss: 0.39 - ETA: 18s - loss: 0.39 - ETA: 18s - loss: 0.39 - ETA: 18s - loss: 0.39 - ETA: 18s - loss: 0.39 - ETA: 18s - loss: 0.39 - ETA: 18s - loss: 0.39 - ETA: 18s - loss: 0.39 - ETA: 18s - loss: 0.40 - ETA: 18s - loss: 0.40 - ETA: 18s - loss: 0.40 - ETA: 17s - loss: 0.40 - ETA: 17s - loss: 0.39 - ETA: 17s - loss: 0.39 - ETA: 17s - loss: 0.39 - ETA: 17s - loss: 0.39 - ETA: 17s - loss: 0.39 - ETA: 17s - loss: 0.39 - ETA: 17s - loss: 0.39 - ETA: 17s - loss: 0.39 - ETA: 17s - loss: 0.39 - ETA: 17s - loss: 0.39 - ETA: 17s - loss: 0.39 - ETA: 17s - loss: 0.39 - ETA: 17s - loss: 0.39 - ETA: 17s - loss: 0.39 - ETA: 17s - loss: 0.39 - ETA: 17s - loss: 0.39 - ETA: 17s - loss: 0.39 - ETA: 17s - loss: 0.39 - ETA: 17s - loss: 0.39 - ETA: 17s - loss: 0.39 - ETA: 17s - loss: 0.39 - ETA: 17s - loss: 0.39 - ETA: 17s - loss: 0.39 - ETA: 17s - loss: 0.39 - ETA: 17s - loss: 0.39 - ETA: 17s - loss: 0.39 - ETA: 17s - loss: 0.39 - ETA: 17s - loss: 0.39 - ETA: 17s - loss: 0.39 - ETA: 17s - loss: 0.39 - ETA: 17s - loss: 0.39 - ETA: 17s - loss: 0.39 - ETA: 17s - loss: 0.39 - ETA: 17s - loss: 0.39 - ETA: 17s - loss: 0.39 - ETA: 16s - loss: 0.39 - ETA: 16s - loss: 0.39 - ETA: 16s - loss: 0.39 - ETA: 16s - loss: 0.39 - ETA: 16s - loss: 0.39 - ETA: 16s - loss: 0.39 - ETA: 16s - loss: 0.39 - ETA: 16s - loss: 0.39 - ETA: 16s - loss: 0.39 - ETA: 16s - loss: 0.39 - ETA: 16s - loss: 0.39 - ETA: 16s - loss: 0.39 - ETA: 16s - loss: 0.39 - ETA: 15s - loss: 0.39 - ETA: 15s - loss: 0.39 - ETA: 15s - loss: 0.39 - ETA: 15s - loss: 0.39 - ETA: 15s - loss: 0.39 - ETA: 15s - loss: 0.39 - ETA: 15s - loss: 0.39 - ETA: 15s - loss: 0.39 - ETA: 15s - loss: 0.39 - ETA: 15s - loss: 0.39 - ETA: 15s - loss: 0.39 - ETA: 15s - loss: 0.39 - ETA: 15s - loss: 0.39 - ETA: 15s - loss: 0.39 - ETA: 15s - loss: 0.39 - ETA: 15s - loss: 0.39 - ETA: 15s - loss: 0.39 - ETA: 15s - loss: 0.39 - ETA: 15s - loss: 0.39 - ETA: 15s - loss: 0.39 - ETA: 14s - loss: 0.39 - ETA: 14s - loss: 0.39 - ETA: 14s - loss: 0.39 - ETA: 14s - loss: 0.39 - ETA: 14s - loss: 0.39 - ETA: 14s - loss: 0.39 - ETA: 14s - loss: 0.39 - ETA: 14s - loss: 0.39 - ETA: 14s - loss: 0.39 - ETA: 14s - loss: 0.39 - ETA: 14s - loss: 0.39 - ETA: 14s - loss: 0.39 - ETA: 13s - loss: 0.39 - ETA: 13s - loss: 0.39 - ETA: 13s - loss: 0.39 - ETA: 13s - loss: 0.39 - ETA: 13s - loss: 0.39 - ETA: 13s - loss: 0.39 - ETA: 13s - loss: 0.39 - ETA: 13s - loss: 0.39 - ETA: 13s - loss: 0.39 - ETA: 13s - loss: 0.39 - ETA: 13s - loss: 0.39 - ETA: 13s - loss: 0.39 - ETA: 13s - loss: 0.39 - ETA: 12s - loss: 0.39 - ETA: 12s - loss: 0.39 - ETA: 12s - loss: 0.39 - ETA: 12s - loss: 0.39 - ETA: 12s - loss: 0.39 - ETA: 12s - loss: 0.39 - ETA: 12s - loss: 0.39 - ETA: 12s - loss: 0.39 - ETA: 12s - loss: 0.39 - ETA: 12s - loss: 0.39 - ETA: 12s - loss: 0.39 - ETA: 12s - loss: 0.39 - ETA: 11s - loss: 0.39 - ETA: 11s - loss: 0.39 - ETA: 11s - loss: 0.39 - ETA: 11s - loss: 0.39 - ETA: 11s - loss: 0.39 - ETA: 11s - loss: 0.39 - ETA: 11s - loss: 0.39 - ETA: 11s - loss: 0.39 - ETA: 11s - loss: 0.39 - ETA: 11s - loss: 0.39 - ETA: 11s - loss: 0.39 - ETA: 10s - loss: 0.39 - ETA: 10s - loss: 0.39 - ETA: 10s - loss: 0.39 - ETA: 10s - loss: 0.39 - ETA: 10s - loss: 0.39 - ETA: 10s - loss: 0.39 - ETA: 10s - loss: 0.39 - ETA: 10s - loss: 0.39 - ETA: 10s - loss: 0.39 - ETA: 10s - loss: 0.40 - ETA: 10s - loss: 0.39 - ETA: 10s - loss: 0.40 - ETA: 10s - loss: 0.39 - ETA: 10s - loss: 0.39 - ETA: 10s - loss: 0.39 - ETA: 10s - loss: 0.39 - ETA: 9s - loss: 0.3991 - ETA: 9s - loss: 0.399 - ETA: 9s - loss: 0.399 - ETA: 9s - loss: 0.399 - ETA: 9s - loss: 0.399 - ETA: 9s - loss: 0.399 - ETA: 9s - loss: 0.398 - ETA: 9s - loss: 0.399 - ETA: 9s - loss: 0.398 - ETA: 9s - loss: 0.399 - ETA: 9s - loss: 0.399 - ETA: 9s - loss: 0.399 - ETA: 9s - loss: 0.399 - ETA: 8s - loss: 0.399 - ETA: 8s - loss: 0.399 - ETA: 8s - loss: 0.399 - ETA: 8s - loss: 0.399 - ETA: 8s - loss: 0.399 - ETA: 8s - loss: 0.399 - ETA: 8s - loss: 0.399 - ETA: 8s - loss: 0.399 - ETA: 8s - loss: 0.399 - ETA: 8s - loss: 0.399 - ETA: 8s - loss: 0.399 - ETA: 8s - loss: 0.399 - ETA: 8s - loss: 0.399 - ETA: 8s - loss: 0.399 - ETA: 8s - loss: 0.399 - ETA: 7s - loss: 0.399 - ETA: 7s - loss: 0.399 - ETA: 7s - loss: 0.399 - ETA: 7s - loss: 0.399 - ETA: 7s - loss: 0.399 - ETA: 7s - loss: 0.399 - ETA: 7s - loss: 0.399 - ETA: 7s - loss: 0.399 - ETA: 7s - loss: 0.399 - ETA: 7s - loss: 0.399 - ETA: 7s - loss: 0.399 - ETA: 7s - loss: 0.399 - ETA: 7s - loss: 0.399 - ETA: 7s - loss: 0.399 - ETA: 7s - loss: 0.398 - ETA: 6s - loss: 0.398 - ETA: 6s - loss: 0.398 - ETA: 6s - loss: 0.398 - ETA: 6s - loss: 0.398 - ETA: 6s - loss: 0.398 - ETA: 6s - loss: 0.397 - ETA: 6s - loss: 0.397 - ETA: 6s - loss: 0.397 - ETA: 6s - loss: 0.397 - ETA: 6s - loss: 0.397 - ETA: 6s - loss: 0.397 - ETA: 6s - loss: 0.397 - ETA: 6s - loss: 0.397 - ETA: 6s - loss: 0.397 - ETA: 6s - loss: 0.397 - ETA: 6s - loss: 0.397 - ETA: 5s - loss: 0.397 - ETA: 5s - loss: 0.397 - ETA: 5s - loss: 0.397 - ETA: 5s - loss: 0.396 - ETA: 5s - loss: 0.396 - ETA: 5s - loss: 0.396 - ETA: 5s - loss: 0.396 - ETA: 5s - loss: 0.396 - ETA: 5s - loss: 0.396 - ETA: 5s - loss: 0.396 - ETA: 5s - loss: 0.396 - ETA: 5s - loss: 0.396 - ETA: 5s - loss: 0.396 - ETA: 5s - loss: 0.396 - ETA: 5s - loss: 0.396 - ETA: 5s - loss: 0.396 - ETA: 5s - loss: 0.396 - ETA: 4s - loss: 0.396 - ETA: 4s - loss: 0.396 - ETA: 4s - loss: 0.396 - ETA: 4s - loss: 0.396 - ETA: 4s - loss: 0.396 - ETA: 4s - loss: 0.396 - ETA: 4s - loss: 0.396 - ETA: 4s - loss: 0.396 - ETA: 4s - loss: 0.396 - ETA: 4s - loss: 0.396 - ETA: 4s - loss: 0.396 - ETA: 4s - loss: 0.396 - ETA: 4s - loss: 0.397 - ETA: 4s - loss: 0.397 - ETA: 4s - loss: 0.397 - ETA: 4s - loss: 0.397 - ETA: 4s - loss: 0.397 - ETA: 3s - loss: 0.397 - ETA: 3s - loss: 0.396 - ETA: 3s - loss: 0.397 - ETA: 3s - loss: 0.397 - ETA: 3s - loss: 0.397 - ETA: 3s - loss: 0.397 - ETA: 3s - loss: 0.397 - ETA: 3s - loss: 0.397 - ETA: 3s - loss: 0.397 - ETA: 3s - loss: 0.397 - ETA: 3s - loss: 0.397 - ETA: 3s - loss: 0.397 - ETA: 3s - loss: 0.397 - ETA: 3s - loss: 0.397 - ETA: 3s - loss: 0.397 - ETA: 2s - loss: 0.397 - ETA: 2s - loss: 0.397 - ETA: 2s - loss: 0.397 - ETA: 2s - loss: 0.397 - ETA: 2s - loss: 0.397 - ETA: 2s - loss: 0.397 - ETA: 2s - loss: 0.397 - ETA: 2s - loss: 0.397 - ETA: 2s - loss: 0.397 - ETA: 2s - loss: 0.397 - ETA: 2s - loss: 0.397 - ETA: 2s - loss: 0.397 - ETA: 2s - loss: 0.397 - ETA: 2s - loss: 0.397 - ETA: 2s - loss: 0.397 - ETA: 2s - loss: 0.398 - ETA: 2s - loss: 0.397 - ETA: 2s - loss: 0.397 - ETA: 1s - loss: 0.397 - ETA: 1s - loss: 0.398 - ETA: 1s - loss: 0.398 - ETA: 1s - loss: 0.397 - ETA: 1s - loss: 0.398 - ETA: 1s - loss: 0.398 - ETA: 1s - loss: 0.398 - ETA: 1s - loss: 0.398 - ETA: 1s - loss: 0.398 - ETA: 1s - loss: 0.398 - ETA: 1s - loss: 0.398 - ETA: 1s - loss: 0.398 - ETA: 1s - loss: 0.398 - ETA: 1s - loss: 0.399 - ETA: 1s - loss: 0.398 - ETA: 1s - loss: 0.398 - ETA: 0s - loss: 0.399155381/55381 [==============================] - ETA: 0s - loss: 0.399 - ETA: 0s - loss: 0.398 - ETA: 0s - loss: 0.398 - ETA: 0s - loss: 0.398 - ETA: 0s - loss: 0.398 - ETA: 0s - loss: 0.398 - ETA: 0s - loss: 0.398 - ETA: 0s - loss: 0.399 - ETA: 0s - loss: 0.398 - ETA: 0s - loss: 0.399 - ETA: 0s - loss: 0.399 - ETA: 0s - loss: 0.399 - ETA: 0s - loss: 0.399 - ETA: 0s - loss: 0.399 - ETA: 0s - loss: 0.399 - ETA: 0s - loss: 0.399 - ETA: 0s - loss: 0.399 - 22s 399us/step - loss: 0.3995 - val_loss: 0.3951\n",
      "Epoch 26/50\n"
     ]
    },
    {
     "name": "stdout",
     "output_type": "stream",
     "text": [
      "51392/55381 [==========================>...] - ETA: 13s - loss: 0.40 - ETA: 17s - loss: 0.41 - ETA: 24s - loss: 0.42 - ETA: 21s - loss: 0.42 - ETA: 22s - loss: 0.41 - ETA: 23s - loss: 0.40 - ETA: 25s - loss: 0.41 - ETA: 25s - loss: 0.41 - ETA: 24s - loss: 0.41 - ETA: 24s - loss: 0.40 - ETA: 23s - loss: 0.40 - ETA: 23s - loss: 0.40 - ETA: 24s - loss: 0.40 - ETA: 27s - loss: 0.40 - ETA: 26s - loss: 0.40 - ETA: 26s - loss: 0.40 - ETA: 25s - loss: 0.40 - ETA: 26s - loss: 0.40 - ETA: 26s - loss: 0.40 - ETA: 26s - loss: 0.39 - ETA: 25s - loss: 0.39 - ETA: 26s - loss: 0.39 - ETA: 26s - loss: 0.39 - ETA: 26s - loss: 0.39 - ETA: 25s - loss: 0.39 - ETA: 25s - loss: 0.40 - ETA: 25s - loss: 0.39 - ETA: 24s - loss: 0.39 - ETA: 24s - loss: 0.40 - ETA: 24s - loss: 0.39 - ETA: 24s - loss: 0.40 - ETA: 24s - loss: 0.40 - ETA: 24s - loss: 0.40 - ETA: 25s - loss: 0.40 - ETA: 25s - loss: 0.39 - ETA: 25s - loss: 0.40 - ETA: 24s - loss: 0.40 - ETA: 23s - loss: 0.40 - ETA: 23s - loss: 0.40 - ETA: 23s - loss: 0.40 - ETA: 23s - loss: 0.39 - ETA: 22s - loss: 0.40 - ETA: 23s - loss: 0.40 - ETA: 23s - loss: 0.40 - ETA: 23s - loss: 0.39 - ETA: 23s - loss: 0.39 - ETA: 22s - loss: 0.39 - ETA: 22s - loss: 0.40 - ETA: 22s - loss: 0.39 - ETA: 22s - loss: 0.40 - ETA: 22s - loss: 0.40 - ETA: 22s - loss: 0.40 - ETA: 21s - loss: 0.40 - ETA: 21s - loss: 0.40 - ETA: 21s - loss: 0.40 - ETA: 21s - loss: 0.40 - ETA: 21s - loss: 0.39 - ETA: 21s - loss: 0.39 - ETA: 21s - loss: 0.39 - ETA: 21s - loss: 0.39 - ETA: 21s - loss: 0.39 - ETA: 21s - loss: 0.40 - ETA: 21s - loss: 0.39 - ETA: 21s - loss: 0.39 - ETA: 21s - loss: 0.40 - ETA: 21s - loss: 0.39 - ETA: 21s - loss: 0.39 - ETA: 20s - loss: 0.39 - ETA: 20s - loss: 0.39 - ETA: 20s - loss: 0.40 - ETA: 20s - loss: 0.40 - ETA: 20s - loss: 0.40 - ETA: 20s - loss: 0.40 - ETA: 20s - loss: 0.40 - ETA: 20s - loss: 0.40 - ETA: 20s - loss: 0.40 - ETA: 20s - loss: 0.40 - ETA: 20s - loss: 0.40 - ETA: 20s - loss: 0.40 - ETA: 20s - loss: 0.40 - ETA: 20s - loss: 0.40 - ETA: 20s - loss: 0.40 - ETA: 20s - loss: 0.40 - ETA: 20s - loss: 0.40 - ETA: 20s - loss: 0.40 - ETA: 20s - loss: 0.40 - ETA: 19s - loss: 0.40 - ETA: 19s - loss: 0.40 - ETA: 19s - loss: 0.40 - ETA: 19s - loss: 0.40 - ETA: 19s - loss: 0.40 - ETA: 19s - loss: 0.40 - ETA: 19s - loss: 0.40 - ETA: 19s - loss: 0.40 - ETA: 19s - loss: 0.40 - ETA: 19s - loss: 0.40 - ETA: 19s - loss: 0.40 - ETA: 19s - loss: 0.40 - ETA: 18s - loss: 0.40 - ETA: 18s - loss: 0.40 - ETA: 18s - loss: 0.40 - ETA: 18s - loss: 0.40 - ETA: 18s - loss: 0.40 - ETA: 18s - loss: 0.40 - ETA: 18s - loss: 0.40 - ETA: 18s - loss: 0.40 - ETA: 18s - loss: 0.40 - ETA: 18s - loss: 0.40 - ETA: 18s - loss: 0.40 - ETA: 18s - loss: 0.40 - ETA: 18s - loss: 0.40 - ETA: 18s - loss: 0.40 - ETA: 18s - loss: 0.40 - ETA: 18s - loss: 0.40 - ETA: 17s - loss: 0.40 - ETA: 17s - loss: 0.40 - ETA: 17s - loss: 0.40 - ETA: 17s - loss: 0.40 - ETA: 17s - loss: 0.40 - ETA: 17s - loss: 0.40 - ETA: 17s - loss: 0.40 - ETA: 17s - loss: 0.40 - ETA: 17s - loss: 0.39 - ETA: 17s - loss: 0.40 - ETA: 17s - loss: 0.40 - ETA: 17s - loss: 0.39 - ETA: 17s - loss: 0.39 - ETA: 17s - loss: 0.39 - ETA: 17s - loss: 0.39 - ETA: 17s - loss: 0.39 - ETA: 17s - loss: 0.39 - ETA: 17s - loss: 0.39 - ETA: 17s - loss: 0.39 - ETA: 16s - loss: 0.39 - ETA: 16s - loss: 0.39 - ETA: 16s - loss: 0.39 - ETA: 16s - loss: 0.39 - ETA: 16s - loss: 0.39 - ETA: 16s - loss: 0.39 - ETA: 16s - loss: 0.39 - ETA: 16s - loss: 0.39 - ETA: 16s - loss: 0.39 - ETA: 15s - loss: 0.39 - ETA: 15s - loss: 0.39 - ETA: 15s - loss: 0.39 - ETA: 15s - loss: 0.39 - ETA: 15s - loss: 0.39 - ETA: 15s - loss: 0.39 - ETA: 15s - loss: 0.39 - ETA: 15s - loss: 0.39 - ETA: 15s - loss: 0.39 - ETA: 15s - loss: 0.39 - ETA: 15s - loss: 0.39 - ETA: 15s - loss: 0.39 - ETA: 15s - loss: 0.39 - ETA: 14s - loss: 0.39 - ETA: 14s - loss: 0.39 - ETA: 14s - loss: 0.39 - ETA: 14s - loss: 0.39 - ETA: 14s - loss: 0.39 - ETA: 14s - loss: 0.39 - ETA: 14s - loss: 0.39 - ETA: 14s - loss: 0.39 - ETA: 14s - loss: 0.39 - ETA: 14s - loss: 0.39 - ETA: 14s - loss: 0.39 - ETA: 13s - loss: 0.39 - ETA: 13s - loss: 0.39 - ETA: 13s - loss: 0.39 - ETA: 13s - loss: 0.39 - ETA: 13s - loss: 0.39 - ETA: 13s - loss: 0.39 - ETA: 13s - loss: 0.39 - ETA: 13s - loss: 0.39 - ETA: 13s - loss: 0.39 - ETA: 13s - loss: 0.39 - ETA: 13s - loss: 0.39 - ETA: 13s - loss: 0.39 - ETA: 13s - loss: 0.39 - ETA: 13s - loss: 0.39 - ETA: 12s - loss: 0.39 - ETA: 12s - loss: 0.39 - ETA: 12s - loss: 0.39 - ETA: 12s - loss: 0.39 - ETA: 12s - loss: 0.39 - ETA: 12s - loss: 0.39 - ETA: 12s - loss: 0.39 - ETA: 12s - loss: 0.39 - ETA: 12s - loss: 0.39 - ETA: 12s - loss: 0.39 - ETA: 12s - loss: 0.39 - ETA: 12s - loss: 0.39 - ETA: 11s - loss: 0.39 - ETA: 11s - loss: 0.39 - ETA: 11s - loss: 0.39 - ETA: 11s - loss: 0.39 - ETA: 11s - loss: 0.39 - ETA: 11s - loss: 0.39 - ETA: 11s - loss: 0.39 - ETA: 11s - loss: 0.39 - ETA: 11s - loss: 0.39 - ETA: 11s - loss: 0.39 - ETA: 11s - loss: 0.39 - ETA: 11s - loss: 0.39 - ETA: 10s - loss: 0.39 - ETA: 10s - loss: 0.39 - ETA: 10s - loss: 0.39 - ETA: 10s - loss: 0.39 - ETA: 10s - loss: 0.39 - ETA: 10s - loss: 0.39 - ETA: 10s - loss: 0.39 - ETA: 10s - loss: 0.39 - ETA: 10s - loss: 0.39 - ETA: 10s - loss: 0.39 - ETA: 10s - loss: 0.39 - ETA: 10s - loss: 0.39 - ETA: 9s - loss: 0.3967 - ETA: 9s - loss: 0.396 - ETA: 9s - loss: 0.397 - ETA: 9s - loss: 0.397 - ETA: 9s - loss: 0.397 - ETA: 9s - loss: 0.397 - ETA: 9s - loss: 0.397 - ETA: 9s - loss: 0.396 - ETA: 9s - loss: 0.396 - ETA: 9s - loss: 0.396 - ETA: 9s - loss: 0.396 - ETA: 8s - loss: 0.396 - ETA: 8s - loss: 0.396 - ETA: 8s - loss: 0.396 - ETA: 8s - loss: 0.396 - ETA: 8s - loss: 0.396 - ETA: 8s - loss: 0.396 - ETA: 8s - loss: 0.396 - ETA: 8s - loss: 0.396 - ETA: 8s - loss: 0.396 - ETA: 8s - loss: 0.396 - ETA: 8s - loss: 0.396 - ETA: 8s - loss: 0.396 - ETA: 8s - loss: 0.396 - ETA: 8s - loss: 0.397 - ETA: 8s - loss: 0.397 - ETA: 8s - loss: 0.397 - ETA: 7s - loss: 0.397 - ETA: 7s - loss: 0.397 - ETA: 7s - loss: 0.397 - ETA: 7s - loss: 0.397 - ETA: 7s - loss: 0.397 - ETA: 7s - loss: 0.397 - ETA: 7s - loss: 0.398 - ETA: 7s - loss: 0.397 - ETA: 7s - loss: 0.397 - ETA: 7s - loss: 0.397 - ETA: 7s - loss: 0.397 - ETA: 7s - loss: 0.397 - ETA: 7s - loss: 0.397 - ETA: 7s - loss: 0.397 - ETA: 7s - loss: 0.397 - ETA: 7s - loss: 0.397 - ETA: 6s - loss: 0.397 - ETA: 6s - loss: 0.397 - ETA: 6s - loss: 0.397 - ETA: 6s - loss: 0.397 - ETA: 6s - loss: 0.397 - ETA: 6s - loss: 0.397 - ETA: 6s - loss: 0.397 - ETA: 6s - loss: 0.397 - ETA: 6s - loss: 0.397 - ETA: 6s - loss: 0.397 - ETA: 6s - loss: 0.397 - ETA: 6s - loss: 0.397 - ETA: 6s - loss: 0.397 - ETA: 6s - loss: 0.396 - ETA: 6s - loss: 0.396 - ETA: 5s - loss: 0.397 - ETA: 5s - loss: 0.396 - ETA: 5s - loss: 0.397 - ETA: 5s - loss: 0.397 - ETA: 5s - loss: 0.397 - ETA: 5s - loss: 0.397 - ETA: 5s - loss: 0.397 - ETA: 5s - loss: 0.397 - ETA: 5s - loss: 0.397 - ETA: 5s - loss: 0.397 - ETA: 5s - loss: 0.397 - ETA: 5s - loss: 0.397 - ETA: 5s - loss: 0.397 - ETA: 5s - loss: 0.397 - ETA: 5s - loss: 0.397 - ETA: 4s - loss: 0.397 - ETA: 4s - loss: 0.397 - ETA: 4s - loss: 0.397 - ETA: 4s - loss: 0.397 - ETA: 4s - loss: 0.397 - ETA: 4s - loss: 0.397 - ETA: 4s - loss: 0.397 - ETA: 4s - loss: 0.396 - ETA: 4s - loss: 0.396 - ETA: 4s - loss: 0.396 - ETA: 4s - loss: 0.397 - ETA: 4s - loss: 0.397 - ETA: 4s - loss: 0.397 - ETA: 4s - loss: 0.396 - ETA: 3s - loss: 0.396 - ETA: 3s - loss: 0.396 - ETA: 3s - loss: 0.396 - ETA: 3s - loss: 0.396 - ETA: 3s - loss: 0.397 - ETA: 3s - loss: 0.397 - ETA: 3s - loss: 0.396 - ETA: 3s - loss: 0.397 - ETA: 3s - loss: 0.396 - ETA: 3s - loss: 0.396 - ETA: 3s - loss: 0.397 - ETA: 3s - loss: 0.396 - ETA: 3s - loss: 0.396 - ETA: 3s - loss: 0.396 - ETA: 3s - loss: 0.396 - ETA: 3s - loss: 0.396 - ETA: 3s - loss: 0.396 - ETA: 2s - loss: 0.396 - ETA: 2s - loss: 0.396 - ETA: 2s - loss: 0.396 - ETA: 2s - loss: 0.397 - ETA: 2s - loss: 0.396 - ETA: 2s - loss: 0.396 - ETA: 2s - loss: 0.396 - ETA: 2s - loss: 0.396 - ETA: 2s - loss: 0.396 - ETA: 2s - loss: 0.396 - ETA: 2s - loss: 0.396 - ETA: 2s - loss: 0.396 - ETA: 2s - loss: 0.396 - ETA: 2s - loss: 0.396 - ETA: 1s - loss: 0.396 - ETA: 1s - loss: 0.396 - ETA: 1s - loss: 0.396 - ETA: 1s - loss: 0.396 - ETA: 1s - loss: 0.396 - ETA: 1s - loss: 0.3964"
     ]
    },
    {
     "name": "stdout",
     "output_type": "stream",
     "text": [
      "55381/55381 [==============================] - ETA: 1s - loss: 0.396 - ETA: 1s - loss: 0.396 - ETA: 1s - loss: 0.396 - ETA: 1s - loss: 0.396 - ETA: 1s - loss: 0.396 - ETA: 1s - loss: 0.396 - ETA: 1s - loss: 0.396 - ETA: 1s - loss: 0.396 - ETA: 1s - loss: 0.396 - ETA: 1s - loss: 0.396 - ETA: 0s - loss: 0.396 - ETA: 0s - loss: 0.396 - ETA: 0s - loss: 0.396 - ETA: 0s - loss: 0.396 - ETA: 0s - loss: 0.396 - ETA: 0s - loss: 0.396 - ETA: 0s - loss: 0.396 - ETA: 0s - loss: 0.396 - ETA: 0s - loss: 0.396 - ETA: 0s - loss: 0.396 - ETA: 0s - loss: 0.396 - ETA: 0s - loss: 0.396 - ETA: 0s - loss: 0.396 - ETA: 0s - loss: 0.396 - ETA: 0s - loss: 0.396 - ETA: 0s - loss: 0.396 - 23s 415us/step - loss: 0.3966 - val_loss: 0.3907\n",
      "Epoch 27/50\n",
      "47616/55381 [========================>.....] - ETA: 13s - loss: 0.43 - ETA: 27s - loss: 0.36 - ETA: 27s - loss: 0.37 - ETA: 27s - loss: 0.35 - ETA: 30s - loss: 0.34 - ETA: 30s - loss: 0.35 - ETA: 29s - loss: 0.36 - ETA: 27s - loss: 0.37 - ETA: 27s - loss: 0.38 - ETA: 25s - loss: 0.39 - ETA: 24s - loss: 0.39 - ETA: 23s - loss: 0.39 - ETA: 23s - loss: 0.40 - ETA: 23s - loss: 0.40 - ETA: 23s - loss: 0.40 - ETA: 23s - loss: 0.40 - ETA: 22s - loss: 0.40 - ETA: 22s - loss: 0.40 - ETA: 22s - loss: 0.40 - ETA: 22s - loss: 0.40 - ETA: 22s - loss: 0.40 - ETA: 22s - loss: 0.40 - ETA: 22s - loss: 0.41 - ETA: 23s - loss: 0.41 - ETA: 23s - loss: 0.40 - ETA: 22s - loss: 0.40 - ETA: 23s - loss: 0.40 - ETA: 23s - loss: 0.40 - ETA: 23s - loss: 0.41 - ETA: 23s - loss: 0.41 - ETA: 23s - loss: 0.41 - ETA: 23s - loss: 0.40 - ETA: 23s - loss: 0.40 - ETA: 22s - loss: 0.40 - ETA: 22s - loss: 0.40 - ETA: 23s - loss: 0.40 - ETA: 22s - loss: 0.40 - ETA: 22s - loss: 0.40 - ETA: 22s - loss: 0.40 - ETA: 22s - loss: 0.40 - ETA: 22s - loss: 0.40 - ETA: 22s - loss: 0.40 - ETA: 22s - loss: 0.40 - ETA: 22s - loss: 0.40 - ETA: 22s - loss: 0.40 - ETA: 22s - loss: 0.40 - ETA: 22s - loss: 0.40 - ETA: 22s - loss: 0.40 - ETA: 22s - loss: 0.40 - ETA: 22s - loss: 0.40 - ETA: 22s - loss: 0.40 - ETA: 22s - loss: 0.40 - ETA: 22s - loss: 0.40 - ETA: 22s - loss: 0.40 - ETA: 22s - loss: 0.40 - ETA: 21s - loss: 0.40 - ETA: 21s - loss: 0.40 - ETA: 21s - loss: 0.40 - ETA: 21s - loss: 0.40 - ETA: 21s - loss: 0.40 - ETA: 21s - loss: 0.40 - ETA: 21s - loss: 0.40 - ETA: 21s - loss: 0.40 - ETA: 21s - loss: 0.40 - ETA: 21s - loss: 0.40 - ETA: 21s - loss: 0.40 - ETA: 21s - loss: 0.40 - ETA: 21s - loss: 0.40 - ETA: 21s - loss: 0.40 - ETA: 21s - loss: 0.40 - ETA: 21s - loss: 0.40 - ETA: 21s - loss: 0.39 - ETA: 21s - loss: 0.39 - ETA: 21s - loss: 0.40 - ETA: 21s - loss: 0.39 - ETA: 21s - loss: 0.40 - ETA: 21s - loss: 0.40 - ETA: 21s - loss: 0.40 - ETA: 21s - loss: 0.40 - ETA: 21s - loss: 0.39 - ETA: 21s - loss: 0.39 - ETA: 20s - loss: 0.39 - ETA: 20s - loss: 0.39 - ETA: 20s - loss: 0.39 - ETA: 20s - loss: 0.39 - ETA: 20s - loss: 0.39 - ETA: 20s - loss: 0.39 - ETA: 20s - loss: 0.39 - ETA: 20s - loss: 0.39 - ETA: 20s - loss: 0.39 - ETA: 20s - loss: 0.39 - ETA: 20s - loss: 0.39 - ETA: 20s - loss: 0.39 - ETA: 20s - loss: 0.39 - ETA: 20s - loss: 0.40 - ETA: 20s - loss: 0.39 - ETA: 20s - loss: 0.40 - ETA: 20s - loss: 0.40 - ETA: 20s - loss: 0.40 - ETA: 20s - loss: 0.40 - ETA: 20s - loss: 0.39 - ETA: 20s - loss: 0.39 - ETA: 20s - loss: 0.39 - ETA: 20s - loss: 0.39 - ETA: 20s - loss: 0.39 - ETA: 20s - loss: 0.39 - ETA: 20s - loss: 0.39 - ETA: 20s - loss: 0.39 - ETA: 20s - loss: 0.39 - ETA: 20s - loss: 0.39 - ETA: 20s - loss: 0.39 - ETA: 20s - loss: 0.39 - ETA: 20s - loss: 0.39 - ETA: 20s - loss: 0.39 - ETA: 20s - loss: 0.39 - ETA: 20s - loss: 0.39 - ETA: 19s - loss: 0.39 - ETA: 19s - loss: 0.39 - ETA: 19s - loss: 0.39 - ETA: 19s - loss: 0.39 - ETA: 19s - loss: 0.39 - ETA: 19s - loss: 0.39 - ETA: 19s - loss: 0.39 - ETA: 19s - loss: 0.39 - ETA: 19s - loss: 0.39 - ETA: 19s - loss: 0.39 - ETA: 19s - loss: 0.39 - ETA: 19s - loss: 0.39 - ETA: 19s - loss: 0.39 - ETA: 19s - loss: 0.39 - ETA: 19s - loss: 0.39 - ETA: 19s - loss: 0.39 - ETA: 19s - loss: 0.39 - ETA: 19s - loss: 0.39 - ETA: 18s - loss: 0.39 - ETA: 18s - loss: 0.39 - ETA: 18s - loss: 0.39 - ETA: 18s - loss: 0.39 - ETA: 18s - loss: 0.39 - ETA: 18s - loss: 0.39 - ETA: 18s - loss: 0.39 - ETA: 18s - loss: 0.39 - ETA: 18s - loss: 0.39 - ETA: 18s - loss: 0.39 - ETA: 18s - loss: 0.39 - ETA: 18s - loss: 0.39 - ETA: 17s - loss: 0.39 - ETA: 17s - loss: 0.39 - ETA: 17s - loss: 0.39 - ETA: 17s - loss: 0.39 - ETA: 17s - loss: 0.39 - ETA: 17s - loss: 0.39 - ETA: 17s - loss: 0.39 - ETA: 17s - loss: 0.39 - ETA: 17s - loss: 0.39 - ETA: 17s - loss: 0.39 - ETA: 17s - loss: 0.39 - ETA: 17s - loss: 0.39 - ETA: 17s - loss: 0.39 - ETA: 17s - loss: 0.39 - ETA: 17s - loss: 0.39 - ETA: 17s - loss: 0.39 - ETA: 17s - loss: 0.39 - ETA: 17s - loss: 0.39 - ETA: 17s - loss: 0.39 - ETA: 16s - loss: 0.39 - ETA: 16s - loss: 0.39 - ETA: 16s - loss: 0.39 - ETA: 16s - loss: 0.39 - ETA: 16s - loss: 0.39 - ETA: 16s - loss: 0.39 - ETA: 16s - loss: 0.39 - ETA: 16s - loss: 0.39 - ETA: 16s - loss: 0.39 - ETA: 16s - loss: 0.39 - ETA: 15s - loss: 0.39 - ETA: 15s - loss: 0.39 - ETA: 15s - loss: 0.39 - ETA: 15s - loss: 0.39 - ETA: 15s - loss: 0.39 - ETA: 15s - loss: 0.39 - ETA: 15s - loss: 0.39 - ETA: 15s - loss: 0.39 - ETA: 15s - loss: 0.39 - ETA: 15s - loss: 0.39 - ETA: 15s - loss: 0.39 - ETA: 15s - loss: 0.39 - ETA: 14s - loss: 0.39 - ETA: 14s - loss: 0.39 - ETA: 14s - loss: 0.39 - ETA: 14s - loss: 0.39 - ETA: 14s - loss: 0.39 - ETA: 14s - loss: 0.39 - ETA: 14s - loss: 0.39 - ETA: 14s - loss: 0.39 - ETA: 14s - loss: 0.39 - ETA: 14s - loss: 0.39 - ETA: 13s - loss: 0.39 - ETA: 13s - loss: 0.39 - ETA: 13s - loss: 0.39 - ETA: 13s - loss: 0.39 - ETA: 13s - loss: 0.39 - ETA: 13s - loss: 0.39 - ETA: 13s - loss: 0.39 - ETA: 13s - loss: 0.39 - ETA: 13s - loss: 0.39 - ETA: 13s - loss: 0.39 - ETA: 13s - loss: 0.39 - ETA: 13s - loss: 0.39 - ETA: 13s - loss: 0.39 - ETA: 12s - loss: 0.39 - ETA: 12s - loss: 0.39 - ETA: 12s - loss: 0.39 - ETA: 12s - loss: 0.39 - ETA: 12s - loss: 0.39 - ETA: 12s - loss: 0.39 - ETA: 12s - loss: 0.39 - ETA: 12s - loss: 0.39 - ETA: 12s - loss: 0.39 - ETA: 12s - loss: 0.39 - ETA: 12s - loss: 0.39 - ETA: 12s - loss: 0.39 - ETA: 12s - loss: 0.39 - ETA: 12s - loss: 0.39 - ETA: 11s - loss: 0.39 - ETA: 11s - loss: 0.39 - ETA: 11s - loss: 0.39 - ETA: 11s - loss: 0.39 - ETA: 11s - loss: 0.39 - ETA: 11s - loss: 0.39 - ETA: 11s - loss: 0.39 - ETA: 11s - loss: 0.39 - ETA: 11s - loss: 0.39 - ETA: 11s - loss: 0.39 - ETA: 11s - loss: 0.39 - ETA: 11s - loss: 0.39 - ETA: 11s - loss: 0.39 - ETA: 11s - loss: 0.39 - ETA: 11s - loss: 0.39 - ETA: 11s - loss: 0.39 - ETA: 10s - loss: 0.39 - ETA: 10s - loss: 0.39 - ETA: 10s - loss: 0.39 - ETA: 10s - loss: 0.39 - ETA: 10s - loss: 0.39 - ETA: 10s - loss: 0.39 - ETA: 10s - loss: 0.39 - ETA: 10s - loss: 0.39 - ETA: 10s - loss: 0.39 - ETA: 10s - loss: 0.39 - ETA: 9s - loss: 0.3973 - ETA: 9s - loss: 0.397 - ETA: 9s - loss: 0.397 - ETA: 9s - loss: 0.397 - ETA: 9s - loss: 0.397 - ETA: 9s - loss: 0.396 - ETA: 9s - loss: 0.396 - ETA: 9s - loss: 0.396 - ETA: 9s - loss: 0.396 - ETA: 9s - loss: 0.396 - ETA: 9s - loss: 0.396 - ETA: 9s - loss: 0.396 - ETA: 9s - loss: 0.396 - ETA: 9s - loss: 0.397 - ETA: 9s - loss: 0.397 - ETA: 8s - loss: 0.397 - ETA: 8s - loss: 0.397 - ETA: 8s - loss: 0.397 - ETA: 8s - loss: 0.397 - ETA: 8s - loss: 0.397 - ETA: 8s - loss: 0.397 - ETA: 8s - loss: 0.397 - ETA: 8s - loss: 0.397 - ETA: 8s - loss: 0.397 - ETA: 8s - loss: 0.397 - ETA: 8s - loss: 0.397 - ETA: 8s - loss: 0.397 - ETA: 8s - loss: 0.397 - ETA: 7s - loss: 0.397 - ETA: 7s - loss: 0.397 - ETA: 7s - loss: 0.397 - ETA: 7s - loss: 0.397 - ETA: 7s - loss: 0.397 - ETA: 7s - loss: 0.397 - ETA: 7s - loss: 0.397 - ETA: 7s - loss: 0.397 - ETA: 7s - loss: 0.398 - ETA: 7s - loss: 0.398 - ETA: 7s - loss: 0.397 - ETA: 7s - loss: 0.397 - ETA: 7s - loss: 0.398 - ETA: 6s - loss: 0.397 - ETA: 6s - loss: 0.398 - ETA: 6s - loss: 0.397 - ETA: 6s - loss: 0.397 - ETA: 6s - loss: 0.397 - ETA: 6s - loss: 0.397 - ETA: 6s - loss: 0.397 - ETA: 6s - loss: 0.397 - ETA: 6s - loss: 0.397 - ETA: 6s - loss: 0.397 - ETA: 6s - loss: 0.397 - ETA: 6s - loss: 0.397 - ETA: 6s - loss: 0.397 - ETA: 5s - loss: 0.397 - ETA: 5s - loss: 0.397 - ETA: 5s - loss: 0.397 - ETA: 5s - loss: 0.397 - ETA: 5s - loss: 0.397 - ETA: 5s - loss: 0.397 - ETA: 5s - loss: 0.397 - ETA: 5s - loss: 0.398 - ETA: 5s - loss: 0.398 - ETA: 5s - loss: 0.398 - ETA: 5s - loss: 0.398 - ETA: 5s - loss: 0.397 - ETA: 5s - loss: 0.397 - ETA: 5s - loss: 0.398 - ETA: 4s - loss: 0.398 - ETA: 4s - loss: 0.398 - ETA: 4s - loss: 0.398 - ETA: 4s - loss: 0.398 - ETA: 4s - loss: 0.398 - ETA: 4s - loss: 0.398 - ETA: 4s - loss: 0.398 - ETA: 4s - loss: 0.397 - ETA: 4s - loss: 0.397 - ETA: 4s - loss: 0.397 - ETA: 4s - loss: 0.397 - ETA: 4s - loss: 0.397 - ETA: 4s - loss: 0.397 - ETA: 4s - loss: 0.397 - ETA: 3s - loss: 0.397 - ETA: 3s - loss: 0.397 - ETA: 3s - loss: 0.397 - ETA: 3s - loss: 0.397 - ETA: 3s - loss: 0.397 - ETA: 3s - loss: 0.397 - ETA: 3s - loss: 0.397 - ETA: 3s - loss: 0.397455381/55381 [==============================] - ETA: 3s - loss: 0.397 - ETA: 3s - loss: 0.397 - ETA: 3s - loss: 0.397 - ETA: 3s - loss: 0.397 - ETA: 3s - loss: 0.397 - ETA: 3s - loss: 0.396 - ETA: 2s - loss: 0.397 - ETA: 2s - loss: 0.397 - ETA: 2s - loss: 0.396 - ETA: 2s - loss: 0.396 - ETA: 2s - loss: 0.396 - ETA: 2s - loss: 0.397 - ETA: 2s - loss: 0.396 - ETA: 2s - loss: 0.396 - ETA: 2s - loss: 0.397 - ETA: 2s - loss: 0.397 - ETA: 2s - loss: 0.397 - ETA: 2s - loss: 0.397 - ETA: 2s - loss: 0.397 - ETA: 2s - loss: 0.397 - ETA: 2s - loss: 0.397 - ETA: 1s - loss: 0.396 - ETA: 1s - loss: 0.397 - ETA: 1s - loss: 0.397 - ETA: 1s - loss: 0.397 - ETA: 1s - loss: 0.397 - ETA: 1s - loss: 0.397 - ETA: 1s - loss: 0.396 - ETA: 1s - loss: 0.396 - ETA: 1s - loss: 0.396 - ETA: 1s - loss: 0.397 - ETA: 1s - loss: 0.397 - ETA: 1s - loss: 0.397 - ETA: 1s - loss: 0.397 - ETA: 1s - loss: 0.397 - ETA: 1s - loss: 0.397 - ETA: 1s - loss: 0.396 - ETA: 1s - loss: 0.396 - ETA: 1s - loss: 0.396 - ETA: 0s - loss: 0.396 - ETA: 0s - loss: 0.396 - ETA: 0s - loss: 0.396 - ETA: 0s - loss: 0.396 - ETA: 0s - loss: 0.396 - ETA: 0s - loss: 0.396 - ETA: 0s - loss: 0.396 - ETA: 0s - loss: 0.396 - ETA: 0s - loss: 0.397 - ETA: 0s - loss: 0.397 - ETA: 0s - loss: 0.397 - ETA: 0s - loss: 0.396 - ETA: 0s - loss: 0.396 - ETA: 0s - loss: 0.396 - ETA: 0s - loss: 0.396 - ETA: 0s - loss: 0.396 - ETA: 0s - loss: 0.396 - ETA: 0s - loss: 0.396 - 25s 447us/step - loss: 0.3970 - val_loss: 0.3935\n",
      "Epoch 28/50\n"
     ]
    },
    {
     "name": "stdout",
     "output_type": "stream",
     "text": [
      "49088/55381 [=========================>....] - ETA: 13s - loss: 0.29 - ETA: 21s - loss: 0.32 - ETA: 31s - loss: 0.35 - ETA: 28s - loss: 0.37 - ETA: 31s - loss: 0.38 - ETA: 28s - loss: 0.39 - ETA: 28s - loss: 0.39 - ETA: 27s - loss: 0.40 - ETA: 27s - loss: 0.40 - ETA: 25s - loss: 0.40 - ETA: 25s - loss: 0.40 - ETA: 26s - loss: 0.40 - ETA: 27s - loss: 0.40 - ETA: 25s - loss: 0.39 - ETA: 26s - loss: 0.40 - ETA: 26s - loss: 0.40 - ETA: 26s - loss: 0.39 - ETA: 25s - loss: 0.40 - ETA: 25s - loss: 0.40 - ETA: 25s - loss: 0.39 - ETA: 25s - loss: 0.39 - ETA: 25s - loss: 0.39 - ETA: 25s - loss: 0.39 - ETA: 24s - loss: 0.39 - ETA: 24s - loss: 0.38 - ETA: 23s - loss: 0.38 - ETA: 24s - loss: 0.38 - ETA: 24s - loss: 0.38 - ETA: 24s - loss: 0.38 - ETA: 24s - loss: 0.39 - ETA: 24s - loss: 0.39 - ETA: 24s - loss: 0.39 - ETA: 24s - loss: 0.39 - ETA: 24s - loss: 0.38 - ETA: 23s - loss: 0.38 - ETA: 23s - loss: 0.38 - ETA: 23s - loss: 0.39 - ETA: 23s - loss: 0.39 - ETA: 23s - loss: 0.39 - ETA: 23s - loss: 0.39 - ETA: 23s - loss: 0.39 - ETA: 23s - loss: 0.39 - ETA: 23s - loss: 0.39 - ETA: 22s - loss: 0.39 - ETA: 22s - loss: 0.39 - ETA: 22s - loss: 0.39 - ETA: 22s - loss: 0.39 - ETA: 22s - loss: 0.39 - ETA: 22s - loss: 0.39 - ETA: 22s - loss: 0.39 - ETA: 22s - loss: 0.39 - ETA: 22s - loss: 0.39 - ETA: 22s - loss: 0.39 - ETA: 22s - loss: 0.39 - ETA: 22s - loss: 0.39 - ETA: 22s - loss: 0.39 - ETA: 22s - loss: 0.39 - ETA: 22s - loss: 0.39 - ETA: 22s - loss: 0.39 - ETA: 22s - loss: 0.39 - ETA: 22s - loss: 0.39 - ETA: 22s - loss: 0.39 - ETA: 22s - loss: 0.39 - ETA: 21s - loss: 0.39 - ETA: 22s - loss: 0.39 - ETA: 21s - loss: 0.39 - ETA: 21s - loss: 0.39 - ETA: 21s - loss: 0.39 - ETA: 21s - loss: 0.39 - ETA: 21s - loss: 0.39 - ETA: 21s - loss: 0.39 - ETA: 21s - loss: 0.39 - ETA: 21s - loss: 0.39 - ETA: 21s - loss: 0.39 - ETA: 21s - loss: 0.39 - ETA: 21s - loss: 0.39 - ETA: 20s - loss: 0.39 - ETA: 20s - loss: 0.39 - ETA: 20s - loss: 0.39 - ETA: 20s - loss: 0.39 - ETA: 20s - loss: 0.39 - ETA: 20s - loss: 0.39 - ETA: 20s - loss: 0.40 - ETA: 20s - loss: 0.40 - ETA: 20s - loss: 0.40 - ETA: 20s - loss: 0.40 - ETA: 20s - loss: 0.40 - ETA: 20s - loss: 0.40 - ETA: 20s - loss: 0.39 - ETA: 20s - loss: 0.39 - ETA: 19s - loss: 0.39 - ETA: 19s - loss: 0.39 - ETA: 19s - loss: 0.39 - ETA: 19s - loss: 0.39 - ETA: 19s - loss: 0.39 - ETA: 19s - loss: 0.39 - ETA: 19s - loss: 0.39 - ETA: 19s - loss: 0.39 - ETA: 19s - loss: 0.39 - ETA: 19s - loss: 0.39 - ETA: 19s - loss: 0.39 - ETA: 19s - loss: 0.39 - ETA: 19s - loss: 0.39 - ETA: 19s - loss: 0.39 - ETA: 19s - loss: 0.39 - ETA: 19s - loss: 0.39 - ETA: 19s - loss: 0.39 - ETA: 19s - loss: 0.39 - ETA: 19s - loss: 0.39 - ETA: 19s - loss: 0.39 - ETA: 19s - loss: 0.39 - ETA: 19s - loss: 0.39 - ETA: 18s - loss: 0.39 - ETA: 18s - loss: 0.39 - ETA: 18s - loss: 0.39 - ETA: 18s - loss: 0.39 - ETA: 18s - loss: 0.39 - ETA: 18s - loss: 0.39 - ETA: 18s - loss: 0.39 - ETA: 18s - loss: 0.39 - ETA: 18s - loss: 0.39 - ETA: 18s - loss: 0.39 - ETA: 17s - loss: 0.39 - ETA: 17s - loss: 0.39 - ETA: 17s - loss: 0.39 - ETA: 17s - loss: 0.39 - ETA: 17s - loss: 0.39 - ETA: 17s - loss: 0.39 - ETA: 17s - loss: 0.39 - ETA: 17s - loss: 0.39 - ETA: 17s - loss: 0.39 - ETA: 17s - loss: 0.39 - ETA: 17s - loss: 0.39 - ETA: 17s - loss: 0.39 - ETA: 17s - loss: 0.39 - ETA: 17s - loss: 0.39 - ETA: 17s - loss: 0.39 - ETA: 16s - loss: 0.39 - ETA: 16s - loss: 0.39 - ETA: 16s - loss: 0.39 - ETA: 16s - loss: 0.39 - ETA: 16s - loss: 0.39 - ETA: 16s - loss: 0.39 - ETA: 16s - loss: 0.39 - ETA: 16s - loss: 0.39 - ETA: 16s - loss: 0.39 - ETA: 16s - loss: 0.39 - ETA: 16s - loss: 0.39 - ETA: 16s - loss: 0.39 - ETA: 16s - loss: 0.39 - ETA: 15s - loss: 0.39 - ETA: 15s - loss: 0.39 - ETA: 15s - loss: 0.39 - ETA: 15s - loss: 0.39 - ETA: 15s - loss: 0.39 - ETA: 15s - loss: 0.39 - ETA: 15s - loss: 0.39 - ETA: 15s - loss: 0.39 - ETA: 15s - loss: 0.39 - ETA: 15s - loss: 0.39 - ETA: 15s - loss: 0.39 - ETA: 15s - loss: 0.39 - ETA: 15s - loss: 0.39 - ETA: 15s - loss: 0.39 - ETA: 15s - loss: 0.39 - ETA: 15s - loss: 0.39 - ETA: 15s - loss: 0.39 - ETA: 14s - loss: 0.39 - ETA: 14s - loss: 0.39 - ETA: 14s - loss: 0.39 - ETA: 14s - loss: 0.39 - ETA: 14s - loss: 0.39 - ETA: 14s - loss: 0.39 - ETA: 14s - loss: 0.39 - ETA: 14s - loss: 0.39 - ETA: 14s - loss: 0.39 - ETA: 14s - loss: 0.39 - ETA: 14s - loss: 0.39 - ETA: 14s - loss: 0.39 - ETA: 14s - loss: 0.39 - ETA: 13s - loss: 0.39 - ETA: 13s - loss: 0.39 - ETA: 13s - loss: 0.39 - ETA: 13s - loss: 0.39 - ETA: 13s - loss: 0.39 - ETA: 13s - loss: 0.39 - ETA: 13s - loss: 0.39 - ETA: 13s - loss: 0.39 - ETA: 13s - loss: 0.39 - ETA: 13s - loss: 0.39 - ETA: 13s - loss: 0.39 - ETA: 13s - loss: 0.39 - ETA: 13s - loss: 0.39 - ETA: 13s - loss: 0.39 - ETA: 13s - loss: 0.39 - ETA: 13s - loss: 0.39 - ETA: 12s - loss: 0.39 - ETA: 12s - loss: 0.39 - ETA: 12s - loss: 0.39 - ETA: 12s - loss: 0.39 - ETA: 12s - loss: 0.39 - ETA: 12s - loss: 0.39 - ETA: 12s - loss: 0.39 - ETA: 12s - loss: 0.39 - ETA: 12s - loss: 0.39 - ETA: 12s - loss: 0.39 - ETA: 12s - loss: 0.39 - ETA: 12s - loss: 0.39 - ETA: 12s - loss: 0.39 - ETA: 12s - loss: 0.39 - ETA: 12s - loss: 0.39 - ETA: 12s - loss: 0.39 - ETA: 12s - loss: 0.39 - ETA: 11s - loss: 0.39 - ETA: 11s - loss: 0.39 - ETA: 11s - loss: 0.39 - ETA: 11s - loss: 0.39 - ETA: 11s - loss: 0.39 - ETA: 11s - loss: 0.39 - ETA: 11s - loss: 0.39 - ETA: 11s - loss: 0.39 - ETA: 11s - loss: 0.39 - ETA: 11s - loss: 0.39 - ETA: 11s - loss: 0.39 - ETA: 11s - loss: 0.39 - ETA: 11s - loss: 0.39 - ETA: 11s - loss: 0.39 - ETA: 10s - loss: 0.39 - ETA: 10s - loss: 0.39 - ETA: 10s - loss: 0.39 - ETA: 10s - loss: 0.39 - ETA: 10s - loss: 0.39 - ETA: 10s - loss: 0.39 - ETA: 10s - loss: 0.39 - ETA: 10s - loss: 0.39 - ETA: 10s - loss: 0.39 - ETA: 10s - loss: 0.39 - ETA: 10s - loss: 0.39 - ETA: 10s - loss: 0.39 - ETA: 10s - loss: 0.39 - ETA: 10s - loss: 0.39 - ETA: 9s - loss: 0.3977 - ETA: 9s - loss: 0.397 - ETA: 9s - loss: 0.397 - ETA: 9s - loss: 0.397 - ETA: 9s - loss: 0.397 - ETA: 9s - loss: 0.397 - ETA: 9s - loss: 0.397 - ETA: 9s - loss: 0.397 - ETA: 9s - loss: 0.397 - ETA: 9s - loss: 0.397 - ETA: 9s - loss: 0.397 - ETA: 9s - loss: 0.397 - ETA: 8s - loss: 0.397 - ETA: 8s - loss: 0.397 - ETA: 8s - loss: 0.397 - ETA: 8s - loss: 0.397 - ETA: 8s - loss: 0.397 - ETA: 8s - loss: 0.397 - ETA: 8s - loss: 0.398 - ETA: 8s - loss: 0.398 - ETA: 8s - loss: 0.398 - ETA: 8s - loss: 0.398 - ETA: 8s - loss: 0.398 - ETA: 8s - loss: 0.397 - ETA: 7s - loss: 0.398 - ETA: 7s - loss: 0.398 - ETA: 7s - loss: 0.398 - ETA: 7s - loss: 0.398 - ETA: 7s - loss: 0.398 - ETA: 7s - loss: 0.398 - ETA: 7s - loss: 0.398 - ETA: 7s - loss: 0.398 - ETA: 7s - loss: 0.398 - ETA: 7s - loss: 0.398 - ETA: 7s - loss: 0.398 - ETA: 7s - loss: 0.398 - ETA: 7s - loss: 0.398 - ETA: 6s - loss: 0.398 - ETA: 6s - loss: 0.398 - ETA: 6s - loss: 0.399 - ETA: 6s - loss: 0.398 - ETA: 6s - loss: 0.398 - ETA: 6s - loss: 0.398 - ETA: 6s - loss: 0.398 - ETA: 6s - loss: 0.398 - ETA: 6s - loss: 0.398 - ETA: 6s - loss: 0.398 - ETA: 6s - loss: 0.398 - ETA: 6s - loss: 0.398 - ETA: 6s - loss: 0.398 - ETA: 6s - loss: 0.397 - ETA: 6s - loss: 0.397 - ETA: 5s - loss: 0.398 - ETA: 5s - loss: 0.397 - ETA: 5s - loss: 0.397 - ETA: 5s - loss: 0.397 - ETA: 5s - loss: 0.397 - ETA: 5s - loss: 0.397 - ETA: 5s - loss: 0.397 - ETA: 5s - loss: 0.397 - ETA: 5s - loss: 0.397 - ETA: 5s - loss: 0.397 - ETA: 5s - loss: 0.396 - ETA: 5s - loss: 0.397 - ETA: 5s - loss: 0.397 - ETA: 4s - loss: 0.397 - ETA: 4s - loss: 0.397 - ETA: 4s - loss: 0.397 - ETA: 4s - loss: 0.397 - ETA: 4s - loss: 0.397 - ETA: 4s - loss: 0.397 - ETA: 4s - loss: 0.397 - ETA: 4s - loss: 0.398 - ETA: 4s - loss: 0.398 - ETA: 4s - loss: 0.398 - ETA: 4s - loss: 0.397 - ETA: 4s - loss: 0.398 - ETA: 4s - loss: 0.398 - ETA: 4s - loss: 0.397 - ETA: 3s - loss: 0.398 - ETA: 3s - loss: 0.397 - ETA: 3s - loss: 0.397 - ETA: 3s - loss: 0.397 - ETA: 3s - loss: 0.397 - ETA: 3s - loss: 0.397 - ETA: 3s - loss: 0.397 - ETA: 3s - loss: 0.397 - ETA: 3s - loss: 0.397 - ETA: 3s - loss: 0.397 - ETA: 3s - loss: 0.397 - ETA: 3s - loss: 0.397 - ETA: 3s - loss: 0.396 - ETA: 3s - loss: 0.396 - ETA: 2s - loss: 0.397 - ETA: 2s - loss: 0.397 - ETA: 2s - loss: 0.397 - ETA: 2s - loss: 0.397 - ETA: 2s - loss: 0.397 - ETA: 2s - loss: 0.3969"
     ]
    },
    {
     "name": "stdout",
     "output_type": "stream",
     "text": [
      "55381/55381 [==============================] - ETA: 2s - loss: 0.396 - ETA: 2s - loss: 0.396 - ETA: 2s - loss: 0.397 - ETA: 2s - loss: 0.396 - ETA: 2s - loss: 0.396 - ETA: 2s - loss: 0.396 - ETA: 2s - loss: 0.396 - ETA: 2s - loss: 0.396 - ETA: 2s - loss: 0.396 - ETA: 2s - loss: 0.397 - ETA: 2s - loss: 0.396 - ETA: 1s - loss: 0.396 - ETA: 1s - loss: 0.396 - ETA: 1s - loss: 0.396 - ETA: 1s - loss: 0.396 - ETA: 1s - loss: 0.396 - ETA: 1s - loss: 0.397 - ETA: 1s - loss: 0.397 - ETA: 1s - loss: 0.397 - ETA: 1s - loss: 0.396 - ETA: 1s - loss: 0.396 - ETA: 1s - loss: 0.396 - ETA: 1s - loss: 0.396 - ETA: 1s - loss: 0.396 - ETA: 1s - loss: 0.396 - ETA: 1s - loss: 0.396 - ETA: 1s - loss: 0.396 - ETA: 1s - loss: 0.396 - ETA: 1s - loss: 0.396 - ETA: 1s - loss: 0.396 - ETA: 0s - loss: 0.396 - ETA: 0s - loss: 0.396 - ETA: 0s - loss: 0.396 - ETA: 0s - loss: 0.396 - ETA: 0s - loss: 0.396 - ETA: 0s - loss: 0.396 - ETA: 0s - loss: 0.395 - ETA: 0s - loss: 0.395 - ETA: 0s - loss: 0.395 - ETA: 0s - loss: 0.395 - ETA: 0s - loss: 0.395 - ETA: 0s - loss: 0.395 - ETA: 0s - loss: 0.395 - ETA: 0s - loss: 0.395 - ETA: 0s - loss: 0.395 - ETA: 0s - loss: 0.395 - ETA: 0s - loss: 0.395 - 24s 431us/step - loss: 0.3955 - val_loss: 0.3890\n",
      "Epoch 29/50\n",
      "50112/55381 [==========================>...] - ETA: 13s - loss: 0.31 - ETA: 17s - loss: 0.39 - ETA: 23s - loss: 0.38 - ETA: 21s - loss: 0.37 - ETA: 19s - loss: 0.38 - ETA: 19s - loss: 0.39 - ETA: 20s - loss: 0.38 - ETA: 19s - loss: 0.40 - ETA: 19s - loss: 0.39 - ETA: 18s - loss: 0.40 - ETA: 18s - loss: 0.40 - ETA: 18s - loss: 0.40 - ETA: 17s - loss: 0.40 - ETA: 17s - loss: 0.40 - ETA: 17s - loss: 0.40 - ETA: 17s - loss: 0.40 - ETA: 17s - loss: 0.40 - ETA: 17s - loss: 0.39 - ETA: 18s - loss: 0.39 - ETA: 17s - loss: 0.39 - ETA: 18s - loss: 0.39 - ETA: 18s - loss: 0.39 - ETA: 18s - loss: 0.39 - ETA: 18s - loss: 0.39 - ETA: 18s - loss: 0.39 - ETA: 18s - loss: 0.39 - ETA: 18s - loss: 0.39 - ETA: 18s - loss: 0.39 - ETA: 18s - loss: 0.39 - ETA: 18s - loss: 0.39 - ETA: 18s - loss: 0.39 - ETA: 18s - loss: 0.39 - ETA: 18s - loss: 0.39 - ETA: 19s - loss: 0.39 - ETA: 19s - loss: 0.39 - ETA: 19s - loss: 0.39 - ETA: 19s - loss: 0.39 - ETA: 19s - loss: 0.39 - ETA: 18s - loss: 0.39 - ETA: 19s - loss: 0.39 - ETA: 19s - loss: 0.39 - ETA: 19s - loss: 0.39 - ETA: 19s - loss: 0.39 - ETA: 19s - loss: 0.39 - ETA: 19s - loss: 0.39 - ETA: 19s - loss: 0.39 - ETA: 19s - loss: 0.39 - ETA: 19s - loss: 0.39 - ETA: 19s - loss: 0.39 - ETA: 19s - loss: 0.39 - ETA: 19s - loss: 0.39 - ETA: 20s - loss: 0.39 - ETA: 20s - loss: 0.39 - ETA: 20s - loss: 0.39 - ETA: 20s - loss: 0.39 - ETA: 20s - loss: 0.39 - ETA: 20s - loss: 0.39 - ETA: 20s - loss: 0.39 - ETA: 20s - loss: 0.39 - ETA: 20s - loss: 0.39 - ETA: 20s - loss: 0.39 - ETA: 20s - loss: 0.39 - ETA: 20s - loss: 0.39 - ETA: 20s - loss: 0.39 - ETA: 20s - loss: 0.39 - ETA: 20s - loss: 0.39 - ETA: 20s - loss: 0.39 - ETA: 20s - loss: 0.39 - ETA: 20s - loss: 0.39 - ETA: 20s - loss: 0.39 - ETA: 20s - loss: 0.39 - ETA: 20s - loss: 0.39 - ETA: 20s - loss: 0.39 - ETA: 20s - loss: 0.39 - ETA: 20s - loss: 0.39 - ETA: 20s - loss: 0.39 - ETA: 20s - loss: 0.39 - ETA: 20s - loss: 0.39 - ETA: 20s - loss: 0.39 - ETA: 20s - loss: 0.39 - ETA: 20s - loss: 0.39 - ETA: 19s - loss: 0.39 - ETA: 19s - loss: 0.39 - ETA: 19s - loss: 0.39 - ETA: 19s - loss: 0.39 - ETA: 19s - loss: 0.39 - ETA: 19s - loss: 0.39 - ETA: 19s - loss: 0.39 - ETA: 19s - loss: 0.39 - ETA: 19s - loss: 0.39 - ETA: 19s - loss: 0.39 - ETA: 19s - loss: 0.39 - ETA: 19s - loss: 0.39 - ETA: 19s - loss: 0.39 - ETA: 19s - loss: 0.39 - ETA: 19s - loss: 0.39 - ETA: 19s - loss: 0.39 - ETA: 19s - loss: 0.39 - ETA: 19s - loss: 0.39 - ETA: 19s - loss: 0.39 - ETA: 19s - loss: 0.39 - ETA: 19s - loss: 0.39 - ETA: 19s - loss: 0.39 - ETA: 18s - loss: 0.39 - ETA: 18s - loss: 0.39 - ETA: 18s - loss: 0.39 - ETA: 18s - loss: 0.39 - ETA: 18s - loss: 0.39 - ETA: 18s - loss: 0.39 - ETA: 18s - loss: 0.39 - ETA: 18s - loss: 0.39 - ETA: 18s - loss: 0.39 - ETA: 18s - loss: 0.39 - ETA: 18s - loss: 0.39 - ETA: 18s - loss: 0.39 - ETA: 18s - loss: 0.39 - ETA: 17s - loss: 0.39 - ETA: 17s - loss: 0.39 - ETA: 17s - loss: 0.39 - ETA: 17s - loss: 0.39 - ETA: 17s - loss: 0.39 - ETA: 17s - loss: 0.39 - ETA: 17s - loss: 0.39 - ETA: 17s - loss: 0.39 - ETA: 17s - loss: 0.39 - ETA: 17s - loss: 0.39 - ETA: 17s - loss: 0.39 - ETA: 17s - loss: 0.39 - ETA: 17s - loss: 0.39 - ETA: 17s - loss: 0.39 - ETA: 17s - loss: 0.39 - ETA: 16s - loss: 0.39 - ETA: 16s - loss: 0.39 - ETA: 16s - loss: 0.39 - ETA: 16s - loss: 0.39 - ETA: 16s - loss: 0.39 - ETA: 16s - loss: 0.39 - ETA: 16s - loss: 0.39 - ETA: 16s - loss: 0.39 - ETA: 16s - loss: 0.39 - ETA: 16s - loss: 0.39 - ETA: 16s - loss: 0.39 - ETA: 16s - loss: 0.39 - ETA: 16s - loss: 0.39 - ETA: 15s - loss: 0.39 - ETA: 15s - loss: 0.39 - ETA: 15s - loss: 0.39 - ETA: 15s - loss: 0.39 - ETA: 15s - loss: 0.39 - ETA: 15s - loss: 0.39 - ETA: 15s - loss: 0.39 - ETA: 15s - loss: 0.39 - ETA: 15s - loss: 0.39 - ETA: 15s - loss: 0.39 - ETA: 15s - loss: 0.39 - ETA: 15s - loss: 0.39 - ETA: 15s - loss: 0.39 - ETA: 15s - loss: 0.39 - ETA: 15s - loss: 0.39 - ETA: 15s - loss: 0.39 - ETA: 15s - loss: 0.39 - ETA: 14s - loss: 0.39 - ETA: 14s - loss: 0.39 - ETA: 14s - loss: 0.39 - ETA: 14s - loss: 0.39 - ETA: 14s - loss: 0.39 - ETA: 14s - loss: 0.39 - ETA: 14s - loss: 0.39 - ETA: 14s - loss: 0.39 - ETA: 14s - loss: 0.39 - ETA: 14s - loss: 0.39 - ETA: 14s - loss: 0.39 - ETA: 14s - loss: 0.39 - ETA: 14s - loss: 0.39 - ETA: 14s - loss: 0.39 - ETA: 14s - loss: 0.39 - ETA: 14s - loss: 0.39 - ETA: 14s - loss: 0.39 - ETA: 14s - loss: 0.39 - ETA: 13s - loss: 0.39 - ETA: 13s - loss: 0.39 - ETA: 13s - loss: 0.39 - ETA: 13s - loss: 0.39 - ETA: 13s - loss: 0.39 - ETA: 13s - loss: 0.39 - ETA: 13s - loss: 0.39 - ETA: 13s - loss: 0.39 - ETA: 13s - loss: 0.39 - ETA: 13s - loss: 0.39 - ETA: 13s - loss: 0.39 - ETA: 13s - loss: 0.39 - ETA: 13s - loss: 0.39 - ETA: 12s - loss: 0.39 - ETA: 12s - loss: 0.39 - ETA: 12s - loss: 0.39 - ETA: 12s - loss: 0.39 - ETA: 12s - loss: 0.39 - ETA: 12s - loss: 0.39 - ETA: 12s - loss: 0.39 - ETA: 12s - loss: 0.39 - ETA: 12s - loss: 0.39 - ETA: 12s - loss: 0.39 - ETA: 11s - loss: 0.39 - ETA: 11s - loss: 0.39 - ETA: 11s - loss: 0.39 - ETA: 11s - loss: 0.39 - ETA: 11s - loss: 0.39 - ETA: 11s - loss: 0.39 - ETA: 11s - loss: 0.39 - ETA: 11s - loss: 0.39 - ETA: 11s - loss: 0.39 - ETA: 11s - loss: 0.39 - ETA: 11s - loss: 0.39 - ETA: 11s - loss: 0.39 - ETA: 11s - loss: 0.39 - ETA: 11s - loss: 0.39 - ETA: 11s - loss: 0.39 - ETA: 10s - loss: 0.39 - ETA: 10s - loss: 0.39 - ETA: 10s - loss: 0.39 - ETA: 10s - loss: 0.39 - ETA: 10s - loss: 0.39 - ETA: 10s - loss: 0.39 - ETA: 10s - loss: 0.39 - ETA: 10s - loss: 0.39 - ETA: 10s - loss: 0.39 - ETA: 10s - loss: 0.39 - ETA: 10s - loss: 0.39 - ETA: 10s - loss: 0.39 - ETA: 10s - loss: 0.39 - ETA: 9s - loss: 0.3925 - ETA: 9s - loss: 0.392 - ETA: 9s - loss: 0.392 - ETA: 9s - loss: 0.392 - ETA: 9s - loss: 0.393 - ETA: 9s - loss: 0.392 - ETA: 9s - loss: 0.393 - ETA: 9s - loss: 0.393 - ETA: 9s - loss: 0.393 - ETA: 9s - loss: 0.393 - ETA: 9s - loss: 0.393 - ETA: 9s - loss: 0.393 - ETA: 9s - loss: 0.393 - ETA: 8s - loss: 0.393 - ETA: 8s - loss: 0.392 - ETA: 8s - loss: 0.393 - ETA: 8s - loss: 0.393 - ETA: 8s - loss: 0.393 - ETA: 8s - loss: 0.392 - ETA: 8s - loss: 0.392 - ETA: 8s - loss: 0.392 - ETA: 8s - loss: 0.392 - ETA: 8s - loss: 0.392 - ETA: 8s - loss: 0.392 - ETA: 8s - loss: 0.392 - ETA: 8s - loss: 0.392 - ETA: 7s - loss: 0.392 - ETA: 7s - loss: 0.392 - ETA: 7s - loss: 0.392 - ETA: 7s - loss: 0.393 - ETA: 7s - loss: 0.393 - ETA: 7s - loss: 0.393 - ETA: 7s - loss: 0.393 - ETA: 7s - loss: 0.393 - ETA: 7s - loss: 0.393 - ETA: 7s - loss: 0.393 - ETA: 7s - loss: 0.393 - ETA: 7s - loss: 0.393 - ETA: 7s - loss: 0.393 - ETA: 7s - loss: 0.393 - ETA: 7s - loss: 0.393 - ETA: 6s - loss: 0.393 - ETA: 6s - loss: 0.393 - ETA: 6s - loss: 0.393 - ETA: 6s - loss: 0.393 - ETA: 6s - loss: 0.393 - ETA: 6s - loss: 0.393 - ETA: 6s - loss: 0.393 - ETA: 6s - loss: 0.393 - ETA: 6s - loss: 0.393 - ETA: 6s - loss: 0.393 - ETA: 6s - loss: 0.393 - ETA: 6s - loss: 0.393 - ETA: 6s - loss: 0.393 - ETA: 6s - loss: 0.393 - ETA: 5s - loss: 0.393 - ETA: 5s - loss: 0.393 - ETA: 5s - loss: 0.393 - ETA: 5s - loss: 0.393 - ETA: 5s - loss: 0.393 - ETA: 5s - loss: 0.392 - ETA: 5s - loss: 0.392 - ETA: 5s - loss: 0.392 - ETA: 5s - loss: 0.392 - ETA: 5s - loss: 0.392 - ETA: 5s - loss: 0.392 - ETA: 5s - loss: 0.392 - ETA: 5s - loss: 0.392 - ETA: 4s - loss: 0.392 - ETA: 4s - loss: 0.392 - ETA: 4s - loss: 0.392 - ETA: 4s - loss: 0.392 - ETA: 4s - loss: 0.392 - ETA: 4s - loss: 0.392 - ETA: 4s - loss: 0.392 - ETA: 4s - loss: 0.392 - ETA: 4s - loss: 0.392 - ETA: 4s - loss: 0.393 - ETA: 4s - loss: 0.393 - ETA: 4s - loss: 0.393 - ETA: 4s - loss: 0.393 - ETA: 4s - loss: 0.393 - ETA: 4s - loss: 0.393 - ETA: 4s - loss: 0.393 - ETA: 4s - loss: 0.393 - ETA: 3s - loss: 0.393 - ETA: 3s - loss: 0.393 - ETA: 3s - loss: 0.394 - ETA: 3s - loss: 0.394 - ETA: 3s - loss: 0.393 - ETA: 3s - loss: 0.393 - ETA: 3s - loss: 0.393 - ETA: 3s - loss: 0.393 - ETA: 3s - loss: 0.393 - ETA: 3s - loss: 0.393 - ETA: 3s - loss: 0.393 - ETA: 3s - loss: 0.393 - ETA: 3s - loss: 0.393 - ETA: 3s - loss: 0.394 - ETA: 3s - loss: 0.394 - ETA: 2s - loss: 0.394 - ETA: 2s - loss: 0.394 - ETA: 2s - loss: 0.394 - ETA: 2s - loss: 0.394 - ETA: 2s - loss: 0.394 - ETA: 2s - loss: 0.394 - ETA: 2s - loss: 0.394 - ETA: 2s - loss: 0.394 - ETA: 2s - loss: 0.394 - ETA: 2s - loss: 0.394655381/55381 [==============================] - ETA: 2s - loss: 0.394 - ETA: 2s - loss: 0.394 - ETA: 2s - loss: 0.394 - ETA: 1s - loss: 0.394 - ETA: 1s - loss: 0.394 - ETA: 1s - loss: 0.394 - ETA: 1s - loss: 0.394 - ETA: 1s - loss: 0.394 - ETA: 1s - loss: 0.394 - ETA: 1s - loss: 0.394 - ETA: 1s - loss: 0.394 - ETA: 1s - loss: 0.394 - ETA: 1s - loss: 0.394 - ETA: 1s - loss: 0.394 - ETA: 1s - loss: 0.394 - ETA: 1s - loss: 0.394 - ETA: 1s - loss: 0.394 - ETA: 1s - loss: 0.394 - ETA: 0s - loss: 0.394 - ETA: 0s - loss: 0.394 - ETA: 0s - loss: 0.394 - ETA: 0s - loss: 0.394 - ETA: 0s - loss: 0.394 - ETA: 0s - loss: 0.394 - ETA: 0s - loss: 0.394 - ETA: 0s - loss: 0.394 - ETA: 0s - loss: 0.394 - ETA: 0s - loss: 0.393 - ETA: 0s - loss: 0.393 - ETA: 0s - loss: 0.393 - ETA: 0s - loss: 0.393 - ETA: 0s - loss: 0.393 - ETA: 0s - loss: 0.393 - ETA: 0s - loss: 0.393 - ETA: 0s - loss: 0.393 - ETA: 0s - loss: 0.393 - 24s 431us/step - loss: 0.3934 - val_loss: 0.3880\n",
      "Epoch 30/50\n"
     ]
    },
    {
     "name": "stdout",
     "output_type": "stream",
     "text": [
      "53248/55381 [===========================>..] - ETA: 13s - loss: 0.40 - ETA: 18s - loss: 0.40 - ETA: 22s - loss: 0.41 - ETA: 20s - loss: 0.40 - ETA: 22s - loss: 0.40 - ETA: 20s - loss: 0.40 - ETA: 22s - loss: 0.40 - ETA: 21s - loss: 0.40 - ETA: 21s - loss: 0.39 - ETA: 20s - loss: 0.39 - ETA: 21s - loss: 0.40 - ETA: 20s - loss: 0.39 - ETA: 20s - loss: 0.39 - ETA: 19s - loss: 0.39 - ETA: 20s - loss: 0.39 - ETA: 20s - loss: 0.39 - ETA: 21s - loss: 0.39 - ETA: 20s - loss: 0.39 - ETA: 21s - loss: 0.39 - ETA: 21s - loss: 0.39 - ETA: 21s - loss: 0.39 - ETA: 21s - loss: 0.40 - ETA: 21s - loss: 0.40 - ETA: 21s - loss: 0.40 - ETA: 21s - loss: 0.40 - ETA: 21s - loss: 0.40 - ETA: 21s - loss: 0.40 - ETA: 21s - loss: 0.40 - ETA: 21s - loss: 0.40 - ETA: 21s - loss: 0.40 - ETA: 21s - loss: 0.40 - ETA: 21s - loss: 0.39 - ETA: 20s - loss: 0.39 - ETA: 20s - loss: 0.39 - ETA: 20s - loss: 0.39 - ETA: 20s - loss: 0.39 - ETA: 20s - loss: 0.39 - ETA: 20s - loss: 0.39 - ETA: 20s - loss: 0.39 - ETA: 20s - loss: 0.39 - ETA: 21s - loss: 0.39 - ETA: 20s - loss: 0.39 - ETA: 20s - loss: 0.39 - ETA: 20s - loss: 0.39 - ETA: 20s - loss: 0.39 - ETA: 20s - loss: 0.39 - ETA: 20s - loss: 0.39 - ETA: 20s - loss: 0.39 - ETA: 20s - loss: 0.39 - ETA: 20s - loss: 0.39 - ETA: 20s - loss: 0.39 - ETA: 20s - loss: 0.39 - ETA: 19s - loss: 0.39 - ETA: 19s - loss: 0.39 - ETA: 19s - loss: 0.39 - ETA: 20s - loss: 0.39 - ETA: 19s - loss: 0.39 - ETA: 19s - loss: 0.39 - ETA: 19s - loss: 0.39 - ETA: 19s - loss: 0.39 - ETA: 19s - loss: 0.39 - ETA: 19s - loss: 0.39 - ETA: 19s - loss: 0.39 - ETA: 19s - loss: 0.39 - ETA: 19s - loss: 0.39 - ETA: 19s - loss: 0.39 - ETA: 19s - loss: 0.39 - ETA: 19s - loss: 0.39 - ETA: 19s - loss: 0.39 - ETA: 19s - loss: 0.39 - ETA: 19s - loss: 0.39 - ETA: 19s - loss: 0.39 - ETA: 19s - loss: 0.39 - ETA: 19s - loss: 0.39 - ETA: 18s - loss: 0.39 - ETA: 18s - loss: 0.39 - ETA: 18s - loss: 0.39 - ETA: 18s - loss: 0.39 - ETA: 18s - loss: 0.39 - ETA: 18s - loss: 0.39 - ETA: 18s - loss: 0.39 - ETA: 18s - loss: 0.39 - ETA: 18s - loss: 0.39 - ETA: 18s - loss: 0.39 - ETA: 18s - loss: 0.39 - ETA: 18s - loss: 0.39 - ETA: 17s - loss: 0.39 - ETA: 17s - loss: 0.39 - ETA: 17s - loss: 0.39 - ETA: 17s - loss: 0.39 - ETA: 17s - loss: 0.39 - ETA: 17s - loss: 0.39 - ETA: 17s - loss: 0.39 - ETA: 17s - loss: 0.39 - ETA: 17s - loss: 0.39 - ETA: 17s - loss: 0.39 - ETA: 16s - loss: 0.39 - ETA: 16s - loss: 0.39 - ETA: 16s - loss: 0.39 - ETA: 16s - loss: 0.39 - ETA: 16s - loss: 0.39 - ETA: 16s - loss: 0.39 - ETA: 16s - loss: 0.39 - ETA: 16s - loss: 0.39 - ETA: 16s - loss: 0.39 - ETA: 16s - loss: 0.39 - ETA: 16s - loss: 0.39 - ETA: 16s - loss: 0.39 - ETA: 15s - loss: 0.39 - ETA: 15s - loss: 0.39 - ETA: 15s - loss: 0.39 - ETA: 15s - loss: 0.39 - ETA: 15s - loss: 0.39 - ETA: 15s - loss: 0.39 - ETA: 15s - loss: 0.39 - ETA: 15s - loss: 0.39 - ETA: 15s - loss: 0.39 - ETA: 15s - loss: 0.39 - ETA: 15s - loss: 0.39 - ETA: 15s - loss: 0.39 - ETA: 15s - loss: 0.39 - ETA: 15s - loss: 0.39 - ETA: 15s - loss: 0.39 - ETA: 15s - loss: 0.39 - ETA: 15s - loss: 0.39 - ETA: 15s - loss: 0.39 - ETA: 15s - loss: 0.39 - ETA: 15s - loss: 0.39 - ETA: 14s - loss: 0.39 - ETA: 14s - loss: 0.39 - ETA: 14s - loss: 0.39 - ETA: 14s - loss: 0.39 - ETA: 14s - loss: 0.39 - ETA: 14s - loss: 0.39 - ETA: 14s - loss: 0.39 - ETA: 14s - loss: 0.39 - ETA: 14s - loss: 0.39 - ETA: 14s - loss: 0.39 - ETA: 14s - loss: 0.39 - ETA: 14s - loss: 0.39 - ETA: 13s - loss: 0.39 - ETA: 13s - loss: 0.39 - ETA: 13s - loss: 0.39 - ETA: 13s - loss: 0.39 - ETA: 13s - loss: 0.39 - ETA: 13s - loss: 0.39 - ETA: 13s - loss: 0.39 - ETA: 13s - loss: 0.39 - ETA: 13s - loss: 0.39 - ETA: 13s - loss: 0.39 - ETA: 13s - loss: 0.39 - ETA: 13s - loss: 0.39 - ETA: 13s - loss: 0.39 - ETA: 12s - loss: 0.39 - ETA: 12s - loss: 0.39 - ETA: 12s - loss: 0.39 - ETA: 12s - loss: 0.39 - ETA: 12s - loss: 0.39 - ETA: 12s - loss: 0.39 - ETA: 12s - loss: 0.39 - ETA: 12s - loss: 0.39 - ETA: 12s - loss: 0.39 - ETA: 12s - loss: 0.39 - ETA: 12s - loss: 0.39 - ETA: 12s - loss: 0.39 - ETA: 12s - loss: 0.39 - ETA: 11s - loss: 0.39 - ETA: 11s - loss: 0.39 - ETA: 11s - loss: 0.39 - ETA: 11s - loss: 0.39 - ETA: 11s - loss: 0.39 - ETA: 11s - loss: 0.39 - ETA: 11s - loss: 0.39 - ETA: 11s - loss: 0.39 - ETA: 11s - loss: 0.39 - ETA: 11s - loss: 0.39 - ETA: 11s - loss: 0.39 - ETA: 11s - loss: 0.39 - ETA: 10s - loss: 0.39 - ETA: 10s - loss: 0.39 - ETA: 10s - loss: 0.39 - ETA: 10s - loss: 0.39 - ETA: 10s - loss: 0.39 - ETA: 10s - loss: 0.39 - ETA: 10s - loss: 0.39 - ETA: 10s - loss: 0.39 - ETA: 10s - loss: 0.39 - ETA: 10s - loss: 0.39 - ETA: 10s - loss: 0.39 - ETA: 10s - loss: 0.39 - ETA: 10s - loss: 0.39 - ETA: 10s - loss: 0.39 - ETA: 10s - loss: 0.39 - ETA: 9s - loss: 0.3972 - ETA: 9s - loss: 0.397 - ETA: 9s - loss: 0.397 - ETA: 9s - loss: 0.397 - ETA: 9s - loss: 0.397 - ETA: 9s - loss: 0.397 - ETA: 9s - loss: 0.397 - ETA: 9s - loss: 0.397 - ETA: 9s - loss: 0.396 - ETA: 9s - loss: 0.397 - ETA: 9s - loss: 0.397 - ETA: 9s - loss: 0.397 - ETA: 9s - loss: 0.397 - ETA: 9s - loss: 0.396 - ETA: 9s - loss: 0.396 - ETA: 8s - loss: 0.396 - ETA: 8s - loss: 0.396 - ETA: 8s - loss: 0.396 - ETA: 8s - loss: 0.396 - ETA: 8s - loss: 0.396 - ETA: 8s - loss: 0.396 - ETA: 8s - loss: 0.396 - ETA: 8s - loss: 0.396 - ETA: 8s - loss: 0.396 - ETA: 8s - loss: 0.395 - ETA: 8s - loss: 0.396 - ETA: 8s - loss: 0.396 - ETA: 8s - loss: 0.396 - ETA: 7s - loss: 0.396 - ETA: 7s - loss: 0.396 - ETA: 7s - loss: 0.396 - ETA: 7s - loss: 0.395 - ETA: 7s - loss: 0.395 - ETA: 7s - loss: 0.395 - ETA: 7s - loss: 0.395 - ETA: 7s - loss: 0.395 - ETA: 7s - loss: 0.395 - ETA: 7s - loss: 0.395 - ETA: 7s - loss: 0.395 - ETA: 7s - loss: 0.395 - ETA: 7s - loss: 0.395 - ETA: 6s - loss: 0.395 - ETA: 6s - loss: 0.394 - ETA: 6s - loss: 0.394 - ETA: 6s - loss: 0.394 - ETA: 6s - loss: 0.394 - ETA: 6s - loss: 0.394 - ETA: 6s - loss: 0.394 - ETA: 6s - loss: 0.394 - ETA: 6s - loss: 0.394 - ETA: 6s - loss: 0.394 - ETA: 6s - loss: 0.394 - ETA: 6s - loss: 0.394 - ETA: 6s - loss: 0.394 - ETA: 6s - loss: 0.394 - ETA: 6s - loss: 0.394 - ETA: 6s - loss: 0.394 - ETA: 5s - loss: 0.393 - ETA: 5s - loss: 0.394 - ETA: 5s - loss: 0.393 - ETA: 5s - loss: 0.393 - ETA: 5s - loss: 0.393 - ETA: 5s - loss: 0.393 - ETA: 5s - loss: 0.393 - ETA: 5s - loss: 0.393 - ETA: 5s - loss: 0.393 - ETA: 5s - loss: 0.393 - ETA: 5s - loss: 0.393 - ETA: 5s - loss: 0.393 - ETA: 5s - loss: 0.393 - ETA: 5s - loss: 0.393 - ETA: 5s - loss: 0.392 - ETA: 5s - loss: 0.393 - ETA: 4s - loss: 0.393 - ETA: 4s - loss: 0.393 - ETA: 4s - loss: 0.393 - ETA: 4s - loss: 0.393 - ETA: 4s - loss: 0.392 - ETA: 4s - loss: 0.393 - ETA: 4s - loss: 0.392 - ETA: 4s - loss: 0.393 - ETA: 4s - loss: 0.393 - ETA: 4s - loss: 0.392 - ETA: 4s - loss: 0.392 - ETA: 4s - loss: 0.392 - ETA: 4s - loss: 0.392 - ETA: 4s - loss: 0.392 - ETA: 4s - loss: 0.392 - ETA: 4s - loss: 0.392 - ETA: 4s - loss: 0.392 - ETA: 4s - loss: 0.392 - ETA: 4s - loss: 0.392 - ETA: 3s - loss: 0.392 - ETA: 3s - loss: 0.392 - ETA: 3s - loss: 0.391 - ETA: 3s - loss: 0.391 - ETA: 3s - loss: 0.392 - ETA: 3s - loss: 0.392 - ETA: 3s - loss: 0.392 - ETA: 3s - loss: 0.392 - ETA: 3s - loss: 0.392 - ETA: 3s - loss: 0.393 - ETA: 3s - loss: 0.393 - ETA: 3s - loss: 0.393 - ETA: 3s - loss: 0.393 - ETA: 3s - loss: 0.393 - ETA: 3s - loss: 0.393 - ETA: 3s - loss: 0.392 - ETA: 2s - loss: 0.392 - ETA: 2s - loss: 0.392 - ETA: 2s - loss: 0.392 - ETA: 2s - loss: 0.392 - ETA: 2s - loss: 0.392 - ETA: 2s - loss: 0.392 - ETA: 2s - loss: 0.392 - ETA: 2s - loss: 0.392 - ETA: 2s - loss: 0.392 - ETA: 2s - loss: 0.392 - ETA: 2s - loss: 0.392 - ETA: 2s - loss: 0.392 - ETA: 2s - loss: 0.391 - ETA: 2s - loss: 0.391 - ETA: 2s - loss: 0.392 - ETA: 2s - loss: 0.392 - ETA: 2s - loss: 0.392 - ETA: 2s - loss: 0.392 - ETA: 1s - loss: 0.392 - ETA: 1s - loss: 0.392 - ETA: 1s - loss: 0.392 - ETA: 1s - loss: 0.392 - ETA: 1s - loss: 0.392 - ETA: 1s - loss: 0.392 - ETA: 1s - loss: 0.392 - ETA: 1s - loss: 0.392 - ETA: 1s - loss: 0.392 - ETA: 1s - loss: 0.392 - ETA: 1s - loss: 0.392 - ETA: 1s - loss: 0.392 - ETA: 1s - loss: 0.393 - ETA: 1s - loss: 0.393 - ETA: 1s - loss: 0.393 - ETA: 1s - loss: 0.393 - ETA: 1s - loss: 0.393 - ETA: 1s - loss: 0.392 - ETA: 0s - loss: 0.392 - ETA: 0s - loss: 0.392 - ETA: 0s - loss: 0.3928"
     ]
    },
    {
     "name": "stdout",
     "output_type": "stream",
     "text": [
      "55381/55381 [==============================] - ETA: 0s - loss: 0.392 - ETA: 0s - loss: 0.392 - ETA: 0s - loss: 0.392 - ETA: 0s - loss: 0.392 - ETA: 0s - loss: 0.393 - ETA: 0s - loss: 0.393 - ETA: 0s - loss: 0.393 - ETA: 0s - loss: 0.393 - ETA: 0s - loss: 0.393 - ETA: 0s - loss: 0.393 - ETA: 0s - loss: 0.393 - ETA: 0s - loss: 0.393 - ETA: 0s - loss: 0.393 - ETA: 0s - loss: 0.393 - 22s 402us/step - loss: 0.3930 - val_loss: 0.3899\n",
      "Epoch 31/50\n",
      "55296/55381 [============================>.] - ETA: 17s - loss: 0.43 - ETA: 25s - loss: 0.41 - ETA: 21s - loss: 0.38 - ETA: 22s - loss: 0.36 - ETA: 20s - loss: 0.36 - ETA: 22s - loss: 0.37 - ETA: 22s - loss: 0.37 - ETA: 22s - loss: 0.37 - ETA: 22s - loss: 0.37 - ETA: 21s - loss: 0.37 - ETA: 20s - loss: 0.37 - ETA: 20s - loss: 0.38 - ETA: 20s - loss: 0.38 - ETA: 19s - loss: 0.38 - ETA: 19s - loss: 0.38 - ETA: 19s - loss: 0.38 - ETA: 19s - loss: 0.38 - ETA: 19s - loss: 0.39 - ETA: 19s - loss: 0.39 - ETA: 20s - loss: 0.39 - ETA: 19s - loss: 0.39 - ETA: 19s - loss: 0.39 - ETA: 19s - loss: 0.39 - ETA: 19s - loss: 0.38 - ETA: 18s - loss: 0.39 - ETA: 18s - loss: 0.39 - ETA: 18s - loss: 0.39 - ETA: 18s - loss: 0.39 - ETA: 18s - loss: 0.39 - ETA: 18s - loss: 0.39 - ETA: 18s - loss: 0.39 - ETA: 18s - loss: 0.38 - ETA: 18s - loss: 0.39 - ETA: 18s - loss: 0.39 - ETA: 18s - loss: 0.39 - ETA: 18s - loss: 0.39 - ETA: 18s - loss: 0.38 - ETA: 18s - loss: 0.38 - ETA: 18s - loss: 0.38 - ETA: 18s - loss: 0.39 - ETA: 18s - loss: 0.39 - ETA: 18s - loss: 0.39 - ETA: 18s - loss: 0.38 - ETA: 18s - loss: 0.39 - ETA: 18s - loss: 0.38 - ETA: 18s - loss: 0.38 - ETA: 18s - loss: 0.38 - ETA: 18s - loss: 0.38 - ETA: 18s - loss: 0.38 - ETA: 18s - loss: 0.39 - ETA: 18s - loss: 0.39 - ETA: 18s - loss: 0.39 - ETA: 18s - loss: 0.39 - ETA: 18s - loss: 0.39 - ETA: 18s - loss: 0.39 - ETA: 18s - loss: 0.39 - ETA: 18s - loss: 0.39 - ETA: 18s - loss: 0.39 - ETA: 18s - loss: 0.39 - ETA: 18s - loss: 0.39 - ETA: 18s - loss: 0.39 - ETA: 18s - loss: 0.39 - ETA: 18s - loss: 0.39 - ETA: 18s - loss: 0.39 - ETA: 18s - loss: 0.39 - ETA: 18s - loss: 0.38 - ETA: 18s - loss: 0.38 - ETA: 18s - loss: 0.38 - ETA: 18s - loss: 0.39 - ETA: 18s - loss: 0.39 - ETA: 17s - loss: 0.39 - ETA: 17s - loss: 0.39 - ETA: 17s - loss: 0.38 - ETA: 17s - loss: 0.39 - ETA: 17s - loss: 0.38 - ETA: 17s - loss: 0.39 - ETA: 17s - loss: 0.39 - ETA: 17s - loss: 0.39 - ETA: 17s - loss: 0.39 - ETA: 17s - loss: 0.39 - ETA: 17s - loss: 0.39 - ETA: 17s - loss: 0.39 - ETA: 16s - loss: 0.39 - ETA: 16s - loss: 0.39 - ETA: 16s - loss: 0.39 - ETA: 16s - loss: 0.39 - ETA: 16s - loss: 0.39 - ETA: 16s - loss: 0.39 - ETA: 16s - loss: 0.39 - ETA: 16s - loss: 0.39 - ETA: 16s - loss: 0.39 - ETA: 16s - loss: 0.39 - ETA: 16s - loss: 0.39 - ETA: 16s - loss: 0.38 - ETA: 16s - loss: 0.38 - ETA: 15s - loss: 0.38 - ETA: 15s - loss: 0.38 - ETA: 15s - loss: 0.38 - ETA: 15s - loss: 0.38 - ETA: 15s - loss: 0.38 - ETA: 15s - loss: 0.38 - ETA: 15s - loss: 0.38 - ETA: 15s - loss: 0.38 - ETA: 15s - loss: 0.38 - ETA: 15s - loss: 0.38 - ETA: 15s - loss: 0.38 - ETA: 15s - loss: 0.38 - ETA: 14s - loss: 0.38 - ETA: 14s - loss: 0.38 - ETA: 14s - loss: 0.38 - ETA: 14s - loss: 0.38 - ETA: 14s - loss: 0.38 - ETA: 14s - loss: 0.38 - ETA: 14s - loss: 0.38 - ETA: 14s - loss: 0.38 - ETA: 14s - loss: 0.38 - ETA: 14s - loss: 0.38 - ETA: 14s - loss: 0.38 - ETA: 14s - loss: 0.38 - ETA: 14s - loss: 0.38 - ETA: 14s - loss: 0.38 - ETA: 14s - loss: 0.38 - ETA: 13s - loss: 0.38 - ETA: 13s - loss: 0.38 - ETA: 13s - loss: 0.38 - ETA: 13s - loss: 0.38 - ETA: 13s - loss: 0.38 - ETA: 13s - loss: 0.38 - ETA: 13s - loss: 0.38 - ETA: 13s - loss: 0.38 - ETA: 13s - loss: 0.38 - ETA: 13s - loss: 0.38 - ETA: 13s - loss: 0.38 - ETA: 13s - loss: 0.38 - ETA: 13s - loss: 0.38 - ETA: 13s - loss: 0.38 - ETA: 13s - loss: 0.38 - ETA: 13s - loss: 0.38 - ETA: 12s - loss: 0.38 - ETA: 12s - loss: 0.38 - ETA: 12s - loss: 0.38 - ETA: 12s - loss: 0.38 - ETA: 12s - loss: 0.38 - ETA: 12s - loss: 0.38 - ETA: 12s - loss: 0.38 - ETA: 12s - loss: 0.38 - ETA: 12s - loss: 0.38 - ETA: 12s - loss: 0.38 - ETA: 12s - loss: 0.38 - ETA: 12s - loss: 0.38 - ETA: 12s - loss: 0.38 - ETA: 11s - loss: 0.38 - ETA: 11s - loss: 0.38 - ETA: 11s - loss: 0.38 - ETA: 11s - loss: 0.38 - ETA: 11s - loss: 0.38 - ETA: 11s - loss: 0.38 - ETA: 11s - loss: 0.38 - ETA: 11s - loss: 0.38 - ETA: 11s - loss: 0.38 - ETA: 11s - loss: 0.38 - ETA: 11s - loss: 0.38 - ETA: 10s - loss: 0.38 - ETA: 10s - loss: 0.38 - ETA: 10s - loss: 0.38 - ETA: 10s - loss: 0.38 - ETA: 10s - loss: 0.38 - ETA: 10s - loss: 0.38 - ETA: 10s - loss: 0.38 - ETA: 10s - loss: 0.38 - ETA: 10s - loss: 0.38 - ETA: 10s - loss: 0.38 - ETA: 10s - loss: 0.38 - ETA: 10s - loss: 0.38 - ETA: 10s - loss: 0.38 - ETA: 9s - loss: 0.3861 - ETA: 9s - loss: 0.386 - ETA: 9s - loss: 0.386 - ETA: 9s - loss: 0.386 - ETA: 9s - loss: 0.386 - ETA: 9s - loss: 0.386 - ETA: 9s - loss: 0.386 - ETA: 9s - loss: 0.386 - ETA: 9s - loss: 0.386 - ETA: 9s - loss: 0.386 - ETA: 9s - loss: 0.386 - ETA: 9s - loss: 0.386 - ETA: 9s - loss: 0.386 - ETA: 9s - loss: 0.386 - ETA: 9s - loss: 0.385 - ETA: 8s - loss: 0.385 - ETA: 8s - loss: 0.385 - ETA: 8s - loss: 0.385 - ETA: 8s - loss: 0.386 - ETA: 8s - loss: 0.386 - ETA: 8s - loss: 0.386 - ETA: 8s - loss: 0.386 - ETA: 8s - loss: 0.386 - ETA: 8s - loss: 0.386 - ETA: 8s - loss: 0.387 - ETA: 8s - loss: 0.387 - ETA: 8s - loss: 0.387 - ETA: 8s - loss: 0.387 - ETA: 8s - loss: 0.387 - ETA: 8s - loss: 0.388 - ETA: 7s - loss: 0.388 - ETA: 7s - loss: 0.388 - ETA: 7s - loss: 0.387 - ETA: 7s - loss: 0.387 - ETA: 7s - loss: 0.387 - ETA: 7s - loss: 0.387 - ETA: 7s - loss: 0.387 - ETA: 7s - loss: 0.387 - ETA: 7s - loss: 0.387 - ETA: 7s - loss: 0.387 - ETA: 7s - loss: 0.387 - ETA: 7s - loss: 0.387 - ETA: 7s - loss: 0.387 - ETA: 7s - loss: 0.387 - ETA: 7s - loss: 0.387 - ETA: 6s - loss: 0.387 - ETA: 6s - loss: 0.387 - ETA: 6s - loss: 0.387 - ETA: 6s - loss: 0.387 - ETA: 6s - loss: 0.387 - ETA: 6s - loss: 0.388 - ETA: 6s - loss: 0.388 - ETA: 6s - loss: 0.388 - ETA: 6s - loss: 0.388 - ETA: 6s - loss: 0.388 - ETA: 6s - loss: 0.388 - ETA: 6s - loss: 0.388 - ETA: 6s - loss: 0.388 - ETA: 6s - loss: 0.388 - ETA: 6s - loss: 0.388 - ETA: 6s - loss: 0.388 - ETA: 5s - loss: 0.389 - ETA: 5s - loss: 0.388 - ETA: 5s - loss: 0.388 - ETA: 5s - loss: 0.388 - ETA: 5s - loss: 0.388 - ETA: 5s - loss: 0.388 - ETA: 5s - loss: 0.389 - ETA: 5s - loss: 0.388 - ETA: 5s - loss: 0.388 - ETA: 5s - loss: 0.388 - ETA: 5s - loss: 0.388 - ETA: 5s - loss: 0.388 - ETA: 5s - loss: 0.388 - ETA: 5s - loss: 0.388 - ETA: 5s - loss: 0.388 - ETA: 5s - loss: 0.389 - ETA: 5s - loss: 0.389 - ETA: 4s - loss: 0.389 - ETA: 4s - loss: 0.389 - ETA: 4s - loss: 0.389 - ETA: 4s - loss: 0.389 - ETA: 4s - loss: 0.388 - ETA: 4s - loss: 0.388 - ETA: 4s - loss: 0.388 - ETA: 4s - loss: 0.389 - ETA: 4s - loss: 0.389 - ETA: 4s - loss: 0.389 - ETA: 4s - loss: 0.389 - ETA: 4s - loss: 0.389 - ETA: 4s - loss: 0.389 - ETA: 4s - loss: 0.389 - ETA: 4s - loss: 0.389 - ETA: 4s - loss: 0.388 - ETA: 4s - loss: 0.388 - ETA: 4s - loss: 0.388 - ETA: 4s - loss: 0.389 - ETA: 4s - loss: 0.389 - ETA: 4s - loss: 0.389 - ETA: 4s - loss: 0.389 - ETA: 3s - loss: 0.389 - ETA: 3s - loss: 0.389 - ETA: 3s - loss: 0.389 - ETA: 3s - loss: 0.389 - ETA: 3s - loss: 0.389 - ETA: 3s - loss: 0.389 - ETA: 3s - loss: 0.389 - ETA: 3s - loss: 0.389 - ETA: 3s - loss: 0.389 - ETA: 3s - loss: 0.389 - ETA: 3s - loss: 0.389 - ETA: 3s - loss: 0.389 - ETA: 3s - loss: 0.389 - ETA: 3s - loss: 0.389 - ETA: 3s - loss: 0.389 - ETA: 3s - loss: 0.389 - ETA: 3s - loss: 0.389 - ETA: 2s - loss: 0.389 - ETA: 2s - loss: 0.389 - ETA: 2s - loss: 0.389 - ETA: 2s - loss: 0.389 - ETA: 2s - loss: 0.389 - ETA: 2s - loss: 0.389 - ETA: 2s - loss: 0.389 - ETA: 2s - loss: 0.389 - ETA: 2s - loss: 0.389 - ETA: 2s - loss: 0.389 - ETA: 2s - loss: 0.389 - ETA: 2s - loss: 0.389 - ETA: 2s - loss: 0.389 - ETA: 2s - loss: 0.389 - ETA: 2s - loss: 0.389 - ETA: 2s - loss: 0.389 - ETA: 2s - loss: 0.389 - ETA: 2s - loss: 0.389 - ETA: 2s - loss: 0.389 - ETA: 1s - loss: 0.389 - ETA: 1s - loss: 0.389 - ETA: 1s - loss: 0.389 - ETA: 1s - loss: 0.389 - ETA: 1s - loss: 0.389 - ETA: 1s - loss: 0.389 - ETA: 1s - loss: 0.389 - ETA: 1s - loss: 0.389 - ETA: 1s - loss: 0.389 - ETA: 1s - loss: 0.389 - ETA: 1s - loss: 0.389 - ETA: 1s - loss: 0.389 - ETA: 1s - loss: 0.389 - ETA: 1s - loss: 0.389 - ETA: 0s - loss: 0.389 - ETA: 0s - loss: 0.389 - ETA: 0s - loss: 0.389 - ETA: 0s - loss: 0.389 - ETA: 0s - loss: 0.390 - ETA: 0s - loss: 0.390 - ETA: 0s - loss: 0.390 - ETA: 0s - loss: 0.390 - ETA: 0s - loss: 0.389 - ETA: 0s - loss: 0.389 - ETA: 0s - loss: 0.389 - ETA: 0s - loss: 0.389 - ETA: 0s - loss: 0.389 - ETA: 0s - loss: 0.389 - ETA: 0s - loss: 0.389855381/55381 [==============================] - 21s 380us/step - loss: 0.3900 - val_loss: 0.3816\n",
      "Epoch 32/50\n"
     ]
    },
    {
     "name": "stdout",
     "output_type": "stream",
     "text": [
      "54720/55381 [============================>.] - ETA: 13s - loss: 0.37 - ETA: 17s - loss: 0.41 - ETA: 19s - loss: 0.41 - ETA: 16s - loss: 0.39 - ETA: 18s - loss: 0.39 - ETA: 18s - loss: 0.39 - ETA: 18s - loss: 0.40 - ETA: 18s - loss: 0.40 - ETA: 17s - loss: 0.39 - ETA: 17s - loss: 0.40 - ETA: 17s - loss: 0.40 - ETA: 16s - loss: 0.40 - ETA: 17s - loss: 0.40 - ETA: 17s - loss: 0.40 - ETA: 17s - loss: 0.40 - ETA: 19s - loss: 0.40 - ETA: 19s - loss: 0.39 - ETA: 19s - loss: 0.39 - ETA: 19s - loss: 0.39 - ETA: 19s - loss: 0.39 - ETA: 18s - loss: 0.39 - ETA: 18s - loss: 0.39 - ETA: 18s - loss: 0.39 - ETA: 18s - loss: 0.39 - ETA: 18s - loss: 0.39 - ETA: 19s - loss: 0.39 - ETA: 19s - loss: 0.39 - ETA: 18s - loss: 0.39 - ETA: 18s - loss: 0.38 - ETA: 18s - loss: 0.38 - ETA: 18s - loss: 0.38 - ETA: 18s - loss: 0.39 - ETA: 18s - loss: 0.39 - ETA: 18s - loss: 0.39 - ETA: 19s - loss: 0.39 - ETA: 19s - loss: 0.39 - ETA: 19s - loss: 0.39 - ETA: 19s - loss: 0.39 - ETA: 19s - loss: 0.38 - ETA: 19s - loss: 0.38 - ETA: 19s - loss: 0.38 - ETA: 19s - loss: 0.38 - ETA: 18s - loss: 0.38 - ETA: 18s - loss: 0.38 - ETA: 18s - loss: 0.38 - ETA: 18s - loss: 0.38 - ETA: 18s - loss: 0.38 - ETA: 18s - loss: 0.38 - ETA: 18s - loss: 0.38 - ETA: 18s - loss: 0.38 - ETA: 18s - loss: 0.38 - ETA: 18s - loss: 0.38 - ETA: 17s - loss: 0.38 - ETA: 17s - loss: 0.38 - ETA: 17s - loss: 0.38 - ETA: 17s - loss: 0.38 - ETA: 17s - loss: 0.38 - ETA: 17s - loss: 0.38 - ETA: 17s - loss: 0.38 - ETA: 17s - loss: 0.38 - ETA: 17s - loss: 0.38 - ETA: 17s - loss: 0.38 - ETA: 17s - loss: 0.38 - ETA: 17s - loss: 0.38 - ETA: 17s - loss: 0.38 - ETA: 16s - loss: 0.38 - ETA: 16s - loss: 0.38 - ETA: 16s - loss: 0.38 - ETA: 16s - loss: 0.38 - ETA: 16s - loss: 0.38 - ETA: 16s - loss: 0.38 - ETA: 16s - loss: 0.38 - ETA: 16s - loss: 0.38 - ETA: 16s - loss: 0.38 - ETA: 16s - loss: 0.38 - ETA: 15s - loss: 0.38 - ETA: 15s - loss: 0.38 - ETA: 15s - loss: 0.38 - ETA: 15s - loss: 0.38 - ETA: 15s - loss: 0.38 - ETA: 15s - loss: 0.38 - ETA: 15s - loss: 0.38 - ETA: 15s - loss: 0.38 - ETA: 15s - loss: 0.38 - ETA: 15s - loss: 0.38 - ETA: 15s - loss: 0.38 - ETA: 15s - loss: 0.38 - ETA: 15s - loss: 0.38 - ETA: 15s - loss: 0.38 - ETA: 15s - loss: 0.38 - ETA: 15s - loss: 0.38 - ETA: 15s - loss: 0.38 - ETA: 15s - loss: 0.38 - ETA: 14s - loss: 0.38 - ETA: 14s - loss: 0.38 - ETA: 14s - loss: 0.38 - ETA: 14s - loss: 0.38 - ETA: 14s - loss: 0.38 - ETA: 14s - loss: 0.38 - ETA: 14s - loss: 0.38 - ETA: 14s - loss: 0.38 - ETA: 14s - loss: 0.38 - ETA: 14s - loss: 0.38 - ETA: 14s - loss: 0.38 - ETA: 14s - loss: 0.38 - ETA: 13s - loss: 0.38 - ETA: 13s - loss: 0.38 - ETA: 13s - loss: 0.38 - ETA: 13s - loss: 0.38 - ETA: 13s - loss: 0.38 - ETA: 13s - loss: 0.38 - ETA: 13s - loss: 0.38 - ETA: 13s - loss: 0.38 - ETA: 13s - loss: 0.38 - ETA: 13s - loss: 0.38 - ETA: 13s - loss: 0.38 - ETA: 13s - loss: 0.38 - ETA: 12s - loss: 0.38 - ETA: 12s - loss: 0.38 - ETA: 12s - loss: 0.38 - ETA: 12s - loss: 0.38 - ETA: 12s - loss: 0.38 - ETA: 12s - loss: 0.38 - ETA: 12s - loss: 0.37 - ETA: 12s - loss: 0.37 - ETA: 12s - loss: 0.38 - ETA: 12s - loss: 0.38 - ETA: 12s - loss: 0.38 - ETA: 12s - loss: 0.38 - ETA: 12s - loss: 0.38 - ETA: 12s - loss: 0.37 - ETA: 11s - loss: 0.38 - ETA: 11s - loss: 0.37 - ETA: 11s - loss: 0.38 - ETA: 11s - loss: 0.38 - ETA: 11s - loss: 0.38 - ETA: 11s - loss: 0.38 - ETA: 11s - loss: 0.38 - ETA: 11s - loss: 0.38 - ETA: 11s - loss: 0.38 - ETA: 11s - loss: 0.38 - ETA: 11s - loss: 0.38 - ETA: 11s - loss: 0.38 - ETA: 11s - loss: 0.38 - ETA: 11s - loss: 0.38 - ETA: 10s - loss: 0.38 - ETA: 10s - loss: 0.38 - ETA: 10s - loss: 0.38 - ETA: 10s - loss: 0.38 - ETA: 10s - loss: 0.38 - ETA: 10s - loss: 0.38 - ETA: 10s - loss: 0.38 - ETA: 10s - loss: 0.38 - ETA: 10s - loss: 0.38 - ETA: 10s - loss: 0.38 - ETA: 10s - loss: 0.38 - ETA: 10s - loss: 0.38 - ETA: 10s - loss: 0.38 - ETA: 10s - loss: 0.38 - ETA: 10s - loss: 0.38 - ETA: 9s - loss: 0.3844 - ETA: 9s - loss: 0.384 - ETA: 9s - loss: 0.384 - ETA: 9s - loss: 0.384 - ETA: 9s - loss: 0.384 - ETA: 9s - loss: 0.384 - ETA: 9s - loss: 0.384 - ETA: 9s - loss: 0.384 - ETA: 9s - loss: 0.384 - ETA: 9s - loss: 0.384 - ETA: 9s - loss: 0.384 - ETA: 9s - loss: 0.384 - ETA: 9s - loss: 0.384 - ETA: 9s - loss: 0.384 - ETA: 9s - loss: 0.384 - ETA: 8s - loss: 0.384 - ETA: 8s - loss: 0.384 - ETA: 8s - loss: 0.384 - ETA: 8s - loss: 0.384 - ETA: 8s - loss: 0.383 - ETA: 8s - loss: 0.383 - ETA: 8s - loss: 0.383 - ETA: 8s - loss: 0.383 - ETA: 8s - loss: 0.383 - ETA: 8s - loss: 0.384 - ETA: 8s - loss: 0.383 - ETA: 8s - loss: 0.383 - ETA: 8s - loss: 0.383 - ETA: 8s - loss: 0.384 - ETA: 8s - loss: 0.384 - ETA: 8s - loss: 0.384 - ETA: 8s - loss: 0.384 - ETA: 8s - loss: 0.384 - ETA: 7s - loss: 0.384 - ETA: 7s - loss: 0.384 - ETA: 7s - loss: 0.384 - ETA: 7s - loss: 0.384 - ETA: 7s - loss: 0.384 - ETA: 7s - loss: 0.384 - ETA: 7s - loss: 0.384 - ETA: 7s - loss: 0.384 - ETA: 7s - loss: 0.384 - ETA: 7s - loss: 0.384 - ETA: 7s - loss: 0.384 - ETA: 7s - loss: 0.384 - ETA: 7s - loss: 0.385 - ETA: 7s - loss: 0.385 - ETA: 7s - loss: 0.385 - ETA: 6s - loss: 0.385 - ETA: 6s - loss: 0.385 - ETA: 6s - loss: 0.385 - ETA: 6s - loss: 0.385 - ETA: 6s - loss: 0.385 - ETA: 6s - loss: 0.385 - ETA: 6s - loss: 0.385 - ETA: 6s - loss: 0.385 - ETA: 6s - loss: 0.385 - ETA: 6s - loss: 0.385 - ETA: 6s - loss: 0.385 - ETA: 6s - loss: 0.386 - ETA: 6s - loss: 0.386 - ETA: 6s - loss: 0.386 - ETA: 6s - loss: 0.386 - ETA: 6s - loss: 0.386 - ETA: 6s - loss: 0.386 - ETA: 6s - loss: 0.386 - ETA: 6s - loss: 0.385 - ETA: 6s - loss: 0.385 - ETA: 5s - loss: 0.385 - ETA: 5s - loss: 0.385 - ETA: 5s - loss: 0.385 - ETA: 5s - loss: 0.385 - ETA: 5s - loss: 0.385 - ETA: 5s - loss: 0.385 - ETA: 5s - loss: 0.385 - ETA: 5s - loss: 0.385 - ETA: 5s - loss: 0.385 - ETA: 5s - loss: 0.385 - ETA: 5s - loss: 0.385 - ETA: 5s - loss: 0.385 - ETA: 5s - loss: 0.385 - ETA: 5s - loss: 0.385 - ETA: 5s - loss: 0.385 - ETA: 5s - loss: 0.385 - ETA: 5s - loss: 0.385 - ETA: 5s - loss: 0.386 - ETA: 5s - loss: 0.386 - ETA: 5s - loss: 0.386 - ETA: 5s - loss: 0.386 - ETA: 4s - loss: 0.386 - ETA: 4s - loss: 0.385 - ETA: 4s - loss: 0.385 - ETA: 4s - loss: 0.385 - ETA: 4s - loss: 0.385 - ETA: 4s - loss: 0.385 - ETA: 4s - loss: 0.385 - ETA: 4s - loss: 0.385 - ETA: 4s - loss: 0.385 - ETA: 4s - loss: 0.385 - ETA: 4s - loss: 0.385 - ETA: 4s - loss: 0.385 - ETA: 4s - loss: 0.385 - ETA: 4s - loss: 0.385 - ETA: 4s - loss: 0.385 - ETA: 4s - loss: 0.385 - ETA: 4s - loss: 0.386 - ETA: 4s - loss: 0.386 - ETA: 4s - loss: 0.386 - ETA: 4s - loss: 0.386 - ETA: 4s - loss: 0.386 - ETA: 3s - loss: 0.386 - ETA: 3s - loss: 0.386 - ETA: 3s - loss: 0.386 - ETA: 3s - loss: 0.386 - ETA: 3s - loss: 0.386 - ETA: 3s - loss: 0.386 - ETA: 3s - loss: 0.386 - ETA: 3s - loss: 0.386 - ETA: 3s - loss: 0.386 - ETA: 3s - loss: 0.386 - ETA: 3s - loss: 0.386 - ETA: 3s - loss: 0.386 - ETA: 3s - loss: 0.386 - ETA: 3s - loss: 0.386 - ETA: 3s - loss: 0.386 - ETA: 3s - loss: 0.387 - ETA: 3s - loss: 0.386 - ETA: 3s - loss: 0.386 - ETA: 2s - loss: 0.387 - ETA: 2s - loss: 0.386 - ETA: 2s - loss: 0.386 - ETA: 2s - loss: 0.386 - ETA: 2s - loss: 0.387 - ETA: 2s - loss: 0.387 - ETA: 2s - loss: 0.387 - ETA: 2s - loss: 0.387 - ETA: 2s - loss: 0.387 - ETA: 2s - loss: 0.387 - ETA: 2s - loss: 0.387 - ETA: 2s - loss: 0.387 - ETA: 2s - loss: 0.387 - ETA: 2s - loss: 0.387 - ETA: 2s - loss: 0.387 - ETA: 2s - loss: 0.387 - ETA: 2s - loss: 0.387 - ETA: 2s - loss: 0.387 - ETA: 2s - loss: 0.388 - ETA: 2s - loss: 0.388 - ETA: 1s - loss: 0.388 - ETA: 1s - loss: 0.388 - ETA: 1s - loss: 0.388 - ETA: 1s - loss: 0.388 - ETA: 1s - loss: 0.388 - ETA: 1s - loss: 0.388 - ETA: 1s - loss: 0.388 - ETA: 1s - loss: 0.388 - ETA: 1s - loss: 0.388 - ETA: 1s - loss: 0.388 - ETA: 1s - loss: 0.388 - ETA: 1s - loss: 0.388 - ETA: 1s - loss: 0.388 - ETA: 1s - loss: 0.388 - ETA: 1s - loss: 0.388 - ETA: 1s - loss: 0.388 - ETA: 0s - loss: 0.388 - ETA: 0s - loss: 0.388 - ETA: 0s - loss: 0.388 - ETA: 0s - loss: 0.388 - ETA: 0s - loss: 0.388 - ETA: 0s - loss: 0.388 - ETA: 0s - loss: 0.387 - ETA: 0s - loss: 0.387 - ETA: 0s - loss: 0.387 - ETA: 0s - loss: 0.388 - ETA: 0s - loss: 0.388 - ETA: 0s - loss: 0.388 - ETA: 0s - loss: 0.387 - ETA: 0s - loss: 0.387 - ETA: 0s - loss: 0.388 - ETA: 0s - loss: 0.3880"
     ]
    },
    {
     "name": "stdout",
     "output_type": "stream",
     "text": [
      "55381/55381 [==============================] - ETA: 0s - loss: 0.388 - ETA: 0s - loss: 0.388 - ETA: 0s - loss: 0.388 - ETA: 0s - loss: 0.388 - ETA: 0s - loss: 0.388 - 21s 387us/step - loss: 0.3884 - val_loss: 0.3828\n",
      "Epoch 33/50\n",
      "48896/55381 [=========================>....] - ETA: 24s - loss: 0.42 - ETA: 20s - loss: 0.34 - ETA: 19s - loss: 0.36 - ETA: 20s - loss: 0.36 - ETA: 21s - loss: 0.37 - ETA: 20s - loss: 0.37 - ETA: 19s - loss: 0.38 - ETA: 20s - loss: 0.37 - ETA: 19s - loss: 0.38 - ETA: 19s - loss: 0.39 - ETA: 19s - loss: 0.38 - ETA: 19s - loss: 0.38 - ETA: 19s - loss: 0.37 - ETA: 20s - loss: 0.38 - ETA: 20s - loss: 0.38 - ETA: 21s - loss: 0.38 - ETA: 22s - loss: 0.38 - ETA: 22s - loss: 0.38 - ETA: 23s - loss: 0.38 - ETA: 23s - loss: 0.39 - ETA: 24s - loss: 0.39 - ETA: 24s - loss: 0.39 - ETA: 24s - loss: 0.38 - ETA: 25s - loss: 0.38 - ETA: 25s - loss: 0.38 - ETA: 24s - loss: 0.38 - ETA: 25s - loss: 0.38 - ETA: 25s - loss: 0.38 - ETA: 25s - loss: 0.38 - ETA: 25s - loss: 0.38 - ETA: 26s - loss: 0.38 - ETA: 25s - loss: 0.38 - ETA: 25s - loss: 0.38 - ETA: 25s - loss: 0.38 - ETA: 24s - loss: 0.38 - ETA: 24s - loss: 0.38 - ETA: 24s - loss: 0.38 - ETA: 24s - loss: 0.38 - ETA: 23s - loss: 0.38 - ETA: 23s - loss: 0.38 - ETA: 23s - loss: 0.38 - ETA: 23s - loss: 0.38 - ETA: 23s - loss: 0.38 - ETA: 23s - loss: 0.38 - ETA: 23s - loss: 0.38 - ETA: 23s - loss: 0.38 - ETA: 23s - loss: 0.38 - ETA: 23s - loss: 0.38 - ETA: 22s - loss: 0.38 - ETA: 22s - loss: 0.38 - ETA: 22s - loss: 0.38 - ETA: 22s - loss: 0.38 - ETA: 22s - loss: 0.38 - ETA: 22s - loss: 0.38 - ETA: 21s - loss: 0.38 - ETA: 21s - loss: 0.38 - ETA: 21s - loss: 0.38 - ETA: 21s - loss: 0.38 - ETA: 21s - loss: 0.38 - ETA: 21s - loss: 0.38 - ETA: 21s - loss: 0.38 - ETA: 21s - loss: 0.38 - ETA: 21s - loss: 0.38 - ETA: 21s - loss: 0.38 - ETA: 21s - loss: 0.37 - ETA: 21s - loss: 0.37 - ETA: 21s - loss: 0.37 - ETA: 21s - loss: 0.37 - ETA: 21s - loss: 0.37 - ETA: 21s - loss: 0.37 - ETA: 21s - loss: 0.38 - ETA: 21s - loss: 0.37 - ETA: 21s - loss: 0.37 - ETA: 21s - loss: 0.37 - ETA: 21s - loss: 0.37 - ETA: 21s - loss: 0.37 - ETA: 21s - loss: 0.37 - ETA: 21s - loss: 0.38 - ETA: 21s - loss: 0.37 - ETA: 21s - loss: 0.37 - ETA: 21s - loss: 0.37 - ETA: 21s - loss: 0.37 - ETA: 21s - loss: 0.37 - ETA: 20s - loss: 0.37 - ETA: 21s - loss: 0.37 - ETA: 20s - loss: 0.37 - ETA: 20s - loss: 0.37 - ETA: 20s - loss: 0.37 - ETA: 20s - loss: 0.37 - ETA: 20s - loss: 0.37 - ETA: 20s - loss: 0.37 - ETA: 20s - loss: 0.37 - ETA: 20s - loss: 0.37 - ETA: 20s - loss: 0.37 - ETA: 20s - loss: 0.37 - ETA: 19s - loss: 0.37 - ETA: 20s - loss: 0.37 - ETA: 19s - loss: 0.37 - ETA: 19s - loss: 0.37 - ETA: 19s - loss: 0.37 - ETA: 19s - loss: 0.38 - ETA: 19s - loss: 0.37 - ETA: 19s - loss: 0.37 - ETA: 19s - loss: 0.37 - ETA: 19s - loss: 0.38 - ETA: 19s - loss: 0.38 - ETA: 19s - loss: 0.38 - ETA: 19s - loss: 0.38 - ETA: 19s - loss: 0.38 - ETA: 19s - loss: 0.38 - ETA: 18s - loss: 0.38 - ETA: 18s - loss: 0.38 - ETA: 18s - loss: 0.38 - ETA: 18s - loss: 0.38 - ETA: 18s - loss: 0.38 - ETA: 18s - loss: 0.38 - ETA: 18s - loss: 0.38 - ETA: 18s - loss: 0.38 - ETA: 18s - loss: 0.38 - ETA: 18s - loss: 0.38 - ETA: 18s - loss: 0.38 - ETA: 18s - loss: 0.38 - ETA: 18s - loss: 0.38 - ETA: 17s - loss: 0.38 - ETA: 18s - loss: 0.38 - ETA: 18s - loss: 0.38 - ETA: 17s - loss: 0.38 - ETA: 17s - loss: 0.38 - ETA: 17s - loss: 0.38 - ETA: 17s - loss: 0.38 - ETA: 17s - loss: 0.38 - ETA: 17s - loss: 0.38 - ETA: 17s - loss: 0.38 - ETA: 17s - loss: 0.38 - ETA: 17s - loss: 0.38 - ETA: 17s - loss: 0.38 - ETA: 17s - loss: 0.38 - ETA: 17s - loss: 0.38 - ETA: 17s - loss: 0.38 - ETA: 16s - loss: 0.38 - ETA: 16s - loss: 0.38 - ETA: 16s - loss: 0.38 - ETA: 16s - loss: 0.38 - ETA: 16s - loss: 0.38 - ETA: 16s - loss: 0.38 - ETA: 16s - loss: 0.38 - ETA: 16s - loss: 0.38 - ETA: 16s - loss: 0.38 - ETA: 16s - loss: 0.38 - ETA: 16s - loss: 0.38 - ETA: 16s - loss: 0.38 - ETA: 16s - loss: 0.38 - ETA: 16s - loss: 0.38 - ETA: 16s - loss: 0.38 - ETA: 16s - loss: 0.38 - ETA: 15s - loss: 0.38 - ETA: 15s - loss: 0.38 - ETA: 15s - loss: 0.38 - ETA: 15s - loss: 0.38 - ETA: 15s - loss: 0.38 - ETA: 15s - loss: 0.38 - ETA: 15s - loss: 0.38 - ETA: 15s - loss: 0.38 - ETA: 15s - loss: 0.38 - ETA: 15s - loss: 0.38 - ETA: 15s - loss: 0.38 - ETA: 15s - loss: 0.38 - ETA: 15s - loss: 0.38 - ETA: 15s - loss: 0.38 - ETA: 15s - loss: 0.38 - ETA: 14s - loss: 0.38 - ETA: 14s - loss: 0.38 - ETA: 14s - loss: 0.38 - ETA: 14s - loss: 0.38 - ETA: 14s - loss: 0.38 - ETA: 14s - loss: 0.38 - ETA: 14s - loss: 0.38 - ETA: 14s - loss: 0.38 - ETA: 14s - loss: 0.38 - ETA: 14s - loss: 0.38 - ETA: 14s - loss: 0.38 - ETA: 14s - loss: 0.38 - ETA: 14s - loss: 0.38 - ETA: 14s - loss: 0.38 - ETA: 13s - loss: 0.38 - ETA: 13s - loss: 0.38 - ETA: 13s - loss: 0.38 - ETA: 13s - loss: 0.38 - ETA: 13s - loss: 0.38 - ETA: 13s - loss: 0.38 - ETA: 13s - loss: 0.38 - ETA: 13s - loss: 0.38 - ETA: 13s - loss: 0.38 - ETA: 13s - loss: 0.38 - ETA: 12s - loss: 0.38 - ETA: 12s - loss: 0.38 - ETA: 12s - loss: 0.38 - ETA: 12s - loss: 0.38 - ETA: 12s - loss: 0.38 - ETA: 12s - loss: 0.38 - ETA: 12s - loss: 0.38 - ETA: 12s - loss: 0.38 - ETA: 12s - loss: 0.38 - ETA: 12s - loss: 0.38 - ETA: 12s - loss: 0.38 - ETA: 12s - loss: 0.38 - ETA: 12s - loss: 0.38 - ETA: 11s - loss: 0.38 - ETA: 11s - loss: 0.38 - ETA: 11s - loss: 0.38 - ETA: 11s - loss: 0.38 - ETA: 11s - loss: 0.38 - ETA: 11s - loss: 0.38 - ETA: 11s - loss: 0.38 - ETA: 11s - loss: 0.38 - ETA: 11s - loss: 0.38 - ETA: 11s - loss: 0.38 - ETA: 11s - loss: 0.38 - ETA: 11s - loss: 0.38 - ETA: 10s - loss: 0.38 - ETA: 10s - loss: 0.38 - ETA: 10s - loss: 0.38 - ETA: 10s - loss: 0.38 - ETA: 10s - loss: 0.38 - ETA: 10s - loss: 0.38 - ETA: 10s - loss: 0.38 - ETA: 10s - loss: 0.38 - ETA: 10s - loss: 0.38 - ETA: 10s - loss: 0.38 - ETA: 10s - loss: 0.38 - ETA: 9s - loss: 0.3876 - ETA: 9s - loss: 0.387 - ETA: 9s - loss: 0.388 - ETA: 9s - loss: 0.388 - ETA: 9s - loss: 0.387 - ETA: 9s - loss: 0.388 - ETA: 9s - loss: 0.388 - ETA: 9s - loss: 0.388 - ETA: 9s - loss: 0.388 - ETA: 9s - loss: 0.388 - ETA: 9s - loss: 0.388 - ETA: 9s - loss: 0.388 - ETA: 9s - loss: 0.387 - ETA: 9s - loss: 0.387 - ETA: 9s - loss: 0.387 - ETA: 9s - loss: 0.388 - ETA: 8s - loss: 0.387 - ETA: 8s - loss: 0.388 - ETA: 8s - loss: 0.388 - ETA: 8s - loss: 0.388 - ETA: 8s - loss: 0.388 - ETA: 8s - loss: 0.388 - ETA: 8s - loss: 0.389 - ETA: 8s - loss: 0.389 - ETA: 8s - loss: 0.389 - ETA: 8s - loss: 0.388 - ETA: 8s - loss: 0.388 - ETA: 8s - loss: 0.389 - ETA: 8s - loss: 0.389 - ETA: 8s - loss: 0.388 - ETA: 8s - loss: 0.388 - ETA: 7s - loss: 0.388 - ETA: 7s - loss: 0.388 - ETA: 7s - loss: 0.388 - ETA: 7s - loss: 0.388 - ETA: 7s - loss: 0.388 - ETA: 7s - loss: 0.388 - ETA: 7s - loss: 0.388 - ETA: 7s - loss: 0.388 - ETA: 7s - loss: 0.389 - ETA: 7s - loss: 0.389 - ETA: 7s - loss: 0.389 - ETA: 7s - loss: 0.388 - ETA: 7s - loss: 0.389 - ETA: 6s - loss: 0.389 - ETA: 6s - loss: 0.389 - ETA: 6s - loss: 0.389 - ETA: 6s - loss: 0.389 - ETA: 6s - loss: 0.389 - ETA: 6s - loss: 0.389 - ETA: 6s - loss: 0.388 - ETA: 6s - loss: 0.388 - ETA: 6s - loss: 0.388 - ETA: 6s - loss: 0.388 - ETA: 6s - loss: 0.388 - ETA: 6s - loss: 0.388 - ETA: 6s - loss: 0.388 - ETA: 6s - loss: 0.388 - ETA: 6s - loss: 0.388 - ETA: 6s - loss: 0.388 - ETA: 5s - loss: 0.389 - ETA: 5s - loss: 0.389 - ETA: 5s - loss: 0.389 - ETA: 5s - loss: 0.389 - ETA: 5s - loss: 0.389 - ETA: 5s - loss: 0.389 - ETA: 5s - loss: 0.389 - ETA: 5s - loss: 0.389 - ETA: 5s - loss: 0.389 - ETA: 5s - loss: 0.389 - ETA: 5s - loss: 0.389 - ETA: 5s - loss: 0.389 - ETA: 5s - loss: 0.389 - ETA: 5s - loss: 0.389 - ETA: 5s - loss: 0.389 - ETA: 4s - loss: 0.389 - ETA: 4s - loss: 0.389 - ETA: 4s - loss: 0.389 - ETA: 4s - loss: 0.389 - ETA: 4s - loss: 0.389 - ETA: 4s - loss: 0.389 - ETA: 4s - loss: 0.389 - ETA: 4s - loss: 0.389 - ETA: 4s - loss: 0.389 - ETA: 4s - loss: 0.390 - ETA: 4s - loss: 0.389 - ETA: 4s - loss: 0.389 - ETA: 4s - loss: 0.389 - ETA: 4s - loss: 0.389 - ETA: 4s - loss: 0.389 - ETA: 4s - loss: 0.389 - ETA: 3s - loss: 0.389 - ETA: 3s - loss: 0.389 - ETA: 3s - loss: 0.389 - ETA: 3s - loss: 0.389 - ETA: 3s - loss: 0.389 - ETA: 3s - loss: 0.389 - ETA: 3s - loss: 0.389 - ETA: 3s - loss: 0.389 - ETA: 3s - loss: 0.389 - ETA: 3s - loss: 0.389 - ETA: 3s - loss: 0.389 - ETA: 3s - loss: 0.389 - ETA: 3s - loss: 0.389 - ETA: 3s - loss: 0.388 - ETA: 3s - loss: 0.388 - ETA: 2s - loss: 0.388 - ETA: 2s - loss: 0.388 - ETA: 2s - loss: 0.388 - ETA: 2s - loss: 0.388755381/55381 [==============================] - ETA: 2s - loss: 0.388 - ETA: 2s - loss: 0.388 - ETA: 2s - loss: 0.388 - ETA: 2s - loss: 0.388 - ETA: 2s - loss: 0.388 - ETA: 2s - loss: 0.388 - ETA: 2s - loss: 0.388 - ETA: 2s - loss: 0.388 - ETA: 2s - loss: 0.388 - ETA: 2s - loss: 0.388 - ETA: 2s - loss: 0.388 - ETA: 1s - loss: 0.387 - ETA: 1s - loss: 0.387 - ETA: 1s - loss: 0.388 - ETA: 1s - loss: 0.388 - ETA: 1s - loss: 0.388 - ETA: 1s - loss: 0.388 - ETA: 1s - loss: 0.388 - ETA: 1s - loss: 0.388 - ETA: 1s - loss: 0.388 - ETA: 1s - loss: 0.388 - ETA: 1s - loss: 0.388 - ETA: 1s - loss: 0.388 - ETA: 1s - loss: 0.388 - ETA: 1s - loss: 0.388 - ETA: 1s - loss: 0.388 - ETA: 1s - loss: 0.388 - ETA: 0s - loss: 0.388 - ETA: 0s - loss: 0.388 - ETA: 0s - loss: 0.387 - ETA: 0s - loss: 0.387 - ETA: 0s - loss: 0.387 - ETA: 0s - loss: 0.387 - ETA: 0s - loss: 0.387 - ETA: 0s - loss: 0.387 - ETA: 0s - loss: 0.387 - ETA: 0s - loss: 0.388 - ETA: 0s - loss: 0.387 - ETA: 0s - loss: 0.387 - ETA: 0s - loss: 0.388 - ETA: 0s - loss: 0.388 - ETA: 0s - loss: 0.388 - 24s 431us/step - loss: 0.3880 - val_loss: 0.3857\n",
      "Epoch 34/50\n"
     ]
    },
    {
     "name": "stdout",
     "output_type": "stream",
     "text": [
      "50624/55381 [==========================>...] - ETA: 13s - loss: 0.33 - ETA: 17s - loss: 0.32 - ETA: 20s - loss: 0.34 - ETA: 18s - loss: 0.38 - ETA: 19s - loss: 0.38 - ETA: 20s - loss: 0.38 - ETA: 22s - loss: 0.38 - ETA: 23s - loss: 0.39 - ETA: 22s - loss: 0.38 - ETA: 24s - loss: 0.38 - ETA: 22s - loss: 0.38 - ETA: 22s - loss: 0.38 - ETA: 21s - loss: 0.38 - ETA: 20s - loss: 0.38 - ETA: 20s - loss: 0.38 - ETA: 19s - loss: 0.37 - ETA: 20s - loss: 0.37 - ETA: 19s - loss: 0.38 - ETA: 20s - loss: 0.37 - ETA: 19s - loss: 0.38 - ETA: 19s - loss: 0.38 - ETA: 19s - loss: 0.37 - ETA: 19s - loss: 0.37 - ETA: 19s - loss: 0.37 - ETA: 20s - loss: 0.37 - ETA: 20s - loss: 0.37 - ETA: 20s - loss: 0.37 - ETA: 20s - loss: 0.37 - ETA: 21s - loss: 0.37 - ETA: 21s - loss: 0.37 - ETA: 21s - loss: 0.37 - ETA: 21s - loss: 0.37 - ETA: 20s - loss: 0.37 - ETA: 21s - loss: 0.37 - ETA: 21s - loss: 0.37 - ETA: 21s - loss: 0.38 - ETA: 20s - loss: 0.38 - ETA: 20s - loss: 0.38 - ETA: 20s - loss: 0.38 - ETA: 20s - loss: 0.38 - ETA: 19s - loss: 0.38 - ETA: 20s - loss: 0.38 - ETA: 20s - loss: 0.38 - ETA: 20s - loss: 0.38 - ETA: 20s - loss: 0.38 - ETA: 20s - loss: 0.38 - ETA: 20s - loss: 0.38 - ETA: 20s - loss: 0.38 - ETA: 20s - loss: 0.38 - ETA: 20s - loss: 0.38 - ETA: 20s - loss: 0.38 - ETA: 20s - loss: 0.38 - ETA: 20s - loss: 0.38 - ETA: 20s - loss: 0.38 - ETA: 20s - loss: 0.38 - ETA: 20s - loss: 0.38 - ETA: 20s - loss: 0.38 - ETA: 20s - loss: 0.38 - ETA: 20s - loss: 0.38 - ETA: 20s - loss: 0.38 - ETA: 20s - loss: 0.38 - ETA: 20s - loss: 0.38 - ETA: 20s - loss: 0.38 - ETA: 20s - loss: 0.38 - ETA: 19s - loss: 0.38 - ETA: 19s - loss: 0.38 - ETA: 19s - loss: 0.38 - ETA: 19s - loss: 0.38 - ETA: 19s - loss: 0.38 - ETA: 19s - loss: 0.38 - ETA: 19s - loss: 0.38 - ETA: 19s - loss: 0.38 - ETA: 19s - loss: 0.38 - ETA: 20s - loss: 0.38 - ETA: 20s - loss: 0.38 - ETA: 19s - loss: 0.38 - ETA: 19s - loss: 0.38 - ETA: 19s - loss: 0.38 - ETA: 19s - loss: 0.38 - ETA: 19s - loss: 0.38 - ETA: 19s - loss: 0.38 - ETA: 19s - loss: 0.38 - ETA: 19s - loss: 0.38 - ETA: 19s - loss: 0.38 - ETA: 19s - loss: 0.38 - ETA: 19s - loss: 0.38 - ETA: 19s - loss: 0.38 - ETA: 18s - loss: 0.38 - ETA: 18s - loss: 0.38 - ETA: 18s - loss: 0.38 - ETA: 19s - loss: 0.38 - ETA: 18s - loss: 0.38 - ETA: 18s - loss: 0.38 - ETA: 18s - loss: 0.38 - ETA: 18s - loss: 0.38 - ETA: 18s - loss: 0.38 - ETA: 18s - loss: 0.38 - ETA: 18s - loss: 0.38 - ETA: 18s - loss: 0.38 - ETA: 18s - loss: 0.38 - ETA: 18s - loss: 0.38 - ETA: 18s - loss: 0.38 - ETA: 17s - loss: 0.38 - ETA: 17s - loss: 0.38 - ETA: 17s - loss: 0.38 - ETA: 17s - loss: 0.38 - ETA: 17s - loss: 0.38 - ETA: 17s - loss: 0.38 - ETA: 17s - loss: 0.38 - ETA: 17s - loss: 0.38 - ETA: 17s - loss: 0.38 - ETA: 17s - loss: 0.38 - ETA: 17s - loss: 0.38 - ETA: 17s - loss: 0.38 - ETA: 17s - loss: 0.38 - ETA: 17s - loss: 0.38 - ETA: 17s - loss: 0.38 - ETA: 17s - loss: 0.38 - ETA: 16s - loss: 0.38 - ETA: 16s - loss: 0.38 - ETA: 16s - loss: 0.38 - ETA: 16s - loss: 0.38 - ETA: 16s - loss: 0.38 - ETA: 16s - loss: 0.38 - ETA: 16s - loss: 0.38 - ETA: 16s - loss: 0.38 - ETA: 16s - loss: 0.38 - ETA: 16s - loss: 0.38 - ETA: 16s - loss: 0.38 - ETA: 16s - loss: 0.38 - ETA: 16s - loss: 0.38 - ETA: 15s - loss: 0.38 - ETA: 15s - loss: 0.38 - ETA: 15s - loss: 0.38 - ETA: 15s - loss: 0.38 - ETA: 15s - loss: 0.38 - ETA: 15s - loss: 0.38 - ETA: 15s - loss: 0.38 - ETA: 15s - loss: 0.38 - ETA: 15s - loss: 0.38 - ETA: 15s - loss: 0.38 - ETA: 15s - loss: 0.38 - ETA: 15s - loss: 0.38 - ETA: 15s - loss: 0.38 - ETA: 15s - loss: 0.38 - ETA: 14s - loss: 0.38 - ETA: 14s - loss: 0.38 - ETA: 14s - loss: 0.38 - ETA: 14s - loss: 0.38 - ETA: 14s - loss: 0.38 - ETA: 14s - loss: 0.38 - ETA: 14s - loss: 0.38 - ETA: 14s - loss: 0.38 - ETA: 14s - loss: 0.38 - ETA: 14s - loss: 0.38 - ETA: 14s - loss: 0.38 - ETA: 14s - loss: 0.38 - ETA: 14s - loss: 0.38 - ETA: 14s - loss: 0.38 - ETA: 14s - loss: 0.38 - ETA: 13s - loss: 0.38 - ETA: 13s - loss: 0.38 - ETA: 13s - loss: 0.38 - ETA: 13s - loss: 0.38 - ETA: 13s - loss: 0.38 - ETA: 13s - loss: 0.38 - ETA: 13s - loss: 0.38 - ETA: 13s - loss: 0.38 - ETA: 13s - loss: 0.38 - ETA: 13s - loss: 0.38 - ETA: 13s - loss: 0.38 - ETA: 13s - loss: 0.38 - ETA: 13s - loss: 0.38 - ETA: 13s - loss: 0.38 - ETA: 13s - loss: 0.38 - ETA: 13s - loss: 0.38 - ETA: 13s - loss: 0.38 - ETA: 13s - loss: 0.38 - ETA: 13s - loss: 0.38 - ETA: 12s - loss: 0.38 - ETA: 12s - loss: 0.38 - ETA: 12s - loss: 0.38 - ETA: 12s - loss: 0.38 - ETA: 12s - loss: 0.38 - ETA: 12s - loss: 0.38 - ETA: 12s - loss: 0.38 - ETA: 12s - loss: 0.38 - ETA: 12s - loss: 0.38 - ETA: 12s - loss: 0.38 - ETA: 12s - loss: 0.38 - ETA: 12s - loss: 0.38 - ETA: 12s - loss: 0.38 - ETA: 12s - loss: 0.38 - ETA: 12s - loss: 0.38 - ETA: 12s - loss: 0.38 - ETA: 12s - loss: 0.38 - ETA: 11s - loss: 0.38 - ETA: 11s - loss: 0.38 - ETA: 11s - loss: 0.38 - ETA: 11s - loss: 0.38 - ETA: 11s - loss: 0.38 - ETA: 11s - loss: 0.38 - ETA: 11s - loss: 0.38 - ETA: 11s - loss: 0.38 - ETA: 11s - loss: 0.38 - ETA: 11s - loss: 0.38 - ETA: 11s - loss: 0.38 - ETA: 11s - loss: 0.38 - ETA: 11s - loss: 0.38 - ETA: 11s - loss: 0.38 - ETA: 10s - loss: 0.38 - ETA: 10s - loss: 0.38 - ETA: 10s - loss: 0.38 - ETA: 10s - loss: 0.38 - ETA: 10s - loss: 0.38 - ETA: 10s - loss: 0.38 - ETA: 10s - loss: 0.38 - ETA: 10s - loss: 0.38 - ETA: 10s - loss: 0.38 - ETA: 10s - loss: 0.38 - ETA: 10s - loss: 0.38 - ETA: 10s - loss: 0.38 - ETA: 10s - loss: 0.38 - ETA: 9s - loss: 0.3887 - ETA: 9s - loss: 0.388 - ETA: 9s - loss: 0.388 - ETA: 9s - loss: 0.388 - ETA: 9s - loss: 0.389 - ETA: 9s - loss: 0.388 - ETA: 9s - loss: 0.389 - ETA: 9s - loss: 0.388 - ETA: 9s - loss: 0.389 - ETA: 9s - loss: 0.389 - ETA: 9s - loss: 0.389 - ETA: 9s - loss: 0.389 - ETA: 9s - loss: 0.389 - ETA: 8s - loss: 0.389 - ETA: 8s - loss: 0.389 - ETA: 8s - loss: 0.389 - ETA: 8s - loss: 0.389 - ETA: 8s - loss: 0.389 - ETA: 8s - loss: 0.390 - ETA: 8s - loss: 0.390 - ETA: 8s - loss: 0.390 - ETA: 8s - loss: 0.390 - ETA: 8s - loss: 0.389 - ETA: 8s - loss: 0.389 - ETA: 8s - loss: 0.389 - ETA: 8s - loss: 0.390 - ETA: 8s - loss: 0.389 - ETA: 7s - loss: 0.389 - ETA: 7s - loss: 0.389 - ETA: 7s - loss: 0.389 - ETA: 7s - loss: 0.389 - ETA: 7s - loss: 0.389 - ETA: 7s - loss: 0.389 - ETA: 7s - loss: 0.389 - ETA: 7s - loss: 0.389 - ETA: 7s - loss: 0.388 - ETA: 7s - loss: 0.388 - ETA: 7s - loss: 0.388 - ETA: 7s - loss: 0.388 - ETA: 7s - loss: 0.388 - ETA: 7s - loss: 0.388 - ETA: 7s - loss: 0.388 - ETA: 6s - loss: 0.388 - ETA: 6s - loss: 0.388 - ETA: 6s - loss: 0.388 - ETA: 6s - loss: 0.388 - ETA: 6s - loss: 0.388 - ETA: 6s - loss: 0.388 - ETA: 6s - loss: 0.388 - ETA: 6s - loss: 0.388 - ETA: 6s - loss: 0.388 - ETA: 6s - loss: 0.388 - ETA: 6s - loss: 0.387 - ETA: 6s - loss: 0.387 - ETA: 6s - loss: 0.387 - ETA: 6s - loss: 0.387 - ETA: 5s - loss: 0.387 - ETA: 5s - loss: 0.387 - ETA: 5s - loss: 0.386 - ETA: 5s - loss: 0.387 - ETA: 5s - loss: 0.386 - ETA: 5s - loss: 0.386 - ETA: 5s - loss: 0.386 - ETA: 5s - loss: 0.386 - ETA: 5s - loss: 0.386 - ETA: 5s - loss: 0.386 - ETA: 5s - loss: 0.386 - ETA: 5s - loss: 0.386 - ETA: 5s - loss: 0.386 - ETA: 5s - loss: 0.386 - ETA: 5s - loss: 0.386 - ETA: 4s - loss: 0.386 - ETA: 4s - loss: 0.386 - ETA: 4s - loss: 0.386 - ETA: 4s - loss: 0.386 - ETA: 4s - loss: 0.386 - ETA: 4s - loss: 0.387 - ETA: 4s - loss: 0.387 - ETA: 4s - loss: 0.387 - ETA: 4s - loss: 0.386 - ETA: 4s - loss: 0.386 - ETA: 4s - loss: 0.386 - ETA: 4s - loss: 0.386 - ETA: 4s - loss: 0.386 - ETA: 4s - loss: 0.386 - ETA: 4s - loss: 0.386 - ETA: 3s - loss: 0.386 - ETA: 3s - loss: 0.386 - ETA: 3s - loss: 0.386 - ETA: 3s - loss: 0.386 - ETA: 3s - loss: 0.386 - ETA: 3s - loss: 0.386 - ETA: 3s - loss: 0.386 - ETA: 3s - loss: 0.385 - ETA: 3s - loss: 0.385 - ETA: 3s - loss: 0.385 - ETA: 3s - loss: 0.385 - ETA: 3s - loss: 0.385 - ETA: 3s - loss: 0.385 - ETA: 3s - loss: 0.386 - ETA: 3s - loss: 0.386 - ETA: 2s - loss: 0.386 - ETA: 2s - loss: 0.386 - ETA: 2s - loss: 0.386 - ETA: 2s - loss: 0.386 - ETA: 2s - loss: 0.386 - ETA: 2s - loss: 0.386 - ETA: 2s - loss: 0.386 - ETA: 2s - loss: 0.386 - ETA: 2s - loss: 0.386 - ETA: 2s - loss: 0.386 - ETA: 2s - loss: 0.386 - ETA: 2s - loss: 0.386 - ETA: 2s - loss: 0.386 - ETA: 2s - loss: 0.386 - ETA: 2s - loss: 0.386 - ETA: 1s - loss: 0.3864"
     ]
    },
    {
     "name": "stdout",
     "output_type": "stream",
     "text": [
      "55381/55381 [==============================] - ETA: 1s - loss: 0.386 - ETA: 1s - loss: 0.386 - ETA: 1s - loss: 0.386 - ETA: 1s - loss: 0.386 - ETA: 1s - loss: 0.386 - ETA: 1s - loss: 0.386 - ETA: 1s - loss: 0.386 - ETA: 1s - loss: 0.387 - ETA: 1s - loss: 0.387 - ETA: 1s - loss: 0.387 - ETA: 1s - loss: 0.387 - ETA: 1s - loss: 0.387 - ETA: 1s - loss: 0.387 - ETA: 1s - loss: 0.387 - ETA: 1s - loss: 0.387 - ETA: 1s - loss: 0.387 - ETA: 1s - loss: 0.387 - ETA: 0s - loss: 0.387 - ETA: 0s - loss: 0.387 - ETA: 0s - loss: 0.387 - ETA: 0s - loss: 0.387 - ETA: 0s - loss: 0.387 - ETA: 0s - loss: 0.387 - ETA: 0s - loss: 0.387 - ETA: 0s - loss: 0.387 - ETA: 0s - loss: 0.387 - ETA: 0s - loss: 0.387 - ETA: 0s - loss: 0.387 - ETA: 0s - loss: 0.387 - ETA: 0s - loss: 0.387 - ETA: 0s - loss: 0.387 - ETA: 0s - loss: 0.387 - ETA: 0s - loss: 0.387 - 23s 422us/step - loss: 0.3871 - val_loss: 0.3879\n",
      "Epoch 35/50\n",
      "51968/55381 [===========================>..] - ETA: 13s - loss: 0.51 - ETA: 21s - loss: 0.46 - ETA: 23s - loss: 0.42 - ETA: 20s - loss: 0.41 - ETA: 23s - loss: 0.40 - ETA: 23s - loss: 0.42 - ETA: 22s - loss: 0.41 - ETA: 20s - loss: 0.41 - ETA: 20s - loss: 0.40 - ETA: 20s - loss: 0.40 - ETA: 20s - loss: 0.40 - ETA: 20s - loss: 0.40 - ETA: 20s - loss: 0.39 - ETA: 20s - loss: 0.40 - ETA: 20s - loss: 0.39 - ETA: 20s - loss: 0.39 - ETA: 21s - loss: 0.39 - ETA: 20s - loss: 0.39 - ETA: 20s - loss: 0.39 - ETA: 20s - loss: 0.38 - ETA: 20s - loss: 0.39 - ETA: 20s - loss: 0.38 - ETA: 20s - loss: 0.38 - ETA: 21s - loss: 0.38 - ETA: 21s - loss: 0.38 - ETA: 21s - loss: 0.38 - ETA: 21s - loss: 0.38 - ETA: 21s - loss: 0.38 - ETA: 21s - loss: 0.38 - ETA: 21s - loss: 0.38 - ETA: 20s - loss: 0.38 - ETA: 21s - loss: 0.38 - ETA: 20s - loss: 0.38 - ETA: 20s - loss: 0.38 - ETA: 20s - loss: 0.38 - ETA: 20s - loss: 0.38 - ETA: 20s - loss: 0.38 - ETA: 20s - loss: 0.38 - ETA: 20s - loss: 0.38 - ETA: 20s - loss: 0.38 - ETA: 19s - loss: 0.38 - ETA: 19s - loss: 0.38 - ETA: 19s - loss: 0.38 - ETA: 19s - loss: 0.38 - ETA: 19s - loss: 0.38 - ETA: 19s - loss: 0.38 - ETA: 19s - loss: 0.38 - ETA: 19s - loss: 0.38 - ETA: 19s - loss: 0.38 - ETA: 19s - loss: 0.38 - ETA: 19s - loss: 0.38 - ETA: 18s - loss: 0.38 - ETA: 18s - loss: 0.38 - ETA: 18s - loss: 0.38 - ETA: 18s - loss: 0.38 - ETA: 18s - loss: 0.38 - ETA: 18s - loss: 0.38 - ETA: 18s - loss: 0.38 - ETA: 18s - loss: 0.38 - ETA: 18s - loss: 0.38 - ETA: 18s - loss: 0.38 - ETA: 18s - loss: 0.38 - ETA: 18s - loss: 0.38 - ETA: 18s - loss: 0.38 - ETA: 18s - loss: 0.38 - ETA: 18s - loss: 0.38 - ETA: 18s - loss: 0.38 - ETA: 18s - loss: 0.38 - ETA: 17s - loss: 0.38 - ETA: 17s - loss: 0.38 - ETA: 17s - loss: 0.38 - ETA: 17s - loss: 0.38 - ETA: 17s - loss: 0.38 - ETA: 17s - loss: 0.38 - ETA: 17s - loss: 0.38 - ETA: 17s - loss: 0.38 - ETA: 17s - loss: 0.38 - ETA: 17s - loss: 0.38 - ETA: 17s - loss: 0.38 - ETA: 16s - loss: 0.38 - ETA: 16s - loss: 0.38 - ETA: 16s - loss: 0.38 - ETA: 16s - loss: 0.38 - ETA: 16s - loss: 0.38 - ETA: 16s - loss: 0.38 - ETA: 16s - loss: 0.38 - ETA: 16s - loss: 0.38 - ETA: 16s - loss: 0.38 - ETA: 16s - loss: 0.38 - ETA: 16s - loss: 0.38 - ETA: 16s - loss: 0.38 - ETA: 16s - loss: 0.38 - ETA: 16s - loss: 0.38 - ETA: 16s - loss: 0.38 - ETA: 16s - loss: 0.38 - ETA: 16s - loss: 0.38 - ETA: 16s - loss: 0.38 - ETA: 16s - loss: 0.38 - ETA: 16s - loss: 0.38 - ETA: 16s - loss: 0.38 - ETA: 16s - loss: 0.38 - ETA: 16s - loss: 0.38 - ETA: 16s - loss: 0.38 - ETA: 16s - loss: 0.38 - ETA: 16s - loss: 0.38 - ETA: 16s - loss: 0.38 - ETA: 15s - loss: 0.38 - ETA: 15s - loss: 0.38 - ETA: 15s - loss: 0.38 - ETA: 15s - loss: 0.38 - ETA: 15s - loss: 0.38 - ETA: 15s - loss: 0.38 - ETA: 15s - loss: 0.38 - ETA: 15s - loss: 0.38 - ETA: 15s - loss: 0.38 - ETA: 15s - loss: 0.38 - ETA: 15s - loss: 0.38 - ETA: 15s - loss: 0.38 - ETA: 15s - loss: 0.38 - ETA: 14s - loss: 0.38 - ETA: 14s - loss: 0.38 - ETA: 14s - loss: 0.38 - ETA: 14s - loss: 0.38 - ETA: 14s - loss: 0.38 - ETA: 14s - loss: 0.38 - ETA: 14s - loss: 0.38 - ETA: 14s - loss: 0.38 - ETA: 14s - loss: 0.38 - ETA: 14s - loss: 0.38 - ETA: 14s - loss: 0.38 - ETA: 14s - loss: 0.38 - ETA: 14s - loss: 0.38 - ETA: 14s - loss: 0.38 - ETA: 14s - loss: 0.38 - ETA: 14s - loss: 0.38 - ETA: 14s - loss: 0.38 - ETA: 14s - loss: 0.38 - ETA: 14s - loss: 0.38 - ETA: 14s - loss: 0.38 - ETA: 14s - loss: 0.38 - ETA: 14s - loss: 0.38 - ETA: 14s - loss: 0.38 - ETA: 14s - loss: 0.38 - ETA: 14s - loss: 0.38 - ETA: 13s - loss: 0.38 - ETA: 13s - loss: 0.38 - ETA: 13s - loss: 0.38 - ETA: 13s - loss: 0.38 - ETA: 13s - loss: 0.38 - ETA: 13s - loss: 0.38 - ETA: 13s - loss: 0.38 - ETA: 13s - loss: 0.38 - ETA: 13s - loss: 0.38 - ETA: 13s - loss: 0.38 - ETA: 13s - loss: 0.38 - ETA: 13s - loss: 0.38 - ETA: 13s - loss: 0.38 - ETA: 13s - loss: 0.38 - ETA: 13s - loss: 0.38 - ETA: 13s - loss: 0.38 - ETA: 13s - loss: 0.38 - ETA: 13s - loss: 0.38 - ETA: 13s - loss: 0.38 - ETA: 13s - loss: 0.38 - ETA: 13s - loss: 0.38 - ETA: 13s - loss: 0.38 - ETA: 13s - loss: 0.38 - ETA: 12s - loss: 0.38 - ETA: 12s - loss: 0.38 - ETA: 12s - loss: 0.38 - ETA: 12s - loss: 0.38 - ETA: 12s - loss: 0.38 - ETA: 12s - loss: 0.38 - ETA: 12s - loss: 0.38 - ETA: 12s - loss: 0.38 - ETA: 12s - loss: 0.38 - ETA: 12s - loss: 0.38 - ETA: 12s - loss: 0.38 - ETA: 12s - loss: 0.38 - ETA: 12s - loss: 0.38 - ETA: 12s - loss: 0.38 - ETA: 12s - loss: 0.38 - ETA: 12s - loss: 0.38 - ETA: 12s - loss: 0.38 - ETA: 12s - loss: 0.38 - ETA: 12s - loss: 0.38 - ETA: 12s - loss: 0.38 - ETA: 12s - loss: 0.38 - ETA: 11s - loss: 0.38 - ETA: 11s - loss: 0.38 - ETA: 11s - loss: 0.38 - ETA: 11s - loss: 0.38 - ETA: 11s - loss: 0.38 - ETA: 11s - loss: 0.38 - ETA: 11s - loss: 0.38 - ETA: 11s - loss: 0.38 - ETA: 11s - loss: 0.38 - ETA: 11s - loss: 0.38 - ETA: 11s - loss: 0.38 - ETA: 11s - loss: 0.38 - ETA: 11s - loss: 0.38 - ETA: 11s - loss: 0.38 - ETA: 10s - loss: 0.38 - ETA: 10s - loss: 0.38 - ETA: 10s - loss: 0.38 - ETA: 10s - loss: 0.38 - ETA: 10s - loss: 0.38 - ETA: 10s - loss: 0.38 - ETA: 10s - loss: 0.38 - ETA: 10s - loss: 0.38 - ETA: 10s - loss: 0.38 - ETA: 10s - loss: 0.38 - ETA: 10s - loss: 0.38 - ETA: 10s - loss: 0.38 - ETA: 10s - loss: 0.38 - ETA: 9s - loss: 0.3839 - ETA: 9s - loss: 0.383 - ETA: 9s - loss: 0.384 - ETA: 9s - loss: 0.384 - ETA: 9s - loss: 0.384 - ETA: 9s - loss: 0.384 - ETA: 9s - loss: 0.384 - ETA: 9s - loss: 0.384 - ETA: 9s - loss: 0.384 - ETA: 9s - loss: 0.384 - ETA: 9s - loss: 0.384 - ETA: 9s - loss: 0.384 - ETA: 9s - loss: 0.384 - ETA: 9s - loss: 0.384 - ETA: 9s - loss: 0.384 - ETA: 8s - loss: 0.384 - ETA: 8s - loss: 0.384 - ETA: 8s - loss: 0.384 - ETA: 8s - loss: 0.384 - ETA: 8s - loss: 0.385 - ETA: 8s - loss: 0.384 - ETA: 8s - loss: 0.385 - ETA: 8s - loss: 0.385 - ETA: 8s - loss: 0.385 - ETA: 7s - loss: 0.385 - ETA: 7s - loss: 0.385 - ETA: 7s - loss: 0.385 - ETA: 7s - loss: 0.385 - ETA: 7s - loss: 0.385 - ETA: 7s - loss: 0.385 - ETA: 7s - loss: 0.385 - ETA: 7s - loss: 0.385 - ETA: 7s - loss: 0.385 - ETA: 7s - loss: 0.385 - ETA: 7s - loss: 0.385 - ETA: 7s - loss: 0.386 - ETA: 7s - loss: 0.386 - ETA: 7s - loss: 0.386 - ETA: 7s - loss: 0.385 - ETA: 7s - loss: 0.385 - ETA: 7s - loss: 0.385 - ETA: 6s - loss: 0.386 - ETA: 6s - loss: 0.386 - ETA: 6s - loss: 0.386 - ETA: 6s - loss: 0.386 - ETA: 6s - loss: 0.386 - ETA: 6s - loss: 0.386 - ETA: 6s - loss: 0.386 - ETA: 6s - loss: 0.386 - ETA: 6s - loss: 0.386 - ETA: 6s - loss: 0.386 - ETA: 6s - loss: 0.386 - ETA: 6s - loss: 0.386 - ETA: 6s - loss: 0.386 - ETA: 6s - loss: 0.386 - ETA: 6s - loss: 0.386 - ETA: 5s - loss: 0.386 - ETA: 5s - loss: 0.386 - ETA: 5s - loss: 0.386 - ETA: 5s - loss: 0.386 - ETA: 5s - loss: 0.386 - ETA: 5s - loss: 0.386 - ETA: 5s - loss: 0.386 - ETA: 5s - loss: 0.386 - ETA: 5s - loss: 0.386 - ETA: 5s - loss: 0.386 - ETA: 5s - loss: 0.386 - ETA: 5s - loss: 0.386 - ETA: 5s - loss: 0.386 - ETA: 5s - loss: 0.386 - ETA: 5s - loss: 0.386 - ETA: 5s - loss: 0.386 - ETA: 4s - loss: 0.386 - ETA: 4s - loss: 0.386 - ETA: 4s - loss: 0.386 - ETA: 4s - loss: 0.386 - ETA: 4s - loss: 0.386 - ETA: 4s - loss: 0.386 - ETA: 4s - loss: 0.386 - ETA: 4s - loss: 0.385 - ETA: 4s - loss: 0.385 - ETA: 4s - loss: 0.385 - ETA: 4s - loss: 0.386 - ETA: 4s - loss: 0.386 - ETA: 4s - loss: 0.386 - ETA: 4s - loss: 0.386 - ETA: 3s - loss: 0.386 - ETA: 3s - loss: 0.386 - ETA: 3s - loss: 0.386 - ETA: 3s - loss: 0.386 - ETA: 3s - loss: 0.386 - ETA: 3s - loss: 0.386 - ETA: 3s - loss: 0.386 - ETA: 3s - loss: 0.386 - ETA: 3s - loss: 0.386 - ETA: 3s - loss: 0.387 - ETA: 3s - loss: 0.386 - ETA: 3s - loss: 0.387 - ETA: 3s - loss: 0.387 - ETA: 3s - loss: 0.387 - ETA: 2s - loss: 0.387 - ETA: 2s - loss: 0.387 - ETA: 2s - loss: 0.387 - ETA: 2s - loss: 0.387 - ETA: 2s - loss: 0.387 - ETA: 2s - loss: 0.387 - ETA: 2s - loss: 0.387 - ETA: 2s - loss: 0.387 - ETA: 2s - loss: 0.387 - ETA: 2s - loss: 0.387 - ETA: 2s - loss: 0.387 - ETA: 2s - loss: 0.387 - ETA: 2s - loss: 0.387 - ETA: 2s - loss: 0.387 - ETA: 2s - loss: 0.387 - ETA: 1s - loss: 0.386 - ETA: 1s - loss: 0.386 - ETA: 1s - loss: 0.387 - ETA: 1s - loss: 0.387 - ETA: 1s - loss: 0.386 - ETA: 1s - loss: 0.386 - ETA: 1s - loss: 0.386 - ETA: 1s - loss: 0.386 - ETA: 1s - loss: 0.386 - ETA: 1s - loss: 0.386755381/55381 [==============================] - ETA: 1s - loss: 0.386 - ETA: 1s - loss: 0.386 - ETA: 1s - loss: 0.386 - ETA: 1s - loss: 0.386 - ETA: 0s - loss: 0.386 - ETA: 0s - loss: 0.386 - ETA: 0s - loss: 0.386 - ETA: 0s - loss: 0.386 - ETA: 0s - loss: 0.386 - ETA: 0s - loss: 0.386 - ETA: 0s - loss: 0.386 - ETA: 0s - loss: 0.386 - ETA: 0s - loss: 0.386 - ETA: 0s - loss: 0.386 - ETA: 0s - loss: 0.386 - ETA: 0s - loss: 0.386 - ETA: 0s - loss: 0.386 - ETA: 0s - loss: 0.386 - ETA: 0s - loss: 0.386 - ETA: 0s - loss: 0.386 - ETA: 0s - loss: 0.386 - 22s 403us/step - loss: 0.3867 - val_loss: 0.3849\n",
      "Epoch 36/50\n"
     ]
    },
    {
     "name": "stdout",
     "output_type": "stream",
     "text": [
      "52160/55381 [===========================>..] - ETA: 13s - loss: 0.37 - ETA: 17s - loss: 0.34 - ETA: 22s - loss: 0.34 - ETA: 18s - loss: 0.36 - ETA: 20s - loss: 0.36 - ETA: 19s - loss: 0.36 - ETA: 19s - loss: 0.35 - ETA: 20s - loss: 0.36 - ETA: 19s - loss: 0.36 - ETA: 21s - loss: 0.36 - ETA: 21s - loss: 0.36 - ETA: 21s - loss: 0.36 - ETA: 22s - loss: 0.35 - ETA: 22s - loss: 0.35 - ETA: 23s - loss: 0.35 - ETA: 22s - loss: 0.35 - ETA: 21s - loss: 0.35 - ETA: 21s - loss: 0.36 - ETA: 21s - loss: 0.36 - ETA: 20s - loss: 0.36 - ETA: 20s - loss: 0.36 - ETA: 20s - loss: 0.36 - ETA: 20s - loss: 0.36 - ETA: 20s - loss: 0.36 - ETA: 20s - loss: 0.36 - ETA: 19s - loss: 0.36 - ETA: 19s - loss: 0.36 - ETA: 19s - loss: 0.36 - ETA: 19s - loss: 0.36 - ETA: 19s - loss: 0.36 - ETA: 19s - loss: 0.36 - ETA: 19s - loss: 0.36 - ETA: 19s - loss: 0.36 - ETA: 19s - loss: 0.36 - ETA: 19s - loss: 0.36 - ETA: 19s - loss: 0.37 - ETA: 18s - loss: 0.36 - ETA: 18s - loss: 0.36 - ETA: 18s - loss: 0.37 - ETA: 18s - loss: 0.36 - ETA: 18s - loss: 0.37 - ETA: 18s - loss: 0.37 - ETA: 18s - loss: 0.37 - ETA: 18s - loss: 0.37 - ETA: 18s - loss: 0.37 - ETA: 18s - loss: 0.37 - ETA: 18s - loss: 0.37 - ETA: 18s - loss: 0.37 - ETA: 18s - loss: 0.37 - ETA: 18s - loss: 0.37 - ETA: 18s - loss: 0.37 - ETA: 18s - loss: 0.37 - ETA: 18s - loss: 0.37 - ETA: 18s - loss: 0.37 - ETA: 18s - loss: 0.37 - ETA: 18s - loss: 0.37 - ETA: 18s - loss: 0.37 - ETA: 18s - loss: 0.37 - ETA: 18s - loss: 0.37 - ETA: 18s - loss: 0.37 - ETA: 18s - loss: 0.37 - ETA: 18s - loss: 0.37 - ETA: 18s - loss: 0.37 - ETA: 18s - loss: 0.37 - ETA: 18s - loss: 0.37 - ETA: 18s - loss: 0.37 - ETA: 18s - loss: 0.37 - ETA: 18s - loss: 0.37 - ETA: 18s - loss: 0.37 - ETA: 18s - loss: 0.37 - ETA: 18s - loss: 0.37 - ETA: 18s - loss: 0.37 - ETA: 18s - loss: 0.37 - ETA: 18s - loss: 0.37 - ETA: 19s - loss: 0.37 - ETA: 19s - loss: 0.37 - ETA: 19s - loss: 0.37 - ETA: 19s - loss: 0.37 - ETA: 19s - loss: 0.37 - ETA: 19s - loss: 0.37 - ETA: 19s - loss: 0.37 - ETA: 19s - loss: 0.37 - ETA: 19s - loss: 0.37 - ETA: 19s - loss: 0.37 - ETA: 19s - loss: 0.37 - ETA: 18s - loss: 0.37 - ETA: 18s - loss: 0.37 - ETA: 18s - loss: 0.37 - ETA: 18s - loss: 0.37 - ETA: 18s - loss: 0.37 - ETA: 18s - loss: 0.38 - ETA: 18s - loss: 0.38 - ETA: 18s - loss: 0.38 - ETA: 18s - loss: 0.38 - ETA: 18s - loss: 0.38 - ETA: 18s - loss: 0.38 - ETA: 18s - loss: 0.38 - ETA: 18s - loss: 0.38 - ETA: 18s - loss: 0.38 - ETA: 18s - loss: 0.38 - ETA: 18s - loss: 0.38 - ETA: 18s - loss: 0.38 - ETA: 17s - loss: 0.38 - ETA: 17s - loss: 0.38 - ETA: 17s - loss: 0.38 - ETA: 17s - loss: 0.37 - ETA: 17s - loss: 0.37 - ETA: 17s - loss: 0.37 - ETA: 17s - loss: 0.37 - ETA: 17s - loss: 0.37 - ETA: 17s - loss: 0.37 - ETA: 17s - loss: 0.37 - ETA: 17s - loss: 0.37 - ETA: 17s - loss: 0.37 - ETA: 17s - loss: 0.37 - ETA: 17s - loss: 0.37 - ETA: 17s - loss: 0.37 - ETA: 17s - loss: 0.38 - ETA: 17s - loss: 0.38 - ETA: 16s - loss: 0.38 - ETA: 16s - loss: 0.37 - ETA: 16s - loss: 0.37 - ETA: 16s - loss: 0.37 - ETA: 16s - loss: 0.37 - ETA: 16s - loss: 0.37 - ETA: 16s - loss: 0.37 - ETA: 16s - loss: 0.37 - ETA: 16s - loss: 0.37 - ETA: 16s - loss: 0.37 - ETA: 16s - loss: 0.37 - ETA: 16s - loss: 0.37 - ETA: 16s - loss: 0.37 - ETA: 15s - loss: 0.37 - ETA: 15s - loss: 0.37 - ETA: 15s - loss: 0.37 - ETA: 15s - loss: 0.37 - ETA: 15s - loss: 0.37 - ETA: 15s - loss: 0.37 - ETA: 15s - loss: 0.37 - ETA: 15s - loss: 0.37 - ETA: 15s - loss: 0.37 - ETA: 15s - loss: 0.37 - ETA: 15s - loss: 0.37 - ETA: 15s - loss: 0.37 - ETA: 15s - loss: 0.37 - ETA: 15s - loss: 0.37 - ETA: 15s - loss: 0.37 - ETA: 14s - loss: 0.37 - ETA: 14s - loss: 0.37 - ETA: 14s - loss: 0.37 - ETA: 14s - loss: 0.37 - ETA: 14s - loss: 0.37 - ETA: 14s - loss: 0.37 - ETA: 14s - loss: 0.37 - ETA: 14s - loss: 0.37 - ETA: 14s - loss: 0.37 - ETA: 14s - loss: 0.37 - ETA: 14s - loss: 0.37 - ETA: 14s - loss: 0.37 - ETA: 14s - loss: 0.37 - ETA: 13s - loss: 0.37 - ETA: 13s - loss: 0.37 - ETA: 13s - loss: 0.37 - ETA: 13s - loss: 0.37 - ETA: 13s - loss: 0.37 - ETA: 13s - loss: 0.38 - ETA: 13s - loss: 0.37 - ETA: 13s - loss: 0.38 - ETA: 13s - loss: 0.38 - ETA: 13s - loss: 0.38 - ETA: 13s - loss: 0.38 - ETA: 13s - loss: 0.38 - ETA: 13s - loss: 0.38 - ETA: 13s - loss: 0.38 - ETA: 13s - loss: 0.38 - ETA: 12s - loss: 0.37 - ETA: 12s - loss: 0.37 - ETA: 12s - loss: 0.37 - ETA: 12s - loss: 0.37 - ETA: 12s - loss: 0.38 - ETA: 12s - loss: 0.38 - ETA: 12s - loss: 0.37 - ETA: 12s - loss: 0.37 - ETA: 12s - loss: 0.37 - ETA: 12s - loss: 0.38 - ETA: 12s - loss: 0.38 - ETA: 12s - loss: 0.37 - ETA: 12s - loss: 0.37 - ETA: 12s - loss: 0.37 - ETA: 12s - loss: 0.37 - ETA: 12s - loss: 0.37 - ETA: 11s - loss: 0.37 - ETA: 11s - loss: 0.37 - ETA: 11s - loss: 0.37 - ETA: 11s - loss: 0.37 - ETA: 11s - loss: 0.37 - ETA: 11s - loss: 0.37 - ETA: 11s - loss: 0.37 - ETA: 11s - loss: 0.37 - ETA: 11s - loss: 0.37 - ETA: 11s - loss: 0.37 - ETA: 11s - loss: 0.37 - ETA: 11s - loss: 0.37 - ETA: 11s - loss: 0.37 - ETA: 10s - loss: 0.37 - ETA: 10s - loss: 0.37 - ETA: 10s - loss: 0.37 - ETA: 10s - loss: 0.37 - ETA: 10s - loss: 0.37 - ETA: 10s - loss: 0.37 - ETA: 10s - loss: 0.37 - ETA: 10s - loss: 0.37 - ETA: 10s - loss: 0.37 - ETA: 10s - loss: 0.37 - ETA: 10s - loss: 0.37 - ETA: 10s - loss: 0.37 - ETA: 10s - loss: 0.37 - ETA: 10s - loss: 0.37 - ETA: 9s - loss: 0.3800 - ETA: 9s - loss: 0.380 - ETA: 9s - loss: 0.380 - ETA: 9s - loss: 0.380 - ETA: 9s - loss: 0.380 - ETA: 9s - loss: 0.380 - ETA: 9s - loss: 0.380 - ETA: 9s - loss: 0.380 - ETA: 9s - loss: 0.381 - ETA: 9s - loss: 0.381 - ETA: 9s - loss: 0.381 - ETA: 9s - loss: 0.381 - ETA: 8s - loss: 0.381 - ETA: 8s - loss: 0.381 - ETA: 8s - loss: 0.381 - ETA: 8s - loss: 0.381 - ETA: 8s - loss: 0.381 - ETA: 8s - loss: 0.382 - ETA: 8s - loss: 0.382 - ETA: 8s - loss: 0.382 - ETA: 8s - loss: 0.382 - ETA: 8s - loss: 0.382 - ETA: 8s - loss: 0.382 - ETA: 8s - loss: 0.382 - ETA: 8s - loss: 0.382 - ETA: 8s - loss: 0.382 - ETA: 7s - loss: 0.382 - ETA: 7s - loss: 0.382 - ETA: 7s - loss: 0.382 - ETA: 7s - loss: 0.382 - ETA: 7s - loss: 0.382 - ETA: 7s - loss: 0.382 - ETA: 7s - loss: 0.382 - ETA: 7s - loss: 0.382 - ETA: 7s - loss: 0.382 - ETA: 7s - loss: 0.382 - ETA: 7s - loss: 0.382 - ETA: 7s - loss: 0.382 - ETA: 7s - loss: 0.382 - ETA: 6s - loss: 0.382 - ETA: 6s - loss: 0.383 - ETA: 6s - loss: 0.383 - ETA: 6s - loss: 0.383 - ETA: 6s - loss: 0.383 - ETA: 6s - loss: 0.383 - ETA: 6s - loss: 0.383 - ETA: 6s - loss: 0.382 - ETA: 6s - loss: 0.382 - ETA: 6s - loss: 0.382 - ETA: 6s - loss: 0.382 - ETA: 6s - loss: 0.382 - ETA: 6s - loss: 0.382 - ETA: 6s - loss: 0.382 - ETA: 6s - loss: 0.382 - ETA: 5s - loss: 0.381 - ETA: 5s - loss: 0.381 - ETA: 5s - loss: 0.382 - ETA: 5s - loss: 0.381 - ETA: 5s - loss: 0.381 - ETA: 5s - loss: 0.382 - ETA: 5s - loss: 0.382 - ETA: 5s - loss: 0.382 - ETA: 5s - loss: 0.382 - ETA: 5s - loss: 0.382 - ETA: 5s - loss: 0.383 - ETA: 5s - loss: 0.383 - ETA: 5s - loss: 0.383 - ETA: 4s - loss: 0.383 - ETA: 4s - loss: 0.383 - ETA: 4s - loss: 0.383 - ETA: 4s - loss: 0.383 - ETA: 4s - loss: 0.383 - ETA: 4s - loss: 0.383 - ETA: 4s - loss: 0.383 - ETA: 4s - loss: 0.383 - ETA: 4s - loss: 0.383 - ETA: 4s - loss: 0.383 - ETA: 4s - loss: 0.383 - ETA: 4s - loss: 0.383 - ETA: 4s - loss: 0.383 - ETA: 4s - loss: 0.384 - ETA: 3s - loss: 0.384 - ETA: 3s - loss: 0.384 - ETA: 3s - loss: 0.384 - ETA: 3s - loss: 0.384 - ETA: 3s - loss: 0.384 - ETA: 3s - loss: 0.384 - ETA: 3s - loss: 0.384 - ETA: 3s - loss: 0.384 - ETA: 3s - loss: 0.384 - ETA: 3s - loss: 0.384 - ETA: 3s - loss: 0.384 - ETA: 3s - loss: 0.384 - ETA: 3s - loss: 0.384 - ETA: 3s - loss: 0.384 - ETA: 3s - loss: 0.384 - ETA: 2s - loss: 0.384 - ETA: 2s - loss: 0.384 - ETA: 2s - loss: 0.384 - ETA: 2s - loss: 0.384 - ETA: 2s - loss: 0.384 - ETA: 2s - loss: 0.384 - ETA: 2s - loss: 0.384 - ETA: 2s - loss: 0.384 - ETA: 2s - loss: 0.384 - ETA: 2s - loss: 0.384 - ETA: 2s - loss: 0.384 - ETA: 2s - loss: 0.384 - ETA: 2s - loss: 0.384 - ETA: 2s - loss: 0.385 - ETA: 1s - loss: 0.385 - ETA: 1s - loss: 0.385 - ETA: 1s - loss: 0.385 - ETA: 1s - loss: 0.385 - ETA: 1s - loss: 0.385 - ETA: 1s - loss: 0.385 - ETA: 1s - loss: 0.385 - ETA: 1s - loss: 0.385 - ETA: 1s - loss: 0.385 - ETA: 1s - loss: 0.385 - ETA: 1s - loss: 0.385 - ETA: 1s - loss: 0.3854"
     ]
    },
    {
     "name": "stdout",
     "output_type": "stream",
     "text": [
      "55381/55381 [==============================] - ETA: 1s - loss: 0.385 - ETA: 1s - loss: 0.385 - ETA: 1s - loss: 0.385 - ETA: 1s - loss: 0.385 - ETA: 0s - loss: 0.385 - ETA: 0s - loss: 0.385 - ETA: 0s - loss: 0.385 - ETA: 0s - loss: 0.385 - ETA: 0s - loss: 0.385 - ETA: 0s - loss: 0.385 - ETA: 0s - loss: 0.385 - ETA: 0s - loss: 0.385 - ETA: 0s - loss: 0.385 - ETA: 0s - loss: 0.385 - ETA: 0s - loss: 0.385 - ETA: 0s - loss: 0.385 - ETA: 0s - loss: 0.385 - ETA: 0s - loss: 0.385 - ETA: 0s - loss: 0.385 - ETA: 0s - loss: 0.385 - ETA: 0s - loss: 0.385 - ETA: 0s - loss: 0.385 - 23s 407us/step - loss: 0.3855 - val_loss: 0.3819\n",
      "Epoch 37/50\n",
      "51904/55381 [===========================>..] - ETA: 13s - loss: 0.46 - ETA: 20s - loss: 0.43 - ETA: 25s - loss: 0.40 - ETA: 23s - loss: 0.39 - ETA: 24s - loss: 0.38 - ETA: 24s - loss: 0.37 - ETA: 23s - loss: 0.36 - ETA: 23s - loss: 0.36 - ETA: 23s - loss: 0.36 - ETA: 23s - loss: 0.36 - ETA: 22s - loss: 0.37 - ETA: 22s - loss: 0.37 - ETA: 22s - loss: 0.37 - ETA: 22s - loss: 0.37 - ETA: 22s - loss: 0.37 - ETA: 22s - loss: 0.37 - ETA: 23s - loss: 0.37 - ETA: 24s - loss: 0.37 - ETA: 24s - loss: 0.37 - ETA: 24s - loss: 0.37 - ETA: 24s - loss: 0.37 - ETA: 24s - loss: 0.37 - ETA: 24s - loss: 0.37 - ETA: 24s - loss: 0.37 - ETA: 25s - loss: 0.37 - ETA: 25s - loss: 0.37 - ETA: 25s - loss: 0.37 - ETA: 26s - loss: 0.37 - ETA: 26s - loss: 0.37 - ETA: 25s - loss: 0.37 - ETA: 25s - loss: 0.37 - ETA: 25s - loss: 0.37 - ETA: 25s - loss: 0.37 - ETA: 25s - loss: 0.37 - ETA: 26s - loss: 0.37 - ETA: 26s - loss: 0.37 - ETA: 26s - loss: 0.37 - ETA: 26s - loss: 0.37 - ETA: 25s - loss: 0.37 - ETA: 25s - loss: 0.37 - ETA: 25s - loss: 0.37 - ETA: 25s - loss: 0.37 - ETA: 25s - loss: 0.37 - ETA: 25s - loss: 0.37 - ETA: 25s - loss: 0.37 - ETA: 25s - loss: 0.37 - ETA: 26s - loss: 0.37 - ETA: 26s - loss: 0.37 - ETA: 26s - loss: 0.37 - ETA: 25s - loss: 0.37 - ETA: 25s - loss: 0.37 - ETA: 25s - loss: 0.36 - ETA: 26s - loss: 0.36 - ETA: 26s - loss: 0.36 - ETA: 25s - loss: 0.36 - ETA: 25s - loss: 0.36 - ETA: 25s - loss: 0.36 - ETA: 25s - loss: 0.36 - ETA: 25s - loss: 0.36 - ETA: 25s - loss: 0.36 - ETA: 25s - loss: 0.36 - ETA: 25s - loss: 0.36 - ETA: 24s - loss: 0.36 - ETA: 24s - loss: 0.37 - ETA: 24s - loss: 0.37 - ETA: 24s - loss: 0.37 - ETA: 24s - loss: 0.37 - ETA: 24s - loss: 0.37 - ETA: 23s - loss: 0.37 - ETA: 23s - loss: 0.37 - ETA: 23s - loss: 0.37 - ETA: 23s - loss: 0.37 - ETA: 23s - loss: 0.37 - ETA: 23s - loss: 0.37 - ETA: 23s - loss: 0.37 - ETA: 22s - loss: 0.37 - ETA: 22s - loss: 0.37 - ETA: 22s - loss: 0.37 - ETA: 22s - loss: 0.37 - ETA: 22s - loss: 0.37 - ETA: 22s - loss: 0.37 - ETA: 22s - loss: 0.37 - ETA: 22s - loss: 0.37 - ETA: 22s - loss: 0.37 - ETA: 22s - loss: 0.37 - ETA: 21s - loss: 0.37 - ETA: 21s - loss: 0.37 - ETA: 21s - loss: 0.37 - ETA: 21s - loss: 0.37 - ETA: 21s - loss: 0.37 - ETA: 21s - loss: 0.37 - ETA: 21s - loss: 0.37 - ETA: 20s - loss: 0.37 - ETA: 20s - loss: 0.37 - ETA: 20s - loss: 0.37 - ETA: 20s - loss: 0.37 - ETA: 20s - loss: 0.37 - ETA: 20s - loss: 0.37 - ETA: 20s - loss: 0.37 - ETA: 20s - loss: 0.37 - ETA: 20s - loss: 0.37 - ETA: 20s - loss: 0.37 - ETA: 20s - loss: 0.37 - ETA: 19s - loss: 0.37 - ETA: 19s - loss: 0.37 - ETA: 19s - loss: 0.37 - ETA: 19s - loss: 0.37 - ETA: 19s - loss: 0.37 - ETA: 19s - loss: 0.37 - ETA: 19s - loss: 0.37 - ETA: 19s - loss: 0.37 - ETA: 19s - loss: 0.37 - ETA: 19s - loss: 0.37 - ETA: 19s - loss: 0.37 - ETA: 19s - loss: 0.37 - ETA: 18s - loss: 0.37 - ETA: 18s - loss: 0.37 - ETA: 18s - loss: 0.37 - ETA: 18s - loss: 0.37 - ETA: 18s - loss: 0.37 - ETA: 18s - loss: 0.37 - ETA: 18s - loss: 0.37 - ETA: 18s - loss: 0.37 - ETA: 18s - loss: 0.37 - ETA: 18s - loss: 0.37 - ETA: 17s - loss: 0.37 - ETA: 17s - loss: 0.37 - ETA: 17s - loss: 0.37 - ETA: 17s - loss: 0.37 - ETA: 17s - loss: 0.37 - ETA: 17s - loss: 0.37 - ETA: 17s - loss: 0.37 - ETA: 17s - loss: 0.37 - ETA: 16s - loss: 0.37 - ETA: 16s - loss: 0.37 - ETA: 16s - loss: 0.37 - ETA: 16s - loss: 0.37 - ETA: 16s - loss: 0.37 - ETA: 16s - loss: 0.37 - ETA: 16s - loss: 0.37 - ETA: 16s - loss: 0.37 - ETA: 15s - loss: 0.37 - ETA: 15s - loss: 0.37 - ETA: 15s - loss: 0.37 - ETA: 15s - loss: 0.37 - ETA: 15s - loss: 0.37 - ETA: 15s - loss: 0.37 - ETA: 15s - loss: 0.37 - ETA: 15s - loss: 0.38 - ETA: 15s - loss: 0.37 - ETA: 15s - loss: 0.38 - ETA: 15s - loss: 0.38 - ETA: 15s - loss: 0.38 - ETA: 14s - loss: 0.38 - ETA: 14s - loss: 0.38 - ETA: 14s - loss: 0.38 - ETA: 14s - loss: 0.38 - ETA: 14s - loss: 0.38 - ETA: 14s - loss: 0.38 - ETA: 14s - loss: 0.37 - ETA: 14s - loss: 0.38 - ETA: 14s - loss: 0.37 - ETA: 14s - loss: 0.37 - ETA: 14s - loss: 0.37 - ETA: 14s - loss: 0.38 - ETA: 14s - loss: 0.37 - ETA: 13s - loss: 0.37 - ETA: 13s - loss: 0.38 - ETA: 13s - loss: 0.37 - ETA: 13s - loss: 0.38 - ETA: 13s - loss: 0.38 - ETA: 13s - loss: 0.38 - ETA: 13s - loss: 0.37 - ETA: 13s - loss: 0.37 - ETA: 13s - loss: 0.38 - ETA: 13s - loss: 0.38 - ETA: 13s - loss: 0.38 - ETA: 13s - loss: 0.38 - ETA: 12s - loss: 0.38 - ETA: 12s - loss: 0.38 - ETA: 12s - loss: 0.38 - ETA: 12s - loss: 0.38 - ETA: 12s - loss: 0.38 - ETA: 12s - loss: 0.38 - ETA: 12s - loss: 0.38 - ETA: 12s - loss: 0.38 - ETA: 12s - loss: 0.38 - ETA: 12s - loss: 0.38 - ETA: 12s - loss: 0.38 - ETA: 12s - loss: 0.38 - ETA: 11s - loss: 0.38 - ETA: 11s - loss: 0.38 - ETA: 11s - loss: 0.38 - ETA: 11s - loss: 0.38 - ETA: 11s - loss: 0.38 - ETA: 11s - loss: 0.38 - ETA: 11s - loss: 0.38 - ETA: 11s - loss: 0.38 - ETA: 11s - loss: 0.38 - ETA: 11s - loss: 0.38 - ETA: 11s - loss: 0.38 - ETA: 11s - loss: 0.38 - ETA: 11s - loss: 0.38 - ETA: 11s - loss: 0.38 - ETA: 10s - loss: 0.38 - ETA: 10s - loss: 0.38 - ETA: 10s - loss: 0.38 - ETA: 10s - loss: 0.38 - ETA: 10s - loss: 0.38 - ETA: 10s - loss: 0.38 - ETA: 10s - loss: 0.38 - ETA: 10s - loss: 0.38 - ETA: 10s - loss: 0.38 - ETA: 10s - loss: 0.38 - ETA: 10s - loss: 0.38 - ETA: 10s - loss: 0.38 - ETA: 9s - loss: 0.3812 - ETA: 9s - loss: 0.381 - ETA: 9s - loss: 0.380 - ETA: 9s - loss: 0.380 - ETA: 9s - loss: 0.381 - ETA: 9s - loss: 0.381 - ETA: 9s - loss: 0.381 - ETA: 9s - loss: 0.381 - ETA: 9s - loss: 0.381 - ETA: 9s - loss: 0.381 - ETA: 9s - loss: 0.382 - ETA: 9s - loss: 0.382 - ETA: 9s - loss: 0.382 - ETA: 9s - loss: 0.382 - ETA: 8s - loss: 0.382 - ETA: 8s - loss: 0.382 - ETA: 8s - loss: 0.382 - ETA: 8s - loss: 0.382 - ETA: 8s - loss: 0.382 - ETA: 8s - loss: 0.383 - ETA: 8s - loss: 0.382 - ETA: 8s - loss: 0.382 - ETA: 8s - loss: 0.383 - ETA: 8s - loss: 0.382 - ETA: 8s - loss: 0.382 - ETA: 8s - loss: 0.383 - ETA: 8s - loss: 0.382 - ETA: 8s - loss: 0.383 - ETA: 7s - loss: 0.383 - ETA: 7s - loss: 0.383 - ETA: 7s - loss: 0.383 - ETA: 7s - loss: 0.383 - ETA: 7s - loss: 0.383 - ETA: 7s - loss: 0.383 - ETA: 7s - loss: 0.383 - ETA: 7s - loss: 0.383 - ETA: 7s - loss: 0.383 - ETA: 7s - loss: 0.383 - ETA: 7s - loss: 0.383 - ETA: 7s - loss: 0.383 - ETA: 7s - loss: 0.383 - ETA: 6s - loss: 0.383 - ETA: 6s - loss: 0.382 - ETA: 6s - loss: 0.382 - ETA: 6s - loss: 0.383 - ETA: 6s - loss: 0.383 - ETA: 6s - loss: 0.383 - ETA: 6s - loss: 0.383 - ETA: 6s - loss: 0.383 - ETA: 6s - loss: 0.383 - ETA: 6s - loss: 0.383 - ETA: 6s - loss: 0.383 - ETA: 6s - loss: 0.383 - ETA: 6s - loss: 0.383 - ETA: 6s - loss: 0.383 - ETA: 6s - loss: 0.383 - ETA: 6s - loss: 0.383 - ETA: 5s - loss: 0.383 - ETA: 5s - loss: 0.383 - ETA: 5s - loss: 0.383 - ETA: 5s - loss: 0.383 - ETA: 5s - loss: 0.384 - ETA: 5s - loss: 0.384 - ETA: 5s - loss: 0.384 - ETA: 5s - loss: 0.383 - ETA: 5s - loss: 0.383 - ETA: 5s - loss: 0.383 - ETA: 5s - loss: 0.383 - ETA: 5s - loss: 0.383 - ETA: 5s - loss: 0.384 - ETA: 5s - loss: 0.383 - ETA: 4s - loss: 0.384 - ETA: 4s - loss: 0.383 - ETA: 4s - loss: 0.383 - ETA: 4s - loss: 0.383 - ETA: 4s - loss: 0.383 - ETA: 4s - loss: 0.383 - ETA: 4s - loss: 0.383 - ETA: 4s - loss: 0.383 - ETA: 4s - loss: 0.382 - ETA: 4s - loss: 0.383 - ETA: 4s - loss: 0.383 - ETA: 4s - loss: 0.383 - ETA: 4s - loss: 0.382 - ETA: 4s - loss: 0.383 - ETA: 3s - loss: 0.383 - ETA: 3s - loss: 0.383 - ETA: 3s - loss: 0.383 - ETA: 3s - loss: 0.383 - ETA: 3s - loss: 0.383 - ETA: 3s - loss: 0.383 - ETA: 3s - loss: 0.383 - ETA: 3s - loss: 0.382 - ETA: 3s - loss: 0.382 - ETA: 3s - loss: 0.382 - ETA: 3s - loss: 0.382 - ETA: 3s - loss: 0.382 - ETA: 3s - loss: 0.382 - ETA: 3s - loss: 0.382 - ETA: 2s - loss: 0.382 - ETA: 2s - loss: 0.382 - ETA: 2s - loss: 0.382 - ETA: 2s - loss: 0.383 - ETA: 2s - loss: 0.382 - ETA: 2s - loss: 0.382 - ETA: 2s - loss: 0.383 - ETA: 2s - loss: 0.383 - ETA: 2s - loss: 0.382 - ETA: 2s - loss: 0.382 - ETA: 2s - loss: 0.382 - ETA: 2s - loss: 0.382 - ETA: 2s - loss: 0.382 - ETA: 2s - loss: 0.382 - ETA: 2s - loss: 0.382 - ETA: 1s - loss: 0.382 - ETA: 1s - loss: 0.382 - ETA: 1s - loss: 0.382 - ETA: 1s - loss: 0.382 - ETA: 1s - loss: 0.382 - ETA: 1s - loss: 0.382 - ETA: 1s - loss: 0.382 - ETA: 1s - loss: 0.382 - ETA: 1s - loss: 0.382 - ETA: 1s - loss: 0.382755381/55381 [==============================] - ETA: 1s - loss: 0.382 - ETA: 1s - loss: 0.382 - ETA: 1s - loss: 0.383 - ETA: 1s - loss: 0.383 - ETA: 1s - loss: 0.383 - ETA: 1s - loss: 0.383 - ETA: 1s - loss: 0.383 - ETA: 0s - loss: 0.383 - ETA: 0s - loss: 0.383 - ETA: 0s - loss: 0.383 - ETA: 0s - loss: 0.383 - ETA: 0s - loss: 0.383 - ETA: 0s - loss: 0.383 - ETA: 0s - loss: 0.383 - ETA: 0s - loss: 0.383 - ETA: 0s - loss: 0.383 - ETA: 0s - loss: 0.382 - ETA: 0s - loss: 0.382 - ETA: 0s - loss: 0.382 - ETA: 0s - loss: 0.382 - ETA: 0s - loss: 0.382 - ETA: 0s - loss: 0.382 - ETA: 0s - loss: 0.382 - ETA: 0s - loss: 0.382 - ETA: 0s - loss: 0.382 - ETA: 0s - loss: 0.382 - 23s 412us/step - loss: 0.3824 - val_loss: 0.3801\n",
      "Epoch 38/50\n"
     ]
    },
    {
     "name": "stdout",
     "output_type": "stream",
     "text": [
      "51712/55381 [===========================>..] - ETA: 13s - loss: 0.32 - ETA: 19s - loss: 0.32 - ETA: 20s - loss: 0.35 - ETA: 19s - loss: 0.36 - ETA: 19s - loss: 0.39 - ETA: 20s - loss: 0.38 - ETA: 19s - loss: 0.38 - ETA: 21s - loss: 0.38 - ETA: 21s - loss: 0.38 - ETA: 23s - loss: 0.38 - ETA: 24s - loss: 0.38 - ETA: 24s - loss: 0.38 - ETA: 24s - loss: 0.38 - ETA: 24s - loss: 0.38 - ETA: 24s - loss: 0.38 - ETA: 23s - loss: 0.38 - ETA: 24s - loss: 0.38 - ETA: 24s - loss: 0.39 - ETA: 24s - loss: 0.39 - ETA: 23s - loss: 0.39 - ETA: 23s - loss: 0.39 - ETA: 23s - loss: 0.39 - ETA: 24s - loss: 0.39 - ETA: 24s - loss: 0.39 - ETA: 23s - loss: 0.39 - ETA: 23s - loss: 0.39 - ETA: 24s - loss: 0.39 - ETA: 24s - loss: 0.39 - ETA: 24s - loss: 0.39 - ETA: 24s - loss: 0.38 - ETA: 24s - loss: 0.39 - ETA: 23s - loss: 0.39 - ETA: 23s - loss: 0.39 - ETA: 23s - loss: 0.39 - ETA: 23s - loss: 0.39 - ETA: 22s - loss: 0.39 - ETA: 22s - loss: 0.39 - ETA: 22s - loss: 0.39 - ETA: 22s - loss: 0.39 - ETA: 22s - loss: 0.39 - ETA: 22s - loss: 0.39 - ETA: 22s - loss: 0.38 - ETA: 22s - loss: 0.38 - ETA: 22s - loss: 0.38 - ETA: 22s - loss: 0.38 - ETA: 22s - loss: 0.38 - ETA: 21s - loss: 0.38 - ETA: 21s - loss: 0.38 - ETA: 21s - loss: 0.38 - ETA: 21s - loss: 0.38 - ETA: 21s - loss: 0.38 - ETA: 20s - loss: 0.38 - ETA: 20s - loss: 0.38 - ETA: 20s - loss: 0.38 - ETA: 20s - loss: 0.38 - ETA: 20s - loss: 0.38 - ETA: 20s - loss: 0.38 - ETA: 20s - loss: 0.38 - ETA: 20s - loss: 0.38 - ETA: 20s - loss: 0.38 - ETA: 20s - loss: 0.38 - ETA: 20s - loss: 0.38 - ETA: 20s - loss: 0.38 - ETA: 20s - loss: 0.38 - ETA: 20s - loss: 0.38 - ETA: 20s - loss: 0.38 - ETA: 20s - loss: 0.38 - ETA: 20s - loss: 0.38 - ETA: 20s - loss: 0.38 - ETA: 20s - loss: 0.38 - ETA: 20s - loss: 0.38 - ETA: 20s - loss: 0.38 - ETA: 20s - loss: 0.38 - ETA: 20s - loss: 0.38 - ETA: 20s - loss: 0.38 - ETA: 20s - loss: 0.38 - ETA: 20s - loss: 0.38 - ETA: 20s - loss: 0.38 - ETA: 20s - loss: 0.38 - ETA: 20s - loss: 0.38 - ETA: 20s - loss: 0.38 - ETA: 20s - loss: 0.38 - ETA: 20s - loss: 0.38 - ETA: 20s - loss: 0.38 - ETA: 20s - loss: 0.38 - ETA: 20s - loss: 0.38 - ETA: 20s - loss: 0.38 - ETA: 20s - loss: 0.38 - ETA: 20s - loss: 0.38 - ETA: 20s - loss: 0.38 - ETA: 20s - loss: 0.38 - ETA: 20s - loss: 0.38 - ETA: 20s - loss: 0.38 - ETA: 20s - loss: 0.38 - ETA: 20s - loss: 0.38 - ETA: 20s - loss: 0.38 - ETA: 20s - loss: 0.38 - ETA: 20s - loss: 0.38 - ETA: 20s - loss: 0.38 - ETA: 20s - loss: 0.38 - ETA: 20s - loss: 0.38 - ETA: 20s - loss: 0.38 - ETA: 20s - loss: 0.38 - ETA: 20s - loss: 0.38 - ETA: 20s - loss: 0.38 - ETA: 20s - loss: 0.38 - ETA: 20s - loss: 0.38 - ETA: 19s - loss: 0.38 - ETA: 19s - loss: 0.38 - ETA: 19s - loss: 0.38 - ETA: 19s - loss: 0.38 - ETA: 19s - loss: 0.38 - ETA: 19s - loss: 0.38 - ETA: 19s - loss: 0.38 - ETA: 19s - loss: 0.38 - ETA: 19s - loss: 0.38 - ETA: 18s - loss: 0.38 - ETA: 18s - loss: 0.38 - ETA: 18s - loss: 0.38 - ETA: 18s - loss: 0.38 - ETA: 18s - loss: 0.38 - ETA: 18s - loss: 0.38 - ETA: 18s - loss: 0.38 - ETA: 18s - loss: 0.38 - ETA: 18s - loss: 0.38 - ETA: 18s - loss: 0.38 - ETA: 17s - loss: 0.38 - ETA: 17s - loss: 0.38 - ETA: 17s - loss: 0.38 - ETA: 17s - loss: 0.38 - ETA: 17s - loss: 0.38 - ETA: 17s - loss: 0.38 - ETA: 17s - loss: 0.38 - ETA: 17s - loss: 0.38 - ETA: 17s - loss: 0.38 - ETA: 17s - loss: 0.38 - ETA: 16s - loss: 0.38 - ETA: 16s - loss: 0.38 - ETA: 16s - loss: 0.38 - ETA: 16s - loss: 0.38 - ETA: 16s - loss: 0.38 - ETA: 16s - loss: 0.38 - ETA: 16s - loss: 0.38 - ETA: 16s - loss: 0.38 - ETA: 16s - loss: 0.38 - ETA: 16s - loss: 0.38 - ETA: 16s - loss: 0.38 - ETA: 16s - loss: 0.38 - ETA: 15s - loss: 0.38 - ETA: 15s - loss: 0.38 - ETA: 15s - loss: 0.38 - ETA: 15s - loss: 0.38 - ETA: 15s - loss: 0.38 - ETA: 15s - loss: 0.38 - ETA: 15s - loss: 0.38 - ETA: 15s - loss: 0.38 - ETA: 15s - loss: 0.38 - ETA: 15s - loss: 0.38 - ETA: 15s - loss: 0.38 - ETA: 15s - loss: 0.38 - ETA: 15s - loss: 0.38 - ETA: 14s - loss: 0.38 - ETA: 14s - loss: 0.38 - ETA: 14s - loss: 0.38 - ETA: 14s - loss: 0.38 - ETA: 14s - loss: 0.38 - ETA: 14s - loss: 0.38 - ETA: 14s - loss: 0.38 - ETA: 14s - loss: 0.38 - ETA: 14s - loss: 0.38 - ETA: 14s - loss: 0.38 - ETA: 14s - loss: 0.38 - ETA: 14s - loss: 0.38 - ETA: 13s - loss: 0.38 - ETA: 13s - loss: 0.38 - ETA: 13s - loss: 0.38 - ETA: 13s - loss: 0.38 - ETA: 13s - loss: 0.38 - ETA: 13s - loss: 0.38 - ETA: 13s - loss: 0.38 - ETA: 13s - loss: 0.38 - ETA: 13s - loss: 0.38 - ETA: 13s - loss: 0.38 - ETA: 13s - loss: 0.38 - ETA: 13s - loss: 0.38 - ETA: 13s - loss: 0.38 - ETA: 12s - loss: 0.38 - ETA: 12s - loss: 0.38 - ETA: 12s - loss: 0.38 - ETA: 12s - loss: 0.38 - ETA: 12s - loss: 0.38 - ETA: 12s - loss: 0.38 - ETA: 12s - loss: 0.38 - ETA: 12s - loss: 0.38 - ETA: 12s - loss: 0.38 - ETA: 12s - loss: 0.38 - ETA: 12s - loss: 0.38 - ETA: 12s - loss: 0.38 - ETA: 12s - loss: 0.38 - ETA: 11s - loss: 0.38 - ETA: 11s - loss: 0.38 - ETA: 11s - loss: 0.38 - ETA: 11s - loss: 0.38 - ETA: 11s - loss: 0.38 - ETA: 11s - loss: 0.38 - ETA: 11s - loss: 0.38 - ETA: 11s - loss: 0.38 - ETA: 11s - loss: 0.38 - ETA: 11s - loss: 0.38 - ETA: 11s - loss: 0.38 - ETA: 11s - loss: 0.38 - ETA: 11s - loss: 0.38 - ETA: 10s - loss: 0.38 - ETA: 10s - loss: 0.38 - ETA: 10s - loss: 0.38 - ETA: 10s - loss: 0.38 - ETA: 10s - loss: 0.38 - ETA: 10s - loss: 0.38 - ETA: 10s - loss: 0.38 - ETA: 10s - loss: 0.38 - ETA: 10s - loss: 0.38 - ETA: 10s - loss: 0.38 - ETA: 10s - loss: 0.38 - ETA: 10s - loss: 0.38 - ETA: 9s - loss: 0.3826 - ETA: 9s - loss: 0.382 - ETA: 9s - loss: 0.382 - ETA: 9s - loss: 0.382 - ETA: 9s - loss: 0.382 - ETA: 9s - loss: 0.382 - ETA: 9s - loss: 0.382 - ETA: 9s - loss: 0.382 - ETA: 9s - loss: 0.382 - ETA: 9s - loss: 0.382 - ETA: 9s - loss: 0.382 - ETA: 9s - loss: 0.382 - ETA: 8s - loss: 0.382 - ETA: 8s - loss: 0.382 - ETA: 8s - loss: 0.382 - ETA: 8s - loss: 0.382 - ETA: 8s - loss: 0.382 - ETA: 8s - loss: 0.382 - ETA: 8s - loss: 0.382 - ETA: 8s - loss: 0.383 - ETA: 8s - loss: 0.383 - ETA: 8s - loss: 0.382 - ETA: 8s - loss: 0.383 - ETA: 8s - loss: 0.383 - ETA: 8s - loss: 0.383 - ETA: 7s - loss: 0.383 - ETA: 7s - loss: 0.383 - ETA: 7s - loss: 0.383 - ETA: 7s - loss: 0.383 - ETA: 7s - loss: 0.383 - ETA: 7s - loss: 0.383 - ETA: 7s - loss: 0.383 - ETA: 7s - loss: 0.383 - ETA: 7s - loss: 0.383 - ETA: 7s - loss: 0.383 - ETA: 7s - loss: 0.383 - ETA: 7s - loss: 0.383 - ETA: 7s - loss: 0.383 - ETA: 6s - loss: 0.383 - ETA: 6s - loss: 0.383 - ETA: 6s - loss: 0.383 - ETA: 6s - loss: 0.383 - ETA: 6s - loss: 0.383 - ETA: 6s - loss: 0.383 - ETA: 6s - loss: 0.382 - ETA: 6s - loss: 0.382 - ETA: 6s - loss: 0.383 - ETA: 6s - loss: 0.383 - ETA: 6s - loss: 0.383 - ETA: 6s - loss: 0.383 - ETA: 6s - loss: 0.383 - ETA: 6s - loss: 0.383 - ETA: 5s - loss: 0.383 - ETA: 5s - loss: 0.383 - ETA: 5s - loss: 0.383 - ETA: 5s - loss: 0.383 - ETA: 5s - loss: 0.383 - ETA: 5s - loss: 0.383 - ETA: 5s - loss: 0.383 - ETA: 5s - loss: 0.383 - ETA: 5s - loss: 0.383 - ETA: 5s - loss: 0.383 - ETA: 5s - loss: 0.383 - ETA: 5s - loss: 0.383 - ETA: 5s - loss: 0.383 - ETA: 5s - loss: 0.383 - ETA: 4s - loss: 0.383 - ETA: 4s - loss: 0.383 - ETA: 4s - loss: 0.382 - ETA: 4s - loss: 0.382 - ETA: 4s - loss: 0.382 - ETA: 4s - loss: 0.382 - ETA: 4s - loss: 0.382 - ETA: 4s - loss: 0.382 - ETA: 4s - loss: 0.382 - ETA: 4s - loss: 0.383 - ETA: 4s - loss: 0.383 - ETA: 4s - loss: 0.383 - ETA: 4s - loss: 0.383 - ETA: 3s - loss: 0.383 - ETA: 3s - loss: 0.383 - ETA: 3s - loss: 0.383 - ETA: 3s - loss: 0.383 - ETA: 3s - loss: 0.383 - ETA: 3s - loss: 0.383 - ETA: 3s - loss: 0.383 - ETA: 3s - loss: 0.383 - ETA: 3s - loss: 0.383 - ETA: 3s - loss: 0.383 - ETA: 3s - loss: 0.382 - ETA: 3s - loss: 0.382 - ETA: 3s - loss: 0.382 - ETA: 2s - loss: 0.382 - ETA: 2s - loss: 0.382 - ETA: 2s - loss: 0.382 - ETA: 2s - loss: 0.382 - ETA: 2s - loss: 0.382 - ETA: 2s - loss: 0.383 - ETA: 2s - loss: 0.383 - ETA: 2s - loss: 0.383 - ETA: 2s - loss: 0.383 - ETA: 2s - loss: 0.383 - ETA: 2s - loss: 0.383 - ETA: 2s - loss: 0.383 - ETA: 2s - loss: 0.383 - ETA: 2s - loss: 0.383 - ETA: 2s - loss: 0.383 - ETA: 2s - loss: 0.383 - ETA: 1s - loss: 0.383 - ETA: 1s - loss: 0.383 - ETA: 1s - loss: 0.383 - ETA: 1s - loss: 0.383 - ETA: 1s - loss: 0.383 - ETA: 1s - loss: 0.383 - ETA: 1s - loss: 0.383 - ETA: 1s - loss: 0.3838"
     ]
    },
    {
     "name": "stdout",
     "output_type": "stream",
     "text": [
      "55381/55381 [==============================] - ETA: 1s - loss: 0.383 - ETA: 1s - loss: 0.383 - ETA: 1s - loss: 0.383 - ETA: 1s - loss: 0.383 - ETA: 1s - loss: 0.383 - ETA: 1s - loss: 0.383 - ETA: 0s - loss: 0.383 - ETA: 0s - loss: 0.383 - ETA: 0s - loss: 0.383 - ETA: 0s - loss: 0.383 - ETA: 0s - loss: 0.383 - ETA: 0s - loss: 0.383 - ETA: 0s - loss: 0.383 - ETA: 0s - loss: 0.383 - ETA: 0s - loss: 0.383 - ETA: 0s - loss: 0.383 - ETA: 0s - loss: 0.383 - ETA: 0s - loss: 0.383 - ETA: 0s - loss: 0.383 - ETA: 0s - loss: 0.383 - ETA: 0s - loss: 0.383 - ETA: 0s - loss: 0.383 - ETA: 0s - loss: 0.383 - ETA: 0s - loss: 0.383 - ETA: 0s - loss: 0.383 - ETA: 0s - loss: 0.383 - ETA: 0s - loss: 0.383 - 23s 410us/step - loss: 0.3837 - val_loss: 0.3803\n",
      "Epoch 39/50\n",
      "52800/55381 [===========================>..] - ETA: 13s - loss: 0.43 - ETA: 17s - loss: 0.37 - ETA: 19s - loss: 0.37 - ETA: 17s - loss: 0.39 - ETA: 21s - loss: 0.38 - ETA: 20s - loss: 0.39 - ETA: 21s - loss: 0.38 - ETA: 21s - loss: 0.38 - ETA: 21s - loss: 0.38 - ETA: 21s - loss: 0.37 - ETA: 21s - loss: 0.38 - ETA: 22s - loss: 0.38 - ETA: 22s - loss: 0.38 - ETA: 20s - loss: 0.38 - ETA: 21s - loss: 0.38 - ETA: 21s - loss: 0.38 - ETA: 21s - loss: 0.38 - ETA: 21s - loss: 0.38 - ETA: 21s - loss: 0.38 - ETA: 21s - loss: 0.38 - ETA: 21s - loss: 0.38 - ETA: 20s - loss: 0.38 - ETA: 20s - loss: 0.39 - ETA: 20s - loss: 0.39 - ETA: 19s - loss: 0.38 - ETA: 19s - loss: 0.38 - ETA: 19s - loss: 0.38 - ETA: 19s - loss: 0.38 - ETA: 19s - loss: 0.38 - ETA: 19s - loss: 0.38 - ETA: 19s - loss: 0.38 - ETA: 19s - loss: 0.38 - ETA: 18s - loss: 0.38 - ETA: 18s - loss: 0.38 - ETA: 18s - loss: 0.38 - ETA: 18s - loss: 0.38 - ETA: 18s - loss: 0.38 - ETA: 18s - loss: 0.38 - ETA: 18s - loss: 0.38 - ETA: 18s - loss: 0.38 - ETA: 18s - loss: 0.38 - ETA: 18s - loss: 0.38 - ETA: 18s - loss: 0.38 - ETA: 18s - loss: 0.38 - ETA: 18s - loss: 0.38 - ETA: 18s - loss: 0.38 - ETA: 19s - loss: 0.38 - ETA: 19s - loss: 0.38 - ETA: 18s - loss: 0.38 - ETA: 18s - loss: 0.38 - ETA: 18s - loss: 0.38 - ETA: 18s - loss: 0.38 - ETA: 18s - loss: 0.38 - ETA: 18s - loss: 0.38 - ETA: 18s - loss: 0.38 - ETA: 18s - loss: 0.38 - ETA: 18s - loss: 0.38 - ETA: 18s - loss: 0.38 - ETA: 18s - loss: 0.38 - ETA: 18s - loss: 0.38 - ETA: 18s - loss: 0.38 - ETA: 18s - loss: 0.38 - ETA: 18s - loss: 0.38 - ETA: 18s - loss: 0.38 - ETA: 18s - loss: 0.38 - ETA: 18s - loss: 0.38 - ETA: 18s - loss: 0.38 - ETA: 18s - loss: 0.38 - ETA: 18s - loss: 0.38 - ETA: 18s - loss: 0.38 - ETA: 17s - loss: 0.38 - ETA: 17s - loss: 0.38 - ETA: 17s - loss: 0.38 - ETA: 17s - loss: 0.38 - ETA: 17s - loss: 0.38 - ETA: 17s - loss: 0.38 - ETA: 17s - loss: 0.38 - ETA: 17s - loss: 0.38 - ETA: 17s - loss: 0.38 - ETA: 17s - loss: 0.38 - ETA: 17s - loss: 0.38 - ETA: 17s - loss: 0.38 - ETA: 17s - loss: 0.38 - ETA: 17s - loss: 0.38 - ETA: 17s - loss: 0.38 - ETA: 17s - loss: 0.38 - ETA: 17s - loss: 0.38 - ETA: 17s - loss: 0.38 - ETA: 17s - loss: 0.38 - ETA: 17s - loss: 0.38 - ETA: 16s - loss: 0.38 - ETA: 16s - loss: 0.38 - ETA: 16s - loss: 0.38 - ETA: 16s - loss: 0.38 - ETA: 16s - loss: 0.38 - ETA: 16s - loss: 0.38 - ETA: 16s - loss: 0.38 - ETA: 16s - loss: 0.38 - ETA: 16s - loss: 0.38 - ETA: 16s - loss: 0.38 - ETA: 16s - loss: 0.38 - ETA: 16s - loss: 0.38 - ETA: 16s - loss: 0.38 - ETA: 16s - loss: 0.38 - ETA: 16s - loss: 0.38 - ETA: 16s - loss: 0.38 - ETA: 15s - loss: 0.38 - ETA: 15s - loss: 0.38 - ETA: 15s - loss: 0.38 - ETA: 15s - loss: 0.38 - ETA: 15s - loss: 0.38 - ETA: 15s - loss: 0.38 - ETA: 15s - loss: 0.38 - ETA: 15s - loss: 0.38 - ETA: 15s - loss: 0.38 - ETA: 15s - loss: 0.38 - ETA: 15s - loss: 0.38 - ETA: 15s - loss: 0.38 - ETA: 15s - loss: 0.38 - ETA: 14s - loss: 0.38 - ETA: 14s - loss: 0.38 - ETA: 14s - loss: 0.38 - ETA: 14s - loss: 0.38 - ETA: 14s - loss: 0.38 - ETA: 14s - loss: 0.38 - ETA: 14s - loss: 0.38 - ETA: 14s - loss: 0.38 - ETA: 14s - loss: 0.38 - ETA: 14s - loss: 0.38 - ETA: 14s - loss: 0.38 - ETA: 14s - loss: 0.38 - ETA: 14s - loss: 0.38 - ETA: 14s - loss: 0.38 - ETA: 14s - loss: 0.38 - ETA: 13s - loss: 0.38 - ETA: 13s - loss: 0.38 - ETA: 13s - loss: 0.38 - ETA: 13s - loss: 0.38 - ETA: 13s - loss: 0.38 - ETA: 13s - loss: 0.38 - ETA: 13s - loss: 0.38 - ETA: 13s - loss: 0.38 - ETA: 13s - loss: 0.38 - ETA: 13s - loss: 0.38 - ETA: 13s - loss: 0.38 - ETA: 13s - loss: 0.38 - ETA: 13s - loss: 0.38 - ETA: 13s - loss: 0.38 - ETA: 13s - loss: 0.38 - ETA: 13s - loss: 0.38 - ETA: 13s - loss: 0.38 - ETA: 13s - loss: 0.38 - ETA: 12s - loss: 0.38 - ETA: 12s - loss: 0.38 - ETA: 12s - loss: 0.38 - ETA: 12s - loss: 0.38 - ETA: 12s - loss: 0.38 - ETA: 12s - loss: 0.38 - ETA: 12s - loss: 0.38 - ETA: 12s - loss: 0.38 - ETA: 12s - loss: 0.38 - ETA: 12s - loss: 0.38 - ETA: 12s - loss: 0.38 - ETA: 12s - loss: 0.38 - ETA: 12s - loss: 0.38 - ETA: 12s - loss: 0.38 - ETA: 11s - loss: 0.38 - ETA: 11s - loss: 0.38 - ETA: 11s - loss: 0.38 - ETA: 11s - loss: 0.38 - ETA: 11s - loss: 0.38 - ETA: 11s - loss: 0.38 - ETA: 11s - loss: 0.38 - ETA: 11s - loss: 0.38 - ETA: 11s - loss: 0.38 - ETA: 11s - loss: 0.38 - ETA: 11s - loss: 0.38 - ETA: 11s - loss: 0.38 - ETA: 11s - loss: 0.38 - ETA: 11s - loss: 0.38 - ETA: 11s - loss: 0.38 - ETA: 11s - loss: 0.38 - ETA: 10s - loss: 0.38 - ETA: 10s - loss: 0.38 - ETA: 10s - loss: 0.38 - ETA: 10s - loss: 0.38 - ETA: 10s - loss: 0.38 - ETA: 10s - loss: 0.38 - ETA: 10s - loss: 0.38 - ETA: 10s - loss: 0.38 - ETA: 10s - loss: 0.38 - ETA: 10s - loss: 0.38 - ETA: 10s - loss: 0.38 - ETA: 10s - loss: 0.38 - ETA: 10s - loss: 0.38 - ETA: 10s - loss: 0.38 - ETA: 10s - loss: 0.38 - ETA: 10s - loss: 0.38 - ETA: 9s - loss: 0.3829 - ETA: 9s - loss: 0.382 - ETA: 9s - loss: 0.381 - ETA: 9s - loss: 0.382 - ETA: 9s - loss: 0.382 - ETA: 9s - loss: 0.382 - ETA: 9s - loss: 0.383 - ETA: 9s - loss: 0.383 - ETA: 9s - loss: 0.383 - ETA: 9s - loss: 0.383 - ETA: 9s - loss: 0.382 - ETA: 9s - loss: 0.383 - ETA: 9s - loss: 0.382 - ETA: 8s - loss: 0.383 - ETA: 8s - loss: 0.383 - ETA: 8s - loss: 0.383 - ETA: 8s - loss: 0.383 - ETA: 8s - loss: 0.382 - ETA: 8s - loss: 0.383 - ETA: 8s - loss: 0.382 - ETA: 8s - loss: 0.382 - ETA: 8s - loss: 0.383 - ETA: 8s - loss: 0.383 - ETA: 8s - loss: 0.382 - ETA: 8s - loss: 0.382 - ETA: 8s - loss: 0.383 - ETA: 7s - loss: 0.382 - ETA: 7s - loss: 0.382 - ETA: 7s - loss: 0.382 - ETA: 7s - loss: 0.382 - ETA: 7s - loss: 0.382 - ETA: 7s - loss: 0.382 - ETA: 7s - loss: 0.382 - ETA: 7s - loss: 0.382 - ETA: 7s - loss: 0.382 - ETA: 7s - loss: 0.382 - ETA: 7s - loss: 0.382 - ETA: 7s - loss: 0.382 - ETA: 7s - loss: 0.382 - ETA: 7s - loss: 0.382 - ETA: 7s - loss: 0.382 - ETA: 7s - loss: 0.382 - ETA: 7s - loss: 0.382 - ETA: 7s - loss: 0.382 - ETA: 6s - loss: 0.382 - ETA: 6s - loss: 0.382 - ETA: 6s - loss: 0.382 - ETA: 6s - loss: 0.383 - ETA: 6s - loss: 0.383 - ETA: 6s - loss: 0.382 - ETA: 6s - loss: 0.382 - ETA: 6s - loss: 0.382 - ETA: 6s - loss: 0.383 - ETA: 6s - loss: 0.383 - ETA: 6s - loss: 0.382 - ETA: 6s - loss: 0.383 - ETA: 6s - loss: 0.383 - ETA: 6s - loss: 0.383 - ETA: 6s - loss: 0.383 - ETA: 5s - loss: 0.383 - ETA: 5s - loss: 0.383 - ETA: 5s - loss: 0.383 - ETA: 5s - loss: 0.383 - ETA: 5s - loss: 0.383 - ETA: 5s - loss: 0.383 - ETA: 5s - loss: 0.383 - ETA: 5s - loss: 0.383 - ETA: 5s - loss: 0.383 - ETA: 5s - loss: 0.383 - ETA: 5s - loss: 0.383 - ETA: 5s - loss: 0.383 - ETA: 5s - loss: 0.383 - ETA: 5s - loss: 0.383 - ETA: 5s - loss: 0.383 - ETA: 5s - loss: 0.383 - ETA: 5s - loss: 0.383 - ETA: 4s - loss: 0.383 - ETA: 4s - loss: 0.382 - ETA: 4s - loss: 0.382 - ETA: 4s - loss: 0.382 - ETA: 4s - loss: 0.383 - ETA: 4s - loss: 0.382 - ETA: 4s - loss: 0.382 - ETA: 4s - loss: 0.382 - ETA: 4s - loss: 0.382 - ETA: 4s - loss: 0.382 - ETA: 4s - loss: 0.382 - ETA: 4s - loss: 0.382 - ETA: 4s - loss: 0.382 - ETA: 4s - loss: 0.382 - ETA: 4s - loss: 0.382 - ETA: 4s - loss: 0.382 - ETA: 4s - loss: 0.382 - ETA: 4s - loss: 0.382 - ETA: 3s - loss: 0.383 - ETA: 3s - loss: 0.383 - ETA: 3s - loss: 0.383 - ETA: 3s - loss: 0.383 - ETA: 3s - loss: 0.383 - ETA: 3s - loss: 0.383 - ETA: 3s - loss: 0.383 - ETA: 3s - loss: 0.383 - ETA: 3s - loss: 0.382 - ETA: 3s - loss: 0.382 - ETA: 3s - loss: 0.382 - ETA: 3s - loss: 0.383 - ETA: 3s - loss: 0.383 - ETA: 3s - loss: 0.382 - ETA: 3s - loss: 0.382 - ETA: 2s - loss: 0.382 - ETA: 2s - loss: 0.382 - ETA: 2s - loss: 0.382 - ETA: 2s - loss: 0.382 - ETA: 2s - loss: 0.382 - ETA: 2s - loss: 0.382 - ETA: 2s - loss: 0.382 - ETA: 2s - loss: 0.382 - ETA: 2s - loss: 0.382 - ETA: 2s - loss: 0.382 - ETA: 2s - loss: 0.382 - ETA: 2s - loss: 0.382 - ETA: 2s - loss: 0.382 - ETA: 2s - loss: 0.382 - ETA: 2s - loss: 0.382 - ETA: 2s - loss: 0.382 - ETA: 1s - loss: 0.382 - ETA: 1s - loss: 0.382 - ETA: 1s - loss: 0.382 - ETA: 1s - loss: 0.382 - ETA: 1s - loss: 0.382 - ETA: 1s - loss: 0.382 - ETA: 1s - loss: 0.382 - ETA: 1s - loss: 0.381 - ETA: 1s - loss: 0.381 - ETA: 1s - loss: 0.381 - ETA: 1s - loss: 0.381 - ETA: 1s - loss: 0.382 - ETA: 1s - loss: 0.382 - ETA: 1s - loss: 0.382 - ETA: 1s - loss: 0.382 - ETA: 1s - loss: 0.382 - ETA: 1s - loss: 0.381955381/55381 [==============================] - ETA: 0s - loss: 0.381 - ETA: 0s - loss: 0.381 - ETA: 0s - loss: 0.381 - ETA: 0s - loss: 0.381 - ETA: 0s - loss: 0.381 - ETA: 0s - loss: 0.382 - ETA: 0s - loss: 0.381 - ETA: 0s - loss: 0.381 - ETA: 0s - loss: 0.381 - ETA: 0s - loss: 0.381 - ETA: 0s - loss: 0.381 - ETA: 0s - loss: 0.381 - ETA: 0s - loss: 0.382 - ETA: 0s - loss: 0.382 - ETA: 0s - loss: 0.382 - ETA: 0s - loss: 0.382 - ETA: 0s - loss: 0.382 - 22s 397us/step - loss: 0.3820 - val_loss: 0.3821\n",
      "Epoch 40/50\n"
     ]
    },
    {
     "name": "stdout",
     "output_type": "stream",
     "text": [
      "51392/55381 [==========================>...] - ETA: 13s - loss: 0.35 - ETA: 26s - loss: 0.36 - ETA: 29s - loss: 0.35 - ETA: 33s - loss: 0.36 - ETA: 36s - loss: 0.35 - ETA: 34s - loss: 0.34 - ETA: 29s - loss: 0.38 - ETA: 29s - loss: 0.38 - ETA: 29s - loss: 0.38 - ETA: 28s - loss: 0.38 - ETA: 28s - loss: 0.38 - ETA: 27s - loss: 0.37 - ETA: 27s - loss: 0.37 - ETA: 28s - loss: 0.37 - ETA: 28s - loss: 0.37 - ETA: 29s - loss: 0.37 - ETA: 29s - loss: 0.37 - ETA: 28s - loss: 0.36 - ETA: 29s - loss: 0.37 - ETA: 30s - loss: 0.36 - ETA: 29s - loss: 0.37 - ETA: 29s - loss: 0.36 - ETA: 29s - loss: 0.36 - ETA: 28s - loss: 0.37 - ETA: 27s - loss: 0.36 - ETA: 27s - loss: 0.36 - ETA: 26s - loss: 0.37 - ETA: 26s - loss: 0.37 - ETA: 25s - loss: 0.37 - ETA: 25s - loss: 0.37 - ETA: 26s - loss: 0.37 - ETA: 25s - loss: 0.38 - ETA: 25s - loss: 0.38 - ETA: 25s - loss: 0.37 - ETA: 24s - loss: 0.38 - ETA: 24s - loss: 0.38 - ETA: 24s - loss: 0.38 - ETA: 24s - loss: 0.38 - ETA: 23s - loss: 0.38 - ETA: 24s - loss: 0.38 - ETA: 23s - loss: 0.38 - ETA: 23s - loss: 0.38 - ETA: 23s - loss: 0.38 - ETA: 23s - loss: 0.38 - ETA: 23s - loss: 0.38 - ETA: 23s - loss: 0.38 - ETA: 23s - loss: 0.37 - ETA: 23s - loss: 0.37 - ETA: 23s - loss: 0.37 - ETA: 23s - loss: 0.37 - ETA: 23s - loss: 0.38 - ETA: 23s - loss: 0.37 - ETA: 22s - loss: 0.38 - ETA: 22s - loss: 0.38 - ETA: 22s - loss: 0.38 - ETA: 23s - loss: 0.37 - ETA: 23s - loss: 0.38 - ETA: 23s - loss: 0.37 - ETA: 22s - loss: 0.37 - ETA: 22s - loss: 0.37 - ETA: 22s - loss: 0.37 - ETA: 22s - loss: 0.37 - ETA: 22s - loss: 0.38 - ETA: 22s - loss: 0.38 - ETA: 22s - loss: 0.38 - ETA: 22s - loss: 0.38 - ETA: 22s - loss: 0.38 - ETA: 22s - loss: 0.38 - ETA: 22s - loss: 0.38 - ETA: 22s - loss: 0.38 - ETA: 22s - loss: 0.38 - ETA: 22s - loss: 0.38 - ETA: 22s - loss: 0.38 - ETA: 22s - loss: 0.38 - ETA: 22s - loss: 0.38 - ETA: 22s - loss: 0.38 - ETA: 22s - loss: 0.38 - ETA: 22s - loss: 0.38 - ETA: 22s - loss: 0.38 - ETA: 21s - loss: 0.38 - ETA: 21s - loss: 0.38 - ETA: 21s - loss: 0.38 - ETA: 21s - loss: 0.38 - ETA: 21s - loss: 0.38 - ETA: 21s - loss: 0.38 - ETA: 21s - loss: 0.38 - ETA: 21s - loss: 0.38 - ETA: 21s - loss: 0.38 - ETA: 21s - loss: 0.38 - ETA: 21s - loss: 0.38 - ETA: 20s - loss: 0.38 - ETA: 20s - loss: 0.38 - ETA: 20s - loss: 0.38 - ETA: 20s - loss: 0.38 - ETA: 20s - loss: 0.38 - ETA: 20s - loss: 0.38 - ETA: 20s - loss: 0.38 - ETA: 20s - loss: 0.38 - ETA: 20s - loss: 0.38 - ETA: 20s - loss: 0.38 - ETA: 20s - loss: 0.38 - ETA: 19s - loss: 0.38 - ETA: 19s - loss: 0.38 - ETA: 19s - loss: 0.38 - ETA: 19s - loss: 0.38 - ETA: 19s - loss: 0.38 - ETA: 19s - loss: 0.38 - ETA: 19s - loss: 0.38 - ETA: 19s - loss: 0.38 - ETA: 18s - loss: 0.38 - ETA: 18s - loss: 0.38 - ETA: 18s - loss: 0.38 - ETA: 18s - loss: 0.38 - ETA: 18s - loss: 0.38 - ETA: 18s - loss: 0.38 - ETA: 18s - loss: 0.38 - ETA: 18s - loss: 0.38 - ETA: 18s - loss: 0.38 - ETA: 18s - loss: 0.38 - ETA: 18s - loss: 0.38 - ETA: 17s - loss: 0.38 - ETA: 17s - loss: 0.38 - ETA: 17s - loss: 0.38 - ETA: 17s - loss: 0.38 - ETA: 17s - loss: 0.38 - ETA: 17s - loss: 0.38 - ETA: 17s - loss: 0.38 - ETA: 17s - loss: 0.38 - ETA: 17s - loss: 0.38 - ETA: 17s - loss: 0.38 - ETA: 16s - loss: 0.38 - ETA: 16s - loss: 0.38 - ETA: 16s - loss: 0.38 - ETA: 16s - loss: 0.38 - ETA: 16s - loss: 0.38 - ETA: 16s - loss: 0.38 - ETA: 16s - loss: 0.38 - ETA: 16s - loss: 0.38 - ETA: 16s - loss: 0.38 - ETA: 16s - loss: 0.38 - ETA: 16s - loss: 0.38 - ETA: 16s - loss: 0.38 - ETA: 16s - loss: 0.38 - ETA: 15s - loss: 0.38 - ETA: 15s - loss: 0.38 - ETA: 15s - loss: 0.38 - ETA: 15s - loss: 0.38 - ETA: 15s - loss: 0.38 - ETA: 15s - loss: 0.38 - ETA: 15s - loss: 0.38 - ETA: 15s - loss: 0.38 - ETA: 15s - loss: 0.38 - ETA: 15s - loss: 0.38 - ETA: 15s - loss: 0.38 - ETA: 15s - loss: 0.38 - ETA: 15s - loss: 0.38 - ETA: 14s - loss: 0.38 - ETA: 14s - loss: 0.38 - ETA: 14s - loss: 0.38 - ETA: 14s - loss: 0.38 - ETA: 14s - loss: 0.38 - ETA: 14s - loss: 0.38 - ETA: 14s - loss: 0.38 - ETA: 14s - loss: 0.38 - ETA: 14s - loss: 0.38 - ETA: 14s - loss: 0.38 - ETA: 14s - loss: 0.38 - ETA: 14s - loss: 0.38 - ETA: 14s - loss: 0.38 - ETA: 13s - loss: 0.38 - ETA: 13s - loss: 0.38 - ETA: 13s - loss: 0.38 - ETA: 13s - loss: 0.38 - ETA: 13s - loss: 0.38 - ETA: 13s - loss: 0.38 - ETA: 13s - loss: 0.38 - ETA: 13s - loss: 0.38 - ETA: 13s - loss: 0.38 - ETA: 13s - loss: 0.38 - ETA: 13s - loss: 0.38 - ETA: 13s - loss: 0.38 - ETA: 12s - loss: 0.38 - ETA: 12s - loss: 0.38 - ETA: 12s - loss: 0.38 - ETA: 12s - loss: 0.38 - ETA: 12s - loss: 0.38 - ETA: 12s - loss: 0.38 - ETA: 12s - loss: 0.38 - ETA: 12s - loss: 0.38 - ETA: 12s - loss: 0.38 - ETA: 12s - loss: 0.38 - ETA: 12s - loss: 0.38 - ETA: 12s - loss: 0.38 - ETA: 11s - loss: 0.38 - ETA: 11s - loss: 0.38 - ETA: 11s - loss: 0.38 - ETA: 11s - loss: 0.38 - ETA: 11s - loss: 0.38 - ETA: 11s - loss: 0.38 - ETA: 11s - loss: 0.38 - ETA: 11s - loss: 0.38 - ETA: 11s - loss: 0.38 - ETA: 11s - loss: 0.38 - ETA: 11s - loss: 0.38 - ETA: 11s - loss: 0.38 - ETA: 10s - loss: 0.38 - ETA: 10s - loss: 0.38 - ETA: 10s - loss: 0.38 - ETA: 10s - loss: 0.38 - ETA: 10s - loss: 0.38 - ETA: 10s - loss: 0.38 - ETA: 10s - loss: 0.38 - ETA: 10s - loss: 0.38 - ETA: 10s - loss: 0.38 - ETA: 10s - loss: 0.38 - ETA: 10s - loss: 0.38 - ETA: 9s - loss: 0.3805 - ETA: 9s - loss: 0.380 - ETA: 9s - loss: 0.380 - ETA: 9s - loss: 0.381 - ETA: 9s - loss: 0.381 - ETA: 9s - loss: 0.381 - ETA: 9s - loss: 0.381 - ETA: 9s - loss: 0.381 - ETA: 9s - loss: 0.381 - ETA: 9s - loss: 0.381 - ETA: 9s - loss: 0.381 - ETA: 9s - loss: 0.381 - ETA: 9s - loss: 0.381 - ETA: 9s - loss: 0.381 - ETA: 8s - loss: 0.380 - ETA: 8s - loss: 0.380 - ETA: 8s - loss: 0.380 - ETA: 8s - loss: 0.381 - ETA: 8s - loss: 0.381 - ETA: 8s - loss: 0.380 - ETA: 8s - loss: 0.380 - ETA: 8s - loss: 0.380 - ETA: 8s - loss: 0.380 - ETA: 8s - loss: 0.380 - ETA: 8s - loss: 0.379 - ETA: 8s - loss: 0.379 - ETA: 8s - loss: 0.379 - ETA: 8s - loss: 0.379 - ETA: 7s - loss: 0.379 - ETA: 7s - loss: 0.380 - ETA: 7s - loss: 0.380 - ETA: 7s - loss: 0.380 - ETA: 7s - loss: 0.379 - ETA: 7s - loss: 0.379 - ETA: 7s - loss: 0.379 - ETA: 7s - loss: 0.379 - ETA: 7s - loss: 0.380 - ETA: 7s - loss: 0.379 - ETA: 7s - loss: 0.379 - ETA: 7s - loss: 0.379 - ETA: 7s - loss: 0.380 - ETA: 7s - loss: 0.380 - ETA: 6s - loss: 0.380 - ETA: 6s - loss: 0.380 - ETA: 6s - loss: 0.380 - ETA: 6s - loss: 0.379 - ETA: 6s - loss: 0.380 - ETA: 6s - loss: 0.379 - ETA: 6s - loss: 0.379 - ETA: 6s - loss: 0.380 - ETA: 6s - loss: 0.380 - ETA: 6s - loss: 0.380 - ETA: 6s - loss: 0.380 - ETA: 6s - loss: 0.380 - ETA: 6s - loss: 0.380 - ETA: 5s - loss: 0.380 - ETA: 5s - loss: 0.380 - ETA: 5s - loss: 0.380 - ETA: 5s - loss: 0.380 - ETA: 5s - loss: 0.380 - ETA: 5s - loss: 0.380 - ETA: 5s - loss: 0.380 - ETA: 5s - loss: 0.380 - ETA: 5s - loss: 0.380 - ETA: 5s - loss: 0.380 - ETA: 5s - loss: 0.380 - ETA: 5s - loss: 0.380 - ETA: 5s - loss: 0.380 - ETA: 5s - loss: 0.380 - ETA: 5s - loss: 0.380 - ETA: 4s - loss: 0.380 - ETA: 4s - loss: 0.379 - ETA: 4s - loss: 0.380 - ETA: 4s - loss: 0.379 - ETA: 4s - loss: 0.379 - ETA: 4s - loss: 0.380 - ETA: 4s - loss: 0.380 - ETA: 4s - loss: 0.380 - ETA: 4s - loss: 0.380 - ETA: 4s - loss: 0.380 - ETA: 4s - loss: 0.380 - ETA: 4s - loss: 0.380 - ETA: 4s - loss: 0.380 - ETA: 4s - loss: 0.380 - ETA: 4s - loss: 0.380 - ETA: 3s - loss: 0.380 - ETA: 3s - loss: 0.380 - ETA: 3s - loss: 0.380 - ETA: 3s - loss: 0.380 - ETA: 3s - loss: 0.380 - ETA: 3s - loss: 0.380 - ETA: 3s - loss: 0.380 - ETA: 3s - loss: 0.380 - ETA: 3s - loss: 0.380 - ETA: 3s - loss: 0.380 - ETA: 3s - loss: 0.380 - ETA: 3s - loss: 0.380 - ETA: 3s - loss: 0.380 - ETA: 3s - loss: 0.380 - ETA: 2s - loss: 0.381 - ETA: 2s - loss: 0.381 - ETA: 2s - loss: 0.381 - ETA: 2s - loss: 0.381 - ETA: 2s - loss: 0.381 - ETA: 2s - loss: 0.381 - ETA: 2s - loss: 0.381 - ETA: 2s - loss: 0.381 - ETA: 2s - loss: 0.381 - ETA: 2s - loss: 0.381 - ETA: 2s - loss: 0.381 - ETA: 2s - loss: 0.381 - ETA: 2s - loss: 0.381 - ETA: 2s - loss: 0.381 - ETA: 2s - loss: 0.381 - ETA: 2s - loss: 0.381 - ETA: 2s - loss: 0.381 - ETA: 2s - loss: 0.381 - ETA: 1s - loss: 0.381 - ETA: 1s - loss: 0.381 - ETA: 1s - loss: 0.381 - ETA: 1s - loss: 0.381 - ETA: 1s - loss: 0.381 - ETA: 1s - loss: 0.381 - ETA: 1s - loss: 0.3819"
     ]
    },
    {
     "name": "stdout",
     "output_type": "stream",
     "text": [
      "55381/55381 [==============================] - ETA: 1s - loss: 0.381 - ETA: 1s - loss: 0.381 - ETA: 1s - loss: 0.382 - ETA: 1s - loss: 0.382 - ETA: 1s - loss: 0.381 - ETA: 1s - loss: 0.381 - ETA: 1s - loss: 0.381 - ETA: 1s - loss: 0.381 - ETA: 1s - loss: 0.381 - ETA: 1s - loss: 0.381 - ETA: 1s - loss: 0.381 - ETA: 1s - loss: 0.381 - ETA: 0s - loss: 0.381 - ETA: 0s - loss: 0.381 - ETA: 0s - loss: 0.381 - ETA: 0s - loss: 0.381 - ETA: 0s - loss: 0.382 - ETA: 0s - loss: 0.382 - ETA: 0s - loss: 0.382 - ETA: 0s - loss: 0.382 - ETA: 0s - loss: 0.382 - ETA: 0s - loss: 0.382 - ETA: 0s - loss: 0.382 - ETA: 0s - loss: 0.382 - ETA: 0s - loss: 0.382 - ETA: 0s - loss: 0.382 - ETA: 0s - loss: 0.382 - ETA: 0s - loss: 0.382 - ETA: 0s - loss: 0.382 - ETA: 0s - loss: 0.382 - 23s 417us/step - loss: 0.3822 - val_loss: 0.3791\n",
      "Epoch 41/50\n",
      "51520/55381 [==========================>...] - ETA: 22s - loss: 0.30 - ETA: 22s - loss: 0.36 - ETA: 23s - loss: 0.36 - ETA: 26s - loss: 0.36 - ETA: 25s - loss: 0.36 - ETA: 25s - loss: 0.36 - ETA: 23s - loss: 0.36 - ETA: 25s - loss: 0.35 - ETA: 25s - loss: 0.36 - ETA: 25s - loss: 0.36 - ETA: 26s - loss: 0.36 - ETA: 27s - loss: 0.36 - ETA: 26s - loss: 0.35 - ETA: 25s - loss: 0.35 - ETA: 24s - loss: 0.35 - ETA: 25s - loss: 0.35 - ETA: 25s - loss: 0.35 - ETA: 25s - loss: 0.36 - ETA: 24s - loss: 0.36 - ETA: 23s - loss: 0.36 - ETA: 22s - loss: 0.35 - ETA: 22s - loss: 0.35 - ETA: 22s - loss: 0.35 - ETA: 22s - loss: 0.35 - ETA: 23s - loss: 0.35 - ETA: 23s - loss: 0.35 - ETA: 23s - loss: 0.36 - ETA: 24s - loss: 0.36 - ETA: 23s - loss: 0.35 - ETA: 23s - loss: 0.35 - ETA: 23s - loss: 0.35 - ETA: 23s - loss: 0.35 - ETA: 23s - loss: 0.35 - ETA: 22s - loss: 0.36 - ETA: 22s - loss: 0.36 - ETA: 22s - loss: 0.36 - ETA: 22s - loss: 0.36 - ETA: 21s - loss: 0.36 - ETA: 21s - loss: 0.36 - ETA: 22s - loss: 0.36 - ETA: 22s - loss: 0.36 - ETA: 22s - loss: 0.36 - ETA: 22s - loss: 0.36 - ETA: 21s - loss: 0.36 - ETA: 22s - loss: 0.37 - ETA: 22s - loss: 0.36 - ETA: 22s - loss: 0.36 - ETA: 22s - loss: 0.36 - ETA: 22s - loss: 0.36 - ETA: 22s - loss: 0.37 - ETA: 22s - loss: 0.37 - ETA: 21s - loss: 0.37 - ETA: 21s - loss: 0.37 - ETA: 21s - loss: 0.37 - ETA: 21s - loss: 0.37 - ETA: 21s - loss: 0.37 - ETA: 21s - loss: 0.37 - ETA: 21s - loss: 0.37 - ETA: 21s - loss: 0.37 - ETA: 21s - loss: 0.37 - ETA: 20s - loss: 0.37 - ETA: 20s - loss: 0.37 - ETA: 20s - loss: 0.37 - ETA: 20s - loss: 0.37 - ETA: 20s - loss: 0.37 - ETA: 20s - loss: 0.37 - ETA: 20s - loss: 0.37 - ETA: 20s - loss: 0.37 - ETA: 20s - loss: 0.37 - ETA: 20s - loss: 0.37 - ETA: 20s - loss: 0.37 - ETA: 20s - loss: 0.37 - ETA: 20s - loss: 0.37 - ETA: 20s - loss: 0.37 - ETA: 20s - loss: 0.37 - ETA: 20s - loss: 0.37 - ETA: 20s - loss: 0.37 - ETA: 20s - loss: 0.37 - ETA: 20s - loss: 0.37 - ETA: 20s - loss: 0.37 - ETA: 20s - loss: 0.37 - ETA: 19s - loss: 0.37 - ETA: 19s - loss: 0.37 - ETA: 19s - loss: 0.37 - ETA: 19s - loss: 0.37 - ETA: 20s - loss: 0.37 - ETA: 20s - loss: 0.37 - ETA: 20s - loss: 0.37 - ETA: 19s - loss: 0.37 - ETA: 19s - loss: 0.37 - ETA: 20s - loss: 0.37 - ETA: 20s - loss: 0.37 - ETA: 19s - loss: 0.37 - ETA: 19s - loss: 0.37 - ETA: 19s - loss: 0.37 - ETA: 19s - loss: 0.37 - ETA: 19s - loss: 0.37 - ETA: 19s - loss: 0.37 - ETA: 19s - loss: 0.37 - ETA: 19s - loss: 0.37 - ETA: 19s - loss: 0.37 - ETA: 19s - loss: 0.37 - ETA: 18s - loss: 0.37 - ETA: 18s - loss: 0.37 - ETA: 18s - loss: 0.37 - ETA: 18s - loss: 0.37 - ETA: 18s - loss: 0.37 - ETA: 18s - loss: 0.37 - ETA: 18s - loss: 0.37 - ETA: 18s - loss: 0.37 - ETA: 18s - loss: 0.37 - ETA: 17s - loss: 0.37 - ETA: 17s - loss: 0.37 - ETA: 17s - loss: 0.37 - ETA: 17s - loss: 0.37 - ETA: 17s - loss: 0.37 - ETA: 17s - loss: 0.37 - ETA: 17s - loss: 0.37 - ETA: 17s - loss: 0.37 - ETA: 17s - loss: 0.38 - ETA: 17s - loss: 0.38 - ETA: 16s - loss: 0.38 - ETA: 16s - loss: 0.38 - ETA: 16s - loss: 0.38 - ETA: 16s - loss: 0.38 - ETA: 16s - loss: 0.38 - ETA: 16s - loss: 0.38 - ETA: 16s - loss: 0.38 - ETA: 16s - loss: 0.38 - ETA: 15s - loss: 0.38 - ETA: 15s - loss: 0.38 - ETA: 15s - loss: 0.38 - ETA: 15s - loss: 0.38 - ETA: 15s - loss: 0.38 - ETA: 15s - loss: 0.38 - ETA: 15s - loss: 0.38 - ETA: 15s - loss: 0.38 - ETA: 15s - loss: 0.38 - ETA: 15s - loss: 0.38 - ETA: 15s - loss: 0.38 - ETA: 15s - loss: 0.38 - ETA: 14s - loss: 0.38 - ETA: 14s - loss: 0.38 - ETA: 14s - loss: 0.38 - ETA: 14s - loss: 0.38 - ETA: 14s - loss: 0.38 - ETA: 14s - loss: 0.38 - ETA: 14s - loss: 0.38 - ETA: 14s - loss: 0.38 - ETA: 14s - loss: 0.38 - ETA: 14s - loss: 0.38 - ETA: 14s - loss: 0.38 - ETA: 14s - loss: 0.38 - ETA: 14s - loss: 0.38 - ETA: 14s - loss: 0.38 - ETA: 14s - loss: 0.38 - ETA: 13s - loss: 0.38 - ETA: 13s - loss: 0.38 - ETA: 13s - loss: 0.38 - ETA: 13s - loss: 0.38 - ETA: 13s - loss: 0.38 - ETA: 13s - loss: 0.38 - ETA: 13s - loss: 0.38 - ETA: 13s - loss: 0.38 - ETA: 13s - loss: 0.38 - ETA: 13s - loss: 0.38 - ETA: 13s - loss: 0.38 - ETA: 13s - loss: 0.38 - ETA: 13s - loss: 0.38 - ETA: 13s - loss: 0.38 - ETA: 13s - loss: 0.38 - ETA: 12s - loss: 0.38 - ETA: 12s - loss: 0.38 - ETA: 12s - loss: 0.38 - ETA: 12s - loss: 0.38 - ETA: 12s - loss: 0.38 - ETA: 12s - loss: 0.38 - ETA: 12s - loss: 0.38 - ETA: 12s - loss: 0.38 - ETA: 12s - loss: 0.38 - ETA: 12s - loss: 0.38 - ETA: 12s - loss: 0.38 - ETA: 12s - loss: 0.38 - ETA: 12s - loss: 0.38 - ETA: 12s - loss: 0.38 - ETA: 11s - loss: 0.38 - ETA: 11s - loss: 0.38 - ETA: 11s - loss: 0.38 - ETA: 11s - loss: 0.38 - ETA: 11s - loss: 0.38 - ETA: 11s - loss: 0.38 - ETA: 11s - loss: 0.38 - ETA: 11s - loss: 0.38 - ETA: 11s - loss: 0.38 - ETA: 11s - loss: 0.38 - ETA: 11s - loss: 0.38 - ETA: 11s - loss: 0.38 - ETA: 11s - loss: 0.38 - ETA: 11s - loss: 0.38 - ETA: 11s - loss: 0.38 - ETA: 10s - loss: 0.38 - ETA: 10s - loss: 0.38 - ETA: 10s - loss: 0.38 - ETA: 10s - loss: 0.38 - ETA: 10s - loss: 0.38 - ETA: 10s - loss: 0.38 - ETA: 10s - loss: 0.38 - ETA: 10s - loss: 0.38 - ETA: 10s - loss: 0.38 - ETA: 10s - loss: 0.38 - ETA: 10s - loss: 0.38 - ETA: 10s - loss: 0.38 - ETA: 10s - loss: 0.38 - ETA: 10s - loss: 0.38 - ETA: 10s - loss: 0.38 - ETA: 9s - loss: 0.3807 - ETA: 9s - loss: 0.380 - ETA: 9s - loss: 0.380 - ETA: 9s - loss: 0.380 - ETA: 9s - loss: 0.380 - ETA: 9s - loss: 0.379 - ETA: 9s - loss: 0.379 - ETA: 9s - loss: 0.379 - ETA: 9s - loss: 0.379 - ETA: 9s - loss: 0.379 - ETA: 9s - loss: 0.378 - ETA: 9s - loss: 0.378 - ETA: 9s - loss: 0.378 - ETA: 9s - loss: 0.379 - ETA: 9s - loss: 0.379 - ETA: 9s - loss: 0.379 - ETA: 8s - loss: 0.379 - ETA: 8s - loss: 0.379 - ETA: 8s - loss: 0.379 - ETA: 8s - loss: 0.380 - ETA: 8s - loss: 0.380 - ETA: 8s - loss: 0.380 - ETA: 8s - loss: 0.380 - ETA: 8s - loss: 0.381 - ETA: 8s - loss: 0.381 - ETA: 8s - loss: 0.381 - ETA: 8s - loss: 0.381 - ETA: 8s - loss: 0.381 - ETA: 8s - loss: 0.381 - ETA: 8s - loss: 0.381 - ETA: 7s - loss: 0.381 - ETA: 7s - loss: 0.381 - ETA: 7s - loss: 0.381 - ETA: 7s - loss: 0.381 - ETA: 7s - loss: 0.381 - ETA: 7s - loss: 0.381 - ETA: 7s - loss: 0.381 - ETA: 7s - loss: 0.381 - ETA: 7s - loss: 0.381 - ETA: 7s - loss: 0.380 - ETA: 7s - loss: 0.380 - ETA: 7s - loss: 0.380 - ETA: 7s - loss: 0.380 - ETA: 7s - loss: 0.381 - ETA: 7s - loss: 0.381 - ETA: 7s - loss: 0.381 - ETA: 6s - loss: 0.381 - ETA: 6s - loss: 0.380 - ETA: 6s - loss: 0.380 - ETA: 6s - loss: 0.381 - ETA: 6s - loss: 0.381 - ETA: 6s - loss: 0.381 - ETA: 6s - loss: 0.381 - ETA: 6s - loss: 0.381 - ETA: 6s - loss: 0.381 - ETA: 6s - loss: 0.381 - ETA: 6s - loss: 0.381 - ETA: 6s - loss: 0.381 - ETA: 6s - loss: 0.381 - ETA: 6s - loss: 0.381 - ETA: 6s - loss: 0.381 - ETA: 6s - loss: 0.381 - ETA: 5s - loss: 0.381 - ETA: 5s - loss: 0.381 - ETA: 5s - loss: 0.381 - ETA: 5s - loss: 0.382 - ETA: 5s - loss: 0.382 - ETA: 5s - loss: 0.381 - ETA: 5s - loss: 0.382 - ETA: 5s - loss: 0.382 - ETA: 5s - loss: 0.381 - ETA: 5s - loss: 0.382 - ETA: 5s - loss: 0.382 - ETA: 5s - loss: 0.382 - ETA: 5s - loss: 0.381 - ETA: 5s - loss: 0.381 - ETA: 5s - loss: 0.381 - ETA: 4s - loss: 0.381 - ETA: 4s - loss: 0.382 - ETA: 4s - loss: 0.382 - ETA: 4s - loss: 0.382 - ETA: 4s - loss: 0.382 - ETA: 4s - loss: 0.382 - ETA: 4s - loss: 0.382 - ETA: 4s - loss: 0.382 - ETA: 4s - loss: 0.382 - ETA: 4s - loss: 0.382 - ETA: 4s - loss: 0.382 - ETA: 4s - loss: 0.382 - ETA: 4s - loss: 0.382 - ETA: 4s - loss: 0.382 - ETA: 3s - loss: 0.382 - ETA: 3s - loss: 0.382 - ETA: 3s - loss: 0.382 - ETA: 3s - loss: 0.382 - ETA: 3s - loss: 0.382 - ETA: 3s - loss: 0.382 - ETA: 3s - loss: 0.382 - ETA: 3s - loss: 0.382 - ETA: 3s - loss: 0.382 - ETA: 3s - loss: 0.382 - ETA: 3s - loss: 0.382 - ETA: 3s - loss: 0.382 - ETA: 3s - loss: 0.382 - ETA: 2s - loss: 0.382 - ETA: 2s - loss: 0.382 - ETA: 2s - loss: 0.382 - ETA: 2s - loss: 0.382 - ETA: 2s - loss: 0.382 - ETA: 2s - loss: 0.382 - ETA: 2s - loss: 0.382 - ETA: 2s - loss: 0.382 - ETA: 2s - loss: 0.382 - ETA: 2s - loss: 0.382 - ETA: 2s - loss: 0.382 - ETA: 2s - loss: 0.382 - ETA: 2s - loss: 0.382 - ETA: 2s - loss: 0.382 - ETA: 1s - loss: 0.382 - ETA: 1s - loss: 0.382 - ETA: 1s - loss: 0.382 - ETA: 1s - loss: 0.382 - ETA: 1s - loss: 0.382 - ETA: 1s - loss: 0.382 - ETA: 1s - loss: 0.382355381/55381 [==============================] - ETA: 1s - loss: 0.382 - ETA: 1s - loss: 0.381 - ETA: 1s - loss: 0.381 - ETA: 1s - loss: 0.381 - ETA: 1s - loss: 0.381 - ETA: 1s - loss: 0.381 - ETA: 1s - loss: 0.381 - ETA: 0s - loss: 0.381 - ETA: 0s - loss: 0.381 - ETA: 0s - loss: 0.381 - ETA: 0s - loss: 0.381 - ETA: 0s - loss: 0.381 - ETA: 0s - loss: 0.381 - ETA: 0s - loss: 0.381 - ETA: 0s - loss: 0.381 - ETA: 0s - loss: 0.381 - ETA: 0s - loss: 0.381 - ETA: 0s - loss: 0.381 - ETA: 0s - loss: 0.381 - ETA: 0s - loss: 0.381 - ETA: 0s - loss: 0.381 - ETA: 0s - loss: 0.382 - ETA: 0s - loss: 0.382 - ETA: 0s - loss: 0.381 - ETA: 0s - loss: 0.382 - 23s 412us/step - loss: 0.3820 - val_loss: 0.3815\n",
      "Epoch 42/50\n"
     ]
    },
    {
     "name": "stdout",
     "output_type": "stream",
     "text": [
      "51968/55381 [===========================>..] - ETA: 13s - loss: 0.33 - ETA: 17s - loss: 0.35 - ETA: 21s - loss: 0.37 - ETA: 23s - loss: 0.38 - ETA: 24s - loss: 0.36 - ETA: 23s - loss: 0.38 - ETA: 23s - loss: 0.37 - ETA: 22s - loss: 0.36 - ETA: 23s - loss: 0.37 - ETA: 24s - loss: 0.38 - ETA: 24s - loss: 0.38 - ETA: 26s - loss: 0.37 - ETA: 25s - loss: 0.38 - ETA: 25s - loss: 0.38 - ETA: 25s - loss: 0.39 - ETA: 25s - loss: 0.39 - ETA: 25s - loss: 0.39 - ETA: 23s - loss: 0.39 - ETA: 23s - loss: 0.39 - ETA: 23s - loss: 0.39 - ETA: 23s - loss: 0.39 - ETA: 22s - loss: 0.39 - ETA: 22s - loss: 0.39 - ETA: 22s - loss: 0.39 - ETA: 22s - loss: 0.39 - ETA: 22s - loss: 0.39 - ETA: 22s - loss: 0.39 - ETA: 21s - loss: 0.39 - ETA: 21s - loss: 0.39 - ETA: 22s - loss: 0.39 - ETA: 21s - loss: 0.39 - ETA: 21s - loss: 0.39 - ETA: 21s - loss: 0.39 - ETA: 21s - loss: 0.39 - ETA: 21s - loss: 0.39 - ETA: 20s - loss: 0.38 - ETA: 20s - loss: 0.39 - ETA: 20s - loss: 0.39 - ETA: 20s - loss: 0.39 - ETA: 19s - loss: 0.38 - ETA: 19s - loss: 0.38 - ETA: 19s - loss: 0.38 - ETA: 19s - loss: 0.38 - ETA: 19s - loss: 0.38 - ETA: 18s - loss: 0.38 - ETA: 18s - loss: 0.38 - ETA: 18s - loss: 0.38 - ETA: 18s - loss: 0.38 - ETA: 18s - loss: 0.38 - ETA: 18s - loss: 0.38 - ETA: 18s - loss: 0.38 - ETA: 18s - loss: 0.38 - ETA: 18s - loss: 0.38 - ETA: 18s - loss: 0.38 - ETA: 18s - loss: 0.38 - ETA: 18s - loss: 0.38 - ETA: 18s - loss: 0.38 - ETA: 18s - loss: 0.38 - ETA: 18s - loss: 0.38 - ETA: 18s - loss: 0.38 - ETA: 18s - loss: 0.38 - ETA: 18s - loss: 0.38 - ETA: 18s - loss: 0.38 - ETA: 18s - loss: 0.38 - ETA: 18s - loss: 0.38 - ETA: 18s - loss: 0.38 - ETA: 18s - loss: 0.38 - ETA: 18s - loss: 0.38 - ETA: 18s - loss: 0.38 - ETA: 18s - loss: 0.38 - ETA: 18s - loss: 0.38 - ETA: 18s - loss: 0.38 - ETA: 18s - loss: 0.38 - ETA: 18s - loss: 0.38 - ETA: 18s - loss: 0.38 - ETA: 18s - loss: 0.38 - ETA: 18s - loss: 0.38 - ETA: 18s - loss: 0.38 - ETA: 18s - loss: 0.38 - ETA: 18s - loss: 0.38 - ETA: 17s - loss: 0.38 - ETA: 17s - loss: 0.38 - ETA: 17s - loss: 0.38 - ETA: 17s - loss: 0.38 - ETA: 17s - loss: 0.38 - ETA: 17s - loss: 0.38 - ETA: 17s - loss: 0.38 - ETA: 17s - loss: 0.38 - ETA: 17s - loss: 0.38 - ETA: 17s - loss: 0.38 - ETA: 17s - loss: 0.38 - ETA: 17s - loss: 0.38 - ETA: 16s - loss: 0.38 - ETA: 16s - loss: 0.38 - ETA: 16s - loss: 0.38 - ETA: 16s - loss: 0.38 - ETA: 16s - loss: 0.38 - ETA: 16s - loss: 0.38 - ETA: 16s - loss: 0.38 - ETA: 16s - loss: 0.38 - ETA: 16s - loss: 0.38 - ETA: 16s - loss: 0.38 - ETA: 16s - loss: 0.38 - ETA: 16s - loss: 0.38 - ETA: 16s - loss: 0.38 - ETA: 16s - loss: 0.38 - ETA: 16s - loss: 0.38 - ETA: 16s - loss: 0.38 - ETA: 16s - loss: 0.38 - ETA: 15s - loss: 0.38 - ETA: 15s - loss: 0.38 - ETA: 15s - loss: 0.38 - ETA: 15s - loss: 0.38 - ETA: 15s - loss: 0.38 - ETA: 15s - loss: 0.38 - ETA: 15s - loss: 0.38 - ETA: 15s - loss: 0.38 - ETA: 15s - loss: 0.38 - ETA: 15s - loss: 0.38 - ETA: 15s - loss: 0.38 - ETA: 15s - loss: 0.38 - ETA: 15s - loss: 0.38 - ETA: 15s - loss: 0.38 - ETA: 15s - loss: 0.38 - ETA: 15s - loss: 0.38 - ETA: 15s - loss: 0.38 - ETA: 15s - loss: 0.38 - ETA: 15s - loss: 0.38 - ETA: 15s - loss: 0.38 - ETA: 15s - loss: 0.38 - ETA: 15s - loss: 0.38 - ETA: 15s - loss: 0.38 - ETA: 15s - loss: 0.38 - ETA: 15s - loss: 0.38 - ETA: 14s - loss: 0.38 - ETA: 14s - loss: 0.38 - ETA: 14s - loss: 0.38 - ETA: 14s - loss: 0.38 - ETA: 14s - loss: 0.38 - ETA: 14s - loss: 0.38 - ETA: 14s - loss: 0.38 - ETA: 14s - loss: 0.38 - ETA: 14s - loss: 0.38 - ETA: 14s - loss: 0.38 - ETA: 14s - loss: 0.38 - ETA: 14s - loss: 0.38 - ETA: 14s - loss: 0.38 - ETA: 14s - loss: 0.38 - ETA: 14s - loss: 0.38 - ETA: 14s - loss: 0.38 - ETA: 13s - loss: 0.38 - ETA: 13s - loss: 0.38 - ETA: 13s - loss: 0.38 - ETA: 13s - loss: 0.38 - ETA: 13s - loss: 0.38 - ETA: 13s - loss: 0.38 - ETA: 13s - loss: 0.38 - ETA: 13s - loss: 0.38 - ETA: 13s - loss: 0.38 - ETA: 13s - loss: 0.38 - ETA: 13s - loss: 0.38 - ETA: 13s - loss: 0.38 - ETA: 13s - loss: 0.38 - ETA: 13s - loss: 0.38 - ETA: 13s - loss: 0.38 - ETA: 13s - loss: 0.38 - ETA: 13s - loss: 0.38 - ETA: 13s - loss: 0.38 - ETA: 12s - loss: 0.38 - ETA: 12s - loss: 0.38 - ETA: 12s - loss: 0.38 - ETA: 12s - loss: 0.38 - ETA: 12s - loss: 0.38 - ETA: 12s - loss: 0.38 - ETA: 12s - loss: 0.38 - ETA: 12s - loss: 0.38 - ETA: 12s - loss: 0.38 - ETA: 12s - loss: 0.38 - ETA: 12s - loss: 0.38 - ETA: 12s - loss: 0.38 - ETA: 12s - loss: 0.38 - ETA: 12s - loss: 0.38 - ETA: 12s - loss: 0.38 - ETA: 12s - loss: 0.38 - ETA: 11s - loss: 0.38 - ETA: 11s - loss: 0.38 - ETA: 11s - loss: 0.38 - ETA: 11s - loss: 0.38 - ETA: 11s - loss: 0.38 - ETA: 11s - loss: 0.38 - ETA: 11s - loss: 0.38 - ETA: 11s - loss: 0.38 - ETA: 11s - loss: 0.38 - ETA: 11s - loss: 0.38 - ETA: 11s - loss: 0.38 - ETA: 11s - loss: 0.38 - ETA: 11s - loss: 0.38 - ETA: 10s - loss: 0.38 - ETA: 10s - loss: 0.38 - ETA: 10s - loss: 0.38 - ETA: 10s - loss: 0.38 - ETA: 10s - loss: 0.38 - ETA: 10s - loss: 0.38 - ETA: 10s - loss: 0.38 - ETA: 10s - loss: 0.38 - ETA: 10s - loss: 0.38 - ETA: 10s - loss: 0.38 - ETA: 10s - loss: 0.38 - ETA: 10s - loss: 0.38 - ETA: 10s - loss: 0.38 - ETA: 10s - loss: 0.38 - ETA: 10s - loss: 0.38 - ETA: 10s - loss: 0.38 - ETA: 9s - loss: 0.3830 - ETA: 9s - loss: 0.382 - ETA: 9s - loss: 0.382 - ETA: 9s - loss: 0.382 - ETA: 9s - loss: 0.382 - ETA: 9s - loss: 0.382 - ETA: 9s - loss: 0.382 - ETA: 9s - loss: 0.382 - ETA: 9s - loss: 0.382 - ETA: 9s - loss: 0.382 - ETA: 9s - loss: 0.382 - ETA: 9s - loss: 0.382 - ETA: 9s - loss: 0.382 - ETA: 9s - loss: 0.382 - ETA: 8s - loss: 0.382 - ETA: 8s - loss: 0.382 - ETA: 8s - loss: 0.382 - ETA: 8s - loss: 0.382 - ETA: 8s - loss: 0.382 - ETA: 8s - loss: 0.382 - ETA: 8s - loss: 0.382 - ETA: 8s - loss: 0.382 - ETA: 8s - loss: 0.382 - ETA: 8s - loss: 0.382 - ETA: 8s - loss: 0.382 - ETA: 8s - loss: 0.382 - ETA: 8s - loss: 0.382 - ETA: 8s - loss: 0.382 - ETA: 7s - loss: 0.382 - ETA: 7s - loss: 0.382 - ETA: 7s - loss: 0.382 - ETA: 7s - loss: 0.382 - ETA: 7s - loss: 0.382 - ETA: 7s - loss: 0.382 - ETA: 7s - loss: 0.382 - ETA: 7s - loss: 0.382 - ETA: 7s - loss: 0.382 - ETA: 7s - loss: 0.382 - ETA: 7s - loss: 0.382 - ETA: 7s - loss: 0.383 - ETA: 7s - loss: 0.383 - ETA: 7s - loss: 0.383 - ETA: 6s - loss: 0.383 - ETA: 6s - loss: 0.383 - ETA: 6s - loss: 0.383 - ETA: 6s - loss: 0.383 - ETA: 6s - loss: 0.383 - ETA: 6s - loss: 0.383 - ETA: 6s - loss: 0.383 - ETA: 6s - loss: 0.383 - ETA: 6s - loss: 0.382 - ETA: 6s - loss: 0.383 - ETA: 6s - loss: 0.383 - ETA: 6s - loss: 0.382 - ETA: 6s - loss: 0.382 - ETA: 6s - loss: 0.382 - ETA: 6s - loss: 0.382 - ETA: 6s - loss: 0.382 - ETA: 5s - loss: 0.382 - ETA: 5s - loss: 0.382 - ETA: 5s - loss: 0.382 - ETA: 5s - loss: 0.382 - ETA: 5s - loss: 0.383 - ETA: 5s - loss: 0.382 - ETA: 5s - loss: 0.382 - ETA: 5s - loss: 0.383 - ETA: 5s - loss: 0.383 - ETA: 5s - loss: 0.382 - ETA: 5s - loss: 0.382 - ETA: 5s - loss: 0.382 - ETA: 5s - loss: 0.382 - ETA: 5s - loss: 0.382 - ETA: 4s - loss: 0.382 - ETA: 4s - loss: 0.382 - ETA: 4s - loss: 0.382 - ETA: 4s - loss: 0.382 - ETA: 4s - loss: 0.382 - ETA: 4s - loss: 0.382 - ETA: 4s - loss: 0.382 - ETA: 4s - loss: 0.382 - ETA: 4s - loss: 0.382 - ETA: 4s - loss: 0.382 - ETA: 4s - loss: 0.382 - ETA: 4s - loss: 0.382 - ETA: 4s - loss: 0.382 - ETA: 4s - loss: 0.382 - ETA: 3s - loss: 0.382 - ETA: 3s - loss: 0.382 - ETA: 3s - loss: 0.382 - ETA: 3s - loss: 0.382 - ETA: 3s - loss: 0.382 - ETA: 3s - loss: 0.382 - ETA: 3s - loss: 0.382 - ETA: 3s - loss: 0.382 - ETA: 3s - loss: 0.381 - ETA: 3s - loss: 0.382 - ETA: 3s - loss: 0.382 - ETA: 3s - loss: 0.382 - ETA: 3s - loss: 0.382 - ETA: 3s - loss: 0.382 - ETA: 3s - loss: 0.382 - ETA: 3s - loss: 0.382 - ETA: 2s - loss: 0.382 - ETA: 2s - loss: 0.382 - ETA: 2s - loss: 0.382 - ETA: 2s - loss: 0.382 - ETA: 2s - loss: 0.382 - ETA: 2s - loss: 0.382 - ETA: 2s - loss: 0.381 - ETA: 2s - loss: 0.381 - ETA: 2s - loss: 0.381 - ETA: 2s - loss: 0.381 - ETA: 2s - loss: 0.381 - ETA: 2s - loss: 0.381 - ETA: 2s - loss: 0.381 - ETA: 2s - loss: 0.381 - ETA: 2s - loss: 0.381 - ETA: 1s - loss: 0.381 - ETA: 1s - loss: 0.381 - ETA: 1s - loss: 0.382 - ETA: 1s - loss: 0.382 - ETA: 1s - loss: 0.382 - ETA: 1s - loss: 0.382 - ETA: 1s - loss: 0.382 - ETA: 1s - loss: 0.381 - ETA: 1s - loss: 0.381 - ETA: 1s - loss: 0.3817"
     ]
    },
    {
     "name": "stdout",
     "output_type": "stream",
     "text": [
      "55381/55381 [==============================] - ETA: 1s - loss: 0.381 - ETA: 1s - loss: 0.381 - ETA: 1s - loss: 0.381 - ETA: 1s - loss: 0.381 - ETA: 0s - loss: 0.381 - ETA: 0s - loss: 0.381 - ETA: 0s - loss: 0.381 - ETA: 0s - loss: 0.380 - ETA: 0s - loss: 0.381 - ETA: 0s - loss: 0.381 - ETA: 0s - loss: 0.381 - ETA: 0s - loss: 0.381 - ETA: 0s - loss: 0.381 - ETA: 0s - loss: 0.381 - ETA: 0s - loss: 0.381 - ETA: 0s - loss: 0.381 - ETA: 0s - loss: 0.381 - ETA: 0s - loss: 0.381 - ETA: 0s - loss: 0.381 - 22s 402us/step - loss: 0.3815 - val_loss: 0.3824\n",
      "Epoch 43/50\n",
      "48576/55381 [=========================>....] - ETA: 13s - loss: 0.32 - ETA: 34s - loss: 0.33 - ETA: 28s - loss: 0.33 - ETA: 26s - loss: 0.34 - ETA: 23s - loss: 0.36 - ETA: 25s - loss: 0.36 - ETA: 27s - loss: 0.36 - ETA: 30s - loss: 0.36 - ETA: 27s - loss: 0.37 - ETA: 27s - loss: 0.37 - ETA: 27s - loss: 0.36 - ETA: 27s - loss: 0.37 - ETA: 26s - loss: 0.38 - ETA: 26s - loss: 0.38 - ETA: 24s - loss: 0.38 - ETA: 24s - loss: 0.38 - ETA: 23s - loss: 0.38 - ETA: 23s - loss: 0.38 - ETA: 24s - loss: 0.38 - ETA: 23s - loss: 0.37 - ETA: 23s - loss: 0.38 - ETA: 23s - loss: 0.38 - ETA: 24s - loss: 0.38 - ETA: 24s - loss: 0.38 - ETA: 23s - loss: 0.38 - ETA: 23s - loss: 0.38 - ETA: 24s - loss: 0.38 - ETA: 24s - loss: 0.39 - ETA: 23s - loss: 0.39 - ETA: 23s - loss: 0.38 - ETA: 23s - loss: 0.38 - ETA: 23s - loss: 0.38 - ETA: 23s - loss: 0.38 - ETA: 23s - loss: 0.38 - ETA: 23s - loss: 0.38 - ETA: 24s - loss: 0.38 - ETA: 24s - loss: 0.38 - ETA: 24s - loss: 0.38 - ETA: 24s - loss: 0.38 - ETA: 23s - loss: 0.38 - ETA: 23s - loss: 0.38 - ETA: 23s - loss: 0.38 - ETA: 23s - loss: 0.38 - ETA: 23s - loss: 0.38 - ETA: 23s - loss: 0.38 - ETA: 23s - loss: 0.38 - ETA: 23s - loss: 0.38 - ETA: 23s - loss: 0.38 - ETA: 23s - loss: 0.38 - ETA: 23s - loss: 0.38 - ETA: 23s - loss: 0.38 - ETA: 22s - loss: 0.38 - ETA: 22s - loss: 0.38 - ETA: 22s - loss: 0.38 - ETA: 22s - loss: 0.38 - ETA: 22s - loss: 0.38 - ETA: 22s - loss: 0.38 - ETA: 22s - loss: 0.38 - ETA: 22s - loss: 0.38 - ETA: 22s - loss: 0.38 - ETA: 22s - loss: 0.38 - ETA: 22s - loss: 0.38 - ETA: 22s - loss: 0.38 - ETA: 22s - loss: 0.38 - ETA: 22s - loss: 0.38 - ETA: 22s - loss: 0.38 - ETA: 22s - loss: 0.38 - ETA: 22s - loss: 0.38 - ETA: 22s - loss: 0.38 - ETA: 22s - loss: 0.38 - ETA: 22s - loss: 0.38 - ETA: 22s - loss: 0.38 - ETA: 22s - loss: 0.38 - ETA: 22s - loss: 0.38 - ETA: 22s - loss: 0.38 - ETA: 22s - loss: 0.38 - ETA: 22s - loss: 0.38 - ETA: 22s - loss: 0.38 - ETA: 22s - loss: 0.38 - ETA: 22s - loss: 0.38 - ETA: 22s - loss: 0.38 - ETA: 21s - loss: 0.38 - ETA: 21s - loss: 0.38 - ETA: 21s - loss: 0.37 - ETA: 21s - loss: 0.37 - ETA: 21s - loss: 0.37 - ETA: 21s - loss: 0.37 - ETA: 21s - loss: 0.37 - ETA: 21s - loss: 0.37 - ETA: 21s - loss: 0.37 - ETA: 21s - loss: 0.37 - ETA: 21s - loss: 0.37 - ETA: 21s - loss: 0.37 - ETA: 20s - loss: 0.37 - ETA: 20s - loss: 0.38 - ETA: 20s - loss: 0.37 - ETA: 20s - loss: 0.37 - ETA: 20s - loss: 0.37 - ETA: 20s - loss: 0.37 - ETA: 20s - loss: 0.37 - ETA: 20s - loss: 0.37 - ETA: 19s - loss: 0.37 - ETA: 19s - loss: 0.37 - ETA: 19s - loss: 0.37 - ETA: 19s - loss: 0.37 - ETA: 19s - loss: 0.37 - ETA: 19s - loss: 0.37 - ETA: 19s - loss: 0.37 - ETA: 19s - loss: 0.37 - ETA: 19s - loss: 0.38 - ETA: 19s - loss: 0.38 - ETA: 19s - loss: 0.37 - ETA: 19s - loss: 0.37 - ETA: 19s - loss: 0.37 - ETA: 19s - loss: 0.37 - ETA: 18s - loss: 0.37 - ETA: 18s - loss: 0.37 - ETA: 18s - loss: 0.37 - ETA: 18s - loss: 0.37 - ETA: 18s - loss: 0.37 - ETA: 18s - loss: 0.37 - ETA: 18s - loss: 0.37 - ETA: 18s - loss: 0.37 - ETA: 18s - loss: 0.38 - ETA: 18s - loss: 0.38 - ETA: 18s - loss: 0.38 - ETA: 17s - loss: 0.38 - ETA: 17s - loss: 0.38 - ETA: 17s - loss: 0.38 - ETA: 17s - loss: 0.37 - ETA: 17s - loss: 0.37 - ETA: 17s - loss: 0.37 - ETA: 17s - loss: 0.37 - ETA: 17s - loss: 0.37 - ETA: 17s - loss: 0.37 - ETA: 17s - loss: 0.37 - ETA: 17s - loss: 0.37 - ETA: 17s - loss: 0.37 - ETA: 17s - loss: 0.37 - ETA: 17s - loss: 0.37 - ETA: 16s - loss: 0.37 - ETA: 16s - loss: 0.37 - ETA: 16s - loss: 0.37 - ETA: 16s - loss: 0.37 - ETA: 16s - loss: 0.37 - ETA: 16s - loss: 0.37 - ETA: 16s - loss: 0.37 - ETA: 16s - loss: 0.37 - ETA: 16s - loss: 0.37 - ETA: 16s - loss: 0.37 - ETA: 16s - loss: 0.37 - ETA: 16s - loss: 0.37 - ETA: 15s - loss: 0.37 - ETA: 15s - loss: 0.37 - ETA: 15s - loss: 0.37 - ETA: 15s - loss: 0.37 - ETA: 15s - loss: 0.37 - ETA: 15s - loss: 0.37 - ETA: 15s - loss: 0.37 - ETA: 15s - loss: 0.37 - ETA: 15s - loss: 0.37 - ETA: 15s - loss: 0.37 - ETA: 15s - loss: 0.37 - ETA: 15s - loss: 0.37 - ETA: 15s - loss: 0.37 - ETA: 15s - loss: 0.37 - ETA: 15s - loss: 0.37 - ETA: 15s - loss: 0.37 - ETA: 15s - loss: 0.37 - ETA: 15s - loss: 0.37 - ETA: 14s - loss: 0.37 - ETA: 14s - loss: 0.37 - ETA: 14s - loss: 0.37 - ETA: 14s - loss: 0.37 - ETA: 14s - loss: 0.37 - ETA: 14s - loss: 0.37 - ETA: 14s - loss: 0.37 - ETA: 14s - loss: 0.37 - ETA: 14s - loss: 0.37 - ETA: 14s - loss: 0.37 - ETA: 14s - loss: 0.37 - ETA: 14s - loss: 0.37 - ETA: 14s - loss: 0.37 - ETA: 13s - loss: 0.37 - ETA: 13s - loss: 0.37 - ETA: 13s - loss: 0.37 - ETA: 13s - loss: 0.37 - ETA: 13s - loss: 0.37 - ETA: 13s - loss: 0.37 - ETA: 13s - loss: 0.37 - ETA: 13s - loss: 0.37 - ETA: 13s - loss: 0.37 - ETA: 13s - loss: 0.37 - ETA: 13s - loss: 0.37 - ETA: 13s - loss: 0.37 - ETA: 12s - loss: 0.37 - ETA: 12s - loss: 0.37 - ETA: 12s - loss: 0.37 - ETA: 12s - loss: 0.37 - ETA: 12s - loss: 0.37 - ETA: 12s - loss: 0.37 - ETA: 12s - loss: 0.37 - ETA: 12s - loss: 0.37 - ETA: 12s - loss: 0.37 - ETA: 12s - loss: 0.37 - ETA: 12s - loss: 0.37 - ETA: 12s - loss: 0.37 - ETA: 11s - loss: 0.37 - ETA: 11s - loss: 0.37 - ETA: 11s - loss: 0.37 - ETA: 11s - loss: 0.37 - ETA: 11s - loss: 0.37 - ETA: 11s - loss: 0.37 - ETA: 11s - loss: 0.37 - ETA: 11s - loss: 0.37 - ETA: 11s - loss: 0.37 - ETA: 11s - loss: 0.37 - ETA: 11s - loss: 0.37 - ETA: 11s - loss: 0.37 - ETA: 11s - loss: 0.37 - ETA: 11s - loss: 0.37 - ETA: 10s - loss: 0.37 - ETA: 10s - loss: 0.37 - ETA: 10s - loss: 0.37 - ETA: 10s - loss: 0.37 - ETA: 10s - loss: 0.37 - ETA: 10s - loss: 0.37 - ETA: 10s - loss: 0.37 - ETA: 10s - loss: 0.37 - ETA: 10s - loss: 0.37 - ETA: 10s - loss: 0.37 - ETA: 10s - loss: 0.37 - ETA: 10s - loss: 0.37 - ETA: 10s - loss: 0.37 - ETA: 10s - loss: 0.37 - ETA: 10s - loss: 0.37 - ETA: 10s - loss: 0.37 - ETA: 10s - loss: 0.37 - ETA: 10s - loss: 0.37 - ETA: 9s - loss: 0.3764 - ETA: 9s - loss: 0.376 - ETA: 9s - loss: 0.376 - ETA: 9s - loss: 0.376 - ETA: 9s - loss: 0.376 - ETA: 9s - loss: 0.377 - ETA: 9s - loss: 0.376 - ETA: 9s - loss: 0.376 - ETA: 9s - loss: 0.376 - ETA: 9s - loss: 0.376 - ETA: 9s - loss: 0.376 - ETA: 9s - loss: 0.376 - ETA: 9s - loss: 0.376 - ETA: 9s - loss: 0.376 - ETA: 8s - loss: 0.376 - ETA: 8s - loss: 0.377 - ETA: 8s - loss: 0.377 - ETA: 8s - loss: 0.377 - ETA: 8s - loss: 0.377 - ETA: 8s - loss: 0.377 - ETA: 8s - loss: 0.377 - ETA: 8s - loss: 0.377 - ETA: 8s - loss: 0.377 - ETA: 8s - loss: 0.377 - ETA: 8s - loss: 0.377 - ETA: 8s - loss: 0.377 - ETA: 8s - loss: 0.378 - ETA: 8s - loss: 0.378 - ETA: 8s - loss: 0.378 - ETA: 7s - loss: 0.378 - ETA: 7s - loss: 0.378 - ETA: 7s - loss: 0.378 - ETA: 7s - loss: 0.378 - ETA: 7s - loss: 0.378 - ETA: 7s - loss: 0.378 - ETA: 7s - loss: 0.378 - ETA: 7s - loss: 0.378 - ETA: 7s - loss: 0.378 - ETA: 7s - loss: 0.378 - ETA: 7s - loss: 0.378 - ETA: 7s - loss: 0.378 - ETA: 7s - loss: 0.378 - ETA: 6s - loss: 0.378 - ETA: 6s - loss: 0.378 - ETA: 6s - loss: 0.378 - ETA: 6s - loss: 0.378 - ETA: 6s - loss: 0.378 - ETA: 6s - loss: 0.379 - ETA: 6s - loss: 0.378 - ETA: 6s - loss: 0.378 - ETA: 6s - loss: 0.379 - ETA: 6s - loss: 0.378 - ETA: 6s - loss: 0.379 - ETA: 6s - loss: 0.379 - ETA: 6s - loss: 0.378 - ETA: 6s - loss: 0.379 - ETA: 5s - loss: 0.379 - ETA: 5s - loss: 0.379 - ETA: 5s - loss: 0.379 - ETA: 5s - loss: 0.379 - ETA: 5s - loss: 0.379 - ETA: 5s - loss: 0.379 - ETA: 5s - loss: 0.379 - ETA: 5s - loss: 0.379 - ETA: 5s - loss: 0.379 - ETA: 5s - loss: 0.379 - ETA: 5s - loss: 0.379 - ETA: 5s - loss: 0.379 - ETA: 5s - loss: 0.379 - ETA: 5s - loss: 0.380 - ETA: 5s - loss: 0.380 - ETA: 4s - loss: 0.380 - ETA: 4s - loss: 0.380 - ETA: 4s - loss: 0.380 - ETA: 4s - loss: 0.380 - ETA: 4s - loss: 0.380 - ETA: 4s - loss: 0.380 - ETA: 4s - loss: 0.380 - ETA: 4s - loss: 0.380 - ETA: 4s - loss: 0.380 - ETA: 4s - loss: 0.380 - ETA: 4s - loss: 0.380 - ETA: 4s - loss: 0.380 - ETA: 4s - loss: 0.380 - ETA: 4s - loss: 0.379 - ETA: 3s - loss: 0.379 - ETA: 3s - loss: 0.379 - ETA: 3s - loss: 0.379 - ETA: 3s - loss: 0.379 - ETA: 3s - loss: 0.379 - ETA: 3s - loss: 0.379 - ETA: 3s - loss: 0.379 - ETA: 3s - loss: 0.379 - ETA: 3s - loss: 0.379 - ETA: 3s - loss: 0.379 - ETA: 3s - loss: 0.378 - ETA: 3s - loss: 0.378 - ETA: 3s - loss: 0.379 - ETA: 3s - loss: 0.379 - ETA: 2s - loss: 0.379 - ETA: 2s - loss: 0.379255381/55381 [==============================] - ETA: 2s - loss: 0.379 - ETA: 2s - loss: 0.379 - ETA: 2s - loss: 0.379 - ETA: 2s - loss: 0.379 - ETA: 2s - loss: 0.379 - ETA: 2s - loss: 0.379 - ETA: 2s - loss: 0.378 - ETA: 2s - loss: 0.378 - ETA: 2s - loss: 0.378 - ETA: 2s - loss: 0.378 - ETA: 2s - loss: 0.378 - ETA: 2s - loss: 0.379 - ETA: 2s - loss: 0.379 - ETA: 2s - loss: 0.378 - ETA: 2s - loss: 0.378 - ETA: 2s - loss: 0.378 - ETA: 2s - loss: 0.379 - ETA: 1s - loss: 0.379 - ETA: 1s - loss: 0.379 - ETA: 1s - loss: 0.379 - ETA: 1s - loss: 0.379 - ETA: 1s - loss: 0.379 - ETA: 1s - loss: 0.379 - ETA: 1s - loss: 0.379 - ETA: 1s - loss: 0.379 - ETA: 1s - loss: 0.379 - ETA: 1s - loss: 0.379 - ETA: 1s - loss: 0.379 - ETA: 1s - loss: 0.379 - ETA: 1s - loss: 0.379 - ETA: 1s - loss: 0.379 - ETA: 1s - loss: 0.379 - ETA: 1s - loss: 0.379 - ETA: 1s - loss: 0.379 - ETA: 0s - loss: 0.379 - ETA: 0s - loss: 0.379 - ETA: 0s - loss: 0.379 - ETA: 0s - loss: 0.379 - ETA: 0s - loss: 0.379 - ETA: 0s - loss: 0.379 - ETA: 0s - loss: 0.379 - ETA: 0s - loss: 0.379 - ETA: 0s - loss: 0.379 - ETA: 0s - loss: 0.379 - ETA: 0s - loss: 0.379 - ETA: 0s - loss: 0.379 - ETA: 0s - loss: 0.379 - ETA: 0s - loss: 0.379 - ETA: 0s - loss: 0.379 - 24s 439us/step - loss: 0.3798 - val_loss: 0.3813\n",
      "Epoch 44/50\n"
     ]
    },
    {
     "name": "stdout",
     "output_type": "stream",
     "text": [
      "49728/55381 [=========================>....] - ETA: 13s - loss: 0.45 - ETA: 31s - loss: 0.41 - ETA: 35s - loss: 0.38 - ETA: 31s - loss: 0.39 - ETA: 29s - loss: 0.37 - ETA: 33s - loss: 0.36 - ETA: 31s - loss: 0.36 - ETA: 28s - loss: 0.37 - ETA: 29s - loss: 0.37 - ETA: 28s - loss: 0.38 - ETA: 27s - loss: 0.38 - ETA: 26s - loss: 0.38 - ETA: 27s - loss: 0.38 - ETA: 27s - loss: 0.38 - ETA: 27s - loss: 0.37 - ETA: 26s - loss: 0.38 - ETA: 26s - loss: 0.38 - ETA: 26s - loss: 0.38 - ETA: 26s - loss: 0.38 - ETA: 26s - loss: 0.38 - ETA: 27s - loss: 0.38 - ETA: 29s - loss: 0.38 - ETA: 28s - loss: 0.38 - ETA: 28s - loss: 0.38 - ETA: 28s - loss: 0.38 - ETA: 28s - loss: 0.38 - ETA: 27s - loss: 0.38 - ETA: 27s - loss: 0.38 - ETA: 27s - loss: 0.38 - ETA: 27s - loss: 0.38 - ETA: 27s - loss: 0.37 - ETA: 27s - loss: 0.38 - ETA: 27s - loss: 0.38 - ETA: 26s - loss: 0.37 - ETA: 26s - loss: 0.37 - ETA: 26s - loss: 0.37 - ETA: 26s - loss: 0.38 - ETA: 25s - loss: 0.38 - ETA: 25s - loss: 0.38 - ETA: 25s - loss: 0.38 - ETA: 25s - loss: 0.38 - ETA: 25s - loss: 0.38 - ETA: 24s - loss: 0.38 - ETA: 24s - loss: 0.38 - ETA: 24s - loss: 0.38 - ETA: 24s - loss: 0.38 - ETA: 24s - loss: 0.38 - ETA: 24s - loss: 0.37 - ETA: 23s - loss: 0.38 - ETA: 23s - loss: 0.37 - ETA: 23s - loss: 0.37 - ETA: 23s - loss: 0.37 - ETA: 23s - loss: 0.37 - ETA: 23s - loss: 0.37 - ETA: 23s - loss: 0.37 - ETA: 23s - loss: 0.37 - ETA: 23s - loss: 0.37 - ETA: 23s - loss: 0.37 - ETA: 23s - loss: 0.37 - ETA: 23s - loss: 0.37 - ETA: 22s - loss: 0.37 - ETA: 22s - loss: 0.37 - ETA: 22s - loss: 0.37 - ETA: 22s - loss: 0.37 - ETA: 22s - loss: 0.37 - ETA: 22s - loss: 0.37 - ETA: 22s - loss: 0.37 - ETA: 22s - loss: 0.37 - ETA: 22s - loss: 0.37 - ETA: 22s - loss: 0.37 - ETA: 22s - loss: 0.37 - ETA: 22s - loss: 0.37 - ETA: 21s - loss: 0.37 - ETA: 21s - loss: 0.37 - ETA: 21s - loss: 0.37 - ETA: 21s - loss: 0.37 - ETA: 21s - loss: 0.37 - ETA: 21s - loss: 0.37 - ETA: 21s - loss: 0.37 - ETA: 21s - loss: 0.37 - ETA: 21s - loss: 0.37 - ETA: 21s - loss: 0.37 - ETA: 21s - loss: 0.38 - ETA: 21s - loss: 0.37 - ETA: 21s - loss: 0.37 - ETA: 21s - loss: 0.38 - ETA: 21s - loss: 0.37 - ETA: 21s - loss: 0.37 - ETA: 21s - loss: 0.37 - ETA: 20s - loss: 0.37 - ETA: 20s - loss: 0.37 - ETA: 20s - loss: 0.38 - ETA: 20s - loss: 0.38 - ETA: 20s - loss: 0.38 - ETA: 20s - loss: 0.38 - ETA: 20s - loss: 0.38 - ETA: 20s - loss: 0.37 - ETA: 19s - loss: 0.37 - ETA: 19s - loss: 0.37 - ETA: 19s - loss: 0.37 - ETA: 19s - loss: 0.37 - ETA: 19s - loss: 0.37 - ETA: 19s - loss: 0.37 - ETA: 19s - loss: 0.37 - ETA: 19s - loss: 0.37 - ETA: 19s - loss: 0.37 - ETA: 19s - loss: 0.37 - ETA: 19s - loss: 0.37 - ETA: 19s - loss: 0.37 - ETA: 19s - loss: 0.37 - ETA: 19s - loss: 0.37 - ETA: 19s - loss: 0.37 - ETA: 18s - loss: 0.37 - ETA: 18s - loss: 0.37 - ETA: 18s - loss: 0.37 - ETA: 18s - loss: 0.37 - ETA: 18s - loss: 0.37 - ETA: 18s - loss: 0.37 - ETA: 18s - loss: 0.37 - ETA: 18s - loss: 0.37 - ETA: 18s - loss: 0.37 - ETA: 18s - loss: 0.37 - ETA: 18s - loss: 0.37 - ETA: 18s - loss: 0.37 - ETA: 18s - loss: 0.37 - ETA: 18s - loss: 0.37 - ETA: 17s - loss: 0.37 - ETA: 17s - loss: 0.38 - ETA: 17s - loss: 0.37 - ETA: 17s - loss: 0.38 - ETA: 17s - loss: 0.38 - ETA: 17s - loss: 0.38 - ETA: 17s - loss: 0.38 - ETA: 17s - loss: 0.38 - ETA: 17s - loss: 0.38 - ETA: 17s - loss: 0.38 - ETA: 17s - loss: 0.38 - ETA: 17s - loss: 0.38 - ETA: 17s - loss: 0.38 - ETA: 17s - loss: 0.38 - ETA: 17s - loss: 0.38 - ETA: 17s - loss: 0.38 - ETA: 17s - loss: 0.38 - ETA: 17s - loss: 0.38 - ETA: 16s - loss: 0.38 - ETA: 16s - loss: 0.38 - ETA: 16s - loss: 0.38 - ETA: 16s - loss: 0.38 - ETA: 16s - loss: 0.38 - ETA: 16s - loss: 0.38 - ETA: 16s - loss: 0.38 - ETA: 16s - loss: 0.38 - ETA: 16s - loss: 0.38 - ETA: 16s - loss: 0.38 - ETA: 16s - loss: 0.38 - ETA: 16s - loss: 0.38 - ETA: 15s - loss: 0.38 - ETA: 15s - loss: 0.38 - ETA: 15s - loss: 0.38 - ETA: 15s - loss: 0.38 - ETA: 15s - loss: 0.38 - ETA: 15s - loss: 0.38 - ETA: 15s - loss: 0.38 - ETA: 15s - loss: 0.38 - ETA: 15s - loss: 0.38 - ETA: 15s - loss: 0.38 - ETA: 15s - loss: 0.38 - ETA: 15s - loss: 0.38 - ETA: 14s - loss: 0.38 - ETA: 14s - loss: 0.38 - ETA: 14s - loss: 0.38 - ETA: 14s - loss: 0.38 - ETA: 14s - loss: 0.38 - ETA: 14s - loss: 0.38 - ETA: 14s - loss: 0.38 - ETA: 14s - loss: 0.38 - ETA: 14s - loss: 0.38 - ETA: 14s - loss: 0.38 - ETA: 14s - loss: 0.38 - ETA: 14s - loss: 0.38 - ETA: 14s - loss: 0.38 - ETA: 14s - loss: 0.38 - ETA: 13s - loss: 0.38 - ETA: 13s - loss: 0.38 - ETA: 13s - loss: 0.37 - ETA: 13s - loss: 0.37 - ETA: 13s - loss: 0.37 - ETA: 13s - loss: 0.37 - ETA: 13s - loss: 0.37 - ETA: 13s - loss: 0.37 - ETA: 13s - loss: 0.37 - ETA: 13s - loss: 0.37 - ETA: 13s - loss: 0.37 - ETA: 13s - loss: 0.37 - ETA: 13s - loss: 0.37 - ETA: 12s - loss: 0.37 - ETA: 12s - loss: 0.37 - ETA: 12s - loss: 0.37 - ETA: 12s - loss: 0.37 - ETA: 12s - loss: 0.37 - ETA: 12s - loss: 0.37 - ETA: 12s - loss: 0.37 - ETA: 12s - loss: 0.37 - ETA: 12s - loss: 0.37 - ETA: 12s - loss: 0.37 - ETA: 12s - loss: 0.37 - ETA: 12s - loss: 0.37 - ETA: 12s - loss: 0.37 - ETA: 12s - loss: 0.37 - ETA: 11s - loss: 0.37 - ETA: 11s - loss: 0.37 - ETA: 11s - loss: 0.37 - ETA: 11s - loss: 0.37 - ETA: 11s - loss: 0.37 - ETA: 11s - loss: 0.37 - ETA: 11s - loss: 0.37 - ETA: 11s - loss: 0.37 - ETA: 11s - loss: 0.37 - ETA: 11s - loss: 0.37 - ETA: 11s - loss: 0.37 - ETA: 11s - loss: 0.37 - ETA: 11s - loss: 0.37 - ETA: 10s - loss: 0.37 - ETA: 10s - loss: 0.37 - ETA: 10s - loss: 0.37 - ETA: 10s - loss: 0.37 - ETA: 10s - loss: 0.37 - ETA: 10s - loss: 0.37 - ETA: 10s - loss: 0.37 - ETA: 10s - loss: 0.37 - ETA: 10s - loss: 0.37 - ETA: 10s - loss: 0.37 - ETA: 10s - loss: 0.37 - ETA: 10s - loss: 0.37 - ETA: 10s - loss: 0.37 - ETA: 10s - loss: 0.37 - ETA: 9s - loss: 0.3784 - ETA: 9s - loss: 0.378 - ETA: 9s - loss: 0.378 - ETA: 9s - loss: 0.378 - ETA: 9s - loss: 0.378 - ETA: 9s - loss: 0.378 - ETA: 9s - loss: 0.378 - ETA: 9s - loss: 0.378 - ETA: 9s - loss: 0.378 - ETA: 9s - loss: 0.379 - ETA: 9s - loss: 0.379 - ETA: 9s - loss: 0.378 - ETA: 8s - loss: 0.378 - ETA: 8s - loss: 0.378 - ETA: 8s - loss: 0.378 - ETA: 8s - loss: 0.378 - ETA: 8s - loss: 0.378 - ETA: 8s - loss: 0.378 - ETA: 8s - loss: 0.378 - ETA: 8s - loss: 0.378 - ETA: 8s - loss: 0.378 - ETA: 8s - loss: 0.378 - ETA: 8s - loss: 0.378 - ETA: 8s - loss: 0.378 - ETA: 8s - loss: 0.378 - ETA: 8s - loss: 0.378 - ETA: 7s - loss: 0.378 - ETA: 7s - loss: 0.378 - ETA: 7s - loss: 0.378 - ETA: 7s - loss: 0.377 - ETA: 7s - loss: 0.377 - ETA: 7s - loss: 0.378 - ETA: 7s - loss: 0.378 - ETA: 7s - loss: 0.378 - ETA: 7s - loss: 0.378 - ETA: 7s - loss: 0.378 - ETA: 7s - loss: 0.378 - ETA: 7s - loss: 0.378 - ETA: 7s - loss: 0.378 - ETA: 7s - loss: 0.377 - ETA: 6s - loss: 0.377 - ETA: 6s - loss: 0.378 - ETA: 6s - loss: 0.378 - ETA: 6s - loss: 0.378 - ETA: 6s - loss: 0.378 - ETA: 6s - loss: 0.378 - ETA: 6s - loss: 0.378 - ETA: 6s - loss: 0.378 - ETA: 6s - loss: 0.378 - ETA: 6s - loss: 0.378 - ETA: 6s - loss: 0.378 - ETA: 6s - loss: 0.378 - ETA: 6s - loss: 0.378 - ETA: 6s - loss: 0.378 - ETA: 5s - loss: 0.378 - ETA: 5s - loss: 0.378 - ETA: 5s - loss: 0.378 - ETA: 5s - loss: 0.378 - ETA: 5s - loss: 0.378 - ETA: 5s - loss: 0.378 - ETA: 5s - loss: 0.378 - ETA: 5s - loss: 0.378 - ETA: 5s - loss: 0.378 - ETA: 5s - loss: 0.378 - ETA: 5s - loss: 0.378 - ETA: 5s - loss: 0.378 - ETA: 5s - loss: 0.378 - ETA: 5s - loss: 0.378 - ETA: 4s - loss: 0.378 - ETA: 4s - loss: 0.378 - ETA: 4s - loss: 0.378 - ETA: 4s - loss: 0.378 - ETA: 4s - loss: 0.378 - ETA: 4s - loss: 0.378 - ETA: 4s - loss: 0.379 - ETA: 4s - loss: 0.379 - ETA: 4s - loss: 0.379 - ETA: 4s - loss: 0.379 - ETA: 4s - loss: 0.379 - ETA: 4s - loss: 0.379 - ETA: 4s - loss: 0.379 - ETA: 3s - loss: 0.379 - ETA: 3s - loss: 0.379 - ETA: 3s - loss: 0.379 - ETA: 3s - loss: 0.379 - ETA: 3s - loss: 0.379 - ETA: 3s - loss: 0.379 - ETA: 3s - loss: 0.379 - ETA: 3s - loss: 0.380 - ETA: 3s - loss: 0.380 - ETA: 3s - loss: 0.380 - ETA: 3s - loss: 0.380 - ETA: 3s - loss: 0.380 - ETA: 3s - loss: 0.380 - ETA: 3s - loss: 0.380 - ETA: 2s - loss: 0.380 - ETA: 2s - loss: 0.380 - ETA: 2s - loss: 0.380 - ETA: 2s - loss: 0.380 - ETA: 2s - loss: 0.380 - ETA: 2s - loss: 0.380 - ETA: 2s - loss: 0.380 - ETA: 2s - loss: 0.380 - ETA: 2s - loss: 0.3807"
     ]
    },
    {
     "name": "stdout",
     "output_type": "stream",
     "text": [
      "55381/55381 [==============================] - ETA: 2s - loss: 0.380 - ETA: 2s - loss: 0.380 - ETA: 2s - loss: 0.380 - ETA: 2s - loss: 0.380 - ETA: 2s - loss: 0.380 - ETA: 1s - loss: 0.380 - ETA: 1s - loss: 0.380 - ETA: 1s - loss: 0.380 - ETA: 1s - loss: 0.380 - ETA: 1s - loss: 0.380 - ETA: 1s - loss: 0.380 - ETA: 1s - loss: 0.380 - ETA: 1s - loss: 0.380 - ETA: 1s - loss: 0.380 - ETA: 1s - loss: 0.380 - ETA: 1s - loss: 0.380 - ETA: 1s - loss: 0.380 - ETA: 1s - loss: 0.380 - ETA: 1s - loss: 0.380 - ETA: 1s - loss: 0.380 - ETA: 1s - loss: 0.380 - ETA: 0s - loss: 0.380 - ETA: 0s - loss: 0.380 - ETA: 0s - loss: 0.380 - ETA: 0s - loss: 0.379 - ETA: 0s - loss: 0.379 - ETA: 0s - loss: 0.379 - ETA: 0s - loss: 0.379 - ETA: 0s - loss: 0.379 - ETA: 0s - loss: 0.379 - ETA: 0s - loss: 0.379 - ETA: 0s - loss: 0.379 - ETA: 0s - loss: 0.379 - ETA: 0s - loss: 0.379 - ETA: 0s - loss: 0.379 - ETA: 0s - loss: 0.379 - ETA: 0s - loss: 0.379 - ETA: 0s - loss: 0.379 - ETA: 0s - loss: 0.379 - 24s 429us/step - loss: 0.3794 - val_loss: 0.3804\n",
      "Epoch 45/50\n",
      "49792/55381 [=========================>....] - ETA: 13s - loss: 0.30 - ETA: 44s - loss: 0.31 - ETA: 51s - loss: 0.33 - ETA: 51s - loss: 0.35 - ETA: 41s - loss: 0.37 - ETA: 36s - loss: 0.39 - ETA: 34s - loss: 0.38 - ETA: 37s - loss: 0.38 - ETA: 39s - loss: 0.37 - ETA: 40s - loss: 0.38 - ETA: 38s - loss: 0.39 - ETA: 35s - loss: 0.38 - ETA: 36s - loss: 0.38 - ETA: 35s - loss: 0.38 - ETA: 33s - loss: 0.38 - ETA: 33s - loss: 0.38 - ETA: 33s - loss: 0.39 - ETA: 33s - loss: 0.38 - ETA: 32s - loss: 0.38 - ETA: 32s - loss: 0.38 - ETA: 30s - loss: 0.38 - ETA: 30s - loss: 0.39 - ETA: 29s - loss: 0.39 - ETA: 29s - loss: 0.39 - ETA: 29s - loss: 0.39 - ETA: 29s - loss: 0.39 - ETA: 29s - loss: 0.38 - ETA: 29s - loss: 0.39 - ETA: 29s - loss: 0.38 - ETA: 28s - loss: 0.38 - ETA: 29s - loss: 0.38 - ETA: 28s - loss: 0.38 - ETA: 28s - loss: 0.37 - ETA: 28s - loss: 0.37 - ETA: 28s - loss: 0.37 - ETA: 28s - loss: 0.37 - ETA: 28s - loss: 0.38 - ETA: 28s - loss: 0.37 - ETA: 28s - loss: 0.38 - ETA: 28s - loss: 0.37 - ETA: 27s - loss: 0.37 - ETA: 27s - loss: 0.37 - ETA: 27s - loss: 0.37 - ETA: 27s - loss: 0.37 - ETA: 28s - loss: 0.38 - ETA: 28s - loss: 0.38 - ETA: 28s - loss: 0.37 - ETA: 27s - loss: 0.37 - ETA: 27s - loss: 0.37 - ETA: 27s - loss: 0.37 - ETA: 27s - loss: 0.37 - ETA: 27s - loss: 0.37 - ETA: 26s - loss: 0.37 - ETA: 27s - loss: 0.37 - ETA: 27s - loss: 0.37 - ETA: 27s - loss: 0.37 - ETA: 27s - loss: 0.37 - ETA: 27s - loss: 0.37 - ETA: 27s - loss: 0.37 - ETA: 27s - loss: 0.37 - ETA: 26s - loss: 0.37 - ETA: 26s - loss: 0.37 - ETA: 26s - loss: 0.37 - ETA: 26s - loss: 0.37 - ETA: 25s - loss: 0.37 - ETA: 25s - loss: 0.37 - ETA: 25s - loss: 0.37 - ETA: 25s - loss: 0.38 - ETA: 25s - loss: 0.38 - ETA: 25s - loss: 0.38 - ETA: 25s - loss: 0.38 - ETA: 25s - loss: 0.38 - ETA: 24s - loss: 0.38 - ETA: 24s - loss: 0.38 - ETA: 24s - loss: 0.38 - ETA: 24s - loss: 0.38 - ETA: 24s - loss: 0.38 - ETA: 24s - loss: 0.38 - ETA: 24s - loss: 0.38 - ETA: 24s - loss: 0.38 - ETA: 23s - loss: 0.38 - ETA: 23s - loss: 0.38 - ETA: 23s - loss: 0.38 - ETA: 23s - loss: 0.38 - ETA: 23s - loss: 0.38 - ETA: 23s - loss: 0.38 - ETA: 23s - loss: 0.38 - ETA: 23s - loss: 0.38 - ETA: 23s - loss: 0.38 - ETA: 23s - loss: 0.38 - ETA: 23s - loss: 0.38 - ETA: 23s - loss: 0.38 - ETA: 22s - loss: 0.38 - ETA: 22s - loss: 0.38 - ETA: 22s - loss: 0.38 - ETA: 22s - loss: 0.38 - ETA: 21s - loss: 0.37 - ETA: 21s - loss: 0.38 - ETA: 21s - loss: 0.38 - ETA: 21s - loss: 0.38 - ETA: 21s - loss: 0.38 - ETA: 21s - loss: 0.38 - ETA: 21s - loss: 0.38 - ETA: 21s - loss: 0.38 - ETA: 21s - loss: 0.38 - ETA: 20s - loss: 0.38 - ETA: 20s - loss: 0.38 - ETA: 20s - loss: 0.38 - ETA: 20s - loss: 0.38 - ETA: 20s - loss: 0.38 - ETA: 20s - loss: 0.38 - ETA: 20s - loss: 0.38 - ETA: 20s - loss: 0.37 - ETA: 20s - loss: 0.37 - ETA: 20s - loss: 0.37 - ETA: 20s - loss: 0.37 - ETA: 20s - loss: 0.38 - ETA: 20s - loss: 0.38 - ETA: 20s - loss: 0.38 - ETA: 20s - loss: 0.38 - ETA: 20s - loss: 0.37 - ETA: 20s - loss: 0.37 - ETA: 20s - loss: 0.37 - ETA: 19s - loss: 0.37 - ETA: 19s - loss: 0.37 - ETA: 19s - loss: 0.37 - ETA: 19s - loss: 0.37 - ETA: 19s - loss: 0.37 - ETA: 19s - loss: 0.37 - ETA: 19s - loss: 0.38 - ETA: 19s - loss: 0.38 - ETA: 19s - loss: 0.38 - ETA: 19s - loss: 0.38 - ETA: 18s - loss: 0.38 - ETA: 18s - loss: 0.37 - ETA: 18s - loss: 0.37 - ETA: 18s - loss: 0.37 - ETA: 18s - loss: 0.37 - ETA: 18s - loss: 0.37 - ETA: 18s - loss: 0.37 - ETA: 18s - loss: 0.37 - ETA: 18s - loss: 0.37 - ETA: 18s - loss: 0.37 - ETA: 18s - loss: 0.37 - ETA: 18s - loss: 0.37 - ETA: 17s - loss: 0.37 - ETA: 17s - loss: 0.37 - ETA: 17s - loss: 0.37 - ETA: 17s - loss: 0.37 - ETA: 17s - loss: 0.37 - ETA: 17s - loss: 0.37 - ETA: 17s - loss: 0.37 - ETA: 17s - loss: 0.37 - ETA: 17s - loss: 0.37 - ETA: 17s - loss: 0.37 - ETA: 17s - loss: 0.37 - ETA: 17s - loss: 0.37 - ETA: 16s - loss: 0.37 - ETA: 16s - loss: 0.37 - ETA: 16s - loss: 0.37 - ETA: 16s - loss: 0.37 - ETA: 16s - loss: 0.37 - ETA: 16s - loss: 0.37 - ETA: 16s - loss: 0.37 - ETA: 16s - loss: 0.37 - ETA: 16s - loss: 0.37 - ETA: 16s - loss: 0.37 - ETA: 16s - loss: 0.37 - ETA: 15s - loss: 0.37 - ETA: 15s - loss: 0.37 - ETA: 15s - loss: 0.37 - ETA: 15s - loss: 0.37 - ETA: 15s - loss: 0.37 - ETA: 15s - loss: 0.37 - ETA: 15s - loss: 0.37 - ETA: 15s - loss: 0.37 - ETA: 15s - loss: 0.37 - ETA: 15s - loss: 0.37 - ETA: 14s - loss: 0.37 - ETA: 14s - loss: 0.37 - ETA: 14s - loss: 0.37 - ETA: 14s - loss: 0.37 - ETA: 14s - loss: 0.37 - ETA: 14s - loss: 0.37 - ETA: 14s - loss: 0.37 - ETA: 14s - loss: 0.37 - ETA: 14s - loss: 0.37 - ETA: 14s - loss: 0.37 - ETA: 14s - loss: 0.37 - ETA: 13s - loss: 0.37 - ETA: 13s - loss: 0.37 - ETA: 13s - loss: 0.37 - ETA: 13s - loss: 0.37 - ETA: 13s - loss: 0.37 - ETA: 13s - loss: 0.37 - ETA: 13s - loss: 0.37 - ETA: 13s - loss: 0.37 - ETA: 13s - loss: 0.37 - ETA: 13s - loss: 0.37 - ETA: 13s - loss: 0.37 - ETA: 12s - loss: 0.37 - ETA: 12s - loss: 0.37 - ETA: 12s - loss: 0.37 - ETA: 12s - loss: 0.37 - ETA: 12s - loss: 0.37 - ETA: 12s - loss: 0.37 - ETA: 12s - loss: 0.37 - ETA: 12s - loss: 0.37 - ETA: 12s - loss: 0.37 - ETA: 12s - loss: 0.37 - ETA: 12s - loss: 0.37 - ETA: 11s - loss: 0.37 - ETA: 11s - loss: 0.37 - ETA: 11s - loss: 0.37 - ETA: 11s - loss: 0.37 - ETA: 11s - loss: 0.37 - ETA: 11s - loss: 0.37 - ETA: 11s - loss: 0.37 - ETA: 11s - loss: 0.37 - ETA: 11s - loss: 0.37 - ETA: 11s - loss: 0.37 - ETA: 11s - loss: 0.37 - ETA: 10s - loss: 0.37 - ETA: 10s - loss: 0.37 - ETA: 10s - loss: 0.37 - ETA: 10s - loss: 0.37 - ETA: 10s - loss: 0.37 - ETA: 10s - loss: 0.37 - ETA: 10s - loss: 0.37 - ETA: 10s - loss: 0.37 - ETA: 10s - loss: 0.37 - ETA: 10s - loss: 0.37 - ETA: 10s - loss: 0.37 - ETA: 9s - loss: 0.3766 - ETA: 9s - loss: 0.376 - ETA: 9s - loss: 0.376 - ETA: 9s - loss: 0.377 - ETA: 9s - loss: 0.377 - ETA: 9s - loss: 0.377 - ETA: 9s - loss: 0.377 - ETA: 9s - loss: 0.377 - ETA: 9s - loss: 0.377 - ETA: 9s - loss: 0.377 - ETA: 9s - loss: 0.377 - ETA: 9s - loss: 0.377 - ETA: 9s - loss: 0.377 - ETA: 8s - loss: 0.377 - ETA: 8s - loss: 0.377 - ETA: 8s - loss: 0.377 - ETA: 8s - loss: 0.377 - ETA: 8s - loss: 0.378 - ETA: 8s - loss: 0.378 - ETA: 8s - loss: 0.378 - ETA: 8s - loss: 0.378 - ETA: 8s - loss: 0.378 - ETA: 8s - loss: 0.378 - ETA: 8s - loss: 0.379 - ETA: 8s - loss: 0.379 - ETA: 8s - loss: 0.379 - ETA: 7s - loss: 0.379 - ETA: 7s - loss: 0.379 - ETA: 7s - loss: 0.379 - ETA: 7s - loss: 0.379 - ETA: 7s - loss: 0.379 - ETA: 7s - loss: 0.379 - ETA: 7s - loss: 0.379 - ETA: 7s - loss: 0.379 - ETA: 7s - loss: 0.379 - ETA: 7s - loss: 0.379 - ETA: 7s - loss: 0.379 - ETA: 7s - loss: 0.379 - ETA: 7s - loss: 0.379 - ETA: 6s - loss: 0.378 - ETA: 6s - loss: 0.378 - ETA: 6s - loss: 0.378 - ETA: 6s - loss: 0.379 - ETA: 6s - loss: 0.379 - ETA: 6s - loss: 0.379 - ETA: 6s - loss: 0.379 - ETA: 6s - loss: 0.379 - ETA: 6s - loss: 0.379 - ETA: 6s - loss: 0.379 - ETA: 6s - loss: 0.379 - ETA: 6s - loss: 0.379 - ETA: 5s - loss: 0.379 - ETA: 5s - loss: 0.379 - ETA: 5s - loss: 0.379 - ETA: 5s - loss: 0.379 - ETA: 5s - loss: 0.379 - ETA: 5s - loss: 0.379 - ETA: 5s - loss: 0.379 - ETA: 5s - loss: 0.379 - ETA: 5s - loss: 0.379 - ETA: 5s - loss: 0.379 - ETA: 5s - loss: 0.379 - ETA: 5s - loss: 0.379 - ETA: 5s - loss: 0.379 - ETA: 4s - loss: 0.379 - ETA: 4s - loss: 0.378 - ETA: 4s - loss: 0.379 - ETA: 4s - loss: 0.379 - ETA: 4s - loss: 0.379 - ETA: 4s - loss: 0.379 - ETA: 4s - loss: 0.379 - ETA: 4s - loss: 0.379 - ETA: 4s - loss: 0.379 - ETA: 4s - loss: 0.379 - ETA: 4s - loss: 0.379 - ETA: 4s - loss: 0.379 - ETA: 4s - loss: 0.379 - ETA: 4s - loss: 0.379 - ETA: 4s - loss: 0.379 - ETA: 4s - loss: 0.379 - ETA: 3s - loss: 0.379 - ETA: 3s - loss: 0.379 - ETA: 3s - loss: 0.379 - ETA: 3s - loss: 0.379 - ETA: 3s - loss: 0.379 - ETA: 3s - loss: 0.379 - ETA: 3s - loss: 0.379 - ETA: 3s - loss: 0.379 - ETA: 3s - loss: 0.379 - ETA: 3s - loss: 0.379 - ETA: 3s - loss: 0.379 - ETA: 3s - loss: 0.379 - ETA: 3s - loss: 0.379 - ETA: 3s - loss: 0.379 - ETA: 3s - loss: 0.379 - ETA: 3s - loss: 0.380 - ETA: 2s - loss: 0.379 - ETA: 2s - loss: 0.379 - ETA: 2s - loss: 0.379 - ETA: 2s - loss: 0.379 - ETA: 2s - loss: 0.379 - ETA: 2s - loss: 0.379 - ETA: 2s - loss: 0.379 - ETA: 2s - loss: 0.379 - ETA: 2s - loss: 0.379 - ETA: 2s - loss: 0.379 - ETA: 2s - loss: 0.379255381/55381 [==============================] - ETA: 2s - loss: 0.379 - ETA: 2s - loss: 0.379 - ETA: 2s - loss: 0.379 - ETA: 2s - loss: 0.379 - ETA: 1s - loss: 0.379 - ETA: 1s - loss: 0.379 - ETA: 1s - loss: 0.379 - ETA: 1s - loss: 0.378 - ETA: 1s - loss: 0.379 - ETA: 1s - loss: 0.379 - ETA: 1s - loss: 0.379 - ETA: 1s - loss: 0.379 - ETA: 1s - loss: 0.379 - ETA: 1s - loss: 0.379 - ETA: 1s - loss: 0.379 - ETA: 1s - loss: 0.379 - ETA: 1s - loss: 0.379 - ETA: 1s - loss: 0.379 - ETA: 0s - loss: 0.379 - ETA: 0s - loss: 0.379 - ETA: 0s - loss: 0.379 - ETA: 0s - loss: 0.379 - ETA: 0s - loss: 0.379 - ETA: 0s - loss: 0.379 - ETA: 0s - loss: 0.379 - ETA: 0s - loss: 0.379 - ETA: 0s - loss: 0.379 - ETA: 0s - loss: 0.379 - ETA: 0s - loss: 0.379 - ETA: 0s - loss: 0.379 - ETA: 0s - loss: 0.379 - ETA: 0s - loss: 0.379 - ETA: 0s - loss: 0.379 - ETA: 0s - loss: 0.379 - ETA: 0s - loss: 0.379 - ETA: 0s - loss: 0.379 - 23s 422us/step - loss: 0.3794 - val_loss: 0.3814\n",
      "Epoch 46/50\n"
     ]
    },
    {
     "name": "stdout",
     "output_type": "stream",
     "text": [
      "51904/55381 [===========================>..] - ETA: 27s - loss: 0.33 - ETA: 1:04 - loss: 0.335 - ETA: 58s - loss: 0.373 - ETA: 39s - loss: 0.39 - ETA: 43s - loss: 0.38 - ETA: 39s - loss: 0.38 - ETA: 34s - loss: 0.36 - ETA: 35s - loss: 0.36 - ETA: 34s - loss: 0.38 - ETA: 31s - loss: 0.38 - ETA: 32s - loss: 0.37 - ETA: 30s - loss: 0.37 - ETA: 28s - loss: 0.37 - ETA: 28s - loss: 0.37 - ETA: 28s - loss: 0.37 - ETA: 27s - loss: 0.37 - ETA: 28s - loss: 0.37 - ETA: 29s - loss: 0.37 - ETA: 29s - loss: 0.37 - ETA: 28s - loss: 0.37 - ETA: 27s - loss: 0.37 - ETA: 28s - loss: 0.37 - ETA: 28s - loss: 0.37 - ETA: 28s - loss: 0.37 - ETA: 28s - loss: 0.37 - ETA: 27s - loss: 0.37 - ETA: 26s - loss: 0.37 - ETA: 25s - loss: 0.37 - ETA: 25s - loss: 0.37 - ETA: 24s - loss: 0.37 - ETA: 23s - loss: 0.37 - ETA: 23s - loss: 0.37 - ETA: 23s - loss: 0.37 - ETA: 23s - loss: 0.37 - ETA: 23s - loss: 0.37 - ETA: 23s - loss: 0.37 - ETA: 23s - loss: 0.37 - ETA: 23s - loss: 0.37 - ETA: 23s - loss: 0.37 - ETA: 23s - loss: 0.37 - ETA: 23s - loss: 0.37 - ETA: 23s - loss: 0.37 - ETA: 23s - loss: 0.37 - ETA: 23s - loss: 0.37 - ETA: 23s - loss: 0.37 - ETA: 23s - loss: 0.37 - ETA: 23s - loss: 0.37 - ETA: 23s - loss: 0.37 - ETA: 23s - loss: 0.37 - ETA: 23s - loss: 0.37 - ETA: 22s - loss: 0.37 - ETA: 23s - loss: 0.37 - ETA: 23s - loss: 0.37 - ETA: 23s - loss: 0.37 - ETA: 22s - loss: 0.37 - ETA: 22s - loss: 0.37 - ETA: 22s - loss: 0.37 - ETA: 22s - loss: 0.37 - ETA: 22s - loss: 0.37 - ETA: 22s - loss: 0.37 - ETA: 22s - loss: 0.37 - ETA: 22s - loss: 0.37 - ETA: 22s - loss: 0.37 - ETA: 22s - loss: 0.37 - ETA: 21s - loss: 0.37 - ETA: 22s - loss: 0.37 - ETA: 22s - loss: 0.37 - ETA: 21s - loss: 0.37 - ETA: 21s - loss: 0.37 - ETA: 21s - loss: 0.37 - ETA: 21s - loss: 0.37 - ETA: 21s - loss: 0.37 - ETA: 21s - loss: 0.37 - ETA: 21s - loss: 0.37 - ETA: 21s - loss: 0.37 - ETA: 21s - loss: 0.37 - ETA: 21s - loss: 0.37 - ETA: 21s - loss: 0.37 - ETA: 21s - loss: 0.37 - ETA: 21s - loss: 0.37 - ETA: 21s - loss: 0.37 - ETA: 21s - loss: 0.37 - ETA: 21s - loss: 0.37 - ETA: 21s - loss: 0.37 - ETA: 21s - loss: 0.37 - ETA: 21s - loss: 0.37 - ETA: 21s - loss: 0.37 - ETA: 21s - loss: 0.37 - ETA: 21s - loss: 0.37 - ETA: 21s - loss: 0.37 - ETA: 20s - loss: 0.37 - ETA: 20s - loss: 0.37 - ETA: 20s - loss: 0.37 - ETA: 20s - loss: 0.37 - ETA: 20s - loss: 0.37 - ETA: 20s - loss: 0.37 - ETA: 20s - loss: 0.37 - ETA: 20s - loss: 0.37 - ETA: 20s - loss: 0.37 - ETA: 20s - loss: 0.37 - ETA: 20s - loss: 0.37 - ETA: 20s - loss: 0.37 - ETA: 20s - loss: 0.37 - ETA: 20s - loss: 0.37 - ETA: 19s - loss: 0.37 - ETA: 19s - loss: 0.37 - ETA: 19s - loss: 0.37 - ETA: 19s - loss: 0.37 - ETA: 19s - loss: 0.37 - ETA: 19s - loss: 0.37 - ETA: 19s - loss: 0.37 - ETA: 19s - loss: 0.37 - ETA: 19s - loss: 0.37 - ETA: 19s - loss: 0.37 - ETA: 19s - loss: 0.37 - ETA: 19s - loss: 0.37 - ETA: 18s - loss: 0.37 - ETA: 18s - loss: 0.37 - ETA: 18s - loss: 0.37 - ETA: 18s - loss: 0.37 - ETA: 18s - loss: 0.37 - ETA: 18s - loss: 0.37 - ETA: 18s - loss: 0.37 - ETA: 18s - loss: 0.37 - ETA: 18s - loss: 0.37 - ETA: 18s - loss: 0.37 - ETA: 18s - loss: 0.37 - ETA: 18s - loss: 0.37 - ETA: 17s - loss: 0.37 - ETA: 17s - loss: 0.37 - ETA: 17s - loss: 0.37 - ETA: 17s - loss: 0.37 - ETA: 17s - loss: 0.37 - ETA: 17s - loss: 0.37 - ETA: 17s - loss: 0.37 - ETA: 17s - loss: 0.37 - ETA: 17s - loss: 0.37 - ETA: 17s - loss: 0.37 - ETA: 16s - loss: 0.37 - ETA: 16s - loss: 0.37 - ETA: 16s - loss: 0.37 - ETA: 16s - loss: 0.37 - ETA: 16s - loss: 0.37 - ETA: 16s - loss: 0.37 - ETA: 16s - loss: 0.37 - ETA: 16s - loss: 0.37 - ETA: 15s - loss: 0.37 - ETA: 15s - loss: 0.37 - ETA: 15s - loss: 0.37 - ETA: 15s - loss: 0.37 - ETA: 15s - loss: 0.37 - ETA: 15s - loss: 0.37 - ETA: 15s - loss: 0.37 - ETA: 15s - loss: 0.37 - ETA: 15s - loss: 0.37 - ETA: 15s - loss: 0.37 - ETA: 15s - loss: 0.37 - ETA: 14s - loss: 0.37 - ETA: 14s - loss: 0.37 - ETA: 14s - loss: 0.37 - ETA: 14s - loss: 0.37 - ETA: 14s - loss: 0.38 - ETA: 14s - loss: 0.37 - ETA: 14s - loss: 0.37 - ETA: 14s - loss: 0.37 - ETA: 14s - loss: 0.37 - ETA: 14s - loss: 0.37 - ETA: 14s - loss: 0.37 - ETA: 14s - loss: 0.37 - ETA: 13s - loss: 0.37 - ETA: 13s - loss: 0.37 - ETA: 13s - loss: 0.37 - ETA: 13s - loss: 0.37 - ETA: 13s - loss: 0.37 - ETA: 13s - loss: 0.37 - ETA: 13s - loss: 0.37 - ETA: 13s - loss: 0.37 - ETA: 13s - loss: 0.37 - ETA: 13s - loss: 0.37 - ETA: 13s - loss: 0.37 - ETA: 13s - loss: 0.37 - ETA: 12s - loss: 0.37 - ETA: 12s - loss: 0.37 - ETA: 12s - loss: 0.37 - ETA: 12s - loss: 0.37 - ETA: 12s - loss: 0.37 - ETA: 12s - loss: 0.37 - ETA: 12s - loss: 0.37 - ETA: 12s - loss: 0.37 - ETA: 12s - loss: 0.37 - ETA: 11s - loss: 0.37 - ETA: 11s - loss: 0.37 - ETA: 11s - loss: 0.37 - ETA: 11s - loss: 0.37 - ETA: 11s - loss: 0.37 - ETA: 11s - loss: 0.37 - ETA: 11s - loss: 0.37 - ETA: 11s - loss: 0.37 - ETA: 11s - loss: 0.37 - ETA: 11s - loss: 0.37 - ETA: 11s - loss: 0.37 - ETA: 11s - loss: 0.37 - ETA: 11s - loss: 0.37 - ETA: 11s - loss: 0.37 - ETA: 10s - loss: 0.37 - ETA: 10s - loss: 0.37 - ETA: 10s - loss: 0.37 - ETA: 10s - loss: 0.37 - ETA: 10s - loss: 0.37 - ETA: 10s - loss: 0.37 - ETA: 10s - loss: 0.37 - ETA: 10s - loss: 0.37 - ETA: 10s - loss: 0.37 - ETA: 10s - loss: 0.37 - ETA: 10s - loss: 0.37 - ETA: 10s - loss: 0.37 - ETA: 9s - loss: 0.3789 - ETA: 9s - loss: 0.378 - ETA: 9s - loss: 0.378 - ETA: 9s - loss: 0.378 - ETA: 9s - loss: 0.378 - ETA: 9s - loss: 0.378 - ETA: 9s - loss: 0.378 - ETA: 9s - loss: 0.378 - ETA: 9s - loss: 0.378 - ETA: 9s - loss: 0.378 - ETA: 9s - loss: 0.379 - ETA: 9s - loss: 0.379 - ETA: 8s - loss: 0.379 - ETA: 8s - loss: 0.379 - ETA: 8s - loss: 0.379 - ETA: 8s - loss: 0.378 - ETA: 8s - loss: 0.379 - ETA: 8s - loss: 0.378 - ETA: 8s - loss: 0.378 - ETA: 8s - loss: 0.379 - ETA: 8s - loss: 0.379 - ETA: 8s - loss: 0.379 - ETA: 8s - loss: 0.379 - ETA: 8s - loss: 0.379 - ETA: 8s - loss: 0.379 - ETA: 8s - loss: 0.378 - ETA: 8s - loss: 0.378 - ETA: 8s - loss: 0.378 - ETA: 8s - loss: 0.378 - ETA: 8s - loss: 0.378 - ETA: 7s - loss: 0.378 - ETA: 7s - loss: 0.378 - ETA: 7s - loss: 0.378 - ETA: 7s - loss: 0.378 - ETA: 7s - loss: 0.378 - ETA: 7s - loss: 0.378 - ETA: 7s - loss: 0.378 - ETA: 7s - loss: 0.378 - ETA: 7s - loss: 0.378 - ETA: 7s - loss: 0.378 - ETA: 7s - loss: 0.378 - ETA: 7s - loss: 0.378 - ETA: 7s - loss: 0.378 - ETA: 7s - loss: 0.378 - ETA: 6s - loss: 0.378 - ETA: 6s - loss: 0.378 - ETA: 6s - loss: 0.379 - ETA: 6s - loss: 0.379 - ETA: 6s - loss: 0.379 - ETA: 6s - loss: 0.379 - ETA: 6s - loss: 0.379 - ETA: 6s - loss: 0.379 - ETA: 6s - loss: 0.379 - ETA: 6s - loss: 0.379 - ETA: 6s - loss: 0.379 - ETA: 6s - loss: 0.379 - ETA: 6s - loss: 0.379 - ETA: 6s - loss: 0.379 - ETA: 5s - loss: 0.379 - ETA: 5s - loss: 0.379 - ETA: 5s - loss: 0.379 - ETA: 5s - loss: 0.379 - ETA: 5s - loss: 0.379 - ETA: 5s - loss: 0.379 - ETA: 5s - loss: 0.378 - ETA: 5s - loss: 0.378 - ETA: 5s - loss: 0.378 - ETA: 5s - loss: 0.378 - ETA: 5s - loss: 0.378 - ETA: 5s - loss: 0.378 - ETA: 5s - loss: 0.378 - ETA: 5s - loss: 0.378 - ETA: 5s - loss: 0.378 - ETA: 4s - loss: 0.378 - ETA: 4s - loss: 0.378 - ETA: 4s - loss: 0.378 - ETA: 4s - loss: 0.379 - ETA: 4s - loss: 0.379 - ETA: 4s - loss: 0.379 - ETA: 4s - loss: 0.379 - ETA: 4s - loss: 0.379 - ETA: 4s - loss: 0.379 - ETA: 4s - loss: 0.379 - ETA: 4s - loss: 0.379 - ETA: 4s - loss: 0.379 - ETA: 4s - loss: 0.379 - ETA: 3s - loss: 0.379 - ETA: 3s - loss: 0.380 - ETA: 3s - loss: 0.380 - ETA: 3s - loss: 0.380 - ETA: 3s - loss: 0.380 - ETA: 3s - loss: 0.380 - ETA: 3s - loss: 0.379 - ETA: 3s - loss: 0.379 - ETA: 3s - loss: 0.379 - ETA: 3s - loss: 0.379 - ETA: 3s - loss: 0.379 - ETA: 3s - loss: 0.379 - ETA: 3s - loss: 0.379 - ETA: 3s - loss: 0.379 - ETA: 3s - loss: 0.379 - ETA: 2s - loss: 0.378 - ETA: 2s - loss: 0.378 - ETA: 2s - loss: 0.378 - ETA: 2s - loss: 0.378 - ETA: 2s - loss: 0.378 - ETA: 2s - loss: 0.378 - ETA: 2s - loss: 0.378 - ETA: 2s - loss: 0.378 - ETA: 2s - loss: 0.378 - ETA: 2s - loss: 0.378 - ETA: 2s - loss: 0.378 - ETA: 2s - loss: 0.378 - ETA: 2s - loss: 0.378 - ETA: 2s - loss: 0.378 - ETA: 1s - loss: 0.378 - ETA: 1s - loss: 0.378 - ETA: 1s - loss: 0.378 - ETA: 1s - loss: 0.378 - ETA: 1s - loss: 0.378 - ETA: 1s - loss: 0.378 - ETA: 1s - loss: 0.378 - ETA: 1s - loss: 0.378 - ETA: 1s - loss: 0.3785"
     ]
    },
    {
     "name": "stdout",
     "output_type": "stream",
     "text": [
      "55381/55381 [==============================] - ETA: 1s - loss: 0.378 - ETA: 1s - loss: 0.378 - ETA: 1s - loss: 0.378 - ETA: 1s - loss: 0.378 - ETA: 1s - loss: 0.378 - ETA: 1s - loss: 0.378 - ETA: 0s - loss: 0.377 - ETA: 0s - loss: 0.377 - ETA: 0s - loss: 0.377 - ETA: 0s - loss: 0.377 - ETA: 0s - loss: 0.377 - ETA: 0s - loss: 0.377 - ETA: 0s - loss: 0.377 - ETA: 0s - loss: 0.377 - ETA: 0s - loss: 0.377 - ETA: 0s - loss: 0.377 - ETA: 0s - loss: 0.377 - ETA: 0s - loss: 0.377 - ETA: 0s - loss: 0.377 - ETA: 0s - loss: 0.377 - ETA: 0s - loss: 0.377 - ETA: 0s - loss: 0.377 - 23s 415us/step - loss: 0.3772 - val_loss: 0.3778\n",
      "Epoch 47/50\n",
      "48896/55381 [=========================>....] - ETA: 13s - loss: 0.35 - ETA: 23s - loss: 0.40 - ETA: 31s - loss: 0.38 - ETA: 33s - loss: 0.36 - ETA: 27s - loss: 0.37 - ETA: 27s - loss: 0.36 - ETA: 24s - loss: 0.35 - ETA: 25s - loss: 0.35 - ETA: 24s - loss: 0.37 - ETA: 26s - loss: 0.37 - ETA: 25s - loss: 0.37 - ETA: 24s - loss: 0.36 - ETA: 24s - loss: 0.36 - ETA: 24s - loss: 0.35 - ETA: 24s - loss: 0.35 - ETA: 25s - loss: 0.35 - ETA: 24s - loss: 0.36 - ETA: 24s - loss: 0.36 - ETA: 24s - loss: 0.36 - ETA: 24s - loss: 0.36 - ETA: 24s - loss: 0.36 - ETA: 24s - loss: 0.36 - ETA: 23s - loss: 0.36 - ETA: 23s - loss: 0.36 - ETA: 22s - loss: 0.36 - ETA: 22s - loss: 0.37 - ETA: 22s - loss: 0.37 - ETA: 22s - loss: 0.37 - ETA: 21s - loss: 0.37 - ETA: 21s - loss: 0.37 - ETA: 21s - loss: 0.37 - ETA: 22s - loss: 0.37 - ETA: 22s - loss: 0.37 - ETA: 22s - loss: 0.37 - ETA: 22s - loss: 0.37 - ETA: 22s - loss: 0.37 - ETA: 23s - loss: 0.37 - ETA: 23s - loss: 0.37 - ETA: 23s - loss: 0.37 - ETA: 22s - loss: 0.37 - ETA: 22s - loss: 0.37 - ETA: 22s - loss: 0.37 - ETA: 22s - loss: 0.37 - ETA: 22s - loss: 0.37 - ETA: 22s - loss: 0.37 - ETA: 22s - loss: 0.37 - ETA: 22s - loss: 0.37 - ETA: 23s - loss: 0.37 - ETA: 23s - loss: 0.37 - ETA: 23s - loss: 0.37 - ETA: 23s - loss: 0.37 - ETA: 23s - loss: 0.37 - ETA: 23s - loss: 0.37 - ETA: 23s - loss: 0.37 - ETA: 23s - loss: 0.37 - ETA: 23s - loss: 0.37 - ETA: 23s - loss: 0.37 - ETA: 23s - loss: 0.37 - ETA: 23s - loss: 0.37 - ETA: 23s - loss: 0.37 - ETA: 23s - loss: 0.37 - ETA: 23s - loss: 0.37 - ETA: 23s - loss: 0.37 - ETA: 23s - loss: 0.37 - ETA: 23s - loss: 0.37 - ETA: 23s - loss: 0.37 - ETA: 23s - loss: 0.37 - ETA: 23s - loss: 0.37 - ETA: 23s - loss: 0.37 - ETA: 23s - loss: 0.37 - ETA: 23s - loss: 0.37 - ETA: 23s - loss: 0.37 - ETA: 23s - loss: 0.37 - ETA: 23s - loss: 0.37 - ETA: 22s - loss: 0.37 - ETA: 22s - loss: 0.37 - ETA: 22s - loss: 0.37 - ETA: 22s - loss: 0.37 - ETA: 22s - loss: 0.37 - ETA: 22s - loss: 0.37 - ETA: 22s - loss: 0.37 - ETA: 22s - loss: 0.37 - ETA: 21s - loss: 0.37 - ETA: 21s - loss: 0.37 - ETA: 21s - loss: 0.37 - ETA: 21s - loss: 0.37 - ETA: 21s - loss: 0.37 - ETA: 21s - loss: 0.37 - ETA: 21s - loss: 0.37 - ETA: 21s - loss: 0.37 - ETA: 21s - loss: 0.37 - ETA: 21s - loss: 0.37 - ETA: 21s - loss: 0.37 - ETA: 20s - loss: 0.37 - ETA: 20s - loss: 0.38 - ETA: 20s - loss: 0.38 - ETA: 20s - loss: 0.38 - ETA: 20s - loss: 0.37 - ETA: 20s - loss: 0.37 - ETA: 20s - loss: 0.37 - ETA: 20s - loss: 0.37 - ETA: 20s - loss: 0.37 - ETA: 20s - loss: 0.37 - ETA: 20s - loss: 0.37 - ETA: 20s - loss: 0.37 - ETA: 19s - loss: 0.37 - ETA: 19s - loss: 0.37 - ETA: 20s - loss: 0.37 - ETA: 19s - loss: 0.37 - ETA: 19s - loss: 0.37 - ETA: 19s - loss: 0.37 - ETA: 19s - loss: 0.37 - ETA: 19s - loss: 0.37 - ETA: 19s - loss: 0.37 - ETA: 19s - loss: 0.37 - ETA: 19s - loss: 0.37 - ETA: 19s - loss: 0.37 - ETA: 19s - loss: 0.37 - ETA: 19s - loss: 0.37 - ETA: 19s - loss: 0.37 - ETA: 19s - loss: 0.37 - ETA: 19s - loss: 0.37 - ETA: 18s - loss: 0.37 - ETA: 18s - loss: 0.37 - ETA: 18s - loss: 0.37 - ETA: 18s - loss: 0.37 - ETA: 18s - loss: 0.37 - ETA: 18s - loss: 0.37 - ETA: 18s - loss: 0.37 - ETA: 18s - loss: 0.37 - ETA: 18s - loss: 0.37 - ETA: 18s - loss: 0.37 - ETA: 18s - loss: 0.37 - ETA: 18s - loss: 0.37 - ETA: 18s - loss: 0.37 - ETA: 17s - loss: 0.37 - ETA: 17s - loss: 0.37 - ETA: 17s - loss: 0.37 - ETA: 17s - loss: 0.37 - ETA: 17s - loss: 0.37 - ETA: 17s - loss: 0.37 - ETA: 17s - loss: 0.37 - ETA: 17s - loss: 0.37 - ETA: 17s - loss: 0.37 - ETA: 17s - loss: 0.37 - ETA: 17s - loss: 0.37 - ETA: 17s - loss: 0.37 - ETA: 17s - loss: 0.37 - ETA: 17s - loss: 0.37 - ETA: 16s - loss: 0.37 - ETA: 16s - loss: 0.37 - ETA: 16s - loss: 0.37 - ETA: 16s - loss: 0.37 - ETA: 16s - loss: 0.37 - ETA: 16s - loss: 0.37 - ETA: 16s - loss: 0.37 - ETA: 16s - loss: 0.37 - ETA: 16s - loss: 0.37 - ETA: 16s - loss: 0.37 - ETA: 16s - loss: 0.37 - ETA: 16s - loss: 0.37 - ETA: 16s - loss: 0.37 - ETA: 16s - loss: 0.37 - ETA: 16s - loss: 0.37 - ETA: 16s - loss: 0.37 - ETA: 15s - loss: 0.37 - ETA: 15s - loss: 0.37 - ETA: 15s - loss: 0.37 - ETA: 15s - loss: 0.37 - ETA: 15s - loss: 0.37 - ETA: 15s - loss: 0.37 - ETA: 15s - loss: 0.37 - ETA: 15s - loss: 0.37 - ETA: 15s - loss: 0.37 - ETA: 15s - loss: 0.37 - ETA: 15s - loss: 0.37 - ETA: 15s - loss: 0.37 - ETA: 14s - loss: 0.37 - ETA: 14s - loss: 0.37 - ETA: 14s - loss: 0.37 - ETA: 14s - loss: 0.37 - ETA: 14s - loss: 0.37 - ETA: 14s - loss: 0.37 - ETA: 14s - loss: 0.37 - ETA: 14s - loss: 0.37 - ETA: 14s - loss: 0.37 - ETA: 14s - loss: 0.37 - ETA: 14s - loss: 0.37 - ETA: 14s - loss: 0.37 - ETA: 14s - loss: 0.37 - ETA: 13s - loss: 0.37 - ETA: 13s - loss: 0.37 - ETA: 13s - loss: 0.37 - ETA: 13s - loss: 0.37 - ETA: 13s - loss: 0.37 - ETA: 13s - loss: 0.37 - ETA: 13s - loss: 0.37 - ETA: 13s - loss: 0.37 - ETA: 13s - loss: 0.37 - ETA: 13s - loss: 0.37 - ETA: 13s - loss: 0.37 - ETA: 13s - loss: 0.37 - ETA: 13s - loss: 0.37 - ETA: 12s - loss: 0.37 - ETA: 12s - loss: 0.37 - ETA: 12s - loss: 0.37 - ETA: 12s - loss: 0.37 - ETA: 12s - loss: 0.37 - ETA: 12s - loss: 0.37 - ETA: 12s - loss: 0.37 - ETA: 12s - loss: 0.37 - ETA: 12s - loss: 0.37 - ETA: 12s - loss: 0.37 - ETA: 12s - loss: 0.37 - ETA: 12s - loss: 0.37 - ETA: 12s - loss: 0.37 - ETA: 11s - loss: 0.37 - ETA: 11s - loss: 0.37 - ETA: 11s - loss: 0.37 - ETA: 11s - loss: 0.37 - ETA: 11s - loss: 0.37 - ETA: 11s - loss: 0.37 - ETA: 11s - loss: 0.37 - ETA: 11s - loss: 0.37 - ETA: 11s - loss: 0.37 - ETA: 11s - loss: 0.37 - ETA: 11s - loss: 0.37 - ETA: 11s - loss: 0.37 - ETA: 10s - loss: 0.37 - ETA: 10s - loss: 0.37 - ETA: 10s - loss: 0.37 - ETA: 10s - loss: 0.37 - ETA: 10s - loss: 0.37 - ETA: 10s - loss: 0.37 - ETA: 10s - loss: 0.37 - ETA: 10s - loss: 0.37 - ETA: 10s - loss: 0.37 - ETA: 10s - loss: 0.37 - ETA: 10s - loss: 0.37 - ETA: 9s - loss: 0.3760 - ETA: 9s - loss: 0.375 - ETA: 9s - loss: 0.375 - ETA: 9s - loss: 0.376 - ETA: 9s - loss: 0.375 - ETA: 9s - loss: 0.375 - ETA: 9s - loss: 0.375 - ETA: 9s - loss: 0.375 - ETA: 9s - loss: 0.375 - ETA: 9s - loss: 0.375 - ETA: 9s - loss: 0.376 - ETA: 9s - loss: 0.376 - ETA: 9s - loss: 0.376 - ETA: 9s - loss: 0.376 - ETA: 9s - loss: 0.376 - ETA: 8s - loss: 0.376 - ETA: 8s - loss: 0.376 - ETA: 8s - loss: 0.376 - ETA: 8s - loss: 0.376 - ETA: 8s - loss: 0.376 - ETA: 8s - loss: 0.376 - ETA: 8s - loss: 0.375 - ETA: 8s - loss: 0.376 - ETA: 8s - loss: 0.376 - ETA: 8s - loss: 0.376 - ETA: 8s - loss: 0.376 - ETA: 8s - loss: 0.376 - ETA: 7s - loss: 0.376 - ETA: 7s - loss: 0.375 - ETA: 7s - loss: 0.376 - ETA: 7s - loss: 0.376 - ETA: 7s - loss: 0.376 - ETA: 7s - loss: 0.376 - ETA: 7s - loss: 0.376 - ETA: 7s - loss: 0.376 - ETA: 7s - loss: 0.376 - ETA: 7s - loss: 0.376 - ETA: 7s - loss: 0.376 - ETA: 7s - loss: 0.375 - ETA: 7s - loss: 0.375 - ETA: 7s - loss: 0.376 - ETA: 7s - loss: 0.376 - ETA: 6s - loss: 0.376 - ETA: 6s - loss: 0.376 - ETA: 6s - loss: 0.376 - ETA: 6s - loss: 0.376 - ETA: 6s - loss: 0.376 - ETA: 6s - loss: 0.375 - ETA: 6s - loss: 0.376 - ETA: 6s - loss: 0.376 - ETA: 6s - loss: 0.376 - ETA: 6s - loss: 0.376 - ETA: 6s - loss: 0.376 - ETA: 6s - loss: 0.376 - ETA: 6s - loss: 0.376 - ETA: 6s - loss: 0.376 - ETA: 5s - loss: 0.377 - ETA: 5s - loss: 0.377 - ETA: 5s - loss: 0.376 - ETA: 5s - loss: 0.376 - ETA: 5s - loss: 0.376 - ETA: 5s - loss: 0.376 - ETA: 5s - loss: 0.376 - ETA: 5s - loss: 0.376 - ETA: 5s - loss: 0.376 - ETA: 5s - loss: 0.376 - ETA: 5s - loss: 0.376 - ETA: 5s - loss: 0.376 - ETA: 5s - loss: 0.376 - ETA: 4s - loss: 0.376 - ETA: 4s - loss: 0.376 - ETA: 4s - loss: 0.376 - ETA: 4s - loss: 0.376 - ETA: 4s - loss: 0.376 - ETA: 4s - loss: 0.376 - ETA: 4s - loss: 0.377 - ETA: 4s - loss: 0.377 - ETA: 4s - loss: 0.377 - ETA: 4s - loss: 0.377 - ETA: 4s - loss: 0.376 - ETA: 4s - loss: 0.377 - ETA: 4s - loss: 0.377 - ETA: 4s - loss: 0.377 - ETA: 3s - loss: 0.377 - ETA: 3s - loss: 0.376 - ETA: 3s - loss: 0.376 - ETA: 3s - loss: 0.376 - ETA: 3s - loss: 0.376 - ETA: 3s - loss: 0.376 - ETA: 3s - loss: 0.376 - ETA: 3s - loss: 0.376 - ETA: 3s - loss: 0.376 - ETA: 3s - loss: 0.376 - ETA: 3s - loss: 0.376 - ETA: 3s - loss: 0.376 - ETA: 3s - loss: 0.376 - ETA: 3s - loss: 0.376 - ETA: 2s - loss: 0.376 - ETA: 2s - loss: 0.376 - ETA: 2s - loss: 0.376 - ETA: 2s - loss: 0.376355381/55381 [==============================] - ETA: 2s - loss: 0.376 - ETA: 2s - loss: 0.376 - ETA: 2s - loss: 0.375 - ETA: 2s - loss: 0.376 - ETA: 2s - loss: 0.376 - ETA: 2s - loss: 0.375 - ETA: 2s - loss: 0.375 - ETA: 2s - loss: 0.375 - ETA: 2s - loss: 0.375 - ETA: 2s - loss: 0.376 - ETA: 2s - loss: 0.376 - ETA: 1s - loss: 0.376 - ETA: 1s - loss: 0.376 - ETA: 1s - loss: 0.376 - ETA: 1s - loss: 0.376 - ETA: 1s - loss: 0.376 - ETA: 1s - loss: 0.376 - ETA: 1s - loss: 0.376 - ETA: 1s - loss: 0.376 - ETA: 1s - loss: 0.376 - ETA: 1s - loss: 0.376 - ETA: 1s - loss: 0.376 - ETA: 1s - loss: 0.376 - ETA: 1s - loss: 0.376 - ETA: 1s - loss: 0.376 - ETA: 1s - loss: 0.375 - ETA: 1s - loss: 0.375 - ETA: 1s - loss: 0.375 - ETA: 1s - loss: 0.376 - ETA: 0s - loss: 0.376 - ETA: 0s - loss: 0.376 - ETA: 0s - loss: 0.376 - ETA: 0s - loss: 0.376 - ETA: 0s - loss: 0.375 - ETA: 0s - loss: 0.375 - ETA: 0s - loss: 0.375 - ETA: 0s - loss: 0.375 - ETA: 0s - loss: 0.375 - ETA: 0s - loss: 0.375 - ETA: 0s - loss: 0.375 - ETA: 0s - loss: 0.375 - ETA: 0s - loss: 0.375 - ETA: 0s - loss: 0.375 - ETA: 0s - loss: 0.375 - ETA: 0s - loss: 0.375 - ETA: 0s - loss: 0.375 - ETA: 0s - loss: 0.376 - 24s 434us/step - loss: 0.3761 - val_loss: 0.3772\n",
      "Epoch 48/50\n"
     ]
    },
    {
     "name": "stdout",
     "output_type": "stream",
     "text": [
      "50240/55381 [==========================>...] - ETA: 13s - loss: 0.29 - ETA: 29s - loss: 0.38 - ETA: 27s - loss: 0.35 - ETA: 27s - loss: 0.35 - ETA: 24s - loss: 0.37 - ETA: 23s - loss: 0.37 - ETA: 22s - loss: 0.37 - ETA: 21s - loss: 0.36 - ETA: 20s - loss: 0.36 - ETA: 20s - loss: 0.37 - ETA: 20s - loss: 0.37 - ETA: 20s - loss: 0.37 - ETA: 21s - loss: 0.37 - ETA: 21s - loss: 0.37 - ETA: 21s - loss: 0.36 - ETA: 22s - loss: 0.37 - ETA: 22s - loss: 0.37 - ETA: 22s - loss: 0.37 - ETA: 22s - loss: 0.37 - ETA: 22s - loss: 0.36 - ETA: 22s - loss: 0.36 - ETA: 21s - loss: 0.36 - ETA: 21s - loss: 0.36 - ETA: 21s - loss: 0.36 - ETA: 21s - loss: 0.36 - ETA: 21s - loss: 0.36 - ETA: 21s - loss: 0.36 - ETA: 21s - loss: 0.37 - ETA: 21s - loss: 0.36 - ETA: 21s - loss: 0.37 - ETA: 21s - loss: 0.36 - ETA: 22s - loss: 0.36 - ETA: 22s - loss: 0.36 - ETA: 22s - loss: 0.36 - ETA: 22s - loss: 0.36 - ETA: 22s - loss: 0.36 - ETA: 21s - loss: 0.36 - ETA: 21s - loss: 0.36 - ETA: 21s - loss: 0.36 - ETA: 21s - loss: 0.36 - ETA: 21s - loss: 0.36 - ETA: 21s - loss: 0.36 - ETA: 21s - loss: 0.36 - ETA: 21s - loss: 0.36 - ETA: 21s - loss: 0.36 - ETA: 22s - loss: 0.36 - ETA: 22s - loss: 0.36 - ETA: 22s - loss: 0.36 - ETA: 22s - loss: 0.36 - ETA: 22s - loss: 0.36 - ETA: 22s - loss: 0.36 - ETA: 22s - loss: 0.36 - ETA: 22s - loss: 0.36 - ETA: 23s - loss: 0.36 - ETA: 22s - loss: 0.36 - ETA: 22s - loss: 0.36 - ETA: 22s - loss: 0.36 - ETA: 22s - loss: 0.36 - ETA: 22s - loss: 0.36 - ETA: 22s - loss: 0.36 - ETA: 22s - loss: 0.36 - ETA: 22s - loss: 0.36 - ETA: 22s - loss: 0.36 - ETA: 22s - loss: 0.36 - ETA: 22s - loss: 0.36 - ETA: 22s - loss: 0.36 - ETA: 22s - loss: 0.36 - ETA: 22s - loss: 0.36 - ETA: 22s - loss: 0.36 - ETA: 22s - loss: 0.36 - ETA: 22s - loss: 0.36 - ETA: 22s - loss: 0.36 - ETA: 21s - loss: 0.36 - ETA: 21s - loss: 0.36 - ETA: 21s - loss: 0.36 - ETA: 21s - loss: 0.36 - ETA: 21s - loss: 0.36 - ETA: 21s - loss: 0.36 - ETA: 21s - loss: 0.36 - ETA: 21s - loss: 0.36 - ETA: 21s - loss: 0.36 - ETA: 21s - loss: 0.36 - ETA: 21s - loss: 0.36 - ETA: 21s - loss: 0.36 - ETA: 20s - loss: 0.36 - ETA: 20s - loss: 0.36 - ETA: 20s - loss: 0.36 - ETA: 20s - loss: 0.36 - ETA: 20s - loss: 0.36 - ETA: 20s - loss: 0.36 - ETA: 20s - loss: 0.36 - ETA: 20s - loss: 0.36 - ETA: 20s - loss: 0.36 - ETA: 20s - loss: 0.36 - ETA: 20s - loss: 0.36 - ETA: 20s - loss: 0.37 - ETA: 20s - loss: 0.37 - ETA: 19s - loss: 0.37 - ETA: 19s - loss: 0.37 - ETA: 19s - loss: 0.37 - ETA: 19s - loss: 0.37 - ETA: 19s - loss: 0.37 - ETA: 19s - loss: 0.37 - ETA: 19s - loss: 0.37 - ETA: 19s - loss: 0.37 - ETA: 19s - loss: 0.37 - ETA: 19s - loss: 0.37 - ETA: 19s - loss: 0.37 - ETA: 19s - loss: 0.37 - ETA: 19s - loss: 0.37 - ETA: 19s - loss: 0.37 - ETA: 18s - loss: 0.37 - ETA: 18s - loss: 0.37 - ETA: 18s - loss: 0.37 - ETA: 18s - loss: 0.37 - ETA: 18s - loss: 0.37 - ETA: 18s - loss: 0.37 - ETA: 18s - loss: 0.37 - ETA: 18s - loss: 0.37 - ETA: 17s - loss: 0.37 - ETA: 17s - loss: 0.37 - ETA: 17s - loss: 0.37 - ETA: 17s - loss: 0.37 - ETA: 17s - loss: 0.37 - ETA: 17s - loss: 0.37 - ETA: 17s - loss: 0.37 - ETA: 17s - loss: 0.37 - ETA: 17s - loss: 0.37 - ETA: 17s - loss: 0.37 - ETA: 17s - loss: 0.37 - ETA: 17s - loss: 0.37 - ETA: 17s - loss: 0.37 - ETA: 17s - loss: 0.37 - ETA: 16s - loss: 0.37 - ETA: 16s - loss: 0.37 - ETA: 16s - loss: 0.37 - ETA: 16s - loss: 0.37 - ETA: 16s - loss: 0.37 - ETA: 16s - loss: 0.37 - ETA: 16s - loss: 0.37 - ETA: 16s - loss: 0.37 - ETA: 16s - loss: 0.37 - ETA: 16s - loss: 0.37 - ETA: 16s - loss: 0.37 - ETA: 16s - loss: 0.37 - ETA: 16s - loss: 0.37 - ETA: 16s - loss: 0.37 - ETA: 15s - loss: 0.37 - ETA: 15s - loss: 0.37 - ETA: 15s - loss: 0.37 - ETA: 15s - loss: 0.37 - ETA: 15s - loss: 0.37 - ETA: 15s - loss: 0.37 - ETA: 15s - loss: 0.37 - ETA: 15s - loss: 0.37 - ETA: 15s - loss: 0.37 - ETA: 15s - loss: 0.37 - ETA: 15s - loss: 0.37 - ETA: 14s - loss: 0.37 - ETA: 14s - loss: 0.37 - ETA: 14s - loss: 0.37 - ETA: 14s - loss: 0.37 - ETA: 14s - loss: 0.37 - ETA: 14s - loss: 0.37 - ETA: 14s - loss: 0.37 - ETA: 14s - loss: 0.37 - ETA: 14s - loss: 0.37 - ETA: 14s - loss: 0.37 - ETA: 14s - loss: 0.37 - ETA: 14s - loss: 0.37 - ETA: 13s - loss: 0.37 - ETA: 13s - loss: 0.37 - ETA: 13s - loss: 0.37 - ETA: 13s - loss: 0.37 - ETA: 13s - loss: 0.37 - ETA: 13s - loss: 0.37 - ETA: 13s - loss: 0.37 - ETA: 13s - loss: 0.37 - ETA: 13s - loss: 0.37 - ETA: 13s - loss: 0.37 - ETA: 13s - loss: 0.37 - ETA: 13s - loss: 0.37 - ETA: 13s - loss: 0.37 - ETA: 13s - loss: 0.37 - ETA: 12s - loss: 0.37 - ETA: 12s - loss: 0.37 - ETA: 12s - loss: 0.37 - ETA: 12s - loss: 0.37 - ETA: 12s - loss: 0.37 - ETA: 12s - loss: 0.37 - ETA: 12s - loss: 0.37 - ETA: 12s - loss: 0.37 - ETA: 12s - loss: 0.37 - ETA: 12s - loss: 0.37 - ETA: 12s - loss: 0.37 - ETA: 12s - loss: 0.37 - ETA: 12s - loss: 0.37 - ETA: 11s - loss: 0.37 - ETA: 11s - loss: 0.37 - ETA: 11s - loss: 0.37 - ETA: 11s - loss: 0.37 - ETA: 11s - loss: 0.37 - ETA: 11s - loss: 0.37 - ETA: 11s - loss: 0.37 - ETA: 11s - loss: 0.37 - ETA: 11s - loss: 0.37 - ETA: 11s - loss: 0.37 - ETA: 11s - loss: 0.37 - ETA: 11s - loss: 0.37 - ETA: 11s - loss: 0.37 - ETA: 11s - loss: 0.37 - ETA: 10s - loss: 0.37 - ETA: 10s - loss: 0.37 - ETA: 10s - loss: 0.37 - ETA: 10s - loss: 0.37 - ETA: 10s - loss: 0.37 - ETA: 10s - loss: 0.37 - ETA: 10s - loss: 0.37 - ETA: 10s - loss: 0.37 - ETA: 10s - loss: 0.37 - ETA: 10s - loss: 0.37 - ETA: 10s - loss: 0.37 - ETA: 10s - loss: 0.37 - ETA: 9s - loss: 0.3786 - ETA: 9s - loss: 0.378 - ETA: 9s - loss: 0.378 - ETA: 9s - loss: 0.378 - ETA: 9s - loss: 0.378 - ETA: 9s - loss: 0.378 - ETA: 9s - loss: 0.378 - ETA: 9s - loss: 0.378 - ETA: 9s - loss: 0.378 - ETA: 9s - loss: 0.378 - ETA: 9s - loss: 0.378 - ETA: 9s - loss: 0.379 - ETA: 9s - loss: 0.379 - ETA: 9s - loss: 0.379 - ETA: 8s - loss: 0.379 - ETA: 8s - loss: 0.380 - ETA: 8s - loss: 0.380 - ETA: 8s - loss: 0.380 - ETA: 8s - loss: 0.380 - ETA: 8s - loss: 0.380 - ETA: 8s - loss: 0.380 - ETA: 8s - loss: 0.380 - ETA: 8s - loss: 0.380 - ETA: 8s - loss: 0.380 - ETA: 8s - loss: 0.380 - ETA: 8s - loss: 0.380 - ETA: 8s - loss: 0.380 - ETA: 8s - loss: 0.380 - ETA: 7s - loss: 0.380 - ETA: 7s - loss: 0.380 - ETA: 7s - loss: 0.380 - ETA: 7s - loss: 0.379 - ETA: 7s - loss: 0.379 - ETA: 7s - loss: 0.379 - ETA: 7s - loss: 0.379 - ETA: 7s - loss: 0.379 - ETA: 7s - loss: 0.379 - ETA: 7s - loss: 0.379 - ETA: 7s - loss: 0.379 - ETA: 7s - loss: 0.379 - ETA: 7s - loss: 0.379 - ETA: 6s - loss: 0.378 - ETA: 6s - loss: 0.378 - ETA: 6s - loss: 0.378 - ETA: 6s - loss: 0.378 - ETA: 6s - loss: 0.378 - ETA: 6s - loss: 0.378 - ETA: 6s - loss: 0.378 - ETA: 6s - loss: 0.378 - ETA: 6s - loss: 0.378 - ETA: 6s - loss: 0.378 - ETA: 6s - loss: 0.378 - ETA: 6s - loss: 0.378 - ETA: 6s - loss: 0.378 - ETA: 6s - loss: 0.378 - ETA: 5s - loss: 0.378 - ETA: 5s - loss: 0.378 - ETA: 5s - loss: 0.378 - ETA: 5s - loss: 0.378 - ETA: 5s - loss: 0.378 - ETA: 5s - loss: 0.378 - ETA: 5s - loss: 0.378 - ETA: 5s - loss: 0.379 - ETA: 5s - loss: 0.379 - ETA: 5s - loss: 0.379 - ETA: 5s - loss: 0.379 - ETA: 5s - loss: 0.379 - ETA: 5s - loss: 0.379 - ETA: 5s - loss: 0.379 - ETA: 5s - loss: 0.379 - ETA: 4s - loss: 0.379 - ETA: 4s - loss: 0.379 - ETA: 4s - loss: 0.379 - ETA: 4s - loss: 0.379 - ETA: 4s - loss: 0.379 - ETA: 4s - loss: 0.379 - ETA: 4s - loss: 0.379 - ETA: 4s - loss: 0.379 - ETA: 4s - loss: 0.379 - ETA: 4s - loss: 0.379 - ETA: 4s - loss: 0.379 - ETA: 4s - loss: 0.379 - ETA: 4s - loss: 0.379 - ETA: 4s - loss: 0.379 - ETA: 4s - loss: 0.379 - ETA: 4s - loss: 0.379 - ETA: 3s - loss: 0.379 - ETA: 3s - loss: 0.379 - ETA: 3s - loss: 0.379 - ETA: 3s - loss: 0.379 - ETA: 3s - loss: 0.379 - ETA: 3s - loss: 0.379 - ETA: 3s - loss: 0.379 - ETA: 3s - loss: 0.379 - ETA: 3s - loss: 0.379 - ETA: 3s - loss: 0.379 - ETA: 3s - loss: 0.379 - ETA: 3s - loss: 0.378 - ETA: 3s - loss: 0.378 - ETA: 3s - loss: 0.378 - ETA: 3s - loss: 0.378 - ETA: 3s - loss: 0.378 - ETA: 2s - loss: 0.378 - ETA: 2s - loss: 0.378 - ETA: 2s - loss: 0.378 - ETA: 2s - loss: 0.378 - ETA: 2s - loss: 0.378 - ETA: 2s - loss: 0.378 - ETA: 2s - loss: 0.378 - ETA: 2s - loss: 0.378 - ETA: 2s - loss: 0.378 - ETA: 2s - loss: 0.378 - ETA: 2s - loss: 0.378 - ETA: 2s - loss: 0.378 - ETA: 2s - loss: 0.378 - ETA: 2s - loss: 0.378 - ETA: 2s - loss: 0.3783"
     ]
    },
    {
     "name": "stdout",
     "output_type": "stream",
     "text": [
      "55381/55381 [==============================] - ETA: 2s - loss: 0.378 - ETA: 1s - loss: 0.378 - ETA: 1s - loss: 0.378 - ETA: 1s - loss: 0.378 - ETA: 1s - loss: 0.378 - ETA: 1s - loss: 0.378 - ETA: 1s - loss: 0.378 - ETA: 1s - loss: 0.378 - ETA: 1s - loss: 0.378 - ETA: 1s - loss: 0.378 - ETA: 1s - loss: 0.378 - ETA: 1s - loss: 0.378 - ETA: 1s - loss: 0.378 - ETA: 1s - loss: 0.378 - ETA: 1s - loss: 0.378 - ETA: 1s - loss: 0.378 - ETA: 1s - loss: 0.378 - ETA: 1s - loss: 0.378 - ETA: 0s - loss: 0.378 - ETA: 0s - loss: 0.378 - ETA: 0s - loss: 0.378 - ETA: 0s - loss: 0.378 - ETA: 0s - loss: 0.378 - ETA: 0s - loss: 0.378 - ETA: 0s - loss: 0.378 - ETA: 0s - loss: 0.378 - ETA: 0s - loss: 0.378 - ETA: 0s - loss: 0.378 - ETA: 0s - loss: 0.378 - ETA: 0s - loss: 0.378 - ETA: 0s - loss: 0.378 - ETA: 0s - loss: 0.378 - ETA: 0s - loss: 0.378 - ETA: 0s - loss: 0.378 - ETA: 0s - loss: 0.378 - ETA: 0s - loss: 0.378 - ETA: 0s - loss: 0.378 - 23s 422us/step - loss: 0.3783 - val_loss: 0.3753\n",
      "Epoch 49/50\n",
      "46016/55381 [=======================>......] - ETA: 13s - loss: 0.44 - ETA: 18s - loss: 0.42 - ETA: 28s - loss: 0.40 - ETA: 26s - loss: 0.37 - ETA: 23s - loss: 0.35 - ETA: 23s - loss: 0.34 - ETA: 21s - loss: 0.34 - ETA: 23s - loss: 0.34 - ETA: 23s - loss: 0.34 - ETA: 23s - loss: 0.34 - ETA: 23s - loss: 0.34 - ETA: 23s - loss: 0.34 - ETA: 25s - loss: 0.34 - ETA: 24s - loss: 0.35 - ETA: 24s - loss: 0.35 - ETA: 24s - loss: 0.35 - ETA: 24s - loss: 0.35 - ETA: 23s - loss: 0.36 - ETA: 23s - loss: 0.36 - ETA: 23s - loss: 0.36 - ETA: 23s - loss: 0.36 - ETA: 23s - loss: 0.36 - ETA: 22s - loss: 0.36 - ETA: 22s - loss: 0.36 - ETA: 22s - loss: 0.36 - ETA: 22s - loss: 0.37 - ETA: 22s - loss: 0.36 - ETA: 22s - loss: 0.36 - ETA: 22s - loss: 0.36 - ETA: 22s - loss: 0.36 - ETA: 21s - loss: 0.37 - ETA: 21s - loss: 0.36 - ETA: 21s - loss: 0.36 - ETA: 21s - loss: 0.36 - ETA: 22s - loss: 0.36 - ETA: 22s - loss: 0.36 - ETA: 22s - loss: 0.36 - ETA: 22s - loss: 0.36 - ETA: 22s - loss: 0.37 - ETA: 22s - loss: 0.37 - ETA: 22s - loss: 0.37 - ETA: 22s - loss: 0.37 - ETA: 22s - loss: 0.37 - ETA: 22s - loss: 0.37 - ETA: 22s - loss: 0.37 - ETA: 23s - loss: 0.37 - ETA: 22s - loss: 0.37 - ETA: 22s - loss: 0.37 - ETA: 23s - loss: 0.37 - ETA: 23s - loss: 0.37 - ETA: 23s - loss: 0.37 - ETA: 23s - loss: 0.37 - ETA: 23s - loss: 0.37 - ETA: 23s - loss: 0.37 - ETA: 23s - loss: 0.37 - ETA: 23s - loss: 0.37 - ETA: 23s - loss: 0.37 - ETA: 23s - loss: 0.37 - ETA: 23s - loss: 0.37 - ETA: 23s - loss: 0.37 - ETA: 23s - loss: 0.37 - ETA: 23s - loss: 0.37 - ETA: 23s - loss: 0.37 - ETA: 23s - loss: 0.37 - ETA: 23s - loss: 0.37 - ETA: 22s - loss: 0.37 - ETA: 22s - loss: 0.37 - ETA: 22s - loss: 0.37 - ETA: 22s - loss: 0.37 - ETA: 22s - loss: 0.37 - ETA: 22s - loss: 0.37 - ETA: 22s - loss: 0.37 - ETA: 22s - loss: 0.37 - ETA: 22s - loss: 0.37 - ETA: 22s - loss: 0.37 - ETA: 22s - loss: 0.37 - ETA: 22s - loss: 0.37 - ETA: 22s - loss: 0.37 - ETA: 22s - loss: 0.37 - ETA: 22s - loss: 0.37 - ETA: 22s - loss: 0.37 - ETA: 22s - loss: 0.37 - ETA: 22s - loss: 0.37 - ETA: 22s - loss: 0.37 - ETA: 22s - loss: 0.37 - ETA: 22s - loss: 0.37 - ETA: 22s - loss: 0.37 - ETA: 22s - loss: 0.37 - ETA: 22s - loss: 0.37 - ETA: 22s - loss: 0.37 - ETA: 21s - loss: 0.37 - ETA: 21s - loss: 0.37 - ETA: 21s - loss: 0.37 - ETA: 21s - loss: 0.37 - ETA: 21s - loss: 0.37 - ETA: 21s - loss: 0.37 - ETA: 21s - loss: 0.37 - ETA: 21s - loss: 0.37 - ETA: 21s - loss: 0.37 - ETA: 21s - loss: 0.37 - ETA: 21s - loss: 0.37 - ETA: 20s - loss: 0.37 - ETA: 20s - loss: 0.37 - ETA: 20s - loss: 0.37 - ETA: 20s - loss: 0.37 - ETA: 20s - loss: 0.37 - ETA: 20s - loss: 0.37 - ETA: 20s - loss: 0.37 - ETA: 20s - loss: 0.37 - ETA: 20s - loss: 0.37 - ETA: 20s - loss: 0.37 - ETA: 20s - loss: 0.37 - ETA: 20s - loss: 0.37 - ETA: 20s - loss: 0.37 - ETA: 20s - loss: 0.37 - ETA: 20s - loss: 0.37 - ETA: 20s - loss: 0.37 - ETA: 20s - loss: 0.37 - ETA: 20s - loss: 0.37 - ETA: 19s - loss: 0.37 - ETA: 20s - loss: 0.37 - ETA: 19s - loss: 0.37 - ETA: 19s - loss: 0.37 - ETA: 19s - loss: 0.37 - ETA: 19s - loss: 0.37 - ETA: 19s - loss: 0.37 - ETA: 19s - loss: 0.37 - ETA: 19s - loss: 0.37 - ETA: 19s - loss: 0.37 - ETA: 19s - loss: 0.37 - ETA: 19s - loss: 0.37 - ETA: 19s - loss: 0.37 - ETA: 19s - loss: 0.37 - ETA: 18s - loss: 0.37 - ETA: 18s - loss: 0.37 - ETA: 18s - loss: 0.37 - ETA: 18s - loss: 0.37 - ETA: 18s - loss: 0.37 - ETA: 18s - loss: 0.37 - ETA: 18s - loss: 0.37 - ETA: 18s - loss: 0.37 - ETA: 18s - loss: 0.37 - ETA: 18s - loss: 0.37 - ETA: 18s - loss: 0.37 - ETA: 18s - loss: 0.37 - ETA: 18s - loss: 0.37 - ETA: 18s - loss: 0.37 - ETA: 18s - loss: 0.37 - ETA: 17s - loss: 0.37 - ETA: 17s - loss: 0.37 - ETA: 17s - loss: 0.37 - ETA: 17s - loss: 0.37 - ETA: 17s - loss: 0.37 - ETA: 17s - loss: 0.37 - ETA: 17s - loss: 0.37 - ETA: 17s - loss: 0.37 - ETA: 17s - loss: 0.37 - ETA: 17s - loss: 0.37 - ETA: 17s - loss: 0.37 - ETA: 17s - loss: 0.37 - ETA: 17s - loss: 0.37 - ETA: 17s - loss: 0.37 - ETA: 17s - loss: 0.37 - ETA: 16s - loss: 0.37 - ETA: 16s - loss: 0.37 - ETA: 16s - loss: 0.37 - ETA: 16s - loss: 0.37 - ETA: 16s - loss: 0.37 - ETA: 16s - loss: 0.37 - ETA: 16s - loss: 0.37 - ETA: 16s - loss: 0.37 - ETA: 16s - loss: 0.37 - ETA: 16s - loss: 0.37 - ETA: 15s - loss: 0.37 - ETA: 15s - loss: 0.37 - ETA: 15s - loss: 0.37 - ETA: 15s - loss: 0.37 - ETA: 15s - loss: 0.37 - ETA: 15s - loss: 0.37 - ETA: 15s - loss: 0.37 - ETA: 15s - loss: 0.37 - ETA: 15s - loss: 0.37 - ETA: 15s - loss: 0.37 - ETA: 15s - loss: 0.37 - ETA: 15s - loss: 0.37 - ETA: 15s - loss: 0.37 - ETA: 15s - loss: 0.37 - ETA: 15s - loss: 0.37 - ETA: 15s - loss: 0.37 - ETA: 14s - loss: 0.37 - ETA: 14s - loss: 0.37 - ETA: 14s - loss: 0.37 - ETA: 14s - loss: 0.37 - ETA: 14s - loss: 0.37 - ETA: 14s - loss: 0.37 - ETA: 14s - loss: 0.37 - ETA: 14s - loss: 0.37 - ETA: 14s - loss: 0.37 - ETA: 14s - loss: 0.37 - ETA: 14s - loss: 0.37 - ETA: 14s - loss: 0.37 - ETA: 14s - loss: 0.37 - ETA: 13s - loss: 0.37 - ETA: 13s - loss: 0.37 - ETA: 13s - loss: 0.37 - ETA: 13s - loss: 0.37 - ETA: 13s - loss: 0.37 - ETA: 13s - loss: 0.37 - ETA: 13s - loss: 0.37 - ETA: 13s - loss: 0.37 - ETA: 13s - loss: 0.37 - ETA: 13s - loss: 0.37 - ETA: 13s - loss: 0.37 - ETA: 13s - loss: 0.37 - ETA: 13s - loss: 0.37 - ETA: 13s - loss: 0.37 - ETA: 13s - loss: 0.37 - ETA: 12s - loss: 0.37 - ETA: 12s - loss: 0.37 - ETA: 12s - loss: 0.37 - ETA: 12s - loss: 0.37 - ETA: 12s - loss: 0.37 - ETA: 12s - loss: 0.37 - ETA: 12s - loss: 0.37 - ETA: 12s - loss: 0.37 - ETA: 12s - loss: 0.37 - ETA: 12s - loss: 0.37 - ETA: 12s - loss: 0.37 - ETA: 12s - loss: 0.37 - ETA: 11s - loss: 0.37 - ETA: 11s - loss: 0.37 - ETA: 11s - loss: 0.37 - ETA: 11s - loss: 0.37 - ETA: 11s - loss: 0.37 - ETA: 11s - loss: 0.37 - ETA: 11s - loss: 0.37 - ETA: 11s - loss: 0.37 - ETA: 11s - loss: 0.37 - ETA: 11s - loss: 0.37 - ETA: 11s - loss: 0.37 - ETA: 11s - loss: 0.37 - ETA: 11s - loss: 0.37 - ETA: 11s - loss: 0.37 - ETA: 11s - loss: 0.37 - ETA: 11s - loss: 0.37 - ETA: 11s - loss: 0.37 - ETA: 10s - loss: 0.37 - ETA: 10s - loss: 0.37 - ETA: 10s - loss: 0.37 - ETA: 10s - loss: 0.37 - ETA: 10s - loss: 0.37 - ETA: 10s - loss: 0.37 - ETA: 10s - loss: 0.37 - ETA: 10s - loss: 0.37 - ETA: 10s - loss: 0.37 - ETA: 10s - loss: 0.37 - ETA: 10s - loss: 0.37 - ETA: 10s - loss: 0.37 - ETA: 10s - loss: 0.37 - ETA: 10s - loss: 0.37 - ETA: 10s - loss: 0.37 - ETA: 9s - loss: 0.3757 - ETA: 9s - loss: 0.375 - ETA: 9s - loss: 0.375 - ETA: 9s - loss: 0.375 - ETA: 9s - loss: 0.375 - ETA: 9s - loss: 0.376 - ETA: 9s - loss: 0.376 - ETA: 9s - loss: 0.375 - ETA: 9s - loss: 0.375 - ETA: 9s - loss: 0.375 - ETA: 9s - loss: 0.375 - ETA: 9s - loss: 0.375 - ETA: 9s - loss: 0.375 - ETA: 9s - loss: 0.375 - ETA: 9s - loss: 0.375 - ETA: 8s - loss: 0.376 - ETA: 8s - loss: 0.376 - ETA: 8s - loss: 0.376 - ETA: 8s - loss: 0.376 - ETA: 8s - loss: 0.375 - ETA: 8s - loss: 0.375 - ETA: 8s - loss: 0.375 - ETA: 8s - loss: 0.375 - ETA: 8s - loss: 0.375 - ETA: 8s - loss: 0.375 - ETA: 8s - loss: 0.375 - ETA: 8s - loss: 0.375 - ETA: 8s - loss: 0.375 - ETA: 7s - loss: 0.375 - ETA: 7s - loss: 0.376 - ETA: 7s - loss: 0.376 - ETA: 7s - loss: 0.376 - ETA: 7s - loss: 0.376 - ETA: 7s - loss: 0.376 - ETA: 7s - loss: 0.376 - ETA: 7s - loss: 0.376 - ETA: 7s - loss: 0.376 - ETA: 7s - loss: 0.376 - ETA: 7s - loss: 0.376 - ETA: 7s - loss: 0.376 - ETA: 7s - loss: 0.376 - ETA: 6s - loss: 0.376 - ETA: 6s - loss: 0.376 - ETA: 6s - loss: 0.376 - ETA: 6s - loss: 0.376 - ETA: 6s - loss: 0.376 - ETA: 6s - loss: 0.376 - ETA: 6s - loss: 0.375 - ETA: 6s - loss: 0.375 - ETA: 6s - loss: 0.375 - ETA: 6s - loss: 0.375 - ETA: 6s - loss: 0.375 - ETA: 6s - loss: 0.375 - ETA: 6s - loss: 0.375 - ETA: 6s - loss: 0.375 - ETA: 5s - loss: 0.375 - ETA: 5s - loss: 0.376 - ETA: 5s - loss: 0.376 - ETA: 5s - loss: 0.376 - ETA: 5s - loss: 0.375 - ETA: 5s - loss: 0.375 - ETA: 5s - loss: 0.375 - ETA: 5s - loss: 0.375 - ETA: 5s - loss: 0.375 - ETA: 5s - loss: 0.375 - ETA: 5s - loss: 0.375 - ETA: 5s - loss: 0.375 - ETA: 5s - loss: 0.375 - ETA: 5s - loss: 0.375 - ETA: 4s - loss: 0.375 - ETA: 4s - loss: 0.375 - ETA: 4s - loss: 0.375 - ETA: 4s - loss: 0.375 - ETA: 4s - loss: 0.375 - ETA: 4s - loss: 0.375 - ETA: 4s - loss: 0.375 - ETA: 4s - loss: 0.375 - ETA: 4s - loss: 0.375 - ETA: 4s - loss: 0.375655381/55381 [==============================] - ETA: 4s - loss: 0.375 - ETA: 4s - loss: 0.375 - ETA: 4s - loss: 0.375 - ETA: 3s - loss: 0.375 - ETA: 3s - loss: 0.375 - ETA: 3s - loss: 0.375 - ETA: 3s - loss: 0.375 - ETA: 3s - loss: 0.375 - ETA: 3s - loss: 0.375 - ETA: 3s - loss: 0.375 - ETA: 3s - loss: 0.375 - ETA: 3s - loss: 0.375 - ETA: 3s - loss: 0.375 - ETA: 3s - loss: 0.375 - ETA: 3s - loss: 0.375 - ETA: 3s - loss: 0.375 - ETA: 3s - loss: 0.375 - ETA: 3s - loss: 0.375 - ETA: 3s - loss: 0.375 - ETA: 2s - loss: 0.375 - ETA: 2s - loss: 0.375 - ETA: 2s - loss: 0.375 - ETA: 2s - loss: 0.375 - ETA: 2s - loss: 0.375 - ETA: 2s - loss: 0.375 - ETA: 2s - loss: 0.375 - ETA: 2s - loss: 0.375 - ETA: 2s - loss: 0.375 - ETA: 2s - loss: 0.375 - ETA: 2s - loss: 0.375 - ETA: 2s - loss: 0.375 - ETA: 2s - loss: 0.376 - ETA: 2s - loss: 0.376 - ETA: 1s - loss: 0.376 - ETA: 1s - loss: 0.375 - ETA: 1s - loss: 0.375 - ETA: 1s - loss: 0.376 - ETA: 1s - loss: 0.375 - ETA: 1s - loss: 0.375 - ETA: 1s - loss: 0.375 - ETA: 1s - loss: 0.375 - ETA: 1s - loss: 0.375 - ETA: 1s - loss: 0.375 - ETA: 1s - loss: 0.375 - ETA: 1s - loss: 0.375 - ETA: 1s - loss: 0.376 - ETA: 0s - loss: 0.376 - ETA: 0s - loss: 0.376 - ETA: 0s - loss: 0.376 - ETA: 0s - loss: 0.376 - ETA: 0s - loss: 0.376 - ETA: 0s - loss: 0.376 - ETA: 0s - loss: 0.376 - ETA: 0s - loss: 0.376 - ETA: 0s - loss: 0.376 - ETA: 0s - loss: 0.376 - ETA: 0s - loss: 0.376 - ETA: 0s - loss: 0.375 - ETA: 0s - loss: 0.375 - ETA: 0s - loss: 0.375 - ETA: 0s - loss: 0.375 - ETA: 0s - loss: 0.375 - ETA: 0s - loss: 0.375 - ETA: 0s - loss: 0.375 - 26s 466us/step - loss: 0.3756 - val_loss: 0.3812\n",
      "Epoch 50/50\n"
     ]
    },
    {
     "name": "stdout",
     "output_type": "stream",
     "text": [
      "51968/55381 [===========================>..] - ETA: 27s - loss: 0.33 - ETA: 49s - loss: 0.38 - ETA: 51s - loss: 0.40 - ETA: 40s - loss: 0.39 - ETA: 41s - loss: 0.38 - ETA: 37s - loss: 0.37 - ETA: 32s - loss: 0.38 - ETA: 30s - loss: 0.38 - ETA: 27s - loss: 0.39 - ETA: 26s - loss: 0.38 - ETA: 24s - loss: 0.39 - ETA: 23s - loss: 0.37 - ETA: 23s - loss: 0.37 - ETA: 24s - loss: 0.38 - ETA: 23s - loss: 0.37 - ETA: 22s - loss: 0.38 - ETA: 23s - loss: 0.38 - ETA: 23s - loss: 0.38 - ETA: 23s - loss: 0.38 - ETA: 24s - loss: 0.38 - ETA: 24s - loss: 0.37 - ETA: 24s - loss: 0.37 - ETA: 24s - loss: 0.37 - ETA: 24s - loss: 0.37 - ETA: 24s - loss: 0.37 - ETA: 24s - loss: 0.37 - ETA: 24s - loss: 0.37 - ETA: 23s - loss: 0.37 - ETA: 23s - loss: 0.37 - ETA: 23s - loss: 0.37 - ETA: 23s - loss: 0.37 - ETA: 23s - loss: 0.37 - ETA: 23s - loss: 0.37 - ETA: 23s - loss: 0.37 - ETA: 23s - loss: 0.37 - ETA: 22s - loss: 0.37 - ETA: 22s - loss: 0.37 - ETA: 22s - loss: 0.37 - ETA: 22s - loss: 0.37 - ETA: 22s - loss: 0.37 - ETA: 22s - loss: 0.37 - ETA: 22s - loss: 0.37 - ETA: 22s - loss: 0.37 - ETA: 22s - loss: 0.37 - ETA: 22s - loss: 0.37 - ETA: 22s - loss: 0.37 - ETA: 22s - loss: 0.37 - ETA: 22s - loss: 0.37 - ETA: 22s - loss: 0.37 - ETA: 23s - loss: 0.37 - ETA: 22s - loss: 0.37 - ETA: 22s - loss: 0.37 - ETA: 22s - loss: 0.37 - ETA: 22s - loss: 0.37 - ETA: 22s - loss: 0.36 - ETA: 22s - loss: 0.36 - ETA: 22s - loss: 0.36 - ETA: 21s - loss: 0.36 - ETA: 22s - loss: 0.36 - ETA: 21s - loss: 0.36 - ETA: 21s - loss: 0.36 - ETA: 21s - loss: 0.36 - ETA: 21s - loss: 0.36 - ETA: 21s - loss: 0.37 - ETA: 21s - loss: 0.37 - ETA: 21s - loss: 0.36 - ETA: 21s - loss: 0.36 - ETA: 21s - loss: 0.36 - ETA: 21s - loss: 0.36 - ETA: 21s - loss: 0.36 - ETA: 21s - loss: 0.37 - ETA: 21s - loss: 0.37 - ETA: 20s - loss: 0.37 - ETA: 20s - loss: 0.37 - ETA: 20s - loss: 0.36 - ETA: 20s - loss: 0.36 - ETA: 20s - loss: 0.36 - ETA: 20s - loss: 0.36 - ETA: 20s - loss: 0.36 - ETA: 20s - loss: 0.36 - ETA: 20s - loss: 0.37 - ETA: 20s - loss: 0.37 - ETA: 20s - loss: 0.36 - ETA: 20s - loss: 0.36 - ETA: 19s - loss: 0.36 - ETA: 19s - loss: 0.36 - ETA: 19s - loss: 0.36 - ETA: 19s - loss: 0.36 - ETA: 19s - loss: 0.36 - ETA: 19s - loss: 0.36 - ETA: 19s - loss: 0.36 - ETA: 19s - loss: 0.36 - ETA: 19s - loss: 0.36 - ETA: 19s - loss: 0.36 - ETA: 19s - loss: 0.36 - ETA: 19s - loss: 0.36 - ETA: 19s - loss: 0.36 - ETA: 18s - loss: 0.36 - ETA: 18s - loss: 0.36 - ETA: 18s - loss: 0.36 - ETA: 18s - loss: 0.36 - ETA: 18s - loss: 0.36 - ETA: 18s - loss: 0.36 - ETA: 18s - loss: 0.37 - ETA: 18s - loss: 0.37 - ETA: 18s - loss: 0.37 - ETA: 17s - loss: 0.37 - ETA: 17s - loss: 0.37 - ETA: 17s - loss: 0.37 - ETA: 17s - loss: 0.37 - ETA: 17s - loss: 0.37 - ETA: 17s - loss: 0.37 - ETA: 17s - loss: 0.37 - ETA: 17s - loss: 0.37 - ETA: 17s - loss: 0.37 - ETA: 17s - loss: 0.37 - ETA: 17s - loss: 0.37 - ETA: 17s - loss: 0.37 - ETA: 17s - loss: 0.37 - ETA: 17s - loss: 0.37 - ETA: 17s - loss: 0.37 - ETA: 17s - loss: 0.37 - ETA: 16s - loss: 0.37 - ETA: 16s - loss: 0.37 - ETA: 16s - loss: 0.37 - ETA: 16s - loss: 0.37 - ETA: 16s - loss: 0.37 - ETA: 16s - loss: 0.37 - ETA: 16s - loss: 0.37 - ETA: 16s - loss: 0.37 - ETA: 16s - loss: 0.37 - ETA: 16s - loss: 0.37 - ETA: 16s - loss: 0.37 - ETA: 16s - loss: 0.37 - ETA: 16s - loss: 0.37 - ETA: 16s - loss: 0.37 - ETA: 16s - loss: 0.37 - ETA: 15s - loss: 0.37 - ETA: 15s - loss: 0.37 - ETA: 15s - loss: 0.37 - ETA: 15s - loss: 0.37 - ETA: 15s - loss: 0.37 - ETA: 15s - loss: 0.37 - ETA: 15s - loss: 0.37 - ETA: 15s - loss: 0.37 - ETA: 15s - loss: 0.37 - ETA: 15s - loss: 0.37 - ETA: 15s - loss: 0.37 - ETA: 15s - loss: 0.37 - ETA: 14s - loss: 0.37 - ETA: 14s - loss: 0.37 - ETA: 14s - loss: 0.37 - ETA: 14s - loss: 0.37 - ETA: 14s - loss: 0.37 - ETA: 14s - loss: 0.37 - ETA: 14s - loss: 0.37 - ETA: 14s - loss: 0.37 - ETA: 14s - loss: 0.37 - ETA: 14s - loss: 0.37 - ETA: 14s - loss: 0.37 - ETA: 14s - loss: 0.37 - ETA: 14s - loss: 0.37 - ETA: 14s - loss: 0.37 - ETA: 14s - loss: 0.37 - ETA: 13s - loss: 0.37 - ETA: 13s - loss: 0.37 - ETA: 13s - loss: 0.37 - ETA: 13s - loss: 0.37 - ETA: 13s - loss: 0.37 - ETA: 13s - loss: 0.37 - ETA: 13s - loss: 0.37 - ETA: 13s - loss: 0.37 - ETA: 13s - loss: 0.37 - ETA: 13s - loss: 0.37 - ETA: 13s - loss: 0.37 - ETA: 13s - loss: 0.37 - ETA: 12s - loss: 0.37 - ETA: 12s - loss: 0.37 - ETA: 12s - loss: 0.37 - ETA: 12s - loss: 0.37 - ETA: 12s - loss: 0.37 - ETA: 12s - loss: 0.37 - ETA: 12s - loss: 0.37 - ETA: 12s - loss: 0.37 - ETA: 12s - loss: 0.37 - ETA: 12s - loss: 0.37 - ETA: 12s - loss: 0.37 - ETA: 12s - loss: 0.37 - ETA: 12s - loss: 0.37 - ETA: 11s - loss: 0.37 - ETA: 11s - loss: 0.37 - ETA: 11s - loss: 0.37 - ETA: 11s - loss: 0.37 - ETA: 11s - loss: 0.37 - ETA: 11s - loss: 0.37 - ETA: 11s - loss: 0.37 - ETA: 11s - loss: 0.37 - ETA: 11s - loss: 0.37 - ETA: 11s - loss: 0.37 - ETA: 11s - loss: 0.37 - ETA: 11s - loss: 0.37 - ETA: 11s - loss: 0.37 - ETA: 10s - loss: 0.37 - ETA: 10s - loss: 0.37 - ETA: 10s - loss: 0.37 - ETA: 10s - loss: 0.37 - ETA: 10s - loss: 0.37 - ETA: 10s - loss: 0.37 - ETA: 10s - loss: 0.37 - ETA: 10s - loss: 0.37 - ETA: 10s - loss: 0.37 - ETA: 10s - loss: 0.37 - ETA: 10s - loss: 0.37 - ETA: 10s - loss: 0.37 - ETA: 10s - loss: 0.37 - ETA: 9s - loss: 0.3725 - ETA: 9s - loss: 0.372 - ETA: 9s - loss: 0.373 - ETA: 9s - loss: 0.373 - ETA: 9s - loss: 0.373 - ETA: 9s - loss: 0.373 - ETA: 9s - loss: 0.373 - ETA: 9s - loss: 0.372 - ETA: 9s - loss: 0.373 - ETA: 9s - loss: 0.373 - ETA: 9s - loss: 0.373 - ETA: 9s - loss: 0.373 - ETA: 8s - loss: 0.373 - ETA: 8s - loss: 0.373 - ETA: 8s - loss: 0.373 - ETA: 8s - loss: 0.373 - ETA: 8s - loss: 0.373 - ETA: 8s - loss: 0.373 - ETA: 8s - loss: 0.373 - ETA: 8s - loss: 0.373 - ETA: 8s - loss: 0.373 - ETA: 8s - loss: 0.372 - ETA: 8s - loss: 0.372 - ETA: 8s - loss: 0.372 - ETA: 8s - loss: 0.372 - ETA: 7s - loss: 0.372 - ETA: 7s - loss: 0.372 - ETA: 7s - loss: 0.372 - ETA: 7s - loss: 0.372 - ETA: 7s - loss: 0.372 - ETA: 7s - loss: 0.372 - ETA: 7s - loss: 0.372 - ETA: 7s - loss: 0.372 - ETA: 7s - loss: 0.372 - ETA: 7s - loss: 0.372 - ETA: 7s - loss: 0.372 - ETA: 7s - loss: 0.372 - ETA: 7s - loss: 0.372 - ETA: 7s - loss: 0.372 - ETA: 7s - loss: 0.372 - ETA: 6s - loss: 0.372 - ETA: 6s - loss: 0.372 - ETA: 6s - loss: 0.372 - ETA: 6s - loss: 0.372 - ETA: 6s - loss: 0.372 - ETA: 6s - loss: 0.372 - ETA: 6s - loss: 0.372 - ETA: 6s - loss: 0.372 - ETA: 6s - loss: 0.372 - ETA: 6s - loss: 0.372 - ETA: 6s - loss: 0.372 - ETA: 6s - loss: 0.373 - ETA: 6s - loss: 0.372 - ETA: 6s - loss: 0.372 - ETA: 6s - loss: 0.372 - ETA: 5s - loss: 0.373 - ETA: 5s - loss: 0.373 - ETA: 5s - loss: 0.373 - ETA: 5s - loss: 0.373 - ETA: 5s - loss: 0.373 - ETA: 5s - loss: 0.373 - ETA: 5s - loss: 0.373 - ETA: 5s - loss: 0.373 - ETA: 5s - loss: 0.373 - ETA: 5s - loss: 0.373 - ETA: 5s - loss: 0.373 - ETA: 5s - loss: 0.374 - ETA: 5s - loss: 0.374 - ETA: 5s - loss: 0.374 - ETA: 5s - loss: 0.374 - ETA: 4s - loss: 0.373 - ETA: 4s - loss: 0.374 - ETA: 4s - loss: 0.374 - ETA: 4s - loss: 0.374 - ETA: 4s - loss: 0.374 - ETA: 4s - loss: 0.374 - ETA: 4s - loss: 0.374 - ETA: 4s - loss: 0.374 - ETA: 4s - loss: 0.374 - ETA: 4s - loss: 0.374 - ETA: 4s - loss: 0.374 - ETA: 4s - loss: 0.374 - ETA: 4s - loss: 0.374 - ETA: 4s - loss: 0.374 - ETA: 4s - loss: 0.374 - ETA: 4s - loss: 0.374 - ETA: 3s - loss: 0.374 - ETA: 3s - loss: 0.375 - ETA: 3s - loss: 0.375 - ETA: 3s - loss: 0.375 - ETA: 3s - loss: 0.375 - ETA: 3s - loss: 0.375 - ETA: 3s - loss: 0.375 - ETA: 3s - loss: 0.375 - ETA: 3s - loss: 0.375 - ETA: 3s - loss: 0.375 - ETA: 3s - loss: 0.375 - ETA: 3s - loss: 0.375 - ETA: 3s - loss: 0.375 - ETA: 3s - loss: 0.375 - ETA: 3s - loss: 0.375 - ETA: 2s - loss: 0.375 - ETA: 2s - loss: 0.375 - ETA: 2s - loss: 0.375 - ETA: 2s - loss: 0.375 - ETA: 2s - loss: 0.375 - ETA: 2s - loss: 0.375 - ETA: 2s - loss: 0.375 - ETA: 2s - loss: 0.374 - ETA: 2s - loss: 0.374 - ETA: 2s - loss: 0.374 - ETA: 2s - loss: 0.374 - ETA: 2s - loss: 0.374 - ETA: 2s - loss: 0.374 - ETA: 2s - loss: 0.374 - ETA: 1s - loss: 0.374 - ETA: 1s - loss: 0.374 - ETA: 1s - loss: 0.374 - ETA: 1s - loss: 0.374 - ETA: 1s - loss: 0.374 - ETA: 1s - loss: 0.374 - ETA: 1s - loss: 0.374 - ETA: 1s - loss: 0.374 - ETA: 1s - loss: 0.374 - ETA: 1s - loss: 0.3746"
     ]
    },
    {
     "name": "stdout",
     "output_type": "stream",
     "text": [
      "55381/55381 [==============================] - ETA: 1s - loss: 0.374 - ETA: 1s - loss: 0.374 - ETA: 1s - loss: 0.374 - ETA: 1s - loss: 0.374 - ETA: 1s - loss: 0.374 - ETA: 1s - loss: 0.374 - ETA: 0s - loss: 0.374 - ETA: 0s - loss: 0.374 - ETA: 0s - loss: 0.374 - ETA: 0s - loss: 0.375 - ETA: 0s - loss: 0.374 - ETA: 0s - loss: 0.375 - ETA: 0s - loss: 0.374 - ETA: 0s - loss: 0.375 - ETA: 0s - loss: 0.375 - ETA: 0s - loss: 0.375 - ETA: 0s - loss: 0.375 - ETA: 0s - loss: 0.375 - ETA: 0s - loss: 0.375 - ETA: 0s - loss: 0.375 - ETA: 0s - loss: 0.375 - 22s 404us/step - loss: 0.3754 - val_loss: 0.3790\n"
     ]
    },
    {
     "data": {
      "text/plain": [
       "<keras.callbacks.History at 0x15d76e46f60>"
      ]
     },
     "execution_count": 51,
     "metadata": {},
     "output_type": "execute_result"
    }
   ],
   "source": [
    "model.fit(xtrain_glove_scl, y=ytrain_enc, batch_size=64, \n",
    "          epochs=50, verbose=1, \n",
    "          validation_data=(xvalid_glove_scl, yvalid_enc))"
   ]
  },
  {
   "cell_type": "code",
   "execution_count": 52,
   "metadata": {},
   "outputs": [],
   "source": [
    "predictions = model.predict(xvalid_glove_scl)"
   ]
  },
  {
   "cell_type": "code",
   "execution_count": 53,
   "metadata": {},
   "outputs": [],
   "source": [
    "predict_label = [np.argmax(i) for i in predictions]"
   ]
  },
  {
   "cell_type": "code",
   "execution_count": 54,
   "metadata": {},
   "outputs": [
    {
     "name": "stderr",
     "output_type": "stream",
     "text": [
      "C:\\Users\\narendran.thesma\\AppData\\Local\\Continuum\\anaconda3\\lib\\site-packages\\sklearn\\preprocessing\\label.py:151: DeprecationWarning: The truth value of an empty array is ambiguous. Returning False, but in future this will result in an error. Use `array.size > 0` to check that an array is not empty.\n",
      "  if diff:\n"
     ]
    }
   ],
   "source": [
    "predict_label = lbl_enc.inverse_transform(predict_label)"
   ]
  },
  {
   "cell_type": "code",
   "execution_count": 55,
   "metadata": {},
   "outputs": [
    {
     "name": "stderr",
     "output_type": "stream",
     "text": [
      "C:\\Users\\narendran.thesma\\AppData\\Local\\Continuum\\anaconda3\\lib\\site-packages\\sklearn\\preprocessing\\label.py:151: DeprecationWarning: The truth value of an empty array is ambiguous. Returning False, but in future this will result in an error. Use `array.size > 0` to check that an array is not empty.\n",
      "  if diff:\n"
     ]
    }
   ],
   "source": [
    "yvalid_label = lbl_enc.inverse_transform(yvalid)"
   ]
  },
  {
   "cell_type": "code",
   "execution_count": 56,
   "metadata": {},
   "outputs": [],
   "source": [
    "test_df = pd.DataFrame({'description' : xvalid, 'actuals' : yvalid_label, 'predictions' : predict_label})"
   ]
  },
  {
   "cell_type": "code",
   "execution_count": 57,
   "metadata": {},
   "outputs": [
    {
     "data": {
      "text/html": [
       "<div>\n",
       "<style scoped>\n",
       "    .dataframe tbody tr th:only-of-type {\n",
       "        vertical-align: middle;\n",
       "    }\n",
       "\n",
       "    .dataframe tbody tr th {\n",
       "        vertical-align: top;\n",
       "    }\n",
       "\n",
       "    .dataframe thead th {\n",
       "        text-align: right;\n",
       "    }\n",
       "</style>\n",
       "<table border=\"1\" class=\"dataframe\">\n",
       "  <thead>\n",
       "    <tr style=\"text-align: right;\">\n",
       "      <th></th>\n",
       "      <th>description</th>\n",
       "      <th>actuals</th>\n",
       "      <th>predictions</th>\n",
       "    </tr>\n",
       "  </thead>\n",
       "  <tbody>\n",
       "    <tr>\n",
       "      <th>0</th>\n",
       "      <td>nike japan ナイキ エア ヴェイパーマックス フライニット 2 メンズ ランニング...</td>\n",
       "      <td>performance</td>\n",
       "      <td>performance</td>\n",
       "    </tr>\n",
       "    <tr>\n",
       "      <th>1</th>\n",
       "      <td>puma japan golf ゴルフw ナカワタパンツ puma｜ゴルフw ナカワタパンツ...</td>\n",
       "      <td>performance</td>\n",
       "      <td>performance</td>\n",
       "    </tr>\n",
       "    <tr>\n",
       "      <th>2</th>\n",
       "      <td>puma japan archive ストラクト クルースウェット ウィメンズサイズのクルー...</td>\n",
       "      <td>sport inspired</td>\n",
       "      <td>sport inspired</td>\n",
       "    </tr>\n",
       "    <tr>\n",
       "      <th>3</th>\n",
       "      <td>adidas japan オリジナルス トラックトップジャージ［eqt track top ...</td>\n",
       "      <td>sport inspired</td>\n",
       "      <td>sport inspired</td>\n",
       "    </tr>\n",
       "    <tr>\n",
       "      <th>4</th>\n",
       "      <td>adidas japan タンゴ ソックス 1978年fifaワールドカップアルゼンチン大会...</td>\n",
       "      <td>performance</td>\n",
       "      <td>performance</td>\n",
       "    </tr>\n",
       "  </tbody>\n",
       "</table>\n",
       "</div>"
      ],
      "text/plain": [
       "                                         description         actuals  \\\n",
       "0  nike japan ナイキ エア ヴェイパーマックス フライニット 2 メンズ ランニング...     performance   \n",
       "1  puma japan golf ゴルフw ナカワタパンツ puma｜ゴルフw ナカワタパンツ...     performance   \n",
       "2  puma japan archive ストラクト クルースウェット ウィメンズサイズのクルー...  sport inspired   \n",
       "3  adidas japan オリジナルス トラックトップジャージ［eqt track top ...  sport inspired   \n",
       "4  adidas japan タンゴ ソックス 1978年fifaワールドカップアルゼンチン大会...     performance   \n",
       "\n",
       "      predictions  \n",
       "0     performance  \n",
       "1     performance  \n",
       "2  sport inspired  \n",
       "3  sport inspired  \n",
       "4     performance  "
      ]
     },
     "execution_count": 57,
     "metadata": {},
     "output_type": "execute_result"
    }
   ],
   "source": [
    "test_df.head()"
   ]
  },
  {
   "cell_type": "code",
   "execution_count": 58,
   "metadata": {},
   "outputs": [],
   "source": [
    "from sklearn.metrics import accuracy_score, f1_score, precision_score, recall_score, classification_report, confusion_matrix"
   ]
  },
  {
   "cell_type": "code",
   "execution_count": 59,
   "metadata": {},
   "outputs": [
    {
     "data": {
      "text/plain": [
       "0.8271767728174146"
      ]
     },
     "execution_count": 59,
     "metadata": {},
     "output_type": "execute_result"
    }
   ],
   "source": [
    "f1_score(test_df.actuals, test_df.predictions,average=\"macro\")"
   ]
  },
  {
   "cell_type": "code",
   "execution_count": 60,
   "metadata": {},
   "outputs": [
    {
     "data": {
      "text/plain": [
       "0.8323041923951902"
      ]
     },
     "execution_count": 60,
     "metadata": {},
     "output_type": "execute_result"
    }
   ],
   "source": [
    "accuracy_score(test_df.actuals, test_df.predictions)"
   ]
  },
  {
   "cell_type": "code",
   "execution_count": 141,
   "metadata": {},
   "outputs": [],
   "source": [
    "chk_token = [' '.join(x) for x in tokenized_text]"
   ]
  },
  {
   "cell_type": "code",
   "execution_count": 145,
   "metadata": {},
   "outputs": [
    {
     "data": {
      "text/plain": [
       "'adidas   ピュアブーストエックス   【 pure   boost   x   tr 】    ,    サイズ ：   素材 ：   生産国 ：'"
      ]
     },
     "execution_count": 145,
     "metadata": {},
     "output_type": "execute_result"
    }
   ],
   "source": [
    "chk_token[2]"
   ]
  },
  {
   "cell_type": "code",
   "execution_count": 78,
   "metadata": {},
   "outputs": [],
   "source": [
    "# using keras tokenizer here\n",
    "token = text.Tokenizer(num_words=None)\n",
    "max_len = 300\n",
    "\n",
    "token.fit_on_texts(list(xtrain.description) + list(xvalid.description))\n",
    "xtrain_seq = token.texts_to_sequences(xtrain.description)\n",
    "xvalid_seq = token.texts_to_sequences(xvalid.description)\n",
    "\n",
    "# zero pad the sequences\n",
    "xtrain_pad = sequence.pad_sequences(xtrain_seq, maxlen=max_len)\n",
    "xvalid_pad = sequence.pad_sequences(xvalid_seq, maxlen=max_len)\n",
    "\n",
    "word_index = token.word_index"
   ]
  },
  {
   "cell_type": "code",
   "execution_count": 146,
   "metadata": {},
   "outputs": [],
   "source": [
    "# using keras tokenizer here\n",
    "token = text.Tokenizer(num_words=None)\n",
    "max_len = 300\n",
    "\n",
    "token.fit_on_texts(chk_token)\n",
    "xtrain_seq = token.texts_to_sequences(chk_token)\n",
    "xvalid_seq = token.texts_to_sequences(xvalid.description)\n",
    "\n",
    "# zero pad the sequences\n",
    "xtrain_pad = sequence.pad_sequences(xtrain_seq, maxlen=max_len)\n",
    "xvalid_pad = sequence.pad_sequences(xvalid_seq, maxlen=max_len)\n",
    "\n",
    "word_index = token.word_index"
   ]
  },
  {
   "cell_type": "code",
   "execution_count": 151,
   "metadata": {},
   "outputs": [
    {
     "data": {
      "text/plain": [
       "array([   0,    0,    0,    0,    0,    0,    0,    0,    0,    0,    0,\n",
       "          0,    0,    0,    0,    0,    0,    0,    0,    0,    0,    0,\n",
       "          0,    0,    0,    0,    0,    0,    0,    0,    0,    0,    0,\n",
       "          0,    0,    0,    0,    0,    0,    0,    0,    0,    0,    0,\n",
       "          0,    0,    0,    0,    0,    0,    0,    0,    0,    0,    0,\n",
       "          0,    0,    0,    0,    0,    0,    0,    0,    0,    0,    0,\n",
       "          0,    0,    0,    0,    0,    0,    0,    0,    0,    0,    0,\n",
       "          0,    0,    0,    0,    0,    0,    0,    0,    0,    0,    0,\n",
       "          0,    0,    0,    0,    0,    0,    0,    0,    0,    0,    0,\n",
       "          0,    0,    0,    0,    0,    0,    0,    0,    0,    0,    0,\n",
       "          0,    0,    0,    0,    0,    0,    0,    0,    0,    0,    0,\n",
       "          0,    0,    0,    0,    0,    0,    0,    0,    0,    0,    0,\n",
       "          0,    0,    0,    0,    0,    0,    0,    0,    0,    0,    0,\n",
       "          0,    0,    0,    0,    0,    0,    0,    0,    0,    0,    0,\n",
       "          0,    0,    0,    0,    0,    0,    0,    0,    0,    0,    0,\n",
       "          0,    0,    0,    0,    0,    0,    0,    0,    0,    0,    0,\n",
       "          0,    0,    0,    0,    0,    0,    0,    0,    0,    0,    0,\n",
       "          0,    0,    0,    0,    0,    0,    0,    0,    0,    0,    0,\n",
       "          0,    0,    0,    0,    0,    0,    0,    0,    0,    0,    0,\n",
       "          0,    0,    0,    0,    0,    0,    0,    0,    0,    0,    0,\n",
       "          0,    0,    0,    0,    0,    0,    0,    0,    0,    0,    0,\n",
       "          0,    0,    0,    0,    0,    0,    0,    0,    0,    0,    0,\n",
       "          0,    0,    0,    0,    0,    0,    0,    0,    0,    0,    0,\n",
       "          0,    0,    0,    0,    0,   24,   20, 1554, 1869,   94, 1431,\n",
       "         20, 1554, 1869,   94, 1431,   12,    3,   78,   14,    5,   28,\n",
       "          6, 1670,   16,    2,   73,    4,  137,   90,   22,  110,    9,\n",
       "         21,   10,   43,   47,    5,   28,    6,  109,  104,   11,  222,\n",
       "          8,   19,    4])"
      ]
     },
     "execution_count": 151,
     "metadata": {},
     "output_type": "execute_result"
    }
   ],
   "source": [
    "xtrain_pad[0]"
   ]
  },
  {
   "cell_type": "code",
   "execution_count": 61,
   "metadata": {},
   "outputs": [],
   "source": [
    "#token.word_index"
   ]
  },
  {
   "cell_type": "code",
   "execution_count": 63,
   "metadata": {},
   "outputs": [],
   "source": [
    "#token.word_docs"
   ]
  },
  {
   "cell_type": "code",
   "execution_count": 80,
   "metadata": {},
   "outputs": [],
   "source": [
    "#(word_index)"
   ]
  },
  {
   "cell_type": "code",
   "execution_count": 96,
   "metadata": {},
   "outputs": [
    {
     "name": "stderr",
     "output_type": "stream",
     "text": [
      "100%|█████████████████████████████████████████████████████████████████████████| 72374/72374 [00:01<00:00, 37525.51it/s]\n"
     ]
    }
   ],
   "source": [
    "# create an embedding matrix for the words we have in the dataset\n",
    "#embeddings_index = {}\n",
    "embedding_matrix = np.zeros((len(word_index) + 1, 300))\n",
    "for word, i in tqdm(word_index.items()):\n",
    "    embedding_vector = embeddings_index.get(word)\n",
    "    if embedding_vector is not None:\n",
    "        embedding_matrix[i] = embedding_vector"
   ]
  },
  {
   "cell_type": "code",
   "execution_count": 97,
   "metadata": {},
   "outputs": [
    {
     "data": {
      "text/plain": [
       "(72375, 300)"
      ]
     },
     "execution_count": 97,
     "metadata": {},
     "output_type": "execute_result"
    }
   ],
   "source": [
    "embedding_matrix.shape"
   ]
  },
  {
   "cell_type": "code",
   "execution_count": 98,
   "metadata": {},
   "outputs": [
    {
     "data": {
      "text/plain": [
       "72374"
      ]
     },
     "execution_count": 98,
     "metadata": {},
     "output_type": "execute_result"
    }
   ],
   "source": [
    "len(word_index)"
   ]
  },
  {
   "cell_type": "code",
   "execution_count": 95,
   "metadata": {
    "scrolled": true
   },
   "outputs": [],
   "source": [
    "#word_index.items()"
   ]
  },
  {
   "cell_type": "code",
   "execution_count": 124,
   "metadata": {},
   "outputs": [],
   "source": [
    "# Imp\n",
    "# final_set = set()\n",
    "# for i in range(len(tokenized_text)):\n",
    "#     temp = set(tokenized_text[i])\n",
    "#     final_set = final_set.union(temp)"
   ]
  },
  {
   "cell_type": "code",
   "execution_count": 127,
   "metadata": {},
   "outputs": [],
   "source": [
    "# final_list = list(final_set)"
   ]
  },
  {
   "cell_type": "code",
   "execution_count": 114,
   "metadata": {},
   "outputs": [
    {
     "data": {
      "text/plain": [
       "['unknown']"
      ]
     },
     "execution_count": 114,
     "metadata": {},
     "output_type": "execute_result"
    }
   ],
   "source": [
    "tokenized_text[1]"
   ]
  },
  {
   "cell_type": "code",
   "execution_count": 130,
   "metadata": {},
   "outputs": [],
   "source": [
    "#word_model.wv[final_list[0]]"
   ]
  },
  {
   "cell_type": "code",
   "execution_count": 131,
   "metadata": {},
   "outputs": [],
   "source": [
    "# create an embedding matrix for the words we have in the dataset\n",
    "#embeddings_index = {}\n",
    "# embedding_matrix = np.zeros((len(final_list) + 1, 300))\n",
    "# for i in range(len(final_list)):\n",
    "#     embedding_vector = word_model.wv[final_list[i]]\n",
    "#     if embedding_vector is not None:\n",
    "#         embedding_matrix[i] = embedding_vector"
   ]
  },
  {
   "cell_type": "code",
   "execution_count": 35,
   "metadata": {},
   "outputs": [
    {
     "data": {
      "text/plain": [
       "array([[     0,      0,      0, ...,      2,     74,  60989],\n",
       "       [     0,      0,      0, ...,      0,      0,     58],\n",
       "       [     0,      0,      0, ...,      6,     19,  60990],\n",
       "       ...,\n",
       "       [     0,      0,      0, ..., 120361,     37,  55592],\n",
       "       [     0,      0,      0, ...,  14712,     26,    103],\n",
       "       [     0,      0,      0, ...,      0,      0,     58]])"
      ]
     },
     "execution_count": 35,
     "metadata": {},
     "output_type": "execute_result"
    }
   ],
   "source": [
    "xtrain_pad"
   ]
  },
  {
   "cell_type": "code",
   "execution_count": 36,
   "metadata": {},
   "outputs": [],
   "source": [
    "#xtrain_pad[0]"
   ]
  },
  {
   "cell_type": "code",
   "execution_count": 135,
   "metadata": {},
   "outputs": [],
   "source": [
    "from keras import optimizers\n",
    "\n",
    "# A simple LSTM with glove embeddings and two dense layers\n",
    "model = Sequential()\n",
    "model.add(Embedding(len(word_index) + 1,\n",
    "                     300,\n",
    "                     weights=[embedding_matrix],\n",
    "                     input_length=max_len,\n",
    "                     trainable=False))\n",
    "model.add(SpatialDropout1D(0.3))\n",
    "model.add(LSTM(100, dropout=0.3, recurrent_dropout=0.3))\n",
    "\n",
    "model.add(Dense(1024, activation='relu'))\n",
    "model.add(Dropout(0.8))\n",
    "\n",
    "model.add(Dense(1024, activation='relu'))\n",
    "model.add(Dropout(0.8))\n",
    "\n",
    "model.add(Dense(512, activation='relu'))\n",
    "model.add(Dropout(0.4))\n",
    "\n",
    "model.add(Dense(256, activation='relu'))\n",
    "model.add(Dropout(0.3))\n",
    "\n",
    "model.add(Dense(128, activation='relu'))\n",
    "model.add(Dropout(0.3))\n",
    "\n",
    "model.add(Dense(2))\n",
    "model.add(Activation('softmax'))\n",
    "\n",
    "#sgd = optimizers.SGD(lr=0.00001, decay=1e-5, momentum=0.8, nesterov=True)\n",
    "rmsprop = optimizers.RMSprop(lr=0.001, rho=0.9, epsilon=None, decay=0.0)\n",
    "model.compile(loss='categorical_crossentropy', optimizer= rmsprop)"
   ]
  },
  {
   "cell_type": "code",
   "execution_count": 138,
   "metadata": {
    "scrolled": true
   },
   "outputs": [
    {
     "name": "stdout",
     "output_type": "stream",
     "text": [
      "Train on 55381 samples, validate on 6154 samples\n",
      "Epoch 1/2\n"
     ]
    },
    {
     "ename": "InvalidArgumentError",
     "evalue": "indices[116,297] = 39038 is not in [0, 36284)\n\t [[Node: embedding_2/embedding_lookup = GatherV2[Taxis=DT_INT32, Tindices=DT_INT32, Tparams=DT_FLOAT, _class=[\"loc:@spatial_dropout1d_1/cond/Switch_1\"], _device=\"/job:localhost/replica:0/task:0/device:CPU:0\"](embedding_2/embeddings/read, embedding_2/Cast, embedding_2/embedding_lookup/axis)]]",
     "output_type": "error",
     "traceback": [
      "\u001b[1;31m---------------------------------------------------------------------------\u001b[0m",
      "\u001b[1;31mInvalidArgumentError\u001b[0m                      Traceback (most recent call last)",
      "\u001b[1;32m<ipython-input-138-9bc3a8aa6595>\u001b[0m in \u001b[0;36m<module>\u001b[1;34m()\u001b[0m\n\u001b[1;32m----> 1\u001b[1;33m \u001b[0mmodel\u001b[0m\u001b[1;33m.\u001b[0m\u001b[0mfit\u001b[0m\u001b[1;33m(\u001b[0m\u001b[0mxtrain_pad\u001b[0m\u001b[1;33m,\u001b[0m \u001b[0my\u001b[0m\u001b[1;33m=\u001b[0m\u001b[0mytrain_enc\u001b[0m\u001b[1;33m,\u001b[0m \u001b[0mbatch_size\u001b[0m\u001b[1;33m=\u001b[0m\u001b[1;36m256\u001b[0m\u001b[1;33m,\u001b[0m \u001b[0mepochs\u001b[0m\u001b[1;33m=\u001b[0m\u001b[1;36m2\u001b[0m\u001b[1;33m,\u001b[0m \u001b[0mverbose\u001b[0m\u001b[1;33m=\u001b[0m\u001b[1;36m1\u001b[0m\u001b[1;33m,\u001b[0m \u001b[0mvalidation_data\u001b[0m\u001b[1;33m=\u001b[0m\u001b[1;33m(\u001b[0m\u001b[0mxvalid_pad\u001b[0m\u001b[1;33m,\u001b[0m \u001b[0myvalid_enc\u001b[0m\u001b[1;33m)\u001b[0m\u001b[1;33m)\u001b[0m\u001b[1;33m\u001b[0m\u001b[0m\n\u001b[0m",
      "\u001b[1;32m~\\AppData\\Local\\Continuum\\anaconda3\\lib\\site-packages\\keras\\engine\\training.py\u001b[0m in \u001b[0;36mfit\u001b[1;34m(self, x, y, batch_size, epochs, verbose, callbacks, validation_split, validation_data, shuffle, class_weight, sample_weight, initial_epoch, steps_per_epoch, validation_steps, **kwargs)\u001b[0m\n\u001b[0;32m   1035\u001b[0m                                         \u001b[0minitial_epoch\u001b[0m\u001b[1;33m=\u001b[0m\u001b[0minitial_epoch\u001b[0m\u001b[1;33m,\u001b[0m\u001b[1;33m\u001b[0m\u001b[0m\n\u001b[0;32m   1036\u001b[0m                                         \u001b[0msteps_per_epoch\u001b[0m\u001b[1;33m=\u001b[0m\u001b[0msteps_per_epoch\u001b[0m\u001b[1;33m,\u001b[0m\u001b[1;33m\u001b[0m\u001b[0m\n\u001b[1;32m-> 1037\u001b[1;33m                                         validation_steps=validation_steps)\n\u001b[0m\u001b[0;32m   1038\u001b[0m \u001b[1;33m\u001b[0m\u001b[0m\n\u001b[0;32m   1039\u001b[0m     def evaluate(self, x=None, y=None,\n",
      "\u001b[1;32m~\\AppData\\Local\\Continuum\\anaconda3\\lib\\site-packages\\keras\\engine\\training_arrays.py\u001b[0m in \u001b[0;36mfit_loop\u001b[1;34m(model, f, ins, out_labels, batch_size, epochs, verbose, callbacks, val_f, val_ins, shuffle, callback_metrics, initial_epoch, steps_per_epoch, validation_steps)\u001b[0m\n\u001b[0;32m    197\u001b[0m                     \u001b[0mins_batch\u001b[0m\u001b[1;33m[\u001b[0m\u001b[0mi\u001b[0m\u001b[1;33m]\u001b[0m \u001b[1;33m=\u001b[0m \u001b[0mins_batch\u001b[0m\u001b[1;33m[\u001b[0m\u001b[0mi\u001b[0m\u001b[1;33m]\u001b[0m\u001b[1;33m.\u001b[0m\u001b[0mtoarray\u001b[0m\u001b[1;33m(\u001b[0m\u001b[1;33m)\u001b[0m\u001b[1;33m\u001b[0m\u001b[0m\n\u001b[0;32m    198\u001b[0m \u001b[1;33m\u001b[0m\u001b[0m\n\u001b[1;32m--> 199\u001b[1;33m                 \u001b[0mouts\u001b[0m \u001b[1;33m=\u001b[0m \u001b[0mf\u001b[0m\u001b[1;33m(\u001b[0m\u001b[0mins_batch\u001b[0m\u001b[1;33m)\u001b[0m\u001b[1;33m\u001b[0m\u001b[0m\n\u001b[0m\u001b[0;32m    200\u001b[0m                 \u001b[0mouts\u001b[0m \u001b[1;33m=\u001b[0m \u001b[0mto_list\u001b[0m\u001b[1;33m(\u001b[0m\u001b[0mouts\u001b[0m\u001b[1;33m)\u001b[0m\u001b[1;33m\u001b[0m\u001b[0m\n\u001b[0;32m    201\u001b[0m                 \u001b[1;32mfor\u001b[0m \u001b[0ml\u001b[0m\u001b[1;33m,\u001b[0m \u001b[0mo\u001b[0m \u001b[1;32min\u001b[0m \u001b[0mzip\u001b[0m\u001b[1;33m(\u001b[0m\u001b[0mout_labels\u001b[0m\u001b[1;33m,\u001b[0m \u001b[0mouts\u001b[0m\u001b[1;33m)\u001b[0m\u001b[1;33m:\u001b[0m\u001b[1;33m\u001b[0m\u001b[0m\n",
      "\u001b[1;32m~\\AppData\\Local\\Continuum\\anaconda3\\lib\\site-packages\\keras\\backend\\tensorflow_backend.py\u001b[0m in \u001b[0;36m__call__\u001b[1;34m(self, inputs)\u001b[0m\n\u001b[0;32m   2664\u001b[0m                 \u001b[1;32mreturn\u001b[0m \u001b[0mself\u001b[0m\u001b[1;33m.\u001b[0m\u001b[0m_legacy_call\u001b[0m\u001b[1;33m(\u001b[0m\u001b[0minputs\u001b[0m\u001b[1;33m)\u001b[0m\u001b[1;33m\u001b[0m\u001b[0m\n\u001b[0;32m   2665\u001b[0m \u001b[1;33m\u001b[0m\u001b[0m\n\u001b[1;32m-> 2666\u001b[1;33m             \u001b[1;32mreturn\u001b[0m \u001b[0mself\u001b[0m\u001b[1;33m.\u001b[0m\u001b[0m_call\u001b[0m\u001b[1;33m(\u001b[0m\u001b[0minputs\u001b[0m\u001b[1;33m)\u001b[0m\u001b[1;33m\u001b[0m\u001b[0m\n\u001b[0m\u001b[0;32m   2667\u001b[0m         \u001b[1;32melse\u001b[0m\u001b[1;33m:\u001b[0m\u001b[1;33m\u001b[0m\u001b[0m\n\u001b[0;32m   2668\u001b[0m             \u001b[1;32mif\u001b[0m \u001b[0mpy_any\u001b[0m\u001b[1;33m(\u001b[0m\u001b[0mis_tensor\u001b[0m\u001b[1;33m(\u001b[0m\u001b[0mx\u001b[0m\u001b[1;33m)\u001b[0m \u001b[1;32mfor\u001b[0m \u001b[0mx\u001b[0m \u001b[1;32min\u001b[0m \u001b[0minputs\u001b[0m\u001b[1;33m)\u001b[0m\u001b[1;33m:\u001b[0m\u001b[1;33m\u001b[0m\u001b[0m\n",
      "\u001b[1;32m~\\AppData\\Local\\Continuum\\anaconda3\\lib\\site-packages\\keras\\backend\\tensorflow_backend.py\u001b[0m in \u001b[0;36m_call\u001b[1;34m(self, inputs)\u001b[0m\n\u001b[0;32m   2634\u001b[0m                                 \u001b[0msymbol_vals\u001b[0m\u001b[1;33m,\u001b[0m\u001b[1;33m\u001b[0m\u001b[0m\n\u001b[0;32m   2635\u001b[0m                                 session)\n\u001b[1;32m-> 2636\u001b[1;33m         \u001b[0mfetched\u001b[0m \u001b[1;33m=\u001b[0m \u001b[0mself\u001b[0m\u001b[1;33m.\u001b[0m\u001b[0m_callable_fn\u001b[0m\u001b[1;33m(\u001b[0m\u001b[1;33m*\u001b[0m\u001b[0marray_vals\u001b[0m\u001b[1;33m)\u001b[0m\u001b[1;33m\u001b[0m\u001b[0m\n\u001b[0m\u001b[0;32m   2637\u001b[0m         \u001b[1;32mreturn\u001b[0m \u001b[0mfetched\u001b[0m\u001b[1;33m[\u001b[0m\u001b[1;33m:\u001b[0m\u001b[0mlen\u001b[0m\u001b[1;33m(\u001b[0m\u001b[0mself\u001b[0m\u001b[1;33m.\u001b[0m\u001b[0moutputs\u001b[0m\u001b[1;33m)\u001b[0m\u001b[1;33m]\u001b[0m\u001b[1;33m\u001b[0m\u001b[0m\n\u001b[0;32m   2638\u001b[0m \u001b[1;33m\u001b[0m\u001b[0m\n",
      "\u001b[1;32m~\\AppData\\Local\\Continuum\\anaconda3\\lib\\site-packages\\tensorflow\\python\\client\\session.py\u001b[0m in \u001b[0;36m__call__\u001b[1;34m(self, *args)\u001b[0m\n\u001b[0;32m   1452\u001b[0m         \u001b[1;32melse\u001b[0m\u001b[1;33m:\u001b[0m\u001b[1;33m\u001b[0m\u001b[0m\n\u001b[0;32m   1453\u001b[0m           return tf_session.TF_DeprecatedSessionRunCallable(\n\u001b[1;32m-> 1454\u001b[1;33m               self._session._session, self._handle, args, status, None)\n\u001b[0m\u001b[0;32m   1455\u001b[0m \u001b[1;33m\u001b[0m\u001b[0m\n\u001b[0;32m   1456\u001b[0m     \u001b[1;32mdef\u001b[0m \u001b[0m__del__\u001b[0m\u001b[1;33m(\u001b[0m\u001b[0mself\u001b[0m\u001b[1;33m)\u001b[0m\u001b[1;33m:\u001b[0m\u001b[1;33m\u001b[0m\u001b[0m\n",
      "\u001b[1;32m~\\AppData\\Local\\Continuum\\anaconda3\\lib\\site-packages\\tensorflow\\python\\framework\\errors_impl.py\u001b[0m in \u001b[0;36m__exit__\u001b[1;34m(self, type_arg, value_arg, traceback_arg)\u001b[0m\n\u001b[0;32m    517\u001b[0m             \u001b[1;32mNone\u001b[0m\u001b[1;33m,\u001b[0m \u001b[1;32mNone\u001b[0m\u001b[1;33m,\u001b[0m\u001b[1;33m\u001b[0m\u001b[0m\n\u001b[0;32m    518\u001b[0m             \u001b[0mcompat\u001b[0m\u001b[1;33m.\u001b[0m\u001b[0mas_text\u001b[0m\u001b[1;33m(\u001b[0m\u001b[0mc_api\u001b[0m\u001b[1;33m.\u001b[0m\u001b[0mTF_Message\u001b[0m\u001b[1;33m(\u001b[0m\u001b[0mself\u001b[0m\u001b[1;33m.\u001b[0m\u001b[0mstatus\u001b[0m\u001b[1;33m.\u001b[0m\u001b[0mstatus\u001b[0m\u001b[1;33m)\u001b[0m\u001b[1;33m)\u001b[0m\u001b[1;33m,\u001b[0m\u001b[1;33m\u001b[0m\u001b[0m\n\u001b[1;32m--> 519\u001b[1;33m             c_api.TF_GetCode(self.status.status))\n\u001b[0m\u001b[0;32m    520\u001b[0m     \u001b[1;31m# Delete the underlying status object from memory otherwise it stays alive\u001b[0m\u001b[1;33m\u001b[0m\u001b[1;33m\u001b[0m\u001b[0m\n\u001b[0;32m    521\u001b[0m     \u001b[1;31m# as there is a reference to status from this from the traceback due to\u001b[0m\u001b[1;33m\u001b[0m\u001b[1;33m\u001b[0m\u001b[0m\n",
      "\u001b[1;31mInvalidArgumentError\u001b[0m: indices[116,297] = 39038 is not in [0, 36284)\n\t [[Node: embedding_2/embedding_lookup = GatherV2[Taxis=DT_INT32, Tindices=DT_INT32, Tparams=DT_FLOAT, _class=[\"loc:@spatial_dropout1d_1/cond/Switch_1\"], _device=\"/job:localhost/replica:0/task:0/device:CPU:0\"](embedding_2/embeddings/read, embedding_2/Cast, embedding_2/embedding_lookup/axis)]]"
     ]
    }
   ],
   "source": [
    "model.fit(xtrain_pad, y=ytrain_enc, batch_size=256, epochs=2, verbose=1, validation_data=(xvalid_pad, yvalid_enc))"
   ]
  },
  {
   "cell_type": "code",
   "execution_count": 41,
   "metadata": {},
   "outputs": [],
   "source": [
    "predictions = model.predict(xvalid_pad)"
   ]
  },
  {
   "cell_type": "code",
   "execution_count": 42,
   "metadata": {},
   "outputs": [],
   "source": [
    "predict_label = [np.argmax(i) for i in predictions]"
   ]
  },
  {
   "cell_type": "code",
   "execution_count": 43,
   "metadata": {},
   "outputs": [
    {
     "name": "stderr",
     "output_type": "stream",
     "text": [
      "C:\\Users\\narendran.thesma\\AppData\\Local\\Continuum\\anaconda3\\lib\\site-packages\\sklearn\\preprocessing\\label.py:151: DeprecationWarning: The truth value of an empty array is ambiguous. Returning False, but in future this will result in an error. Use `array.size > 0` to check that an array is not empty.\n",
      "  if diff:\n"
     ]
    }
   ],
   "source": [
    "predict_label = lbl_enc.inverse_transform(predict_label)"
   ]
  },
  {
   "cell_type": "code",
   "execution_count": 44,
   "metadata": {},
   "outputs": [
    {
     "name": "stderr",
     "output_type": "stream",
     "text": [
      "C:\\Users\\narendran.thesma\\AppData\\Local\\Continuum\\anaconda3\\lib\\site-packages\\sklearn\\preprocessing\\label.py:151: DeprecationWarning: The truth value of an empty array is ambiguous. Returning False, but in future this will result in an error. Use `array.size > 0` to check that an array is not empty.\n",
      "  if diff:\n"
     ]
    }
   ],
   "source": [
    "yvalid_label = lbl_enc.inverse_transform(yvalid)"
   ]
  },
  {
   "cell_type": "code",
   "execution_count": 47,
   "metadata": {},
   "outputs": [
    {
     "data": {
      "text/plain": [
       "array(['performance', 'sport inspired', 'sport inspired', ...,\n",
       "       'performance', 'performance', 'sport inspired'], dtype=object)"
      ]
     },
     "execution_count": 47,
     "metadata": {},
     "output_type": "execute_result"
    }
   ],
   "source": [
    "predict_label"
   ]
  },
  {
   "cell_type": "code",
   "execution_count": 48,
   "metadata": {},
   "outputs": [],
   "source": [
    "test_df = pd.DataFrame({'description' : xvalid.description, 'actuals' : yvalid_label, 'predictions' : predict_label})"
   ]
  },
  {
   "cell_type": "code",
   "execution_count": 49,
   "metadata": {},
   "outputs": [],
   "source": [
    "from sklearn.metrics import accuracy_score, f1_score, precision_score, recall_score, classification_report, confusion_matrix"
   ]
  },
  {
   "cell_type": "code",
   "execution_count": 50,
   "metadata": {},
   "outputs": [
    {
     "data": {
      "text/plain": [
       "0.7415497130750217"
      ]
     },
     "execution_count": 50,
     "metadata": {},
     "output_type": "execute_result"
    }
   ],
   "source": [
    "f1_score(test_df.actuals, test_df.predictions,average=\"macro\")"
   ]
  },
  {
   "cell_type": "code",
   "execution_count": 51,
   "metadata": {},
   "outputs": [
    {
     "data": {
      "text/plain": [
       "0.745206369840754"
      ]
     },
     "execution_count": 51,
     "metadata": {},
     "output_type": "execute_result"
    }
   ],
   "source": [
    "accuracy_score(test_df.actuals, test_df.predictions)"
   ]
  },
  {
   "cell_type": "code",
   "execution_count": null,
   "metadata": {},
   "outputs": [],
   "source": []
  }
 ],
 "metadata": {
  "kernelspec": {
   "display_name": "Python 3",
   "language": "python",
   "name": "python3"
  },
  "language_info": {
   "codemirror_mode": {
    "name": "ipython",
    "version": 3
   },
   "file_extension": ".py",
   "mimetype": "text/x-python",
   "name": "python",
   "nbconvert_exporter": "python",
   "pygments_lexer": "ipython3",
   "version": "3.6.5"
  }
 },
 "nbformat": 4,
 "nbformat_minor": 2
}

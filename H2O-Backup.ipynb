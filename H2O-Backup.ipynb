{
 "cells": [
  {
   "cell_type": "code",
   "execution_count": 1,
   "metadata": {},
   "outputs": [],
   "source": [
    "# Libraries\n",
    "import h2o\n",
    "import pandas as pd"
   ]
  },
  {
   "cell_type": "code",
   "execution_count": 2,
   "metadata": {},
   "outputs": [
    {
     "name": "stdout",
     "output_type": "stream",
     "text": [
      "Checking whether there is an H2O instance running at http://localhost:54321..... not found.\n",
      "Attempting to start a local H2O server...\n",
      "; Java HotSpot(TM) 64-Bit Server VM (build 25.181-b13, mixed mode)\n",
      "  Starting server from C:\\Users\\narendran.thesma\\AppData\\Local\\Continuum\\anaconda3\\lib\\site-packages\\h2o\\backend\\bin\\h2o.jar\n",
      "  Ice root: C:\\Users\\narendran.thesma\\AppData\\Local\\Temp\\tmp_kkfl2s1\n",
      "  JVM stdout: C:\\Users\\narendran.thesma\\AppData\\Local\\Temp\\tmp_kkfl2s1\\h2o_narendran_thesma_started_from_python.out\n",
      "  JVM stderr: C:\\Users\\narendran.thesma\\AppData\\Local\\Temp\\tmp_kkfl2s1\\h2o_narendran_thesma_started_from_python.err\n",
      "  Server is running at http://127.0.0.1:54321\n",
      "Connecting to H2O server at http://127.0.0.1:54321... successful.\n"
     ]
    },
    {
     "data": {
      "text/html": [
       "<div style=\"overflow:auto\"><table style=\"width:50%\"><tr><td>H2O cluster uptime:</td>\n",
       "<td>05 secs</td></tr>\n",
       "<tr><td>H2O cluster timezone:</td>\n",
       "<td>Asia/Kolkata</td></tr>\n",
       "<tr><td>H2O data parsing timezone:</td>\n",
       "<td>UTC</td></tr>\n",
       "<tr><td>H2O cluster version:</td>\n",
       "<td>3.22.0.1</td></tr>\n",
       "<tr><td>H2O cluster version age:</td>\n",
       "<td>26 days </td></tr>\n",
       "<tr><td>H2O cluster name:</td>\n",
       "<td>H2O_from_python_narendran_thesma_7buudi</td></tr>\n",
       "<tr><td>H2O cluster total nodes:</td>\n",
       "<td>1</td></tr>\n",
       "<tr><td>H2O cluster free memory:</td>\n",
       "<td>10.67 Gb</td></tr>\n",
       "<tr><td>H2O cluster total cores:</td>\n",
       "<td>0</td></tr>\n",
       "<tr><td>H2O cluster allowed cores:</td>\n",
       "<td>0</td></tr>\n",
       "<tr><td>H2O cluster status:</td>\n",
       "<td>accepting new members, healthy</td></tr>\n",
       "<tr><td>H2O connection url:</td>\n",
       "<td>http://127.0.0.1:54321</td></tr>\n",
       "<tr><td>H2O connection proxy:</td>\n",
       "<td>None</td></tr>\n",
       "<tr><td>H2O internal security:</td>\n",
       "<td>False</td></tr>\n",
       "<tr><td>H2O API Extensions:</td>\n",
       "<td>Algos, AutoML, Core V3, Core V4</td></tr>\n",
       "<tr><td>Python version:</td>\n",
       "<td>3.6.5 final</td></tr></table></div>"
      ],
      "text/plain": [
       "--------------------------  ---------------------------------------\n",
       "H2O cluster uptime:         05 secs\n",
       "H2O cluster timezone:       Asia/Kolkata\n",
       "H2O data parsing timezone:  UTC\n",
       "H2O cluster version:        3.22.0.1\n",
       "H2O cluster version age:    26 days\n",
       "H2O cluster name:           H2O_from_python_narendran_thesma_7buudi\n",
       "H2O cluster total nodes:    1\n",
       "H2O cluster free memory:    10.67 Gb\n",
       "H2O cluster total cores:    0\n",
       "H2O cluster allowed cores:  0\n",
       "H2O cluster status:         accepting new members, healthy\n",
       "H2O connection url:         http://127.0.0.1:54321\n",
       "H2O connection proxy:\n",
       "H2O internal security:      False\n",
       "H2O API Extensions:         Algos, AutoML, Core V3, Core V4\n",
       "Python version:             3.6.5 final\n",
       "--------------------------  ---------------------------------------"
      ]
     },
     "metadata": {},
     "output_type": "display_data"
    }
   ],
   "source": [
    "# Initialise H2O\n",
    "h2o.init(max_mem_size=\"12G\")"
   ]
  },
  {
   "cell_type": "code",
   "execution_count": null,
   "metadata": {},
   "outputs": [],
   "source": [
    "# Reading File\n",
    "data = pd.read_csv(\"D:/GPMT/Merged/JPN-1/data_joined_deu.csv\", encoding = \"utf-8\")"
   ]
  },
  {
   "cell_type": "markdown",
   "metadata": {},
   "source": [
    "### Data Selection"
   ]
  },
  {
   "cell_type": "code",
   "execution_count": 5,
   "metadata": {},
   "outputs": [],
   "source": [
    "# data = data[data[\"COUNTRY\"] == \"Japan\"]"
   ]
  },
  {
   "cell_type": "code",
   "execution_count": 6,
   "metadata": {},
   "outputs": [],
   "source": [
    "data_req = data.loc[:,[\"ID\", \"companyName\", \"description\", \"division\",\"sportsCategory\", \"subBrand\", \"gender\", \"url\", \"ageGroup\", \"distributorName\", \"SUBBRAND_OUTPUT\"]]"
   ]
  },
  {
   "cell_type": "code",
   "execution_count": 7,
   "metadata": {},
   "outputs": [],
   "source": [
    "data_req = data_req.drop_duplicates()"
   ]
  },
  {
   "cell_type": "code",
   "execution_count": 8,
   "metadata": {},
   "outputs": [],
   "source": [
    "data_req_x = data_req.loc[:,[\"ID\", \"companyName\", \"description\", \"division\",\"sportsCategory\", \"subBrand\", \"gender\", \"url\", \"ageGroup\", \"distributorName\"]]\n",
    "data_req_y = data_req.loc[:, [\"SUBBRAND_OUTPUT\"]]"
   ]
  },
  {
   "cell_type": "code",
   "execution_count": 9,
   "metadata": {},
   "outputs": [],
   "source": [
    "data_req_x = data_req_x.fillna(\"unknown\")\n",
    "data_req = pd.concat([data_req_x, data_req_y], axis=1)"
   ]
  },
  {
   "cell_type": "code",
   "execution_count": 10,
   "metadata": {},
   "outputs": [],
   "source": [
    "data_req[\"description_output\"]  = data_req[\"companyName\"] +\" \" + data_req[\"description\"] +\" \" + data_req[\"division\"] +\" \" + data_req[\"sportsCategory\"] +\" \" + data_req[\"subBrand\"]+\" \" + data_req[\"gender\"]+\" \" + data_req[\"url\"]+\" \" + data_req[\"sportsCategory\"]+\" \" + data_req[\"ageGroup\"]+\" \" + data_req[\"distributorName\"]"
   ]
  },
  {
   "cell_type": "code",
   "execution_count": null,
   "metadata": {},
   "outputs": [],
   "source": [
    "data_req = data_req.rename(columns= {'subBrand' : 'subBrand_input', 'SUBBRAND_OUTPUT' : 'subBrand', 'description_output' : 'description', 'description' :'description_input'})"
   ]
  },
  {
   "cell_type": "code",
   "execution_count": 11,
   "metadata": {},
   "outputs": [],
   "source": [
    "#data_req = data_req.drop([\"PRODUCT DESCRIPTION\", \"PRODUCT URL\"], axis = 1)"
   ]
  },
  {
   "cell_type": "code",
   "execution_count": null,
   "metadata": {},
   "outputs": [],
   "source": [
    "data_req.subBrand = data_req.subBrand.str.lower()\n",
    "data_req.description = data_req.description.str.lower()"
   ]
  },
  {
   "cell_type": "code",
   "execution_count": 12,
   "metadata": {},
   "outputs": [
    {
     "data": {
      "text/plain": [
       "Index(['COMPANY', 'COUNTRY', 'ARTICLE NAME', 'SUBBRAND', 'description'], dtype='object')"
      ]
     },
     "execution_count": 12,
     "metadata": {},
     "output_type": "execute_result"
    }
   ],
   "source": [
    "data_req.columns"
   ]
  },
  {
   "cell_type": "code",
   "execution_count": 13,
   "metadata": {},
   "outputs": [],
   "source": [
    "data_req.columns = [\"company\", \"country\", \"article_name\", \"subBrand\", \"description\"]"
   ]
  },
  {
   "cell_type": "code",
   "execution_count": 14,
   "metadata": {},
   "outputs": [
    {
     "data": {
      "text/html": [
       "<div>\n",
       "<style scoped>\n",
       "    .dataframe tbody tr th:only-of-type {\n",
       "        vertical-align: middle;\n",
       "    }\n",
       "\n",
       "    .dataframe tbody tr th {\n",
       "        vertical-align: top;\n",
       "    }\n",
       "\n",
       "    .dataframe thead th {\n",
       "        text-align: right;\n",
       "    }\n",
       "</style>\n",
       "<table border=\"1\" class=\"dataframe\">\n",
       "  <thead>\n",
       "    <tr style=\"text-align: right;\">\n",
       "      <th></th>\n",
       "      <th>company</th>\n",
       "      <th>country</th>\n",
       "      <th>article_name</th>\n",
       "      <th>subBrand</th>\n",
       "      <th>description</th>\n",
       "    </tr>\n",
       "  </thead>\n",
       "  <tbody>\n",
       "    <tr>\n",
       "      <th>0</th>\n",
       "      <td>Nike</td>\n",
       "      <td>Japan</td>\n",
       "      <td>ナイキ コア ハーフ KV ゴルフバッグ</td>\n",
       "      <td>Performance</td>\n",
       "      <td>整理しやすいゴルフバッグ。快適な持ち運び。 ナイキ コア ハーフ KV ゴルフバッグは、専用...</td>\n",
       "    </tr>\n",
       "    <tr>\n",
       "      <th>1</th>\n",
       "      <td>Nike</td>\n",
       "      <td>Japan</td>\n",
       "      <td>ナイキ コルテッツ QS キッズシューズ</td>\n",
       "      <td>Sport Inspired</td>\n",
       "      <td>高級感のあるレトロスタイル   ナイキ コルテッツ QS キッズシューズは、上質なレザーのア...</td>\n",
       "    </tr>\n",
       "    <tr>\n",
       "      <th>2</th>\n",
       "      <td>Nike</td>\n",
       "      <td>Japan</td>\n",
       "      <td>ナイキ レジン スピード レッド ゴルフボール</td>\n",
       "      <td>Performance</td>\n",
       "      <td>高初速でより遠くへ ナイキ レジン スピード レッド ゴルフボールは、更にソフトになった新開...</td>\n",
       "    </tr>\n",
       "    <tr>\n",
       "      <th>3</th>\n",
       "      <td>Nike</td>\n",
       "      <td>Japan</td>\n",
       "      <td>ナイキ レジン ツアー ブラック ゴルフボール</td>\n",
       "      <td>Performance</td>\n",
       "      <td>低スピンでより遠くへ ナイキ レジン ツアー ブラック ゴルフボールは、更にソフトになったR...</td>\n",
       "    </tr>\n",
       "    <tr>\n",
       "      <th>4</th>\n",
       "      <td>Nike</td>\n",
       "      <td>Japan</td>\n",
       "      <td>ナイキ ATG スピード ジャンプ ロープ</td>\n",
       "      <td>Performance</td>\n",
       "      <td>軽く、速く、カスタマイズも可能。 ナイキ ATG スピード ジャンプ ロープは、滑りにくいボ...</td>\n",
       "    </tr>\n",
       "  </tbody>\n",
       "</table>\n",
       "</div>"
      ],
      "text/plain": [
       "  company country             article_name        subBrand  \\\n",
       "0    Nike   Japan     ナイキ コア ハーフ KV ゴルフバッグ     Performance   \n",
       "1    Nike   Japan     ナイキ コルテッツ QS キッズシューズ  Sport Inspired   \n",
       "2    Nike   Japan  ナイキ レジン スピード レッド ゴルフボール     Performance   \n",
       "3    Nike   Japan  ナイキ レジン ツアー ブラック ゴルフボール     Performance   \n",
       "4    Nike   Japan    ナイキ ATG スピード ジャンプ ロープ     Performance   \n",
       "\n",
       "                                         description  \n",
       "0  整理しやすいゴルフバッグ。快適な持ち運び。 ナイキ コア ハーフ KV ゴルフバッグは、専用...  \n",
       "1  高級感のあるレトロスタイル   ナイキ コルテッツ QS キッズシューズは、上質なレザーのア...  \n",
       "2  高初速でより遠くへ ナイキ レジン スピード レッド ゴルフボールは、更にソフトになった新開...  \n",
       "3  低スピンでより遠くへ ナイキ レジン ツアー ブラック ゴルフボールは、更にソフトになったR...  \n",
       "4  軽く、速く、カスタマイズも可能。 ナイキ ATG スピード ジャンプ ロープは、滑りにくいボ...  "
      ]
     },
     "execution_count": 14,
     "metadata": {},
     "output_type": "execute_result"
    }
   ],
   "source": [
    "data_req.head()"
   ]
  },
  {
   "cell_type": "code",
   "execution_count": 15,
   "metadata": {},
   "outputs": [],
   "source": [
    "# Taking Sample\n",
    "import numpy as np\n",
    "np.random.seed(123)\n",
    "data_req_sample = data_req.sample(frac=0.7)"
   ]
  },
  {
   "cell_type": "code",
   "execution_count": 16,
   "metadata": {},
   "outputs": [],
   "source": [
    "# Train and Test Split\n",
    "train = data_req.loc[data_req.index.isin(data_req_sample.index)]\n",
    "test = data_req.loc[~data_req.index.isin(data_req_sample.index)]"
   ]
  },
  {
   "cell_type": "code",
   "execution_count": 17,
   "metadata": {},
   "outputs": [
    {
     "name": "stderr",
     "output_type": "stream",
     "text": [
      "C:\\Users\\narendran.thesma\\AppData\\Local\\Continuum\\anaconda3\\lib\\site-packages\\ipykernel_launcher.py:1: SettingWithCopyWarning: \n",
      "A value is trying to be set on a copy of a slice from a DataFrame.\n",
      "Try using .loc[row_indexer,col_indexer] = value instead\n",
      "\n",
      "See the caveats in the documentation: http://pandas.pydata.org/pandas-docs/stable/indexing.html#indexing-view-versus-copy\n",
      "  \"\"\"Entry point for launching an IPython kernel.\n",
      "C:\\Users\\narendran.thesma\\AppData\\Local\\Continuum\\anaconda3\\lib\\site-packages\\ipykernel_launcher.py:2: SettingWithCopyWarning: \n",
      "A value is trying to be set on a copy of a slice from a DataFrame.\n",
      "Try using .loc[row_indexer,col_indexer] = value instead\n",
      "\n",
      "See the caveats in the documentation: http://pandas.pydata.org/pandas-docs/stable/indexing.html#indexing-view-versus-copy\n",
      "  \n"
     ]
    }
   ],
   "source": [
    "train[\"Check\"] = \"train\"\n",
    "test[\"Check\"] = \"test\""
   ]
  },
  {
   "cell_type": "code",
   "execution_count": 18,
   "metadata": {},
   "outputs": [],
   "source": [
    "data_req = train.append(test)"
   ]
  },
  {
   "cell_type": "code",
   "execution_count": 19,
   "metadata": {},
   "outputs": [],
   "source": [
    "data_req.to_csv(\"data_req.csv\")\n",
    "#test.to_csv(\"test.csv\")"
   ]
  },
  {
   "cell_type": "code",
   "execution_count": 20,
   "metadata": {},
   "outputs": [
    {
     "data": {
      "text/html": [
       "<div>\n",
       "<style scoped>\n",
       "    .dataframe tbody tr th:only-of-type {\n",
       "        vertical-align: middle;\n",
       "    }\n",
       "\n",
       "    .dataframe tbody tr th {\n",
       "        vertical-align: top;\n",
       "    }\n",
       "\n",
       "    .dataframe thead th {\n",
       "        text-align: right;\n",
       "    }\n",
       "</style>\n",
       "<table border=\"1\" class=\"dataframe\">\n",
       "  <thead>\n",
       "    <tr style=\"text-align: right;\">\n",
       "      <th></th>\n",
       "      <th>company</th>\n",
       "      <th>country</th>\n",
       "      <th>article_name</th>\n",
       "      <th>subBrand</th>\n",
       "      <th>description</th>\n",
       "      <th>Check</th>\n",
       "    </tr>\n",
       "  </thead>\n",
       "  <tbody>\n",
       "    <tr>\n",
       "      <th>1</th>\n",
       "      <td>Nike</td>\n",
       "      <td>Japan</td>\n",
       "      <td>ナイキ コルテッツ QS キッズシューズ</td>\n",
       "      <td>Sport Inspired</td>\n",
       "      <td>高級感のあるレトロスタイル   ナイキ コルテッツ QS キッズシューズは、上質なレザーのア...</td>\n",
       "      <td>train</td>\n",
       "    </tr>\n",
       "    <tr>\n",
       "      <th>3</th>\n",
       "      <td>Nike</td>\n",
       "      <td>Japan</td>\n",
       "      <td>ナイキ レジン ツアー ブラック ゴルフボール</td>\n",
       "      <td>Performance</td>\n",
       "      <td>低スピンでより遠くへ ナイキ レジン ツアー ブラック ゴルフボールは、更にソフトになったR...</td>\n",
       "      <td>train</td>\n",
       "    </tr>\n",
       "    <tr>\n",
       "      <th>5</th>\n",
       "      <td>Nike</td>\n",
       "      <td>Japan</td>\n",
       "      <td>ナイキ リーン ランニングウエストパック</td>\n",
       "      <td>Performance</td>\n",
       "      <td>軽い収納 ナイキ リーン ランニングウエストパックは、伸縮性に優れたメッシュ素材と圧着ジッパ...</td>\n",
       "      <td>train</td>\n",
       "    </tr>\n",
       "    <tr>\n",
       "      <th>8</th>\n",
       "      <td>Nike</td>\n",
       "      <td>Japan</td>\n",
       "      <td>ナイキ プレスティージ ネイマール サッカーボール</td>\n",
       "      <td>Performance</td>\n",
       "      <td>抜群の耐久性とボールタッチ ナイキ プレスティージ ネイマール サッカーボールは、丈夫な機械...</td>\n",
       "      <td>train</td>\n",
       "    </tr>\n",
       "    <tr>\n",
       "      <th>9</th>\n",
       "      <td>Nike</td>\n",
       "      <td>Japan</td>\n",
       "      <td>ナイキ エア ズーム ストリーク 5 CP ユニセックス ランニングシューズ</td>\n",
       "      <td>Performance</td>\n",
       "      <td>反発力に優れたサポート力 ナイキ エア ズーム ストリーク 5 CP ユニセックス ランニン...</td>\n",
       "      <td>train</td>\n",
       "    </tr>\n",
       "  </tbody>\n",
       "</table>\n",
       "</div>"
      ],
      "text/plain": [
       "  company country                            article_name        subBrand  \\\n",
       "1    Nike   Japan                    ナイキ コルテッツ QS キッズシューズ  Sport Inspired   \n",
       "3    Nike   Japan                 ナイキ レジン ツアー ブラック ゴルフボール     Performance   \n",
       "5    Nike   Japan                    ナイキ リーン ランニングウエストパック     Performance   \n",
       "8    Nike   Japan               ナイキ プレスティージ ネイマール サッカーボール     Performance   \n",
       "9    Nike   Japan  ナイキ エア ズーム ストリーク 5 CP ユニセックス ランニングシューズ     Performance   \n",
       "\n",
       "                                         description  Check  \n",
       "1  高級感のあるレトロスタイル   ナイキ コルテッツ QS キッズシューズは、上質なレザーのア...  train  \n",
       "3  低スピンでより遠くへ ナイキ レジン ツアー ブラック ゴルフボールは、更にソフトになったR...  train  \n",
       "5  軽い収納 ナイキ リーン ランニングウエストパックは、伸縮性に優れたメッシュ素材と圧着ジッパ...  train  \n",
       "8  抜群の耐久性とボールタッチ ナイキ プレスティージ ネイマール サッカーボールは、丈夫な機械...  train  \n",
       "9  反発力に優れたサポート力 ナイキ エア ズーム ストリーク 5 CP ユニセックス ランニン...  train  "
      ]
     },
     "execution_count": 20,
     "metadata": {},
     "output_type": "execute_result"
    }
   ],
   "source": [
    "data_req.head()"
   ]
  },
  {
   "cell_type": "code",
   "execution_count": 21,
   "metadata": {},
   "outputs": [
    {
     "name": "stdout",
     "output_type": "stream",
     "text": [
      "Parse progress: |█████████████████████████████████████████████████████████| 100%\n"
     ]
    }
   ],
   "source": [
    "data_req = h2o.import_file('data_req.csv', col_types={\"description\" : \"string\"})\n",
    "#test = h2o.import_file('test.csv', col_types={\"description\" : \"string\"})"
   ]
  },
  {
   "cell_type": "code",
   "execution_count": 22,
   "metadata": {},
   "outputs": [],
   "source": [
    "#train = train[data_req]"
   ]
  },
  {
   "cell_type": "code",
   "execution_count": 33,
   "metadata": {},
   "outputs": [],
   "source": [
    "# Set Stop Words\n",
    "import pandas as pd\n",
    "import os\n",
    "\n",
    "# Use local data file or download from GitHub\n",
    "#docker_data_path = \"stopwords.csv\"\n",
    "docker_data_path = \"Japanese_SW_H2O.csv\"\n",
    "if os.path.isfile(docker_data_path):\n",
    "  data_path = docker_data_path\n",
    "else:\n",
    "  data_path = \"https://raw.githubusercontent.com/h2oai/h2o-tutorials/master/h2o-world-2017/nlp/stopwords.csv\"\n",
    "\n",
    "STOP_WORDS = pd.read_csv(data_path, header = 0)\n",
    "STOP_WORDS = list(STOP_WORDS['STOP_WORD'])"
   ]
  },
  {
   "cell_type": "code",
   "execution_count": 35,
   "metadata": {},
   "outputs": [],
   "source": [
    "#STOP_WORDS"
   ]
  },
  {
   "cell_type": "code",
   "execution_count": 36,
   "metadata": {},
   "outputs": [],
   "source": [
    "# Tokenisation\n",
    "def tokenize(sentences, stop_word = STOP_WORDS):\n",
    "    tokenized = sentences.tokenize(\"\\\\W+\")\n",
    "    tokenized_lower = tokenized.tolower()\n",
    "    tokenized_filtered = tokenized_lower[(tokenized_lower.nchar() >= 2) | (tokenized_lower.isna()),:]\n",
    "    tokenized_words = tokenized_filtered[tokenized_filtered.grep(\"[0-9]\",invert=True,output_logical=True),:]\n",
    "    tokenized_words = tokenized_words[(tokenized_words.isna()) | (~ tokenized_words.isin(STOP_WORDS)),:]\n",
    "    return tokenized_words"
   ]
  },
  {
   "cell_type": "code",
   "execution_count": 24,
   "metadata": {},
   "outputs": [],
   "source": [
    "#data_req.to_csv(\"data_req.csv\")\n",
    "#data_req = h2o.import_file('data_req.csv', col_types={\"description\" : \"string\"})"
   ]
  },
  {
   "cell_type": "code",
   "execution_count": 37,
   "metadata": {},
   "outputs": [],
   "source": [
    "words = tokenize(data_req[\"description\"])"
   ]
  },
  {
   "cell_type": "code",
   "execution_count": 39,
   "metadata": {},
   "outputs": [
    {
     "data": {
      "text/plain": [
       "815915"
      ]
     },
     "execution_count": 39,
     "metadata": {},
     "output_type": "execute_result"
    }
   ],
   "source": [
    "len(words)"
   ]
  },
  {
   "cell_type": "markdown",
   "metadata": {},
   "source": [
    "#### Word2Vec"
   ]
  },
  {
   "cell_type": "code",
   "execution_count": 40,
   "metadata": {},
   "outputs": [
    {
     "name": "stdout",
     "output_type": "stream",
     "text": [
      "word2vec Model Build progress: |██████████████████████████████████████████| 100%\n"
     ]
    }
   ],
   "source": [
    "# Train Word2Vec Model\n",
    "from h2o.estimators.word2vec import H2OWord2vecEstimator\n",
    "\n",
    "w2v_model = H2OWord2vecEstimator(vec_size = 200, model_id = \"w2v.hex\")\n",
    "w2v_model.train(training_frame=words)"
   ]
  },
  {
   "cell_type": "code",
   "execution_count": 41,
   "metadata": {},
   "outputs": [],
   "source": [
    "desc_vecs = w2v_model.transform(words, aggregate_method = \"AVERAGE\")"
   ]
  },
  {
   "cell_type": "code",
   "execution_count": 46,
   "metadata": {},
   "outputs": [],
   "source": [
    "#desc_vecs.head()"
   ]
  },
  {
   "cell_type": "code",
   "execution_count": 29,
   "metadata": {},
   "outputs": [],
   "source": [
    "data_req = data_req.cbind(desc_vecs)"
   ]
  },
  {
   "cell_type": "code",
   "execution_count": 30,
   "metadata": {},
   "outputs": [],
   "source": [
    "train = data_req[data_req[\"Check\"] == \"train\"]\n",
    "test  = data_req[data_req[\"Check\"] == \"test\"]"
   ]
  },
  {
   "cell_type": "code",
   "execution_count": 31,
   "metadata": {},
   "outputs": [],
   "source": [
    "predictors = [\"company\", \"article_name\"]"
   ]
  },
  {
   "cell_type": "code",
   "execution_count": 32,
   "metadata": {},
   "outputs": [],
   "source": [
    "predictors = predictors + desc_vecs.names\n",
    "response = 'subBrand'"
   ]
  },
  {
   "cell_type": "code",
   "execution_count": 33,
   "metadata": {
    "scrolled": true
   },
   "outputs": [],
   "source": [
    "#predictors"
   ]
  },
  {
   "cell_type": "code",
   "execution_count": 34,
   "metadata": {},
   "outputs": [],
   "source": [
    "# import numpy as np\n",
    "# np.random.seed(123)\n",
    "# data_req_sample = data.sample(frac=0.7)"
   ]
  },
  {
   "cell_type": "markdown",
   "metadata": {},
   "source": [
    "#### Modelling"
   ]
  },
  {
   "cell_type": "code",
   "execution_count": 35,
   "metadata": {},
   "outputs": [
    {
     "name": "stdout",
     "output_type": "stream",
     "text": [
      "gbm Model Build progress: |███████████████████████████████████████████████| 100%\n"
     ]
    }
   ],
   "source": [
    "from h2o.estimators import H2OGradientBoostingEstimator\n",
    "\n",
    "gbm_embeddings = H2OGradientBoostingEstimator(stopping_metric = \"logloss\", stopping_tolerance = 0.001,\n",
    "                                              stopping_rounds = 5, score_tree_interval = 10,\n",
    "                                              model_id = \"gbm_embeddings.hex\"\n",
    "                                             )\n",
    "gbm_embeddings.train(x = predictors, y = response, \n",
    "                   training_frame = train, validation_frame = test\n",
    "                  )"
   ]
  },
  {
   "cell_type": "code",
   "execution_count": 36,
   "metadata": {},
   "outputs": [
    {
     "name": "stdout",
     "output_type": "stream",
     "text": [
      "With Embeddings log loss: 0.353\n"
     ]
    }
   ],
   "source": [
    "print(\"With Embeddings log loss: \" + str(round(gbm_embeddings.logloss(valid = True), 3)))"
   ]
  },
  {
   "cell_type": "code",
   "execution_count": 37,
   "metadata": {},
   "outputs": [
    {
     "name": "stdout",
     "output_type": "stream",
     "text": [
      "gbm prediction progress: |████████████████████████████████████████████████| 100%\n"
     ]
    }
   ],
   "source": [
    "test_pred = gbm_embeddings.predict(test_data=test)"
   ]
  },
  {
   "cell_type": "code",
   "execution_count": 38,
   "metadata": {},
   "outputs": [],
   "source": [
    "from h2o.automl import H2OAutoML"
   ]
  },
  {
   "cell_type": "code",
   "execution_count": 39,
   "metadata": {},
   "outputs": [],
   "source": [
    "aml = H2OAutoML(max_runtime_secs = 600, seed = 1, project_name = \"adidas_gpmt_frame\", stopping_rounds=100, stopping_metric=\"logloss\", )\n",
    "#aml.train(y = response, training_frame = train, leaderboard_frame = test)"
   ]
  },
  {
   "cell_type": "code",
   "execution_count": 40,
   "metadata": {},
   "outputs": [
    {
     "name": "stdout",
     "output_type": "stream",
     "text": [
      "AutoML progress: |████████████████████████████████████████████████████████| 100%\n",
      "Parse progress: |█████████████████████████████████████████████████████████| 100%\n"
     ]
    }
   ],
   "source": [
    "aml.train(x = predictors, y = response, training_frame = train, leaderboard_frame=test)"
   ]
  },
  {
   "cell_type": "code",
   "execution_count": 41,
   "metadata": {},
   "outputs": [
    {
     "name": "stdout",
     "output_type": "stream",
     "text": [
      "Parse progress: |█████████████████████████████████████████████████████████| 100%\n",
      "stackedensemble prediction progress: |████████████████████████████████████| 100%\n"
     ]
    },
    {
     "data": {
      "text/html": [
       "<table>\n",
       "<thead>\n",
       "<tr><th>predict       </th><th style=\"text-align: right;\">  Performance</th><th style=\"text-align: right;\">  Sport Inspired</th></tr>\n",
       "</thead>\n",
       "<tbody>\n",
       "<tr><td>Sport Inspired</td><td style=\"text-align: right;\">    0.608898 </td><td style=\"text-align: right;\">       0.391102 </td></tr>\n",
       "<tr><td>Performance   </td><td style=\"text-align: right;\">    0.977097 </td><td style=\"text-align: right;\">       0.0229025</td></tr>\n",
       "<tr><td>Performance   </td><td style=\"text-align: right;\">    0.954121 </td><td style=\"text-align: right;\">       0.0458793</td></tr>\n",
       "<tr><td>Performance   </td><td style=\"text-align: right;\">    0.797009 </td><td style=\"text-align: right;\">       0.202991 </td></tr>\n",
       "<tr><td>Sport Inspired</td><td style=\"text-align: right;\">    0.454493 </td><td style=\"text-align: right;\">       0.545507 </td></tr>\n",
       "<tr><td>Sport Inspired</td><td style=\"text-align: right;\">    0.0412136</td><td style=\"text-align: right;\">       0.958786 </td></tr>\n",
       "<tr><td>Performance   </td><td style=\"text-align: right;\">    0.957946 </td><td style=\"text-align: right;\">       0.0420536</td></tr>\n",
       "<tr><td>Performance   </td><td style=\"text-align: right;\">    0.932453 </td><td style=\"text-align: right;\">       0.0675471</td></tr>\n",
       "<tr><td>Performance   </td><td style=\"text-align: right;\">    0.930796 </td><td style=\"text-align: right;\">       0.069204 </td></tr>\n",
       "<tr><td>Sport Inspired</td><td style=\"text-align: right;\">    0.608898 </td><td style=\"text-align: right;\">       0.391102 </td></tr>\n",
       "</tbody>\n",
       "</table>"
      ]
     },
     "metadata": {},
     "output_type": "display_data"
    },
    {
     "data": {
      "text/plain": []
     },
     "execution_count": 41,
     "metadata": {},
     "output_type": "execute_result"
    }
   ],
   "source": [
    "test_pred = aml.predict(test)\n",
    "test_pred.head()"
   ]
  },
  {
   "cell_type": "code",
   "execution_count": 42,
   "metadata": {},
   "outputs": [],
   "source": [
    "test_pred[\"subBrand\"] = test[\"subBrand\"]"
   ]
  },
  {
   "cell_type": "code",
   "execution_count": 43,
   "metadata": {},
   "outputs": [
    {
     "data": {
      "text/html": [
       "<table>\n",
       "<thead>\n",
       "<tr><th>predict       </th><th style=\"text-align: right;\">  Performance</th><th style=\"text-align: right;\">  Sport Inspired</th><th>subBrand      </th></tr>\n",
       "</thead>\n",
       "<tbody>\n",
       "<tr><td>Sport Inspired</td><td style=\"text-align: right;\">    0.608898 </td><td style=\"text-align: right;\">       0.391102 </td><td>Performance   </td></tr>\n",
       "<tr><td>Performance   </td><td style=\"text-align: right;\">    0.977097 </td><td style=\"text-align: right;\">       0.0229025</td><td>Performance   </td></tr>\n",
       "<tr><td>Performance   </td><td style=\"text-align: right;\">    0.954121 </td><td style=\"text-align: right;\">       0.0458793</td><td>Performance   </td></tr>\n",
       "<tr><td>Performance   </td><td style=\"text-align: right;\">    0.797009 </td><td style=\"text-align: right;\">       0.202991 </td><td>Performance   </td></tr>\n",
       "<tr><td>Sport Inspired</td><td style=\"text-align: right;\">    0.454493 </td><td style=\"text-align: right;\">       0.545507 </td><td>Performance   </td></tr>\n",
       "<tr><td>Sport Inspired</td><td style=\"text-align: right;\">    0.0412136</td><td style=\"text-align: right;\">       0.958786 </td><td>Sport Inspired</td></tr>\n",
       "<tr><td>Performance   </td><td style=\"text-align: right;\">    0.957946 </td><td style=\"text-align: right;\">       0.0420536</td><td>Performance   </td></tr>\n",
       "<tr><td>Performance   </td><td style=\"text-align: right;\">    0.932453 </td><td style=\"text-align: right;\">       0.0675471</td><td>Performance   </td></tr>\n",
       "<tr><td>Performance   </td><td style=\"text-align: right;\">    0.930796 </td><td style=\"text-align: right;\">       0.069204 </td><td>Performance   </td></tr>\n",
       "<tr><td>Sport Inspired</td><td style=\"text-align: right;\">    0.608898 </td><td style=\"text-align: right;\">       0.391102 </td><td>Performance   </td></tr>\n",
       "</tbody>\n",
       "</table>"
      ]
     },
     "metadata": {},
     "output_type": "display_data"
    },
    {
     "data": {
      "text/plain": []
     },
     "execution_count": 43,
     "metadata": {},
     "output_type": "execute_result"
    }
   ],
   "source": [
    "(test_pred)"
   ]
  },
  {
   "cell_type": "code",
   "execution_count": 44,
   "metadata": {},
   "outputs": [],
   "source": [
    "from sklearn.metrics import accuracy_score, f1_score, precision_score, recall_score, classification_report, confusion_matrix"
   ]
  },
  {
   "cell_type": "code",
   "execution_count": 45,
   "metadata": {},
   "outputs": [],
   "source": [
    "test_pred = test_pred.as_data_frame()"
   ]
  },
  {
   "cell_type": "code",
   "execution_count": 46,
   "metadata": {},
   "outputs": [
    {
     "name": "stdout",
     "output_type": "stream",
     "text": [
      "Accuracy Score : 0.8697795352364444\n",
      "F1 Score: 0.8685422583664187\n",
      "Precision: 0.8686456938769798\n",
      "Recall: 0.8684423572329372\n"
     ]
    }
   ],
   "source": [
    "print(f'Accuracy Score : {accuracy_score(test_pred[\"subBrand\"], test_pred[\"predict\"] )}')\n",
    "print(f'F1 Score: {f1_score(test_pred[\"subBrand\"], test_pred[\"predict\"] , average=\"macro\")}')\n",
    "print(f'Precision: {precision_score(test_pred.subBrand, test_pred.predict , average=\"macro\")}')\n",
    "print(f'Recall: {recall_score(test_pred.subBrand, test_pred.predict , average=\"macro\")}')"
   ]
  },
  {
   "cell_type": "code",
   "execution_count": null,
   "metadata": {},
   "outputs": [],
   "source": []
  }
 ],
 "metadata": {
  "kernelspec": {
   "display_name": "Python 3",
   "language": "python",
   "name": "python3"
  },
  "language_info": {
   "codemirror_mode": {
    "name": "ipython",
    "version": 3
   },
   "file_extension": ".py",
   "mimetype": "text/x-python",
   "name": "python",
   "nbconvert_exporter": "python",
   "pygments_lexer": "ipython3",
   "version": "3.6.5"
  }
 },
 "nbformat": 4,
 "nbformat_minor": 2
}

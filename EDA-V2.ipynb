{
 "cells": [
  {
   "cell_type": "code",
   "execution_count": 130,
   "metadata": {},
   "outputs": [],
   "source": [
    "import numpy as np\n",
    "import pandas as pd\n",
    "import matplotlib.pyplot as plt\n",
    "import seaborn as sns\n",
    "import time\n",
    "\n",
    "%matplotlib inline"
   ]
  },
  {
   "cell_type": "code",
   "execution_count": 4,
   "metadata": {},
   "outputs": [
    {
     "data": {
      "text/html": [
       "<div>\n",
       "<style scoped>\n",
       "    .dataframe tbody tr th:only-of-type {\n",
       "        vertical-align: middle;\n",
       "    }\n",
       "\n",
       "    .dataframe tbody tr th {\n",
       "        vertical-align: top;\n",
       "    }\n",
       "\n",
       "    .dataframe thead th {\n",
       "        text-align: right;\n",
       "    }\n",
       "</style>\n",
       "<table border=\"1\" class=\"dataframe\">\n",
       "  <thead>\n",
       "    <tr style=\"text-align: right;\">\n",
       "      <th></th>\n",
       "      <th>date</th>\n",
       "      <th>name</th>\n",
       "      <th>currency</th>\n",
       "      <th>language</th>\n",
       "      <th>name2</th>\n",
       "      <th>name3</th>\n",
       "      <th>ageGroup</th>\n",
       "      <th>articleId</th>\n",
       "      <th>colors</th>\n",
       "      <th>colorGroup</th>\n",
       "      <th>...</th>\n",
       "      <th>ped</th>\n",
       "      <th>pid</th>\n",
       "      <th>sportsCategory</th>\n",
       "      <th>subBrand</th>\n",
       "      <th>technologies</th>\n",
       "      <th>type</th>\n",
       "      <th>url</th>\n",
       "      <th>price</th>\n",
       "      <th>territories</th>\n",
       "      <th>type5</th>\n",
       "    </tr>\n",
       "  </thead>\n",
       "  <tbody>\n",
       "    <tr>\n",
       "      <th>0</th>\n",
       "      <td>08/29/2018</td>\n",
       "      <td>adidas</td>\n",
       "      <td>EUR</td>\n",
       "      <td>de-DE</td>\n",
       "      <td>DEU</td>\n",
       "      <td>own eCom</td>\n",
       "      <td>adults</td>\n",
       "      <td>011040</td>\n",
       "      <td>Black/Footwear White</td>\n",
       "      <td>schwarz</td>\n",
       "      <td>...</td>\n",
       "      <td>NaN</td>\n",
       "      <td>04/18/2013</td>\n",
       "      <td>Fußball</td>\n",
       "      <td>Performance</td>\n",
       "      <td>EVA</td>\n",
       "      <td>NaN</td>\n",
       "      <td>https://www.adidas.de/world-cup-fussballschuh/...</td>\n",
       "      <td>NaN</td>\n",
       "      <td>NaN</td>\n",
       "      <td>NaN</td>\n",
       "    </tr>\n",
       "    <tr>\n",
       "      <th>1</th>\n",
       "      <td>08/29/2018</td>\n",
       "      <td>adidas</td>\n",
       "      <td>EUR</td>\n",
       "      <td>de-DE</td>\n",
       "      <td>DEU</td>\n",
       "      <td>own eCom</td>\n",
       "      <td>adults</td>\n",
       "      <td>015110</td>\n",
       "      <td>Black/Footwear White/Black</td>\n",
       "      <td>schwarz</td>\n",
       "      <td>...</td>\n",
       "      <td>NaN</td>\n",
       "      <td>04/18/2013</td>\n",
       "      <td>Fußball</td>\n",
       "      <td>Performance</td>\n",
       "      <td>EVA</td>\n",
       "      <td>NaN</td>\n",
       "      <td>https://www.adidas.de/copa-mundial-fussballsch...</td>\n",
       "      <td>NaN</td>\n",
       "      <td>NaN</td>\n",
       "      <td>NaN</td>\n",
       "    </tr>\n",
       "    <tr>\n",
       "      <th>2</th>\n",
       "      <td>08/29/2018</td>\n",
       "      <td>adidas</td>\n",
       "      <td>EUR</td>\n",
       "      <td>de-DE</td>\n",
       "      <td>DEU</td>\n",
       "      <td>own eCom</td>\n",
       "      <td>adults</td>\n",
       "      <td>019000</td>\n",
       "      <td>Black/Footwear White</td>\n",
       "      <td>schwarz</td>\n",
       "      <td>...</td>\n",
       "      <td>NaN</td>\n",
       "      <td>04/18/2013</td>\n",
       "      <td>Freizeit</td>\n",
       "      <td>Performance</td>\n",
       "      <td>EVA</td>\n",
       "      <td>NaN</td>\n",
       "      <td>https://www.adidas.de/samba-leather-schuh/0190...</td>\n",
       "      <td>NaN</td>\n",
       "      <td>NaN</td>\n",
       "      <td>NaN</td>\n",
       "    </tr>\n",
       "    <tr>\n",
       "      <th>3</th>\n",
       "      <td>08/29/2018</td>\n",
       "      <td>adidas</td>\n",
       "      <td>EUR</td>\n",
       "      <td>de-DE</td>\n",
       "      <td>DEU</td>\n",
       "      <td>own eCom</td>\n",
       "      <td>adults</td>\n",
       "      <td>019099</td>\n",
       "      <td>Black/White</td>\n",
       "      <td>schwarz</td>\n",
       "      <td>...</td>\n",
       "      <td>NaN</td>\n",
       "      <td>01/28/2015</td>\n",
       "      <td>Freizeit</td>\n",
       "      <td>Sport inspired</td>\n",
       "      <td>EVA</td>\n",
       "      <td>NaN</td>\n",
       "      <td>https://www.adidas.de/samba-super-schuh/019099...</td>\n",
       "      <td>NaN</td>\n",
       "      <td>NaN</td>\n",
       "      <td>NaN</td>\n",
       "    </tr>\n",
       "    <tr>\n",
       "      <th>4</th>\n",
       "      <td>08/29/2018</td>\n",
       "      <td>adidas</td>\n",
       "      <td>EUR</td>\n",
       "      <td>de-DE</td>\n",
       "      <td>DEU</td>\n",
       "      <td>own eCom</td>\n",
       "      <td>adults</td>\n",
       "      <td>019228</td>\n",
       "      <td>Black/Footwear White/Red</td>\n",
       "      <td>schwarz</td>\n",
       "      <td>...</td>\n",
       "      <td>NaN</td>\n",
       "      <td>04/18/2013</td>\n",
       "      <td>Fußball</td>\n",
       "      <td>Performance</td>\n",
       "      <td>TRAXION|EVA</td>\n",
       "      <td>NaN</td>\n",
       "      <td>https://www.adidas.de/mundial-team-fussballsch...</td>\n",
       "      <td>NaN</td>\n",
       "      <td>NaN</td>\n",
       "      <td>NaN</td>\n",
       "    </tr>\n",
       "  </tbody>\n",
       "</table>\n",
       "<p>5 rows × 31 columns</p>\n",
       "</div>"
      ],
      "text/plain": [
       "         date    name currency language name2     name3 ageGroup articleId  \\\n",
       "0  08/29/2018  adidas      EUR    de-DE   DEU  own eCom   adults    011040   \n",
       "1  08/29/2018  adidas      EUR    de-DE   DEU  own eCom   adults    015110   \n",
       "2  08/29/2018  adidas      EUR    de-DE   DEU  own eCom   adults    019000   \n",
       "3  08/29/2018  adidas      EUR    de-DE   DEU  own eCom   adults    019099   \n",
       "4  08/29/2018  adidas      EUR    de-DE   DEU  own eCom   adults    019228   \n",
       "\n",
       "                       colors colorGroup  ...   ped         pid  \\\n",
       "0        Black/Footwear White    schwarz  ...   NaN  04/18/2013   \n",
       "1  Black/Footwear White/Black    schwarz  ...   NaN  04/18/2013   \n",
       "2        Black/Footwear White    schwarz  ...   NaN  04/18/2013   \n",
       "3                 Black/White    schwarz  ...   NaN  01/28/2015   \n",
       "4    Black/Footwear White/Red    schwarz  ...   NaN  04/18/2013   \n",
       "\n",
       "  sportsCategory        subBrand technologies type  \\\n",
       "0        Fußball     Performance          EVA  NaN   \n",
       "1        Fußball     Performance          EVA  NaN   \n",
       "2       Freizeit     Performance          EVA  NaN   \n",
       "3       Freizeit  Sport inspired          EVA  NaN   \n",
       "4        Fußball     Performance  TRAXION|EVA  NaN   \n",
       "\n",
       "                                                 url price  territories type5  \n",
       "0  https://www.adidas.de/world-cup-fussballschuh/...   NaN          NaN   NaN  \n",
       "1  https://www.adidas.de/copa-mundial-fussballsch...   NaN          NaN   NaN  \n",
       "2  https://www.adidas.de/samba-leather-schuh/0190...   NaN          NaN   NaN  \n",
       "3  https://www.adidas.de/samba-super-schuh/019099...   NaN          NaN   NaN  \n",
       "4  https://www.adidas.de/mundial-team-fussballsch...   NaN          NaN   NaN  \n",
       "\n",
       "[5 rows x 31 columns]"
      ]
     },
     "execution_count": 4,
     "metadata": {},
     "output_type": "execute_result"
    }
   ],
   "source": [
    "data_1 = pd.read_csv(\"Adidas GPMT/GPMT Project/15th Oct 35 CSV.csv\", encoding='latin-1')\n",
    "data_2 = pd.read_csv(\"Adidas GPMT/GPMT Project/15th Oct 37 CSV.csv\", encoding='latin-1')\n",
    "data_3 = pd.read_csv(\"Adidas GPMT/GPMT Project/15th Oct 38 CSV.csv\", encoding='latin-1')\n",
    "data_4 = pd.read_csv(\"Adidas GPMT/GPMT Project/15th Oct 39 CSV.csv\", encoding='latin-1')\n",
    "train = data_1.append(data_2, ignore_index=True)\n",
    "train = train.append(data_3, ignore_index=True)\n",
    "train = train.append(data_4, ignore_index=True)\n",
    "train.head()"
   ]
  },
  {
   "cell_type": "code",
   "execution_count": 102,
   "metadata": {},
   "outputs": [],
   "source": [
    "# train_1 = data_1.append(data_2, ignore_index=True)\n",
    "# train_1 = train_1.append(data_3, ignore_index=True)\n",
    "# train_1 = train_1.append(data_4, ignore_index=True)\n",
    "# train_1.to_csv(\"Data_combined.csv\")"
   ]
  },
  {
   "cell_type": "code",
   "execution_count": 5,
   "metadata": {},
   "outputs": [
    {
     "name": "stdout",
     "output_type": "stream",
     "text": [
      "<class 'pandas.core.frame.DataFrame'>\n",
      "RangeIndex: 440035 entries, 0 to 440034\n",
      "Data columns (total 31 columns):\n",
      "date               440035 non-null object\n",
      "name               440035 non-null object\n",
      "currency           440035 non-null object\n",
      "language           440035 non-null object\n",
      "name2              440035 non-null object\n",
      "name3              439667 non-null object\n",
      "ageGroup           429726 non-null object\n",
      "articleId          439667 non-null object\n",
      "colors             429990 non-null object\n",
      "colorGroup         402469 non-null object\n",
      "consumerRating     439667 non-null float64\n",
      "currentPrice       439667 non-null float64\n",
      "description        435002 non-null object\n",
      "discountedSince    162312 non-null object\n",
      "division           439667 non-null object\n",
      "gender             428672 non-null object\n",
      "group              363326 non-null object\n",
      "imageUrl           439631 non-null object\n",
      "initialPrice       439667 non-null float64\n",
      "modelNumber        439667 non-null object\n",
      "name4              439664 non-null object\n",
      "ped                23308 non-null object\n",
      "pid                439667 non-null object\n",
      "sportsCategory     351277 non-null object\n",
      "subBrand           346478 non-null object\n",
      "technologies       158390 non-null object\n",
      "type               165536 non-null object\n",
      "url                439667 non-null object\n",
      "price              344 non-null float64\n",
      "territories        344 non-null object\n",
      "type5              344 non-null object\n",
      "dtypes: float64(4), object(27)\n",
      "memory usage: 104.1+ MB\n"
     ]
    }
   ],
   "source": [
    "train.info()"
   ]
  },
  {
   "cell_type": "code",
   "execution_count": 6,
   "metadata": {},
   "outputs": [
    {
     "data": {
      "text/html": [
       "<div>\n",
       "<style scoped>\n",
       "    .dataframe tbody tr th:only-of-type {\n",
       "        vertical-align: middle;\n",
       "    }\n",
       "\n",
       "    .dataframe tbody tr th {\n",
       "        vertical-align: top;\n",
       "    }\n",
       "\n",
       "    .dataframe thead th {\n",
       "        text-align: right;\n",
       "    }\n",
       "</style>\n",
       "<table border=\"1\" class=\"dataframe\">\n",
       "  <thead>\n",
       "    <tr style=\"text-align: right;\">\n",
       "      <th></th>\n",
       "      <th>date</th>\n",
       "      <th>name</th>\n",
       "      <th>currency</th>\n",
       "      <th>language</th>\n",
       "      <th>name2</th>\n",
       "      <th>name3</th>\n",
       "      <th>ageGroup</th>\n",
       "      <th>articleId</th>\n",
       "      <th>colors</th>\n",
       "      <th>colorGroup</th>\n",
       "      <th>...</th>\n",
       "      <th>ped</th>\n",
       "      <th>pid</th>\n",
       "      <th>sportsCategory</th>\n",
       "      <th>subBrand</th>\n",
       "      <th>technologies</th>\n",
       "      <th>type</th>\n",
       "      <th>url</th>\n",
       "      <th>price</th>\n",
       "      <th>territories</th>\n",
       "      <th>type5</th>\n",
       "    </tr>\n",
       "  </thead>\n",
       "  <tbody>\n",
       "    <tr>\n",
       "      <th>count</th>\n",
       "      <td>440035</td>\n",
       "      <td>440035</td>\n",
       "      <td>440035</td>\n",
       "      <td>440035</td>\n",
       "      <td>440035</td>\n",
       "      <td>439667</td>\n",
       "      <td>429726</td>\n",
       "      <td>439667</td>\n",
       "      <td>429990</td>\n",
       "      <td>402469</td>\n",
       "      <td>...</td>\n",
       "      <td>23308</td>\n",
       "      <td>439667</td>\n",
       "      <td>351277</td>\n",
       "      <td>346478</td>\n",
       "      <td>158390</td>\n",
       "      <td>165536</td>\n",
       "      <td>439667</td>\n",
       "      <td>344.000000</td>\n",
       "      <td>344</td>\n",
       "      <td>344</td>\n",
       "    </tr>\n",
       "    <tr>\n",
       "      <th>unique</th>\n",
       "      <td>4</td>\n",
       "      <td>9</td>\n",
       "      <td>3</td>\n",
       "      <td>3</td>\n",
       "      <td>3</td>\n",
       "      <td>1</td>\n",
       "      <td>31</td>\n",
       "      <td>80128</td>\n",
       "      <td>28826</td>\n",
       "      <td>206</td>\n",
       "      <td>...</td>\n",
       "      <td>6</td>\n",
       "      <td>484</td>\n",
       "      <td>111</td>\n",
       "      <td>18</td>\n",
       "      <td>1922</td>\n",
       "      <td>509</td>\n",
       "      <td>143793</td>\n",
       "      <td>NaN</td>\n",
       "      <td>5</td>\n",
       "      <td>64</td>\n",
       "    </tr>\n",
       "    <tr>\n",
       "      <th>top</th>\n",
       "      <td>08/29/2018</td>\n",
       "      <td>Nike</td>\n",
       "      <td>USD</td>\n",
       "      <td>en-US</td>\n",
       "      <td>USA</td>\n",
       "      <td>own eCom</td>\n",
       "      <td>adults</td>\n",
       "      <td>DJ1691</td>\n",
       "      <td>Black</td>\n",
       "      <td>Black</td>\n",
       "      <td>...</td>\n",
       "      <td>08/20/2018</td>\n",
       "      <td>08/06/2018</td>\n",
       "      <td>Lifestyle</td>\n",
       "      <td>Performance</td>\n",
       "      <td>Dri-FIT</td>\n",
       "      <td>Shorts</td>\n",
       "      <td>https://us.puma.com/en/us/pd/classics-logo-wom...</td>\n",
       "      <td>NaN</td>\n",
       "      <td>USA</td>\n",
       "      <td>Express</td>\n",
       "    </tr>\n",
       "    <tr>\n",
       "      <th>freq</th>\n",
       "      <td>114807</td>\n",
       "      <td>120211</td>\n",
       "      <td>181467</td>\n",
       "      <td>181467</td>\n",
       "      <td>181467</td>\n",
       "      <td>439667</td>\n",
       "      <td>356959</td>\n",
       "      <td>12</td>\n",
       "      <td>36686</td>\n",
       "      <td>85705</td>\n",
       "      <td>...</td>\n",
       "      <td>5620</td>\n",
       "      <td>28067</td>\n",
       "      <td>51612</td>\n",
       "      <td>248038</td>\n",
       "      <td>19491</td>\n",
       "      <td>6454</td>\n",
       "      <td>7</td>\n",
       "      <td>NaN</td>\n",
       "      <td>160</td>\n",
       "      <td>24</td>\n",
       "    </tr>\n",
       "    <tr>\n",
       "      <th>mean</th>\n",
       "      <td>NaN</td>\n",
       "      <td>NaN</td>\n",
       "      <td>NaN</td>\n",
       "      <td>NaN</td>\n",
       "      <td>NaN</td>\n",
       "      <td>NaN</td>\n",
       "      <td>NaN</td>\n",
       "      <td>NaN</td>\n",
       "      <td>NaN</td>\n",
       "      <td>NaN</td>\n",
       "      <td>...</td>\n",
       "      <td>NaN</td>\n",
       "      <td>NaN</td>\n",
       "      <td>NaN</td>\n",
       "      <td>NaN</td>\n",
       "      <td>NaN</td>\n",
       "      <td>NaN</td>\n",
       "      <td>NaN</td>\n",
       "      <td>12.579419</td>\n",
       "      <td>NaN</td>\n",
       "      <td>NaN</td>\n",
       "    </tr>\n",
       "    <tr>\n",
       "      <th>std</th>\n",
       "      <td>NaN</td>\n",
       "      <td>NaN</td>\n",
       "      <td>NaN</td>\n",
       "      <td>NaN</td>\n",
       "      <td>NaN</td>\n",
       "      <td>NaN</td>\n",
       "      <td>NaN</td>\n",
       "      <td>NaN</td>\n",
       "      <td>NaN</td>\n",
       "      <td>NaN</td>\n",
       "      <td>...</td>\n",
       "      <td>NaN</td>\n",
       "      <td>NaN</td>\n",
       "      <td>NaN</td>\n",
       "      <td>NaN</td>\n",
       "      <td>NaN</td>\n",
       "      <td>NaN</td>\n",
       "      <td>NaN</td>\n",
       "      <td>11.219386</td>\n",
       "      <td>NaN</td>\n",
       "      <td>NaN</td>\n",
       "    </tr>\n",
       "    <tr>\n",
       "      <th>min</th>\n",
       "      <td>NaN</td>\n",
       "      <td>NaN</td>\n",
       "      <td>NaN</td>\n",
       "      <td>NaN</td>\n",
       "      <td>NaN</td>\n",
       "      <td>NaN</td>\n",
       "      <td>NaN</td>\n",
       "      <td>NaN</td>\n",
       "      <td>NaN</td>\n",
       "      <td>NaN</td>\n",
       "      <td>...</td>\n",
       "      <td>NaN</td>\n",
       "      <td>NaN</td>\n",
       "      <td>NaN</td>\n",
       "      <td>NaN</td>\n",
       "      <td>NaN</td>\n",
       "      <td>NaN</td>\n",
       "      <td>NaN</td>\n",
       "      <td>0.000000</td>\n",
       "      <td>NaN</td>\n",
       "      <td>NaN</td>\n",
       "    </tr>\n",
       "    <tr>\n",
       "      <th>25%</th>\n",
       "      <td>NaN</td>\n",
       "      <td>NaN</td>\n",
       "      <td>NaN</td>\n",
       "      <td>NaN</td>\n",
       "      <td>NaN</td>\n",
       "      <td>NaN</td>\n",
       "      <td>NaN</td>\n",
       "      <td>NaN</td>\n",
       "      <td>NaN</td>\n",
       "      <td>NaN</td>\n",
       "      <td>...</td>\n",
       "      <td>NaN</td>\n",
       "      <td>NaN</td>\n",
       "      <td>NaN</td>\n",
       "      <td>NaN</td>\n",
       "      <td>NaN</td>\n",
       "      <td>NaN</td>\n",
       "      <td>NaN</td>\n",
       "      <td>3.500000</td>\n",
       "      <td>NaN</td>\n",
       "      <td>NaN</td>\n",
       "    </tr>\n",
       "    <tr>\n",
       "      <th>50%</th>\n",
       "      <td>NaN</td>\n",
       "      <td>NaN</td>\n",
       "      <td>NaN</td>\n",
       "      <td>NaN</td>\n",
       "      <td>NaN</td>\n",
       "      <td>NaN</td>\n",
       "      <td>NaN</td>\n",
       "      <td>NaN</td>\n",
       "      <td>NaN</td>\n",
       "      <td>NaN</td>\n",
       "      <td>...</td>\n",
       "      <td>NaN</td>\n",
       "      <td>NaN</td>\n",
       "      <td>NaN</td>\n",
       "      <td>NaN</td>\n",
       "      <td>NaN</td>\n",
       "      <td>NaN</td>\n",
       "      <td>NaN</td>\n",
       "      <td>9.900000</td>\n",
       "      <td>NaN</td>\n",
       "      <td>NaN</td>\n",
       "    </tr>\n",
       "    <tr>\n",
       "      <th>75%</th>\n",
       "      <td>NaN</td>\n",
       "      <td>NaN</td>\n",
       "      <td>NaN</td>\n",
       "      <td>NaN</td>\n",
       "      <td>NaN</td>\n",
       "      <td>NaN</td>\n",
       "      <td>NaN</td>\n",
       "      <td>NaN</td>\n",
       "      <td>NaN</td>\n",
       "      <td>NaN</td>\n",
       "      <td>...</td>\n",
       "      <td>NaN</td>\n",
       "      <td>NaN</td>\n",
       "      <td>NaN</td>\n",
       "      <td>NaN</td>\n",
       "      <td>NaN</td>\n",
       "      <td>NaN</td>\n",
       "      <td>NaN</td>\n",
       "      <td>21.950000</td>\n",
       "      <td>NaN</td>\n",
       "      <td>NaN</td>\n",
       "    </tr>\n",
       "    <tr>\n",
       "      <th>max</th>\n",
       "      <td>NaN</td>\n",
       "      <td>NaN</td>\n",
       "      <td>NaN</td>\n",
       "      <td>NaN</td>\n",
       "      <td>NaN</td>\n",
       "      <td>NaN</td>\n",
       "      <td>NaN</td>\n",
       "      <td>NaN</td>\n",
       "      <td>NaN</td>\n",
       "      <td>NaN</td>\n",
       "      <td>...</td>\n",
       "      <td>NaN</td>\n",
       "      <td>NaN</td>\n",
       "      <td>NaN</td>\n",
       "      <td>NaN</td>\n",
       "      <td>NaN</td>\n",
       "      <td>NaN</td>\n",
       "      <td>NaN</td>\n",
       "      <td>37.950000</td>\n",
       "      <td>NaN</td>\n",
       "      <td>NaN</td>\n",
       "    </tr>\n",
       "  </tbody>\n",
       "</table>\n",
       "<p>11 rows × 31 columns</p>\n",
       "</div>"
      ],
      "text/plain": [
       "              date    name currency language   name2     name3 ageGroup  \\\n",
       "count       440035  440035   440035   440035  440035    439667   429726   \n",
       "unique           4       9        3        3       3         1       31   \n",
       "top     08/29/2018    Nike      USD    en-US     USA  own eCom   adults   \n",
       "freq        114807  120211   181467   181467  181467    439667   356959   \n",
       "mean           NaN     NaN      NaN      NaN     NaN       NaN      NaN   \n",
       "std            NaN     NaN      NaN      NaN     NaN       NaN      NaN   \n",
       "min            NaN     NaN      NaN      NaN     NaN       NaN      NaN   \n",
       "25%            NaN     NaN      NaN      NaN     NaN       NaN      NaN   \n",
       "50%            NaN     NaN      NaN      NaN     NaN       NaN      NaN   \n",
       "75%            NaN     NaN      NaN      NaN     NaN       NaN      NaN   \n",
       "max            NaN     NaN      NaN      NaN     NaN       NaN      NaN   \n",
       "\n",
       "       articleId  colors colorGroup   ...            ped         pid  \\\n",
       "count     439667  429990     402469   ...          23308      439667   \n",
       "unique     80128   28826        206   ...              6         484   \n",
       "top       DJ1691   Black      Black   ...     08/20/2018  08/06/2018   \n",
       "freq          12   36686      85705   ...           5620       28067   \n",
       "mean         NaN     NaN        NaN   ...            NaN         NaN   \n",
       "std          NaN     NaN        NaN   ...            NaN         NaN   \n",
       "min          NaN     NaN        NaN   ...            NaN         NaN   \n",
       "25%          NaN     NaN        NaN   ...            NaN         NaN   \n",
       "50%          NaN     NaN        NaN   ...            NaN         NaN   \n",
       "75%          NaN     NaN        NaN   ...            NaN         NaN   \n",
       "max          NaN     NaN        NaN   ...            NaN         NaN   \n",
       "\n",
       "       sportsCategory     subBrand technologies    type  \\\n",
       "count          351277       346478       158390  165536   \n",
       "unique            111           18         1922     509   \n",
       "top         Lifestyle  Performance      Dri-FIT  Shorts   \n",
       "freq            51612       248038        19491    6454   \n",
       "mean              NaN          NaN          NaN     NaN   \n",
       "std               NaN          NaN          NaN     NaN   \n",
       "min               NaN          NaN          NaN     NaN   \n",
       "25%               NaN          NaN          NaN     NaN   \n",
       "50%               NaN          NaN          NaN     NaN   \n",
       "75%               NaN          NaN          NaN     NaN   \n",
       "max               NaN          NaN          NaN     NaN   \n",
       "\n",
       "                                                      url       price  \\\n",
       "count                                              439667  344.000000   \n",
       "unique                                             143793         NaN   \n",
       "top     https://us.puma.com/en/us/pd/classics-logo-wom...         NaN   \n",
       "freq                                                    7         NaN   \n",
       "mean                                                  NaN   12.579419   \n",
       "std                                                   NaN   11.219386   \n",
       "min                                                   NaN    0.000000   \n",
       "25%                                                   NaN    3.500000   \n",
       "50%                                                   NaN    9.900000   \n",
       "75%                                                   NaN   21.950000   \n",
       "max                                                   NaN   37.950000   \n",
       "\n",
       "        territories    type5  \n",
       "count           344      344  \n",
       "unique            5       64  \n",
       "top             USA  Express  \n",
       "freq            160       24  \n",
       "mean            NaN      NaN  \n",
       "std             NaN      NaN  \n",
       "min             NaN      NaN  \n",
       "25%             NaN      NaN  \n",
       "50%             NaN      NaN  \n",
       "75%             NaN      NaN  \n",
       "max             NaN      NaN  \n",
       "\n",
       "[11 rows x 31 columns]"
      ]
     },
     "execution_count": 6,
     "metadata": {},
     "output_type": "execute_result"
    }
   ],
   "source": [
    "#train = train.loc[:, ~train.columns.str.contains('^Unnamed')]\n",
    "train.describe(include=\"all\")"
   ]
  },
  {
   "cell_type": "code",
   "execution_count": 7,
   "metadata": {},
   "outputs": [
    {
     "name": "stdout",
     "output_type": "stream",
     "text": [
      "Count Of Unique article ID : 80129\n"
     ]
    }
   ],
   "source": [
    "print(f'Count Of Unique article ID : {len(train.articleId.unique())}')"
   ]
  },
  {
   "cell_type": "code",
   "execution_count": 8,
   "metadata": {},
   "outputs": [
    {
     "name": "stdout",
     "output_type": "stream",
     "text": [
      "TotalRows: 440035\n"
     ]
    }
   ],
   "source": [
    "print(f'TotalRows: {len(train)}')"
   ]
  },
  {
   "cell_type": "code",
   "execution_count": 9,
   "metadata": {},
   "outputs": [
    {
     "data": {
      "text/plain": [
       "date                    0\n",
       "name                    0\n",
       "currency                0\n",
       "language                0\n",
       "name2                   0\n",
       "name3                 368\n",
       "ageGroup            10309\n",
       "articleId             368\n",
       "colors              10045\n",
       "colorGroup          37566\n",
       "consumerRating        368\n",
       "currentPrice          368\n",
       "description          5033\n",
       "discountedSince    277723\n",
       "division              368\n",
       "gender              11363\n",
       "group               76709\n",
       "imageUrl              404\n",
       "initialPrice          368\n",
       "modelNumber           368\n",
       "name4                 371\n",
       "ped                416727\n",
       "pid                   368\n",
       "sportsCategory      88758\n",
       "subBrand            93557\n",
       "technologies       281645\n",
       "type               274499\n",
       "url                   368\n",
       "price              439691\n",
       "territories        439691\n",
       "type5              439691\n",
       "dtype: int64"
      ]
     },
     "execution_count": 9,
     "metadata": {},
     "output_type": "execute_result"
    }
   ],
   "source": [
    "train.isnull().sum()"
   ]
  },
  {
   "cell_type": "code",
   "execution_count": 10,
   "metadata": {},
   "outputs": [
    {
     "name": "stdout",
     "output_type": "stream",
     "text": [
      "Total Rows & Columns : (440035, 31)\n"
     ]
    }
   ],
   "source": [
    "print(f'Total Rows & Columns : {train.shape}')"
   ]
  },
  {
   "cell_type": "code",
   "execution_count": 11,
   "metadata": {},
   "outputs": [
    {
     "data": {
      "text/plain": [
       "<BarContainer object of 31 artists>"
      ]
     },
     "execution_count": 11,
     "metadata": {},
     "output_type": "execute_result"
    },
    {
     "data": {
      "image/png": "[encoded data removed]",
      "text/plain": [
       "<Figure size 1152x576 with 1 Axes>"
      ]
     },
     "metadata": {},
     "output_type": "display_data"
    }
   ],
   "source": [
    "null_counts = train.isnull().sum()/len(train)\n",
    "plt.figure(figsize=(16,8))\n",
    "plt.xticks(np.arange(len(null_counts))+0.5,null_counts.index,rotation='vertical')\n",
    "plt.ylabel('fraction of rows with missing data')\n",
    "plt.bar(np.arange(len(null_counts)),null_counts)"
   ]
  },
  {
   "cell_type": "code",
   "execution_count": 12,
   "metadata": {},
   "outputs": [
    {
     "data": {
      "text/plain": [
       "Text(0.5,0,'prop. of missing values')"
      ]
     },
     "execution_count": 12,
     "metadata": {},
     "output_type": "execute_result"
    },
    {
     "data": {
      "image/png": "[encoded data removed]",
      "text/plain": [
       "<Figure size 1152x576 with 1 Axes>"
      ]
     },
     "metadata": {},
     "output_type": "display_data"
    }
   ],
   "source": [
    "column_nans = train.isna().mean()\n",
    "plt.figure(figsize=(16,8))\n",
    "plt.hist(column_nans, bins = np.arange(0,1+.05,.05))\n",
    "plt.ylabel('# of features')\n",
    "plt.xlabel('prop. of missing values')"
   ]
  },
  {
   "cell_type": "code",
   "execution_count": 13,
   "metadata": {},
   "outputs": [
    {
     "name": "stdout",
     "output_type": "stream",
     "text": [
      "date               0.000000\n",
      "name               0.000000\n",
      "currency           0.000000\n",
      "language           0.000000\n",
      "name2              0.000000\n",
      "modelNumber        0.000836\n",
      "division           0.000836\n",
      "pid                0.000836\n",
      "currentPrice       0.000836\n",
      "consumerRating     0.000836\n",
      "url                0.000836\n",
      "articleId          0.000836\n",
      "name3              0.000836\n",
      "initialPrice       0.000836\n",
      "name4              0.000843\n",
      "imageUrl           0.000918\n",
      "description        0.011438\n",
      "colors             0.022828\n",
      "ageGroup           0.023428\n",
      "gender             0.025823\n",
      "colorGroup         0.085370\n",
      "group              0.174325\n",
      "sportsCategory     0.201707\n",
      "subBrand           0.212613\n",
      "type               0.623812\n",
      "discountedSince    0.631138\n",
      "technologies       0.640051\n",
      "ped                0.947031\n",
      "territories        0.999218\n",
      "price              0.999218\n",
      "type5              0.999218\n",
      "dtype: float64\n"
     ]
    }
   ],
   "source": [
    "print(column_nans.sort_values())"
   ]
  },
  {
   "cell_type": "code",
   "execution_count": 14,
   "metadata": {},
   "outputs": [],
   "source": [
    "train = train.drop(\"description\", axis=1)\n",
    "train = train.drop(\"colors\", axis=1)\n",
    "train = train.drop(\"discountedSince\", axis=1)\n",
    "train = train.drop(\"technologies\", axis=1)\n",
    "train = train.drop(\"imageUrl\", axis=1)\n",
    "train = train.drop(\"ped\", axis=1)\n",
    "train = train.drop(\"url\", axis=1)"
   ]
  },
  {
   "cell_type": "code",
   "execution_count": 19,
   "metadata": {},
   "outputs": [
    {
     "data": {
      "text/plain": [
       "Text(0.5,0,'# of missing values')"
      ]
     },
     "execution_count": 19,
     "metadata": {},
     "output_type": "execute_result"
    },
    {
     "data": {
      "image/png": "[encoded data removed]",
      "text/plain": [
       "<Figure size 432x288 with 1 Axes>"
      ]
     },
     "metadata": {},
     "output_type": "display_data"
    }
   ],
   "source": [
    "# How much data is missing in each row of the dataset?\n",
    "\n",
    "row_nans = train.isna().sum(axis=1)\n",
    "\n",
    "plt.hist(row_nans, bins = np.arange(-0.5,row_nans.max()+1,1))\n",
    "#plt.yticks(np.arange(0,60000+10000,10000),['0','10k','20k','30k','40k','50k','60k'])\n",
    "plt.ylabel('# of data points')\n",
    "plt.xlabel('# of missing values')"
   ]
  },
  {
   "cell_type": "code",
   "execution_count": 20,
   "metadata": {},
   "outputs": [
    {
     "data": {
      "text/html": [
       "<div>\n",
       "<style scoped>\n",
       "    .dataframe tbody tr th:only-of-type {\n",
       "        vertical-align: middle;\n",
       "    }\n",
       "\n",
       "    .dataframe tbody tr th {\n",
       "        vertical-align: top;\n",
       "    }\n",
       "\n",
       "    .dataframe thead th {\n",
       "        text-align: right;\n",
       "    }\n",
       "</style>\n",
       "<table border=\"1\" class=\"dataframe\">\n",
       "  <thead>\n",
       "    <tr style=\"text-align: right;\">\n",
       "      <th></th>\n",
       "      <th>freq</th>\n",
       "      <th>cumfreq</th>\n",
       "      <th>cumprop</th>\n",
       "    </tr>\n",
       "  </thead>\n",
       "  <tbody>\n",
       "    <tr>\n",
       "      <th>3</th>\n",
       "      <td>125590</td>\n",
       "      <td>125590</td>\n",
       "      <td>0.285409</td>\n",
       "    </tr>\n",
       "    <tr>\n",
       "      <th>4</th>\n",
       "      <td>175003</td>\n",
       "      <td>300593</td>\n",
       "      <td>0.683112</td>\n",
       "    </tr>\n",
       "    <tr>\n",
       "      <th>5</th>\n",
       "      <td>63772</td>\n",
       "      <td>364365</td>\n",
       "      <td>0.828036</td>\n",
       "    </tr>\n",
       "    <tr>\n",
       "      <th>6</th>\n",
       "      <td>37749</td>\n",
       "      <td>402114</td>\n",
       "      <td>0.913823</td>\n",
       "    </tr>\n",
       "    <tr>\n",
       "      <th>7</th>\n",
       "      <td>23791</td>\n",
       "      <td>425905</td>\n",
       "      <td>0.967889</td>\n",
       "    </tr>\n",
       "    <tr>\n",
       "      <th>8</th>\n",
       "      <td>5133</td>\n",
       "      <td>431038</td>\n",
       "      <td>0.979554</td>\n",
       "    </tr>\n",
       "    <tr>\n",
       "      <th>9</th>\n",
       "      <td>6838</td>\n",
       "      <td>437876</td>\n",
       "      <td>0.995094</td>\n",
       "    </tr>\n",
       "    <tr>\n",
       "      <th>10</th>\n",
       "      <td>1791</td>\n",
       "      <td>439667</td>\n",
       "      <td>0.999164</td>\n",
       "    </tr>\n",
       "    <tr>\n",
       "      <th>16</th>\n",
       "      <td>344</td>\n",
       "      <td>440011</td>\n",
       "      <td>0.999945</td>\n",
       "    </tr>\n",
       "    <tr>\n",
       "      <th>19</th>\n",
       "      <td>24</td>\n",
       "      <td>440035</td>\n",
       "      <td>1.000000</td>\n",
       "    </tr>\n",
       "  </tbody>\n",
       "</table>\n",
       "</div>"
      ],
      "text/plain": [
       "      freq  cumfreq   cumprop\n",
       "3   125590   125590  0.285409\n",
       "4   175003   300593  0.683112\n",
       "5    63772   364365  0.828036\n",
       "6    37749   402114  0.913823\n",
       "7    23791   425905  0.967889\n",
       "8     5133   431038  0.979554\n",
       "9     6838   437876  0.995094\n",
       "10    1791   439667  0.999164\n",
       "16     344   440011  0.999945\n",
       "19      24   440035  1.000000"
      ]
     },
     "execution_count": 20,
     "metadata": {},
     "output_type": "execute_result"
    }
   ],
   "source": [
    "pd.DataFrame({'freq'   : row_nans.value_counts().sort_index(),\n",
    "              'cumfreq': row_nans.value_counts().sort_index().cumsum(),\n",
    "              'cumprop': row_nans.value_counts().sort_index().cumsum() / train.shape[0]})"
   ]
  },
  {
   "cell_type": "code",
   "execution_count": 22,
   "metadata": {},
   "outputs": [
    {
     "name": "stdout",
     "output_type": "stream",
     "text": [
      "Brands: ['adidas' 'Nike' 'Puma' 'Reebok' 'Under Armour' 'Lululemon' 'Asics'\n",
      " 'Hurley' 'Jordan']\n",
      "Total: 9\n"
     ]
    }
   ],
   "source": [
    "# Number of company names\n",
    "print(f'Brands: {train.name.unique()}')\n",
    "print(f'Total: {len(train.name.unique())}')"
   ]
  },
  {
   "cell_type": "code",
   "execution_count": 23,
   "metadata": {},
   "outputs": [
    {
     "name": "stdout",
     "output_type": "stream",
     "text": [
      "Sub-Brands : ['Performance' 'Sport inspired' 'adidas by Stella McCartney' 'Essentials'\n",
      " nan 'Porsche Design Sport by adidas' 'Sport Inspired' 'sport inspired'\n",
      " 'Sport' 'performance' 'adidas by stella mccartney'\n",
      " 'porsche design sport by adidas' 'essentials' 'adidas neo' 'Sportswear'\n",
      " 'Jordan' 'Collections' 'UAS' 'Hurley']\n",
      "Total : 19\n"
     ]
    }
   ],
   "source": [
    "# Number of sub brands\n",
    "print(f'Sub-Brands : {train.subBrand.unique()}')\n",
    "print(f'Total : {len(train.subBrand.unique())}')"
   ]
  },
  {
   "cell_type": "code",
   "execution_count": 24,
   "metadata": {},
   "outputs": [
    {
     "name": "stdout",
     "output_type": "stream",
     "text": [
      "Division : ['Shoes' 'Accessories' 'Clothing' nan]\n",
      "Total : 4\n"
     ]
    }
   ],
   "source": [
    "print(f'Division : {train.division .unique()}')\n",
    "print(f'Total : {len(train.division .unique())}')"
   ]
  },
  {
   "cell_type": "code",
   "execution_count": 25,
   "metadata": {},
   "outputs": [
    {
     "name": "stdout",
     "output_type": "stream",
     "text": [
      "Total Article ID : 80129\n"
     ]
    }
   ],
   "source": [
    "#print(f'Article : {train.division .unique()}')\n",
    "print(f'Total Article ID : {len(train.articleId .unique())}')"
   ]
  },
  {
   "cell_type": "code",
   "execution_count": 26,
   "metadata": {},
   "outputs": [
    {
     "name": "stdout",
     "output_type": "stream",
     "text": [
      "Gender : ['unisex' 'male' nan 'female']\n",
      "Total : 4\n",
      "Counts : male      210487\n",
      "female    148408\n",
      "unisex     69777\n",
      "Name: gender, dtype: int64\n"
     ]
    }
   ],
   "source": [
    "train.gender = train.gender.str.lower()\n",
    "\n",
    "print(f'Gender : {train.gender.unique()}')\n",
    "print(f'Total : {len(train.gender.unique())}')\n",
    "print(f'Counts : {(train.gender.value_counts())}')"
   ]
  },
  {
   "cell_type": "code",
   "execution_count": 28,
   "metadata": {},
   "outputs": [
    {
     "name": "stdout",
     "output_type": "stream",
     "text": [
      "Total product names : 64784\n"
     ]
    }
   ],
   "source": [
    "print(f'Total product names : {len(train.name4.unique())}')"
   ]
  },
  {
   "cell_type": "code",
   "execution_count": 29,
   "metadata": {},
   "outputs": [
    {
     "name": "stdout",
     "output_type": "stream",
     "text": [
      "Sports Category : ['Fußball' 'Freizeit' 'Schwimmen' 'Basketball' 'Training' 'Outdoor'\n",
      " 'Rugby' 'Gewichtheben' 'Running' 'Handball' 'Golf' nan 'Tennis'\n",
      " 'Skateboarden' 'Feldhockey' 'Volleyball' 'Radfahren' 'Boxen' 'Hockey'\n",
      " 'Yoga' 'Soccer' 'Swim' 'Lifestyle' 'Football' 'Baseball' 'Lacrosse'\n",
      " 'Skateboarding' 'Boxing' 'Weightlifting' 'football' 'lifestyle'\n",
      " 'swimming' 'basketball' 'training' 'outdoor' 'weightlifting' 'running'\n",
      " 'handball' 'rugby' 'golf' 'tennis' 'field hockey' 'boxing' 'volleyball'\n",
      " 'Cycling' 'skateboarding' 'yoga' 'track & field' 'Tanzen'\n",
      " 'Leichtathletik' 'Fitness & Training' 'American Football' 'Laufen'\n",
      " 'Wandern' 'Baseball & Softball' 'not applicable' 'Eishockey' 'Spinning'\n",
      " 'Baseball / Softball' 'Training & Gym' 'Track & Field' 'Snowboarding'\n",
      " 'Cheerleading' 'Walking' 'Surf & Swimming' 'Athletics' 'Gym & Training'\n",
      " 'Dance' 'Ice Hockey' 'Fussball' 'Driving' 'Motorsport' 'Bekleidung'\n",
      " 'Footwear' 'Combat' 'Studio' 'CrossFit' 'Retro Running' 'Court' 'Fitness'\n",
      " 'Casual' 'MMA' 'UFC' 'Swimming' 'Sideline' 'Yoga & Studio'\n",
      " 'Ski & Snowboard' 'Surf' 'Softball' 'Hiking & Trail' 'Gymnastics' 'run'\n",
      " 'to + from' 'swim' 'To + From' 'gym' 'cycling' 'Trail Running' 'Padel'\n",
      " 'Ringen' 'Squash Und Badminton' 'Netball' 'Wrestling' 'Track-and-field'\n",
      " 'Cheer' 'Squash & Badminton' 'Surfen & Schwimmen' 'Surfen' 'Surfing'\n",
      " 'Sportstyle' 'Gym' 'Field Hockey']\n",
      "Total : 112\n"
     ]
    }
   ],
   "source": [
    "print(f'Sports Category : {train.sportsCategory.unique()}')\n",
    "print(f'Total : {len(train.sportsCategory.unique())}')"
   ]
  },
  {
   "cell_type": "code",
   "execution_count": 30,
   "metadata": {},
   "outputs": [
    {
     "name": "stdout",
     "output_type": "stream",
     "text": [
      "Total : 510\n"
     ]
    }
   ],
   "source": [
    "#print(f'Types : {train.type.unique()}')\n",
    "print(f'Total : {len(train.type.unique())}')"
   ]
  },
  {
   "cell_type": "code",
   "execution_count": 31,
   "metadata": {},
   "outputs": [
    {
     "name": "stdout",
     "output_type": "stream",
     "text": [
      "Total Groups: 348\n"
     ]
    }
   ],
   "source": [
    "#print(f'Groups : {train.group.unique()}')\n",
    "print(f'Total Groups: {len(train.group.unique())}')"
   ]
  },
  {
   "cell_type": "code",
   "execution_count": 32,
   "metadata": {},
   "outputs": [
    {
     "name": "stdout",
     "output_type": "stream",
     "text": [
      "Age Groups : ['adults' nan 'Youth' 'Babys/Infants' 'Little Kids' 'Kids' 'Children'\n",
      " 'Kinder' 'Chica' 'Kids [3-8 yrs]' 'Jungen' 'Mädchen' 'Boys Youth' 'Boys'\n",
      " 'Girls' 'Infant' 'Girls Youth' 'Boys Toddler (2T - 4T)'\n",
      " 'Boys Kids (4 - 7)' \"Boy's\" \"Girl's\" 'Infant Boys (0-24M)' \"Boys'\"\n",
      " 'Infant Girls (0-24M)' \"Kids'\" 'girls' 'Highlights' 'boys' 'boy' \"Girls'\"\n",
      " 'babies 0-1 years' 'toddlers 1-4 years']\n",
      "Total : 32\n"
     ]
    }
   ],
   "source": [
    "print(f'Age Groups : {train.ageGroup.unique()}')\n",
    "print(f'Total : {len(train.ageGroup.unique())}')"
   ]
  },
  {
   "cell_type": "code",
   "execution_count": 33,
   "metadata": {},
   "outputs": [
    {
     "name": "stdout",
     "output_type": "stream",
     "text": [
      "Sub Brand : ['Performance' 'Sport inspired' 'adidas by Stella McCartney' 'Essentials'\n",
      " nan 'Porsche Design Sport by adidas' 'Sport Inspired' 'sport inspired'\n",
      " 'Sport' 'performance' 'adidas by stella mccartney'\n",
      " 'porsche design sport by adidas' 'essentials' 'adidas neo' 'Sportswear'\n",
      " 'Jordan' 'Collections' 'UAS' 'Hurley']\n",
      "Total : 19\n"
     ]
    }
   ],
   "source": [
    "print(f'Sub Brand : {train.subBrand.unique()}')\n",
    "print(f'Total : {len(train.subBrand.unique())}')"
   ]
  },
  {
   "cell_type": "code",
   "execution_count": 36,
   "metadata": {},
   "outputs": [
    {
     "name": "stderr",
     "output_type": "stream",
     "text": [
      "C:\\Users\\narendran.thesma\\AppData\\Local\\Continuum\\anaconda3\\lib\\site-packages\\matplotlib\\axes\\_axes.py:6462: UserWarning: The 'normed' kwarg is deprecated, and has been replaced by the 'density' kwarg.\n",
      "  warnings.warn(\"The 'normed' kwarg is deprecated, and has been \"\n"
     ]
    },
    {
     "data": {
      "text/plain": [
       "<matplotlib.axes._subplots.AxesSubplot at 0x2a48060c0f0>"
      ]
     },
     "execution_count": 36,
     "metadata": {},
     "output_type": "execute_result"
    },
    {
     "data": {
      "image/png": "[encoded data removed]",
      "text/plain": [
       "<Figure size 432x288 with 1 Axes>"
      ]
     },
     "metadata": {},
     "output_type": "display_data"
    }
   ],
   "source": [
    "sns.distplot(train.initialPrice.dropna())"
   ]
  },
  {
   "cell_type": "code",
   "execution_count": 38,
   "metadata": {},
   "outputs": [
    {
     "name": "stderr",
     "output_type": "stream",
     "text": [
      "C:\\Users\\narendran.thesma\\AppData\\Local\\Continuum\\anaconda3\\lib\\site-packages\\matplotlib\\axes\\_axes.py:6462: UserWarning: The 'normed' kwarg is deprecated, and has been replaced by the 'density' kwarg.\n",
      "  warnings.warn(\"The 'normed' kwarg is deprecated, and has been \"\n"
     ]
    },
    {
     "data": {
      "text/plain": [
       "<matplotlib.axes._subplots.AxesSubplot at 0x2a480779d30>"
      ]
     },
     "execution_count": 38,
     "metadata": {},
     "output_type": "execute_result"
    },
    {
     "data": {
      "image/png": "[encoded data removed]",
      "text/plain": [
       "<Figure size 432x288 with 1 Axes>"
      ]
     },
     "metadata": {},
     "output_type": "display_data"
    }
   ],
   "source": [
    "sns.distplot(train.currentPrice.dropna())"
   ]
  },
  {
   "cell_type": "code",
   "execution_count": 39,
   "metadata": {},
   "outputs": [
    {
     "name": "stderr",
     "output_type": "stream",
     "text": [
      "C:\\Users\\narendran.thesma\\AppData\\Local\\Continuum\\anaconda3\\lib\\site-packages\\matplotlib\\axes\\_axes.py:6462: UserWarning: The 'normed' kwarg is deprecated, and has been replaced by the 'density' kwarg.\n",
      "  warnings.warn(\"The 'normed' kwarg is deprecated, and has been \"\n"
     ]
    },
    {
     "data": {
      "text/plain": [
       "<matplotlib.axes._subplots.AxesSubplot at 0x2a480813b00>"
      ]
     },
     "execution_count": 39,
     "metadata": {},
     "output_type": "execute_result"
    },
    {
     "data": {
      "image/png": "[encoded data removed]",
      "text/plain": [
       "<Figure size 432x288 with 1 Axes>"
      ]
     },
     "metadata": {},
     "output_type": "display_data"
    }
   ],
   "source": [
    "sns.distplot(train.consumerRating.dropna())"
   ]
  },
  {
   "cell_type": "code",
   "execution_count": 41,
   "metadata": {},
   "outputs": [],
   "source": [
    "# drop non-feature columns\n",
    "feature_columns = train.columns.drop(['articleId'])\n",
    "# create multi-index with (count, fraction, number of NaN sequences) per feature column\n",
    "iterables = [feature_columns,['count','fraction','seq']]\n",
    "index = pd.MultiIndex.from_product(iterables,names=['feature','stat'])\n",
    "# use list of IDs as index (only sorted for easier navigation)\n",
    "ids = train.articleId.unique()\n",
    "#ids.sort()\n",
    "# create empty data frame\n",
    "nan_df = pd.DataFrame(data=None,index=ids,columns=index)"
   ]
  },
  {
   "cell_type": "code",
   "execution_count": 43,
   "metadata": {
    "scrolled": true
   },
   "outputs": [],
   "source": [
    "from itertools import groupby\n",
    "# iterate over all asset ID\n",
    "for name,group in train.groupby('articleId'):\n",
    "    # for every feature column\n",
    "    #print(name)\n",
    "    for c in feature_columns:\n",
    "        #print(c)\n",
    "        # total number of rows with missing data\n",
    "        nan_count = group[c].isnull().sum()\n",
    "        # time span this ID was present\n",
    "        timespan = len(group[c])\n",
    "        # row indices for missing data\n",
    "        nan_indices = pd.isnull(group[c]).nonzero()[0]\n",
    "        # get number of joint time spans of missing values\n",
    "        nseq = len(list(groupby(enumerate(nan_indices),lambda x:x[0]-x[1])))\n",
    "        nan_df.loc[name][c,'count'] = nan_count\n",
    "        nan_df.loc[name][c,'fraction'] = nan_count * 1.0/timespan\n",
    "        nan_df.loc[name][c,'seq'] = nseq"
   ]
  },
  {
   "cell_type": "code",
   "execution_count": 44,
   "metadata": {},
   "outputs": [
    {
     "data": {
      "image/png": "[encoded data removed]",
      "text/plain": [
       "<Figure size 1152x576 with 1 Axes>"
      ]
     },
     "metadata": {},
     "output_type": "display_data"
    }
   ],
   "source": [
    "fractions = nan_df.xs('fraction',level='stat',axis=1)\n",
    "fraction_mean = fractions.mean()\n",
    "fraction_std = fractions.std()\n",
    "plt.figure(figsize=(16,8))\n",
    "plt.xticks(np.arange(len(fraction_mean)),fraction_mean.index,rotation='vertical')\n",
    "plt.errorbar(np.arange(len(fraction_mean)),fraction_mean,yerr=fraction_std,fmt='o')\n",
    "plt.ylabel('mean fraction of rows with missing data per ID');"
   ]
  },
  {
   "cell_type": "code",
   "execution_count": null,
   "metadata": {},
   "outputs": [],
   "source": [
    "#plt.hist(fractions.values.flatten(),bins=50)\n",
    "#plt.xlabel('fraction of rows with missing data per ID');"
   ]
  },
  {
   "cell_type": "code",
   "execution_count": 46,
   "metadata": {},
   "outputs": [
    {
     "data": {
      "text/plain": [
       "Nike            120211\n",
       "adidas           88137\n",
       "Under Armour     74670\n",
       "Puma             57907\n",
       "Reebok           35797\n",
       "Lululemon        25503\n",
       "Asics            21472\n",
       "Hurley            8172\n",
       "Jordan            8166\n",
       "Name: name, dtype: int64"
      ]
     },
     "execution_count": 46,
     "metadata": {},
     "output_type": "execute_result"
    }
   ],
   "source": [
    "train.name.value_counts()"
   ]
  },
  {
   "cell_type": "code",
   "execution_count": 47,
   "metadata": {},
   "outputs": [
    {
     "data": {
      "text/plain": [
       "male      210487\n",
       "female    148408\n",
       "unisex     69777\n",
       "Name: gender, dtype: int64"
      ]
     },
     "execution_count": 47,
     "metadata": {},
     "output_type": "execute_result"
    }
   ],
   "source": [
    "train.gender.value_counts()"
   ]
  },
  {
   "cell_type": "code",
   "execution_count": 48,
   "metadata": {},
   "outputs": [],
   "source": [
    "flattened_data = fractions.values.flatten()"
   ]
  },
  {
   "cell_type": "code",
   "execution_count": 49,
   "metadata": {},
   "outputs": [
    {
     "data": {
      "text/plain": [
       "1842967"
      ]
     },
     "execution_count": 49,
     "metadata": {},
     "output_type": "execute_result"
    }
   ],
   "source": [
    "len(flattened_data)"
   ]
  },
  {
   "cell_type": "code",
   "execution_count": null,
   "metadata": {},
   "outputs": [],
   "source": [
    "#plt.hist(flattened_data,bins=1000)"
   ]
  },
  {
   "cell_type": "code",
   "execution_count": 1,
   "metadata": {},
   "outputs": [],
   "source": [
    "# final_na_count_df = pd.DataFrame()\n",
    "# for a in train.articleId.unique():\n",
    "#     locDF = train.loc[train[\"articleId\"] == a]\n",
    "#     na_count = locDF.isnull().sum()\n",
    "#     na_count = pd.DataFrame(na_count)\n",
    "#     na_count_df = na_count.T\n",
    "#     na_count_df[\"Total_Rows\"] = len(locDF)\n",
    "#     final_na_count_df = final_na_count_df.append(locDF)"
   ]
  },
  {
   "cell_type": "code",
   "execution_count": 112,
   "metadata": {},
   "outputs": [
    {
     "data": {
      "text/plain": [
       "80128"
      ]
     },
     "execution_count": 112,
     "metadata": {},
     "output_type": "execute_result"
    }
   ],
   "source": [
    "train.articleId.nunique()"
   ]
  },
  {
   "cell_type": "code",
   "execution_count": 133,
   "metadata": {},
   "outputs": [
    {
     "name": "stderr",
     "output_type": "stream",
     "text": [
      "C:\\Users\\narendran.thesma\\AppData\\Local\\Continuum\\anaconda3\\lib\\site-packages\\pandas\\core\\groupby\\groupby.py:4658: FutureWarning: using a dict with renaming is deprecated and will be removed in a future version\n",
      "  return super(DataFrameGroupBy, self).aggregate(arg, *args, **kwargs)\n",
      "C:\\Users\\narendran.thesma\\AppData\\Local\\Continuum\\anaconda3\\lib\\site-packages\\ipykernel_launcher.py:13: FutureWarning: 'articleId' is both an index level and a column label.\n",
      "Defaulting to column, but this will raise an ambiguity error in a future version\n",
      "  del sys.path[0]\n"
     ]
    },
    {
     "name": "stdout",
     "output_type": "stream",
     "text": [
      "TIME taken:443.8922669887543\n"
     ]
    }
   ],
   "source": [
    "start = time.time()\n",
    "nan_df_ashish = pd.DataFrame(train.articleId.unique(),columns=['articleId'])\n",
    "for col in train.columns:\n",
    "    \n",
    "    temp = train.groupby('articleId').agg({\n",
    "                        col: {col: lambda x: x.isna().sum()},\n",
    "                        'articleId': {'TOTAL_COUNT': lambda x: len(x)}\n",
    "                              \n",
    "        \n",
    "                            })    \n",
    "    temp.columns = temp.columns.droplevel(0)\n",
    "    temp['articleId'] = temp.index     \n",
    "    nan_df_ashish = nan_df_ashish.merge(temp)\n",
    "end = time.time()\n",
    "print('TIME taken:'+str(end-start))"
   ]
  },
  {
   "cell_type": "code",
   "execution_count": 136,
   "metadata": {},
   "outputs": [
    {
     "data": {
      "text/html": [
       "<div>\n",
       "<style scoped>\n",
       "    .dataframe tbody tr th:only-of-type {\n",
       "        vertical-align: middle;\n",
       "    }\n",
       "\n",
       "    .dataframe tbody tr th {\n",
       "        vertical-align: top;\n",
       "    }\n",
       "\n",
       "    .dataframe thead th {\n",
       "        text-align: right;\n",
       "    }\n",
       "</style>\n",
       "<table border=\"1\" class=\"dataframe\">\n",
       "  <thead>\n",
       "    <tr style=\"text-align: right;\">\n",
       "      <th></th>\n",
       "      <th>articleId</th>\n",
       "      <th>date</th>\n",
       "      <th>TOTAL_COUNT</th>\n",
       "      <th>name</th>\n",
       "      <th>currency</th>\n",
       "      <th>language</th>\n",
       "      <th>name2</th>\n",
       "      <th>name3</th>\n",
       "      <th>ageGroup</th>\n",
       "      <th>colorGroup</th>\n",
       "      <th>...</th>\n",
       "      <th>initialPrice</th>\n",
       "      <th>modelNumber</th>\n",
       "      <th>name4</th>\n",
       "      <th>pid</th>\n",
       "      <th>sportsCategory</th>\n",
       "      <th>subBrand</th>\n",
       "      <th>type</th>\n",
       "      <th>price</th>\n",
       "      <th>territories</th>\n",
       "      <th>type5</th>\n",
       "    </tr>\n",
       "  </thead>\n",
       "  <tbody>\n",
       "    <tr>\n",
       "      <th>0</th>\n",
       "      <td>011040</td>\n",
       "      <td>0</td>\n",
       "      <td>12</td>\n",
       "      <td>0</td>\n",
       "      <td>0</td>\n",
       "      <td>0</td>\n",
       "      <td>0</td>\n",
       "      <td>0</td>\n",
       "      <td>0</td>\n",
       "      <td>0</td>\n",
       "      <td>...</td>\n",
       "      <td>0.0</td>\n",
       "      <td>0</td>\n",
       "      <td>0</td>\n",
       "      <td>0</td>\n",
       "      <td>0</td>\n",
       "      <td>0</td>\n",
       "      <td>12</td>\n",
       "      <td>12.0</td>\n",
       "      <td>12</td>\n",
       "      <td>12</td>\n",
       "    </tr>\n",
       "    <tr>\n",
       "      <th>1</th>\n",
       "      <td>015110</td>\n",
       "      <td>0</td>\n",
       "      <td>12</td>\n",
       "      <td>0</td>\n",
       "      <td>0</td>\n",
       "      <td>0</td>\n",
       "      <td>0</td>\n",
       "      <td>0</td>\n",
       "      <td>0</td>\n",
       "      <td>0</td>\n",
       "      <td>...</td>\n",
       "      <td>0.0</td>\n",
       "      <td>0</td>\n",
       "      <td>0</td>\n",
       "      <td>0</td>\n",
       "      <td>0</td>\n",
       "      <td>0</td>\n",
       "      <td>12</td>\n",
       "      <td>12.0</td>\n",
       "      <td>12</td>\n",
       "      <td>12</td>\n",
       "    </tr>\n",
       "    <tr>\n",
       "      <th>2</th>\n",
       "      <td>019000</td>\n",
       "      <td>0</td>\n",
       "      <td>8</td>\n",
       "      <td>0</td>\n",
       "      <td>0</td>\n",
       "      <td>0</td>\n",
       "      <td>0</td>\n",
       "      <td>0</td>\n",
       "      <td>0</td>\n",
       "      <td>0</td>\n",
       "      <td>...</td>\n",
       "      <td>0.0</td>\n",
       "      <td>0</td>\n",
       "      <td>0</td>\n",
       "      <td>0</td>\n",
       "      <td>0</td>\n",
       "      <td>0</td>\n",
       "      <td>8</td>\n",
       "      <td>8.0</td>\n",
       "      <td>8</td>\n",
       "      <td>8</td>\n",
       "    </tr>\n",
       "    <tr>\n",
       "      <th>3</th>\n",
       "      <td>019099</td>\n",
       "      <td>0</td>\n",
       "      <td>8</td>\n",
       "      <td>0</td>\n",
       "      <td>0</td>\n",
       "      <td>0</td>\n",
       "      <td>0</td>\n",
       "      <td>0</td>\n",
       "      <td>0</td>\n",
       "      <td>0</td>\n",
       "      <td>...</td>\n",
       "      <td>0.0</td>\n",
       "      <td>0</td>\n",
       "      <td>0</td>\n",
       "      <td>0</td>\n",
       "      <td>0</td>\n",
       "      <td>0</td>\n",
       "      <td>8</td>\n",
       "      <td>8.0</td>\n",
       "      <td>8</td>\n",
       "      <td>8</td>\n",
       "    </tr>\n",
       "    <tr>\n",
       "      <th>4</th>\n",
       "      <td>019228</td>\n",
       "      <td>0</td>\n",
       "      <td>12</td>\n",
       "      <td>0</td>\n",
       "      <td>0</td>\n",
       "      <td>0</td>\n",
       "      <td>0</td>\n",
       "      <td>0</td>\n",
       "      <td>0</td>\n",
       "      <td>0</td>\n",
       "      <td>...</td>\n",
       "      <td>0.0</td>\n",
       "      <td>0</td>\n",
       "      <td>0</td>\n",
       "      <td>0</td>\n",
       "      <td>0</td>\n",
       "      <td>0</td>\n",
       "      <td>12</td>\n",
       "      <td>12.0</td>\n",
       "      <td>12</td>\n",
       "      <td>12</td>\n",
       "    </tr>\n",
       "  </tbody>\n",
       "</table>\n",
       "<p>5 rows × 25 columns</p>\n",
       "</div>"
      ],
      "text/plain": [
       "  articleId  date  TOTAL_COUNT  name  currency  language  name2  name3  \\\n",
       "0    011040     0           12     0         0         0      0      0   \n",
       "1    015110     0           12     0         0         0      0      0   \n",
       "2    019000     0            8     0         0         0      0      0   \n",
       "3    019099     0            8     0         0         0      0      0   \n",
       "4    019228     0           12     0         0         0      0      0   \n",
       "\n",
       "   ageGroup  colorGroup  ...    initialPrice  modelNumber  name4  pid  \\\n",
       "0         0           0  ...             0.0            0      0    0   \n",
       "1         0           0  ...             0.0            0      0    0   \n",
       "2         0           0  ...             0.0            0      0    0   \n",
       "3         0           0  ...             0.0            0      0    0   \n",
       "4         0           0  ...             0.0            0      0    0   \n",
       "\n",
       "   sportsCategory  subBrand  type  price  territories  type5  \n",
       "0               0         0    12   12.0           12     12  \n",
       "1               0         0    12   12.0           12     12  \n",
       "2               0         0     8    8.0            8      8  \n",
       "3               0         0     8    8.0            8      8  \n",
       "4               0         0    12   12.0           12     12  \n",
       "\n",
       "[5 rows x 25 columns]"
      ]
     },
     "execution_count": 136,
     "metadata": {},
     "output_type": "execute_result"
    }
   ],
   "source": [
    "nan_df_ashish.head()"
   ]
  },
  {
   "cell_type": "code",
   "execution_count": 137,
   "metadata": {},
   "outputs": [],
   "source": [
    "impute_columns = ['colorGroup', 'division', 'group', 'name4', 'sportsCategory', 'subBrand', 'type']"
   ]
  },
  {
   "cell_type": "code",
   "execution_count": 160,
   "metadata": {},
   "outputs": [
    {
     "name": "stderr",
     "output_type": "stream",
     "text": [
      "C:\\Users\\narendran.thesma\\AppData\\Local\\Continuum\\anaconda3\\lib\\site-packages\\pandas\\core\\groupby\\groupby.py:4658: FutureWarning: using a dict with renaming is deprecated and will be removed in a future version\n",
      "  return super(DataFrameGroupBy, self).aggregate(arg, *args, **kwargs)\n",
      "C:\\Users\\narendran.thesma\\AppData\\Local\\Continuum\\anaconda3\\lib\\site-packages\\ipykernel_launcher.py:10: FutureWarning: 'articleId' is both an index level and a column label.\n",
      "Defaulting to column, but this will raise an ambiguity error in a future version\n",
      "  # Remove the CWD from sys.path while we load stuff.\n"
     ]
    },
    {
     "name": "stdout",
     "output_type": "stream",
     "text": [
      "TIME taken:86.99028944969177\n"
     ]
    }
   ],
   "source": [
    "unique_df = pd.DataFrame(train.articleId.unique(),columns=['articleId'])\n",
    "start = time.time()\n",
    "\n",
    "for col in impute_columns:\n",
    "    temp = train.groupby('articleId').agg({\n",
    "     col: {col: lambda x: x.nunique()}    \n",
    "    })\n",
    "    temp.columns = temp.columns.droplevel(0)\n",
    "    temp['articleId'] = temp.index     \n",
    "    unique_df = unique_df.merge(temp)\n",
    "    \n",
    "\n",
    "end = time.time()\n",
    "print('TIME taken:'+str(end-start))"
   ]
  },
  {
   "cell_type": "code",
   "execution_count": 156,
   "metadata": {},
   "outputs": [
    {
     "data": {
      "text/plain": [
       "22996"
      ]
     },
     "execution_count": 156,
     "metadata": {},
     "output_type": "execute_result"
    }
   ],
   "source": [
    "train.groupby('articleId')"
   ]
  },
  {
   "cell_type": "code",
   "execution_count": 159,
   "metadata": {
    "scrolled": true
   },
   "outputs": [
    {
     "data": {
      "text/plain": [
       "1"
      ]
     },
     "execution_count": 159,
     "metadata": {},
     "output_type": "execute_result"
    }
   ],
   "source": [
    "train.loc[train.articleId=='00032474X-07H']['division'].nunique()"
   ]
  },
  {
   "cell_type": "code",
   "execution_count": 161,
   "metadata": {},
   "outputs": [
    {
     "data": {
      "text/html": [
       "<div>\n",
       "<style scoped>\n",
       "    .dataframe tbody tr th:only-of-type {\n",
       "        vertical-align: middle;\n",
       "    }\n",
       "\n",
       "    .dataframe tbody tr th {\n",
       "        vertical-align: top;\n",
       "    }\n",
       "\n",
       "    .dataframe thead th {\n",
       "        text-align: right;\n",
       "    }\n",
       "</style>\n",
       "<table border=\"1\" class=\"dataframe\">\n",
       "  <thead>\n",
       "    <tr style=\"text-align: right;\">\n",
       "      <th></th>\n",
       "      <th>articleId</th>\n",
       "      <th>ageGroup</th>\n",
       "      <th>colorGroup</th>\n",
       "      <th>division</th>\n",
       "      <th>gender</th>\n",
       "      <th>group</th>\n",
       "      <th>name4</th>\n",
       "      <th>sportsCategory</th>\n",
       "      <th>subBrand</th>\n",
       "      <th>type</th>\n",
       "    </tr>\n",
       "  </thead>\n",
       "  <tbody>\n",
       "    <tr>\n",
       "      <th>0</th>\n",
       "      <td>011040</td>\n",
       "      <td>adults</td>\n",
       "      <td>[schwarz, Black]</td>\n",
       "      <td>Shoes</td>\n",
       "      <td>[unisex, male]</td>\n",
       "      <td>[Sportschuh, Cleats, Sport Shoes]</td>\n",
       "      <td>[World Cup Fußballschuh, World Cup Cleats, Wor...</td>\n",
       "      <td>[Fußball, Soccer, football]</td>\n",
       "      <td>[Performance, Sport, performance]</td>\n",
       "      <td>NaN</td>\n",
       "    </tr>\n",
       "    <tr>\n",
       "      <th>1</th>\n",
       "      <td>015110</td>\n",
       "      <td>adults</td>\n",
       "      <td>[schwarz, Black]</td>\n",
       "      <td>Shoes</td>\n",
       "      <td>[unisex, male, female]</td>\n",
       "      <td>[Sportschuh, Cleats, Sport Shoes]</td>\n",
       "      <td>[Copa Mundial Fußballschuh, Copa Mundial Cleat...</td>\n",
       "      <td>[Fußball, Soccer, football]</td>\n",
       "      <td>[Performance, Sport, performance]</td>\n",
       "      <td>NaN</td>\n",
       "    </tr>\n",
       "    <tr>\n",
       "      <th>2</th>\n",
       "      <td>019000</td>\n",
       "      <td>adults</td>\n",
       "      <td>[schwarz, Black]</td>\n",
       "      <td>Shoes</td>\n",
       "      <td>male</td>\n",
       "      <td>[Sneakers, Sport Shoes]</td>\n",
       "      <td>[Samba Leather Schuh, Samba Leather Shoes]</td>\n",
       "      <td>[Freizeit, lifestyle]</td>\n",
       "      <td>[Performance, performance]</td>\n",
       "      <td>NaN</td>\n",
       "    </tr>\n",
       "    <tr>\n",
       "      <th>3</th>\n",
       "      <td>019099</td>\n",
       "      <td>adults</td>\n",
       "      <td>[schwarz, Black]</td>\n",
       "      <td>Shoes</td>\n",
       "      <td>[unisex, female]</td>\n",
       "      <td>[Sneakers, Trainers]</td>\n",
       "      <td>[Samba Super Schuh, Samba Super Shoes]</td>\n",
       "      <td>[Freizeit, Lifestyle, lifestyle]</td>\n",
       "      <td>Sport inspired</td>\n",
       "      <td>NaN</td>\n",
       "    </tr>\n",
       "    <tr>\n",
       "      <th>4</th>\n",
       "      <td>019228</td>\n",
       "      <td>adults</td>\n",
       "      <td>[schwarz, Black]</td>\n",
       "      <td>Shoes</td>\n",
       "      <td>[unisex, male]</td>\n",
       "      <td>[Sneakers, Athletic &amp; Sneakers, Sport Shoes]</td>\n",
       "      <td>[Mundial Team Fußballschuh, Mundial Team Shoes...</td>\n",
       "      <td>[Fußball, Soccer, football]</td>\n",
       "      <td>[Performance, Sport, performance]</td>\n",
       "      <td>NaN</td>\n",
       "    </tr>\n",
       "  </tbody>\n",
       "</table>\n",
       "</div>"
      ],
      "text/plain": [
       "  articleId ageGroup        colorGroup division                  gender  \\\n",
       "0    011040   adults  [schwarz, Black]    Shoes          [unisex, male]   \n",
       "1    015110   adults  [schwarz, Black]    Shoes  [unisex, male, female]   \n",
       "2    019000   adults  [schwarz, Black]    Shoes                    male   \n",
       "3    019099   adults  [schwarz, Black]    Shoes        [unisex, female]   \n",
       "4    019228   adults  [schwarz, Black]    Shoes          [unisex, male]   \n",
       "\n",
       "                                          group  \\\n",
       "0             [Sportschuh, Cleats, Sport Shoes]   \n",
       "1             [Sportschuh, Cleats, Sport Shoes]   \n",
       "2                       [Sneakers, Sport Shoes]   \n",
       "3                          [Sneakers, Trainers]   \n",
       "4  [Sneakers, Athletic & Sneakers, Sport Shoes]   \n",
       "\n",
       "                                               name4  \\\n",
       "0  [World Cup Fußballschuh, World Cup Cleats, Wor...   \n",
       "1  [Copa Mundial Fußballschuh, Copa Mundial Cleat...   \n",
       "2         [Samba Leather Schuh, Samba Leather Shoes]   \n",
       "3             [Samba Super Schuh, Samba Super Shoes]   \n",
       "4  [Mundial Team Fußballschuh, Mundial Team Shoes...   \n",
       "\n",
       "                     sportsCategory                           subBrand type  \n",
       "0       [Fußball, Soccer, football]  [Performance, Sport, performance]  NaN  \n",
       "1       [Fußball, Soccer, football]  [Performance, Sport, performance]  NaN  \n",
       "2             [Freizeit, lifestyle]         [Performance, performance]  NaN  \n",
       "3  [Freizeit, Lifestyle, lifestyle]                     Sport inspired  NaN  \n",
       "4       [Fußball, Soccer, football]  [Performance, Sport, performance]  NaN  "
      ]
     },
     "execution_count": 161,
     "metadata": {},
     "output_type": "execute_result"
    }
   ],
   "source": [
    "unique_df.head()"
   ]
  },
  {
   "cell_type": "code",
   "execution_count": null,
   "metadata": {},
   "outputs": [],
   "source": []
  }
 ],
 "metadata": {
  "kernelspec": {
   "display_name": "Python 3",
   "language": "python",
   "name": "python3"
  },
  "language_info": {
   "codemirror_mode": {
    "name": "ipython",
    "version": 3
   },
   "file_extension": ".py",
   "mimetype": "text/x-python",
   "name": "python",
   "nbconvert_exporter": "python",
   "pygments_lexer": "ipython3",
   "version": "3.6.5"
  }
 },
 "nbformat": 4,
 "nbformat_minor": 2
}

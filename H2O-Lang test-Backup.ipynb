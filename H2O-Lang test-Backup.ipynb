{
 "cells": [
  {
   "cell_type": "code",
   "execution_count": 1,
   "metadata": {},
   "outputs": [],
   "source": [
    "import h2o\n",
    "import pandas as pd"
   ]
  },
  {
   "cell_type": "code",
   "execution_count": 2,
   "metadata": {},
   "outputs": [
    {
     "name": "stdout",
     "output_type": "stream",
     "text": [
      "Checking whether there is an H2O instance running at http://localhost:54321..... not found.\n",
      "Attempting to start a local H2O server...\n",
      "; Java HotSpot(TM) 64-Bit Server VM (build 25.191-b12, mixed mode)\n",
      "  Starting server from C:\\Users\\narendran.thesma\\AppData\\Local\\Continuum\\anaconda3\\lib\\site-packages\\h2o\\backend\\bin\\h2o.jar\n",
      "  Ice root: C:\\Users\\narendran.thesma\\AppData\\Local\\Temp\\tmprbbhozo1\n",
      "  JVM stdout: C:\\Users\\narendran.thesma\\AppData\\Local\\Temp\\tmprbbhozo1\\h2o_narendran_thesma_started_from_python.out\n",
      "  JVM stderr: C:\\Users\\narendran.thesma\\AppData\\Local\\Temp\\tmprbbhozo1\\h2o_narendran_thesma_started_from_python.err\n",
      "  Server is running at http://127.0.0.1:54321\n",
      "Connecting to H2O server at http://127.0.0.1:54321... successful.\n"
     ]
    },
    {
     "data": {
      "text/html": [
       "<div style=\"overflow:auto\"><table style=\"width:50%\"><tr><td>H2O cluster uptime:</td>\n",
       "<td>04 secs</td></tr>\n",
       "<tr><td>H2O cluster timezone:</td>\n",
       "<td>Asia/Kolkata</td></tr>\n",
       "<tr><td>H2O data parsing timezone:</td>\n",
       "<td>UTC</td></tr>\n",
       "<tr><td>H2O cluster version:</td>\n",
       "<td>3.22.0.1</td></tr>\n",
       "<tr><td>H2O cluster version age:</td>\n",
       "<td>1 month and 2 days </td></tr>\n",
       "<tr><td>H2O cluster name:</td>\n",
       "<td>H2O_from_python_narendran_thesma_cvv40m</td></tr>\n",
       "<tr><td>H2O cluster total nodes:</td>\n",
       "<td>1</td></tr>\n",
       "<tr><td>H2O cluster free memory:</td>\n",
       "<td>7.111 Gb</td></tr>\n",
       "<tr><td>H2O cluster total cores:</td>\n",
       "<td>4</td></tr>\n",
       "<tr><td>H2O cluster allowed cores:</td>\n",
       "<td>4</td></tr>\n",
       "<tr><td>H2O cluster status:</td>\n",
       "<td>accepting new members, healthy</td></tr>\n",
       "<tr><td>H2O connection url:</td>\n",
       "<td>http://127.0.0.1:54321</td></tr>\n",
       "<tr><td>H2O connection proxy:</td>\n",
       "<td>None</td></tr>\n",
       "<tr><td>H2O internal security:</td>\n",
       "<td>False</td></tr>\n",
       "<tr><td>H2O API Extensions:</td>\n",
       "<td>Algos, AutoML, Core V3, Core V4</td></tr>\n",
       "<tr><td>Python version:</td>\n",
       "<td>3.6.5 final</td></tr></table></div>"
      ],
      "text/plain": [
       "--------------------------  ---------------------------------------\n",
       "H2O cluster uptime:         04 secs\n",
       "H2O cluster timezone:       Asia/Kolkata\n",
       "H2O data parsing timezone:  UTC\n",
       "H2O cluster version:        3.22.0.1\n",
       "H2O cluster version age:    1 month and 2 days\n",
       "H2O cluster name:           H2O_from_python_narendran_thesma_cvv40m\n",
       "H2O cluster total nodes:    1\n",
       "H2O cluster free memory:    7.111 Gb\n",
       "H2O cluster total cores:    4\n",
       "H2O cluster allowed cores:  4\n",
       "H2O cluster status:         accepting new members, healthy\n",
       "H2O connection url:         http://127.0.0.1:54321\n",
       "H2O connection proxy:\n",
       "H2O internal security:      False\n",
       "H2O API Extensions:         Algos, AutoML, Core V3, Core V4\n",
       "Python version:             3.6.5 final\n",
       "--------------------------  ---------------------------------------"
      ]
     },
     "metadata": {},
     "output_type": "display_data"
    }
   ],
   "source": [
    "h2o.init(max_mem_size=\"8G\")"
   ]
  },
  {
   "cell_type": "code",
   "execution_count": 3,
   "metadata": {},
   "outputs": [],
   "source": [
    "#data = h2o.import_file('output_merged_25oct.csv', col_types={\"PRODUCT DESCRIPTION\" : \"string\"})\n",
    "data = pd.read_csv('Language Check/BRA_own.csv', encoding = \"utf-8\")"
   ]
  },
  {
   "cell_type": "code",
   "execution_count": 4,
   "metadata": {},
   "outputs": [
    {
     "data": {
      "text/plain": [
       "Index(['date', 'name', 'currency', 'language', 'name2', 'name3', 'ageGroup',\n",
       "       'articleId', 'colors', 'colorGroup', 'consumerRating', 'currentPrice',\n",
       "       'description', 'discountedSince', 'division', 'gender', 'group',\n",
       "       'imageUrl', 'initialPrice', 'modelNumber', 'name4', 'ped', 'pid',\n",
       "       'sportsCategory', 'subBrand', 'technologies', 'tname', 'type', 'url',\n",
       "       'shippings'],\n",
       "      dtype='object')"
      ]
     },
     "execution_count": 4,
     "metadata": {},
     "output_type": "execute_result"
    }
   ],
   "source": [
    "data.columns"
   ]
  },
  {
   "cell_type": "code",
   "execution_count": 5,
   "metadata": {},
   "outputs": [
    {
     "data": {
      "text/html": [
       "<div>\n",
       "<style scoped>\n",
       "    .dataframe tbody tr th:only-of-type {\n",
       "        vertical-align: middle;\n",
       "    }\n",
       "\n",
       "    .dataframe tbody tr th {\n",
       "        vertical-align: top;\n",
       "    }\n",
       "\n",
       "    .dataframe thead th {\n",
       "        text-align: right;\n",
       "    }\n",
       "</style>\n",
       "<table border=\"1\" class=\"dataframe\">\n",
       "  <thead>\n",
       "    <tr style=\"text-align: right;\">\n",
       "      <th></th>\n",
       "      <th>date</th>\n",
       "      <th>name</th>\n",
       "      <th>currency</th>\n",
       "      <th>language</th>\n",
       "      <th>name2</th>\n",
       "      <th>name3</th>\n",
       "      <th>ageGroup</th>\n",
       "      <th>articleId</th>\n",
       "      <th>colors</th>\n",
       "      <th>colorGroup</th>\n",
       "      <th>...</th>\n",
       "      <th>name4</th>\n",
       "      <th>ped</th>\n",
       "      <th>pid</th>\n",
       "      <th>sportsCategory</th>\n",
       "      <th>subBrand</th>\n",
       "      <th>technologies</th>\n",
       "      <th>tname</th>\n",
       "      <th>type</th>\n",
       "      <th>url</th>\n",
       "      <th>shippings</th>\n",
       "    </tr>\n",
       "  </thead>\n",
       "  <tbody>\n",
       "    <tr>\n",
       "      <th>0</th>\n",
       "      <td>09/10/2018</td>\n",
       "      <td>adidas</td>\n",
       "      <td>BRL</td>\n",
       "      <td>pt-BR</td>\n",
       "      <td>BRA</td>\n",
       "      <td>own eCom</td>\n",
       "      <td>adults</td>\n",
       "      <td>011040</td>\n",
       "      <td>BLACK/VISTA GREY/SHOCK YELLOW</td>\n",
       "      <td>Preto</td>\n",
       "      <td>...</td>\n",
       "      <td>Chuteira World Cup</td>\n",
       "      <td>NaN</td>\n",
       "      <td>07/14/2015</td>\n",
       "      <td>Futebol</td>\n",
       "      <td>Performance</td>\n",
       "      <td>EVA</td>\n",
       "      <td>Shoe World Cup</td>\n",
       "      <td>NaN</td>\n",
       "      <td>https://www.adidas.com.br/chuteira-world-cup/0...</td>\n",
       "      <td>NaN</td>\n",
       "    </tr>\n",
       "    <tr>\n",
       "      <th>1</th>\n",
       "      <td>09/10/2018</td>\n",
       "      <td>adidas</td>\n",
       "      <td>BRL</td>\n",
       "      <td>pt-BR</td>\n",
       "      <td>BRA</td>\n",
       "      <td>own eCom</td>\n",
       "      <td>adults</td>\n",
       "      <td>015110</td>\n",
       "      <td>FTWR WHITE/BLACK</td>\n",
       "      <td>Branco</td>\n",
       "      <td>...</td>\n",
       "      <td>Chuteira Copa Mundial</td>\n",
       "      <td>NaN</td>\n",
       "      <td>07/14/2015</td>\n",
       "      <td>Futebol</td>\n",
       "      <td>Performance</td>\n",
       "      <td>EVA</td>\n",
       "      <td>Shoe World Cup</td>\n",
       "      <td>NaN</td>\n",
       "      <td>https://www.adidas.com.br/chuteira-copa-mundia...</td>\n",
       "      <td>NaN</td>\n",
       "    </tr>\n",
       "    <tr>\n",
       "      <th>2</th>\n",
       "      <td>09/10/2018</td>\n",
       "      <td>adidas</td>\n",
       "      <td>BRL</td>\n",
       "      <td>pt-BR</td>\n",
       "      <td>BRA</td>\n",
       "      <td>own eCom</td>\n",
       "      <td>adults</td>\n",
       "      <td>019228</td>\n",
       "      <td>BLACK/RUNNING WHITE FTW/RED</td>\n",
       "      <td>Preto</td>\n",
       "      <td>...</td>\n",
       "      <td>Chuteira Copa Mundial Team - Society</td>\n",
       "      <td>NaN</td>\n",
       "      <td>07/28/2015</td>\n",
       "      <td>Futebol</td>\n",
       "      <td>Performance</td>\n",
       "      <td>TRAXION|EVA</td>\n",
       "      <td>Shoe World Cup Team - Society</td>\n",
       "      <td>NaN</td>\n",
       "      <td>https://www.adidas.com.br/chuteira-copa-mundia...</td>\n",
       "      <td>NaN</td>\n",
       "    </tr>\n",
       "    <tr>\n",
       "      <th>3</th>\n",
       "      <td>09/10/2018</td>\n",
       "      <td>adidas</td>\n",
       "      <td>BRL</td>\n",
       "      <td>pt-BR</td>\n",
       "      <td>BRA</td>\n",
       "      <td>own eCom</td>\n",
       "      <td>adults</td>\n",
       "      <td>034563</td>\n",
       "      <td>BLACK / FTWR WHITE</td>\n",
       "      <td>Preto</td>\n",
       "      <td>...</td>\n",
       "      <td>Chuteira Samba Classic</td>\n",
       "      <td>NaN</td>\n",
       "      <td>07/05/2016</td>\n",
       "      <td>Futebol</td>\n",
       "      <td>Performance</td>\n",
       "      <td>EVA</td>\n",
       "      <td>Boot Samba Classic</td>\n",
       "      <td>NaN</td>\n",
       "      <td>https://www.adidas.com.br/chuteira-samba-class...</td>\n",
       "      <td>NaN</td>\n",
       "    </tr>\n",
       "    <tr>\n",
       "      <th>4</th>\n",
       "      <td>09/10/2018</td>\n",
       "      <td>adidas</td>\n",
       "      <td>BRL</td>\n",
       "      <td>pt-BR</td>\n",
       "      <td>BRA</td>\n",
       "      <td>own eCom</td>\n",
       "      <td>adults</td>\n",
       "      <td>078260</td>\n",
       "      <td>CORE BLACK/FTWR WHITE/CORE BLACK</td>\n",
       "      <td>Preto</td>\n",
       "      <td>...</td>\n",
       "      <td>Chinelo adissage</td>\n",
       "      <td>NaN</td>\n",
       "      <td>07/28/2015</td>\n",
       "      <td>Natação</td>\n",
       "      <td>Performance</td>\n",
       "      <td>EVA</td>\n",
       "      <td>Chinelo Adissage</td>\n",
       "      <td>NaN</td>\n",
       "      <td>https://www.adidas.com.br/chinelo-adissage/078...</td>\n",
       "      <td>NaN</td>\n",
       "    </tr>\n",
       "  </tbody>\n",
       "</table>\n",
       "<p>5 rows × 30 columns</p>\n",
       "</div>"
      ],
      "text/plain": [
       "         date    name currency language name2     name3 ageGroup articleId  \\\n",
       "0  09/10/2018  adidas      BRL    pt-BR   BRA  own eCom   adults    011040   \n",
       "1  09/10/2018  adidas      BRL    pt-BR   BRA  own eCom   adults    015110   \n",
       "2  09/10/2018  adidas      BRL    pt-BR   BRA  own eCom   adults    019228   \n",
       "3  09/10/2018  adidas      BRL    pt-BR   BRA  own eCom   adults    034563   \n",
       "4  09/10/2018  adidas      BRL    pt-BR   BRA  own eCom   adults    078260   \n",
       "\n",
       "                             colors colorGroup    ...     \\\n",
       "0     BLACK/VISTA GREY/SHOCK YELLOW      Preto    ...      \n",
       "1                  FTWR WHITE/BLACK     Branco    ...      \n",
       "2       BLACK/RUNNING WHITE FTW/RED      Preto    ...      \n",
       "3                BLACK / FTWR WHITE      Preto    ...      \n",
       "4  CORE BLACK/FTWR WHITE/CORE BLACK      Preto    ...      \n",
       "\n",
       "                                  name4  ped         pid sportsCategory  \\\n",
       "0                    Chuteira World Cup  NaN  07/14/2015        Futebol   \n",
       "1                 Chuteira Copa Mundial  NaN  07/14/2015        Futebol   \n",
       "2  Chuteira Copa Mundial Team - Society  NaN  07/28/2015        Futebol   \n",
       "3                Chuteira Samba Classic  NaN  07/05/2016        Futebol   \n",
       "4                      Chinelo adissage  NaN  07/28/2015        Natação   \n",
       "\n",
       "      subBrand technologies                          tname type  \\\n",
       "0  Performance          EVA                 Shoe World Cup  NaN   \n",
       "1  Performance          EVA                 Shoe World Cup  NaN   \n",
       "2  Performance  TRAXION|EVA  Shoe World Cup Team - Society  NaN   \n",
       "3  Performance          EVA             Boot Samba Classic  NaN   \n",
       "4  Performance          EVA               Chinelo Adissage  NaN   \n",
       "\n",
       "                                                 url shippings  \n",
       "0  https://www.adidas.com.br/chuteira-world-cup/0...       NaN  \n",
       "1  https://www.adidas.com.br/chuteira-copa-mundia...       NaN  \n",
       "2  https://www.adidas.com.br/chuteira-copa-mundia...       NaN  \n",
       "3  https://www.adidas.com.br/chuteira-samba-class...       NaN  \n",
       "4  https://www.adidas.com.br/chinelo-adissage/078...       NaN  \n",
       "\n",
       "[5 rows x 30 columns]"
      ]
     },
     "execution_count": 5,
     "metadata": {},
     "output_type": "execute_result"
    }
   ],
   "source": [
    "data.head()"
   ]
  },
  {
   "cell_type": "code",
   "execution_count": 6,
   "metadata": {},
   "outputs": [
    {
     "data": {
      "text/plain": [
       "array(['pt-BR'], dtype=object)"
      ]
     },
     "execution_count": 6,
     "metadata": {},
     "output_type": "execute_result"
    }
   ],
   "source": [
    "data.language.unique()"
   ]
  },
  {
   "cell_type": "code",
   "execution_count": 7,
   "metadata": {},
   "outputs": [],
   "source": [
    "data = data.fillna(\"unknown\")"
   ]
  },
  {
   "cell_type": "code",
   "execution_count": 8,
   "metadata": {},
   "outputs": [],
   "source": [
    "data = data[data[\"language\"] == \"pt-BR\"]"
   ]
  },
  {
   "cell_type": "code",
   "execution_count": 9,
   "metadata": {},
   "outputs": [],
   "source": [
    "data_req = data.loc[:,[\"name\", \"name3\", \"ageGroup\",\"name4\", \"description\", \"url\", \"subBrand\"]]"
   ]
  },
  {
   "cell_type": "code",
   "execution_count": 10,
   "metadata": {},
   "outputs": [],
   "source": [
    "data_req = data_req.drop_duplicates()"
   ]
  },
  {
   "cell_type": "code",
   "execution_count": 11,
   "metadata": {},
   "outputs": [],
   "source": [
    "data_req_x = data_req.loc[:,[\"name\", \"name3\", \"ageGroup\",\"name4\", \"description\", \"url\"]]\n",
    "data_req_y = data_req.loc[:, [\"subBrand\"]]"
   ]
  },
  {
   "cell_type": "code",
   "execution_count": 12,
   "metadata": {},
   "outputs": [],
   "source": [
    "data_req_x = data_req_x.fillna(\"unknown\")\n",
    "data_req = pd.concat([data_req_x, data_req_y], axis=1)"
   ]
  },
  {
   "cell_type": "code",
   "execution_count": 13,
   "metadata": {},
   "outputs": [],
   "source": [
    "data_req[\"description\"]  =  data_req[\"description\"]+\" \" + data_req[\"url\"]"
   ]
  },
  {
   "cell_type": "code",
   "execution_count": 14,
   "metadata": {},
   "outputs": [],
   "source": [
    "data_req = data_req.drop([\"url\"], axis = 1)"
   ]
  },
  {
   "cell_type": "code",
   "execution_count": 15,
   "metadata": {},
   "outputs": [
    {
     "data": {
      "text/plain": [
       "Index(['name', 'name3', 'ageGroup', 'name4', 'description', 'subBrand'], dtype='object')"
      ]
     },
     "execution_count": 15,
     "metadata": {},
     "output_type": "execute_result"
    }
   ],
   "source": [
    "data_req.columns"
   ]
  },
  {
   "cell_type": "code",
   "execution_count": 16,
   "metadata": {},
   "outputs": [],
   "source": [
    "#data_req.columns = [\"company\", \"country\", \"article_name\", \"subBrand\", \"description\"]"
   ]
  },
  {
   "cell_type": "code",
   "execution_count": 17,
   "metadata": {},
   "outputs": [
    {
     "data": {
      "text/html": [
       "<div>\n",
       "<style scoped>\n",
       "    .dataframe tbody tr th:only-of-type {\n",
       "        vertical-align: middle;\n",
       "    }\n",
       "\n",
       "    .dataframe tbody tr th {\n",
       "        vertical-align: top;\n",
       "    }\n",
       "\n",
       "    .dataframe thead th {\n",
       "        text-align: right;\n",
       "    }\n",
       "</style>\n",
       "<table border=\"1\" class=\"dataframe\">\n",
       "  <thead>\n",
       "    <tr style=\"text-align: right;\">\n",
       "      <th></th>\n",
       "      <th>name</th>\n",
       "      <th>name3</th>\n",
       "      <th>ageGroup</th>\n",
       "      <th>name4</th>\n",
       "      <th>description</th>\n",
       "      <th>subBrand</th>\n",
       "    </tr>\n",
       "  </thead>\n",
       "  <tbody>\n",
       "    <tr>\n",
       "      <th>0</th>\n",
       "      <td>adidas</td>\n",
       "      <td>own eCom</td>\n",
       "      <td>adults</td>\n",
       "      <td>Chuteira World Cup</td>\n",
       "      <td>Classic boots worthy of the biggest stage. Des...</td>\n",
       "      <td>Performance</td>\n",
       "    </tr>\n",
       "    <tr>\n",
       "      <th>1</th>\n",
       "      <td>adidas</td>\n",
       "      <td>own eCom</td>\n",
       "      <td>adults</td>\n",
       "      <td>Chuteira Copa Mundial</td>\n",
       "      <td>Legendary boots with a touch of class. Não é à...</td>\n",
       "      <td>Performance</td>\n",
       "    </tr>\n",
       "    <tr>\n",
       "      <th>2</th>\n",
       "      <td>adidas</td>\n",
       "      <td>own eCom</td>\n",
       "      <td>adults</td>\n",
       "      <td>Chuteira Copa Mundial Team - Society</td>\n",
       "      <td>Design clássico em couro para society Quando o...</td>\n",
       "      <td>Performance</td>\n",
       "    </tr>\n",
       "    <tr>\n",
       "      <th>3</th>\n",
       "      <td>adidas</td>\n",
       "      <td>own eCom</td>\n",
       "      <td>adults</td>\n",
       "      <td>Chuteira Samba Classic</td>\n",
       "      <td>Uma das chuteiras de futsal mais famosas de to...</td>\n",
       "      <td>Performance</td>\n",
       "    </tr>\n",
       "    <tr>\n",
       "      <th>4</th>\n",
       "      <td>adidas</td>\n",
       "      <td>own eCom</td>\n",
       "      <td>adults</td>\n",
       "      <td>Chinelo adissage</td>\n",
       "      <td>Lightweight slides with strategically placed m...</td>\n",
       "      <td>Performance</td>\n",
       "    </tr>\n",
       "  </tbody>\n",
       "</table>\n",
       "</div>"
      ],
      "text/plain": [
       "     name     name3 ageGroup                                 name4  \\\n",
       "0  adidas  own eCom   adults                    Chuteira World Cup   \n",
       "1  adidas  own eCom   adults                 Chuteira Copa Mundial   \n",
       "2  adidas  own eCom   adults  Chuteira Copa Mundial Team - Society   \n",
       "3  adidas  own eCom   adults                Chuteira Samba Classic   \n",
       "4  adidas  own eCom   adults                      Chinelo adissage   \n",
       "\n",
       "                                         description     subBrand  \n",
       "0  Classic boots worthy of the biggest stage. Des...  Performance  \n",
       "1  Legendary boots with a touch of class. Não é à...  Performance  \n",
       "2  Design clássico em couro para society Quando o...  Performance  \n",
       "3  Uma das chuteiras de futsal mais famosas de to...  Performance  \n",
       "4  Lightweight slides with strategically placed m...  Performance  "
      ]
     },
     "execution_count": 17,
     "metadata": {},
     "output_type": "execute_result"
    }
   ],
   "source": [
    "data_req.head()"
   ]
  },
  {
   "cell_type": "code",
   "execution_count": 18,
   "metadata": {},
   "outputs": [],
   "source": [
    "import numpy as np\n",
    "np.random.seed(123)\n",
    "data_req_sample = data_req.sample(frac=0.7)"
   ]
  },
  {
   "cell_type": "code",
   "execution_count": 19,
   "metadata": {},
   "outputs": [],
   "source": [
    "train = data_req.loc[data_req.index.isin(data_req_sample.index)]\n",
    "test = data_req.loc[~data_req.index.isin(data_req_sample.index)]"
   ]
  },
  {
   "cell_type": "code",
   "execution_count": 20,
   "metadata": {},
   "outputs": [
    {
     "name": "stderr",
     "output_type": "stream",
     "text": [
      "C:\\Users\\narendran.thesma\\AppData\\Local\\Continuum\\anaconda3\\lib\\site-packages\\ipykernel_launcher.py:1: SettingWithCopyWarning: \n",
      "A value is trying to be set on a copy of a slice from a DataFrame.\n",
      "Try using .loc[row_indexer,col_indexer] = value instead\n",
      "\n",
      "See the caveats in the documentation: http://pandas.pydata.org/pandas-docs/stable/indexing.html#indexing-view-versus-copy\n",
      "  \"\"\"Entry point for launching an IPython kernel.\n",
      "C:\\Users\\narendran.thesma\\AppData\\Local\\Continuum\\anaconda3\\lib\\site-packages\\ipykernel_launcher.py:2: SettingWithCopyWarning: \n",
      "A value is trying to be set on a copy of a slice from a DataFrame.\n",
      "Try using .loc[row_indexer,col_indexer] = value instead\n",
      "\n",
      "See the caveats in the documentation: http://pandas.pydata.org/pandas-docs/stable/indexing.html#indexing-view-versus-copy\n",
      "  \n"
     ]
    }
   ],
   "source": [
    "train[\"Check\"] = \"train\"\n",
    "test[\"Check\"] = \"test\""
   ]
  },
  {
   "cell_type": "code",
   "execution_count": 21,
   "metadata": {},
   "outputs": [],
   "source": [
    "data_req = train.append(test)"
   ]
  },
  {
   "cell_type": "code",
   "execution_count": 22,
   "metadata": {},
   "outputs": [],
   "source": [
    "data_req.to_csv(\"data_req_chn.csv\")\n",
    "#test.to_csv(\"test.csv\")"
   ]
  },
  {
   "cell_type": "code",
   "execution_count": 23,
   "metadata": {},
   "outputs": [
    {
     "data": {
      "text/html": [
       "<div>\n",
       "<style scoped>\n",
       "    .dataframe tbody tr th:only-of-type {\n",
       "        vertical-align: middle;\n",
       "    }\n",
       "\n",
       "    .dataframe tbody tr th {\n",
       "        vertical-align: top;\n",
       "    }\n",
       "\n",
       "    .dataframe thead th {\n",
       "        text-align: right;\n",
       "    }\n",
       "</style>\n",
       "<table border=\"1\" class=\"dataframe\">\n",
       "  <thead>\n",
       "    <tr style=\"text-align: right;\">\n",
       "      <th></th>\n",
       "      <th>name</th>\n",
       "      <th>name3</th>\n",
       "      <th>ageGroup</th>\n",
       "      <th>name4</th>\n",
       "      <th>description</th>\n",
       "      <th>subBrand</th>\n",
       "      <th>Check</th>\n",
       "    </tr>\n",
       "  </thead>\n",
       "  <tbody>\n",
       "    <tr>\n",
       "      <th>0</th>\n",
       "      <td>adidas</td>\n",
       "      <td>own eCom</td>\n",
       "      <td>adults</td>\n",
       "      <td>Chuteira World Cup</td>\n",
       "      <td>Classic boots worthy of the biggest stage. Des...</td>\n",
       "      <td>Performance</td>\n",
       "      <td>train</td>\n",
       "    </tr>\n",
       "    <tr>\n",
       "      <th>2</th>\n",
       "      <td>adidas</td>\n",
       "      <td>own eCom</td>\n",
       "      <td>adults</td>\n",
       "      <td>Chuteira Copa Mundial Team - Society</td>\n",
       "      <td>Design clássico em couro para society Quando o...</td>\n",
       "      <td>Performance</td>\n",
       "      <td>train</td>\n",
       "    </tr>\n",
       "    <tr>\n",
       "      <th>3</th>\n",
       "      <td>adidas</td>\n",
       "      <td>own eCom</td>\n",
       "      <td>adults</td>\n",
       "      <td>Chuteira Samba Classic</td>\n",
       "      <td>Uma das chuteiras de futsal mais famosas de to...</td>\n",
       "      <td>Performance</td>\n",
       "      <td>train</td>\n",
       "    </tr>\n",
       "    <tr>\n",
       "      <th>4</th>\n",
       "      <td>adidas</td>\n",
       "      <td>own eCom</td>\n",
       "      <td>adults</td>\n",
       "      <td>Chinelo adissage</td>\n",
       "      <td>Lightweight slides with strategically placed m...</td>\n",
       "      <td>Performance</td>\n",
       "      <td>train</td>\n",
       "    </tr>\n",
       "    <tr>\n",
       "      <th>6</th>\n",
       "      <td>adidas</td>\n",
       "      <td>own eCom</td>\n",
       "      <td>adults</td>\n",
       "      <td>Chinelo Adissage</td>\n",
       "      <td>Lightweight slides with strategically placed m...</td>\n",
       "      <td>Performance</td>\n",
       "      <td>train</td>\n",
       "    </tr>\n",
       "  </tbody>\n",
       "</table>\n",
       "</div>"
      ],
      "text/plain": [
       "     name     name3 ageGroup                                 name4  \\\n",
       "0  adidas  own eCom   adults                    Chuteira World Cup   \n",
       "2  adidas  own eCom   adults  Chuteira Copa Mundial Team - Society   \n",
       "3  adidas  own eCom   adults                Chuteira Samba Classic   \n",
       "4  adidas  own eCom   adults                      Chinelo adissage   \n",
       "6  adidas  own eCom   adults                      Chinelo Adissage   \n",
       "\n",
       "                                         description     subBrand  Check  \n",
       "0  Classic boots worthy of the biggest stage. Des...  Performance  train  \n",
       "2  Design clássico em couro para society Quando o...  Performance  train  \n",
       "3  Uma das chuteiras de futsal mais famosas de to...  Performance  train  \n",
       "4  Lightweight slides with strategically placed m...  Performance  train  \n",
       "6  Lightweight slides with strategically placed m...  Performance  train  "
      ]
     },
     "execution_count": 23,
     "metadata": {},
     "output_type": "execute_result"
    }
   ],
   "source": [
    "data_req.head()"
   ]
  },
  {
   "cell_type": "code",
   "execution_count": 26,
   "metadata": {},
   "outputs": [],
   "source": [
    "import logging\n",
    "stoplist = set('for a of the and to in'.split())\n",
    "texts = [[word for word in document.lower().split() if word not in stoplist]\n",
    "         for document in data_req.description]"
   ]
  },
  {
   "cell_type": "code",
   "execution_count": 49,
   "metadata": {},
   "outputs": [],
   "source": [
    "import string\n",
    "from gensim.models.doc2vec import LabeledSentence\n",
    "from gensim import utils\n",
    "\n",
    "def cleanup(text):\n",
    "    text = text.lower()\n",
    "    text= text.translate(str.maketrans(\"\",\"\", string.punctuation))\n",
    "    return text\n",
    "\n",
    "train['description'] = train['description'].apply(cleanup)\n",
    "test['description'] = test['description'].apply(cleanup)\n",
    "allText = train['description'].append(test['description'],ignore_index=True)\n",
    "def constructLabeledSentences(data):\n",
    "    sentences=[]\n",
    "    for index, row in data.iteritems():\n",
    "        sentences.append(LabeledSentence(utils.to_unicode(row).split(), ['Text' + '_%s' % str(index)]))\n",
    "    return sentences"
   ]
  },
  {
   "cell_type": "code",
   "execution_count": 50,
   "metadata": {},
   "outputs": [
    {
     "name": "stderr",
     "output_type": "stream",
     "text": [
      "C:\\Users\\narendran.thesma\\AppData\\Local\\Continuum\\anaconda3\\lib\\site-packages\\ipykernel_launcher.py:16: DeprecationWarning: Call to deprecated `LabeledSentence` (Class will be removed in 4.0.0, use TaggedDocument instead).\n",
      "  app.launch_new_instance()\n"
     ]
    }
   ],
   "source": [
    "sentences = constructLabeledSentences(allText)"
   ]
  },
  {
   "cell_type": "code",
   "execution_count": 52,
   "metadata": {},
   "outputs": [
    {
     "name": "stderr",
     "output_type": "stream",
     "text": [
      "C:\\Users\\narendran.thesma\\AppData\\Local\\Continuum\\anaconda3\\lib\\site-packages\\gensim\\models\\doc2vec.py:566: UserWarning: The parameter `iter` is deprecated, will be removed in 4.0.0, use `epochs` instead.\n",
      "  warnings.warn(\"The parameter `iter` is deprecated, will be removed in 4.0.0, use `epochs` instead.\")\n",
      "C:\\Users\\narendran.thesma\\AppData\\Local\\Continuum\\anaconda3\\lib\\site-packages\\gensim\\models\\doc2vec.py:570: UserWarning: The parameter `size` is deprecated, will be removed in 4.0.0, use `vector_size` instead.\n",
      "  warnings.warn(\"The parameter `size` is deprecated, will be removed in 4.0.0, use `vector_size` instead.\")\n"
     ]
    }
   ],
   "source": [
    "model = Doc2Vec(min_count=1, window=5, size=100, sample=1e-4, negative=5, workers=8,iter=100,seed=1)"
   ]
  },
  {
   "cell_type": "code",
   "execution_count": 53,
   "metadata": {},
   "outputs": [],
   "source": [
    "model.build_vocab(sentences)"
   ]
  },
  {
   "cell_type": "code",
   "execution_count": 54,
   "metadata": {},
   "outputs": [
    {
     "name": "stderr",
     "output_type": "stream",
     "text": [
      "C:\\Users\\narendran.thesma\\AppData\\Local\\Continuum\\anaconda3\\lib\\site-packages\\ipykernel_launcher.py:1: DeprecationWarning: Call to deprecated `iter` (Attribute will be removed in 4.0.0, use self.epochs instead).\n",
      "  \"\"\"Entry point for launching an IPython kernel.\n"
     ]
    }
   ],
   "source": [
    "model.train(sentences, total_examples=model.corpus_count, epochs=model.iter)"
   ]
  },
  {
   "cell_type": "code",
   "execution_count": 57,
   "metadata": {},
   "outputs": [],
   "source": [
    "train_arrays = np.zeros((train.shape[0], 100))"
   ]
  },
  {
   "cell_type": "code",
   "execution_count": 88,
   "metadata": {},
   "outputs": [],
   "source": [
    "train_arrays = [model.docvecs['Text_'+str(i)] for i in range(train.shape[0])]\n",
    "test_arrays = [model.docvecs['Text_'+str(i)] for i in range(test.shape[0])]"
   ]
  },
  {
   "cell_type": "code",
   "execution_count": 89,
   "metadata": {},
   "outputs": [],
   "source": [
    "c_header = np.arange(0,100).astype(str)"
   ]
  },
  {
   "cell_type": "code",
   "execution_count": 90,
   "metadata": {},
   "outputs": [],
   "source": [
    "c_header = [\"C\" + x for x in c_header]"
   ]
  },
  {
   "cell_type": "code",
   "execution_count": 91,
   "metadata": {},
   "outputs": [],
   "source": [
    "train_arrays_df = pd.DataFrame(train_arrays, columns=c_header)\n",
    "test_arrays_df = pd.DataFrame(test_arrays, columns=c_header)"
   ]
  },
  {
   "cell_type": "code",
   "execution_count": 87,
   "metadata": {},
   "outputs": [
    {
     "data": {
      "text/plain": [
       "5100"
      ]
     },
     "execution_count": 87,
     "metadata": {},
     "output_type": "execute_result"
    }
   ],
   "source": [
    "len(test)"
   ]
  },
  {
   "cell_type": "code",
   "execution_count": 34,
   "metadata": {},
   "outputs": [
    {
     "name": "stderr",
     "output_type": "stream",
     "text": [
      "WARNING:gensim.models.base_any2vec:Effective 'alpha' higher than previous training cycles\n",
      "WARNING:gensim.models.base_any2vec:EPOCH - 1 : supplied example count (11900) did not equal expected count (1)\n"
     ]
    },
    {
     "data": {
      "text/plain": [
       "(4199408, 8080942)"
      ]
     },
     "execution_count": 34,
     "metadata": {},
     "output_type": "execute_result"
    }
   ],
   "source": [
    "# model.train(train.description, total_examples=1, epochs=1)"
   ]
  },
  {
   "cell_type": "code",
   "execution_count": 42,
   "metadata": {},
   "outputs": [
    {
     "data": {
      "text/plain": [
       "<bound method BaseWordEmbeddingsModel.similar_by_word of <gensim.models.word2vec.Word2Vec object at 0x0000023D1895A358>>"
      ]
     },
     "execution_count": 42,
     "metadata": {},
     "output_type": "execute_result"
    }
   ],
   "source": [
    "model.similar_by_word"
   ]
  },
  {
   "cell_type": "code",
   "execution_count": 31,
   "metadata": {},
   "outputs": [
    {
     "name": "stdout",
     "output_type": "stream",
     "text": [
      "Parse progress: |█████████████████████████████████████████████████████████| 100%\n"
     ]
    }
   ],
   "source": [
    "data_req = h2o.import_file('data_req_chn.csv', col_types={\"description\" : \"string\"})\n",
    "#test = h2o.import_file('test.csv', col_types={\"description\" : \"string\"})"
   ]
  },
  {
   "cell_type": "code",
   "execution_count": 32,
   "metadata": {},
   "outputs": [],
   "source": [
    "#train = train[data_req]"
   ]
  },
  {
   "cell_type": "code",
   "execution_count": 33,
   "metadata": {},
   "outputs": [],
   "source": [
    "# Set Stop Words\n",
    "# The STOP WORDS we are importing are from the nltk package\n",
    "import pandas as pd\n",
    "import os\n",
    "\n",
    "# Use local data file or download from GitHub\n",
    "#docker_data_path = \"stopwords.csv\"\n",
    "docker_data_path = \"Portugese_SW.csv\"\n",
    "if os.path.isfile(docker_data_path):\n",
    "  data_path = docker_data_path\n",
    "else:\n",
    "  data_path = \"https://raw.githubusercontent.com/h2oai/h2o-tutorials/master/h2o-world-2017/nlp/stopwords.csv\"\n",
    "\n",
    "STOP_WORDS = pd.read_csv(data_path, header = 0)\n",
    "STOP_WORDS = list(STOP_WORDS['STOP_WORD'])"
   ]
  },
  {
   "cell_type": "code",
   "execution_count": 34,
   "metadata": {},
   "outputs": [
    {
     "data": {
      "text/plain": [
       "['de',\n",
       " 'a',\n",
       " 'o',\n",
       " 'que',\n",
       " 'e',\n",
       " 'do',\n",
       " 'da',\n",
       " 'em',\n",
       " 'um',\n",
       " 'para',\n",
       " 'com',\n",
       " 'não',\n",
       " 'uma',\n",
       " 'os',\n",
       " 'no',\n",
       " 'se',\n",
       " 'na',\n",
       " 'por',\n",
       " 'mais',\n",
       " 'as',\n",
       " 'dos',\n",
       " 'como',\n",
       " 'mas',\n",
       " 'ao',\n",
       " 'ele',\n",
       " 'das',\n",
       " 'à',\n",
       " 'seu',\n",
       " 'sua',\n",
       " 'ou',\n",
       " 'quando',\n",
       " 'muito',\n",
       " 'nos',\n",
       " 'já',\n",
       " 'eu',\n",
       " 'também',\n",
       " 'só',\n",
       " 'pelo',\n",
       " 'pela',\n",
       " 'até',\n",
       " 'isso',\n",
       " 'ela',\n",
       " 'entre',\n",
       " 'depois',\n",
       " 'sem',\n",
       " 'mesmo',\n",
       " 'aos',\n",
       " 'seus',\n",
       " 'quem',\n",
       " 'nas',\n",
       " 'me',\n",
       " 'esse',\n",
       " 'eles',\n",
       " 'você',\n",
       " 'essa',\n",
       " 'num',\n",
       " 'nem',\n",
       " 'suas',\n",
       " 'meu',\n",
       " 'às',\n",
       " 'minha',\n",
       " 'numa',\n",
       " 'pelos',\n",
       " 'elas',\n",
       " 'qual',\n",
       " 'nós',\n",
       " 'lhe',\n",
       " 'deles',\n",
       " 'essas',\n",
       " 'esses',\n",
       " 'pelas',\n",
       " 'este',\n",
       " 'dele',\n",
       " 'tu',\n",
       " 'te',\n",
       " 'vocês',\n",
       " 'vos',\n",
       " 'lhes',\n",
       " 'meus',\n",
       " 'minhas',\n",
       " 'teu',\n",
       " 'tua',\n",
       " 'teus',\n",
       " 'tuas',\n",
       " 'nosso',\n",
       " 'nossa',\n",
       " 'nossos',\n",
       " 'nossas',\n",
       " 'dela',\n",
       " 'delas',\n",
       " 'esta',\n",
       " 'estes',\n",
       " 'estas',\n",
       " 'aquele',\n",
       " 'aquela',\n",
       " 'aqueles',\n",
       " 'aquelas',\n",
       " 'isto',\n",
       " 'aquilo',\n",
       " 'estou',\n",
       " 'está',\n",
       " 'estamos',\n",
       " 'estão',\n",
       " 'estive',\n",
       " 'esteve',\n",
       " 'estivemos',\n",
       " 'estiveram',\n",
       " 'estava',\n",
       " 'estávamos',\n",
       " 'estavam',\n",
       " 'estivera',\n",
       " 'estivéramos',\n",
       " 'esteja',\n",
       " 'estejamos',\n",
       " 'estejam',\n",
       " 'estivesse',\n",
       " 'estivéssemos',\n",
       " 'estivessem',\n",
       " 'estiver',\n",
       " 'estivermos',\n",
       " 'estiverem',\n",
       " 'hei',\n",
       " 'há',\n",
       " 'havemos',\n",
       " 'hão',\n",
       " 'houve',\n",
       " 'houvemos',\n",
       " 'houveram',\n",
       " 'houvera',\n",
       " 'houvéramos',\n",
       " 'haja',\n",
       " 'hajamos',\n",
       " 'hajam',\n",
       " 'houvesse',\n",
       " 'houvéssemos',\n",
       " 'houvessem',\n",
       " 'houver',\n",
       " 'houvermos',\n",
       " 'houverem',\n",
       " 'houverei',\n",
       " 'houverá',\n",
       " 'houveremos',\n",
       " 'houverão',\n",
       " 'houveria',\n",
       " 'houveríamos',\n",
       " 'houveriam',\n",
       " 'sou',\n",
       " 'somos',\n",
       " 'são',\n",
       " 'era',\n",
       " 'éramos',\n",
       " 'eram',\n",
       " 'fui',\n",
       " 'foi',\n",
       " 'fomos',\n",
       " 'foram',\n",
       " 'fora',\n",
       " 'fôramos',\n",
       " 'seja',\n",
       " 'sejamos',\n",
       " 'sejam',\n",
       " 'fosse',\n",
       " 'fôssemos',\n",
       " 'fossem',\n",
       " 'for',\n",
       " 'formos',\n",
       " 'forem',\n",
       " 'serei',\n",
       " 'será',\n",
       " 'seremos',\n",
       " 'serão',\n",
       " 'seria',\n",
       " 'seríamos',\n",
       " 'seriam',\n",
       " 'tenho',\n",
       " 'tem',\n",
       " 'temos',\n",
       " 'tém',\n",
       " 'tinha',\n",
       " 'tínhamos',\n",
       " 'tinham',\n",
       " 'tive',\n",
       " 'teve',\n",
       " 'tivemos',\n",
       " 'tiveram',\n",
       " 'tivera',\n",
       " 'tivéramos',\n",
       " 'tenha',\n",
       " 'tenhamos',\n",
       " 'tenham',\n",
       " 'tivesse',\n",
       " 'tivéssemos',\n",
       " 'tivessem',\n",
       " 'tiver',\n",
       " 'tivermos',\n",
       " 'tiverem',\n",
       " 'terei',\n",
       " 'terá',\n",
       " 'teremos',\n",
       " 'terão',\n",
       " 'teria',\n",
       " 'teríamos',\n",
       " 'teriam']"
      ]
     },
     "execution_count": 34,
     "metadata": {},
     "output_type": "execute_result"
    }
   ],
   "source": [
    "STOP_WORDS"
   ]
  },
  {
   "cell_type": "code",
   "execution_count": 35,
   "metadata": {},
   "outputs": [],
   "source": [
    "def tokenize(sentences, stop_word = STOP_WORDS):\n",
    "    tokenized = sentences.tokenize(\"\\\\W+\")\n",
    "    tokenized_lower = tokenized.tolower()\n",
    "    tokenized_filtered = tokenized_lower[(tokenized_lower.nchar() >= 2) | (tokenized_lower.isna()),:]\n",
    "    tokenized_words = tokenized_filtered[tokenized_filtered.grep(\"[0-9]\",invert=True,output_logical=True),:]\n",
    "    tokenized_words = tokenized_words[(tokenized_words.isna()) | (~ tokenized_words.isin(STOP_WORDS)),:]\n",
    "    return tokenized_words"
   ]
  },
  {
   "cell_type": "code",
   "execution_count": 36,
   "metadata": {},
   "outputs": [],
   "source": [
    "#data_req.to_csv(\"data_req.csv\")\n",
    "#data_req = h2o.import_file('data_req.csv', col_types={\"description\" : \"string\"})"
   ]
  },
  {
   "cell_type": "code",
   "execution_count": 37,
   "metadata": {},
   "outputs": [],
   "source": [
    "words = tokenize(data_req[\"description\"])"
   ]
  },
  {
   "cell_type": "code",
   "execution_count": 38,
   "metadata": {},
   "outputs": [
    {
     "data": {
      "text/plain": [
       "1315437"
      ]
     },
     "execution_count": 38,
     "metadata": {},
     "output_type": "execute_result"
    }
   ],
   "source": [
    "len(words)"
   ]
  },
  {
   "cell_type": "code",
   "execution_count": 39,
   "metadata": {},
   "outputs": [
    {
     "name": "stdout",
     "output_type": "stream",
     "text": [
      "word2vec Model Build progress: |██████████████████████████████████████████| 100%\n"
     ]
    }
   ],
   "source": [
    "# Train Word2Vec Model\n",
    "from h2o.estimators.word2vec import H2OWord2vecEstimator\n",
    "\n",
    "w2v_model = H2OWord2vecEstimator(vec_size = 100, model_id = \"w2v.hex\")\n",
    "w2v_model.train(training_frame=words)"
   ]
  },
  {
   "cell_type": "code",
   "execution_count": 40,
   "metadata": {},
   "outputs": [],
   "source": [
    "desc_vecs = w2v_model.transform(words, aggregate_method = \"AVERAGE\")"
   ]
  },
  {
   "cell_type": "code",
   "execution_count": 41,
   "metadata": {},
   "outputs": [
    {
     "data": {
      "text/html": [
       "<table>\n",
       "<thead>\n",
       "<tr><th style=\"text-align: right;\">        C1</th><th style=\"text-align: right;\">          C2</th><th style=\"text-align: right;\">         C3</th><th style=\"text-align: right;\">       C4</th><th style=\"text-align: right;\">         C5</th><th style=\"text-align: right;\">        C6</th><th style=\"text-align: right;\">      C7</th><th style=\"text-align: right;\">        C8</th><th style=\"text-align: right;\">      C9</th><th style=\"text-align: right;\">        C10</th><th style=\"text-align: right;\">      C11</th><th style=\"text-align: right;\">       C12</th><th style=\"text-align: right;\">        C13</th><th style=\"text-align: right;\">      C14</th><th style=\"text-align: right;\">      C15</th><th style=\"text-align: right;\">       C16</th><th style=\"text-align: right;\">      C17</th><th style=\"text-align: right;\">      C18</th><th style=\"text-align: right;\">         C19</th><th style=\"text-align: right;\">     C20</th><th style=\"text-align: right;\">     C21</th><th style=\"text-align: right;\">     C22</th><th style=\"text-align: right;\">       C23</th><th style=\"text-align: right;\">       C24</th><th style=\"text-align: right;\">       C25</th><th style=\"text-align: right;\">        C26</th><th style=\"text-align: right;\">        C27</th><th style=\"text-align: right;\">        C28</th><th style=\"text-align: right;\">     C29</th><th style=\"text-align: right;\">        C30</th><th style=\"text-align: right;\">        C31</th><th style=\"text-align: right;\">        C32</th><th style=\"text-align: right;\">        C33</th><th style=\"text-align: right;\">      C34</th><th style=\"text-align: right;\">       C35</th><th style=\"text-align: right;\">        C36</th><th style=\"text-align: right;\">       C37</th><th style=\"text-align: right;\">        C38</th><th style=\"text-align: right;\">       C39</th><th style=\"text-align: right;\">        C40</th><th style=\"text-align: right;\">        C41</th><th style=\"text-align: right;\">       C42</th><th style=\"text-align: right;\">       C43</th><th style=\"text-align: right;\">      C44</th><th style=\"text-align: right;\">       C45</th><th style=\"text-align: right;\">       C46</th><th style=\"text-align: right;\">       C47</th><th style=\"text-align: right;\">       C48</th><th style=\"text-align: right;\">       C49</th><th style=\"text-align: right;\">      C50</th><th style=\"text-align: right;\">        C51</th><th style=\"text-align: right;\">        C52</th><th style=\"text-align: right;\">       C53</th><th style=\"text-align: right;\">       C54</th><th style=\"text-align: right;\">      C55</th><th style=\"text-align: right;\">      C56</th><th style=\"text-align: right;\">        C57</th><th style=\"text-align: right;\">        C58</th><th style=\"text-align: right;\">       C59</th><th style=\"text-align: right;\">        C60</th><th style=\"text-align: right;\">       C61</th><th style=\"text-align: right;\">        C62</th><th style=\"text-align: right;\">     C63</th><th style=\"text-align: right;\">        C64</th><th style=\"text-align: right;\">       C65</th><th style=\"text-align: right;\">       C66</th><th style=\"text-align: right;\">      C67</th><th style=\"text-align: right;\">      C68</th><th style=\"text-align: right;\">       C69</th><th style=\"text-align: right;\">      C70</th><th style=\"text-align: right;\">      C71</th><th style=\"text-align: right;\">         C72</th><th style=\"text-align: right;\">       C73</th><th style=\"text-align: right;\">       C74</th><th style=\"text-align: right;\">       C75</th><th style=\"text-align: right;\">       C76</th><th style=\"text-align: right;\">        C77</th><th style=\"text-align: right;\">      C78</th><th style=\"text-align: right;\">        C79</th><th style=\"text-align: right;\">      C80</th><th style=\"text-align: right;\">      C81</th><th style=\"text-align: right;\">       C82</th><th style=\"text-align: right;\">       C83</th><th style=\"text-align: right;\">       C84</th><th style=\"text-align: right;\">        C85</th><th style=\"text-align: right;\">        C86</th><th style=\"text-align: right;\">     C87</th><th style=\"text-align: right;\">       C88</th><th style=\"text-align: right;\">       C89</th><th style=\"text-align: right;\">        C90</th><th style=\"text-align: right;\">       C91</th><th style=\"text-align: right;\">        C92</th><th style=\"text-align: right;\">      C93</th><th style=\"text-align: right;\">       C94</th><th style=\"text-align: right;\">       C95</th><th style=\"text-align: right;\">       C96</th><th style=\"text-align: right;\">       C97</th><th style=\"text-align: right;\">       C98</th><th style=\"text-align: right;\">     C99</th><th style=\"text-align: right;\">     C100</th></tr>\n",
       "</thead>\n",
       "<tbody>\n",
       "<tr><td style=\"text-align: right;\"> 0.139998 </td><td style=\"text-align: right;\"> 0.000691045</td><td style=\"text-align: right;\">-0.0491464 </td><td style=\"text-align: right;\">0.0379178</td><td style=\"text-align: right;\"> 0.0982119 </td><td style=\"text-align: right;\">-0.0119767</td><td style=\"text-align: right;\">0.150219</td><td style=\"text-align: right;\">-0.113816 </td><td style=\"text-align: right;\">0.181364</td><td style=\"text-align: right;\">-0.134942  </td><td style=\"text-align: right;\">-0.189849</td><td style=\"text-align: right;\">-0.0253244</td><td style=\"text-align: right;\">-0.0463656 </td><td style=\"text-align: right;\">-0.201267</td><td style=\"text-align: right;\">0.0171903</td><td style=\"text-align: right;\"> 0.0563093</td><td style=\"text-align: right;\">0.0652305</td><td style=\"text-align: right;\">0.156271 </td><td style=\"text-align: right;\">-0.110136   </td><td style=\"text-align: right;\">0.17576 </td><td style=\"text-align: right;\">0.294038</td><td style=\"text-align: right;\">0.228852</td><td style=\"text-align: right;\">-0.108876 </td><td style=\"text-align: right;\">-0.20975  </td><td style=\"text-align: right;\"> 0.0981667</td><td style=\"text-align: right;\"> 0.0695659 </td><td style=\"text-align: right;\">-0.22621   </td><td style=\"text-align: right;\">-0.123984  </td><td style=\"text-align: right;\">0.205024</td><td style=\"text-align: right;\">-0.0472178 </td><td style=\"text-align: right;\"> 0.0427643 </td><td style=\"text-align: right;\"> 0.0711476 </td><td style=\"text-align: right;\">-0.0588633 </td><td style=\"text-align: right;\">0.17115  </td><td style=\"text-align: right;\"> 0.037112 </td><td style=\"text-align: right;\"> 0.00522149</td><td style=\"text-align: right;\">-0.148251 </td><td style=\"text-align: right;\">-0.0702433 </td><td style=\"text-align: right;\">-0.167008 </td><td style=\"text-align: right;\"> 0.0509859 </td><td style=\"text-align: right;\"> 0.159726  </td><td style=\"text-align: right;\">-0.157556 </td><td style=\"text-align: right;\"> 0.0830657</td><td style=\"text-align: right;\">0.216741 </td><td style=\"text-align: right;\"> 0.0771414</td><td style=\"text-align: right;\"> 0.160614 </td><td style=\"text-align: right;\"> 0.103041 </td><td style=\"text-align: right;\">-0.0415005</td><td style=\"text-align: right;\">-0.0309083</td><td style=\"text-align: right;\">0.0889948</td><td style=\"text-align: right;\">-0.0917864 </td><td style=\"text-align: right;\">-0.0350066 </td><td style=\"text-align: right;\"> 0.116223 </td><td style=\"text-align: right;\"> 0.0589391</td><td style=\"text-align: right;\">0.208735 </td><td style=\"text-align: right;\">0.195822 </td><td style=\"text-align: right;\">-0.0375742 </td><td style=\"text-align: right;\"> 0.0168094 </td><td style=\"text-align: right;\">-0.0268091</td><td style=\"text-align: right;\"> 0.00833428</td><td style=\"text-align: right;\">-0.142024 </td><td style=\"text-align: right;\">-0.126208  </td><td style=\"text-align: right;\">0.183567</td><td style=\"text-align: right;\"> 0.0583478 </td><td style=\"text-align: right;\">-0.279774 </td><td style=\"text-align: right;\"> 0.0360001</td><td style=\"text-align: right;\">0.156656 </td><td style=\"text-align: right;\">-0.235814</td><td style=\"text-align: right;\"> 0.127735 </td><td style=\"text-align: right;\">0.0610283</td><td style=\"text-align: right;\">0.0631521</td><td style=\"text-align: right;\"> 0.000376252</td><td style=\"text-align: right;\"> 0.134773 </td><td style=\"text-align: right;\"> 0.0614412</td><td style=\"text-align: right;\"> 0.0852119</td><td style=\"text-align: right;\">-0.0548819</td><td style=\"text-align: right;\"> 0.130759  </td><td style=\"text-align: right;\">0.121538 </td><td style=\"text-align: right;\"> 0.0144063 </td><td style=\"text-align: right;\">0.0967021</td><td style=\"text-align: right;\">0.16523  </td><td style=\"text-align: right;\">-0.0960879</td><td style=\"text-align: right;\">-0.0783091</td><td style=\"text-align: right;\">-0.0332216</td><td style=\"text-align: right;\">-0.0990752 </td><td style=\"text-align: right;\"> 0.0678828 </td><td style=\"text-align: right;\">0.181245</td><td style=\"text-align: right;\">-0.100567 </td><td style=\"text-align: right;\"> 0.030218 </td><td style=\"text-align: right;\"> 0.00391374</td><td style=\"text-align: right;\">-0.0626916</td><td style=\"text-align: right;\"> 0.0499704 </td><td style=\"text-align: right;\">0.210904 </td><td style=\"text-align: right;\">-0.0308058</td><td style=\"text-align: right;\">-0.0826799</td><td style=\"text-align: right;\">-0.128646 </td><td style=\"text-align: right;\"> 0.0383434</td><td style=\"text-align: right;\">-0.0394999</td><td style=\"text-align: right;\">0.14057 </td><td style=\"text-align: right;\">0.100666 </td></tr>\n",
       "<tr><td style=\"text-align: right;\"> 0.0717736</td><td style=\"text-align: right;\"> 0.0382726  </td><td style=\"text-align: right;\">-0.0792379 </td><td style=\"text-align: right;\">0.0501264</td><td style=\"text-align: right;\"> 0.0266728 </td><td style=\"text-align: right;\">-0.0475086</td><td style=\"text-align: right;\">0.155835</td><td style=\"text-align: right;\">-0.0850173</td><td style=\"text-align: right;\">0.139623</td><td style=\"text-align: right;\">-0.154826  </td><td style=\"text-align: right;\">-0.173838</td><td style=\"text-align: right;\">-0.0927986</td><td style=\"text-align: right;\">-0.0501766 </td><td style=\"text-align: right;\">-0.184615</td><td style=\"text-align: right;\">0.0195858</td><td style=\"text-align: right;\"> 0.110958 </td><td style=\"text-align: right;\">0.0642669</td><td style=\"text-align: right;\">0.0836327</td><td style=\"text-align: right;\">-0.00943096 </td><td style=\"text-align: right;\">0.220057</td><td style=\"text-align: right;\">0.240902</td><td style=\"text-align: right;\">0.208649</td><td style=\"text-align: right;\"> 0.0261465</td><td style=\"text-align: right;\">-0.193877 </td><td style=\"text-align: right;\"> 0.094386 </td><td style=\"text-align: right;\"> 0.0495177 </td><td style=\"text-align: right;\">-0.294353  </td><td style=\"text-align: right;\">-0.20664   </td><td style=\"text-align: right;\">0.23999 </td><td style=\"text-align: right;\">-0.0633759 </td><td style=\"text-align: right;\">-0.0491251 </td><td style=\"text-align: right;\">-0.00757558</td><td style=\"text-align: right;\">-0.00511672</td><td style=\"text-align: right;\">0.163649 </td><td style=\"text-align: right;\"> 0.02276  </td><td style=\"text-align: right;\">-0.0278419 </td><td style=\"text-align: right;\">-0.0764667</td><td style=\"text-align: right;\">-0.0385707 </td><td style=\"text-align: right;\">-0.135665 </td><td style=\"text-align: right;\">-0.0109953 </td><td style=\"text-align: right;\"> 0.114848  </td><td style=\"text-align: right;\">-0.144312 </td><td style=\"text-align: right;\"> 0.086234 </td><td style=\"text-align: right;\">0.166613 </td><td style=\"text-align: right;\"> 0.104492 </td><td style=\"text-align: right;\"> 0.114438 </td><td style=\"text-align: right;\"> 0.0988074</td><td style=\"text-align: right;\"> 0.0044508</td><td style=\"text-align: right;\"> 0.0087569</td><td style=\"text-align: right;\">0.183821 </td><td style=\"text-align: right;\">-0.0823803 </td><td style=\"text-align: right;\"> 0.00142944</td><td style=\"text-align: right;\"> 0.0403596</td><td style=\"text-align: right;\">-0.119777 </td><td style=\"text-align: right;\">0.344363 </td><td style=\"text-align: right;\">0.313451 </td><td style=\"text-align: right;\">-0.0267969 </td><td style=\"text-align: right;\">-0.00944055</td><td style=\"text-align: right;\">-0.174443 </td><td style=\"text-align: right;\">-0.00248868</td><td style=\"text-align: right;\">-0.122746 </td><td style=\"text-align: right;\">-0.0179045 </td><td style=\"text-align: right;\">0.192064</td><td style=\"text-align: right;\">-0.0521317 </td><td style=\"text-align: right;\">-0.188543 </td><td style=\"text-align: right;\"> 0.100097 </td><td style=\"text-align: right;\">0.0956454</td><td style=\"text-align: right;\">-0.25924 </td><td style=\"text-align: right;\"> 0.0920568</td><td style=\"text-align: right;\">0.122786 </td><td style=\"text-align: right;\">0.0667858</td><td style=\"text-align: right;\">-0.0187939  </td><td style=\"text-align: right;\"> 0.0687011</td><td style=\"text-align: right;\"> 0.0751112</td><td style=\"text-align: right;\"> 0.166433 </td><td style=\"text-align: right;\">-0.0346621</td><td style=\"text-align: right;\"> 0.117679  </td><td style=\"text-align: right;\">0.223648 </td><td style=\"text-align: right;\">-0.0183756 </td><td style=\"text-align: right;\">0.228969 </td><td style=\"text-align: right;\">0.321981 </td><td style=\"text-align: right;\">-0.169157 </td><td style=\"text-align: right;\">-0.162535 </td><td style=\"text-align: right;\">-0.0466947</td><td style=\"text-align: right;\">-0.00173061</td><td style=\"text-align: right;\"> 0.00326531</td><td style=\"text-align: right;\">0.212929</td><td style=\"text-align: right;\">-0.0131584</td><td style=\"text-align: right;\"> 0.0106717</td><td style=\"text-align: right;\"> 0.0408095 </td><td style=\"text-align: right;\">-0.120545 </td><td style=\"text-align: right;\">-0.0587641 </td><td style=\"text-align: right;\">0.235449 </td><td style=\"text-align: right;\">-0.0685492</td><td style=\"text-align: right;\">-0.0783408</td><td style=\"text-align: right;\">-0.248308 </td><td style=\"text-align: right;\"> 0.027472 </td><td style=\"text-align: right;\"> 0.0433891</td><td style=\"text-align: right;\">0.227153</td><td style=\"text-align: right;\">0.160448 </td></tr>\n",
       "<tr><td style=\"text-align: right;\"> 0.166592 </td><td style=\"text-align: right;\"> 0.0145982  </td><td style=\"text-align: right;\"> 0.00244484</td><td style=\"text-align: right;\">0.0348304</td><td style=\"text-align: right;\"> 0.00874568</td><td style=\"text-align: right;\">-0.0406358</td><td style=\"text-align: right;\">0.141955</td><td style=\"text-align: right;\">-0.154899 </td><td style=\"text-align: right;\">0.229024</td><td style=\"text-align: right;\">-0.164717  </td><td style=\"text-align: right;\">-0.189965</td><td style=\"text-align: right;\">-0.0313712</td><td style=\"text-align: right;\">-0.10759   </td><td style=\"text-align: right;\">-0.227861</td><td style=\"text-align: right;\">0.0325867</td><td style=\"text-align: right;\"> 0.148558 </td><td style=\"text-align: right;\">0.0244541</td><td style=\"text-align: right;\">0.155027 </td><td style=\"text-align: right;\">-0.000947512</td><td style=\"text-align: right;\">0.278933</td><td style=\"text-align: right;\">0.21164 </td><td style=\"text-align: right;\">0.237815</td><td style=\"text-align: right;\"> 0.0492763</td><td style=\"text-align: right;\">-0.180598 </td><td style=\"text-align: right;\"> 0.143987 </td><td style=\"text-align: right;\"> 0.0274608 </td><td style=\"text-align: right;\">-0.225059  </td><td style=\"text-align: right;\">-0.150629  </td><td style=\"text-align: right;\">0.254321</td><td style=\"text-align: right;\">-0.0655709 </td><td style=\"text-align: right;\">-0.120654  </td><td style=\"text-align: right;\"> 0.0454917 </td><td style=\"text-align: right;\">-0.0697209 </td><td style=\"text-align: right;\">0.0630584</td><td style=\"text-align: right;\">-0.0326945</td><td style=\"text-align: right;\">-0.0232144 </td><td style=\"text-align: right;\">-0.106653 </td><td style=\"text-align: right;\">-0.104199  </td><td style=\"text-align: right;\">-0.0922513</td><td style=\"text-align: right;\">-0.00292295</td><td style=\"text-align: right;\"> 0.138199  </td><td style=\"text-align: right;\">-0.0882707</td><td style=\"text-align: right;\"> 0.0644832</td><td style=\"text-align: right;\">0.223688 </td><td style=\"text-align: right;\"> 0.0751449</td><td style=\"text-align: right;\"> 0.216632 </td><td style=\"text-align: right;\"> 0.0795953</td><td style=\"text-align: right;\">-0.0517147</td><td style=\"text-align: right;\"> 0.0151923</td><td style=\"text-align: right;\">0.218477 </td><td style=\"text-align: right;\">-0.015657  </td><td style=\"text-align: right;\"> 0.0243126 </td><td style=\"text-align: right;\">-0.0100377</td><td style=\"text-align: right;\">-0.0816078</td><td style=\"text-align: right;\">0.315943 </td><td style=\"text-align: right;\">0.32238  </td><td style=\"text-align: right;\">-0.0562617 </td><td style=\"text-align: right;\">-0.0360751 </td><td style=\"text-align: right;\">-0.176614 </td><td style=\"text-align: right;\">-0.0480828 </td><td style=\"text-align: right;\">-0.0655356</td><td style=\"text-align: right;\">-0.00773297</td><td style=\"text-align: right;\">0.213546</td><td style=\"text-align: right;\">-0.029301  </td><td style=\"text-align: right;\">-0.208402 </td><td style=\"text-align: right;\"> 0.158648 </td><td style=\"text-align: right;\">0.117514 </td><td style=\"text-align: right;\">-0.292585</td><td style=\"text-align: right;\"> 0.0815183</td><td style=\"text-align: right;\">0.13979  </td><td style=\"text-align: right;\">0.0848363</td><td style=\"text-align: right;\">-0.142458   </td><td style=\"text-align: right;\">-0.0198815</td><td style=\"text-align: right;\"> 0.0289264</td><td style=\"text-align: right;\"> 0.173803 </td><td style=\"text-align: right;\">-0.0501385</td><td style=\"text-align: right;\"> 0.133956  </td><td style=\"text-align: right;\">0.106315 </td><td style=\"text-align: right;\">-0.00388909</td><td style=\"text-align: right;\">0.212675 </td><td style=\"text-align: right;\">0.298751 </td><td style=\"text-align: right;\">-0.0978057</td><td style=\"text-align: right;\">-0.118306 </td><td style=\"text-align: right;\">-0.0232461</td><td style=\"text-align: right;\">-0.0354395 </td><td style=\"text-align: right;\"> 0.0731733 </td><td style=\"text-align: right;\">0.203739</td><td style=\"text-align: right;\">-0.0289122</td><td style=\"text-align: right;\">-0.0458825</td><td style=\"text-align: right;\"> 0.0629615 </td><td style=\"text-align: right;\">-0.081968 </td><td style=\"text-align: right;\">-0.051617  </td><td style=\"text-align: right;\">0.232268 </td><td style=\"text-align: right;\">-0.107044 </td><td style=\"text-align: right;\">-0.120874 </td><td style=\"text-align: right;\">-0.326087 </td><td style=\"text-align: right;\"> 0.053543 </td><td style=\"text-align: right;\"> 0.0517312</td><td style=\"text-align: right;\">0.159746</td><td style=\"text-align: right;\">0.193518 </td></tr>\n",
       "<tr><td style=\"text-align: right;\"> 0.164553 </td><td style=\"text-align: right;\"> 0.0636305  </td><td style=\"text-align: right;\">-0.106696  </td><td style=\"text-align: right;\">0.160395 </td><td style=\"text-align: right;\">-0.0527074 </td><td style=\"text-align: right;\">-0.0153075</td><td style=\"text-align: right;\">0.296032</td><td style=\"text-align: right;\">-0.0659167</td><td style=\"text-align: right;\">0.161613</td><td style=\"text-align: right;\">-0.044717  </td><td style=\"text-align: right;\">-0.299798</td><td style=\"text-align: right;\"> 0.128049 </td><td style=\"text-align: right;\">-0.032904  </td><td style=\"text-align: right;\">-0.223746</td><td style=\"text-align: right;\">0.113677 </td><td style=\"text-align: right;\">-0.130026 </td><td style=\"text-align: right;\">0.0782103</td><td style=\"text-align: right;\">0.217579 </td><td style=\"text-align: right;\">-0.00788183 </td><td style=\"text-align: right;\">0.300277</td><td style=\"text-align: right;\">0.186362</td><td style=\"text-align: right;\">0.29225 </td><td style=\"text-align: right;\">-0.106524 </td><td style=\"text-align: right;\">-0.128272 </td><td style=\"text-align: right;\"> 0.0537111</td><td style=\"text-align: right;\">-0.00122407</td><td style=\"text-align: right;\">-0.338664  </td><td style=\"text-align: right;\">-0.0691001 </td><td style=\"text-align: right;\">0.238892</td><td style=\"text-align: right;\">-0.00357088</td><td style=\"text-align: right;\">-0.0277386 </td><td style=\"text-align: right;\"> 0.066082  </td><td style=\"text-align: right;\"> 0.166845  </td><td style=\"text-align: right;\">0.195123 </td><td style=\"text-align: right;\">-0.0094931</td><td style=\"text-align: right;\">-0.0627819 </td><td style=\"text-align: right;\">-0.0649944</td><td style=\"text-align: right;\"> 0.0155394 </td><td style=\"text-align: right;\">-0.0592155</td><td style=\"text-align: right;\"> 0.0355332 </td><td style=\"text-align: right;\"> 0.0832891 </td><td style=\"text-align: right;\">-0.0413768</td><td style=\"text-align: right;\"> 0.145728 </td><td style=\"text-align: right;\">0.0569987</td><td style=\"text-align: right;\"> 0.20448  </td><td style=\"text-align: right;\"> 0.0308104</td><td style=\"text-align: right;\">-0.0323041</td><td style=\"text-align: right;\">-0.0726731</td><td style=\"text-align: right;\">-0.245813 </td><td style=\"text-align: right;\">0.0739015</td><td style=\"text-align: right;\">-0.105854  </td><td style=\"text-align: right;\">-0.00146312</td><td style=\"text-align: right;\"> 0.365505 </td><td style=\"text-align: right;\">-0.0174056</td><td style=\"text-align: right;\">0.214213 </td><td style=\"text-align: right;\">0.0561485</td><td style=\"text-align: right;\"> 0.0962618 </td><td style=\"text-align: right;\"> 0.0251369 </td><td style=\"text-align: right;\"> 0.180336 </td><td style=\"text-align: right;\">-0.0793757 </td><td style=\"text-align: right;\"> 0.0207398</td><td style=\"text-align: right;\">-0.27717   </td><td style=\"text-align: right;\">0.241898</td><td style=\"text-align: right;\">-0.290239  </td><td style=\"text-align: right;\">-0.108478 </td><td style=\"text-align: right;\">-0.027174 </td><td style=\"text-align: right;\">0.139513 </td><td style=\"text-align: right;\">-0.262089</td><td style=\"text-align: right;\"> 0.17409  </td><td style=\"text-align: right;\">0.101703 </td><td style=\"text-align: right;\">0.14195  </td><td style=\"text-align: right;\">-0.10082    </td><td style=\"text-align: right;\"> 0.131383 </td><td style=\"text-align: right;\">-0.0280888</td><td style=\"text-align: right;\"> 0.0445877</td><td style=\"text-align: right;\">-0.0469178</td><td style=\"text-align: right;\">-0.0257653 </td><td style=\"text-align: right;\">0.141195 </td><td style=\"text-align: right;\">-0.162234  </td><td style=\"text-align: right;\">0.166511 </td><td style=\"text-align: right;\">0.032221 </td><td style=\"text-align: right;\">-0.15532  </td><td style=\"text-align: right;\">-0.0201031</td><td style=\"text-align: right;\">-0.0289069</td><td style=\"text-align: right;\">-0.0515454 </td><td style=\"text-align: right;\"> 0.0983119 </td><td style=\"text-align: right;\">0.192092</td><td style=\"text-align: right;\">-0.279138 </td><td style=\"text-align: right;\"> 0.078503 </td><td style=\"text-align: right;\"> 0.0854549 </td><td style=\"text-align: right;\"> 0.0440948</td><td style=\"text-align: right;\">-0.0487315 </td><td style=\"text-align: right;\">0.185592 </td><td style=\"text-align: right;\">-0.0155719</td><td style=\"text-align: right;\">-0.211645 </td><td style=\"text-align: right;\"> 0.0214   </td><td style=\"text-align: right;\">-0.155163 </td><td style=\"text-align: right;\"> 0.0560021</td><td style=\"text-align: right;\">0.191725</td><td style=\"text-align: right;\">0.0450417</td></tr>\n",
       "<tr><td style=\"text-align: right;\"> 0.164553 </td><td style=\"text-align: right;\"> 0.0636305  </td><td style=\"text-align: right;\">-0.106696  </td><td style=\"text-align: right;\">0.160395 </td><td style=\"text-align: right;\">-0.0527074 </td><td style=\"text-align: right;\">-0.0153075</td><td style=\"text-align: right;\">0.296032</td><td style=\"text-align: right;\">-0.0659167</td><td style=\"text-align: right;\">0.161613</td><td style=\"text-align: right;\">-0.044717  </td><td style=\"text-align: right;\">-0.299798</td><td style=\"text-align: right;\"> 0.128049 </td><td style=\"text-align: right;\">-0.032904  </td><td style=\"text-align: right;\">-0.223746</td><td style=\"text-align: right;\">0.113677 </td><td style=\"text-align: right;\">-0.130026 </td><td style=\"text-align: right;\">0.0782103</td><td style=\"text-align: right;\">0.217579 </td><td style=\"text-align: right;\">-0.00788183 </td><td style=\"text-align: right;\">0.300277</td><td style=\"text-align: right;\">0.186362</td><td style=\"text-align: right;\">0.29225 </td><td style=\"text-align: right;\">-0.106524 </td><td style=\"text-align: right;\">-0.128272 </td><td style=\"text-align: right;\"> 0.0537111</td><td style=\"text-align: right;\">-0.00122407</td><td style=\"text-align: right;\">-0.338664  </td><td style=\"text-align: right;\">-0.0691001 </td><td style=\"text-align: right;\">0.238892</td><td style=\"text-align: right;\">-0.00357088</td><td style=\"text-align: right;\">-0.0277386 </td><td style=\"text-align: right;\"> 0.066082  </td><td style=\"text-align: right;\"> 0.166845  </td><td style=\"text-align: right;\">0.195123 </td><td style=\"text-align: right;\">-0.0094931</td><td style=\"text-align: right;\">-0.0627819 </td><td style=\"text-align: right;\">-0.0649944</td><td style=\"text-align: right;\"> 0.0155394 </td><td style=\"text-align: right;\">-0.0592155</td><td style=\"text-align: right;\"> 0.0355332 </td><td style=\"text-align: right;\"> 0.0832891 </td><td style=\"text-align: right;\">-0.0413768</td><td style=\"text-align: right;\"> 0.145728 </td><td style=\"text-align: right;\">0.0569987</td><td style=\"text-align: right;\"> 0.20448  </td><td style=\"text-align: right;\"> 0.0308104</td><td style=\"text-align: right;\">-0.0323041</td><td style=\"text-align: right;\">-0.0726731</td><td style=\"text-align: right;\">-0.245813 </td><td style=\"text-align: right;\">0.0739015</td><td style=\"text-align: right;\">-0.105854  </td><td style=\"text-align: right;\">-0.00146312</td><td style=\"text-align: right;\"> 0.365505 </td><td style=\"text-align: right;\">-0.0174056</td><td style=\"text-align: right;\">0.214213 </td><td style=\"text-align: right;\">0.0561485</td><td style=\"text-align: right;\"> 0.0962618 </td><td style=\"text-align: right;\"> 0.0251369 </td><td style=\"text-align: right;\"> 0.180336 </td><td style=\"text-align: right;\">-0.0793757 </td><td style=\"text-align: right;\"> 0.0207398</td><td style=\"text-align: right;\">-0.27717   </td><td style=\"text-align: right;\">0.241898</td><td style=\"text-align: right;\">-0.290239  </td><td style=\"text-align: right;\">-0.108478 </td><td style=\"text-align: right;\">-0.027174 </td><td style=\"text-align: right;\">0.139513 </td><td style=\"text-align: right;\">-0.262089</td><td style=\"text-align: right;\"> 0.17409  </td><td style=\"text-align: right;\">0.101703 </td><td style=\"text-align: right;\">0.14195  </td><td style=\"text-align: right;\">-0.10082    </td><td style=\"text-align: right;\"> 0.131383 </td><td style=\"text-align: right;\">-0.0280888</td><td style=\"text-align: right;\"> 0.0445877</td><td style=\"text-align: right;\">-0.0469178</td><td style=\"text-align: right;\">-0.0257653 </td><td style=\"text-align: right;\">0.141195 </td><td style=\"text-align: right;\">-0.162234  </td><td style=\"text-align: right;\">0.166511 </td><td style=\"text-align: right;\">0.032221 </td><td style=\"text-align: right;\">-0.15532  </td><td style=\"text-align: right;\">-0.0201031</td><td style=\"text-align: right;\">-0.0289069</td><td style=\"text-align: right;\">-0.0515454 </td><td style=\"text-align: right;\"> 0.0983119 </td><td style=\"text-align: right;\">0.192092</td><td style=\"text-align: right;\">-0.279138 </td><td style=\"text-align: right;\"> 0.078503 </td><td style=\"text-align: right;\"> 0.0854549 </td><td style=\"text-align: right;\"> 0.0440948</td><td style=\"text-align: right;\">-0.0487315 </td><td style=\"text-align: right;\">0.185592 </td><td style=\"text-align: right;\">-0.0155719</td><td style=\"text-align: right;\">-0.211645 </td><td style=\"text-align: right;\"> 0.0214   </td><td style=\"text-align: right;\">-0.155163 </td><td style=\"text-align: right;\"> 0.0560021</td><td style=\"text-align: right;\">0.191725</td><td style=\"text-align: right;\">0.0450417</td></tr>\n",
       "<tr><td style=\"text-align: right;\">-0.0151364</td><td style=\"text-align: right;\">-0.0159446  </td><td style=\"text-align: right;\"> 0.0189069 </td><td style=\"text-align: right;\">0.155075 </td><td style=\"text-align: right;\"> 0.037568  </td><td style=\"text-align: right;\">-0.0172806</td><td style=\"text-align: right;\">0.169487</td><td style=\"text-align: right;\"> 0.0161058</td><td style=\"text-align: right;\">0.199034</td><td style=\"text-align: right;\">-0.00510732</td><td style=\"text-align: right;\">-0.225447</td><td style=\"text-align: right;\"> 0.0308464</td><td style=\"text-align: right;\"> 0.00934483</td><td style=\"text-align: right;\">-0.12452 </td><td style=\"text-align: right;\">0.0392957</td><td style=\"text-align: right;\">-0.0296324</td><td style=\"text-align: right;\">0.0553636</td><td style=\"text-align: right;\">0.031557 </td><td style=\"text-align: right;\">-0.0458724  </td><td style=\"text-align: right;\">0.325008</td><td style=\"text-align: right;\">0.195511</td><td style=\"text-align: right;\">0.102657</td><td style=\"text-align: right;\">-0.0318708</td><td style=\"text-align: right;\">-0.0922003</td><td style=\"text-align: right;\"> 0.0129518</td><td style=\"text-align: right;\"> 0.0800786 </td><td style=\"text-align: right;\">-0.109695  </td><td style=\"text-align: right;\">-0.0845216 </td><td style=\"text-align: right;\">0.127947</td><td style=\"text-align: right;\"> 0.0200502 </td><td style=\"text-align: right;\">-0.01855   </td><td style=\"text-align: right;\"> 0.124191  </td><td style=\"text-align: right;\"> 0.0907933 </td><td style=\"text-align: right;\">0.0981006</td><td style=\"text-align: right;\"> 0.0923825</td><td style=\"text-align: right;\"> 0.109878  </td><td style=\"text-align: right;\">-0.144388 </td><td style=\"text-align: right;\">-0.122474  </td><td style=\"text-align: right;\">-0.27187  </td><td style=\"text-align: right;\"> 0.0739948 </td><td style=\"text-align: right;\"> 0.0754727 </td><td style=\"text-align: right;\">-0.0628534</td><td style=\"text-align: right;\">-0.0127996</td><td style=\"text-align: right;\">0.169094 </td><td style=\"text-align: right;\"> 0.110242 </td><td style=\"text-align: right;\"> 0.146769 </td><td style=\"text-align: right;\"> 0.0616475</td><td style=\"text-align: right;\">-0.0207373</td><td style=\"text-align: right;\">-0.0524028</td><td style=\"text-align: right;\">0.0721698</td><td style=\"text-align: right;\"> 0.00455452</td><td style=\"text-align: right;\">-0.177638  </td><td style=\"text-align: right;\"> 0.109485 </td><td style=\"text-align: right;\">-0.014832 </td><td style=\"text-align: right;\">0.0914668</td><td style=\"text-align: right;\">0.175109 </td><td style=\"text-align: right;\">-0.0772029 </td><td style=\"text-align: right;\"> 0.00447609</td><td style=\"text-align: right;\">-0.0305187</td><td style=\"text-align: right;\"> 0.0152113 </td><td style=\"text-align: right;\">-0.0335674</td><td style=\"text-align: right;\"> 0.0177925 </td><td style=\"text-align: right;\">0.170942</td><td style=\"text-align: right;\">-0.00891488</td><td style=\"text-align: right;\">-0.290453 </td><td style=\"text-align: right;\">-0.0191559</td><td style=\"text-align: right;\">0.0837651</td><td style=\"text-align: right;\">-0.111297</td><td style=\"text-align: right;\"> 0.0321027</td><td style=\"text-align: right;\">0.161903 </td><td style=\"text-align: right;\">0.0860323</td><td style=\"text-align: right;\">-0.174291   </td><td style=\"text-align: right;\"> 0.0909447</td><td style=\"text-align: right;\"> 0.137523 </td><td style=\"text-align: right;\"> 0.194554 </td><td style=\"text-align: right;\">-0.144121 </td><td style=\"text-align: right;\"> 0.0388115 </td><td style=\"text-align: right;\">0.0344248</td><td style=\"text-align: right;\">-0.0433588 </td><td style=\"text-align: right;\">0.113543 </td><td style=\"text-align: right;\">0.15623  </td><td style=\"text-align: right;\">-0.107036 </td><td style=\"text-align: right;\">-0.0775488</td><td style=\"text-align: right;\"> 0.103766 </td><td style=\"text-align: right;\">-0.189737  </td><td style=\"text-align: right;\">-0.00237812</td><td style=\"text-align: right;\">0.286787</td><td style=\"text-align: right;\">-0.0830609</td><td style=\"text-align: right;\">-0.0503377</td><td style=\"text-align: right;\"> 0.0454638 </td><td style=\"text-align: right;\">-0.090433 </td><td style=\"text-align: right;\">-0.010988  </td><td style=\"text-align: right;\">0.145153 </td><td style=\"text-align: right;\">-0.113726 </td><td style=\"text-align: right;\"> 0.0341416</td><td style=\"text-align: right;\">-0.10477  </td><td style=\"text-align: right;\"> 0.0469626</td><td style=\"text-align: right;\">-0.0950376</td><td style=\"text-align: right;\">0.198908</td><td style=\"text-align: right;\">0.079466 </td></tr>\n",
       "<tr><td style=\"text-align: right;\"> 0.0438832</td><td style=\"text-align: right;\"> 0.199526   </td><td style=\"text-align: right;\"> 0.0265242 </td><td style=\"text-align: right;\">0.281897 </td><td style=\"text-align: right;\">-0.0450754 </td><td style=\"text-align: right;\">-0.0414111</td><td style=\"text-align: right;\">0.273714</td><td style=\"text-align: right;\">-0.0497331</td><td style=\"text-align: right;\">0.136324</td><td style=\"text-align: right;\">-0.0909251 </td><td style=\"text-align: right;\">-0.193973</td><td style=\"text-align: right;\">-0.0128029</td><td style=\"text-align: right;\">-0.0119376 </td><td style=\"text-align: right;\">-0.259873</td><td style=\"text-align: right;\">0.164272 </td><td style=\"text-align: right;\">-0.0688025</td><td style=\"text-align: right;\">0.0957734</td><td style=\"text-align: right;\">0.195285 </td><td style=\"text-align: right;\"> 0.0407991  </td><td style=\"text-align: right;\">0.177405</td><td style=\"text-align: right;\">0.264849</td><td style=\"text-align: right;\">0.240893</td><td style=\"text-align: right;\">-0.0276634</td><td style=\"text-align: right;\">-0.122465 </td><td style=\"text-align: right;\"> 0.0144941</td><td style=\"text-align: right;\">-0.053282  </td><td style=\"text-align: right;\">-0.264254  </td><td style=\"text-align: right;\">-0.0897176 </td><td style=\"text-align: right;\">0.161728</td><td style=\"text-align: right;\"> 0.0101699 </td><td style=\"text-align: right;\">-0.00914484</td><td style=\"text-align: right;\"> 0.0472033 </td><td style=\"text-align: right;\"> 0.0051605 </td><td style=\"text-align: right;\">0.185926 </td><td style=\"text-align: right;\"> 0.0382696</td><td style=\"text-align: right;\"> 0.0558272 </td><td style=\"text-align: right;\">-0.168662 </td><td style=\"text-align: right;\">-0.00314391</td><td style=\"text-align: right;\">-0.0225423</td><td style=\"text-align: right;\">-0.0170396 </td><td style=\"text-align: right;\"> 0.00953772</td><td style=\"text-align: right;\">-0.146229 </td><td style=\"text-align: right;\"> 0.06176  </td><td style=\"text-align: right;\">0.10834  </td><td style=\"text-align: right;\"> 0.135455 </td><td style=\"text-align: right;\"> 0.033139 </td><td style=\"text-align: right;\">-0.0657369</td><td style=\"text-align: right;\"> 0.0132639</td><td style=\"text-align: right;\">-0.177981 </td><td style=\"text-align: right;\">0.195513 </td><td style=\"text-align: right;\">-0.149216  </td><td style=\"text-align: right;\">-0.110332  </td><td style=\"text-align: right;\"> 0.154928 </td><td style=\"text-align: right;\">-0.0950084</td><td style=\"text-align: right;\">0.317885 </td><td style=\"text-align: right;\">0.166544 </td><td style=\"text-align: right;\"> 0.00304987</td><td style=\"text-align: right;\"> 0.0154411 </td><td style=\"text-align: right;\"> 0.0988262</td><td style=\"text-align: right;\">-0.0284185 </td><td style=\"text-align: right;\">-0.0608001</td><td style=\"text-align: right;\">-0.135382  </td><td style=\"text-align: right;\">0.333969</td><td style=\"text-align: right;\">-0.094315  </td><td style=\"text-align: right;\">-0.0987231</td><td style=\"text-align: right;\">-0.0356207</td><td style=\"text-align: right;\">0.0486801</td><td style=\"text-align: right;\">-0.275209</td><td style=\"text-align: right;\">-0.0427981</td><td style=\"text-align: right;\">0.108765 </td><td style=\"text-align: right;\">0.244371 </td><td style=\"text-align: right;\">-0.170126   </td><td style=\"text-align: right;\"> 0.0805333</td><td style=\"text-align: right;\"> 0.0777325</td><td style=\"text-align: right;\"> 0.0764007</td><td style=\"text-align: right;\">-0.124882 </td><td style=\"text-align: right;\">-0.00316638</td><td style=\"text-align: right;\">0.200719 </td><td style=\"text-align: right;\">-0.0707239 </td><td style=\"text-align: right;\">0.101931 </td><td style=\"text-align: right;\">0.171638 </td><td style=\"text-align: right;\">-0.12595  </td><td style=\"text-align: right;\">-0.134749 </td><td style=\"text-align: right;\"> 0.123802 </td><td style=\"text-align: right;\">-0.00677403</td><td style=\"text-align: right;\"> 0.0696899 </td><td style=\"text-align: right;\">0.298019</td><td style=\"text-align: right;\">-0.17682  </td><td style=\"text-align: right;\">-0.0556959</td><td style=\"text-align: right;\"> 0.0632771 </td><td style=\"text-align: right;\">-0.0137159</td><td style=\"text-align: right;\"> 0.00583449</td><td style=\"text-align: right;\">0.101116 </td><td style=\"text-align: right;\">-0.145845 </td><td style=\"text-align: right;\">-0.0630926</td><td style=\"text-align: right;\">-0.0815949</td><td style=\"text-align: right;\">-0.135965 </td><td style=\"text-align: right;\"> 0.0357556</td><td style=\"text-align: right;\">0.166875</td><td style=\"text-align: right;\">0.0479211</td></tr>\n",
       "<tr><td style=\"text-align: right;\"> 0.0438832</td><td style=\"text-align: right;\"> 0.199526   </td><td style=\"text-align: right;\"> 0.0265242 </td><td style=\"text-align: right;\">0.281897 </td><td style=\"text-align: right;\">-0.0450754 </td><td style=\"text-align: right;\">-0.0414111</td><td style=\"text-align: right;\">0.273714</td><td style=\"text-align: right;\">-0.0497331</td><td style=\"text-align: right;\">0.136324</td><td style=\"text-align: right;\">-0.0909251 </td><td style=\"text-align: right;\">-0.193973</td><td style=\"text-align: right;\">-0.0128029</td><td style=\"text-align: right;\">-0.0119376 </td><td style=\"text-align: right;\">-0.259873</td><td style=\"text-align: right;\">0.164272 </td><td style=\"text-align: right;\">-0.0688025</td><td style=\"text-align: right;\">0.0957734</td><td style=\"text-align: right;\">0.195285 </td><td style=\"text-align: right;\"> 0.0407991  </td><td style=\"text-align: right;\">0.177405</td><td style=\"text-align: right;\">0.264849</td><td style=\"text-align: right;\">0.240893</td><td style=\"text-align: right;\">-0.0276634</td><td style=\"text-align: right;\">-0.122465 </td><td style=\"text-align: right;\"> 0.0144941</td><td style=\"text-align: right;\">-0.053282  </td><td style=\"text-align: right;\">-0.264254  </td><td style=\"text-align: right;\">-0.0897176 </td><td style=\"text-align: right;\">0.161728</td><td style=\"text-align: right;\"> 0.0101699 </td><td style=\"text-align: right;\">-0.00914484</td><td style=\"text-align: right;\"> 0.0472033 </td><td style=\"text-align: right;\"> 0.0051605 </td><td style=\"text-align: right;\">0.185926 </td><td style=\"text-align: right;\"> 0.0382696</td><td style=\"text-align: right;\"> 0.0558272 </td><td style=\"text-align: right;\">-0.168662 </td><td style=\"text-align: right;\">-0.00314391</td><td style=\"text-align: right;\">-0.0225423</td><td style=\"text-align: right;\">-0.0170396 </td><td style=\"text-align: right;\"> 0.00953772</td><td style=\"text-align: right;\">-0.146229 </td><td style=\"text-align: right;\"> 0.06176  </td><td style=\"text-align: right;\">0.10834  </td><td style=\"text-align: right;\"> 0.135455 </td><td style=\"text-align: right;\"> 0.033139 </td><td style=\"text-align: right;\">-0.0657369</td><td style=\"text-align: right;\"> 0.0132639</td><td style=\"text-align: right;\">-0.177981 </td><td style=\"text-align: right;\">0.195513 </td><td style=\"text-align: right;\">-0.149216  </td><td style=\"text-align: right;\">-0.110332  </td><td style=\"text-align: right;\"> 0.154928 </td><td style=\"text-align: right;\">-0.0950084</td><td style=\"text-align: right;\">0.317885 </td><td style=\"text-align: right;\">0.166544 </td><td style=\"text-align: right;\"> 0.00304987</td><td style=\"text-align: right;\"> 0.0154411 </td><td style=\"text-align: right;\"> 0.0988262</td><td style=\"text-align: right;\">-0.0284185 </td><td style=\"text-align: right;\">-0.0608001</td><td style=\"text-align: right;\">-0.135382  </td><td style=\"text-align: right;\">0.333969</td><td style=\"text-align: right;\">-0.094315  </td><td style=\"text-align: right;\">-0.0987231</td><td style=\"text-align: right;\">-0.0356207</td><td style=\"text-align: right;\">0.0486801</td><td style=\"text-align: right;\">-0.275209</td><td style=\"text-align: right;\">-0.0427981</td><td style=\"text-align: right;\">0.108765 </td><td style=\"text-align: right;\">0.244371 </td><td style=\"text-align: right;\">-0.170126   </td><td style=\"text-align: right;\"> 0.0805333</td><td style=\"text-align: right;\"> 0.0777325</td><td style=\"text-align: right;\"> 0.0764007</td><td style=\"text-align: right;\">-0.124882 </td><td style=\"text-align: right;\">-0.00316638</td><td style=\"text-align: right;\">0.200719 </td><td style=\"text-align: right;\">-0.0707239 </td><td style=\"text-align: right;\">0.101931 </td><td style=\"text-align: right;\">0.171638 </td><td style=\"text-align: right;\">-0.12595  </td><td style=\"text-align: right;\">-0.134749 </td><td style=\"text-align: right;\"> 0.123802 </td><td style=\"text-align: right;\">-0.00677403</td><td style=\"text-align: right;\"> 0.0696899 </td><td style=\"text-align: right;\">0.298019</td><td style=\"text-align: right;\">-0.17682  </td><td style=\"text-align: right;\">-0.0556959</td><td style=\"text-align: right;\"> 0.0632771 </td><td style=\"text-align: right;\">-0.0137159</td><td style=\"text-align: right;\"> 0.00583449</td><td style=\"text-align: right;\">0.101116 </td><td style=\"text-align: right;\">-0.145845 </td><td style=\"text-align: right;\">-0.0630926</td><td style=\"text-align: right;\">-0.0815949</td><td style=\"text-align: right;\">-0.135965 </td><td style=\"text-align: right;\"> 0.0357556</td><td style=\"text-align: right;\">0.166875</td><td style=\"text-align: right;\">0.0479211</td></tr>\n",
       "<tr><td style=\"text-align: right;\">-0.0550328</td><td style=\"text-align: right;\"> 0.0929726  </td><td style=\"text-align: right;\"> 0.0292243 </td><td style=\"text-align: right;\">0.196077 </td><td style=\"text-align: right;\"> 0.0745765 </td><td style=\"text-align: right;\">-0.0661734</td><td style=\"text-align: right;\">0.095069</td><td style=\"text-align: right;\"> 0.0225723</td><td style=\"text-align: right;\">0.138418</td><td style=\"text-align: right;\">-0.0222502 </td><td style=\"text-align: right;\">-0.374527</td><td style=\"text-align: right;\">-0.134795 </td><td style=\"text-align: right;\"> 0.0893278 </td><td style=\"text-align: right;\">-0.133341</td><td style=\"text-align: right;\">0.0505072</td><td style=\"text-align: right;\">-0.0445582</td><td style=\"text-align: right;\">0.0989785</td><td style=\"text-align: right;\">0.0794831</td><td style=\"text-align: right;\">-0.0600476  </td><td style=\"text-align: right;\">0.25652 </td><td style=\"text-align: right;\">0.359754</td><td style=\"text-align: right;\">0.323746</td><td style=\"text-align: right;\"> 0.145657 </td><td style=\"text-align: right;\">-0.13237  </td><td style=\"text-align: right;\">-0.0808855</td><td style=\"text-align: right;\"> 0.0863961 </td><td style=\"text-align: right;\">-0.00641528</td><td style=\"text-align: right;\">-0.00102674</td><td style=\"text-align: right;\">0.103782</td><td style=\"text-align: right;\">-0.133647  </td><td style=\"text-align: right;\"> 0.0856099 </td><td style=\"text-align: right;\"> 0.0735058 </td><td style=\"text-align: right;\"> 0.0833531 </td><td style=\"text-align: right;\">0.124649 </td><td style=\"text-align: right;\">-0.0402667</td><td style=\"text-align: right;\"> 0.0587996 </td><td style=\"text-align: right;\">-0.0966592</td><td style=\"text-align: right;\">-0.13116   </td><td style=\"text-align: right;\">-0.190265 </td><td style=\"text-align: right;\"> 0.0239931 </td><td style=\"text-align: right;\">-0.0253111 </td><td style=\"text-align: right;\">-0.0500064</td><td style=\"text-align: right;\"> 0.0718353</td><td style=\"text-align: right;\">0.159196 </td><td style=\"text-align: right;\">-0.0458826</td><td style=\"text-align: right;\">-0.0418082</td><td style=\"text-align: right;\">-0.0361205</td><td style=\"text-align: right;\"> 0.0298263</td><td style=\"text-align: right;\">-0.054822 </td><td style=\"text-align: right;\">0.152763 </td><td style=\"text-align: right;\">-0.092223  </td><td style=\"text-align: right;\">-0.0183291 </td><td style=\"text-align: right;\"> 0.201988 </td><td style=\"text-align: right;\">-0.021082 </td><td style=\"text-align: right;\">0.175936 </td><td style=\"text-align: right;\">0.249787 </td><td style=\"text-align: right;\">-0.0677949 </td><td style=\"text-align: right;\"> 0.0387127 </td><td style=\"text-align: right;\"> 0.22306  </td><td style=\"text-align: right;\"> 0.0142082 </td><td style=\"text-align: right;\"> 0.0860009</td><td style=\"text-align: right;\">-0.206841  </td><td style=\"text-align: right;\">0.215377</td><td style=\"text-align: right;\">-0.207582  </td><td style=\"text-align: right;\">-0.11317  </td><td style=\"text-align: right;\"> 0.0128114</td><td style=\"text-align: right;\">0.121119 </td><td style=\"text-align: right;\">-0.261491</td><td style=\"text-align: right;\">-0.0426442</td><td style=\"text-align: right;\">0.154292 </td><td style=\"text-align: right;\">0.207141 </td><td style=\"text-align: right;\">-0.139928   </td><td style=\"text-align: right;\">-0.0153247</td><td style=\"text-align: right;\"> 0.128702 </td><td style=\"text-align: right;\">-0.0038974</td><td style=\"text-align: right;\">-0.128345 </td><td style=\"text-align: right;\">-0.0536503 </td><td style=\"text-align: right;\">0.142531 </td><td style=\"text-align: right;\">-0.0313664 </td><td style=\"text-align: right;\">0.152084 </td><td style=\"text-align: right;\">0.0523592</td><td style=\"text-align: right;\">-0.102557 </td><td style=\"text-align: right;\">-0.0131361</td><td style=\"text-align: right;\">-0.0624946</td><td style=\"text-align: right;\">-0.0451922 </td><td style=\"text-align: right;\">-0.0390141 </td><td style=\"text-align: right;\">0.213228</td><td style=\"text-align: right;\">-0.0661692</td><td style=\"text-align: right;\">-0.121483 </td><td style=\"text-align: right;\">-0.063042  </td><td style=\"text-align: right;\">-0.0929626</td><td style=\"text-align: right;\">-0.0512849 </td><td style=\"text-align: right;\">0.0986301</td><td style=\"text-align: right;\">-0.011447 </td><td style=\"text-align: right;\">-0.0989987</td><td style=\"text-align: right;\">-0.0649221</td><td style=\"text-align: right;\">-0.106088 </td><td style=\"text-align: right;\">-0.0415147</td><td style=\"text-align: right;\">0.135805</td><td style=\"text-align: right;\">0.0324106</td></tr>\n",
       "<tr><td style=\"text-align: right;\">-0.0550328</td><td style=\"text-align: right;\"> 0.0929726  </td><td style=\"text-align: right;\"> 0.0292243 </td><td style=\"text-align: right;\">0.196077 </td><td style=\"text-align: right;\"> 0.0745765 </td><td style=\"text-align: right;\">-0.0661734</td><td style=\"text-align: right;\">0.095069</td><td style=\"text-align: right;\"> 0.0225723</td><td style=\"text-align: right;\">0.138418</td><td style=\"text-align: right;\">-0.0222502 </td><td style=\"text-align: right;\">-0.374527</td><td style=\"text-align: right;\">-0.134795 </td><td style=\"text-align: right;\"> 0.0893278 </td><td style=\"text-align: right;\">-0.133341</td><td style=\"text-align: right;\">0.0505072</td><td style=\"text-align: right;\">-0.0445582</td><td style=\"text-align: right;\">0.0989785</td><td style=\"text-align: right;\">0.0794831</td><td style=\"text-align: right;\">-0.0600476  </td><td style=\"text-align: right;\">0.25652 </td><td style=\"text-align: right;\">0.359754</td><td style=\"text-align: right;\">0.323746</td><td style=\"text-align: right;\"> 0.145657 </td><td style=\"text-align: right;\">-0.13237  </td><td style=\"text-align: right;\">-0.0808855</td><td style=\"text-align: right;\"> 0.0863961 </td><td style=\"text-align: right;\">-0.00641528</td><td style=\"text-align: right;\">-0.00102674</td><td style=\"text-align: right;\">0.103782</td><td style=\"text-align: right;\">-0.133647  </td><td style=\"text-align: right;\"> 0.0856099 </td><td style=\"text-align: right;\"> 0.0735058 </td><td style=\"text-align: right;\"> 0.0833531 </td><td style=\"text-align: right;\">0.124649 </td><td style=\"text-align: right;\">-0.0402667</td><td style=\"text-align: right;\"> 0.0587996 </td><td style=\"text-align: right;\">-0.0966592</td><td style=\"text-align: right;\">-0.13116   </td><td style=\"text-align: right;\">-0.190265 </td><td style=\"text-align: right;\"> 0.0239931 </td><td style=\"text-align: right;\">-0.0253111 </td><td style=\"text-align: right;\">-0.0500064</td><td style=\"text-align: right;\"> 0.0718353</td><td style=\"text-align: right;\">0.159196 </td><td style=\"text-align: right;\">-0.0458826</td><td style=\"text-align: right;\">-0.0418082</td><td style=\"text-align: right;\">-0.0361205</td><td style=\"text-align: right;\"> 0.0298263</td><td style=\"text-align: right;\">-0.054822 </td><td style=\"text-align: right;\">0.152763 </td><td style=\"text-align: right;\">-0.092223  </td><td style=\"text-align: right;\">-0.0183291 </td><td style=\"text-align: right;\"> 0.201988 </td><td style=\"text-align: right;\">-0.021082 </td><td style=\"text-align: right;\">0.175936 </td><td style=\"text-align: right;\">0.249787 </td><td style=\"text-align: right;\">-0.0677949 </td><td style=\"text-align: right;\"> 0.0387127 </td><td style=\"text-align: right;\"> 0.22306  </td><td style=\"text-align: right;\"> 0.0142082 </td><td style=\"text-align: right;\"> 0.0860009</td><td style=\"text-align: right;\">-0.206841  </td><td style=\"text-align: right;\">0.215377</td><td style=\"text-align: right;\">-0.207582  </td><td style=\"text-align: right;\">-0.11317  </td><td style=\"text-align: right;\"> 0.0128114</td><td style=\"text-align: right;\">0.121119 </td><td style=\"text-align: right;\">-0.261491</td><td style=\"text-align: right;\">-0.0426442</td><td style=\"text-align: right;\">0.154292 </td><td style=\"text-align: right;\">0.207141 </td><td style=\"text-align: right;\">-0.139928   </td><td style=\"text-align: right;\">-0.0153247</td><td style=\"text-align: right;\"> 0.128702 </td><td style=\"text-align: right;\">-0.0038974</td><td style=\"text-align: right;\">-0.128345 </td><td style=\"text-align: right;\">-0.0536503 </td><td style=\"text-align: right;\">0.142531 </td><td style=\"text-align: right;\">-0.0313664 </td><td style=\"text-align: right;\">0.152084 </td><td style=\"text-align: right;\">0.0523592</td><td style=\"text-align: right;\">-0.102557 </td><td style=\"text-align: right;\">-0.0131361</td><td style=\"text-align: right;\">-0.0624946</td><td style=\"text-align: right;\">-0.0451922 </td><td style=\"text-align: right;\">-0.0390141 </td><td style=\"text-align: right;\">0.213228</td><td style=\"text-align: right;\">-0.0661692</td><td style=\"text-align: right;\">-0.121483 </td><td style=\"text-align: right;\">-0.063042  </td><td style=\"text-align: right;\">-0.0929626</td><td style=\"text-align: right;\">-0.0512849 </td><td style=\"text-align: right;\">0.0986301</td><td style=\"text-align: right;\">-0.011447 </td><td style=\"text-align: right;\">-0.0989987</td><td style=\"text-align: right;\">-0.0649221</td><td style=\"text-align: right;\">-0.106088 </td><td style=\"text-align: right;\">-0.0415147</td><td style=\"text-align: right;\">0.135805</td><td style=\"text-align: right;\">0.0324106</td></tr>\n",
       "</tbody>\n",
       "</table>"
      ]
     },
     "metadata": {},
     "output_type": "display_data"
    },
    {
     "data": {
      "text/plain": []
     },
     "execution_count": 41,
     "metadata": {},
     "output_type": "execute_result"
    }
   ],
   "source": [
    "desc_vecs.head()"
   ]
  },
  {
   "cell_type": "code",
   "execution_count": 42,
   "metadata": {},
   "outputs": [
    {
     "data": {
      "text/plain": [
       "0.0"
      ]
     },
     "execution_count": 42,
     "metadata": {},
     "output_type": "execute_result"
    }
   ],
   "source": [
    "desc_vecs.isna().sum()"
   ]
  },
  {
   "cell_type": "code",
   "execution_count": 43,
   "metadata": {},
   "outputs": [],
   "source": [
    "data_req = data_req.cbind(desc_vecs)"
   ]
  },
  {
   "cell_type": "code",
   "execution_count": 44,
   "metadata": {},
   "outputs": [],
   "source": [
    "train = data_req[data_req[\"Check\"] == \"train\"]\n",
    "test  = data_req[data_req[\"Check\"] == \"test\"]"
   ]
  },
  {
   "cell_type": "code",
   "execution_count": 45,
   "metadata": {},
   "outputs": [],
   "source": [
    "predictors = [\"company\", \"article_name\"]"
   ]
  },
  {
   "cell_type": "code",
   "execution_count": 46,
   "metadata": {},
   "outputs": [],
   "source": [
    "predictors = desc_vecs.names\n",
    "response = 'subBrand'"
   ]
  },
  {
   "cell_type": "code",
   "execution_count": 47,
   "metadata": {
    "scrolled": true
   },
   "outputs": [],
   "source": [
    "#predictors"
   ]
  },
  {
   "cell_type": "code",
   "execution_count": 48,
   "metadata": {},
   "outputs": [],
   "source": [
    "# import numpy as np\n",
    "# np.random.seed(123)\n",
    "# data_req_sample = data.sample(frac=0.7)"
   ]
  },
  {
   "cell_type": "code",
   "execution_count": 49,
   "metadata": {},
   "outputs": [
    {
     "name": "stdout",
     "output_type": "stream",
     "text": [
      "gbm Model Build progress: |███████████████████████████████████████████████| 100%\n"
     ]
    }
   ],
   "source": [
    "from h2o.estimators import H2OGradientBoostingEstimator\n",
    "\n",
    "gbm_embeddings = H2OGradientBoostingEstimator(stopping_metric = \"logloss\", stopping_tolerance = 0.001,\n",
    "                                              stopping_rounds = 5, score_tree_interval = 10,\n",
    "                                              model_id = \"gbm_embeddings.hex\"\n",
    "                                             )\n",
    "gbm_embeddings.train(x = predictors, y = response, \n",
    "                   training_frame = train, validation_frame = test\n",
    "                  )"
   ]
  },
  {
   "cell_type": "code",
   "execution_count": 50,
   "metadata": {},
   "outputs": [
    {
     "name": "stdout",
     "output_type": "stream",
     "text": [
      "With Embeddings log loss: 0.405\n"
     ]
    }
   ],
   "source": [
    "print(\"With Embeddings log loss: \" + str(round(gbm_embeddings.logloss(valid = True), 3)))"
   ]
  },
  {
   "cell_type": "code",
   "execution_count": 51,
   "metadata": {},
   "outputs": [
    {
     "name": "stdout",
     "output_type": "stream",
     "text": [
      "gbm prediction progress: |████████████████████████████████████████████████| 100%\n"
     ]
    }
   ],
   "source": [
    "test_pred = gbm_embeddings.predict(test_data=test)"
   ]
  },
  {
   "cell_type": "code",
   "execution_count": 52,
   "metadata": {},
   "outputs": [],
   "source": [
    "from h2o.automl import H2OAutoML"
   ]
  },
  {
   "cell_type": "code",
   "execution_count": 38,
   "metadata": {},
   "outputs": [],
   "source": [
    "aml = H2OAutoML(max_runtime_secs = 350, seed = 1, project_name = \"adidas_gpmt_frame\", stopping_rounds=100, stopping_metric=\"logloss\", )\n",
    "#aml.train(y = response, training_frame = train, leaderboard_frame = test)"
   ]
  },
  {
   "cell_type": "code",
   "execution_count": 39,
   "metadata": {},
   "outputs": [
    {
     "name": "stdout",
     "output_type": "stream",
     "text": [
      "AutoML progress: |████████████████████████████████████████████████████████ (cancelled) 100%\n"
     ]
    },
    {
     "ename": "H2OJobCancelled",
     "evalue": "Job<$03017f00000132d4ffffffff$_a2898fbe2aed8b25542936e564f24922> was cancelled by the user.",
     "output_type": "error",
     "traceback": [
      "\u001b[1;31m---------------------------------------------------------------------------\u001b[0m",
      "\u001b[1;31mH2OJobCancelled\u001b[0m                           Traceback (most recent call last)",
      "\u001b[1;32m<ipython-input-39-b5a9ec982138>\u001b[0m in \u001b[0;36m<module>\u001b[1;34m()\u001b[0m\n\u001b[1;32m----> 1\u001b[1;33m \u001b[0maml\u001b[0m\u001b[1;33m.\u001b[0m\u001b[0mtrain\u001b[0m\u001b[1;33m(\u001b[0m\u001b[0mx\u001b[0m \u001b[1;33m=\u001b[0m \u001b[0mpredictors\u001b[0m\u001b[1;33m,\u001b[0m \u001b[0my\u001b[0m \u001b[1;33m=\u001b[0m \u001b[0mresponse\u001b[0m\u001b[1;33m,\u001b[0m \u001b[0mtraining_frame\u001b[0m \u001b[1;33m=\u001b[0m \u001b[0mtrain\u001b[0m\u001b[1;33m,\u001b[0m \u001b[0mleaderboard_frame\u001b[0m\u001b[1;33m=\u001b[0m\u001b[0mtest\u001b[0m\u001b[1;33m)\u001b[0m\u001b[1;33m\u001b[0m\u001b[0m\n\u001b[0m",
      "\u001b[1;32m~\\AppData\\Local\\Continuum\\anaconda3\\lib\\site-packages\\h2o\\automl\\autoh2o.py\u001b[0m in \u001b[0;36mtrain\u001b[1;34m(self, x, y, training_frame, fold_column, weights_column, validation_frame, leaderboard_frame)\u001b[0m\n\u001b[0;32m    370\u001b[0m \u001b[1;33m\u001b[0m\u001b[0m\n\u001b[0;32m    371\u001b[0m         \u001b[0mself\u001b[0m\u001b[1;33m.\u001b[0m\u001b[0m_job\u001b[0m \u001b[1;33m=\u001b[0m \u001b[0mH2OJob\u001b[0m\u001b[1;33m(\u001b[0m\u001b[0mresp\u001b[0m\u001b[1;33m[\u001b[0m\u001b[1;34m'job'\u001b[0m\u001b[1;33m]\u001b[0m\u001b[1;33m,\u001b[0m \u001b[1;34m\"AutoML\"\u001b[0m\u001b[1;33m)\u001b[0m\u001b[1;33m\u001b[0m\u001b[0m\n\u001b[1;32m--> 372\u001b[1;33m         \u001b[0mself\u001b[0m\u001b[1;33m.\u001b[0m\u001b[0m_job\u001b[0m\u001b[1;33m.\u001b[0m\u001b[0mpoll\u001b[0m\u001b[1;33m(\u001b[0m\u001b[1;33m)\u001b[0m\u001b[1;33m\u001b[0m\u001b[0m\n\u001b[0m\u001b[0;32m    373\u001b[0m         \u001b[0mself\u001b[0m\u001b[1;33m.\u001b[0m\u001b[0m_fetch\u001b[0m\u001b[1;33m(\u001b[0m\u001b[1;33m)\u001b[0m\u001b[1;33m\u001b[0m\u001b[0m\n\u001b[0;32m    374\u001b[0m \u001b[1;33m\u001b[0m\u001b[0m\n",
      "\u001b[1;32m~\\AppData\\Local\\Continuum\\anaconda3\\lib\\site-packages\\h2o\\job.py\u001b[0m in \u001b[0;36mpoll\u001b[1;34m(self, verbose_model_scoring_history)\u001b[0m\n\u001b[0;32m     71\u001b[0m         \u001b[1;31m# check if failed... and politely print relevant message\u001b[0m\u001b[1;33m\u001b[0m\u001b[1;33m\u001b[0m\u001b[0m\n\u001b[0;32m     72\u001b[0m         \u001b[1;32mif\u001b[0m \u001b[0mself\u001b[0m\u001b[1;33m.\u001b[0m\u001b[0mstatus\u001b[0m \u001b[1;33m==\u001b[0m \u001b[1;34m\"CANCELLED\"\u001b[0m\u001b[1;33m:\u001b[0m\u001b[1;33m\u001b[0m\u001b[0m\n\u001b[1;32m---> 73\u001b[1;33m             \u001b[1;32mraise\u001b[0m \u001b[0mH2OJobCancelled\u001b[0m\u001b[1;33m(\u001b[0m\u001b[1;34m\"Job<%s> was cancelled by the user.\"\u001b[0m \u001b[1;33m%\u001b[0m \u001b[0mself\u001b[0m\u001b[1;33m.\u001b[0m\u001b[0mjob_key\u001b[0m\u001b[1;33m)\u001b[0m\u001b[1;33m\u001b[0m\u001b[0m\n\u001b[0m\u001b[0;32m     74\u001b[0m         \u001b[1;32mif\u001b[0m \u001b[0mself\u001b[0m\u001b[1;33m.\u001b[0m\u001b[0mstatus\u001b[0m \u001b[1;33m==\u001b[0m \u001b[1;34m\"FAILED\"\u001b[0m\u001b[1;33m:\u001b[0m\u001b[1;33m\u001b[0m\u001b[0m\n\u001b[0;32m     75\u001b[0m             \u001b[1;32mif\u001b[0m \u001b[1;33m(\u001b[0m\u001b[0misinstance\u001b[0m\u001b[1;33m(\u001b[0m\u001b[0mself\u001b[0m\u001b[1;33m.\u001b[0m\u001b[0mjob\u001b[0m\u001b[1;33m,\u001b[0m \u001b[0mdict\u001b[0m\u001b[1;33m)\u001b[0m\u001b[1;33m)\u001b[0m \u001b[1;32mand\u001b[0m \u001b[1;33m(\u001b[0m\u001b[1;34m\"stacktrace\"\u001b[0m \u001b[1;32min\u001b[0m \u001b[0mlist\u001b[0m\u001b[1;33m(\u001b[0m\u001b[0mself\u001b[0m\u001b[1;33m.\u001b[0m\u001b[0mjob\u001b[0m\u001b[1;33m)\u001b[0m\u001b[1;33m)\u001b[0m\u001b[1;33m:\u001b[0m\u001b[1;33m\u001b[0m\u001b[0m\n",
      "\u001b[1;31mH2OJobCancelled\u001b[0m: Job<$03017f00000132d4ffffffff$_a2898fbe2aed8b25542936e564f24922> was cancelled by the user."
     ]
    }
   ],
   "source": [
    "aml.train(x = predictors, y = response, training_frame = train, leaderboard_frame=test)"
   ]
  },
  {
   "cell_type": "code",
   "execution_count": null,
   "metadata": {},
   "outputs": [],
   "source": [
    "test_pred = aml.predict(test)\n",
    "test_pred.head()"
   ]
  },
  {
   "cell_type": "code",
   "execution_count": 53,
   "metadata": {},
   "outputs": [],
   "source": [
    "test_pred[\"subBrand\"] = test[\"subBrand\"]"
   ]
  },
  {
   "cell_type": "code",
   "execution_count": 54,
   "metadata": {},
   "outputs": [],
   "source": [
    "#test_pred.to_csv(\"test_pred.csv\", index=False)"
   ]
  },
  {
   "cell_type": "code",
   "execution_count": 55,
   "metadata": {},
   "outputs": [],
   "source": [
    "from sklearn.metrics import accuracy_score, f1_score, precision_score, recall_score, classification_report, confusion_matrix"
   ]
  },
  {
   "cell_type": "code",
   "execution_count": 56,
   "metadata": {},
   "outputs": [],
   "source": [
    "test_pred = test_pred.as_data_frame()"
   ]
  },
  {
   "cell_type": "code",
   "execution_count": 57,
   "metadata": {},
   "outputs": [
    {
     "data": {
      "text/html": [
       "<div>\n",
       "<style scoped>\n",
       "    .dataframe tbody tr th:only-of-type {\n",
       "        vertical-align: middle;\n",
       "    }\n",
       "\n",
       "    .dataframe tbody tr th {\n",
       "        vertical-align: top;\n",
       "    }\n",
       "\n",
       "    .dataframe thead th {\n",
       "        text-align: right;\n",
       "    }\n",
       "</style>\n",
       "<table border=\"1\" class=\"dataframe\">\n",
       "  <thead>\n",
       "    <tr style=\"text-align: right;\">\n",
       "      <th></th>\n",
       "      <th>predict</th>\n",
       "      <th>Jordan</th>\n",
       "      <th>Performance</th>\n",
       "      <th>Sport Inspired</th>\n",
       "      <th>Sport inspired</th>\n",
       "      <th>Sportswear</th>\n",
       "      <th>adidas by Stella McCartney</th>\n",
       "      <th>adidas neo</th>\n",
       "      <th>unknown</th>\n",
       "      <th>subBrand</th>\n",
       "    </tr>\n",
       "  </thead>\n",
       "  <tbody>\n",
       "    <tr>\n",
       "      <th>0</th>\n",
       "      <td>Performance</td>\n",
       "      <td>0.001889</td>\n",
       "      <td>0.847035</td>\n",
       "      <td>0.008255</td>\n",
       "      <td>0.086938</td>\n",
       "      <td>0.019242</td>\n",
       "      <td>0.001889</td>\n",
       "      <td>0.001886</td>\n",
       "      <td>0.032867</td>\n",
       "      <td>Performance</td>\n",
       "    </tr>\n",
       "    <tr>\n",
       "      <th>1</th>\n",
       "      <td>Performance</td>\n",
       "      <td>0.000660</td>\n",
       "      <td>0.919508</td>\n",
       "      <td>0.000714</td>\n",
       "      <td>0.037356</td>\n",
       "      <td>0.006289</td>\n",
       "      <td>0.000669</td>\n",
       "      <td>0.000659</td>\n",
       "      <td>0.034145</td>\n",
       "      <td>Performance</td>\n",
       "    </tr>\n",
       "    <tr>\n",
       "      <th>2</th>\n",
       "      <td>Performance</td>\n",
       "      <td>0.001359</td>\n",
       "      <td>0.913539</td>\n",
       "      <td>0.001481</td>\n",
       "      <td>0.022012</td>\n",
       "      <td>0.009989</td>\n",
       "      <td>0.001416</td>\n",
       "      <td>0.001352</td>\n",
       "      <td>0.048853</td>\n",
       "      <td>Performance</td>\n",
       "    </tr>\n",
       "    <tr>\n",
       "      <th>3</th>\n",
       "      <td>Performance</td>\n",
       "      <td>0.000711</td>\n",
       "      <td>0.932308</td>\n",
       "      <td>0.000933</td>\n",
       "      <td>0.046135</td>\n",
       "      <td>0.004674</td>\n",
       "      <td>0.000805</td>\n",
       "      <td>0.000710</td>\n",
       "      <td>0.013724</td>\n",
       "      <td>Performance</td>\n",
       "    </tr>\n",
       "    <tr>\n",
       "      <th>4</th>\n",
       "      <td>Performance</td>\n",
       "      <td>0.002767</td>\n",
       "      <td>0.726848</td>\n",
       "      <td>0.003623</td>\n",
       "      <td>0.126588</td>\n",
       "      <td>0.018572</td>\n",
       "      <td>0.002746</td>\n",
       "      <td>0.002741</td>\n",
       "      <td>0.116115</td>\n",
       "      <td>Performance</td>\n",
       "    </tr>\n",
       "  </tbody>\n",
       "</table>\n",
       "</div>"
      ],
      "text/plain": [
       "       predict    Jordan  Performance  Sport Inspired  Sport inspired  \\\n",
       "0  Performance  0.001889     0.847035        0.008255        0.086938   \n",
       "1  Performance  0.000660     0.919508        0.000714        0.037356   \n",
       "2  Performance  0.001359     0.913539        0.001481        0.022012   \n",
       "3  Performance  0.000711     0.932308        0.000933        0.046135   \n",
       "4  Performance  0.002767     0.726848        0.003623        0.126588   \n",
       "\n",
       "   Sportswear  adidas by Stella McCartney  adidas neo   unknown     subBrand  \n",
       "0    0.019242                    0.001889    0.001886  0.032867  Performance  \n",
       "1    0.006289                    0.000669    0.000659  0.034145  Performance  \n",
       "2    0.009989                    0.001416    0.001352  0.048853  Performance  \n",
       "3    0.004674                    0.000805    0.000710  0.013724  Performance  \n",
       "4    0.018572                    0.002746    0.002741  0.116115  Performance  "
      ]
     },
     "execution_count": 57,
     "metadata": {},
     "output_type": "execute_result"
    }
   ],
   "source": [
    "test_pred.head()"
   ]
  },
  {
   "cell_type": "code",
   "execution_count": 58,
   "metadata": {},
   "outputs": [],
   "source": [
    "test_pred[\"subBrand\"] = pd.Categorical(test_pred[\"subBrand\"])\n",
    "test_pred[\"subBrand\"] = pd.Categorical(test_pred[\"subBrand\"])"
   ]
  },
  {
   "cell_type": "code",
   "execution_count": 59,
   "metadata": {},
   "outputs": [
    {
     "name": "stdout",
     "output_type": "stream",
     "text": [
      "Accuracy Score : 0.8394117647058823\n",
      "F1 Score: 0.6663332314724884\n",
      "Precision: 0.7954887409651208\n",
      "Recall: 0.6118979997404532\n"
     ]
    }
   ],
   "source": [
    "print(f'Accuracy Score : {accuracy_score(test_pred[\"subBrand\"], test_pred[\"predict\"] )}')\n",
    "print(f'F1 Score: {f1_score(test_pred[\"subBrand\"], test_pred[\"predict\"] , average=\"macro\")}')\n",
    "print(f'Precision: {precision_score(test_pred.subBrand, test_pred.predict , average=\"macro\")}')\n",
    "print(f'Recall: {recall_score(test_pred.subBrand, test_pred.predict , average=\"macro\")}')"
   ]
  },
  {
   "cell_type": "code",
   "execution_count": null,
   "metadata": {},
   "outputs": [],
   "source": []
  },
  {
   "cell_type": "code",
   "execution_count": null,
   "metadata": {},
   "outputs": [],
   "source": []
  }
 ],
 "metadata": {
  "kernelspec": {
   "display_name": "Python 3",
   "language": "python",
   "name": "python3"
  },
  "language_info": {
   "codemirror_mode": {
    "name": "ipython",
    "version": 3
   },
   "file_extension": ".py",
   "mimetype": "text/x-python",
   "name": "python",
   "nbconvert_exporter": "python",
   "pygments_lexer": "ipython3",
   "version": "3.6.5"
  }
 },
 "nbformat": 4,
 "nbformat_minor": 2
}
